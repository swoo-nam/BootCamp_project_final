{
  "cells": [
    {
      "cell_type": "markdown",
      "metadata": {
        "id": "view-in-github",
        "colab_type": "text"
      },
      "source": [
        "<a href=\"https://colab.research.google.com/github/swoo-nam/project_final_team1/blob/main/%EB%82%A8%EC%83%81%EC%9A%B0_%EB%8D%B0%EC%9D%B4%ED%84%B0%EC%A0%84%EC%B2%98%EB%A6%AC_0905%EC%B6%94%EA%B0%80.ipynb\" target=\"_parent\"><img src=\"https://colab.research.google.com/assets/colab-badge.svg\" alt=\"Open In Colab\"/></a>"
      ]
    },
    {
      "cell_type": "code",
      "execution_count": null,
      "metadata": {
        "id": "zPaUshpXAAkI"
      },
      "outputs": [],
      "source": [
        "# !pip install kiwipiepy"
      ]
    },
    {
      "cell_type": "code",
      "execution_count": null,
      "metadata": {
        "id": "Rw6lvFBYgWt2"
      },
      "outputs": [],
      "source": [
        "# !pip install konlpy"
      ]
    },
    {
      "cell_type": "code",
      "execution_count": null,
      "metadata": {
        "colab": {
          "base_uri": "https://localhost:8080/"
        },
        "id": "NQZhQ4jE30ba",
        "outputId": "40a5b676-0887-4c14-b8a6-7cd118d0700b"
      },
      "outputs": [
        {
          "name": "stdout",
          "output_type": "stream",
          "text": [
            "Requirement already satisfied: transformers in c:\\python39\\lib\\site-packages (4.31.0)\n",
            "Requirement already satisfied: filelock in c:\\python39\\lib\\site-packages (from transformers) (3.12.2)\n",
            "Requirement already satisfied: huggingface-hub<1.0,>=0.14.1 in c:\\python39\\lib\\site-packages (from transformers) (0.16.4)\n",
            "Requirement already satisfied: numpy>=1.17 in c:\\python39\\lib\\site-packages (from transformers) (1.24.3)\n",
            "Requirement already satisfied: packaging>=20.0 in c:\\python39\\lib\\site-packages (from transformers) (23.1)\n",
            "Requirement already satisfied: pyyaml>=5.1 in c:\\python39\\lib\\site-packages (from transformers) (6.0)\n",
            "Requirement already satisfied: regex!=2019.12.17 in c:\\python39\\lib\\site-packages (from transformers) (2023.6.3)\n",
            "Requirement already satisfied: requests in c:\\python39\\lib\\site-packages (from transformers) (2.31.0)\n",
            "Requirement already satisfied: tokenizers!=0.11.3,<0.14,>=0.11.1 in c:\\python39\\lib\\site-packages (from transformers) (0.13.3)\n",
            "Requirement already satisfied: safetensors>=0.3.1 in c:\\python39\\lib\\site-packages (from transformers) (0.3.1)\n",
            "Requirement already satisfied: tqdm>=4.27 in c:\\python39\\lib\\site-packages (from transformers) (4.65.0)\n",
            "Requirement already satisfied: fsspec in c:\\python39\\lib\\site-packages (from huggingface-hub<1.0,>=0.14.1->transformers) (2023.6.0)\n",
            "Requirement already satisfied: typing-extensions>=3.7.4.3 in c:\\python39\\lib\\site-packages (from huggingface-hub<1.0,>=0.14.1->transformers) (4.5.0)\n",
            "Requirement already satisfied: colorama in c:\\python39\\lib\\site-packages (from tqdm>=4.27->transformers) (0.4.6)\n",
            "Requirement already satisfied: charset-normalizer<4,>=2 in c:\\python39\\lib\\site-packages (from requests->transformers) (3.1.0)\n",
            "Requirement already satisfied: idna<4,>=2.5 in c:\\python39\\lib\\site-packages (from requests->transformers) (3.4)\n",
            "Requirement already satisfied: urllib3<3,>=1.21.1 in c:\\python39\\lib\\site-packages (from requests->transformers) (2.0.3)\n",
            "Requirement already satisfied: certifi>=2017.4.17 in c:\\python39\\lib\\site-packages (from requests->transformers) (2023.5.7)\n"
          ]
        }
      ],
      "source": [
        "!pip install transformers"
      ]
    },
    {
      "cell_type": "code",
      "execution_count": null,
      "metadata": {
        "colab": {
          "base_uri": "https://localhost:8080/"
        },
        "id": "9FZFIwQDFSjp",
        "outputId": "0b680bab-0362-425f-e9f6-ef7b2d4988d7"
      },
      "outputs": [
        {
          "name": "stdout",
          "output_type": "stream",
          "text": [
            "Requirement already satisfied: optuna in c:\\python39\\lib\\site-packages (3.2.0)\n",
            "Requirement already satisfied: alembic>=1.5.0 in c:\\python39\\lib\\site-packages (from optuna) (1.11.1)\n",
            "Requirement already satisfied: cmaes>=0.9.1 in c:\\python39\\lib\\site-packages (from optuna) (0.9.1)\n",
            "Requirement already satisfied: colorlog in c:\\python39\\lib\\site-packages (from optuna) (6.7.0)\n",
            "Requirement already satisfied: numpy in c:\\python39\\lib\\site-packages (from optuna) (1.24.3)\n",
            "Requirement already satisfied: packaging>=20.0 in c:\\python39\\lib\\site-packages (from optuna) (23.1)\n",
            "Requirement already satisfied: sqlalchemy>=1.3.0 in c:\\python39\\lib\\site-packages (from optuna) (2.0.15)\n",
            "Requirement already satisfied: tqdm in c:\\python39\\lib\\site-packages (from optuna) (4.65.0)\n",
            "Requirement already satisfied: PyYAML in c:\\python39\\lib\\site-packages (from optuna) (6.0)\n",
            "Requirement already satisfied: Mako in c:\\python39\\lib\\site-packages (from alembic>=1.5.0->optuna) (1.2.4)\n",
            "Requirement already satisfied: typing-extensions>=4 in c:\\python39\\lib\\site-packages (from alembic>=1.5.0->optuna) (4.5.0)\n",
            "Requirement already satisfied: greenlet!=0.4.17 in c:\\python39\\lib\\site-packages (from sqlalchemy>=1.3.0->optuna) (2.0.2)\n",
            "Requirement already satisfied: colorama in c:\\python39\\lib\\site-packages (from colorlog->optuna) (0.4.6)\n",
            "Requirement already satisfied: MarkupSafe>=0.9.2 in c:\\python39\\lib\\site-packages (from Mako->alembic>=1.5.0->optuna) (2.1.2)\n"
          ]
        }
      ],
      "source": [
        "!pip install optuna"
      ]
    },
    {
      "cell_type": "code",
      "execution_count": 1,
      "metadata": {
        "colab": {
          "base_uri": "https://localhost:8080/"
        },
        "id": "f4ZVXFzhuuTv",
        "outputId": "16bdee5e-7e28-41e5-fef7-ba5e0b7d6b18"
      },
      "outputs": [
        {
          "output_type": "stream",
          "name": "stdout",
          "text": [
            "Mounted at /content/drive\n"
          ]
        }
      ],
      "source": [
        "from google.colab import drive\n",
        "drive.mount('/content/drive')"
      ]
    },
    {
      "cell_type": "code",
      "execution_count": 2,
      "metadata": {
        "id": "QDE8QJtGMEOz"
      },
      "outputs": [],
      "source": [
        "import torch\n",
        "import torch.nn as nn\n",
        "from torch import optim\n",
        "import torch.nn.functional as F\n",
        "from torch.utils.data.dataset import Dataset\n",
        "\n",
        "from sklearn.utils import resample"
      ]
    },
    {
      "cell_type": "code",
      "execution_count": 3,
      "metadata": {
        "id": "RYKkRvZU9Yk5"
      },
      "outputs": [],
      "source": [
        "import warnings\n",
        "%config InlineBackend.figure_format = 'retina'\n",
        "warnings.filterwarnings(\"ignore\")\n",
        "%matplotlib inline"
      ]
    },
    {
      "cell_type": "code",
      "execution_count": 4,
      "metadata": {
        "colab": {
          "base_uri": "https://localhost:8080/",
          "height": 35
        },
        "id": "10dsMhpDu1rd",
        "outputId": "2861973d-8ce5-41dc-fc48-5f244775c3ef"
      },
      "outputs": [
        {
          "output_type": "execute_result",
          "data": {
            "text/plain": [
              "'cpu'"
            ],
            "application/vnd.google.colaboratory.intrinsic+json": {
              "type": "string"
            }
          },
          "metadata": {},
          "execution_count": 4
        }
      ],
      "source": [
        "import pandas as pd\n",
        "import numpy as np\n",
        "import re\n",
        "from tqdm.auto import tqdm\n",
        "import random\n",
        "import os\n",
        "\n",
        "def reset_seeds(seed):\n",
        "    random.seed(seed)\n",
        "    os.environ['PYTHONHASHSEED'] = str(seed)\n",
        "    np.random.seed(seed)\n",
        "    torch.manual_seed(seed)\n",
        "    torch.cuda.manual_seed(seed)\n",
        "    torch.backends.cudnn.deterministic = True\n",
        "\n",
        "DATA_PATH = \"/content/drive/MyDrive/project_final/data/\"\n",
        "# DATA_PATH = \"C:\\python-code\\project_final\\data/\"\n",
        "SEED = 42\n",
        "\n",
        "device = 'cuda' if torch.cuda.is_available() else 'cpu'\n",
        "device"
      ]
    },
    {
      "cell_type": "markdown",
      "metadata": {
        "id": "VwJecjdYAEVY"
      },
      "source": [
        "# 데이터 불러오기"
      ]
    },
    {
      "cell_type": "markdown",
      "metadata": {
        "id": "KE5MH7ONb_h8"
      },
      "source": [
        "### 전체 데이터셋"
      ]
    },
    {
      "cell_type": "code",
      "source": [
        "pd.read_csv(f\"{DATA_PATH}yogiyo_reviews_0905.csv\").head()"
      ],
      "metadata": {
        "colab": {
          "base_uri": "https://localhost:8080/",
          "height": 328
        },
        "id": "Snc2RtpHCJKV",
        "outputId": "0628d50f-462c-4a89-c108-38b64bc390fb"
      },
      "execution_count": 6,
      "outputs": [
        {
          "output_type": "execute_result",
          "data": {
            "text/plain": [
              "                   가게이름                                     고객리뷰  별점  맛별점  \\\n",
              "0  1988응답하라추억의옛날도시락-방이점  저도 모르게 은근 여기 자주 시켜먹고 있었네요ㅎ \\n늘 잘먹고 있습니다   5    5   \n",
              "1  1988응답하라추억의옛날도시락-방이점                   김치찌개 된장찌개 잡채\\n다 잘먹었습니다   5    5   \n",
              "2  1988응답하라추억의옛날도시락-방이점      처음시켜보는데 맛있고 리뷰서비스도 괜찮네요. 다음에도 또시킬듯요   5    5   \n",
              "3  1988응답하라추억의옛날도시락-방이점                맛있습니다! 근데 국물이 안와서 아쉽습니다..   4    4   \n",
              "4  1988응답하라추억의옛날도시락-방이점                                맛있게잘먹었습니다   5    5   \n",
              "\n",
              "   양별점  배달별점                                               사장댓글  \\\n",
              "0    5   5.0  저희 메뉴 맛있죠?ㅎㅎ 이렇게 빠져 드시는 거에요>.<\\n\\n그냥 일로서 만드는 게...   \n",
              "1    5   5.0  전부 잘 드셔 주셔서 감사합니다 ><\\n\\n좋은 시간을 드리고 싶었어요ㅠㅠ 열심히 ...   \n",
              "2    5   5.0  안녕하세요~~! :D\\n\\n저희 매장을 처음 찾아주신 고객님이시네요😆 처음 방문이라...   \n",
              "3    4   3.0  안녕하세요 1988응답하라추억의옛날도시락입니다.\\n\\n저희 측 실수로 인하여 누락이...   \n",
              "4    5   5.0  헤헤, gh**님! 감사해요! 😊 \\n\\n맛있게 드셨다니 앞으로도 더 열심히 일할게...   \n",
              "\n",
              "                                   메뉴  \n",
              "0               제육옛날도시락＋김찌 정식＋（서비스）콜라  \n",
              "1    돼지고기김치찌개＋대접밥,우삼겹된장찌개＋대접밥,오색빛깔 잡채  \n",
              "2  [불맛]제육 옛날도시락,우삼겹옛날도시락＋미니냉면＋（서비스）콜라  \n",
              "3                          양념갈비 옛날도시락  \n",
              "4                삼겹정찬도시락,돼지고기김치찌개＋대접밥  "
            ],
            "text/html": [
              "\n",
              "  <div id=\"df-47f8dbf4-614b-459d-801c-43be767960f3\" class=\"colab-df-container\">\n",
              "    <div>\n",
              "<style scoped>\n",
              "    .dataframe tbody tr th:only-of-type {\n",
              "        vertical-align: middle;\n",
              "    }\n",
              "\n",
              "    .dataframe tbody tr th {\n",
              "        vertical-align: top;\n",
              "    }\n",
              "\n",
              "    .dataframe thead th {\n",
              "        text-align: right;\n",
              "    }\n",
              "</style>\n",
              "<table border=\"1\" class=\"dataframe\">\n",
              "  <thead>\n",
              "    <tr style=\"text-align: right;\">\n",
              "      <th></th>\n",
              "      <th>가게이름</th>\n",
              "      <th>고객리뷰</th>\n",
              "      <th>별점</th>\n",
              "      <th>맛별점</th>\n",
              "      <th>양별점</th>\n",
              "      <th>배달별점</th>\n",
              "      <th>사장댓글</th>\n",
              "      <th>메뉴</th>\n",
              "    </tr>\n",
              "  </thead>\n",
              "  <tbody>\n",
              "    <tr>\n",
              "      <th>0</th>\n",
              "      <td>1988응답하라추억의옛날도시락-방이점</td>\n",
              "      <td>저도 모르게 은근 여기 자주 시켜먹고 있었네요ㅎ \\n늘 잘먹고 있습니다</td>\n",
              "      <td>5</td>\n",
              "      <td>5</td>\n",
              "      <td>5</td>\n",
              "      <td>5.0</td>\n",
              "      <td>저희 메뉴 맛있죠?ㅎㅎ 이렇게 빠져 드시는 거에요&gt;.&lt;\\n\\n그냥 일로서 만드는 게...</td>\n",
              "      <td>제육옛날도시락＋김찌 정식＋（서비스）콜라</td>\n",
              "    </tr>\n",
              "    <tr>\n",
              "      <th>1</th>\n",
              "      <td>1988응답하라추억의옛날도시락-방이점</td>\n",
              "      <td>김치찌개 된장찌개 잡채\\n다 잘먹었습니다</td>\n",
              "      <td>5</td>\n",
              "      <td>5</td>\n",
              "      <td>5</td>\n",
              "      <td>5.0</td>\n",
              "      <td>전부 잘 드셔 주셔서 감사합니다 &gt;&lt;\\n\\n좋은 시간을 드리고 싶었어요ㅠㅠ 열심히 ...</td>\n",
              "      <td>돼지고기김치찌개＋대접밥,우삼겹된장찌개＋대접밥,오색빛깔 잡채</td>\n",
              "    </tr>\n",
              "    <tr>\n",
              "      <th>2</th>\n",
              "      <td>1988응답하라추억의옛날도시락-방이점</td>\n",
              "      <td>처음시켜보는데 맛있고 리뷰서비스도 괜찮네요. 다음에도 또시킬듯요</td>\n",
              "      <td>5</td>\n",
              "      <td>5</td>\n",
              "      <td>5</td>\n",
              "      <td>5.0</td>\n",
              "      <td>안녕하세요~~! :D\\n\\n저희 매장을 처음 찾아주신 고객님이시네요😆 처음 방문이라...</td>\n",
              "      <td>[불맛]제육 옛날도시락,우삼겹옛날도시락＋미니냉면＋（서비스）콜라</td>\n",
              "    </tr>\n",
              "    <tr>\n",
              "      <th>3</th>\n",
              "      <td>1988응답하라추억의옛날도시락-방이점</td>\n",
              "      <td>맛있습니다! 근데 국물이 안와서 아쉽습니다..</td>\n",
              "      <td>4</td>\n",
              "      <td>4</td>\n",
              "      <td>4</td>\n",
              "      <td>3.0</td>\n",
              "      <td>안녕하세요 1988응답하라추억의옛날도시락입니다.\\n\\n저희 측 실수로 인하여 누락이...</td>\n",
              "      <td>양념갈비 옛날도시락</td>\n",
              "    </tr>\n",
              "    <tr>\n",
              "      <th>4</th>\n",
              "      <td>1988응답하라추억의옛날도시락-방이점</td>\n",
              "      <td>맛있게잘먹었습니다</td>\n",
              "      <td>5</td>\n",
              "      <td>5</td>\n",
              "      <td>5</td>\n",
              "      <td>5.0</td>\n",
              "      <td>헤헤, gh**님! 감사해요! 😊 \\n\\n맛있게 드셨다니 앞으로도 더 열심히 일할게...</td>\n",
              "      <td>삼겹정찬도시락,돼지고기김치찌개＋대접밥</td>\n",
              "    </tr>\n",
              "  </tbody>\n",
              "</table>\n",
              "</div>\n",
              "    <div class=\"colab-df-buttons\">\n",
              "\n",
              "  <div class=\"colab-df-container\">\n",
              "    <button class=\"colab-df-convert\" onclick=\"convertToInteractive('df-47f8dbf4-614b-459d-801c-43be767960f3')\"\n",
              "            title=\"Convert this dataframe to an interactive table.\"\n",
              "            style=\"display:none;\">\n",
              "\n",
              "  <svg xmlns=\"http://www.w3.org/2000/svg\" height=\"24px\" viewBox=\"0 -960 960 960\">\n",
              "    <path d=\"M120-120v-720h720v720H120Zm60-500h600v-160H180v160Zm220 220h160v-160H400v160Zm0 220h160v-160H400v160ZM180-400h160v-160H180v160Zm440 0h160v-160H620v160ZM180-180h160v-160H180v160Zm440 0h160v-160H620v160Z\"/>\n",
              "  </svg>\n",
              "    </button>\n",
              "\n",
              "  <style>\n",
              "    .colab-df-container {\n",
              "      display:flex;\n",
              "      gap: 12px;\n",
              "    }\n",
              "\n",
              "    .colab-df-convert {\n",
              "      background-color: #E8F0FE;\n",
              "      border: none;\n",
              "      border-radius: 50%;\n",
              "      cursor: pointer;\n",
              "      display: none;\n",
              "      fill: #1967D2;\n",
              "      height: 32px;\n",
              "      padding: 0 0 0 0;\n",
              "      width: 32px;\n",
              "    }\n",
              "\n",
              "    .colab-df-convert:hover {\n",
              "      background-color: #E2EBFA;\n",
              "      box-shadow: 0px 1px 2px rgba(60, 64, 67, 0.3), 0px 1px 3px 1px rgba(60, 64, 67, 0.15);\n",
              "      fill: #174EA6;\n",
              "    }\n",
              "\n",
              "    .colab-df-buttons div {\n",
              "      margin-bottom: 4px;\n",
              "    }\n",
              "\n",
              "    [theme=dark] .colab-df-convert {\n",
              "      background-color: #3B4455;\n",
              "      fill: #D2E3FC;\n",
              "    }\n",
              "\n",
              "    [theme=dark] .colab-df-convert:hover {\n",
              "      background-color: #434B5C;\n",
              "      box-shadow: 0px 1px 3px 1px rgba(0, 0, 0, 0.15);\n",
              "      filter: drop-shadow(0px 1px 2px rgba(0, 0, 0, 0.3));\n",
              "      fill: #FFFFFF;\n",
              "    }\n",
              "  </style>\n",
              "\n",
              "    <script>\n",
              "      const buttonEl =\n",
              "        document.querySelector('#df-47f8dbf4-614b-459d-801c-43be767960f3 button.colab-df-convert');\n",
              "      buttonEl.style.display =\n",
              "        google.colab.kernel.accessAllowed ? 'block' : 'none';\n",
              "\n",
              "      async function convertToInteractive(key) {\n",
              "        const element = document.querySelector('#df-47f8dbf4-614b-459d-801c-43be767960f3');\n",
              "        const dataTable =\n",
              "          await google.colab.kernel.invokeFunction('convertToInteractive',\n",
              "                                                    [key], {});\n",
              "        if (!dataTable) return;\n",
              "\n",
              "        const docLinkHtml = 'Like what you see? Visit the ' +\n",
              "          '<a target=\"_blank\" href=https://colab.research.google.com/notebooks/data_table.ipynb>data table notebook</a>'\n",
              "          + ' to learn more about interactive tables.';\n",
              "        element.innerHTML = '';\n",
              "        dataTable['output_type'] = 'display_data';\n",
              "        await google.colab.output.renderOutput(dataTable, element);\n",
              "        const docLink = document.createElement('div');\n",
              "        docLink.innerHTML = docLinkHtml;\n",
              "        element.appendChild(docLink);\n",
              "      }\n",
              "    </script>\n",
              "  </div>\n",
              "\n",
              "\n",
              "<div id=\"df-b539d571-2838-441f-ba92-2a31214ab7a3\">\n",
              "  <button class=\"colab-df-quickchart\" onclick=\"quickchart('df-b539d571-2838-441f-ba92-2a31214ab7a3')\"\n",
              "            title=\"Suggest charts.\"\n",
              "            style=\"display:none;\">\n",
              "\n",
              "<svg xmlns=\"http://www.w3.org/2000/svg\" height=\"24px\"viewBox=\"0 0 24 24\"\n",
              "     width=\"24px\">\n",
              "    <g>\n",
              "        <path d=\"M19 3H5c-1.1 0-2 .9-2 2v14c0 1.1.9 2 2 2h14c1.1 0 2-.9 2-2V5c0-1.1-.9-2-2-2zM9 17H7v-7h2v7zm4 0h-2V7h2v10zm4 0h-2v-4h2v4z\"/>\n",
              "    </g>\n",
              "</svg>\n",
              "  </button>\n",
              "\n",
              "<style>\n",
              "  .colab-df-quickchart {\n",
              "      --bg-color: #E8F0FE;\n",
              "      --fill-color: #1967D2;\n",
              "      --hover-bg-color: #E2EBFA;\n",
              "      --hover-fill-color: #174EA6;\n",
              "      --disabled-fill-color: #AAA;\n",
              "      --disabled-bg-color: #DDD;\n",
              "  }\n",
              "\n",
              "  [theme=dark] .colab-df-quickchart {\n",
              "      --bg-color: #3B4455;\n",
              "      --fill-color: #D2E3FC;\n",
              "      --hover-bg-color: #434B5C;\n",
              "      --hover-fill-color: #FFFFFF;\n",
              "      --disabled-bg-color: #3B4455;\n",
              "      --disabled-fill-color: #666;\n",
              "  }\n",
              "\n",
              "  .colab-df-quickchart {\n",
              "    background-color: var(--bg-color);\n",
              "    border: none;\n",
              "    border-radius: 50%;\n",
              "    cursor: pointer;\n",
              "    display: none;\n",
              "    fill: var(--fill-color);\n",
              "    height: 32px;\n",
              "    padding: 0;\n",
              "    width: 32px;\n",
              "  }\n",
              "\n",
              "  .colab-df-quickchart:hover {\n",
              "    background-color: var(--hover-bg-color);\n",
              "    box-shadow: 0 1px 2px rgba(60, 64, 67, 0.3), 0 1px 3px 1px rgba(60, 64, 67, 0.15);\n",
              "    fill: var(--button-hover-fill-color);\n",
              "  }\n",
              "\n",
              "  .colab-df-quickchart-complete:disabled,\n",
              "  .colab-df-quickchart-complete:disabled:hover {\n",
              "    background-color: var(--disabled-bg-color);\n",
              "    fill: var(--disabled-fill-color);\n",
              "    box-shadow: none;\n",
              "  }\n",
              "\n",
              "  .colab-df-spinner {\n",
              "    border: 2px solid var(--fill-color);\n",
              "    border-color: transparent;\n",
              "    border-bottom-color: var(--fill-color);\n",
              "    animation:\n",
              "      spin 1s steps(1) infinite;\n",
              "  }\n",
              "\n",
              "  @keyframes spin {\n",
              "    0% {\n",
              "      border-color: transparent;\n",
              "      border-bottom-color: var(--fill-color);\n",
              "      border-left-color: var(--fill-color);\n",
              "    }\n",
              "    20% {\n",
              "      border-color: transparent;\n",
              "      border-left-color: var(--fill-color);\n",
              "      border-top-color: var(--fill-color);\n",
              "    }\n",
              "    30% {\n",
              "      border-color: transparent;\n",
              "      border-left-color: var(--fill-color);\n",
              "      border-top-color: var(--fill-color);\n",
              "      border-right-color: var(--fill-color);\n",
              "    }\n",
              "    40% {\n",
              "      border-color: transparent;\n",
              "      border-right-color: var(--fill-color);\n",
              "      border-top-color: var(--fill-color);\n",
              "    }\n",
              "    60% {\n",
              "      border-color: transparent;\n",
              "      border-right-color: var(--fill-color);\n",
              "    }\n",
              "    80% {\n",
              "      border-color: transparent;\n",
              "      border-right-color: var(--fill-color);\n",
              "      border-bottom-color: var(--fill-color);\n",
              "    }\n",
              "    90% {\n",
              "      border-color: transparent;\n",
              "      border-bottom-color: var(--fill-color);\n",
              "    }\n",
              "  }\n",
              "</style>\n",
              "\n",
              "  <script>\n",
              "    async function quickchart(key) {\n",
              "      const quickchartButtonEl =\n",
              "        document.querySelector('#' + key + ' button');\n",
              "      quickchartButtonEl.disabled = true;  // To prevent multiple clicks.\n",
              "      quickchartButtonEl.classList.add('colab-df-spinner');\n",
              "      try {\n",
              "        const charts = await google.colab.kernel.invokeFunction(\n",
              "            'suggestCharts', [key], {});\n",
              "      } catch (error) {\n",
              "        console.error('Error during call to suggestCharts:', error);\n",
              "      }\n",
              "      quickchartButtonEl.classList.remove('colab-df-spinner');\n",
              "      quickchartButtonEl.classList.add('colab-df-quickchart-complete');\n",
              "    }\n",
              "    (() => {\n",
              "      let quickchartButtonEl =\n",
              "        document.querySelector('#df-b539d571-2838-441f-ba92-2a31214ab7a3 button');\n",
              "      quickchartButtonEl.style.display =\n",
              "        google.colab.kernel.accessAllowed ? 'block' : 'none';\n",
              "    })();\n",
              "  </script>\n",
              "</div>\n",
              "    </div>\n",
              "  </div>\n"
            ]
          },
          "metadata": {},
          "execution_count": 6
        }
      ]
    },
    {
      "cell_type": "code",
      "execution_count": 87,
      "metadata": {
        "colab": {
          "base_uri": "https://localhost:8080/"
        },
        "id": "lpUaRZnAvWSs",
        "outputId": "ff4249ae-de65-4841-b647-70a2fd912440"
      },
      "outputs": [
        {
          "output_type": "execute_result",
          "data": {
            "text/plain": [
              "1      111\n",
              "2       87\n",
              "3      227\n",
              "4      771\n",
              "5    23802\n",
              "Name: star, dtype: int64"
            ]
          },
          "metadata": {},
          "execution_count": 87
        }
      ],
      "source": [
        "# yo_review = pd.read_csv(f\"{DATA_PATH}yogiyo_reviews_jsi.csv\")['고객리뷰']\n",
        "# yo_reply = pd.read_csv(f\"{DATA_PATH}yogiyo_reviews_jsi.csv\")['사장댓글']\n",
        "# yo_star = pd.read_csv(f\"{DATA_PATH}yogiyo_reviews_jsi.csv\")['별점']\n",
        "\n",
        "train = pd.read_csv(f\"{DATA_PATH}yogiyo_reviews_0905.csv\")\n",
        "\n",
        "rename_cols = ['store','review','star','star_t','star_q','star_d','reply','food']\n",
        "train.columns = rename_cols\n",
        "train = train[['review','reply','star','star_t','star_q','star_d','food','store']] # 컬럼 순서 변경\n",
        "train['star'].value_counts().sort_index() # 별점 분포 확인"
      ]
    },
    {
      "cell_type": "code",
      "execution_count": null,
      "metadata": {
        "id": "cSUMkLKubmIT"
      },
      "outputs": [],
      "source": [
        "# # 중복된 답변을 한 경우 행 전체 삭제\n",
        "# train.drop_duplicates(subset='reply', keep=False, inplace=True)"
      ]
    },
    {
      "cell_type": "code",
      "source": [
        "train.head()"
      ],
      "metadata": {
        "colab": {
          "base_uri": "https://localhost:8080/",
          "height": 362
        },
        "id": "_Sx6gFQ6D6G2",
        "outputId": "7201c8cf-b13f-4112-ec12-533035cb0051"
      },
      "execution_count": 88,
      "outputs": [
        {
          "output_type": "execute_result",
          "data": {
            "text/plain": [
              "                                    review  \\\n",
              "0  저도 모르게 은근 여기 자주 시켜먹고 있었네요ㅎ \\n늘 잘먹고 있습니다   \n",
              "1                   김치찌개 된장찌개 잡채\\n다 잘먹었습니다   \n",
              "2      처음시켜보는데 맛있고 리뷰서비스도 괜찮네요. 다음에도 또시킬듯요   \n",
              "3                맛있습니다! 근데 국물이 안와서 아쉽습니다..   \n",
              "4                                맛있게잘먹었습니다   \n",
              "\n",
              "                                               reply  star  star_t  star_q  \\\n",
              "0  저희 메뉴 맛있죠?ㅎㅎ 이렇게 빠져 드시는 거에요>.<\\n\\n그냥 일로서 만드는 게...     5       5       5   \n",
              "1  전부 잘 드셔 주셔서 감사합니다 ><\\n\\n좋은 시간을 드리고 싶었어요ㅠㅠ 열심히 ...     5       5       5   \n",
              "2  안녕하세요~~! :D\\n\\n저희 매장을 처음 찾아주신 고객님이시네요😆 처음 방문이라...     5       5       5   \n",
              "3  안녕하세요 1988응답하라추억의옛날도시락입니다.\\n\\n저희 측 실수로 인하여 누락이...     4       4       4   \n",
              "4  헤헤, gh**님! 감사해요! 😊 \\n\\n맛있게 드셨다니 앞으로도 더 열심히 일할게...     5       5       5   \n",
              "\n",
              "   star_d                                food                 store  \n",
              "0     5.0               제육옛날도시락＋김찌 정식＋（서비스）콜라  1988응답하라추억의옛날도시락-방이점  \n",
              "1     5.0    돼지고기김치찌개＋대접밥,우삼겹된장찌개＋대접밥,오색빛깔 잡채  1988응답하라추억의옛날도시락-방이점  \n",
              "2     5.0  [불맛]제육 옛날도시락,우삼겹옛날도시락＋미니냉면＋（서비스）콜라  1988응답하라추억의옛날도시락-방이점  \n",
              "3     3.0                          양념갈비 옛날도시락  1988응답하라추억의옛날도시락-방이점  \n",
              "4     5.0                삼겹정찬도시락,돼지고기김치찌개＋대접밥  1988응답하라추억의옛날도시락-방이점  "
            ],
            "text/html": [
              "\n",
              "  <div id=\"df-def97a32-7d83-400d-982b-9612796e5eb0\" class=\"colab-df-container\">\n",
              "    <div>\n",
              "<style scoped>\n",
              "    .dataframe tbody tr th:only-of-type {\n",
              "        vertical-align: middle;\n",
              "    }\n",
              "\n",
              "    .dataframe tbody tr th {\n",
              "        vertical-align: top;\n",
              "    }\n",
              "\n",
              "    .dataframe thead th {\n",
              "        text-align: right;\n",
              "    }\n",
              "</style>\n",
              "<table border=\"1\" class=\"dataframe\">\n",
              "  <thead>\n",
              "    <tr style=\"text-align: right;\">\n",
              "      <th></th>\n",
              "      <th>review</th>\n",
              "      <th>reply</th>\n",
              "      <th>star</th>\n",
              "      <th>star_t</th>\n",
              "      <th>star_q</th>\n",
              "      <th>star_d</th>\n",
              "      <th>food</th>\n",
              "      <th>store</th>\n",
              "    </tr>\n",
              "  </thead>\n",
              "  <tbody>\n",
              "    <tr>\n",
              "      <th>0</th>\n",
              "      <td>저도 모르게 은근 여기 자주 시켜먹고 있었네요ㅎ \\n늘 잘먹고 있습니다</td>\n",
              "      <td>저희 메뉴 맛있죠?ㅎㅎ 이렇게 빠져 드시는 거에요&gt;.&lt;\\n\\n그냥 일로서 만드는 게...</td>\n",
              "      <td>5</td>\n",
              "      <td>5</td>\n",
              "      <td>5</td>\n",
              "      <td>5.0</td>\n",
              "      <td>제육옛날도시락＋김찌 정식＋（서비스）콜라</td>\n",
              "      <td>1988응답하라추억의옛날도시락-방이점</td>\n",
              "    </tr>\n",
              "    <tr>\n",
              "      <th>1</th>\n",
              "      <td>김치찌개 된장찌개 잡채\\n다 잘먹었습니다</td>\n",
              "      <td>전부 잘 드셔 주셔서 감사합니다 &gt;&lt;\\n\\n좋은 시간을 드리고 싶었어요ㅠㅠ 열심히 ...</td>\n",
              "      <td>5</td>\n",
              "      <td>5</td>\n",
              "      <td>5</td>\n",
              "      <td>5.0</td>\n",
              "      <td>돼지고기김치찌개＋대접밥,우삼겹된장찌개＋대접밥,오색빛깔 잡채</td>\n",
              "      <td>1988응답하라추억의옛날도시락-방이점</td>\n",
              "    </tr>\n",
              "    <tr>\n",
              "      <th>2</th>\n",
              "      <td>처음시켜보는데 맛있고 리뷰서비스도 괜찮네요. 다음에도 또시킬듯요</td>\n",
              "      <td>안녕하세요~~! :D\\n\\n저희 매장을 처음 찾아주신 고객님이시네요😆 처음 방문이라...</td>\n",
              "      <td>5</td>\n",
              "      <td>5</td>\n",
              "      <td>5</td>\n",
              "      <td>5.0</td>\n",
              "      <td>[불맛]제육 옛날도시락,우삼겹옛날도시락＋미니냉면＋（서비스）콜라</td>\n",
              "      <td>1988응답하라추억의옛날도시락-방이점</td>\n",
              "    </tr>\n",
              "    <tr>\n",
              "      <th>3</th>\n",
              "      <td>맛있습니다! 근데 국물이 안와서 아쉽습니다..</td>\n",
              "      <td>안녕하세요 1988응답하라추억의옛날도시락입니다.\\n\\n저희 측 실수로 인하여 누락이...</td>\n",
              "      <td>4</td>\n",
              "      <td>4</td>\n",
              "      <td>4</td>\n",
              "      <td>3.0</td>\n",
              "      <td>양념갈비 옛날도시락</td>\n",
              "      <td>1988응답하라추억의옛날도시락-방이점</td>\n",
              "    </tr>\n",
              "    <tr>\n",
              "      <th>4</th>\n",
              "      <td>맛있게잘먹었습니다</td>\n",
              "      <td>헤헤, gh**님! 감사해요! 😊 \\n\\n맛있게 드셨다니 앞으로도 더 열심히 일할게...</td>\n",
              "      <td>5</td>\n",
              "      <td>5</td>\n",
              "      <td>5</td>\n",
              "      <td>5.0</td>\n",
              "      <td>삼겹정찬도시락,돼지고기김치찌개＋대접밥</td>\n",
              "      <td>1988응답하라추억의옛날도시락-방이점</td>\n",
              "    </tr>\n",
              "  </tbody>\n",
              "</table>\n",
              "</div>\n",
              "    <div class=\"colab-df-buttons\">\n",
              "\n",
              "  <div class=\"colab-df-container\">\n",
              "    <button class=\"colab-df-convert\" onclick=\"convertToInteractive('df-def97a32-7d83-400d-982b-9612796e5eb0')\"\n",
              "            title=\"Convert this dataframe to an interactive table.\"\n",
              "            style=\"display:none;\">\n",
              "\n",
              "  <svg xmlns=\"http://www.w3.org/2000/svg\" height=\"24px\" viewBox=\"0 -960 960 960\">\n",
              "    <path d=\"M120-120v-720h720v720H120Zm60-500h600v-160H180v160Zm220 220h160v-160H400v160Zm0 220h160v-160H400v160ZM180-400h160v-160H180v160Zm440 0h160v-160H620v160ZM180-180h160v-160H180v160Zm440 0h160v-160H620v160Z\"/>\n",
              "  </svg>\n",
              "    </button>\n",
              "\n",
              "  <style>\n",
              "    .colab-df-container {\n",
              "      display:flex;\n",
              "      gap: 12px;\n",
              "    }\n",
              "\n",
              "    .colab-df-convert {\n",
              "      background-color: #E8F0FE;\n",
              "      border: none;\n",
              "      border-radius: 50%;\n",
              "      cursor: pointer;\n",
              "      display: none;\n",
              "      fill: #1967D2;\n",
              "      height: 32px;\n",
              "      padding: 0 0 0 0;\n",
              "      width: 32px;\n",
              "    }\n",
              "\n",
              "    .colab-df-convert:hover {\n",
              "      background-color: #E2EBFA;\n",
              "      box-shadow: 0px 1px 2px rgba(60, 64, 67, 0.3), 0px 1px 3px 1px rgba(60, 64, 67, 0.15);\n",
              "      fill: #174EA6;\n",
              "    }\n",
              "\n",
              "    .colab-df-buttons div {\n",
              "      margin-bottom: 4px;\n",
              "    }\n",
              "\n",
              "    [theme=dark] .colab-df-convert {\n",
              "      background-color: #3B4455;\n",
              "      fill: #D2E3FC;\n",
              "    }\n",
              "\n",
              "    [theme=dark] .colab-df-convert:hover {\n",
              "      background-color: #434B5C;\n",
              "      box-shadow: 0px 1px 3px 1px rgba(0, 0, 0, 0.15);\n",
              "      filter: drop-shadow(0px 1px 2px rgba(0, 0, 0, 0.3));\n",
              "      fill: #FFFFFF;\n",
              "    }\n",
              "  </style>\n",
              "\n",
              "    <script>\n",
              "      const buttonEl =\n",
              "        document.querySelector('#df-def97a32-7d83-400d-982b-9612796e5eb0 button.colab-df-convert');\n",
              "      buttonEl.style.display =\n",
              "        google.colab.kernel.accessAllowed ? 'block' : 'none';\n",
              "\n",
              "      async function convertToInteractive(key) {\n",
              "        const element = document.querySelector('#df-def97a32-7d83-400d-982b-9612796e5eb0');\n",
              "        const dataTable =\n",
              "          await google.colab.kernel.invokeFunction('convertToInteractive',\n",
              "                                                    [key], {});\n",
              "        if (!dataTable) return;\n",
              "\n",
              "        const docLinkHtml = 'Like what you see? Visit the ' +\n",
              "          '<a target=\"_blank\" href=https://colab.research.google.com/notebooks/data_table.ipynb>data table notebook</a>'\n",
              "          + ' to learn more about interactive tables.';\n",
              "        element.innerHTML = '';\n",
              "        dataTable['output_type'] = 'display_data';\n",
              "        await google.colab.output.renderOutput(dataTable, element);\n",
              "        const docLink = document.createElement('div');\n",
              "        docLink.innerHTML = docLinkHtml;\n",
              "        element.appendChild(docLink);\n",
              "      }\n",
              "    </script>\n",
              "  </div>\n",
              "\n",
              "\n",
              "<div id=\"df-e5a7437d-6712-4777-8e97-ae76cb4b6ea0\">\n",
              "  <button class=\"colab-df-quickchart\" onclick=\"quickchart('df-e5a7437d-6712-4777-8e97-ae76cb4b6ea0')\"\n",
              "            title=\"Suggest charts.\"\n",
              "            style=\"display:none;\">\n",
              "\n",
              "<svg xmlns=\"http://www.w3.org/2000/svg\" height=\"24px\"viewBox=\"0 0 24 24\"\n",
              "     width=\"24px\">\n",
              "    <g>\n",
              "        <path d=\"M19 3H5c-1.1 0-2 .9-2 2v14c0 1.1.9 2 2 2h14c1.1 0 2-.9 2-2V5c0-1.1-.9-2-2-2zM9 17H7v-7h2v7zm4 0h-2V7h2v10zm4 0h-2v-4h2v4z\"/>\n",
              "    </g>\n",
              "</svg>\n",
              "  </button>\n",
              "\n",
              "<style>\n",
              "  .colab-df-quickchart {\n",
              "      --bg-color: #E8F0FE;\n",
              "      --fill-color: #1967D2;\n",
              "      --hover-bg-color: #E2EBFA;\n",
              "      --hover-fill-color: #174EA6;\n",
              "      --disabled-fill-color: #AAA;\n",
              "      --disabled-bg-color: #DDD;\n",
              "  }\n",
              "\n",
              "  [theme=dark] .colab-df-quickchart {\n",
              "      --bg-color: #3B4455;\n",
              "      --fill-color: #D2E3FC;\n",
              "      --hover-bg-color: #434B5C;\n",
              "      --hover-fill-color: #FFFFFF;\n",
              "      --disabled-bg-color: #3B4455;\n",
              "      --disabled-fill-color: #666;\n",
              "  }\n",
              "\n",
              "  .colab-df-quickchart {\n",
              "    background-color: var(--bg-color);\n",
              "    border: none;\n",
              "    border-radius: 50%;\n",
              "    cursor: pointer;\n",
              "    display: none;\n",
              "    fill: var(--fill-color);\n",
              "    height: 32px;\n",
              "    padding: 0;\n",
              "    width: 32px;\n",
              "  }\n",
              "\n",
              "  .colab-df-quickchart:hover {\n",
              "    background-color: var(--hover-bg-color);\n",
              "    box-shadow: 0 1px 2px rgba(60, 64, 67, 0.3), 0 1px 3px 1px rgba(60, 64, 67, 0.15);\n",
              "    fill: var(--button-hover-fill-color);\n",
              "  }\n",
              "\n",
              "  .colab-df-quickchart-complete:disabled,\n",
              "  .colab-df-quickchart-complete:disabled:hover {\n",
              "    background-color: var(--disabled-bg-color);\n",
              "    fill: var(--disabled-fill-color);\n",
              "    box-shadow: none;\n",
              "  }\n",
              "\n",
              "  .colab-df-spinner {\n",
              "    border: 2px solid var(--fill-color);\n",
              "    border-color: transparent;\n",
              "    border-bottom-color: var(--fill-color);\n",
              "    animation:\n",
              "      spin 1s steps(1) infinite;\n",
              "  }\n",
              "\n",
              "  @keyframes spin {\n",
              "    0% {\n",
              "      border-color: transparent;\n",
              "      border-bottom-color: var(--fill-color);\n",
              "      border-left-color: var(--fill-color);\n",
              "    }\n",
              "    20% {\n",
              "      border-color: transparent;\n",
              "      border-left-color: var(--fill-color);\n",
              "      border-top-color: var(--fill-color);\n",
              "    }\n",
              "    30% {\n",
              "      border-color: transparent;\n",
              "      border-left-color: var(--fill-color);\n",
              "      border-top-color: var(--fill-color);\n",
              "      border-right-color: var(--fill-color);\n",
              "    }\n",
              "    40% {\n",
              "      border-color: transparent;\n",
              "      border-right-color: var(--fill-color);\n",
              "      border-top-color: var(--fill-color);\n",
              "    }\n",
              "    60% {\n",
              "      border-color: transparent;\n",
              "      border-right-color: var(--fill-color);\n",
              "    }\n",
              "    80% {\n",
              "      border-color: transparent;\n",
              "      border-right-color: var(--fill-color);\n",
              "      border-bottom-color: var(--fill-color);\n",
              "    }\n",
              "    90% {\n",
              "      border-color: transparent;\n",
              "      border-bottom-color: var(--fill-color);\n",
              "    }\n",
              "  }\n",
              "</style>\n",
              "\n",
              "  <script>\n",
              "    async function quickchart(key) {\n",
              "      const quickchartButtonEl =\n",
              "        document.querySelector('#' + key + ' button');\n",
              "      quickchartButtonEl.disabled = true;  // To prevent multiple clicks.\n",
              "      quickchartButtonEl.classList.add('colab-df-spinner');\n",
              "      try {\n",
              "        const charts = await google.colab.kernel.invokeFunction(\n",
              "            'suggestCharts', [key], {});\n",
              "      } catch (error) {\n",
              "        console.error('Error during call to suggestCharts:', error);\n",
              "      }\n",
              "      quickchartButtonEl.classList.remove('colab-df-spinner');\n",
              "      quickchartButtonEl.classList.add('colab-df-quickchart-complete');\n",
              "    }\n",
              "    (() => {\n",
              "      let quickchartButtonEl =\n",
              "        document.querySelector('#df-e5a7437d-6712-4777-8e97-ae76cb4b6ea0 button');\n",
              "      quickchartButtonEl.style.display =\n",
              "        google.colab.kernel.accessAllowed ? 'block' : 'none';\n",
              "    })();\n",
              "  </script>\n",
              "</div>\n",
              "    </div>\n",
              "  </div>\n"
            ]
          },
          "metadata": {},
          "execution_count": 88
        }
      ]
    },
    {
      "cell_type": "markdown",
      "source": [
        "# 데이터 전처리"
      ],
      "metadata": {
        "id": "7v2dG3T-FCs0"
      }
    },
    {
      "cell_type": "markdown",
      "metadata": {
        "id": "Lc9TAFoFAIg9"
      },
      "source": [
        "## 정제"
      ]
    },
    {
      "cell_type": "code",
      "execution_count": 89,
      "metadata": {
        "colab": {
          "base_uri": "https://localhost:8080/",
          "height": 328
        },
        "id": "RUWJTmUNXkxV",
        "outputId": "b60c03fb-9141-46ab-831b-a338b6dcb0bb"
      },
      "outputs": [
        {
          "output_type": "execute_result",
          "data": {
            "text/plain": [
              "                                 review  \\\n",
              "0  저도 모르게 은근 여기 자주 시켜먹고 있었네요 늘 잘먹고 있습니다   \n",
              "1                 김치찌개 된장찌개 잡채 다 잘먹었습니다   \n",
              "2    처음시켜보는데 맛있고 리뷰서비스도 괜찮네요 다음에도 또시킬듯요   \n",
              "3               맛있습니다 근데 국물이 안와서 아쉽습니다    \n",
              "4                             맛있게잘먹었습니다   \n",
              "\n",
              "                                               reply  star  star_t  star_q  \\\n",
              "0  저희 메뉴 맛있죠 이렇게 빠져 드시는 거에요 그냥 일로서 만드는 게 아니라 진짜 제...     5       5       5   \n",
              "1  전부 잘 드셔 주셔서 감사합니다 좋은 시간을 드리고 싶었어요 열심히 만들었다지만 다...     5       5       5   \n",
              "2  안녕하세요 D 저희 매장을 처음 찾아주신 고객님이시네요 처음 방문이라 주문해 주시기...     5       5       5   \n",
              "3  안녕하세요 1988응답하라추억의옛날도시락입니다 저희 측 실수로 인하여 누락이 되었군...     4       4       4   \n",
              "4  헤헤 gh 님 감사해요 맛있게 드셨다니 앞으로도 더 열심히 일할게요 좋은 하루 보내세요      5       5       5   \n",
              "\n",
              "   star_d                               food                 store  \n",
              "0     5.0               제육옛날도시락 김찌 정식 서비스 콜라  1988응답하라추억의옛날도시락 방이점  \n",
              "1     5.0   돼지고기김치찌개 대접밥 우삼겹된장찌개 대접밥 오색빛깔 잡채  1988응답하라추억의옛날도시락 방이점  \n",
              "2     5.0   불맛 제육 옛날도시락 우삼겹옛날도시락 미니냉면 서비스 콜라  1988응답하라추억의옛날도시락 방이점  \n",
              "3     3.0                         양념갈비 옛날도시락  1988응답하라추억의옛날도시락 방이점  \n",
              "4     5.0               삼겹정찬도시락 돼지고기김치찌개 대접밥  1988응답하라추억의옛날도시락 방이점  "
            ],
            "text/html": [
              "\n",
              "  <div id=\"df-d74ee5f7-7e9a-47b7-adf0-cbc87987dd88\" class=\"colab-df-container\">\n",
              "    <div>\n",
              "<style scoped>\n",
              "    .dataframe tbody tr th:only-of-type {\n",
              "        vertical-align: middle;\n",
              "    }\n",
              "\n",
              "    .dataframe tbody tr th {\n",
              "        vertical-align: top;\n",
              "    }\n",
              "\n",
              "    .dataframe thead th {\n",
              "        text-align: right;\n",
              "    }\n",
              "</style>\n",
              "<table border=\"1\" class=\"dataframe\">\n",
              "  <thead>\n",
              "    <tr style=\"text-align: right;\">\n",
              "      <th></th>\n",
              "      <th>review</th>\n",
              "      <th>reply</th>\n",
              "      <th>star</th>\n",
              "      <th>star_t</th>\n",
              "      <th>star_q</th>\n",
              "      <th>star_d</th>\n",
              "      <th>food</th>\n",
              "      <th>store</th>\n",
              "    </tr>\n",
              "  </thead>\n",
              "  <tbody>\n",
              "    <tr>\n",
              "      <th>0</th>\n",
              "      <td>저도 모르게 은근 여기 자주 시켜먹고 있었네요 늘 잘먹고 있습니다</td>\n",
              "      <td>저희 메뉴 맛있죠 이렇게 빠져 드시는 거에요 그냥 일로서 만드는 게 아니라 진짜 제...</td>\n",
              "      <td>5</td>\n",
              "      <td>5</td>\n",
              "      <td>5</td>\n",
              "      <td>5.0</td>\n",
              "      <td>제육옛날도시락 김찌 정식 서비스 콜라</td>\n",
              "      <td>1988응답하라추억의옛날도시락 방이점</td>\n",
              "    </tr>\n",
              "    <tr>\n",
              "      <th>1</th>\n",
              "      <td>김치찌개 된장찌개 잡채 다 잘먹었습니다</td>\n",
              "      <td>전부 잘 드셔 주셔서 감사합니다 좋은 시간을 드리고 싶었어요 열심히 만들었다지만 다...</td>\n",
              "      <td>5</td>\n",
              "      <td>5</td>\n",
              "      <td>5</td>\n",
              "      <td>5.0</td>\n",
              "      <td>돼지고기김치찌개 대접밥 우삼겹된장찌개 대접밥 오색빛깔 잡채</td>\n",
              "      <td>1988응답하라추억의옛날도시락 방이점</td>\n",
              "    </tr>\n",
              "    <tr>\n",
              "      <th>2</th>\n",
              "      <td>처음시켜보는데 맛있고 리뷰서비스도 괜찮네요 다음에도 또시킬듯요</td>\n",
              "      <td>안녕하세요 D 저희 매장을 처음 찾아주신 고객님이시네요 처음 방문이라 주문해 주시기...</td>\n",
              "      <td>5</td>\n",
              "      <td>5</td>\n",
              "      <td>5</td>\n",
              "      <td>5.0</td>\n",
              "      <td>불맛 제육 옛날도시락 우삼겹옛날도시락 미니냉면 서비스 콜라</td>\n",
              "      <td>1988응답하라추억의옛날도시락 방이점</td>\n",
              "    </tr>\n",
              "    <tr>\n",
              "      <th>3</th>\n",
              "      <td>맛있습니다 근데 국물이 안와서 아쉽습니다</td>\n",
              "      <td>안녕하세요 1988응답하라추억의옛날도시락입니다 저희 측 실수로 인하여 누락이 되었군...</td>\n",
              "      <td>4</td>\n",
              "      <td>4</td>\n",
              "      <td>4</td>\n",
              "      <td>3.0</td>\n",
              "      <td>양념갈비 옛날도시락</td>\n",
              "      <td>1988응답하라추억의옛날도시락 방이점</td>\n",
              "    </tr>\n",
              "    <tr>\n",
              "      <th>4</th>\n",
              "      <td>맛있게잘먹었습니다</td>\n",
              "      <td>헤헤 gh 님 감사해요 맛있게 드셨다니 앞으로도 더 열심히 일할게요 좋은 하루 보내세요</td>\n",
              "      <td>5</td>\n",
              "      <td>5</td>\n",
              "      <td>5</td>\n",
              "      <td>5.0</td>\n",
              "      <td>삼겹정찬도시락 돼지고기김치찌개 대접밥</td>\n",
              "      <td>1988응답하라추억의옛날도시락 방이점</td>\n",
              "    </tr>\n",
              "  </tbody>\n",
              "</table>\n",
              "</div>\n",
              "    <div class=\"colab-df-buttons\">\n",
              "\n",
              "  <div class=\"colab-df-container\">\n",
              "    <button class=\"colab-df-convert\" onclick=\"convertToInteractive('df-d74ee5f7-7e9a-47b7-adf0-cbc87987dd88')\"\n",
              "            title=\"Convert this dataframe to an interactive table.\"\n",
              "            style=\"display:none;\">\n",
              "\n",
              "  <svg xmlns=\"http://www.w3.org/2000/svg\" height=\"24px\" viewBox=\"0 -960 960 960\">\n",
              "    <path d=\"M120-120v-720h720v720H120Zm60-500h600v-160H180v160Zm220 220h160v-160H400v160Zm0 220h160v-160H400v160ZM180-400h160v-160H180v160Zm440 0h160v-160H620v160ZM180-180h160v-160H180v160Zm440 0h160v-160H620v160Z\"/>\n",
              "  </svg>\n",
              "    </button>\n",
              "\n",
              "  <style>\n",
              "    .colab-df-container {\n",
              "      display:flex;\n",
              "      gap: 12px;\n",
              "    }\n",
              "\n",
              "    .colab-df-convert {\n",
              "      background-color: #E8F0FE;\n",
              "      border: none;\n",
              "      border-radius: 50%;\n",
              "      cursor: pointer;\n",
              "      display: none;\n",
              "      fill: #1967D2;\n",
              "      height: 32px;\n",
              "      padding: 0 0 0 0;\n",
              "      width: 32px;\n",
              "    }\n",
              "\n",
              "    .colab-df-convert:hover {\n",
              "      background-color: #E2EBFA;\n",
              "      box-shadow: 0px 1px 2px rgba(60, 64, 67, 0.3), 0px 1px 3px 1px rgba(60, 64, 67, 0.15);\n",
              "      fill: #174EA6;\n",
              "    }\n",
              "\n",
              "    .colab-df-buttons div {\n",
              "      margin-bottom: 4px;\n",
              "    }\n",
              "\n",
              "    [theme=dark] .colab-df-convert {\n",
              "      background-color: #3B4455;\n",
              "      fill: #D2E3FC;\n",
              "    }\n",
              "\n",
              "    [theme=dark] .colab-df-convert:hover {\n",
              "      background-color: #434B5C;\n",
              "      box-shadow: 0px 1px 3px 1px rgba(0, 0, 0, 0.15);\n",
              "      filter: drop-shadow(0px 1px 2px rgba(0, 0, 0, 0.3));\n",
              "      fill: #FFFFFF;\n",
              "    }\n",
              "  </style>\n",
              "\n",
              "    <script>\n",
              "      const buttonEl =\n",
              "        document.querySelector('#df-d74ee5f7-7e9a-47b7-adf0-cbc87987dd88 button.colab-df-convert');\n",
              "      buttonEl.style.display =\n",
              "        google.colab.kernel.accessAllowed ? 'block' : 'none';\n",
              "\n",
              "      async function convertToInteractive(key) {\n",
              "        const element = document.querySelector('#df-d74ee5f7-7e9a-47b7-adf0-cbc87987dd88');\n",
              "        const dataTable =\n",
              "          await google.colab.kernel.invokeFunction('convertToInteractive',\n",
              "                                                    [key], {});\n",
              "        if (!dataTable) return;\n",
              "\n",
              "        const docLinkHtml = 'Like what you see? Visit the ' +\n",
              "          '<a target=\"_blank\" href=https://colab.research.google.com/notebooks/data_table.ipynb>data table notebook</a>'\n",
              "          + ' to learn more about interactive tables.';\n",
              "        element.innerHTML = '';\n",
              "        dataTable['output_type'] = 'display_data';\n",
              "        await google.colab.output.renderOutput(dataTable, element);\n",
              "        const docLink = document.createElement('div');\n",
              "        docLink.innerHTML = docLinkHtml;\n",
              "        element.appendChild(docLink);\n",
              "      }\n",
              "    </script>\n",
              "  </div>\n",
              "\n",
              "\n",
              "<div id=\"df-4b57d28c-74f5-4a50-9cf9-f41a2dafacc6\">\n",
              "  <button class=\"colab-df-quickchart\" onclick=\"quickchart('df-4b57d28c-74f5-4a50-9cf9-f41a2dafacc6')\"\n",
              "            title=\"Suggest charts.\"\n",
              "            style=\"display:none;\">\n",
              "\n",
              "<svg xmlns=\"http://www.w3.org/2000/svg\" height=\"24px\"viewBox=\"0 0 24 24\"\n",
              "     width=\"24px\">\n",
              "    <g>\n",
              "        <path d=\"M19 3H5c-1.1 0-2 .9-2 2v14c0 1.1.9 2 2 2h14c1.1 0 2-.9 2-2V5c0-1.1-.9-2-2-2zM9 17H7v-7h2v7zm4 0h-2V7h2v10zm4 0h-2v-4h2v4z\"/>\n",
              "    </g>\n",
              "</svg>\n",
              "  </button>\n",
              "\n",
              "<style>\n",
              "  .colab-df-quickchart {\n",
              "      --bg-color: #E8F0FE;\n",
              "      --fill-color: #1967D2;\n",
              "      --hover-bg-color: #E2EBFA;\n",
              "      --hover-fill-color: #174EA6;\n",
              "      --disabled-fill-color: #AAA;\n",
              "      --disabled-bg-color: #DDD;\n",
              "  }\n",
              "\n",
              "  [theme=dark] .colab-df-quickchart {\n",
              "      --bg-color: #3B4455;\n",
              "      --fill-color: #D2E3FC;\n",
              "      --hover-bg-color: #434B5C;\n",
              "      --hover-fill-color: #FFFFFF;\n",
              "      --disabled-bg-color: #3B4455;\n",
              "      --disabled-fill-color: #666;\n",
              "  }\n",
              "\n",
              "  .colab-df-quickchart {\n",
              "    background-color: var(--bg-color);\n",
              "    border: none;\n",
              "    border-radius: 50%;\n",
              "    cursor: pointer;\n",
              "    display: none;\n",
              "    fill: var(--fill-color);\n",
              "    height: 32px;\n",
              "    padding: 0;\n",
              "    width: 32px;\n",
              "  }\n",
              "\n",
              "  .colab-df-quickchart:hover {\n",
              "    background-color: var(--hover-bg-color);\n",
              "    box-shadow: 0 1px 2px rgba(60, 64, 67, 0.3), 0 1px 3px 1px rgba(60, 64, 67, 0.15);\n",
              "    fill: var(--button-hover-fill-color);\n",
              "  }\n",
              "\n",
              "  .colab-df-quickchart-complete:disabled,\n",
              "  .colab-df-quickchart-complete:disabled:hover {\n",
              "    background-color: var(--disabled-bg-color);\n",
              "    fill: var(--disabled-fill-color);\n",
              "    box-shadow: none;\n",
              "  }\n",
              "\n",
              "  .colab-df-spinner {\n",
              "    border: 2px solid var(--fill-color);\n",
              "    border-color: transparent;\n",
              "    border-bottom-color: var(--fill-color);\n",
              "    animation:\n",
              "      spin 1s steps(1) infinite;\n",
              "  }\n",
              "\n",
              "  @keyframes spin {\n",
              "    0% {\n",
              "      border-color: transparent;\n",
              "      border-bottom-color: var(--fill-color);\n",
              "      border-left-color: var(--fill-color);\n",
              "    }\n",
              "    20% {\n",
              "      border-color: transparent;\n",
              "      border-left-color: var(--fill-color);\n",
              "      border-top-color: var(--fill-color);\n",
              "    }\n",
              "    30% {\n",
              "      border-color: transparent;\n",
              "      border-left-color: var(--fill-color);\n",
              "      border-top-color: var(--fill-color);\n",
              "      border-right-color: var(--fill-color);\n",
              "    }\n",
              "    40% {\n",
              "      border-color: transparent;\n",
              "      border-right-color: var(--fill-color);\n",
              "      border-top-color: var(--fill-color);\n",
              "    }\n",
              "    60% {\n",
              "      border-color: transparent;\n",
              "      border-right-color: var(--fill-color);\n",
              "    }\n",
              "    80% {\n",
              "      border-color: transparent;\n",
              "      border-right-color: var(--fill-color);\n",
              "      border-bottom-color: var(--fill-color);\n",
              "    }\n",
              "    90% {\n",
              "      border-color: transparent;\n",
              "      border-bottom-color: var(--fill-color);\n",
              "    }\n",
              "  }\n",
              "</style>\n",
              "\n",
              "  <script>\n",
              "    async function quickchart(key) {\n",
              "      const quickchartButtonEl =\n",
              "        document.querySelector('#' + key + ' button');\n",
              "      quickchartButtonEl.disabled = true;  // To prevent multiple clicks.\n",
              "      quickchartButtonEl.classList.add('colab-df-spinner');\n",
              "      try {\n",
              "        const charts = await google.colab.kernel.invokeFunction(\n",
              "            'suggestCharts', [key], {});\n",
              "      } catch (error) {\n",
              "        console.error('Error during call to suggestCharts:', error);\n",
              "      }\n",
              "      quickchartButtonEl.classList.remove('colab-df-spinner');\n",
              "      quickchartButtonEl.classList.add('colab-df-quickchart-complete');\n",
              "    }\n",
              "    (() => {\n",
              "      let quickchartButtonEl =\n",
              "        document.querySelector('#df-4b57d28c-74f5-4a50-9cf9-f41a2dafacc6 button');\n",
              "      quickchartButtonEl.style.display =\n",
              "        google.colab.kernel.accessAllowed ? 'block' : 'none';\n",
              "    })();\n",
              "  </script>\n",
              "</div>\n",
              "    </div>\n",
              "  </div>\n"
            ]
          },
          "metadata": {},
          "execution_count": 89
        }
      ],
      "source": [
        "def clean_text(text):\n",
        "    if isinstance(text, str):\n",
        "        pat = re.compile(\"[^a-zA-Z가-힣0-9]\")\n",
        "        result = pat.sub(\" \", text)\n",
        "        result = re.sub(\" +\", \" \", result)\n",
        "        return result\n",
        "    return \"\"\n",
        "\n",
        "cols = ['review', 'reply', 'food', 'store']\n",
        "for col in cols:\n",
        "    train[col] = train[col].apply(clean_text)\n",
        "\n",
        "train.head()"
      ]
    },
    {
      "cell_type": "markdown",
      "metadata": {
        "id": "kGzp2f09pN2x"
      },
      "source": [
        "### \"~~님\" → \"고객님\"으로 변환"
      ]
    },
    {
      "cell_type": "code",
      "execution_count": 90,
      "metadata": {
        "id": "SRMlbtaPoOql"
      },
      "outputs": [],
      "source": [
        "train['reply'] = train['reply'].str.replace(r'\\w+\\s*님', '고객님', regex=True)"
      ]
    },
    {
      "cell_type": "markdown",
      "metadata": {
        "id": "XN_oJWUWpnf6"
      },
      "source": [
        "### 가게명 키워드 컬럼화"
      ]
    },
    {
      "cell_type": "code",
      "execution_count": 91,
      "metadata": {
        "id": "t6oT6Nn7_ueM"
      },
      "outputs": [],
      "source": [
        "ygy_store_lst = sorted(list(set(train['store'])))\n",
        "store_name = []\n",
        "region_name = []\n",
        "for store in ygy_store_lst:\n",
        "    pat = re.split(' ', store)\n",
        "    if len(pat) >= 2:\n",
        "        region_name.append(pat[-1])\n",
        "        store_name.append(\" \".join(pat[:-1]))\n",
        "    else:\n",
        "        store_name.append(store)"
      ]
    },
    {
      "cell_type": "code",
      "execution_count": 92,
      "metadata": {
        "colab": {
          "base_uri": "https://localhost:8080/"
        },
        "id": "ebxt6dox_ueM",
        "outputId": "dce400c4-6036-4126-cc5e-e8ce62acf273"
      },
      "outputs": [
        {
          "output_type": "execute_result",
          "data": {
            "text/plain": [
              "['1988응답',\n",
              " '1989마라',\n",
              " '39도시락',\n",
              " '39도시',\n",
              " '39도',\n",
              " '7번가피자',\n",
              " '7번가피',\n",
              " '7번가',\n",
              " '7번',\n",
              " 'GTS버',\n",
              " 'GTS',\n",
              " 'GT',\n",
              " 'OK반점',\n",
              " 'OK반',\n",
              " 'OK',\n",
              " '갈비민족',\n",
              " '갈비민',\n",
              " '갈비',\n",
              " '감성커피',\n",
              " '감성커',\n",
              " '감성',\n",
              " '걸작떡볶',\n",
              " '걸작떡',\n",
              " '걸작',\n",
              " '고기듬뿍',\n",
              " '고기듬',\n",
              " '고기',\n",
              " '고기듬뿍',\n",
              " '고기듬',\n",
              " '고기',\n",
              " '고기잔뜩',\n",
              " '고기잔',\n",
              " '고기',\n",
              " '고기혁명',\n",
              " '고기혁',\n",
              " '고기',\n",
              " '고돼지',\n",
              " '고돼지',\n",
              " '고돼',\n",
              " '고씨네카',\n",
              " '고씨네',\n",
              " '고씨',\n",
              " '공주닭발',\n",
              " '공주닭',\n",
              " '공주',\n",
              " '과일에반',\n",
              " '과일에',\n",
              " '과일',\n",
              " '구구족',\n",
              " '구구족',\n",
              " '구구',\n",
              " '구래상회',\n",
              " '구래상',\n",
              " '구래',\n",
              " '국수나무',\n",
              " '국수나',\n",
              " '국수',\n",
              " '김포불닭',\n",
              " '김포불',\n",
              " '김포',\n",
              " '깨돌이김',\n",
              " '깨돌이',\n",
              " '깨돌',\n",
              " '꼬알라파',\n",
              " '꼬알라',\n",
              " '꼬알',\n",
              " '나인곱창',\n",
              " '나인곱',\n",
              " '나인',\n",
              " '냉면 숯',\n",
              " '냉면 ',\n",
              " '냉면',\n",
              " '놀부 부',\n",
              " '놀부 ',\n",
              " '놀부',\n",
              " '놀부보쌈',\n",
              " '놀부보',\n",
              " '놀부',\n",
              " '닭강점',\n",
              " '닭강점',\n",
              " '닭강',\n",
              " '닭장수섭',\n",
              " '닭장수',\n",
              " '닭장',\n",
              " '당치땡',\n",
              " '당치땡',\n",
              " '당치',\n",
              " '대찌 대',\n",
              " '대찌 ',\n",
              " '대찌',\n",
              " '대한냉면',\n",
              " '대한냉',\n",
              " '대한',\n",
              " '더티베지',\n",
              " '더티베',\n",
              " '더티',\n",
              " '더팔당매',\n",
              " '더팔당',\n",
              " '더팔',\n",
              " '덮덮밥',\n",
              " '덮덮밥',\n",
              " '덮덮',\n",
              " '도야짬뽕',\n",
              " '도야짬',\n",
              " '도야',\n",
              " '도우라이',\n",
              " '도우라',\n",
              " '도우',\n",
              " '돈까스회',\n",
              " '돈까스',\n",
              " '돈까',\n",
              " '땅끝수산',\n",
              " '땅끝수',\n",
              " '땅끝',\n",
              " '땡초곱창',\n",
              " '땡초곱',\n",
              " '땡초',\n",
              " '떡깨비',\n",
              " '떡깨비',\n",
              " '떡깨',\n",
              " '떡형',\n",
              " '떡형',\n",
              " '떡형',\n",
              " '뜸들이다',\n",
              " '뜸들이',\n",
              " '뜸들',\n",
              " '뜸들이다',\n",
              " '뜸들이',\n",
              " '뜸들',\n",
              " '띵하오차',\n",
              " '띵하오',\n",
              " '띵하',\n",
              " '라화방마',\n",
              " '라화방',\n",
              " '라화',\n",
              " '랜돌프뉴',\n",
              " '랜돌프',\n",
              " '랜돌',\n",
              " '롱쓰부대',\n",
              " '롱쓰부',\n",
              " '롱쓰',\n",
              " '마라의신',\n",
              " '마라의',\n",
              " '마라',\n",
              " '마라쿡',\n",
              " '마라쿡',\n",
              " '마라',\n",
              " '마라하오',\n",
              " '마라하',\n",
              " '마라',\n",
              " '맘스터치',\n",
              " '맘스터',\n",
              " '맘스',\n",
              " '명작파스',\n",
              " '명작파',\n",
              " '명작',\n",
              " '모모타코',\n",
              " '모모타',\n",
              " '모모',\n",
              " '모어댄버',\n",
              " '모어댄',\n",
              " '모어',\n",
              " '무국적식',\n",
              " '무국적',\n",
              " '무국',\n",
              " '미락칼국',\n",
              " '미락칼',\n",
              " '미락',\n",
              " '미친피자',\n",
              " '미친피',\n",
              " '미친',\n",
              " '밈피자',\n",
              " '밈피자',\n",
              " '밈피',\n",
              " '배달의쌀',\n",
              " '배달의',\n",
              " '배달',\n",
              " '병천토속',\n",
              " '병천토',\n",
              " '병천',\n",
              " '보돌미역',\n",
              " '보돌미',\n",
              " '보돌',\n",
              " '본점 장',\n",
              " '본점 ',\n",
              " '본점',\n",
              " '봉명동내',\n",
              " '봉명동',\n",
              " '봉명',\n",
              " '부대찌개',\n",
              " '부대찌',\n",
              " '부대',\n",
              " '부산오빠',\n",
              " '부산오',\n",
              " '부산',\n",
              " '부성초밥',\n",
              " '부성초',\n",
              " '부성',\n",
              " '비오키친',\n",
              " '비오키',\n",
              " '비오',\n",
              " '빅스타피',\n",
              " '빅스타',\n",
              " '빅스',\n",
              " '빕스얌딜',\n",
              " '빕스얌',\n",
              " '빕스',\n",
              " '빽다방',\n",
              " '빽다방',\n",
              " '빽다',\n",
              " '삼다수',\n",
              " '삼다수',\n",
              " '삼다',\n",
              " '삽교원조',\n",
              " '삽교원',\n",
              " '삽교',\n",
              " '상무초밥',\n",
              " '상무초',\n",
              " '상무',\n",
              " '손수경의',\n",
              " '손수경',\n",
              " '손수',\n",
              " '손이가시',\n",
              " '손이가',\n",
              " '손이',\n",
              " '송파만다',\n",
              " '송파만',\n",
              " '송파',\n",
              " '쇼부덮밥',\n",
              " '쇼부덮',\n",
              " '쇼부',\n",
              " '수락',\n",
              " '수락',\n",
              " '수락',\n",
              " '수상한삼',\n",
              " '수상한',\n",
              " '수상',\n",
              " '수제죽전',\n",
              " '수제죽',\n",
              " '수제',\n",
              " '수피자',\n",
              " '수피자',\n",
              " '수피',\n",
              " '순살만공',\n",
              " '순살만',\n",
              " '순살',\n",
              " '스시리',\n",
              " '스시리',\n",
              " '스시',\n",
              " '스시사소',\n",
              " '스시사',\n",
              " '스시',\n",
              " '승도리네',\n",
              " '승도리',\n",
              " '승도',\n",
              " '시민보쌈',\n",
              " '시민보',\n",
              " '시민',\n",
              " '신자매김',\n",
              " '신자매',\n",
              " '신자',\n",
              " '써브웨이',\n",
              " '써브웨',\n",
              " '써브',\n",
              " '안녕 닭',\n",
              " '안녕 ',\n",
              " '안녕',\n",
              " '알촌',\n",
              " '알촌',\n",
              " '알촌',\n",
              " '야키토리',\n",
              " '야키토',\n",
              " '야키',\n",
              " '어시장',\n",
              " '어시장',\n",
              " '어시',\n",
              " '여왕의브',\n",
              " '여왕의',\n",
              " '여왕',\n",
              " '오늘은',\n",
              " '오늘은',\n",
              " '오늘',\n",
              " '올데이케',\n",
              " '올데이',\n",
              " '올데',\n",
              " '올데이파',\n",
              " '올데이',\n",
              " '올데',\n",
              " '왕빈자삼',\n",
              " '왕빈자',\n",
              " '왕빈',\n",
              " '우리집반',\n",
              " '우리집',\n",
              " '우리',\n",
              " '우시장국',\n",
              " '우시장',\n",
              " '우시',\n",
              " '울진죽변',\n",
              " '울진죽',\n",
              " '울진',\n",
              " '워커스커',\n",
              " '워커스',\n",
              " '워커',\n",
              " '유쾌한꼬',\n",
              " '유쾌한',\n",
              " '유쾌',\n",
              " '육회 연',\n",
              " '육회 ',\n",
              " '육회',\n",
              " '윤희횟집',\n",
              " '윤희횟',\n",
              " '윤희',\n",
              " '이끌림마',\n",
              " '이끌림',\n",
              " '이끌',\n",
              " '이배달 ',\n",
              " '이배달',\n",
              " '이배',\n",
              " '이태리면',\n",
              " '이태리',\n",
              " '이태',\n",
              " '이토우야',\n",
              " '이토우',\n",
              " '이토',\n",
              " '이화수육',\n",
              " '이화수',\n",
              " '이화',\n",
              " '인생아구',\n",
              " '인생아',\n",
              " '인생',\n",
              " '인생제육',\n",
              " '인생제',\n",
              " '인생',\n",
              " '자성당',\n",
              " '자성당',\n",
              " '자성',\n",
              " '잭아저씨',\n",
              " '잭아저',\n",
              " '잭아',\n",
              " '저팔계 ',\n",
              " '저팔계',\n",
              " '저팔',\n",
              " '전금례닭',\n",
              " '전금례',\n",
              " '전금',\n",
              " '조형훈족',\n",
              " '조형훈',\n",
              " '조형',\n",
              " '직화삼겹',\n",
              " '직화삼',\n",
              " '직화',\n",
              " '진지덮밥',\n",
              " '진지덮',\n",
              " '진지',\n",
              " '짚신스시',\n",
              " '짚신스',\n",
              " '짚신',\n",
              " '짜글이가',\n",
              " '짜글이',\n",
              " '짜글',\n",
              " '짱닭치킨',\n",
              " '짱닭치',\n",
              " '짱닭',\n",
              " '짱닭치킨',\n",
              " '짱닭치',\n",
              " '짱닭',\n",
              " '창타이누',\n",
              " '창타이',\n",
              " '창타',\n",
              " '천년닭강',\n",
              " '천년닭',\n",
              " '천년',\n",
              " '청년치킨',\n",
              " '청년치',\n",
              " '청년',\n",
              " '청춘식당',\n",
              " '청춘식',\n",
              " '청춘',\n",
              " '초밥대통',\n",
              " '초밥대',\n",
              " '초밥',\n",
              " '최가네한',\n",
              " '최가네',\n",
              " '최가',\n",
              " '최고남제',\n",
              " '최고남',\n",
              " '최고',\n",
              " '춘리마라',\n",
              " '춘리마',\n",
              " '춘리',\n",
              " '카산도',\n",
              " '카산도',\n",
              " '카산',\n",
              " '카페봄봄',\n",
              " '카페봄',\n",
              " '카페',\n",
              " '코브라독',\n",
              " '코브라',\n",
              " '코브',\n",
              " '큰아들백',\n",
              " '큰아들',\n",
              " '큰아',\n",
              " '킹프레소',\n",
              " '킹프레',\n",
              " '킹프',\n",
              " '탐나는피',\n",
              " '탐나는',\n",
              " '탐나',\n",
              " '탕화쿵푸',\n",
              " '탕화쿵',\n",
              " '탕화',\n",
              " '텐텐마라',\n",
              " '텐텐마',\n",
              " '텐텐',\n",
              " '토핑폭탄',\n",
              " '토핑폭',\n",
              " '토핑',\n",
              " '토핑폭탄',\n",
              " '토핑폭',\n",
              " '토핑',\n",
              " '팔도한마',\n",
              " '팔도한',\n",
              " '팔도',\n",
              " '폴트버거',\n",
              " '폴트버',\n",
              " '폴트',\n",
              " '플러스',\n",
              " '플러',\n",
              " '피자보이',\n",
              " '피자보',\n",
              " '피자',\n",
              " '피자스웨',\n",
              " '피자스',\n",
              " '피자',\n",
              " '피자이탈',\n",
              " '피자이',\n",
              " '피자',\n",
              " '피자프라',\n",
              " '피자프',\n",
              " '피자',\n",
              " '피제이피',\n",
              " '피제이',\n",
              " '피제',\n",
              " '한식세끼',\n",
              " '한식세',\n",
              " '한식',\n",
              " '행복한찜',\n",
              " '행복한',\n",
              " '행복',\n",
              " '헬로팬닭',\n",
              " '헬로팬',\n",
              " '헬로',\n",
              " '호랑이초',\n",
              " '호랑이',\n",
              " '호랑',\n",
              " '혼밥대왕',\n",
              " '혼밥대',\n",
              " '혼밥',\n",
              " '홍대개미',\n",
              " '홍대개',\n",
              " '홍대',\n",
              " '홍스족발',\n",
              " '홍스족',\n",
              " '홍스',\n",
              " '홍싸롱 ',\n",
              " '홍싸롱',\n",
              " '홍싸',\n",
              " '황궁쟁반',\n",
              " '황궁쟁',\n",
              " '황궁',\n",
              " '후스폭립',\n",
              " '후스폭',\n",
              " '후스']"
            ]
          },
          "metadata": {},
          "execution_count": 92
        }
      ],
      "source": [
        "short_name = []\n",
        "for name in store_name:\n",
        "    if name[0].isdigit(): # 숫자로 시작하면 텍스트가 나오는 부분까지 추출\n",
        "        cut = name[:6]\n",
        "        short_name.append(cut)\n",
        "    for length in [4, 3, 2]:\n",
        "        cut = name[:length]\n",
        "        if not cut[-1].isdigit(): # 마지막 텍스트가 숫자가 아닐경우에만 append\n",
        "            short_name.append(cut)\n",
        "short_name"
      ]
    },
    {
      "cell_type": "code",
      "source": [
        "from collections import Counter\n",
        "\n",
        "word_counts = Counter(short_name)  # 중복단어 제외(set 하면 배열이 틀어지니까)\n",
        "drop_name = ['39도', '7번', 'OK', '감성', '걸작', '공주', '나인', '대한', '더티', '도우', '땅끝', '뜸들', '띵하', '명작', '미친', '배달', '부대', '비오', '손수', '손이', '쇼부', '수락', '수상', '수상한', '수제', '승도', '시민', '신자', '안녕', '안녕 ', '어시', '여왕', '오늘', '오늘은', '우리', '우리집', '우시', '유쾌', '유쾌한', '이끌', '이배', '이화', '인생', '조형', '직화', '진지', '천년', '청년', '최고', '큰아', '탐나', '팔도', '플러', '플러스', '행복', '행복한', '헬로', '혼밥', '후스']\n",
        "\n",
        "short_name = [word for word in short_name if word_counts[word] == 1 and word not in drop_name]\n",
        "print(len(short_name), short_name)"
      ],
      "metadata": {
        "colab": {
          "base_uri": "https://localhost:8080/"
        },
        "id": "9cnLoeX4TCVY",
        "outputId": "a901862c-2d94-4bed-d347-d6c85cc80f0e"
      },
      "execution_count": 93,
      "outputs": [
        {
          "output_type": "stream",
          "name": "stdout",
          "text": [
            "334 ['1988응답', '1989마라', '39도시락', '39도시', '7번가피자', '7번가피', '7번가', 'GTS버', 'GTS', 'GT', 'OK반점', 'OK반', '갈비민족', '갈비민', '갈비', '감성커피', '감성커', '걸작떡볶', '걸작떡', '고기잔뜩', '고기잔', '고기혁명', '고기혁', '고돼', '고씨네카', '고씨네', '고씨', '공주닭발', '공주닭', '과일에반', '과일에', '과일', '구구', '구래상회', '구래상', '구래', '국수나무', '국수나', '국수', '김포불닭', '김포불', '김포', '깨돌이김', '깨돌이', '깨돌', '꼬알라파', '꼬알라', '꼬알', '나인곱창', '나인곱', '냉면 숯', '냉면 ', '냉면', '놀부 부', '놀부 ', '놀부보쌈', '놀부보', '닭강', '닭장수섭', '닭장수', '닭장', '당치', '대찌 대', '대찌 ', '대찌', '대한냉면', '대한냉', '더티베지', '더티베', '더팔당매', '더팔당', '더팔', '덮덮', '도야짬뽕', '도야짬', '도야', '도우라이', '도우라', '돈까스회', '돈까스', '돈까', '땅끝수산', '땅끝수', '땡초곱창', '땡초곱', '땡초', '떡깨', '띵하오차', '띵하오', '라화방마', '라화방', '라화', '랜돌프뉴', '랜돌프', '랜돌', '롱쓰부대', '롱쓰부', '롱쓰', '마라의신', '마라의', '마라하오', '마라하', '맘스터치', '맘스터', '맘스', '명작파스', '명작파', '모모타코', '모모타', '모모', '모어댄버', '모어댄', '모어', '무국적식', '무국적', '무국', '미락칼국', '미락칼', '미락', '미친피자', '미친피', '밈피', '배달의쌀', '배달의', '병천토속', '병천토', '병천', '보돌미역', '보돌미', '보돌', '본점 장', '본점 ', '본점', '봉명동내', '봉명동', '봉명', '부대찌개', '부대찌', '부산오빠', '부산오', '부산', '부성초밥', '부성초', '부성', '비오키친', '비오키', '빅스타피', '빅스타', '빅스', '빕스얌딜', '빕스얌', '빕스', '빽다', '삼다', '삽교원조', '삽교원', '삽교', '상무초밥', '상무초', '상무', '손수경의', '손수경', '손이가시', '손이가', '송파만다', '송파만', '송파', '쇼부덮밥', '쇼부덮', '수상한삼', '수제죽전', '수제죽', '수피', '순살만공', '순살만', '순살', '스시사소', '스시사', '승도리네', '승도리', '시민보쌈', '시민보', '신자매김', '신자매', '써브웨이', '써브웨', '써브', '안녕 닭', '야키토리', '야키토', '야키', '여왕의브', '여왕의', '올데이케', '올데이파', '왕빈자삼', '왕빈자', '왕빈', '우리집반', '우시장국', '우시장', '울진죽변', '울진죽', '울진', '워커스커', '워커스', '워커', '유쾌한꼬', '육회 연', '육회 ', '육회', '윤희횟집', '윤희횟', '윤희', '이끌림마', '이끌림', '이배달 ', '이배달', '이태리면', '이태리', '이태', '이토우야', '이토우', '이토', '이화수육', '이화수', '인생아구', '인생아', '인생제육', '인생제', '자성', '잭아저씨', '잭아저', '잭아', '저팔계 ', '저팔계', '저팔', '전금례닭', '전금례', '전금', '조형훈족', '조형훈', '직화삼겹', '직화삼', '진지덮밥', '진지덮', '짚신스시', '짚신스', '짚신', '짜글이가', '짜글이', '짜글', '창타이누', '창타이', '창타', '천년닭강', '천년닭', '청년치킨', '청년치', '청춘식당', '청춘식', '청춘', '초밥대통', '초밥대', '초밥', '최가네한', '최가네', '최가', '최고남제', '최고남', '춘리마라', '춘리마', '춘리', '카산', '카페봄봄', '카페봄', '카페', '코브라독', '코브라', '코브', '큰아들백', '큰아들', '킹프레소', '킹프레', '킹프', '탐나는피', '탐나는', '탕화쿵푸', '탕화쿵', '탕화', '텐텐마라', '텐텐마', '텐텐', '팔도한마', '팔도한', '폴트버거', '폴트버', '폴트', '피자보이', '피자보', '피자스웨', '피자스', '피자이탈', '피자이', '피자프라', '피자프', '피제이피', '피제이', '피제', '한식세끼', '한식세', '한식', '행복한찜', '헬로팬닭', '헬로팬', '호랑이초', '호랑이', '호랑', '혼밥대왕', '혼밥대', '홍대개미', '홍대개', '홍대', '홍스족발', '홍스족', '홍스', '홍싸롱 ', '홍싸롱', '홍싸', '황궁쟁반', '황궁쟁', '황궁', '후스폭립', '후스폭']\n"
          ]
        }
      ]
    },
    {
      "cell_type": "code",
      "execution_count": 94,
      "metadata": {
        "colab": {
          "base_uri": "https://localhost:8080/"
        },
        "id": "Vnbi13z1_ueN",
        "outputId": "d3697a48-c3a2-43ee-f737-0308d59febaa"
      },
      "outputs": [
        {
          "output_type": "execute_result",
          "data": {
            "text/plain": [
              "False"
            ]
          },
          "metadata": {},
          "execution_count": 94
        }
      ],
      "source": [
        "\"안녕\" in sorted(short_name)"
      ]
    },
    {
      "cell_type": "code",
      "execution_count": 95,
      "metadata": {
        "id": "xM86fK8dpnFt",
        "colab": {
          "base_uri": "https://localhost:8080/",
          "height": 362
        },
        "outputId": "fa6d1158-670b-4f12-f4fb-0e9155bdfe51"
      },
      "outputs": [
        {
          "output_type": "execute_result",
          "data": {
            "text/plain": [
              "                                 review  \\\n",
              "0  저도 모르게 은근 여기 자주 시켜먹고 있었네요 늘 잘먹고 있습니다   \n",
              "1                 김치찌개 된장찌개 잡채 다 잘먹었습니다   \n",
              "2    처음시켜보는데 맛있고 리뷰서비스도 괜찮네요 다음에도 또시킬듯요   \n",
              "3               맛있습니다 근데 국물이 안와서 아쉽습니다    \n",
              "4                             맛있게잘먹었습니다   \n",
              "\n",
              "                                               reply  star  star_t  star_q  \\\n",
              "0  저희 메뉴 맛있죠 이렇게 빠져 드시는 거에요 그냥 일로서 만드는 게 아니라 진짜 제...     5       5       5   \n",
              "1  전부 잘 드셔 주셔서 감사합니다 좋은 시간을 드리고 싶었어요 열심히 만들었다지만 다...     5       5       5   \n",
              "2  안녕하세요 D 저희 매장을 처음 찾아주신 고객님이시네요 처음 방문이라 주문해 주시기...     5       5       5   \n",
              "3  안녕하세요 1988응답하라추억의옛날도시락입니다 저희 측 실수로 인하여 누락이 되었군...     4       4       4   \n",
              "4   헤헤 고객님 감사해요 맛있게 드셨다니 앞으로도 더 열심히 일할게요 좋은 하루 보내세요      5       5       5   \n",
              "\n",
              "   star_d                               food                        store  \n",
              "0     5.0               제육옛날도시락 김찌 정식 서비스 콜라         1988응답하라추억의옛날도시락 방이점  \n",
              "1     5.0   돼지고기김치찌개 대접밥 우삼겹된장찌개 대접밥 오색빛깔 잡채         1988응답하라추억의옛날도시락 방이점  \n",
              "2     5.0   불맛 제육 옛날도시락 우삼겹옛날도시락 미니냉면 서비스 콜라         1988응답하라추억의옛날도시락 방이점  \n",
              "3     3.0                         양념갈비 옛날도시락  1988응답하라추억의옛날도시락 방이점,1988응답  \n",
              "4     5.0               삼겹정찬도시락 돼지고기김치찌개 대접밥         1988응답하라추억의옛날도시락 방이점  "
            ],
            "text/html": [
              "\n",
              "  <div id=\"df-16328b69-9a4c-4347-a038-b11921d78803\" class=\"colab-df-container\">\n",
              "    <div>\n",
              "<style scoped>\n",
              "    .dataframe tbody tr th:only-of-type {\n",
              "        vertical-align: middle;\n",
              "    }\n",
              "\n",
              "    .dataframe tbody tr th {\n",
              "        vertical-align: top;\n",
              "    }\n",
              "\n",
              "    .dataframe thead th {\n",
              "        text-align: right;\n",
              "    }\n",
              "</style>\n",
              "<table border=\"1\" class=\"dataframe\">\n",
              "  <thead>\n",
              "    <tr style=\"text-align: right;\">\n",
              "      <th></th>\n",
              "      <th>review</th>\n",
              "      <th>reply</th>\n",
              "      <th>star</th>\n",
              "      <th>star_t</th>\n",
              "      <th>star_q</th>\n",
              "      <th>star_d</th>\n",
              "      <th>food</th>\n",
              "      <th>store</th>\n",
              "    </tr>\n",
              "  </thead>\n",
              "  <tbody>\n",
              "    <tr>\n",
              "      <th>0</th>\n",
              "      <td>저도 모르게 은근 여기 자주 시켜먹고 있었네요 늘 잘먹고 있습니다</td>\n",
              "      <td>저희 메뉴 맛있죠 이렇게 빠져 드시는 거에요 그냥 일로서 만드는 게 아니라 진짜 제...</td>\n",
              "      <td>5</td>\n",
              "      <td>5</td>\n",
              "      <td>5</td>\n",
              "      <td>5.0</td>\n",
              "      <td>제육옛날도시락 김찌 정식 서비스 콜라</td>\n",
              "      <td>1988응답하라추억의옛날도시락 방이점</td>\n",
              "    </tr>\n",
              "    <tr>\n",
              "      <th>1</th>\n",
              "      <td>김치찌개 된장찌개 잡채 다 잘먹었습니다</td>\n",
              "      <td>전부 잘 드셔 주셔서 감사합니다 좋은 시간을 드리고 싶었어요 열심히 만들었다지만 다...</td>\n",
              "      <td>5</td>\n",
              "      <td>5</td>\n",
              "      <td>5</td>\n",
              "      <td>5.0</td>\n",
              "      <td>돼지고기김치찌개 대접밥 우삼겹된장찌개 대접밥 오색빛깔 잡채</td>\n",
              "      <td>1988응답하라추억의옛날도시락 방이점</td>\n",
              "    </tr>\n",
              "    <tr>\n",
              "      <th>2</th>\n",
              "      <td>처음시켜보는데 맛있고 리뷰서비스도 괜찮네요 다음에도 또시킬듯요</td>\n",
              "      <td>안녕하세요 D 저희 매장을 처음 찾아주신 고객님이시네요 처음 방문이라 주문해 주시기...</td>\n",
              "      <td>5</td>\n",
              "      <td>5</td>\n",
              "      <td>5</td>\n",
              "      <td>5.0</td>\n",
              "      <td>불맛 제육 옛날도시락 우삼겹옛날도시락 미니냉면 서비스 콜라</td>\n",
              "      <td>1988응답하라추억의옛날도시락 방이점</td>\n",
              "    </tr>\n",
              "    <tr>\n",
              "      <th>3</th>\n",
              "      <td>맛있습니다 근데 국물이 안와서 아쉽습니다</td>\n",
              "      <td>안녕하세요 1988응답하라추억의옛날도시락입니다 저희 측 실수로 인하여 누락이 되었군...</td>\n",
              "      <td>4</td>\n",
              "      <td>4</td>\n",
              "      <td>4</td>\n",
              "      <td>3.0</td>\n",
              "      <td>양념갈비 옛날도시락</td>\n",
              "      <td>1988응답하라추억의옛날도시락 방이점,1988응답</td>\n",
              "    </tr>\n",
              "    <tr>\n",
              "      <th>4</th>\n",
              "      <td>맛있게잘먹었습니다</td>\n",
              "      <td>헤헤 고객님 감사해요 맛있게 드셨다니 앞으로도 더 열심히 일할게요 좋은 하루 보내세요</td>\n",
              "      <td>5</td>\n",
              "      <td>5</td>\n",
              "      <td>5</td>\n",
              "      <td>5.0</td>\n",
              "      <td>삼겹정찬도시락 돼지고기김치찌개 대접밥</td>\n",
              "      <td>1988응답하라추억의옛날도시락 방이점</td>\n",
              "    </tr>\n",
              "  </tbody>\n",
              "</table>\n",
              "</div>\n",
              "    <div class=\"colab-df-buttons\">\n",
              "\n",
              "  <div class=\"colab-df-container\">\n",
              "    <button class=\"colab-df-convert\" onclick=\"convertToInteractive('df-16328b69-9a4c-4347-a038-b11921d78803')\"\n",
              "            title=\"Convert this dataframe to an interactive table.\"\n",
              "            style=\"display:none;\">\n",
              "\n",
              "  <svg xmlns=\"http://www.w3.org/2000/svg\" height=\"24px\" viewBox=\"0 -960 960 960\">\n",
              "    <path d=\"M120-120v-720h720v720H120Zm60-500h600v-160H180v160Zm220 220h160v-160H400v160Zm0 220h160v-160H400v160ZM180-400h160v-160H180v160Zm440 0h160v-160H620v160ZM180-180h160v-160H180v160Zm440 0h160v-160H620v160Z\"/>\n",
              "  </svg>\n",
              "    </button>\n",
              "\n",
              "  <style>\n",
              "    .colab-df-container {\n",
              "      display:flex;\n",
              "      gap: 12px;\n",
              "    }\n",
              "\n",
              "    .colab-df-convert {\n",
              "      background-color: #E8F0FE;\n",
              "      border: none;\n",
              "      border-radius: 50%;\n",
              "      cursor: pointer;\n",
              "      display: none;\n",
              "      fill: #1967D2;\n",
              "      height: 32px;\n",
              "      padding: 0 0 0 0;\n",
              "      width: 32px;\n",
              "    }\n",
              "\n",
              "    .colab-df-convert:hover {\n",
              "      background-color: #E2EBFA;\n",
              "      box-shadow: 0px 1px 2px rgba(60, 64, 67, 0.3), 0px 1px 3px 1px rgba(60, 64, 67, 0.15);\n",
              "      fill: #174EA6;\n",
              "    }\n",
              "\n",
              "    .colab-df-buttons div {\n",
              "      margin-bottom: 4px;\n",
              "    }\n",
              "\n",
              "    [theme=dark] .colab-df-convert {\n",
              "      background-color: #3B4455;\n",
              "      fill: #D2E3FC;\n",
              "    }\n",
              "\n",
              "    [theme=dark] .colab-df-convert:hover {\n",
              "      background-color: #434B5C;\n",
              "      box-shadow: 0px 1px 3px 1px rgba(0, 0, 0, 0.15);\n",
              "      filter: drop-shadow(0px 1px 2px rgba(0, 0, 0, 0.3));\n",
              "      fill: #FFFFFF;\n",
              "    }\n",
              "  </style>\n",
              "\n",
              "    <script>\n",
              "      const buttonEl =\n",
              "        document.querySelector('#df-16328b69-9a4c-4347-a038-b11921d78803 button.colab-df-convert');\n",
              "      buttonEl.style.display =\n",
              "        google.colab.kernel.accessAllowed ? 'block' : 'none';\n",
              "\n",
              "      async function convertToInteractive(key) {\n",
              "        const element = document.querySelector('#df-16328b69-9a4c-4347-a038-b11921d78803');\n",
              "        const dataTable =\n",
              "          await google.colab.kernel.invokeFunction('convertToInteractive',\n",
              "                                                    [key], {});\n",
              "        if (!dataTable) return;\n",
              "\n",
              "        const docLinkHtml = 'Like what you see? Visit the ' +\n",
              "          '<a target=\"_blank\" href=https://colab.research.google.com/notebooks/data_table.ipynb>data table notebook</a>'\n",
              "          + ' to learn more about interactive tables.';\n",
              "        element.innerHTML = '';\n",
              "        dataTable['output_type'] = 'display_data';\n",
              "        await google.colab.output.renderOutput(dataTable, element);\n",
              "        const docLink = document.createElement('div');\n",
              "        docLink.innerHTML = docLinkHtml;\n",
              "        element.appendChild(docLink);\n",
              "      }\n",
              "    </script>\n",
              "  </div>\n",
              "\n",
              "\n",
              "<div id=\"df-bdaa2036-b78a-4c4f-a51e-676ea04d13d9\">\n",
              "  <button class=\"colab-df-quickchart\" onclick=\"quickchart('df-bdaa2036-b78a-4c4f-a51e-676ea04d13d9')\"\n",
              "            title=\"Suggest charts.\"\n",
              "            style=\"display:none;\">\n",
              "\n",
              "<svg xmlns=\"http://www.w3.org/2000/svg\" height=\"24px\"viewBox=\"0 0 24 24\"\n",
              "     width=\"24px\">\n",
              "    <g>\n",
              "        <path d=\"M19 3H5c-1.1 0-2 .9-2 2v14c0 1.1.9 2 2 2h14c1.1 0 2-.9 2-2V5c0-1.1-.9-2-2-2zM9 17H7v-7h2v7zm4 0h-2V7h2v10zm4 0h-2v-4h2v4z\"/>\n",
              "    </g>\n",
              "</svg>\n",
              "  </button>\n",
              "\n",
              "<style>\n",
              "  .colab-df-quickchart {\n",
              "      --bg-color: #E8F0FE;\n",
              "      --fill-color: #1967D2;\n",
              "      --hover-bg-color: #E2EBFA;\n",
              "      --hover-fill-color: #174EA6;\n",
              "      --disabled-fill-color: #AAA;\n",
              "      --disabled-bg-color: #DDD;\n",
              "  }\n",
              "\n",
              "  [theme=dark] .colab-df-quickchart {\n",
              "      --bg-color: #3B4455;\n",
              "      --fill-color: #D2E3FC;\n",
              "      --hover-bg-color: #434B5C;\n",
              "      --hover-fill-color: #FFFFFF;\n",
              "      --disabled-bg-color: #3B4455;\n",
              "      --disabled-fill-color: #666;\n",
              "  }\n",
              "\n",
              "  .colab-df-quickchart {\n",
              "    background-color: var(--bg-color);\n",
              "    border: none;\n",
              "    border-radius: 50%;\n",
              "    cursor: pointer;\n",
              "    display: none;\n",
              "    fill: var(--fill-color);\n",
              "    height: 32px;\n",
              "    padding: 0;\n",
              "    width: 32px;\n",
              "  }\n",
              "\n",
              "  .colab-df-quickchart:hover {\n",
              "    background-color: var(--hover-bg-color);\n",
              "    box-shadow: 0 1px 2px rgba(60, 64, 67, 0.3), 0 1px 3px 1px rgba(60, 64, 67, 0.15);\n",
              "    fill: var(--button-hover-fill-color);\n",
              "  }\n",
              "\n",
              "  .colab-df-quickchart-complete:disabled,\n",
              "  .colab-df-quickchart-complete:disabled:hover {\n",
              "    background-color: var(--disabled-bg-color);\n",
              "    fill: var(--disabled-fill-color);\n",
              "    box-shadow: none;\n",
              "  }\n",
              "\n",
              "  .colab-df-spinner {\n",
              "    border: 2px solid var(--fill-color);\n",
              "    border-color: transparent;\n",
              "    border-bottom-color: var(--fill-color);\n",
              "    animation:\n",
              "      spin 1s steps(1) infinite;\n",
              "  }\n",
              "\n",
              "  @keyframes spin {\n",
              "    0% {\n",
              "      border-color: transparent;\n",
              "      border-bottom-color: var(--fill-color);\n",
              "      border-left-color: var(--fill-color);\n",
              "    }\n",
              "    20% {\n",
              "      border-color: transparent;\n",
              "      border-left-color: var(--fill-color);\n",
              "      border-top-color: var(--fill-color);\n",
              "    }\n",
              "    30% {\n",
              "      border-color: transparent;\n",
              "      border-left-color: var(--fill-color);\n",
              "      border-top-color: var(--fill-color);\n",
              "      border-right-color: var(--fill-color);\n",
              "    }\n",
              "    40% {\n",
              "      border-color: transparent;\n",
              "      border-right-color: var(--fill-color);\n",
              "      border-top-color: var(--fill-color);\n",
              "    }\n",
              "    60% {\n",
              "      border-color: transparent;\n",
              "      border-right-color: var(--fill-color);\n",
              "    }\n",
              "    80% {\n",
              "      border-color: transparent;\n",
              "      border-right-color: var(--fill-color);\n",
              "      border-bottom-color: var(--fill-color);\n",
              "    }\n",
              "    90% {\n",
              "      border-color: transparent;\n",
              "      border-bottom-color: var(--fill-color);\n",
              "    }\n",
              "  }\n",
              "</style>\n",
              "\n",
              "  <script>\n",
              "    async function quickchart(key) {\n",
              "      const quickchartButtonEl =\n",
              "        document.querySelector('#' + key + ' button');\n",
              "      quickchartButtonEl.disabled = true;  // To prevent multiple clicks.\n",
              "      quickchartButtonEl.classList.add('colab-df-spinner');\n",
              "      try {\n",
              "        const charts = await google.colab.kernel.invokeFunction(\n",
              "            'suggestCharts', [key], {});\n",
              "      } catch (error) {\n",
              "        console.error('Error during call to suggestCharts:', error);\n",
              "      }\n",
              "      quickchartButtonEl.classList.remove('colab-df-spinner');\n",
              "      quickchartButtonEl.classList.add('colab-df-quickchart-complete');\n",
              "    }\n",
              "    (() => {\n",
              "      let quickchartButtonEl =\n",
              "        document.querySelector('#df-bdaa2036-b78a-4c4f-a51e-676ea04d13d9 button');\n",
              "      quickchartButtonEl.style.display =\n",
              "        google.colab.kernel.accessAllowed ? 'block' : 'none';\n",
              "    })();\n",
              "  </script>\n",
              "</div>\n",
              "    </div>\n",
              "  </div>\n"
            ]
          },
          "metadata": {},
          "execution_count": 95
        }
      ],
      "source": [
        "for name in short_name:\n",
        "    train[name] = train['reply'].apply(lambda x: name if name in x else '') # 각 가게 별로 컬럼 추가(그렇지 않으면 덮어쓰기 됨)\n",
        "    train['store'] = train.apply(lambda row: row['store'] + ',' + row[name] if row[name] else row['store'], axis=1) # store 컬럼에 컬럼 값 합치기\n",
        "\n",
        "train['store'] = train['store'].apply(lambda x: x[1:] if x.startswith(',') else x) # 첫 번째 문자가 콤마인 경우 제거\n",
        "train = train.drop(columns=short_name) # 각 가게 별 컬럼 삭제\n",
        "train.head()"
      ]
    },
    {
      "cell_type": "code",
      "source": [
        "train[train['store'].str.contains(short_name[3])].index"
      ],
      "metadata": {
        "colab": {
          "base_uri": "https://localhost:8080/"
        },
        "id": "Hq-PRZVZVVTg",
        "outputId": "6818d05d-9e1e-46d6-9d37-083839f3b0fe"
      },
      "execution_count": 96,
      "outputs": [
        {
          "output_type": "execute_result",
          "data": {
            "text/plain": [
              "Int64Index([16143, 16144, 16145, 16146, 16147, 16148, 16149, 16150, 16151,\n",
              "            16152,\n",
              "            ...\n",
              "            16251, 16252, 16253, 16254, 16255, 16256, 16257, 16258, 16259,\n",
              "            16260],\n",
              "           dtype='int64', length=118)"
            ]
          },
          "metadata": {},
          "execution_count": 96
        }
      ]
    },
    {
      "cell_type": "code",
      "source": [
        "train.iloc[16143]"
      ],
      "metadata": {
        "colab": {
          "base_uri": "https://localhost:8080/"
        },
        "id": "gsh1azieVVAG",
        "outputId": "f4e86c81-6e37-4269-8a72-4711d03103e5"
      },
      "execution_count": 97,
      "outputs": [
        {
          "output_type": "execute_result",
          "data": {
            "text/plain": [
              "review                                   약간 탄맛이 있었지만 맛있었습니다\n",
              "reply     소중한 리뷰 감사합니다 맛있는 식사시간이 될수 있게 더 노력하겠습니다 오늘도 멋진 ...\n",
              "star                                                      4\n",
              "star_t                                                    4\n",
              "star_q                                                    4\n",
              "star_d                                                  5.0\n",
              "food                      TOKYO현지레시피 일본식 소고기덮밥 규동 카레 돈까스 세트\n",
              "store                                                 39도시락\n",
              "Name: 16143, dtype: object"
            ]
          },
          "metadata": {},
          "execution_count": 97
        }
      ]
    },
    {
      "cell_type": "markdown",
      "metadata": {
        "id": "QgyJipXjfCgV"
      },
      "source": [
        "### 여기까지 저장하기"
      ]
    },
    {
      "cell_type": "code",
      "execution_count": 98,
      "metadata": {
        "id": "u9kKkxzOfCgW"
      },
      "outputs": [],
      "source": [
        "# train.to_csv(f\"{DATA_PATH}yogiyo_reviews_0905_clean.csv\", index=False)"
      ]
    },
    {
      "cell_type": "markdown",
      "source": [
        "### 음식명 변수화"
      ],
      "metadata": {
        "id": "tOkhA1jxWip4"
      }
    },
    {
      "cell_type": "code",
      "source": [
        "# # 너무 많고 혼잡해서 사용x\n",
        "# food_name = []\n",
        "# for i in range(len(train['food'])):\n",
        "#     names = train['food'][i].split()\n",
        "#     for name in names:\n",
        "#         if re.match(r'^[가-힣]', name): # 한글로 시작하는 경우만 append\n",
        "#             food_name.append(name)\n",
        "# food_name = sorted(list(set(food_name)))"
      ],
      "metadata": {
        "id": "jBLZtiOUWh3e"
      },
      "execution_count": 99,
      "outputs": []
    },
    {
      "cell_type": "code",
      "source": [],
      "metadata": {
        "id": "L0Lp2bFzWhyd"
      },
      "execution_count": null,
      "outputs": []
    },
    {
      "cell_type": "code",
      "source": [],
      "metadata": {
        "id": "fgclVVxWWhwA"
      },
      "execution_count": null,
      "outputs": []
    },
    {
      "cell_type": "code",
      "source": [],
      "metadata": {
        "id": "s49w9CDIWhuD"
      },
      "execution_count": null,
      "outputs": []
    },
    {
      "cell_type": "code",
      "source": [],
      "metadata": {
        "id": "7yAvWYeVWhsd"
      },
      "execution_count": null,
      "outputs": []
    },
    {
      "cell_type": "code",
      "source": [],
      "metadata": {
        "id": "ODHKLbVMWhop"
      },
      "execution_count": null,
      "outputs": []
    },
    {
      "cell_type": "code",
      "source": [],
      "metadata": {
        "id": "CybHCPbIWhmI"
      },
      "execution_count": null,
      "outputs": []
    },
    {
      "cell_type": "code",
      "source": [],
      "metadata": {
        "id": "BjtAFLZkWhjm"
      },
      "execution_count": null,
      "outputs": []
    },
    {
      "cell_type": "code",
      "source": [],
      "metadata": {
        "id": "84bJ6INWWhhJ"
      },
      "execution_count": null,
      "outputs": []
    },
    {
      "cell_type": "code",
      "source": [],
      "metadata": {
        "id": "BRtdopJ4Whev"
      },
      "execution_count": null,
      "outputs": []
    },
    {
      "cell_type": "code",
      "source": [],
      "metadata": {
        "id": "W2CSGXArWhcj"
      },
      "execution_count": null,
      "outputs": []
    },
    {
      "cell_type": "code",
      "source": [],
      "metadata": {
        "id": "N9WaNVMzWhaD"
      },
      "execution_count": null,
      "outputs": []
    },
    {
      "cell_type": "code",
      "source": [],
      "metadata": {
        "id": "gqq-Ms8_WhXl"
      },
      "execution_count": null,
      "outputs": []
    },
    {
      "cell_type": "code",
      "source": [],
      "metadata": {
        "id": "uesJQ0rVWhU-"
      },
      "execution_count": null,
      "outputs": []
    },
    {
      "cell_type": "markdown",
      "metadata": {
        "id": "PaGc_YUhTYYn"
      },
      "source": [
        "### 가게명 키워드 reply에서 삭제"
      ]
    },
    {
      "cell_type": "code",
      "execution_count": null,
      "metadata": {
        "id": "N-9qG73x_ueO",
        "outputId": "0ee86b0e-7afc-4bc4-93ec-d05f7f965a8b"
      },
      "outputs": [
        {
          "data": {
            "text/html": [
              "<div>\n",
              "<style scoped>\n",
              "    .dataframe tbody tr th:only-of-type {\n",
              "        vertical-align: middle;\n",
              "    }\n",
              "\n",
              "    .dataframe tbody tr th {\n",
              "        vertical-align: top;\n",
              "    }\n",
              "\n",
              "    .dataframe thead th {\n",
              "        text-align: right;\n",
              "    }\n",
              "</style>\n",
              "<table border=\"1\" class=\"dataframe\">\n",
              "  <thead>\n",
              "    <tr style=\"text-align: right;\">\n",
              "      <th></th>\n",
              "      <th>review</th>\n",
              "      <th>reply</th>\n",
              "      <th>star</th>\n",
              "      <th>store</th>\n",
              "    </tr>\n",
              "  </thead>\n",
              "  <tbody>\n",
              "    <tr>\n",
              "      <th>0</th>\n",
              "      <td>리뷰가 늦었네요 맛있게 잘 먹었습니다 또 시킬게요</td>\n",
              "      <td>좋은 리뷰 덕분에 기분이 행복해지는 것 같아요 고객님께서 맛있다고 말씀 주시니 피로...</td>\n",
              "      <td>5</td>\n",
              "      <td></td>\n",
              "    </tr>\n",
              "    <tr>\n",
              "      <th>1</th>\n",
              "      <td>잘 먹었습니다 다만 주문에 있던 펩시콜라는 받지 못했습니다</td>\n",
              "      <td>소중한 식사 시간에 저희 매장을 찾아 주셔서 감사드립니다 저희를 찾아 주신 만큼 1...</td>\n",
              "      <td>5</td>\n",
              "      <td></td>\n",
              "    </tr>\n",
              "    <tr>\n",
              "      <th>2</th>\n",
              "      <td>굿 말이 필요 없는 메뉴 였습니다</td>\n",
              "      <td>수 많은 매장들을 헤치고 와주셔서 감사합니다 저희 매장의 메뉴를 제대로 즐기신 거 ...</td>\n",
              "      <td>5</td>\n",
              "      <td></td>\n",
              "    </tr>\n",
              "    <tr>\n",
              "      <th>3</th>\n",
              "      <td>맛있어요 양도많구좋음</td>\n",
              "      <td>수 많은 매장들을 헤치고 와주셔서 감사합니다 메뉴 그 자체로 행복을 드리고 싶었는데...</td>\n",
              "      <td>5</td>\n",
              "      <td></td>\n",
              "    </tr>\n",
              "    <tr>\n",
              "      <th>4</th>\n",
              "      <td>양많고 맛있었어요</td>\n",
              "      <td>저희 매장 찾아주신 것도 감사한데 리뷰까지 감동입니다 고객님들의 배고픔을 저희는 지...</td>\n",
              "      <td>5</td>\n",
              "      <td></td>\n",
              "    </tr>\n",
              "    <tr>\n",
              "      <th>...</th>\n",
              "      <td>...</td>\n",
              "      <td>...</td>\n",
              "      <td>...</td>\n",
              "      <td>...</td>\n",
              "    </tr>\n",
              "    <tr>\n",
              "      <th>11223</th>\n",
              "      <td>맛있게 잘 먹었습니다.</td>\n",
              "      <td>더 노력하는 보둘미역이 되도록 최선을 다해 보겠습니다 맛있는 음식 만들어 주셔서 감...</td>\n",
              "      <td>4</td>\n",
              "      <td></td>\n",
              "    </tr>\n",
              "    <tr>\n",
              "      <th>11224</th>\n",
              "      <td>시원한 국물이 더 많았으면 국물 맛은 더 시원했을 것 같아요 시원한 국을 시원하게 ...</td>\n",
              "      <td>배달용기에 국물을 더 부우시면 국물이 흘러 내리기 때문에 혹시라도 모자라면 댁에서 ...</td>\n",
              "      <td>4</td>\n",
              "      <td>우시</td>\n",
              "    </tr>\n",
              "    <tr>\n",
              "      <th>11225</th>\n",
              "      <td>맛있어요 포장도 꼼꼼하고 무엇보다 반찬이 짜지 않고 맛있어요 구성이 여러 가지라 더...</td>\n",
              "      <td>보통은 1인분에 2인분 정도 먹는 것으로 알고 있는데 많은 분들이 그렇게 적게 주셨...</td>\n",
              "      <td>4</td>\n",
              "      <td></td>\n",
              "    </tr>\n",
              "    <tr>\n",
              "      <th>11226</th>\n",
              "      <td>양이 진짜 많아요 진짜 많이 많이 덕분에 맛있게 먹었어요</td>\n",
              "      <td>맛있게 잘 먹었고 별 다섯 개 드리도록 하겠습니다 맛있게 먹어 주셔서 감사합니다</td>\n",
              "      <td>4</td>\n",
              "      <td></td>\n",
              "    </tr>\n",
              "    <tr>\n",
              "      <th>11227</th>\n",
              "      <td>항상 잘 들어주시고 잘 챙겨주셨는데 오늘은 못 드려서 아쉬웠어요 그래도 맛있게 잘 ...</td>\n",
              "      <td>죄송해요 여러분 다음에도 또 이용할게요 너무 늦어서 정말 죄송합니다</td>\n",
              "      <td>4</td>\n",
              "      <td></td>\n",
              "    </tr>\n",
              "  </tbody>\n",
              "</table>\n",
              "<p>11228 rows × 4 columns</p>\n",
              "</div>"
            ],
            "text/plain": [
              "                                                  review   \n",
              "0                           리뷰가 늦었네요 맛있게 잘 먹었습니다 또 시킬게요   \\\n",
              "1                      잘 먹었습니다 다만 주문에 있던 펩시콜라는 받지 못했습니다    \n",
              "2                                     굿 말이 필요 없는 메뉴 였습니다   \n",
              "3                                            맛있어요 양도많구좋음   \n",
              "4                                              양많고 맛있었어요   \n",
              "...                                                  ...   \n",
              "11223                                       맛있게 잘 먹었습니다.   \n",
              "11224  시원한 국물이 더 많았으면 국물 맛은 더 시원했을 것 같아요 시원한 국을 시원하게 ...   \n",
              "11225  맛있어요 포장도 꼼꼼하고 무엇보다 반찬이 짜지 않고 맛있어요 구성이 여러 가지라 더...   \n",
              "11226                    양이 진짜 많아요 진짜 많이 많이 덕분에 맛있게 먹었어요   \n",
              "11227  항상 잘 들어주시고 잘 챙겨주셨는데 오늘은 못 드려서 아쉬웠어요 그래도 맛있게 잘 ...   \n",
              "\n",
              "                                                   reply  star store  \n",
              "0      좋은 리뷰 덕분에 기분이 행복해지는 것 같아요 고객님께서 맛있다고 말씀 주시니 피로...     5        \n",
              "1      소중한 식사 시간에 저희 매장을 찾아 주셔서 감사드립니다 저희를 찾아 주신 만큼 1...     5        \n",
              "2      수 많은 매장들을 헤치고 와주셔서 감사합니다 저희 매장의 메뉴를 제대로 즐기신 거 ...     5        \n",
              "3      수 많은 매장들을 헤치고 와주셔서 감사합니다 메뉴 그 자체로 행복을 드리고 싶었는데...     5        \n",
              "4      저희 매장 찾아주신 것도 감사한데 리뷰까지 감동입니다 고객님들의 배고픔을 저희는 지...     5        \n",
              "...                                                  ...   ...   ...  \n",
              "11223  더 노력하는 보둘미역이 되도록 최선을 다해 보겠습니다 맛있는 음식 만들어 주셔서 감...     4        \n",
              "11224  배달용기에 국물을 더 부우시면 국물이 흘러 내리기 때문에 혹시라도 모자라면 댁에서 ...     4    우시  \n",
              "11225  보통은 1인분에 2인분 정도 먹는 것으로 알고 있는데 많은 분들이 그렇게 적게 주셨...     4        \n",
              "11226       맛있게 잘 먹었고 별 다섯 개 드리도록 하겠습니다 맛있게 먹어 주셔서 감사합니다     4        \n",
              "11227              죄송해요 여러분 다음에도 또 이용할게요 너무 늦어서 정말 죄송합니다     4        \n",
              "\n",
              "[11228 rows x 4 columns]"
            ]
          },
          "execution_count": 56,
          "metadata": {},
          "output_type": "execute_result"
        }
      ],
      "source": [
        "train_.dropna(subset=['store'])"
      ]
    },
    {
      "cell_type": "code",
      "execution_count": null,
      "metadata": {
        "id": "uXxrziGm_ueO",
        "outputId": "c489a664-8042-4036-c2fe-1a3918521e0b"
      },
      "outputs": [
        {
          "data": {
            "text/plain": [
              "RangeIndex(start=0, stop=11228, step=1)"
            ]
          },
          "execution_count": 57,
          "metadata": {},
          "output_type": "execute_result"
        }
      ],
      "source": [
        "train_[train_['store'].notna()].index"
      ]
    },
    {
      "cell_type": "code",
      "execution_count": null,
      "metadata": {
        "colab": {
          "base_uri": "https://localhost:8080/",
          "height": 424
        },
        "id": "l6J8tf3eM4Yv",
        "outputId": "d59de939-2433-4153-efbf-6d9784db7221"
      },
      "outputs": [
        {
          "data": {
            "text/html": [
              "<div>\n",
              "<style scoped>\n",
              "    .dataframe tbody tr th:only-of-type {\n",
              "        vertical-align: middle;\n",
              "    }\n",
              "\n",
              "    .dataframe tbody tr th {\n",
              "        vertical-align: top;\n",
              "    }\n",
              "\n",
              "    .dataframe thead th {\n",
              "        text-align: right;\n",
              "    }\n",
              "</style>\n",
              "<table border=\"1\" class=\"dataframe\">\n",
              "  <thead>\n",
              "    <tr style=\"text-align: right;\">\n",
              "      <th></th>\n",
              "      <th>review</th>\n",
              "      <th>reply</th>\n",
              "      <th>star</th>\n",
              "      <th>store</th>\n",
              "    </tr>\n",
              "  </thead>\n",
              "  <tbody>\n",
              "    <tr>\n",
              "      <th>0</th>\n",
              "      <td>리뷰가 늦었네요 맛있게 잘 먹었습니다 또 시킬게요</td>\n",
              "      <td>좋은 리뷰 덕분에 기분이 행복해지는 것 같아요 고객님께서 맛있다고 말씀 주시니 피로...</td>\n",
              "      <td>5</td>\n",
              "      <td></td>\n",
              "    </tr>\n",
              "    <tr>\n",
              "      <th>1</th>\n",
              "      <td>잘 먹었습니다 다만 주문에 있던 펩시콜라는 받지 못했습니다</td>\n",
              "      <td>소중한 식사 시간에 저희 매장을 찾아 주셔서 감사드립니다 저희를 찾아 주신 만큼 1...</td>\n",
              "      <td>5</td>\n",
              "      <td></td>\n",
              "    </tr>\n",
              "    <tr>\n",
              "      <th>2</th>\n",
              "      <td>굿 말이 필요 없는 메뉴 였습니다</td>\n",
              "      <td>수 많은 매장들을 헤치고 와주셔서 감사합니다 저희 매장의 메뉴를 제대로 즐기신 거 ...</td>\n",
              "      <td>5</td>\n",
              "      <td></td>\n",
              "    </tr>\n",
              "    <tr>\n",
              "      <th>3</th>\n",
              "      <td>맛있어요 양도많구좋음</td>\n",
              "      <td>수 많은 매장들을 헤치고 와주셔서 감사합니다 메뉴 그 자체로 행복을 드리고 싶었는데...</td>\n",
              "      <td>5</td>\n",
              "      <td></td>\n",
              "    </tr>\n",
              "    <tr>\n",
              "      <th>4</th>\n",
              "      <td>양많고 맛있었어요</td>\n",
              "      <td>저희 매장 찾아주신 것도 감사한데 리뷰까지 감동입니다 고객님들의 배고픔을 저희는 지...</td>\n",
              "      <td>5</td>\n",
              "      <td></td>\n",
              "    </tr>\n",
              "    <tr>\n",
              "      <th>...</th>\n",
              "      <td>...</td>\n",
              "      <td>...</td>\n",
              "      <td>...</td>\n",
              "      <td>...</td>\n",
              "    </tr>\n",
              "    <tr>\n",
              "      <th>11223</th>\n",
              "      <td>맛있게 잘 먹었습니다.</td>\n",
              "      <td>더 노력하는 보둘미역이 되도록 최선을 다해 보겠습니다 맛있는 음식 만들어 주셔서 감...</td>\n",
              "      <td>4</td>\n",
              "      <td></td>\n",
              "    </tr>\n",
              "    <tr>\n",
              "      <th>11224</th>\n",
              "      <td>시원한 국물이 더 많았으면 국물 맛은 더 시원했을 것 같아요 시원한 국을 시원하게 ...</td>\n",
              "      <td>배달용기에 국물을 더 부우시면 국물이 흘러 내리기 때문에 혹시라도 모자라면 댁에서 ...</td>\n",
              "      <td>4</td>\n",
              "      <td>우시</td>\n",
              "    </tr>\n",
              "    <tr>\n",
              "      <th>11225</th>\n",
              "      <td>맛있어요 포장도 꼼꼼하고 무엇보다 반찬이 짜지 않고 맛있어요 구성이 여러 가지라 더...</td>\n",
              "      <td>보통은 1인분에 2인분 정도 먹는 것으로 알고 있는데 많은 분들이 그렇게 적게 주셨...</td>\n",
              "      <td>4</td>\n",
              "      <td></td>\n",
              "    </tr>\n",
              "    <tr>\n",
              "      <th>11226</th>\n",
              "      <td>양이 진짜 많아요 진짜 많이 많이 덕분에 맛있게 먹었어요</td>\n",
              "      <td>맛있게 잘 먹었고 별 다섯 개 드리도록 하겠습니다 맛있게 먹어 주셔서 감사합니다</td>\n",
              "      <td>4</td>\n",
              "      <td></td>\n",
              "    </tr>\n",
              "    <tr>\n",
              "      <th>11227</th>\n",
              "      <td>항상 잘 들어주시고 잘 챙겨주셨는데 오늘은 못 드려서 아쉬웠어요 그래도 맛있게 잘 ...</td>\n",
              "      <td>죄송해요 여러분 다음에도 또 이용할게요 너무 늦어서 정말 죄송합니다</td>\n",
              "      <td>4</td>\n",
              "      <td></td>\n",
              "    </tr>\n",
              "  </tbody>\n",
              "</table>\n",
              "<p>11228 rows × 4 columns</p>\n",
              "</div>"
            ],
            "text/plain": [
              "                                                  review   \n",
              "0                           리뷰가 늦었네요 맛있게 잘 먹었습니다 또 시킬게요   \\\n",
              "1                      잘 먹었습니다 다만 주문에 있던 펩시콜라는 받지 못했습니다    \n",
              "2                                     굿 말이 필요 없는 메뉴 였습니다   \n",
              "3                                            맛있어요 양도많구좋음   \n",
              "4                                              양많고 맛있었어요   \n",
              "...                                                  ...   \n",
              "11223                                       맛있게 잘 먹었습니다.   \n",
              "11224  시원한 국물이 더 많았으면 국물 맛은 더 시원했을 것 같아요 시원한 국을 시원하게 ...   \n",
              "11225  맛있어요 포장도 꼼꼼하고 무엇보다 반찬이 짜지 않고 맛있어요 구성이 여러 가지라 더...   \n",
              "11226                    양이 진짜 많아요 진짜 많이 많이 덕분에 맛있게 먹었어요   \n",
              "11227  항상 잘 들어주시고 잘 챙겨주셨는데 오늘은 못 드려서 아쉬웠어요 그래도 맛있게 잘 ...   \n",
              "\n",
              "                                                   reply  star store  \n",
              "0      좋은 리뷰 덕분에 기분이 행복해지는 것 같아요 고객님께서 맛있다고 말씀 주시니 피로...     5        \n",
              "1      소중한 식사 시간에 저희 매장을 찾아 주셔서 감사드립니다 저희를 찾아 주신 만큼 1...     5        \n",
              "2      수 많은 매장들을 헤치고 와주셔서 감사합니다 저희 매장의 메뉴를 제대로 즐기신 거 ...     5        \n",
              "3      수 많은 매장들을 헤치고 와주셔서 감사합니다 메뉴 그 자체로 행복을 드리고 싶었는데...     5        \n",
              "4      저희 매장 찾아주신 것도 감사한데 리뷰까지 감동입니다 고객님들의 배고픔을 저희는 지...     5        \n",
              "...                                                  ...   ...   ...  \n",
              "11223  더 노력하는 보둘미역이 되도록 최선을 다해 보겠습니다 맛있는 음식 만들어 주셔서 감...     4        \n",
              "11224  배달용기에 국물을 더 부우시면 국물이 흘러 내리기 때문에 혹시라도 모자라면 댁에서 ...     4    우시  \n",
              "11225  보통은 1인분에 2인분 정도 먹는 것으로 알고 있는데 많은 분들이 그렇게 적게 주셨...     4        \n",
              "11226       맛있게 잘 먹었고 별 다섯 개 드리도록 하겠습니다 맛있게 먹어 주셔서 감사합니다     4        \n",
              "11227              죄송해요 여러분 다음에도 또 이용할게요 너무 늦어서 정말 죄송합니다     4        \n",
              "\n",
              "[11228 rows x 4 columns]"
            ]
          },
          "execution_count": 49,
          "metadata": {},
          "output_type": "execute_result"
        }
      ],
      "source": [
        "# store 값이 있는 행만 가져오기\n",
        "train_del = train_[train_['store'].notna()]\n",
        "train_del"
      ]
    },
    {
      "cell_type": "code",
      "execution_count": null,
      "metadata": {
        "colab": {
          "base_uri": "https://localhost:8080/"
        },
        "id": "3RNNyICeMxSK",
        "outputId": "125062f6-c7e4-4d65-da44-b5e299fd5a99"
      },
      "outputs": [
        {
          "data": {
            "text/plain": [
              "0          []\n",
              "1          []\n",
              "2          []\n",
              "3          []\n",
              "4          []\n",
              "         ... \n",
              "11223      []\n",
              "11224    [우시]\n",
              "11225      []\n",
              "11226      []\n",
              "11227      []\n",
              "Name: store, Length: 11228, dtype: object"
            ]
          },
          "execution_count": 24,
          "metadata": {},
          "output_type": "execute_result"
        }
      ],
      "source": [
        "# store 를 리스트로 변환(반복문을 위해)\n",
        "train_del['store'] = train_del['store'].str.split(',')\n",
        "train_del['store']"
      ]
    },
    {
      "cell_type": "code",
      "execution_count": null,
      "metadata": {
        "colab": {
          "base_uri": "https://localhost:8080/",
          "height": 146
        },
        "id": "bxKLEmBDO9F4",
        "outputId": "e8df17c4-1b09-458e-a856-d25549f56ba8"
      },
      "outputs": [
        {
          "data": {
            "text/plain": [
              "0                                                         \n",
              "1                                                         \n",
              "2                                                         \n",
              "3                                                         \n",
              "4                                                         \n",
              "                               ...                        \n",
              "11223                                                     \n",
              "11224    배달용기에 국물을 더 국물이 흘러 내리기 때문에 혹시라도 모자라면 댁에서 생수를 조...\n",
              "11225                                                     \n",
              "11226                                                     \n",
              "11227                                                     \n",
              "Name: reply, Length: 11228, dtype: object"
            ]
          },
          "execution_count": 26,
          "metadata": {},
          "output_type": "execute_result"
        }
      ],
      "source": [
        "del_reply = []\n",
        "for reply, store_words in zip(train_del['reply'], train_del['store']):\n",
        "    reply_words = reply.split()\n",
        "    new_reply_words = []\n",
        "    for reply_word in reply_words:\n",
        "        if not any(store_word in reply_word for store_word in store_words): # store_words에 있는 단어가 어떤 단어에도 포함되지 않으면 추가\n",
        "            new_reply_words.append(reply_word)\n",
        "\n",
        "    new_reply = ' '.join(new_reply_words)\n",
        "    del_reply.append(new_reply)\n",
        "\n",
        "train_del['reply'] = del_reply\n",
        "train_del['reply']"
      ]
    },
    {
      "cell_type": "code",
      "execution_count": null,
      "metadata": {
        "colab": {
          "base_uri": "https://localhost:8080/",
          "height": 35
        },
        "id": "m5GjWTZePx9e",
        "outputId": "d13c76f2-e1c6-4eb8-c73b-3d3b23d981a7"
      },
      "outputs": [
        {
          "data": {
            "text/plain": [
              "0                                                         \n",
              "1                                                         \n",
              "2                                                         \n",
              "3                                                         \n",
              "4                                                         \n",
              "                               ...                        \n",
              "11223                                                     \n",
              "11224    배달용기에 국물을 더 국물이 흘러 내리기 때문에 혹시라도 모자라면 댁에서 생수를 조...\n",
              "11225                                                     \n",
              "11226                                                     \n",
              "11227                                                     \n",
              "Name: reply, Length: 11228, dtype: object"
            ]
          },
          "execution_count": 30,
          "metadata": {},
          "output_type": "execute_result"
        }
      ],
      "source": [
        "# train 셋에 반영\n",
        "train[\"reply\"] = train_del['reply']\n",
        "train[\"reply\"]"
      ]
    },
    {
      "cell_type": "markdown",
      "metadata": {
        "id": "BlrPw8SETc9a"
      },
      "source": [
        "### 지점명 reply에서 삭제"
      ]
    },
    {
      "cell_type": "code",
      "execution_count": null,
      "metadata": {
        "colab": {
          "base_uri": "https://localhost:8080/"
        },
        "id": "0qz8d2S5Th1p",
        "outputId": "3e0f22c0-2f68-4498-896e-65d14d68f82a"
      },
      "outputs": [
        {
          "data": {
            "text/plain": [
              "0        좋은 리뷰 덕분에 기분이 행복해지는 것 같아요 고객님께서 맛있다고 말씀 주시니 피로...\n",
              "1        소중한 식사 시간에 저희 매장을 찾아 주셔서 감사드립니다 저희를 찾아 주신 만큼 1...\n",
              "2        수 많은 매장들을 헤치고 와주셔서 감사합니다 저희 매장의 메뉴를 제대로 즐기신 거 ...\n",
              "3        수 많은 매장들을 헤치고 와주셔서 감사합니다 메뉴 그 자체로 행복을 드리고 싶었는데...\n",
              "4        저희 매장 찾아주신 것도 감사한데 리뷰까지 감동입니다 고객님들의 배고픔을 저희는 지...\n",
              "                               ...                        \n",
              "11223    더 노력하는 보둘미역이 되도록 최선을 다해 보겠습니다 맛있는 음식 만들어 주셔서 감...\n",
              "11224    배달용기에 국물을 더 부우시면 국물이 흘러 내리기 때문에 혹시라도 모자라면 댁에서 ...\n",
              "11225    보통은 1인분에 2인분 정도 먹는 것으로 알고 있는데 많은 분들이 그렇게 적게 주셨...\n",
              "11226         맛있게 잘 먹었고 별 다섯 개 드리도록 하겠습니다 맛있게 먹어 주셔서 감사합니다\n",
              "11227                죄송해요 여러분 다음에도 또 이용할게요 너무 늦어서 정말 죄송합니다\n",
              "Name: reply, Length: 11228, dtype: object"
            ]
          },
          "execution_count": 60,
          "metadata": {},
          "output_type": "execute_result"
        }
      ],
      "source": [
        "pattern = re.compile(r'\\S+점')\n",
        "train_[\"reply\"].apply(lambda x: pattern.sub('', x)) #__점 제거"
      ]
    },
    {
      "cell_type": "markdown",
      "metadata": {
        "id": "ss4USUowbBkz"
      },
      "source": [
        "- 개별 삭제"
      ]
    },
    {
      "cell_type": "code",
      "execution_count": null,
      "metadata": {
        "colab": {
          "base_uri": "https://localhost:8080/"
        },
        "id": "aC5fqBpXT8N7",
        "outputId": "221707e2-6c44-4304-a32e-9add02d5adec"
      },
      "outputs": [
        {
          "data": {
            "text/plain": [
              "1        좋은 리뷰 덕분에 기분이 행복해지는 것 같아요 고객님께서 맛있다고 말씀 주시니 피로...\n",
              "2        소중한 식사 시간에 저희 매장을 찾아 주셔서 감사드립니다 저희를 찾아 주신 만큼 1...\n",
              "3        수 많은 매장들을 헤치고 와주셔서 감사합니다 저희 매장의 메뉴를 제대로 즐기신 거 ...\n",
              "4        수 많은 매장들을 헤치고 와주셔서 감사합니다 메뉴 그 자체로 행복을 드리고 싶었는데...\n",
              "5        저희 매장 찾아주신 것도 감사한데 리뷰까지 감동입니다 고객님들의 배고픔을 저희는 지...\n",
              "                               ...                        \n",
              "18671    요청사항 언제든 환영입니다 맛있게 드셔주셔서 감사합니다 리뷰 감사합니다 다음에 또 ...\n",
              "18674                    맛있게 드셔주셔서 감사합니다 별 5개 받도록 노력하겠습니다 \n",
              "18678                                     헉 부산에서 처음 감사합니당 \n",
              "18680        아마 두툼하게 썰려서 그런것 같습니다 다음에도 이용해주신다면 만족시켜드리겠습니다 \n",
              "18682                                   죄송합니다 다음에도 애용해주세용 \n",
              "Name: reply, Length: 10502, dtype: object"
            ]
          },
          "execution_count": 62,
          "metadata": {},
          "output_type": "execute_result"
        }
      ],
      "source": [
        "train[train['reply'].str.contains(\"당신은 지금 치킨이 당긴다 헬리오 시티점입니다\")].index\n",
        "\n",
        "remove_keywords = [\"당신은 지금 치킨이 당긴다 헬리오 시티점입니다\",]\n",
        "for keyword in remove_keywords:\n",
        "    train['reply'] = train['reply'].str.replace(keyword, '')\n",
        "\n",
        "train['reply']"
      ]
    },
    {
      "cell_type": "markdown",
      "metadata": {
        "id": "h5p6j59e_ueQ"
      },
      "source": [
        "# reply 전체 paraphrase"
      ]
    },
    {
      "cell_type": "code",
      "execution_count": null,
      "metadata": {
        "colab": {
          "referenced_widgets": [
            "d3c8318601474b79b9359173eda674b9"
          ]
        },
        "id": "L7gf4ZjL_ueR",
        "outputId": "dfbf3c16-a264-42da-ec23-da5342840e17"
      },
      "outputs": [
        {
          "data": {
            "application/vnd.jupyter.widget-view+json": {
              "model_id": "d3c8318601474b79b9359173eda674b9",
              "version_major": 2,
              "version_minor": 0
            },
            "text/plain": [
              "  0%|          | 0/11228 [00:00<?, ?it/s]"
            ]
          },
          "metadata": {},
          "output_type": "display_data"
        },
        {
          "data": {
            "text/plain": [
              "['힘든 주방일에 치이고 있는 와중에도 맛있는 요리 해 주시는 고객님 덕분에 저도 기분이 좋습니다.',\n",
              " '저희 매장을 찾아와 주신 여러분께 감사의 말씀을 전하며 더 좋은 요리와 멋진 요리로 보답하겠습니다.',\n",
              " '저희 가게 앞에 와주신 많은 분들께 감사의 말씀 전합니다.',\n",
              " '항상 노력하고 발전하는 곳에서 고객님의 만족도를 높여 드릴 것을 약속하겠습니다.',\n",
              " '저희 매장을 찾아와 주신 고객님들께 감사의 뜻을 전하고 싶고 또 그 고마움을 나눌 수 있기 위해 늘 노력하겠습니다.',\n",
              " '맛있는 시간이 되었다니 정말 다행입니다 저희 매장은 재료부터 맛 포장 서비스 모든 면에 진심을 담아 고객님이 완벽하게 행복하실 수 있도록 노력하겠습니다 다음에 또 만나요',\n",
              " '저희 매장은 항상 최선을 다해 고객을 대하고 맛과 양, 서비스 등 모든 면에서 최고를 추구하는 곳으로 기억될 수 있도록 노력하겠습니다.',\n",
              " '저희 매장을 방문해 주신 고객님께 감사의 인사를 전하며 다음에 또 좋은 요리로 찾아 뵙겠습니다.',\n",
              " '저희 브랜드와 이렇게 맛있는 순간을 함께 해 주셔서 감사합니다 부족한 부분도 있겠지만 이렇게 좋은 마음을 드릴 수 있어서 얼마나 감사한지 몰라요',\n",
              " '고객님의 별 다섯 개 후기와 따뜻한 칭찬으로 크게 성장할 수 있게 도와주신 매장을 선택해 주셔서 감사합니다.',\n",
              " '저희를 믿고 찾아와 주신 모든 분들께 감사의 마음을 전하며 앞으로도 더욱 좋은 요리와 서비스로 찾아 뵙겠습니다.',\n",
              " '누구나 존재하는 행복인 배부름의 행복을 너무 잘 알기에 언제나 손님분들께 그 행복감을 전해 드리고 싶습니다',\n",
              " '저희 1988응답하라추억의옛날 소풍 메뉴는 항상 양이 적다라고 느껴지시는 분들을 위해 제가 정량을 지켜서 요리하겠습니다.',\n",
              " '저희 매장을 방문해 주신 분들께 감사의 뜻을 전하고 싶고 앞으로도 더 좋은 요리로 찾아 뵙도록 노력하겠습니다.',\n",
              " '항상 건강하시고 행복하시기를 기원하며 오늘도 기분 좋은 하루 되세요 저희 매장을 방문해 주셔서 감사합니다',\n",
              " '저희 매장은 항상 고객님의 입장에서 생각해봅니다 맛과 양 서비스 모든 부분에서 부족한 점은 없는지 항상 고민하고 노력하겠습니다 언제나 기분 좋은 일들만 가득하시길 바랍니다',\n",
              " '항상 풍성한 서비스를 드리겠다고 다짐했던 기억이 있어요 손이 크다는 말을 많이 듣는데 이렇게 큰 칭찬을 해주셔서 감사합니다.',\n",
              " '잘 봐 주신 것에 대해 다시 한 번 감사의 말씀을 드립니다. 앞으로는 더 좋은 제품으로 찾아 뵙겠습니다.',\n",
              " '저희 매장은 언제나 청결한 매장 상태와 신선한 재료 관리 그리고 깨끗한 조리 과정을 유지하기 위해 오전 일찍 출근 했어요 고객님께 좋은 요리를 해 드릴 수 있어서 감사합니다.',\n",
              " '든든한 한끼 식사가 되셨을까요 가족에게 드리는 마음으로 나가고 있는데 입맛에 맞으셨다니 다행입니다 앞으로도 믿고 시켜주실 수 있게 초심 잃지 않고 계속 노력하겠습니다.',\n",
              " '항상 좋은 맛과 좋은 서비스로 보답해 주시는 만큼 우리 가게를 방문해 주셔서 감사합니다.',\n",
              " '저희 매장을 방문해 주신 분들께 감사의 인사를 전하며 이렇게 좋은 후기를 써 주셔서 고맙습니다.',\n",
              " '저희 매장을 방문해주시고 써주신 분들의 좋은 점이나 단점이 무엇인지 알려주시면 정말 감사하겠습니다.',\n",
              " '맛있는 요리를 맘껏 드시는 건 절대로 배가 부른 게 아닙니다 저희가 제공해 드리는 요리에 중독이 되시는 그날까지 저희들은 절대 멈추지 않겠습니다 오늘도 행복한 하루 되세요',\n",
              " '항상 최고의 맛만 준비해 드릴 것이라는 마음으로 항상 노력하고 있는 저희 매장을 믿고 맡겨 주셔서 감사합니다.',\n",
              " '저희 매장을 방문해 주신 고객님께 감사의 뜻을 전하고 더 좋은 요리와 서비스를 제공해 주시기 위해 더욱 노력하겠습니다.',\n",
              " '저희 매장을 찾아와 주신 긴 시간 동안 수고해 주셔서 감사합니다. 항상 웃는 모습으로 맞아 주셔서 고맙습니다.',\n",
              " '항상 생각하지만 저희 매장을 찾아와 주시고 맛있는 음식을 제공해주시는 고객님께 감사의 마음을 전하고 싶습니다.',\n",
              " '항상 메뉴 고민을 많이 하시는데 오늘 저희 매장을 찾아와 주셔서 감사합니다. 다음에 또 맛있는 메뉴로 찾아 뵙겠습니다.',\n",
              " '항상 최고의 요리로 보답하겠습니다 항상 최선을 다해 고객님께 요리해 드릴 것을 약속하겠습니다.',\n",
              " '항상 건강에 유의하시고 행복한 일들만 가득하길 바라요 제 가게를 찾아와 주셔서 감사합니다.',\n",
              " '든든한 한끼 식사가 되셨나요? 가족에게 전하는 마음으로 나가고 있는데 입맛에 맞으신다면 앞으로도 더 좋은 요리로 찾아 뵐게요.',\n",
              " '저희는 항상 최선을 다해 고객님의 행복을 전달해 드릴 것을 약속하며 오늘도 행복한 하루를 만들고 있습니다.',\n",
              " '저희를 믿고 찾아와 주신 귀한 발걸음에 실망감을 드린 것 같아 마음이 아프실 것 같은데 다음에 또 맛있는 요리로 찾아오겠습니다.',\n",
              " '저희 매장은 배달 전문 업체로 고객님의 요청이 있을 경우 최대한 빠른 처리를 위해 노력하고 있으며 특히 메뉴 안내가 끝난 후에도 고객님들이 매장을 찾지 못할 경우 신속히 처리해 드리고 있습니다.',\n",
              " '항상 푸짐한 음식을 차려 내겠다는 다짐을 갖고 계신데요 저희 가게를 찾아와 주신 손님들께 감사의 뜻을 전하고 싶습니다.',\n",
              " '저희 매장을 찾아와 주신 많은 분들께 감사드립니다 늘 감사하는 마음으로 일하고 있는 만큼 더욱 열심히 하겠습니다 감사합니다',\n",
              " '저희 매장을 방문해 주신 분들께 감사의 말씀을 드립니다. 다만 아직 부족한 밑반찬에 대해서는 내부적으로 다시 한 번 점검해 주시기 바랍니다.',\n",
              " '맛있는 사진 한 장 올려 주셔서 감사합니다 맛있게 드실게요 :) 이렇게 좋은 하루를 만들어 주셔서 고맙습니다.',\n",
              " '직접 담근 효소로 요리를 하시니까 맛도 좋을 뿐 아니라 더 맛있게 드실 수 있을 것으로 기대됩니다.',\n",
              " '저희 매장을 방문해 주신 많은 분들께 감사의 말씀을 전하며 더 맛있는 요리로 찾아 뵙겠습니다.',\n",
              " '저희 매장은 배달 전문 업체로 고객님의 요청이 있을 경우 최대한 신속하게 처리해 드리고 있으나 배달이 늦어질 경우 고객님께 불편을 드려 죄송합니다.',\n",
              " '저희 매장은 배달 전문 업체로 고객님의 요청이 있을 경우 신속한 처리를 위해 대기 시간을 30분에서 1시간 정도로 줄이고 있습니다.',\n",
              " '항상 행복한 시간을 보내주실 수 있는 매장을 만들기 위해 최선을 다해 노력하겠습니다.',\n",
              " '고객님의 입맛을 저격할 수 있는 요리를 위해 오늘도 최선을 다해 준비하는 요리사 김미숙 선생님과 함께 하겠습니다.',\n",
              " '맛도 서비스도 모든 것이 만족스러운 가게가 되고 싶습니다 서비스는 물론이고 포장 음식까지 남김없이 다 해 드리고 싶습니다',\n",
              " '저희 1988응답하라추억의옛날도시락을 사랑해 주셔서 감사합니다.',\n",
              " '맛있는 요리와 행복한 하루를 위해 매일 노력하는 저희 가게에 늘 응원의 메시지를 보내주시는 분들께 감사드립니다.',\n",
              " '맛있는 요리 소개해 주셔서 감사합니다 다음에도 또 찾아주세요 :) 끝까지 최선을 다해 요리해 드릴게요.',\n",
              " '좋은 하루를 함께 해 주신 여러분께 감사드립니다. 좋은 요리 만들어 주실 때 항상 응원하겠습니다.',\n",
              " '이렇게 좋은 글 써 주셔서 감사합니다 또 좋은 요리 만들어 주시면 또 찾아 뵐게요.',\n",
              " '저희 매장을 방문해 주신 분들께 감사의 인사를 전하며 이렇게 좋은 후기를 써 주셔서 고맙습니다.',\n",
              " '즐겁고 행복한 설날에 저희 가게를 찾아와 주셔서 감사합니다.',\n",
              " '항상 그렇듯 저희 매장을 방문해 주시고 맛있는 요리를 제공해주시는 분들께 감사의 마음을 전하며 항상 최선을 다해 노력하겠습니다.',\n",
              " '저희 매장을 방문해 주신 분들께 감사의 인사를 전하며 다시 한번 더 좋은 제품으로 찾아 뵙겠습니다.',\n",
              " '저희 매장을 찾아와 주신 분들께 감사의 말씀을 전하며 더 열심히 일하도록 하겠습니다 항상 응원하겠습니다.',\n",
              " '고객님의 소중한 메뉴 기다리는 그 시간을 생각하면 저희가 늦게 배송할 이유가 하나도 없죠 항상 건강 잘 챙기시고 기분 좋은 일들만 가득하시길 바라요',\n",
              " '종합 선물 세트를 이렇게 좋은 가격에 주실 수 있게 해 주셔서 감사합니다.',\n",
              " '고객님들께서 저희 메뉴를 드시고 환히 웃는 모습을 보면서 하루를 시작하시면 좋겠습니다. 오늘도 저희 매장을 찾아와 주셔서 감사합니다.',\n",
              " '이렇게 좋은 제품 만들어 주셔서 감사합니다. 항상 맛있는 요리 만들어 보겠습니다.',\n",
              " '항상 행복하고 기쁜 일만 가득하길 바라면서 오늘도 최선을 다해 응원하겠습니다.',\n",
              " '저희 매장을 믿고 찾아와 주셔서 감사드립니다 항상 감사하는 마음으로 일하고 있는 만큼 더 좋은 요리와 서비스로 찾아뵙겠습니다.',\n",
              " '저희 매장을 찾아와 주셨던 많은 분들께 감사의 마음을 전하며 앞으로도 더 좋은 요리와 좋은 서비스로 찾아 뵙겠습니다.',\n",
              " '잘 먹었다고 내일 인사해야지 우리 가게 찾아와 줘서 고마웠으니까',\n",
              " '고객님의 마음에 드실 수 있도록 최선을 다해 노력하겠습니다. 맛도 서비스도 최고! 최고의 메뉴로 보답하겠습니다.',\n",
              " '항상 행복한 일들만 가득하길 바라는 마음으로 맛있는 음식과 따뜻한 마음을 드릴 수 있는 가게가 되도록 노력하겠습니다.',\n",
              " '고객님의 행복한 시간이 될 수 있도록 항상 노력하는 저희 매장이 되도록 노력하겠습니다.',\n",
              " '항상 부족한 저희 메뉴에 만족을 못 드려 죄송했는데 이렇게 좋은 말씀을 해 주셔서 감사합니다.',\n",
              " '처음 저희 매장을 찾아와 주신 고객님께 감사의 마음을 전하고 싶고 앞으로도 더 좋은 요리와 서비스로 찾아 뵙겠습니다.',\n",
              " '항상 저희에게 기대를 주시고 찾아주시는 분들께 감사의 마음을 전하며 늘 최선을 다해 노력하겠습니다.',\n",
              " '든든한 한끼 식사가 되셨나요? 가족에게 전하는 마음으로 나가고 있는데 입맛에 맞으신다면 앞으로도 더 좋은 요리로 찾아 뵐게요.',\n",
              " '오늘 뭐먹지 라는 고민 끝에 큰 결심을 하시고 저희 매장을 찾아와 주셔서 대단히 감사합니다 오늘 어떤 문제에서 가장 정확한 답이 될 수 있도록 노력하겠습니다',\n",
              " '좋은 답글과 감사 답글을 주셔서 감사합니다. 지금 이 순간에도 매장을 운영하시는 분들에게 힘이 될 것 같습니다.',\n",
              " '항상 행복하게 해드리고 싶은 저희의 마음 진심이 닿아서 너무 감사합니다 고객님 행복한 순간엔 항상 저희가 있길 바라며 더욱 더 노력하겠습니다 하시는 일 모두 번창하시길 진심으로 바랍니다',\n",
              " '고객님의 입맛을 저격할 수 있는 차별화된 요리를 위해 노력하겠습니다.',\n",
              " '항상 맛있는 메뉴를 배부를 때까지 먹는 건 제 소원 중 하나였는데 저희 매장 방문해 주신 것도 감사한데 리뷰까지 감동입니다.',\n",
              " '최고의 칭찬 감사드립니다 항상 최선을 다해 노력하는 저희 매장을 찾아와 주신 고객님들께 감사의 마음을 전하고 있습니다 맛있는 요리 소개해 주셔서 정말 감사드립니다.',\n",
              " '저는 양이나 질이나 서비스 면에서도 만족을 많이 시켜 드리고 싶은 욕심이 정말 많은데 이렇게 좋은 말씀을 해 주셔서 감사합니다.',\n",
              " '후하게 별 5개를 쏴주신 것도 감사한데 우리 고객님이 이렇게 정성스러운 사진 후기를 써 주셔서 감사합니다 앞으로도 잘 부탁드립니다 후하게',\n",
              " '항상 행복한 순간을 사진으로 담는 것처럼 고객님의 행복한, 늘 건강한 나날들이 되시길 기원합니다.',\n",
              " '항상 빠르게 받아 볼 수 있게 최선을 다해 노력하는 만큼 더욱 좋은 제품으로 보답하겠습니다.',\n",
              " '저희가 미처 생각하지 못한 부분이 있기 때문에 다시 한번 감사의 마음을 전하고 싶습니다.',\n",
              " '맛있는 음식으로 항상 고객을 감동시키는 1988년 응답하라 추억의 옛날 간식을 소개합니다.',\n",
              " '가족에게 든든한 한 끼 식사를 선물하고 싶다면 1988응답하라추억의옛날도시락을 찾아주세요.',\n",
              " '고객님께서 주문하신 메뉴를 정성스럽게 준비하여 포장도 꼼꼼히 보내드렸는데 배달 중에 이상 없이 잘 전달된 거 같아 다행입니다 행복한 시간이 되셨나요',\n",
              " '맛있는 요리로 여러분의 고민을 해결해 드리겠습니다. 감사합니다.',\n",
              " '저희 가게를 찾아와 주셔서 감사합니다 음식은 역시 맛이 제일 중요한데 그 기본을 칭찬해 주셔서 감동입니다 아직도 요리를 공부하고 연습하고 있거든요',\n",
              " '항상 맛있는 요리를 제공해 주시는 만큼 더 좋은 요리 연구가 되시길 기원합니다.',\n",
              " '항상 고객님께 감사의 마음을 전하며 맛있는 음식을 제공해 드릴 뿐 아니라 항상 웃는 모습으로 저희를 기억해 주시기 바랍니다.',\n",
              " '저희 매장을 처음 방문하신 고객님이시라니 믿고 주문해 주셔서 감사합니다 다음에도 또 맛있는 요리와 감사한 서비스로 찾아 뵙겠습니다.',\n",
              " '저희 매장을 찾아와 주신 여러분께 감사의 뜻을 전하고 싶고 더 좋은 요리와 다양한 정보 또한 얻고 싶습니다.',\n",
              " '저희 매장을 방문해 주신 분들께 감사의 뜻을 전하고 싶어서 이렇게 글을 작성하게 되었습니다.',\n",
              " '저희 매장에서 항상 주문해 주시고 좋은 평과 함께 해 주시는 분들 덕분에 오늘 좀 많이 행복하고 기분 좋아요.',\n",
              " '항상 행복하고 기쁜 일만 가득하길 바라면서 오늘도 최선을 다해 응원하겠습니다.',\n",
              " '제가 행복한 마음을 전달해 드린 것처럼 고객님도 행복하시면 좋겠습니다.',\n",
              " '이렇게 좋은 자리를 마련해 주신 여러분께 감사의 마음을 전하며 더 좋은 요리와 서비스로 찾아 뵙겠습니다.',\n",
              " '저희 매장은 항상 최선을 다해 고객을 대하고 최고의 맛과 양, 서비스로 항상 노력하는 곳으로 기억되고 싶습니다.',\n",
              " '처음 방문해 주신 고객님이시군요 저희 메뉴가 입맛에도 잘 맞아서 너무 행복합니다 이렇게 찾아주셔서 감사합니다 다음에도 기억에 남는 메뉴로 보답하겠습니다.',\n",
              " '항상 건강하시고 좋은 날만 가득하길 기원합니다 맛은 기본이고 양과 서비스까지 갖춰야 한다는 그 마음으로 저희 매장을 찾아와 주신 손님들께 항상 감사드립니다.',\n",
              " '항상 행복하게 해드리고 싶은 저희의 마음 진심이 닿아서 너무 감사합니다 고객님 행복한 순간엔 항상 저희가 있길 바라며 더욱 더 노력하겠습니다 하시는 일 모두 번창하시길 진심으로 바랍니다',\n",
              " '오늘 뭐먹지 라는 고민 끝에 큰 결심을 하시고 저희 매장을 찾아와 주신 고객님께 맛있는 시간을 제공해드린 것 같아 기분이 뿌듯하네요 언제든 신호만 주시면 바로 달려가겠습니다',\n",
              " '소중한 시간 동안 저희 매장을 방문해 주신 고객님께 감사의 마음을 전하며 더 좋은 요리와 멋진 요리를 만들어 보겠습니다.',\n",
              " '이렇게 좋은 제품을 만들어 주셔서 감사합니다 항상 고객님께 최선을 다해 요리해 드리겠습니다.',\n",
              " '항상 행복하고 기쁜 일만 가득하길 바라면서 오늘도 최선을 다해 고객님께 요리를 해드릴 것을 알기에 제가 더 열심히 하겠습니다.',\n",
              " '항상 곁에서 최선을 다하는 매장이 될 것을 약속드립니다 저희 메뉴와 함께 소중한 시간 보내주신 분들께 감사드립니다.',\n",
              " '항상 건강에 유의하시고 행복한 일들만 가득하길 바라요 제 가게를 찾아와 주셔서 감사합니다.',\n",
              " '저희 메뉴가 생각날 때 다시 찾아 뵐 수 있도록 더 열심히 공부하도록 하겠습니다 맛으로 승부하는 것이 아닌 행복하고 감사한 시간으로 만들겠습니다 감사합니다',\n",
              " '좋은 말씀 해 주셔서 감사합니다 저희 메뉴로 행복한 시간 보내셨는지요 제가 매장을 운영하면서 느끼는 감사함을 함께 담아 노력 많이 했는데 고객님도 행복하시면 좋겠습니다.',\n",
              " '저희 1988응답하라추억의옛날도시락은 맛있게 드실 수 있도록 재료와 조리 과정을 정성스럽게 준비했습니다.',\n",
              " '저는 양이나 질이나 서비스 면에서도 만족을 많이 시켜 드리고 싶은 욕심이 정말 많은데 이렇게 좋은 기회를 주셔서 감사합니다.',\n",
              " '항상 최고의 맛을 위해 노력하는 매장이 될 것을 굳게 신뢰하며 고객님의 성원에 힘입어 힘을 내겠습니다.',\n",
              " '항상 손님들이 저희 가게를 찾아와 주셔서 감사합니다 덕분에 더 좋은 자리를 마련할 수 있었어요 감사합니다',\n",
              " '항상 맛있는 요리로 행복한 밥상을 제공해 드리는 저희 푸드스타일리스트 이혜정 선생님을 너무 감사드립니다.',\n",
              " '저희 매장을 처음 방문해 주신 고객님께 감사의 마음을 전하며, 맛있는 음식으로 행복한 시간 되시기 바랍니다.',\n",
              " '저희 매장은 항상 깨끗한 매장 상태와 신선한 재료 관리 그리고 깨끗한 조리 과정을 유지하기 위해 오전 일찍 문을 열지만 고객님들이 만족해 주시면 감사하겠습니다.',\n",
              " '저희 매장을 방문해 주신 고객님께 감사의 인사를 전하며 더 좋은 요리와 서비스로 보답하겠습니다.',\n",
              " '저희는 단순한 메뉴가 아닌 감동을 드리기 위해 항상 노력하고 있습니다 저희 메뉴를 떠올리실 때마다 기대 하시도록 그리고 그 기대에 보답할 수 있도록 최선을 다해 노력하겠습니다.',\n",
              " '고객님의 소중한 시간에 저희가 같이 할 수 있어서 영광이었습니다 별 다섯 개짜리 후기 써 주신 것도 감사한데 이렇게 좋은 말씀을 해 주셔서 감사합니다.',\n",
              " '항상 고객님의 만족도를 높이기 위해 노력하는 저희 매장 덕분에 항상 웃는 일만 가득한 매장이 될 수 있었습니다.',\n",
              " '정말 맛있어 보이는 음식이라 주문할 때마다 고민을 많이 하시는데 맛있게 만들어 주셔서 감사합니다 :) 또 맛있는 음식으로 찾아 뵐게요 :)',\n",
              " '저희 1988응답하라추억의옛날도시락은 언제나 약속 드린 정량을 지키기 위해 노력하고 있습니다 전달 시 준비 과정을 다시 살펴 보고 혹시 부족한 점은 없는지 검토해 보겠습니다.',\n",
              " '항상 노력해서 별을 따도록 하겠습니다 저희 매장을 찾아와 주셔서 감사합니다 덕분에 소중한 시간을 보내드렸습니다.',\n",
              " '저희 매장을 방문해 주신 분들께 감사의 마음을 전하며 더 좋은 요리와 좋은 서비스로 보답하겠습니다.',\n",
              " '중독성 강한 저희 매장이 생각날 때 다시 찾아 뵙겠습니다 맛있는 음식만 제공해 드릴 수 있는 행복한 하루가 되시길 기원합니다.',\n",
              " '항상 우리 곁에 있어 주시고 기억해 주셔서 감사합니다 맛도 최고지만 양과 서비스까지 최고의 식당으로 만들겠습니다 내일 또 찾아 뵐게요',\n",
              " '저희 매장을 찾아와 주신 분들께 감사의 뜻을 전하고 더 열심히 공부해서 다음에도 좋은 일만 가득하길 기원하겠습니다.',\n",
              " '저희 브랜드와 소중한 순간을 함께 해주신 고객님께 감사의 마음을 전하며 앞으로도 더 좋은 제품과 서비스로 찾아 뵙겠습니다.',\n",
              " '항상 같은 만족감을 드릴 수 있도록 최선을 다해 운영 하겠습니다 고객 관점에서 불편함이 없는지 항상 고민하고 개선해 나아가 앞으로도 기대에 실망 시키지 않고 더 맛있는 맛과 서비스를 제공하는 것을 약속하겠습니다.',\n",
              " '고객님의 입맛을 저격할 수 있는 요리를 찾아 항상 노력하는 가게가 되기를 진심으로 기원합니다.',\n",
              " '최선을 다해 고객님께 음식을 전달해 드릴 것을 약속하겠습니다. 다음에도 더 좋은 요리와 서비스로 찾아 뵙겠습니다.',\n",
              " '항상 맛있게 해주시는 만큼 더 좋은 요리로 찾아 뵐게요 감사합니다.',\n",
              " '저희를 찾아와 주셔서 정말 감사드립니다.',\n",
              " '항상 최고의 맛을 위해 노력하는 만큼 항상 감사하는 마음으로 함께 하겠습니다 다음에도 맛있는 요리로 찾아 뵐게요.',\n",
              " '맛있는 요리와 건강한 밥상을 위해 더 노력하는 병원이 되기를 진심으로 바랍니다.',\n",
              " '저희 매장 생각날 때 또 찾아주시면 감사하겠습니다 오늘도 최선을 다해 준비한 만큼 맛있는 요리 만들어 보겠습니다',\n",
              " '고객님의 마음에 드실 수 있도록 최선을 다해 노력하겠습니다. 맛도 서비스도 최고! 최고의 메뉴로 보답하겠습니다.',\n",
              " '항상 행복한 시간을 보내주실 수 있는 매장을 위해 노력하겠습니다.',\n",
              " '더 나은 브랜드는 고객에 의해 만들어지는 것임을 알기에 고객 관점에서 더욱 만족하실 수 있도록 전진해서 나가겠습니다 앞으로도 이번과 같은 만족감 드릴 수 있게 노력 하겠습니다더',\n",
              " '더 나은 브랜드는 고객에 의해 만들어지는 것임을 알기에 고객 관점에서 더욱 만족하실 수 있도록 전진해서 나가겠습니다 이 감사한 마음 담을 수 있게 하겠습니다.',\n",
              " '최근 저희 직원들이 올린 블로그 글들이 저희 메뉴에 대한 만족도가 높게 나타난 것에 대해 좋은 평가를 내리고 있어 더 좋은 요리와 서비스를 위해 노력하고 있습니다.',\n",
              " '저희 1988응답하라추억의옛날도시락은 맛이 없는 음식은 안 드리려고 노력하고 있어요 맛있게 드실 수 있게 최선을 다해 노력하겠습니다.',\n",
              " '고객을 생각하는 마음 2 더 나은 맛과 서비스 3 최선을 다하는 직원들의 마음 이 세 가지를 잊지 않고 더욱 노력하겠습니다 다시 찾아주셔도 5점 받을 수 있게 방심하지 않고 노력하겠습니다',\n",
              " '소중한 시간 동안 저희 매장을 찾아와 주신 분들께 감사의 뜻을 전하고 싶고 앞으로도 더 많은 사랑 부탁드립니다.',\n",
              " '이렇게 좋은 말씀 드릴 수 있어서 정말 감사드립니다.',\n",
              " '저희 매장을 믿고 찾아와 주셔서 감사합니다 다음에도 더 좋은 요리와 멋진 서비스로 찾아 뵙겠습니다.',\n",
              " '언제나 행복한 밥상을 위해 노력하는 1988응답하라추억의옛날도시락이 되도록 노력하겠습니다.',\n",
              " '오늘 제가 드린 별점 평가에 만족해 주셔서 감사합니다 맛있게 먹어 주신 것만으로도 감사한데 행복한 시간이 된 것 같습니다.',\n",
              " '저희를 발전시켜 주신 많은 분들께 감사의 말씀 드립니다.',\n",
              " '저희 1988응답하라추억의옛날도시락을 맛있게 해 주셔서 감사합니다.',\n",
              " '항상 고객님이 주문해 주시면 감사하는 마음으로 최선을 다해 노력하는 업체가 될 게요 그럼 항상 건강 유의 하시구요',\n",
              " '저희 1988응답하라추억의옛날도시락이 다음에도 고객만족도를 위해 최선을 다해 노력하겠습니다.',\n",
              " '저희 매장을 방문해 주신 고객님께 감사의 뜻을 전하고 싶고 앞으로도 고객님의 니즈에 맞춘 다양한 서비스를 제공해 주시기 위해 더욱 노력하겠습니다.',\n",
              " '항상 행복한 기억만 남게 해 드릴 수 있도록 최선을 다해 노력하는 만큼 고객님이 만족할 수 있는 요리를 만들어 보도록 하겠습니다.',\n",
              " '맛있는 음식은 언제나 봐도 기분이 좋아지는 것 같아요 더 맛있는 요리로 찾아 뵐게요 감사합니다.',\n",
              " '힘든 주방일에 치이고 있는 와중에도 맛있는 요리 해 주시는 고객님 덕분에 저도 기분이 좋습니다.',\n",
              " '고객님 안녕하세요 저희를 믿고 찾아와 주신 소중한 발걸음에 불편을 드려 대단히 죄송합니다 다음에는 더 좋은 내용으로 찾아 뵙겠습니다.',\n",
              " '맛있는 요리와 시원한 밥상에 힘이 될 것 같습니다.',\n",
              " '무더운 여름 우리의 힘이 되어줄 워커스 만의 특별한 음료와 함께 해 주세요.',\n",
              " '저희 디저트와 라떼 음료까지 모두 주문해주셨군요 맛있게 드셔주셔서 감사합니다 무더운 여름 시원하게 당과 카페인 충전 하세요',\n",
              " '저희 워커스의 비장의 무기인 미생세트를 여러 명이 드실 때 찾아주시는 군요 항상 커피가 필요한 워커스들을 응원합니다 소중한 주문 후기 감사합니다.',\n",
              " '커피를 사랑하는 마음에 방해가 되지 않도록 최선을 다해 노력하겠습니다 감사합니다. 소중한 후기 부탁 드립니다.',\n",
              " '무더운 여름 날에 더 맛있게 드실 수 있는 워커스커피 만들어 보겠습니다.',\n",
              " '드시는 동안 즐겁고 행복한 시간이 되시길 바랍니다 다시 찾아와 주셔서 감사합니다',\n",
              " '잘 못 챙겨 드려서 죄송합니다 덕분에 맛있게 드실 수 있었습니다 다시 한번 감사드립니다 :)',\n",
              " '무더운 여름 시원한 커피가 생각날 때 찾아주시면 감사하겠습니다.',\n",
              " '고객님 어렵게 주문해주셨는데 저희가 그 서비스를 만족시키지 못한 것 같아서 정말 죄송합니다 다음부터는 우리가 고객님들에게 여러 번 말씀드리겠습니다',\n",
              " '저희 간판 메뉴 하나가 맛있게 잘 먹었다고 내일 연락 주시면 또 찾아 뵙겠습니다.',\n",
              " '덥고 습한 여름 커피 생각날 때 찾아주세요 주문해주신 분은 감사드립니다 더운 여름 디저트와 함께 하는 커피로 좋은 시간 되시길 바랍니다',\n",
              " '커피와 디저트를 함께 즐길 수 있는 좋은 시간이 되었기를 바라며 주문해주신 분께 다시 한 번 감사드립니다.',\n",
              " '바쁜 일상 속 잠깐의 휴식을 커피와 함께 즐길 수 있는 디저트 메뉴로 준비해 드린 저희에게 주문해 주셔서 감사합니다.',\n",
              " '커피맛집 라떼맛집 워커스 무더운 여름 시원한 커피 마시고 싶다면 방문해보세요.',\n",
              " '커피 못지않게 디저트도 신경 써서 준비했는데 맛있게 만들어주세요 :) 소중한 후기 잘 써 주신 분께 감사드립니다.',\n",
              " '항상 찾아주시는 분들께 감사의 마음을 전하며 함께 워커스커피를 즐기는 그날을 저희도 기대해보겠습니다.',\n",
              " '좋은 원두와 알맞은 시기의 주문으로 항상 정성스러운 주문을 보답하는 워커스가 되도록 노력하겠습니다.',\n",
              " '커피와 디저트의 조합은 아주 좋은 것 같아요 다음에 또 맛있는 디저트 카페를 찾아 뵐게요 감사합니다',\n",
              " '음료를 맛있게 드실 수 있도록 만들어주신 선생님께 감사의 뜻을 전하고 주말 잘 보내십시오.',\n",
              " '저희 단체 단체 미생세트를 드시는 동안 일상의 피로가 조금은 가셨기를 바랍니다 소중한 주문과 리뷰 감사드립니다 끝까지 파이팅 하세요',\n",
              " '커피뿐 아니라 다른 음료도 기대 이상으로 맛있게 만들어 보도록 노력하겠습니다.',\n",
              " '맛있는 디저트와 커피를 드시게 해 주셔서 감사합니다.',\n",
              " '입맛에 맞는 달콤한 디저트와 함께 즐거운 시간 보내셨기를 바랍니다 다시 한번 믿고 찾아와 주셔서 감사드립니다',\n",
              " '커피뿐만 아니라 디저트도 신경 써서 판매하고 있어서 환절기 건강에 유의하시기 바랍니다.',\n",
              " '커피와 함께 하는 디저트로 좋은 시간 보내셨기를 바랍니다 주문해주신 감사드립니다 즐거운 시간 되세요.',\n",
              " '커피뿐만 아니라 디저트류도 신경 써서 만들어 보고 있는데 정성스러운 후기 부탁드립니다.',\n",
              " '맛있는 크로넛과 따뜻한 커피 한 잔 할 수 있는 디저트 카페 오늘 하루도 감사했습니다.',\n",
              " '따뜻한 아메리카노랑 함께 한 입에 딱 맞는 맛있는 와플을 만들어 주셔서 감사합니다 앞으로도 자주 이용하겠습니다.',\n",
              " '항상 워커스를 믿고 찾아와 주셔서 감사드립니다. 맛있게 드실 수 있는 디저트 카페를 찾아주세요.',\n",
              " '저희 워커스 베스트 메뉴를 빠짐없이 섭렵하신 아드님 덕분에 환절기 건강도 챙기시고 자주 방문하겠습니다.',\n",
              " '저희 필살기인 미생세트에 1L 주문해주셨는데 빨리 맛있는 커피를 드실 수 있도록 항상 노력하겠습니다.',\n",
              " \"커피와 함께 즐기기 좋은 디저트 카페 '빈스빈스' 당일 한정 판매 및 오후 늦게는 품절될 수 있습니다.\",\n",
              " '항상 좋은 커피를 위해 노력하는 만큼 또 좋은 내용으로 찾아오겠습니다 감사합니다.',\n",
              " '커피와 함께하는 디저트로 좋은 시간 보내셨기를 바랍니다 디저트도 커피 못지않게 신경 써서 준비하겠습니다.',\n",
              " '커피와 어울리는 디저트를 찾아 주시는 고객님께 감사의 마음을 전하며, 로투스의 자체 제작 제품인 캔커피와 와플 등은 후기 작성 후 랜덤으로 보내드리고 있습니다.',\n",
              " '송파로 오신 걸 환영합니다 잠실로 찾아와 주셔서 감사합니다 자주 찾아주세요 소중한 주문 후기 부탁드립니다',\n",
              " '소중한 주문과 후기 그리고 맛있게 먹어주셨다니 고객님도 최고죠 감사합니다 고객님 덕분에 이렇게 좋은 제품을 만들어 볼 수 있었습니다.',\n",
              " '자주 찾아 주셔서 소중한 정보 감사드립니다 달콤한 디저트와 함께 행복한 시간 보내셨기를 바랍니다',\n",
              " '커피 못지않게 디저트도 신경 써서 만들어 드리고 있는데 오늘 맛있는 디저트 만들어 주셔서 감사합니다.',\n",
              " '좋은 원두와 좋은 제품으로 보답하는 워커스 항상 최선을 다해 고객을 대하고 있습니다.',\n",
              " '커피 못지않게 디저트도 신경 써서 준비한 만큼 맛있게 잘 먹을게요 :) 감사합니다! 카페와 함께 마시면 더욱 좋은 디저트, 커피 맛있게 마시겠습니다.',\n",
              " '커피 못지않게 디저트에도 신경을 많이 쓰는 저희 워커스이지만 고객님들이 사랑해주시는 만큼 최선을 다해 노력하겠습니다.',\n",
              " '좋은 커피와 좋은 메뉴로 보답하는 카페로 최선을 다해 노력하겠습니다.',\n",
              " '제일 최근에 로스팅한 것으로 제공해 드리고 있으며 디저트와 함께 드셔도 참 좋을 커피입니다.',\n",
              " '저희 워커스커피로스터스를 방문해 주셔서 감사합니다 항상 좋은 메뉴로 보답하겠습니다.',\n",
              " '좋은 원두와 좋은 커피가 만나 커피를 더욱 맛있게 만들 수 있는 기회가 되길 바라며 오늘도 커피빈을 많이 사랑해 주세요',\n",
              " '소이라떼에 들어가는 귀리가 좋은 것 사용하고 있는 것은 언제나 주문해 주셔서 감사합니다.',\n",
              " '크로넛에 올라가는 레몬 글레이즈드는 직접 만들고 있으며 커피와 함께 마시면 더욱 좋은 시너지 효과를 낼 수 있어 인기가 좋습니다.',\n",
              " '잘 먹었다고 내일 인사해야지 빨리 먹지 않으면 내가 나중에 가서 먹을 거니까',\n",
              " '좋은 원두를 사용해 디카페인 커피를 만들었고 디카페인도 자주 이용하도록 하겠습니다.',\n",
              " '커피와 디저트를 함께 즐길 수 있는 좋은 시간이 되기를 바라며 오늘도 주문해 주셔서 감사합니다.',\n",
              " '저희 워커스의 대표 메뉴 오렌지 브레붸 우유와 크림 오렌지의 구운 향으로 디저트와 함께 드셔도 아주 좋아요 주문해 주셔서 감사합니다.',\n",
              " '직접 담근 레몬 글레이즈드와 매일 신선한 음료크림으로 매일 매일 정성스러운 후기를 올려 드리고 있는 것은 주문해 주신 덕분입니다.',\n",
              " '추운 겨울날 커피와 디저트로 추운 겨울 날 감기 조심하시고 감사합니다.',\n",
              " '커피만큼 소중한 댓글에 힘이 됩니다 저희 디저트를 사랑해주셔서 감사합니다 커피 못지않게 신경 쓰고 있는 것은 바로 디저트입니다.',\n",
              " '날씨가 추워져 약간의 오차가 있더라도 최대한 빠르게 처리하는 데 노력하고 있으니 많은 관심 바랍니다.',\n",
              " '커피 못지않게 디저트도 신경 써서 준비하려고 노력하고 있습니다 달콤한 디저트로 좋은 시간 되시길 바랍니다 감사합니다.',\n",
              " '저희의 비장의 무기 세트 주문해 주신 것 잘 받았습니다 다음에도 좋은 제품으로 찾아 뵐게요 감사합니다.',\n",
              " '저희는 식품 안전을 위해 제조 과정에서 소금을 사용하지 않도록 원칙적으로 관리하고 있습니다 연세우유 생우유를 사용하여 만들어 지는 프리미엄 라떼에 대해 고객님들이 오해를 하시는 일이 없기를 바랍니다.',\n",
              " '항상 맛있는 커피와 디저트로 여러분의 사랑에 보답하겠습니다. 감사합니다.',\n",
              " '커피를 산미 있는 것을 좋아하시면 여기나 쿠 등 기타 할인행사들 통해서 많이 사주시는 것 같은데 배달료는 거리와 주문금액 등 배 1과 다른 사이트들은 수 료 때문에 어쩔 수 없이 가격이 상이합니다.',\n",
              " '항상 주문해주시는 고객님들을 위해 감사의 마음을 전하고 있는 만큼 잘 부탁드립니다.',\n",
              " '신중한 메뉴 선택은 언제나 중요하죠 여러분의 소중한 의견을 반영해 최선을 다해 준비한 제품을 소개해 드릴 것입니다.',\n",
              " '자주 찾아주시는 분들께 감사의 마음을 전하며 손수 제작한 글레이즈드로 손수 만든 브라우니를 선물로 드리고 있습니다.',\n",
              " '달콤한 디저트와 음료로 행복한 시간 보내셨지요 새해 복 많이 받으시요 고객님 감사합니다.',\n",
              " '직접 제작한 글레이즈드로 커피와 함께 즐길 수 있는 크로넛을 준비했는데 주문해주신 분께 감사드립니다.',\n",
              " '고객님 주문해주셨는데 잘 먹었다고 내일 인사해야지 하다가도 못 잊으시면 저한테 메일 보내주세요. 새해 복 많이 받으시라고',\n",
              " '커피와 어울리는 디저트로 좋은 시간 보내셨기를 바랍니다 새해 복 많이 받으시',\n",
              " '한파로 길이 꽁꽁 얼어 고객님들이 불편을 드려 죄송했는데 주문해 주셔서 감사합니다.',\n",
              " '항상 정직하고 맛있는 커피를 만들어 보답하겠습니다. 감사합니다.',\n",
              " '저희 워커스를 맛있게 먹어 주셔서 감사합니다 추운 겨울 감기 조심하세요',\n",
              " '맛있는 커피 만들어 드리고 항상 감사하는 마음으로 보답하는 커피빈이 되도록 하겠습니다.',\n",
              " '고객님 주문해주셨는데 앞으로 더욱 좋은 제품으로 만들어 보겠습니다. 감사합니다.',\n",
              " '언제나 맛있는 요리로 행복한 주말 보내요 :) 항상 맛있게 만들어 주셔서 감사합니다.',\n",
              " '조금 더 세심한 검수를 통해 제품의 질을 높여 보도록 하겠습니다.',\n",
              " '추운 겨울에 한 번 드시면 커피와 드셔도 참 맛있을 크로넛 뜨거운 커피에 먹으면 정말 좋을 것 같습니다.',\n",
              " '크로넛은 커피와 함께 먹어도 참 맛있는 디저트인데 달콤한 디저트를 찾는 분들에게 좋은 정보가 될 것 같습니다.',\n",
              " '아 오늘은 크림초코우유와 함께 달콤한 디저트를 즐길 수 있는 디저트 세트를 만들어 주셨는데요 아 정말 감사합니다.',\n",
              " '소이라떼 맛있어요 정말 다양한 맛이 나는 요리를 여러 가지 만들어 봤는데 맛있게 해 주셔서 감사합니다.',\n",
              " '항상 감사의 마음을 전하고 맛있는 음식을 위해 기도하겠습니다. 다음에 또 맛있는 요리로 찾아 뵐게요.',\n",
              " '오늘은 벨기에 리에주 제품인 펄슈가가 들어가서 카라멜코팅이 된 와플을 소개해주셨는데 맛은 어떠하셨나요 여러분?',\n",
              " '오늘은 크로넛에 잘 어울리는 레몬의 상큼함과 글레이즈의 달콤함이 크로넛과 잘 어울려요 감사합니다.',\n",
              " '저희 카페와 디저트가 맘에 드신다니 감사합니다 또 다른 커피도 많으니 기회가 된다면 한번 먹어보세요 감사합니다',\n",
              " '항상 감사의 마음을 전하고 새로운 조합에 항상 웃음을 지어주시기 바랍니다 치킨에 커피는 저도 처음 마셔보는데 맛이 기대가 됩니다',\n",
              " '저희는 항상 똑같은 맛을 유지하고 있는 모든 음료를 계량하지 않고 계량컵에 담아 항상 준비하고 있습니다.',\n",
              " '저희 워커스는 홀에서도 판매하고 있어서 배달 시간은 조금 여유롭게 하지만 맛있게 드셨다면 감사드립니다.',\n",
              " '항상 찾아주시는 사랑에 감사드립니다. 좋은 생두, 좋은 커피를 위해 커피공장에서 최고의 바리스타가 되어 바리스타 교육을 하고 있습니다.',\n",
              " '저희 커피가 맛있고 좋은 하루가 되기를 기원하며 오늘도 최선을 다해 응원하겠습니다.',\n",
              " '크로넛은 레몬글레이즈를 발라 상큼함과 달콤함이 잘 어울리는 디저트이고 커피는 크로넛과 함께 먹으면 아주 든든한 한 끼 식사가 될 수 있죠.',\n",
              " '좋은 일을 하시는 분이시군요 흙이 들어갔는데도 이렇게 맛있게 드시다니 감사합니다 주문해 주셔서 감사합니다',\n",
              " '1년 중 45일 정도 드실 수 있는 양을 미리 주문해서 청귤청으로 잘 보관하고있습니다 다 소진할때까지만 한정적으로 판매하고있어요 주문해 주셔서 감사합니다',\n",
              " '저희는 홀에서 운영하고 있으며 손님들의 주문이 들어오는 대로 바로바로 준비하고 있어 예약 후 방문하시면 기다리지 않으셔도 됩니다.',\n",
              " '항상 부족한 점을 찾아 감사의 마음을 전하고 있는 만큼 최선을 다해 준비하겠습니다 감사합니다 :) 홀 운영으로 인해 배달이 조금 늦어질 수도 있음을 양해 부탁드립니다.',\n",
              " '영업시간은 평일 오전10시부터 오후 10시까지이고 매장 주변 일대의 수도, 전기, 수도 등의 정비를 위해 오후 5시부터 새벽 2시까지 영업하는 곳은 일요일과 공휴일은 쉰다고 합니다.',\n",
              " '테스트를 통해 최고 좋은 비율로 제조한 것을 확인할 수 있었습니다.',\n",
              " '크림초코우유는 벨기에 리에주 와이너리에서 제조한 것으로 온도를 섭씨 58도 이상으로 유지한 크림치즈로 제조되며 겉면에 바삭함과 촉촉함을 동시에 느낄 수 있는 디저트이다.',\n",
              " '고객님들 지금의 마음을 변치 마시고 앞으로도 더욱 정직하게 장사해 주세요 감사합니다.',\n",
              " '알랭밀리아 잼은 오늘도 맛있는 하루 되세요 오늘 주문해 주신 분께 감사의 뜻을 전하고 싶네요',\n",
              " '어쩌다 굴러들어온 티라미수가 감동을 주었군요 저희 워커스커피로스터스의 숨어있는 복병은 만들때 정성을 갈아넣어드립니다 많이 이용해주시와요',\n",
              " '저는 샷추가를 해서 더 강한 맛을 내고 싶은 분들은 에스프레소를 추출해 드시면 된답니다 :) 오픈해서 드시면 좋고 제가 먹은 건 이렇게 생겼답니다',\n",
              " '저희 워커스커피로스터스는 커피가 맛있는 디저트 전문점으로 앞으로도 많이 이용해 주세요 감사합니다.',\n",
              " '저희 워커스커피로스터스는 항상 최선을 다해 최상의 맛과 품질을 유지하려고 노력하는 커피전문점 카페입니다.',\n",
              " '이용해주신 고객님 불편이 많이 이해되지만 저희가 빨리 처리할 수 있도록 하겠습니다 이용해주시면 감사하겠습니다.',\n",
              " '자주 찾아주시면 항상 일정한 맛과 최고의 서비스로 보답하겠습니다. 감사합니다.',\n",
              " '항상 초심을 잃지 않고 맛있는 요리로 보답하겠습니다. 감사합니다.',\n",
              " '수제 티라미수도 맛있고 크로플도 맛있고 리에주와플 뺑오플 등이 있으니 자주 찾아주세요 :)',\n",
              " '저희를 감동으로 몰아넣은 것은 물론이고 앞으로도 많이 이용해 주셨으면 좋겠습니다.',\n",
              " '다양하고 맛있는 요리로 여러분께 좋은 인상을 심어드릴 수 있는 기회가 되었으면 합니다.',\n",
              " '맛있게 먹어주셔서 감사합니다 다음에 또 맛있는 요리로 찾아 뵙겠습니다.',\n",
              " '항상 맛있게 해 드릴 것을 약속하겠습니다 많이 이용해 주세요 감사합니다 기대한 만큼 부응하기 쉽지 않은데 맛있다 해 주셔서 감사합니다',\n",
              " '고객님 소중한 후기 덕분에 두 분이 티타임을 함께 즐겁게 보내드릴 수 있었어요 :) 즐겁고 행복한 시간되세요.',\n",
              " '자주 이용해 주시면 항상 한결같은 모습과 맛으로 보답하는 것으로 보답하겠습니다 맛있게 먹어 주셔서 감사합니다.',\n",
              " '고객님이 주문해 주신 커피가 맛있게 잘 먹었다고 내일 다시 찾아와 뵐게요.',\n",
              " '손님들에게 더 좋은 맛과 품질을 제공하기 위해서 더욱 노력하겠습니다. D 주문해 주셔서 감사합니다.',\n",
              " '항상 좋은 맛과 청결한 서비스로 고객만족도를 높여 나가는 한편 더 좋은 요리로 보답하겠습니다.',\n",
              " '저희 매장 보고 주문해 주셨다고 하셨죠 80점 이상 받은 스페셜티 등급의 생두로 취향에 따라 그라운드룰과 퍼포먼스를 선택할 수 있고 곧 다른 블렌딩도 출시될 예정입니다.',\n",
              " '즐겁고 행복한 저녁식사 시간이 되었나요 오늘 하루 잘 보내셨는지 감사합니다.',\n",
              " '저희 워커스커피는 80점 이상의 합격 기준을 받은 우수한 생두로 커피를 뽑아내고, 워커스가 추구하는 균형 있는 에스프레소 제조 방식으로 에스프레소 추출을 합니다.',\n",
              " '주문해 주신 것을 잘 받았습니다 감사합니다.',\n",
              " '저희 음료와 디저트로 행복한 시간 보내셨길 바라구요 늘 건강하고 유쾌한 일만 가득하시길 바랍니다.',\n",
              " '저희 음료와 디저트로 즐거운 시간 보내 주실 것을 감사합니다 :) 저희를 주문해 주셔서 고맙습니다.',\n",
              " '커피 중에 신맛이 나는 것을 선호하시나 봐요 D 콜드브루 원액은 완제품 캔으로 변경되었습니다 여기에 곧 반영하겠습니다 감사합니다',\n",
              " '맛있게 드실 수 있는 리에주 와플 그냥 드셔도 좋지만 이렇게 토핑과 함께 드셔도 너무 좋아요 주말 잘 보내셨는지요 :',\n",
              " '워커스라떼는 일반 카페라떼와 다르게 고소함이 있는 게 특징으로 자주 찾아주시면 감사하겠습니다.',\n",
              " '행복한 한 주 보내주신 감사한 날 되세요 :) 항상 먹는 것을 권장하고 있는 만큼 최대한 빨리 드시는 것이 좋습니다.',\n",
              " '종종 사진을 못 찍게 될 때가 있는데 다음에 기회가 되면 그땐 꼭 예쁘게 찍어 주세요 감사합니다',\n",
              " '저희 카페와 와플이 생각날 때 또 찾아주시면 맛있는 커피와 맛있는 와플을 만들어 드리겠습니다.',\n",
              " '조금 더 달게 크로플 본연의 맛을 살리려 했는데 주문해 주셔서 감사합니다.',\n",
              " '저희 음료와 와플로 행복한 시간 보내셨기를 진심으로 바랍니다.',\n",
              " '고객님께 불편을 드려 정말 죄송합니다 가게로 전화하셔서 성함과 주소를 불러드리고 몇 분 뒤에 도착할 수 있도록 하겠습니다.',\n",
              " '항상 저희 매장을 찾아와 주시고 항상 응원해주시는 분들께 감사드립니다 건강 유의하시구요 또 궁금하신 점 있으시면 언제든지 물어봐주세요',\n",
              " '항상 맛있게 잘 드실 수 있게 해 주셔서 감사합니다 맛있는 음식 많이 만들어 주세요 :)',\n",
              " '감사합니다 앞으로도 계속 노력하겠습니다 감사합니다',\n",
              " '오늘은 정말 바쁜 날인데 배달이 늦었고 반죽은 벌써 먹었을 정도이니 내일 다시 한번 배달 상황을 봐 보겠습니다.',\n",
              " '항상 감사하는 마음으로 맛있는 요리 만들어 보답하겠습니다 항상 건강하고 행복한 일만 가득하길 기원합니다.',\n",
              " '저희 매장은 11시부터 운영하는데 송파구 신천동이랑 석교동 근처에 있어 많은 방문객들이 방문해 주시고 특히 겨울철 보온성이 좋은 방한 기능성 다운재킷을 찾는 고객들에게 추천하고 있습니다.',\n",
              " '맛있게 먹어 주셔서 저희도 기분이 좋았답니다 맛있는 요리 만들어 주셔서 감사합니다',\n",
              " '고객님들께서 아주 잘 받아 주셔서 감사합니다 고객님들 덕분에',\n",
              " '번개배달은 번개가 치고 싶으면 번개를 치면 된다고 생각합니다.',\n",
              " '정말 맛있어요 그래서 저희도 하루에 1개 정도는 꼭 먹는답니다 정말 맛있거든요 저희도',\n",
              " '항상 감사하는 마음으로 잊지 않고 찾아와 주셔서 정말 감사합니다.',\n",
              " '사진은 버거 사진이고 사진은 역시 브라더스 사진이네요 감사합니다.',\n",
              " '잼 맛있어요 감사합니다 잼 맛있게 만들어 주셔서 감사합니다',\n",
              " '조금 식어서 왔어요 안녕하세요 잠시만 식고 가는 일이 있어서 대단히 죄송합니다.',\n",
              " '안녕하세요 이것을 전 세계에 널리 퍼뜨려야 하는데 말이죠.',\n",
              " '에스프레소가 너무 싱거울 경우 컴프레소를 조금 더 진하게 추출해 주세요 그럼 오늘도 맛있는 커피와 감사의 마음을 전할 수 있을 것 같습니다.',\n",
              " '저도 종종 그렇지만 또 저도 먹어요.',\n",
              " '요즘 같이 다들 힘들고 어려운 시기에 이런 하트들이 남발하면 얼마나 사람들이 좋아할까요 이렇게 하트 감사합니다 하면서 남발하면',\n",
              " '맛있는 요리 만들어 주셔서 감사합니다 맛있게 먹어 주셔서 정말 감사합니다.',\n",
              " '너무 맛있게 잘 먹었다고 내일 인사해야지',\n",
              " '항상 주문주시는 분이 단골로 늘 고마운 분이죠 최선을 다해 서비스 하겠습니다 감사합니다',\n",
              " '역시 송파지사가 고객님들께 만족을 드릴 수 있는 좋은 주말 보내셨는지요 :) 항상 감사하는 마음으로 일하고 있는 만큼 더 좋은 일만 가득하길 바랍니다.',\n",
              " '감사합니다 덕분에 잘 사용하고 있습니다.',\n",
              " '매일 최선을 다해 굽고 있습니다. 최선을',\n",
              " '여자분이 가입하신 것 같은데 음~ 되게 여성여성해 보이는 게 아닌가요 하하. 하트하트를 눌러주시면 감사하겠습니다.',\n",
              " '고객님 입맛에 맞으면 정말 저도 기분 좋고 행복한데 특히 저희 엄마가 맛없다는 말을 많이 하시는데 맛있는 하루 되세요.',\n",
              " '방문도 해주시고 고객님도 한 분이 방문해 주셨는데 정말 감사드립니다.',\n",
              " '좋은 주말 잘 보내셨어요 감사합니다 맛있는 요리 만들어 보겠습니다 감사합니다',\n",
              " '하루를 드셔도 만족할 수 있도록 365일 내내 준비해 놓으니까 우울해하지 마세요 훗훗 이사는 언제 가더라도 이사 걱정은 하지 않으셔도 돼요',\n",
              " '배달부 일을 하셨던 분이시군요 배달부 업무에 계셨던 분이 맞군요 감사합니다',\n",
              " '지금 맛있는 싱글오리진을 저희 천호랩점에서 굽고 있는 것은 더 좋은 제품들이 나올 때 입니다.',\n",
              " '개인적으로 양이 적은 음식이나 또는 칼로리가 높은 음식은 섭취하면 안 되는데 진심으로 감사드립니다.',\n",
              " '항상 최선을 다한다는 마음으로 일에 임하고 있습니다.',\n",
              " '저희 커피는 항상 최선을 다한다는 생각으로 노력하는 만큼 항상 좋은 맛을 내도록 노력하겠습니다.',\n",
              " '항상 최선을 다해 서비스해 드릴 것을 약속하겠습니다. 주문 감사합니다.',\n",
              " '우선 불편을 끼쳐 드려 머리 숙여 사과 드립니다 제가 드린 말씀은 양해해 주시기를 부탁드립니다.',\n",
              " '쿠팡이츠는 처음에 입점했다가 얼마 지나지 않아 폐점했고 배달의 민족과 요기요는 이미 서비스가 종료되었으니 두 회사의 서비스를 비교해 보시면 좋을 것 같습니다.',\n",
              " '혹시라도 고객님들이 종종 이런 후기를 남겨주시면 저희가 확인해서 더 좋은 서비스로 찾아 뵐 수 있도록 하겠습니다.',\n",
              " '포장에 신경을 많이 쓰긴 하는데 온통 사내들이라 섬세함에도 차이가 있네요 그래도 좋게 봐 주셔서 감사합니다',\n",
              " '맛있게 잘 먹었다고 내일 인사해야지',\n",
              " '매장도 오픈하고 있으니 곧 코로나가 끝나면 많은 방문 바랍니다 배달의 민족 앱이 사람들에게 많은 정보를 전달해 주기도 하지만 항상 준비가 부족하면 불편을 드립니다.',\n",
              " '항상 감사하는 마음으로 일에 임하겠습니다 항상 고객의 입장에서 생각하려고 노력하겠습니다 늘 감사합니다',\n",
              " '세트에 포함되어 있는 건 와플잼이지만 서비스로 제공되는 게 있을 경우 추가로 구매해야 하는 게 와플잼입니다.',\n",
              " '제 의지로 일부러 늦게 가는것도 아니고 빨리 가는 것도 아닌데 왜 이렇게 오래 걸리나 하면 단건배달 이용해 주세요.',\n",
              " '크림 때문에 매운 맛이 중화가 되므로 더 달게 느껴지실 경우에는 한 단계 더 낮추시면 되고요.',\n",
              " '항상 좋은 재료와 신선한 재료로 항상 최선을 다해 모시겠습니다.',\n",
              " '이런 댓글은 본인 가족이나 지인에게 하는데 본인이 아니더라도 주변 사람이 해야 할 말이라고 생각합니다.',\n",
              " '맛있게 드실 수 있도록 맛있게 만들어 주셔서 정말 감사드립니다.',\n",
              " '예 감사합니다 잘 사용하겠습니다 감사합니다',\n",
              " '삼진어묵을 쓰는 떡복이가 저뿐 아니라 다른 지점에서도 많이 찾을 것이니 많이 먹어 주세요.',\n",
              " '1분인데 얼마나 더 드려야 할까요 맛도 1인분이 아닙니다 1인분입니다',\n",
              " '너무 늦게 답글을 달았어요 본사에 한번 전화해 보겠습니다요 요즘 사람들이 너무 성급하게 서비스를 판단해서 제가 잘 못 한 거라고 생각해요',\n",
              " '저도 고구마무스 별로 안 좋아하는데 많이 나가요 저랑 입맛이 비슷하시네요 저도',\n",
              " '양이나 질이나 가격이나 그 이상도 이하도 항상 마음에 쏙 드는 그런 곳이 있으면 얼마나 좋을까요',\n",
              " '매주 맛있는 요리로 찾아 뵐게요 감사합니다.',\n",
              " '항상 똑같은 제품을 만들고 정성을 다하는 것을 원칙으로 하는 곳에서 구매하고 싶을 만큼 좋은 제품이라 기분이 좋습니다.',\n",
              " '저도 참 다행스럽게도 제가 주문하고 나서 얼마 지나지 않아 작성한 좋은 후기를 요기요에서 볼 수 있었어요.',\n",
              " '저는 개인적으로 좋아하지 않아서 메뉴에 추가할지 말지를 고민 많이 했는데 후회하게 만들 정도로 고구마무스를 좋아 하시는 분들이 많이 계십니다',\n",
              " '네 4차로 다시 찾아와 주시면 더 깜짝 놀라게 할 수 있도록 최선을 다해 준비하겠습니다 감사합니다',\n",
              " '저는 매운맛 중에 중간 맛을 선호하는데 매운맛이 제일 약한 것 같아요 순한맛은 너무 매울 수 있으니까요',\n",
              " '또 한번 눌러 주시면 감사하겠습니다 감사합니다 눌러 주세요',\n",
              " '항상 준비하는 메뉴를 빠르게 만들 수 있게 하고 항상 부족한 서비스를 채워 넣는 것이 죄송스럽지만 항상 최선을 다해 준비하겠습니다.',\n",
              " '아주 인기 좋은 핫도그를 가락점에서 드실수 있는데요 또 찾아 주시고 맛있게 먹어 주셔서 감사합니다.',\n",
              " '요즘 배달의 민족이 증가해서 배달 속도에 문제가 많은 것은 사실이지만 그래도 전보다 나은 배달을 위해 노력하고 있습니다.',\n",
              " '저희가 너무 자극적인 맛을 내지 않기 때문에 아이들이 있다면 순한맛을 선택하셔도 괜찮고요 혹 아이가 거부를 한다면 다른 맛도 추천해 주실 거예요.',\n",
              " '잘 먹었다고 내일 인사해야지',\n",
              " '진짜 계속 계속 문정가락점 에서만 드시면 진짜 맛있게 드실 수 있어요.',\n",
              " '정성을 다해 요리하고 있는 야채튀김 감사합니다 :)',\n",
              " '다음에도 더 좋은 사진과 함께 찾아 뵐게요 감사합니다',\n",
              " '가락점에서는 더 맛있는 요리를 만들어 낼 수 있도록 더욱 노력하겠습니다.',\n",
              " '순한맛 순한맛 두 종류 샀는데 매운거 못드시는 분들도 중간맛 하나만 드셔도 괜찮을 것 같아요.',\n",
              " '중간맛으로 잘못 넣은 소스가 아마도 지점에서 판매하는 소스일 텐데요 죄송합니다 맛을 보셨으리라 생각되는데요',\n",
              " '여러가지 종류의 떡과 어묵, 떡볶이를 시중에서 쉽게 구매할 수 있는 데가 많지 않기 때문에 선택의 폭이 좁은데 비해 떡볶이 집은 그렇지 않아서 인기가 많아요.',\n",
              " '제가 어릴적에 아버지가 떡볶이를 좋아하셔서 제가 어렸을적에도 많이 만들어 먹었어요',\n",
              " '떡볶이는 토핑으로 맛이 많이 좌지우지 되다보니 더욱더 다양한 재료로 찾아 뵐 수 있도록 시험하고 준비하고 있습니다니다.',\n",
              " '한방에 싹 긁어 드실 수 있도록 이렇게 준비했는데 맛있게 먹어 주셔서 감사합니다.',\n",
              " '지금 배달의민족에서 1인 서비스를 시범적으로 진행하고 있는 문정가락점 떡볶이집은 배달의 민족 이용자들의 의견을 수렴하여 이달 중 이용후기를 등록하도록 할 계획이다.',\n",
              " '여러가지 토핑과 사이드 메뉴가 계속해서 나오는 문정가락점을 많이 찾아주시면 감사하겠습니다.',\n",
              " '이번에 어묵도 프리미엄으로 추가되어서 더욱더 만족도가 높구요 올만에 오셔서 드시면 더 만족하실겁니다',\n",
              " '지금 혼자서 그 테스트 중인 게 배달의민족에서 1인용으로 나온 그것이고 지금 당장 내일 등록이 가능하면 더욱 빨리 등록해서 손님들이 만족할 수 있을 것 같습니다.',\n",
              " '또 찾아 주시는 고객님들께 너무 많이 담았다고 뭐라하시는 분들이 있을정도로 넉넉하게 담아내고 있으니 또 찾아주세요.',\n",
              " '지금 보다 더 많이 베풀 수 있게 발전했으니 놀라 마시고 오세요 깜짝 방문해 주세요',\n",
              " '잠실점에서 기분이 상하셨었는데 저희가 다시 실수를 한 것 같은데 다시 한번 연락드리겠습니다.',\n",
              " '저도 회사 다닐 때 점심시간에 여럿이 같이 밥 먹을 일이 생기면 누구보다 긴장하고 바빴는데 지금은 1인용 식당이 많이 생겨서 좋아요',\n",
              " '더 다양한 사이드와 토핑으로 그동안 잘 참으셨을지 또 얼마나 드셨는지 궁금해지네요 또 맛있게 드실지 기대가 됩니다.',\n",
              " '다시는 이런 일이 생겨서는 안 되지만 그래도 이렇게 못 쓰게 해드려서 정말 죄송합니다 다음에 또 이런 일로 번거롭게 해드려 드려서 죄송합니다',\n",
              " '제가 시간을 좀 더 빨리 알려 드렸더라면 제가 이렇게 늦게 올리지 않았을 텐데 죄송합니다.',\n",
              " '전에 고양이 그려드렸던 때는 댓글도 안달아 주셨는데 아쉬워요 앞으로 빨리 가도록 하겠습니다.',\n",
              " '중간 맵기인데 많이 맵지는 않아요 중간 정도로 맵기 조절 할 수 있으니 요청사항에 적어주시면 감사하겠습니다.',\n",
              " '더 맛있게 해 주실 분은 더 맵게 요청하셔도 됩니다 감사합니다',\n",
              " '어묵 크기도 크고 어묵도 부드러워서 어른 아이 할 것 없이 좋아할 만하지만 가격이 좀 더 나가요.',\n",
              " '냐냐냐 냐냐 옹성우냐 냐',\n",
              " '나홀로나무는 많은 사람들에게 사랑받는 곳이 되기 위해서 노력하는 한편 더 많은 사랑을 받고 싶어서 기사들이 먼저 하차하고 돌아가는 경우도 많다고 해요.',\n",
              " '당면을 먹을 때는 물을 많이 먹는 게 중요하지만 지금까지 해 온 방법으로 하면 당면이 짜져서 맛이 없어요 그래서 당면을 따로 빼서 넣으셔야 해요',\n",
              " '아무리 빠른배송도 고객님들에게 빨리 가달라고는 못해요 이미 최선을 다해서 배송 하고 있고 무리해서 빨리가다 사고가 크게 나는 경우를 많이 봤거든요',\n",
              " '이렇게 서로 통하는 댓글을 보니 저도 모르게 미소가 지어지네요 앞으로도 비밀 유지에 힘쓰겠습니다.',\n",
              " '또 찾아 뵐게요 감사합니다 다음에 또 만나요',\n",
              " '이미 여러 지역에서 1등을 하고 있는 떡장수는 앞으로도 더 많은 판매를 위해 노력하겠습니다.',\n",
              " '일단 감사의 표현을 쓰지 뭐 이렇게 사과를 해야 할지 모르겠는데 일단 뭐 일단 감사합니다.',\n",
              " '항상 새롭고 흥나는 떡을 선보이기 위해 항상 새로운 것을 개발하고 새로워지는 떡 장수가 될 것입니다.',\n",
              " '자주 찾아 주셔서 감사합니다 많은 사랑 부탁드립니다.',\n",
              " '우리 자주자주 만나요 감사합니다 자주 만나요',\n",
              " '아 죄송해요 제가 정신이 팔려 있어서 빨리 글을 써 내지 못한 것 때문에 뒤늦게 감사 인사를 드립니다.',\n",
              " '감사 감사 합니다 감사합니다 합니다',\n",
              " '힘내라는 말은 저한테도 힘이 되는 것 같고 아무튼 다들 저처럼 그렇게 힘든 거 같지 않아요?',\n",
              " '또 놀러 오세요 또 맛있는 요리와 멋진 요리로 인사 드리도록 하겠습니다.',\n",
              " '실속 구성 좋은 실속 구성으로 많이 판매하세요 더 좋은 상품으로 찾아 뵙겠습니다.',\n",
              " '자주 찾아 뵙겠습니다 감사합니다 또 좋은 정보 있으면 알려 주세요',\n",
              " '소스를 좀 적게 넣으셔서 졸인 부분을 다시 졸여 드셔도 괜찮기는 한데 그래도 소스를 많이 넣으실 경우 좀 더 졸여 주시는 게 좋아요.',\n",
              " '또 놀러오세요 또 맛있는 요리와 멋진 공연으로 인사드리도록 하겠습니다.',\n",
              " '좋은 서비스를 제공해 주신 만큼 앞으로도 좋은 서비스로 찾아 뵐게요 감사합니다.',\n",
              " '맛점수는 3점을 주셨는데 또 주문하신다고 하니 또 먹겠다는 연락은 받았지만 감사의 뜻으로 생각하겠습니다.',\n",
              " '맛이 아주 부족하다는 말씀은 저희가 조리에 실수가 있었을수도 있고 배송이 늦어서 일수도 있지만 사진상으로는 모든 고객님의 입맞을 만족시킬수 없다 정도로만 받아주세요',\n",
              " '또 놀러 오세요 이번 참가는 아주 좋은 선택이었다는 말씀을 들었습니다 다음에 또 좋은 자리로 찾아 뵐게요',\n",
              " '또 만나요 맛있는 요리와 좋은 재료, 좋은 품질의 음식으로 여러분과 만나요.',\n",
              " '저희가 끓인 어묵탕은 어묵만 빼고 육수는 모두 국산으로 사용합니다 어떤 국물이 생각나시면 저희 어묵탕을 검색해 보시면 됩니다',\n",
              " '또 주문해 주시고 감사하게도 또 다시 해 주셨어요 너무 감사합니다.',\n",
              " '완전 감사합니다 앞으로도 쭉 번창하실 것을 진심으로 기원합니다 고맙습니다',\n",
              " '고객님들이 많이 찾아 주시는 덕분에 기본적으로 재료들이 회전율이 아주좋아 싱싱하게 유지되고 있습니다 덕분입니다 감사합니다',\n",
              " '또 찾아 뵐게요 감사합니다 다음에 또 만나요',\n",
              " '감사합니다 맛있는 사진 한장 찍어서 다음에 또 찾아 뵐게요 감사합니다',\n",
              " '밥알이 약간 모자랐네요 이럴 땐 떡볶이 소스를 조금 넣어 주세요 그러면 더 맛있게 먹을 수 있어요.',\n",
              " '저희가 많이 졸여 나가서 크기와 모양만 요란한 두꺼운 어묵과 국물만 주신다면 넘치도록 드릴수 있지만 그래도 질좋은 재료로 승부를 걸었습니다.',\n",
              " '항상 가던 곳으로 빨리 가서 좋다고는 할 수 없지만 항상 안전하게 배달해 드리려고 노력하고 있습니다 다음에 또 만나요',\n",
              " '다들 맛있게 먹어 주시면 감사하겠습니다 다들 감사합니다',\n",
              " '당면이 좀 덜 익었다고 하는 의견이 있어서 좀 더 익혔다가 먹었는데 이제 당면은 더 이상 안 먹을 거니까요',\n",
              " '감사합니다 튀김만두 감사합니다 맞아요 튀김만두입니다 감사합니다',\n",
              " '여러분 지금 치킨이 먹고 싶다면 헬리오시티에 있는 치킨 전문점으로 와주세요 항상 한결같은 맛과 영양으로 여러분을 모시겠습니다.',\n",
              " '지금 치킨이 먹고 싶다면 헬리오시티에 있는 굽네치킨 본사로 전화 주시면 됩니다. 항상 최선을 다해 고객님을 모시겠습니다.',\n",
              " '저희 치킨을 맛있게 해주신 여러분께 감사의 뜻을 전하고 싶고 무더운 여름 건강에 유의하기 위해 더 맛있는 음식으로 찾아 뵐게요.',\n",
              " '지금 치킨이 먹고 싶다면 헬리오시티 지점으로 오십시오 돼지와 치킨의 조합이 너무 맛있어요 여러분도 꼭 도전해 보시고요.',\n",
              " '지금 드시고 있는 치킨이 맛있게 느껴지셨기를 바라며 내일도 또 맛있는 요리로 찾아 뵙겠습니다 헬리오시티점 여러분 감사합니다',\n",
              " '지금 치킨이 먹고 싶다면 헬리오시티점에 방문해 주세요 가족들과 함께 치킨을 먹으며 맛있는 이야기를 나눌 수 있습니다.',\n",
              " '여러분 지금 치킨이 너무 맛있어 보이는데 헬리오시티점에서 그 맛을 못 잊으시겠습니까? 내일 또 맛있는 요리로 찾아 뵐게요.',\n",
              " \"지금 치킨이 너무 먹고 싶다면 헬리오시티에 있는 치킨 전문점 '굽네치킨'을 방문해 주세요.\",\n",
              " '항상 먹는 음식만 생각나게 하는 당치땡 맛있는 음식점 앞으로 많이 만들어 주세요 여러분 지금 치킨이 너무 먹고 싶은데 헬리오시티점 맞으시죠?',\n",
              " '여러 종류의 양념치킨과 사이드 메뉴까지 한번에 즐길 수 있는 트리플세트 지금 치킨이 먹고 싶다면 헬리오시티점으로 방문해 주세요.',\n",
              " '지금 치킨이 먹고 싶다면 헬리오시티점에 방문해 주세요 크림치즈가 느끼하지 않게 잘 발라져 있으니 맛있게 드실 거예요.',\n",
              " '치킨이 먹고 싶다 헬리오시티점 첫 방문에 이렇게 좋은 반응을 해주셨다니 감사합니다. 다음에도 또 맛있는 요리로 찾아오겠습니다.',\n",
              " '지금 치킨이 땡긴다 헬리오시티점은 고객님들이 언제나 행복한 치킨을 제공해 드리기 위해 노력하고 있습니다 맛있게 먹어 주셔서 감사합니다.',\n",
              " '지금 치킨이 먹고 싶다면 헬리오시티에 있는 굽네치킨 본사로 방문해 주시면 됩니다 고객님이 맛있게 드실 수 있게 최선을 다해 돕겠습니다.',\n",
              " '지금 드시고 있는 치킨이 맛있게 느껴지셨기를 바랍니다 지금 바로 헬리오시티점에서 여러분의 입맛을 저격할 수 있기를 기원합니다.',\n",
              " '지금 치킨이 먹고 싶다면 헬리오시티점에 방문해 주세요 여러분의 성원에 힘입어 더욱 맛있는 요리로 찾아 뵙겠습니다.',\n",
              " '지금 치킨이 너무 먹고 싶다면 헬리오시티에 있는 저희 치킨을 찾아주세요 여러분의 성원에 힘입어 더 맛있는 요리로 찾아 뵙겠습니다.',\n",
              " '고객님이 지금 치킨이 드시고 싶다 하시면 헬리오시티점에 전화주시면 성심성의껏 모시겠습니다. 감사합니다.',\n",
              " '지금 치킨이 먹고 싶다면 헬리오시티점에 방문해 주세요 매운맛을 선호하시는 고객님은 물론이고 방문해주신 모든 분들께 감사의 마음을 전하고 있습니다.',\n",
              " '여러분 지금 치킨이 너무 먹고 싶은데 못 참고 계세요 그럼 저는 이만 줄이겠습니다 다음에 또 맛있는 요리로 찾아 뵐게요.',\n",
              " '지금 치킨이 먹고 싶다면 헬리오시티점에 방문해 주세요 :) 항상 새로운 맛을 보여 드릴 수 있는 이곳에서 여러분의 기대를 한몸에 받고 싶습니다.',\n",
              " '지금 치킨이 땡긴다 헬리오시티점은 고객님의 성원에 힘입어 항상 대기하는 점포가 있는데요 앞으로도 더 많은 성원과 친절한 안내 서비스를 위해 노력하겠습니다.',\n",
              " '고객님의 소중한 후기 덕분에 지금 치킨이 땡긴다 헬리오시티점이 정말 즐거운 하루가 될 것 같습니다 다음에 또 맛있는 요리로 찾아 뵐게요.',\n",
              " '항상 크고 맛있는 치킨을 위해 노력하는 헬리오시티점 여러분 감사합니다.',\n",
              " '지금 먹고 있는 치킨이 너무 맛있어 보이는데 내일은 또 어떤 맛이 날 것 같습니까 여러분?',\n",
              " '여러분 지금 치킨이 너무 먹고 싶은데 헬리오시티점에 위치한 치킨 전문점 사장님이 맛있게 드실 수 있게 열심히 하겠습니다요.',\n",
              " '고객님이 지금 치킨이 땡긴다 헬리오시티점에서 주문해 주신 기본 후라이드와 양념이 맛있게 잘 튀겨진 치킨을 보니 저도 모르게 미소가 지어지네요.',\n",
              " '지금 치킨이 먹고 싶다면 헬리오시티에 있는 뉴욕레드크림치즈를 방문해 주세요 :) 매운 양념과 담백한 치즈의 조합이 너무 잘 어우러지는 이곳의 맛을 느껴보세요.',\n",
              " '지금 치킨이 먹고 싶다면 헬리오시티점에 방문해 주세요 고객님의 요청이 있을 때마다 최선을 다해 돕겠습니다.',\n",
              " '여러분 지금 치킨이 땡긴다 헬리오시티점에서 갈비 정말 맛있게 드실 수 있어요.',\n",
              " '지금 치킨이 먹고 싶다면 헬리오시티점에 방문해 주세요 그 곳의 직원들은 최선을 다해 응원해 줄 것입니다.',\n",
              " '첫 주문에 맛있게 먹어 주셔서 감사합니다 다음에도 또 맛있는 요리 부탁드립니다 헬리오시티점 기본 양념과 다른 양념들도 맛있게 부탁드립니다.',\n",
              " '여러분 지금 치킨이 땡긴다 헬리오시티점에서 첫 번째 주문에 너무 감사드립니다. 앞으로도 더 좋은 요리와 맛있는 요리로 찾아 뵙겠습니다.',\n",
              " '고객님이 치킨이 드시고 싶다 하시면 언제나 달려가는 헬리오시티 치킨 매장에서 최선을 다해 모시겠습니다.',\n",
              " '지금 당장 치킨이 먹고 싶다면 헬리오시티에 있는 치킨 전문점 \"굽네치킨\"을 방문해 주세요 늦은 밤까지 맛있는 냄새를 맡을 수 있습니다.',\n",
              " '항상 최선을 다해 고객님께 요리해 드릴 것을 약속하는 헬리오시티점은 치킨 맛집으로 유명한 곳이지만 고객님의 기호에 맞는 요리를 선보이기 위해 노력하는 곳이기도 하다.',\n",
              " '고객님 지금 치킨이 땡긴다 헬리오시티점에서 10번 이용 감사드립니다 고객님 감사합니다 다음에 또 맛있는 요리로 찾아 뵐게요 감사합니다',\n",
              " '여러분 지금 치킨이 땡긴다 헬리오시티점 입니다 단골로 늘 찾아와 주시고 맛있게 먹어 주셔서 감사합니다.',\n",
              " '여러분 지금 치킨이 땡긴다 헬리오시티점에서 치킨을 맛있게 해주셨는데요 앞으로도 잘 부탁드립니다 감사합니다.',\n",
              " '지금 치킨이 먹고 싶다면 헬리오시티에 있는 저희 매장으로 와서 주세요 고객님이 맛있게 드실 수 있게 최선을 다해 노력하겠습니다.',\n",
              " '고객님들이 치킨을 더 맛있게 드실 수 있게 최선을 다해 노력하는 헬리오시티점이 되도록 하겠습니다.',\n",
              " '지금 치킨이 땡긴다 헬리오시티점은 고객님의 성원에 힘입어 더욱 좋은 요리와 서비스를 제공하기 위해 노력하고 있습니다.',\n",
              " '지금 보시는 것처럼 아주 맛있어 보이는 갈비찜과 치킨은 함께 해서 더 맛있게 드실 수 있으실 것입니다.',\n",
              " '지금 치킨이 먹고 싶다면 헬리오시티에 있는 마통갈비를 방문해 주세요 고객님의 입맛을 저격할 수 있는 최고의 메뉴를 소개해 드릴 것입니다.',\n",
              " '지금 드시고 있는 치킨이 맛있게 느껴지셨기를 바라며 내일도 또 맛있는 요리로 찾아 뵙겠습니다 헬리오시티점 여러분 감사합니다',\n",
              " \"지금 치킨이 너무 먹고 싶다면 헬리오시티 내의 치킨 전문점 '굽네치킨'으로 방문해 주시면 됩니다.\",\n",
              " '여러분 지금 치킨이 땡긴다 헬리오시티점에서 치킨을 맛있게 해주셨는데요 앞으로도 잘 부탁드립니다 감사합니다.',\n",
              " '저희 당치땡은 지금 치킨이 땡긴다 헬리오시티점에서 마통갈비를 고객님들이 너무나 좋아하시게 해서 더 열심히 만들어 보도록 하겠습니다요.',\n",
              " '저희가 다음에 또 맛있는 요리로 찾아 뵐게요 감사합니다.',\n",
              " '여러분 지금 치킨이 너무 먹고 싶은데 못 참고 계세요? (웃음) 다음에 또 맛있는 요리로 찾아 뵐게요.',\n",
              " \"지금 치킨이 먹고 싶다면 헬리오시티에 있는 치킨 전문 점 '굽네치킨'에 방문해 보십시오.\",\n",
              " '치킨이 먹고 싶다면 지금 바로 헬리오시티점에 방문해 주세요 :) 다양한 사이드 메뉴와 함께 아주 저렴한 가격의 치킨을 만나볼 수 있는 기회가 됩니다.',\n",
              " '여러분 지금 치킨이 너무 먹고 싶은데 헬리오시티에 위치한 치킨 전문점에서 맛있는 치킨 드시고 오세요.',\n",
              " '핫블랙킹과 양념 매콤한 맛의 치킨을 드시고 싶으시면 지금 바로 전화 주세요 (031-280-3851∼9)',\n",
              " '지금 치킨이 너무 먹고 싶은데 헬리오시티에 있는 저희 가게로 언제 한번 찾아와 주세요 감사합니다.',\n",
              " '저희 당치땡 히든메뉴 치킨집에서도 돼지가 이렇게 맛있을 수 있나 싶을 정도로 맛이 최고였어요 지금 치킨이 먹고 싶다면 지금 바로 헬리오시티에 있는 마통갈비를 찾아주세요',\n",
              " '항상 한결 같은 맛과 서비스를 제공해 주시는 고객님께 감사의 마음을 전하고 있는 헬리오시티점은 지금 이 순간에도 수많은 사랑을 받고 있는 곳이다.',\n",
              " '저희 당치땡 별미 메뉴 중 하나인 로제떡볶이는 고객님이 치킨이 드시고 싶다 하시면 언제든지 제가 달려가 만들겠습니다.',\n",
              " '치킨이 먹고 싶다면 지금 바로 헬리오시티에 있는 굽네치킨으로 방문해 주세요.',\n",
              " '고객님이 지금 치킨이 드시고 싶다 하시면 헬리오시티점에서 맛있는 치킨을 만들어 보내 드리겠습니다.',\n",
              " '지금 치킨이 먹고 싶다 헬리오시티점에서는 매운맛 치킨과 핫블랙킹 요리를 여러분들께 소개해 드리고 있지요.',\n",
              " '한강에서 먹는 치킨이 이렇게 맛있을 수 있다니 대단할 수가 없는데요 여러분도 한번 도전해 보시고요 오늘 치킨은 맛있게 드실 수 있으실 겁니다.',\n",
              " '지금 먹고 있는 갈비 치킨은 내일 또 먹을 거니까 맛있게 먹어 주세요 여러분 지금 치킨이 너무 먹고 싶은데 헬리오시티점에 있으니까요.',\n",
              " '여러분 지금 치킨이 너무 먹고 싶은데 못 참고 계세요? 그럼 제가 내일 또 사러 올게요.',\n",
              " '지금 드시고 있는 치킨이 맛있게 느껴지셨기를 바라며 내일도 또 맛있는 요리로 찾아 뵙겠습니다.',\n",
              " '저희 당치오는 지금 치킨이 땡긴다 헬리오시티점에서 맛있는 치킨을 만들어 주신 고객님께 감사의 뜻을 전하고 있으며 앞으로도 더 좋은 요리로 찾아 뵙겠습니다.',\n",
              " '여러분 지금 치킨이 너무 먹고 싶은데 헬리오시티에 있는 저희 지점에서 맛있게 드실 수 있을지 기대하겠습니다.',\n",
              " '여러분 지금 치킨이 너무 먹고 싶은데 헬리오시티에 있는 저희 매장에서 맛있게 드실 수 있게 최선을 다해 응원하겠습니다.',\n",
              " \"지금 치킨이 먹고 싶다면 헬리오시티에 있는 치킨 전문 점 '굽네치킨'에 방문해 주세요. 무더운 여름 가족들의 건강을 챙기기 위해 온 힘을 쏟고 있습니다.\",\n",
              " '지금 치킨이 먹고 싶다면 헬리오시티에 있는 저희 치킨 매장으로 방문해 주세요 고객님이 맛있게 드실 수 있도록 최선을 다해 노력하겠습니다.',\n",
              " '지금 치킨이 먹고 싶다면 헬리오시티에 있는 굽네치킨으로 방문해 주세요 :) 뼈 없는 치킨도 맛있게 드실 수 있으니까요.',\n",
              " '지금 치킨이 먹고 싶다면 헬리오시티에 있는 저희 매장으로 방문해 주세요 맛도 최고, 영양도 최고인 이곳에서 드실 수 있습니다.',\n",
              " '첫 주문 너무 감사드립니다 앞으로 잘 부탁드립니다 헬리오시티점 지금 치킨이 맛있어요 고객님 감사합니다 다음에 또 만나요',\n",
              " '여러분 지금 치킨이 땡긴다 헬리오시티점에서 치킨을 잡수고 계신데요 앞으로도 잘 부탁드립니다.',\n",
              " '지금 치킨이 먹고 싶다면 헬리오시티 지점으로 오십시오 고객님이 만족할 수 있는 요리를 찾아 항상 노력하겠습니다.',\n",
              " '고객님이 지금 치킨이 드시고 싶다 하시면 헬리오시티에 있는 저희 치킨을 찾아주시면 최선을 다해 돕겠습니다아 다음에 또 맛있는 요리로 찾아 뵐게요.',\n",
              " '항상 즐거운 식사시간을 위해 노력하겠습니다 고객님 감사합니다 다음에 또 만나요 지금 치킨이 너무 먹고 싶은데 헬리오시티점에 오세요.',\n",
              " '여러분 지금 치킨이 땡긴다 헬리오시티점에서 치킨뿐만 아니라 여러 가지 종류의 요리를 많이 만들어 주셔서 감사합니다 다음에 또 맛있는 요리로 찾아 뵐게요',\n",
              " '지금 치킨이 먹고 싶다면 헬리오시티에 있는 마통갈비와 떡볶이를 드시면 됩니다 고객님 감사합니다 다음에 또 맛있는 요리로 찾아 뵐게요.',\n",
              " '지금 치킨이 먹고 싶다면 헬리오시티 지점으로 오십시오 고객님의 성원에 힘입어 더 맛있는 요리를 만들어 보겠습니다.',\n",
              " '항상 맛있게 먹어주시는 고객님을 위해 더 열심히 노력하겠습니다 다음에 또 맛있는 요리로 찾아 뵐게요.',\n",
              " '여러분 지금 치킨이 너무 먹고 싶은데 못 참고 계신가요 헬리오시티점에서 지금 당장 시켜 드셔도 괜찮습니다.',\n",
              " '지금 치킨이 너무 먹고 싶다면 헬리오시티에 있는 저희 치킨을 찾아주세요 여러분의 성원에 힘입어 꼭 다시 돌아올게요.',\n",
              " '지금 치킨이 먹고 싶다면 헬리오시티에 있는 치킨 전문점 \" 굽네치킨 \" 에 오시라 믿고 있습니다.',\n",
              " \"지금 치킨이 너무 먹고 싶다면 헬리오시티 내의 치킨 전문점 '굽네치킨'으로 방문해 주세요.\",\n",
              " '여러분 지금 치킨이 땡긴다 헬리오시티점에서 마통갈비 드시고 계신데요 맛있게 먹어 주셔서 감사합니다.',\n",
              " '지금 치킨이 너무 먹고 싶다면 헬리오시티 지점으로 와주세요 너무 맛있어요 여러분! 다음에 또 맛있는 요리로 찾아 뵐게요.',\n",
              " '지금 치킨이 먹고 싶다면 헬리오시티점에 방문해 주세요 고객님이 만족할 수 있는 요리로 항상 노력하겠습니다.',\n",
              " '지금 치킨이 먹고 싶다면 헬리오시티점에 방문해 주세요 고객님의 요청이 있을 때마다 최선을 다해 돕겠습니다.',\n",
              " \"지금 치킨이 드시고 싶다 하시면 헬리오시티에 있는 '지금 이 순간' 치킨집을 찾아주세요 고객님의 성원에 힘입어 더 맛있는 요리를 만들어 보겠습니다.\",\n",
              " '여러분 지금 치킨이 땡긴다 헬리오시티점에서 치킨 드시는 거 맞으시죠? 항상 한결같은 맛과 양으로 보답하는 이곳의 주인장이 되어 보겠습니다.',\n",
              " '여러분 지금 치킨이 먹고 싶다면 헬리오시티에 있는 치킨 전문점 치베큐에 방문해 주세요 아주 맛있는 메뉴와 더불어 다양한 요리를 제공해 드리겠습니다.',\n",
              " '지금 치킨이 먹고 싶다면 헬리오시티에 있는 저희 치킨 매장으로 방문해 주세요 고객님이 드실 때까지 최선을 다해 돕겠습니다.',\n",
              " '지금 드시고 있는 치킨이 맛있게 느껴지시면 저희가 더 열심히 응원하겠습니다 다음에 또 맛있는 요리로 찾아 뵐게요.',\n",
              " '별5점평가 너무 감사드립니다 이번 기회를 놓치지 마세요 맛있는 마통갈비와 함께 다양한 양념과 향긋한 트러플 향기로 기분 좋은 식사를 해 드릴 수 있습니다.',\n",
              " '별5점평가 너무 감사드립니다 제게 힘이 되어 주신 것 같습니다 더 좋은 요리 만들어 먹겠습니다 감사합니다',\n",
              " '항상 친절한 응대와 기분 좋은 서비스로 보답하겠습니다. 별5점 후기 감사합니다.',\n",
              " '제가 별5점을 드린 것에 대해 감사의 뜻을 전하고 다시 한번 더 노력을 하겠습니다.',\n",
              " '항상 친절한 응대로 기분까지 상쾌하게 해드리는 당치땡 헬리오시티점에서 맛있는 떡볶이 만들어 보겠습니다.',\n",
              " '항상 손님에게 맛있는 치킨을 만들어 보답하는 당치땡으로 항상 건강하고 행복한 일만 가득하길 기원합니다.',\n",
              " '이번에 서울시에서 환경을 생각한다는 취지로 실시한 제로 웨이스트 캠페인에 참여해 주신 분들께 감사의 뜻을 전하고 싶어서 글을 작성하게 되었습니다.',\n",
              " '저희 우시장 국밥은 항상 최선을 다해 고객님의 밥상에 오르고 있는 만큼 더 좋은 맛과 영양으로 보답 드리도록 하겠습니다.',\n",
              " '저희 우시장 국밥은 항상 한결같은 맛과 좋은 품질을 위해 노력하는 곳이니 만큼 더 맛있게 해 주세요.',\n",
              " '저희 우시장 국밥집을 믿고 맡겨주신 분들께 감사의 뜻을 전하고 싶어서 이렇게 글을 작성하게 됐으며, 저희가 미처 생각하지 못한 부분에 대해서도 하나하나 메모했습니다.',\n",
              " '저희 우시장 국밥을 사랑해주시는 모든 분들께 감사의 뜻을 전하고 더 맛있는 요리로 찾아 뵐게요 :)',\n",
              " '저희 우시장 국밥을 많이 사랑해 주세요 :) 항상 최선을 다해 준비하는 만큼 더 좋은 맛과 영양으로 보답하겠습니다.',\n",
              " '맛있는 국밥을 위해 항상 노력하는 만큼 더 좋은 맛과 서비스를 위해 노력하겠습니다.',\n",
              " '저희 우시장 국밥을 많이 사랑해 주시면 감사하겠습니다 감사합니다 :) 48시간 동안 푹 고아낸 육수와 신선한 재료로 정성을 다해 만들겠습니다.',\n",
              " '저희 우시장 국밥은 48시간 푹 고아낸 육수와 당일 도축한 신선한 고기들을 직접 손질하고 삶아 더욱 맛있는 맛으로 보답하겠습니다.',\n",
              " '저희 우시장 국밥을 사랑해주시는 많은 분들께 감사의 뜻을 전하고 싶어서 이렇게 글을 작성하게 되었습니다.',\n",
              " '저희 우시장 국밥은 항상 좋은 맛과 좋은 서비스를 위해 노력하는 곳이니 만큼 앞으로도 잘 부탁드립니다.',\n",
              " '아 일단 맛은 보장되니 맛있게 드시고 내일 또 좋은 요리로 찾아 뵙겠습니다.',\n",
              " '저희 우시장 국밥은 항상 손님들에게 좋은 밥상을 차려 낼 것을 약속하고 있는 만큼 많은 사랑 바랍니다.',\n",
              " '저희 우시장 국밥은 항상 손님들에게 좋은 밥상을 제공하고 있는 만큼 늘 최선을 다해 노력하는 만큼 앞으로도 좋은 성과를 내도록 노력하겠습니다.',\n",
              " '저희 우시장 국밥은 항상 손님을 생각해서 맛있는 국밥을 만들겠습니다.',\n",
              " '항상 맛있게 해주시는 만큼 더 좋은 요리로 찾아 뵙겠습니다 감사합니다 :) 저희 우시장 국밥을 많이 사랑해 주세요 :)',\n",
              " '저희 우시장 국밥을 사랑해주시는 모든 분들께 감사의 뜻을 전하고 싶어서 이렇게 글을 작성하게 되었습니다.',\n",
              " '저희 우시장 국밥은 항상 손님들에게 최선을 다해 준비하는 곳이니 만큼 맛있게 드시고 또 찾아 주세요.',\n",
              " '저희 우시장 국밥은 항상 최선을 다해 고객님의 밥상에 올라갈 것을 약속하며 항상 웃는 모습으로 보답하겠습니다.',\n",
              " '저희 우시장 국밥은 언제나 손님들의 입맛을 사로잡는 맛있는 국밥으로 보답하겠습니다.',\n",
              " '저희 우시장 국밥은 언제나 맛있고 건강한 밥상을 위해 노력하는 곳이니 만큼 믿고 드셔도 좋습니다.',\n",
              " '항상 한결같은 맛을 위해 노력하는 만큼 더 맛있게 해 주시기를 기원합니다. 감사합니다.',\n",
              " '저희 우시장 국밥집을 믿고 맡겨 주셔서 감사합니다 :) 저희 국밥은 48시간 동안 푹 고아낸 육수와 당일 도축한 신선한 고기로 정성을 다해 만들고 있습니다.',\n",
              " '고객님 믿고 먹는 맛집 저희 우시장 국밥은 48시간 푹 고아낸 육수와 당일 도축한 신선한 고기들을 직접 손질하고 삶아 더욱 맛있는 맛과 좋은 서비스로 보답하겠습니다.',\n",
              " '저희 우시장 국밥은 항상 맛있는 국밥을 위해 노력하는 곳이니 만큼 맛있게 먹어 주시면 감사하겠습니다.',\n",
              " '저희 우시장 국밥은 고객님이 주문해 주시면 그 자리에서 바로 끓여 낼 만큼 진하고 맛있는 육수와 매일 매일 나오는 신선한 채소로 정성을 다해 만들겠습니다.',\n",
              " '처음부터 끝까지 다 맛있는 국밥을 위해 여러분들의 성원에 힘입어 준비한 만큼 최선을 다해 노력하겠습니다.',\n",
              " '저희 우시장 국밥을 많이 사랑해 주세요 :) 항상 최선을 다해 준비하는 만큼 더 좋은 맛과 영양으로 보답하겠습니다.',\n",
              " '저희 우시장 국밥은 언제나 손님들의 입맛을 사로잡는 맛있는 국밥으로 보답할 것이며 더 맛있는 요리로 찾아 뵐게요.',\n",
              " '맛있는 우시장 국밥 드시고 건강에도 유의하시기 바랍니다. 감사합니다.',\n",
              " '항상 저희 우시장 국밥을 사랑해주시고 많은 사랑 주셔서 감사드립니다.',\n",
              " '저희 우시장 국밥은 항상 최선을 다해 고객님의 밥상에 오르고 있는 만큼 더 좋은 맛과 영양으로 보답 드리도록 하겠습니다.',\n",
              " '저희 우시장 국밥집은 항상 최선을 다해 고객님들을 모시겠습니다.',\n",
              " '고객님이 보내주신 주소를 정확하게 몰라서 제가 드린 것은 양해를 부탁드립니다.',\n",
              " '저희 우시장 국밥은 고객님들이 남긴 소중한 후기를 바탕으로 더욱 맛있는 요리를 만들어 보답 드리겠습니다.',\n",
              " '저희 우시장 국밥은 믿고 먹을 수 있는 만큼 최선을 다해 노력하는 만큼 후회 없는 밥상을 위해 노력하겠습니다.',\n",
              " '안 그래도 매운 국물이 생각보다 시원할 것 같아서 시켰는데 역시나 잘 먹네요 다음에도 또 올게요 감사합니다',\n",
              " '저희 우시장 국밥은 고객님들이 48시간 동안 푹 고아낸 육수와 당일 도축한 신선한 고기들을 직접 손질하여 만든 육수로 더욱 담백하고 깊은 맛이 나게 해 드리고 있습니다.',\n",
              " '저희 우시장 국밥은 고객님들이 소중한 시간 동안 맛있게 드실 수 있도록 항상 최선을 다해 노력하는 만큼 더 좋은 맛과 서비스로 보답하겠습니다.',\n",
              " '저희 우시장 국밥은 고객님의 요청이 있을 시 항상 준비하여 늘 최선을 다해 준비하는 곳으로 항상 신뢰를 받고 있습니다.',\n",
              " '맛있는 한 끼 식사가 될 수 있도록 내일도 최선을 다해 준비하겠습니다. 감사합니다.',\n",
              " '저희 우시장 국밥은 항상 손님들에게 좋은 밥상을 차려내기 위해 노력하는 만큼 항상 최선을 다하는 모습을 보여드리고 있어요.',\n",
              " '저희 우시장 국밥은 항상 최선을 다해 고객님께 보답하는 국밥으로 보답하겠습니다.',\n",
              " '저희 우시장 국밥을 많이 사랑해 주세요 :) 항상 최선을 다해 준비하는 만큼 더 좋은 맛과 품질로 보답하겠습니다.',\n",
              " '저희 우시장 국밥을 많이 사랑해 주시면 감사하겠습니다. 감사합니다.',\n",
              " '저희 우시장 국밥은 항상 손님들에게 최선을 다해 준비하는 만큼 더 좋은 맛과 영양으로 보답하겠습니다.',\n",
              " '저희 우시장 국밥을 사랑해주시는 모든 분들께 감사의 뜻을 전하고 싶어서 이렇게 글을 작성하게 되었습니다.',\n",
              " '맛있는 국밥 집으로 유명한 곳 중 하나인 저희 우시장 국밥이 이렇게 맛있는 데가 있기까지 얼마나 오랜 시간이 걸리나.',\n",
              " '저희 우시장 국밥은 고객님들이 소중한 시간 동안 맛있게 드실 수 있도록 항상 최선을 다해 노력하는 만큼 더 좋은 맛과 서비스로 보답하겠습니다.',\n",
              " '항상 한결같은 맛과 정성과 서비스를 위해 노력하는 서울시 금천구 디지털로의 가산디지털단지 내 SOS 우수고객 센터는 24시간 연중무휴로 운영되며 고객들의 요청이 있을 시 즉각 대응한다.',\n",
              " '맛있는 국밥 집은 정성과 인심이 중요한데 고객님 댁에서 맛있는 국밥을 만나볼 수 있어 항상 행복합니다.',\n",
              " '저희 우시장 국밥을 많이 사랑해 주세요 :) 항상 최선을 다해 준비하는 만큼 더 좋은 맛과 영양으로 보답하겠습니다.',\n",
              " '항상 맛있게 먹어주시는 만큼 더 좋은 요리로 찾아 뵙겠습니다. 감사합니다.',\n",
              " '저희 우시장 국밥은 고객님들의 성원에 힘입어 항상 새로운 맛과 서비스를 찾아 뵙겠습니다.',\n",
              " '저희 우시장 국밥을 많이 사랑해 주시면 감사하겠습니다. 감사합니다.',\n",
              " '저희 우시장 국밥은 항상 최선을 다해 고객님께 준비해 드릴 것을 약속 드립니다.',\n",
              " '저희 우시장 국밥은 고객님이 주문해 주시면 그 자리에서 바로 끓여서 내 보내드리고 있어요 항상 최선을 다해 준비하는 모습 보여드릴게요.',\n",
              " '저희 우시장 국밥은 고객님의 소중한 밥상에 항상 최선을 다해 준비하는 만큼 더 좋은 맛과 영양으로 보답하겠습니다.',\n",
              " '저희 우시장 국밥은 항상 손님들에게 좋은 맛과 좋은 서비스를 제공하기 위해 노력하는 곳이니 만큼 믿고 드셔도 좋습니다.',\n",
              " '맛있는 한 끼 식사 준비해주신 여러분께 감사의 마음을 전하며 더 좋은 요리와 서비스로 찾아 뵙겠습니다.',\n",
              " '저희 우시장 국밥은 항상 최선을 다해 고객님의 밥상에 오르내리고 있는 최선의 음식인 만큼 더 맛있게 해 드릴게요.',\n",
              " '저희 우시장 국밥은 항상 맛있는 국밥을 위해 노력하는 만큼 더 좋은 맛과 영양으로 보답하겠습니다.',\n",
              " '저희 우시장 국밥은 고객님의 요청이 있을 시 언제라도 달려가 최선을 다해 준비하는 만큼 항상 웃는 모습으로 보답하겠습니다.',\n",
              " '저희 우시장 국밥은 고객님의 소중한 밥상에 항상 최선을 다해 준비하는 만큼 더 좋은 맛과 영양으로 보답하겠습니다.',\n",
              " '저희 우시장 국밥은 항상 손님들에게 최선을 다해 준비하는 곳이니 만큼 믿고 드셔도 좋습니다.',\n",
              " '저희 우시장 국밥을 믿고 맡겨 주셔서 감사합니다. 항상 좋은 맛과 좋은 서비스로 보답하겠습니다.',\n",
              " '저희 우시장 국밥은 항상 최선을 다해 고객님을 위해 준비하고 있는 만큼 맛있게 만들어 보겠습니다.',\n",
              " '저희 우시장 국밥은 언제나 맛있고 건강한 밥상을 위해 노력하는 곳이니 만큼 믿고 드셔도 좋습니다.',\n",
              " '저희 우시장 국밥은 항상 한결같은 맛과 좋은 서비스를 위해 노력하는 곳이니 앞으로도 많은 사랑 부탁드립니다.',\n",
              " '저희 우시장 국밥은 항상 최선을 다해 고객님께 준비해 드릴 것을 약속하겠습니다.',\n",
              " '저희 우시장 국밥은 항상 최선을 다해 고객님의 밥상에 오르고 있는 만큼 늘 건강하고 맛있는 음식을 준비해 보겠습니다.',\n",
              " '저희 우시장 국밥은 믿고 먹을 수 밖에 없는 이유가 고객님들이 48시간 동안 푹 고아낸 육수와 당일 도축한 신선한 고기들을 직접 손질하고 요리하기 때문이에요.',\n",
              " '항상 좋은 맛과 좋은 서비스로 보답하는 울산 우시장 국밥 더 맛있게 해 주실 선생님을 찾아 뵐게요.',\n",
              " '맛있는 우시장 국밥을 위해 항상 노력하는 만큼 더 좋은 맛과 서비스로 보답하겠습니다.',\n",
              " '저희 우시장 국밥은 항상 한결같은 맛과 좋은 품질을 위해 노력하는 만큼 더 좋은 요리로 찾아 뵙겠습니다.',\n",
              " '저희 우시장 국밥을 많이 사랑해 주세요 :) 항상 최선을 다해 준비하는 만큼 더 좋은 맛과 품질로 보답하겠습니다.',\n",
              " '항상 좋은 맛과 좋은 서비스로 보답하는 우시장 국밥 다시 한번 찾아 뵙겠습니다.',\n",
              " '저희 우시장 국밥을 많이 사랑해 주시면 감사하겠습니다. 감사합니다.',\n",
              " '저희 우시장 국밥은 항상 최선을 다한다는 말이 있을 정도로 사람들에게 사랑받는 국밥집이에요 정말 맛있게 잘 먹었고 내일 또 맛있는 국밥 먹으러 올게요',\n",
              " '저희 우시장 국밥은 항상 최선을 다해 고객님의 밥상에 오르고 있는 만큼 맛있고 건강한 음식으로 보답하겠습니다.',\n",
              " '저희 우시장 국밥집을 믿고 맡겨 주셔서 감사합니다 항상 최선을 다해 준비하는 만큼 더 좋은 맛과 서비스로 보답하겠습니다.',\n",
              " '저희 우시장 국밥은 항상 손님이 몰리는 식사 시간대에 영업을 하다 보니 조금만 늦어도 바로 처리가 되는 단점이 있지만 고객님의 소중한 의견을 반영해 최선을 다해 준비하고 있습니다.',\n",
              " '저희 우시장 국밥은 항상 한결같은 맛과 좋은 서비스를 위해 노력하는 곳이니 앞으로도 많이 찾아주세요 감사합니다.',\n",
              " '맛있는 국밥 만들어 주셔서 감사합니다 :) 저희 우시장 국밥은 항상 손님을 생각하는 마음으로 최선을 다해 준비하고 있습니다.',\n",
              " '저희 우시장 국밥집을 믿고 맡겨 주셔서 감사합니다.',\n",
              " '항상 먹던 그대로의 맛을 유지하려고 노력하겠습니다. 감사합니다.',\n",
              " '저희 우시장 국밥은 항상 한결같은 맛과 좋은 서비스를 위해 노력하는 곳이니 만큼 맛있게 먹어 주셨으면 합니다.',\n",
              " '항상 좋은 맛과 좋은 서비스로 보답하는 우리 식당이 되기를 진심으로 바랍니다.',\n",
              " '저희 우시장 국밥은 항상 최선을 다해 고객님들을 위해 준비하고 있는 만큼 더 좋은 맛과 영양으로 보답 하겠습니다.',\n",
              " '저희 우시장 국밥은 항상 최선을 다해 고객님을 위해 노력하는 만큼 더 좋은 맛과 서비스로 보답하겠습니다.',\n",
              " '항상 부족한 점을 찾아주시고 불편을 드려 진심으로 감사드립니다. 맛있는 한 끼 식사 준비하겠습니다.',\n",
              " '저희 우시장 국밥은 항상 최선을 다해 고객님의 밥상에 오르고 있는 만큼 맛있고 건강한 음식을 만들겠습니다.',\n",
              " '저희 우시장 국밥은 항상 한결같은 맛과 좋은 서비스를 위해 노력하는 곳이니 만큼 맛있게 먹어 주시면 감사하겠습니다.',\n",
              " '제주시 한경면 용수리 소재 국밥집은 맛이 보장될 뿐만 아니라 고객님의 소중한 의견을 반영해 최선을 다해 노력하는 업체로서 앞으로도 더욱 노력하겠습니다.',\n",
              " '저희 우시장 국밥은 고객님들이 남긴 소중한 후기를 바탕으로 더욱 맛있는 요리를 만들어 보답 드리겠습니다.',\n",
              " '저희 우시장 국밥은 항상 최선을 다해 고객님의 밥상에 올라갈 것을 약속하며 항상 웃는 모습으로 고객님을 대하고 있습니다.',\n",
              " '저희 우시장 국밥집을 믿고 맡겨 주셔서 감사합니다. 맛있는 음식 많이 만들어 주세요.',\n",
              " '저희 우시장 국밥집을 믿고 맡겨 주셔서 감사합니다. 항상 한결같은 맛과 좋은 서비스로 보답하겠습니다.',\n",
              " '저희 우시장 국밥은 항상 최선을 다해 고객님의 밥상에 오르고 있으며 내일도 좋은 맛과 좋은 서비스로 찾아 뵙겠습니다.',\n",
              " '저희 우시장 국밥은 항상 손님들에게 최선을 다해 준비하는 곳이니 만큼 믿고 드셔도 좋습니다.',\n",
              " '저희 우시장 국밥은 항상 최선을 다해 고객님들을 위해 노력하는 만큼 더 좋은 맛과 영양으로 보답 하겠습니다.',\n",
              " '저희 우시장 국밥은 항상 한결같은 맛과 좋은 서비스를 위해 노력하는 곳이니 만큼 맛있게 먹어 주시면 감사하겠습니다.',\n",
              " '저희 우시장 국밥은 항상 한결같은 맛과 좋은 서비스를 위해 노력하는 곳이니 만큼 앞으로도 잘 부탁드립니다.',\n",
              " '저희 우시장 국밥을 많이 사랑해 주시면 감사하겠습니다. 감사합니다.',\n",
              " '항상 한결같은 맛과 좋은 서비스를 위해 노력하는 만큼 더 좋은 성과를 낼 수 있도록 노력하겠습니다.',\n",
              " '맛있는 한 끼 식사 대접하기 위해 방문해주신 분들께 감사의 뜻을 전하고 싶어서 이렇게 글을 작성하게 되었습니다.',\n",
              " '저희 우시장 국밥을 많이 사랑해 주세요 :) 항상 최선을 다해 준비하는 만큼 더 좋은 맛과 영양으로 보답하겠습니다.',\n",
              " '항상 최선을 다한다는 것을 보여드리고 싶은 마음에 글을 써 주신 분들께 감사의 마음을 전하며 더 좋은 요리와 서비스로 찾아 뵙겠습니다.',\n",
              " '저희 우시장 국밥은 항상 손님들의 입맛을 사로잡는 맛있는 국밥으로 보답하겠습니다.',\n",
              " '맛있는 한 끼 식사 대접하기 위해 찾아온 손님들께 감사의 마음을 전하며 더 좋은 요리와 서비스로 찾아 뵐게요.',\n",
              " '저희 우시장 국밥을 많이 사랑해 주세요 :) 항상 최선을 다해 준비하는 만큼 더 좋은 맛과 영양으로 보답하겠습니다.',\n",
              " '저희 우시장 국밥은 항상 손님이 몰리는 점심 때는 줄이 너무 길기도 하고 맛이 없을 수도 있기 때문에 예약 후 방문하시면 꼭 드실 수 있어요.',\n",
              " '저희 우시장 국밥은 항상 최선을 다해 준비하는 만큼 더 좋은 맛과 영양으로 보답하겠습니다.',\n",
              " '맛있는 국밥 한 그릇 해주실 수 있는 고객님을 위해 더 좋은 요리로 찾아 뵐게요 감사합니다.',\n",
              " '항상 맛있게 드실 수 있는 좋은 재료와 정직한 가격으로 보답하겠습니다. 감사합니다.',\n",
              " '저희 우시장 국밥은 언제나 맛있고 건강한 밥상을 위해 노력하는 곳이니 만큼 믿고 드셔도 좋습니다.',\n",
              " '저희 우시장 국밥은 항상 최선을 다해 고객님을 위해 준비하고 있는 만큼 맛있게 해 드릴 것을 약속하겠습니다.',\n",
              " '저희 우시장 국밥은 항상 한결같은 맛과 좋은 서비스를 위해 노력하는 곳으로 유명합니다 고객님이 남긴 후기를 바탕으로 더 좋은 요리를 만들어 보겠습니다',\n",
              " '저희 우시장 국밥은 믿을 수 있는 재료와 정직한 맛으로 유명한 만큼 믿고 먹을 수 있어 더욱 믿음이 가고 신뢰가 갑니다.',\n",
              " '저희 우시장 국밥은 고객님의 소중한 밥상에 항상 최선을 다해 준비하는 만큼 더 좋은 맛과 영양으로 보답 드리도록 하겠습니다.',\n",
              " '손님들의 성원에 힘입어 저희도 최선을 다해 준비한 요리를 더 많이 만들어 낼게요.',\n",
              " '저희 우시장 국밥은 항상 손님들에게 좋은 밥상을 차려 내기 위해 노력하는 만큼 늘 최선을 다하는 모습을 보여 드리고 싶습니다.',\n",
              " '항상 좋은 맛과 좋은 서비스로 보답하는 우시장 국밥을 소개해 주셔서 감사합니다.',\n",
              " '저희 우시장 국밥은 항상 최선을 다해 고객님의 밥상에 오르는 저희 국밥 맛집이 될 것을 자신합니다.',\n",
              " '저희 우시장 국밥은 항상 손님들의 성원에 힘입어 준비된 만큼 최선을 다해 준비하는 만큼 더욱 맛있게 만들어 보도록 하겠습니다.',\n",
              " '저희 우시장 국밥집을 믿고 맡겨 주셔서 감사합니다. 항상 최선을 다해 준비하는 만큼 더 좋은 맛과 서비스로 보답하겠습니다.',\n",
              " '저희 우시장 국밥은 고객님의 요청이 있을 시 항상 준비하여 늘 최선을 다해 준비하는 곳으로 항상 새로운 맛과 서비스로 보답하는 곳이 될 것입니다.',\n",
              " '저희 우시장 국밥은 항상 손님들에게 최선을 다해 준비하는 곳이니 만큼 믿고 드셔도 좋습니다.',\n",
              " '저희 우시장 국밥은 항상 한결같은 맛과 좋은 서비스를 위해 노력하는 곳이니 만큼 앞으로도 잘 부탁드립니다.',\n",
              " '맛있는 한끼 식사 대접할 수 있는 기회를 주셔서 감사합니다. 저희가 또 맛있는 요리로 찾아 뵐게요.',\n",
              " '맛있는 한끼 식사 대접할 수 있는 행복한 설날 되세요 저희가 또 맛있는 요리로 찾아 뵐게요.',\n",
              " '저희 우시장 국밥은 고객님의 소중한 식사 자리에 항상 최선을 다해 준비하는 만큼 더 좋은 맛과 영양으로 보답 드리도록 하겠습니다.',\n",
              " '제가 괜한 짓을 했다가는 이렇게 후회하실 수 있을 것 같습니다 제가 정말 그릇된 방법으로 한 짓이거든요',\n",
              " '맛있는 국밥 한 끼 해주실 수 있게 해주신 선생님께 감사의 뜻을 전하고 싶어서 이렇게 글을 작성하게 되었습니다.',\n",
              " '저희 우시장 국밥은 항상 한결같은 맛과 좋은 서비스를 위해 노력하는 곳이니 만큼 맛있게 해주시면 감사하겠습니다.',\n",
              " '저희 우시장 국밥은 항상 최선을 다해 고객님의 밥상에 오르고 있는 만큼 더 좋은 맛과 영양으로 보답 드리도록 하겠습니다.',\n",
              " '저희 우시장 국밥은 항상 한결같은 맛과 좋은 서비스를 위해 노력하는 만큼 항상 최선을 다해 고객님들을 대하고 있습니다.',\n",
              " '저희 우시장 국밥은 항상 최선을 다해 고객님의 밥상에 오르내리고 있는 최선의 음식인 만큼 더 맛있게 해 드릴게요 :)',\n",
              " '저희 우시장 국밥은 고객님의 소중한 밥상에 항상 최선을 다해 준비하는 만큼 더 좋은 맛과 좋은 서비스로 보답하겠습니다.',\n",
              " '항상 맛있는 국밥을 위해 내일도 최선을 다해 노력하겠습니다. 감사합니다.',\n",
              " '저희 우시장 국밥은 고객님의 소중한 밥상에 항상 최선을 다해 준비하는 만큼 더 좋은 맛과 영양으로 보답하겠습니다.',\n",
              " '저희 우시장 국밥은 항상 손님들에게 최선을 다해 준비하는 곳이니 만큼 믿고 드셔도 좋습니다.',\n",
              " '우선 제가 미리 말씀 드린 것처럼 바로 문자로 보내드려서 죄송합니다만 다음에 또 이런 실수를 하시면 정말 죄송합니다.',\n",
              " '항상 먹던 것을 잊지 않고 찾아 주시는 단골 고객님을 위해 더 맛있는 요리로 찾아 뵙겠습니다.',\n",
              " '맛있는 한끼 식사 대접하겠습니다요. 고객님 댁에서 즐거운 시간 되세요.',\n",
              " '저희 우시장 국밥은 항상 손님들에게 좋은 밥상을 차려 드리고 싶은 마음이 간절한 만큼 최선을 다해 노력하는 만큼 더 좋은 맛과 좋은 서비스로 보답하겠습니다.',\n",
              " '항상 행복하고 건강한 밥상을 위해 노력하겠습니다. 감사합니다.',\n",
              " '맛있는 국밥 만들어 주셔서 감사합니다 :) 저희 우시장 국밥은 항상 손님을 생각하는 마음으로 최선을 다해 준비하는 곳이에요.',\n",
              " '맛있는 우시장 국밥 드시고 건강도 지키시기 바랍니다. 감사합니다.',\n",
              " '저희 우시장 국밥은 고객님의 요청이 있을 시 언제나 최선을 다해 준비하는 만큼 더 좋은 맛과 영양이 있도록 노력하겠습니다.',\n",
              " '저희 우시장 국밥은 맛도 깔끔하지만 깔끔하기 그지없는 국물이 너무 맛있어요 여러분도 한번 사주세요 :)',\n",
              " '저희 우시장 국밥은 항상 최선을 다해 고객님의 밥상에 오르는 우리 국밥 맛집이 되기를 진심으로 기원합니다.',\n",
              " '저희 우시장 국밥은 항상 손님을 생각하는 마음으로 최선을 다한다는 말이 있을 정도로 사람이 많이 좋아하는 국밥집이에요 내일도 만나요',\n",
              " '저희 우시장 국밥은 드시는 분들이 모두 만족해 하시는 만큼 항상 행복하고 건강한 식단으로 찾아 뵙겠습니다.',\n",
              " '저희 우시장 국밥은 항상 최선을 다해 고객님의 밥상에 오르고 있는 만큼 더 좋은 맛과 영양으로 보답 드리도록 하겠습니다.',\n",
              " '저희 우시장 국밥은 고객님의 요청이 있을 시 최선을 다해 준비해 드릴 것이며 더 맛있는 요리로 찾아 뵙겠습니다.',\n",
              " '맛있는 국밥을 위해 항상 노력하는 만큼 더 좋은 맛과 서비스를 위해 노력하겠습니다.',\n",
              " '맛있는 국밥은 역시 정성과 신용이 있어야 하는 것 같아요 맛있는 국밥 드시는 그날까지 응원하겠습니다요.',\n",
              " '너무 죄송합니다 다음에 또 이런 일이 발생하지 않도록 또 최선을 다해 준비하겠습니다 고맙습니다 고객님 감사합니다',\n",
              " '맛있는 음식은 함께 나눠 먹는 즐거움이 있잖아요 여러분도 한번 도전! 오늘도 저희 우시장 국밥이 어떠하셨나요?',\n",
              " '저희는 항상 최선을 다해 요리할 것을 약속드립니다.',\n",
              " '이렇게 맛있는 한끼 식사 대접해 주셔서 감사합니다. 앞으로도 더 좋은 요리와 멋진 요리로 인사드리겠습니다.',\n",
              " '이렇게 맛있는 한끼 식사 대접해 주셔서 감사합니다. 앞으로도 더 좋은 요리와 멋진 요리로 인사드리겠습니다.',\n",
              " '맛있는 한 끼 식사 대접하기 위해 찾아온 손님들께 감사의 마음을 전하며 더 좋은 요리와 서비스로 찾아 뵙겠습니다.',\n",
              " '정말 맛있게 잘 먹었다고 내일 인사해야지 얼마나 더 열심히 먹는지 몰라 그런데 시간은 벌써 지났잖아 우리 모두 내일 또 만나요',\n",
              " '저희 우시장 국밥은 고객님의 소중한 한 끼 식사 자리를 위해 최선을 다해 준비한 만큼 더 좋은 맛과 서비스로 보답하겠습니다.',\n",
              " '항상 먹던 것을 48시간 동안 푹 고아낸 육수와 그날 잡은 신선한 채소로 만든 육수로 정성스러운 밥상을 차려 드리고 있는 곳, 광주 우시장입니다.',\n",
              " '맛있는 국밥 한 그릇 끓일 수 있는 기회를 주셔서 감사합니다. 항상 건강하시고 행복하세요.',\n",
              " '저희 우시장 국밥집이 고객님의 신뢰를 바탕으로 더욱 발전할 수 있는 방향으로 노력 하겠습니다.',\n",
              " '저희 우시장 국밥은 항상 손님이 찾는 곳이니 만큼 최선을 다해 준비하겠습니다.',\n",
              " '저희 우시장 국밥은 항상 손님들에게 최선을 다해 대접하는 국밥집인데 제가 드린 정성 덕분에 맛있게 드실 수 있었습니다.',\n",
              " '저희 우시장 국밥은 항상 손님이 찾는 메뉴라 더 맛있을 것으로 기대하고 있습니다니다.',\n",
              " '저희 우시장 국밥은 고객님의 입맛을 저격할 뿐만 아니라 더 맛있는 요리로 보답해 드릴 것을 약속하겠습니다.',\n",
              " '저희 우시장 국밥은 고객님들이 방문해주시면 깊은 손맛과 최고의 요리 비결로 보답하겠습니다.',\n",
              " '저희 우시장 국밥은 48시간 푹 고아낸 육수와 당일 도축한 신선한 고기들을 직접 손질하고 삶아 맛있는 맛과 좋은 서비스로 보답하겠습니다.',\n",
              " '저희 우시장 국밥은 고객님들이 남긴 소중한 후기와 함께 더 좋은 요리로 찾아 뵐게요 감사합니다.',\n",
              " '저희 우시장 국밥은 고객님들이 소중한 시간 동안 맛있게 드실 수 있도록 항상 최선을 다해 준비하는 곳이니 앞으로도 많은 사랑 부탁드립니다.',\n",
              " '저희 우시장 국밥은 고객님들이 맛있게 드실 수 있도록 늘 노력하는 만큼 더 좋은 요리로 찾아 뵙겠습니다.',\n",
              " '저희 우시장 국밥은 고객님의 요청이 있을 시 언제나 최선을 다해 준비하는 만큼 더 좋은 맛과 영양이 있도록 노력하겠습니다.',\n",
              " '저희 우시장 국밥은 언제나 손님의 입맛을 사로잡는 맛있는 국밥으로 보답하겠습니다.',\n",
              " '저희 우시장 국밥은 고객님의 소중한 한끼 식사 자리를 위해 최선을 다해 준비한 만큼 더 좋은 맛과 영양으로 보답하겠습니다.',\n",
              " '항상 찾아주시는 고객님께 감사의 마음을 전하며 더 좋은 요리와 서비스로 찾아 뵙겠습니다.',\n",
              " '저희 우시장 국밥은 고객님의 요청이 있을 경우 언제라도 달려가 최선을 다해 도와 드릴 것을 약속하겠습니다.',\n",
              " '저희 우시장 국밥집을 찾아주시는 모든 분들께 감사의 마음을 전하며 항상 최선을 다해 준비하는 만큼 더욱 노력하겠습니다.',\n",
              " '저희 우시장 국밥은 항상 손님들에게 최선을 다해 대접하는 곳이니까 더 맛있게 해 주시고 더 좋은 요리로 찾아 뵙겠습니다.',\n",
              " '고객님의 요청이 있을 시 언제나 최선을 다해 돕겠습니다. 감사합니다.',\n",
              " '최고의 맛과 최고의 서비스를 위해 항상 노력하는 울산 수산 식품 산업 본부가 더 많은 노력을 해 주시기 바랍니다.',\n",
              " '항상 먹던 밥을 또 먹을 수 있게 해 주셔서 감사합니다 :) 아 그리고 또 맛있는 요리 소개해 주실 때 제가 또 얼마나 기쁜지 알려 드릴게요.',\n",
              " '고객님께 감사의 마음을 전하고 더 좋은 요리를 소개해 드리기 위해 또 한 번 노력하겠습니다.',\n",
              " '저희 우시장 국밥은 고객님의 입맛을 저격할 뿐만 아니라 더 맛있는 요리로 찾아 뵙겠습니다.',\n",
              " '저희 우시장 국밥은 항상 손님이 기다리는 곳이라 더 맛있게 드실 수 있게 최선을 다해 노력하는 한편 더 좋은 맛과 영양으로 보답하겠습니다.',\n",
              " '이렇게 맛있는 국밥을 만들어 주셔서 감사합니다 다음에도 또 찾아주세요 감사합니다',\n",
              " '진짜 맛있게 잘 먹었다고 내일 인사해야지 이 시간 이후에 또 맛있는 음식 만들어 줄게요.',\n",
              " '저희 우시장 국밥집을 믿고 맡겨 주셔서 감사합니다 항상 최선을 다해 준비하는 만큼 더 좋은 맛과 좋은 서비스로 보답하겠습니다.',\n",
              " '고객님 댁에서 맛있게 드실 수 있게 더 열심히 노력하겠습니다요 :) 감사의 뜻으로 맛있는 음식 만들어 드릴게요.',\n",
              " '송파구 고기1등 배달전문점 GO돼지 송파점에서는 고객님의 요청이 있을시 언제나 신속하게 응대해 드리고 있습니다.',\n",
              " '맛있는 요리 소개해 주셔서 감사합니다. 유익한 시간 되세요.',\n",
              " '만족하지 못했지만 다시 주문할 때는 꼭 만족시켜 드릴 것을 약속드립니다 다음에도 좋은 제품으로 찾아오겠습니다 감사합니다.',\n",
              " '저희 가게 또 찾아주시고 맛있는 요리 많이 만들어주세요 오늘 하루도 행복한 하루 되세요',\n",
              " '맛있는 요리 만들어 주셔서 감사합니다 다음에도 더 좋은 요리로 찾아 뵐게요 감사합니다',\n",
              " '재료를 아끼지 않고 아주 사소한 것까지 신경을 써서 요리하고 있으니 믿고 드셔도 좋습니다.',\n",
              " '많은 고객님께 만족감을 드리려고 연구하고 노력하고 있는데 아직 많이 부족한 것 같습니다 시간내시어 남겨주신 말씀은 모두 유의하고 더욱더 신경을 드리겠습니다.',\n",
              " '항상 맛있게 해주시는 만큼 더 좋은 요리로 보답하겠습니다 오늘도 아자자 파이팅 하시구요.',\n",
              " '항상 한결같은 자세로 임하며 훌륭한 맛과 서비스로 보답하겠습니다 좋은 답글 남겨주시면 언제나 적극적으로 수용하여 무궁무진하게 발전하는 곳이 되겠습니다 감사합니다',\n",
              " '항상 노력하는 만큼 더 좋은 요리로 보답하겠습니다. 감사합니다.',\n",
              " '항상 부족함 없는 모습 보여드리려고 최선을 다하고 있으니 떠오르실 때마다 주문해 주세요 즐거운 일 가득한 하루 되세요 언제나 부족함',\n",
              " '항상 좋은 제품으로 보답하겠습니다. 맛있는 요리 만들어 주셔서 감사합니다.',\n",
              " '항상 최고의 맛과 서비스를 위해 노력하는 만큼 항상 좋은 재료와 합리적인 가격으로 보답하는 업체가 될 테니 많은 이용 바랍니다.',\n",
              " '항상 좋은 시간 보내드릴 수 있도록 맛과 청결은 기본 센스와 서비스정신을 갖추어 만족 시켜 드릴 것을 약속하겠습니다.',\n",
              " '항상 행복한 기억만 남게 해 드리는 가게가 되기 위해 내일도 최선을 다해 노력하겠습니다.',\n",
              " '즐겁고 행복한 하루 보내시구요 내일은 고객님이 저희 단골집으로 다시 찾아 뵐 거니까 많이 기대해 주세요',\n",
              " '고객님 좋은 말씀 감사합니다 종종 찾아 뵐게요 시간 나는 대로 글 써 보고 반응도 살펴보면서 시간이 가는 줄 모르는데 저도 그런 사람이에요',\n",
              " '항상 만족스러운 요리를 위해 노력하는 고객만족센터가 되도록 노력하겠습니다.',\n",
              " '손님 하루에 행복만 가득하길 기원하며 가게 찜까지 해주신 선생님께 감사의 뜻을 전하고 싶어서 영상 보면서 계속 댓글 달고 있는데 행복해요',\n",
              " '맛있게 잘 먹었다고 내일 또 맛있는 요리로 찾아 뵐게요.',\n",
              " '항상 행복한 기억만 남을 수 있는 그런 곳이 되기 위해서 더 좋은 요리로 찾아 뵐게요.',\n",
              " '언제나 맛있는 요리로 보답하는 더 좋은 밥상으로 찾아 뵙겠습니다 감사합니다.',\n",
              " '맛있는 요리와 더 좋은 요리로 찾아 뵐게요 :) 감사합니다.',\n",
              " '항상 좋은 재료와 꼼꼼한 준비로 최고의 맛을 보여 드릴 것을 약속 드리고 항상 맛있는 요리로 피로를 날려 보내 드리겠습니다.',\n",
              " '좋은 말씀 감사합니다. 좋은 하루 되세요.',\n",
              " '항상 맛있는 요리와 멋진 비주얼로 찾아뵐게요 늘 행복한 마음으로 찾아와 주셔서 감사합니다.',\n",
              " '저희는 섬세한 재료 선별과 철저한 위생관리로 질을 높이려 노력을 아끼지 않고 있습니다 항상 기분 좋은 하루 되세요 감사합니다',\n",
              " '저희를 믿고 찾아와 주셔서 감사합니다 앞으로도 더 좋은 요리로 찾아 뵙겠습니다 감사합니다',\n",
              " '항상 행복하고 기쁜 하루 되세요 맛있는 요리와 최고의 서비스로 항상 여러분의 행복을 전하겠습니다.',\n",
              " '항상 최고의 맛과 서비스를 위해 밤과 낮에 고민하고 있는데 맛있는 요리를 보니 기운이 솟네요 항상 좋은 요리와 좋은 서비스로 보답하겠습니다.',\n",
              " '매일 신선한 재료로 정성을 다해 요리하고 있으니 믿고 드셔도 좋습니다 오늘도 맛있는 요리로 여러분을 찾아 뵙도록 하겠습니다.',\n",
              " '고객님 감사합니다 항상 좋은 모습만 보여드릴 테니 많이 사랑해 주세요 감사합니다',\n",
              " '저희 가게 또 찾아주시고 맛있는 요리 많이 만들어주세요 오늘 하루도 행복한 하루 되세요',\n",
              " '항상 좋은 평가를 받을 수 있게 고객님께 최선을 다해 노력하겠습니다 감사합니다.',\n",
              " '맛있게 먹어 주셔서 감사합니다 또 맛있는 요리로 찾아 뵙겠습니다 감사합니다',\n",
              " '맛있는 요리 만들어 주셔서 감사합니다 또 맛있는 요리로 찾아 뵐게요 :) 다음에 또 만나요 :)',\n",
              " '항상 좋은 일만 가득하길 바라는 마음으로 항상 더 좋은 모습으로 노력하겠습니다.',\n",
              " '좋은 말씀 감사합니다. 항상 좋은 제품으로 보답하겠습니다.',\n",
              " '항상 최고의 맛과 서비스를 위해 노력하는 만큼 항상 좋은 재료와 합리적인 가격으로 보답하는 업체가 될 테니 많은 이용 바랍니다.',\n",
              " '항상 행복한 기억만 남게 해 드리는 가게가 되기 위해 내일도 최선을 다해 노력하겠습니다.',\n",
              " '즐겁고 행복한 하루 보내시구요 내일은 고객님이 저희 단골집으로 다시 찾아 뵐 거니까 많이 기대해 주세요',\n",
              " '항상 만족스러운 요리를 위해 노력하는 고객만족센터가 되도록 노력하겠습니다.',\n",
              " '고객님 맛있게 드셨다면 더 감사의 마음을 전하고 내일도 더 좋은 요리로 찾아 뵙겠습니다.',\n",
              " '항상 부족한 점이 있더라도 맛있게 해 드릴 것을 약속하겠습니다. 고객님의 의견을 항상 생각하고 반영하는 쇼핑몰이 되도록 노력하겠습니다.',\n",
              " '좋은 평가에 감사드립니다. 더 좋은 요리로 찾아 뵐게요.',\n",
              " '항상 행복한 기억만 남을 수 있는 그런 곳이 되기 위해서 더 좋은 요리로 찾아 뵐게요.',\n",
              " '항상 내 가족의 음식이라는 마음으로 최선을 다해 준비하는 곳으로 항상 고객만족을 위해 노력하는 곳이 될 테니 믿고 이용해 주세요.',\n",
              " '항상 행복하고 기쁜 일만 가득한 그런 하루가 되시기를 기원합니다 언제나 맛있는 요리로 여러분을 찾아 뵐게요',\n",
              " '맛있는 요리 만들어 주셔서 감사합니다. 다음에도 또 맛있는 요리로 찾아 뵐게요.',\n",
              " '빛나는 별다섯개에 평점 창이 밝아졌습니다 매일매일 행복하세요 고객님 앞에 더 좋은 모습과 가득한 서비스 정신으로 보답 드리겠습니다.',\n",
              " '항상 찾아주시는 분들의 좋은 말씀 감사드립니다. 항상 발전하는 모습으로 만나 뵙도록 하겠습니다.',\n",
              " '맛있는 요리와 좋은 서비스로 항상 여러분의 고민을 해결해 드리겠습니다.',\n",
              " '저희는 섬세한 재료 선별과 철저한 위생관리로 질을 높이려 노력을 아끼지 않고 있습니다 항상 기분 좋은 하루 되세요 감사합니다',\n",
              " '항상 찾아주시는 분들의 좋은 말씀 감사드립니다 항상 발전하는 모습으로 만나 뵙도록 하겠습니다 감사합니다.',\n",
              " '좋은 말씀 감사합니다. 항상 좋은 맛으로 보답하겠습니다.',\n",
              " '지친 몸과 마음을 위로해주는 고객님의 후기 최고 저희 가게 자주 찾아주시면 그만큼 더 좋은 맛으로 보답하겠습니다 즐거운 일들만 가득하세요',\n",
              " '항상 행복하고 기쁜 하루 되세요 맛있는 요리와 최고의 서비스로 항상 여러분의 행복을 전하겠습니다.',\n",
              " '항상 최고의 맛과 서비스를 위해 밤과 낮에 쉬지 않고 노력하는데 이런 좋은 후기가 힘이 되어 줄 수 있기를 바랍니다.',\n",
              " '맛있는 요리 소개해 주셔서 감사합니다. 맛있게 드실 수 있게 또 찾아올게요.',\n",
              " '매일 신선한 재료로 정성을 다해 요리하고 있으니 믿고 드셔도 좋습니다 맛있는 요리로 항상 여러분을 응원하겠습니다.',\n",
              " '항상 부족한 점을 요리 전에 체크하고 있는 탓에 항상 부족했던 부분을 요리하면서 보충할 수 있게 되었고 내일 또 맛있는 요리로 찾아 뵐게요.',\n",
              " '춘리 마라탕은 항상 좋은 맛으로 보답하는 곳이니 다음에도 맛있는 요리로 찾아오겠습니다.',\n",
              " '항상 최선을 다해 서비스해 드릴 것을 약속드립니다 조리 전 항상 꼼꼼한 부탁 사항을 확인하고 있으니 다음 주문시 주문메모에 기재해주세요.',\n",
              " '춘리 마라탕은 항상 좋은 맛으로 보답하는 만큼 앞으로도 더욱 좋은 요리로 찾아 뵐게요 :)',\n",
              " '춘리 마라탕은 항상 좋은 맛을 내는 곳으로 정평이 나 있어요 앞으로도 잘 부탁드립니다.',\n",
              " '항상 부족한 점을 요리 전에 체크하고 있다 보니 오늘은 마라맛 음식을 못 만드셨어도 내일은 꼭 만들겠습니다.',\n",
              " '항상 최선을 다해 요리해 드리고 있으니 다음에도 또 좋은 요리로 찾아오겠습니다.',\n",
              " '항상 최선을 다해 서비스해 드릴 것을 약속드립니다 조리 전 항상 꼼꼼한 부탁 사항을 확인하고 있으니 다음에도 주문하실 땐 메모 남겨주세요.',\n",
              " '항상 최선을 다해 요리해 드리고 있으니 다음에도 또 좋은 요리로 찾아오겠습니다.',\n",
              " '춘리마라탕은 항상 좋은 맛으로 보답하는 곳이니 앞으로도 많은 사랑 부탁드립니다.',\n",
              " '춘리마라탕 많이 사랑해주시고 감사합니다 다음에도 또 맛있는 요리 만들어주세요 감사합니다',\n",
              " '춘리마라탕 많이 사랑해주시고 감사합니다 다음에도 또 맛있는 요리 만들어주세요 감사합니다',\n",
              " '춘리 마라탕은 항상 좋은 맛을 내 가족의 입맛을 사로잡을 수 있는 곳으로 정평이 나 있어요 :) 저희가 미처 생각하지 못한 부분이 있더라도 너그럽게 이해해 주세요',\n",
              " '춘리마라탕 많이 사랑해주시고 감사합니다 다음에도 또 주문할게요 감사합니다',\n",
              " '춘리마라탕 많이 사랑해 주시고 감사합니다 다음에도 또 주문할게요 감사합니다',\n",
              " '항상 최선을 다해 서비스해 드릴 것을 약속드립니다 조리 전 항상 꼼꼼한 부탁 사항을 확인하고 있으니 다음에도 주문하실 땐 메모 남겨주세요.',\n",
              " '항상 최선을 다해 서비스해 드릴 것을 약속드립니다 조리 전 항상 꼼꼼한 부탁 사항을 확인하고 있으니 다음에도 주문하실 땐 메모 남겨주세요.',\n",
              " '춘리마라탕은 항상 좋은 맛으로 보답하는 곳이니 앞으로도 많은 사랑 부탁드립니다.',\n",
              " '항상 한결같은 맛과 친절한 서비스로 보답하겠습니다 항상 찾아주시는 만큼 더 열심히 활동하겠습니다 감사합니다',\n",
              " '늘 한결같은 맛과 친절한 서비스로 보답하는 육담연에서 더 맛있는 요리를 만들어 보도록 노력하겠습니다.',\n",
              " '항상 좋은 재료와 깨끗한 환경에서 요리하는 육담연을 믿고 먹을 수 있게 되어 감사합니다.',\n",
              " '언제나 맛있게 드실 수 있게 항상 신선한 재료로 정성을 다해 준비하는 육담연을 믿고 먹을 수 있어 행복합니다.',\n",
              " '믿고 먹는 육담연 가족식사 준비하는 마음으로 늘 신선한 재료로 깨끗하고 정성을 가득 담아 요리하겠습니다 만족스러운 식사 하셨다고 하니 너무나 감사합니다.',\n",
              " '항상 푸짐하고 맛있는 음식으로 정성을 다하는 손수경의 육회담은연어 가락점을 많이 사랑해 주세요',\n",
              " '언제나 신선한 재료와 정직한 양념으로 가족식사를 책임지는 육담연을 믿고 먹을 수 있고 가족식사 준비를 위해 정성을 다하는 만큼 만족도가 높기를 바랍니다.',\n",
              " '저희가 항상 최선을 다해 준비하는 것은 좋은 맛과 좋은 서비스입니다.',\n",
              " '믿고 먹는 김천재 앞으로도 많이 사랑해주시고 사랑해주시는 만큼 맛있는 요리 만들어 보답하겠습니다.',\n",
              " '고객님께 불편을 드려 대단히 죄송합니다 고객님 연세가 너무 많으셔 주소지를 못 찾아 재배송간 건으로 확인됩니다 앞으로 이런 실수없도록 바로고 대행업체와 잘 얘기 나누겠습니다.',\n",
              " '항상 좋은 재료와 깨끗한 환경에서 요리하는 김천재를 믿고 먹을 수 있도록 가족식사 준비에도 최선을 다해 노력하겠습니다.',\n",
              " '가족식사 준비하는 마음으로 항상 신선한 재료로 정성을 다해 요리하겠습니다 믿고 먹는 김천재 앞으로도 많이 사랑해주세요 감사합니다',\n",
              " '항상 맛있는 요리와 친절한 서비스로 보답하겠습니다.',\n",
              " '무더운 여름 무더위에 건강에 유의하시고 항상 행복한 일만 가득하세요 언제나 맛있는 요리와 친절한 서비스로 보답하겠습니다.',\n",
              " '저희가 소스를 빠뜨리는 경우가 많은데 그럴 때를 대비해 미리 포장을 해두기 때문에 하마터면 실수로 간장이 샐 수도 있어요.',\n",
              " '항상 좋은 재료와 깨끗한 환경에서 요리하는 김천재를 믿고 먹을 수 밖에 없는 이유는 가족식사를 맛있게 해 드릴 수 있기 때문이죠.',\n",
              " '언제나 믿고 먹을 수 있게 항상 신선한 재료로 최선을 다해 준비하겠습니다 믿고 먹는 김천재 앞으로도 많이 사랑해주세요',\n",
              " '요즘 날씨가 더워서 그런지 김치말이 국수가 조금만 넣어도 맛이 확 달라지긴 했어요 여러분들도 냉정한 하루 되세요',\n",
              " '언제나 믿고 먹을 수 있게 항상 신선한 재료로 정성을 다해 준비하는 김천재 믿고 드셔도 좋습니다 더 열심히 하겠습니다.',\n",
              " '저희는 항상 고객님들의 입맛을 만족시킬 수 있는 요리를 찾아 노력하고 있습니다 오늘도 저희 매장을 방문해 주셔서 감사합니다',\n",
              " '맛있는 요리 소개 별 다섯개 감사합니다 맛으로 고객님께 다가가겠습니다 더 좋은 맛을 내기 위해 노력하겠습니다 고객님의 입맛을 100% 만족시킬 수 있도록 최선을 다해 노력하겠습니다.',\n",
              " '고객님 감사합니다 맛있게 잘 먹었습니다 내일도 맛있는 요리로 찾아 뵐게요 감사합니다',\n",
              " '저희 매장을 방문해 주신 고객님들께 감사의 뜻을 전하고 싶고 앞으로도 더 좋은 제품과 서비스로 찾아 뵙고 싶습니다.',\n",
              " '항상 고객님들이 만족하시는 시간이 될 수 있도록 노력하겠습니다. 더욱 신속한 배달로 찾아 뵙겠습니다.',\n",
              " '항상 고객님들께 감사의 마음을 전하며 더 좋은 요리로 보답하는 무국적식탁이 되도록 노력하겠습니다.',\n",
              " '저희 매장은 항상 고객님들이 맛있게 드실 수 있도록 노력하고 있습니다 다음에 또 찾아주실 때 요청사항에 남겨주시면 간을 조절해서 보내드리겠습니다 아쉬움이 있으셨다면 좋은 하루 되세요',\n",
              " '항상 양을 조절해서 더 맛있는 요리 만들어 보답하겠습니다 항상 최선을 다하겠습니다 고객님 감사합니다',\n",
              " '저희 매장을 찾아와 주신 분들께 감사의 말씀을 전하며 더 좋은 요리와 서비스로 보답하겠습니다.',\n",
              " '저희 가게를 방문해 주신 고객님께 항상 감사의 마음을 전하며 더욱 노력하는 무국적식탁이 되도록 노력하겠습니다.',\n",
              " '항상 포장에 신경을 많이 써서 고객님들이 불편을 느끼지 않도록 해 드리겠습니다.',\n",
              " '항상 위생에 철저한 관리를 위해 노력하고 있는 만큼 더 좋은 요리로 찾아 뵙겠습니다.',\n",
              " '항상 고객님들이 기분 좋게 식사하실 수 있도록 노력하고 있는데 아쉬운 부분이 많았던 것 같습니다 다음에는 더 좋은 요리로 찾아 뵙겠습니다.',\n",
              " '저희는 항상 고객님들의 후기를 통해 부족한 점이나 개선해야 할 점을 찾아 개선해 나갈 것이며 더 나은 음식과 서비스를 제공해 드리겠습니다.',\n",
              " '고객님들이 저희 매장을 자주 방문해 주시면 더 좋은 요리를 만들어 드릴 수 있는 것처럼 최선을 다해 노력하겠습니다.',\n",
              " '고객님들의 입맛에 맞게 또 언제나 깨끗하고 신선한 재료로 맛있는 요리를 제공해 드릴 수 있도록 노력 또 노력하겠습니다.',\n",
              " '고객님이 저희 가게를 찾아와 주셔서 감사드립니다 앞으로도 더 좋은 요리로 찾아 뵙겠습니다 감사합니다.',\n",
              " '고객님의 소중한 후기 덕분에 오늘도 힘이 솟았는데 앞으로도 좋은 모습으로 변치 않고 변함없이 한결같은 서비스를 부탁드립니다 즐거운 하루 되세요',\n",
              " '고객만족을 최우선으로 모든 것을 고객의 입장에서 생각하는 저희가 되겠습니다 다음에 또 어떤 요리가 여러분의 식탁에 올라갈지 기대가 됩니다.',\n",
              " '저희 매장은 항상 최선을 다해 고객을 대하고 있습니다 부족한 점이나 궁금하신 점이 있으면 언제든지 질문해주시고 이용해 주시기 바랍니다',\n",
              " '고객님께 최선을 다해 요리해 드릴 것을 약속하겠습니다. 맛도 최고이시겠지만 서비스도 최고입니다.',\n",
              " '항상 고객만족을 위해 노력하는 무국적식탁이 되도록 노력하겠습니다.',\n",
              " '이용해 주셔서 감사합니다 다음에도 또 이용해 주세요 :) 항상 좋은 제품으로 보답하는 무국적식탁이 되도록 노력하겠습니다.',\n",
              " '고객만족도를 높이기 위해 최선을 다해 노력하는 만큼 더 좋은 요리로 찾아 뵙겠습니다.',\n",
              " '청년치킨은 언제나 맛있고 건강한 먹거리를 제공하기 위해 노력하고 있는데 그 일환으로 고객님이 남긴 후기를 바탕으로 더욱 좋은 요리를 만들어 소비자들에게 알려 드리고 있습니다.',\n",
              " '요즘 치즈볼의 인기가 아주 물이오른 이유는 바로 이 쫄깃한 찹쌀과 속에 꽉 찬 크림 치즈의 깊은 맛 때문입니다 청년 삼전점만의 전매특허 찹쌀 치즈볼을 꼭 먹어 보시면 아시겠',\n",
              " '청년치킨은 언제나 고객님의 flex를 위해 노력합니다.',\n",
              " '요즘 치즈볼의 인기가 아주 물이오른 이유는 바로 이 쫄깃한 찹쌀과 속에 꽉 찬 크림 치즈의 깊은 맛 때문입니다 청년 삼전점만의 전매특허 찹쌀 치즈볼을 꼭 먹어 보시면 아시겠',\n",
              " '저희 청년치킨 삼전점은 좋은 평가와 이미지를 바탕으로 한 업소로서 앞으로도 많은 사랑 부탁 드리겠습니다.',\n",
              " '저희 청년의 주특기가 바로 겉바 속촉아니겠습니까 비결은 저희의 애정이 듬뿍담겨 있기때문이죠 D 메인인 만큼 확실하게 담백함과 바삭함이 보장되어 있습니다니다.',\n",
              " '저희 청년치킨을 사랑해주시는 모든 분들께 감사의 뜻을 전하며 더욱 좋은 요리와 서비스로 보답하겠습니다.',\n",
              " '항상 신선한 재료와 깨끗한 기름으로 깨끗한 맛을 내는 청년 삼선교 앞에 오셔서 저희를 믿고 찾아와 주셔서 감사합니다.',\n",
              " '청년치킨 삼전점을 방문해 주신 여러분께 감사의 뜻을 전하며 더 맛있는 요리와 서비스로 찾아 뵙겠습니다.',\n",
              " '저희 청년치킨의 총알배송을 맛보셨다구요? 앞으로도 더욱 빠른 속도와 따뜻한 상품으로 고객님의 치킨타임에 즐거움을 더해 드리겠습니다.',\n",
              " '청년치킨은 언제나 맛있고 건강한 밥상을 위해 노력하겠습니다.',\n",
              " '청년치킨은 언제나 고객님의 flex를 위해 노력합니다.',\n",
              " '저희 청년치킨은 매일 신선한 닭을 공급하고 기름도 매일 새로운 기름으로 교체하면서 깨끗하고 맛있는 치킨을 제공해드리고 있습니다 찜 꼭 눌러주세요',\n",
              " '저희 청년치킨을 사랑해 주시는 모든 분들께 감사의 뜻을 전하며 더욱 좋은 요리와 푸짐한 양으로 보답하겠습니다.',\n",
              " '고객님 죄송합니다 음식 받아보시고 매장으로 바로 연락주시면 좋을 것 같은데 그러지 못해 대단히 죄송합니다 다음 주문때는 꼭 그렇게 해드릴게요',\n",
              " '오늘도 청년치킨 삼전점을 방문해 주셔서 감사합니다 즐거운 치킨타임을 위해 더 맛있는 치킨을 만들어 보도록 하겠습니다.',\n",
              " '저희 청년의 주특기가 바로 겉바 속촉아니겠습니까 비결은 저희의 애정이 듬뿍담겨 있기때문이죠 D 메인인 만큼 확실하게 담백함과 바삭함이 보장되어 있습니다니다.',\n",
              " '저희 메뉴에 중독되는 그날까지 최선을 다해 응원하겠습니다 항상 감사드립니다 음식은 역시 맛이 제일인데 그 맛을 최고로 인정해 주셔서 감사합니다.',\n",
              " '맛있는 요리 만들어 주셔서 감사합니다 :) 더 좋은 재료와 요리 방법으로 찾아 뵐게요.',\n",
              " '저희 매장을 찾아와 주신 고객님께 감사의 뜻을 전하고 더 열심히 해야겠다는 생각이 든 건 맛있는 음식을 만들어 드릴 수 있어서였습니다.',\n",
              " '저희 매장을 찾아와 주셨던 많은 분들께 감사드립니다 항상 최선을 다해 도와드리고 있는 만큼 더 좋은 제품으로 보답하겠습니다 또',\n",
              " '항상 건강하고 좋은 날만 가득하길 바라는 마음으로 글을 써 주신 분께 감사드립니다.',\n",
              " '저희 만다린을 믿고 찾아와 주셔서 감사합니다 소중한 시간 동안 저희 매장을 방문해 주셔서 정말 감사드립니다.',\n",
              " '항상 행복한 시간을 보내 주신 여러분께 감사드립니다.',\n",
              " '이렇게 좋은 서비스를 제공해 주신 고객님께 감사의 마음을 전하며 더 좋은 요리와 서비스로 찾아 뵐게요.',\n",
              " '고객님께서 동네에서 최고로 맛있는 음식으로 인정해 주신 저희 가게에 이렇게 찾아와 주셔서 감사합니다 앞으로도 더욱 열심히 공부해서 멋진 요리로 보답하겠습니다.',\n",
              " '저희 가게를 방문해 주신 고객님께 감사의 뜻을 전하고 싶고 또 그 마음을 전할 수 있는 음식을 만들어 드리고 싶은 욕심이 간절합니다.',\n",
              " '제가 어렸을 때 친구들에게 놀림 당하면서도 이렇게 칭찬 들을 수 있는 곳이 있었나 싶어요 여러분도 한번 도전해 보시면 좋겠어요.',\n",
              " '고객님 매장 운영하면서 자주 듣는 말 중 하나이지만 맛있는 음식이란 언제나 들어도 질리지 않는 거 같아요 앞으로도 맛있는 요리 만들어 드릴 테니 많이 기대해 주세요',\n",
              " '행복한 하루를 행복하게 만들어 주신 여러분께 감사의 마음을 전하며 이만 물러가 보겠습니다.',\n",
              " '항상 맛있는 요리로 행복한 밥상을 차려 드릴 것을 약속합니다 저희 매장을 방문해 주신 고객님들께 감사의 마음을 전하며 더욱 노력하겠습니다.',\n",
              " '저희는 항상 최선을 다해 고객님께 요리를 소개해 드릴 것이며 그 요리가 제 마음에 드시면 좋겠습니다.',\n",
              " '저희 매장을 방문해 주신 분들께 감사의 뜻을 전하고 싶고 부족한 점이 무엇인지 알려 주셔서 정말 감사드립니다.',\n",
              " '매장에서 식사를 하고 나가는 데 시간이 오래 걸리면 어떤 메뉴가 내 입맛에 맞을지 항상 궁금했는데 이렇게 좋은 소식을 전해 드려서 얼마나 기쁜지요',\n",
              " '처음 방문하신 고객님께서 저희 매장을 찾아와 주셨는데 감사의 마음을 전해 드리고 다음에도 더 좋은 요리와 멋진 서비스로 찾아 뵙겠습니다.',\n",
              " '맛있는 음식을 찾아 항상 노력하는 만큼 부족한 점이 있더라도 이해해 주시기 바랍니다 :) 이렇게 좋은 글을 남겨 주셔서 감사합니다.',\n",
              " '항상 행복한 순간을 사진으로 담는 것처럼 고객님의 행복한, 늘 건강한 나날들이 되시길 기원합니다.',\n",
              " '항상 행복한 음식만 제공해 드릴 수 있는 저희가 더욱 노력을 많이 할 수 있게 노력할게요 언제든 전화 주시면 감사하겠습니다.',\n",
              " '저희 매장이 항상 최선을 다해 고객님을 모시겠습니다 항상 행복한 일만 가득하길 기원합니다.',\n",
              " '저희 매장을 방문해 주신 고객님께 감사의 뜻을 전하고 앞으로 더 좋은 요리와 서비스로 찾아 뵙겠습니다.',\n",
              " '최고의 칭찬 감사드립니다 항상 최고가 되기 위해 노력하겠습니다 짜장면 하면 만다린 o 앞으로도 많이 사랑해 주세요 소중한 주문과 리뷰 감사드립니다',\n",
              " '저희를 믿고 주문해 주신 모든 분들께 항상 감사의 마음을 전하며 앞으로도 더욱 좋은 요리와 서비스로 찾아 뵙겠습니다.',\n",
              " '고객님의 소중한 시간이 낭비되지 않도록 저희 매장을 이용해 주시고 좋은 평을 써 주신 분들께 감사의 뜻을 전하며 오늘도 5점 만점을 위해 노력하겠습니다.',\n",
              " '항상 고객님께 최선을 다해 요리를 해 드릴 것을 약속 드리고 있는 만큼 더 좋은 요리로 찾아 뵙겠습니다.',\n",
              " '고객을 생각하는 마음 2 더 나은 맛과 서비스가 결국 정답이다 3 최선을 다하는 직원들의 고마움 이 세 가지를 잊지 않고 오늘도 힘을 내겠습니다.',\n",
              " '항상 그렇듯 저희 매장을 찾아와 주시고 맛있는 요리를 소개해주시면 감사하겠습니다 감사합니다.',\n",
              " '이렇게 맛있는 만다린을 준비해 주셔서 감사합니다 맛있게 드실 수 있도록 준비했는데 아직 부족한 부분이 있었다면 다음엔 더 좋은 요리로 찾아오겠습니다 그럼 별점 5점을 드리겠습니다.',\n",
              " '항상 저희 매장을 찾아와 주시고 맛있는 음식을 제공해주시는 분들께 감사의 마음을 전하며 더욱 행복한 나날들이 되기를 기원합니다.',\n",
              " '저희 매장을 찾아와 주신 분들께 감사의 뜻을 전하고 싶고 앞으로도 더 좋은 요리와 서비스로 보답하겠습니다.',\n",
              " '이렇게 좋은 요리를 만들어 주셔서 감사합니다. 항상 좋은 재료와 요리로 보답하겠습니다.',\n",
              " '저희 매장을 찾아와 주신 고객님들께 감사의 마음을 전하며 늘 웃는 모습으로 최선을 다해 돕겠습니다.',\n",
              " '고객님의 행복한 시간에 저희 매장이 함께 할 수 있어 너무 행복하고 영광스러운 하루였어요 오늘도 감사의 마음을 전하며 더 좋은 요리와 서비스로 찾아 뵙겠습니다.',\n",
              " '좋은 평가를 해 주신 분들 덕분에 제가 더 잘 할 수 있을 것 같은데요 앞으로도 잘 부탁드립니다.',\n",
              " '저희 매장을 방문해 주신 고객님께 감사의 뜻을 전하고 더 좋은 요리와 서비스로 보답하겠습니다 감사합니다.',\n",
              " '저희 매장은 항상 최선을 다해 고객을 대하고 맛과 양, 서비스 등 모든 면에서 최고를 추구하는 곳으로 기억되고 싶습니다.',\n",
              " '저희는 항상 최선을 다해 고객님께 요리를 소개해 드릴 것이며 단순한 요리가 아닌 항상 고객님을 생각합니다.',\n",
              " '양질의 서비스와 질 좋은 음식을 제공해 주시는 고객님께 감사의 마음을 전하며, 늘 웃는 모습으로 고객을 맞이하는 맞춤형 눈높이 교육을 해 주시기 위해 노력하겠습니다.',\n",
              " '항상 저희 요리를 맛있게 해 주시는 고객님께 감사의 마음을 전하며 더욱 좋은 요리로 찾아 뵙겠습니다.',\n",
              " '항상 최고의 자리에 함께 해 주시는 만큼 더 많이 노력하겠습니다 고객님 감사합니다 이렇게 좋은 말씀 해 주셔서 감사합니다.',\n",
              " '저희 만다린은 언제나 손님이 만족할 수 있는 요리를 위해 노력하겠습니다 기억해 주셔서 감사합니다.',\n",
              " '손님들에게 요리의 즐거움을 함께 해 드릴 수 있는 매장이 되기 위해서 최선을 다해 노력하겠습니다.',\n",
              " '항상 최고의 맛을 내 놓으려고 노력하는 저희 가게를 믿고 맡겨 주셔서 고맙습니다.',\n",
              " '이렇게 좋은 말씀 드릴 수 있어서 정말 감사드립니다 항상 고객님이 찾아뵙고 있지만 항상 부족한 점이 많아요 그럼에도 불구하고 저희가 더 열심히 하겠습니다.',\n",
              " '저희 만다린을 믿고 맡겨주신 고객님께 감사의 뜻을 전하고 싶고 앞으로도 좋은 제품으로 찾아 뵐게요.',\n",
              " '항상 최선을 다하는 쇼핑몰이 되기 위해 노력하고 있으니 앞으로도 많은 응원 부탁드립니다.',\n",
              " '저희 매장을 방문해 주셔서 감사의 인사를 드립니다 항상 깨끗한 매장 상태와 신선한 재료들 그리고 깨끗한 조리 과정을 통해 고객님께 최선을 다해 요리해 드리겠습니다.',\n",
              " '고객님 감사합니다 오늘도 저희가 더 열심히 해서 5점을 얻어 낼 수 있는 목표를 향해 달려가는 길에 항상 최선을 다해 응원하겠습니다.',\n",
              " '고객님의 메뉴는 소중하니까 신속하게 먹어야 하니까 이런 마음들 가득 담아 준비해봤는데 빠르게 배송되어 감사합니다 항상 이 감사함에 보답 드릴 수 있는 매장이 됩',\n",
              " '항상 노력해서 별을 따도록 하겠습니다 맛있게 먹어 주셔서 감사합니다 이렇게 저희 매장을 방문해 주셔서 정말 감사합니다',\n",
              " '항상 즐겁고 행복한 순간을 제공해 주시는 고객님들께 감사의 마음을 전하며 저희 브랜드를 믿고 찾아와 주셔서 감사합니다.',\n",
              " '항상 고객님의 입맛을 저격하는 맛있는 요리로 보답하겠습니다.',\n",
              " '고객 입장에서 불편함이 없는지 항상 고민하고 개선해 나아가 앞으로도 더 맛있는 맛과 서비스를 제공하는 것을 약속하겠습니다 다시 찾아와 주셔서 감사합니다.',\n",
              " '저희 매장을 방문해 주신 분들께 감사의 마음을 전하며 더 좋은 서비스와 좋은 제품으로 보답하겠습니다.',\n",
              " '저희 가게를 찾아와 주신 분들께 감사의 뜻을 전하고 싶고 저희도 더 열심히 해서 손님들에게 좋은 음식을 만들어 드리고 싶네요.',\n",
              " '저희 만다린에 주문해 주셔서 감사합니다 다음에 또 주문할 때는 꼭 5점 만점에 5점을 드리고 싶네요.',\n",
              " '저희 메뉴가 여러분들에게 만족을 드린 것 같아 기분이 좋은데 앞으로도 행복한 하루 되세요 :)',\n",
              " '더 나은 브랜드는 고객이 만드는 것임을 알기에 고객 관점에서 더욱 만족하실 수 있도록 전진하겠습니다 다시 주문 주셔도 언제나 한결같은 자세로 대기하고 있을게요',\n",
              " '이렇게 좋은 평가를 해주신 분들께 감사의 뜻을 전하고 싶고, 더 좋은 요리로 찾아 뵐게요.',\n",
              " '저희 매장을 찾아주시는 많은 분들께 감사의 뜻을 전하고 싶어서 이렇게 글을 작성해 보았습니다 메뉴별 최고의 온도는 어떤 것입니까?',\n",
              " '항상 노력하고 발전하는 곳에서 고객님의 만족도를 높여 드릴 것을 약속하겠습니다.',\n",
              " '저희 브랜드와 항상 함께 해주시는 고객님께 항상 감사의 마음을 전하며 더 좋은 요리로 찾아 뵙겠습니다.',\n",
              " '항상 행복한 일들만 가득하길 바라는 마음으로 맛있는 음식과 따뜻한 마음을 드릴 수 있는 가게가 되도록 노력하겠습니다.',\n",
              " '저희 매장이 생각날 때 또 다시 찾아 뵐게요 오늘도 수고 많으셨죠?',\n",
              " '고객님 항상 행복 가득한 날 되세요 항상 공부하고 연습하는 것처럼 항상 최선을 다해 도와 드리겠습니다 저희 메뉴가 만족도를 높여 드릴 수 있어 기쁩니다',\n",
              " '항상 행복한 일들만 가득하길 기원합니다 고객님이 보내주신 맛있는 요리로 항상 건강한 밥상을 차려 드리겠습니다.',\n",
              " '항상 건강 유의 하시고 오늘도 행복한 하루 되세요 저희 매장을 찾아와 주신 고객님께 감사의 뜻을 전하고 싶습니다.',\n",
              " '우리 고객님의 마음에 쏙 들 수 있도록 오늘도 저희 만다린은 최선을 다해 노력하겠습니다.',\n",
              " '이렇게 좋은 평가를 해 주신 분들께 감사의 뜻을 전하고 싶고요, 제가 가진 능력이 부족한 점도 많았습니다.',\n",
              " '항상 한결같은 만족도를 드릴 수 있도록 최선을 다해 운영 하겠습니다 고객에게 요리를 소개하는 것이 직업인 저희에게는 이런 따뜻한 한마디 말이 힘이 되고 있습니다.',\n",
              " '저희 매장의 목표는 누구나 맛있게 먹을 수 있는 그런 집이 되는 것이에요 오늘도 최선을 다해 노력하겠습니다.',\n",
              " '항상 행복한 하루 되세요 저희 매장을 찾아와 주셔서 감사합니다 항상 깨끗한 매장 상태와 신선한 재료 관리 그리고 깨끗한 조리 과정으로 고객님의 요청이 있을 때 최선을 다해 돕겠습니다.',\n",
              " '행복한 그 순간을 위해 사진을 찍는 이유가 고객님의 행복한 시간을 남기기 위한 것이죠 별점 5점이라는 점수도 너무 감사한데 맛있는 사진 리뷰까지 해 주셔서 감사합니다.',\n",
              " '저희 매장을 찾아와 주신 분들께 감사의 말씀을 전하며 더 좋은 서비스와 좋은 제품으로 보답하겠습니다.',\n",
              " '고객님 맛있게 먹어주신 것 만으로도 감사한데 이렇게 정성스러운 사진 후기 까지 써 주셔서 감사합니다 저희 만다린은 항상 고객님의 만족도를 높여 나가는 매장이 될 게요.',\n",
              " '항상 고객님의 요청이 있을 때 최선을 다해 돕겠습니다. 감사합니다.',\n",
              " '우리 고객님께 인정 받았다 역시 진실은 통한다고 하더니 저희 매장은 항상 내 가족 내 친구를 위해 준비 한다는 그 마음으로 항상 노력에 노력을 더하여 드리고 있습니다.',\n",
              " '항상 최선을 다한다는 마음으로 일하고 있는 저희 가게에 맛있는 음식을 제공해 주시는 고객님께 감사드립니다.',\n",
              " '항상 감사의 마음을 전하고 있지만 항상 변수가 많은 만큼 배달이 늦어지면 항상 죄송해요 오늘은 고객님이 너무 잘 먹었다고 전해 드리고 싶네요',\n",
              " '고객님 이렇게 만족해 주셔서 감사합니다 다음에 또 좋은 요리로 찾아 뵐게요 감사합니다.',\n",
              " '저희 매장을 찾아와 주신 분들께 감사의 말씀을 전해 드리고 싶고, 맛있는 음식은 언제나 환영합니다.',\n",
              " '안녕하세요 고객님 오늘도 맛있는 요리와 감사의 마음을 전해 드리는 더 좋은 요리 만들어 보겠습니다.',\n",
              " '맛있는 요리를 항상 대기하면서 고객님의 기대에 부응하기 위해 최선을 다해 노력하는 우리 식당에 와 주셔서 감사합니다.',\n",
              " '정말 맛있게 드실 수 있을 것 같은 메뉴인데도 불구하고 고민하시는 분들이 많이 계실 것 같아서 별점 5점과 리뷰 5점을 드립니다.',\n",
              " '저희 만다린은 언제나 고객님이 만족하실 수 있도록 최선을 다해 노력하는 곳으로 항상 열려 있습니다.',\n",
              " '고객님이 저희 메뉴를 드시고 환히 미소를 지으면 기분 좋은 추억이 될 것 같은데 그날도 좋은 하루 되세요.',\n",
              " '항상 고민하고 걱정하는 우리 고객님의 마음을 잘 알기에 이렇게 좋은 서비스를 해 드릴 수 있음에 감사드립니다.',\n",
              " '맛있게 잘 먹었다고 내일 또 맛있는 요리로 찾아 뵐게요 건강하세요',\n",
              " '항상 건강하시고 행복하시기를 기원합니다 항상 건강하세요',\n",
              " '더 좋은 요리와 더 맛있는 요리로 찾아 뵐게요 감사합니다.',\n",
              " '더 좋은 요리와 더 맛있는 요리로 찾아 뵐게요 감사합니다.',\n",
              " '단골이 늘어나서 너무 좋습니다 앞으로도 자주 이용하겠습니다 감사합니다',\n",
              " '어찌 그런일이 있는지 모르겠지만 신경 써 주시기 바랍니다 감사합니다 건강하세요',\n",
              " '더 좋은 요리와 더 맛있는 요리로 찾아 뵐게요 고맙습니다.',\n",
              " '항상 맛있는 요리로 찾아 뵐게요 건강하세요',\n",
              " '항상 최선을 다하는 모습을 보여주세요 감사합니다 건강하세요',\n",
              " '항상 건강하시고 행복하시기를 기원합니다.',\n",
              " '즐겁고 행복한 연휴 되세요 다들 건강 유의하시구요 사랑합니다',\n",
              " '저희는 자체적으로 배달을 하지 않기 때문에 배달 기사님들이 가끔 배달 문제가 생기면 저희가 대신 해결합니다 말씀 감사합니다',\n",
              " '좋은 기억의 만다린 인사드립니다 항상 최선을 다해 모시겠습니다 건강하세요',\n",
              " '자주 찾아 주셔서 감사합니다 또 맛있는 요리로 찾아 뵙겠습니다 항상 건강하세요',\n",
              " '아 그랬군요 담에는 빠른 배송 약속 드리겠습니다 휴일 잘 보내시고요 건강하세요 감사합니다',\n",
              " '항상 최선을 다하는 다린이가 되도록 노력하겠습니다 감사합니다.',\n",
              " '제가 직접 하지는 않고 저희가 하는 요기요 어플 플러스에서 제가 대신 전달해 드리고 있는데 주말 잘 보내셨는지 모르겠습니다.',\n",
              " '네 잘 알아 보겠습니다 감사합니다 잘 보겠습니다 잘 봤습니다 감사합니다',\n",
              " '항상 좋은 말씀 해 주시는 여러분 덕분에 기분 좋은 하루가 되고 있습니다.',\n",
              " '안녕하세요 감사합니다 건강하세요 정말 감사합니다',\n",
              " '제가 처리해드릴수 없어 정말 죄송합니다 여기에 연락하셔서 환불 처리 받으시길 바랍니다.',\n",
              " '항상 건강하시고 행복하시기를 진심으로 기원합니다. 감사합니다.',\n",
              " '감사 합니다 건강하세요 그리고 너무 행복합니다.',\n",
              " '항상 최선을 다하는 만다린으로 항상 건강하시고 많이 사랑해주세요 감사합니다.',\n",
              " '체크 하겠습니다 감사합니다 잘 보겠습니다 감사합니다',\n",
              " '앗 감사합니다 건강하세요 그리고 꼭 기억해 주시면 감사하겠습니다 감사합니다',\n",
              " '맛있게 잘 먹어 주셔서 감사합니다 다음에도 또 맛있는 요리로 찾아 뵙겠습니다 감사합니다',\n",
              " '담에 요청사항에 꼭 쿠폰 말씀 하시고요 서비스도 함께 보내드리겠습니다 감사합니다 건강하세요',\n",
              " '더 좋은 요리와 더 맛있는 요리로 찾아 뵐게요 감사합니다.',\n",
              " '구정 연휴에 날씨도 너무 추웠지만 배달이 좀 많이 밀려 있었습니다 죄송합니다 그럼 빨리 보내 드리도록 하겠습니다.',\n",
              " '새해에도 항상 건강하시고 행복하시기를 진심을 전합니다 새해 복 많이 받으시십시오',\n",
              " '더맛있는 요리로 찾아 뵐게요 감사합니다.',\n",
              " '맛있게 잘 먹었습니다. 새해에도 맛있는 음식 만들어 주세요.',\n",
              " '새해에도 건강하시고 행복하시기를 기원합니다 여러분 너무 감사합니다',\n",
              " '항상 건강하시고 행복하시기를 기원합니다 감사합니다',\n",
              " '담에도 맛있는 요리로 찾아 뵐게요 건강하세요 감사합니다',\n",
              " '항상 맛있게 잘 먹어 주셔서 감사합니다 또 맛있는 요리로 찾아 뵐게요 건강하세요',\n",
              " '항상 최선을 다하는 다린아가 될게요 건강하세요 그리고 언제나 웃는 모습이 아름답습니다.',\n",
              " '항상 맛있는 요리로 찾아 뵐게요 건강하세요',\n",
              " '항상 든든한 한끼를 찾고 계신 분이라면 배달의 민족 송파점을 찾아주세요 :) 성의있는 후기와 별점 만점을 주신다면 더욱 좋은 서비스를 제공해 드리겠습니다.',\n",
              " '맛있는 한끼 식사를 위해 배달의 민족 송파점이 노력하겠습니다.',\n",
              " '배달의 쌀국수 송파점을 찾아주시는 모든 고객님께 감사의 마음을 전하며 추운 겨울 동안 몸과 마음이 건강해질 수 있게 더욱 노력하겠습니다.',\n",
              " '우리 고객님 소중한 한끼 식사 맛있게 해주셨구요 배달의쌀국수 송파점을 언제든지 방문해 주셔서 감사합니다.',\n",
              " '맛있는 한끼 든든하게 드시고 내일도 힘낼 수 있는 힘이 되기를 기원합니다.',\n",
              " '배달의쌀국수 송파점을 찾아주시는 모든 분들께 감사의 마음을 전하며 더욱 건강하고 맛있는 음식을 만들어 보도록 노력하겠습니다.',\n",
              " '배달의쌀국수 송파점을 방문해 주신 고객님께 감사의 마음을 전하며, 한 끼 식사를 더 맛있게 해 주시기 위해 더욱 노력하겠습니다.',\n",
              " '항상 좋은 재료와 신속한 배송으로 보답하는 배달의 민족 송파점이 되기를 진심으로 바랍니다.',\n",
              " '배달의 민족 송파점은 고객님의 성원에 항상 감사의 마음을 전하며 최선을 다해 서비스를 준비하는 한편 고객과의 약속에도 엄격함을 다하고 있습니다.',\n",
              " '항상 좋은 말씀과 감사의 마음을 갖고 맛있는 음식을 제공해 드리는 배달의 민족 송파점이 되도록 노력하겠습니다.',\n",
              " '항상 고객님들께 신속한 배송 푸짐한 양 좋은 요리로 보답하는 배달의 국수 송파점이 되도록 노력하겠습니다.',\n",
              " '항상 고객님들께 신속한 배송 푸짐한 양 좋은 요리로 보답하는 배달의 국수 송파점이 되도록 노력하겠습니다.',\n",
              " '항상 좋은 말씀과 감사의 마음을 갖고 맛있는 음식을 제공해 드리는 배달의 민족 송파점이 되도록 노력하겠습니다.',\n",
              " '항상 좋은 말씀과 감사의 마음을 갖고 맛있는 음식을 제공해 드리는 배달의 민족 송파점이 되도록 노력하겠습니다.',\n",
              " '항상 든든한 한끼 식사를 하고 싶다면 배달의쌀국수 송파점을 방문해 주시면 됩니다.',\n",
              " '항상 푸짐한 양과 좋은 맛을 위해 노력하는 배달의 민족 송파점이 맛있는 음식을 제공해 드려 감사합니다.',\n",
              " '지난 3년간 매장을 운영하면서 많은 주문을 해주셨는데 항상 고객님의 성원에 힘입어 항상 새로운 맛과 서비스로 보답하는 배달의 민족 송파점이 되도록 노력하겠습니다.',\n",
              " '배달의쌀국수 송파점을 찾아주시는 모든 분들께 감사의 마음을 전하며 더욱 건강하고 맛있는 음식을 만들어 보도록 노력하겠습니다.',\n",
              " '항상 푸짐한 양과 좋은 맛으로 보답하는 배달의 민족 배달의민족 송파점이 더 맛있게 먹고 건강해질 수 있게 더 노력하겠습니다.',\n",
              " '항상 푸짐한 양과 좋은 맛으로 보답하는 배달의 민족 송파점이 더 맛있게 먹고 건강해질 수 있게 더 노력하겠습니다.',\n",
              " '항상 푸짐한 양과 좋은 맛으로 보답하는 배달의 민족 송파점이 되기를 진심으로 바랍니다.',\n",
              " '항상 맛있는 요리와 빠른 배달로 항상 손님들의 입맛을 사로잡는 배달의 민족 송파점이 되기를 바랍니다.',\n",
              " '항상 맛있는 음식과 신속한 배달로 항상 고객님들의 마음을 사로잡는 배달의 민족 송파점이 되기를 바랍니다.',\n",
              " '항상 푸짐한 양과 좋은 맛으로 보답하는 배달의 민족 송파점이 더 맛있게 먹고 건강해질 수 있게 더 노력하겠습니다.',\n",
              " '항상 푸짐한 양과 좋은 맛으로 보답하는 배달의 민족 송파점이 더 맛있게 먹고 건강해질 수 있게 더 노력하겠습니다.',\n",
              " ...]"
            ]
          },
          "execution_count": 64,
          "metadata": {},
          "output_type": "execute_result"
        }
      ],
      "source": [
        "reply_best_params = {'num_beams': 4, 'num_return_sequences': 4, 'no_repeat_ngram_size': 4, 'top_k': 64, 'top_p': 0.8312037280884873}\n",
        "\n",
        "over_reply = []\n",
        "for prompt in tqdm(train_['reply']):\n",
        "    generated_text = pipe(prompt, max_length=128, **reply_best_params, early_stopping=True)\n",
        "    generated_text = generated_text[0]['generated_text']\n",
        "    over_reply.append(generated_text)\n",
        "\n",
        "over_reply"
      ]
    },
    {
      "cell_type": "code",
      "execution_count": null,
      "metadata": {
        "id": "dwcI_V5x_ueR",
        "outputId": "24b7a107-36d9-4a95-b14b-78edb9903778"
      },
      "outputs": [
        {
          "data": {
            "text/html": [
              "<div>\n",
              "<style scoped>\n",
              "    .dataframe tbody tr th:only-of-type {\n",
              "        vertical-align: middle;\n",
              "    }\n",
              "\n",
              "    .dataframe tbody tr th {\n",
              "        vertical-align: top;\n",
              "    }\n",
              "\n",
              "    .dataframe thead th {\n",
              "        text-align: right;\n",
              "    }\n",
              "</style>\n",
              "<table border=\"1\" class=\"dataframe\">\n",
              "  <thead>\n",
              "    <tr style=\"text-align: right;\">\n",
              "      <th></th>\n",
              "      <th>review</th>\n",
              "      <th>reply</th>\n",
              "      <th>star</th>\n",
              "      <th>store</th>\n",
              "    </tr>\n",
              "  </thead>\n",
              "  <tbody>\n",
              "    <tr>\n",
              "      <th>0</th>\n",
              "      <td>리뷰가 늦었네요 맛있게 잘 먹었습니다 또 시킬게요</td>\n",
              "      <td>힘든 주방일에 치이고 있는 와중에도 맛있는 요리 해 주시는 고객님 덕분에 저도 기분...</td>\n",
              "      <td>5</td>\n",
              "      <td></td>\n",
              "    </tr>\n",
              "    <tr>\n",
              "      <th>1</th>\n",
              "      <td>잘 먹었습니다 다만 주문에 있던 펩시콜라는 받지 못했습니다</td>\n",
              "      <td>저희 매장을 찾아와 주신 여러분께 감사의 말씀을 전하며 더 좋은 요리와 멋진 요리로...</td>\n",
              "      <td>5</td>\n",
              "      <td></td>\n",
              "    </tr>\n",
              "    <tr>\n",
              "      <th>2</th>\n",
              "      <td>굿 말이 필요 없는 메뉴 였습니다</td>\n",
              "      <td>저희 가게 앞에 와주신 많은 분들께 감사의 말씀 전합니다.</td>\n",
              "      <td>5</td>\n",
              "      <td></td>\n",
              "    </tr>\n",
              "    <tr>\n",
              "      <th>3</th>\n",
              "      <td>맛있어요 양도많구좋음</td>\n",
              "      <td>항상 노력하고 발전하는 곳에서 고객님의 만족도를 높여 드릴 것을 약속하겠습니다.</td>\n",
              "      <td>5</td>\n",
              "      <td></td>\n",
              "    </tr>\n",
              "    <tr>\n",
              "      <th>4</th>\n",
              "      <td>양많고 맛있었어요</td>\n",
              "      <td>저희 매장을 찾아와 주신 고객님들께 감사의 뜻을 전하고 싶고 또 그 고마움을 나눌 ...</td>\n",
              "      <td>5</td>\n",
              "      <td></td>\n",
              "    </tr>\n",
              "    <tr>\n",
              "      <th>...</th>\n",
              "      <td>...</td>\n",
              "      <td>...</td>\n",
              "      <td>...</td>\n",
              "      <td>...</td>\n",
              "    </tr>\n",
              "    <tr>\n",
              "      <th>11223</th>\n",
              "      <td>맛있게 잘 먹었습니다.</td>\n",
              "      <td>맛있는 요리 만들어 주셔서 감사합니다 더욱 노력하는 보둘미역이 되도록 최선을 다해 ...</td>\n",
              "      <td>4</td>\n",
              "      <td></td>\n",
              "    </tr>\n",
              "    <tr>\n",
              "      <th>11224</th>\n",
              "      <td>시원한 국물이 더 많았으면 국물 맛은 더 시원했을 것 같아요 시원한 국을 시원하게 ...</td>\n",
              "      <td>혹시라도 국물이 더 필요하면 배달용기에 국물을 더 부우시면 되고 아니면 생수를 조금...</td>\n",
              "      <td>4</td>\n",
              "      <td>우시</td>\n",
              "    </tr>\n",
              "    <tr>\n",
              "      <th>11225</th>\n",
              "      <td>맛있어요 포장도 꼼꼼하고 무엇보다 반찬이 짜지 않고 맛있어요 구성이 여러 가지라 더...</td>\n",
              "      <td>보통은 1인분에 2인분 정도 먹는 것으로 알고 있는데 많은 분들이 그렇게 많이 주셨...</td>\n",
              "      <td>4</td>\n",
              "      <td></td>\n",
              "    </tr>\n",
              "    <tr>\n",
              "      <th>11226</th>\n",
              "      <td>양이 진짜 많아요 진짜 많이 많이 덕분에 맛있게 먹었어요</td>\n",
              "      <td>맛있게 잘 먹었고 별 다섯 개를 드렸지만 맛있게 먹어 주셔서 감사합니다.</td>\n",
              "      <td>4</td>\n",
              "      <td></td>\n",
              "    </tr>\n",
              "    <tr>\n",
              "      <th>11227</th>\n",
              "      <td>항상 잘 들어주시고 잘 챙겨주셨는데 오늘은 못 드려서 아쉬웠어요 그래도 맛있게 잘 ...</td>\n",
              "      <td>여러분 다음에도 또 이용할게요 너무 늦어서 정말 죄송합니다.</td>\n",
              "      <td>4</td>\n",
              "      <td></td>\n",
              "    </tr>\n",
              "  </tbody>\n",
              "</table>\n",
              "<p>11228 rows × 4 columns</p>\n",
              "</div>"
            ],
            "text/plain": [
              "                                                  review   \n",
              "0                           리뷰가 늦었네요 맛있게 잘 먹었습니다 또 시킬게요   \\\n",
              "1                      잘 먹었습니다 다만 주문에 있던 펩시콜라는 받지 못했습니다    \n",
              "2                                     굿 말이 필요 없는 메뉴 였습니다   \n",
              "3                                            맛있어요 양도많구좋음   \n",
              "4                                              양많고 맛있었어요   \n",
              "...                                                  ...   \n",
              "11223                                       맛있게 잘 먹었습니다.   \n",
              "11224  시원한 국물이 더 많았으면 국물 맛은 더 시원했을 것 같아요 시원한 국을 시원하게 ...   \n",
              "11225  맛있어요 포장도 꼼꼼하고 무엇보다 반찬이 짜지 않고 맛있어요 구성이 여러 가지라 더...   \n",
              "11226                    양이 진짜 많아요 진짜 많이 많이 덕분에 맛있게 먹었어요   \n",
              "11227  항상 잘 들어주시고 잘 챙겨주셨는데 오늘은 못 드려서 아쉬웠어요 그래도 맛있게 잘 ...   \n",
              "\n",
              "                                                   reply  star store  \n",
              "0      힘든 주방일에 치이고 있는 와중에도 맛있는 요리 해 주시는 고객님 덕분에 저도 기분...     5        \n",
              "1      저희 매장을 찾아와 주신 여러분께 감사의 말씀을 전하며 더 좋은 요리와 멋진 요리로...     5        \n",
              "2                       저희 가게 앞에 와주신 많은 분들께 감사의 말씀 전합니다.     5        \n",
              "3           항상 노력하고 발전하는 곳에서 고객님의 만족도를 높여 드릴 것을 약속하겠습니다.     5        \n",
              "4      저희 매장을 찾아와 주신 고객님들께 감사의 뜻을 전하고 싶고 또 그 고마움을 나눌 ...     5        \n",
              "...                                                  ...   ...   ...  \n",
              "11223  맛있는 요리 만들어 주셔서 감사합니다 더욱 노력하는 보둘미역이 되도록 최선을 다해 ...     4        \n",
              "11224  혹시라도 국물이 더 필요하면 배달용기에 국물을 더 부우시면 되고 아니면 생수를 조금...     4    우시  \n",
              "11225  보통은 1인분에 2인분 정도 먹는 것으로 알고 있는데 많은 분들이 그렇게 많이 주셨...     4        \n",
              "11226           맛있게 잘 먹었고 별 다섯 개를 드렸지만 맛있게 먹어 주셔서 감사합니다.     4        \n",
              "11227                  여러분 다음에도 또 이용할게요 너무 늦어서 정말 죄송합니다.     4        \n",
              "\n",
              "[11228 rows x 4 columns]"
            ]
          },
          "execution_count": 65,
          "metadata": {},
          "output_type": "execute_result"
        }
      ],
      "source": [
        "train_['reply'] = over_reply\n",
        "train_"
      ]
    },
    {
      "cell_type": "markdown",
      "metadata": {
        "id": "dmsxky8iQFPj"
      },
      "source": [
        "- 여기까지 완료된 데이터 저장하기"
      ]
    },
    {
      "cell_type": "code",
      "execution_count": null,
      "metadata": {
        "id": "_os-9t-vQFPk"
      },
      "outputs": [],
      "source": [
        "# # 전체\n",
        "# train.to_csv(f\"{DATA_PATH}yogiyo_clean.csv\", index=False)\n",
        "\n",
        "# # 오버샘플 + 가게명 삭제\n",
        "# train.to_csv(f\"{DATA_PATH}yogiyo_OV_clean_store_del.csv\", index=False)\n",
        "\n",
        "# paraphrased\n",
        "train_.to_csv(f\"{DATA_PATH}yogiyo_paraphrased_reply.csv\", index=False)"
      ]
    },
    {
      "cell_type": "markdown",
      "metadata": {
        "id": "KeKlm-VGQFPk"
      },
      "source": [
        "### 여기까지 완료된 데이터 불러오기"
      ]
    },
    {
      "cell_type": "code",
      "execution_count": null,
      "metadata": {
        "colab": {
          "base_uri": "https://localhost:8080/"
        },
        "id": "5zzz7jweQFPk",
        "outputId": "ca5271dc-313c-414c-c77a-81955f28e669"
      },
      "outputs": [
        {
          "data": {
            "text/plain": [
              "(11228, 11228)"
            ]
          },
          "execution_count": 67,
          "metadata": {},
          "output_type": "execute_result"
        }
      ],
      "source": [
        "# # 전체\n",
        "# train = pd.read_csv(f\"{DATA_PATH}yogiyo_clean.csv\")\n",
        "\n",
        "# # 오버샘플 + 가게명 삭제\n",
        "# train = pd.read_csv(f\"{DATA_PATH}yogiyo_OV_clean_store_del.csv\")\n",
        "\n",
        "# paraphrased\n",
        "train = pd.read_csv(f\"{DATA_PATH}yogiyo_paraphrased_reply.csv\")\n",
        "\n",
        "train['review'] = train['review'].astype(str)\n",
        "train['reply'] = train['reply'].astype(str)\n",
        "review, reply = train[\"review\"] , train[\"reply\"]\n",
        "len(review) , len(reply)"
      ]
    },
    {
      "cell_type": "markdown",
      "metadata": {
        "id": "cByHbucXMlP_"
      },
      "source": [
        "# 텍스트 Paraphrase\n",
        "```\n",
        "https://huggingface.co/lcw99/t5-base-korean-paraphrase\n",
        "```"
      ]
    },
    {
      "cell_type": "code",
      "execution_count": null,
      "metadata": {
        "colab": {
          "base_uri": "https://localhost:8080/"
        },
        "id": "B9VShAVPMW6_",
        "outputId": "15890d4b-2d23-471d-9220-e41d996b091f"
      },
      "outputs": [
        {
          "data": {
            "text/plain": [
              "star\n",
              "1      90\n",
              "2      61\n",
              "3     153\n",
              "4     422\n",
              "5    9776\n",
              "Name: count, dtype: int64"
            ]
          },
          "execution_count": 11,
          "metadata": {},
          "output_type": "execute_result"
        }
      ],
      "source": [
        "train['star'].value_counts().sort_index() # 별점 분포 확인"
      ]
    },
    {
      "cell_type": "code",
      "execution_count": null,
      "metadata": {
        "colab": {
          "base_uri": "https://localhost:8080/"
        },
        "id": "Ge7PPFbi9bEy",
        "outputId": "5987ffaa-3f58-4012-c84b-13eb7baa882f"
      },
      "outputs": [
        {
          "data": {
            "text/plain": [
              "Index([   96,   144,   252,   363,   401,   658,  1552,  1835,  1951,  1988,\n",
              "        2002,  2049,  2171,  2228,  2229,  2509,  2653,  2780,  2858,  3636,\n",
              "        3731,  3861,  4390,  4857,  4922,  4990,  5120,  5662,  6005,  6984,\n",
              "        7367,  7427,  7450,  7508,  7653,  7693,  7849,  8068,  8238,  8294,\n",
              "        8477,  8555,  8605,  8652,  8790,  9233,  9449,  9594,  9799,  9881,\n",
              "       10398, 10811, 10938, 11612, 11670, 12519, 12526, 12583, 12646, 12755,\n",
              "       13079, 13135, 13173, 13209, 13347, 13714, 13980, 14404, 14410, 14413,\n",
              "       14425, 14515, 14599, 14616, 14853, 15130, 15299, 15599, 15798, 15800,\n",
              "       15811, 15911, 16088, 16113, 16265, 16302, 16401, 17313, 17679, 18188],\n",
              "      dtype='int64')"
            ]
          },
          "execution_count": 12,
          "metadata": {},
          "output_type": "execute_result"
        }
      ],
      "source": [
        "train[train['star'] == 1].index"
      ]
    },
    {
      "cell_type": "code",
      "execution_count": null,
      "metadata": {
        "id": "_53Nzgj45SqG"
      },
      "outputs": [],
      "source": [
        "from transformers import pipeline\n",
        "pipe = pipeline(\"text2text-generation\", model=\"lcw99/t5-base-korean-paraphrase\")"
      ]
    },
    {
      "cell_type": "code",
      "execution_count": null,
      "metadata": {
        "colab": {
          "base_uri": "https://localhost:8080/",
          "height": 72
        },
        "id": "AYFd8sVz_RE9",
        "outputId": "2cf0cc67-f847-4d9b-a95e-b0074953f142"
      },
      "outputs": [
        {
          "data": {
            "text/plain": [
              "'리뷰 이벤트 한다지만 너무 아닌 거 같아서 적습니다 배달이 20분 넘게 안오길래 전화해서 배달이 안온다 했더니 여자분께서 한숨 푹 쉬시면서 하아 비가 와서 배달 기사 안 잡힌다 하시는데 제가 뭐 그런거에 이해 못하는 사람도 아니고 그냥 안와서 물어보는건데 한숨음 왜 크게 쉬시나요 아니 돈을 내고 배달 시간도 20분이나 지나서 물어보는게 잘못된건가요 배달기사한테 도착하면 문자 달라고 하니까 문자도 안주셔서 밥은 식은 상태로 먹고 진짜 배달 시켜 먹어본곳 중에 제일 최악이네요 여긴'"
            ]
          },
          "execution_count": 16,
          "metadata": {},
          "output_type": "execute_result"
        }
      ],
      "source": [
        "train['review'][96]"
      ]
    },
    {
      "cell_type": "code",
      "execution_count": null,
      "metadata": {
        "colab": {
          "base_uri": "https://localhost:8080/"
        },
        "id": "Xvnwoz7o_HrW",
        "outputId": "2f920fdc-0fb9-43d5-f53c-b34e359fb14e"
      },
      "outputs": [
        {
          "name": "stdout",
          "output_type": "stream",
          "text": [
            "paraphrase:  아니 그런데 배달이 20분 넘게 안와서 전화해서 물어보니 배달 기사님이 비가 와서 못 간다고 하시는데 제가 그 말을 이해할 수 없습니다.\n"
          ]
        }
      ],
      "source": [
        "prompt = train['review'][96]\n",
        "generated_text = pipe(prompt, max_length=128, num_beams=3, num_return_sequences=1, no_repeat_ngram_size=3, top_k=50, top_p=0.95, early_stopping=True)\n",
        "# print(\"리뷰: \", prompt)\n",
        "print(\"paraphrase: \", generated_text[0]['generated_text'])"
      ]
    },
    {
      "cell_type": "code",
      "execution_count": null,
      "metadata": {
        "colab": {
          "base_uri": "https://localhost:8080/",
          "height": 54
        },
        "id": "8-xDiqza_fW4",
        "outputId": "1c52328e-befb-44a6-8602-83de7864b5d6"
      },
      "outputs": [
        {
          "data": {
            "text/plain": [
              "'안녕하세요 1988응답하라추억의옛날도시락 입니다 주신 리뷰 잘 읽었습니다 뒤돌아 보니 저희 응대에 미흡했던 점이 있던 것 같네요 응대 메뉴얼을 재점검 하도록 하겠습니다 이미 느끼신 불편함을 주워 담을 순 없지만 다음에 오실 때 요청 사항에 이 내용 남겨 주시면 저희가 더 신경 쓸 수 있도록 하겠습니다 그땐 온전한 만족감을 드릴 수 있도록 최선을 다하겠습니다 감사합니다 '"
            ]
          },
          "execution_count": 18,
          "metadata": {},
          "output_type": "execute_result"
        }
      ],
      "source": [
        "train['reply'][96]"
      ]
    },
    {
      "cell_type": "code",
      "execution_count": null,
      "metadata": {
        "colab": {
          "base_uri": "https://localhost:8080/"
        },
        "id": "8Cw294p4_f1M",
        "outputId": "5b53a652-840b-4630-8c40-6d011fb06f46"
      },
      "outputs": [
        {
          "name": "stdout",
          "output_type": "stream",
          "text": [
            "저희가 미처 생각하지 못한 부분이 있기 때문에 다시 한번 감사의 마음을 전하고 싶습니다.\n"
          ]
        }
      ],
      "source": [
        "prompt = train['reply'][96]\n",
        "generated_text = pipe(prompt, max_length=128, num_beams=4, num_return_sequences=1, no_repeat_ngram_size=4, top_k=50, top_p=0.95, early_stopping=True)\n",
        "print(generated_text[0]['generated_text'])"
      ]
    },
    {
      "cell_type": "code",
      "execution_count": null,
      "metadata": {
        "colab": {
          "base_uri": "https://localhost:8080/",
          "height": 35
        },
        "id": "3jdT1ieHD6Vl",
        "outputId": "369e9563-bbf9-47de-bc5f-02a85783a53e"
      },
      "outputs": [
        {
          "data": {
            "text/plain": [
              "'진짜리뷰안쓰는데 양이 2만원씩내고 먹을양은 절대아닙니다 장난하는것도아니고'"
            ]
          },
          "execution_count": 20,
          "metadata": {},
          "output_type": "execute_result"
        }
      ],
      "source": [
        "train['review'][144]"
      ]
    },
    {
      "cell_type": "code",
      "execution_count": null,
      "metadata": {
        "colab": {
          "base_uri": "https://localhost:8080/"
        },
        "id": "vCtgNr4jD6Vm",
        "outputId": "2458d1ec-6b4d-4d17-ee80-5a1c9fdcbda8"
      },
      "outputs": [
        {
          "name": "stdout",
          "output_type": "stream",
          "text": [
            "paraphrase:  진짜 2만원씩 내고 두번먹을 양이면 충분한데 제가 장난으로 글을 쓴것도 아니고 진짜 양이 너무 많아서 남길 생각도 없습니다.\n"
          ]
        }
      ],
      "source": [
        "prompt = train['review'][144]\n",
        "generated_text = pipe(prompt, max_length=128, num_beams=5, num_return_sequences=5, no_repeat_ngram_size=3, top_k=50, top_p=0.95, early_stopping=True)\n",
        "# print(\"리뷰: \", prompt)\n",
        "print(\"paraphrase: \", generated_text[0]['generated_text'])"
      ]
    },
    {
      "cell_type": "code",
      "execution_count": null,
      "metadata": {
        "colab": {
          "base_uri": "https://localhost:8080/",
          "height": 54
        },
        "id": "QCfL7y5hD6Vm",
        "outputId": "c799438d-6c84-4cdd-a392-3debf65e77be"
      },
      "outputs": [
        {
          "data": {
            "text/plain": [
              "'솔직한 리뷰 남겨 주셔서 감사합니다 저희 1988응답하라추억의옛날도시락은 언제나 약속 드린 정량을 드리기 위해 노력하고 있습니다 드렸을 때 준비 과정을 다시 살펴 보고 혹시 미흡했던 점은 없었는지 확인하겠습니다 아울러 본사 측에도 이 의견 전달 해서 더 개선 될 수 있는 부분은 없는지 검토해 보겠습니다 다음에 오실 때 요청 사항에 이 내용 남겨 주시면 저희가 더 신경 쓸 수 있도록 하겠습니다 감사합니다 '"
            ]
          },
          "execution_count": 22,
          "metadata": {},
          "output_type": "execute_result"
        }
      ],
      "source": [
        "train['reply'][144]"
      ]
    },
    {
      "cell_type": "code",
      "execution_count": null,
      "metadata": {
        "colab": {
          "base_uri": "https://localhost:8080/"
        },
        "id": "lQrd0QuHD6Vm",
        "outputId": "c5caf8db-aefa-43d3-8eec-1811e81cbabe"
      },
      "outputs": [
        {
          "name": "stdout",
          "output_type": "stream",
          "text": [
            "저희 1988응답하라추억의옛날도시락은 언제나 약속 드린 정량을 지키기 위해 노력하고 있습니다 전달 시 준비 과정을 다시 살펴 보고 혹시 부족한 점은 없는지 검토해 보겠습니다.\n"
          ]
        }
      ],
      "source": [
        "prompt = train['reply'][144]\n",
        "generated_text = pipe(prompt, max_length=128, num_beams=4, num_return_sequences=1, no_repeat_ngram_size=4, top_k=50, top_p=0.95, early_stopping=True)\n",
        "print(generated_text[0]['generated_text'])"
      ]
    },
    {
      "cell_type": "markdown",
      "metadata": {
        "id": "CdyCymneMfan"
      },
      "source": [
        "## 하이퍼파라미터 튜닝"
      ]
    },
    {
      "cell_type": "code",
      "execution_count": null,
      "metadata": {
        "colab": {
          "base_uri": "https://localhost:8080/",
          "height": 424
        },
        "id": "9_nyFAKHN3Me",
        "outputId": "0de61a66-f260-4e30-9083-c847d44b38cf"
      },
      "outputs": [
        {
          "data": {
            "text/html": [
              "<div>\n",
              "<style scoped>\n",
              "    .dataframe tbody tr th:only-of-type {\n",
              "        vertical-align: middle;\n",
              "    }\n",
              "\n",
              "    .dataframe tbody tr th {\n",
              "        vertical-align: top;\n",
              "    }\n",
              "\n",
              "    .dataframe thead th {\n",
              "        text-align: right;\n",
              "    }\n",
              "</style>\n",
              "<table border=\"1\" class=\"dataframe\">\n",
              "  <thead>\n",
              "    <tr style=\"text-align: right;\">\n",
              "      <th></th>\n",
              "      <th>review</th>\n",
              "      <th>reply</th>\n",
              "      <th>star</th>\n",
              "    </tr>\n",
              "  </thead>\n",
              "  <tbody>\n",
              "    <tr>\n",
              "      <th>0</th>\n",
              "      <td>리뷰 이벤트 한다지만 너무 아닌 거 같아서 적습니다 배달이 20분 넘게 안오길래 전...</td>\n",
              "      <td>안녕하세요 1988응답하라추억의옛날도시락 입니다 주신 리뷰 잘 읽었습니다 뒤돌아 보...</td>\n",
              "      <td>1</td>\n",
              "    </tr>\n",
              "    <tr>\n",
              "      <th>1</th>\n",
              "      <td>진짜리뷰안쓰는데 양이 2만원씩내고 먹을양은 절대아닙니다 장난하는것도아니고</td>\n",
              "      <td>솔직한 리뷰 남겨 주셔서 감사합니다 저희 1988응답하라추억의옛날도시락은 언제나 약...</td>\n",
              "      <td>1</td>\n",
              "    </tr>\n",
              "    <tr>\n",
              "      <th>2</th>\n",
              "      <td>만들어 놓은지 한참 된 커피 배달 예정 시간 25분이 지났어요</td>\n",
              "      <td>안녕하세요 배달이 늦어져 죄송합니다 한파로 길이 얼어서 고객님들이 상황이 여유치가 ...</td>\n",
              "      <td>1</td>\n",
              "    </tr>\n",
              "    <tr>\n",
              "      <th>3</th>\n",
              "      <td>밥이 쉬었어요 단무지 때문도 아니고 김이 많아서 그런것도 아니고 쉬어서 냄새가 나서...</td>\n",
              "      <td>밥이 쉬다뇨 말도 안되는 소리좀 하지마세요 진짜 먼 정신이 이상한 사람인가 하루에 ...</td>\n",
              "      <td>1</td>\n",
              "    </tr>\n",
              "    <tr>\n",
              "      <th>4</th>\n",
              "      <td>잠실점에 처음 시켜먹었던게 맛있어서 주문했더니 돈 은 나갔는데 다시 앱을 들어와보니...</td>\n",
              "      <td>요기요가 주문어플에 렉이 자주 있어서 여러가지로 혼돈이 있어 정말 죄송하게 되었습니...</td>\n",
              "      <td>1</td>\n",
              "    </tr>\n",
              "    <tr>\n",
              "      <th>...</th>\n",
              "      <td>...</td>\n",
              "      <td>...</td>\n",
              "      <td>...</td>\n",
              "    </tr>\n",
              "    <tr>\n",
              "      <th>721</th>\n",
              "      <td>맛있게 잘 먹었습니다</td>\n",
              "      <td>맛있게 드셔주셔서 감사드립니다 더 노력하는 보둘미역이 되겠습니다</td>\n",
              "      <td>4</td>\n",
              "    </tr>\n",
              "    <tr>\n",
              "      <th>722</th>\n",
              "      <td>국은 시원하게 맛있었어요 국물양이 더 많았으면 더 좋았겠습니다</td>\n",
              "      <td>맛있게 드셨다니 감사드립니다 매장과 같이 최대한 드리고있습니다 배달용기에 국물을 더...</td>\n",
              "      <td>4</td>\n",
              "    </tr>\n",
              "    <tr>\n",
              "      <th>723</th>\n",
              "      <td>배송 맛 반찬등 구성도 좋고 맛도 괜찮고 가격도 넘좋아요 양이 좀만더 많음 좋겠어용...</td>\n",
              "      <td>양이 좀 적어셨나봐요 보통 1인분에 두명도 드실수있는 양인데 그래도 맛있게 드셨다니...</td>\n",
              "      <td>4</td>\n",
              "    </tr>\n",
              "    <tr>\n",
              "      <th>724</th>\n",
              "      <td>잘먹었숩당 양은 증말로 많아요</td>\n",
              "      <td>맛있게 드셔주셔서 감사합니다 별 5개 받도록 노력하겠습니다</td>\n",
              "      <td>4</td>\n",
              "    </tr>\n",
              "    <tr>\n",
              "      <th>725</th>\n",
              "      <td>요청사항을 항상 잘 들어주셨는데 오늘은 못 모셨나봐요 그래도 잘 먹었습니다</td>\n",
              "      <td>죄송합니다 다음에도 애용해주세용</td>\n",
              "      <td>4</td>\n",
              "    </tr>\n",
              "  </tbody>\n",
              "</table>\n",
              "<p>726 rows × 3 columns</p>\n",
              "</div>"
            ],
            "text/plain": [
              "                                                review   \n",
              "0    리뷰 이벤트 한다지만 너무 아닌 거 같아서 적습니다 배달이 20분 넘게 안오길래 전...  \\\n",
              "1             진짜리뷰안쓰는데 양이 2만원씩내고 먹을양은 절대아닙니다 장난하는것도아니고   \n",
              "2                  만들어 놓은지 한참 된 커피 배달 예정 시간 25분이 지났어요    \n",
              "3    밥이 쉬었어요 단무지 때문도 아니고 김이 많아서 그런것도 아니고 쉬어서 냄새가 나서...   \n",
              "4    잠실점에 처음 시켜먹었던게 맛있어서 주문했더니 돈 은 나갔는데 다시 앱을 들어와보니...   \n",
              "..                                                 ...   \n",
              "721                                        맛있게 잘 먹었습니다   \n",
              "722                 국은 시원하게 맛있었어요 국물양이 더 많았으면 더 좋았겠습니다   \n",
              "723  배송 맛 반찬등 구성도 좋고 맛도 괜찮고 가격도 넘좋아요 양이 좀만더 많음 좋겠어용...   \n",
              "724                                  잘먹었숩당 양은 증말로 많아요    \n",
              "725          요청사항을 항상 잘 들어주셨는데 오늘은 못 모셨나봐요 그래도 잘 먹었습니다   \n",
              "\n",
              "                                                 reply  star  \n",
              "0    안녕하세요 1988응답하라추억의옛날도시락 입니다 주신 리뷰 잘 읽었습니다 뒤돌아 보...     1  \n",
              "1    솔직한 리뷰 남겨 주셔서 감사합니다 저희 1988응답하라추억의옛날도시락은 언제나 약...     1  \n",
              "2    안녕하세요 배달이 늦어져 죄송합니다 한파로 길이 얼어서 고객님들이 상황이 여유치가 ...     1  \n",
              "3    밥이 쉬다뇨 말도 안되는 소리좀 하지마세요 진짜 먼 정신이 이상한 사람인가 하루에 ...     1  \n",
              "4    요기요가 주문어플에 렉이 자주 있어서 여러가지로 혼돈이 있어 정말 죄송하게 되었습니...     1  \n",
              "..                                                 ...   ...  \n",
              "721                맛있게 드셔주셔서 감사드립니다 더 노력하는 보둘미역이 되겠습니다     4  \n",
              "722  맛있게 드셨다니 감사드립니다 매장과 같이 최대한 드리고있습니다 배달용기에 국물을 더...     4  \n",
              "723  양이 좀 적어셨나봐요 보통 1인분에 두명도 드실수있는 양인데 그래도 맛있게 드셨다니...     4  \n",
              "724                  맛있게 드셔주셔서 감사합니다 별 5개 받도록 노력하겠습니다      4  \n",
              "725                                 죄송합니다 다음에도 애용해주세용      4  \n",
              "\n",
              "[726 rows x 3 columns]"
            ]
          },
          "execution_count": 14,
          "metadata": {},
          "output_type": "execute_result"
        }
      ],
      "source": [
        "star_1 = train[train['star'] == 1]\n",
        "star_2 = train[train['star'] == 2]\n",
        "star_3 = train[train['star'] == 3]\n",
        "star_4 = train[train['star'] == 4]\n",
        "\n",
        "train_star = pd.concat([star_1, star_2, star_3, star_4], ignore_index=True)\n",
        "train_star"
      ]
    },
    {
      "cell_type": "markdown",
      "metadata": {
        "id": "4Tc4FyTMJRIK"
      },
      "source": [
        "### BLEU 계산 함수"
      ]
    },
    {
      "cell_type": "code",
      "execution_count": null,
      "metadata": {
        "id": "2ovgrVVGJTrF"
      },
      "outputs": [],
      "source": [
        "from nltk.translate.bleu_score import sentence_bleu\n",
        "\n",
        "def calculate_bleu(text, generated_text):\n",
        "    y = [text]  # 실제 데이터 y\n",
        "    X = generated_text  # 생성된 텍스트 X\n",
        "\n",
        "    # BLEU 점수 계산\n",
        "    bleu_score = sentence_bleu(y, X)\n",
        "    return bleu_score"
      ]
    },
    {
      "cell_type": "markdown",
      "metadata": {
        "id": "u8Wg4lwk_ueI"
      },
      "source": [
        "### review"
      ]
    },
    {
      "cell_type": "code",
      "execution_count": null,
      "metadata": {
        "id": "d8kpGlcB_fyi"
      },
      "outputs": [],
      "source": [
        "# import optuna\n",
        "# from transformers import pipeline\n",
        "\n",
        "# def objective(trial):\n",
        "#     hp = {\n",
        "#         \"num_beams\" : trial.suggest_int(\"num_beams\", 1, 10),\n",
        "#         \"num_return_sequences\" : trial.suggest_int(\"num_return_sequences\", 1, 5),\n",
        "#         \"no_repeat_ngram_size\" : trial.suggest_int(\"no_repeat_ngram_size\", 1, 5),\n",
        "#         \"top_k\" : trial.suggest_int(\"top_k\", 10, 100),\n",
        "#         \"top_p\" : trial.suggest_float(\"top_p\", 0.8, 1.0)\n",
        "#     }\n",
        "#     # num_return_sequences가 num_beams보다 작거나 같아야 하기 때문에 조건문 추가\n",
        "#     if hp[\"num_return_sequences\"] > hp[\"num_beams\"]:\n",
        "#         hp[\"num_return_sequences\"] = hp[\"num_beams\"]\n",
        "\n",
        "#     pipe = pipeline(\n",
        "#         \"text2text-generation\",\n",
        "#         model=\"lcw99/t5-base-korean-paraphrase\",\n",
        "#         device = 'cuda' if torch.cuda.is_available() else 'cpu'\n",
        "#     )\n",
        "\n",
        "#     bleu_scores = []\n",
        "#     for prompt in tqdm(train_star[\"review\"]): # star1~4까지\n",
        "#         generated_text = pipe(prompt, max_length=128, **hp, early_stopping=True)\n",
        "\n",
        "#         bleu_score = calculate_bleu(prompt, generated_text[0]['generated_text'])\n",
        "#         bleu_scores.append(bleu_score)\n",
        "\n",
        "#     # 모든 입력 텍스트에 대한 BLEU 점수 평균 계산 및 반환\n",
        "#     bleu_score_avg = sum(bleu_scores) / len(bleu_scores)\n",
        "#     return bleu_score_avg"
      ]
    },
    {
      "cell_type": "code",
      "execution_count": null,
      "metadata": {
        "colab": {
          "base_uri": "https://localhost:8080/",
          "height": 1000,
          "referenced_widgets": [
            "c9a39a79a42c49f595bcc68c55f10996",
            "96a622f3e6be40d3b21856280ecec709",
            "8d3a5dd6d1bd450f9f820886bcaafd60",
            "896b75a0ae0b40f6a1697f998087e3fa",
            "444f9994612d4ceb99961901769d8729",
            "a19eb68f10e5494c9ac958ba58a4dde9",
            "36c127f0339843ba8b207723987b2b22",
            "b7d1f8dd07d44e9c992173e78b07a7d0",
            "f43824c17f0c46f8aa481756c2b8bb1e",
            "726eb6f8cf3c403faaf53af8edb64b73",
            "8745ca77a93a478e9b8fe02c75e129fb",
            "1807c04538044bf392c19d112f397a83",
            "e8f50a4399d64fbaa40cfa827735b185",
            "d16dc568c4f548d18a0e4480ab838e96",
            "459564ca6fe44e0f836887d91c5d8232",
            "c3fd6e4b71ca4828b5905a030bc1bead",
            "2e800b9176784d7099f9a2e38c5e14df",
            "684bab3259644a5a972a6b2f4a8b7949",
            "6f2234a6333841ca84df96e7c55fb893",
            "f7d04783bed841298accd9679939b5c6",
            "91b6625718c04b03a5f479d39f4ce0ff",
            "2f76c1767d2f4efdad39d24a446c5cca",
            "edcf3ab0d92c460a90937b76f648e6fd",
            "58bf7d23d9384b6ab98d01e9a46f2bd8",
            "964c83772cf94396b7305dc1e114f7d1",
            "93ce06409dc94915a412d8d1bc5c1a3a",
            "7df468236b3a4a93a427122df8f751fc",
            "a19e0bc653a64ebda5859b0ae5d6027f",
            "a8abef2b4d1f4e22a87351ded484fc73",
            "546f6e4649334a2dbd12054dc37b3535",
            "78b153a09d4b418bbb3bad747bd304bd",
            "4bc553d2fcb34ca1a4728cdb3857560b",
            "ae11db88a42946c8900a61736e317a04",
            "63ccfe479f3446e3ba0882c272a24487"
          ]
        },
        "id": "76ks6rp6AgrS",
        "outputId": "ad983fd1-6f5b-45e1-d975-4c6375b0f924"
      },
      "outputs": [
        {
          "name": "stderr",
          "output_type": "stream",
          "text": [
            "[I 2023-09-04 18:21:25,156] A new study created in memory with name: no-name-88447d6d-9e54-42fa-ad15-c88fcd87f12d\n"
          ]
        },
        {
          "data": {
            "application/vnd.jupyter.widget-view+json": {
              "model_id": "edcf3ab0d92c460a90937b76f648e6fd",
              "version_major": 2,
              "version_minor": 0
            },
            "text/plain": [
              "  0%|          | 0/726 [00:00<?, ?it/s]"
            ]
          },
          "metadata": {},
          "output_type": "display_data"
        },
        {
          "name": "stderr",
          "output_type": "stream",
          "text": [
            "[I 2023-09-04 18:57:51,133] Trial 0 finished with value: 0.285731536841964 and parameters: {'num_beams': 4, 'num_return_sequences': 5, 'no_repeat_ngram_size': 4, 'top_k': 64, 'top_p': 0.8312037280884873}. Best is trial 0 with value: 0.285731536841964.\n"
          ]
        },
        {
          "data": {
            "application/vnd.jupyter.widget-view+json": {
              "model_id": "58bf7d23d9384b6ab98d01e9a46f2bd8",
              "version_major": 2,
              "version_minor": 0
            },
            "text/plain": [
              "  0%|          | 0/726 [00:00<?, ?it/s]"
            ]
          },
          "metadata": {},
          "output_type": "display_data"
        },
        {
          "name": "stderr",
          "output_type": "stream",
          "text": [
            "[I 2023-09-04 19:25:28,423] Trial 1 finished with value: 0.28140373147755066 and parameters: {'num_beams': 2, 'num_return_sequences': 1, 'no_repeat_ngram_size': 5, 'top_k': 64, 'top_p': 0.941614515559209}. Best is trial 0 with value: 0.285731536841964.\n"
          ]
        },
        {
          "data": {
            "application/vnd.jupyter.widget-view+json": {
              "model_id": "964c83772cf94396b7305dc1e114f7d1",
              "version_major": 2,
              "version_minor": 0
            },
            "text/plain": [
              "  0%|          | 0/726 [00:00<?, ?it/s]"
            ]
          },
          "metadata": {},
          "output_type": "display_data"
        },
        {
          "name": "stderr",
          "output_type": "stream",
          "text": [
            "[I 2023-09-04 19:44:18,818] Trial 2 finished with value: 0.2599486749168758 and parameters: {'num_beams': 1, 'num_return_sequences': 5, 'no_repeat_ngram_size': 5, 'top_k': 29, 'top_p': 0.8363649934414201}. Best is trial 0 with value: 0.285731536841964.\n"
          ]
        },
        {
          "data": {
            "application/vnd.jupyter.widget-view+json": {
              "model_id": "93ce06409dc94915a412d8d1bc5c1a3a",
              "version_major": 2,
              "version_minor": 0
            },
            "text/plain": [
              "  0%|          | 0/726 [00:00<?, ?it/s]"
            ]
          },
          "metadata": {},
          "output_type": "display_data"
        },
        {
          "name": "stderr",
          "output_type": "stream",
          "text": [
            "[I 2023-09-04 20:11:13,109] Trial 3 finished with value: 0.28033029449808605 and parameters: {'num_beams': 2, 'num_return_sequences': 2, 'no_repeat_ngram_size': 3, 'top_k': 49, 'top_p': 0.8582458280396084}. Best is trial 0 with value: 0.285731536841964.\n"
          ]
        },
        {
          "data": {
            "application/vnd.jupyter.widget-view+json": {
              "model_id": "7df468236b3a4a93a427122df8f751fc",
              "version_major": 2,
              "version_minor": 0
            },
            "text/plain": [
              "  0%|          | 0/726 [00:00<?, ?it/s]"
            ]
          },
          "metadata": {},
          "output_type": "display_data"
        },
        {
          "name": "stderr",
          "output_type": "stream",
          "text": [
            "[I 2023-09-04 20:48:14,059] Trial 4 finished with value: 0.2694733191553665 and parameters: {'num_beams': 7, 'num_return_sequences': 1, 'no_repeat_ngram_size': 2, 'top_k': 43, 'top_p': 0.8912139968434072}. Best is trial 0 with value: 0.285731536841964.\n"
          ]
        },
        {
          "data": {
            "application/vnd.jupyter.widget-view+json": {
              "model_id": "a19e0bc653a64ebda5859b0ae5d6027f",
              "version_major": 2,
              "version_minor": 0
            },
            "text/plain": [
              "  0%|          | 0/726 [00:00<?, ?it/s]"
            ]
          },
          "metadata": {},
          "output_type": "display_data"
        },
        {
          "name": "stderr",
          "output_type": "stream",
          "text": [
            "[I 2023-09-04 21:29:24,568] Trial 5 finished with value: 0.2850724303388997 and parameters: {'num_beams': 8, 'num_return_sequences': 1, 'no_repeat_ngram_size': 3, 'top_k': 63, 'top_p': 0.8092900825439996}. Best is trial 0 with value: 0.285731536841964.\n"
          ]
        },
        {
          "data": {
            "application/vnd.jupyter.widget-view+json": {
              "model_id": "a8abef2b4d1f4e22a87351ded484fc73",
              "version_major": 2,
              "version_minor": 0
            },
            "text/plain": [
              "  0%|          | 0/726 [00:00<?, ?it/s]"
            ]
          },
          "metadata": {},
          "output_type": "display_data"
        },
        {
          "name": "stderr",
          "output_type": "stream",
          "text": [
            "[I 2023-09-04 21:53:44,957] Trial 6 finished with value: 0.1070840014655058 and parameters: {'num_beams': 7, 'num_return_sequences': 1, 'no_repeat_ngram_size': 1, 'top_k': 96, 'top_p': 0.9931264066149119}. Best is trial 0 with value: 0.285731536841964.\n"
          ]
        },
        {
          "data": {
            "application/vnd.jupyter.widget-view+json": {
              "model_id": "546f6e4649334a2dbd12054dc37b3535",
              "version_major": 2,
              "version_minor": 0
            },
            "text/plain": [
              "  0%|          | 0/726 [00:00<?, ?it/s]"
            ]
          },
          "metadata": {},
          "output_type": "display_data"
        },
        {
          "name": "stderr",
          "output_type": "stream",
          "text": [
            "[I 2023-09-04 22:22:23,977] Trial 7 finished with value: 0.10654797208747599 and parameters: {'num_beams': 9, 'num_return_sequences': 2, 'no_repeat_ngram_size': 1, 'top_k': 72, 'top_p': 0.8880304987479203}. Best is trial 0 with value: 0.285731536841964.\n"
          ]
        },
        {
          "data": {
            "application/vnd.jupyter.widget-view+json": {
              "model_id": "78b153a09d4b418bbb3bad747bd304bd",
              "version_major": 2,
              "version_minor": 0
            },
            "text/plain": [
              "  0%|          | 0/726 [00:00<?, ?it/s]"
            ]
          },
          "metadata": {},
          "output_type": "display_data"
        },
        {
          "name": "stderr",
          "output_type": "stream",
          "text": [
            "[I 2023-09-04 22:38:33,125] Trial 8 finished with value: 0.11919134029393139 and parameters: {'num_beams': 2, 'num_return_sequences': 3, 'no_repeat_ngram_size': 1, 'top_k': 92, 'top_p': 0.8517559963200034}. Best is trial 0 with value: 0.285731536841964.\n"
          ]
        },
        {
          "data": {
            "application/vnd.jupyter.widget-view+json": {
              "model_id": "4bc553d2fcb34ca1a4728cdb3857560b",
              "version_major": 2,
              "version_minor": 0
            },
            "text/plain": [
              "  0%|          | 0/726 [00:00<?, ?it/s]"
            ]
          },
          "metadata": {},
          "output_type": "display_data"
        },
        {
          "name": "stderr",
          "output_type": "stream",
          "text": [
            "[I 2023-09-04 23:18:10,413] Trial 9 finished with value: 0.2843770295826129 and parameters: {'num_beams': 7, 'num_return_sequences': 2, 'no_repeat_ngram_size': 3, 'top_k': 59, 'top_p': 0.8369708911051055}. Best is trial 0 with value: 0.285731536841964.\n"
          ]
        },
        {
          "data": {
            "application/vnd.jupyter.widget-view+json": {
              "model_id": "ae11db88a42946c8900a61736e317a04",
              "version_major": 2,
              "version_minor": 0
            },
            "text/plain": [
              "  0%|          | 0/726 [00:00<?, ?it/s]"
            ]
          },
          "metadata": {},
          "output_type": "display_data"
        },
        {
          "name": "stderr",
          "output_type": "stream",
          "text": [
            "[I 2023-09-04 23:49:39,909] Trial 10 finished with value: 0.285731536841964 and parameters: {'num_beams': 4, 'num_return_sequences': 5, 'no_repeat_ngram_size': 4, 'top_k': 11, 'top_p': 0.8030735474656209}. Best is trial 0 with value: 0.285731536841964.\n"
          ]
        },
        {
          "data": {
            "application/vnd.jupyter.widget-view+json": {
              "model_id": "63ccfe479f3446e3ba0882c272a24487",
              "version_major": 2,
              "version_minor": 0
            },
            "text/plain": [
              "  0%|          | 0/726 [00:00<?, ?it/s]"
            ]
          },
          "metadata": {},
          "output_type": "display_data"
        },
        {
          "name": "stderr",
          "output_type": "stream",
          "text": [
            "[I 2023-09-05 00:20:59,956] Trial 11 finished with value: 0.285731536841964 and parameters: {'num_beams': 4, 'num_return_sequences': 5, 'no_repeat_ngram_size': 4, 'top_k': 17, 'top_p': 0.8007473955626367}. Best is trial 0 with value: 0.285731536841964.\n"
          ]
        },
        {
          "name": "stdout",
          "output_type": "stream",
          "text": [
            "best_bleu_score: 0.285731536841964\n",
            "best_params: {'num_beams': 4, 'num_return_sequences': 5, 'no_repeat_ngram_size': 4, 'top_k': 64, 'top_p': 0.8312037280884873}\n"
          ]
        }
      ],
      "source": [
        "# # 하이퍼파라미터 최적화\n",
        "# sampler = optuna.samplers.TPESampler(seed=SEED)\n",
        "# study = optuna.create_study(sampler=sampler, direction=\"maximize\")\n",
        "# study.optimize(objective, n_trials=12)\n",
        "\n",
        "# # 최적 값 출력\n",
        "# best_bleu_score = study.best_value\n",
        "# best_params = study.best_params\n",
        "# print(\"best_bleu_score:\", best_bleu_score)\n",
        "# print(\"best_params:\", best_params)"
      ]
    },
    {
      "cell_type": "markdown",
      "metadata": {
        "id": "5IsX23Fr_ueJ"
      },
      "source": [
        "### reply"
      ]
    },
    {
      "cell_type": "code",
      "execution_count": null,
      "metadata": {
        "id": "grY9_KnCAgpY"
      },
      "outputs": [],
      "source": [
        "# import optuna\n",
        "# from transformers import pipeline\n",
        "\n",
        "# def objective(trial):\n",
        "#     hp = {\n",
        "#         \"num_beams\" : trial.suggest_int(\"num_beams\", 1, 10),\n",
        "#         \"num_return_sequences\" : trial.suggest_int(\"num_return_sequences\", 1, 5),\n",
        "#         \"no_repeat_ngram_size\" : trial.suggest_int(\"no_repeat_ngram_size\", 1, 5),\n",
        "#         \"top_k\" : trial.suggest_int(\"top_k\", 10, 100),\n",
        "#         \"top_p\" : trial.suggest_float(\"top_p\", 0.8, 1.0)\n",
        "#     }\n",
        "#     # num_return_sequences가 num_beams보다 작거나 같아야 하기 때문에 조건문 추가\n",
        "#     if hp[\"num_return_sequences\"] > hp[\"num_beams\"]:\n",
        "#         hp[\"num_return_sequences\"] = hp[\"num_beams\"]\n",
        "\n",
        "#     pipe = pipeline(\n",
        "#         \"text2text-generation\",\n",
        "#         model=\"lcw99/t5-base-korean-paraphrase\",\n",
        "#         device = 'cuda' if torch.cuda.is_available() else 'cpu'\n",
        "#     )\n",
        "\n",
        "#     bleu_scores = []\n",
        "#     for prompt in tqdm(train_star[\"reply\"]): # star1~4까지\n",
        "#         generated_text = pipe(prompt, max_length=128, **hp, early_stopping=True)\n",
        "\n",
        "#         bleu_score = calculate_bleu(prompt, generated_text[0]['generated_text'])\n",
        "#         bleu_scores.append(bleu_score)\n",
        "\n",
        "#     # 모든 입력 텍스트에 대한 BLEU 점수 평균 계산 및 반환\n",
        "#     bleu_score_avg = sum(bleu_scores) / len(bleu_scores)\n",
        "#     return bleu_score_avg"
      ]
    },
    {
      "cell_type": "code",
      "execution_count": null,
      "metadata": {
        "id": "rmCUJ2BBAgmt",
        "colab": {
          "referenced_widgets": [
            "167ff0da460f42b899e71b3e3dddf7ef",
            "88def383614c4e10a058eea64a22431b",
            "f314a878bb3a487c862088de731c33ce",
            "483a3a609c6b46c19ed98bbdd7a99f3c",
            "59b9470595854b6bb9c1cd90e907103f",
            "dfe16e8a48e048379117cbaba7182b5e",
            "d40614ac037a4ca28d21a152f9bd4daf",
            "3fe4364b8a274703a2e908318aa864a4",
            "fd79968d44984fe7a2c3725f41d1294a",
            "f9e6226090294c039a6a32e61bcdc428",
            "62963bca322447098807e4b13dd35011",
            "4f075dbe0e8a4bc6aea3726ee742b8e4"
          ]
        },
        "outputId": "11010753-6dcd-4062-8db4-e4388123fc9c"
      },
      "outputs": [
        {
          "name": "stderr",
          "output_type": "stream",
          "text": [
            "[I 2023-09-05 09:06:47,480] A new study created in memory with name: no-name-d76cd6a4-4637-44d8-9c4e-b723d6953cec\n"
          ]
        },
        {
          "data": {
            "application/vnd.jupyter.widget-view+json": {
              "model_id": "167ff0da460f42b899e71b3e3dddf7ef",
              "version_major": 2,
              "version_minor": 0
            },
            "text/plain": [
              "  0%|          | 0/726 [00:00<?, ?it/s]"
            ]
          },
          "metadata": {},
          "output_type": "display_data"
        },
        {
          "name": "stderr",
          "output_type": "stream",
          "text": [
            "[I 2023-09-05 09:55:30,577] Trial 0 finished with value: 0.21087345372650515 and parameters: {'num_beams': 4, 'num_return_sequences': 5, 'no_repeat_ngram_size': 4, 'top_k': 64, 'top_p': 0.8312037280884873}. Best is trial 0 with value: 0.21087345372650515.\n"
          ]
        },
        {
          "data": {
            "application/vnd.jupyter.widget-view+json": {
              "model_id": "88def383614c4e10a058eea64a22431b",
              "version_major": 2,
              "version_minor": 0
            },
            "text/plain": [
              "  0%|          | 0/726 [00:00<?, ?it/s]"
            ]
          },
          "metadata": {},
          "output_type": "display_data"
        },
        {
          "name": "stderr",
          "output_type": "stream",
          "text": [
            "[I 2023-09-05 10:37:42,767] Trial 1 finished with value: 0.1987671035816911 and parameters: {'num_beams': 2, 'num_return_sequences': 1, 'no_repeat_ngram_size': 5, 'top_k': 64, 'top_p': 0.941614515559209}. Best is trial 0 with value: 0.21087345372650515.\n"
          ]
        },
        {
          "data": {
            "application/vnd.jupyter.widget-view+json": {
              "model_id": "f314a878bb3a487c862088de731c33ce",
              "version_major": 2,
              "version_minor": 0
            },
            "text/plain": [
              "  0%|          | 0/726 [00:00<?, ?it/s]"
            ]
          },
          "metadata": {},
          "output_type": "display_data"
        },
        {
          "name": "stderr",
          "output_type": "stream",
          "text": [
            "[I 2023-09-05 11:04:39,612] Trial 2 finished with value: 0.19443157012156584 and parameters: {'num_beams': 1, 'num_return_sequences': 5, 'no_repeat_ngram_size': 5, 'top_k': 29, 'top_p': 0.8363649934414201}. Best is trial 0 with value: 0.21087345372650515.\n"
          ]
        },
        {
          "data": {
            "application/vnd.jupyter.widget-view+json": {
              "model_id": "483a3a609c6b46c19ed98bbdd7a99f3c",
              "version_major": 2,
              "version_minor": 0
            },
            "text/plain": [
              "  0%|          | 0/726 [00:00<?, ?it/s]"
            ]
          },
          "metadata": {},
          "output_type": "display_data"
        },
        {
          "name": "stderr",
          "output_type": "stream",
          "text": [
            "[I 2023-09-05 11:46:24,165] Trial 3 finished with value: 0.19402708601127738 and parameters: {'num_beams': 2, 'num_return_sequences': 2, 'no_repeat_ngram_size': 3, 'top_k': 49, 'top_p': 0.8582458280396084}. Best is trial 0 with value: 0.21087345372650515.\n"
          ]
        },
        {
          "data": {
            "application/vnd.jupyter.widget-view+json": {
              "model_id": "59b9470595854b6bb9c1cd90e907103f",
              "version_major": 2,
              "version_minor": 0
            },
            "text/plain": [
              "  0%|          | 0/726 [00:00<?, ?it/s]"
            ]
          },
          "metadata": {},
          "output_type": "display_data"
        },
        {
          "name": "stderr",
          "output_type": "stream",
          "text": [
            "[I 2023-09-05 12:36:47,186] Trial 4 finished with value: 0.19024000071898295 and parameters: {'num_beams': 7, 'num_return_sequences': 1, 'no_repeat_ngram_size': 2, 'top_k': 43, 'top_p': 0.8912139968434072}. Best is trial 0 with value: 0.21087345372650515.\n"
          ]
        },
        {
          "data": {
            "application/vnd.jupyter.widget-view+json": {
              "model_id": "dfe16e8a48e048379117cbaba7182b5e",
              "version_major": 2,
              "version_minor": 0
            },
            "text/plain": [
              "  0%|          | 0/726 [00:00<?, ?it/s]"
            ]
          },
          "metadata": {},
          "output_type": "display_data"
        },
        {
          "name": "stderr",
          "output_type": "stream",
          "text": [
            "[I 2023-09-05 13:37:12,843] Trial 5 finished with value: 0.20436112305707688 and parameters: {'num_beams': 8, 'num_return_sequences': 1, 'no_repeat_ngram_size': 3, 'top_k': 63, 'top_p': 0.8092900825439996}. Best is trial 0 with value: 0.21087345372650515.\n"
          ]
        },
        {
          "data": {
            "application/vnd.jupyter.widget-view+json": {
              "model_id": "d40614ac037a4ca28d21a152f9bd4daf",
              "version_major": 2,
              "version_minor": 0
            },
            "text/plain": [
              "  0%|          | 0/726 [00:00<?, ?it/s]"
            ]
          },
          "metadata": {},
          "output_type": "display_data"
        },
        {
          "name": "stderr",
          "output_type": "stream",
          "text": [
            "[I 2023-09-05 14:14:02,496] Trial 6 finished with value: 0.05234139435980653 and parameters: {'num_beams': 7, 'num_return_sequences': 1, 'no_repeat_ngram_size': 1, 'top_k': 96, 'top_p': 0.9931264066149119}. Best is trial 0 with value: 0.21087345372650515.\n"
          ]
        },
        {
          "data": {
            "application/vnd.jupyter.widget-view+json": {
              "model_id": "3fe4364b8a274703a2e908318aa864a4",
              "version_major": 2,
              "version_minor": 0
            },
            "text/plain": [
              "  0%|          | 0/726 [00:00<?, ?it/s]"
            ]
          },
          "metadata": {},
          "output_type": "display_data"
        },
        {
          "name": "stderr",
          "output_type": "stream",
          "text": [
            "[I 2023-09-05 14:57:22,334] Trial 7 finished with value: 0.05236343412347444 and parameters: {'num_beams': 9, 'num_return_sequences': 2, 'no_repeat_ngram_size': 1, 'top_k': 72, 'top_p': 0.8880304987479203}. Best is trial 0 with value: 0.21087345372650515.\n"
          ]
        },
        {
          "data": {
            "application/vnd.jupyter.widget-view+json": {
              "model_id": "fd79968d44984fe7a2c3725f41d1294a",
              "version_major": 2,
              "version_minor": 0
            },
            "text/plain": [
              "  0%|          | 0/726 [00:00<?, ?it/s]"
            ]
          },
          "metadata": {},
          "output_type": "display_data"
        },
        {
          "name": "stderr",
          "output_type": "stream",
          "text": [
            "[I 2023-09-05 15:21:51,144] Trial 8 finished with value: 0.05535904152218205 and parameters: {'num_beams': 2, 'num_return_sequences': 3, 'no_repeat_ngram_size': 1, 'top_k': 92, 'top_p': 0.8517559963200034}. Best is trial 0 with value: 0.21087345372650515.\n"
          ]
        },
        {
          "data": {
            "application/vnd.jupyter.widget-view+json": {
              "model_id": "f9e6226090294c039a6a32e61bcdc428",
              "version_major": 2,
              "version_minor": 0
            },
            "text/plain": [
              "  0%|          | 0/726 [00:00<?, ?it/s]"
            ]
          },
          "metadata": {},
          "output_type": "display_data"
        },
        {
          "name": "stderr",
          "output_type": "stream",
          "text": [
            "[I 2023-09-05 16:18:49,773] Trial 9 finished with value: 0.20437162412064322 and parameters: {'num_beams': 7, 'num_return_sequences': 2, 'no_repeat_ngram_size': 3, 'top_k': 59, 'top_p': 0.8369708911051055}. Best is trial 0 with value: 0.21087345372650515.\n"
          ]
        },
        {
          "data": {
            "application/vnd.jupyter.widget-view+json": {
              "model_id": "62963bca322447098807e4b13dd35011",
              "version_major": 2,
              "version_minor": 0
            },
            "text/plain": [
              "  0%|          | 0/726 [00:00<?, ?it/s]"
            ]
          },
          "metadata": {},
          "output_type": "display_data"
        },
        {
          "name": "stderr",
          "output_type": "stream",
          "text": [
            "[I 2023-09-05 17:06:57,926] Trial 10 finished with value: 0.21087345372650515 and parameters: {'num_beams': 4, 'num_return_sequences': 5, 'no_repeat_ngram_size': 4, 'top_k': 11, 'top_p': 0.8030735474656209}. Best is trial 0 with value: 0.21087345372650515.\n"
          ]
        },
        {
          "data": {
            "application/vnd.jupyter.widget-view+json": {
              "model_id": "4f075dbe0e8a4bc6aea3726ee742b8e4",
              "version_major": 2,
              "version_minor": 0
            },
            "text/plain": [
              "  0%|          | 0/726 [00:00<?, ?it/s]"
            ]
          },
          "metadata": {},
          "output_type": "display_data"
        },
        {
          "name": "stderr",
          "output_type": "stream",
          "text": [
            "[I 2023-09-05 17:56:53,340] Trial 11 finished with value: 0.21087345372650515 and parameters: {'num_beams': 4, 'num_return_sequences': 5, 'no_repeat_ngram_size': 4, 'top_k': 17, 'top_p': 0.8007473955626367}. Best is trial 0 with value: 0.21087345372650515.\n"
          ]
        },
        {
          "name": "stdout",
          "output_type": "stream",
          "text": [
            "best_bleu_score: 0.21087345372650515\n",
            "best_params: {'num_beams': 4, 'num_return_sequences': 5, 'no_repeat_ngram_size': 4, 'top_k': 64, 'top_p': 0.8312037280884873}\n"
          ]
        }
      ],
      "source": [
        "# # 하이퍼파라미터 최적화\n",
        "# sampler = optuna.samplers.TPESampler(seed=SEED)\n",
        "# study = optuna.create_study(sampler=sampler, direction=\"maximize\")\n",
        "# study.optimize(objective, n_trials=12)\n",
        "\n",
        "# # 최적 값 출력\n",
        "# best_bleu_score = study.best_value\n",
        "# best_params = study.best_params\n",
        "# print(\"best_bleu_score:\", best_bleu_score)\n",
        "# print(\"best_params:\", best_params)"
      ]
    },
    {
      "cell_type": "markdown",
      "metadata": {
        "id": "NkIogOoaZxCq"
      },
      "source": [
        "# 오버샘플링"
      ]
    },
    {
      "cell_type": "code",
      "execution_count": null,
      "metadata": {
        "id": "hiL2syhV_ueK"
      },
      "outputs": [],
      "source": [
        "# review_best_params = {'num_beams': 5, 'num_return_sequences': 5, 'no_repeat_ngram_size': 4, 'top_k': 64, 'top_p': 0.8312037280884873}\n",
        "\n",
        "# over_review = []\n",
        "# for prompt in tqdm(train_star['review']):\n",
        "#     generated_text = pipe(prompt, max_length=128, **review_best_params, early_stopping=True)\n",
        "#     generated_text = generated_text[0]['generated_text']\n",
        "#     over_review.append(generated_text)\n",
        "\n",
        "# over_review"
      ]
    },
    {
      "cell_type": "code",
      "execution_count": null,
      "metadata": {
        "id": "L0s_kMi-_ueK"
      },
      "outputs": [],
      "source": [
        "# reply_best_params = {'num_beams': 5, 'num_return_sequences': 5, 'no_repeat_ngram_size': 4, 'top_k': 64, 'top_p': 0.8312037280884873}\n",
        "\n",
        "# over_reply = []\n",
        "# for prompt in tqdm(train_star['reply']):\n",
        "#     generated_text = pipe(prompt, max_length=128, **reply_best_params, early_stopping=True)\n",
        "#     generated_text = generated_text[0]['generated_text']\n",
        "#     over_reply.append(generated_text)\n",
        "\n",
        "# over_reply"
      ]
    },
    {
      "cell_type": "markdown",
      "metadata": {
        "id": "XyASF-Hm_ueK"
      },
      "source": [
        "- 저장"
      ]
    },
    {
      "cell_type": "code",
      "execution_count": null,
      "metadata": {
        "id": "D1AaKxC0_ueK"
      },
      "outputs": [],
      "source": [
        "# # review\n",
        "# train_over_review = pd.DataFrame({\"review\":over_review})\n",
        "# train_over_review.to_csv(f'{DATA_PATH}train_over_review.csv', index=False, encoding = \"utf-8-sig\")\n",
        "\n",
        "# # reply\n",
        "# train_over_reply = pd.DataFrame({\"reply\":over_reply})\n",
        "\n",
        "# # # concat\n",
        "# train_over = pd.concat([train_over_review, train_over_reply, train_star[\"star\"]], axis=1)\n",
        "# train_over.to_csv(f'{DATA_PATH}train_over.csv', index=False, encoding = \"utf-8-sig\")\n",
        "# train_over"
      ]
    },
    {
      "cell_type": "code",
      "execution_count": null,
      "metadata": {
        "id": "MVxKJMAI_ueL"
      },
      "outputs": [],
      "source": [
        "# # 엑셀로도 저장해서 확인해보기\n",
        "# with pd.ExcelWriter(\"train_over_review.xlsx\", engine='openpyxl') as writer:\n",
        "#     train_over_review.to_excel(writer, sheet_name='시트1', index=False)\n",
        "\n",
        "# with pd.ExcelWriter(\"train_over.xlsx\", engine='openpyxl') as writer:\n",
        "#     train_over.to_excel(writer, sheet_name='시트1', index=False)"
      ]
    },
    {
      "cell_type": "markdown",
      "metadata": {
        "id": "9f3muAsk_ueL"
      },
      "source": [
        "- 불러오기"
      ]
    },
    {
      "cell_type": "code",
      "execution_count": null,
      "metadata": {
        "id": "t0KYpaSo_ueL",
        "outputId": "7410b3f0-da97-463d-9658-c49257178fbe"
      },
      "outputs": [
        {
          "data": {
            "text/html": [
              "<div>\n",
              "<style scoped>\n",
              "    .dataframe tbody tr th:only-of-type {\n",
              "        vertical-align: middle;\n",
              "    }\n",
              "\n",
              "    .dataframe tbody tr th {\n",
              "        vertical-align: top;\n",
              "    }\n",
              "\n",
              "    .dataframe thead th {\n",
              "        text-align: right;\n",
              "    }\n",
              "</style>\n",
              "<table border=\"1\" class=\"dataframe\">\n",
              "  <thead>\n",
              "    <tr style=\"text-align: right;\">\n",
              "      <th></th>\n",
              "      <th>review</th>\n",
              "      <th>reply</th>\n",
              "      <th>star</th>\n",
              "    </tr>\n",
              "  </thead>\n",
              "  <tbody>\n",
              "    <tr>\n",
              "      <th>0</th>\n",
              "      <td>아니 그런데 배달이 20분 넘게 안 와서 전화해서 물었더니 배달 기사님이 비가 와서...</td>\n",
              "      <td>저희가 미처 생각하지 못한 부분이 있기 때문에 다시 한번 감사의 마음을 전하고 싶습니다.</td>\n",
              "      <td>1</td>\n",
              "    </tr>\n",
              "    <tr>\n",
              "      <th>1</th>\n",
              "      <td>양이 2만원씩이나하는데 장난으로하는것도 아니고 진짜 이거 2만원주고 사서 먹을 정도...</td>\n",
              "      <td>저희 1988응답하라추억의옛날도시락은 언제나 약속 드린 정량을 지키기 위해 노력하고...</td>\n",
              "      <td>1</td>\n",
              "    </tr>\n",
              "    <tr>\n",
              "      <th>2</th>\n",
              "      <td>커피가 배달되기를 기다린 지 25분이 지나자 커피 배달 예정 시간은 이미 커피를 만...</td>\n",
              "      <td>한파로 길이 꽁꽁 얼어 고객님들이 불편을 드려 죄송했는데 주문해 주셔서 감사합니다.</td>\n",
              "      <td>1</td>\n",
              "    </tr>\n",
              "    <tr>\n",
              "      <th>3</th>\n",
              "      <td>김이 많아서 그런것도 있고 단무짠지 김이 많이 없어서 그런지도 모르겠지만 밥이 쉬었...</td>\n",
              "      <td>이런 댓글은 본인 가족이나 지인에게 하는데 본인이 아니더라도 주변 사람이 해야 할 ...</td>\n",
              "      <td>1</td>\n",
              "    </tr>\n",
              "    <tr>\n",
              "      <th>4</th>\n",
              "      <td>처음 먹었을 때 너무 맛있게 먹었던 기억에 다시 찾아 주문하려고 잠실점에 갔는데 역...</td>\n",
              "      <td>잠실점에서 기분이 상하셨었는데 저희가 다시 실수를 한 것 같은데 다시 한번 연락드리...</td>\n",
              "      <td>1</td>\n",
              "    </tr>\n",
              "    <tr>\n",
              "      <th>...</th>\n",
              "      <td>...</td>\n",
              "      <td>...</td>\n",
              "      <td>...</td>\n",
              "    </tr>\n",
              "    <tr>\n",
              "      <th>721</th>\n",
              "      <td>맛있게 잘 먹었습니다.</td>\n",
              "      <td>더 노력하는 보둘미역이 되도록 최선을 다해 보겠습니다 맛있는 음식 만들어 주셔서 감...</td>\n",
              "      <td>4</td>\n",
              "    </tr>\n",
              "    <tr>\n",
              "      <th>722</th>\n",
              "      <td>시원한 국물이 더 많았으면 국물 맛은 더 시원했을 것 같아요 시원한 국을 시원하게 ...</td>\n",
              "      <td>배달용기에 국물을 더 부우시면 국물이 흘러 내리기 때문에 혹시라도 모자라면 댁에서 ...</td>\n",
              "      <td>4</td>\n",
              "    </tr>\n",
              "    <tr>\n",
              "      <th>723</th>\n",
              "      <td>맛있어요 포장도 꼼꼼하고 무엇보다 반찬이 짜지 않고 맛있어요 구성이 여러 가지라 더...</td>\n",
              "      <td>보통은 1인분에 2인분 정도 먹는 것으로 알고 있는데 많은 분들이 그렇게 적게 주셨...</td>\n",
              "      <td>4</td>\n",
              "    </tr>\n",
              "    <tr>\n",
              "      <th>724</th>\n",
              "      <td>양이 진짜 많아요 진짜 많이 많이 덕분에 맛있게 먹었어요</td>\n",
              "      <td>맛있게 잘 먹었고 별 다섯 개 드리도록 하겠습니다 맛있게 먹어 주셔서 감사합니다</td>\n",
              "      <td>4</td>\n",
              "    </tr>\n",
              "    <tr>\n",
              "      <th>725</th>\n",
              "      <td>항상 잘 들어주시고 잘 챙겨주셨는데 오늘은 못 드려서 아쉬웠어요 그래도 맛있게 잘 ...</td>\n",
              "      <td>죄송해요 여러분 다음에도 또 이용할게요 너무 늦어서 정말 죄송합니다</td>\n",
              "      <td>4</td>\n",
              "    </tr>\n",
              "  </tbody>\n",
              "</table>\n",
              "<p>726 rows × 3 columns</p>\n",
              "</div>"
            ],
            "text/plain": [
              "                                                review   \n",
              "0    아니 그런데 배달이 20분 넘게 안 와서 전화해서 물었더니 배달 기사님이 비가 와서...  \\\n",
              "1    양이 2만원씩이나하는데 장난으로하는것도 아니고 진짜 이거 2만원주고 사서 먹을 정도...   \n",
              "2    커피가 배달되기를 기다린 지 25분이 지나자 커피 배달 예정 시간은 이미 커피를 만...   \n",
              "3    김이 많아서 그런것도 있고 단무짠지 김이 많이 없어서 그런지도 모르겠지만 밥이 쉬었...   \n",
              "4    처음 먹었을 때 너무 맛있게 먹었던 기억에 다시 찾아 주문하려고 잠실점에 갔는데 역...   \n",
              "..                                                 ...   \n",
              "721                                       맛있게 잘 먹었습니다.   \n",
              "722  시원한 국물이 더 많았으면 국물 맛은 더 시원했을 것 같아요 시원한 국을 시원하게 ...   \n",
              "723  맛있어요 포장도 꼼꼼하고 무엇보다 반찬이 짜지 않고 맛있어요 구성이 여러 가지라 더...   \n",
              "724                    양이 진짜 많아요 진짜 많이 많이 덕분에 맛있게 먹었어요   \n",
              "725  항상 잘 들어주시고 잘 챙겨주셨는데 오늘은 못 드려서 아쉬웠어요 그래도 맛있게 잘 ...   \n",
              "\n",
              "                                                 reply  star  \n",
              "0    저희가 미처 생각하지 못한 부분이 있기 때문에 다시 한번 감사의 마음을 전하고 싶습니다.     1  \n",
              "1    저희 1988응답하라추억의옛날도시락은 언제나 약속 드린 정량을 지키기 위해 노력하고...     1  \n",
              "2       한파로 길이 꽁꽁 얼어 고객님들이 불편을 드려 죄송했는데 주문해 주셔서 감사합니다.     1  \n",
              "3    이런 댓글은 본인 가족이나 지인에게 하는데 본인이 아니더라도 주변 사람이 해야 할 ...     1  \n",
              "4    잠실점에서 기분이 상하셨었는데 저희가 다시 실수를 한 것 같은데 다시 한번 연락드리...     1  \n",
              "..                                                 ...   ...  \n",
              "721  더 노력하는 보둘미역이 되도록 최선을 다해 보겠습니다 맛있는 음식 만들어 주셔서 감...     4  \n",
              "722  배달용기에 국물을 더 부우시면 국물이 흘러 내리기 때문에 혹시라도 모자라면 댁에서 ...     4  \n",
              "723  보통은 1인분에 2인분 정도 먹는 것으로 알고 있는데 많은 분들이 그렇게 적게 주셨...     4  \n",
              "724       맛있게 잘 먹었고 별 다섯 개 드리도록 하겠습니다 맛있게 먹어 주셔서 감사합니다     4  \n",
              "725              죄송해요 여러분 다음에도 또 이용할게요 너무 늦어서 정말 죄송합니다     4  \n",
              "\n",
              "[726 rows x 3 columns]"
            ]
          },
          "execution_count": 40,
          "metadata": {},
          "output_type": "execute_result"
        }
      ],
      "source": [
        "train_over = pd.read_csv(f'{DATA_PATH}train_over.csv')\n",
        "train_over"
      ]
    },
    {
      "cell_type": "markdown",
      "metadata": {
        "id": "fHZB71OO_ueL"
      },
      "source": [
        "# 기존 + 오버샘플링 concat"
      ]
    },
    {
      "cell_type": "code",
      "execution_count": null,
      "metadata": {
        "id": "fvO7bmcW_ueL",
        "outputId": "e632dde2-c39b-4c56-b5d5-2ec58ae8deac"
      },
      "outputs": [
        {
          "data": {
            "text/html": [
              "<div>\n",
              "<style scoped>\n",
              "    .dataframe tbody tr th:only-of-type {\n",
              "        vertical-align: middle;\n",
              "    }\n",
              "\n",
              "    .dataframe tbody tr th {\n",
              "        vertical-align: top;\n",
              "    }\n",
              "\n",
              "    .dataframe thead th {\n",
              "        text-align: right;\n",
              "    }\n",
              "</style>\n",
              "<table border=\"1\" class=\"dataframe\">\n",
              "  <thead>\n",
              "    <tr style=\"text-align: right;\">\n",
              "      <th></th>\n",
              "      <th>review</th>\n",
              "      <th>reply</th>\n",
              "      <th>star</th>\n",
              "    </tr>\n",
              "  </thead>\n",
              "  <tbody>\n",
              "    <tr>\n",
              "      <th>0</th>\n",
              "      <td>리뷰가 늦었네요 맛있게 잘 먹었습니다 또 시킬게요</td>\n",
              "      <td>좋은 리뷰 덕분에 기분이 행복해지는 것 같아요 고객님께서 맛있다고 말씀 주시니 피로...</td>\n",
              "      <td>5</td>\n",
              "    </tr>\n",
              "    <tr>\n",
              "      <th>1</th>\n",
              "      <td>잘 먹었습니다 다만 주문에 있던 펩시콜라는 받지 못했습니다</td>\n",
              "      <td>소중한 식사 시간에 저희 매장을 찾아 주셔서 감사드립니다 저희를 찾아 주신 만큼 1...</td>\n",
              "      <td>5</td>\n",
              "    </tr>\n",
              "    <tr>\n",
              "      <th>2</th>\n",
              "      <td>굿 말이 필요 없는 메뉴 였습니다</td>\n",
              "      <td>수 많은 매장들을 헤치고 와주셔서 감사합니다 저희 매장의 메뉴를 제대로 즐기신 거 ...</td>\n",
              "      <td>5</td>\n",
              "    </tr>\n",
              "    <tr>\n",
              "      <th>3</th>\n",
              "      <td>맛있어요 양도많구좋음</td>\n",
              "      <td>수 많은 매장들을 헤치고 와주셔서 감사합니다 메뉴 그 자체로 행복을 드리고 싶었는데...</td>\n",
              "      <td>5</td>\n",
              "    </tr>\n",
              "    <tr>\n",
              "      <th>4</th>\n",
              "      <td>양많고 맛있었어요</td>\n",
              "      <td>저희 매장 찾아주신 것도 감사한데 리뷰까지 감동입니다 고객님들의 배고픔을 저희는 지...</td>\n",
              "      <td>5</td>\n",
              "    </tr>\n",
              "    <tr>\n",
              "      <th>...</th>\n",
              "      <td>...</td>\n",
              "      <td>...</td>\n",
              "      <td>...</td>\n",
              "    </tr>\n",
              "    <tr>\n",
              "      <th>11223</th>\n",
              "      <td>맛있게 잘 먹었습니다.</td>\n",
              "      <td>더 노력하는 보둘미역이 되도록 최선을 다해 보겠습니다 맛있는 음식 만들어 주셔서 감...</td>\n",
              "      <td>4</td>\n",
              "    </tr>\n",
              "    <tr>\n",
              "      <th>11224</th>\n",
              "      <td>시원한 국물이 더 많았으면 국물 맛은 더 시원했을 것 같아요 시원한 국을 시원하게 ...</td>\n",
              "      <td>배달용기에 국물을 더 부우시면 국물이 흘러 내리기 때문에 혹시라도 모자라면 댁에서 ...</td>\n",
              "      <td>4</td>\n",
              "    </tr>\n",
              "    <tr>\n",
              "      <th>11225</th>\n",
              "      <td>맛있어요 포장도 꼼꼼하고 무엇보다 반찬이 짜지 않고 맛있어요 구성이 여러 가지라 더...</td>\n",
              "      <td>보통은 1인분에 2인분 정도 먹는 것으로 알고 있는데 많은 분들이 그렇게 적게 주셨...</td>\n",
              "      <td>4</td>\n",
              "    </tr>\n",
              "    <tr>\n",
              "      <th>11226</th>\n",
              "      <td>양이 진짜 많아요 진짜 많이 많이 덕분에 맛있게 먹었어요</td>\n",
              "      <td>맛있게 잘 먹었고 별 다섯 개 드리도록 하겠습니다 맛있게 먹어 주셔서 감사합니다</td>\n",
              "      <td>4</td>\n",
              "    </tr>\n",
              "    <tr>\n",
              "      <th>11227</th>\n",
              "      <td>항상 잘 들어주시고 잘 챙겨주셨는데 오늘은 못 드려서 아쉬웠어요 그래도 맛있게 잘 ...</td>\n",
              "      <td>죄송해요 여러분 다음에도 또 이용할게요 너무 늦어서 정말 죄송합니다</td>\n",
              "      <td>4</td>\n",
              "    </tr>\n",
              "  </tbody>\n",
              "</table>\n",
              "<p>11228 rows × 3 columns</p>\n",
              "</div>"
            ],
            "text/plain": [
              "                                                  review   \n",
              "0                           리뷰가 늦었네요 맛있게 잘 먹었습니다 또 시킬게요   \\\n",
              "1                      잘 먹었습니다 다만 주문에 있던 펩시콜라는 받지 못했습니다    \n",
              "2                                     굿 말이 필요 없는 메뉴 였습니다   \n",
              "3                                            맛있어요 양도많구좋음   \n",
              "4                                              양많고 맛있었어요   \n",
              "...                                                  ...   \n",
              "11223                                       맛있게 잘 먹었습니다.   \n",
              "11224  시원한 국물이 더 많았으면 국물 맛은 더 시원했을 것 같아요 시원한 국을 시원하게 ...   \n",
              "11225  맛있어요 포장도 꼼꼼하고 무엇보다 반찬이 짜지 않고 맛있어요 구성이 여러 가지라 더...   \n",
              "11226                    양이 진짜 많아요 진짜 많이 많이 덕분에 맛있게 먹었어요   \n",
              "11227  항상 잘 들어주시고 잘 챙겨주셨는데 오늘은 못 드려서 아쉬웠어요 그래도 맛있게 잘 ...   \n",
              "\n",
              "                                                   reply  star  \n",
              "0      좋은 리뷰 덕분에 기분이 행복해지는 것 같아요 고객님께서 맛있다고 말씀 주시니 피로...     5  \n",
              "1      소중한 식사 시간에 저희 매장을 찾아 주셔서 감사드립니다 저희를 찾아 주신 만큼 1...     5  \n",
              "2      수 많은 매장들을 헤치고 와주셔서 감사합니다 저희 매장의 메뉴를 제대로 즐기신 거 ...     5  \n",
              "3      수 많은 매장들을 헤치고 와주셔서 감사합니다 메뉴 그 자체로 행복을 드리고 싶었는데...     5  \n",
              "4      저희 매장 찾아주신 것도 감사한데 리뷰까지 감동입니다 고객님들의 배고픔을 저희는 지...     5  \n",
              "...                                                  ...   ...  \n",
              "11223  더 노력하는 보둘미역이 되도록 최선을 다해 보겠습니다 맛있는 음식 만들어 주셔서 감...     4  \n",
              "11224  배달용기에 국물을 더 부우시면 국물이 흘러 내리기 때문에 혹시라도 모자라면 댁에서 ...     4  \n",
              "11225  보통은 1인분에 2인분 정도 먹는 것으로 알고 있는데 많은 분들이 그렇게 적게 주셨...     4  \n",
              "11226       맛있게 잘 먹었고 별 다섯 개 드리도록 하겠습니다 맛있게 먹어 주셔서 감사합니다     4  \n",
              "11227              죄송해요 여러분 다음에도 또 이용할게요 너무 늦어서 정말 죄송합니다     4  \n",
              "\n",
              "[11228 rows x 3 columns]"
            ]
          },
          "execution_count": 41,
          "metadata": {},
          "output_type": "execute_result"
        }
      ],
      "source": [
        "train_ = pd.concat([train, train_over], axis=0).reset_index(drop=True)\n",
        "train_"
      ]
    },
    {
      "cell_type": "code",
      "execution_count": null,
      "metadata": {
        "colab": {
          "base_uri": "https://localhost:8080/"
        },
        "id": "7B4dgTO6RDeB",
        "outputId": "bb82e02c-db53-42bc-c7e6-9d2cedc6eac9"
      },
      "outputs": [
        {
          "data": {
            "text/plain": [
              "star\n",
              "1     180\n",
              "2     122\n",
              "3     306\n",
              "4     844\n",
              "5    9776\n",
              "Name: count, dtype: int64"
            ]
          },
          "execution_count": 43,
          "metadata": {},
          "output_type": "execute_result"
        }
      ],
      "source": [
        "# 별점 분포 확인\n",
        "train_['star'].value_counts().sort_index()"
      ]
    }
  ],
  "metadata": {
    "colab": {
      "provenance": [],
      "toc_visible": true,
      "include_colab_link": true
    },
    "kernelspec": {
      "display_name": "Python 3",
      "name": "python3"
    },
    "language_info": {
      "codemirror_mode": {
        "name": "ipython",
        "version": 3
      },
      "file_extension": ".py",
      "mimetype": "text/x-python",
      "name": "python",
      "nbconvert_exporter": "python",
      "pygments_lexer": "ipython3",
      "version": "3.9.13"
    },
    "widgets": {
      "application/vnd.jupyter.widget-state+json": {
        "1807c04538044bf392c19d112f397a83": {
          "model_module": "@jupyter-widgets/controls",
          "model_module_version": "1.5.0",
          "model_name": "HBoxModel",
          "state": {
            "_dom_classes": [],
            "_model_module": "@jupyter-widgets/controls",
            "_model_module_version": "1.5.0",
            "_model_name": "HBoxModel",
            "_view_count": null,
            "_view_module": "@jupyter-widgets/controls",
            "_view_module_version": "1.5.0",
            "_view_name": "HBoxView",
            "box_style": "",
            "children": [
              "IPY_MODEL_e8f50a4399d64fbaa40cfa827735b185",
              "IPY_MODEL_d16dc568c4f548d18a0e4480ab838e96",
              "IPY_MODEL_459564ca6fe44e0f836887d91c5d8232"
            ],
            "layout": "IPY_MODEL_c3fd6e4b71ca4828b5905a030bc1bead"
          }
        },
        "2e800b9176784d7099f9a2e38c5e14df": {
          "model_module": "@jupyter-widgets/base",
          "model_module_version": "1.2.0",
          "model_name": "LayoutModel",
          "state": {
            "_model_module": "@jupyter-widgets/base",
            "_model_module_version": "1.2.0",
            "_model_name": "LayoutModel",
            "_view_count": null,
            "_view_module": "@jupyter-widgets/base",
            "_view_module_version": "1.2.0",
            "_view_name": "LayoutView",
            "align_content": null,
            "align_items": null,
            "align_self": null,
            "border": null,
            "bottom": null,
            "display": null,
            "flex": null,
            "flex_flow": null,
            "grid_area": null,
            "grid_auto_columns": null,
            "grid_auto_flow": null,
            "grid_auto_rows": null,
            "grid_column": null,
            "grid_gap": null,
            "grid_row": null,
            "grid_template_areas": null,
            "grid_template_columns": null,
            "grid_template_rows": null,
            "height": null,
            "justify_content": null,
            "justify_items": null,
            "left": null,
            "margin": null,
            "max_height": null,
            "max_width": null,
            "min_height": null,
            "min_width": null,
            "object_fit": null,
            "object_position": null,
            "order": null,
            "overflow": null,
            "overflow_x": null,
            "overflow_y": null,
            "padding": null,
            "right": null,
            "top": null,
            "visibility": null,
            "width": null
          }
        },
        "2f76c1767d2f4efdad39d24a446c5cca": {
          "model_module": "@jupyter-widgets/controls",
          "model_module_version": "1.5.0",
          "model_name": "DescriptionStyleModel",
          "state": {
            "_model_module": "@jupyter-widgets/controls",
            "_model_module_version": "1.5.0",
            "_model_name": "DescriptionStyleModel",
            "_view_count": null,
            "_view_module": "@jupyter-widgets/base",
            "_view_module_version": "1.2.0",
            "_view_name": "StyleView",
            "description_width": ""
          }
        },
        "36c127f0339843ba8b207723987b2b22": {
          "model_module": "@jupyter-widgets/controls",
          "model_module_version": "1.5.0",
          "model_name": "DescriptionStyleModel",
          "state": {
            "_model_module": "@jupyter-widgets/controls",
            "_model_module_version": "1.5.0",
            "_model_name": "DescriptionStyleModel",
            "_view_count": null,
            "_view_module": "@jupyter-widgets/base",
            "_view_module_version": "1.2.0",
            "_view_name": "StyleView",
            "description_width": ""
          }
        },
        "444f9994612d4ceb99961901769d8729": {
          "model_module": "@jupyter-widgets/base",
          "model_module_version": "1.2.0",
          "model_name": "LayoutModel",
          "state": {
            "_model_module": "@jupyter-widgets/base",
            "_model_module_version": "1.2.0",
            "_model_name": "LayoutModel",
            "_view_count": null,
            "_view_module": "@jupyter-widgets/base",
            "_view_module_version": "1.2.0",
            "_view_name": "LayoutView",
            "align_content": null,
            "align_items": null,
            "align_self": null,
            "border": null,
            "bottom": null,
            "display": null,
            "flex": null,
            "flex_flow": null,
            "grid_area": null,
            "grid_auto_columns": null,
            "grid_auto_flow": null,
            "grid_auto_rows": null,
            "grid_column": null,
            "grid_gap": null,
            "grid_row": null,
            "grid_template_areas": null,
            "grid_template_columns": null,
            "grid_template_rows": null,
            "height": null,
            "justify_content": null,
            "justify_items": null,
            "left": null,
            "margin": null,
            "max_height": null,
            "max_width": null,
            "min_height": null,
            "min_width": null,
            "object_fit": null,
            "object_position": null,
            "order": null,
            "overflow": null,
            "overflow_x": null,
            "overflow_y": null,
            "padding": null,
            "right": null,
            "top": null,
            "visibility": null,
            "width": null
          }
        },
        "459564ca6fe44e0f836887d91c5d8232": {
          "model_module": "@jupyter-widgets/controls",
          "model_module_version": "1.5.0",
          "model_name": "HTMLModel",
          "state": {
            "_dom_classes": [],
            "_model_module": "@jupyter-widgets/controls",
            "_model_module_version": "1.5.0",
            "_model_name": "HTMLModel",
            "_view_count": null,
            "_view_module": "@jupyter-widgets/controls",
            "_view_module_version": "1.5.0",
            "_view_name": "HTMLView",
            "description": "",
            "description_tooltip": null,
            "layout": "IPY_MODEL_91b6625718c04b03a5f479d39f4ce0ff",
            "placeholder": "​",
            "style": "IPY_MODEL_2f76c1767d2f4efdad39d24a446c5cca",
            "value": " 132/726 [08:54&lt;33:32,  3.39s/it]"
          }
        },
        "684bab3259644a5a972a6b2f4a8b7949": {
          "model_module": "@jupyter-widgets/controls",
          "model_module_version": "1.5.0",
          "model_name": "DescriptionStyleModel",
          "state": {
            "_model_module": "@jupyter-widgets/controls",
            "_model_module_version": "1.5.0",
            "_model_name": "DescriptionStyleModel",
            "_view_count": null,
            "_view_module": "@jupyter-widgets/base",
            "_view_module_version": "1.2.0",
            "_view_name": "StyleView",
            "description_width": ""
          }
        },
        "6f2234a6333841ca84df96e7c55fb893": {
          "model_module": "@jupyter-widgets/base",
          "model_module_version": "1.2.0",
          "model_name": "LayoutModel",
          "state": {
            "_model_module": "@jupyter-widgets/base",
            "_model_module_version": "1.2.0",
            "_model_name": "LayoutModel",
            "_view_count": null,
            "_view_module": "@jupyter-widgets/base",
            "_view_module_version": "1.2.0",
            "_view_name": "LayoutView",
            "align_content": null,
            "align_items": null,
            "align_self": null,
            "border": null,
            "bottom": null,
            "display": null,
            "flex": null,
            "flex_flow": null,
            "grid_area": null,
            "grid_auto_columns": null,
            "grid_auto_flow": null,
            "grid_auto_rows": null,
            "grid_column": null,
            "grid_gap": null,
            "grid_row": null,
            "grid_template_areas": null,
            "grid_template_columns": null,
            "grid_template_rows": null,
            "height": null,
            "justify_content": null,
            "justify_items": null,
            "left": null,
            "margin": null,
            "max_height": null,
            "max_width": null,
            "min_height": null,
            "min_width": null,
            "object_fit": null,
            "object_position": null,
            "order": null,
            "overflow": null,
            "overflow_x": null,
            "overflow_y": null,
            "padding": null,
            "right": null,
            "top": null,
            "visibility": null,
            "width": null
          }
        },
        "726eb6f8cf3c403faaf53af8edb64b73": {
          "model_module": "@jupyter-widgets/base",
          "model_module_version": "1.2.0",
          "model_name": "LayoutModel",
          "state": {
            "_model_module": "@jupyter-widgets/base",
            "_model_module_version": "1.2.0",
            "_model_name": "LayoutModel",
            "_view_count": null,
            "_view_module": "@jupyter-widgets/base",
            "_view_module_version": "1.2.0",
            "_view_name": "LayoutView",
            "align_content": null,
            "align_items": null,
            "align_self": null,
            "border": null,
            "bottom": null,
            "display": null,
            "flex": null,
            "flex_flow": null,
            "grid_area": null,
            "grid_auto_columns": null,
            "grid_auto_flow": null,
            "grid_auto_rows": null,
            "grid_column": null,
            "grid_gap": null,
            "grid_row": null,
            "grid_template_areas": null,
            "grid_template_columns": null,
            "grid_template_rows": null,
            "height": null,
            "justify_content": null,
            "justify_items": null,
            "left": null,
            "margin": null,
            "max_height": null,
            "max_width": null,
            "min_height": null,
            "min_width": null,
            "object_fit": null,
            "object_position": null,
            "order": null,
            "overflow": null,
            "overflow_x": null,
            "overflow_y": null,
            "padding": null,
            "right": null,
            "top": null,
            "visibility": null,
            "width": null
          }
        },
        "8745ca77a93a478e9b8fe02c75e129fb": {
          "model_module": "@jupyter-widgets/controls",
          "model_module_version": "1.5.0",
          "model_name": "DescriptionStyleModel",
          "state": {
            "_model_module": "@jupyter-widgets/controls",
            "_model_module_version": "1.5.0",
            "_model_name": "DescriptionStyleModel",
            "_view_count": null,
            "_view_module": "@jupyter-widgets/base",
            "_view_module_version": "1.2.0",
            "_view_name": "StyleView",
            "description_width": ""
          }
        },
        "896b75a0ae0b40f6a1697f998087e3fa": {
          "model_module": "@jupyter-widgets/controls",
          "model_module_version": "1.5.0",
          "model_name": "HTMLModel",
          "state": {
            "_dom_classes": [],
            "_model_module": "@jupyter-widgets/controls",
            "_model_module_version": "1.5.0",
            "_model_name": "HTMLModel",
            "_view_count": null,
            "_view_module": "@jupyter-widgets/controls",
            "_view_module_version": "1.5.0",
            "_view_name": "HTMLView",
            "description": "",
            "description_tooltip": null,
            "layout": "IPY_MODEL_726eb6f8cf3c403faaf53af8edb64b73",
            "placeholder": "​",
            "style": "IPY_MODEL_8745ca77a93a478e9b8fe02c75e129fb",
            "value": " 726/726 [50:35&lt;00:00,  3.12s/it]"
          }
        },
        "8d3a5dd6d1bd450f9f820886bcaafd60": {
          "model_module": "@jupyter-widgets/controls",
          "model_module_version": "1.5.0",
          "model_name": "FloatProgressModel",
          "state": {
            "_dom_classes": [],
            "_model_module": "@jupyter-widgets/controls",
            "_model_module_version": "1.5.0",
            "_model_name": "FloatProgressModel",
            "_view_count": null,
            "_view_module": "@jupyter-widgets/controls",
            "_view_module_version": "1.5.0",
            "_view_name": "ProgressView",
            "bar_style": "success",
            "description": "",
            "description_tooltip": null,
            "layout": "IPY_MODEL_b7d1f8dd07d44e9c992173e78b07a7d0",
            "max": 726,
            "min": 0,
            "orientation": "horizontal",
            "style": "IPY_MODEL_f43824c17f0c46f8aa481756c2b8bb1e",
            "value": 726
          }
        },
        "91b6625718c04b03a5f479d39f4ce0ff": {
          "model_module": "@jupyter-widgets/base",
          "model_module_version": "1.2.0",
          "model_name": "LayoutModel",
          "state": {
            "_model_module": "@jupyter-widgets/base",
            "_model_module_version": "1.2.0",
            "_model_name": "LayoutModel",
            "_view_count": null,
            "_view_module": "@jupyter-widgets/base",
            "_view_module_version": "1.2.0",
            "_view_name": "LayoutView",
            "align_content": null,
            "align_items": null,
            "align_self": null,
            "border": null,
            "bottom": null,
            "display": null,
            "flex": null,
            "flex_flow": null,
            "grid_area": null,
            "grid_auto_columns": null,
            "grid_auto_flow": null,
            "grid_auto_rows": null,
            "grid_column": null,
            "grid_gap": null,
            "grid_row": null,
            "grid_template_areas": null,
            "grid_template_columns": null,
            "grid_template_rows": null,
            "height": null,
            "justify_content": null,
            "justify_items": null,
            "left": null,
            "margin": null,
            "max_height": null,
            "max_width": null,
            "min_height": null,
            "min_width": null,
            "object_fit": null,
            "object_position": null,
            "order": null,
            "overflow": null,
            "overflow_x": null,
            "overflow_y": null,
            "padding": null,
            "right": null,
            "top": null,
            "visibility": null,
            "width": null
          }
        },
        "96a622f3e6be40d3b21856280ecec709": {
          "model_module": "@jupyter-widgets/controls",
          "model_module_version": "1.5.0",
          "model_name": "HTMLModel",
          "state": {
            "_dom_classes": [],
            "_model_module": "@jupyter-widgets/controls",
            "_model_module_version": "1.5.0",
            "_model_name": "HTMLModel",
            "_view_count": null,
            "_view_module": "@jupyter-widgets/controls",
            "_view_module_version": "1.5.0",
            "_view_name": "HTMLView",
            "description": "",
            "description_tooltip": null,
            "layout": "IPY_MODEL_a19eb68f10e5494c9ac958ba58a4dde9",
            "placeholder": "​",
            "style": "IPY_MODEL_36c127f0339843ba8b207723987b2b22",
            "value": "100%"
          }
        },
        "a19eb68f10e5494c9ac958ba58a4dde9": {
          "model_module": "@jupyter-widgets/base",
          "model_module_version": "1.2.0",
          "model_name": "LayoutModel",
          "state": {
            "_model_module": "@jupyter-widgets/base",
            "_model_module_version": "1.2.0",
            "_model_name": "LayoutModel",
            "_view_count": null,
            "_view_module": "@jupyter-widgets/base",
            "_view_module_version": "1.2.0",
            "_view_name": "LayoutView",
            "align_content": null,
            "align_items": null,
            "align_self": null,
            "border": null,
            "bottom": null,
            "display": null,
            "flex": null,
            "flex_flow": null,
            "grid_area": null,
            "grid_auto_columns": null,
            "grid_auto_flow": null,
            "grid_auto_rows": null,
            "grid_column": null,
            "grid_gap": null,
            "grid_row": null,
            "grid_template_areas": null,
            "grid_template_columns": null,
            "grid_template_rows": null,
            "height": null,
            "justify_content": null,
            "justify_items": null,
            "left": null,
            "margin": null,
            "max_height": null,
            "max_width": null,
            "min_height": null,
            "min_width": null,
            "object_fit": null,
            "object_position": null,
            "order": null,
            "overflow": null,
            "overflow_x": null,
            "overflow_y": null,
            "padding": null,
            "right": null,
            "top": null,
            "visibility": null,
            "width": null
          }
        },
        "b7d1f8dd07d44e9c992173e78b07a7d0": {
          "model_module": "@jupyter-widgets/base",
          "model_module_version": "1.2.0",
          "model_name": "LayoutModel",
          "state": {
            "_model_module": "@jupyter-widgets/base",
            "_model_module_version": "1.2.0",
            "_model_name": "LayoutModel",
            "_view_count": null,
            "_view_module": "@jupyter-widgets/base",
            "_view_module_version": "1.2.0",
            "_view_name": "LayoutView",
            "align_content": null,
            "align_items": null,
            "align_self": null,
            "border": null,
            "bottom": null,
            "display": null,
            "flex": null,
            "flex_flow": null,
            "grid_area": null,
            "grid_auto_columns": null,
            "grid_auto_flow": null,
            "grid_auto_rows": null,
            "grid_column": null,
            "grid_gap": null,
            "grid_row": null,
            "grid_template_areas": null,
            "grid_template_columns": null,
            "grid_template_rows": null,
            "height": null,
            "justify_content": null,
            "justify_items": null,
            "left": null,
            "margin": null,
            "max_height": null,
            "max_width": null,
            "min_height": null,
            "min_width": null,
            "object_fit": null,
            "object_position": null,
            "order": null,
            "overflow": null,
            "overflow_x": null,
            "overflow_y": null,
            "padding": null,
            "right": null,
            "top": null,
            "visibility": null,
            "width": null
          }
        },
        "c3fd6e4b71ca4828b5905a030bc1bead": {
          "model_module": "@jupyter-widgets/base",
          "model_module_version": "1.2.0",
          "model_name": "LayoutModel",
          "state": {
            "_model_module": "@jupyter-widgets/base",
            "_model_module_version": "1.2.0",
            "_model_name": "LayoutModel",
            "_view_count": null,
            "_view_module": "@jupyter-widgets/base",
            "_view_module_version": "1.2.0",
            "_view_name": "LayoutView",
            "align_content": null,
            "align_items": null,
            "align_self": null,
            "border": null,
            "bottom": null,
            "display": null,
            "flex": null,
            "flex_flow": null,
            "grid_area": null,
            "grid_auto_columns": null,
            "grid_auto_flow": null,
            "grid_auto_rows": null,
            "grid_column": null,
            "grid_gap": null,
            "grid_row": null,
            "grid_template_areas": null,
            "grid_template_columns": null,
            "grid_template_rows": null,
            "height": null,
            "justify_content": null,
            "justify_items": null,
            "left": null,
            "margin": null,
            "max_height": null,
            "max_width": null,
            "min_height": null,
            "min_width": null,
            "object_fit": null,
            "object_position": null,
            "order": null,
            "overflow": null,
            "overflow_x": null,
            "overflow_y": null,
            "padding": null,
            "right": null,
            "top": null,
            "visibility": null,
            "width": null
          }
        },
        "c9a39a79a42c49f595bcc68c55f10996": {
          "model_module": "@jupyter-widgets/controls",
          "model_module_version": "1.5.0",
          "model_name": "HBoxModel",
          "state": {
            "_dom_classes": [],
            "_model_module": "@jupyter-widgets/controls",
            "_model_module_version": "1.5.0",
            "_model_name": "HBoxModel",
            "_view_count": null,
            "_view_module": "@jupyter-widgets/controls",
            "_view_module_version": "1.5.0",
            "_view_name": "HBoxView",
            "box_style": "",
            "children": [
              "IPY_MODEL_96a622f3e6be40d3b21856280ecec709",
              "IPY_MODEL_8d3a5dd6d1bd450f9f820886bcaafd60",
              "IPY_MODEL_896b75a0ae0b40f6a1697f998087e3fa"
            ],
            "layout": "IPY_MODEL_444f9994612d4ceb99961901769d8729"
          }
        },
        "d16dc568c4f548d18a0e4480ab838e96": {
          "model_module": "@jupyter-widgets/controls",
          "model_module_version": "1.5.0",
          "model_name": "FloatProgressModel",
          "state": {
            "_dom_classes": [],
            "_model_module": "@jupyter-widgets/controls",
            "_model_module_version": "1.5.0",
            "_model_name": "FloatProgressModel",
            "_view_count": null,
            "_view_module": "@jupyter-widgets/controls",
            "_view_module_version": "1.5.0",
            "_view_name": "ProgressView",
            "bar_style": "danger",
            "description": "",
            "description_tooltip": null,
            "layout": "IPY_MODEL_6f2234a6333841ca84df96e7c55fb893",
            "max": 726,
            "min": 0,
            "orientation": "horizontal",
            "style": "IPY_MODEL_f7d04783bed841298accd9679939b5c6",
            "value": 132
          }
        },
        "e8f50a4399d64fbaa40cfa827735b185": {
          "model_module": "@jupyter-widgets/controls",
          "model_module_version": "1.5.0",
          "model_name": "HTMLModel",
          "state": {
            "_dom_classes": [],
            "_model_module": "@jupyter-widgets/controls",
            "_model_module_version": "1.5.0",
            "_model_name": "HTMLModel",
            "_view_count": null,
            "_view_module": "@jupyter-widgets/controls",
            "_view_module_version": "1.5.0",
            "_view_name": "HTMLView",
            "description": "",
            "description_tooltip": null,
            "layout": "IPY_MODEL_2e800b9176784d7099f9a2e38c5e14df",
            "placeholder": "​",
            "style": "IPY_MODEL_684bab3259644a5a972a6b2f4a8b7949",
            "value": " 18%"
          }
        },
        "f43824c17f0c46f8aa481756c2b8bb1e": {
          "model_module": "@jupyter-widgets/controls",
          "model_module_version": "1.5.0",
          "model_name": "ProgressStyleModel",
          "state": {
            "_model_module": "@jupyter-widgets/controls",
            "_model_module_version": "1.5.0",
            "_model_name": "ProgressStyleModel",
            "_view_count": null,
            "_view_module": "@jupyter-widgets/base",
            "_view_module_version": "1.2.0",
            "_view_name": "StyleView",
            "bar_color": null,
            "description_width": ""
          }
        },
        "f7d04783bed841298accd9679939b5c6": {
          "model_module": "@jupyter-widgets/controls",
          "model_module_version": "1.5.0",
          "model_name": "ProgressStyleModel",
          "state": {
            "_model_module": "@jupyter-widgets/controls",
            "_model_module_version": "1.5.0",
            "_model_name": "ProgressStyleModel",
            "_view_count": null,
            "_view_module": "@jupyter-widgets/base",
            "_view_module_version": "1.2.0",
            "_view_name": "StyleView",
            "bar_color": null,
            "description_width": ""
          }
        }
      }
    }
  },
  "nbformat": 4,
  "nbformat_minor": 0
}