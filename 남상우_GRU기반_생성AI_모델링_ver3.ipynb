{
  "nbformat": 4,
  "nbformat_minor": 0,
  "metadata": {
    "colab": {
      "provenance": [],
      "toc_visible": true,
      "machine_shape": "hm",
      "include_colab_link": true
    },
    "kernelspec": {
      "name": "python3",
      "display_name": "Python 3"
    },
    "language_info": {
      "name": "python"
    },
    "accelerator": "TPU",
    "widgets": {
      "application/vnd.jupyter.widget-state+json": {
        "99d06a72ac2445ecaf1404b585991431": {
          "model_module": "@jupyter-widgets/controls",
          "model_name": "HBoxModel",
          "model_module_version": "1.5.0",
          "state": {
            "_dom_classes": [],
            "_model_module": "@jupyter-widgets/controls",
            "_model_module_version": "1.5.0",
            "_model_name": "HBoxModel",
            "_view_count": null,
            "_view_module": "@jupyter-widgets/controls",
            "_view_module_version": "1.5.0",
            "_view_name": "HBoxView",
            "box_style": "",
            "children": [
              "IPY_MODEL_ead914b8fe854c488dd231dd7842ae35",
              "IPY_MODEL_080d6642a323407d967d63b89b0d446a",
              "IPY_MODEL_81133ed7da9242bc83f44702e1cdc38d"
            ],
            "layout": "IPY_MODEL_14e2d193ef194a5b88254e1f885c4c80"
          }
        },
        "ead914b8fe854c488dd231dd7842ae35": {
          "model_module": "@jupyter-widgets/controls",
          "model_name": "HTMLModel",
          "model_module_version": "1.5.0",
          "state": {
            "_dom_classes": [],
            "_model_module": "@jupyter-widgets/controls",
            "_model_module_version": "1.5.0",
            "_model_name": "HTMLModel",
            "_view_count": null,
            "_view_module": "@jupyter-widgets/controls",
            "_view_module_version": "1.5.0",
            "_view_name": "HTMLView",
            "description": "",
            "description_tooltip": null,
            "layout": "IPY_MODEL_6ec52e114bd04fb997fc051587876957",
            "placeholder": "​",
            "style": "IPY_MODEL_9d236d28a6f8479d83e6cfeedbc9ab33",
            "value": "Downloading (…)lve/main/config.json: 100%"
          }
        },
        "080d6642a323407d967d63b89b0d446a": {
          "model_module": "@jupyter-widgets/controls",
          "model_name": "FloatProgressModel",
          "model_module_version": "1.5.0",
          "state": {
            "_dom_classes": [],
            "_model_module": "@jupyter-widgets/controls",
            "_model_module_version": "1.5.0",
            "_model_name": "FloatProgressModel",
            "_view_count": null,
            "_view_module": "@jupyter-widgets/controls",
            "_view_module_version": "1.5.0",
            "_view_name": "ProgressView",
            "bar_style": "success",
            "description": "",
            "description_tooltip": null,
            "layout": "IPY_MODEL_5ea621da54b046bb8e648deb4e3a63a3",
            "max": 790,
            "min": 0,
            "orientation": "horizontal",
            "style": "IPY_MODEL_8d1d3dac575d406b9158b6960c503f08",
            "value": 790
          }
        },
        "81133ed7da9242bc83f44702e1cdc38d": {
          "model_module": "@jupyter-widgets/controls",
          "model_name": "HTMLModel",
          "model_module_version": "1.5.0",
          "state": {
            "_dom_classes": [],
            "_model_module": "@jupyter-widgets/controls",
            "_model_module_version": "1.5.0",
            "_model_name": "HTMLModel",
            "_view_count": null,
            "_view_module": "@jupyter-widgets/controls",
            "_view_module_version": "1.5.0",
            "_view_name": "HTMLView",
            "description": "",
            "description_tooltip": null,
            "layout": "IPY_MODEL_dcbc7a2b256b4de6bed13246d2d48106",
            "placeholder": "​",
            "style": "IPY_MODEL_6084adf4f605446f99894a45181ca655",
            "value": " 790/790 [00:00&lt;00:00, 63.0kB/s]"
          }
        },
        "14e2d193ef194a5b88254e1f885c4c80": {
          "model_module": "@jupyter-widgets/base",
          "model_name": "LayoutModel",
          "model_module_version": "1.2.0",
          "state": {
            "_model_module": "@jupyter-widgets/base",
            "_model_module_version": "1.2.0",
            "_model_name": "LayoutModel",
            "_view_count": null,
            "_view_module": "@jupyter-widgets/base",
            "_view_module_version": "1.2.0",
            "_view_name": "LayoutView",
            "align_content": null,
            "align_items": null,
            "align_self": null,
            "border": null,
            "bottom": null,
            "display": null,
            "flex": null,
            "flex_flow": null,
            "grid_area": null,
            "grid_auto_columns": null,
            "grid_auto_flow": null,
            "grid_auto_rows": null,
            "grid_column": null,
            "grid_gap": null,
            "grid_row": null,
            "grid_template_areas": null,
            "grid_template_columns": null,
            "grid_template_rows": null,
            "height": null,
            "justify_content": null,
            "justify_items": null,
            "left": null,
            "margin": null,
            "max_height": null,
            "max_width": null,
            "min_height": null,
            "min_width": null,
            "object_fit": null,
            "object_position": null,
            "order": null,
            "overflow": null,
            "overflow_x": null,
            "overflow_y": null,
            "padding": null,
            "right": null,
            "top": null,
            "visibility": null,
            "width": null
          }
        },
        "6ec52e114bd04fb997fc051587876957": {
          "model_module": "@jupyter-widgets/base",
          "model_name": "LayoutModel",
          "model_module_version": "1.2.0",
          "state": {
            "_model_module": "@jupyter-widgets/base",
            "_model_module_version": "1.2.0",
            "_model_name": "LayoutModel",
            "_view_count": null,
            "_view_module": "@jupyter-widgets/base",
            "_view_module_version": "1.2.0",
            "_view_name": "LayoutView",
            "align_content": null,
            "align_items": null,
            "align_self": null,
            "border": null,
            "bottom": null,
            "display": null,
            "flex": null,
            "flex_flow": null,
            "grid_area": null,
            "grid_auto_columns": null,
            "grid_auto_flow": null,
            "grid_auto_rows": null,
            "grid_column": null,
            "grid_gap": null,
            "grid_row": null,
            "grid_template_areas": null,
            "grid_template_columns": null,
            "grid_template_rows": null,
            "height": null,
            "justify_content": null,
            "justify_items": null,
            "left": null,
            "margin": null,
            "max_height": null,
            "max_width": null,
            "min_height": null,
            "min_width": null,
            "object_fit": null,
            "object_position": null,
            "order": null,
            "overflow": null,
            "overflow_x": null,
            "overflow_y": null,
            "padding": null,
            "right": null,
            "top": null,
            "visibility": null,
            "width": null
          }
        },
        "9d236d28a6f8479d83e6cfeedbc9ab33": {
          "model_module": "@jupyter-widgets/controls",
          "model_name": "DescriptionStyleModel",
          "model_module_version": "1.5.0",
          "state": {
            "_model_module": "@jupyter-widgets/controls",
            "_model_module_version": "1.5.0",
            "_model_name": "DescriptionStyleModel",
            "_view_count": null,
            "_view_module": "@jupyter-widgets/base",
            "_view_module_version": "1.2.0",
            "_view_name": "StyleView",
            "description_width": ""
          }
        },
        "5ea621da54b046bb8e648deb4e3a63a3": {
          "model_module": "@jupyter-widgets/base",
          "model_name": "LayoutModel",
          "model_module_version": "1.2.0",
          "state": {
            "_model_module": "@jupyter-widgets/base",
            "_model_module_version": "1.2.0",
            "_model_name": "LayoutModel",
            "_view_count": null,
            "_view_module": "@jupyter-widgets/base",
            "_view_module_version": "1.2.0",
            "_view_name": "LayoutView",
            "align_content": null,
            "align_items": null,
            "align_self": null,
            "border": null,
            "bottom": null,
            "display": null,
            "flex": null,
            "flex_flow": null,
            "grid_area": null,
            "grid_auto_columns": null,
            "grid_auto_flow": null,
            "grid_auto_rows": null,
            "grid_column": null,
            "grid_gap": null,
            "grid_row": null,
            "grid_template_areas": null,
            "grid_template_columns": null,
            "grid_template_rows": null,
            "height": null,
            "justify_content": null,
            "justify_items": null,
            "left": null,
            "margin": null,
            "max_height": null,
            "max_width": null,
            "min_height": null,
            "min_width": null,
            "object_fit": null,
            "object_position": null,
            "order": null,
            "overflow": null,
            "overflow_x": null,
            "overflow_y": null,
            "padding": null,
            "right": null,
            "top": null,
            "visibility": null,
            "width": null
          }
        },
        "8d1d3dac575d406b9158b6960c503f08": {
          "model_module": "@jupyter-widgets/controls",
          "model_name": "ProgressStyleModel",
          "model_module_version": "1.5.0",
          "state": {
            "_model_module": "@jupyter-widgets/controls",
            "_model_module_version": "1.5.0",
            "_model_name": "ProgressStyleModel",
            "_view_count": null,
            "_view_module": "@jupyter-widgets/base",
            "_view_module_version": "1.2.0",
            "_view_name": "StyleView",
            "bar_color": null,
            "description_width": ""
          }
        },
        "dcbc7a2b256b4de6bed13246d2d48106": {
          "model_module": "@jupyter-widgets/base",
          "model_name": "LayoutModel",
          "model_module_version": "1.2.0",
          "state": {
            "_model_module": "@jupyter-widgets/base",
            "_model_module_version": "1.2.0",
            "_model_name": "LayoutModel",
            "_view_count": null,
            "_view_module": "@jupyter-widgets/base",
            "_view_module_version": "1.2.0",
            "_view_name": "LayoutView",
            "align_content": null,
            "align_items": null,
            "align_self": null,
            "border": null,
            "bottom": null,
            "display": null,
            "flex": null,
            "flex_flow": null,
            "grid_area": null,
            "grid_auto_columns": null,
            "grid_auto_flow": null,
            "grid_auto_rows": null,
            "grid_column": null,
            "grid_gap": null,
            "grid_row": null,
            "grid_template_areas": null,
            "grid_template_columns": null,
            "grid_template_rows": null,
            "height": null,
            "justify_content": null,
            "justify_items": null,
            "left": null,
            "margin": null,
            "max_height": null,
            "max_width": null,
            "min_height": null,
            "min_width": null,
            "object_fit": null,
            "object_position": null,
            "order": null,
            "overflow": null,
            "overflow_x": null,
            "overflow_y": null,
            "padding": null,
            "right": null,
            "top": null,
            "visibility": null,
            "width": null
          }
        },
        "6084adf4f605446f99894a45181ca655": {
          "model_module": "@jupyter-widgets/controls",
          "model_name": "DescriptionStyleModel",
          "model_module_version": "1.5.0",
          "state": {
            "_model_module": "@jupyter-widgets/controls",
            "_model_module_version": "1.5.0",
            "_model_name": "DescriptionStyleModel",
            "_view_count": null,
            "_view_module": "@jupyter-widgets/base",
            "_view_module_version": "1.2.0",
            "_view_name": "StyleView",
            "description_width": ""
          }
        },
        "7ad45f4b528d4ba9a6182d9693125ab9": {
          "model_module": "@jupyter-widgets/controls",
          "model_name": "HBoxModel",
          "model_module_version": "1.5.0",
          "state": {
            "_dom_classes": [],
            "_model_module": "@jupyter-widgets/controls",
            "_model_module_version": "1.5.0",
            "_model_name": "HBoxModel",
            "_view_count": null,
            "_view_module": "@jupyter-widgets/controls",
            "_view_module_version": "1.5.0",
            "_view_name": "HBoxView",
            "box_style": "",
            "children": [
              "IPY_MODEL_159b9d05c3924cdfa4812e44e6a533fe",
              "IPY_MODEL_8aae93c64cde41d0ae1638115877fe64",
              "IPY_MODEL_a18869428b354dc78eb9bbfcf7c0ef32"
            ],
            "layout": "IPY_MODEL_2b2faa551e9042d49118379e29d05f3d"
          }
        },
        "159b9d05c3924cdfa4812e44e6a533fe": {
          "model_module": "@jupyter-widgets/controls",
          "model_name": "HTMLModel",
          "model_module_version": "1.5.0",
          "state": {
            "_dom_classes": [],
            "_model_module": "@jupyter-widgets/controls",
            "_model_module_version": "1.5.0",
            "_model_name": "HTMLModel",
            "_view_count": null,
            "_view_module": "@jupyter-widgets/controls",
            "_view_module_version": "1.5.0",
            "_view_name": "HTMLView",
            "description": "",
            "description_tooltip": null,
            "layout": "IPY_MODEL_b5069eac2f4e4ba9810ff6316e752e4b",
            "placeholder": "​",
            "style": "IPY_MODEL_9f28204eb8e44bba8c01f251c52f9f0b",
            "value": "Downloading model.safetensors: 100%"
          }
        },
        "8aae93c64cde41d0ae1638115877fe64": {
          "model_module": "@jupyter-widgets/controls",
          "model_name": "FloatProgressModel",
          "model_module_version": "1.5.0",
          "state": {
            "_dom_classes": [],
            "_model_module": "@jupyter-widgets/controls",
            "_model_module_version": "1.5.0",
            "_model_name": "FloatProgressModel",
            "_view_count": null,
            "_view_module": "@jupyter-widgets/controls",
            "_view_module_version": "1.5.0",
            "_view_name": "ProgressView",
            "bar_style": "success",
            "description": "",
            "description_tooltip": null,
            "layout": "IPY_MODEL_fe711bf838424e3fbaed5c42ac6578b1",
            "max": 1102350188,
            "min": 0,
            "orientation": "horizontal",
            "style": "IPY_MODEL_e3d24738757a4a6e84202e2741a2ce8b",
            "value": 1102350188
          }
        },
        "a18869428b354dc78eb9bbfcf7c0ef32": {
          "model_module": "@jupyter-widgets/controls",
          "model_name": "HTMLModel",
          "model_module_version": "1.5.0",
          "state": {
            "_dom_classes": [],
            "_model_module": "@jupyter-widgets/controls",
            "_model_module_version": "1.5.0",
            "_model_name": "HTMLModel",
            "_view_count": null,
            "_view_module": "@jupyter-widgets/controls",
            "_view_module_version": "1.5.0",
            "_view_name": "HTMLView",
            "description": "",
            "description_tooltip": null,
            "layout": "IPY_MODEL_ef8a14d281fe4cb5ae3259d0b24824eb",
            "placeholder": "​",
            "style": "IPY_MODEL_0ad993b5ca26412d82ae65e280045917",
            "value": " 1.10G/1.10G [00:05&lt;00:00, 194MB/s]"
          }
        },
        "2b2faa551e9042d49118379e29d05f3d": {
          "model_module": "@jupyter-widgets/base",
          "model_name": "LayoutModel",
          "model_module_version": "1.2.0",
          "state": {
            "_model_module": "@jupyter-widgets/base",
            "_model_module_version": "1.2.0",
            "_model_name": "LayoutModel",
            "_view_count": null,
            "_view_module": "@jupyter-widgets/base",
            "_view_module_version": "1.2.0",
            "_view_name": "LayoutView",
            "align_content": null,
            "align_items": null,
            "align_self": null,
            "border": null,
            "bottom": null,
            "display": null,
            "flex": null,
            "flex_flow": null,
            "grid_area": null,
            "grid_auto_columns": null,
            "grid_auto_flow": null,
            "grid_auto_rows": null,
            "grid_column": null,
            "grid_gap": null,
            "grid_row": null,
            "grid_template_areas": null,
            "grid_template_columns": null,
            "grid_template_rows": null,
            "height": null,
            "justify_content": null,
            "justify_items": null,
            "left": null,
            "margin": null,
            "max_height": null,
            "max_width": null,
            "min_height": null,
            "min_width": null,
            "object_fit": null,
            "object_position": null,
            "order": null,
            "overflow": null,
            "overflow_x": null,
            "overflow_y": null,
            "padding": null,
            "right": null,
            "top": null,
            "visibility": null,
            "width": null
          }
        },
        "b5069eac2f4e4ba9810ff6316e752e4b": {
          "model_module": "@jupyter-widgets/base",
          "model_name": "LayoutModel",
          "model_module_version": "1.2.0",
          "state": {
            "_model_module": "@jupyter-widgets/base",
            "_model_module_version": "1.2.0",
            "_model_name": "LayoutModel",
            "_view_count": null,
            "_view_module": "@jupyter-widgets/base",
            "_view_module_version": "1.2.0",
            "_view_name": "LayoutView",
            "align_content": null,
            "align_items": null,
            "align_self": null,
            "border": null,
            "bottom": null,
            "display": null,
            "flex": null,
            "flex_flow": null,
            "grid_area": null,
            "grid_auto_columns": null,
            "grid_auto_flow": null,
            "grid_auto_rows": null,
            "grid_column": null,
            "grid_gap": null,
            "grid_row": null,
            "grid_template_areas": null,
            "grid_template_columns": null,
            "grid_template_rows": null,
            "height": null,
            "justify_content": null,
            "justify_items": null,
            "left": null,
            "margin": null,
            "max_height": null,
            "max_width": null,
            "min_height": null,
            "min_width": null,
            "object_fit": null,
            "object_position": null,
            "order": null,
            "overflow": null,
            "overflow_x": null,
            "overflow_y": null,
            "padding": null,
            "right": null,
            "top": null,
            "visibility": null,
            "width": null
          }
        },
        "9f28204eb8e44bba8c01f251c52f9f0b": {
          "model_module": "@jupyter-widgets/controls",
          "model_name": "DescriptionStyleModel",
          "model_module_version": "1.5.0",
          "state": {
            "_model_module": "@jupyter-widgets/controls",
            "_model_module_version": "1.5.0",
            "_model_name": "DescriptionStyleModel",
            "_view_count": null,
            "_view_module": "@jupyter-widgets/base",
            "_view_module_version": "1.2.0",
            "_view_name": "StyleView",
            "description_width": ""
          }
        },
        "fe711bf838424e3fbaed5c42ac6578b1": {
          "model_module": "@jupyter-widgets/base",
          "model_name": "LayoutModel",
          "model_module_version": "1.2.0",
          "state": {
            "_model_module": "@jupyter-widgets/base",
            "_model_module_version": "1.2.0",
            "_model_name": "LayoutModel",
            "_view_count": null,
            "_view_module": "@jupyter-widgets/base",
            "_view_module_version": "1.2.0",
            "_view_name": "LayoutView",
            "align_content": null,
            "align_items": null,
            "align_self": null,
            "border": null,
            "bottom": null,
            "display": null,
            "flex": null,
            "flex_flow": null,
            "grid_area": null,
            "grid_auto_columns": null,
            "grid_auto_flow": null,
            "grid_auto_rows": null,
            "grid_column": null,
            "grid_gap": null,
            "grid_row": null,
            "grid_template_areas": null,
            "grid_template_columns": null,
            "grid_template_rows": null,
            "height": null,
            "justify_content": null,
            "justify_items": null,
            "left": null,
            "margin": null,
            "max_height": null,
            "max_width": null,
            "min_height": null,
            "min_width": null,
            "object_fit": null,
            "object_position": null,
            "order": null,
            "overflow": null,
            "overflow_x": null,
            "overflow_y": null,
            "padding": null,
            "right": null,
            "top": null,
            "visibility": null,
            "width": null
          }
        },
        "e3d24738757a4a6e84202e2741a2ce8b": {
          "model_module": "@jupyter-widgets/controls",
          "model_name": "ProgressStyleModel",
          "model_module_version": "1.5.0",
          "state": {
            "_model_module": "@jupyter-widgets/controls",
            "_model_module_version": "1.5.0",
            "_model_name": "ProgressStyleModel",
            "_view_count": null,
            "_view_module": "@jupyter-widgets/base",
            "_view_module_version": "1.2.0",
            "_view_name": "StyleView",
            "bar_color": null,
            "description_width": ""
          }
        },
        "ef8a14d281fe4cb5ae3259d0b24824eb": {
          "model_module": "@jupyter-widgets/base",
          "model_name": "LayoutModel",
          "model_module_version": "1.2.0",
          "state": {
            "_model_module": "@jupyter-widgets/base",
            "_model_module_version": "1.2.0",
            "_model_name": "LayoutModel",
            "_view_count": null,
            "_view_module": "@jupyter-widgets/base",
            "_view_module_version": "1.2.0",
            "_view_name": "LayoutView",
            "align_content": null,
            "align_items": null,
            "align_self": null,
            "border": null,
            "bottom": null,
            "display": null,
            "flex": null,
            "flex_flow": null,
            "grid_area": null,
            "grid_auto_columns": null,
            "grid_auto_flow": null,
            "grid_auto_rows": null,
            "grid_column": null,
            "grid_gap": null,
            "grid_row": null,
            "grid_template_areas": null,
            "grid_template_columns": null,
            "grid_template_rows": null,
            "height": null,
            "justify_content": null,
            "justify_items": null,
            "left": null,
            "margin": null,
            "max_height": null,
            "max_width": null,
            "min_height": null,
            "min_width": null,
            "object_fit": null,
            "object_position": null,
            "order": null,
            "overflow": null,
            "overflow_x": null,
            "overflow_y": null,
            "padding": null,
            "right": null,
            "top": null,
            "visibility": null,
            "width": null
          }
        },
        "0ad993b5ca26412d82ae65e280045917": {
          "model_module": "@jupyter-widgets/controls",
          "model_name": "DescriptionStyleModel",
          "model_module_version": "1.5.0",
          "state": {
            "_model_module": "@jupyter-widgets/controls",
            "_model_module_version": "1.5.0",
            "_model_name": "DescriptionStyleModel",
            "_view_count": null,
            "_view_module": "@jupyter-widgets/base",
            "_view_module_version": "1.2.0",
            "_view_name": "StyleView",
            "description_width": ""
          }
        },
        "0a73e464b88d49d3923901a8c1a7697e": {
          "model_module": "@jupyter-widgets/controls",
          "model_name": "HBoxModel",
          "model_module_version": "1.5.0",
          "state": {
            "_dom_classes": [],
            "_model_module": "@jupyter-widgets/controls",
            "_model_module_version": "1.5.0",
            "_model_name": "HBoxModel",
            "_view_count": null,
            "_view_module": "@jupyter-widgets/controls",
            "_view_module_version": "1.5.0",
            "_view_name": "HBoxView",
            "box_style": "",
            "children": [
              "IPY_MODEL_b6ca7e21a23b4dc6afa6abbb96040a34",
              "IPY_MODEL_0297664ede104ee0bf3292ddf5552d37",
              "IPY_MODEL_3a75568de12f4032930163082581b101"
            ],
            "layout": "IPY_MODEL_a6a4817ffa24466db46d0d11b3982185"
          }
        },
        "b6ca7e21a23b4dc6afa6abbb96040a34": {
          "model_module": "@jupyter-widgets/controls",
          "model_name": "HTMLModel",
          "model_module_version": "1.5.0",
          "state": {
            "_dom_classes": [],
            "_model_module": "@jupyter-widgets/controls",
            "_model_module_version": "1.5.0",
            "_model_name": "HTMLModel",
            "_view_count": null,
            "_view_module": "@jupyter-widgets/controls",
            "_view_module_version": "1.5.0",
            "_view_name": "HTMLView",
            "description": "",
            "description_tooltip": null,
            "layout": "IPY_MODEL_3010e2bf66e54cf6bf13ef83da78d091",
            "placeholder": "​",
            "style": "IPY_MODEL_143bc1494fcb43c1b81c2e9498049e91",
            "value": "Downloading (…)okenizer_config.json: 100%"
          }
        },
        "0297664ede104ee0bf3292ddf5552d37": {
          "model_module": "@jupyter-widgets/controls",
          "model_name": "FloatProgressModel",
          "model_module_version": "1.5.0",
          "state": {
            "_dom_classes": [],
            "_model_module": "@jupyter-widgets/controls",
            "_model_module_version": "1.5.0",
            "_model_name": "FloatProgressModel",
            "_view_count": null,
            "_view_module": "@jupyter-widgets/controls",
            "_view_module_version": "1.5.0",
            "_view_name": "ProgressView",
            "bar_style": "success",
            "description": "",
            "description_tooltip": null,
            "layout": "IPY_MODEL_90cc2832881b42fab59a3d2c92455952",
            "max": 2403,
            "min": 0,
            "orientation": "horizontal",
            "style": "IPY_MODEL_db18ff29f30a44b7935f94e9e1861276",
            "value": 2403
          }
        },
        "3a75568de12f4032930163082581b101": {
          "model_module": "@jupyter-widgets/controls",
          "model_name": "HTMLModel",
          "model_module_version": "1.5.0",
          "state": {
            "_dom_classes": [],
            "_model_module": "@jupyter-widgets/controls",
            "_model_module_version": "1.5.0",
            "_model_name": "HTMLModel",
            "_view_count": null,
            "_view_module": "@jupyter-widgets/controls",
            "_view_module_version": "1.5.0",
            "_view_name": "HTMLView",
            "description": "",
            "description_tooltip": null,
            "layout": "IPY_MODEL_c60b2225894740899a5063d5415e907d",
            "placeholder": "​",
            "style": "IPY_MODEL_6c7ef941e8b14f82bcf442383d17fd06",
            "value": " 2.40k/2.40k [00:00&lt;00:00, 218kB/s]"
          }
        },
        "a6a4817ffa24466db46d0d11b3982185": {
          "model_module": "@jupyter-widgets/base",
          "model_name": "LayoutModel",
          "model_module_version": "1.2.0",
          "state": {
            "_model_module": "@jupyter-widgets/base",
            "_model_module_version": "1.2.0",
            "_model_name": "LayoutModel",
            "_view_count": null,
            "_view_module": "@jupyter-widgets/base",
            "_view_module_version": "1.2.0",
            "_view_name": "LayoutView",
            "align_content": null,
            "align_items": null,
            "align_self": null,
            "border": null,
            "bottom": null,
            "display": null,
            "flex": null,
            "flex_flow": null,
            "grid_area": null,
            "grid_auto_columns": null,
            "grid_auto_flow": null,
            "grid_auto_rows": null,
            "grid_column": null,
            "grid_gap": null,
            "grid_row": null,
            "grid_template_areas": null,
            "grid_template_columns": null,
            "grid_template_rows": null,
            "height": null,
            "justify_content": null,
            "justify_items": null,
            "left": null,
            "margin": null,
            "max_height": null,
            "max_width": null,
            "min_height": null,
            "min_width": null,
            "object_fit": null,
            "object_position": null,
            "order": null,
            "overflow": null,
            "overflow_x": null,
            "overflow_y": null,
            "padding": null,
            "right": null,
            "top": null,
            "visibility": null,
            "width": null
          }
        },
        "3010e2bf66e54cf6bf13ef83da78d091": {
          "model_module": "@jupyter-widgets/base",
          "model_name": "LayoutModel",
          "model_module_version": "1.2.0",
          "state": {
            "_model_module": "@jupyter-widgets/base",
            "_model_module_version": "1.2.0",
            "_model_name": "LayoutModel",
            "_view_count": null,
            "_view_module": "@jupyter-widgets/base",
            "_view_module_version": "1.2.0",
            "_view_name": "LayoutView",
            "align_content": null,
            "align_items": null,
            "align_self": null,
            "border": null,
            "bottom": null,
            "display": null,
            "flex": null,
            "flex_flow": null,
            "grid_area": null,
            "grid_auto_columns": null,
            "grid_auto_flow": null,
            "grid_auto_rows": null,
            "grid_column": null,
            "grid_gap": null,
            "grid_row": null,
            "grid_template_areas": null,
            "grid_template_columns": null,
            "grid_template_rows": null,
            "height": null,
            "justify_content": null,
            "justify_items": null,
            "left": null,
            "margin": null,
            "max_height": null,
            "max_width": null,
            "min_height": null,
            "min_width": null,
            "object_fit": null,
            "object_position": null,
            "order": null,
            "overflow": null,
            "overflow_x": null,
            "overflow_y": null,
            "padding": null,
            "right": null,
            "top": null,
            "visibility": null,
            "width": null
          }
        },
        "143bc1494fcb43c1b81c2e9498049e91": {
          "model_module": "@jupyter-widgets/controls",
          "model_name": "DescriptionStyleModel",
          "model_module_version": "1.5.0",
          "state": {
            "_model_module": "@jupyter-widgets/controls",
            "_model_module_version": "1.5.0",
            "_model_name": "DescriptionStyleModel",
            "_view_count": null,
            "_view_module": "@jupyter-widgets/base",
            "_view_module_version": "1.2.0",
            "_view_name": "StyleView",
            "description_width": ""
          }
        },
        "90cc2832881b42fab59a3d2c92455952": {
          "model_module": "@jupyter-widgets/base",
          "model_name": "LayoutModel",
          "model_module_version": "1.2.0",
          "state": {
            "_model_module": "@jupyter-widgets/base",
            "_model_module_version": "1.2.0",
            "_model_name": "LayoutModel",
            "_view_count": null,
            "_view_module": "@jupyter-widgets/base",
            "_view_module_version": "1.2.0",
            "_view_name": "LayoutView",
            "align_content": null,
            "align_items": null,
            "align_self": null,
            "border": null,
            "bottom": null,
            "display": null,
            "flex": null,
            "flex_flow": null,
            "grid_area": null,
            "grid_auto_columns": null,
            "grid_auto_flow": null,
            "grid_auto_rows": null,
            "grid_column": null,
            "grid_gap": null,
            "grid_row": null,
            "grid_template_areas": null,
            "grid_template_columns": null,
            "grid_template_rows": null,
            "height": null,
            "justify_content": null,
            "justify_items": null,
            "left": null,
            "margin": null,
            "max_height": null,
            "max_width": null,
            "min_height": null,
            "min_width": null,
            "object_fit": null,
            "object_position": null,
            "order": null,
            "overflow": null,
            "overflow_x": null,
            "overflow_y": null,
            "padding": null,
            "right": null,
            "top": null,
            "visibility": null,
            "width": null
          }
        },
        "db18ff29f30a44b7935f94e9e1861276": {
          "model_module": "@jupyter-widgets/controls",
          "model_name": "ProgressStyleModel",
          "model_module_version": "1.5.0",
          "state": {
            "_model_module": "@jupyter-widgets/controls",
            "_model_module_version": "1.5.0",
            "_model_name": "ProgressStyleModel",
            "_view_count": null,
            "_view_module": "@jupyter-widgets/base",
            "_view_module_version": "1.2.0",
            "_view_name": "StyleView",
            "bar_color": null,
            "description_width": ""
          }
        },
        "c60b2225894740899a5063d5415e907d": {
          "model_module": "@jupyter-widgets/base",
          "model_name": "LayoutModel",
          "model_module_version": "1.2.0",
          "state": {
            "_model_module": "@jupyter-widgets/base",
            "_model_module_version": "1.2.0",
            "_model_name": "LayoutModel",
            "_view_count": null,
            "_view_module": "@jupyter-widgets/base",
            "_view_module_version": "1.2.0",
            "_view_name": "LayoutView",
            "align_content": null,
            "align_items": null,
            "align_self": null,
            "border": null,
            "bottom": null,
            "display": null,
            "flex": null,
            "flex_flow": null,
            "grid_area": null,
            "grid_auto_columns": null,
            "grid_auto_flow": null,
            "grid_auto_rows": null,
            "grid_column": null,
            "grid_gap": null,
            "grid_row": null,
            "grid_template_areas": null,
            "grid_template_columns": null,
            "grid_template_rows": null,
            "height": null,
            "justify_content": null,
            "justify_items": null,
            "left": null,
            "margin": null,
            "max_height": null,
            "max_width": null,
            "min_height": null,
            "min_width": null,
            "object_fit": null,
            "object_position": null,
            "order": null,
            "overflow": null,
            "overflow_x": null,
            "overflow_y": null,
            "padding": null,
            "right": null,
            "top": null,
            "visibility": null,
            "width": null
          }
        },
        "6c7ef941e8b14f82bcf442383d17fd06": {
          "model_module": "@jupyter-widgets/controls",
          "model_name": "DescriptionStyleModel",
          "model_module_version": "1.5.0",
          "state": {
            "_model_module": "@jupyter-widgets/controls",
            "_model_module_version": "1.5.0",
            "_model_name": "DescriptionStyleModel",
            "_view_count": null,
            "_view_module": "@jupyter-widgets/base",
            "_view_module_version": "1.2.0",
            "_view_name": "StyleView",
            "description_width": ""
          }
        },
        "1d8e955912a2400e9d1a9df16bf7e143": {
          "model_module": "@jupyter-widgets/controls",
          "model_name": "HBoxModel",
          "model_module_version": "1.5.0",
          "state": {
            "_dom_classes": [],
            "_model_module": "@jupyter-widgets/controls",
            "_model_module_version": "1.5.0",
            "_model_name": "HBoxModel",
            "_view_count": null,
            "_view_module": "@jupyter-widgets/controls",
            "_view_module_version": "1.5.0",
            "_view_name": "HBoxView",
            "box_style": "",
            "children": [
              "IPY_MODEL_2452e3b9bf014587922030d4f92ba1ab",
              "IPY_MODEL_68346af9ad8a450d8c0a8fca04c19e46",
              "IPY_MODEL_1d21bbb869b2422e85a458309976eed3"
            ],
            "layout": "IPY_MODEL_cf0f262577364fec9c927e14a906788e"
          }
        },
        "2452e3b9bf014587922030d4f92ba1ab": {
          "model_module": "@jupyter-widgets/controls",
          "model_name": "HTMLModel",
          "model_module_version": "1.5.0",
          "state": {
            "_dom_classes": [],
            "_model_module": "@jupyter-widgets/controls",
            "_model_module_version": "1.5.0",
            "_model_name": "HTMLModel",
            "_view_count": null,
            "_view_module": "@jupyter-widgets/controls",
            "_view_module_version": "1.5.0",
            "_view_name": "HTMLView",
            "description": "",
            "description_tooltip": null,
            "layout": "IPY_MODEL_7acb3fa3bc90433bb95afc3402ab68e4",
            "placeholder": "​",
            "style": "IPY_MODEL_121859dc76244bdaaf00110257d90dc5",
            "value": "Downloading (…)/main/tokenizer.json: 100%"
          }
        },
        "68346af9ad8a450d8c0a8fca04c19e46": {
          "model_module": "@jupyter-widgets/controls",
          "model_name": "FloatProgressModel",
          "model_module_version": "1.5.0",
          "state": {
            "_dom_classes": [],
            "_model_module": "@jupyter-widgets/controls",
            "_model_module_version": "1.5.0",
            "_model_name": "FloatProgressModel",
            "_view_count": null,
            "_view_module": "@jupyter-widgets/controls",
            "_view_module_version": "1.5.0",
            "_view_name": "ProgressView",
            "bar_style": "success",
            "description": "",
            "description_tooltip": null,
            "layout": "IPY_MODEL_c19f66e53e7a4d38871b087b551ec183",
            "max": 2919674,
            "min": 0,
            "orientation": "horizontal",
            "style": "IPY_MODEL_753289e5c3ea491894a638f021677d80",
            "value": 2919674
          }
        },
        "1d21bbb869b2422e85a458309976eed3": {
          "model_module": "@jupyter-widgets/controls",
          "model_name": "HTMLModel",
          "model_module_version": "1.5.0",
          "state": {
            "_dom_classes": [],
            "_model_module": "@jupyter-widgets/controls",
            "_model_module_version": "1.5.0",
            "_model_name": "HTMLModel",
            "_view_count": null,
            "_view_module": "@jupyter-widgets/controls",
            "_view_module_version": "1.5.0",
            "_view_name": "HTMLView",
            "description": "",
            "description_tooltip": null,
            "layout": "IPY_MODEL_a57994a749084e46b6d667955a7fc62d",
            "placeholder": "​",
            "style": "IPY_MODEL_14028785f4bd44ebaed080ed6fd51574",
            "value": " 2.92M/2.92M [00:00&lt;00:00, 31.2MB/s]"
          }
        },
        "cf0f262577364fec9c927e14a906788e": {
          "model_module": "@jupyter-widgets/base",
          "model_name": "LayoutModel",
          "model_module_version": "1.2.0",
          "state": {
            "_model_module": "@jupyter-widgets/base",
            "_model_module_version": "1.2.0",
            "_model_name": "LayoutModel",
            "_view_count": null,
            "_view_module": "@jupyter-widgets/base",
            "_view_module_version": "1.2.0",
            "_view_name": "LayoutView",
            "align_content": null,
            "align_items": null,
            "align_self": null,
            "border": null,
            "bottom": null,
            "display": null,
            "flex": null,
            "flex_flow": null,
            "grid_area": null,
            "grid_auto_columns": null,
            "grid_auto_flow": null,
            "grid_auto_rows": null,
            "grid_column": null,
            "grid_gap": null,
            "grid_row": null,
            "grid_template_areas": null,
            "grid_template_columns": null,
            "grid_template_rows": null,
            "height": null,
            "justify_content": null,
            "justify_items": null,
            "left": null,
            "margin": null,
            "max_height": null,
            "max_width": null,
            "min_height": null,
            "min_width": null,
            "object_fit": null,
            "object_position": null,
            "order": null,
            "overflow": null,
            "overflow_x": null,
            "overflow_y": null,
            "padding": null,
            "right": null,
            "top": null,
            "visibility": null,
            "width": null
          }
        },
        "7acb3fa3bc90433bb95afc3402ab68e4": {
          "model_module": "@jupyter-widgets/base",
          "model_name": "LayoutModel",
          "model_module_version": "1.2.0",
          "state": {
            "_model_module": "@jupyter-widgets/base",
            "_model_module_version": "1.2.0",
            "_model_name": "LayoutModel",
            "_view_count": null,
            "_view_module": "@jupyter-widgets/base",
            "_view_module_version": "1.2.0",
            "_view_name": "LayoutView",
            "align_content": null,
            "align_items": null,
            "align_self": null,
            "border": null,
            "bottom": null,
            "display": null,
            "flex": null,
            "flex_flow": null,
            "grid_area": null,
            "grid_auto_columns": null,
            "grid_auto_flow": null,
            "grid_auto_rows": null,
            "grid_column": null,
            "grid_gap": null,
            "grid_row": null,
            "grid_template_areas": null,
            "grid_template_columns": null,
            "grid_template_rows": null,
            "height": null,
            "justify_content": null,
            "justify_items": null,
            "left": null,
            "margin": null,
            "max_height": null,
            "max_width": null,
            "min_height": null,
            "min_width": null,
            "object_fit": null,
            "object_position": null,
            "order": null,
            "overflow": null,
            "overflow_x": null,
            "overflow_y": null,
            "padding": null,
            "right": null,
            "top": null,
            "visibility": null,
            "width": null
          }
        },
        "121859dc76244bdaaf00110257d90dc5": {
          "model_module": "@jupyter-widgets/controls",
          "model_name": "DescriptionStyleModel",
          "model_module_version": "1.5.0",
          "state": {
            "_model_module": "@jupyter-widgets/controls",
            "_model_module_version": "1.5.0",
            "_model_name": "DescriptionStyleModel",
            "_view_count": null,
            "_view_module": "@jupyter-widgets/base",
            "_view_module_version": "1.2.0",
            "_view_name": "StyleView",
            "description_width": ""
          }
        },
        "c19f66e53e7a4d38871b087b551ec183": {
          "model_module": "@jupyter-widgets/base",
          "model_name": "LayoutModel",
          "model_module_version": "1.2.0",
          "state": {
            "_model_module": "@jupyter-widgets/base",
            "_model_module_version": "1.2.0",
            "_model_name": "LayoutModel",
            "_view_count": null,
            "_view_module": "@jupyter-widgets/base",
            "_view_module_version": "1.2.0",
            "_view_name": "LayoutView",
            "align_content": null,
            "align_items": null,
            "align_self": null,
            "border": null,
            "bottom": null,
            "display": null,
            "flex": null,
            "flex_flow": null,
            "grid_area": null,
            "grid_auto_columns": null,
            "grid_auto_flow": null,
            "grid_auto_rows": null,
            "grid_column": null,
            "grid_gap": null,
            "grid_row": null,
            "grid_template_areas": null,
            "grid_template_columns": null,
            "grid_template_rows": null,
            "height": null,
            "justify_content": null,
            "justify_items": null,
            "left": null,
            "margin": null,
            "max_height": null,
            "max_width": null,
            "min_height": null,
            "min_width": null,
            "object_fit": null,
            "object_position": null,
            "order": null,
            "overflow": null,
            "overflow_x": null,
            "overflow_y": null,
            "padding": null,
            "right": null,
            "top": null,
            "visibility": null,
            "width": null
          }
        },
        "753289e5c3ea491894a638f021677d80": {
          "model_module": "@jupyter-widgets/controls",
          "model_name": "ProgressStyleModel",
          "model_module_version": "1.5.0",
          "state": {
            "_model_module": "@jupyter-widgets/controls",
            "_model_module_version": "1.5.0",
            "_model_name": "ProgressStyleModel",
            "_view_count": null,
            "_view_module": "@jupyter-widgets/base",
            "_view_module_version": "1.2.0",
            "_view_name": "StyleView",
            "bar_color": null,
            "description_width": ""
          }
        },
        "a57994a749084e46b6d667955a7fc62d": {
          "model_module": "@jupyter-widgets/base",
          "model_name": "LayoutModel",
          "model_module_version": "1.2.0",
          "state": {
            "_model_module": "@jupyter-widgets/base",
            "_model_module_version": "1.2.0",
            "_model_name": "LayoutModel",
            "_view_count": null,
            "_view_module": "@jupyter-widgets/base",
            "_view_module_version": "1.2.0",
            "_view_name": "LayoutView",
            "align_content": null,
            "align_items": null,
            "align_self": null,
            "border": null,
            "bottom": null,
            "display": null,
            "flex": null,
            "flex_flow": null,
            "grid_area": null,
            "grid_auto_columns": null,
            "grid_auto_flow": null,
            "grid_auto_rows": null,
            "grid_column": null,
            "grid_gap": null,
            "grid_row": null,
            "grid_template_areas": null,
            "grid_template_columns": null,
            "grid_template_rows": null,
            "height": null,
            "justify_content": null,
            "justify_items": null,
            "left": null,
            "margin": null,
            "max_height": null,
            "max_width": null,
            "min_height": null,
            "min_width": null,
            "object_fit": null,
            "object_position": null,
            "order": null,
            "overflow": null,
            "overflow_x": null,
            "overflow_y": null,
            "padding": null,
            "right": null,
            "top": null,
            "visibility": null,
            "width": null
          }
        },
        "14028785f4bd44ebaed080ed6fd51574": {
          "model_module": "@jupyter-widgets/controls",
          "model_name": "DescriptionStyleModel",
          "model_module_version": "1.5.0",
          "state": {
            "_model_module": "@jupyter-widgets/controls",
            "_model_module_version": "1.5.0",
            "_model_name": "DescriptionStyleModel",
            "_view_count": null,
            "_view_module": "@jupyter-widgets/base",
            "_view_module_version": "1.2.0",
            "_view_name": "StyleView",
            "description_width": ""
          }
        },
        "c609dd95bc5d4ec195165f969ae7a9c0": {
          "model_module": "@jupyter-widgets/controls",
          "model_name": "HBoxModel",
          "model_module_version": "1.5.0",
          "state": {
            "_dom_classes": [],
            "_model_module": "@jupyter-widgets/controls",
            "_model_module_version": "1.5.0",
            "_model_name": "HBoxModel",
            "_view_count": null,
            "_view_module": "@jupyter-widgets/controls",
            "_view_module_version": "1.5.0",
            "_view_name": "HBoxView",
            "box_style": "",
            "children": [
              "IPY_MODEL_4d0ffedc901344c3bce9a1410027bf35",
              "IPY_MODEL_e7edcc5a55084f15b2caf4a698ff24a9",
              "IPY_MODEL_357c6234076e413bafb35f4e23f63c8e"
            ],
            "layout": "IPY_MODEL_b423c70c8030416d8a60451e2ba4f8ca"
          }
        },
        "4d0ffedc901344c3bce9a1410027bf35": {
          "model_module": "@jupyter-widgets/controls",
          "model_name": "HTMLModel",
          "model_module_version": "1.5.0",
          "state": {
            "_dom_classes": [],
            "_model_module": "@jupyter-widgets/controls",
            "_model_module_version": "1.5.0",
            "_model_name": "HTMLModel",
            "_view_count": null,
            "_view_module": "@jupyter-widgets/controls",
            "_view_module_version": "1.5.0",
            "_view_name": "HTMLView",
            "description": "",
            "description_tooltip": null,
            "layout": "IPY_MODEL_e222727ac5f74e9fbc7787a8fda3a2f4",
            "placeholder": "​",
            "style": "IPY_MODEL_8b78f2a03dbe4c1ea5b5e71eb9153505",
            "value": "Downloading (…)cial_tokens_map.json: 100%"
          }
        },
        "e7edcc5a55084f15b2caf4a698ff24a9": {
          "model_module": "@jupyter-widgets/controls",
          "model_name": "FloatProgressModel",
          "model_module_version": "1.5.0",
          "state": {
            "_dom_classes": [],
            "_model_module": "@jupyter-widgets/controls",
            "_model_module_version": "1.5.0",
            "_model_name": "FloatProgressModel",
            "_view_count": null,
            "_view_module": "@jupyter-widgets/controls",
            "_view_module_version": "1.5.0",
            "_view_name": "ProgressView",
            "bar_style": "success",
            "description": "",
            "description_tooltip": null,
            "layout": "IPY_MODEL_879520863dc74c1b80881693de23aa36",
            "max": 2201,
            "min": 0,
            "orientation": "horizontal",
            "style": "IPY_MODEL_53830fe65fe2475cba883481e9de8708",
            "value": 2201
          }
        },
        "357c6234076e413bafb35f4e23f63c8e": {
          "model_module": "@jupyter-widgets/controls",
          "model_name": "HTMLModel",
          "model_module_version": "1.5.0",
          "state": {
            "_dom_classes": [],
            "_model_module": "@jupyter-widgets/controls",
            "_model_module_version": "1.5.0",
            "_model_name": "HTMLModel",
            "_view_count": null,
            "_view_module": "@jupyter-widgets/controls",
            "_view_module_version": "1.5.0",
            "_view_name": "HTMLView",
            "description": "",
            "description_tooltip": null,
            "layout": "IPY_MODEL_fc4539444395466582e2375011c0a752",
            "placeholder": "​",
            "style": "IPY_MODEL_46bdae269bdd405296c3e5d019f72848",
            "value": " 2.20k/2.20k [00:00&lt;00:00, 193kB/s]"
          }
        },
        "b423c70c8030416d8a60451e2ba4f8ca": {
          "model_module": "@jupyter-widgets/base",
          "model_name": "LayoutModel",
          "model_module_version": "1.2.0",
          "state": {
            "_model_module": "@jupyter-widgets/base",
            "_model_module_version": "1.2.0",
            "_model_name": "LayoutModel",
            "_view_count": null,
            "_view_module": "@jupyter-widgets/base",
            "_view_module_version": "1.2.0",
            "_view_name": "LayoutView",
            "align_content": null,
            "align_items": null,
            "align_self": null,
            "border": null,
            "bottom": null,
            "display": null,
            "flex": null,
            "flex_flow": null,
            "grid_area": null,
            "grid_auto_columns": null,
            "grid_auto_flow": null,
            "grid_auto_rows": null,
            "grid_column": null,
            "grid_gap": null,
            "grid_row": null,
            "grid_template_areas": null,
            "grid_template_columns": null,
            "grid_template_rows": null,
            "height": null,
            "justify_content": null,
            "justify_items": null,
            "left": null,
            "margin": null,
            "max_height": null,
            "max_width": null,
            "min_height": null,
            "min_width": null,
            "object_fit": null,
            "object_position": null,
            "order": null,
            "overflow": null,
            "overflow_x": null,
            "overflow_y": null,
            "padding": null,
            "right": null,
            "top": null,
            "visibility": null,
            "width": null
          }
        },
        "e222727ac5f74e9fbc7787a8fda3a2f4": {
          "model_module": "@jupyter-widgets/base",
          "model_name": "LayoutModel",
          "model_module_version": "1.2.0",
          "state": {
            "_model_module": "@jupyter-widgets/base",
            "_model_module_version": "1.2.0",
            "_model_name": "LayoutModel",
            "_view_count": null,
            "_view_module": "@jupyter-widgets/base",
            "_view_module_version": "1.2.0",
            "_view_name": "LayoutView",
            "align_content": null,
            "align_items": null,
            "align_self": null,
            "border": null,
            "bottom": null,
            "display": null,
            "flex": null,
            "flex_flow": null,
            "grid_area": null,
            "grid_auto_columns": null,
            "grid_auto_flow": null,
            "grid_auto_rows": null,
            "grid_column": null,
            "grid_gap": null,
            "grid_row": null,
            "grid_template_areas": null,
            "grid_template_columns": null,
            "grid_template_rows": null,
            "height": null,
            "justify_content": null,
            "justify_items": null,
            "left": null,
            "margin": null,
            "max_height": null,
            "max_width": null,
            "min_height": null,
            "min_width": null,
            "object_fit": null,
            "object_position": null,
            "order": null,
            "overflow": null,
            "overflow_x": null,
            "overflow_y": null,
            "padding": null,
            "right": null,
            "top": null,
            "visibility": null,
            "width": null
          }
        },
        "8b78f2a03dbe4c1ea5b5e71eb9153505": {
          "model_module": "@jupyter-widgets/controls",
          "model_name": "DescriptionStyleModel",
          "model_module_version": "1.5.0",
          "state": {
            "_model_module": "@jupyter-widgets/controls",
            "_model_module_version": "1.5.0",
            "_model_name": "DescriptionStyleModel",
            "_view_count": null,
            "_view_module": "@jupyter-widgets/base",
            "_view_module_version": "1.2.0",
            "_view_name": "StyleView",
            "description_width": ""
          }
        },
        "879520863dc74c1b80881693de23aa36": {
          "model_module": "@jupyter-widgets/base",
          "model_name": "LayoutModel",
          "model_module_version": "1.2.0",
          "state": {
            "_model_module": "@jupyter-widgets/base",
            "_model_module_version": "1.2.0",
            "_model_name": "LayoutModel",
            "_view_count": null,
            "_view_module": "@jupyter-widgets/base",
            "_view_module_version": "1.2.0",
            "_view_name": "LayoutView",
            "align_content": null,
            "align_items": null,
            "align_self": null,
            "border": null,
            "bottom": null,
            "display": null,
            "flex": null,
            "flex_flow": null,
            "grid_area": null,
            "grid_auto_columns": null,
            "grid_auto_flow": null,
            "grid_auto_rows": null,
            "grid_column": null,
            "grid_gap": null,
            "grid_row": null,
            "grid_template_areas": null,
            "grid_template_columns": null,
            "grid_template_rows": null,
            "height": null,
            "justify_content": null,
            "justify_items": null,
            "left": null,
            "margin": null,
            "max_height": null,
            "max_width": null,
            "min_height": null,
            "min_width": null,
            "object_fit": null,
            "object_position": null,
            "order": null,
            "overflow": null,
            "overflow_x": null,
            "overflow_y": null,
            "padding": null,
            "right": null,
            "top": null,
            "visibility": null,
            "width": null
          }
        },
        "53830fe65fe2475cba883481e9de8708": {
          "model_module": "@jupyter-widgets/controls",
          "model_name": "ProgressStyleModel",
          "model_module_version": "1.5.0",
          "state": {
            "_model_module": "@jupyter-widgets/controls",
            "_model_module_version": "1.5.0",
            "_model_name": "ProgressStyleModel",
            "_view_count": null,
            "_view_module": "@jupyter-widgets/base",
            "_view_module_version": "1.2.0",
            "_view_name": "StyleView",
            "bar_color": null,
            "description_width": ""
          }
        },
        "fc4539444395466582e2375011c0a752": {
          "model_module": "@jupyter-widgets/base",
          "model_name": "LayoutModel",
          "model_module_version": "1.2.0",
          "state": {
            "_model_module": "@jupyter-widgets/base",
            "_model_module_version": "1.2.0",
            "_model_name": "LayoutModel",
            "_view_count": null,
            "_view_module": "@jupyter-widgets/base",
            "_view_module_version": "1.2.0",
            "_view_name": "LayoutView",
            "align_content": null,
            "align_items": null,
            "align_self": null,
            "border": null,
            "bottom": null,
            "display": null,
            "flex": null,
            "flex_flow": null,
            "grid_area": null,
            "grid_auto_columns": null,
            "grid_auto_flow": null,
            "grid_auto_rows": null,
            "grid_column": null,
            "grid_gap": null,
            "grid_row": null,
            "grid_template_areas": null,
            "grid_template_columns": null,
            "grid_template_rows": null,
            "height": null,
            "justify_content": null,
            "justify_items": null,
            "left": null,
            "margin": null,
            "max_height": null,
            "max_width": null,
            "min_height": null,
            "min_width": null,
            "object_fit": null,
            "object_position": null,
            "order": null,
            "overflow": null,
            "overflow_x": null,
            "overflow_y": null,
            "padding": null,
            "right": null,
            "top": null,
            "visibility": null,
            "width": null
          }
        },
        "46bdae269bdd405296c3e5d019f72848": {
          "model_module": "@jupyter-widgets/controls",
          "model_name": "DescriptionStyleModel",
          "model_module_version": "1.5.0",
          "state": {
            "_model_module": "@jupyter-widgets/controls",
            "_model_module_version": "1.5.0",
            "_model_name": "DescriptionStyleModel",
            "_view_count": null,
            "_view_module": "@jupyter-widgets/base",
            "_view_module_version": "1.2.0",
            "_view_name": "StyleView",
            "description_width": ""
          }
        },
        "b582339e6aeb4da6b59256d728375c63": {
          "model_module": "@jupyter-widgets/controls",
          "model_name": "HBoxModel",
          "model_module_version": "1.5.0",
          "state": {
            "_dom_classes": [],
            "_model_module": "@jupyter-widgets/controls",
            "_model_module_version": "1.5.0",
            "_model_name": "HBoxModel",
            "_view_count": null,
            "_view_module": "@jupyter-widgets/controls",
            "_view_module_version": "1.5.0",
            "_view_name": "HBoxView",
            "box_style": "",
            "children": [
              "IPY_MODEL_ce37c6ffb6d74a58b0fc0f77cda36115",
              "IPY_MODEL_659754e999d944b1b117f5d2e52a6760",
              "IPY_MODEL_196aa4f72fd24071959c8c41a2789f5b"
            ],
            "layout": "IPY_MODEL_99a021b6909c4cc99e089bda10e32c37"
          }
        },
        "ce37c6ffb6d74a58b0fc0f77cda36115": {
          "model_module": "@jupyter-widgets/controls",
          "model_name": "HTMLModel",
          "model_module_version": "1.5.0",
          "state": {
            "_dom_classes": [],
            "_model_module": "@jupyter-widgets/controls",
            "_model_module_version": "1.5.0",
            "_model_name": "HTMLModel",
            "_view_count": null,
            "_view_module": "@jupyter-widgets/controls",
            "_view_module_version": "1.5.0",
            "_view_name": "HTMLView",
            "description": "",
            "description_tooltip": null,
            "layout": "IPY_MODEL_a966eb77a97144549ab9deaa5e758da7",
            "placeholder": "​",
            "style": "IPY_MODEL_61da463161e1448cbd57dd81a1cd77a9",
            "value": "100%"
          }
        },
        "659754e999d944b1b117f5d2e52a6760": {
          "model_module": "@jupyter-widgets/controls",
          "model_name": "FloatProgressModel",
          "model_module_version": "1.5.0",
          "state": {
            "_dom_classes": [],
            "_model_module": "@jupyter-widgets/controls",
            "_model_module_version": "1.5.0",
            "_model_name": "FloatProgressModel",
            "_view_count": null,
            "_view_module": "@jupyter-widgets/controls",
            "_view_module_version": "1.5.0",
            "_view_name": "ProgressView",
            "bar_style": "success",
            "description": "",
            "description_tooltip": null,
            "layout": "IPY_MODEL_4aaa110d2c984f96a9adf43157d2626d",
            "max": 30,
            "min": 0,
            "orientation": "horizontal",
            "style": "IPY_MODEL_fb44ae8e993d40b69aa03dbdd9d9157d",
            "value": 30
          }
        },
        "196aa4f72fd24071959c8c41a2789f5b": {
          "model_module": "@jupyter-widgets/controls",
          "model_name": "HTMLModel",
          "model_module_version": "1.5.0",
          "state": {
            "_dom_classes": [],
            "_model_module": "@jupyter-widgets/controls",
            "_model_module_version": "1.5.0",
            "_model_name": "HTMLModel",
            "_view_count": null,
            "_view_module": "@jupyter-widgets/controls",
            "_view_module_version": "1.5.0",
            "_view_name": "HTMLView",
            "description": "",
            "description_tooltip": null,
            "layout": "IPY_MODEL_c63d1afcf29946e19c6d81460bd422f0",
            "placeholder": "​",
            "style": "IPY_MODEL_5c3c824ed0e740f09acc4b058514f31f",
            "value": " 30/30 [2:14:35&lt;00:00, 279.42s/it]"
          }
        },
        "99a021b6909c4cc99e089bda10e32c37": {
          "model_module": "@jupyter-widgets/base",
          "model_name": "LayoutModel",
          "model_module_version": "1.2.0",
          "state": {
            "_model_module": "@jupyter-widgets/base",
            "_model_module_version": "1.2.0",
            "_model_name": "LayoutModel",
            "_view_count": null,
            "_view_module": "@jupyter-widgets/base",
            "_view_module_version": "1.2.0",
            "_view_name": "LayoutView",
            "align_content": null,
            "align_items": null,
            "align_self": null,
            "border": null,
            "bottom": null,
            "display": null,
            "flex": null,
            "flex_flow": null,
            "grid_area": null,
            "grid_auto_columns": null,
            "grid_auto_flow": null,
            "grid_auto_rows": null,
            "grid_column": null,
            "grid_gap": null,
            "grid_row": null,
            "grid_template_areas": null,
            "grid_template_columns": null,
            "grid_template_rows": null,
            "height": null,
            "justify_content": null,
            "justify_items": null,
            "left": null,
            "margin": null,
            "max_height": null,
            "max_width": null,
            "min_height": null,
            "min_width": null,
            "object_fit": null,
            "object_position": null,
            "order": null,
            "overflow": null,
            "overflow_x": null,
            "overflow_y": null,
            "padding": null,
            "right": null,
            "top": null,
            "visibility": null,
            "width": null
          }
        },
        "a966eb77a97144549ab9deaa5e758da7": {
          "model_module": "@jupyter-widgets/base",
          "model_name": "LayoutModel",
          "model_module_version": "1.2.0",
          "state": {
            "_model_module": "@jupyter-widgets/base",
            "_model_module_version": "1.2.0",
            "_model_name": "LayoutModel",
            "_view_count": null,
            "_view_module": "@jupyter-widgets/base",
            "_view_module_version": "1.2.0",
            "_view_name": "LayoutView",
            "align_content": null,
            "align_items": null,
            "align_self": null,
            "border": null,
            "bottom": null,
            "display": null,
            "flex": null,
            "flex_flow": null,
            "grid_area": null,
            "grid_auto_columns": null,
            "grid_auto_flow": null,
            "grid_auto_rows": null,
            "grid_column": null,
            "grid_gap": null,
            "grid_row": null,
            "grid_template_areas": null,
            "grid_template_columns": null,
            "grid_template_rows": null,
            "height": null,
            "justify_content": null,
            "justify_items": null,
            "left": null,
            "margin": null,
            "max_height": null,
            "max_width": null,
            "min_height": null,
            "min_width": null,
            "object_fit": null,
            "object_position": null,
            "order": null,
            "overflow": null,
            "overflow_x": null,
            "overflow_y": null,
            "padding": null,
            "right": null,
            "top": null,
            "visibility": null,
            "width": null
          }
        },
        "61da463161e1448cbd57dd81a1cd77a9": {
          "model_module": "@jupyter-widgets/controls",
          "model_name": "DescriptionStyleModel",
          "model_module_version": "1.5.0",
          "state": {
            "_model_module": "@jupyter-widgets/controls",
            "_model_module_version": "1.5.0",
            "_model_name": "DescriptionStyleModel",
            "_view_count": null,
            "_view_module": "@jupyter-widgets/base",
            "_view_module_version": "1.2.0",
            "_view_name": "StyleView",
            "description_width": ""
          }
        },
        "4aaa110d2c984f96a9adf43157d2626d": {
          "model_module": "@jupyter-widgets/base",
          "model_name": "LayoutModel",
          "model_module_version": "1.2.0",
          "state": {
            "_model_module": "@jupyter-widgets/base",
            "_model_module_version": "1.2.0",
            "_model_name": "LayoutModel",
            "_view_count": null,
            "_view_module": "@jupyter-widgets/base",
            "_view_module_version": "1.2.0",
            "_view_name": "LayoutView",
            "align_content": null,
            "align_items": null,
            "align_self": null,
            "border": null,
            "bottom": null,
            "display": null,
            "flex": null,
            "flex_flow": null,
            "grid_area": null,
            "grid_auto_columns": null,
            "grid_auto_flow": null,
            "grid_auto_rows": null,
            "grid_column": null,
            "grid_gap": null,
            "grid_row": null,
            "grid_template_areas": null,
            "grid_template_columns": null,
            "grid_template_rows": null,
            "height": null,
            "justify_content": null,
            "justify_items": null,
            "left": null,
            "margin": null,
            "max_height": null,
            "max_width": null,
            "min_height": null,
            "min_width": null,
            "object_fit": null,
            "object_position": null,
            "order": null,
            "overflow": null,
            "overflow_x": null,
            "overflow_y": null,
            "padding": null,
            "right": null,
            "top": null,
            "visibility": null,
            "width": null
          }
        },
        "fb44ae8e993d40b69aa03dbdd9d9157d": {
          "model_module": "@jupyter-widgets/controls",
          "model_name": "ProgressStyleModel",
          "model_module_version": "1.5.0",
          "state": {
            "_model_module": "@jupyter-widgets/controls",
            "_model_module_version": "1.5.0",
            "_model_name": "ProgressStyleModel",
            "_view_count": null,
            "_view_module": "@jupyter-widgets/base",
            "_view_module_version": "1.2.0",
            "_view_name": "StyleView",
            "bar_color": null,
            "description_width": ""
          }
        },
        "c63d1afcf29946e19c6d81460bd422f0": {
          "model_module": "@jupyter-widgets/base",
          "model_name": "LayoutModel",
          "model_module_version": "1.2.0",
          "state": {
            "_model_module": "@jupyter-widgets/base",
            "_model_module_version": "1.2.0",
            "_model_name": "LayoutModel",
            "_view_count": null,
            "_view_module": "@jupyter-widgets/base",
            "_view_module_version": "1.2.0",
            "_view_name": "LayoutView",
            "align_content": null,
            "align_items": null,
            "align_self": null,
            "border": null,
            "bottom": null,
            "display": null,
            "flex": null,
            "flex_flow": null,
            "grid_area": null,
            "grid_auto_columns": null,
            "grid_auto_flow": null,
            "grid_auto_rows": null,
            "grid_column": null,
            "grid_gap": null,
            "grid_row": null,
            "grid_template_areas": null,
            "grid_template_columns": null,
            "grid_template_rows": null,
            "height": null,
            "justify_content": null,
            "justify_items": null,
            "left": null,
            "margin": null,
            "max_height": null,
            "max_width": null,
            "min_height": null,
            "min_width": null,
            "object_fit": null,
            "object_position": null,
            "order": null,
            "overflow": null,
            "overflow_x": null,
            "overflow_y": null,
            "padding": null,
            "right": null,
            "top": null,
            "visibility": null,
            "width": null
          }
        },
        "5c3c824ed0e740f09acc4b058514f31f": {
          "model_module": "@jupyter-widgets/controls",
          "model_name": "DescriptionStyleModel",
          "model_module_version": "1.5.0",
          "state": {
            "_model_module": "@jupyter-widgets/controls",
            "_model_module_version": "1.5.0",
            "_model_name": "DescriptionStyleModel",
            "_view_count": null,
            "_view_module": "@jupyter-widgets/base",
            "_view_module_version": "1.2.0",
            "_view_name": "StyleView",
            "description_width": ""
          }
        }
      }
    }
  },
  "cells": [
    {
      "cell_type": "markdown",
      "metadata": {
        "id": "view-in-github",
        "colab_type": "text"
      },
      "source": [
        "<a href=\"https://colab.research.google.com/github/swoo-nam/project_final/blob/main/%EB%82%A8%EC%83%81%EC%9A%B0_GRU%EA%B8%B0%EB%B0%98_%EC%83%9D%EC%84%B1AI_%EB%AA%A8%EB%8D%B8%EB%A7%81_ver3.ipynb\" target=\"_parent\"><img src=\"https://colab.research.google.com/assets/colab-badge.svg\" alt=\"Open In Colab\"/></a>"
      ]
    },
    {
      "cell_type": "code",
      "source": [
        "# !pip install kiwipiepy"
      ],
      "metadata": {
        "id": "zPaUshpXAAkI"
      },
      "execution_count": null,
      "outputs": []
    },
    {
      "cell_type": "code",
      "source": [
        "!pip install konlpy"
      ],
      "metadata": {
        "id": "Rw6lvFBYgWt2",
        "colab": {
          "base_uri": "https://localhost:8080/"
        },
        "outputId": "1279858a-f431-4f7d-d086-6e7ae94b4e31"
      },
      "execution_count": null,
      "outputs": [
        {
          "output_type": "stream",
          "name": "stdout",
          "text": [
            "Collecting konlpy\n",
            "  Downloading konlpy-0.6.0-py2.py3-none-any.whl (19.4 MB)\n",
            "\u001b[2K     \u001b[90m━━━━━━━━━━━━━━━━━━━━━━━━━━━━━━━━━━━━━━━━\u001b[0m \u001b[32m19.4/19.4 MB\u001b[0m \u001b[31m47.7 MB/s\u001b[0m eta \u001b[36m0:00:00\u001b[0m\n",
            "\u001b[?25hCollecting JPype1>=0.7.0 (from konlpy)\n",
            "  Downloading JPype1-1.4.1-cp310-cp310-manylinux_2_12_x86_64.manylinux2010_x86_64.whl (465 kB)\n",
            "\u001b[2K     \u001b[90m━━━━━━━━━━━━━━━━━━━━━━━━━━━━━━━━━━━━━━\u001b[0m \u001b[32m465.3/465.3 kB\u001b[0m \u001b[31m39.5 MB/s\u001b[0m eta \u001b[36m0:00:00\u001b[0m\n",
            "\u001b[?25hRequirement already satisfied: lxml>=4.1.0 in /usr/local/lib/python3.10/dist-packages (from konlpy) (4.9.3)\n",
            "Requirement already satisfied: numpy>=1.6 in /usr/local/lib/python3.10/dist-packages (from konlpy) (1.23.5)\n",
            "Requirement already satisfied: packaging in /usr/local/lib/python3.10/dist-packages (from JPype1>=0.7.0->konlpy) (23.1)\n",
            "Installing collected packages: JPype1, konlpy\n",
            "Successfully installed JPype1-1.4.1 konlpy-0.6.0\n"
          ]
        }
      ]
    },
    {
      "cell_type": "code",
      "source": [
        "!pip install transformers"
      ],
      "metadata": {
        "colab": {
          "base_uri": "https://localhost:8080/"
        },
        "id": "EdKy-ts0j1Yt",
        "outputId": "5e80d64d-54e2-4fea-f941-1aea1dadc096"
      },
      "execution_count": null,
      "outputs": [
        {
          "output_type": "stream",
          "name": "stdout",
          "text": [
            "Collecting transformers\n",
            "  Downloading transformers-4.33.1-py3-none-any.whl (7.6 MB)\n",
            "\u001b[2K     \u001b[90m━━━━━━━━━━━━━━━━━━━━━━━━━━━━━━━━━━━━━━━━\u001b[0m \u001b[32m7.6/7.6 MB\u001b[0m \u001b[31m23.1 MB/s\u001b[0m eta \u001b[36m0:00:00\u001b[0m\n",
            "\u001b[?25hRequirement already satisfied: filelock in /usr/local/lib/python3.10/dist-packages (from transformers) (3.12.3)\n",
            "Collecting huggingface-hub<1.0,>=0.15.1 (from transformers)\n",
            "  Downloading huggingface_hub-0.16.4-py3-none-any.whl (268 kB)\n",
            "\u001b[2K     \u001b[90m━━━━━━━━━━━━━━━━━━━━━━━━━━━━━━━━━━━━━━\u001b[0m \u001b[32m268.8/268.8 kB\u001b[0m \u001b[31m27.3 MB/s\u001b[0m eta \u001b[36m0:00:00\u001b[0m\n",
            "\u001b[?25hRequirement already satisfied: numpy>=1.17 in /usr/local/lib/python3.10/dist-packages (from transformers) (1.23.5)\n",
            "Requirement already satisfied: packaging>=20.0 in /usr/local/lib/python3.10/dist-packages (from transformers) (23.1)\n",
            "Requirement already satisfied: pyyaml>=5.1 in /usr/local/lib/python3.10/dist-packages (from transformers) (6.0.1)\n",
            "Requirement already satisfied: regex!=2019.12.17 in /usr/local/lib/python3.10/dist-packages (from transformers) (2023.6.3)\n",
            "Requirement already satisfied: requests in /usr/local/lib/python3.10/dist-packages (from transformers) (2.31.0)\n",
            "Collecting tokenizers!=0.11.3,<0.14,>=0.11.1 (from transformers)\n",
            "  Downloading tokenizers-0.13.3-cp310-cp310-manylinux_2_17_x86_64.manylinux2014_x86_64.whl (7.8 MB)\n",
            "\u001b[2K     \u001b[90m━━━━━━━━━━━━━━━━━━━━━━━━━━━━━━━━━━━━━━━━\u001b[0m \u001b[32m7.8/7.8 MB\u001b[0m \u001b[31m49.8 MB/s\u001b[0m eta \u001b[36m0:00:00\u001b[0m\n",
            "\u001b[?25hCollecting safetensors>=0.3.1 (from transformers)\n",
            "  Downloading safetensors-0.3.3-cp310-cp310-manylinux_2_17_x86_64.manylinux2014_x86_64.whl (1.3 MB)\n",
            "\u001b[2K     \u001b[90m━━━━━━━━━━━━━━━━━━━━━━━━━━━━━━━━━━━━━━━━\u001b[0m \u001b[32m1.3/1.3 MB\u001b[0m \u001b[31m46.6 MB/s\u001b[0m eta \u001b[36m0:00:00\u001b[0m\n",
            "\u001b[?25hRequirement already satisfied: tqdm>=4.27 in /usr/local/lib/python3.10/dist-packages (from transformers) (4.66.1)\n",
            "Requirement already satisfied: fsspec in /usr/local/lib/python3.10/dist-packages (from huggingface-hub<1.0,>=0.15.1->transformers) (2023.6.0)\n",
            "Requirement already satisfied: typing-extensions>=3.7.4.3 in /usr/local/lib/python3.10/dist-packages (from huggingface-hub<1.0,>=0.15.1->transformers) (4.7.1)\n",
            "Requirement already satisfied: charset-normalizer<4,>=2 in /usr/local/lib/python3.10/dist-packages (from requests->transformers) (3.2.0)\n",
            "Requirement already satisfied: idna<4,>=2.5 in /usr/local/lib/python3.10/dist-packages (from requests->transformers) (3.4)\n",
            "Requirement already satisfied: urllib3<3,>=1.21.1 in /usr/local/lib/python3.10/dist-packages (from requests->transformers) (2.0.4)\n",
            "Requirement already satisfied: certifi>=2017.4.17 in /usr/local/lib/python3.10/dist-packages (from requests->transformers) (2023.7.22)\n",
            "Installing collected packages: tokenizers, safetensors, huggingface-hub, transformers\n",
            "Successfully installed huggingface-hub-0.16.4 safetensors-0.3.3 tokenizers-0.13.3 transformers-4.33.1\n"
          ]
        }
      ]
    },
    {
      "cell_type": "code",
      "execution_count": null,
      "metadata": {
        "id": "f4ZVXFzhuuTv",
        "colab": {
          "base_uri": "https://localhost:8080/"
        },
        "outputId": "1bc8dad2-c1e4-4936-b38a-d987c0bf795c"
      },
      "outputs": [
        {
          "output_type": "stream",
          "name": "stdout",
          "text": [
            "Mounted at /content/drive\n"
          ]
        }
      ],
      "source": [
        "from google.colab import drive\n",
        "drive.mount('/content/drive')"
      ]
    },
    {
      "cell_type": "code",
      "source": [
        "import torch\n",
        "import torch.nn as nn\n",
        "from torch import optim\n",
        "import torch.nn.functional as F\n",
        "from torch.utils.data.dataset import Dataset\n",
        "\n",
        "from sklearn.utils import resample\n",
        "\n",
        "import warnings\n",
        "%config InlineBackend.figure_format = 'retina'\n",
        "warnings.filterwarnings(\"ignore\")\n",
        "%matplotlib inline"
      ],
      "metadata": {
        "id": "QDE8QJtGMEOz"
      },
      "execution_count": null,
      "outputs": []
    },
    {
      "cell_type": "code",
      "source": [
        "import pandas as pd\n",
        "import numpy as np\n",
        "import re\n",
        "from tqdm.auto import tqdm\n",
        "import random\n",
        "import os\n",
        "\n",
        "def reset_seeds(seed):\n",
        "    random.seed(seed)\n",
        "    os.environ['PYTHONHASHSEED'] = str(seed)\n",
        "    np.random.seed(seed)\n",
        "    torch.manual_seed(seed)\n",
        "    torch.cuda.manual_seed(seed)\n",
        "    torch.backends.cudnn.deterministic = True\n",
        "\n",
        "DATA_PATH = \"/content/drive/MyDrive/project_final/data/\"\n",
        "SEED = 42\n",
        "\n",
        "device = 'cuda' if torch.cuda.is_available() else 'cpu'\n",
        "device"
      ],
      "metadata": {
        "id": "10dsMhpDu1rd",
        "colab": {
          "base_uri": "https://localhost:8080/",
          "height": 35
        },
        "outputId": "0487942f-1b04-4a46-bf7b-5ce3baba61cb"
      },
      "execution_count": null,
      "outputs": [
        {
          "output_type": "execute_result",
          "data": {
            "text/plain": [
              "'cpu'"
            ],
            "application/vnd.google.colaboratory.intrinsic+json": {
              "type": "string"
            }
          },
          "metadata": {},
          "execution_count": 5
        }
      ]
    },
    {
      "cell_type": "markdown",
      "source": [
        "# 데이터 불러오기"
      ],
      "metadata": {
        "id": "VwJecjdYAEVY"
      }
    },
    {
      "cell_type": "markdown",
      "source": [
        "### 전체 데이터셋"
      ],
      "metadata": {
        "id": "KE5MH7ONb_h8"
      }
    },
    {
      "cell_type": "code",
      "source": [
        "pd.read_csv(f\"{DATA_PATH}yogiyo_reviews_0905_clean_remove.csv\").columns[:3]"
      ],
      "metadata": {
        "colab": {
          "base_uri": "https://localhost:8080/"
        },
        "id": "g5S2LqXQd56D",
        "outputId": "c5c7c469-995c-4aab-d8c1-67501c81c51a"
      },
      "execution_count": null,
      "outputs": [
        {
          "output_type": "execute_result",
          "data": {
            "text/plain": [
              "Index(['review', 'reply', 'star'], dtype='object')"
            ]
          },
          "metadata": {},
          "execution_count": 6
        }
      ]
    },
    {
      "cell_type": "code",
      "source": [
        "train = pd.read_csv(f\"{DATA_PATH}yogiyo_reviews_0905_clean_remove.csv\")\n",
        "cols = train.columns[:3] # 사용할 컬럼(review, reply, star)만 가져오기\n",
        "train = train[cols]\n",
        "train.isnull().sum()"
      ],
      "metadata": {
        "colab": {
          "base_uri": "https://localhost:8080/"
        },
        "id": "sBq30FpQ26zx",
        "outputId": "37745ecf-c717-47ab-d3fc-0ca37d72c1d8"
      },
      "execution_count": null,
      "outputs": [
        {
          "output_type": "execute_result",
          "data": {
            "text/plain": [
              "review     0\n",
              "reply     25\n",
              "star       0\n",
              "dtype: int64"
            ]
          },
          "metadata": {},
          "execution_count": 7
        }
      ]
    },
    {
      "cell_type": "code",
      "source": [
        "idx_null = train[train['reply'].isnull()].index\n",
        "train = train.drop(idx_null, axis=0)\n",
        "train.isnull().sum()"
      ],
      "metadata": {
        "colab": {
          "base_uri": "https://localhost:8080/"
        },
        "id": "k_ZmEZOd28JL",
        "outputId": "a144934c-29be-4a9f-fff9-f4f206984404"
      },
      "execution_count": null,
      "outputs": [
        {
          "output_type": "execute_result",
          "data": {
            "text/plain": [
              "review    0\n",
              "reply     0\n",
              "star      0\n",
              "dtype: int64"
            ]
          },
          "metadata": {},
          "execution_count": 8
        }
      ]
    },
    {
      "cell_type": "code",
      "source": [
        "train['star'].value_counts().sort_index() # 별점 분포 확인"
      ],
      "metadata": {
        "id": "lpUaRZnAvWSs",
        "colab": {
          "base_uri": "https://localhost:8080/"
        },
        "outputId": "8c92b5cc-6ca5-4204-f6ef-e509f07ce6a5"
      },
      "execution_count": null,
      "outputs": [
        {
          "output_type": "execute_result",
          "data": {
            "text/plain": [
              "1      111\n",
              "2       87\n",
              "3      226\n",
              "4      770\n",
              "5    23779\n",
              "Name: star, dtype: int64"
            ]
          },
          "metadata": {},
          "execution_count": 9
        }
      ]
    },
    {
      "cell_type": "code",
      "source": [
        "print(len((train[train['star'] != 5])))\n",
        "len(train[train['star'] != 5])/len(train[train['star'] == 5])"
      ],
      "metadata": {
        "colab": {
          "base_uri": "https://localhost:8080/"
        },
        "id": "OZEN-pCkufu2",
        "outputId": "72989df2-3817-4188-c6c4-bdfc16d3e553"
      },
      "execution_count": null,
      "outputs": [
        {
          "output_type": "stream",
          "name": "stdout",
          "text": [
            "1194\n"
          ]
        },
        {
          "output_type": "execute_result",
          "data": {
            "text/plain": [
              "0.05021237226123891"
            ]
          },
          "metadata": {},
          "execution_count": 10
        }
      ]
    },
    {
      "cell_type": "markdown",
      "source": [
        "### 오버샘플링(paraphrase 데이터)"
      ],
      "metadata": {
        "id": "NkIogOoaZxCq"
      }
    },
    {
      "cell_type": "code",
      "source": [
        "train_over = pd.read_csv(f\"{DATA_PATH}train_over_0905.csv\")\n",
        "train_over.isnull().sum()"
      ],
      "metadata": {
        "colab": {
          "base_uri": "https://localhost:8080/"
        },
        "id": "n_DkW5MNqhPo",
        "outputId": "d00a7412-7cbf-42a6-ce46-c062f42fc386"
      },
      "execution_count": null,
      "outputs": [
        {
          "output_type": "execute_result",
          "data": {
            "text/plain": [
              "review    0\n",
              "reply     2\n",
              "star      0\n",
              "dtype: int64"
            ]
          },
          "metadata": {},
          "execution_count": 11
        }
      ]
    },
    {
      "cell_type": "code",
      "source": [
        "idx_null_over = train_over[train_over['reply'].isnull()].index\n",
        "train_over = train_over.drop(idx_null_over, axis=0)\n",
        "train_over.isnull().sum()"
      ],
      "metadata": {
        "colab": {
          "base_uri": "https://localhost:8080/"
        },
        "id": "3j1pp7rZ3zPR",
        "outputId": "f46797b8-bb05-4bf2-e174-ff85318dd0f8"
      },
      "execution_count": null,
      "outputs": [
        {
          "output_type": "execute_result",
          "data": {
            "text/plain": [
              "review    0\n",
              "reply     0\n",
              "star      0\n",
              "dtype: int64"
            ]
          },
          "metadata": {},
          "execution_count": 12
        }
      ]
    },
    {
      "cell_type": "code",
      "source": [
        "train = pd.concat([train, train_over], axis=0).reset_index(drop=True)\n",
        "train"
      ],
      "metadata": {
        "colab": {
          "base_uri": "https://localhost:8080/",
          "height": 424
        },
        "id": "Rh29hYubqsnS",
        "outputId": "a6da7a74-cd58-4097-b818-105e6f3c8f87"
      },
      "execution_count": null,
      "outputs": [
        {
          "output_type": "execute_result",
          "data": {
            "text/plain": [
              "                                              review  \\\n",
              "0               저도 모르게 은근 여기 자주 시켜먹고 있었네요 늘 잘먹고 있습니다   \n",
              "1                              김치찌개 된장찌개 잡채 다 잘먹었습니다   \n",
              "2                 처음시켜보는데 맛있고 리뷰서비스도 괜찮네요 다음에도 또시킬듯요   \n",
              "3                            맛있습니다 근데 국물이 안와서 아쉽습니다    \n",
              "4                                          맛있게잘먹었습니다   \n",
              "...                                              ...   \n",
              "26162  맛있어요 양도 많고 푸짐하고 아주 맛있어요 맛도 있고 아주 만족스러운 식사였습니다   \n",
              "26163                                맛있게 잘 먹었습니다 맛있게   \n",
              "26164                               맛있게 잘 먹었어요 맛있게 잘   \n",
              "26165                  괜찮네요 괜찮은 것 같아요 맛도 괜찮고 가격도 괜찮고   \n",
              "26166     진짜 맛있어요 특히 간장 양념이 너무 달지 않고 새콤해서 더 맛있게 느껴져요   \n",
              "\n",
              "                                                   reply  star  \n",
              "0      저희 메뉴 맛있죠 이렇게 빠져 드시는 거에요 그냥 일로서 만드는 게 아니라 진짜 제...     5  \n",
              "1      전부 잘 드셔 주셔서 감사합니다 좋은 시간을 드리고 싶었어요 열심히 만들었다지만 다...     5  \n",
              "2      안녕하세요 저희 매장을 처음 찾아주신 고객님이시네요 처음 방문이라 주문해 주시기 망...     5  \n",
              "3      안녕하세요 저희 측 실수로 인하여 누락이 되었군요 이에 대해서 사과 말씀 드립니다 ...     4  \n",
              "4        헤헤 고객님 감사해요 맛있게 드셨다니 앞으로도 더 열심히 일할게요 좋은 하루 보내세요     5  \n",
              "...                                                  ...   ...  \n",
              "26162             맛있는 식사가 되셨기를 바랍니다 맛있는 식사 이용해 주셔서 감사합니다     4  \n",
              "26163  저희는 배달 대행 업체인데 배달 중에 오류가 난 부분이 있으면 언제든지 연락주시면 ...     4  \n",
              "26164  항상 좋은 음식으로 보답하는 것으로 보답하겠습니다 이용해 주셔서 감사합니다 더불어 ...     4  \n",
              "26165  아무래도 매장에서 드시는 것보다는 조금 미흡할 수 있으나 여러모로 시행해본 결과 직...     4  \n",
              "26166  많은 사랑 주셔서 감사드립니다 감사합니다 말씀 드릴 것이 많은데도 불구하고 부족한 ...     4  \n",
              "\n",
              "[26167 rows x 3 columns]"
            ],
            "text/html": [
              "\n",
              "  <div id=\"df-0a02fbfa-39b3-4068-b4e5-b5b5ad0bf9dd\" class=\"colab-df-container\">\n",
              "    <div>\n",
              "<style scoped>\n",
              "    .dataframe tbody tr th:only-of-type {\n",
              "        vertical-align: middle;\n",
              "    }\n",
              "\n",
              "    .dataframe tbody tr th {\n",
              "        vertical-align: top;\n",
              "    }\n",
              "\n",
              "    .dataframe thead th {\n",
              "        text-align: right;\n",
              "    }\n",
              "</style>\n",
              "<table border=\"1\" class=\"dataframe\">\n",
              "  <thead>\n",
              "    <tr style=\"text-align: right;\">\n",
              "      <th></th>\n",
              "      <th>review</th>\n",
              "      <th>reply</th>\n",
              "      <th>star</th>\n",
              "    </tr>\n",
              "  </thead>\n",
              "  <tbody>\n",
              "    <tr>\n",
              "      <th>0</th>\n",
              "      <td>저도 모르게 은근 여기 자주 시켜먹고 있었네요 늘 잘먹고 있습니다</td>\n",
              "      <td>저희 메뉴 맛있죠 이렇게 빠져 드시는 거에요 그냥 일로서 만드는 게 아니라 진짜 제...</td>\n",
              "      <td>5</td>\n",
              "    </tr>\n",
              "    <tr>\n",
              "      <th>1</th>\n",
              "      <td>김치찌개 된장찌개 잡채 다 잘먹었습니다</td>\n",
              "      <td>전부 잘 드셔 주셔서 감사합니다 좋은 시간을 드리고 싶었어요 열심히 만들었다지만 다...</td>\n",
              "      <td>5</td>\n",
              "    </tr>\n",
              "    <tr>\n",
              "      <th>2</th>\n",
              "      <td>처음시켜보는데 맛있고 리뷰서비스도 괜찮네요 다음에도 또시킬듯요</td>\n",
              "      <td>안녕하세요 저희 매장을 처음 찾아주신 고객님이시네요 처음 방문이라 주문해 주시기 망...</td>\n",
              "      <td>5</td>\n",
              "    </tr>\n",
              "    <tr>\n",
              "      <th>3</th>\n",
              "      <td>맛있습니다 근데 국물이 안와서 아쉽습니다</td>\n",
              "      <td>안녕하세요 저희 측 실수로 인하여 누락이 되었군요 이에 대해서 사과 말씀 드립니다 ...</td>\n",
              "      <td>4</td>\n",
              "    </tr>\n",
              "    <tr>\n",
              "      <th>4</th>\n",
              "      <td>맛있게잘먹었습니다</td>\n",
              "      <td>헤헤 고객님 감사해요 맛있게 드셨다니 앞으로도 더 열심히 일할게요 좋은 하루 보내세요</td>\n",
              "      <td>5</td>\n",
              "    </tr>\n",
              "    <tr>\n",
              "      <th>...</th>\n",
              "      <td>...</td>\n",
              "      <td>...</td>\n",
              "      <td>...</td>\n",
              "    </tr>\n",
              "    <tr>\n",
              "      <th>26162</th>\n",
              "      <td>맛있어요 양도 많고 푸짐하고 아주 맛있어요 맛도 있고 아주 만족스러운 식사였습니다</td>\n",
              "      <td>맛있는 식사가 되셨기를 바랍니다 맛있는 식사 이용해 주셔서 감사합니다</td>\n",
              "      <td>4</td>\n",
              "    </tr>\n",
              "    <tr>\n",
              "      <th>26163</th>\n",
              "      <td>맛있게 잘 먹었습니다 맛있게</td>\n",
              "      <td>저희는 배달 대행 업체인데 배달 중에 오류가 난 부분이 있으면 언제든지 연락주시면 ...</td>\n",
              "      <td>4</td>\n",
              "    </tr>\n",
              "    <tr>\n",
              "      <th>26164</th>\n",
              "      <td>맛있게 잘 먹었어요 맛있게 잘</td>\n",
              "      <td>항상 좋은 음식으로 보답하는 것으로 보답하겠습니다 이용해 주셔서 감사합니다 더불어 ...</td>\n",
              "      <td>4</td>\n",
              "    </tr>\n",
              "    <tr>\n",
              "      <th>26165</th>\n",
              "      <td>괜찮네요 괜찮은 것 같아요 맛도 괜찮고 가격도 괜찮고</td>\n",
              "      <td>아무래도 매장에서 드시는 것보다는 조금 미흡할 수 있으나 여러모로 시행해본 결과 직...</td>\n",
              "      <td>4</td>\n",
              "    </tr>\n",
              "    <tr>\n",
              "      <th>26166</th>\n",
              "      <td>진짜 맛있어요 특히 간장 양념이 너무 달지 않고 새콤해서 더 맛있게 느껴져요</td>\n",
              "      <td>많은 사랑 주셔서 감사드립니다 감사합니다 말씀 드릴 것이 많은데도 불구하고 부족한 ...</td>\n",
              "      <td>4</td>\n",
              "    </tr>\n",
              "  </tbody>\n",
              "</table>\n",
              "<p>26167 rows × 3 columns</p>\n",
              "</div>\n",
              "    <div class=\"colab-df-buttons\">\n",
              "\n",
              "  <div class=\"colab-df-container\">\n",
              "    <button class=\"colab-df-convert\" onclick=\"convertToInteractive('df-0a02fbfa-39b3-4068-b4e5-b5b5ad0bf9dd')\"\n",
              "            title=\"Convert this dataframe to an interactive table.\"\n",
              "            style=\"display:none;\">\n",
              "\n",
              "  <svg xmlns=\"http://www.w3.org/2000/svg\" height=\"24px\" viewBox=\"0 -960 960 960\">\n",
              "    <path d=\"M120-120v-720h720v720H120Zm60-500h600v-160H180v160Zm220 220h160v-160H400v160Zm0 220h160v-160H400v160ZM180-400h160v-160H180v160Zm440 0h160v-160H620v160ZM180-180h160v-160H180v160Zm440 0h160v-160H620v160Z\"/>\n",
              "  </svg>\n",
              "    </button>\n",
              "\n",
              "  <style>\n",
              "    .colab-df-container {\n",
              "      display:flex;\n",
              "      gap: 12px;\n",
              "    }\n",
              "\n",
              "    .colab-df-convert {\n",
              "      background-color: #E8F0FE;\n",
              "      border: none;\n",
              "      border-radius: 50%;\n",
              "      cursor: pointer;\n",
              "      display: none;\n",
              "      fill: #1967D2;\n",
              "      height: 32px;\n",
              "      padding: 0 0 0 0;\n",
              "      width: 32px;\n",
              "    }\n",
              "\n",
              "    .colab-df-convert:hover {\n",
              "      background-color: #E2EBFA;\n",
              "      box-shadow: 0px 1px 2px rgba(60, 64, 67, 0.3), 0px 1px 3px 1px rgba(60, 64, 67, 0.15);\n",
              "      fill: #174EA6;\n",
              "    }\n",
              "\n",
              "    .colab-df-buttons div {\n",
              "      margin-bottom: 4px;\n",
              "    }\n",
              "\n",
              "    [theme=dark] .colab-df-convert {\n",
              "      background-color: #3B4455;\n",
              "      fill: #D2E3FC;\n",
              "    }\n",
              "\n",
              "    [theme=dark] .colab-df-convert:hover {\n",
              "      background-color: #434B5C;\n",
              "      box-shadow: 0px 1px 3px 1px rgba(0, 0, 0, 0.15);\n",
              "      filter: drop-shadow(0px 1px 2px rgba(0, 0, 0, 0.3));\n",
              "      fill: #FFFFFF;\n",
              "    }\n",
              "  </style>\n",
              "\n",
              "    <script>\n",
              "      const buttonEl =\n",
              "        document.querySelector('#df-0a02fbfa-39b3-4068-b4e5-b5b5ad0bf9dd button.colab-df-convert');\n",
              "      buttonEl.style.display =\n",
              "        google.colab.kernel.accessAllowed ? 'block' : 'none';\n",
              "\n",
              "      async function convertToInteractive(key) {\n",
              "        const element = document.querySelector('#df-0a02fbfa-39b3-4068-b4e5-b5b5ad0bf9dd');\n",
              "        const dataTable =\n",
              "          await google.colab.kernel.invokeFunction('convertToInteractive',\n",
              "                                                    [key], {});\n",
              "        if (!dataTable) return;\n",
              "\n",
              "        const docLinkHtml = 'Like what you see? Visit the ' +\n",
              "          '<a target=\"_blank\" href=https://colab.research.google.com/notebooks/data_table.ipynb>data table notebook</a>'\n",
              "          + ' to learn more about interactive tables.';\n",
              "        element.innerHTML = '';\n",
              "        dataTable['output_type'] = 'display_data';\n",
              "        await google.colab.output.renderOutput(dataTable, element);\n",
              "        const docLink = document.createElement('div');\n",
              "        docLink.innerHTML = docLinkHtml;\n",
              "        element.appendChild(docLink);\n",
              "      }\n",
              "    </script>\n",
              "  </div>\n",
              "\n",
              "\n",
              "<div id=\"df-8e1fdd71-b1a2-469a-bded-f2e7ae9c15e9\">\n",
              "  <button class=\"colab-df-quickchart\" onclick=\"quickchart('df-8e1fdd71-b1a2-469a-bded-f2e7ae9c15e9')\"\n",
              "            title=\"Suggest charts.\"\n",
              "            style=\"display:none;\">\n",
              "\n",
              "<svg xmlns=\"http://www.w3.org/2000/svg\" height=\"24px\"viewBox=\"0 0 24 24\"\n",
              "     width=\"24px\">\n",
              "    <g>\n",
              "        <path d=\"M19 3H5c-1.1 0-2 .9-2 2v14c0 1.1.9 2 2 2h14c1.1 0 2-.9 2-2V5c0-1.1-.9-2-2-2zM9 17H7v-7h2v7zm4 0h-2V7h2v10zm4 0h-2v-4h2v4z\"/>\n",
              "    </g>\n",
              "</svg>\n",
              "  </button>\n",
              "\n",
              "<style>\n",
              "  .colab-df-quickchart {\n",
              "      --bg-color: #E8F0FE;\n",
              "      --fill-color: #1967D2;\n",
              "      --hover-bg-color: #E2EBFA;\n",
              "      --hover-fill-color: #174EA6;\n",
              "      --disabled-fill-color: #AAA;\n",
              "      --disabled-bg-color: #DDD;\n",
              "  }\n",
              "\n",
              "  [theme=dark] .colab-df-quickchart {\n",
              "      --bg-color: #3B4455;\n",
              "      --fill-color: #D2E3FC;\n",
              "      --hover-bg-color: #434B5C;\n",
              "      --hover-fill-color: #FFFFFF;\n",
              "      --disabled-bg-color: #3B4455;\n",
              "      --disabled-fill-color: #666;\n",
              "  }\n",
              "\n",
              "  .colab-df-quickchart {\n",
              "    background-color: var(--bg-color);\n",
              "    border: none;\n",
              "    border-radius: 50%;\n",
              "    cursor: pointer;\n",
              "    display: none;\n",
              "    fill: var(--fill-color);\n",
              "    height: 32px;\n",
              "    padding: 0;\n",
              "    width: 32px;\n",
              "  }\n",
              "\n",
              "  .colab-df-quickchart:hover {\n",
              "    background-color: var(--hover-bg-color);\n",
              "    box-shadow: 0 1px 2px rgba(60, 64, 67, 0.3), 0 1px 3px 1px rgba(60, 64, 67, 0.15);\n",
              "    fill: var(--button-hover-fill-color);\n",
              "  }\n",
              "\n",
              "  .colab-df-quickchart-complete:disabled,\n",
              "  .colab-df-quickchart-complete:disabled:hover {\n",
              "    background-color: var(--disabled-bg-color);\n",
              "    fill: var(--disabled-fill-color);\n",
              "    box-shadow: none;\n",
              "  }\n",
              "\n",
              "  .colab-df-spinner {\n",
              "    border: 2px solid var(--fill-color);\n",
              "    border-color: transparent;\n",
              "    border-bottom-color: var(--fill-color);\n",
              "    animation:\n",
              "      spin 1s steps(1) infinite;\n",
              "  }\n",
              "\n",
              "  @keyframes spin {\n",
              "    0% {\n",
              "      border-color: transparent;\n",
              "      border-bottom-color: var(--fill-color);\n",
              "      border-left-color: var(--fill-color);\n",
              "    }\n",
              "    20% {\n",
              "      border-color: transparent;\n",
              "      border-left-color: var(--fill-color);\n",
              "      border-top-color: var(--fill-color);\n",
              "    }\n",
              "    30% {\n",
              "      border-color: transparent;\n",
              "      border-left-color: var(--fill-color);\n",
              "      border-top-color: var(--fill-color);\n",
              "      border-right-color: var(--fill-color);\n",
              "    }\n",
              "    40% {\n",
              "      border-color: transparent;\n",
              "      border-right-color: var(--fill-color);\n",
              "      border-top-color: var(--fill-color);\n",
              "    }\n",
              "    60% {\n",
              "      border-color: transparent;\n",
              "      border-right-color: var(--fill-color);\n",
              "    }\n",
              "    80% {\n",
              "      border-color: transparent;\n",
              "      border-right-color: var(--fill-color);\n",
              "      border-bottom-color: var(--fill-color);\n",
              "    }\n",
              "    90% {\n",
              "      border-color: transparent;\n",
              "      border-bottom-color: var(--fill-color);\n",
              "    }\n",
              "  }\n",
              "</style>\n",
              "\n",
              "  <script>\n",
              "    async function quickchart(key) {\n",
              "      const quickchartButtonEl =\n",
              "        document.querySelector('#' + key + ' button');\n",
              "      quickchartButtonEl.disabled = true;  // To prevent multiple clicks.\n",
              "      quickchartButtonEl.classList.add('colab-df-spinner');\n",
              "      try {\n",
              "        const charts = await google.colab.kernel.invokeFunction(\n",
              "            'suggestCharts', [key], {});\n",
              "      } catch (error) {\n",
              "        console.error('Error during call to suggestCharts:', error);\n",
              "      }\n",
              "      quickchartButtonEl.classList.remove('colab-df-spinner');\n",
              "      quickchartButtonEl.classList.add('colab-df-quickchart-complete');\n",
              "    }\n",
              "    (() => {\n",
              "      let quickchartButtonEl =\n",
              "        document.querySelector('#df-8e1fdd71-b1a2-469a-bded-f2e7ae9c15e9 button');\n",
              "      quickchartButtonEl.style.display =\n",
              "        google.colab.kernel.accessAllowed ? 'block' : 'none';\n",
              "    })();\n",
              "  </script>\n",
              "</div>\n",
              "    </div>\n",
              "  </div>\n"
            ]
          },
          "metadata": {},
          "execution_count": 13
        }
      ]
    },
    {
      "cell_type": "markdown",
      "metadata": {
        "id": "0cIjd98eHmgP"
      },
      "source": [
        "### 여기까지 저장하기"
      ]
    },
    {
      "cell_type": "code",
      "execution_count": null,
      "metadata": {
        "id": "3C3aJFjYHmgP"
      },
      "outputs": [],
      "source": [
        "# train.to_csv(f\"{DATA_PATH}yogiyo_reviews_0905_clean_remove_over.csv\", index=False)"
      ]
    },
    {
      "cell_type": "markdown",
      "source": [
        "# 여기까지 완료된 데이터 불러오기"
      ],
      "metadata": {
        "id": "KeKlm-VGQFPk"
      }
    },
    {
      "cell_type": "code",
      "source": [
        "train = pd.read_csv(f\"{DATA_PATH}yogiyo_reviews_0905_clean_remove_over.csv\")\n",
        "\n",
        "train['review'] = train['review'].astype(str)\n",
        "train['reply'] = train['reply'].astype(str)\n",
        "train"
      ],
      "metadata": {
        "colab": {
          "base_uri": "https://localhost:8080/",
          "height": 424
        },
        "id": "PegU9iR4PT1j",
        "outputId": "bbe5a8c0-5e4b-4bde-c592-d1cf748dbeab"
      },
      "execution_count": null,
      "outputs": [
        {
          "output_type": "execute_result",
          "data": {
            "text/plain": [
              "                                              review  \\\n",
              "0               저도 모르게 은근 여기 자주 시켜먹고 있었네요 늘 잘먹고 있습니다   \n",
              "1                              김치찌개 된장찌개 잡채 다 잘먹었습니다   \n",
              "2                 처음시켜보는데 맛있고 리뷰서비스도 괜찮네요 다음에도 또시킬듯요   \n",
              "3                            맛있습니다 근데 국물이 안와서 아쉽습니다    \n",
              "4                                          맛있게잘먹었습니다   \n",
              "...                                              ...   \n",
              "26162  맛있어요 양도 많고 푸짐하고 아주 맛있어요 맛도 있고 아주 만족스러운 식사였습니다   \n",
              "26163                                맛있게 잘 먹었습니다 맛있게   \n",
              "26164                               맛있게 잘 먹었어요 맛있게 잘   \n",
              "26165                  괜찮네요 괜찮은 것 같아요 맛도 괜찮고 가격도 괜찮고   \n",
              "26166     진짜 맛있어요 특히 간장 양념이 너무 달지 않고 새콤해서 더 맛있게 느껴져요   \n",
              "\n",
              "                                                   reply  star  \n",
              "0      저희 메뉴 맛있죠 이렇게 빠져 드시는 거에요 그냥 일로서 만드는 게 아니라 진짜 제...     5  \n",
              "1      전부 잘 드셔 주셔서 감사합니다 좋은 시간을 드리고 싶었어요 열심히 만들었다지만 다...     5  \n",
              "2      안녕하세요 저희 매장을 처음 찾아주신 고객님이시네요 처음 방문이라 주문해 주시기 망...     5  \n",
              "3      안녕하세요 저희 측 실수로 인하여 누락이 되었군요 이에 대해서 사과 말씀 드립니다 ...     4  \n",
              "4        헤헤 고객님 감사해요 맛있게 드셨다니 앞으로도 더 열심히 일할게요 좋은 하루 보내세요     5  \n",
              "...                                                  ...   ...  \n",
              "26162             맛있는 식사가 되셨기를 바랍니다 맛있는 식사 이용해 주셔서 감사합니다     4  \n",
              "26163  저희는 배달 대행 업체인데 배달 중에 오류가 난 부분이 있으면 언제든지 연락주시면 ...     4  \n",
              "26164  항상 좋은 음식으로 보답하는 것으로 보답하겠습니다 이용해 주셔서 감사합니다 더불어 ...     4  \n",
              "26165  아무래도 매장에서 드시는 것보다는 조금 미흡할 수 있으나 여러모로 시행해본 결과 직...     4  \n",
              "26166  많은 사랑 주셔서 감사드립니다 감사합니다 말씀 드릴 것이 많은데도 불구하고 부족한 ...     4  \n",
              "\n",
              "[26167 rows x 3 columns]"
            ],
            "text/html": [
              "\n",
              "  <div id=\"df-31fde123-e86b-457b-afd8-76c2a6ea1be5\" class=\"colab-df-container\">\n",
              "    <div>\n",
              "<style scoped>\n",
              "    .dataframe tbody tr th:only-of-type {\n",
              "        vertical-align: middle;\n",
              "    }\n",
              "\n",
              "    .dataframe tbody tr th {\n",
              "        vertical-align: top;\n",
              "    }\n",
              "\n",
              "    .dataframe thead th {\n",
              "        text-align: right;\n",
              "    }\n",
              "</style>\n",
              "<table border=\"1\" class=\"dataframe\">\n",
              "  <thead>\n",
              "    <tr style=\"text-align: right;\">\n",
              "      <th></th>\n",
              "      <th>review</th>\n",
              "      <th>reply</th>\n",
              "      <th>star</th>\n",
              "    </tr>\n",
              "  </thead>\n",
              "  <tbody>\n",
              "    <tr>\n",
              "      <th>0</th>\n",
              "      <td>저도 모르게 은근 여기 자주 시켜먹고 있었네요 늘 잘먹고 있습니다</td>\n",
              "      <td>저희 메뉴 맛있죠 이렇게 빠져 드시는 거에요 그냥 일로서 만드는 게 아니라 진짜 제...</td>\n",
              "      <td>5</td>\n",
              "    </tr>\n",
              "    <tr>\n",
              "      <th>1</th>\n",
              "      <td>김치찌개 된장찌개 잡채 다 잘먹었습니다</td>\n",
              "      <td>전부 잘 드셔 주셔서 감사합니다 좋은 시간을 드리고 싶었어요 열심히 만들었다지만 다...</td>\n",
              "      <td>5</td>\n",
              "    </tr>\n",
              "    <tr>\n",
              "      <th>2</th>\n",
              "      <td>처음시켜보는데 맛있고 리뷰서비스도 괜찮네요 다음에도 또시킬듯요</td>\n",
              "      <td>안녕하세요 저희 매장을 처음 찾아주신 고객님이시네요 처음 방문이라 주문해 주시기 망...</td>\n",
              "      <td>5</td>\n",
              "    </tr>\n",
              "    <tr>\n",
              "      <th>3</th>\n",
              "      <td>맛있습니다 근데 국물이 안와서 아쉽습니다</td>\n",
              "      <td>안녕하세요 저희 측 실수로 인하여 누락이 되었군요 이에 대해서 사과 말씀 드립니다 ...</td>\n",
              "      <td>4</td>\n",
              "    </tr>\n",
              "    <tr>\n",
              "      <th>4</th>\n",
              "      <td>맛있게잘먹었습니다</td>\n",
              "      <td>헤헤 고객님 감사해요 맛있게 드셨다니 앞으로도 더 열심히 일할게요 좋은 하루 보내세요</td>\n",
              "      <td>5</td>\n",
              "    </tr>\n",
              "    <tr>\n",
              "      <th>...</th>\n",
              "      <td>...</td>\n",
              "      <td>...</td>\n",
              "      <td>...</td>\n",
              "    </tr>\n",
              "    <tr>\n",
              "      <th>26162</th>\n",
              "      <td>맛있어요 양도 많고 푸짐하고 아주 맛있어요 맛도 있고 아주 만족스러운 식사였습니다</td>\n",
              "      <td>맛있는 식사가 되셨기를 바랍니다 맛있는 식사 이용해 주셔서 감사합니다</td>\n",
              "      <td>4</td>\n",
              "    </tr>\n",
              "    <tr>\n",
              "      <th>26163</th>\n",
              "      <td>맛있게 잘 먹었습니다 맛있게</td>\n",
              "      <td>저희는 배달 대행 업체인데 배달 중에 오류가 난 부분이 있으면 언제든지 연락주시면 ...</td>\n",
              "      <td>4</td>\n",
              "    </tr>\n",
              "    <tr>\n",
              "      <th>26164</th>\n",
              "      <td>맛있게 잘 먹었어요 맛있게 잘</td>\n",
              "      <td>항상 좋은 음식으로 보답하는 것으로 보답하겠습니다 이용해 주셔서 감사합니다 더불어 ...</td>\n",
              "      <td>4</td>\n",
              "    </tr>\n",
              "    <tr>\n",
              "      <th>26165</th>\n",
              "      <td>괜찮네요 괜찮은 것 같아요 맛도 괜찮고 가격도 괜찮고</td>\n",
              "      <td>아무래도 매장에서 드시는 것보다는 조금 미흡할 수 있으나 여러모로 시행해본 결과 직...</td>\n",
              "      <td>4</td>\n",
              "    </tr>\n",
              "    <tr>\n",
              "      <th>26166</th>\n",
              "      <td>진짜 맛있어요 특히 간장 양념이 너무 달지 않고 새콤해서 더 맛있게 느껴져요</td>\n",
              "      <td>많은 사랑 주셔서 감사드립니다 감사합니다 말씀 드릴 것이 많은데도 불구하고 부족한 ...</td>\n",
              "      <td>4</td>\n",
              "    </tr>\n",
              "  </tbody>\n",
              "</table>\n",
              "<p>26167 rows × 3 columns</p>\n",
              "</div>\n",
              "    <div class=\"colab-df-buttons\">\n",
              "\n",
              "  <div class=\"colab-df-container\">\n",
              "    <button class=\"colab-df-convert\" onclick=\"convertToInteractive('df-31fde123-e86b-457b-afd8-76c2a6ea1be5')\"\n",
              "            title=\"Convert this dataframe to an interactive table.\"\n",
              "            style=\"display:none;\">\n",
              "\n",
              "  <svg xmlns=\"http://www.w3.org/2000/svg\" height=\"24px\" viewBox=\"0 -960 960 960\">\n",
              "    <path d=\"M120-120v-720h720v720H120Zm60-500h600v-160H180v160Zm220 220h160v-160H400v160Zm0 220h160v-160H400v160ZM180-400h160v-160H180v160Zm440 0h160v-160H620v160ZM180-180h160v-160H180v160Zm440 0h160v-160H620v160Z\"/>\n",
              "  </svg>\n",
              "    </button>\n",
              "\n",
              "  <style>\n",
              "    .colab-df-container {\n",
              "      display:flex;\n",
              "      gap: 12px;\n",
              "    }\n",
              "\n",
              "    .colab-df-convert {\n",
              "      background-color: #E8F0FE;\n",
              "      border: none;\n",
              "      border-radius: 50%;\n",
              "      cursor: pointer;\n",
              "      display: none;\n",
              "      fill: #1967D2;\n",
              "      height: 32px;\n",
              "      padding: 0 0 0 0;\n",
              "      width: 32px;\n",
              "    }\n",
              "\n",
              "    .colab-df-convert:hover {\n",
              "      background-color: #E2EBFA;\n",
              "      box-shadow: 0px 1px 2px rgba(60, 64, 67, 0.3), 0px 1px 3px 1px rgba(60, 64, 67, 0.15);\n",
              "      fill: #174EA6;\n",
              "    }\n",
              "\n",
              "    .colab-df-buttons div {\n",
              "      margin-bottom: 4px;\n",
              "    }\n",
              "\n",
              "    [theme=dark] .colab-df-convert {\n",
              "      background-color: #3B4455;\n",
              "      fill: #D2E3FC;\n",
              "    }\n",
              "\n",
              "    [theme=dark] .colab-df-convert:hover {\n",
              "      background-color: #434B5C;\n",
              "      box-shadow: 0px 1px 3px 1px rgba(0, 0, 0, 0.15);\n",
              "      filter: drop-shadow(0px 1px 2px rgba(0, 0, 0, 0.3));\n",
              "      fill: #FFFFFF;\n",
              "    }\n",
              "  </style>\n",
              "\n",
              "    <script>\n",
              "      const buttonEl =\n",
              "        document.querySelector('#df-31fde123-e86b-457b-afd8-76c2a6ea1be5 button.colab-df-convert');\n",
              "      buttonEl.style.display =\n",
              "        google.colab.kernel.accessAllowed ? 'block' : 'none';\n",
              "\n",
              "      async function convertToInteractive(key) {\n",
              "        const element = document.querySelector('#df-31fde123-e86b-457b-afd8-76c2a6ea1be5');\n",
              "        const dataTable =\n",
              "          await google.colab.kernel.invokeFunction('convertToInteractive',\n",
              "                                                    [key], {});\n",
              "        if (!dataTable) return;\n",
              "\n",
              "        const docLinkHtml = 'Like what you see? Visit the ' +\n",
              "          '<a target=\"_blank\" href=https://colab.research.google.com/notebooks/data_table.ipynb>data table notebook</a>'\n",
              "          + ' to learn more about interactive tables.';\n",
              "        element.innerHTML = '';\n",
              "        dataTable['output_type'] = 'display_data';\n",
              "        await google.colab.output.renderOutput(dataTable, element);\n",
              "        const docLink = document.createElement('div');\n",
              "        docLink.innerHTML = docLinkHtml;\n",
              "        element.appendChild(docLink);\n",
              "      }\n",
              "    </script>\n",
              "  </div>\n",
              "\n",
              "\n",
              "<div id=\"df-20fe47f1-3b6f-4a2e-951f-8396bcfc46cf\">\n",
              "  <button class=\"colab-df-quickchart\" onclick=\"quickchart('df-20fe47f1-3b6f-4a2e-951f-8396bcfc46cf')\"\n",
              "            title=\"Suggest charts.\"\n",
              "            style=\"display:none;\">\n",
              "\n",
              "<svg xmlns=\"http://www.w3.org/2000/svg\" height=\"24px\"viewBox=\"0 0 24 24\"\n",
              "     width=\"24px\">\n",
              "    <g>\n",
              "        <path d=\"M19 3H5c-1.1 0-2 .9-2 2v14c0 1.1.9 2 2 2h14c1.1 0 2-.9 2-2V5c0-1.1-.9-2-2-2zM9 17H7v-7h2v7zm4 0h-2V7h2v10zm4 0h-2v-4h2v4z\"/>\n",
              "    </g>\n",
              "</svg>\n",
              "  </button>\n",
              "\n",
              "<style>\n",
              "  .colab-df-quickchart {\n",
              "      --bg-color: #E8F0FE;\n",
              "      --fill-color: #1967D2;\n",
              "      --hover-bg-color: #E2EBFA;\n",
              "      --hover-fill-color: #174EA6;\n",
              "      --disabled-fill-color: #AAA;\n",
              "      --disabled-bg-color: #DDD;\n",
              "  }\n",
              "\n",
              "  [theme=dark] .colab-df-quickchart {\n",
              "      --bg-color: #3B4455;\n",
              "      --fill-color: #D2E3FC;\n",
              "      --hover-bg-color: #434B5C;\n",
              "      --hover-fill-color: #FFFFFF;\n",
              "      --disabled-bg-color: #3B4455;\n",
              "      --disabled-fill-color: #666;\n",
              "  }\n",
              "\n",
              "  .colab-df-quickchart {\n",
              "    background-color: var(--bg-color);\n",
              "    border: none;\n",
              "    border-radius: 50%;\n",
              "    cursor: pointer;\n",
              "    display: none;\n",
              "    fill: var(--fill-color);\n",
              "    height: 32px;\n",
              "    padding: 0;\n",
              "    width: 32px;\n",
              "  }\n",
              "\n",
              "  .colab-df-quickchart:hover {\n",
              "    background-color: var(--hover-bg-color);\n",
              "    box-shadow: 0 1px 2px rgba(60, 64, 67, 0.3), 0 1px 3px 1px rgba(60, 64, 67, 0.15);\n",
              "    fill: var(--button-hover-fill-color);\n",
              "  }\n",
              "\n",
              "  .colab-df-quickchart-complete:disabled,\n",
              "  .colab-df-quickchart-complete:disabled:hover {\n",
              "    background-color: var(--disabled-bg-color);\n",
              "    fill: var(--disabled-fill-color);\n",
              "    box-shadow: none;\n",
              "  }\n",
              "\n",
              "  .colab-df-spinner {\n",
              "    border: 2px solid var(--fill-color);\n",
              "    border-color: transparent;\n",
              "    border-bottom-color: var(--fill-color);\n",
              "    animation:\n",
              "      spin 1s steps(1) infinite;\n",
              "  }\n",
              "\n",
              "  @keyframes spin {\n",
              "    0% {\n",
              "      border-color: transparent;\n",
              "      border-bottom-color: var(--fill-color);\n",
              "      border-left-color: var(--fill-color);\n",
              "    }\n",
              "    20% {\n",
              "      border-color: transparent;\n",
              "      border-left-color: var(--fill-color);\n",
              "      border-top-color: var(--fill-color);\n",
              "    }\n",
              "    30% {\n",
              "      border-color: transparent;\n",
              "      border-left-color: var(--fill-color);\n",
              "      border-top-color: var(--fill-color);\n",
              "      border-right-color: var(--fill-color);\n",
              "    }\n",
              "    40% {\n",
              "      border-color: transparent;\n",
              "      border-right-color: var(--fill-color);\n",
              "      border-top-color: var(--fill-color);\n",
              "    }\n",
              "    60% {\n",
              "      border-color: transparent;\n",
              "      border-right-color: var(--fill-color);\n",
              "    }\n",
              "    80% {\n",
              "      border-color: transparent;\n",
              "      border-right-color: var(--fill-color);\n",
              "      border-bottom-color: var(--fill-color);\n",
              "    }\n",
              "    90% {\n",
              "      border-color: transparent;\n",
              "      border-bottom-color: var(--fill-color);\n",
              "    }\n",
              "  }\n",
              "</style>\n",
              "\n",
              "  <script>\n",
              "    async function quickchart(key) {\n",
              "      const quickchartButtonEl =\n",
              "        document.querySelector('#' + key + ' button');\n",
              "      quickchartButtonEl.disabled = true;  // To prevent multiple clicks.\n",
              "      quickchartButtonEl.classList.add('colab-df-spinner');\n",
              "      try {\n",
              "        const charts = await google.colab.kernel.invokeFunction(\n",
              "            'suggestCharts', [key], {});\n",
              "      } catch (error) {\n",
              "        console.error('Error during call to suggestCharts:', error);\n",
              "      }\n",
              "      quickchartButtonEl.classList.remove('colab-df-spinner');\n",
              "      quickchartButtonEl.classList.add('colab-df-quickchart-complete');\n",
              "    }\n",
              "    (() => {\n",
              "      let quickchartButtonEl =\n",
              "        document.querySelector('#df-20fe47f1-3b6f-4a2e-951f-8396bcfc46cf button');\n",
              "      quickchartButtonEl.style.display =\n",
              "        google.colab.kernel.accessAllowed ? 'block' : 'none';\n",
              "    })();\n",
              "  </script>\n",
              "</div>\n",
              "    </div>\n",
              "  </div>\n"
            ]
          },
          "metadata": {},
          "execution_count": 14
        }
      ]
    },
    {
      "cell_type": "code",
      "source": [
        "train.isnull().sum()"
      ],
      "metadata": {
        "colab": {
          "base_uri": "https://localhost:8080/"
        },
        "id": "7pmZ9l224C8y",
        "outputId": "1307643e-823c-474e-b056-5d8ea2b207bf"
      },
      "execution_count": null,
      "outputs": [
        {
          "output_type": "execute_result",
          "data": {
            "text/plain": [
              "review    0\n",
              "reply     0\n",
              "star      0\n",
              "dtype: int64"
            ]
          },
          "metadata": {},
          "execution_count": 15
        }
      ]
    },
    {
      "cell_type": "markdown",
      "source": [
        "- 개별 삭제(추론 결과보고 계속 추가)"
      ],
      "metadata": {
        "id": "R765enN42t2E"
      }
    },
    {
      "cell_type": "code",
      "source": [
        "print(train[train['reply'].str.contains(\"민의\")].index)"
      ],
      "metadata": {
        "colab": {
          "base_uri": "https://localhost:8080/"
        },
        "id": "fSOdOo4TDaXs",
        "outputId": "d265922e-fb7d-45e3-a122-0aa7c840ea1a"
      },
      "execution_count": null,
      "outputs": [
        {
          "output_type": "stream",
          "name": "stdout",
          "text": [
            "Int64Index([], dtype='int64')\n"
          ]
        }
      ]
    },
    {
      "cell_type": "code",
      "source": [
        "remove_keywords = ['북서울꿈의숲','민의']\n",
        "for keyword in remove_keywords:\n",
        "    train['reply'] = train['reply'].str.replace(keyword, '')\n",
        "\n",
        "train['reply'][6822]"
      ],
      "metadata": {
        "colab": {
          "base_uri": "https://localhost:8080/",
          "height": 72
        },
        "id": "V2YWQQZw1b_b",
        "outputId": "c0ceae08-7a91-4842-e39a-0eb177db306d"
      },
      "execution_count": null,
      "outputs": [
        {
          "output_type": "execute_result",
          "data": {
            "text/plain": [
              "'고객님 안녕하세요 항상 고객님께 최선을 다하는 뜸들이다  소중한 별5 리뷰 감사합니다 맛있게 드셔 주셔서 정말 행복해요 다음에도 만족하실 수 있도록 최선을 다하겠습니다 감사합니다 뜸들이다는  이 최고 영암군에서 재배한 햅쌀만을 사용합니다 밥을 소량씩 자주 지어 갓 지은 밥 맛을 추구합니다 매장에서 직접 아보카도를 후숙하여 더욱더 고소합니다  주변에서 직접 홀 매장 영업하고 있습니다 당일재료 당일소진 모든 재료가 소진되면 영업을 종료합니다'"
            ],
            "application/vnd.google.colaboratory.intrinsic+json": {
              "type": "string"
            }
          },
          "metadata": {},
          "execution_count": 17
        }
      ]
    },
    {
      "cell_type": "code",
      "source": [
        "train['star'].value_counts().sort_index() # 별점 분포 확인"
      ],
      "metadata": {
        "colab": {
          "base_uri": "https://localhost:8080/"
        },
        "id": "3t7RcKiHP0Yo",
        "outputId": "a7a9cd42-6961-4e1e-af64-ed387558cc9d"
      },
      "execution_count": null,
      "outputs": [
        {
          "output_type": "execute_result",
          "data": {
            "text/plain": [
              "1      222\n",
              "2      174\n",
              "3      453\n",
              "4     1539\n",
              "5    23779\n",
              "Name: star, dtype: int64"
            ]
          },
          "metadata": {},
          "execution_count": 18
        }
      ]
    },
    {
      "cell_type": "code",
      "source": [
        "train_1 = train[train['star'] == 1]\n",
        "train_2 = train[train['star'] == 2]\n",
        "train_3 = train[train['star'] == 3]\n",
        "train_4 = train[train['star'] == 4]\n",
        "\n",
        "# 5점 데이터 중 중복된 답변제거\n",
        "train_5 = train[train['star'] == 5].drop_duplicates(subset='reply', keep=False)\n",
        "train_5['star'].value_counts().sort_index()\n",
        "\n",
        "# train_star = pd.concat([train_1, train_2, train_3, train_4], ignore_index=True)\n",
        "# train_star"
      ],
      "metadata": {
        "colab": {
          "base_uri": "https://localhost:8080/"
        },
        "id": "XRQdtKtAQO0b",
        "outputId": "b6d6b934-80e2-40b4-b039-83d434b210f6"
      },
      "execution_count": null,
      "outputs": [
        {
          "output_type": "execute_result",
          "data": {
            "text/plain": [
              "5    10857\n",
              "Name: star, dtype: int64"
            ]
          },
          "metadata": {},
          "execution_count": 19
        }
      ]
    },
    {
      "cell_type": "code",
      "source": [
        "length = len(train_1+train_2+train_3+train_4)\n",
        "length"
      ],
      "metadata": {
        "colab": {
          "base_uri": "https://localhost:8080/"
        },
        "id": "AsJ17zQOP0Sh",
        "outputId": "ff7d87dc-797c-4377-8cdf-e665113ee089"
      },
      "execution_count": null,
      "outputs": [
        {
          "output_type": "execute_result",
          "data": {
            "text/plain": [
              "2388"
            ]
          },
          "metadata": {},
          "execution_count": 20
        }
      ]
    },
    {
      "cell_type": "code",
      "source": [
        "shuffled_train_5 = train_5.sample(frac=1, random_state=42)\n",
        "# train_5 = shuffled_train_5.iloc[:length].reset_index(drop=True) # 1:1 비율\n",
        "train_5 = shuffled_train_5.iloc[:length*2].reset_index(drop=True) # 2:1 비율 만들기\n",
        "\n",
        "train = pd.concat([train_1, train_2, train_3, train_4, train_5], ignore_index=True)\n",
        "train['star'].value_counts().sort_index()"
      ],
      "metadata": {
        "colab": {
          "base_uri": "https://localhost:8080/"
        },
        "id": "3LASpE1DQ7CK",
        "outputId": "a7e3891c-26ab-4641-87fd-503f6e03a3da"
      },
      "execution_count": null,
      "outputs": [
        {
          "output_type": "execute_result",
          "data": {
            "text/plain": [
              "1     222\n",
              "2     174\n",
              "3     453\n",
              "4    1539\n",
              "5    4776\n",
              "Name: star, dtype: int64"
            ]
          },
          "metadata": {},
          "execution_count": 21
        }
      ]
    },
    {
      "cell_type": "code",
      "source": [
        "# 다시 섞기\n",
        "train = train.sample(frac=1, random_state=42).reset_index(drop=True)\n",
        "train"
      ],
      "metadata": {
        "colab": {
          "base_uri": "https://localhost:8080/",
          "height": 424
        },
        "id": "g4SHdnDAQ6-s",
        "outputId": "6b177323-48b4-47e4-9f79-82fcdf8a1e6b"
      },
      "execution_count": null,
      "outputs": [
        {
          "output_type": "execute_result",
          "data": {
            "text/plain": [
              "                                                 review  \\\n",
              "0     저는 개인적으로 생각보다 막국수 양이 너무 많아서 한 번도 못 먹고 버린 게 더 많...   \n",
              "1                                 닭발이 전분끼 있는 것 처럼 끈적거려요   \n",
              "2            오우 재료도 신선하고 가성비 좋은것 같아요 서비스로 주시는 쥬스도 맛있어요    \n",
              "3                                           맛있게 잘먹었습니다    \n",
              "4                                                   좋아요   \n",
              "...                                                 ...   \n",
              "7159                                   여행와서 맛있게 먹고 갑니다    \n",
              "7160                맛이 자극적이지 않고 맛있어요 맛좋고 정갈한 반찬 잘먹겠습니다    \n",
              "7161                                      정말 푸짐하게 나옵니다    \n",
              "7162                              배달도 빠르고 정말 맛있게 먹었습니다    \n",
              "7163                                       식어서 조금 잘먹엇어요   \n",
              "\n",
              "                                                  reply  star  \n",
              "0     고객님께서 요청하시는 사항은 저희가 빠뜨리지 않고 챙겨드리는데 저녁시간에 조금 밀리...     4  \n",
              "1     전분은 들어가지않습니다 배달이 늦은 탓일까요 죄송합니다 다음에는 더욱 만족드릴수있도...     3  \n",
              "2     안녕하세요 항상 신선한 재료로 맛있는 전달드릴려구 노력하고있습니다 맛과 양 영양까지...     5  \n",
              "3     안녕하세요 를 찾아주셔서 진심으로 감사합니다 맛있게 잘 드셨다니 넘 행복합니당 즐거...     5  \n",
              "4                                감사합니다 언제나 맛으로보답드릴 수 있는     5  \n",
              "...                                                 ...   ...  \n",
              "7159  저희 찾아주셔서 감사드립니다 여행오셔서 맛있게 드셨다니 너무감사드립니다 앞으로도 저...     5  \n",
              "7160  주문 감사드립니다 짜거나 맵고 싱겁게 만들지 않도록 최대한 노력하고 있답니다 맛있게...     5  \n",
              "7161         리뷰 감사합니다 푸짐하게 드셨다니 기분 좋네요 다음에도 많이많이 이용해주세요     5  \n",
              "7162  먼저 저희 매장을 이용해 주셔서 감사합니다 사진리뷰와 별5개 너무나 감사드립니다 배...     5  \n",
              "7163  안녕하세요 조금 식어서 왔나요 코로나때문에 부득이하게 약간 식는 경우가 발생합니다 ...     4  \n",
              "\n",
              "[7164 rows x 3 columns]"
            ],
            "text/html": [
              "\n",
              "  <div id=\"df-a9893c93-7852-4985-8ee6-58aaf8f62022\" class=\"colab-df-container\">\n",
              "    <div>\n",
              "<style scoped>\n",
              "    .dataframe tbody tr th:only-of-type {\n",
              "        vertical-align: middle;\n",
              "    }\n",
              "\n",
              "    .dataframe tbody tr th {\n",
              "        vertical-align: top;\n",
              "    }\n",
              "\n",
              "    .dataframe thead th {\n",
              "        text-align: right;\n",
              "    }\n",
              "</style>\n",
              "<table border=\"1\" class=\"dataframe\">\n",
              "  <thead>\n",
              "    <tr style=\"text-align: right;\">\n",
              "      <th></th>\n",
              "      <th>review</th>\n",
              "      <th>reply</th>\n",
              "      <th>star</th>\n",
              "    </tr>\n",
              "  </thead>\n",
              "  <tbody>\n",
              "    <tr>\n",
              "      <th>0</th>\n",
              "      <td>저는 개인적으로 생각보다 막국수 양이 너무 많아서 한 번도 못 먹고 버린 게 더 많...</td>\n",
              "      <td>고객님께서 요청하시는 사항은 저희가 빠뜨리지 않고 챙겨드리는데 저녁시간에 조금 밀리...</td>\n",
              "      <td>4</td>\n",
              "    </tr>\n",
              "    <tr>\n",
              "      <th>1</th>\n",
              "      <td>닭발이 전분끼 있는 것 처럼 끈적거려요</td>\n",
              "      <td>전분은 들어가지않습니다 배달이 늦은 탓일까요 죄송합니다 다음에는 더욱 만족드릴수있도...</td>\n",
              "      <td>3</td>\n",
              "    </tr>\n",
              "    <tr>\n",
              "      <th>2</th>\n",
              "      <td>오우 재료도 신선하고 가성비 좋은것 같아요 서비스로 주시는 쥬스도 맛있어요</td>\n",
              "      <td>안녕하세요 항상 신선한 재료로 맛있는 전달드릴려구 노력하고있습니다 맛과 양 영양까지...</td>\n",
              "      <td>5</td>\n",
              "    </tr>\n",
              "    <tr>\n",
              "      <th>3</th>\n",
              "      <td>맛있게 잘먹었습니다</td>\n",
              "      <td>안녕하세요 를 찾아주셔서 진심으로 감사합니다 맛있게 잘 드셨다니 넘 행복합니당 즐거...</td>\n",
              "      <td>5</td>\n",
              "    </tr>\n",
              "    <tr>\n",
              "      <th>4</th>\n",
              "      <td>좋아요</td>\n",
              "      <td>감사합니다 언제나 맛으로보답드릴 수 있는</td>\n",
              "      <td>5</td>\n",
              "    </tr>\n",
              "    <tr>\n",
              "      <th>...</th>\n",
              "      <td>...</td>\n",
              "      <td>...</td>\n",
              "      <td>...</td>\n",
              "    </tr>\n",
              "    <tr>\n",
              "      <th>7159</th>\n",
              "      <td>여행와서 맛있게 먹고 갑니다</td>\n",
              "      <td>저희 찾아주셔서 감사드립니다 여행오셔서 맛있게 드셨다니 너무감사드립니다 앞으로도 저...</td>\n",
              "      <td>5</td>\n",
              "    </tr>\n",
              "    <tr>\n",
              "      <th>7160</th>\n",
              "      <td>맛이 자극적이지 않고 맛있어요 맛좋고 정갈한 반찬 잘먹겠습니다</td>\n",
              "      <td>주문 감사드립니다 짜거나 맵고 싱겁게 만들지 않도록 최대한 노력하고 있답니다 맛있게...</td>\n",
              "      <td>5</td>\n",
              "    </tr>\n",
              "    <tr>\n",
              "      <th>7161</th>\n",
              "      <td>정말 푸짐하게 나옵니다</td>\n",
              "      <td>리뷰 감사합니다 푸짐하게 드셨다니 기분 좋네요 다음에도 많이많이 이용해주세요</td>\n",
              "      <td>5</td>\n",
              "    </tr>\n",
              "    <tr>\n",
              "      <th>7162</th>\n",
              "      <td>배달도 빠르고 정말 맛있게 먹었습니다</td>\n",
              "      <td>먼저 저희 매장을 이용해 주셔서 감사합니다 사진리뷰와 별5개 너무나 감사드립니다 배...</td>\n",
              "      <td>5</td>\n",
              "    </tr>\n",
              "    <tr>\n",
              "      <th>7163</th>\n",
              "      <td>식어서 조금 잘먹엇어요</td>\n",
              "      <td>안녕하세요 조금 식어서 왔나요 코로나때문에 부득이하게 약간 식는 경우가 발생합니다 ...</td>\n",
              "      <td>4</td>\n",
              "    </tr>\n",
              "  </tbody>\n",
              "</table>\n",
              "<p>7164 rows × 3 columns</p>\n",
              "</div>\n",
              "    <div class=\"colab-df-buttons\">\n",
              "\n",
              "  <div class=\"colab-df-container\">\n",
              "    <button class=\"colab-df-convert\" onclick=\"convertToInteractive('df-a9893c93-7852-4985-8ee6-58aaf8f62022')\"\n",
              "            title=\"Convert this dataframe to an interactive table.\"\n",
              "            style=\"display:none;\">\n",
              "\n",
              "  <svg xmlns=\"http://www.w3.org/2000/svg\" height=\"24px\" viewBox=\"0 -960 960 960\">\n",
              "    <path d=\"M120-120v-720h720v720H120Zm60-500h600v-160H180v160Zm220 220h160v-160H400v160Zm0 220h160v-160H400v160ZM180-400h160v-160H180v160Zm440 0h160v-160H620v160ZM180-180h160v-160H180v160Zm440 0h160v-160H620v160Z\"/>\n",
              "  </svg>\n",
              "    </button>\n",
              "\n",
              "  <style>\n",
              "    .colab-df-container {\n",
              "      display:flex;\n",
              "      gap: 12px;\n",
              "    }\n",
              "\n",
              "    .colab-df-convert {\n",
              "      background-color: #E8F0FE;\n",
              "      border: none;\n",
              "      border-radius: 50%;\n",
              "      cursor: pointer;\n",
              "      display: none;\n",
              "      fill: #1967D2;\n",
              "      height: 32px;\n",
              "      padding: 0 0 0 0;\n",
              "      width: 32px;\n",
              "    }\n",
              "\n",
              "    .colab-df-convert:hover {\n",
              "      background-color: #E2EBFA;\n",
              "      box-shadow: 0px 1px 2px rgba(60, 64, 67, 0.3), 0px 1px 3px 1px rgba(60, 64, 67, 0.15);\n",
              "      fill: #174EA6;\n",
              "    }\n",
              "\n",
              "    .colab-df-buttons div {\n",
              "      margin-bottom: 4px;\n",
              "    }\n",
              "\n",
              "    [theme=dark] .colab-df-convert {\n",
              "      background-color: #3B4455;\n",
              "      fill: #D2E3FC;\n",
              "    }\n",
              "\n",
              "    [theme=dark] .colab-df-convert:hover {\n",
              "      background-color: #434B5C;\n",
              "      box-shadow: 0px 1px 3px 1px rgba(0, 0, 0, 0.15);\n",
              "      filter: drop-shadow(0px 1px 2px rgba(0, 0, 0, 0.3));\n",
              "      fill: #FFFFFF;\n",
              "    }\n",
              "  </style>\n",
              "\n",
              "    <script>\n",
              "      const buttonEl =\n",
              "        document.querySelector('#df-a9893c93-7852-4985-8ee6-58aaf8f62022 button.colab-df-convert');\n",
              "      buttonEl.style.display =\n",
              "        google.colab.kernel.accessAllowed ? 'block' : 'none';\n",
              "\n",
              "      async function convertToInteractive(key) {\n",
              "        const element = document.querySelector('#df-a9893c93-7852-4985-8ee6-58aaf8f62022');\n",
              "        const dataTable =\n",
              "          await google.colab.kernel.invokeFunction('convertToInteractive',\n",
              "                                                    [key], {});\n",
              "        if (!dataTable) return;\n",
              "\n",
              "        const docLinkHtml = 'Like what you see? Visit the ' +\n",
              "          '<a target=\"_blank\" href=https://colab.research.google.com/notebooks/data_table.ipynb>data table notebook</a>'\n",
              "          + ' to learn more about interactive tables.';\n",
              "        element.innerHTML = '';\n",
              "        dataTable['output_type'] = 'display_data';\n",
              "        await google.colab.output.renderOutput(dataTable, element);\n",
              "        const docLink = document.createElement('div');\n",
              "        docLink.innerHTML = docLinkHtml;\n",
              "        element.appendChild(docLink);\n",
              "      }\n",
              "    </script>\n",
              "  </div>\n",
              "\n",
              "\n",
              "<div id=\"df-7aae838d-450c-4794-9d2b-39d58cce47d9\">\n",
              "  <button class=\"colab-df-quickchart\" onclick=\"quickchart('df-7aae838d-450c-4794-9d2b-39d58cce47d9')\"\n",
              "            title=\"Suggest charts.\"\n",
              "            style=\"display:none;\">\n",
              "\n",
              "<svg xmlns=\"http://www.w3.org/2000/svg\" height=\"24px\"viewBox=\"0 0 24 24\"\n",
              "     width=\"24px\">\n",
              "    <g>\n",
              "        <path d=\"M19 3H5c-1.1 0-2 .9-2 2v14c0 1.1.9 2 2 2h14c1.1 0 2-.9 2-2V5c0-1.1-.9-2-2-2zM9 17H7v-7h2v7zm4 0h-2V7h2v10zm4 0h-2v-4h2v4z\"/>\n",
              "    </g>\n",
              "</svg>\n",
              "  </button>\n",
              "\n",
              "<style>\n",
              "  .colab-df-quickchart {\n",
              "      --bg-color: #E8F0FE;\n",
              "      --fill-color: #1967D2;\n",
              "      --hover-bg-color: #E2EBFA;\n",
              "      --hover-fill-color: #174EA6;\n",
              "      --disabled-fill-color: #AAA;\n",
              "      --disabled-bg-color: #DDD;\n",
              "  }\n",
              "\n",
              "  [theme=dark] .colab-df-quickchart {\n",
              "      --bg-color: #3B4455;\n",
              "      --fill-color: #D2E3FC;\n",
              "      --hover-bg-color: #434B5C;\n",
              "      --hover-fill-color: #FFFFFF;\n",
              "      --disabled-bg-color: #3B4455;\n",
              "      --disabled-fill-color: #666;\n",
              "  }\n",
              "\n",
              "  .colab-df-quickchart {\n",
              "    background-color: var(--bg-color);\n",
              "    border: none;\n",
              "    border-radius: 50%;\n",
              "    cursor: pointer;\n",
              "    display: none;\n",
              "    fill: var(--fill-color);\n",
              "    height: 32px;\n",
              "    padding: 0;\n",
              "    width: 32px;\n",
              "  }\n",
              "\n",
              "  .colab-df-quickchart:hover {\n",
              "    background-color: var(--hover-bg-color);\n",
              "    box-shadow: 0 1px 2px rgba(60, 64, 67, 0.3), 0 1px 3px 1px rgba(60, 64, 67, 0.15);\n",
              "    fill: var(--button-hover-fill-color);\n",
              "  }\n",
              "\n",
              "  .colab-df-quickchart-complete:disabled,\n",
              "  .colab-df-quickchart-complete:disabled:hover {\n",
              "    background-color: var(--disabled-bg-color);\n",
              "    fill: var(--disabled-fill-color);\n",
              "    box-shadow: none;\n",
              "  }\n",
              "\n",
              "  .colab-df-spinner {\n",
              "    border: 2px solid var(--fill-color);\n",
              "    border-color: transparent;\n",
              "    border-bottom-color: var(--fill-color);\n",
              "    animation:\n",
              "      spin 1s steps(1) infinite;\n",
              "  }\n",
              "\n",
              "  @keyframes spin {\n",
              "    0% {\n",
              "      border-color: transparent;\n",
              "      border-bottom-color: var(--fill-color);\n",
              "      border-left-color: var(--fill-color);\n",
              "    }\n",
              "    20% {\n",
              "      border-color: transparent;\n",
              "      border-left-color: var(--fill-color);\n",
              "      border-top-color: var(--fill-color);\n",
              "    }\n",
              "    30% {\n",
              "      border-color: transparent;\n",
              "      border-left-color: var(--fill-color);\n",
              "      border-top-color: var(--fill-color);\n",
              "      border-right-color: var(--fill-color);\n",
              "    }\n",
              "    40% {\n",
              "      border-color: transparent;\n",
              "      border-right-color: var(--fill-color);\n",
              "      border-top-color: var(--fill-color);\n",
              "    }\n",
              "    60% {\n",
              "      border-color: transparent;\n",
              "      border-right-color: var(--fill-color);\n",
              "    }\n",
              "    80% {\n",
              "      border-color: transparent;\n",
              "      border-right-color: var(--fill-color);\n",
              "      border-bottom-color: var(--fill-color);\n",
              "    }\n",
              "    90% {\n",
              "      border-color: transparent;\n",
              "      border-bottom-color: var(--fill-color);\n",
              "    }\n",
              "  }\n",
              "</style>\n",
              "\n",
              "  <script>\n",
              "    async function quickchart(key) {\n",
              "      const quickchartButtonEl =\n",
              "        document.querySelector('#' + key + ' button');\n",
              "      quickchartButtonEl.disabled = true;  // To prevent multiple clicks.\n",
              "      quickchartButtonEl.classList.add('colab-df-spinner');\n",
              "      try {\n",
              "        const charts = await google.colab.kernel.invokeFunction(\n",
              "            'suggestCharts', [key], {});\n",
              "      } catch (error) {\n",
              "        console.error('Error during call to suggestCharts:', error);\n",
              "      }\n",
              "      quickchartButtonEl.classList.remove('colab-df-spinner');\n",
              "      quickchartButtonEl.classList.add('colab-df-quickchart-complete');\n",
              "    }\n",
              "    (() => {\n",
              "      let quickchartButtonEl =\n",
              "        document.querySelector('#df-7aae838d-450c-4794-9d2b-39d58cce47d9 button');\n",
              "      quickchartButtonEl.style.display =\n",
              "        google.colab.kernel.accessAllowed ? 'block' : 'none';\n",
              "    })();\n",
              "  </script>\n",
              "</div>\n",
              "    </div>\n",
              "  </div>\n"
            ]
          },
          "metadata": {},
          "execution_count": 22
        }
      ]
    },
    {
      "cell_type": "code",
      "source": [
        "review, reply = train[\"review\"] , train[\"reply\"]\n",
        "len(review) , len(reply)"
      ],
      "metadata": {
        "colab": {
          "base_uri": "https://localhost:8080/"
        },
        "id": "76W-Bwk7Q62j",
        "outputId": "ef3e5853-0094-4d3b-e5ad-f3856e758f8b"
      },
      "execution_count": null,
      "outputs": [
        {
          "output_type": "execute_result",
          "data": {
            "text/plain": [
              "(7164, 7164)"
            ]
          },
          "metadata": {},
          "execution_count": 23
        }
      ]
    },
    {
      "cell_type": "markdown",
      "source": [
        "# 한국어 형태소 분석"
      ],
      "metadata": {
        "id": "oUIFAkI6vzBO"
      }
    },
    {
      "cell_type": "code",
      "source": [
        "review[:5]"
      ],
      "metadata": {
        "colab": {
          "base_uri": "https://localhost:8080/"
        },
        "id": "fW4YJJ09OMPw",
        "outputId": "690fee3b-8d65-45f2-c46a-7988084420c5"
      },
      "execution_count": null,
      "outputs": [
        {
          "output_type": "execute_result",
          "data": {
            "text/plain": [
              "0    저는 개인적으로 생각보다 막국수 양이 너무 많아서 한 번도 못 먹고 버린 게 더 많...\n",
              "1                                닭발이 전분끼 있는 것 처럼 끈적거려요\n",
              "2           오우 재료도 신선하고 가성비 좋은것 같아요 서비스로 주시는 쥬스도 맛있어요 \n",
              "3                                          맛있게 잘먹었습니다 \n",
              "4                                                  좋아요\n",
              "Name: review, dtype: object"
            ]
          },
          "metadata": {},
          "execution_count": 24
        }
      ]
    },
    {
      "cell_type": "code",
      "source": [
        "import unicodedata\n",
        "\n",
        "def normalize(sentence):\n",
        "    return unicodedata.normalize('NFC', sentence)\n",
        "\n",
        "normalize(review[0])"
      ],
      "metadata": {
        "colab": {
          "base_uri": "https://localhost:8080/",
          "height": 35
        },
        "id": "gNuEg-mXOZHq",
        "outputId": "86a213a2-8fb1-44f2-c0ab-1adda3eaad9a"
      },
      "execution_count": null,
      "outputs": [
        {
          "output_type": "execute_result",
          "data": {
            "text/plain": [
              "'저는 개인적으로 생각보다 막국수 양이 너무 많아서 한 번도 못 먹고 버린 게 더 많을 정도로 별로였어요.'"
            ],
            "application/vnd.google.colaboratory.intrinsic+json": {
              "type": "string"
            }
          },
          "metadata": {},
          "execution_count": 25
        }
      ]
    },
    {
      "cell_type": "markdown",
      "source": [
        "# 단어 사전 만들기"
      ],
      "metadata": {
        "id": "v1skB1HmKDGg"
      }
    },
    {
      "cell_type": "code",
      "source": [
        "PAD_TOKEN = 0\n",
        "SOS_TOKEN = 1\n",
        "EOS_TOKEN = 2\n",
        "\n",
        "class WordVocab():\n",
        "    def __init__(self):\n",
        "        self.word2index = {'<PAD>': PAD_TOKEN,\n",
        "                           '<SOS>': SOS_TOKEN,\n",
        "                           '<EOS>': EOS_TOKEN,}\n",
        "        self.word2count = {}\n",
        "        self.index2word = {PAD_TOKEN: '<PAD>',\n",
        "                           SOS_TOKEN: '<SOS>',\n",
        "                           EOS_TOKEN: '<EOS>'}\n",
        "        self.n_words = 3  # PAD, SOS, EOS 포함\n",
        "\n",
        "    def add_sentence(self, sentence):\n",
        "        for word in sentence.split(' '):\n",
        "            self.add_word(word)\n",
        "\n",
        "    def add_word(self, word):\n",
        "        if word not in self.word2index:\n",
        "            self.word2index[word] = self.n_words\n",
        "            self.word2count[word] = 1\n",
        "            self.index2word[self.n_words] = word\n",
        "            self.n_words += 1\n",
        "        else:\n",
        "            self.word2count[word] += 1"
      ],
      "metadata": {
        "id": "hygb8KqYIi3O"
      },
      "execution_count": null,
      "outputs": []
    },
    {
      "cell_type": "code",
      "source": [
        "print(f'원문: {review[0]}')\n",
        "lang = WordVocab()\n",
        "lang.add_sentence(review[0])\n",
        "print('단어사전: ', lang.word2index)"
      ],
      "metadata": {
        "colab": {
          "base_uri": "https://localhost:8080/"
        },
        "id": "GBgYZWQwIi0f",
        "outputId": "57ac704e-0b03-437e-dd30-882e6cb1dd79"
      },
      "execution_count": null,
      "outputs": [
        {
          "output_type": "stream",
          "name": "stdout",
          "text": [
            "원문: 저는 개인적으로 생각보다 막국수 양이 너무 많아서 한 번도 못 먹고 버린 게 더 많을 정도로 별로였어요.\n",
            "단어사전:  {'<PAD>': 0, '<SOS>': 1, '<EOS>': 2, '저는': 3, '개인적으로': 4, '생각보다': 5, '막국수': 6, '양이': 7, '너무': 8, '많아서': 9, '한': 10, '번도': 11, '못': 12, '먹고': 13, '버린': 14, '게': 15, '더': 16, '많을': 17, '정도로': 18, '별로였어요.': 19}\n"
          ]
        }
      ]
    },
    {
      "cell_type": "markdown",
      "source": [
        "# 데이터셋 만들기"
      ],
      "metadata": {
        "id": "5cU_Tee2R1G3"
      }
    },
    {
      "cell_type": "code",
      "source": [
        "from konlpy.tag import Okt"
      ],
      "metadata": {
        "id": "ai7JzO0KRXyQ"
      },
      "execution_count": null,
      "outputs": []
    },
    {
      "cell_type": "code",
      "source": [
        "class TextDataset(Dataset):\n",
        "    def __init__(self, df, min_length=3, max_length=32):\n",
        "        super().__init__()\n",
        "\n",
        "        # TOKEN 정의\n",
        "        self.PAD_TOKEN = 0 # Padding 토큰\n",
        "        self.SOS_TOKEN = 1 # SOS 토큰\n",
        "        self.EOS_TOKEN = 2 # EOS 토큰\n",
        "\n",
        "        self.tagger = Okt()   # 형태소 분석기\n",
        "        self.max_length = max_length # 한 문장의 최대 길이 지정\n",
        "\n",
        "        # src: 리뷰, tgt: 답변\n",
        "        src_clean = []\n",
        "        tgt_clean = []\n",
        "        store_list = []\n",
        "\n",
        "        # 단어 사전 생성\n",
        "        wordvocab = WordVocab()\n",
        "\n",
        "        for _, row in df.iterrows():\n",
        "            src = row['review']\n",
        "            tgt = row['reply']\n",
        "\n",
        "            # 한글 전처리\n",
        "            src = self.clean_text(src)\n",
        "            tgt = self.clean_text(tgt)\n",
        "\n",
        "            if len(src.split()) > min_length and len(tgt.split()) > min_length:\n",
        "                # 최소 길이를 넘어가는 문장의 단어만 추가\n",
        "                wordvocab.add_sentence(src)\n",
        "                wordvocab.add_sentence(tgt)\n",
        "                src_clean.append(src)\n",
        "                tgt_clean.append(tgt)\n",
        "\n",
        "        self.srcs = src_clean\n",
        "        self.tgts = tgt_clean\n",
        "        self.wordvocab = wordvocab\n",
        "\n",
        "    def clean_text(self, sentence):\n",
        "        # 형태소 처리\n",
        "        sentence = self.tagger.morphs(sentence)\n",
        "        sentence = ' '.join(sentence)\n",
        "        sentence = sentence.lower()\n",
        "        return sentence\n",
        "\n",
        "    def texts_to_sequences(self, sentence):\n",
        "        # 문장 -> 시퀀스로 변환\n",
        "        return [self.wordvocab.word2index[w] for w in sentence.split()]\n",
        "\n",
        "    def pad_sequence(self, sentence_tokens):\n",
        "        # 문장의 맨 끝 토큰은 제거\n",
        "        sentence_tokens = sentence_tokens[:(self.max_length-1)]\n",
        "        token_length = len(sentence_tokens)\n",
        "\n",
        "        # 문장의 맨 끝부분에 <EOS> 토큰 추가\n",
        "        sentence_tokens.append(self.EOS_TOKEN)\n",
        "\n",
        "        for i in range(token_length, (self.max_length-1)):\n",
        "            # 나머지 빈 곳에 <PAD> 토큰 추가\n",
        "            sentence_tokens.append(self.PAD_TOKEN)\n",
        "        return sentence_tokens\n",
        "\n",
        "    def __getitem__(self, idx):\n",
        "        inputs = self.srcs[idx]\n",
        "        inputs_sequences = self.texts_to_sequences(inputs)\n",
        "        inputs_padded = self.pad_sequence(inputs_sequences)\n",
        "\n",
        "        outputs = self.tgts[idx]\n",
        "        outputs_sequences = self.texts_to_sequences(outputs)\n",
        "        outputs_padded = self.pad_sequence(outputs_sequences)\n",
        "\n",
        "        return torch.tensor(inputs_padded), torch.tensor(outputs_padded)\n",
        "\n",
        "    def __len__(self):\n",
        "        return len(self.srcs)"
      ],
      "metadata": {
        "id": "qegB-fFUIiv9"
      },
      "execution_count": null,
      "outputs": []
    },
    {
      "cell_type": "code",
      "source": [
        "MAX_LENGTH = 32\n",
        "dataset = TextDataset(train, min_length=3, max_length=MAX_LENGTH)"
      ],
      "metadata": {
        "id": "IhZLpU7SIita"
      },
      "execution_count": null,
      "outputs": []
    },
    {
      "cell_type": "markdown",
      "source": [
        "## 데이터셋 분할(테스트 데이터 생성)"
      ],
      "metadata": {
        "id": "YP8KNO1CWOEJ"
      }
    },
    {
      "cell_type": "code",
      "source": [
        "# split_ratio = 0.2  # 테스트 데이터의 비율(20%)\n",
        "# split_index = int(len(train) * split_ratio)\n",
        "\n",
        "# test_data = train[:split_index] # 증강데이터가 없는 앞에서부터 20% 할당\n",
        "# train_data = train[split_index:]\n",
        "\n",
        "# len(test_data) , len(train_data)"
      ],
      "metadata": {
        "colab": {
          "base_uri": "https://localhost:8080/"
        },
        "id": "Z2EiR2WqVfHW",
        "outputId": "6991fd9d-0d92-4139-b24f-d482a9f8db41"
      },
      "execution_count": null,
      "outputs": [
        {
          "output_type": "execute_result",
          "data": {
            "text/plain": [
              "(3882, 15530)"
            ]
          },
          "metadata": {},
          "execution_count": 31
        }
      ]
    },
    {
      "cell_type": "code",
      "source": [
        "# train_dataset = TextDataset(train_data, min_length=3, max_length=MAX_LENGTH)\n",
        "# test_dataset = TextDataset(test_data, min_length=3, max_length=MAX_LENGTH)"
      ],
      "metadata": {
        "id": "i7d455-P4je9"
      },
      "execution_count": null,
      "outputs": []
    },
    {
      "cell_type": "code",
      "source": [
        "x, y = dataset[0]"
      ],
      "metadata": {
        "id": "OCwwT9WwIirO"
      },
      "execution_count": null,
      "outputs": []
    },
    {
      "cell_type": "code",
      "source": [
        "print(f'x shape: {x.shape}')\n",
        "print(x)"
      ],
      "metadata": {
        "colab": {
          "base_uri": "https://localhost:8080/"
        },
        "id": "7ueDgBziIioj",
        "outputId": "ac4b68a1-b8d3-4ded-b389-bae6f5de52f1"
      },
      "execution_count": null,
      "outputs": [
        {
          "output_type": "stream",
          "name": "stdout",
          "text": [
            "x shape: torch.Size([32])\n",
            "tensor([ 3,  4,  5,  6,  7,  8,  9, 10, 11, 12, 13, 14, 15, 16, 17, 18, 19, 20,\n",
            "        21, 22, 23, 24, 25, 26, 27, 28,  2,  0,  0,  0,  0,  0])\n"
          ]
        }
      ]
    },
    {
      "cell_type": "code",
      "source": [
        "print(f'y shape: {y.shape}')\n",
        "print(y)"
      ],
      "metadata": {
        "colab": {
          "base_uri": "https://localhost:8080/"
        },
        "id": "IwRayL07IimV",
        "outputId": "e848ae99-98f3-4adb-da23-259d2520a44a"
      },
      "execution_count": null,
      "outputs": [
        {
          "output_type": "stream",
          "name": "stdout",
          "text": [
            "y shape: torch.Size([32])\n",
            "tensor([29, 30, 31, 32, 33, 34, 35, 36, 37, 38, 39, 40, 41, 42, 43, 44, 45, 46,\n",
            "        47, 48, 49, 50, 51, 52, 53, 54, 55, 50, 56, 28,  2,  0])\n"
          ]
        }
      ]
    },
    {
      "cell_type": "code",
      "source": [
        "from torch.utils.data import random_split\n",
        "\n",
        "train_size = int(len(dataset) * 0.8) # 80%의 데이터를 train에 할당\n",
        "test_size = len(dataset) - train_size # 나머지 20% 데이터를 test에 할당\n",
        "print(train_size, test_size)\n",
        "train_dataset, test_dataset = random_split(dataset, [train_size, test_size]) # 랜덤 스플릿으로 분할"
      ],
      "metadata": {
        "colab": {
          "base_uri": "https://localhost:8080/"
        },
        "id": "K7BalXtMVfr9",
        "outputId": "f45a3351-41ef-43c3-c86b-5e476b9cc8fe"
      },
      "execution_count": null,
      "outputs": [
        {
          "output_type": "stream",
          "name": "stdout",
          "text": [
            "4932 1233\n"
          ]
        }
      ]
    },
    {
      "cell_type": "markdown",
      "source": [
        "# 데이터로더 만들기"
      ],
      "metadata": {
        "id": "nTlT-UZLVs4z"
      }
    },
    {
      "cell_type": "code",
      "source": [
        "from torch.utils.data import DataLoader, SubsetRandomSampler\n",
        "\n",
        "train_loader = DataLoader(train_dataset, batch_size=16, shuffle=True)\n",
        "test_loader = DataLoader(test_dataset, batch_size=16, shuffle=False)"
      ],
      "metadata": {
        "id": "VytG6MGDVtNj"
      },
      "execution_count": null,
      "outputs": []
    },
    {
      "cell_type": "code",
      "source": [
        "# 1개의 배치 데이터를 추출\n",
        "x, y = next(iter(train_loader))\n",
        "\n",
        "# shape: (batch_size, sequence_length)\n",
        "x.shape, y.shape"
      ],
      "metadata": {
        "colab": {
          "base_uri": "https://localhost:8080/"
        },
        "id": "OkT49hogVxTf",
        "outputId": "b275e8b2-58c1-4736-959a-d94531a4ce3b"
      },
      "execution_count": null,
      "outputs": [
        {
          "output_type": "execute_result",
          "data": {
            "text/plain": [
              "(torch.Size([16, 32]), torch.Size([16, 32]))"
            ]
          },
          "metadata": {},
          "execution_count": 36
        }
      ]
    },
    {
      "cell_type": "markdown",
      "source": [
        "# Encoder 만들기"
      ],
      "metadata": {
        "id": "y0p1uAoUWQ6K"
      }
    },
    {
      "cell_type": "code",
      "source": [
        "# class Encoder(nn.Module):\n",
        "#     def __init__(self, num_vocabs, hidden_size, embedding_dim, num_layers):\n",
        "#         super().__init__()\n",
        "\n",
        "#         # 단어 사전의 개수 지정\n",
        "#         self.num_vocabs = num_vocabs\n",
        "#         # 임베딩 레이어 정의 (number of vocabs, embedding dimension)\n",
        "#         self.embedding = nn.Embedding(num_vocabs, embedding_dim)\n",
        "#         # GRU (embedding dimension)\n",
        "#         self.gru = nn.GRU(embedding_dim,\n",
        "#                           hidden_size,\n",
        "#                           num_layers=num_layers,\n",
        "#                           bidirectional=False)\n",
        "\n",
        "#     def forward(self, x):\n",
        "#         x = self.embedding(x).permute(1, 0, 2)\n",
        "#         output, hidden = self.gru(x)\n",
        "#         return output, hidden"
      ],
      "metadata": {
        "id": "5O03VXXFVxSF"
      },
      "execution_count": null,
      "outputs": []
    },
    {
      "cell_type": "markdown",
      "source": [
        "# Decoder 만들기"
      ],
      "metadata": {
        "id": "WxbHG7JSWoSB"
      }
    },
    {
      "cell_type": "code",
      "source": [
        "class Decoder(nn.Module):\n",
        "    def __init__(self, num_vocabs, hidden_size, embedding_dim, num_layers=1, dropout=0.2):\n",
        "        super().__init__()\n",
        "        # 단어사전 개수\n",
        "        self.num_vocabs = num_vocabs\n",
        "        self.embedding = nn.Embedding(num_vocabs, embedding_dim)\n",
        "        self.dropout = nn.Dropout(dropout)\n",
        "        self.gru = nn.GRU(embedding_dim,\n",
        "                          hidden_size,\n",
        "                          num_layers=num_layers,\n",
        "                          bidirectional=False)\n",
        "\n",
        "        # 최종 출력은 단어사전의 개수\n",
        "        self.fc = nn.Linear(hidden_size, num_vocabs)\n",
        "\n",
        "    def forward(self, x, hidden_state):\n",
        "        x = x.unsqueeze(0) # (1, batch_size) 로 변환\n",
        "        embedded = F.relu(self.embedding(x))\n",
        "        embedded = self.dropout(embedded)\n",
        "        output, hidden = self.gru(embedded, hidden_state)\n",
        "        output = self.fc(output.squeeze(0)) # (sequence_length, batch_size, hidden_size(32) x bidirectional(1))\n",
        "        return output, hidden"
      ],
      "metadata": {
        "id": "e7WjdpnbVxAa"
      },
      "execution_count": null,
      "outputs": []
    },
    {
      "cell_type": "markdown",
      "source": [
        "# Chatbot 모델 만들기(Decoder만 활용한)"
      ],
      "metadata": {
        "id": "6DVytTGOUDhe"
      }
    },
    {
      "cell_type": "code",
      "source": [
        "class Chatbot(nn.Module):\n",
        "    def __init__(self, decoder, device):\n",
        "        super(Chatbot, self).__init__()\n",
        "        self.decoder = decoder\n",
        "        self.device = device\n",
        "\n",
        "    def forward(self, inputs, teacher_forcing_ratio=0.5):\n",
        "        batch_size, output_length = inputs.shape\n",
        "        output_num_vocabs = self.decoder.num_vocabs\n",
        "\n",
        "        predicted_outputs = torch.zeros(output_length, batch_size, output_num_vocabs).to(self.device)\n",
        "\n",
        "        decoder_input = torch.full((batch_size,), SOS_TOKEN, device=self.device)\n",
        "        decoder_hidden = None  # 초기 hidden state는 None으로 설정\n",
        "\n",
        "        for t in range(0, output_length):\n",
        "            decoder_output, decoder_hidden = self.decoder(decoder_input, decoder_hidden)\n",
        "            predicted_outputs[t] = decoder_output\n",
        "\n",
        "            teacher_force = random.random() < teacher_forcing_ratio\n",
        "            top1 = decoder_output.argmax(1)\n",
        "\n",
        "            decoder_input = top1\n",
        "\n",
        "        return predicted_outputs.permute(1, 0, 2)"
      ],
      "metadata": {
        "id": "Cr-SSDknUJNG"
      },
      "execution_count": null,
      "outputs": []
    },
    {
      "cell_type": "markdown",
      "source": [
        "# Seq2Seq 모델 만들기"
      ],
      "metadata": {
        "id": "YuJaLiSyXDUk"
      }
    },
    {
      "cell_type": "code",
      "source": [
        "# class Seq2Seq(nn.Module):\n",
        "#     def __init__(self, encoder, decoder, device):\n",
        "#         super(Seq2Seq, self).__init__()\n",
        "#         self.encoder = encoder\n",
        "#         self.decoder = decoder\n",
        "#         self.device = device\n",
        "\n",
        "#     def forward(self, inputs, outputs, teacher_forcing_ratio=0.5):\n",
        "#         # inputs : (batch_size, sequence_length)\n",
        "#         # outputs: (batch_size, sequence_length)\n",
        "\n",
        "#         batch_size, output_length = outputs.shape\n",
        "#         output_num_vocabs = self.decoder.num_vocabs\n",
        "\n",
        "#         # 리턴할 예측된 outputs를 저장할 임시 변수\n",
        "#         # (sequence_length, batch_size, num_vocabs)\n",
        "#         predicted_outputs = torch.zeros(output_length, batch_size, output_num_vocabs).to(self.device)\n",
        "\n",
        "#         # 인코더에 입력 데이터 주입, encoder_output은 버리고 hidden_state 만 살립니다.\n",
        "#         # 여기서 hidden_state가 디코더에 주입할 context vector 입니다.\n",
        "#         # (Bidirectional(1) x number of layers(1), batch_size, hidden_size)\n",
        "#         _, decoder_hidden = self.encoder(inputs)\n",
        "\n",
        "#         # (batch_size) shape의 SOS TOKEN으로 채워진 디코더 입력 생성\n",
        "#         decoder_input = torch.full((batch_size,), SOS_TOKEN, device=self.device)\n",
        "\n",
        "#         # 순회하면서 출력 단어를 생성합니다.\n",
        "#         # 0번째는 SOS TOKEN이 위치하므로, 1번째 인덱스부터 순회합니다.\n",
        "#         for t in range(0, output_length):\n",
        "#             # decoder_input : 디코더 입력 (batch_size) 형태의 SOS TOKEN로 채워진 입력\n",
        "#             # decoder_output: (batch_size, num_vocabs)\n",
        "#             # decoder_hidden: (Bidirectional(1) x number of layers(1), batch_size, hidden_size), context vector와 동일 shape\n",
        "#             decoder_output, decoder_hidden = self.decoder(decoder_input, decoder_hidden)\n",
        "\n",
        "#             # t번째 단어에 디코더의 output 저장\n",
        "#             predicted_outputs[t] = decoder_output\n",
        "\n",
        "#             # teacher forcing 적용 여부 확률로 결정\n",
        "#             # teacher forcing 이란: 정답치를 다음 RNN Cell의 입력으로 넣어주는 경우. 수렴속도가 빠를 수 있으나, 불안정할 수 있음\n",
        "#             teacher_force = random.random() < teacher_forcing_ratio\n",
        "\n",
        "#             # top1 단어 토큰 예측\n",
        "#             top1 = decoder_output.argmax(1)\n",
        "\n",
        "#             # teacher forcing 인 경우 ground truth 값을, 그렇지 않은 경우, 예측 값을 다음 input으로 지정\n",
        "#             decoder_input = outputs[:, t] if teacher_force else top1\n",
        "\n",
        "#         return predicted_outputs.permute(1, 0, 2) # (batch_size, sequence_length, num_vocabs)로 변경"
      ],
      "metadata": {
        "id": "_PytT7XtW-tM"
      },
      "execution_count": null,
      "outputs": []
    },
    {
      "cell_type": "code",
      "source": [
        "# Encoder 정의\n",
        "# encoder = Encoder(num_vocabs=dataset.wordvocab.n_words,\n",
        "#                        hidden_size=32,\n",
        "#                        embedding_dim=64,\n",
        "#                        num_layers=1)\n",
        "# Decoder 정의\n",
        "decoder = Decoder(num_vocabs=dataset.wordvocab.n_words,\n",
        "                       hidden_size=32,\n",
        "                       embedding_dim=64,\n",
        "                       num_layers=1)\n",
        "# Chatbot 정의\n",
        "chatbot = Chatbot(decoder, 'cpu')\n",
        "\n",
        "# Seq2Seq 정의\n",
        "# seq2seq = Seq2Seq(encoder, decoder, 'cpu')"
      ],
      "metadata": {
        "id": "xpvgCZhiW-qs"
      },
      "execution_count": null,
      "outputs": []
    },
    {
      "cell_type": "code",
      "source": [
        "x, y = next(iter(train_loader))\n",
        "print(x.shape, y.shape)\n",
        "# (batch_size, sequence_length), (batch_size, sequence_length)"
      ],
      "metadata": {
        "colab": {
          "base_uri": "https://localhost:8080/"
        },
        "id": "M8DrPCgVW-oF",
        "outputId": "e15dfe79-ed74-4891-bfcf-2919c3996888"
      },
      "execution_count": null,
      "outputs": [
        {
          "output_type": "stream",
          "name": "stdout",
          "text": [
            "torch.Size([16, 32]) torch.Size([16, 32])\n"
          ]
        }
      ]
    },
    {
      "cell_type": "code",
      "source": [
        "output = seq2seq(x, y)\n",
        "print(output.shape)\n",
        "# (batch_size, sequence_length, num_vocabs)"
      ],
      "metadata": {
        "colab": {
          "base_uri": "https://localhost:8080/"
        },
        "id": "2J4N_X2rW-lz",
        "outputId": "4d10dfff-2133-4556-db24-941404b6719e"
      },
      "execution_count": null,
      "outputs": [
        {
          "output_type": "stream",
          "name": "stdout",
          "text": [
            "torch.Size([16, 32, 18747])\n"
          ]
        }
      ]
    },
    {
      "cell_type": "markdown",
      "source": [
        "## 모델 확인"
      ],
      "metadata": {
        "id": "xhHarWD6XUT_"
      }
    },
    {
      "cell_type": "code",
      "source": [
        "NUM_VOCABS = dataset.wordvocab.n_words\n",
        "HIDDEN_SIZE = 512\n",
        "EMBEDDIMG_DIM = 256\n",
        "\n",
        "print(f'num_vocabs: {NUM_VOCABS}\\n======================')\n",
        "\n",
        "# Encoder 정의\n",
        "# encoder = Encoder(num_vocabs=NUM_VOCABS,\n",
        "#                   hidden_size=HIDDEN_SIZE,\n",
        "#                   embedding_dim=EMBEDDIMG_DIM,\n",
        "#                   num_layers=1)\n",
        "# Decoder 정의\n",
        "decoder = Decoder(num_vocabs=NUM_VOCABS,\n",
        "                  hidden_size=HIDDEN_SIZE,\n",
        "                  embedding_dim=EMBEDDIMG_DIM,\n",
        "                  num_layers=1)\n",
        "# Chatbot 정의\n",
        "model = Chatbot(decoder, 'cpu')\n",
        "\n",
        "# Seq2Seq 생성\n",
        "# encoder, decoder를 device 모두 지정\n",
        "# model = Seq2Seq(encoder.to(device), decoder.to(device), device)\n",
        "print(model)"
      ],
      "metadata": {
        "colab": {
          "base_uri": "https://localhost:8080/"
        },
        "id": "Jyuw1zgTW-jh",
        "outputId": "39717317-b6e4-4c30-d7fe-542172d90b45"
      },
      "execution_count": null,
      "outputs": [
        {
          "output_type": "stream",
          "name": "stdout",
          "text": [
            "num_vocabs: 18747\n",
            "======================\n",
            "Chatbot(\n",
            "  (decoder): Decoder(\n",
            "    (embedding): Embedding(18747, 256)\n",
            "    (dropout): Dropout(p=0.2, inplace=False)\n",
            "    (gru): GRU(256, 512)\n",
            "    (fc): Linear(in_features=512, out_features=18747, bias=True)\n",
            "  )\n",
            ")\n"
          ]
        }
      ]
    },
    {
      "cell_type": "markdown",
      "source": [
        "# 하이퍼파라미터 정의"
      ],
      "metadata": {
        "id": "EaBwVfIzXm-s"
      }
    },
    {
      "cell_type": "code",
      "source": [
        "class EarlyStopping:\n",
        "    def __init__(self, patience=3, delta=0.0, mode='min', verbose=True):\n",
        "        \"\"\"\n",
        "        patience (int): loss or score가 개선된 후 기다리는 기간. default: 3\n",
        "        delta  (float): 개선시 인정되는 최소 변화 수치. default: 0.0\n",
        "        mode     (str): 개선시 최소/최대값 기준 선정('min' or 'max'). default: 'min'.\n",
        "        verbose (bool): 메시지 출력. default: True\n",
        "        \"\"\"\n",
        "        self.early_stop = False\n",
        "        self.patience = patience\n",
        "        self.verbose = verbose\n",
        "        self.counter = 0\n",
        "\n",
        "        self.best_score = np.Inf if mode == 'min' else 0\n",
        "        self.mode = mode\n",
        "        self.delta = delta\n",
        "\n",
        "\n",
        "    def __call__(self, score):\n",
        "\n",
        "        if self.best_score is None:\n",
        "            self.best_score = score\n",
        "            self.counter = 0\n",
        "        elif self.mode == 'min':\n",
        "            if score < (self.best_score - self.delta):\n",
        "                self.counter = 0\n",
        "                self.best_score = score\n",
        "                if self.verbose:\n",
        "                    print(f'[EarlyStopping] (Update) Best Score: {self.best_score:.5f}')\n",
        "            else:\n",
        "                self.counter += 1\n",
        "                if self.verbose:\n",
        "                    print(f'[EarlyStopping] (Patience) {self.counter}/{self.patience}, ' \\\n",
        "                          f'Best: {self.best_score:.5f}' \\\n",
        "                          f', Current: {score:.5f}, Delta: {np.abs(self.best_score - score):.5f}')\n",
        "\n",
        "        elif self.mode == 'max':\n",
        "            if score > (self.best_score + self.delta):\n",
        "                self.counter = 0\n",
        "                self.best_score = score\n",
        "                if self.verbose:\n",
        "                    print(f'[EarlyStopping] (Update) Best Score: {self.best_score:.5f}')\n",
        "            else:\n",
        "                self.counter += 1\n",
        "                if self.verbose:\n",
        "                    print(f'[EarlyStopping] (Patience) {self.counter}/{self.patience}, ' \\\n",
        "                          f'Best: {self.best_score:.5f}' \\\n",
        "                          f', Current: {score:.5f}, Delta: {np.abs(self.best_score - score):.5f}')\n",
        "\n",
        "\n",
        "        if self.counter >= self.patience:\n",
        "            if self.verbose:\n",
        "                print(f'[EarlyStop Triggered] Best Score: {self.best_score:.5f}')\n",
        "            # Early Stop\n",
        "            self.early_stop = True\n",
        "        else:\n",
        "            # Continue\n",
        "            self.early_stop = False"
      ],
      "metadata": {
        "id": "KKNqhiB1W-hS"
      },
      "execution_count": null,
      "outputs": []
    },
    {
      "cell_type": "code",
      "source": [
        "LR = 1e-3\n",
        "optimizer = optim.Adam(model.parameters(), lr=LR)\n",
        "loss_fn = nn.CrossEntropyLoss()\n",
        "es = EarlyStopping(patience=5, delta=0.001, mode='min', verbose=True)\n",
        "scheduler = optim.lr_scheduler.ReduceLROnPlateau(optimizer, mode='min', factor=0.5, patience=2, threshold_mode='abs', min_lr=1e-8, verbose=True)"
      ],
      "metadata": {
        "id": "cyJi-J-sW-ee"
      },
      "execution_count": null,
      "outputs": []
    },
    {
      "cell_type": "markdown",
      "source": [
        "# 학습 loop 만들기"
      ],
      "metadata": {
        "id": "1Ql0nXlWYCyi"
      }
    },
    {
      "cell_type": "code",
      "source": [
        "def train(model, data_loader, optimizer, loss_fn, device):\n",
        "    model.train()\n",
        "    running_loss = 0\n",
        "\n",
        "    for x, y in data_loader:\n",
        "        x, y = x.to(device), y.to(device)\n",
        "\n",
        "        optimizer.zero_grad()\n",
        "\n",
        "        # output: (batch_size, sequence_length, num_vocabs)\n",
        "        output = model(x, y)\n",
        "        output_dim = output.size(2)\n",
        "\n",
        "        # 1번 index 부터 슬라이싱한 이유는 0번 index가 SOS TOKEN 이기 때문\n",
        "        # (batch_size*sequence_length, num_vocabs) 로 변경\n",
        "        output = output.reshape(-1, output_dim)\n",
        "\n",
        "        # (batch_size*sequence_length) 로 변경\n",
        "        y = y.view(-1)\n",
        "\n",
        "        # Loss 계산\n",
        "        loss = loss_fn(output, y)\n",
        "        loss.backward()\n",
        "        optimizer.step()\n",
        "\n",
        "        running_loss += loss.item() * x.size(0)\n",
        "\n",
        "    return running_loss / len(data_loader)"
      ],
      "metadata": {
        "id": "8kpqXIFzVw7x"
      },
      "execution_count": null,
      "outputs": []
    },
    {
      "cell_type": "code",
      "source": [
        "def evaluate(model, data_loader, loss_fn, device):\n",
        "    model.eval()\n",
        "\n",
        "    eval_loss = 0\n",
        "\n",
        "    with torch.no_grad():\n",
        "        for x, y in data_loader:\n",
        "            x, y = x.to(device), y.to(device)\n",
        "            output = model(x, y)\n",
        "            output_dim = output.size(2)\n",
        "            output = output.reshape(-1, output_dim)\n",
        "            y = y.view(-1)\n",
        "\n",
        "            # Loss 계산\n",
        "            loss = loss_fn(output, y)\n",
        "\n",
        "            eval_loss += loss.item() * x.size(0)\n",
        "\n",
        "    return eval_loss / len(data_loader)"
      ],
      "metadata": {
        "id": "GMSKIYG_YCNa"
      },
      "execution_count": null,
      "outputs": []
    },
    {
      "cell_type": "markdown",
      "source": [
        "# 추론 함수"
      ],
      "metadata": {
        "id": "DdudDwwdYRiR"
      }
    },
    {
      "cell_type": "code",
      "source": [
        "def sequence_to_sentence(sequences, index2word):\n",
        "    outputs = []\n",
        "    for p in sequences:\n",
        "\n",
        "        word = index2word[p]\n",
        "        if p not in [SOS_TOKEN, EOS_TOKEN, PAD_TOKEN]:\n",
        "            outputs.append(word)\n",
        "        if word == EOS_TOKEN:\n",
        "            break\n",
        "    return ' '.join(outputs)"
      ],
      "metadata": {
        "id": "H0YOB9zbYCKs"
      },
      "execution_count": null,
      "outputs": []
    },
    {
      "cell_type": "markdown",
      "source": [
        "# 테스트 loop 만들기\n",
        "- 챗봇 함수화"
      ],
      "metadata": {
        "id": "GLiga1pBYKCX"
      }
    },
    {
      "cell_type": "code",
      "source": [
        "# 전체 예측값을 데이터프레임 형식에 담기\n",
        "def random_evaluation(model, dataset, index2word, device, n=10):\n",
        "\n",
        "    n_samples = len(dataset)\n",
        "    indices = list(range(n_samples))\n",
        "    np.random.shuffle(indices)      # Shuffle\n",
        "    sampled_indices = indices[:n]   # Sampling N indices\n",
        "\n",
        "    # 샘플링한 데이터를 기반으로 DataLoader 생성\n",
        "    sampler = SubsetRandomSampler(sampled_indices)\n",
        "    sampled_dataloader = DataLoader(dataset, batch_size=10, sampler=sampler)\n",
        "\n",
        "    model.eval()\n",
        "    with torch.no_grad():\n",
        "        for x, y in sampled_dataloader:\n",
        "            x, y = x.to(device), y.to(device)\n",
        "            output = model(x, y, teacher_forcing_ratio=0)\n",
        "            # output: (number of samples, sequence_length, num_vocabs)\n",
        "\n",
        "            preds = output.detach().cpu().numpy()\n",
        "            x = x.detach().cpu().numpy()\n",
        "            y = y.detach().cpu().numpy()\n",
        "\n",
        "            data = {'test_review': [], 'chatbot_reply': []}\n",
        "            for i in range(n_samples):\n",
        "                x_result = sequence_to_sentence(x[i], index2word)\n",
        "                y_result = sequence_to_sentence(y[i], index2word)\n",
        "                pred_result = sequence_to_sentence(preds[i].argmax(1), index2word)\n",
        "                pred_result_correct = paraphrase_text(pred_result)\n",
        "                data['test_review'].append(x_result)\n",
        "                data['chatbot_reply'].append(pred_result_correct)\n",
        "\n",
        "    df = pd.DataFrame(data)\n",
        "    print(df)"
      ],
      "metadata": {
        "id": "_jSoWiaDdgvi"
      },
      "execution_count": null,
      "outputs": []
    },
    {
      "cell_type": "code",
      "source": [
        "from nltk.translate.bleu_score import sentence_bleu\n",
        "\n",
        "def calculate_bleu(text, generated_text):\n",
        "    y = [text]  # 실제 데이터 y\n",
        "    X = generated_text  # 생성된 텍스트 X\n",
        "\n",
        "    # BLEU 점수 계산\n",
        "    bleu_score = sentence_bleu(y, X)\n",
        "    return bleu_score"
      ],
      "metadata": {
        "id": "biYWFlxxX_8T"
      },
      "execution_count": null,
      "outputs": []
    },
    {
      "cell_type": "code",
      "source": [
        "from transformers import pipeline\n",
        "pipe = pipeline(\"text2text-generation\", model=\"lcw99/t5-base-korean-paraphrase\")\n",
        "\n",
        "def paraphrase_text(text):\n",
        "    generated_text = pipe(text, max_length=128, early_stopping=True,\n",
        "                          num_beams=4,\n",
        "                          num_return_sequences=1,\n",
        "                          no_repeat_ngram_size=4,\n",
        "                          top_k=5,\n",
        "                          top_p=0.95)\n",
        "    generated_text = generated_text[0]['generated_text']\n",
        "    return generated_text"
      ],
      "metadata": {
        "id": "X1OobMznfeUk",
        "colab": {
          "base_uri": "https://localhost:8080/",
          "height": 177,
          "referenced_widgets": [
            "99d06a72ac2445ecaf1404b585991431",
            "ead914b8fe854c488dd231dd7842ae35",
            "080d6642a323407d967d63b89b0d446a",
            "81133ed7da9242bc83f44702e1cdc38d",
            "14e2d193ef194a5b88254e1f885c4c80",
            "6ec52e114bd04fb997fc051587876957",
            "9d236d28a6f8479d83e6cfeedbc9ab33",
            "5ea621da54b046bb8e648deb4e3a63a3",
            "8d1d3dac575d406b9158b6960c503f08",
            "dcbc7a2b256b4de6bed13246d2d48106",
            "6084adf4f605446f99894a45181ca655",
            "7ad45f4b528d4ba9a6182d9693125ab9",
            "159b9d05c3924cdfa4812e44e6a533fe",
            "8aae93c64cde41d0ae1638115877fe64",
            "a18869428b354dc78eb9bbfcf7c0ef32",
            "2b2faa551e9042d49118379e29d05f3d",
            "b5069eac2f4e4ba9810ff6316e752e4b",
            "9f28204eb8e44bba8c01f251c52f9f0b",
            "fe711bf838424e3fbaed5c42ac6578b1",
            "e3d24738757a4a6e84202e2741a2ce8b",
            "ef8a14d281fe4cb5ae3259d0b24824eb",
            "0ad993b5ca26412d82ae65e280045917",
            "0a73e464b88d49d3923901a8c1a7697e",
            "b6ca7e21a23b4dc6afa6abbb96040a34",
            "0297664ede104ee0bf3292ddf5552d37",
            "3a75568de12f4032930163082581b101",
            "a6a4817ffa24466db46d0d11b3982185",
            "3010e2bf66e54cf6bf13ef83da78d091",
            "143bc1494fcb43c1b81c2e9498049e91",
            "90cc2832881b42fab59a3d2c92455952",
            "db18ff29f30a44b7935f94e9e1861276",
            "c60b2225894740899a5063d5415e907d",
            "6c7ef941e8b14f82bcf442383d17fd06",
            "1d8e955912a2400e9d1a9df16bf7e143",
            "2452e3b9bf014587922030d4f92ba1ab",
            "68346af9ad8a450d8c0a8fca04c19e46",
            "1d21bbb869b2422e85a458309976eed3",
            "cf0f262577364fec9c927e14a906788e",
            "7acb3fa3bc90433bb95afc3402ab68e4",
            "121859dc76244bdaaf00110257d90dc5",
            "c19f66e53e7a4d38871b087b551ec183",
            "753289e5c3ea491894a638f021677d80",
            "a57994a749084e46b6d667955a7fc62d",
            "14028785f4bd44ebaed080ed6fd51574",
            "c609dd95bc5d4ec195165f969ae7a9c0",
            "4d0ffedc901344c3bce9a1410027bf35",
            "e7edcc5a55084f15b2caf4a698ff24a9",
            "357c6234076e413bafb35f4e23f63c8e",
            "b423c70c8030416d8a60451e2ba4f8ca",
            "e222727ac5f74e9fbc7787a8fda3a2f4",
            "8b78f2a03dbe4c1ea5b5e71eb9153505",
            "879520863dc74c1b80881693de23aa36",
            "53830fe65fe2475cba883481e9de8708",
            "fc4539444395466582e2375011c0a752",
            "46bdae269bdd405296c3e5d019f72848"
          ]
        },
        "outputId": "c5bbcb2b-dd3b-47c6-eac5-046a76fb56db"
      },
      "execution_count": null,
      "outputs": [
        {
          "output_type": "display_data",
          "data": {
            "text/plain": [
              "Downloading (…)lve/main/config.json:   0%|          | 0.00/790 [00:00<?, ?B/s]"
            ],
            "application/vnd.jupyter.widget-view+json": {
              "version_major": 2,
              "version_minor": 0,
              "model_id": "99d06a72ac2445ecaf1404b585991431"
            }
          },
          "metadata": {}
        },
        {
          "output_type": "display_data",
          "data": {
            "text/plain": [
              "Downloading model.safetensors:   0%|          | 0.00/1.10G [00:00<?, ?B/s]"
            ],
            "application/vnd.jupyter.widget-view+json": {
              "version_major": 2,
              "version_minor": 0,
              "model_id": "7ad45f4b528d4ba9a6182d9693125ab9"
            }
          },
          "metadata": {}
        },
        {
          "output_type": "display_data",
          "data": {
            "text/plain": [
              "Downloading (…)okenizer_config.json:   0%|          | 0.00/2.40k [00:00<?, ?B/s]"
            ],
            "application/vnd.jupyter.widget-view+json": {
              "version_major": 2,
              "version_minor": 0,
              "model_id": "0a73e464b88d49d3923901a8c1a7697e"
            }
          },
          "metadata": {}
        },
        {
          "output_type": "display_data",
          "data": {
            "text/plain": [
              "Downloading (…)/main/tokenizer.json:   0%|          | 0.00/2.92M [00:00<?, ?B/s]"
            ],
            "application/vnd.jupyter.widget-view+json": {
              "version_major": 2,
              "version_minor": 0,
              "model_id": "1d8e955912a2400e9d1a9df16bf7e143"
            }
          },
          "metadata": {}
        },
        {
          "output_type": "display_data",
          "data": {
            "text/plain": [
              "Downloading (…)cial_tokens_map.json:   0%|          | 0.00/2.20k [00:00<?, ?B/s]"
            ],
            "application/vnd.jupyter.widget-view+json": {
              "version_major": 2,
              "version_minor": 0,
              "model_id": "c609dd95bc5d4ec195165f969ae7a9c0"
            }
          },
          "metadata": {}
        }
      ]
    },
    {
      "cell_type": "code",
      "source": [
        "# 10개만 보기\n",
        "def random_evaluation_10(model, dataset, index2word, device, n=10):\n",
        "\n",
        "    n_samples = len(dataset)\n",
        "    indices = list(range(n_samples))\n",
        "    np.random.shuffle(indices)      # Shuffle\n",
        "    sampled_indices = indices[:n]   # Sampling N indices\n",
        "\n",
        "    # 샘플링한 데이터를 기반으로 DataLoader 생성\n",
        "    sampler = SubsetRandomSampler(sampled_indices)\n",
        "    sampled_dataloader = DataLoader(dataset, batch_size=10, sampler=sampler)\n",
        "\n",
        "    model.eval()\n",
        "    with torch.no_grad():\n",
        "        for x, y in sampled_dataloader:\n",
        "            x, y = x.to(device), y.to(device)\n",
        "            output = model(x, y) # , teacher_forcing_ratio=0\n",
        "            # output: (number of samples, sequence_length, num_vocabs)\n",
        "\n",
        "            preds = output.detach().cpu().numpy()\n",
        "            x = x.detach().cpu().numpy()\n",
        "            y = y.detach().cpu().numpy()\n",
        "\n",
        "            for i in range(n):\n",
        "                result_review = sequence_to_sentence(x[i], index2word)\n",
        "                result_reply = sequence_to_sentence(y[i], index2word)\n",
        "                result_pred = sequence_to_sentence(preds[i].argmax(1), index2word)\n",
        "                print(f'리뷰    : {result_review}')\n",
        "                print(f'답변    : {result_reply}')\n",
        "                print(f'예측답변: {paraphrase_text(result_pred)}') # paraphrased text 반환\n",
        "                print(f'BLEU점수: {calculate_bleu(result_reply, result_pred)}')\n",
        "                print('==='*10)"
      ],
      "metadata": {
        "id": "AvWzcUC5YCH-"
      },
      "execution_count": null,
      "outputs": []
    },
    {
      "cell_type": "markdown",
      "source": [
        "# 학습하기"
      ],
      "metadata": {
        "id": "5GY8zZX4clM0"
      }
    },
    {
      "cell_type": "code",
      "source": [
        "# yogiyo_paraphrase\n",
        "NUM_EPOCHS = 30\n",
        "STATEDICT_PATH = '/content/drive/MyDrive/project_final/data/models/yogiyo_0905_over_decoder.pt'\n",
        "\n",
        "best_loss = np.inf\n",
        "\n",
        "for epoch in tqdm(range(NUM_EPOCHS), total=NUM_EPOCHS):\n",
        "    loss = train(model, train_loader, optimizer, loss_fn, device)\n",
        "\n",
        "    val_loss = evaluate(model, test_loader, loss_fn, device)\n",
        "\n",
        "    if val_loss < best_loss:\n",
        "        best_loss = val_loss\n",
        "        torch.save(model.state_dict(), STATEDICT_PATH)\n",
        "\n",
        "    if epoch % 5 == 0:\n",
        "        print(f'epoch: {epoch+1}, loss: {loss:.4f}, val_loss: {val_loss:.4f}')\n",
        "\n",
        "    # Early Stop\n",
        "    es(loss)\n",
        "    if es.early_stop:\n",
        "        break\n",
        "\n",
        "    # Scheduler\n",
        "    scheduler.step(val_loss)\n",
        "\n",
        "model.load_state_dict(torch.load(STATEDICT_PATH))\n",
        "torch.save(model.state_dict(), f'/content/drive/MyDrive/project_final/data/models/yogiyo_0905_over_decoder{best_loss:.4f}.pt')"
      ],
      "metadata": {
        "colab": {
          "base_uri": "https://localhost:8080/",
          "height": 875,
          "referenced_widgets": [
            "b582339e6aeb4da6b59256d728375c63",
            "ce37c6ffb6d74a58b0fc0f77cda36115",
            "659754e999d944b1b117f5d2e52a6760",
            "196aa4f72fd24071959c8c41a2789f5b",
            "99a021b6909c4cc99e089bda10e32c37",
            "a966eb77a97144549ab9deaa5e758da7",
            "61da463161e1448cbd57dd81a1cd77a9",
            "4aaa110d2c984f96a9adf43157d2626d",
            "fb44ae8e993d40b69aa03dbdd9d9157d",
            "c63d1afcf29946e19c6d81460bd422f0",
            "5c3c824ed0e740f09acc4b058514f31f"
          ]
        },
        "id": "bcyiSqKYZKXT",
        "outputId": "024d80fa-555c-49ad-a51b-ffc03bbfb52c"
      },
      "execution_count": null,
      "outputs": [
        {
          "output_type": "display_data",
          "data": {
            "text/plain": [
              "  0%|          | 0/30 [00:00<?, ?it/s]"
            ],
            "application/vnd.jupyter.widget-view+json": {
              "version_major": 2,
              "version_minor": 0,
              "model_id": "b582339e6aeb4da6b59256d728375c63"
            }
          },
          "metadata": {}
        },
        {
          "output_type": "stream",
          "name": "stdout",
          "text": [
            "epoch: 1, loss: 93.8399, val_loss: 89.7926\n",
            "[EarlyStopping] (Update) Best Score: 93.83988\n",
            "[EarlyStopping] (Update) Best Score: 89.58815\n",
            "[EarlyStopping] (Update) Best Score: 88.93043\n",
            "[EarlyStopping] (Update) Best Score: 88.48293\n",
            "Epoch 00004: reducing learning rate of group 0 to 5.0000e-04.\n",
            "[EarlyStopping] (Update) Best Score: 87.39620\n",
            "epoch: 6, loss: 87.0930, val_loss: 89.7522\n",
            "[EarlyStopping] (Update) Best Score: 87.09302\n",
            "[EarlyStopping] (Update) Best Score: 86.87312\n",
            "[EarlyStopping] (Update) Best Score: 86.64477\n",
            "Epoch 00008: reducing learning rate of group 0 to 2.5000e-04.\n",
            "[EarlyStopping] (Update) Best Score: 85.95448\n",
            "[EarlyStopping] (Update) Best Score: 85.77501\n",
            "epoch: 11, loss: 85.6742, val_loss: 90.2232\n",
            "[EarlyStopping] (Update) Best Score: 85.67415\n",
            "Epoch 00011: reducing learning rate of group 0 to 1.2500e-04.\n",
            "[EarlyStopping] (Update) Best Score: 85.23833\n",
            "[EarlyStopping] (Update) Best Score: 85.15209\n",
            "[EarlyStopping] (Update) Best Score: 85.08227\n",
            "Epoch 00014: reducing learning rate of group 0 to 6.2500e-05.\n",
            "[EarlyStopping] (Update) Best Score: 84.84857\n",
            "epoch: 16, loss: 84.8083, val_loss: 90.5316\n",
            "[EarlyStopping] (Update) Best Score: 84.80830\n",
            "[EarlyStopping] (Update) Best Score: 84.76887\n",
            "Epoch 00017: reducing learning rate of group 0 to 3.1250e-05.\n",
            "[EarlyStopping] (Update) Best Score: 84.64291\n",
            "[EarlyStopping] (Update) Best Score: 84.62471\n",
            "[EarlyStopping] (Update) Best Score: 84.60303\n",
            "Epoch 00020: reducing learning rate of group 0 to 1.5625e-05.\n",
            "epoch: 21, loss: 84.5375, val_loss: 90.7354\n",
            "[EarlyStopping] (Update) Best Score: 84.53751\n",
            "[EarlyStopping] (Update) Best Score: 84.52255\n",
            "[EarlyStopping] (Update) Best Score: 84.51938\n",
            "Epoch 00023: reducing learning rate of group 0 to 7.8125e-06.\n",
            "[EarlyStopping] (Update) Best Score: 84.48421\n",
            "[EarlyStopping] (Update) Best Score: 84.48169\n",
            "epoch: 26, loss: 84.4732, val_loss: 90.8154\n",
            "[EarlyStopping] (Update) Best Score: 84.47319\n",
            "Epoch 00026: reducing learning rate of group 0 to 3.9063e-06.\n",
            "[EarlyStopping] (Update) Best Score: 84.45461\n",
            "[EarlyStopping] (Update) Best Score: 84.45193\n",
            "[EarlyStopping] (Update) Best Score: 84.44832\n",
            "Epoch 00029: reducing learning rate of group 0 to 1.9531e-06.\n",
            "[EarlyStopping] (Update) Best Score: 84.44254\n"
          ]
        }
      ]
    },
    {
      "cell_type": "markdown",
      "source": [
        "# 결과 확인하기"
      ],
      "metadata": {
        "id": "z6dqkRwEa8qL"
      }
    },
    {
      "cell_type": "code",
      "source": [
        "# 0905 데이터 + over + 긍부정 비율 2:1 + 에폭 30 + paraphrase + Decoder만 활용\n",
        "STATEDICT_PATH = '/content/drive/MyDrive/project_final/data/models/yogiyo_0905_over_decoder.pt'\n",
        "model.load_state_dict(torch.load(STATEDICT_PATH))\n",
        "random_evaluation_10(model, test_dataset, dataset.wordvocab.index2word, device)"
      ],
      "metadata": {
        "colab": {
          "base_uri": "https://localhost:8080/"
        },
        "id": "vF51FyWAWlLX",
        "outputId": "5a99e570-5253-4096-f1db-5735fd83ce6c"
      },
      "execution_count": null,
      "outputs": [
        {
          "output_type": "stream",
          "name": "stdout",
          "text": [
            "리뷰    : 역시 명성 답 네 요\n",
            "답변    : 7 글자 로 감동 시키시다니 감사 드립니다 감동 신 메뉴 3 종 출시 되었으니 앞 으로도 많은 애용 부탁드립니당 맛있게 드셔주셔서 감사 드립니다 다음 에 또 뵙겠 습 니당\n",
            "예측답변: 님 안녕하세요 감사합니다 선생님 감사합니다\n",
            "BLEU점수: 0.027290787945070196\n",
            "==============================\n",
            "리뷰    : 포테이토 피자 맛있네요 스파게티 에 페퍼로니 토핑 있던데 맛있어서 담 에 페퍼로니 시켜 먹어 볼 생각 입니다 맛있게 잘 먹었습니다\n",
            "답변    : 맛있게 드셨나요 페퍼로니 도 저희 클래식 라인 중 가장 잘 나가는 베스트 메뉴 입니 닷 믿고 찾아주셔요 그럼 오늘 도 즐거운 주말 되셔용 앞 으로도 저희 에게 믿고 맡겨만 주세요 진심\n",
            "예측답변: 님 안녕하세요 감사합니다 선생님 감사합니다\n",
            "BLEU점수: 2.3728316328467424e-79\n",
            "==============================\n",
            "리뷰    : 늦은 시간 인데 배달 해주셔 맛있게 잘 먹었습니다 감사합니다\n",
            "답변    : 소중한 리뷰 정말 감사 드립니다 언제 든지 시켜주시면 맛있게 만들어서 보내 드릴 게 용\n",
            "예측답변: 님 안녕하세요 감사합니다 선생님 감사합니다\n",
            "BLEU점수: 1.7236362488011933e-78\n",
            "==============================\n",
            "리뷰    : 밑반찬 도 맛있고 오징어 도 많이 들었습니다 좋아요\n",
            "답변    : 만족하신것 같아 뿌듯하네요 소중한 리뷰 감사 드립니다 늘 좋은 식 자재 와 좋은 재료 로 더 맛있는 음식 더 빠르게 전달 해드리도록 노력 하겠습니다 매운 음식 생각나실 때 에 또 찾아주세요\n",
            "예측답변: 님 안녕하세요 감사합니다 선생님 감사합니다\n",
            "BLEU점수: 4.462762068964056e-79\n",
            "==============================\n",
            "리뷰    : 너무 맛있게 잘 먹었습니다\n",
            "답변    : 맛있다는 말 늘 채고 칭찬 도 리뷰 도 감사합니다\n",
            "예측답변: 님 안녕하세요 감사합니다 선생님 감사합니다\n",
            "BLEU점수: 0.1645494395423276\n",
            "==============================\n",
            "리뷰    : 넘 맛있게 잘 먹었어요\n",
            "답변    : 안녕하세요 맛있게 드셨다니 너무 감사합니다 다음 에도 더욱더 맛있는 전달 드리도록 하겠습니다\n",
            "예측답변: 님 안녕하세요 감사합니다 선생님 감사합니다\n",
            "BLEU점수: 0.20666201362502645\n",
            "==============================\n",
            "리뷰    : 새로운 브랜드 치킨 이 치킨 업계 의 최강 자로 떠오른 가운데 출시 된 것 은 짱 닭 치킨 입니다 .\n",
            "답변    : 고객 님 께 부족한 양념 을 많이 제공 해 드려서 죄송합니다 다음 에는 더 좋은 요리 로 찾아 뵙겠습니다 감사합니다\n",
            "예측답변: 님 안녕하세요 감사합니다 선생님 감사합니다\n",
            "BLEU점수: 0.13078918418205848\n",
            "==============================\n",
            "리뷰    : 매콤 하고 아 삭 한 콩나물 볶음밥 까지 해서 배부르게 잘 먹었어요 요 기요 에서 최고 단골 집 입니다\n",
            "답변    : 드셨다니 정말 저희 음식 을 알차게 드신 것 같아 저희 가 무척 이나 뿌듯합니다 저희 가 고객 님 의 최고 단골 이라니 더욱 맛있는 음식 으로 찾아 뵐 수 있도록 더욱\n",
            "예측답변: 님 안녕하세요 감사합니다 선생님 감사합니다\n",
            "BLEU점수: 0.019268397870386724\n",
            "==============================\n",
            "리뷰    : 맛있어서 쓰는 리뷰 된장찌개 보단 김치찌개 파라 고기 없는 된 찌는 쳐다도 안 보는데 요 멸치 된장 죽은 너무 맛있어요 늘 소금 간 해서 씨 간장 조리 는 첨 이었는데 요것\n",
            "답변    : 저희 항정살 에 죽밥 까지 맛있게 잘 드시고 세 세한 고 힘나는 칭찬 주셔서 너무 기쁩니다 소중한 리뷰 와 저희 에게 큰 힘 이 되는 좋은 평가 까지 남겨 주셔서 정말\n",
            "예측답변: 님 안녕하세요 감사합니다 선생님 감사합니다\n",
            "BLEU점수: 3.035788422565731e-79\n",
            "==============================\n",
            "리뷰    : 유일하게 찜 하고 먹는 피자 집 인데 오늘 실망 입니다 피자 가 식어 치즈 가 굳어있고 그래서 짠맛 이 많이 느껴져요 더 저렴한 피자 빡세 게 말 하면 퀄 좋은 냉동\n",
            "답변    : 실망 하셨다니 죄송합니다 저희 가 더 신경 을 썼어야 됬는데 드릴 말씀 이 없네요 앞 으로 더욱더 신경 쓰도록 하겠습니다 감사합니다\n",
            "예측답변: 님 안녕하세요 감사합니다 선생님 감사합니다\n",
            "BLEU점수: 0.09582122287391501\n",
            "==============================\n"
          ]
        }
      ]
    },
    {
      "cell_type": "code",
      "source": [
        "# 0905 데이터 + over + 긍부정 비율 2:1 + 에폭 30 + paraphrase\n",
        "STATEDICT_PATH = '/content/drive/MyDrive/project_final/data/models/yogiyo_0905_over.pt'\n",
        "model.load_state_dict(torch.load(STATEDICT_PATH))\n",
        "random_evaluation_10(model, test_dataset, dataset.wordvocab.index2word, device)"
      ],
      "metadata": {
        "colab": {
          "base_uri": "https://localhost:8080/"
        },
        "id": "eRkYz4PC4oW0",
        "outputId": "24d754f9-6121-43f4-b45a-c1cd716333e8"
      },
      "execution_count": null,
      "outputs": [
        {
          "output_type": "stream",
          "name": "stdout",
          "text": [
            "리뷰    : 양파 절임 은 너 무오 래 돼 진물 나온 양 파마 냥 냄새 나고 먹자마자 깜짝 놀라 바로 뱉었네요 국물 은 고기 담갔다 뺀 물 마냥 너무 아무 맛 이 안나\n",
            "답변    : 실망 시켜 드려서 죄송합니다 해당 부분 은 매장 에 명백한 실수 계기 로 더 메뉴 에 신경 쓰겠습니다 죄송합니다 고객 님\n",
            "예측답변: 고객 여러분의 소중한 후기가 저희 가게에 많은 도움이 되었으면 합니다.\n",
            "BLEU점수: 0.18154438409756285\n",
            "==============================\n",
            "리뷰    : 야무지게 포장 해주셔서 잘 먹고있어요 감사합니다\n",
            "답변    : 시간 이 지났지만 기억나네요 리뷰 감사합니다 건강 하시고 행복 하세요\n",
            "예측답변: 저희가 초심을 잃지 않고 최선을 다한다는 것을 고객님의 소중한 평가에 힘입어 보여드리겠습니다.\n",
            "BLEU점수: 0.19130757147472308\n",
            "==============================\n",
            "리뷰    : 양도 많고 엄청 맛있어요\n",
            "답변    : 합리 적 인 가격 에 대 용량 음료 를 제공 해드리고자 열심히 노력 하고 있답니다 음료 부터 디저트 까지 알차게 즐겨주신 것 같아 넘 넘 행복해요 언제나 만족스러운 순간 이 되시길\n",
            "예측답변: 푸 짐하구 맛있는 맛있게 잘 먹어 주신것 같아 기분 좋 습 니 다. 맛 과 양으로 고객 님들께 보답 하는 되도록 노력 하겠습니다 감사\n",
            "BLEU점수: 0.11416994971321416\n",
            "==============================\n",
            "리뷰    : 라멘 은 매 장가 서 먹어야 맛 날거 같아요 맛 이 없는건 아닌데 뭔가 부족한 느낌 아무튼 잘 먹었어요\n",
            "답변    : 맞아요 아무래도 바로 드시는게 더 맛있을거 같아요 감사합니다\n",
            "예측답변: 고객 님의 소중한 평가 덕분에 저희 음식이 이렇게 잘 될 수 있었습니다 감사합니다.\n",
            "BLEU점수: 0.05914474481860569\n",
            "==============================\n",
            "리뷰    : 생일 이라 시켰는데 너무 맛있게 잘 먹었어요 잡채 랑 미역국 이 특히 맛있고 고기 는 살짝 퍽퍽 하긴 했지만 전체 적 으로 다 너무 맛있었 습 니당\n",
            "답변    : 안녕하세요 석쇠 불고기 와 입맛 에 맞으셨다니 정말 기쁘 네 용 1년 365일 생일상 처럼 드셨으면 하는 마음 으로 항상 준비 하고 있답니다 맛있게 드셨다니 정말 감사 드립니다 지방 과 적당한\n",
            "예측답변: 아 항상 감사하는 마음으로 구매해 주셔서 감사합니다. 앞으로도 잘 부탁드립니다.\n",
            "BLEU점수: 0.2632354878168883\n",
            "==============================\n",
            "리뷰    : 처음 전화했을 때 는 40분 이 넘게 대기 하고 있었고 음식 나오는 시간 은 이미 정해져 있었기 때문 에 음식 을 빨리 먹고 싶었는데 30분 이 지나도 안 남아 서 결국\n",
            "답변    : 제 가 혼자 서 근무 하다 보니 시간 이 많이 부족해요 그래서 고객 님 께 빨리 식사 하시라고 90분 에 정시 퇴근 하도록 하겠습니다 .\n",
            "예측답변: 죄송합니다 고객님 다음 엔 더 좋은 제품으로 찾아 뵙겠습니다 감사합니다\n",
            "BLEU점수: 0.1724598238095408\n",
            "==============================\n",
            "리뷰    : 맛 도 좋고 양도 많고 배달 도 예상 보다 빨랐어요 최고 최고\n",
            "답변    : 안녕하세요 를 찾아주셔서 진심 으로 감사합니다 맛 도 좋고 양도 많고 배달 도 빨랐다고 해주시 니 완전 뿌듯해용 따뜻한 댓글 과 예쁜 사진 정말 감동 입니당 울 고객 님 이 더\n",
            "예측답변: 고객 만족도를 높이기 위해 최선을 다한다는 것을 보여 드리고 싶어서 이렇게 글을 작성했는데 맛있게 잘 먹었고 별 다섯 개짜리 감사 인사도 드립니다.\n",
            "BLEU점수: 0.16911255162480318\n",
            "==============================\n",
            "리뷰    : 이번 에 시킨 공기밥 은 사진 과 다르게 한 개 만 왔고 다른 건 다 잘 왔는데 서비스 라고 해서 기대했는데 너무 실망 스러워서 별 5 점 을 드립니다 .\n",
            "답변    : 저희 항정살 맛있게 잘 먹었다고 내일 인사 해야지 얼마나 더 먹고 싶었으면 그러겠어요\n",
            "예측답변: 저희 매장을 방문해 주셔서 감사합니다.\n",
            "BLEU점수: 1.1685565592208e-78\n",
            "==============================\n",
            "리뷰    : 요청 사항 도 잘 들어주시고 맛있어용\n",
            "답변    : 고객 님 안녕하세요 주 문 주시 고 너무나도 소중한 리뷰 남겨주셔서 진심 으로 감사 드립니다 앞 으로도 맛있게 보내 드릴 수 있도록 최선 을 다 하겠습니다 드시다가 부족하신 부분 은 요청\n",
            "예측답변: 항상 좋은 재료 및 양으로 항상 최선을 다해 고객 여러분께 요리해 드리겠습니다.\n",
            "BLEU점수: 0.263333375551339\n",
            "==============================\n",
            "리뷰    : 잃었던 입맛 이 돌아왔네요 덕분 에 다이어트 는 또 물건 너 갔습니다\n",
            "답변    : 요즘 너무 더위 서 입맛 이 없으시죠 그래도 잘 챙겨 드시고 무더운 여름 을 잘 견뎌 보아 요 오늘 도 이리 찾아주시고 높 은별 챙겨주셔서 너무 감사 드립니당 좋은 하루 보내셔요\n",
            "예측답변: 항상 건강에 유의하시고 힘든 시기에 제 글을 응원해 주셔서 감사합니다.\n",
            "BLEU점수: 0.16457334069488344\n",
            "==============================\n"
          ]
        }
      ]
    },
    {
      "cell_type": "code",
      "source": [
        "# 0905 데이터 + 긍부정 비율 2:1 + 에폭 30 + paraphrase\n",
        "STATEDICT_PATH = '/content/drive/MyDrive/project_final/data/models/yogiyo_0905.pt'\n",
        "model.load_state_dict(torch.load(STATEDICT_PATH))\n",
        "random_evaluation_10(model, test_dataset, dataset.wordvocab.index2word, device)"
      ],
      "metadata": {
        "colab": {
          "base_uri": "https://localhost:8080/"
        },
        "id": "pGUGK2Q4itrN",
        "outputId": "11930220-2249-44be-f9fd-9ca1ece41769"
      },
      "execution_count": null,
      "outputs": [
        {
          "output_type": "stream",
          "name": "stdout",
          "text": [
            "리뷰    : 갈비 진짜 너무 맛있네용 반신반의 하면서 시 켯 는데 갈비 맛 나구 진짜 맛 잇 어유 치킨 도 구 웃 잘 먹었 슴 당\n",
            "답변    : 안녕하세요 맛있게 드셔주셔서 감사합니다 치킨 조합 정말 별미 고객 님 께서 치킨 이 땡기실 때 마다 저희 가 생각나도록 더욱 열심히 하겠습니다 아 주문 정말 감사 드리고 다음 에 또 봐요\n"
          ]
        },
        {
          "output_type": "stream",
          "name": "stderr",
          "text": [
            "/usr/local/lib/python3.10/dist-packages/transformers/generation/configuration_utils.py:367: UserWarning: `do_sample` is set to `False`. However, `top_p` is set to `0.95` -- this flag is only used in sample-based generation modes. You should set `do_sample=True` or unset `top_p`.\n",
            "  warnings.warn(\n",
            "/usr/local/lib/python3.10/dist-packages/transformers/generation/configuration_utils.py:377: UserWarning: `do_sample` is set to `False`. However, `top_k` is set to `5` -- this flag is only used in sample-based generation modes. You should set `do_sample=True` or unset `top_k`.\n",
            "  warnings.warn(\n"
          ]
        },
        {
          "output_type": "stream",
          "name": "stdout",
          "text": [
            "예측답변: 저희 음식이 입맛에 맞았다면 지금처럼 힘든 시기는 없었을 것이라 생각하는데 고객 여러분의 소중한 후기 덕분입니다 감사합니다.\n",
            "BLEU점수: 0.2696986267476108\n",
            "==============================\n",
            "리뷰    : 맛있는 냄새 에 잘 먹을게요 비 조리 인데 아쉽게 리뷰 이벤트 안 적어서 인지 사리 가 없네요\n",
            "답변    : 에 이 쿵 아쉬워서 어 쩌지 요 말 씀이 없으시면 챙겨 드리 기 가 힘듭니다 다음 에는 꼭 적어 주세요 더 맛있게 드실 수 있게 같이 드릴게요\n",
            "예측답변: 저희가 이 부분은 운영을 이쪽에서 하기 때문에 고객님들이 불편을 많이 느끼셨겠습니다만 양해 부탁드립니다.\n",
            "BLEU점수: 3.176496675533262e-78\n",
            "==============================\n",
            "리뷰    : 옆집 문 앞 에 배달 해주셨네요 맛있어서 다 먹고 사짘 찍어 버렸어요 잘 먹었습니다\n",
            "답변    : 앗 죄송합니다 고객 님 그래도 너그러이 이해 해주시고 리뷰 까지 남겨주셔서 너무 감사해요 더 노력 하는 되겠습니다 늘 행복하세용\n"
          ]
        },
        {
          "output_type": "stream",
          "name": "stderr",
          "text": [
            "/usr/local/lib/python3.10/dist-packages/nltk/translate/bleu_score.py:552: UserWarning: \n",
            "The hypothesis contains 0 counts of 4-gram overlaps.\n",
            "Therefore the BLEU score evaluates to 0, independently of\n",
            "how many N-gram overlaps of lower order it contains.\n",
            "Consider using lower n-gram order or use SmoothingFunction()\n",
            "  warnings.warn(_msg)\n"
          ]
        },
        {
          "output_type": "stream",
          "name": "stdout",
          "text": [
            "예측답변: 안녕하세요 고객 님 다음에도 더 좋은 서비스와 맛있는 요리로 찾아 뵙겠습니다.\n",
            "BLEU점수: 0.24830724520513484\n",
            "==============================\n",
            "리뷰    : 몸 이 안좋아서 시켜 봤는데 양도 많고 맛 도 좋아요\n",
            "답변    : 리뷰 남겨주셔서 감사합니다 칭찬 해 주시 니 힘 이 팍팍 나네요 저희 음식 이 기력 을 회복하시는데 도움 이 되기만 한다면 그것 만으로도 너무나 행복합니다 발전 하는 맛 과 좋은 서비스\n",
            "예측답변: 고객 여러분 감사합니다 이렇게 좋은 요리 만들어 주셔서 요즘 같이 힘든 시기에 정말 감사드립니다.\n",
            "BLEU점수: 0.22491637465159936\n",
            "==============================\n",
            "리뷰    : 먹고나면 속이 편하고 확실히 맛있어요 가라 아케 도 오랜 만 에 시켜 먹었는데 잘 먹었습니다\n",
            "답변    : 반갑습니다 오늘 도 맛있게 드시고 예쁜 사진 리뷰 정말 감사 드립니다\n",
            "예측답변: 고객 님 맛있게 먹어주셔서 감사합니다.\n",
            "BLEU점수: 0.19154624426653655\n",
            "==============================\n",
            "리뷰    : 맛 도 좋고 배달 도 빨 라서 따뜻하게 맛있게 먹었어요\n",
            "답변    : 즐거운 시간 보내시고 소중한 리뷰 작성 해주셔서 감사 드려요 메뉴 별로 가장 맛있는 온도 가 있다고 해 요 많은 분 들 이 매장 에서 찾아주시는 이유 이기도 하죠 저희 도 이러한\n",
            "예측답변: 당일 삶은 보쌈 직접 담근 양념과 신선한 음식 재료로 고객 밥상에 항상 오르는 것이 바로 이 요리입니다 맛있게 먹어 주셔서 감사합니다\n",
            "BLEU점수: 0.07196816797546395\n",
            "==============================\n",
            "리뷰    : 폴트 버거 너무 맛있고 감자 튀김 도 정말 맛있네요 배달 도 빨리 해주셔서 따뜩하 게 잘 먹었어요 포장 도 너무 예쁘고 테니스 컨셉 매장 도 꼭 한번 가보고싶어요\n",
            "답변    : 소중한 리뷰 글 감사 드립니다 저희 항상 고객 님 을 향 한 마음 으로 맛있는 수제 찾아 뵙도록 노력 하겠습니다 감사합니다\n",
            "예측답변: 당일 삶은 삼겹살과 직접 담근 김치, 그리고 신선한 식자재를 가지고 고객 밥상에 매번 정성을 다하는 요리 연구가 계속 되고 있습니다.\n",
            "BLEU점수: 0.14232480414603516\n",
            "==============================\n",
            "리뷰    : 맛 나 요 오오\n",
            "답변    : 감사합니다아 요즘 날 이 적당히 더워지니 딸 바나 가볍고 시원한 음료 들 을 많이 찾 아들 주셔요 어떻게 딱 고객 님 입맛 에도 맞은 것 같아 봄봄 은 넘 넘 기쁩니당\n",
            "예측답변: 저희가 맛있게 먹고 좋은 평과 함께 남겨 주시면 고객님께 감사의 뜻을 전하고 더욱 좋은 제품으로 보답하겠습니다.\n",
            "BLEU점수: 0.08678235380808792\n",
            "==============================\n",
            "리뷰    : 생각 했던거보다 양 이 엄청 많아서 좋았어요 볶음밥 은 생각 보다 매콤 하네요 면 국물 밥 한 입 씩 먹으니까 어울리고 좋네요 메인 메뉴 들 은 넘 훌륭한고 맛있었습니다 근 더\n",
            "답변    : 안녕하세요 의 찾아주시고 주문 해 주셔서 너무 감사합니다 고객 님 다음 에도 만 리뷰 를 받을 수 있도록 더 맛있게 그리고 빠르게 배달 해 드리도록 노력 하겠습니다 너무 감사합니다 주 마음\n",
            "예측답변: 고객 여러분 감사합니다 이렇게 좋은 요리 만들어 주셔서 요즘 같이 힘든 시기에 정말 감사드립니다.\n",
            "BLEU점수: 0.2339239681458804\n",
            "==============================\n",
            "리뷰    : 컵밥 양 이 적당해서 자꾸 시켜 먹게되 요\n",
            "답변    : 감사합니다 고객 님 좋은 하루 보내세요\n",
            "예측답변: 고객 여러분 저희 요리를 맛있게 만들어 주시면 항상 감사하겠습니다.\n",
            "BLEU점수: 0.2428093818797127\n",
            "==============================\n"
          ]
        }
      ]
    },
    {
      "cell_type": "code",
      "source": [
        "# 0905 데이터 + 긍부정 비율 5:5 + 에폭 30\n",
        "STATEDICT_PATH = '/content/drive/MyDrive/project_final/data/models/yogiyo_0905.pt'\n",
        "model.load_state_dict(torch.load(STATEDICT_PATH))\n",
        "random_evaluation_10(model, test_dataset, dataset.wordvocab.index2word, device)"
      ],
      "metadata": {
        "colab": {
          "base_uri": "https://localhost:8080/"
        },
        "id": "FXshMzF6T50T",
        "outputId": "bafd5713-ea02-4a1b-9142-fb8960e79c8a"
      },
      "execution_count": null,
      "outputs": [
        {
          "output_type": "stream",
          "name": "stdout",
          "text": [
            "리뷰    : 간장 은 묽어서 좀 아쉬운데 나머진 맛 잇어요\n",
            "답변    : 고객 님 안녕하세요 골라 먹는 부천대 주문 에 맛있게 드셔 주셔서 정말 감사합니다 맛있게 드셨다는 칭찬 은 언제 들어도 참 기분 이 좋아지는 그런 말 인거 같아요 덕분 에 힘든 시기\n",
            "예측답변: 고객 님 소중한 리뷰 감사합니다 저희는 저희 민의의 고기를 두 툼 하 게 썰고 있습니다 광어 도미 등 이 이 이 저희 매장으로 연락 주세요 묻고 따지지\n",
            "BLEU점수: 0.1506279696450486\n",
            "==============================\n",
            "리뷰    : 오 여기 좋네요 시켜놓고 낮잠 자 다가 늦게 먹었긴 했는데 진짜 빨리 와요\n",
            "답변    : 감사합니다 주문 즉시 최대한 빨리 조리 해서 보내 드리고있어요 빠른 베차 시 스팀 이기 에 고객 님 들이 우선 적 으로 잡아 가는 편이 에요\n",
            "예측답변: 안녕하세요 고객 님 소중한 리뷰 감사합니다 주셔서 감사합니다 감사드립니다 항상 고객 님의 소리는 저희를 춤추게 합니다 앞으로 계속해서 정성스러운 음식을 제공해 드리도록 약속\n",
            "BLEU점수: 0.18665030216111525\n",
            "==============================\n",
            "리뷰    : 닭발 좋아해서 여기저기 주문 해서 먹는데 공주 닭발 맛있습니다 배달 도 무지 빠르고 센스 있는 서비스 까지 감사합니다 맛있게 잘 먹었습니다\n",
            "답변    : 항상 같은 맛 유지 하도록 노력 할게요 항상 맛 과 청결 에 정성 을 다 하겠습니다 주문 해주셔서 감사합니다\n",
            "예측답변: 고객 님 소중한 리뷰 감사합니다 감사드립니다 고객 님의 만족을 위해 노력하는 되겠습니다 즐거운 시간 보내시고 행복한 나날 되세요\n",
            "BLEU점수: 0.18289441873227932\n",
            "==============================\n",
            "리뷰    : 최고 너무 맛있고 배달 도 빠르고 잘 먹었습니다\n",
            "답변    : 반갑습니다 맛있게 드셔주시고 잊지 않고 리뷰 남겨 주심 에 큰 힘 을 얻습니다 늘 변함 없는 맛 과 친절한 서비스 로 보답 하겠습니다 항상 행복하세요\n",
            "예측답변: 안녕하세요 고객 님 저희 매장으로 찾아뵙겠습니다\n",
            "BLEU점수: 0.0218228208440802\n",
            "==============================\n",
            "리뷰    : 오늘 은 주 문 한 거 빠짐 없이 잘 왔어요 오랜 만 에 마라샹궈 시켰는데 맛있었어요 단무지 좀 꼭 챙겨주세요 매운데 단무지 까지 없어서 밥 만 왕창\n",
            "답변    : 저희 체크 미스 로 누락 되였군요 정말 죄송합니다 다음 주문 시 주 문 메모 에 적어주시면 꼼꼼히 체크 해서 오늘 누락 된 꼭 넣어 드리겠습니다 고객 님 다음주 문시 주 문\n",
            "예측답변: 고객 님 주문해 주셔서 감사합니다 배달 은 근거리 배달로 25 35분 사이에 문제 가을 죄송합니다 죄송합니다 다음부터는 이런 일이 없도록 하겠습니다 감사합니다\n",
            "BLEU점수: 0.24462767974432714\n",
            "==============================\n",
            "리뷰    : 맛 은 그럭저럭 괜찮았는데 김치양 이 부족하더군요 부대찌개 속 에 햄 은 많았는데 김치 가 적어서 저희 커플 에게는 다른 곳 보다는 조금 더 느끼했어요\n",
            "답변    : 저희 이용 해 주셔서 감사합니다 저희 매장 은 기본 레시피 보다 더 많은 양 의 김치 를 넣어 드리고 있습니다 다만 과유 불급 이라는 말 이 있듯이 자칫 과 한 계량\n",
            "예측답변: 안녕하세요 고객 님 우선 주문해 주셔서 정말 죄송합니다 죄송합니다 다음에 꼭 요청 사항에 적어주시면 꼼꼼히 체크하겠습니다 감사합니다\n",
            "BLEU점수: 0.1575431030268005\n",
            "==============================\n",
            "리뷰    : 맛 나네요 재 주문 할게요\n",
            "답변    : 리뷰 감사 드립니다 3 키로 이상 급 의 광어 와 1 킷노급 의 우럭 그리고 제 철회 를 곁들인 죽변항 모 둠 사시미 는 두 툼 하 게 썰기에 식감 이나\n",
            "예측답변: 고객 님 소중한 고객 님 소중한 리뷰 와 저희에게 큰 힘 이 나네요 맛있게 드셨다니 너 어어 어 무 기쁜 네 용 항상 고객 님의 만족을 위해 노력\n",
            "BLEU점수: 2.7543940858707633e-78\n",
            "==============================\n",
            "리뷰    : 다른 배달 음식 보다 간이 슴슴해 서 좋아요 맛 도 있고 양도 많네요\n",
            "답변    : 고객 님 안녕하세요 시간 내어 리뷰 작성 해주셔서 정말 감사합니다 항상 고객 님 들 주문 하나 하나 에 정성 을 담아 대접 하겠습니다 믿고 드실수있는 기억 해주세용 감사합니다 찜 댓글 무료\n"
          ]
        },
        {
          "output_type": "stream",
          "name": "stderr",
          "text": [
            "/usr/local/lib/python3.10/dist-packages/nltk/translate/bleu_score.py:552: UserWarning: \n",
            "The hypothesis contains 0 counts of 4-gram overlaps.\n",
            "Therefore the BLEU score evaluates to 0, independently of\n",
            "how many N-gram overlaps of lower order it contains.\n",
            "Consider using lower n-gram order or use SmoothingFunction()\n",
            "  warnings.warn(_msg)\n"
          ]
        },
        {
          "output_type": "stream",
          "name": "stdout",
          "text": [
            "예측답변: 주문해 주셔서 감사합니다 드립니다 다음에 또 주문해 주세요\n",
            "BLEU점수: 0.06122493138554343\n",
            "==============================\n",
            "리뷰    : 전체 적 으로 맛있네요 하와 이안 에 코코넛 은 좀 그렇긴 한데 요 기 서 만 계속 피자 먹네요\n",
            "답변    : 맛있게 드셔주시고 소중한 리뷰 달아주셔서 정말 감사 드립니다\n",
            "예측답변: 안녕하세요 고객 님 저희 매장을 찾아주셔서 너무 감사드립니다 앞으로도 저희 음식을 이용해 주셔서 정말 감사드립니다 다음에 또 주문해 주세요\n",
            "BLEU점수: 0.18463832893957804\n",
            "==============================\n",
            "리뷰    : 사장 님 맛있게 잘 먹었습니다 번창 하세요\n",
            "답변    : 안녕하세요 고객 님 맛있게 드시고 소중한 리뷰 와 별 5 개 감사합니다 언제 주문 하셔도 푸 짐 하고 맛있는 닭발 을 위해 항상 최선 을 다 하겠습니다 앞 으로도 많은 사랑\n",
            "예측답변: 안녕하세요 고객 님 맛있게 드시고 소중한 리뷰 남겨주셔서 정말 감사합니다 드립니다 고객 님의 소리는 저희를 춤추게 합니다 앞으로 계속해서 정성스러운 음식을 제공해 드리도록 약속\n",
            "BLEU점수: 0.4093854533293307\n",
            "==============================\n"
          ]
        }
      ]
    },
    {
      "cell_type": "code",
      "source": [
        "# yogiyo 전체데이터 모델링\n",
        "STATEDICT_PATH = '/content/drive/MyDrive/project_final/data/models/yogiyo_paraphrase.pt'\n",
        "model.load_state_dict(torch.load(STATEDICT_PATH))\n",
        "random_evaluation_10(model, test_dataset, dataset.wordvocab.index2word, device)"
      ],
      "metadata": {
        "colab": {
          "base_uri": "https://localhost:8080/"
        },
        "id": "QM_XBLmJ5lCu",
        "outputId": "150344fa-b124-439a-be20-eba9024d3a2d"
      },
      "execution_count": null,
      "outputs": [
        {
          "output_type": "stream",
          "name": "stdout",
          "text": [
            "리뷰    : 먹을만 합니다 추천 해 요\n",
            "답변    : 좋은 리뷰 감사 드립니다 저희 은 리뷰 평점 이나 표면 적 으로만 좋은 집 이 아닌 드셧 던 분들 이 믿고 다시 드시고싶은 집 이 되자 라는 마음 으로 모두 가\n",
            "예측답변: 고객 님 소중한 고객 네 이 이임 이임 맛있게 드셨다니 너 어어 어 무 기쁜 네 용 만족스러운 식사하셨다면에 용 만족스러운 식사하셨다면 찜 가\n",
            "BLEU점수: 1.7456357302038282e-78\n",
            "==============================\n",
            "리뷰    : 여친 이 너무 맛있게 잘 먹었답니다 감사합니다 사장 님 번창 하세요\n",
            "답변    : 안녕하세요 토핑 을 아끼지 않는 미 미 주문 주시 고 리뷰 로 찾아와 주셔서 정말 감사 드립니다 앞 으로도 맛있는 생각나실 때 저희 미 또 찾아주세요 감사합니다\n",
            "예측답변: 맛있게 드셔주셔서 감사합니다 요청 사항 은 조 리전 늘 꼼꼼하게 체크하고 있으니 필요하신 사항 있으시면 다음 주 문 시 주 문 메모에 남겨주세요 최대한 반영해서 보내 드리겠습니다 믿고 주문해\n",
            "BLEU점수: 0.1556563403952443\n",
            "==============================\n",
            "리뷰    : 주말 의 마무리 는 역시\n",
            "답변    : 고객 님 리뷰 에 몸 이 절로 들썩입니다 시간 날 때 마다 리뷰 훑어 보며 반응 살피 고 있는데 덕분 에 넘 힘 이나고 힐링 이 되네요 리뷰 너무 감사 드립니다\n",
            "예측답변: 안녕하세요 고객 님 소중한 리뷰 남겨주셔서 감사합니다 저희 큰아들 백 순대는 항상 맛있는 서비스를 해드리기 위해 서 노력하고 있습니다 사용되는 모든 곱창 은 국내 산 제 주산\n",
            "BLEU점수: 0.12288378213016357\n",
            "==============================\n",
            "리뷰    : 고기 가 맛있어요 사장 님 이 서비스 로 쌈장 도 주셨어요 배달 도 예상 시간 보다 빠흐 게 옵니다\n",
            "답변    : 저희 목살 만족스럽고 맛있게 잘 드셨다니 기쁩니다 소중한 리뷰 와 저희 에게 큰 힘 을 주는 좋은 평가 남겨 주셔서 정말 감사 드립니다 무더운 날씨 에 건강 잘 지키시고 오늘 도\n",
            "예측답변: 맛있게 드셔 주시 고 소중한 리뷰 남겨주셔서 감사합니다 만족스러운 식사하신 것 같아 오늘 도 힘 이 나네요 항상 정성을 담아 조리하여 더 좋은 맛으로 더 빠른 시간\n",
            "BLEU점수: 0.28770485502337556\n",
            "==============================\n",
            "리뷰    : 더말 할거 없이 맛 나 요\n",
            "답변    : 안녕하세요 저희 음식 이 입맛 에 맞으셨다니 정말 다행 이고 뿌듯합니다 코로나 로 인해 어려운시기에 찾아주셔서 감사하고 큰 힘 이 나네요 더말 할거 없이 맛있게 드신거 같아 감사합니다 다음주 문도 찾아주시는\n",
            "예측답변: 맛있게 드셔주셔서 감사드립니다 항상 푸 짐 하고 맛있는 음식으로 정성을 다 하겠습니다 맛 가성 비 다양성 어느 하나 빠짐없이 항상 맛있고 항상 부담 없는 김천 재의 앞\n",
            "BLEU점수: 0.18136401263866778\n",
            "==============================\n",
            "리뷰    : 먹을만 합니다 추천 해 요\n",
            "답변    : 소중한 주문 과 추천 리뷰 감사합니다 디져트 생각나실 때 또 모댄버 찾아 주시길 살포시 부탁드리며 즐거운 주말 보내세요\n",
            "예측답변: 고객 님 소중한 고객 네 이 이임 이임 맛있게 드셨다니 너 어어 어 무 기쁜 네 용 만족스러운 식사하셨다면에 용 만족스러운 식사하셨다면 찜 가\n",
            "BLEU점수: 0.046720072875303956\n",
            "==============================\n",
            "리뷰    : 집 에 부모님 만 계셔서 시켜 드렸는데 너무 잘 드셨다고 하네요 다음 에 또 아침 으로 먹어야겠어요\n",
            "답변    : 오늘 가장 기쁜 말씀 입니다 고객 님 의 칭찬 에 오늘 하루 가 행복해 집니다 그 댄 내게 행복 을 주는 사람 다음 에 또 뵙겠습니다 브런치 가 생각나실 때 다시\n",
            "예측답변: 저희 찾아주셔서 감사드립니다 고객 님의 정성스러운 리뷰에 감동입니다 앞으로도 저희 초심을 잃지 않고 최선을 다 하는 되겠습니다 좋은 하루 보내세요\n",
            "BLEU점수: 0.2561395183694013\n",
            "==============================\n",
            "리뷰    : 사장 님 제 정신 이세 요 이렇게 맛있는데 왜 이제야 오픈 하셨어요 진짜 정신 나갈 정도 로 맛있네 조만간 또 시킵니다 예 제 가 말 했어요 또 시킬거라고\n",
            "답변    : 안녕하세요 저희 라쿤 핏 바베큐 주문 해주셔서 감사합니다 고객 님 으로 리뷰 를 남겨주셨네요 맛있다고 칭찬 리뷰 적어주시니 너무 기쁩니다 앞 으로도 자주 뵈요 약속 하시는 겁니다 감사합니다 저희 라쿤 핏\n",
            "예측답변: 주문해 주셔서 감사합니다 언제나 맛있게 정성스럽게 만들어 보내 드립니다 맛있는 롤 이 생각 나시면 언제 든 연락 부탁드립니다 고맙습니다\n",
            "BLEU점수: 0.1523948989633799\n",
            "==============================\n",
            "리뷰    : 직접 포장 하러 갔다 사장 님 친절하도 맛 도 최고\n",
            "답변    : 안녕하세요 저희 는 늘 더욱더 나은 맛 과 서비스 어떻게 제공 해 드릴 지 연구 하며 발전 하려 애쓰고 있습니다 저희 노력 이 담긴 결과물 이니 드시고 매번 행복하셨으면 좋겠습니다 즐거운\n",
            "예측답변: 맛있게 드셨다니 저희 도 기분 이 좋습니다 정성스러운 리뷰 도 너무 감사드립니다 앞으로도 더 맛있는 파스타 제공 드릴 수 있도록 직원분들 과 함께 신경 쓰고 노력하겠습니다\n",
            "BLEU점수: 0.20655466685947044\n",
            "==============================\n",
            "리뷰    : 처음 먹어 보늅데 맛 이 담백하고 좋아요\n",
            "답변    : 리뷰 감사합니다 키토 김밥 이 처음 이신 데 성공 적 이 셔 서 다행 입니다 앞 으로도 많은 사랑 부탁 드려요\n",
            "예측답변: 소중한 리뷰 감사합니다 저희 저 온 숙성 유기농 5 곡 도우 귀리 흑 미 현미 보리 밀 자연 산 치즈 와 신선한 재료를 매일 손질하여 토핑 하고 있습니다 재료\n",
            "BLEU점수: 0.1267739972573719\n",
            "==============================\n"
          ]
        }
      ]
    },
    {
      "cell_type": "code",
      "source": [
        "# yogiyo 전체데이터 모델링\n",
        "STATEDICT_OV_PATH = '/content/drive/MyDrive/project_final/data/models/yogiyo_paraphrase_clean.pt'\n",
        "model.load_state_dict(torch.load(STATEDICT_OV_PATH))\n",
        "random_evaluation_10(model, test_dataset, train_dataset.wordvocab.index2word, device)"
      ],
      "metadata": {
        "colab": {
          "base_uri": "https://localhost:8080/"
        },
        "id": "BUZV2McfZPoS",
        "outputId": "0aca32dd-a0ee-4c5b-e37f-20e14c5b897b"
      },
      "execution_count": null,
      "outputs": [
        {
          "output_type": "stream",
          "name": "stdout",
          "text": [
            "리뷰    : 주문 에 후라이드 잇 슈가 있었지만 다 맛있었습니다\n",
            "답변    : 저희 을 항상 찾아주시고 성원 해주시는 분 들 께 감사 의 뜻 을 전하 고 싶을 만큼 귀한 시간 내어 주셔서 감사합니다 .\n",
            "예측답변: 항상 저희 직구 삼이 직구 삼이 되도록 노력 직구 삼이 되도록 노력 하겠습니다 감사합니다 .\n",
            "BLEU점수: 0.14828218247800706\n",
            "==============================\n",
            "리뷰    : 맛있습니다 배달 도 빠르고 양도 많아오\n",
            "답변    : 항상 건강하고 행복한 나날 들 이 되시길 기원 합니다 . 고객 님 들의 소중한 정보 감사 드립니다 .\n",
            "예측답변: 항상 건강하고 행복한 나날 들 이 되시길 기원 합니다 .\n",
            "BLEU점수: 0.4464393987758162\n",
            "==============================\n",
            "리뷰    : 디저트 하나 하나 다 맛있어요 휘 낭시 에 랑 소금 빵 완전 맛있어요 이 즈 니 버터 프레첼 은 팥 앙금 들어있는건 줄 알았는데 다시 보니 아니더라 규 요 그치만 이\n",
            "답변    : 이 즈 니 버터 프리첼 의 팥 앙금 버전 앙 버터 도 뚜레쥬르 팀 에 제안 해 보겠습니다 .\n",
            "예측답변: 이 즈 니 버터 프리첼 의 팥 앙금 버전 앙 버터 도 뚜레쥬르 팀 에 제안 해 보겠습니다 .\n",
            "BLEU점수: 1.0\n",
            "==============================\n",
            "리뷰    : 국물 이 깔끔하고 맛있어요 또 먹고 싶은 맛 이네 요\n",
            "답변    : 저희 국밥 을 많이 사랑 해 주세요 :) 항상 최선 을 다해 준비 하는 만큼 더 좋은 맛 과 영양 으로 보답 하겠습니다 .\n",
            "예측답변: 저희 국밥 을 많이 사랑 해 주세요 :) 항상 최선 을 다해 준비 하는 만큼 더 좋은 맛 과 영양 으로 보답 하겠습니다 .\n",
            "BLEU점수: 1.0\n",
            "==============================\n",
            "리뷰    : 커피 도 부드럽고 다 맛 나네요 잘 먹었습니다\n",
            "답변    : 항상 정갈한 브런치 맛있는 브런치 준비 하고 고객 님 기다릴게요 곧 또 만나요 그때 까지 행복한 시간 되세요 .\n",
            "예측답변: 항상 정갈한 브런치 는 브런치 준비 가 준비 기다릴게요 기다릴게요 곧 또 찾아주세요 행복한 하루 되세요 .\n",
            "BLEU점수: 0.5833316665807692\n",
            "==============================\n",
            "리뷰    : 맛 잇어요 근데 3 단계 인데 하나 도 안 매워요 마라 탕 매운 맛 에 먹는데 불닭 정도 생각 하고 시켰는데 제 기준 신라면 도 안되는것 같은 담 엔 4 단계\n",
            "답변    : 항상 최선 을 다해 요리 해 드리고 있으니 다음 에도 또 좋은 요리 로 찾아오겠습니다 .\n",
            "예측답변: 항상 최선 을 다해 준비 해 드리고 있으니 다음 에도 또 주문 해 주세요 .\n",
            "BLEU점수: 0.5898489463407574\n",
            "==============================\n",
            "리뷰    : 오랫 만 에 시켰는데 전보 다 더 맛있어진것 같아요 당 땡겨서 시켰는데 제대로 충전 됐어요\n",
            "답변    : 무더운 여름 날 에 더 맛있게 드실 수 있는 만들어 보겠습니다 .\n",
            "예측답변: 무더운 여름 날 에 더 맛있게 드실 수 있는 요리 으로 만들어 보겠습니다 .\n",
            "BLEU점수: 0.8322850781571215\n",
            "==============================\n",
            "리뷰    : 진짜 이 동네 에서 젤 맛있는것 같아요\n",
            "답변    : 항상 노력 하는 만큼 더 좋은 요리 로 보답 하겠습니다 . 감사합니다 .\n",
            "예측답변: 항상 노력 하는 만큼 더 좋은 요리 로 보답 하겠습니다 . 감사합니다 .\n",
            "BLEU점수: 1.0\n",
            "==============================\n",
            "리뷰    : 분량 도 넉넉하고 맛 도 좋습니다\n",
            "답변    : 항상 고객 님 들께 감사 의 마음 을 전하 며 맛있는 음식 을 만들어 드리는 되 기를 기원 합니다 .\n",
            "예측답변: 항상 고객 님 들께 감사 의 마음 을 전하 며 맛있는 음식 을 만들어 드리는 되 기를 기원 합니다 .\n",
            "BLEU점수: 1.0\n",
            "==============================\n",
            "리뷰    : 맛있어요 양도 많고 서비스 도 주시 고\n",
            "답변    : 좋은 서비스 를 제공 해 주신 만큼 앞 으로도 좋은 서비스 로 찾아 뵐게요 감사합니다 .\n",
            "예측답변: 좋은 서비스 를 제공 해 주신 고객 님 께 감사 의 마음 을 전하 고 앞 으로도 더 좋은 요리 와 서비스 로 찾아 뵙겠습니다 .\n",
            "BLEU점수: 0.5060228739223169\n",
            "==============================\n"
          ]
        }
      ]
    }
  ]
}