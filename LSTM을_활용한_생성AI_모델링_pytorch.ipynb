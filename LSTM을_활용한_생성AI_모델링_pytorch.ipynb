{
  "nbformat": 4,
  "nbformat_minor": 0,
  "metadata": {
    "colab": {
      "provenance": [],
      "toc_visible": true,
      "gpuType": "T4",
      "include_colab_link": true
    },
    "kernelspec": {
      "name": "python3",
      "display_name": "Python 3"
    },
    "language_info": {
      "name": "python"
    },
    "accelerator": "GPU",
    "widgets": {
      "application/vnd.jupyter.widget-state+json": {
        "46b61d7e8edf4107b778488624551f0d": {
          "model_module": "@jupyter-widgets/controls",
          "model_name": "HBoxModel",
          "model_module_version": "1.5.0",
          "state": {
            "_dom_classes": [],
            "_model_module": "@jupyter-widgets/controls",
            "_model_module_version": "1.5.0",
            "_model_name": "HBoxModel",
            "_view_count": null,
            "_view_module": "@jupyter-widgets/controls",
            "_view_module_version": "1.5.0",
            "_view_name": "HBoxView",
            "box_style": "",
            "children": [
              "IPY_MODEL_618b178cb1ab423683d7d455bb213463",
              "IPY_MODEL_c1a956a119fc4f1198c4cf02cf43f05c",
              "IPY_MODEL_fb26b07fde3d410e9f12a480476aa91b"
            ],
            "layout": "IPY_MODEL_72307bef8a5142c2b0f3f16b1de9ae14"
          }
        },
        "618b178cb1ab423683d7d455bb213463": {
          "model_module": "@jupyter-widgets/controls",
          "model_name": "HTMLModel",
          "model_module_version": "1.5.0",
          "state": {
            "_dom_classes": [],
            "_model_module": "@jupyter-widgets/controls",
            "_model_module_version": "1.5.0",
            "_model_name": "HTMLModel",
            "_view_count": null,
            "_view_module": "@jupyter-widgets/controls",
            "_view_module_version": "1.5.0",
            "_view_name": "HTMLView",
            "description": "",
            "description_tooltip": null,
            "layout": "IPY_MODEL_ee423fd1c97a402da37aaaba0e67a59c",
            "placeholder": "​",
            "style": "IPY_MODEL_230e13c5809e48498bcce143045165a1",
            "value": " 85%"
          }
        },
        "c1a956a119fc4f1198c4cf02cf43f05c": {
          "model_module": "@jupyter-widgets/controls",
          "model_name": "FloatProgressModel",
          "model_module_version": "1.5.0",
          "state": {
            "_dom_classes": [],
            "_model_module": "@jupyter-widgets/controls",
            "_model_module_version": "1.5.0",
            "_model_name": "FloatProgressModel",
            "_view_count": null,
            "_view_module": "@jupyter-widgets/controls",
            "_view_module_version": "1.5.0",
            "_view_name": "ProgressView",
            "bar_style": "danger",
            "description": "",
            "description_tooltip": null,
            "layout": "IPY_MODEL_2e0dc2c30abe41b698cd96b4a4954d63",
            "max": 20,
            "min": 0,
            "orientation": "horizontal",
            "style": "IPY_MODEL_facf354da8564686b3b667fe95799776",
            "value": 17
          }
        },
        "fb26b07fde3d410e9f12a480476aa91b": {
          "model_module": "@jupyter-widgets/controls",
          "model_name": "HTMLModel",
          "model_module_version": "1.5.0",
          "state": {
            "_dom_classes": [],
            "_model_module": "@jupyter-widgets/controls",
            "_model_module_version": "1.5.0",
            "_model_name": "HTMLModel",
            "_view_count": null,
            "_view_module": "@jupyter-widgets/controls",
            "_view_module_version": "1.5.0",
            "_view_name": "HTMLView",
            "description": "",
            "description_tooltip": null,
            "layout": "IPY_MODEL_cf1c61a740f2427fbcf1732deb79777b",
            "placeholder": "​",
            "style": "IPY_MODEL_b64671e2e1184695b4d1505052f723ad",
            "value": " 17/20 [00:29&lt;00:05,  1.70s/it]"
          }
        },
        "72307bef8a5142c2b0f3f16b1de9ae14": {
          "model_module": "@jupyter-widgets/base",
          "model_name": "LayoutModel",
          "model_module_version": "1.2.0",
          "state": {
            "_model_module": "@jupyter-widgets/base",
            "_model_module_version": "1.2.0",
            "_model_name": "LayoutModel",
            "_view_count": null,
            "_view_module": "@jupyter-widgets/base",
            "_view_module_version": "1.2.0",
            "_view_name": "LayoutView",
            "align_content": null,
            "align_items": null,
            "align_self": null,
            "border": null,
            "bottom": null,
            "display": null,
            "flex": null,
            "flex_flow": null,
            "grid_area": null,
            "grid_auto_columns": null,
            "grid_auto_flow": null,
            "grid_auto_rows": null,
            "grid_column": null,
            "grid_gap": null,
            "grid_row": null,
            "grid_template_areas": null,
            "grid_template_columns": null,
            "grid_template_rows": null,
            "height": null,
            "justify_content": null,
            "justify_items": null,
            "left": null,
            "margin": null,
            "max_height": null,
            "max_width": null,
            "min_height": null,
            "min_width": null,
            "object_fit": null,
            "object_position": null,
            "order": null,
            "overflow": null,
            "overflow_x": null,
            "overflow_y": null,
            "padding": null,
            "right": null,
            "top": null,
            "visibility": null,
            "width": null
          }
        },
        "ee423fd1c97a402da37aaaba0e67a59c": {
          "model_module": "@jupyter-widgets/base",
          "model_name": "LayoutModel",
          "model_module_version": "1.2.0",
          "state": {
            "_model_module": "@jupyter-widgets/base",
            "_model_module_version": "1.2.0",
            "_model_name": "LayoutModel",
            "_view_count": null,
            "_view_module": "@jupyter-widgets/base",
            "_view_module_version": "1.2.0",
            "_view_name": "LayoutView",
            "align_content": null,
            "align_items": null,
            "align_self": null,
            "border": null,
            "bottom": null,
            "display": null,
            "flex": null,
            "flex_flow": null,
            "grid_area": null,
            "grid_auto_columns": null,
            "grid_auto_flow": null,
            "grid_auto_rows": null,
            "grid_column": null,
            "grid_gap": null,
            "grid_row": null,
            "grid_template_areas": null,
            "grid_template_columns": null,
            "grid_template_rows": null,
            "height": null,
            "justify_content": null,
            "justify_items": null,
            "left": null,
            "margin": null,
            "max_height": null,
            "max_width": null,
            "min_height": null,
            "min_width": null,
            "object_fit": null,
            "object_position": null,
            "order": null,
            "overflow": null,
            "overflow_x": null,
            "overflow_y": null,
            "padding": null,
            "right": null,
            "top": null,
            "visibility": null,
            "width": null
          }
        },
        "230e13c5809e48498bcce143045165a1": {
          "model_module": "@jupyter-widgets/controls",
          "model_name": "DescriptionStyleModel",
          "model_module_version": "1.5.0",
          "state": {
            "_model_module": "@jupyter-widgets/controls",
            "_model_module_version": "1.5.0",
            "_model_name": "DescriptionStyleModel",
            "_view_count": null,
            "_view_module": "@jupyter-widgets/base",
            "_view_module_version": "1.2.0",
            "_view_name": "StyleView",
            "description_width": ""
          }
        },
        "2e0dc2c30abe41b698cd96b4a4954d63": {
          "model_module": "@jupyter-widgets/base",
          "model_name": "LayoutModel",
          "model_module_version": "1.2.0",
          "state": {
            "_model_module": "@jupyter-widgets/base",
            "_model_module_version": "1.2.0",
            "_model_name": "LayoutModel",
            "_view_count": null,
            "_view_module": "@jupyter-widgets/base",
            "_view_module_version": "1.2.0",
            "_view_name": "LayoutView",
            "align_content": null,
            "align_items": null,
            "align_self": null,
            "border": null,
            "bottom": null,
            "display": null,
            "flex": null,
            "flex_flow": null,
            "grid_area": null,
            "grid_auto_columns": null,
            "grid_auto_flow": null,
            "grid_auto_rows": null,
            "grid_column": null,
            "grid_gap": null,
            "grid_row": null,
            "grid_template_areas": null,
            "grid_template_columns": null,
            "grid_template_rows": null,
            "height": null,
            "justify_content": null,
            "justify_items": null,
            "left": null,
            "margin": null,
            "max_height": null,
            "max_width": null,
            "min_height": null,
            "min_width": null,
            "object_fit": null,
            "object_position": null,
            "order": null,
            "overflow": null,
            "overflow_x": null,
            "overflow_y": null,
            "padding": null,
            "right": null,
            "top": null,
            "visibility": null,
            "width": null
          }
        },
        "facf354da8564686b3b667fe95799776": {
          "model_module": "@jupyter-widgets/controls",
          "model_name": "ProgressStyleModel",
          "model_module_version": "1.5.0",
          "state": {
            "_model_module": "@jupyter-widgets/controls",
            "_model_module_version": "1.5.0",
            "_model_name": "ProgressStyleModel",
            "_view_count": null,
            "_view_module": "@jupyter-widgets/base",
            "_view_module_version": "1.2.0",
            "_view_name": "StyleView",
            "bar_color": null,
            "description_width": ""
          }
        },
        "cf1c61a740f2427fbcf1732deb79777b": {
          "model_module": "@jupyter-widgets/base",
          "model_name": "LayoutModel",
          "model_module_version": "1.2.0",
          "state": {
            "_model_module": "@jupyter-widgets/base",
            "_model_module_version": "1.2.0",
            "_model_name": "LayoutModel",
            "_view_count": null,
            "_view_module": "@jupyter-widgets/base",
            "_view_module_version": "1.2.0",
            "_view_name": "LayoutView",
            "align_content": null,
            "align_items": null,
            "align_self": null,
            "border": null,
            "bottom": null,
            "display": null,
            "flex": null,
            "flex_flow": null,
            "grid_area": null,
            "grid_auto_columns": null,
            "grid_auto_flow": null,
            "grid_auto_rows": null,
            "grid_column": null,
            "grid_gap": null,
            "grid_row": null,
            "grid_template_areas": null,
            "grid_template_columns": null,
            "grid_template_rows": null,
            "height": null,
            "justify_content": null,
            "justify_items": null,
            "left": null,
            "margin": null,
            "max_height": null,
            "max_width": null,
            "min_height": null,
            "min_width": null,
            "object_fit": null,
            "object_position": null,
            "order": null,
            "overflow": null,
            "overflow_x": null,
            "overflow_y": null,
            "padding": null,
            "right": null,
            "top": null,
            "visibility": null,
            "width": null
          }
        },
        "b64671e2e1184695b4d1505052f723ad": {
          "model_module": "@jupyter-widgets/controls",
          "model_name": "DescriptionStyleModel",
          "model_module_version": "1.5.0",
          "state": {
            "_model_module": "@jupyter-widgets/controls",
            "_model_module_version": "1.5.0",
            "_model_name": "DescriptionStyleModel",
            "_view_count": null,
            "_view_module": "@jupyter-widgets/base",
            "_view_module_version": "1.2.0",
            "_view_name": "StyleView",
            "description_width": ""
          }
        }
      }
    }
  },
  "cells": [
    {
      "cell_type": "markdown",
      "metadata": {
        "id": "view-in-github",
        "colab_type": "text"
      },
      "source": [
        "<a href=\"https://colab.research.google.com/github/swoo-nam/project_final_team1/blob/main/LSTM%EC%9D%84_%ED%99%9C%EC%9A%A9%ED%95%9C_%EC%83%9D%EC%84%B1AI_%EB%AA%A8%EB%8D%B8%EB%A7%81_pytorch.ipynb\" target=\"_parent\"><img src=\"https://colab.research.google.com/assets/colab-badge.svg\" alt=\"Open In Colab\"/></a>"
      ]
    },
    {
      "cell_type": "code",
      "source": [
        "# !pip install kiwipiepy"
      ],
      "metadata": {
        "id": "zPaUshpXAAkI"
      },
      "execution_count": null,
      "outputs": []
    },
    {
      "cell_type": "code",
      "source": [
        "!pip install konlpy"
      ],
      "metadata": {
        "id": "Rw6lvFBYgWt2",
        "colab": {
          "base_uri": "https://localhost:8080/"
        },
        "outputId": "2c7a5f89-e7d8-4bec-efa7-3f1f6410b317"
      },
      "execution_count": null,
      "outputs": [
        {
          "output_type": "stream",
          "name": "stdout",
          "text": [
            "Requirement already satisfied: konlpy in /usr/local/lib/python3.10/dist-packages (0.6.0)\n",
            "Requirement already satisfied: JPype1>=0.7.0 in /usr/local/lib/python3.10/dist-packages (from konlpy) (1.4.1)\n",
            "Requirement already satisfied: lxml>=4.1.0 in /usr/local/lib/python3.10/dist-packages (from konlpy) (4.9.3)\n",
            "Requirement already satisfied: numpy>=1.6 in /usr/local/lib/python3.10/dist-packages (from konlpy) (1.23.5)\n",
            "Requirement already satisfied: packaging in /usr/local/lib/python3.10/dist-packages (from JPype1>=0.7.0->konlpy) (23.1)\n"
          ]
        }
      ]
    },
    {
      "cell_type": "code",
      "execution_count": null,
      "metadata": {
        "id": "f4ZVXFzhuuTv",
        "colab": {
          "base_uri": "https://localhost:8080/"
        },
        "outputId": "65a383b7-c1b1-48dd-cd4b-7415b118ddc4"
      },
      "outputs": [
        {
          "output_type": "stream",
          "name": "stdout",
          "text": [
            "Drive already mounted at /content/drive; to attempt to forcibly remount, call drive.mount(\"/content/drive\", force_remount=True).\n"
          ]
        }
      ],
      "source": [
        "from google.colab import drive\n",
        "drive.mount('/content/drive')"
      ]
    },
    {
      "cell_type": "code",
      "source": [
        "import pandas as pd\n",
        "import numpy as np\n",
        "import re\n",
        "from tqdm.auto import tqdm\n",
        "import random\n",
        "import os\n",
        "\n",
        "def reset_seeds(seed):\n",
        "    random.seed(seed)\n",
        "    os.environ['PYTHONHASHSEED'] = str(seed)\n",
        "    np.random.seed(seed)\n",
        "    torch.manual_seed(seed)\n",
        "    torch.cuda.manual_seed(seed)\n",
        "    torch.backends.cudnn.deterministic = True\n",
        "\n",
        "DATA_PATH = \"/content/drive/MyDrive/project_final/data/\"\n",
        "SEED = 42\n",
        "\n",
        "device = 'cuda' if torch.cuda.is_available() else 'cpu'\n",
        "device"
      ],
      "metadata": {
        "id": "10dsMhpDu1rd",
        "colab": {
          "base_uri": "https://localhost:8080/",
          "height": 35
        },
        "outputId": "0e5c6372-89b7-4f92-e3e3-092c4eaa288c"
      },
      "execution_count": null,
      "outputs": [
        {
          "output_type": "execute_result",
          "data": {
            "text/plain": [
              "'cuda'"
            ],
            "application/vnd.google.colaboratory.intrinsic+json": {
              "type": "string"
            }
          },
          "metadata": {},
          "execution_count": 32
        }
      ]
    },
    {
      "cell_type": "markdown",
      "source": [
        "# 데이터 불러오기"
      ],
      "metadata": {
        "id": "VwJecjdYAEVY"
      }
    },
    {
      "cell_type": "code",
      "source": [
        "yo_review =pd.read_csv(f\"{DATA_PATH}yogiyo_reviews_jsi.csv\")['고객리뷰']\n",
        "yo_reply = pd.read_csv(f\"{DATA_PATH}yogiyo_reviews_jsi.csv\")['사장댓글']\n",
        "\n",
        "train = pd.concat([yo_review, yo_reply], axis=1)\n",
        "train.head()"
      ],
      "metadata": {
        "colab": {
          "base_uri": "https://localhost:8080/",
          "height": 206
        },
        "id": "lpUaRZnAvWSs",
        "outputId": "ea1876d3-35b1-4963-eba6-b8c745e9aa00"
      },
      "execution_count": null,
      "outputs": [
        {
          "output_type": "execute_result",
          "data": {
            "text/plain": [
              "                                                고객리뷰  \\\n",
              "0  사진보다 실물이 백배 맛있어요~~~~~~ 고기 양도 많아요~~~~~~ 배달시간도 딱...   \n",
              "1                   리뷰가 늦었네요.. 맛있게 잘 먹었습니다. 또 시킬게요!!   \n",
              "2                 잘 먹었습니다. 다만 주문에 있던 펩시콜라는 받지 못했습니다.   \n",
              "3                                 굿 말이 필요 없는 메뉴 였습니다   \n",
              "4                                        맛있어요 양도많구좋음   \n",
              "\n",
              "                                                사장댓글  \n",
              "0  이렇게 저희 매장 찾아주셔서 감사드립니다!!\\n\\n맛 뿐만 아니라 양도, 서비스도 ...  \n",
              "1  좋은 리뷰 덕분에 기분이 행복해지는 것 같아요😇\\n\\n고객님께서 맛있다고 말씀 주시...  \n",
              "2  소중한 식사 시간에 저희 매장을 찾아 주셔서 감사드립니다. \\n\\n저희를 찾아 주신...  \n",
              "3  수 많은 매장들을 헤치고 와주셔서 감사합니다!!\\n\\n저희 매장의 메뉴를 제대로 즐...  \n",
              "4  수 많은 매장들을 헤치고 와주셔서 감사합니다😂\\n\\n메뉴 그 자체로 행복을 드리고 ...  "
            ],
            "text/html": [
              "\n",
              "  <div id=\"df-9bf69c49-f3a4-48b2-a786-de59a9d1ccef\" class=\"colab-df-container\">\n",
              "    <div>\n",
              "<style scoped>\n",
              "    .dataframe tbody tr th:only-of-type {\n",
              "        vertical-align: middle;\n",
              "    }\n",
              "\n",
              "    .dataframe tbody tr th {\n",
              "        vertical-align: top;\n",
              "    }\n",
              "\n",
              "    .dataframe thead th {\n",
              "        text-align: right;\n",
              "    }\n",
              "</style>\n",
              "<table border=\"1\" class=\"dataframe\">\n",
              "  <thead>\n",
              "    <tr style=\"text-align: right;\">\n",
              "      <th></th>\n",
              "      <th>고객리뷰</th>\n",
              "      <th>사장댓글</th>\n",
              "    </tr>\n",
              "  </thead>\n",
              "  <tbody>\n",
              "    <tr>\n",
              "      <th>0</th>\n",
              "      <td>사진보다 실물이 백배 맛있어요~~~~~~ 고기 양도 많아요~~~~~~ 배달시간도 딱...</td>\n",
              "      <td>이렇게 저희 매장 찾아주셔서 감사드립니다!!\\n\\n맛 뿐만 아니라 양도, 서비스도 ...</td>\n",
              "    </tr>\n",
              "    <tr>\n",
              "      <th>1</th>\n",
              "      <td>리뷰가 늦었네요.. 맛있게 잘 먹었습니다. 또 시킬게요!!</td>\n",
              "      <td>좋은 리뷰 덕분에 기분이 행복해지는 것 같아요😇\\n\\n고객님께서 맛있다고 말씀 주시...</td>\n",
              "    </tr>\n",
              "    <tr>\n",
              "      <th>2</th>\n",
              "      <td>잘 먹었습니다. 다만 주문에 있던 펩시콜라는 받지 못했습니다.</td>\n",
              "      <td>소중한 식사 시간에 저희 매장을 찾아 주셔서 감사드립니다. \\n\\n저희를 찾아 주신...</td>\n",
              "    </tr>\n",
              "    <tr>\n",
              "      <th>3</th>\n",
              "      <td>굿 말이 필요 없는 메뉴 였습니다</td>\n",
              "      <td>수 많은 매장들을 헤치고 와주셔서 감사합니다!!\\n\\n저희 매장의 메뉴를 제대로 즐...</td>\n",
              "    </tr>\n",
              "    <tr>\n",
              "      <th>4</th>\n",
              "      <td>맛있어요 양도많구좋음</td>\n",
              "      <td>수 많은 매장들을 헤치고 와주셔서 감사합니다😂\\n\\n메뉴 그 자체로 행복을 드리고 ...</td>\n",
              "    </tr>\n",
              "  </tbody>\n",
              "</table>\n",
              "</div>\n",
              "    <div class=\"colab-df-buttons\">\n",
              "\n",
              "  <div class=\"colab-df-container\">\n",
              "    <button class=\"colab-df-convert\" onclick=\"convertToInteractive('df-9bf69c49-f3a4-48b2-a786-de59a9d1ccef')\"\n",
              "            title=\"Convert this dataframe to an interactive table.\"\n",
              "            style=\"display:none;\">\n",
              "\n",
              "  <svg xmlns=\"http://www.w3.org/2000/svg\" height=\"24px\" viewBox=\"0 -960 960 960\">\n",
              "    <path d=\"M120-120v-720h720v720H120Zm60-500h600v-160H180v160Zm220 220h160v-160H400v160Zm0 220h160v-160H400v160ZM180-400h160v-160H180v160Zm440 0h160v-160H620v160ZM180-180h160v-160H180v160Zm440 0h160v-160H620v160Z\"/>\n",
              "  </svg>\n",
              "    </button>\n",
              "\n",
              "  <style>\n",
              "    .colab-df-container {\n",
              "      display:flex;\n",
              "      gap: 12px;\n",
              "    }\n",
              "\n",
              "    .colab-df-convert {\n",
              "      background-color: #E8F0FE;\n",
              "      border: none;\n",
              "      border-radius: 50%;\n",
              "      cursor: pointer;\n",
              "      display: none;\n",
              "      fill: #1967D2;\n",
              "      height: 32px;\n",
              "      padding: 0 0 0 0;\n",
              "      width: 32px;\n",
              "    }\n",
              "\n",
              "    .colab-df-convert:hover {\n",
              "      background-color: #E2EBFA;\n",
              "      box-shadow: 0px 1px 2px rgba(60, 64, 67, 0.3), 0px 1px 3px 1px rgba(60, 64, 67, 0.15);\n",
              "      fill: #174EA6;\n",
              "    }\n",
              "\n",
              "    .colab-df-buttons div {\n",
              "      margin-bottom: 4px;\n",
              "    }\n",
              "\n",
              "    [theme=dark] .colab-df-convert {\n",
              "      background-color: #3B4455;\n",
              "      fill: #D2E3FC;\n",
              "    }\n",
              "\n",
              "    [theme=dark] .colab-df-convert:hover {\n",
              "      background-color: #434B5C;\n",
              "      box-shadow: 0px 1px 3px 1px rgba(0, 0, 0, 0.15);\n",
              "      filter: drop-shadow(0px 1px 2px rgba(0, 0, 0, 0.3));\n",
              "      fill: #FFFFFF;\n",
              "    }\n",
              "  </style>\n",
              "\n",
              "    <script>\n",
              "      const buttonEl =\n",
              "        document.querySelector('#df-9bf69c49-f3a4-48b2-a786-de59a9d1ccef button.colab-df-convert');\n",
              "      buttonEl.style.display =\n",
              "        google.colab.kernel.accessAllowed ? 'block' : 'none';\n",
              "\n",
              "      async function convertToInteractive(key) {\n",
              "        const element = document.querySelector('#df-9bf69c49-f3a4-48b2-a786-de59a9d1ccef');\n",
              "        const dataTable =\n",
              "          await google.colab.kernel.invokeFunction('convertToInteractive',\n",
              "                                                    [key], {});\n",
              "        if (!dataTable) return;\n",
              "\n",
              "        const docLinkHtml = 'Like what you see? Visit the ' +\n",
              "          '<a target=\"_blank\" href=https://colab.research.google.com/notebooks/data_table.ipynb>data table notebook</a>'\n",
              "          + ' to learn more about interactive tables.';\n",
              "        element.innerHTML = '';\n",
              "        dataTable['output_type'] = 'display_data';\n",
              "        await google.colab.output.renderOutput(dataTable, element);\n",
              "        const docLink = document.createElement('div');\n",
              "        docLink.innerHTML = docLinkHtml;\n",
              "        element.appendChild(docLink);\n",
              "      }\n",
              "    </script>\n",
              "  </div>\n",
              "\n",
              "\n",
              "<div id=\"df-acd39a17-2d4c-4292-a04d-fbfd98d2d3ec\">\n",
              "  <button class=\"colab-df-quickchart\" onclick=\"quickchart('df-acd39a17-2d4c-4292-a04d-fbfd98d2d3ec')\"\n",
              "            title=\"Suggest charts.\"\n",
              "            style=\"display:none;\">\n",
              "\n",
              "<svg xmlns=\"http://www.w3.org/2000/svg\" height=\"24px\"viewBox=\"0 0 24 24\"\n",
              "     width=\"24px\">\n",
              "    <g>\n",
              "        <path d=\"M19 3H5c-1.1 0-2 .9-2 2v14c0 1.1.9 2 2 2h14c1.1 0 2-.9 2-2V5c0-1.1-.9-2-2-2zM9 17H7v-7h2v7zm4 0h-2V7h2v10zm4 0h-2v-4h2v4z\"/>\n",
              "    </g>\n",
              "</svg>\n",
              "  </button>\n",
              "\n",
              "<style>\n",
              "  .colab-df-quickchart {\n",
              "    background-color: #E8F0FE;\n",
              "    border: none;\n",
              "    border-radius: 50%;\n",
              "    cursor: pointer;\n",
              "    display: none;\n",
              "    fill: #1967D2;\n",
              "    height: 32px;\n",
              "    padding: 0 0 0 0;\n",
              "    width: 32px;\n",
              "  }\n",
              "\n",
              "  .colab-df-quickchart:hover {\n",
              "    background-color: #E2EBFA;\n",
              "    box-shadow: 0px 1px 2px rgba(60, 64, 67, 0.3), 0px 1px 3px 1px rgba(60, 64, 67, 0.15);\n",
              "    fill: #174EA6;\n",
              "  }\n",
              "\n",
              "  [theme=dark] .colab-df-quickchart {\n",
              "    background-color: #3B4455;\n",
              "    fill: #D2E3FC;\n",
              "  }\n",
              "\n",
              "  [theme=dark] .colab-df-quickchart:hover {\n",
              "    background-color: #434B5C;\n",
              "    box-shadow: 0px 1px 3px 1px rgba(0, 0, 0, 0.15);\n",
              "    filter: drop-shadow(0px 1px 2px rgba(0, 0, 0, 0.3));\n",
              "    fill: #FFFFFF;\n",
              "  }\n",
              "</style>\n",
              "\n",
              "  <script>\n",
              "    async function quickchart(key) {\n",
              "      const charts = await google.colab.kernel.invokeFunction(\n",
              "          'suggestCharts', [key], {});\n",
              "    }\n",
              "    (() => {\n",
              "      let quickchartButtonEl =\n",
              "        document.querySelector('#df-acd39a17-2d4c-4292-a04d-fbfd98d2d3ec button');\n",
              "      quickchartButtonEl.style.display =\n",
              "        google.colab.kernel.accessAllowed ? 'block' : 'none';\n",
              "    })();\n",
              "  </script>\n",
              "</div>\n",
              "    </div>\n",
              "  </div>\n"
            ]
          },
          "metadata": {},
          "execution_count": 77
        }
      ]
    },
    {
      "cell_type": "code",
      "source": [
        "rename_cols = ['review', 'reply']\n",
        "train.columns = rename_cols\n",
        "train.head()"
      ],
      "metadata": {
        "colab": {
          "base_uri": "https://localhost:8080/",
          "height": 206
        },
        "id": "CyQAZ98F0X7A",
        "outputId": "22bb4643-a6c3-4fd8-8fa6-9713b64a16e4"
      },
      "execution_count": null,
      "outputs": [
        {
          "output_type": "execute_result",
          "data": {
            "text/plain": [
              "                                              review  \\\n",
              "0  사진보다 실물이 백배 맛있어요~~~~~~ 고기 양도 많아요~~~~~~ 배달시간도 딱...   \n",
              "1                   리뷰가 늦었네요.. 맛있게 잘 먹었습니다. 또 시킬게요!!   \n",
              "2                 잘 먹었습니다. 다만 주문에 있던 펩시콜라는 받지 못했습니다.   \n",
              "3                                 굿 말이 필요 없는 메뉴 였습니다   \n",
              "4                                        맛있어요 양도많구좋음   \n",
              "\n",
              "                                               reply  \n",
              "0  이렇게 저희 매장 찾아주셔서 감사드립니다!!\\n\\n맛 뿐만 아니라 양도, 서비스도 ...  \n",
              "1  좋은 리뷰 덕분에 기분이 행복해지는 것 같아요😇\\n\\n고객님께서 맛있다고 말씀 주시...  \n",
              "2  소중한 식사 시간에 저희 매장을 찾아 주셔서 감사드립니다. \\n\\n저희를 찾아 주신...  \n",
              "3  수 많은 매장들을 헤치고 와주셔서 감사합니다!!\\n\\n저희 매장의 메뉴를 제대로 즐...  \n",
              "4  수 많은 매장들을 헤치고 와주셔서 감사합니다😂\\n\\n메뉴 그 자체로 행복을 드리고 ...  "
            ],
            "text/html": [
              "\n",
              "  <div id=\"df-5ec2ca6f-cabe-4e38-97cb-3d49b938c24d\" class=\"colab-df-container\">\n",
              "    <div>\n",
              "<style scoped>\n",
              "    .dataframe tbody tr th:only-of-type {\n",
              "        vertical-align: middle;\n",
              "    }\n",
              "\n",
              "    .dataframe tbody tr th {\n",
              "        vertical-align: top;\n",
              "    }\n",
              "\n",
              "    .dataframe thead th {\n",
              "        text-align: right;\n",
              "    }\n",
              "</style>\n",
              "<table border=\"1\" class=\"dataframe\">\n",
              "  <thead>\n",
              "    <tr style=\"text-align: right;\">\n",
              "      <th></th>\n",
              "      <th>review</th>\n",
              "      <th>reply</th>\n",
              "    </tr>\n",
              "  </thead>\n",
              "  <tbody>\n",
              "    <tr>\n",
              "      <th>0</th>\n",
              "      <td>사진보다 실물이 백배 맛있어요~~~~~~ 고기 양도 많아요~~~~~~ 배달시간도 딱...</td>\n",
              "      <td>이렇게 저희 매장 찾아주셔서 감사드립니다!!\\n\\n맛 뿐만 아니라 양도, 서비스도 ...</td>\n",
              "    </tr>\n",
              "    <tr>\n",
              "      <th>1</th>\n",
              "      <td>리뷰가 늦었네요.. 맛있게 잘 먹었습니다. 또 시킬게요!!</td>\n",
              "      <td>좋은 리뷰 덕분에 기분이 행복해지는 것 같아요😇\\n\\n고객님께서 맛있다고 말씀 주시...</td>\n",
              "    </tr>\n",
              "    <tr>\n",
              "      <th>2</th>\n",
              "      <td>잘 먹었습니다. 다만 주문에 있던 펩시콜라는 받지 못했습니다.</td>\n",
              "      <td>소중한 식사 시간에 저희 매장을 찾아 주셔서 감사드립니다. \\n\\n저희를 찾아 주신...</td>\n",
              "    </tr>\n",
              "    <tr>\n",
              "      <th>3</th>\n",
              "      <td>굿 말이 필요 없는 메뉴 였습니다</td>\n",
              "      <td>수 많은 매장들을 헤치고 와주셔서 감사합니다!!\\n\\n저희 매장의 메뉴를 제대로 즐...</td>\n",
              "    </tr>\n",
              "    <tr>\n",
              "      <th>4</th>\n",
              "      <td>맛있어요 양도많구좋음</td>\n",
              "      <td>수 많은 매장들을 헤치고 와주셔서 감사합니다😂\\n\\n메뉴 그 자체로 행복을 드리고 ...</td>\n",
              "    </tr>\n",
              "  </tbody>\n",
              "</table>\n",
              "</div>\n",
              "    <div class=\"colab-df-buttons\">\n",
              "\n",
              "  <div class=\"colab-df-container\">\n",
              "    <button class=\"colab-df-convert\" onclick=\"convertToInteractive('df-5ec2ca6f-cabe-4e38-97cb-3d49b938c24d')\"\n",
              "            title=\"Convert this dataframe to an interactive table.\"\n",
              "            style=\"display:none;\">\n",
              "\n",
              "  <svg xmlns=\"http://www.w3.org/2000/svg\" height=\"24px\" viewBox=\"0 -960 960 960\">\n",
              "    <path d=\"M120-120v-720h720v720H120Zm60-500h600v-160H180v160Zm220 220h160v-160H400v160Zm0 220h160v-160H400v160ZM180-400h160v-160H180v160Zm440 0h160v-160H620v160ZM180-180h160v-160H180v160Zm440 0h160v-160H620v160Z\"/>\n",
              "  </svg>\n",
              "    </button>\n",
              "\n",
              "  <style>\n",
              "    .colab-df-container {\n",
              "      display:flex;\n",
              "      gap: 12px;\n",
              "    }\n",
              "\n",
              "    .colab-df-convert {\n",
              "      background-color: #E8F0FE;\n",
              "      border: none;\n",
              "      border-radius: 50%;\n",
              "      cursor: pointer;\n",
              "      display: none;\n",
              "      fill: #1967D2;\n",
              "      height: 32px;\n",
              "      padding: 0 0 0 0;\n",
              "      width: 32px;\n",
              "    }\n",
              "\n",
              "    .colab-df-convert:hover {\n",
              "      background-color: #E2EBFA;\n",
              "      box-shadow: 0px 1px 2px rgba(60, 64, 67, 0.3), 0px 1px 3px 1px rgba(60, 64, 67, 0.15);\n",
              "      fill: #174EA6;\n",
              "    }\n",
              "\n",
              "    .colab-df-buttons div {\n",
              "      margin-bottom: 4px;\n",
              "    }\n",
              "\n",
              "    [theme=dark] .colab-df-convert {\n",
              "      background-color: #3B4455;\n",
              "      fill: #D2E3FC;\n",
              "    }\n",
              "\n",
              "    [theme=dark] .colab-df-convert:hover {\n",
              "      background-color: #434B5C;\n",
              "      box-shadow: 0px 1px 3px 1px rgba(0, 0, 0, 0.15);\n",
              "      filter: drop-shadow(0px 1px 2px rgba(0, 0, 0, 0.3));\n",
              "      fill: #FFFFFF;\n",
              "    }\n",
              "  </style>\n",
              "\n",
              "    <script>\n",
              "      const buttonEl =\n",
              "        document.querySelector('#df-5ec2ca6f-cabe-4e38-97cb-3d49b938c24d button.colab-df-convert');\n",
              "      buttonEl.style.display =\n",
              "        google.colab.kernel.accessAllowed ? 'block' : 'none';\n",
              "\n",
              "      async function convertToInteractive(key) {\n",
              "        const element = document.querySelector('#df-5ec2ca6f-cabe-4e38-97cb-3d49b938c24d');\n",
              "        const dataTable =\n",
              "          await google.colab.kernel.invokeFunction('convertToInteractive',\n",
              "                                                    [key], {});\n",
              "        if (!dataTable) return;\n",
              "\n",
              "        const docLinkHtml = 'Like what you see? Visit the ' +\n",
              "          '<a target=\"_blank\" href=https://colab.research.google.com/notebooks/data_table.ipynb>data table notebook</a>'\n",
              "          + ' to learn more about interactive tables.';\n",
              "        element.innerHTML = '';\n",
              "        dataTable['output_type'] = 'display_data';\n",
              "        await google.colab.output.renderOutput(dataTable, element);\n",
              "        const docLink = document.createElement('div');\n",
              "        docLink.innerHTML = docLinkHtml;\n",
              "        element.appendChild(docLink);\n",
              "      }\n",
              "    </script>\n",
              "  </div>\n",
              "\n",
              "\n",
              "<div id=\"df-aff076b3-a5ae-4cf3-a30b-902361254641\">\n",
              "  <button class=\"colab-df-quickchart\" onclick=\"quickchart('df-aff076b3-a5ae-4cf3-a30b-902361254641')\"\n",
              "            title=\"Suggest charts.\"\n",
              "            style=\"display:none;\">\n",
              "\n",
              "<svg xmlns=\"http://www.w3.org/2000/svg\" height=\"24px\"viewBox=\"0 0 24 24\"\n",
              "     width=\"24px\">\n",
              "    <g>\n",
              "        <path d=\"M19 3H5c-1.1 0-2 .9-2 2v14c0 1.1.9 2 2 2h14c1.1 0 2-.9 2-2V5c0-1.1-.9-2-2-2zM9 17H7v-7h2v7zm4 0h-2V7h2v10zm4 0h-2v-4h2v4z\"/>\n",
              "    </g>\n",
              "</svg>\n",
              "  </button>\n",
              "\n",
              "<style>\n",
              "  .colab-df-quickchart {\n",
              "    background-color: #E8F0FE;\n",
              "    border: none;\n",
              "    border-radius: 50%;\n",
              "    cursor: pointer;\n",
              "    display: none;\n",
              "    fill: #1967D2;\n",
              "    height: 32px;\n",
              "    padding: 0 0 0 0;\n",
              "    width: 32px;\n",
              "  }\n",
              "\n",
              "  .colab-df-quickchart:hover {\n",
              "    background-color: #E2EBFA;\n",
              "    box-shadow: 0px 1px 2px rgba(60, 64, 67, 0.3), 0px 1px 3px 1px rgba(60, 64, 67, 0.15);\n",
              "    fill: #174EA6;\n",
              "  }\n",
              "\n",
              "  [theme=dark] .colab-df-quickchart {\n",
              "    background-color: #3B4455;\n",
              "    fill: #D2E3FC;\n",
              "  }\n",
              "\n",
              "  [theme=dark] .colab-df-quickchart:hover {\n",
              "    background-color: #434B5C;\n",
              "    box-shadow: 0px 1px 3px 1px rgba(0, 0, 0, 0.15);\n",
              "    filter: drop-shadow(0px 1px 2px rgba(0, 0, 0, 0.3));\n",
              "    fill: #FFFFFF;\n",
              "  }\n",
              "</style>\n",
              "\n",
              "  <script>\n",
              "    async function quickchart(key) {\n",
              "      const charts = await google.colab.kernel.invokeFunction(\n",
              "          'suggestCharts', [key], {});\n",
              "    }\n",
              "    (() => {\n",
              "      let quickchartButtonEl =\n",
              "        document.querySelector('#df-aff076b3-a5ae-4cf3-a30b-902361254641 button');\n",
              "      quickchartButtonEl.style.display =\n",
              "        google.colab.kernel.accessAllowed ? 'block' : 'none';\n",
              "    })();\n",
              "  </script>\n",
              "</div>\n",
              "    </div>\n",
              "  </div>\n"
            ]
          },
          "metadata": {},
          "execution_count": 78
        }
      ]
    },
    {
      "cell_type": "code",
      "source": [
        "shuffled_df = train.sample(frac=1, random_state=2)  # frac=1은 모든 행을 선택, random_state는 재현 가능한 랜덤 설정\n",
        "\n",
        "train = shuffled_df.iloc[:1000].reset_index(drop=True)"
      ],
      "metadata": {
        "id": "GicXEdU6BSfH"
      },
      "execution_count": null,
      "outputs": []
    },
    {
      "cell_type": "markdown",
      "source": [
        "## 데이터 정제"
      ],
      "metadata": {
        "id": "Lc9TAFoFAIg9"
      }
    },
    {
      "cell_type": "markdown",
      "source": [
        "- 불필요한 문자 삭제"
      ],
      "metadata": {
        "id": "k6txthSVpKAC"
      }
    },
    {
      "cell_type": "code",
      "source": [
        "review_list = []\n",
        "for review in train['review']:\n",
        "    if isinstance(review, str):\n",
        "        # pat = re.compile(\"[^a-zA-Z가-힣ㄱ-ㅎ0-9]\")\n",
        "        # pat = re.compile(\"[^a-zA-Z가-힣ㄱ-ㅎ0-9\\(\\)\\{\\}\\[\\]]\")\n",
        "        # pat = re.compile(\"[^a-zA-Z가-힣0-9\\(\\)\\{\\}\\[\\]]\")\n",
        "        pat = re.compile(\"[^a-zA-Z가-힣0-9]\")\n",
        "        # pat = re.compile(\"[^a-zA-Z가-힣0-9.,~?!]\")\n",
        "        result = pat.sub(\" \", review)\n",
        "\n",
        "        # result = re.sub(r'\\.{2,}', '.', result)\n",
        "        # result = re.sub(r'\\,{2,}', ',', result)\n",
        "        # result = re.sub(r'\\~{2,}', '~', result)\n",
        "        # result = re.sub(r'\\!{2,}', '!', result)\n",
        "        # result = re.sub(r'\\?{2,}', '?', result)\n",
        "        result = re.sub(\" +\", \" \", result)\n",
        "        review_list.append(result)\n",
        "    else:\n",
        "        review_list.append(\"\")\n",
        "\n",
        "train['review'] = review_list\n",
        "train.head()"
      ],
      "metadata": {
        "id": "RUWJTmUNXkxV",
        "colab": {
          "base_uri": "https://localhost:8080/",
          "height": 206
        },
        "outputId": "86cd4698-f5cf-4822-99e7-fd59200193b1"
      },
      "execution_count": null,
      "outputs": [
        {
          "output_type": "execute_result",
          "data": {
            "text/plain": [
              "                                              review  \\\n",
              "0     왼쪽은 전복죽 먹다남은거찍어서 양도푸짐하고 맛도끝내줍니다 서비스계란찜도 넘맛있어요    \n",
              "1                                  맛있게 잘 먹었습니다 감사합니다   \n",
              "2                  너무 맛있고 같이 주신 스티커들도 너무 귀여워요 감사합니다    \n",
              "3  늘 맛있어요 맨날 같은 거 먹다가 하나더 주문했어요 오늘은 오리도 땡겨서요 둘다 너...   \n",
              "4                                      족발은 언제나 잭아저씨    \n",
              "\n",
              "                                               reply  \n",
              "0  정말 반가워요-!!\\n신경 가득 써서 준비했는데 \\n이렇게 칭찬해 주시니 \\n정말 ...  \n",
              "1  안녕하세요.삽교원조두리곱창입니다.🐷\\n저희 음식이 입맛에 맞으셨다니 정말 다행이고 ...  \n",
              "2                     감사합니다👍👍\\n항상 맛있는 샐러드 전달드리겠습니다😁🙏  \n",
              "3  항상 좋은 식재료로 맛있는 음식전달드릴려고 노력하고있습니다ㅎㅎ\\n맛았게 드셨다니 오...  \n",
              "4  잭아저씨 족발보쌈을 찾아주셔서 감사합니다😄😄\\n고객님의 리뷰가 제겐 오늘 하루를 \\...  "
            ],
            "text/html": [
              "\n",
              "  <div id=\"df-bcdac551-d7fe-45bd-9f4b-5c490f444455\" class=\"colab-df-container\">\n",
              "    <div>\n",
              "<style scoped>\n",
              "    .dataframe tbody tr th:only-of-type {\n",
              "        vertical-align: middle;\n",
              "    }\n",
              "\n",
              "    .dataframe tbody tr th {\n",
              "        vertical-align: top;\n",
              "    }\n",
              "\n",
              "    .dataframe thead th {\n",
              "        text-align: right;\n",
              "    }\n",
              "</style>\n",
              "<table border=\"1\" class=\"dataframe\">\n",
              "  <thead>\n",
              "    <tr style=\"text-align: right;\">\n",
              "      <th></th>\n",
              "      <th>review</th>\n",
              "      <th>reply</th>\n",
              "    </tr>\n",
              "  </thead>\n",
              "  <tbody>\n",
              "    <tr>\n",
              "      <th>0</th>\n",
              "      <td>왼쪽은 전복죽 먹다남은거찍어서 양도푸짐하고 맛도끝내줍니다 서비스계란찜도 넘맛있어요</td>\n",
              "      <td>정말 반가워요-!!\\n신경 가득 써서 준비했는데 \\n이렇게 칭찬해 주시니 \\n정말 ...</td>\n",
              "    </tr>\n",
              "    <tr>\n",
              "      <th>1</th>\n",
              "      <td>맛있게 잘 먹었습니다 감사합니다</td>\n",
              "      <td>안녕하세요.삽교원조두리곱창입니다.🐷\\n저희 음식이 입맛에 맞으셨다니 정말 다행이고 ...</td>\n",
              "    </tr>\n",
              "    <tr>\n",
              "      <th>2</th>\n",
              "      <td>너무 맛있고 같이 주신 스티커들도 너무 귀여워요 감사합니다</td>\n",
              "      <td>감사합니다👍👍\\n항상 맛있는 샐러드 전달드리겠습니다😁🙏</td>\n",
              "    </tr>\n",
              "    <tr>\n",
              "      <th>3</th>\n",
              "      <td>늘 맛있어요 맨날 같은 거 먹다가 하나더 주문했어요 오늘은 오리도 땡겨서요 둘다 너...</td>\n",
              "      <td>항상 좋은 식재료로 맛있는 음식전달드릴려고 노력하고있습니다ㅎㅎ\\n맛았게 드셨다니 오...</td>\n",
              "    </tr>\n",
              "    <tr>\n",
              "      <th>4</th>\n",
              "      <td>족발은 언제나 잭아저씨</td>\n",
              "      <td>잭아저씨 족발보쌈을 찾아주셔서 감사합니다😄😄\\n고객님의 리뷰가 제겐 오늘 하루를 \\...</td>\n",
              "    </tr>\n",
              "  </tbody>\n",
              "</table>\n",
              "</div>\n",
              "    <div class=\"colab-df-buttons\">\n",
              "\n",
              "  <div class=\"colab-df-container\">\n",
              "    <button class=\"colab-df-convert\" onclick=\"convertToInteractive('df-bcdac551-d7fe-45bd-9f4b-5c490f444455')\"\n",
              "            title=\"Convert this dataframe to an interactive table.\"\n",
              "            style=\"display:none;\">\n",
              "\n",
              "  <svg xmlns=\"http://www.w3.org/2000/svg\" height=\"24px\" viewBox=\"0 -960 960 960\">\n",
              "    <path d=\"M120-120v-720h720v720H120Zm60-500h600v-160H180v160Zm220 220h160v-160H400v160Zm0 220h160v-160H400v160ZM180-400h160v-160H180v160Zm440 0h160v-160H620v160ZM180-180h160v-160H180v160Zm440 0h160v-160H620v160Z\"/>\n",
              "  </svg>\n",
              "    </button>\n",
              "\n",
              "  <style>\n",
              "    .colab-df-container {\n",
              "      display:flex;\n",
              "      gap: 12px;\n",
              "    }\n",
              "\n",
              "    .colab-df-convert {\n",
              "      background-color: #E8F0FE;\n",
              "      border: none;\n",
              "      border-radius: 50%;\n",
              "      cursor: pointer;\n",
              "      display: none;\n",
              "      fill: #1967D2;\n",
              "      height: 32px;\n",
              "      padding: 0 0 0 0;\n",
              "      width: 32px;\n",
              "    }\n",
              "\n",
              "    .colab-df-convert:hover {\n",
              "      background-color: #E2EBFA;\n",
              "      box-shadow: 0px 1px 2px rgba(60, 64, 67, 0.3), 0px 1px 3px 1px rgba(60, 64, 67, 0.15);\n",
              "      fill: #174EA6;\n",
              "    }\n",
              "\n",
              "    .colab-df-buttons div {\n",
              "      margin-bottom: 4px;\n",
              "    }\n",
              "\n",
              "    [theme=dark] .colab-df-convert {\n",
              "      background-color: #3B4455;\n",
              "      fill: #D2E3FC;\n",
              "    }\n",
              "\n",
              "    [theme=dark] .colab-df-convert:hover {\n",
              "      background-color: #434B5C;\n",
              "      box-shadow: 0px 1px 3px 1px rgba(0, 0, 0, 0.15);\n",
              "      filter: drop-shadow(0px 1px 2px rgba(0, 0, 0, 0.3));\n",
              "      fill: #FFFFFF;\n",
              "    }\n",
              "  </style>\n",
              "\n",
              "    <script>\n",
              "      const buttonEl =\n",
              "        document.querySelector('#df-bcdac551-d7fe-45bd-9f4b-5c490f444455 button.colab-df-convert');\n",
              "      buttonEl.style.display =\n",
              "        google.colab.kernel.accessAllowed ? 'block' : 'none';\n",
              "\n",
              "      async function convertToInteractive(key) {\n",
              "        const element = document.querySelector('#df-bcdac551-d7fe-45bd-9f4b-5c490f444455');\n",
              "        const dataTable =\n",
              "          await google.colab.kernel.invokeFunction('convertToInteractive',\n",
              "                                                    [key], {});\n",
              "        if (!dataTable) return;\n",
              "\n",
              "        const docLinkHtml = 'Like what you see? Visit the ' +\n",
              "          '<a target=\"_blank\" href=https://colab.research.google.com/notebooks/data_table.ipynb>data table notebook</a>'\n",
              "          + ' to learn more about interactive tables.';\n",
              "        element.innerHTML = '';\n",
              "        dataTable['output_type'] = 'display_data';\n",
              "        await google.colab.output.renderOutput(dataTable, element);\n",
              "        const docLink = document.createElement('div');\n",
              "        docLink.innerHTML = docLinkHtml;\n",
              "        element.appendChild(docLink);\n",
              "      }\n",
              "    </script>\n",
              "  </div>\n",
              "\n",
              "\n",
              "<div id=\"df-12a7411b-e58b-44be-92ac-fea6d19f3ccd\">\n",
              "  <button class=\"colab-df-quickchart\" onclick=\"quickchart('df-12a7411b-e58b-44be-92ac-fea6d19f3ccd')\"\n",
              "            title=\"Suggest charts.\"\n",
              "            style=\"display:none;\">\n",
              "\n",
              "<svg xmlns=\"http://www.w3.org/2000/svg\" height=\"24px\"viewBox=\"0 0 24 24\"\n",
              "     width=\"24px\">\n",
              "    <g>\n",
              "        <path d=\"M19 3H5c-1.1 0-2 .9-2 2v14c0 1.1.9 2 2 2h14c1.1 0 2-.9 2-2V5c0-1.1-.9-2-2-2zM9 17H7v-7h2v7zm4 0h-2V7h2v10zm4 0h-2v-4h2v4z\"/>\n",
              "    </g>\n",
              "</svg>\n",
              "  </button>\n",
              "\n",
              "<style>\n",
              "  .colab-df-quickchart {\n",
              "    background-color: #E8F0FE;\n",
              "    border: none;\n",
              "    border-radius: 50%;\n",
              "    cursor: pointer;\n",
              "    display: none;\n",
              "    fill: #1967D2;\n",
              "    height: 32px;\n",
              "    padding: 0 0 0 0;\n",
              "    width: 32px;\n",
              "  }\n",
              "\n",
              "  .colab-df-quickchart:hover {\n",
              "    background-color: #E2EBFA;\n",
              "    box-shadow: 0px 1px 2px rgba(60, 64, 67, 0.3), 0px 1px 3px 1px rgba(60, 64, 67, 0.15);\n",
              "    fill: #174EA6;\n",
              "  }\n",
              "\n",
              "  [theme=dark] .colab-df-quickchart {\n",
              "    background-color: #3B4455;\n",
              "    fill: #D2E3FC;\n",
              "  }\n",
              "\n",
              "  [theme=dark] .colab-df-quickchart:hover {\n",
              "    background-color: #434B5C;\n",
              "    box-shadow: 0px 1px 3px 1px rgba(0, 0, 0, 0.15);\n",
              "    filter: drop-shadow(0px 1px 2px rgba(0, 0, 0, 0.3));\n",
              "    fill: #FFFFFF;\n",
              "  }\n",
              "</style>\n",
              "\n",
              "  <script>\n",
              "    async function quickchart(key) {\n",
              "      const charts = await google.colab.kernel.invokeFunction(\n",
              "          'suggestCharts', [key], {});\n",
              "    }\n",
              "    (() => {\n",
              "      let quickchartButtonEl =\n",
              "        document.querySelector('#df-12a7411b-e58b-44be-92ac-fea6d19f3ccd button');\n",
              "      quickchartButtonEl.style.display =\n",
              "        google.colab.kernel.accessAllowed ? 'block' : 'none';\n",
              "    })();\n",
              "  </script>\n",
              "</div>\n",
              "    </div>\n",
              "  </div>\n"
            ]
          },
          "metadata": {},
          "execution_count": 80
        }
      ]
    },
    {
      "cell_type": "code",
      "source": [
        "reply_list = []\n",
        "for reply in train['reply']:\n",
        "    if isinstance(reply, str):\n",
        "        # pat = re.compile(\"[^a-zA-Z가-힣ㄱ-ㅎ0-9]\")\n",
        "        # pat = re.compile(\"[^a-zA-Z가-힣ㄱ-ㅎ0-9\\(\\)\\{\\}\\[\\]]\")\n",
        "        # pat = re.compile(\"[^a-zA-Z가-힣0-9\\(\\)\\{\\}\\[\\]]\")\n",
        "        pat = re.compile(\"[^a-zA-Z가-힣0-9]\")\n",
        "        # pat = re.compile(\"[^a-zA-Z가-힣0-9.,~?!]\")\n",
        "        result = pat.sub(\" \", reply)\n",
        "\n",
        "        # result = re.sub(r'\\.{2,}', '.', result)\n",
        "        # result = re.sub(r'\\,{2,}', ',', result)\n",
        "        # result = re.sub(r'\\~{2,}', '~', result)\n",
        "        # result = re.sub(r'\\!{2,}', '!', result)\n",
        "        # result = re.sub(r'\\?{2,}', '?', result)\n",
        "        result = re.sub(\" +\", \" \", result)\n",
        "        reply_list.append(result)\n",
        "    else:\n",
        "        reply_list.append(\"\")\n",
        "\n",
        "train['reply'] = reply_list\n",
        "train.head()"
      ],
      "metadata": {
        "colab": {
          "base_uri": "https://localhost:8080/",
          "height": 206
        },
        "id": "L-Yw1bDhkHf5",
        "outputId": "9aba7196-7a39-4800-b36f-68b4edff951d"
      },
      "execution_count": null,
      "outputs": [
        {
          "output_type": "execute_result",
          "data": {
            "text/plain": [
              "                                              review  \\\n",
              "0     왼쪽은 전복죽 먹다남은거찍어서 양도푸짐하고 맛도끝내줍니다 서비스계란찜도 넘맛있어요    \n",
              "1                                  맛있게 잘 먹었습니다 감사합니다   \n",
              "2                  너무 맛있고 같이 주신 스티커들도 너무 귀여워요 감사합니다    \n",
              "3  늘 맛있어요 맨날 같은 거 먹다가 하나더 주문했어요 오늘은 오리도 땡겨서요 둘다 너...   \n",
              "4                                      족발은 언제나 잭아저씨    \n",
              "\n",
              "                                               reply  \n",
              "0  정말 반가워요 신경 가득 써서 준비했는데 이렇게 칭찬해 주시니 정말 행복합니다 언제...  \n",
              "1  안녕하세요 삽교원조두리곱창입니다 저희 음식이 입맛에 맞으셨다니 정말 다행이고 뿌듯합...  \n",
              "2                         감사합니다 항상 맛있는 샐러드 전달드리겠습니다   \n",
              "3  항상 좋은 식재료로 맛있는 음식전달드릴려고 노력하고있습니다 맛았게 드셨다니 오늘도 ...  \n",
              "4  잭아저씨 족발보쌈을 찾아주셔서 감사합니다 고객님의 리뷰가 제겐 오늘 하루를 열심히 ...  "
            ],
            "text/html": [
              "\n",
              "  <div id=\"df-2f364351-2d8f-4dc4-953e-61fe22ddf77c\" class=\"colab-df-container\">\n",
              "    <div>\n",
              "<style scoped>\n",
              "    .dataframe tbody tr th:only-of-type {\n",
              "        vertical-align: middle;\n",
              "    }\n",
              "\n",
              "    .dataframe tbody tr th {\n",
              "        vertical-align: top;\n",
              "    }\n",
              "\n",
              "    .dataframe thead th {\n",
              "        text-align: right;\n",
              "    }\n",
              "</style>\n",
              "<table border=\"1\" class=\"dataframe\">\n",
              "  <thead>\n",
              "    <tr style=\"text-align: right;\">\n",
              "      <th></th>\n",
              "      <th>review</th>\n",
              "      <th>reply</th>\n",
              "    </tr>\n",
              "  </thead>\n",
              "  <tbody>\n",
              "    <tr>\n",
              "      <th>0</th>\n",
              "      <td>왼쪽은 전복죽 먹다남은거찍어서 양도푸짐하고 맛도끝내줍니다 서비스계란찜도 넘맛있어요</td>\n",
              "      <td>정말 반가워요 신경 가득 써서 준비했는데 이렇게 칭찬해 주시니 정말 행복합니다 언제...</td>\n",
              "    </tr>\n",
              "    <tr>\n",
              "      <th>1</th>\n",
              "      <td>맛있게 잘 먹었습니다 감사합니다</td>\n",
              "      <td>안녕하세요 삽교원조두리곱창입니다 저희 음식이 입맛에 맞으셨다니 정말 다행이고 뿌듯합...</td>\n",
              "    </tr>\n",
              "    <tr>\n",
              "      <th>2</th>\n",
              "      <td>너무 맛있고 같이 주신 스티커들도 너무 귀여워요 감사합니다</td>\n",
              "      <td>감사합니다 항상 맛있는 샐러드 전달드리겠습니다</td>\n",
              "    </tr>\n",
              "    <tr>\n",
              "      <th>3</th>\n",
              "      <td>늘 맛있어요 맨날 같은 거 먹다가 하나더 주문했어요 오늘은 오리도 땡겨서요 둘다 너...</td>\n",
              "      <td>항상 좋은 식재료로 맛있는 음식전달드릴려고 노력하고있습니다 맛았게 드셨다니 오늘도 ...</td>\n",
              "    </tr>\n",
              "    <tr>\n",
              "      <th>4</th>\n",
              "      <td>족발은 언제나 잭아저씨</td>\n",
              "      <td>잭아저씨 족발보쌈을 찾아주셔서 감사합니다 고객님의 리뷰가 제겐 오늘 하루를 열심히 ...</td>\n",
              "    </tr>\n",
              "  </tbody>\n",
              "</table>\n",
              "</div>\n",
              "    <div class=\"colab-df-buttons\">\n",
              "\n",
              "  <div class=\"colab-df-container\">\n",
              "    <button class=\"colab-df-convert\" onclick=\"convertToInteractive('df-2f364351-2d8f-4dc4-953e-61fe22ddf77c')\"\n",
              "            title=\"Convert this dataframe to an interactive table.\"\n",
              "            style=\"display:none;\">\n",
              "\n",
              "  <svg xmlns=\"http://www.w3.org/2000/svg\" height=\"24px\" viewBox=\"0 -960 960 960\">\n",
              "    <path d=\"M120-120v-720h720v720H120Zm60-500h600v-160H180v160Zm220 220h160v-160H400v160Zm0 220h160v-160H400v160ZM180-400h160v-160H180v160Zm440 0h160v-160H620v160ZM180-180h160v-160H180v160Zm440 0h160v-160H620v160Z\"/>\n",
              "  </svg>\n",
              "    </button>\n",
              "\n",
              "  <style>\n",
              "    .colab-df-container {\n",
              "      display:flex;\n",
              "      gap: 12px;\n",
              "    }\n",
              "\n",
              "    .colab-df-convert {\n",
              "      background-color: #E8F0FE;\n",
              "      border: none;\n",
              "      border-radius: 50%;\n",
              "      cursor: pointer;\n",
              "      display: none;\n",
              "      fill: #1967D2;\n",
              "      height: 32px;\n",
              "      padding: 0 0 0 0;\n",
              "      width: 32px;\n",
              "    }\n",
              "\n",
              "    .colab-df-convert:hover {\n",
              "      background-color: #E2EBFA;\n",
              "      box-shadow: 0px 1px 2px rgba(60, 64, 67, 0.3), 0px 1px 3px 1px rgba(60, 64, 67, 0.15);\n",
              "      fill: #174EA6;\n",
              "    }\n",
              "\n",
              "    .colab-df-buttons div {\n",
              "      margin-bottom: 4px;\n",
              "    }\n",
              "\n",
              "    [theme=dark] .colab-df-convert {\n",
              "      background-color: #3B4455;\n",
              "      fill: #D2E3FC;\n",
              "    }\n",
              "\n",
              "    [theme=dark] .colab-df-convert:hover {\n",
              "      background-color: #434B5C;\n",
              "      box-shadow: 0px 1px 3px 1px rgba(0, 0, 0, 0.15);\n",
              "      filter: drop-shadow(0px 1px 2px rgba(0, 0, 0, 0.3));\n",
              "      fill: #FFFFFF;\n",
              "    }\n",
              "  </style>\n",
              "\n",
              "    <script>\n",
              "      const buttonEl =\n",
              "        document.querySelector('#df-2f364351-2d8f-4dc4-953e-61fe22ddf77c button.colab-df-convert');\n",
              "      buttonEl.style.display =\n",
              "        google.colab.kernel.accessAllowed ? 'block' : 'none';\n",
              "\n",
              "      async function convertToInteractive(key) {\n",
              "        const element = document.querySelector('#df-2f364351-2d8f-4dc4-953e-61fe22ddf77c');\n",
              "        const dataTable =\n",
              "          await google.colab.kernel.invokeFunction('convertToInteractive',\n",
              "                                                    [key], {});\n",
              "        if (!dataTable) return;\n",
              "\n",
              "        const docLinkHtml = 'Like what you see? Visit the ' +\n",
              "          '<a target=\"_blank\" href=https://colab.research.google.com/notebooks/data_table.ipynb>data table notebook</a>'\n",
              "          + ' to learn more about interactive tables.';\n",
              "        element.innerHTML = '';\n",
              "        dataTable['output_type'] = 'display_data';\n",
              "        await google.colab.output.renderOutput(dataTable, element);\n",
              "        const docLink = document.createElement('div');\n",
              "        docLink.innerHTML = docLinkHtml;\n",
              "        element.appendChild(docLink);\n",
              "      }\n",
              "    </script>\n",
              "  </div>\n",
              "\n",
              "\n",
              "<div id=\"df-000da86f-2057-4b10-9507-ecb6eb362d5a\">\n",
              "  <button class=\"colab-df-quickchart\" onclick=\"quickchart('df-000da86f-2057-4b10-9507-ecb6eb362d5a')\"\n",
              "            title=\"Suggest charts.\"\n",
              "            style=\"display:none;\">\n",
              "\n",
              "<svg xmlns=\"http://www.w3.org/2000/svg\" height=\"24px\"viewBox=\"0 0 24 24\"\n",
              "     width=\"24px\">\n",
              "    <g>\n",
              "        <path d=\"M19 3H5c-1.1 0-2 .9-2 2v14c0 1.1.9 2 2 2h14c1.1 0 2-.9 2-2V5c0-1.1-.9-2-2-2zM9 17H7v-7h2v7zm4 0h-2V7h2v10zm4 0h-2v-4h2v4z\"/>\n",
              "    </g>\n",
              "</svg>\n",
              "  </button>\n",
              "\n",
              "<style>\n",
              "  .colab-df-quickchart {\n",
              "    background-color: #E8F0FE;\n",
              "    border: none;\n",
              "    border-radius: 50%;\n",
              "    cursor: pointer;\n",
              "    display: none;\n",
              "    fill: #1967D2;\n",
              "    height: 32px;\n",
              "    padding: 0 0 0 0;\n",
              "    width: 32px;\n",
              "  }\n",
              "\n",
              "  .colab-df-quickchart:hover {\n",
              "    background-color: #E2EBFA;\n",
              "    box-shadow: 0px 1px 2px rgba(60, 64, 67, 0.3), 0px 1px 3px 1px rgba(60, 64, 67, 0.15);\n",
              "    fill: #174EA6;\n",
              "  }\n",
              "\n",
              "  [theme=dark] .colab-df-quickchart {\n",
              "    background-color: #3B4455;\n",
              "    fill: #D2E3FC;\n",
              "  }\n",
              "\n",
              "  [theme=dark] .colab-df-quickchart:hover {\n",
              "    background-color: #434B5C;\n",
              "    box-shadow: 0px 1px 3px 1px rgba(0, 0, 0, 0.15);\n",
              "    filter: drop-shadow(0px 1px 2px rgba(0, 0, 0, 0.3));\n",
              "    fill: #FFFFFF;\n",
              "  }\n",
              "</style>\n",
              "\n",
              "  <script>\n",
              "    async function quickchart(key) {\n",
              "      const charts = await google.colab.kernel.invokeFunction(\n",
              "          'suggestCharts', [key], {});\n",
              "    }\n",
              "    (() => {\n",
              "      let quickchartButtonEl =\n",
              "        document.querySelector('#df-000da86f-2057-4b10-9507-ecb6eb362d5a button');\n",
              "      quickchartButtonEl.style.display =\n",
              "        google.colab.kernel.accessAllowed ? 'block' : 'none';\n",
              "    })();\n",
              "  </script>\n",
              "</div>\n",
              "    </div>\n",
              "  </div>\n"
            ]
          },
          "metadata": {},
          "execution_count": 81
        }
      ]
    },
    {
      "cell_type": "markdown",
      "source": [
        "### \"~~님\" → \"고객님\"으로 변환"
      ],
      "metadata": {
        "id": "kGzp2f09pN2x"
      }
    },
    {
      "cell_type": "code",
      "source": [
        "train['reply'] = train['reply'].str.replace(r'\\w+\\s*님', '고객님', regex=True)"
      ],
      "metadata": {
        "id": "SRMlbtaPoOql"
      },
      "execution_count": null,
      "outputs": []
    },
    {
      "cell_type": "markdown",
      "source": [
        "- 정제된 데이터 저장하기"
      ],
      "metadata": {
        "id": "qTD6l6yWTBmo"
      }
    },
    {
      "cell_type": "code",
      "source": [
        "# train.to_csv(f\"{DATA_PATH}yogiyo_1000.csv\", index=False)"
      ],
      "metadata": {
        "id": "UohaXtwdTFoh"
      },
      "execution_count": null,
      "outputs": []
    },
    {
      "cell_type": "markdown",
      "source": [
        "- 정제된 데이터 불러오기"
      ],
      "metadata": {
        "id": "CkJwH9oeTRWg"
      }
    },
    {
      "cell_type": "code",
      "source": [
        "train = pd.read_csv(f\"{DATA_PATH}yogiyo_1000.csv\")"
      ],
      "metadata": {
        "id": "rVMEEqzTTFmN"
      },
      "execution_count": null,
      "outputs": []
    },
    {
      "cell_type": "markdown",
      "source": [
        "### 가게명 키워드 컬럼화(나중에 필요할 때 사용)"
      ],
      "metadata": {
        "id": "XN_oJWUWpnf6"
      }
    },
    {
      "cell_type": "code",
      "source": [
        "# ygy_store_lst = [\"1988응답하라추억의옛날도시락-방이점\", \"워커스커피 로스터스\", \"떡깨비-가락점\", \"당치땡-헬리오시티점\", \"우시장국밥-석촌점\",  \"고돼지-송파점\",  \"마라의신마라탕&마라샹궈\",  \"춘리마라탕-송파점\",  \"손수경의육회담은연어-가락점\",  \"무국적식탁-송파점\",  \"청년치킨-삼전점\",  \"송파만다린\",  \"배달의쌀국수-송파점\",  \"닭강점-헬리오시티점\",  \"토핑폭탄김치찜&김치찌개-송파점\",  \"조형훈족발보쌈\",  \"여왕의브런치\",  \"모어댄버터\",  \"플러스82-송파점\",  \"더티베지\",  \"잭아저씨족발보쌈-본점\",  \"육회&연어-미아본점\",  \"갈비민족-본점\",  \"구구족-성신여대역점\",  \"피자보이시나-대학로점\",  \"왕빈자삼파전-미아본점\",  \"행복한찜닭-성북점\",  \"스시사소우\",  \"저팔계&중국&마라탕&덮밥&요리&전문점\",  \"명작파스타-성북점\",  \"올데이파스타-동대문구점\",  \"대한냉면-성북점\",  \"인생제육\",  \"고기듬뿍미트박스-성북점\",  \"피자스웨그-성북점\",  \"청춘식당묵은지김치찜\",  \"삽교원조두리곱창\",  \"뜸들이다-북서울꿈의숲점\",  \"더팔당매운오징어&닭발 김치찜\",  \"우리집반찬도시락-혜화막내딸지점\",  \"수피자\",  \"마라쿡\",  \"김포불닭발\",  \"헬로팬닭갈비&마약볶음밥\",  \"대찌 대파생고기김치찌개&정육왕국물두루치기\",  \"구래상회\",  \"승도리네곱도리탕\",  \"자성당\",  \"수락\",  \"나인곱창\",  \"어시장\",  \"돈까스회관\",  \"호랑이초밥\",  \"땡초곱창막창\",  \"피자이탈리\",  \"텐텐마라탕\",  \"과일에반하다\",  \"삼다수\",  \"병천토속순대\",  \"최고남제육명가\",  \"짱닭치킨\",  \"걸작떡볶이\",  \"직화삼겹직구삼\",  \"짜글이가돼었소\",  \"부대찌개자신있는집\",  \"토핑폭탄김치찜&김치찌개-부천점\",  \"1989마라탕-부천점\",  \"미친피자-부평점\",  \"천년닭강정-부천부평점\",  \"수상한삼겹살-부천점\",  \"수제죽전문점-본가진죽-본점\",  \"오늘은 분식\",  \"이끌림마라탕\",  \"탐나는피자-부평점\",  \"고기혁명-부천점\",  \"라화방마라탕-신중동점\",  \"전금례닭볶음탕-부천점\",  \"큰아들백순대\",  \"공주닭발-부천시청점\",  \"신자매김치찜&김치찌개\",  \"짱닭치킨-도촌점\",  \"이태리면가게-야탑점\",  \"폴트버거-판교점\",  \"랜돌프뉴욕페페로니-야탑점\",  \"홍싸롱-수제돈까스&파스타\",  \"쇼부덮밥\",  \"카산도-정자본점\",  \"부성초밥-미금본점\",  \"닭장수섭삼계탕&전기구이통닭\",  \"깨돌이김밥-미금점\",  \"울진죽변항\",  \"GTS버거-분당정자점\",  \"코브라독스-분당미금역점\",  \"마라하오-죽전점\",  \"땅끝수산\",  \"초밥대통령-용인수지점\",  \"올데이케밥&샐러드\",  \"야키토리 카마쿠라\",  \"비오키친-서현본점\",  \"부산오빠1인국밥-분당점\",  \"알촌\",  \"밈피자\",  \"고씨네카레\",  \"홍스족발\",  \"뜸들이다\",  \"감성커피\",  \"짚신스시\",  \"떡형\",  \"39도시락\",  \"피제이피자\",  \"황궁쟁반짜장\",  \"OK반점\",  \"모모타코야키&카페\",  \"꼬알라파이\",  \"진지덮밥\",  \"피자프라텔로\",  \"한식세끼1인김치찜&김치찌개\",  \"윤희횟집\",  \"시민보쌈족발&감자탕\",  \"카페봄봄\",  \"킹프레소빅와플\",  \"최가네한쌈\",  \"창타이누들\",  \"보돌미역\",  \"홍대개미\"  ]\n",
        "\n",
        "# store_name = []\n",
        "# # region_name = []\n",
        "\n",
        "# for store in ygy_store_lst:\n",
        "#     pat = re.split(r'[- &]', store)\n",
        "#     pat = ''.join(pat)\n",
        "#     store_name.append(pat)\n",
        "#     # if len(pat) > 1 and pat[1] and not pat[1].isdigit():\n",
        "#     #     region_name.append(pat[1])"
      ],
      "metadata": {
        "id": "xM86fK8dpnFt"
      },
      "execution_count": null,
      "outputs": []
    },
    {
      "cell_type": "code",
      "source": [
        "# store_name[:8]"
      ],
      "metadata": {
        "id": "KppiWrKFru9t"
      },
      "execution_count": null,
      "outputs": []
    },
    {
      "cell_type": "code",
      "source": [
        "# short_name = []\n",
        "# for name in store_name:\n",
        "#     for length in [2, 3, 4]:\n",
        "#         cut = name[:length]\n",
        "#         short_name.append(cut)\n",
        "#     if name[0].isdigit(): # 숫자로 시작하면 텍스트가 나오는 부분까지 추출\n",
        "#         cut = name[:6]\n",
        "#         short_name.append(cut)\n",
        "\n",
        "# short_name = [name for name in short_name if not name.isdigit()] # 숫자로만 되어 있는 키워드 삭제\n",
        "# short_name = list(set(short_name))\n",
        "# print(len(short_name), short_name)"
      ],
      "metadata": {
        "id": "8G7B5tlXrLus"
      },
      "execution_count": null,
      "outputs": []
    },
    {
      "cell_type": "code",
      "source": [
        "# # short_name 에서 불용어 처리\n",
        "# drop_name = ['OK','갈비','감성','걸작','고기','공주','과일','김포','대한','땡초','명작','미친','배달','병천','부대','부산','비오','삽교','손수','송파','쇼부','수상','수제','시민','오늘', '오늘은', '우리', '울진', '이끌', '이끌림', '인생', '직화', '진지', '천년', '청년', '청춘', '최고', '큰아', '큰아들', '탐나', '토핑', '행복', '행복한', '헬로', '홍대',]\n",
        "# short_name = [col for col in short_name if col not in drop_name]\n",
        "# print(len(short_name),short_name)"
      ],
      "metadata": {
        "id": "OYxDFqhp-pFq"
      },
      "execution_count": null,
      "outputs": []
    },
    {
      "cell_type": "code",
      "source": [
        "# train['store'] = \"\"\n",
        "\n",
        "# # 각 가게명에서 가능한 단축된 형태를 확인하고 store 컬럼에 추가\n",
        "# for name in short_name:\n",
        "#     train[name] = train['reply'].apply(lambda x: name if name in x else '')\n",
        "#     train['store'] = train.apply(lambda row: row['store'] + ',' + row[name] if row[name] else row['store'], axis=1)\n",
        "\n",
        "# # 첫 번째 문자가 콤마인 경우 제거\n",
        "# train['store'] = train['store'].apply(lambda x: x[1:] if x.startswith(',') else x)\n",
        "\n",
        "# # 불필요한 컬럼 삭제\n",
        "# train = train.drop(columns=short_name)\n",
        "\n",
        "# train.head()"
      ],
      "metadata": {
        "id": "eJ-MpIZ0wYF0"
      },
      "execution_count": null,
      "outputs": []
    },
    {
      "cell_type": "code",
      "source": [
        "# train[train['reply'].str.contains(short_name[2])].index"
      ],
      "metadata": {
        "id": "IiX2Ed4jrQKJ"
      },
      "execution_count": null,
      "outputs": []
    },
    {
      "cell_type": "code",
      "source": [
        "# train['store'][10216]"
      ],
      "metadata": {
        "id": "I8-J4BKQrKtI"
      },
      "execution_count": null,
      "outputs": []
    },
    {
      "cell_type": "markdown",
      "source": [
        "# 한국어 형태소 분석"
      ],
      "metadata": {
        "id": "oUIFAkI6vzBO"
      }
    },
    {
      "cell_type": "code",
      "source": [
        "review, reply = train[\"review\"] , train[\"reply\"]\n",
        "len(review) , len(reply)"
      ],
      "metadata": {
        "colab": {
          "base_uri": "https://localhost:8080/"
        },
        "id": "Ojn-d2muf9ED",
        "outputId": "6f4c3349-0bad-4089-9527-34cab65fcad1"
      },
      "execution_count": null,
      "outputs": [
        {
          "output_type": "execute_result",
          "data": {
            "text/plain": [
              "(1000, 1000)"
            ]
          },
          "metadata": {},
          "execution_count": 86
        }
      ]
    },
    {
      "cell_type": "code",
      "source": [
        "review[:5]"
      ],
      "metadata": {
        "colab": {
          "base_uri": "https://localhost:8080/"
        },
        "id": "fW4YJJ09OMPw",
        "outputId": "fc2d3cba-7b34-404c-b2b6-9fbf9e9da06c"
      },
      "execution_count": null,
      "outputs": [
        {
          "output_type": "execute_result",
          "data": {
            "text/plain": [
              "0       왼쪽은 전복죽 먹다남은거찍어서 양도푸짐하고 맛도끝내줍니다 서비스계란찜도 넘맛있어요 \n",
              "1                                    맛있게 잘 먹었습니다 감사합니다\n",
              "2                    너무 맛있고 같이 주신 스티커들도 너무 귀여워요 감사합니다 \n",
              "3    늘 맛있어요 맨날 같은 거 먹다가 하나더 주문했어요 오늘은 오리도 땡겨서요 둘다 너...\n",
              "4                                        족발은 언제나 잭아저씨 \n",
              "Name: review, dtype: object"
            ]
          },
          "metadata": {},
          "execution_count": 87
        }
      ]
    },
    {
      "cell_type": "code",
      "source": [
        "import unicodedata\n",
        "\n",
        "def normalize(sentence):\n",
        "    return unicodedata.normalize('NFC', sentence)\n",
        "\n",
        "normalize(review[10])"
      ],
      "metadata": {
        "colab": {
          "base_uri": "https://localhost:8080/",
          "height": 35
        },
        "id": "gNuEg-mXOZHq",
        "outputId": "76d1cea0-a0e6-4b8a-c43d-4c697b69205f"
      },
      "execution_count": null,
      "outputs": [
        {
          "output_type": "execute_result",
          "data": {
            "text/plain": [
              "'몇번 시켜먹었는데 역시 맛있네요 '"
            ],
            "application/vnd.google.colaboratory.intrinsic+json": {
              "type": "string"
            }
          },
          "metadata": {},
          "execution_count": 88
        }
      ]
    },
    {
      "cell_type": "code",
      "source": [
        "from konlpy.tag import Mecab, Okt\n",
        "\n",
        "def clean_text(sentence):\n",
        "    okt = Okt()\n",
        "    sentence = normalize(sentence)\n",
        "    sentence = okt.morphs(sentence)\n",
        "    sentence = ' '.join(sentence)\n",
        "    sentence = sentence.lower()\n",
        "    return sentence\n",
        "\n",
        "clean_text(review[0])"
      ],
      "metadata": {
        "colab": {
          "base_uri": "https://localhost:8080/",
          "height": 35
        },
        "id": "YV8h0ecnMQyJ",
        "outputId": "2a491842-0fe9-4ac2-b225-8dd9ea29fb7a"
      },
      "execution_count": null,
      "outputs": [
        {
          "output_type": "execute_result",
          "data": {
            "text/plain": [
              "'왼쪽 은 전복죽 먹다 남은거 찍어서 양도 푸 짐 하고 맛 도 끝내줍니다 서비스 계란찜 도 넘 맛있어요'"
            ],
            "application/vnd.google.colaboratory.intrinsic+json": {
              "type": "string"
            }
          },
          "metadata": {},
          "execution_count": 94
        }
      ]
    },
    {
      "cell_type": "code",
      "source": [
        "review = [clean_text(sent) for sent in review.values]\n",
        "reply = [clean_text(sent) for sent in reply.values]"
      ],
      "metadata": {
        "id": "2He5-a_VLzcp"
      },
      "execution_count": null,
      "outputs": []
    },
    {
      "cell_type": "markdown",
      "source": [
        "- 형태소 분석 완료 데이터 저장"
      ],
      "metadata": {
        "id": "_8sAY2flKAxM"
      }
    },
    {
      "cell_type": "code",
      "source": [
        "# import pickle\n",
        "# with open(f'{DATA_PATH}cleanText_data.pkl', 'wb') as file:\n",
        "#     data_dict = {'review':review, 'reply':reply}\n",
        "#     pickle.dump(data_dict, file)"
      ],
      "metadata": {
        "id": "MJ_Pa929KAxM"
      },
      "execution_count": null,
      "outputs": []
    },
    {
      "cell_type": "markdown",
      "source": [
        "### 형태소 분석 완료 데이터 불러오기"
      ],
      "metadata": {
        "id": "w8YoP6BOKAxM"
      }
    },
    {
      "cell_type": "code",
      "source": [
        "import pickle\n",
        "with open(f'{DATA_PATH}cleanText_data.pkl', 'rb') as file:\n",
        "    data_dict = pickle.load(file)\n",
        "\n",
        "# 불러온 데이터 사용 예시\n",
        "review = data_dict['review']\n",
        "reply = data_dict['reply']"
      ],
      "metadata": {
        "id": "kCwgUlB9KAxM"
      },
      "execution_count": null,
      "outputs": []
    },
    {
      "cell_type": "code",
      "source": [
        "review[:5]"
      ],
      "metadata": {
        "colab": {
          "base_uri": "https://localhost:8080/"
        },
        "id": "VOfttCNJMDQY",
        "outputId": "bdc8ddb4-e714-4a5a-cc5e-73fe507163c8"
      },
      "execution_count": null,
      "outputs": [
        {
          "output_type": "execute_result",
          "data": {
            "text/plain": [
              "['왼쪽 은 전복죽 먹다 남은거 찍어서 양도 푸 짐 하고 맛 도 끝내줍니다 서비스 계란찜 도 넘 맛있어요',\n",
              " '맛있게 잘 먹었습니다 감사합니다',\n",
              " '너무 맛있고 같이 주신 스티커 들 도 너무 귀여워요 감사합니다',\n",
              " '늘 맛있어요 맨날 같은 거 먹다가 하나 더 주문 했어요 오늘 은 오리 도 땡겨서요 둘다 너무 맛있어요',\n",
              " '족발 은 언제나 잭 아저씨']"
            ]
          },
          "metadata": {},
          "execution_count": 100
        }
      ]
    },
    {
      "cell_type": "code",
      "source": [
        "reply[:5]"
      ],
      "metadata": {
        "colab": {
          "base_uri": "https://localhost:8080/"
        },
        "id": "ZvPwxkR_MERe",
        "outputId": "b1c19ff3-11e0-4e9b-8425-3c15ff5509dc"
      },
      "execution_count": null,
      "outputs": [
        {
          "output_type": "execute_result",
          "data": {
            "text/plain": [
              "['정말 반가워요 신경 가득 써서 준비 했는데 이렇게 칭찬 해 주시 니 정말 행복합니다 언제나 만족 스럽게 드실 수 있도록 세 심히 살피겠습니다 시원하고 상쾌한 하루 보내세요',\n",
              " '안녕하세요 삽 교원 조 두리 곱창 입니다 저희 음식 이 입맛 에 맞으셨다니 정말 다행 이고 뿌듯합니다 코로나 로 인해 어려운 시기 에 찾아주셔서 감사합니다 맛있게 드신거 같아 감사합니다 다음주 문도 찾아주시는 그날 까지 더욱 더 노력 하겠습니다 항상 당일 납품 받는 재료 로 최고 의 신선도 를 유지 하여 맛있는 음식 을 대접 하기 위해 더욱 더 노력 하는 삽 교원 조 두리 곱창 이 되겠습니다 다시 한번 주문 해주셔 감사합니다',\n",
              " '감사합니다 항상 맛있는 샐러드 전달 드리겠습니다',\n",
              " '항상 좋은 식 재료 로 맛있는 음식 전달 드릴려고 노력 하고있습니다 맛았 게 드셨다니 오늘 도 감사합니다',\n",
              " '잭 아저씨 족발 보쌈 을 찾아주셔서 감사합니다 고객 님 의 리뷰 가 제겐 오늘 하루 를 열심히 달릴 수 있게 해주는 활력소 에요 앞 으로도 칭찬 리뷰 가 끊기지 않도록 최선 을 다해 맛있는 음식 을 대접 드리겠습니다 늘 믿고 주문 하실 수 있는 최고 의 매장 이 되기 위해 힘낼게요 바쁜 시간 내셔서 리뷰 남겨주신 점 정말 감사합니다 다시 한번 저희 매장 찾아주시면 그때 도 후회 없으실 것 을 약속 드립니다 저희 매장 을 이용 하시고 만족하셨다면 상단 에 찜 을 눌러주세요 다음 주 문 시 에 편리하게 주문 하실 수 있습니다 항상 건강하시고 행복하세요']"
            ]
          },
          "metadata": {},
          "execution_count": 101
        }
      ]
    },
    {
      "cell_type": "markdown",
      "source": [
        "# 단어 사전 만들기"
      ],
      "metadata": {
        "id": "dmEMMLkLQxQl"
      }
    },
    {
      "cell_type": "code",
      "source": [
        "import torch\n",
        "import torch.nn as nn\n",
        "from torch import optim\n",
        "import torch.nn.functional as F\n",
        "from torch.utils.data.dataset import Dataset"
      ],
      "metadata": {
        "id": "QDE8QJtGMEOz"
      },
      "execution_count": null,
      "outputs": []
    },
    {
      "cell_type": "code",
      "source": [
        "PAD_TOKEN = 0\n",
        "SOS_TOKEN = 1\n",
        "EOS_TOKEN = 2\n",
        "\n",
        "class WordVocab():\n",
        "    def __init__(self):\n",
        "        self.word2index = {'<PAD>': PAD_TOKEN,\n",
        "                           '<SOS>': SOS_TOKEN,\n",
        "                           '<EOS>': EOS_TOKEN,}\n",
        "        self.word2count = {}\n",
        "        self.index2word = {PAD_TOKEN: '<PAD>',\n",
        "                           SOS_TOKEN: '<SOS>',\n",
        "                           EOS_TOKEN: '<EOS>'}\n",
        "        self.n_words = 3  # PAD, SOS, EOS 포함\n",
        "\n",
        "    def add_sentence(self, sentence):\n",
        "        for word in sentence.split(' '):\n",
        "            self.add_word(word)\n",
        "\n",
        "    def add_word(self, word):\n",
        "        if word not in self.word2index:\n",
        "            self.word2index[word] = self.n_words\n",
        "            self.word2count[word] = 1\n",
        "            self.index2word[self.n_words] = word\n",
        "            self.n_words += 1\n",
        "        else:\n",
        "            self.word2count[word] += 1"
      ],
      "metadata": {
        "id": "hygb8KqYIi3O"
      },
      "execution_count": null,
      "outputs": []
    },
    {
      "cell_type": "code",
      "source": [
        "print(f'원문: {review[0]}')\n",
        "lang = WordVocab()\n",
        "lang.add_sentence(review[0])\n",
        "print('단어사전: ', lang.word2index)"
      ],
      "metadata": {
        "colab": {
          "base_uri": "https://localhost:8080/"
        },
        "id": "GBgYZWQwIi0f",
        "outputId": "41c32e6c-5287-4c67-963e-de40c8490139"
      },
      "execution_count": null,
      "outputs": [
        {
          "output_type": "stream",
          "name": "stdout",
          "text": [
            "원문: 왼쪽 은 전복죽 먹다 남은거 찍어서 양도 푸 짐 하고 맛 도 끝내줍니다 서비스 계란찜 도 넘 맛있어요\n",
            "단어사전:  {'<PAD>': 0, '<SOS>': 1, '<EOS>': 2, '왼쪽': 3, '은': 4, '전복죽': 5, '먹다': 6, '남은거': 7, '찍어서': 8, '양도': 9, '푸': 10, '짐': 11, '하고': 12, '맛': 13, '도': 14, '끝내줍니다': 15, '서비스': 16, '계란찜': 17, '넘': 18, '맛있어요': 19}\n"
          ]
        }
      ]
    },
    {
      "cell_type": "code",
      "source": [
        "max_length = 10\n",
        "sentence_length = 6\n",
        "\n",
        "sentence_tokens = np.random.randint(low=3, high=100, size=(sentence_length,))\n",
        "sentence_tokens = sentence_tokens.tolist()\n",
        "print(f'Generated Sentence: {sentence_tokens}')\n",
        "\n",
        "sentence_tokens = sentence_tokens[:(max_length-1)]\n",
        "\n",
        "token_length = len(sentence_tokens)\n",
        "\n",
        "# 문장의 맨 끝부분에 <EOS> 토큰 추가\n",
        "sentence_tokens.append(2)\n",
        "\n",
        "for i in range(token_length, max_length-1):\n",
        "    # 나머지 빈 곳에 <PAD> 토큰 추가\n",
        "    sentence_tokens.append(0)\n",
        "\n",
        "print(f'Output: {sentence_tokens}')\n",
        "print(f'Total Length: {len(sentence_tokens)}')"
      ],
      "metadata": {
        "colab": {
          "base_uri": "https://localhost:8080/"
        },
        "id": "5AdXRcGmIiyB",
        "outputId": "69fe4a31-6c94-4e7a-9f63-3063d40fd757"
      },
      "execution_count": null,
      "outputs": [
        {
          "output_type": "stream",
          "name": "stdout",
          "text": [
            "Generated Sentence: [59, 3, 33, 41, 60, 15]\n",
            "Output: [59, 3, 33, 41, 60, 15, 2, 0, 0, 0]\n",
            "Total Length: 10\n"
          ]
        }
      ]
    },
    {
      "cell_type": "markdown",
      "source": [
        "# 데이터셋 만들기"
      ],
      "metadata": {
        "id": "5cU_Tee2R1G3"
      }
    },
    {
      "cell_type": "code",
      "source": [],
      "metadata": {
        "id": "9ReYLQgcUHjW"
      },
      "execution_count": null,
      "outputs": []
    },
    {
      "cell_type": "code",
      "source": [
        "import unicodedata\n",
        "\n",
        "def normalize(sentence):\n",
        "    return unicodedata.normalize('NFC', sentence)\n",
        "\n",
        "normalize(review[10])"
      ],
      "metadata": {
        "colab": {
          "base_uri": "https://localhost:8080/",
          "height": 35
        },
        "outputId": "76d1cea0-a0e6-4b8a-c43d-4c697b69205f",
        "id": "QqHReh48UHmE"
      },
      "execution_count": null,
      "outputs": [
        {
          "output_type": "execute_result",
          "data": {
            "text/plain": [
              "'몇번 시켜먹었는데 역시 맛있네요 '"
            ],
            "application/vnd.google.colaboratory.intrinsic+json": {
              "type": "string"
            }
          },
          "metadata": {},
          "execution_count": 88
        }
      ]
    },
    {
      "cell_type": "code",
      "source": [
        "from konlpy.tag import Mecab, Okt\n",
        "\n",
        "def clean_text(sentence):\n",
        "    okt = Okt()\n",
        "    sentence = normalize(sentence)\n",
        "    sentence = okt.morphs(sentence)\n",
        "    sentence = ' '.join(sentence)\n",
        "    sentence = sentence.lower()\n",
        "    return sentence\n",
        "\n",
        "clean_text(review[0])"
      ],
      "metadata": {
        "colab": {
          "base_uri": "https://localhost:8080/",
          "height": 35
        },
        "outputId": "2a491842-0fe9-4ac2-b225-8dd9ea29fb7a",
        "id": "HQJ-tHF1UHmG"
      },
      "execution_count": null,
      "outputs": [
        {
          "output_type": "execute_result",
          "data": {
            "text/plain": [
              "'왼쪽 은 전복죽 먹다 남은거 찍어서 양도 푸 짐 하고 맛 도 끝내줍니다 서비스 계란찜 도 넘 맛있어요'"
            ],
            "application/vnd.google.colaboratory.intrinsic+json": {
              "type": "string"
            }
          },
          "metadata": {},
          "execution_count": 94
        }
      ]
    },
    {
      "cell_type": "code",
      "source": [
        "class TextDataset(Dataset):\n",
        "    def __init__(self, df, min_length=3, max_length=32):\n",
        "        super(TextDataset, self).__init__()\n",
        "        data_dir = 'data'\n",
        "\n",
        "        # TOKEN 정의\n",
        "        self.PAD_TOKEN = 0 # Padding 토큰\n",
        "        self.SOS_TOKEN = 1 # SOS 토큰\n",
        "        self.EOS_TOKEN = 2 # EOS 토큰\n",
        "\n",
        "        self.tagger = Okt()   # 형태소 분석기\n",
        "        self.max_length = max_length # 한 문장의 최대 길이 지정\n",
        "\n",
        "        # 한글 정규화\n",
        "        korean_pattern = r'[^a-zA-Z가-힣0-9]'\n",
        "        self.normalizer = re.compile(korean_pattern)\n",
        "\n",
        "        # src: 질의, tgt: 답변\n",
        "        src_clean = []\n",
        "        tgt_clean = []\n",
        "\n",
        "        # 단어 사전 생성\n",
        "        wordvocab = WordVocab()\n",
        "\n",
        "        for _, row in df.iterrows():\n",
        "            src = row['review']\n",
        "            tgt = row['reply']\n",
        "\n",
        "            # 한글 전처리\n",
        "            src = self.clean_text(src)\n",
        "            tgt = self.clean_text(tgt)\n",
        "\n",
        "            if len(src.split()) > min_length and len(tgt.split()) > min_length:\n",
        "                # 최소 길이를 넘어가는 문장의 단어만 추가\n",
        "                wordvocab.add_sentence(src)\n",
        "                wordvocab.add_sentence(tgt)\n",
        "                src_clean.append(src)\n",
        "                tgt_clean.append(tgt)\n",
        "\n",
        "        self.srcs = src_clean\n",
        "        self.tgts = tgt_clean\n",
        "        self.wordvocab = wordvocab\n",
        "\n",
        "    def normalize(sentence):\n",
        "        # 정규표현식에 따른 한글 정규화\n",
        "        return unicodedata.normalize('NFC', sentence)\n",
        "\n",
        "    def clean_text(self, sentence):\n",
        "        # 한글 정규화\n",
        "        sentence = normalize(sentence)\n",
        "        # 형태소 처리\n",
        "        sentence = self.tagger.morphs(sentence)\n",
        "        sentence = ' '.join(sentence)\n",
        "        sentence = sentence.lower()\n",
        "        return sentence\n",
        "\n",
        "    def texts_to_sequences(self, sentence):\n",
        "        # 문장 -> 시퀀스로 변환\n",
        "        return [self.wordvocab.word2index[w] for w in sentence.split()]\n",
        "\n",
        "    def pad_sequence(self, sentence_tokens):\n",
        "        # 문장의 맨 끝 토큰은 제거\n",
        "        sentence_tokens = sentence_tokens[:(self.max_length-1)]\n",
        "        token_length = len(sentence_tokens)\n",
        "\n",
        "        # 문장의 맨 끝부분에 <EOS> 토큰 추가\n",
        "        sentence_tokens.append(self.EOS_TOKEN)\n",
        "\n",
        "        for i in range(token_length, (self.max_length-1)):\n",
        "            # 나머지 빈 곳에 <PAD> 토큰 추가\n",
        "            sentence_tokens.append(self.PAD_TOKEN)\n",
        "        return sentence_tokens\n",
        "\n",
        "    def __getitem__(self, idx):\n",
        "        inputs = self.srcs[idx]\n",
        "        inputs_sequences = self.texts_to_sequences(inputs)\n",
        "        inputs_padded = self.pad_sequence(inputs_sequences)\n",
        "\n",
        "        outputs = self.tgts[idx]\n",
        "        outputs_sequences = self.texts_to_sequences(outputs)\n",
        "        outputs_padded = self.pad_sequence(outputs_sequences)\n",
        "\n",
        "        return torch.tensor(inputs_padded), torch.tensor(outputs_padded)\n",
        "\n",
        "    def __len__(self):\n",
        "        return len(self.srcs)"
      ],
      "metadata": {
        "id": "qegB-fFUIiv9"
      },
      "execution_count": null,
      "outputs": []
    },
    {
      "cell_type": "code",
      "source": [
        "MAX_LENGTH = 25\n",
        "\n",
        "dataset = TextDataset(train, min_length=3, max_length=MAX_LENGTH)"
      ],
      "metadata": {
        "id": "IhZLpU7SIita"
      },
      "execution_count": null,
      "outputs": []
    },
    {
      "cell_type": "code",
      "source": [
        "x, y = dataset[0]"
      ],
      "metadata": {
        "id": "OCwwT9WwIirO"
      },
      "execution_count": null,
      "outputs": []
    },
    {
      "cell_type": "code",
      "source": [
        "print(f'x shape: {x.shape}')\n",
        "print(x)"
      ],
      "metadata": {
        "colab": {
          "base_uri": "https://localhost:8080/"
        },
        "id": "7ueDgBziIioj",
        "outputId": "c36e664c-e2d5-48c2-e796-2c4dee60df28"
      },
      "execution_count": null,
      "outputs": [
        {
          "output_type": "stream",
          "name": "stdout",
          "text": [
            "x shape: torch.Size([25])\n",
            "tensor([ 3,  4,  5,  6,  7,  8,  9, 10, 11, 12, 13, 14, 15, 16, 17, 14, 18, 19,\n",
            "         2,  0,  0,  0,  0,  0,  0])\n"
          ]
        }
      ]
    },
    {
      "cell_type": "code",
      "source": [
        "print(f'y shape: {y.shape}')\n",
        "print(y)"
      ],
      "metadata": {
        "colab": {
          "base_uri": "https://localhost:8080/"
        },
        "id": "IwRayL07IimV",
        "outputId": "03627894-292d-4756-bd34-04e9ae16ed88"
      },
      "execution_count": null,
      "outputs": [
        {
          "output_type": "stream",
          "name": "stdout",
          "text": [
            "y shape: torch.Size([25])\n",
            "tensor([20, 21, 22, 23, 24, 25, 26, 27, 28, 29, 30, 31, 20, 32, 33, 34, 35, 36,\n",
            "        37, 38, 39, 40, 41, 42,  2])\n"
          ]
        }
      ]
    },
    {
      "cell_type": "markdown",
      "source": [
        "## 데이터셋 분할"
      ],
      "metadata": {
        "id": "gmotXqlRVf7s"
      }
    },
    {
      "cell_type": "code",
      "source": [
        "# 80%의 데이터를 train에 할당합니다.\n",
        "train_size = int(len(dataset) * 0.8)\n",
        "train_size"
      ],
      "metadata": {
        "colab": {
          "base_uri": "https://localhost:8080/"
        },
        "id": "V33lYSVnIiiZ",
        "outputId": "b0392a8f-731b-45fb-df8f-2c8f570199f7"
      },
      "execution_count": null,
      "outputs": [
        {
          "output_type": "execute_result",
          "data": {
            "text/plain": [
              "606"
            ]
          },
          "metadata": {},
          "execution_count": 120
        }
      ]
    },
    {
      "cell_type": "code",
      "source": [
        "# 나머지 20% 데이터를 test에 할당합니다.\n",
        "test_size = len(dataset) - train_size\n",
        "test_size"
      ],
      "metadata": {
        "colab": {
          "base_uri": "https://localhost:8080/"
        },
        "id": "K7BalXtMVfr9",
        "outputId": "627c19dd-9632-4136-8f92-c8b25b36f700"
      },
      "execution_count": null,
      "outputs": [
        {
          "output_type": "execute_result",
          "data": {
            "text/plain": [
              "152"
            ]
          },
          "metadata": {},
          "execution_count": 121
        }
      ]
    },
    {
      "cell_type": "code",
      "source": [
        "from torch.utils.data import random_split\n",
        "\n",
        "# 랜덤 스플릿으로 분할을 완료합니다.\n",
        "train_dataset, test_dataset = random_split(dataset, [train_size, test_size])"
      ],
      "metadata": {
        "id": "x8hv80bOVfpV"
      },
      "execution_count": null,
      "outputs": []
    },
    {
      "cell_type": "markdown",
      "source": [
        "# 데이터로더 만들기"
      ],
      "metadata": {
        "id": "nTlT-UZLVs4z"
      }
    },
    {
      "cell_type": "code",
      "source": [
        "from torch.utils.data import DataLoader, SubsetRandomSampler\n",
        "\n",
        "train_loader = DataLoader(train_dataset, batch_size=16, shuffle=True)\n",
        "test_loader = DataLoader(test_dataset, batch_size=16, shuffle=False)"
      ],
      "metadata": {
        "id": "VytG6MGDVtNj"
      },
      "execution_count": null,
      "outputs": []
    },
    {
      "cell_type": "code",
      "source": [
        "# 1개의 배치 데이터를 추출\n",
        "x, y = next(iter(train_loader))\n",
        "\n",
        "# shape: (batch_size, sequence_length)\n",
        "x.shape, y.shape"
      ],
      "metadata": {
        "colab": {
          "base_uri": "https://localhost:8080/"
        },
        "id": "OkT49hogVxTf",
        "outputId": "143dc981-f8ad-4ed4-d3f8-89c9df6b1790"
      },
      "execution_count": null,
      "outputs": [
        {
          "output_type": "execute_result",
          "data": {
            "text/plain": [
              "(torch.Size([16, 25]), torch.Size([16, 25]))"
            ]
          },
          "metadata": {},
          "execution_count": 125
        }
      ]
    },
    {
      "cell_type": "markdown",
      "source": [
        "# Encoder 만들기"
      ],
      "metadata": {
        "id": "y0p1uAoUWQ6K"
      }
    },
    {
      "cell_type": "code",
      "source": [
        "class Encoder(nn.Module):\n",
        "    def __init__(self, num_vocabs, hidden_size, embedding_dim, num_layers):\n",
        "        super(Encoder, self).__init__()\n",
        "\n",
        "        # 단어 사전의 개수 지정\n",
        "        self.num_vocabs = num_vocabs\n",
        "        # 임베딩 레이어 정의 (number of vocabs, embedding dimension)\n",
        "        self.embedding = nn.Embedding(num_vocabs, embedding_dim)\n",
        "        # GRU (embedding dimension)\n",
        "        self.gru = nn.GRU(embedding_dim,\n",
        "                          hidden_size,\n",
        "                          num_layers=num_layers,\n",
        "                          bidirectional=False)\n",
        "\n",
        "    def forward(self, x):\n",
        "        x = self.embedding(x).permute(1, 0, 2)\n",
        "        output, hidden = self.gru(x)\n",
        "        return output, hidden"
      ],
      "metadata": {
        "id": "5O03VXXFVxSF"
      },
      "execution_count": null,
      "outputs": []
    },
    {
      "cell_type": "code",
      "source": [
        "embedding_dim = 64 # 임베딩 차원\n",
        "embedding = nn.Embedding(dataset.wordvocab.n_words, embedding_dim)\n",
        "\n",
        "# x의 shape을 변경합니다.\n",
        "# (batch_size, sequence_length) => (sequence_length, batch_size)\n",
        "embedded = embedding(x)\n",
        "\n",
        "print(x.shape)\n",
        "print(embedded.shape)\n",
        "# input:  (sequence_length, batch_size)\n",
        "# output: (sequence_length, batch_size, embedding_dim)"
      ],
      "metadata": {
        "colab": {
          "base_uri": "https://localhost:8080/"
        },
        "id": "LOQyDM8LVxQU",
        "outputId": "1fe461b6-91a0-44c9-8bdc-d74eaa873ba1"
      },
      "execution_count": null,
      "outputs": [
        {
          "output_type": "stream",
          "name": "stdout",
          "text": [
            "torch.Size([16, 25])\n",
            "torch.Size([16, 25, 64])\n"
          ]
        }
      ]
    },
    {
      "cell_type": "code",
      "source": [
        "embedded = embedded.permute(1, 0, 2)\n",
        "print(embedded.shape)\n",
        "# (sequence_length, batch_size, embedding_dim)"
      ],
      "metadata": {
        "colab": {
          "base_uri": "https://localhost:8080/"
        },
        "id": "Pb1QQDpkVxMw",
        "outputId": "4a65360b-72b4-440e-d2b0-9ace104696f0"
      },
      "execution_count": null,
      "outputs": [
        {
          "output_type": "stream",
          "name": "stdout",
          "text": [
            "torch.Size([25, 16, 64])\n"
          ]
        }
      ]
    },
    {
      "cell_type": "code",
      "source": [
        "hidden_size = 32\n",
        "\n",
        "gru = nn.GRU(embedding_dim,      # embedding 차원\n",
        "             hidden_size,\n",
        "             num_layers=1,\n",
        "             bidirectional=False)\n",
        "\n",
        "# input       : (sequence_length, batch_size, embedding_dim)\n",
        "# h0          : (Bidirectional(1) x number of layers(1), batch_size, hidden_size)\n",
        "o, h = gru(embedded, None)\n",
        "\n",
        "print(o.shape)\n",
        "print(h.shape)\n",
        "# output      : (sequence_length, batch_size, hidden_size x bidirectional(1))\n",
        "# hidden_state: (bidirectional(1) x number of layers(1), batch_size, hidden_size)"
      ],
      "metadata": {
        "colab": {
          "base_uri": "https://localhost:8080/"
        },
        "id": "prj9C4gBVxJ8",
        "outputId": "6611d5f0-152e-47a4-ff08-67911bc2bd3a"
      },
      "execution_count": null,
      "outputs": [
        {
          "output_type": "stream",
          "name": "stdout",
          "text": [
            "torch.Size([25, 16, 32])\n",
            "torch.Size([1, 16, 32])\n"
          ]
        }
      ]
    },
    {
      "cell_type": "code",
      "source": [
        "NUM_VOCABS = dataset.wordvocab.n_words\n",
        "print(f'number of vocabs: {NUM_VOCABS}')"
      ],
      "metadata": {
        "colab": {
          "base_uri": "https://localhost:8080/"
        },
        "id": "uvil6PfkVxHv",
        "outputId": "b36c32c8-1878-4aad-fe20-57bd8b05aeea"
      },
      "execution_count": null,
      "outputs": [
        {
          "output_type": "stream",
          "name": "stdout",
          "text": [
            "number of vocabs: 5280\n"
          ]
        }
      ]
    },
    {
      "cell_type": "code",
      "source": [
        "# Encoder 정의\n",
        "encoder = Encoder(NUM_VOCABS, hidden_size=32, embedding_dim=64, num_layers=1)"
      ],
      "metadata": {
        "id": "221hJUmVVxFW"
      },
      "execution_count": null,
      "outputs": []
    },
    {
      "cell_type": "markdown",
      "source": [
        "## Encoder 정의"
      ],
      "metadata": {
        "id": "ETAwFhxaWzsY"
      }
    },
    {
      "cell_type": "code",
      "source": [
        "# Encoder에 x 통과 후 output, hidden_size 의 shape 확인\n",
        "# input(x)    : (batch_size, sequence_length)\n",
        "o, h = encoder(x)\n",
        "\n",
        "print(o.shape)\n",
        "print(h.shape)\n",
        "# output      : (sequence_length, batch_size, hidden_size x bidirectional(1))\n",
        "# hidden_state: (bidirectional(1) x number of layers(1), batch_size, hidden_size)"
      ],
      "metadata": {
        "colab": {
          "base_uri": "https://localhost:8080/"
        },
        "id": "lGfREzxCVxDJ",
        "outputId": "ea3d934e-e84d-4d37-b337-f29e096d4c05"
      },
      "execution_count": null,
      "outputs": [
        {
          "output_type": "stream",
          "name": "stdout",
          "text": [
            "torch.Size([25, 16, 32])\n",
            "torch.Size([1, 16, 32])\n"
          ]
        }
      ]
    },
    {
      "cell_type": "markdown",
      "source": [
        "# Decoder 만들기"
      ],
      "metadata": {
        "id": "WxbHG7JSWoSB"
      }
    },
    {
      "cell_type": "code",
      "source": [
        "class Decoder(nn.Module):\n",
        "    def __init__(self, num_vocabs, hidden_size, embedding_dim, num_layers=1, dropout=0.2):\n",
        "        super(Decoder, self).__init__()\n",
        "        # 단어사전 개수\n",
        "        self.num_vocabs = num_vocabs\n",
        "        self.embedding = nn.Embedding(num_vocabs, embedding_dim)\n",
        "        self.dropout = nn.Dropout(dropout)\n",
        "        self.gru = nn.GRU(embedding_dim,\n",
        "                          hidden_size,\n",
        "                          num_layers=num_layers,\n",
        "                          bidirectional=False)\n",
        "\n",
        "        # 최종 출력은 단어사전의 개수\n",
        "        self.fc = nn.Linear(hidden_size, num_vocabs)\n",
        "\n",
        "    def forward(self, x, hidden_state):\n",
        "        x = x.unsqueeze(0) # (1, batch_size) 로 변환\n",
        "        embedded = F.relu(self.embedding(x))\n",
        "        embedded = self.dropout(embedded)\n",
        "        output, hidden = self.gru(embedded, hidden_state)\n",
        "        output = self.fc(output.squeeze(0)) # (sequence_length, batch_size, hidden_size(32) x bidirectional(1))\n",
        "        return output, hidden"
      ],
      "metadata": {
        "id": "e7WjdpnbVxAa"
      },
      "execution_count": null,
      "outputs": []
    },
    {
      "cell_type": "code",
      "source": [
        "x = torch.abs(torch.randn(size=(1, 16)).long())\n",
        "print(x)\n",
        "x.shape\n",
        "# batch_size = 16 이라 가정했을 때,\n",
        "# (1, batch_size)\n",
        "# 여기서 batch_size => (1, batch_size) 로 shape 변환을 선행"
      ],
      "metadata": {
        "colab": {
          "base_uri": "https://localhost:8080/"
        },
        "id": "Ukt1pWOmVw-R",
        "outputId": "4771168b-6140-4444-c9f0-5060cb5bbab0"
      },
      "execution_count": null,
      "outputs": [
        {
          "output_type": "stream",
          "name": "stdout",
          "text": [
            "tensor([[1, 0, 0, 0, 0, 0, 1, 3, 1, 1, 0, 0, 0, 1, 1, 1]])\n"
          ]
        },
        {
          "output_type": "execute_result",
          "data": {
            "text/plain": [
              "torch.Size([1, 16])"
            ]
          },
          "metadata": {},
          "execution_count": 134
        }
      ]
    },
    {
      "cell_type": "code",
      "source": [
        "embedding_dim = 64 # 임베딩 차원\n",
        "embedding = nn.Embedding(dataset.wordvocab.n_words, embedding_dim)\n",
        "\n",
        "embedded = embedding(x)\n",
        "embedded.shape\n",
        "# embedding 출력\n",
        "# (1, batch_size, embedding_dim)"
      ],
      "metadata": {
        "colab": {
          "base_uri": "https://localhost:8080/"
        },
        "id": "Qufl6wNTWqPJ",
        "outputId": "7f24f3a7-25ab-4350-d80c-969ed6646fd3"
      },
      "execution_count": null,
      "outputs": [
        {
          "output_type": "execute_result",
          "data": {
            "text/plain": [
              "torch.Size([1, 16, 64])"
            ]
          },
          "metadata": {},
          "execution_count": 135
        }
      ]
    },
    {
      "cell_type": "code",
      "source": [
        "hidden_size = 32\n",
        "\n",
        "gru = nn.GRU(embedding_dim,\n",
        "             hidden_size,\n",
        "             num_layers=1,\n",
        "             bidirectional=False,\n",
        "             batch_first=False, # batch_first=False로 지정\n",
        "            )\n",
        "\n",
        "o, h = gru(embedded)\n",
        "\n",
        "print(o.shape)\n",
        "# output shape: (sequence_length, batch_size, hidden_size(32) x bidirectional(1))\n",
        "print(h.shape)\n",
        "# hidden_state shape: (Bidirectional(1) x number of layers(1), batch_size, hidden_size(32))"
      ],
      "metadata": {
        "colab": {
          "base_uri": "https://localhost:8080/"
        },
        "id": "ugfx1LOtWqM-",
        "outputId": "b0f0a477-6c92-4512-d769-b03a34c69c7b"
      },
      "execution_count": null,
      "outputs": [
        {
          "output_type": "stream",
          "name": "stdout",
          "text": [
            "torch.Size([1, 16, 32])\n",
            "torch.Size([1, 16, 32])\n"
          ]
        }
      ]
    },
    {
      "cell_type": "code",
      "source": [
        "fc = nn.Linear(32, NUM_VOCABS) # 출력은 단어사전의 개수로 가정\n",
        "\n",
        "output = fc(o[0])\n",
        "\n",
        "print(o[0].shape)\n",
        "print(output.shape)\n",
        "# input : (batch_size, output from GRU)\n",
        "# output: (batch_size, output dimension)"
      ],
      "metadata": {
        "colab": {
          "base_uri": "https://localhost:8080/"
        },
        "id": "VHLbK8VgWqKg",
        "outputId": "209ccdcb-5777-43f7-c1f6-b3cb8197a8a5"
      },
      "execution_count": null,
      "outputs": [
        {
          "output_type": "stream",
          "name": "stdout",
          "text": [
            "torch.Size([16, 32])\n",
            "torch.Size([16, 5280])\n"
          ]
        }
      ]
    },
    {
      "cell_type": "markdown",
      "source": [
        "## Decoder 정의"
      ],
      "metadata": {
        "id": "b0-mVJTKW573"
      }
    },
    {
      "cell_type": "code",
      "source": [
        "decoder = Decoder(num_vocabs=dataset.wordvocab.n_words, hidden_size=32, embedding_dim=64, num_layers=1)"
      ],
      "metadata": {
        "id": "LjFAFezvWqH8"
      },
      "execution_count": null,
      "outputs": []
    },
    {
      "cell_type": "code",
      "source": [
        "x, y = next(iter(train_loader))\n",
        "\n",
        "o, h = encoder(x)\n",
        "\n",
        "print(o.shape, h.shape)\n",
        "# output      : (batch_size, sequence_length, hidden_size(32) x bidirectional(1))\n",
        "# hidden_state: (Bidirectional(1) x number of layers(1), batch_size, hidden_size(32))"
      ],
      "metadata": {
        "colab": {
          "base_uri": "https://localhost:8080/"
        },
        "id": "7k8wov_uWqF3",
        "outputId": "fab7cad0-8efa-41bc-ddaa-40312c1afa2f"
      },
      "execution_count": null,
      "outputs": [
        {
          "output_type": "stream",
          "name": "stdout",
          "text": [
            "torch.Size([25, 16, 32]) torch.Size([1, 16, 32])\n"
          ]
        }
      ]
    },
    {
      "cell_type": "code",
      "source": [
        "x = torch.abs(torch.full(size=(16,), fill_value=SOS_TOKEN).long())\n",
        "print(x)\n",
        "x.shape\n",
        "# batch_size = 16 이라 가정(16개의 SOS 토큰)"
      ],
      "metadata": {
        "colab": {
          "base_uri": "https://localhost:8080/"
        },
        "id": "m3IyR3dAWqDa",
        "outputId": "0e994d66-1b09-4fa2-e684-0ebcfad55426"
      },
      "execution_count": null,
      "outputs": [
        {
          "output_type": "stream",
          "name": "stdout",
          "text": [
            "tensor([1, 1, 1, 1, 1, 1, 1, 1, 1, 1, 1, 1, 1, 1, 1, 1])\n"
          ]
        },
        {
          "output_type": "execute_result",
          "data": {
            "text/plain": [
              "torch.Size([16])"
            ]
          },
          "metadata": {},
          "execution_count": 140
        }
      ]
    },
    {
      "cell_type": "code",
      "source": [
        "decoder_output, decoder_hidden = decoder(x, h)\n",
        "decoder_output.shape, decoder_hidden.shape\n",
        "# (batch_size, num_vocabs), (1, batch_size, hidden_size)"
      ],
      "metadata": {
        "colab": {
          "base_uri": "https://localhost:8080/"
        },
        "id": "WINqAVmJWp_P",
        "outputId": "cbae1f7a-dd1b-4f81-c65b-2e22c1d8c80a"
      },
      "execution_count": null,
      "outputs": [
        {
          "output_type": "execute_result",
          "data": {
            "text/plain": [
              "(torch.Size([16, 5280]), torch.Size([1, 16, 32]))"
            ]
          },
          "metadata": {},
          "execution_count": 141
        }
      ]
    },
    {
      "cell_type": "markdown",
      "source": [
        "# Seq2Seq 모델 만들기"
      ],
      "metadata": {
        "id": "YuJaLiSyXDUk"
      }
    },
    {
      "cell_type": "code",
      "source": [
        "class Seq2Seq(nn.Module):\n",
        "    def __init__(self, encoder, decoder, device):\n",
        "        super(Seq2Seq, self).__init__()\n",
        "        self.encoder = encoder\n",
        "        self.decoder = decoder\n",
        "        self.device = device\n",
        "\n",
        "    def forward(self, inputs, outputs, teacher_forcing_ratio=0.5):\n",
        "        # inputs : (batch_size, sequence_length)\n",
        "        # outputs: (batch_size, sequence_length)\n",
        "\n",
        "        batch_size, output_length = outputs.shape\n",
        "        output_num_vocabs = self.decoder.num_vocabs\n",
        "\n",
        "        # 리턴할 예측된 outputs를 저장할 임시 변수\n",
        "        # (sequence_length, batch_size, num_vocabs)\n",
        "        predicted_outputs = torch.zeros(output_length, batch_size, output_num_vocabs).to(self.device)\n",
        "\n",
        "        # 인코더에 입력 데이터 주입, encoder_output은 버리고 hidden_state 만 살립니다.\n",
        "        # 여기서 hidden_state가 디코더에 주입할 context vector 입니다.\n",
        "        # (Bidirectional(1) x number of layers(1), batch_size, hidden_size)\n",
        "        _, decoder_hidden = self.encoder(inputs)\n",
        "\n",
        "        # (batch_size) shape의 SOS TOKEN으로 채워진 디코더 입력 생성\n",
        "        decoder_input = torch.full((batch_size,), SOS_TOKEN, device=self.device)\n",
        "\n",
        "        # 순회하면서 출력 단어를 생성합니다.\n",
        "        # 0번째는 SOS TOKEN이 위치하므로, 1번째 인덱스부터 순회합니다.\n",
        "        for t in range(0, output_length):\n",
        "            # decoder_input : 디코더 입력 (batch_size) 형태의 SOS TOKEN로 채워진 입력\n",
        "            # decoder_output: (batch_size, num_vocabs)\n",
        "            # decoder_hidden: (Bidirectional(1) x number of layers(1), batch_size, hidden_size), context vector와 동일 shape\n",
        "            decoder_output, decoder_hidden = self.decoder(decoder_input, decoder_hidden)\n",
        "\n",
        "            # t번째 단어에 디코더의 output 저장\n",
        "            predicted_outputs[t] = decoder_output\n",
        "\n",
        "            # teacher forcing 적용 여부 확률로 결정\n",
        "            # teacher forcing 이란: 정답치를 다음 RNN Cell의 입력으로 넣어주는 경우. 수렴속도가 빠를 수 있으나, 불안정할 수 있음\n",
        "            teacher_force = random.random() < teacher_forcing_ratio\n",
        "\n",
        "            # top1 단어 토큰 예측\n",
        "            top1 = decoder_output.argmax(1)\n",
        "\n",
        "            # teacher forcing 인 경우 ground truth 값을, 그렇지 않은 경우, 예측 값을 다음 input으로 지정\n",
        "            decoder_input = outputs[:, t] if teacher_force else top1\n",
        "\n",
        "        return predicted_outputs.permute(1, 0, 2) # (batch_size, sequence_length, num_vocabs)로 변경"
      ],
      "metadata": {
        "id": "_PytT7XtW-tM"
      },
      "execution_count": null,
      "outputs": []
    },
    {
      "cell_type": "code",
      "source": [
        "# Encoder 정의\n",
        "encoder = Encoder(num_vocabs=dataset.wordvocab.n_words,\n",
        "                       hidden_size=32,\n",
        "                       embedding_dim=64,\n",
        "                       num_layers=1)\n",
        "# Decoder 정의\n",
        "decoder = Decoder(num_vocabs=dataset.wordvocab.n_words,\n",
        "                       hidden_size=32,\n",
        "                       embedding_dim=64,\n",
        "                       num_layers=1)\n",
        "# Seq2Seq 정의\n",
        "seq2seq = Seq2Seq(encoder, decoder, 'cpu')"
      ],
      "metadata": {
        "id": "xpvgCZhiW-qs"
      },
      "execution_count": null,
      "outputs": []
    },
    {
      "cell_type": "code",
      "source": [
        "x, y = next(iter(train_loader))\n",
        "print(x.shape, y.shape)\n",
        "# (batch_size, sequence_length), (batch_size, sequence_length)"
      ],
      "metadata": {
        "colab": {
          "base_uri": "https://localhost:8080/"
        },
        "id": "M8DrPCgVW-oF",
        "outputId": "9159dc6c-b1a6-4f24-fa2f-a3e9bb4cc2fb"
      },
      "execution_count": null,
      "outputs": [
        {
          "output_type": "stream",
          "name": "stdout",
          "text": [
            "torch.Size([16, 25]) torch.Size([16, 25])\n"
          ]
        }
      ]
    },
    {
      "cell_type": "code",
      "source": [
        "output = seq2seq(x, y)\n",
        "print(output.shape)\n",
        "# (batch_size, sequence_length, num_vocabs)"
      ],
      "metadata": {
        "colab": {
          "base_uri": "https://localhost:8080/"
        },
        "id": "2J4N_X2rW-lz",
        "outputId": "e91f0153-893f-46a3-e011-48511a4ec41b"
      },
      "execution_count": null,
      "outputs": [
        {
          "output_type": "stream",
          "name": "stdout",
          "text": [
            "torch.Size([16, 25, 5280])\n"
          ]
        }
      ]
    },
    {
      "cell_type": "markdown",
      "source": [
        "# 학습하기"
      ],
      "metadata": {
        "id": "xhHarWD6XUT_"
      }
    },
    {
      "cell_type": "code",
      "source": [
        "NUM_VOCABS = dataset.wordvocab.n_words\n",
        "HIDDEN_SIZE = 512\n",
        "EMBEDDIMG_DIM = 256\n",
        "\n",
        "print(f'num_vocabs: {NUM_VOCABS}\\n======================')\n",
        "\n",
        "# Encoder 정의\n",
        "encoder = Encoder(num_vocabs=NUM_VOCABS,\n",
        "                  hidden_size=HIDDEN_SIZE,\n",
        "                  embedding_dim=EMBEDDIMG_DIM,\n",
        "                  num_layers=1)\n",
        "# Decoder 정의\n",
        "decoder = Decoder(num_vocabs=NUM_VOCABS,\n",
        "                  hidden_size=HIDDEN_SIZE,\n",
        "                  embedding_dim=EMBEDDIMG_DIM,\n",
        "                  num_layers=1)\n",
        "\n",
        "# Seq2Seq 생성\n",
        "# encoder, decoder를 device 모두 지정\n",
        "model = Seq2Seq(encoder.to(device), decoder.to(device), device)\n",
        "print(model)"
      ],
      "metadata": {
        "colab": {
          "base_uri": "https://localhost:8080/"
        },
        "id": "Jyuw1zgTW-jh",
        "outputId": "c5002794-78e6-47b0-fe3f-a04e66bd8de1"
      },
      "execution_count": null,
      "outputs": [
        {
          "output_type": "stream",
          "name": "stdout",
          "text": [
            "num_vocabs: 5280\n",
            "======================\n",
            "Seq2Seq(\n",
            "  (encoder): Encoder(\n",
            "    (embedding): Embedding(5280, 256)\n",
            "    (gru): GRU(256, 512)\n",
            "  )\n",
            "  (decoder): Decoder(\n",
            "    (embedding): Embedding(5280, 256)\n",
            "    (dropout): Dropout(p=0.2, inplace=False)\n",
            "    (gru): GRU(256, 512)\n",
            "    (fc): Linear(in_features=512, out_features=5280, bias=True)\n",
            "  )\n",
            ")\n"
          ]
        }
      ]
    },
    {
      "cell_type": "markdown",
      "source": [
        "# 하이퍼파라미터 정의"
      ],
      "metadata": {
        "id": "EaBwVfIzXm-s"
      }
    },
    {
      "cell_type": "code",
      "source": [
        "class EarlyStopping:\n",
        "    def __init__(self, patience=3, delta=0.0, mode='min', verbose=True):\n",
        "        \"\"\"\n",
        "        patience (int): loss or score가 개선된 후 기다리는 기간. default: 3\n",
        "        delta  (float): 개선시 인정되는 최소 변화 수치. default: 0.0\n",
        "        mode     (str): 개선시 최소/최대값 기준 선정('min' or 'max'). default: 'min'.\n",
        "        verbose (bool): 메시지 출력. default: True\n",
        "        \"\"\"\n",
        "        self.early_stop = False\n",
        "        self.patience = patience\n",
        "        self.verbose = verbose\n",
        "        self.counter = 0\n",
        "\n",
        "        self.best_score = np.Inf if mode == 'min' else 0\n",
        "        self.mode = mode\n",
        "        self.delta = delta\n",
        "\n",
        "\n",
        "    def __call__(self, score):\n",
        "\n",
        "        if self.best_score is None:\n",
        "            self.best_score = score\n",
        "            self.counter = 0\n",
        "        elif self.mode == 'min':\n",
        "            if score < (self.best_score - self.delta):\n",
        "                self.counter = 0\n",
        "                self.best_score = score\n",
        "                if self.verbose:\n",
        "                    print(f'[EarlyStopping] (Update) Best Score: {self.best_score:.5f}')\n",
        "            else:\n",
        "                self.counter += 1\n",
        "                if self.verbose:\n",
        "                    print(f'[EarlyStopping] (Patience) {self.counter}/{self.patience}, ' \\\n",
        "                          f'Best: {self.best_score:.5f}' \\\n",
        "                          f', Current: {score:.5f}, Delta: {np.abs(self.best_score - score):.5f}')\n",
        "\n",
        "        elif self.mode == 'max':\n",
        "            if score > (self.best_score + self.delta):\n",
        "                self.counter = 0\n",
        "                self.best_score = score\n",
        "                if self.verbose:\n",
        "                    print(f'[EarlyStopping] (Update) Best Score: {self.best_score:.5f}')\n",
        "            else:\n",
        "                self.counter += 1\n",
        "                if self.verbose:\n",
        "                    print(f'[EarlyStopping] (Patience) {self.counter}/{self.patience}, ' \\\n",
        "                          f'Best: {self.best_score:.5f}' \\\n",
        "                          f', Current: {score:.5f}, Delta: {np.abs(self.best_score - score):.5f}')\n",
        "\n",
        "\n",
        "        if self.counter >= self.patience:\n",
        "            if self.verbose:\n",
        "                print(f'[EarlyStop Triggered] Best Score: {self.best_score:.5f}')\n",
        "            # Early Stop\n",
        "            self.early_stop = True\n",
        "        else:\n",
        "            # Continue\n",
        "            self.early_stop = False"
      ],
      "metadata": {
        "id": "KKNqhiB1W-hS"
      },
      "execution_count": null,
      "outputs": []
    },
    {
      "cell_type": "code",
      "source": [
        "LR = 1e-3\n",
        "optimizer = optim.Adam(model.parameters(), lr=LR)\n",
        "loss_fn = nn.CrossEntropyLoss()\n",
        "es = EarlyStopping(patience=5, delta=0.001, mode='min', verbose=True)\n",
        "scheduler = optim.lr_scheduler.ReduceLROnPlateau(optimizer, mode='min', factor=0.5, patience=2, threshold_mode='abs', min_lr=1e-8, verbose=True)"
      ],
      "metadata": {
        "id": "cyJi-J-sW-ee"
      },
      "execution_count": null,
      "outputs": []
    },
    {
      "cell_type": "markdown",
      "source": [
        "# 학습 loop 만들기"
      ],
      "metadata": {
        "id": "1Ql0nXlWYCyi"
      }
    },
    {
      "cell_type": "code",
      "source": [
        "def train(model, data_loader, optimizer, loss_fn, device):\n",
        "    model.train()\n",
        "    running_loss = 0\n",
        "\n",
        "    for x, y in data_loader:\n",
        "        x, y = x.to(device), y.to(device)\n",
        "\n",
        "        optimizer.zero_grad()\n",
        "\n",
        "        # output: (batch_size, sequence_length, num_vocabs)\n",
        "        output = model(x, y)\n",
        "        output_dim = output.size(2)\n",
        "\n",
        "        # 1번 index 부터 슬라이싱한 이유는 0번 index가 SOS TOKEN 이기 때문\n",
        "        # (batch_size*sequence_length, num_vocabs) 로 변경\n",
        "        output = output.reshape(-1, output_dim)\n",
        "\n",
        "        # (batch_size*sequence_length) 로 변경\n",
        "        y = y.view(-1)\n",
        "\n",
        "        # Loss 계산\n",
        "        loss = loss_fn(output, y)\n",
        "        loss.backward()\n",
        "        optimizer.step()\n",
        "\n",
        "        running_loss += loss.item() * x.size(0)\n",
        "\n",
        "    return running_loss / len(data_loader)"
      ],
      "metadata": {
        "id": "8kpqXIFzVw7x"
      },
      "execution_count": null,
      "outputs": []
    },
    {
      "cell_type": "markdown",
      "source": [
        "# 테스트 loop 만들기"
      ],
      "metadata": {
        "id": "GLiga1pBYKCX"
      }
    },
    {
      "cell_type": "code",
      "source": [
        "def evaluate(model, data_loader, loss_fn, device):\n",
        "    model.eval()\n",
        "\n",
        "    eval_loss = 0\n",
        "\n",
        "    with torch.no_grad():\n",
        "        for x, y in data_loader:\n",
        "            x, y = x.to(device), y.to(device)\n",
        "            output = model(x, y)\n",
        "            output_dim = output.size(2)\n",
        "            output = output.reshape(-1, output_dim)\n",
        "            y = y.view(-1)\n",
        "\n",
        "            # Loss 계산\n",
        "            loss = loss_fn(output, y)\n",
        "\n",
        "            eval_loss += loss.item() * x.size(0)\n",
        "\n",
        "    return eval_loss / len(data_loader)"
      ],
      "metadata": {
        "id": "GMSKIYG_YCNa"
      },
      "execution_count": null,
      "outputs": []
    },
    {
      "cell_type": "markdown",
      "source": [
        "# 추론 함수"
      ],
      "metadata": {
        "id": "DdudDwwdYRiR"
      }
    },
    {
      "cell_type": "code",
      "source": [
        "def sequence_to_sentence(sequences, index2word):\n",
        "    outputs = []\n",
        "    for p in sequences:\n",
        "\n",
        "        word = index2word[p]\n",
        "        if p not in [SOS_TOKEN, EOS_TOKEN, PAD_TOKEN]:\n",
        "            outputs.append(word)\n",
        "        if word == EOS_TOKEN:\n",
        "            break\n",
        "    return ' '.join(outputs)"
      ],
      "metadata": {
        "id": "H0YOB9zbYCKs"
      },
      "execution_count": null,
      "outputs": []
    },
    {
      "cell_type": "markdown",
      "source": [
        "# 챗봇 함수화"
      ],
      "metadata": {
        "id": "175bJ_uPYX-n"
      }
    },
    {
      "cell_type": "code",
      "source": [
        "def random_evaluation(model, dataset, index2word, device, n=10):\n",
        "\n",
        "    n_samples = len(dataset)\n",
        "    indices = list(range(n_samples))\n",
        "    np.random.shuffle(indices)      # Shuffle\n",
        "    sampled_indices = indices[:n]   # Sampling N indices\n",
        "\n",
        "    # 샘플링한 데이터를 기반으로 DataLoader 생성\n",
        "    sampler = SubsetRandomSampler(sampled_indices)\n",
        "    sampled_dataloader = DataLoader(dataset, batch_size=10, sampler=sampler)\n",
        "\n",
        "    model.eval()\n",
        "    with torch.no_grad():\n",
        "        for x, y in sampled_dataloader:\n",
        "            x, y = x.to(device), y.to(device)\n",
        "            output = model(x, y, teacher_forcing_ratio=0)\n",
        "            # output: (number of samples, sequence_length, num_vocabs)\n",
        "\n",
        "            preds = output.detach().cpu().numpy()\n",
        "            x = x.detach().cpu().numpy()\n",
        "            y = y.detach().cpu().numpy()\n",
        "\n",
        "            for i in range(n):\n",
        "                print(f'질문   : {sequence_to_sentence(x[i], index2word)}')\n",
        "                print(f'답변   : {sequence_to_sentence(y[i], index2word)}')\n",
        "                print(f'예측답변: {sequence_to_sentence(preds[i].argmax(1), index2word)}')\n",
        "                print('==='*10)"
      ],
      "metadata": {
        "id": "AvWzcUC5YCH-"
      },
      "execution_count": null,
      "outputs": []
    },
    {
      "cell_type": "code",
      "source": [
        "NUM_EPOCHS = 20\n",
        "STATEDICT_PATH = '/content/drive/MyDrive/project_final/data/models/seq2seq-chatbot-kor.pt'\n",
        "\n",
        "best_loss = np.inf\n",
        "\n",
        "for epoch in tqdm(range(NUM_EPOCHS), total=NUM_EPOCHS):\n",
        "    loss = train(model, train_loader, optimizer, loss_fn, device)\n",
        "\n",
        "    val_loss = evaluate(model, test_loader, loss_fn, device)\n",
        "\n",
        "    if val_loss < best_loss:\n",
        "        best_loss = val_loss\n",
        "        torch.save(model.state_dict(), STATEDICT_PATH)\n",
        "\n",
        "    if epoch % 5 == 0:\n",
        "        print(f'epoch: {epoch+1}, loss: {loss:.4f}, val_loss: {val_loss:.4f}')\n",
        "\n",
        "    # Early Stop\n",
        "    es(loss)\n",
        "    if es.early_stop:\n",
        "        break\n",
        "\n",
        "    # Scheduler\n",
        "    scheduler.step(val_loss)\n",
        "\n",
        "model.load_state_dict(torch.load(STATEDICT_PATH))\n",
        "torch.save(model.state_dict(), f'/content/drive/MyDrive/project_final/data/models/seq2seq-chatbot-kor-{best_loss:.4f}.pt')"
      ],
      "metadata": {
        "colab": {
          "base_uri": "https://localhost:8080/",
          "height": 563,
          "referenced_widgets": [
            "46b61d7e8edf4107b778488624551f0d",
            "618b178cb1ab423683d7d455bb213463",
            "c1a956a119fc4f1198c4cf02cf43f05c",
            "fb26b07fde3d410e9f12a480476aa91b",
            "72307bef8a5142c2b0f3f16b1de9ae14",
            "ee423fd1c97a402da37aaaba0e67a59c",
            "230e13c5809e48498bcce143045165a1",
            "2e0dc2c30abe41b698cd96b4a4954d63",
            "facf354da8564686b3b667fe95799776",
            "cf1c61a740f2427fbcf1732deb79777b",
            "b64671e2e1184695b4d1505052f723ad"
          ]
        },
        "id": "5Cq2N7f-YCFe",
        "outputId": "495f0977-3e06-4ebe-a3c0-ddc5bf0406d1"
      },
      "execution_count": null,
      "outputs": [
        {
          "output_type": "display_data",
          "data": {
            "text/plain": [
              "  0%|          | 0/20 [00:00<?, ?it/s]"
            ],
            "application/vnd.jupyter.widget-view+json": {
              "version_major": 2,
              "version_minor": 0,
              "model_id": "46b61d7e8edf4107b778488624551f0d"
            }
          },
          "metadata": {}
        },
        {
          "output_type": "stream",
          "name": "stdout",
          "text": [
            "epoch: 1, loss: 35.0493, val_loss: 76.9781\n",
            "[EarlyStopping] (Patience) 1/5, Best: 30.85113, Current: 35.04931, Delta: 4.19818\n",
            "[EarlyStopping] (Patience) 2/5, Best: 30.85113, Current: 32.35160, Delta: 1.50047\n",
            "[EarlyStopping] (Patience) 3/5, Best: 30.85113, Current: 32.28246, Delta: 1.43133\n",
            "Epoch 00023: reducing learning rate of group 0 to 1.2500e-04.\n",
            "[EarlyStopping] (Update) Best Score: 30.29710\n",
            "[EarlyStopping] (Patience) 1/5, Best: 30.29710, Current: 30.44038, Delta: 0.14328\n",
            "epoch: 6, loss: 30.7028, val_loss: 76.9470\n",
            "[EarlyStopping] (Patience) 2/5, Best: 30.29710, Current: 30.70282, Delta: 0.40572\n",
            "Epoch 00026: reducing learning rate of group 0 to 6.2500e-05.\n",
            "[EarlyStopping] (Update) Best Score: 29.45390\n",
            "[EarlyStopping] (Update) Best Score: 28.03338\n",
            "[EarlyStopping] (Update) Best Score: 28.00966\n",
            "Epoch 00029: reducing learning rate of group 0 to 3.1250e-05.\n",
            "[EarlyStopping] (Patience) 1/5, Best: 28.00966, Current: 28.53166, Delta: 0.52200\n",
            "epoch: 11, loss: 27.6691, val_loss: 78.3827\n",
            "[EarlyStopping] (Update) Best Score: 27.66907\n",
            "[EarlyStopping] (Patience) 1/5, Best: 27.66907, Current: 28.38537, Delta: 0.71630\n",
            "Epoch 00032: reducing learning rate of group 0 to 1.5625e-05.\n",
            "[EarlyStopping] (Update) Best Score: 27.39797\n",
            "[EarlyStopping] (Patience) 1/5, Best: 27.39797, Current: 27.50886, Delta: 0.11089\n",
            "[EarlyStopping] (Patience) 2/5, Best: 27.39797, Current: 27.68464, Delta: 0.28667\n",
            "Epoch 00035: reducing learning rate of group 0 to 7.8125e-06.\n",
            "epoch: 16, loss: 27.4727, val_loss: 77.9373\n",
            "[EarlyStopping] (Patience) 3/5, Best: 27.39797, Current: 27.47274, Delta: 0.07476\n",
            "[EarlyStopping] (Patience) 4/5, Best: 27.39797, Current: 27.72014, Delta: 0.32216\n",
            "[EarlyStopping] (Patience) 5/5, Best: 27.39797, Current: 27.78484, Delta: 0.38687\n",
            "[EarlyStop Triggered] Best Score: 27.39797\n"
          ]
        }
      ]
    },
    {
      "cell_type": "markdown",
      "source": [
        "# 결과 확인하기"
      ],
      "metadata": {
        "id": "z6dqkRwEa8qL"
      }
    },
    {
      "cell_type": "code",
      "source": [
        "model.load_state_dict(torch.load(STATEDICT_PATH))\n",
        "random_evaluation(model, test_dataset, dataset.wordvocab.index2word, device)"
      ],
      "metadata": {
        "colab": {
          "base_uri": "https://localhost:8080/"
        },
        "id": "mQcpuYReYCDE",
        "outputId": "4606c6f9-17d2-4d80-f757-dd2ccbc08366"
      },
      "execution_count": null,
      "outputs": [
        {
          "output_type": "stream",
          "name": "stdout",
          "text": [
            "질문   : 언제나 만족스럽습니다 잘 먹었습니다\n",
            "답변   : 안녕하세요 만족스런 식사 가 되셨다니 정말 기쁘네요 불맛 이 확 들어간 양념 석쇠 불고기 를 사랑 해주셔서 정말 감사 드립니다 든든한 한 끼 식사\n",
            "예측답변: 고객 님 안녕하세요 항상 고객 님 께 최선 을 다 하는 뜸 들 이다 북서울꿈의숲 점 입니다 소중한 별 점 5 점 리뷰 감사합니다\n",
            "==============================\n",
            "질문   : 최근 들어 자주 시켜 먹고있는데 오늘 유독 오이 가 너무 써서 처음 으로 오이 를 다 못 먹었네요 이전 에 시켜 먹었을 때 는\n",
            "답변   : 고객 님 안녕하세요 소중한 식사 시간 에 불편 드려 정말 죄송합니다 오이 가 식 자재 에서 바로 받아 온건데 쓴 오이 들이 많아 우선\n",
            "예측답변: 안녕하세요 주문 해주셔서 감사합니다 드립니다 아무래도 씬 도우 이 마음 들 은 늘 푸 짐 한 양 과 맛 으로 보답 하겠습니다\n",
            "==============================\n",
            "질문   : 언제나 맛있네요 쫄깃 하고 부드럽고\n",
            "답변   : 식사 는 맛있게 하셨나요 혜화 대학로 sns 피자 랭킹 맛집 피자 보이시 나 대학로 점 을 믿고 주문 해주셔서 정말 감사합니다 저희 피자 보이시나는\n",
            "예측답변: 고객 님 안녕하세요 시간 내어 리뷰 작성 해주셔서 정말 감사합니다 항상 고객 님 들 주문 하나 하나 에 정성 을 담아 대접 하겠습니다 믿고\n",
            "==============================\n",
            "질문   : 냉면 맛 나 요 물만두 는 떡 이 돼서 왔어요\n",
            "답변   : 고객 님 안녕하세요 소중한 식사 시간 에 불편 드려 정말 죄송합니다 물만두 는 최대한 떡 이 되지 않게 마지막 으로 포장 하고 있는데 더욱\n",
            "예측답변: 고객 님 안녕하세요 시간 내어 리뷰 작성 해주셔서 정말 감사합니다 항상 고객 님 들 주문 하나 하나 에 정성 을 담아 대접 하겠습니다 믿고\n",
            "==============================\n",
            "질문   : 맛있게 잘 먹었습니다 토핑 좋아요\n",
            "답변   : 안녕하세요 프 라텔 로 입니다 저희 프 라텔 로 를 이용 해주셔서 정말 감사 드립니다 앞 으로도 맛있는 한 끼 책임지겠습니다 자주 이용 부탁드려요\n",
            "예측답변: 맛있게 드셔 주시 고 시간 내서 소중한 리뷰 달아주셔서 너무 너무 감사 드립니다 고객 님 덕 에 너무 힘 이 나네요 항상 정성 을\n",
            "==============================\n",
            "질문   : 저 게 뭔가 하고 계속 쳐다봤는데 저기 주 문서 부터 친절함이 느껴지는거 같아요 요기 서 처음 먹어 봤는데 엄청 맛있어요 근데 매운거 잘 먹는\n",
            "답변   : 안녕하세요 소중한 별 5 개 리뷰 와 칭찬 감사합니다 주문 해주신 고객 님 한 분 한 분 모든 메뉴 에 정성 을 담아서 조리\n",
            "예측답변: 고객 님 안녕하세요 시간 내어 리뷰 작성 해주셔서 정말 감사합니다 항상 고객 님 들 주문 하나 하나 에 정성 을 담아 조리 하여\n",
            "==============================\n",
            "질문   : 배달 도 정말 빠르고 정말 꽉찬 두 마리 라 맛있게 먹었습니다 다만 두 마리 로 주문 하면서 하 난 간장 으로 선택 했는게 둘다\n",
            "답변   : 소중한 주문 감사 드립니다 찜 해주시 면 정말 감사 드립니다 안녕하세요 천년 닭강정 입니다 소중한 별 점 과 리뷰 정말 감사합니다 신선한 닭다리 살\n",
            "예측답변: 맛있게 드셔주셔서 감사합니다 배달 과 맛 으로 청결하고 빠른 배달 과 친절한 서비스 로 찾아 뵙겠습니다 혹시 음식 에 불편함이있으시다면 전화 주세요 바로\n",
            "==============================\n",
            "질문   : 좋은 음식 잘 먹었습니다 특히 흰 통 에 담긴 파김치 는 최고 였습니다 저희 아이 가 편식 땜 에 호불호 가 있는 편 인데\n",
            "답변   : 아이고 아이 입맛 에 맞았다니 정말 감사한 일이 네 요 항상 좋은 말씀 너무 감사 드려요 즐거운 주말 보내셔요\n",
            "예측답변: 안녕하세요 저희 미 친 피자 가 고객 님 입맛 에 잘 맞으신 거 같아 너무나도 행복한 마음 입니다 앞 으로도 맛있고 푸 짐하게 준비\n",
            "==============================\n",
            "질문   : 역시 맛있어요 재주 문 의사 백퍼 입니다 항상 건강하시고 번창 하세요\n",
            "답변   : 맛있게 드셔 주셔서 너무 감사 드립니다 요즘 미세먼지 도 너무 심하고 날씨 도 쌀쌀해졌어요 건강 잘 챙기시길 바라겠구 용 또 만나면 좋겠 습 니당\n",
            "예측답변: 소중한 리뷰 감사합니다 저희 음식 으로 만족스러운 식사 시간 이 되신 것 같아 뿌듯하네요 모든 음식 을 매일 정성 스럽게 준비 하고 있습니다\n",
            "==============================\n",
            "질문   : 사장 님 센스 에 감탄 하고 맛 에 두 번 감탄 했네요 굉장히 고소하고 담백하구요 국물 이 그냥 엄청 맑아요 자주 시켜 먹을것 같네요\n",
            "답변   : 맛있게 드시고 시간 내어 소중한 글 남겨주셔서 감사합니다 담백한 음식 이 입맛 에 잘맞으신 것 같습니다 다음 에 찾아 주실 때 도 변함 없이\n",
            "예측답변: 안녕하세요 고객 님 소중한 리뷰 남겨주셔서 감사합니다 저희 큰아들 백 순대 는 항상 맛있는 서비스 를 해드리기 위해 서 노력 하고 있습니다 사용 되는\n",
            "==============================\n"
          ]
        }
      ]
    },
    {
      "cell_type": "code",
      "source": [],
      "metadata": {
        "id": "7b4lKyuSYCAR"
      },
      "execution_count": null,
      "outputs": []
    }
  ]
}