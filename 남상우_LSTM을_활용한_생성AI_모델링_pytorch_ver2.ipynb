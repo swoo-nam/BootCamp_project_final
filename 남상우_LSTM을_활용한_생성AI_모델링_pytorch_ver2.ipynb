{
  "nbformat": 4,
  "nbformat_minor": 0,
  "metadata": {
    "colab": {
      "provenance": [],
      "gpuType": "V100",
      "toc_visible": true,
      "machine_shape": "hm",
      "include_colab_link": true
    },
    "kernelspec": {
      "name": "python3",
      "display_name": "Python 3"
    },
    "language_info": {
      "name": "python"
    },
    "accelerator": "GPU",
    "widgets": {
      "application/vnd.jupyter.widget-state+json": {
        "e441fefb5c4c434e928935e9d69d1512": {
          "model_module": "@jupyter-widgets/controls",
          "model_name": "HBoxModel",
          "model_module_version": "1.5.0",
          "state": {
            "_dom_classes": [],
            "_model_module": "@jupyter-widgets/controls",
            "_model_module_version": "1.5.0",
            "_model_name": "HBoxModel",
            "_view_count": null,
            "_view_module": "@jupyter-widgets/controls",
            "_view_module_version": "1.5.0",
            "_view_name": "HBoxView",
            "box_style": "",
            "children": [
              "IPY_MODEL_1f713f1cecbe427c91fc3d5edb783b99",
              "IPY_MODEL_98cba574f74545b0871dee6515672f8d",
              "IPY_MODEL_4c04726087f743d5ada23905dfe4a406"
            ],
            "layout": "IPY_MODEL_0ba56457bb41469281c9e9a4d74c5e69"
          }
        },
        "1f713f1cecbe427c91fc3d5edb783b99": {
          "model_module": "@jupyter-widgets/controls",
          "model_name": "HTMLModel",
          "model_module_version": "1.5.0",
          "state": {
            "_dom_classes": [],
            "_model_module": "@jupyter-widgets/controls",
            "_model_module_version": "1.5.0",
            "_model_name": "HTMLModel",
            "_view_count": null,
            "_view_module": "@jupyter-widgets/controls",
            "_view_module_version": "1.5.0",
            "_view_name": "HTMLView",
            "description": "",
            "description_tooltip": null,
            "layout": "IPY_MODEL_5a5fa32d591f4cbb893e54b23e954d9f",
            "placeholder": "​",
            "style": "IPY_MODEL_026408a0181a458d81d9db062445d5ee",
            "value": "100%"
          }
        },
        "98cba574f74545b0871dee6515672f8d": {
          "model_module": "@jupyter-widgets/controls",
          "model_name": "FloatProgressModel",
          "model_module_version": "1.5.0",
          "state": {
            "_dom_classes": [],
            "_model_module": "@jupyter-widgets/controls",
            "_model_module_version": "1.5.0",
            "_model_name": "FloatProgressModel",
            "_view_count": null,
            "_view_module": "@jupyter-widgets/controls",
            "_view_module_version": "1.5.0",
            "_view_name": "ProgressView",
            "bar_style": "success",
            "description": "",
            "description_tooltip": null,
            "layout": "IPY_MODEL_9af4e59b7f7d4be4b0a01e2377681b89",
            "max": 20,
            "min": 0,
            "orientation": "horizontal",
            "style": "IPY_MODEL_a169296657e1458d859598f23c9dcc44",
            "value": 20
          }
        },
        "4c04726087f743d5ada23905dfe4a406": {
          "model_module": "@jupyter-widgets/controls",
          "model_name": "HTMLModel",
          "model_module_version": "1.5.0",
          "state": {
            "_dom_classes": [],
            "_model_module": "@jupyter-widgets/controls",
            "_model_module_version": "1.5.0",
            "_model_name": "HTMLModel",
            "_view_count": null,
            "_view_module": "@jupyter-widgets/controls",
            "_view_module_version": "1.5.0",
            "_view_name": "HTMLView",
            "description": "",
            "description_tooltip": null,
            "layout": "IPY_MODEL_66d4a29375fb474581e36eea75c97d15",
            "placeholder": "​",
            "style": "IPY_MODEL_16cd75f8c9bf40bd865acfa2c9467228",
            "value": " 20/20 [20:26&lt;00:00, 61.66s/it]"
          }
        },
        "0ba56457bb41469281c9e9a4d74c5e69": {
          "model_module": "@jupyter-widgets/base",
          "model_name": "LayoutModel",
          "model_module_version": "1.2.0",
          "state": {
            "_model_module": "@jupyter-widgets/base",
            "_model_module_version": "1.2.0",
            "_model_name": "LayoutModel",
            "_view_count": null,
            "_view_module": "@jupyter-widgets/base",
            "_view_module_version": "1.2.0",
            "_view_name": "LayoutView",
            "align_content": null,
            "align_items": null,
            "align_self": null,
            "border": null,
            "bottom": null,
            "display": null,
            "flex": null,
            "flex_flow": null,
            "grid_area": null,
            "grid_auto_columns": null,
            "grid_auto_flow": null,
            "grid_auto_rows": null,
            "grid_column": null,
            "grid_gap": null,
            "grid_row": null,
            "grid_template_areas": null,
            "grid_template_columns": null,
            "grid_template_rows": null,
            "height": null,
            "justify_content": null,
            "justify_items": null,
            "left": null,
            "margin": null,
            "max_height": null,
            "max_width": null,
            "min_height": null,
            "min_width": null,
            "object_fit": null,
            "object_position": null,
            "order": null,
            "overflow": null,
            "overflow_x": null,
            "overflow_y": null,
            "padding": null,
            "right": null,
            "top": null,
            "visibility": null,
            "width": null
          }
        },
        "5a5fa32d591f4cbb893e54b23e954d9f": {
          "model_module": "@jupyter-widgets/base",
          "model_name": "LayoutModel",
          "model_module_version": "1.2.0",
          "state": {
            "_model_module": "@jupyter-widgets/base",
            "_model_module_version": "1.2.0",
            "_model_name": "LayoutModel",
            "_view_count": null,
            "_view_module": "@jupyter-widgets/base",
            "_view_module_version": "1.2.0",
            "_view_name": "LayoutView",
            "align_content": null,
            "align_items": null,
            "align_self": null,
            "border": null,
            "bottom": null,
            "display": null,
            "flex": null,
            "flex_flow": null,
            "grid_area": null,
            "grid_auto_columns": null,
            "grid_auto_flow": null,
            "grid_auto_rows": null,
            "grid_column": null,
            "grid_gap": null,
            "grid_row": null,
            "grid_template_areas": null,
            "grid_template_columns": null,
            "grid_template_rows": null,
            "height": null,
            "justify_content": null,
            "justify_items": null,
            "left": null,
            "margin": null,
            "max_height": null,
            "max_width": null,
            "min_height": null,
            "min_width": null,
            "object_fit": null,
            "object_position": null,
            "order": null,
            "overflow": null,
            "overflow_x": null,
            "overflow_y": null,
            "padding": null,
            "right": null,
            "top": null,
            "visibility": null,
            "width": null
          }
        },
        "026408a0181a458d81d9db062445d5ee": {
          "model_module": "@jupyter-widgets/controls",
          "model_name": "DescriptionStyleModel",
          "model_module_version": "1.5.0",
          "state": {
            "_model_module": "@jupyter-widgets/controls",
            "_model_module_version": "1.5.0",
            "_model_name": "DescriptionStyleModel",
            "_view_count": null,
            "_view_module": "@jupyter-widgets/base",
            "_view_module_version": "1.2.0",
            "_view_name": "StyleView",
            "description_width": ""
          }
        },
        "9af4e59b7f7d4be4b0a01e2377681b89": {
          "model_module": "@jupyter-widgets/base",
          "model_name": "LayoutModel",
          "model_module_version": "1.2.0",
          "state": {
            "_model_module": "@jupyter-widgets/base",
            "_model_module_version": "1.2.0",
            "_model_name": "LayoutModel",
            "_view_count": null,
            "_view_module": "@jupyter-widgets/base",
            "_view_module_version": "1.2.0",
            "_view_name": "LayoutView",
            "align_content": null,
            "align_items": null,
            "align_self": null,
            "border": null,
            "bottom": null,
            "display": null,
            "flex": null,
            "flex_flow": null,
            "grid_area": null,
            "grid_auto_columns": null,
            "grid_auto_flow": null,
            "grid_auto_rows": null,
            "grid_column": null,
            "grid_gap": null,
            "grid_row": null,
            "grid_template_areas": null,
            "grid_template_columns": null,
            "grid_template_rows": null,
            "height": null,
            "justify_content": null,
            "justify_items": null,
            "left": null,
            "margin": null,
            "max_height": null,
            "max_width": null,
            "min_height": null,
            "min_width": null,
            "object_fit": null,
            "object_position": null,
            "order": null,
            "overflow": null,
            "overflow_x": null,
            "overflow_y": null,
            "padding": null,
            "right": null,
            "top": null,
            "visibility": null,
            "width": null
          }
        },
        "a169296657e1458d859598f23c9dcc44": {
          "model_module": "@jupyter-widgets/controls",
          "model_name": "ProgressStyleModel",
          "model_module_version": "1.5.0",
          "state": {
            "_model_module": "@jupyter-widgets/controls",
            "_model_module_version": "1.5.0",
            "_model_name": "ProgressStyleModel",
            "_view_count": null,
            "_view_module": "@jupyter-widgets/base",
            "_view_module_version": "1.2.0",
            "_view_name": "StyleView",
            "bar_color": null,
            "description_width": ""
          }
        },
        "66d4a29375fb474581e36eea75c97d15": {
          "model_module": "@jupyter-widgets/base",
          "model_name": "LayoutModel",
          "model_module_version": "1.2.0",
          "state": {
            "_model_module": "@jupyter-widgets/base",
            "_model_module_version": "1.2.0",
            "_model_name": "LayoutModel",
            "_view_count": null,
            "_view_module": "@jupyter-widgets/base",
            "_view_module_version": "1.2.0",
            "_view_name": "LayoutView",
            "align_content": null,
            "align_items": null,
            "align_self": null,
            "border": null,
            "bottom": null,
            "display": null,
            "flex": null,
            "flex_flow": null,
            "grid_area": null,
            "grid_auto_columns": null,
            "grid_auto_flow": null,
            "grid_auto_rows": null,
            "grid_column": null,
            "grid_gap": null,
            "grid_row": null,
            "grid_template_areas": null,
            "grid_template_columns": null,
            "grid_template_rows": null,
            "height": null,
            "justify_content": null,
            "justify_items": null,
            "left": null,
            "margin": null,
            "max_height": null,
            "max_width": null,
            "min_height": null,
            "min_width": null,
            "object_fit": null,
            "object_position": null,
            "order": null,
            "overflow": null,
            "overflow_x": null,
            "overflow_y": null,
            "padding": null,
            "right": null,
            "top": null,
            "visibility": null,
            "width": null
          }
        },
        "16cd75f8c9bf40bd865acfa2c9467228": {
          "model_module": "@jupyter-widgets/controls",
          "model_name": "DescriptionStyleModel",
          "model_module_version": "1.5.0",
          "state": {
            "_model_module": "@jupyter-widgets/controls",
            "_model_module_version": "1.5.0",
            "_model_name": "DescriptionStyleModel",
            "_view_count": null,
            "_view_module": "@jupyter-widgets/base",
            "_view_module_version": "1.2.0",
            "_view_name": "StyleView",
            "description_width": ""
          }
        }
      }
    }
  },
  "cells": [
    {
      "cell_type": "markdown",
      "metadata": {
        "id": "view-in-github",
        "colab_type": "text"
      },
      "source": [
        "<a href=\"https://colab.research.google.com/github/swoo-nam/project_final_team1/blob/main/%EB%82%A8%EC%83%81%EC%9A%B0_LSTM%EC%9D%84_%ED%99%9C%EC%9A%A9%ED%95%9C_%EC%83%9D%EC%84%B1AI_%EB%AA%A8%EB%8D%B8%EB%A7%81_pytorch_ver2.ipynb\" target=\"_parent\"><img src=\"https://colab.research.google.com/assets/colab-badge.svg\" alt=\"Open In Colab\"/></a>"
      ]
    },
    {
      "cell_type": "code",
      "source": [
        "# !pip install kiwipiepy"
      ],
      "metadata": {
        "id": "zPaUshpXAAkI"
      },
      "execution_count": null,
      "outputs": []
    },
    {
      "cell_type": "code",
      "source": [
        "!pip install konlpy"
      ],
      "metadata": {
        "id": "Rw6lvFBYgWt2",
        "colab": {
          "base_uri": "https://localhost:8080/"
        },
        "outputId": "d783a598-c6e2-4244-ac74-9cda57a2cb75"
      },
      "execution_count": 1,
      "outputs": [
        {
          "output_type": "stream",
          "name": "stdout",
          "text": [
            "Requirement already satisfied: konlpy in /usr/local/lib/python3.10/dist-packages (0.6.0)\n",
            "Requirement already satisfied: JPype1>=0.7.0 in /usr/local/lib/python3.10/dist-packages (from konlpy) (1.4.1)\n",
            "Requirement already satisfied: lxml>=4.1.0 in /usr/local/lib/python3.10/dist-packages (from konlpy) (4.9.3)\n",
            "Requirement already satisfied: numpy>=1.6 in /usr/local/lib/python3.10/dist-packages (from konlpy) (1.23.5)\n",
            "Requirement already satisfied: packaging in /usr/local/lib/python3.10/dist-packages (from JPype1>=0.7.0->konlpy) (23.1)\n"
          ]
        }
      ]
    },
    {
      "cell_type": "code",
      "execution_count": 2,
      "metadata": {
        "id": "f4ZVXFzhuuTv",
        "colab": {
          "base_uri": "https://localhost:8080/"
        },
        "outputId": "9b6d57f6-2d92-478f-edf1-6ffdafb2e785"
      },
      "outputs": [
        {
          "output_type": "stream",
          "name": "stdout",
          "text": [
            "Drive already mounted at /content/drive; to attempt to forcibly remount, call drive.mount(\"/content/drive\", force_remount=True).\n"
          ]
        }
      ],
      "source": [
        "from google.colab import drive\n",
        "drive.mount('/content/drive')"
      ]
    },
    {
      "cell_type": "code",
      "source": [
        "import torch\n",
        "import torch.nn as nn\n",
        "from torch import optim\n",
        "import torch.nn.functional as F\n",
        "from torch.utils.data.dataset import Dataset\n",
        "\n",
        "from sklearn.utils import resample"
      ],
      "metadata": {
        "id": "QDE8QJtGMEOz"
      },
      "execution_count": 3,
      "outputs": []
    },
    {
      "cell_type": "code",
      "source": [
        "import pandas as pd\n",
        "import numpy as np\n",
        "import re\n",
        "from tqdm.auto import tqdm\n",
        "import random\n",
        "import os\n",
        "\n",
        "def reset_seeds(seed):\n",
        "    random.seed(seed)\n",
        "    os.environ['PYTHONHASHSEED'] = str(seed)\n",
        "    np.random.seed(seed)\n",
        "    torch.manual_seed(seed)\n",
        "    torch.cuda.manual_seed(seed)\n",
        "    torch.backends.cudnn.deterministic = True\n",
        "\n",
        "DATA_PATH = \"/content/drive/MyDrive/project_final/data/\"\n",
        "SEED = 42\n",
        "\n",
        "device = 'cuda' if torch.cuda.is_available() else 'cpu'\n",
        "device"
      ],
      "metadata": {
        "id": "10dsMhpDu1rd",
        "colab": {
          "base_uri": "https://localhost:8080/",
          "height": 35
        },
        "outputId": "934d7075-a989-439f-fe31-70e4779b7e6b"
      },
      "execution_count": 4,
      "outputs": [
        {
          "output_type": "execute_result",
          "data": {
            "text/plain": [
              "'cuda'"
            ],
            "application/vnd.google.colaboratory.intrinsic+json": {
              "type": "string"
            }
          },
          "metadata": {},
          "execution_count": 4
        }
      ]
    },
    {
      "cell_type": "markdown",
      "source": [
        "# 데이터 불러오기"
      ],
      "metadata": {
        "id": "VwJecjdYAEVY"
      }
    },
    {
      "cell_type": "markdown",
      "source": [
        "### 전체 데이터셋"
      ],
      "metadata": {
        "id": "KE5MH7ONb_h8"
      }
    },
    {
      "cell_type": "code",
      "source": [
        "yo_review =pd.read_csv(f\"{DATA_PATH}yogiyo_reviews_jsi.csv\")['고객리뷰']\n",
        "yo_reply = pd.read_csv(f\"{DATA_PATH}yogiyo_reviews_jsi.csv\")['사장댓글']\n",
        "yo_star = pd.read_csv(f\"{DATA_PATH}yogiyo_reviews_jsi.csv\")['별점']\n",
        "\n",
        "train = pd.concat([yo_review, yo_reply, yo_star], axis=1)\n",
        "rename_cols = ['review', 'reply', 'star']\n",
        "train.columns = rename_cols\n",
        "train['star'].value_counts().sort_index() # 별점 분포 확인\n",
        "\n",
        "# shuffled_df = train.sample(frac=1, random_state=2)  # frac=1은 모든 행을 선택, random_state는 재현 가능한 랜덤 설정\n",
        "# train = shuffled_df.iloc[:1000].reset_index(drop=True)"
      ],
      "metadata": {
        "id": "lpUaRZnAvWSs",
        "colab": {
          "base_uri": "https://localhost:8080/"
        },
        "outputId": "a8fa45bc-b3cd-4abe-8a9a-b01166011f4f"
      },
      "execution_count": 5,
      "outputs": [
        {
          "output_type": "execute_result",
          "data": {
            "text/plain": [
              "1       92\n",
              "2       64\n",
              "3      179\n",
              "4      560\n",
              "5    17791\n",
              "Name: star, dtype: int64"
            ]
          },
          "metadata": {},
          "execution_count": 5
        }
      ]
    },
    {
      "cell_type": "code",
      "source": [
        "print((92+64+179+560))\n",
        "(92+64+179+560)/17791"
      ],
      "metadata": {
        "colab": {
          "base_uri": "https://localhost:8080/"
        },
        "id": "OZEN-pCkufu2",
        "outputId": "0e276268-3bb2-4e7f-f910-adeb42429a57"
      },
      "execution_count": 6,
      "outputs": [
        {
          "output_type": "stream",
          "name": "stdout",
          "text": [
            "895\n"
          ]
        },
        {
          "output_type": "execute_result",
          "data": {
            "text/plain": [
              "0.05030633466359395"
            ]
          },
          "metadata": {},
          "execution_count": 6
        }
      ]
    },
    {
      "cell_type": "code",
      "source": [
        "# # 중복된 답변을 한 경우 행 전체 삭제\n",
        "# train.drop_duplicates(subset='reply', keep=False, inplace=True)"
      ],
      "metadata": {
        "id": "cSUMkLKubmIT"
      },
      "execution_count": null,
      "outputs": []
    },
    {
      "cell_type": "markdown",
      "source": [
        "### 오버샘플링(paraphrase 데이터)"
      ],
      "metadata": {
        "id": "NkIogOoaZxCq"
      }
    },
    {
      "cell_type": "code",
      "source": [
        "train_over = pd.read_csv(f\"{DATA_PATH}train_over.csv\")\n",
        "train_over"
      ],
      "metadata": {
        "colab": {
          "base_uri": "https://localhost:8080/",
          "height": 597
        },
        "id": "n_DkW5MNqhPo",
        "outputId": "766f7052-bae0-41f1-b19a-0e041f1c90ea"
      },
      "execution_count": 7,
      "outputs": [
        {
          "output_type": "execute_result",
          "data": {
            "text/plain": [
              "                                                review  \\\n",
              "0    아니 그런데 배달이 20분 넘게 안 와서 전화해서 물었더니 배달 기사님이 비가 와서...   \n",
              "1    양이 2만원씩이나하는데 장난으로하는것도 아니고 진짜 이거 2만원주고 사서 먹을 정도...   \n",
              "2    커피가 배달되기를 기다린 지 25분이 지나자 커피 배달 예정 시간은 이미 커피를 만...   \n",
              "3    김이 많아서 그런것도 있고 단무짠지 김이 많이 없어서 그런지도 모르겠지만 밥이 쉬었...   \n",
              "4    처음 먹었을 때 너무 맛있게 먹었던 기억에 다시 찾아 주문하려고 잠실점에 갔는데 역...   \n",
              "..                                                 ...   \n",
              "721                                       맛있게 잘 먹었습니다.   \n",
              "722  시원한 국물이 더 많았으면 국물 맛은 더 시원했을 것 같아요 시원한 국을 시원하게 ...   \n",
              "723  맛있어요 포장도 꼼꼼하고 무엇보다 반찬이 짜지 않고 맛있어요 구성이 여러 가지라 더...   \n",
              "724                    양이 진짜 많아요 진짜 많이 많이 덕분에 맛있게 먹었어요   \n",
              "725  항상 잘 들어주시고 잘 챙겨주셨는데 오늘은 못 드려서 아쉬웠어요 그래도 맛있게 잘 ...   \n",
              "\n",
              "                                                 reply  star  \n",
              "0    저희가 미처 생각하지 못한 부분이 있기 때문에 다시 한번 감사의 마음을 전하고 싶습니다.     1  \n",
              "1    저희 1988응답하라추억의옛날도시락은 언제나 약속 드린 정량을 지키기 위해 노력하고...     1  \n",
              "2       한파로 길이 꽁꽁 얼어 고객님들이 불편을 드려 죄송했는데 주문해 주셔서 감사합니다.     1  \n",
              "3    이런 댓글은 본인 가족이나 지인에게 하는데 본인이 아니더라도 주변 사람이 해야 할 ...     1  \n",
              "4    잠실점에서 기분이 상하셨었는데 저희가 다시 실수를 한 것 같은데 다시 한번 연락드리...     1  \n",
              "..                                                 ...   ...  \n",
              "721  더 노력하는 보둘미역이 되도록 최선을 다해 보겠습니다 맛있는 음식 만들어 주셔서 감...     4  \n",
              "722  배달용기에 국물을 더 부우시면 국물이 흘러 내리기 때문에 혹시라도 모자라면 댁에서 ...     4  \n",
              "723  보통은 1인분에 2인분 정도 먹는 것으로 알고 있는데 많은 분들이 그렇게 적게 주셨...     4  \n",
              "724       맛있게 잘 먹었고 별 다섯 개 드리도록 하겠습니다 맛있게 먹어 주셔서 감사합니다     4  \n",
              "725              죄송해요 여러분 다음에도 또 이용할게요 너무 늦어서 정말 죄송합니다     4  \n",
              "\n",
              "[726 rows x 3 columns]"
            ],
            "text/html": [
              "\n",
              "  <div id=\"df-3642d4c0-ca07-4ff5-9659-23e20a60307d\" class=\"colab-df-container\">\n",
              "    <div>\n",
              "<style scoped>\n",
              "    .dataframe tbody tr th:only-of-type {\n",
              "        vertical-align: middle;\n",
              "    }\n",
              "\n",
              "    .dataframe tbody tr th {\n",
              "        vertical-align: top;\n",
              "    }\n",
              "\n",
              "    .dataframe thead th {\n",
              "        text-align: right;\n",
              "    }\n",
              "</style>\n",
              "<table border=\"1\" class=\"dataframe\">\n",
              "  <thead>\n",
              "    <tr style=\"text-align: right;\">\n",
              "      <th></th>\n",
              "      <th>review</th>\n",
              "      <th>reply</th>\n",
              "      <th>star</th>\n",
              "    </tr>\n",
              "  </thead>\n",
              "  <tbody>\n",
              "    <tr>\n",
              "      <th>0</th>\n",
              "      <td>아니 그런데 배달이 20분 넘게 안 와서 전화해서 물었더니 배달 기사님이 비가 와서...</td>\n",
              "      <td>저희가 미처 생각하지 못한 부분이 있기 때문에 다시 한번 감사의 마음을 전하고 싶습니다.</td>\n",
              "      <td>1</td>\n",
              "    </tr>\n",
              "    <tr>\n",
              "      <th>1</th>\n",
              "      <td>양이 2만원씩이나하는데 장난으로하는것도 아니고 진짜 이거 2만원주고 사서 먹을 정도...</td>\n",
              "      <td>저희 1988응답하라추억의옛날도시락은 언제나 약속 드린 정량을 지키기 위해 노력하고...</td>\n",
              "      <td>1</td>\n",
              "    </tr>\n",
              "    <tr>\n",
              "      <th>2</th>\n",
              "      <td>커피가 배달되기를 기다린 지 25분이 지나자 커피 배달 예정 시간은 이미 커피를 만...</td>\n",
              "      <td>한파로 길이 꽁꽁 얼어 고객님들이 불편을 드려 죄송했는데 주문해 주셔서 감사합니다.</td>\n",
              "      <td>1</td>\n",
              "    </tr>\n",
              "    <tr>\n",
              "      <th>3</th>\n",
              "      <td>김이 많아서 그런것도 있고 단무짠지 김이 많이 없어서 그런지도 모르겠지만 밥이 쉬었...</td>\n",
              "      <td>이런 댓글은 본인 가족이나 지인에게 하는데 본인이 아니더라도 주변 사람이 해야 할 ...</td>\n",
              "      <td>1</td>\n",
              "    </tr>\n",
              "    <tr>\n",
              "      <th>4</th>\n",
              "      <td>처음 먹었을 때 너무 맛있게 먹었던 기억에 다시 찾아 주문하려고 잠실점에 갔는데 역...</td>\n",
              "      <td>잠실점에서 기분이 상하셨었는데 저희가 다시 실수를 한 것 같은데 다시 한번 연락드리...</td>\n",
              "      <td>1</td>\n",
              "    </tr>\n",
              "    <tr>\n",
              "      <th>...</th>\n",
              "      <td>...</td>\n",
              "      <td>...</td>\n",
              "      <td>...</td>\n",
              "    </tr>\n",
              "    <tr>\n",
              "      <th>721</th>\n",
              "      <td>맛있게 잘 먹었습니다.</td>\n",
              "      <td>더 노력하는 보둘미역이 되도록 최선을 다해 보겠습니다 맛있는 음식 만들어 주셔서 감...</td>\n",
              "      <td>4</td>\n",
              "    </tr>\n",
              "    <tr>\n",
              "      <th>722</th>\n",
              "      <td>시원한 국물이 더 많았으면 국물 맛은 더 시원했을 것 같아요 시원한 국을 시원하게 ...</td>\n",
              "      <td>배달용기에 국물을 더 부우시면 국물이 흘러 내리기 때문에 혹시라도 모자라면 댁에서 ...</td>\n",
              "      <td>4</td>\n",
              "    </tr>\n",
              "    <tr>\n",
              "      <th>723</th>\n",
              "      <td>맛있어요 포장도 꼼꼼하고 무엇보다 반찬이 짜지 않고 맛있어요 구성이 여러 가지라 더...</td>\n",
              "      <td>보통은 1인분에 2인분 정도 먹는 것으로 알고 있는데 많은 분들이 그렇게 적게 주셨...</td>\n",
              "      <td>4</td>\n",
              "    </tr>\n",
              "    <tr>\n",
              "      <th>724</th>\n",
              "      <td>양이 진짜 많아요 진짜 많이 많이 덕분에 맛있게 먹었어요</td>\n",
              "      <td>맛있게 잘 먹었고 별 다섯 개 드리도록 하겠습니다 맛있게 먹어 주셔서 감사합니다</td>\n",
              "      <td>4</td>\n",
              "    </tr>\n",
              "    <tr>\n",
              "      <th>725</th>\n",
              "      <td>항상 잘 들어주시고 잘 챙겨주셨는데 오늘은 못 드려서 아쉬웠어요 그래도 맛있게 잘 ...</td>\n",
              "      <td>죄송해요 여러분 다음에도 또 이용할게요 너무 늦어서 정말 죄송합니다</td>\n",
              "      <td>4</td>\n",
              "    </tr>\n",
              "  </tbody>\n",
              "</table>\n",
              "<p>726 rows × 3 columns</p>\n",
              "</div>\n",
              "    <div class=\"colab-df-buttons\">\n",
              "\n",
              "  <div class=\"colab-df-container\">\n",
              "    <button class=\"colab-df-convert\" onclick=\"convertToInteractive('df-3642d4c0-ca07-4ff5-9659-23e20a60307d')\"\n",
              "            title=\"Convert this dataframe to an interactive table.\"\n",
              "            style=\"display:none;\">\n",
              "\n",
              "  <svg xmlns=\"http://www.w3.org/2000/svg\" height=\"24px\" viewBox=\"0 -960 960 960\">\n",
              "    <path d=\"M120-120v-720h720v720H120Zm60-500h600v-160H180v160Zm220 220h160v-160H400v160Zm0 220h160v-160H400v160ZM180-400h160v-160H180v160Zm440 0h160v-160H620v160ZM180-180h160v-160H180v160Zm440 0h160v-160H620v160Z\"/>\n",
              "  </svg>\n",
              "    </button>\n",
              "\n",
              "  <style>\n",
              "    .colab-df-container {\n",
              "      display:flex;\n",
              "      gap: 12px;\n",
              "    }\n",
              "\n",
              "    .colab-df-convert {\n",
              "      background-color: #E8F0FE;\n",
              "      border: none;\n",
              "      border-radius: 50%;\n",
              "      cursor: pointer;\n",
              "      display: none;\n",
              "      fill: #1967D2;\n",
              "      height: 32px;\n",
              "      padding: 0 0 0 0;\n",
              "      width: 32px;\n",
              "    }\n",
              "\n",
              "    .colab-df-convert:hover {\n",
              "      background-color: #E2EBFA;\n",
              "      box-shadow: 0px 1px 2px rgba(60, 64, 67, 0.3), 0px 1px 3px 1px rgba(60, 64, 67, 0.15);\n",
              "      fill: #174EA6;\n",
              "    }\n",
              "\n",
              "    .colab-df-buttons div {\n",
              "      margin-bottom: 4px;\n",
              "    }\n",
              "\n",
              "    [theme=dark] .colab-df-convert {\n",
              "      background-color: #3B4455;\n",
              "      fill: #D2E3FC;\n",
              "    }\n",
              "\n",
              "    [theme=dark] .colab-df-convert:hover {\n",
              "      background-color: #434B5C;\n",
              "      box-shadow: 0px 1px 3px 1px rgba(0, 0, 0, 0.15);\n",
              "      filter: drop-shadow(0px 1px 2px rgba(0, 0, 0, 0.3));\n",
              "      fill: #FFFFFF;\n",
              "    }\n",
              "  </style>\n",
              "\n",
              "    <script>\n",
              "      const buttonEl =\n",
              "        document.querySelector('#df-3642d4c0-ca07-4ff5-9659-23e20a60307d button.colab-df-convert');\n",
              "      buttonEl.style.display =\n",
              "        google.colab.kernel.accessAllowed ? 'block' : 'none';\n",
              "\n",
              "      async function convertToInteractive(key) {\n",
              "        const element = document.querySelector('#df-3642d4c0-ca07-4ff5-9659-23e20a60307d');\n",
              "        const dataTable =\n",
              "          await google.colab.kernel.invokeFunction('convertToInteractive',\n",
              "                                                    [key], {});\n",
              "        if (!dataTable) return;\n",
              "\n",
              "        const docLinkHtml = 'Like what you see? Visit the ' +\n",
              "          '<a target=\"_blank\" href=https://colab.research.google.com/notebooks/data_table.ipynb>data table notebook</a>'\n",
              "          + ' to learn more about interactive tables.';\n",
              "        element.innerHTML = '';\n",
              "        dataTable['output_type'] = 'display_data';\n",
              "        await google.colab.output.renderOutput(dataTable, element);\n",
              "        const docLink = document.createElement('div');\n",
              "        docLink.innerHTML = docLinkHtml;\n",
              "        element.appendChild(docLink);\n",
              "      }\n",
              "    </script>\n",
              "  </div>\n",
              "\n",
              "\n",
              "<div id=\"df-30c11fd0-bb43-4ff2-8379-e56ed349e753\">\n",
              "  <button class=\"colab-df-quickchart\" onclick=\"quickchart('df-30c11fd0-bb43-4ff2-8379-e56ed349e753')\"\n",
              "            title=\"Suggest charts.\"\n",
              "            style=\"display:none;\">\n",
              "\n",
              "<svg xmlns=\"http://www.w3.org/2000/svg\" height=\"24px\"viewBox=\"0 0 24 24\"\n",
              "     width=\"24px\">\n",
              "    <g>\n",
              "        <path d=\"M19 3H5c-1.1 0-2 .9-2 2v14c0 1.1.9 2 2 2h14c1.1 0 2-.9 2-2V5c0-1.1-.9-2-2-2zM9 17H7v-7h2v7zm4 0h-2V7h2v10zm4 0h-2v-4h2v4z\"/>\n",
              "    </g>\n",
              "</svg>\n",
              "  </button>\n",
              "\n",
              "<style>\n",
              "  .colab-df-quickchart {\n",
              "      --bg-color: #E8F0FE;\n",
              "      --fill-color: #1967D2;\n",
              "      --hover-bg-color: #E2EBFA;\n",
              "      --hover-fill-color: #174EA6;\n",
              "      --disabled-fill-color: #AAA;\n",
              "      --disabled-bg-color: #DDD;\n",
              "  }\n",
              "\n",
              "  [theme=dark] .colab-df-quickchart {\n",
              "      --bg-color: #3B4455;\n",
              "      --fill-color: #D2E3FC;\n",
              "      --hover-bg-color: #434B5C;\n",
              "      --hover-fill-color: #FFFFFF;\n",
              "      --disabled-bg-color: #3B4455;\n",
              "      --disabled-fill-color: #666;\n",
              "  }\n",
              "\n",
              "  .colab-df-quickchart {\n",
              "    background-color: var(--bg-color);\n",
              "    border: none;\n",
              "    border-radius: 50%;\n",
              "    cursor: pointer;\n",
              "    display: none;\n",
              "    fill: var(--fill-color);\n",
              "    height: 32px;\n",
              "    padding: 0;\n",
              "    width: 32px;\n",
              "  }\n",
              "\n",
              "  .colab-df-quickchart:hover {\n",
              "    background-color: var(--hover-bg-color);\n",
              "    box-shadow: 0 1px 2px rgba(60, 64, 67, 0.3), 0 1px 3px 1px rgba(60, 64, 67, 0.15);\n",
              "    fill: var(--button-hover-fill-color);\n",
              "  }\n",
              "\n",
              "  .colab-df-quickchart-complete:disabled,\n",
              "  .colab-df-quickchart-complete:disabled:hover {\n",
              "    background-color: var(--disabled-bg-color);\n",
              "    fill: var(--disabled-fill-color);\n",
              "    box-shadow: none;\n",
              "  }\n",
              "\n",
              "  .colab-df-spinner {\n",
              "    border: 2px solid var(--fill-color);\n",
              "    border-color: transparent;\n",
              "    border-bottom-color: var(--fill-color);\n",
              "    animation:\n",
              "      spin 1s steps(1) infinite;\n",
              "  }\n",
              "\n",
              "  @keyframes spin {\n",
              "    0% {\n",
              "      border-color: transparent;\n",
              "      border-bottom-color: var(--fill-color);\n",
              "      border-left-color: var(--fill-color);\n",
              "    }\n",
              "    20% {\n",
              "      border-color: transparent;\n",
              "      border-left-color: var(--fill-color);\n",
              "      border-top-color: var(--fill-color);\n",
              "    }\n",
              "    30% {\n",
              "      border-color: transparent;\n",
              "      border-left-color: var(--fill-color);\n",
              "      border-top-color: var(--fill-color);\n",
              "      border-right-color: var(--fill-color);\n",
              "    }\n",
              "    40% {\n",
              "      border-color: transparent;\n",
              "      border-right-color: var(--fill-color);\n",
              "      border-top-color: var(--fill-color);\n",
              "    }\n",
              "    60% {\n",
              "      border-color: transparent;\n",
              "      border-right-color: var(--fill-color);\n",
              "    }\n",
              "    80% {\n",
              "      border-color: transparent;\n",
              "      border-right-color: var(--fill-color);\n",
              "      border-bottom-color: var(--fill-color);\n",
              "    }\n",
              "    90% {\n",
              "      border-color: transparent;\n",
              "      border-bottom-color: var(--fill-color);\n",
              "    }\n",
              "  }\n",
              "</style>\n",
              "\n",
              "  <script>\n",
              "    async function quickchart(key) {\n",
              "      const quickchartButtonEl =\n",
              "        document.querySelector('#' + key + ' button');\n",
              "      quickchartButtonEl.disabled = true;  // To prevent multiple clicks.\n",
              "      quickchartButtonEl.classList.add('colab-df-spinner');\n",
              "      try {\n",
              "        const charts = await google.colab.kernel.invokeFunction(\n",
              "            'suggestCharts', [key], {});\n",
              "      } catch (error) {\n",
              "        console.error('Error during call to suggestCharts:', error);\n",
              "      }\n",
              "      quickchartButtonEl.classList.remove('colab-df-spinner');\n",
              "      quickchartButtonEl.classList.add('colab-df-quickchart-complete');\n",
              "    }\n",
              "    (() => {\n",
              "      let quickchartButtonEl =\n",
              "        document.querySelector('#df-30c11fd0-bb43-4ff2-8379-e56ed349e753 button');\n",
              "      quickchartButtonEl.style.display =\n",
              "        google.colab.kernel.accessAllowed ? 'block' : 'none';\n",
              "    })();\n",
              "  </script>\n",
              "</div>\n",
              "    </div>\n",
              "  </div>\n"
            ]
          },
          "metadata": {},
          "execution_count": 7
        }
      ]
    },
    {
      "cell_type": "code",
      "source": [
        "train = pd.concat([train, train_over], axis=0).reset_index(drop=True)\n",
        "train"
      ],
      "metadata": {
        "colab": {
          "base_uri": "https://localhost:8080/",
          "height": 597
        },
        "id": "Rh29hYubqsnS",
        "outputId": "2726678c-4b4e-4205-f690-23f73bd4c4a5"
      },
      "execution_count": 8,
      "outputs": [
        {
          "output_type": "execute_result",
          "data": {
            "text/plain": [
              "                                                  review  \\\n",
              "0      사진보다 실물이 백배 맛있어요~~~~~~ 고기 양도 많아요~~~~~~ 배달시간도 딱...   \n",
              "1                       리뷰가 늦었네요.. 맛있게 잘 먹었습니다. 또 시킬게요!!   \n",
              "2                     잘 먹었습니다. 다만 주문에 있던 펩시콜라는 받지 못했습니다.   \n",
              "3                                     굿 말이 필요 없는 메뉴 였습니다   \n",
              "4                                            맛있어요 양도많구좋음   \n",
              "...                                                  ...   \n",
              "19407                                       맛있게 잘 먹었습니다.   \n",
              "19408  시원한 국물이 더 많았으면 국물 맛은 더 시원했을 것 같아요 시원한 국을 시원하게 ...   \n",
              "19409  맛있어요 포장도 꼼꼼하고 무엇보다 반찬이 짜지 않고 맛있어요 구성이 여러 가지라 더...   \n",
              "19410                    양이 진짜 많아요 진짜 많이 많이 덕분에 맛있게 먹었어요   \n",
              "19411  항상 잘 들어주시고 잘 챙겨주셨는데 오늘은 못 드려서 아쉬웠어요 그래도 맛있게 잘 ...   \n",
              "\n",
              "                                                   reply  star  \n",
              "0      이렇게 저희 매장 찾아주셔서 감사드립니다!!\\n\\n맛 뿐만 아니라 양도, 서비스도 ...     5  \n",
              "1      좋은 리뷰 덕분에 기분이 행복해지는 것 같아요😇\\n\\n고객님께서 맛있다고 말씀 주시...     5  \n",
              "2      소중한 식사 시간에 저희 매장을 찾아 주셔서 감사드립니다. \\n\\n저희를 찾아 주신...     5  \n",
              "3      수 많은 매장들을 헤치고 와주셔서 감사합니다!!\\n\\n저희 매장의 메뉴를 제대로 즐...     5  \n",
              "4      수 많은 매장들을 헤치고 와주셔서 감사합니다😂\\n\\n메뉴 그 자체로 행복을 드리고 ...     5  \n",
              "...                                                  ...   ...  \n",
              "19407  더 노력하는 보둘미역이 되도록 최선을 다해 보겠습니다 맛있는 음식 만들어 주셔서 감...     4  \n",
              "19408  배달용기에 국물을 더 부우시면 국물이 흘러 내리기 때문에 혹시라도 모자라면 댁에서 ...     4  \n",
              "19409  보통은 1인분에 2인분 정도 먹는 것으로 알고 있는데 많은 분들이 그렇게 적게 주셨...     4  \n",
              "19410       맛있게 잘 먹었고 별 다섯 개 드리도록 하겠습니다 맛있게 먹어 주셔서 감사합니다     4  \n",
              "19411              죄송해요 여러분 다음에도 또 이용할게요 너무 늦어서 정말 죄송합니다     4  \n",
              "\n",
              "[19412 rows x 3 columns]"
            ],
            "text/html": [
              "\n",
              "  <div id=\"df-54c9f6db-83a4-44d2-b30c-045c4a328bdf\" class=\"colab-df-container\">\n",
              "    <div>\n",
              "<style scoped>\n",
              "    .dataframe tbody tr th:only-of-type {\n",
              "        vertical-align: middle;\n",
              "    }\n",
              "\n",
              "    .dataframe tbody tr th {\n",
              "        vertical-align: top;\n",
              "    }\n",
              "\n",
              "    .dataframe thead th {\n",
              "        text-align: right;\n",
              "    }\n",
              "</style>\n",
              "<table border=\"1\" class=\"dataframe\">\n",
              "  <thead>\n",
              "    <tr style=\"text-align: right;\">\n",
              "      <th></th>\n",
              "      <th>review</th>\n",
              "      <th>reply</th>\n",
              "      <th>star</th>\n",
              "    </tr>\n",
              "  </thead>\n",
              "  <tbody>\n",
              "    <tr>\n",
              "      <th>0</th>\n",
              "      <td>사진보다 실물이 백배 맛있어요~~~~~~ 고기 양도 많아요~~~~~~ 배달시간도 딱...</td>\n",
              "      <td>이렇게 저희 매장 찾아주셔서 감사드립니다!!\\n\\n맛 뿐만 아니라 양도, 서비스도 ...</td>\n",
              "      <td>5</td>\n",
              "    </tr>\n",
              "    <tr>\n",
              "      <th>1</th>\n",
              "      <td>리뷰가 늦었네요.. 맛있게 잘 먹었습니다. 또 시킬게요!!</td>\n",
              "      <td>좋은 리뷰 덕분에 기분이 행복해지는 것 같아요😇\\n\\n고객님께서 맛있다고 말씀 주시...</td>\n",
              "      <td>5</td>\n",
              "    </tr>\n",
              "    <tr>\n",
              "      <th>2</th>\n",
              "      <td>잘 먹었습니다. 다만 주문에 있던 펩시콜라는 받지 못했습니다.</td>\n",
              "      <td>소중한 식사 시간에 저희 매장을 찾아 주셔서 감사드립니다. \\n\\n저희를 찾아 주신...</td>\n",
              "      <td>5</td>\n",
              "    </tr>\n",
              "    <tr>\n",
              "      <th>3</th>\n",
              "      <td>굿 말이 필요 없는 메뉴 였습니다</td>\n",
              "      <td>수 많은 매장들을 헤치고 와주셔서 감사합니다!!\\n\\n저희 매장의 메뉴를 제대로 즐...</td>\n",
              "      <td>5</td>\n",
              "    </tr>\n",
              "    <tr>\n",
              "      <th>4</th>\n",
              "      <td>맛있어요 양도많구좋음</td>\n",
              "      <td>수 많은 매장들을 헤치고 와주셔서 감사합니다😂\\n\\n메뉴 그 자체로 행복을 드리고 ...</td>\n",
              "      <td>5</td>\n",
              "    </tr>\n",
              "    <tr>\n",
              "      <th>...</th>\n",
              "      <td>...</td>\n",
              "      <td>...</td>\n",
              "      <td>...</td>\n",
              "    </tr>\n",
              "    <tr>\n",
              "      <th>19407</th>\n",
              "      <td>맛있게 잘 먹었습니다.</td>\n",
              "      <td>더 노력하는 보둘미역이 되도록 최선을 다해 보겠습니다 맛있는 음식 만들어 주셔서 감...</td>\n",
              "      <td>4</td>\n",
              "    </tr>\n",
              "    <tr>\n",
              "      <th>19408</th>\n",
              "      <td>시원한 국물이 더 많았으면 국물 맛은 더 시원했을 것 같아요 시원한 국을 시원하게 ...</td>\n",
              "      <td>배달용기에 국물을 더 부우시면 국물이 흘러 내리기 때문에 혹시라도 모자라면 댁에서 ...</td>\n",
              "      <td>4</td>\n",
              "    </tr>\n",
              "    <tr>\n",
              "      <th>19409</th>\n",
              "      <td>맛있어요 포장도 꼼꼼하고 무엇보다 반찬이 짜지 않고 맛있어요 구성이 여러 가지라 더...</td>\n",
              "      <td>보통은 1인분에 2인분 정도 먹는 것으로 알고 있는데 많은 분들이 그렇게 적게 주셨...</td>\n",
              "      <td>4</td>\n",
              "    </tr>\n",
              "    <tr>\n",
              "      <th>19410</th>\n",
              "      <td>양이 진짜 많아요 진짜 많이 많이 덕분에 맛있게 먹었어요</td>\n",
              "      <td>맛있게 잘 먹었고 별 다섯 개 드리도록 하겠습니다 맛있게 먹어 주셔서 감사합니다</td>\n",
              "      <td>4</td>\n",
              "    </tr>\n",
              "    <tr>\n",
              "      <th>19411</th>\n",
              "      <td>항상 잘 들어주시고 잘 챙겨주셨는데 오늘은 못 드려서 아쉬웠어요 그래도 맛있게 잘 ...</td>\n",
              "      <td>죄송해요 여러분 다음에도 또 이용할게요 너무 늦어서 정말 죄송합니다</td>\n",
              "      <td>4</td>\n",
              "    </tr>\n",
              "  </tbody>\n",
              "</table>\n",
              "<p>19412 rows × 3 columns</p>\n",
              "</div>\n",
              "    <div class=\"colab-df-buttons\">\n",
              "\n",
              "  <div class=\"colab-df-container\">\n",
              "    <button class=\"colab-df-convert\" onclick=\"convertToInteractive('df-54c9f6db-83a4-44d2-b30c-045c4a328bdf')\"\n",
              "            title=\"Convert this dataframe to an interactive table.\"\n",
              "            style=\"display:none;\">\n",
              "\n",
              "  <svg xmlns=\"http://www.w3.org/2000/svg\" height=\"24px\" viewBox=\"0 -960 960 960\">\n",
              "    <path d=\"M120-120v-720h720v720H120Zm60-500h600v-160H180v160Zm220 220h160v-160H400v160Zm0 220h160v-160H400v160ZM180-400h160v-160H180v160Zm440 0h160v-160H620v160ZM180-180h160v-160H180v160Zm440 0h160v-160H620v160Z\"/>\n",
              "  </svg>\n",
              "    </button>\n",
              "\n",
              "  <style>\n",
              "    .colab-df-container {\n",
              "      display:flex;\n",
              "      gap: 12px;\n",
              "    }\n",
              "\n",
              "    .colab-df-convert {\n",
              "      background-color: #E8F0FE;\n",
              "      border: none;\n",
              "      border-radius: 50%;\n",
              "      cursor: pointer;\n",
              "      display: none;\n",
              "      fill: #1967D2;\n",
              "      height: 32px;\n",
              "      padding: 0 0 0 0;\n",
              "      width: 32px;\n",
              "    }\n",
              "\n",
              "    .colab-df-convert:hover {\n",
              "      background-color: #E2EBFA;\n",
              "      box-shadow: 0px 1px 2px rgba(60, 64, 67, 0.3), 0px 1px 3px 1px rgba(60, 64, 67, 0.15);\n",
              "      fill: #174EA6;\n",
              "    }\n",
              "\n",
              "    .colab-df-buttons div {\n",
              "      margin-bottom: 4px;\n",
              "    }\n",
              "\n",
              "    [theme=dark] .colab-df-convert {\n",
              "      background-color: #3B4455;\n",
              "      fill: #D2E3FC;\n",
              "    }\n",
              "\n",
              "    [theme=dark] .colab-df-convert:hover {\n",
              "      background-color: #434B5C;\n",
              "      box-shadow: 0px 1px 3px 1px rgba(0, 0, 0, 0.15);\n",
              "      filter: drop-shadow(0px 1px 2px rgba(0, 0, 0, 0.3));\n",
              "      fill: #FFFFFF;\n",
              "    }\n",
              "  </style>\n",
              "\n",
              "    <script>\n",
              "      const buttonEl =\n",
              "        document.querySelector('#df-54c9f6db-83a4-44d2-b30c-045c4a328bdf button.colab-df-convert');\n",
              "      buttonEl.style.display =\n",
              "        google.colab.kernel.accessAllowed ? 'block' : 'none';\n",
              "\n",
              "      async function convertToInteractive(key) {\n",
              "        const element = document.querySelector('#df-54c9f6db-83a4-44d2-b30c-045c4a328bdf');\n",
              "        const dataTable =\n",
              "          await google.colab.kernel.invokeFunction('convertToInteractive',\n",
              "                                                    [key], {});\n",
              "        if (!dataTable) return;\n",
              "\n",
              "        const docLinkHtml = 'Like what you see? Visit the ' +\n",
              "          '<a target=\"_blank\" href=https://colab.research.google.com/notebooks/data_table.ipynb>data table notebook</a>'\n",
              "          + ' to learn more about interactive tables.';\n",
              "        element.innerHTML = '';\n",
              "        dataTable['output_type'] = 'display_data';\n",
              "        await google.colab.output.renderOutput(dataTable, element);\n",
              "        const docLink = document.createElement('div');\n",
              "        docLink.innerHTML = docLinkHtml;\n",
              "        element.appendChild(docLink);\n",
              "      }\n",
              "    </script>\n",
              "  </div>\n",
              "\n",
              "\n",
              "<div id=\"df-0cec56ab-49fc-487c-89ed-422c50259143\">\n",
              "  <button class=\"colab-df-quickchart\" onclick=\"quickchart('df-0cec56ab-49fc-487c-89ed-422c50259143')\"\n",
              "            title=\"Suggest charts.\"\n",
              "            style=\"display:none;\">\n",
              "\n",
              "<svg xmlns=\"http://www.w3.org/2000/svg\" height=\"24px\"viewBox=\"0 0 24 24\"\n",
              "     width=\"24px\">\n",
              "    <g>\n",
              "        <path d=\"M19 3H5c-1.1 0-2 .9-2 2v14c0 1.1.9 2 2 2h14c1.1 0 2-.9 2-2V5c0-1.1-.9-2-2-2zM9 17H7v-7h2v7zm4 0h-2V7h2v10zm4 0h-2v-4h2v4z\"/>\n",
              "    </g>\n",
              "</svg>\n",
              "  </button>\n",
              "\n",
              "<style>\n",
              "  .colab-df-quickchart {\n",
              "      --bg-color: #E8F0FE;\n",
              "      --fill-color: #1967D2;\n",
              "      --hover-bg-color: #E2EBFA;\n",
              "      --hover-fill-color: #174EA6;\n",
              "      --disabled-fill-color: #AAA;\n",
              "      --disabled-bg-color: #DDD;\n",
              "  }\n",
              "\n",
              "  [theme=dark] .colab-df-quickchart {\n",
              "      --bg-color: #3B4455;\n",
              "      --fill-color: #D2E3FC;\n",
              "      --hover-bg-color: #434B5C;\n",
              "      --hover-fill-color: #FFFFFF;\n",
              "      --disabled-bg-color: #3B4455;\n",
              "      --disabled-fill-color: #666;\n",
              "  }\n",
              "\n",
              "  .colab-df-quickchart {\n",
              "    background-color: var(--bg-color);\n",
              "    border: none;\n",
              "    border-radius: 50%;\n",
              "    cursor: pointer;\n",
              "    display: none;\n",
              "    fill: var(--fill-color);\n",
              "    height: 32px;\n",
              "    padding: 0;\n",
              "    width: 32px;\n",
              "  }\n",
              "\n",
              "  .colab-df-quickchart:hover {\n",
              "    background-color: var(--hover-bg-color);\n",
              "    box-shadow: 0 1px 2px rgba(60, 64, 67, 0.3), 0 1px 3px 1px rgba(60, 64, 67, 0.15);\n",
              "    fill: var(--button-hover-fill-color);\n",
              "  }\n",
              "\n",
              "  .colab-df-quickchart-complete:disabled,\n",
              "  .colab-df-quickchart-complete:disabled:hover {\n",
              "    background-color: var(--disabled-bg-color);\n",
              "    fill: var(--disabled-fill-color);\n",
              "    box-shadow: none;\n",
              "  }\n",
              "\n",
              "  .colab-df-spinner {\n",
              "    border: 2px solid var(--fill-color);\n",
              "    border-color: transparent;\n",
              "    border-bottom-color: var(--fill-color);\n",
              "    animation:\n",
              "      spin 1s steps(1) infinite;\n",
              "  }\n",
              "\n",
              "  @keyframes spin {\n",
              "    0% {\n",
              "      border-color: transparent;\n",
              "      border-bottom-color: var(--fill-color);\n",
              "      border-left-color: var(--fill-color);\n",
              "    }\n",
              "    20% {\n",
              "      border-color: transparent;\n",
              "      border-left-color: var(--fill-color);\n",
              "      border-top-color: var(--fill-color);\n",
              "    }\n",
              "    30% {\n",
              "      border-color: transparent;\n",
              "      border-left-color: var(--fill-color);\n",
              "      border-top-color: var(--fill-color);\n",
              "      border-right-color: var(--fill-color);\n",
              "    }\n",
              "    40% {\n",
              "      border-color: transparent;\n",
              "      border-right-color: var(--fill-color);\n",
              "      border-top-color: var(--fill-color);\n",
              "    }\n",
              "    60% {\n",
              "      border-color: transparent;\n",
              "      border-right-color: var(--fill-color);\n",
              "    }\n",
              "    80% {\n",
              "      border-color: transparent;\n",
              "      border-right-color: var(--fill-color);\n",
              "      border-bottom-color: var(--fill-color);\n",
              "    }\n",
              "    90% {\n",
              "      border-color: transparent;\n",
              "      border-bottom-color: var(--fill-color);\n",
              "    }\n",
              "  }\n",
              "</style>\n",
              "\n",
              "  <script>\n",
              "    async function quickchart(key) {\n",
              "      const quickchartButtonEl =\n",
              "        document.querySelector('#' + key + ' button');\n",
              "      quickchartButtonEl.disabled = true;  // To prevent multiple clicks.\n",
              "      quickchartButtonEl.classList.add('colab-df-spinner');\n",
              "      try {\n",
              "        const charts = await google.colab.kernel.invokeFunction(\n",
              "            'suggestCharts', [key], {});\n",
              "      } catch (error) {\n",
              "        console.error('Error during call to suggestCharts:', error);\n",
              "      }\n",
              "      quickchartButtonEl.classList.remove('colab-df-spinner');\n",
              "      quickchartButtonEl.classList.add('colab-df-quickchart-complete');\n",
              "    }\n",
              "    (() => {\n",
              "      let quickchartButtonEl =\n",
              "        document.querySelector('#df-0cec56ab-49fc-487c-89ed-422c50259143 button');\n",
              "      quickchartButtonEl.style.display =\n",
              "        google.colab.kernel.accessAllowed ? 'block' : 'none';\n",
              "    })();\n",
              "  </script>\n",
              "</div>\n",
              "    </div>\n",
              "  </div>\n"
            ]
          },
          "metadata": {},
          "execution_count": 8
        }
      ]
    },
    {
      "cell_type": "markdown",
      "source": [
        "## 데이터 정제"
      ],
      "metadata": {
        "id": "Lc9TAFoFAIg9"
      }
    },
    {
      "cell_type": "markdown",
      "source": [
        "- 불필요한 문자 삭제"
      ],
      "metadata": {
        "id": "k6txthSVpKAC"
      }
    },
    {
      "cell_type": "code",
      "source": [
        "review_list = []\n",
        "for review in train['review']:\n",
        "    if isinstance(review, str):\n",
        "        pat = re.compile(\"[^a-zA-Z가-힣0-9]\")\n",
        "        # pat = re.compile(\"[^a-zA-Z가-힣0-9.,~?!]\")\n",
        "        result = pat.sub(\" \", review)\n",
        "\n",
        "        # result = re.sub(r'\\.{2,}', '.', result)\n",
        "        # result = re.sub(r'\\,{2,}', ',', result)\n",
        "        # result = re.sub(r'\\~{2,}', '~', result)\n",
        "        # result = re.sub(r'\\!{2,}', '!', result)\n",
        "        # result = re.sub(r'\\?{2,}', '?', result)\n",
        "        result = re.sub(\" +\", \" \", result)\n",
        "        review_list.append(result)\n",
        "    else:\n",
        "        review_list.append(\"\")\n",
        "\n",
        "train['review'] = review_list\n",
        "train.head()"
      ],
      "metadata": {
        "id": "RUWJTmUNXkxV",
        "colab": {
          "base_uri": "https://localhost:8080/",
          "height": 293
        },
        "outputId": "cecbfbdb-bdbf-41aa-a7b6-11f251e2f9e0"
      },
      "execution_count": 9,
      "outputs": [
        {
          "output_type": "execute_result",
          "data": {
            "text/plain": [
              "                                           review  \\\n",
              "0  사진보다 실물이 백배 맛있어요 고기 양도 많아요 배달시간도 딱 맞춰서 보내주셨어요    \n",
              "1                    리뷰가 늦었네요 맛있게 잘 먹었습니다 또 시킬게요    \n",
              "2               잘 먹었습니다 다만 주문에 있던 펩시콜라는 받지 못했습니다    \n",
              "3                              굿 말이 필요 없는 메뉴 였습니다   \n",
              "4                                     맛있어요 양도많구좋음   \n",
              "\n",
              "                                               reply  star  \n",
              "0  이렇게 저희 매장 찾아주셔서 감사드립니다!!\\n\\n맛 뿐만 아니라 양도, 서비스도 ...     5  \n",
              "1  좋은 리뷰 덕분에 기분이 행복해지는 것 같아요😇\\n\\n고객님께서 맛있다고 말씀 주시...     5  \n",
              "2  소중한 식사 시간에 저희 매장을 찾아 주셔서 감사드립니다. \\n\\n저희를 찾아 주신...     5  \n",
              "3  수 많은 매장들을 헤치고 와주셔서 감사합니다!!\\n\\n저희 매장의 메뉴를 제대로 즐...     5  \n",
              "4  수 많은 매장들을 헤치고 와주셔서 감사합니다😂\\n\\n메뉴 그 자체로 행복을 드리고 ...     5  "
            ],
            "text/html": [
              "\n",
              "  <div id=\"df-b9f69d8b-23ab-4f59-a0a6-ca100ae12816\" class=\"colab-df-container\">\n",
              "    <div>\n",
              "<style scoped>\n",
              "    .dataframe tbody tr th:only-of-type {\n",
              "        vertical-align: middle;\n",
              "    }\n",
              "\n",
              "    .dataframe tbody tr th {\n",
              "        vertical-align: top;\n",
              "    }\n",
              "\n",
              "    .dataframe thead th {\n",
              "        text-align: right;\n",
              "    }\n",
              "</style>\n",
              "<table border=\"1\" class=\"dataframe\">\n",
              "  <thead>\n",
              "    <tr style=\"text-align: right;\">\n",
              "      <th></th>\n",
              "      <th>review</th>\n",
              "      <th>reply</th>\n",
              "      <th>star</th>\n",
              "    </tr>\n",
              "  </thead>\n",
              "  <tbody>\n",
              "    <tr>\n",
              "      <th>0</th>\n",
              "      <td>사진보다 실물이 백배 맛있어요 고기 양도 많아요 배달시간도 딱 맞춰서 보내주셨어요</td>\n",
              "      <td>이렇게 저희 매장 찾아주셔서 감사드립니다!!\\n\\n맛 뿐만 아니라 양도, 서비스도 ...</td>\n",
              "      <td>5</td>\n",
              "    </tr>\n",
              "    <tr>\n",
              "      <th>1</th>\n",
              "      <td>리뷰가 늦었네요 맛있게 잘 먹었습니다 또 시킬게요</td>\n",
              "      <td>좋은 리뷰 덕분에 기분이 행복해지는 것 같아요😇\\n\\n고객님께서 맛있다고 말씀 주시...</td>\n",
              "      <td>5</td>\n",
              "    </tr>\n",
              "    <tr>\n",
              "      <th>2</th>\n",
              "      <td>잘 먹었습니다 다만 주문에 있던 펩시콜라는 받지 못했습니다</td>\n",
              "      <td>소중한 식사 시간에 저희 매장을 찾아 주셔서 감사드립니다. \\n\\n저희를 찾아 주신...</td>\n",
              "      <td>5</td>\n",
              "    </tr>\n",
              "    <tr>\n",
              "      <th>3</th>\n",
              "      <td>굿 말이 필요 없는 메뉴 였습니다</td>\n",
              "      <td>수 많은 매장들을 헤치고 와주셔서 감사합니다!!\\n\\n저희 매장의 메뉴를 제대로 즐...</td>\n",
              "      <td>5</td>\n",
              "    </tr>\n",
              "    <tr>\n",
              "      <th>4</th>\n",
              "      <td>맛있어요 양도많구좋음</td>\n",
              "      <td>수 많은 매장들을 헤치고 와주셔서 감사합니다😂\\n\\n메뉴 그 자체로 행복을 드리고 ...</td>\n",
              "      <td>5</td>\n",
              "    </tr>\n",
              "  </tbody>\n",
              "</table>\n",
              "</div>\n",
              "    <div class=\"colab-df-buttons\">\n",
              "\n",
              "  <div class=\"colab-df-container\">\n",
              "    <button class=\"colab-df-convert\" onclick=\"convertToInteractive('df-b9f69d8b-23ab-4f59-a0a6-ca100ae12816')\"\n",
              "            title=\"Convert this dataframe to an interactive table.\"\n",
              "            style=\"display:none;\">\n",
              "\n",
              "  <svg xmlns=\"http://www.w3.org/2000/svg\" height=\"24px\" viewBox=\"0 -960 960 960\">\n",
              "    <path d=\"M120-120v-720h720v720H120Zm60-500h600v-160H180v160Zm220 220h160v-160H400v160Zm0 220h160v-160H400v160ZM180-400h160v-160H180v160Zm440 0h160v-160H620v160ZM180-180h160v-160H180v160Zm440 0h160v-160H620v160Z\"/>\n",
              "  </svg>\n",
              "    </button>\n",
              "\n",
              "  <style>\n",
              "    .colab-df-container {\n",
              "      display:flex;\n",
              "      gap: 12px;\n",
              "    }\n",
              "\n",
              "    .colab-df-convert {\n",
              "      background-color: #E8F0FE;\n",
              "      border: none;\n",
              "      border-radius: 50%;\n",
              "      cursor: pointer;\n",
              "      display: none;\n",
              "      fill: #1967D2;\n",
              "      height: 32px;\n",
              "      padding: 0 0 0 0;\n",
              "      width: 32px;\n",
              "    }\n",
              "\n",
              "    .colab-df-convert:hover {\n",
              "      background-color: #E2EBFA;\n",
              "      box-shadow: 0px 1px 2px rgba(60, 64, 67, 0.3), 0px 1px 3px 1px rgba(60, 64, 67, 0.15);\n",
              "      fill: #174EA6;\n",
              "    }\n",
              "\n",
              "    .colab-df-buttons div {\n",
              "      margin-bottom: 4px;\n",
              "    }\n",
              "\n",
              "    [theme=dark] .colab-df-convert {\n",
              "      background-color: #3B4455;\n",
              "      fill: #D2E3FC;\n",
              "    }\n",
              "\n",
              "    [theme=dark] .colab-df-convert:hover {\n",
              "      background-color: #434B5C;\n",
              "      box-shadow: 0px 1px 3px 1px rgba(0, 0, 0, 0.15);\n",
              "      filter: drop-shadow(0px 1px 2px rgba(0, 0, 0, 0.3));\n",
              "      fill: #FFFFFF;\n",
              "    }\n",
              "  </style>\n",
              "\n",
              "    <script>\n",
              "      const buttonEl =\n",
              "        document.querySelector('#df-b9f69d8b-23ab-4f59-a0a6-ca100ae12816 button.colab-df-convert');\n",
              "      buttonEl.style.display =\n",
              "        google.colab.kernel.accessAllowed ? 'block' : 'none';\n",
              "\n",
              "      async function convertToInteractive(key) {\n",
              "        const element = document.querySelector('#df-b9f69d8b-23ab-4f59-a0a6-ca100ae12816');\n",
              "        const dataTable =\n",
              "          await google.colab.kernel.invokeFunction('convertToInteractive',\n",
              "                                                    [key], {});\n",
              "        if (!dataTable) return;\n",
              "\n",
              "        const docLinkHtml = 'Like what you see? Visit the ' +\n",
              "          '<a target=\"_blank\" href=https://colab.research.google.com/notebooks/data_table.ipynb>data table notebook</a>'\n",
              "          + ' to learn more about interactive tables.';\n",
              "        element.innerHTML = '';\n",
              "        dataTable['output_type'] = 'display_data';\n",
              "        await google.colab.output.renderOutput(dataTable, element);\n",
              "        const docLink = document.createElement('div');\n",
              "        docLink.innerHTML = docLinkHtml;\n",
              "        element.appendChild(docLink);\n",
              "      }\n",
              "    </script>\n",
              "  </div>\n",
              "\n",
              "\n",
              "<div id=\"df-5927c0af-b496-4815-b847-94ed4e5658ba\">\n",
              "  <button class=\"colab-df-quickchart\" onclick=\"quickchart('df-5927c0af-b496-4815-b847-94ed4e5658ba')\"\n",
              "            title=\"Suggest charts.\"\n",
              "            style=\"display:none;\">\n",
              "\n",
              "<svg xmlns=\"http://www.w3.org/2000/svg\" height=\"24px\"viewBox=\"0 0 24 24\"\n",
              "     width=\"24px\">\n",
              "    <g>\n",
              "        <path d=\"M19 3H5c-1.1 0-2 .9-2 2v14c0 1.1.9 2 2 2h14c1.1 0 2-.9 2-2V5c0-1.1-.9-2-2-2zM9 17H7v-7h2v7zm4 0h-2V7h2v10zm4 0h-2v-4h2v4z\"/>\n",
              "    </g>\n",
              "</svg>\n",
              "  </button>\n",
              "\n",
              "<style>\n",
              "  .colab-df-quickchart {\n",
              "      --bg-color: #E8F0FE;\n",
              "      --fill-color: #1967D2;\n",
              "      --hover-bg-color: #E2EBFA;\n",
              "      --hover-fill-color: #174EA6;\n",
              "      --disabled-fill-color: #AAA;\n",
              "      --disabled-bg-color: #DDD;\n",
              "  }\n",
              "\n",
              "  [theme=dark] .colab-df-quickchart {\n",
              "      --bg-color: #3B4455;\n",
              "      --fill-color: #D2E3FC;\n",
              "      --hover-bg-color: #434B5C;\n",
              "      --hover-fill-color: #FFFFFF;\n",
              "      --disabled-bg-color: #3B4455;\n",
              "      --disabled-fill-color: #666;\n",
              "  }\n",
              "\n",
              "  .colab-df-quickchart {\n",
              "    background-color: var(--bg-color);\n",
              "    border: none;\n",
              "    border-radius: 50%;\n",
              "    cursor: pointer;\n",
              "    display: none;\n",
              "    fill: var(--fill-color);\n",
              "    height: 32px;\n",
              "    padding: 0;\n",
              "    width: 32px;\n",
              "  }\n",
              "\n",
              "  .colab-df-quickchart:hover {\n",
              "    background-color: var(--hover-bg-color);\n",
              "    box-shadow: 0 1px 2px rgba(60, 64, 67, 0.3), 0 1px 3px 1px rgba(60, 64, 67, 0.15);\n",
              "    fill: var(--button-hover-fill-color);\n",
              "  }\n",
              "\n",
              "  .colab-df-quickchart-complete:disabled,\n",
              "  .colab-df-quickchart-complete:disabled:hover {\n",
              "    background-color: var(--disabled-bg-color);\n",
              "    fill: var(--disabled-fill-color);\n",
              "    box-shadow: none;\n",
              "  }\n",
              "\n",
              "  .colab-df-spinner {\n",
              "    border: 2px solid var(--fill-color);\n",
              "    border-color: transparent;\n",
              "    border-bottom-color: var(--fill-color);\n",
              "    animation:\n",
              "      spin 1s steps(1) infinite;\n",
              "  }\n",
              "\n",
              "  @keyframes spin {\n",
              "    0% {\n",
              "      border-color: transparent;\n",
              "      border-bottom-color: var(--fill-color);\n",
              "      border-left-color: var(--fill-color);\n",
              "    }\n",
              "    20% {\n",
              "      border-color: transparent;\n",
              "      border-left-color: var(--fill-color);\n",
              "      border-top-color: var(--fill-color);\n",
              "    }\n",
              "    30% {\n",
              "      border-color: transparent;\n",
              "      border-left-color: var(--fill-color);\n",
              "      border-top-color: var(--fill-color);\n",
              "      border-right-color: var(--fill-color);\n",
              "    }\n",
              "    40% {\n",
              "      border-color: transparent;\n",
              "      border-right-color: var(--fill-color);\n",
              "      border-top-color: var(--fill-color);\n",
              "    }\n",
              "    60% {\n",
              "      border-color: transparent;\n",
              "      border-right-color: var(--fill-color);\n",
              "    }\n",
              "    80% {\n",
              "      border-color: transparent;\n",
              "      border-right-color: var(--fill-color);\n",
              "      border-bottom-color: var(--fill-color);\n",
              "    }\n",
              "    90% {\n",
              "      border-color: transparent;\n",
              "      border-bottom-color: var(--fill-color);\n",
              "    }\n",
              "  }\n",
              "</style>\n",
              "\n",
              "  <script>\n",
              "    async function quickchart(key) {\n",
              "      const quickchartButtonEl =\n",
              "        document.querySelector('#' + key + ' button');\n",
              "      quickchartButtonEl.disabled = true;  // To prevent multiple clicks.\n",
              "      quickchartButtonEl.classList.add('colab-df-spinner');\n",
              "      try {\n",
              "        const charts = await google.colab.kernel.invokeFunction(\n",
              "            'suggestCharts', [key], {});\n",
              "      } catch (error) {\n",
              "        console.error('Error during call to suggestCharts:', error);\n",
              "      }\n",
              "      quickchartButtonEl.classList.remove('colab-df-spinner');\n",
              "      quickchartButtonEl.classList.add('colab-df-quickchart-complete');\n",
              "    }\n",
              "    (() => {\n",
              "      let quickchartButtonEl =\n",
              "        document.querySelector('#df-5927c0af-b496-4815-b847-94ed4e5658ba button');\n",
              "      quickchartButtonEl.style.display =\n",
              "        google.colab.kernel.accessAllowed ? 'block' : 'none';\n",
              "    })();\n",
              "  </script>\n",
              "</div>\n",
              "    </div>\n",
              "  </div>\n"
            ]
          },
          "metadata": {},
          "execution_count": 9
        }
      ]
    },
    {
      "cell_type": "code",
      "source": [
        "reply_list = []\n",
        "for reply in train['reply']:\n",
        "    if isinstance(reply, str):\n",
        "        pat = re.compile(\"[^a-zA-Z가-힣0-9]\")\n",
        "        # pat = re.compile(\"[^a-zA-Z가-힣0-9.,~?!]\")\n",
        "        result = pat.sub(\" \", reply)\n",
        "\n",
        "        # result = re.sub(r'\\.{2,}', '.', result)\n",
        "        # result = re.sub(r'\\,{2,}', ',', result)\n",
        "        # result = re.sub(r'\\~{2,}', '~', result)\n",
        "        # result = re.sub(r'\\!{2,}', '!', result)\n",
        "        # result = re.sub(r'\\?{2,}', '?', result)\n",
        "        result = re.sub(\" +\", \" \", result)\n",
        "        reply_list.append(result)\n",
        "    else:\n",
        "        reply_list.append(\"\")\n",
        "\n",
        "train['reply'] = reply_list\n",
        "train.head()"
      ],
      "metadata": {
        "colab": {
          "base_uri": "https://localhost:8080/",
          "height": 293
        },
        "id": "L-Yw1bDhkHf5",
        "outputId": "42d7eee7-9d53-486d-ed0b-7839a9837548"
      },
      "execution_count": 10,
      "outputs": [
        {
          "output_type": "execute_result",
          "data": {
            "text/plain": [
              "                                           review  \\\n",
              "0  사진보다 실물이 백배 맛있어요 고기 양도 많아요 배달시간도 딱 맞춰서 보내주셨어요    \n",
              "1                    리뷰가 늦었네요 맛있게 잘 먹었습니다 또 시킬게요    \n",
              "2               잘 먹었습니다 다만 주문에 있던 펩시콜라는 받지 못했습니다    \n",
              "3                              굿 말이 필요 없는 메뉴 였습니다   \n",
              "4                                     맛있어요 양도많구좋음   \n",
              "\n",
              "                                               reply  star  \n",
              "0  이렇게 저희 매장 찾아주셔서 감사드립니다 맛 뿐만 아니라 양도 서비스도 모두 최상의...     5  \n",
              "1  좋은 리뷰 덕분에 기분이 행복해지는 것 같아요 고객님께서 맛있다고 말씀 주시니 피로...     5  \n",
              "2  소중한 식사 시간에 저희 매장을 찾아 주셔서 감사드립니다 저희를 찾아 주신 만큼 1...     5  \n",
              "3  수 많은 매장들을 헤치고 와주셔서 감사합니다 저희 매장의 메뉴를 제대로 즐기신 거 ...     5  \n",
              "4  수 많은 매장들을 헤치고 와주셔서 감사합니다 메뉴 그 자체로 행복을 드리고 싶었는데...     5  "
            ],
            "text/html": [
              "\n",
              "  <div id=\"df-8d7c845c-7151-4b84-a4d1-8555e8243a53\" class=\"colab-df-container\">\n",
              "    <div>\n",
              "<style scoped>\n",
              "    .dataframe tbody tr th:only-of-type {\n",
              "        vertical-align: middle;\n",
              "    }\n",
              "\n",
              "    .dataframe tbody tr th {\n",
              "        vertical-align: top;\n",
              "    }\n",
              "\n",
              "    .dataframe thead th {\n",
              "        text-align: right;\n",
              "    }\n",
              "</style>\n",
              "<table border=\"1\" class=\"dataframe\">\n",
              "  <thead>\n",
              "    <tr style=\"text-align: right;\">\n",
              "      <th></th>\n",
              "      <th>review</th>\n",
              "      <th>reply</th>\n",
              "      <th>star</th>\n",
              "    </tr>\n",
              "  </thead>\n",
              "  <tbody>\n",
              "    <tr>\n",
              "      <th>0</th>\n",
              "      <td>사진보다 실물이 백배 맛있어요 고기 양도 많아요 배달시간도 딱 맞춰서 보내주셨어요</td>\n",
              "      <td>이렇게 저희 매장 찾아주셔서 감사드립니다 맛 뿐만 아니라 양도 서비스도 모두 최상의...</td>\n",
              "      <td>5</td>\n",
              "    </tr>\n",
              "    <tr>\n",
              "      <th>1</th>\n",
              "      <td>리뷰가 늦었네요 맛있게 잘 먹었습니다 또 시킬게요</td>\n",
              "      <td>좋은 리뷰 덕분에 기분이 행복해지는 것 같아요 고객님께서 맛있다고 말씀 주시니 피로...</td>\n",
              "      <td>5</td>\n",
              "    </tr>\n",
              "    <tr>\n",
              "      <th>2</th>\n",
              "      <td>잘 먹었습니다 다만 주문에 있던 펩시콜라는 받지 못했습니다</td>\n",
              "      <td>소중한 식사 시간에 저희 매장을 찾아 주셔서 감사드립니다 저희를 찾아 주신 만큼 1...</td>\n",
              "      <td>5</td>\n",
              "    </tr>\n",
              "    <tr>\n",
              "      <th>3</th>\n",
              "      <td>굿 말이 필요 없는 메뉴 였습니다</td>\n",
              "      <td>수 많은 매장들을 헤치고 와주셔서 감사합니다 저희 매장의 메뉴를 제대로 즐기신 거 ...</td>\n",
              "      <td>5</td>\n",
              "    </tr>\n",
              "    <tr>\n",
              "      <th>4</th>\n",
              "      <td>맛있어요 양도많구좋음</td>\n",
              "      <td>수 많은 매장들을 헤치고 와주셔서 감사합니다 메뉴 그 자체로 행복을 드리고 싶었는데...</td>\n",
              "      <td>5</td>\n",
              "    </tr>\n",
              "  </tbody>\n",
              "</table>\n",
              "</div>\n",
              "    <div class=\"colab-df-buttons\">\n",
              "\n",
              "  <div class=\"colab-df-container\">\n",
              "    <button class=\"colab-df-convert\" onclick=\"convertToInteractive('df-8d7c845c-7151-4b84-a4d1-8555e8243a53')\"\n",
              "            title=\"Convert this dataframe to an interactive table.\"\n",
              "            style=\"display:none;\">\n",
              "\n",
              "  <svg xmlns=\"http://www.w3.org/2000/svg\" height=\"24px\" viewBox=\"0 -960 960 960\">\n",
              "    <path d=\"M120-120v-720h720v720H120Zm60-500h600v-160H180v160Zm220 220h160v-160H400v160Zm0 220h160v-160H400v160ZM180-400h160v-160H180v160Zm440 0h160v-160H620v160ZM180-180h160v-160H180v160Zm440 0h160v-160H620v160Z\"/>\n",
              "  </svg>\n",
              "    </button>\n",
              "\n",
              "  <style>\n",
              "    .colab-df-container {\n",
              "      display:flex;\n",
              "      gap: 12px;\n",
              "    }\n",
              "\n",
              "    .colab-df-convert {\n",
              "      background-color: #E8F0FE;\n",
              "      border: none;\n",
              "      border-radius: 50%;\n",
              "      cursor: pointer;\n",
              "      display: none;\n",
              "      fill: #1967D2;\n",
              "      height: 32px;\n",
              "      padding: 0 0 0 0;\n",
              "      width: 32px;\n",
              "    }\n",
              "\n",
              "    .colab-df-convert:hover {\n",
              "      background-color: #E2EBFA;\n",
              "      box-shadow: 0px 1px 2px rgba(60, 64, 67, 0.3), 0px 1px 3px 1px rgba(60, 64, 67, 0.15);\n",
              "      fill: #174EA6;\n",
              "    }\n",
              "\n",
              "    .colab-df-buttons div {\n",
              "      margin-bottom: 4px;\n",
              "    }\n",
              "\n",
              "    [theme=dark] .colab-df-convert {\n",
              "      background-color: #3B4455;\n",
              "      fill: #D2E3FC;\n",
              "    }\n",
              "\n",
              "    [theme=dark] .colab-df-convert:hover {\n",
              "      background-color: #434B5C;\n",
              "      box-shadow: 0px 1px 3px 1px rgba(0, 0, 0, 0.15);\n",
              "      filter: drop-shadow(0px 1px 2px rgba(0, 0, 0, 0.3));\n",
              "      fill: #FFFFFF;\n",
              "    }\n",
              "  </style>\n",
              "\n",
              "    <script>\n",
              "      const buttonEl =\n",
              "        document.querySelector('#df-8d7c845c-7151-4b84-a4d1-8555e8243a53 button.colab-df-convert');\n",
              "      buttonEl.style.display =\n",
              "        google.colab.kernel.accessAllowed ? 'block' : 'none';\n",
              "\n",
              "      async function convertToInteractive(key) {\n",
              "        const element = document.querySelector('#df-8d7c845c-7151-4b84-a4d1-8555e8243a53');\n",
              "        const dataTable =\n",
              "          await google.colab.kernel.invokeFunction('convertToInteractive',\n",
              "                                                    [key], {});\n",
              "        if (!dataTable) return;\n",
              "\n",
              "        const docLinkHtml = 'Like what you see? Visit the ' +\n",
              "          '<a target=\"_blank\" href=https://colab.research.google.com/notebooks/data_table.ipynb>data table notebook</a>'\n",
              "          + ' to learn more about interactive tables.';\n",
              "        element.innerHTML = '';\n",
              "        dataTable['output_type'] = 'display_data';\n",
              "        await google.colab.output.renderOutput(dataTable, element);\n",
              "        const docLink = document.createElement('div');\n",
              "        docLink.innerHTML = docLinkHtml;\n",
              "        element.appendChild(docLink);\n",
              "      }\n",
              "    </script>\n",
              "  </div>\n",
              "\n",
              "\n",
              "<div id=\"df-9f0f9eec-4aba-4726-8790-7a2979dfd458\">\n",
              "  <button class=\"colab-df-quickchart\" onclick=\"quickchart('df-9f0f9eec-4aba-4726-8790-7a2979dfd458')\"\n",
              "            title=\"Suggest charts.\"\n",
              "            style=\"display:none;\">\n",
              "\n",
              "<svg xmlns=\"http://www.w3.org/2000/svg\" height=\"24px\"viewBox=\"0 0 24 24\"\n",
              "     width=\"24px\">\n",
              "    <g>\n",
              "        <path d=\"M19 3H5c-1.1 0-2 .9-2 2v14c0 1.1.9 2 2 2h14c1.1 0 2-.9 2-2V5c0-1.1-.9-2-2-2zM9 17H7v-7h2v7zm4 0h-2V7h2v10zm4 0h-2v-4h2v4z\"/>\n",
              "    </g>\n",
              "</svg>\n",
              "  </button>\n",
              "\n",
              "<style>\n",
              "  .colab-df-quickchart {\n",
              "      --bg-color: #E8F0FE;\n",
              "      --fill-color: #1967D2;\n",
              "      --hover-bg-color: #E2EBFA;\n",
              "      --hover-fill-color: #174EA6;\n",
              "      --disabled-fill-color: #AAA;\n",
              "      --disabled-bg-color: #DDD;\n",
              "  }\n",
              "\n",
              "  [theme=dark] .colab-df-quickchart {\n",
              "      --bg-color: #3B4455;\n",
              "      --fill-color: #D2E3FC;\n",
              "      --hover-bg-color: #434B5C;\n",
              "      --hover-fill-color: #FFFFFF;\n",
              "      --disabled-bg-color: #3B4455;\n",
              "      --disabled-fill-color: #666;\n",
              "  }\n",
              "\n",
              "  .colab-df-quickchart {\n",
              "    background-color: var(--bg-color);\n",
              "    border: none;\n",
              "    border-radius: 50%;\n",
              "    cursor: pointer;\n",
              "    display: none;\n",
              "    fill: var(--fill-color);\n",
              "    height: 32px;\n",
              "    padding: 0;\n",
              "    width: 32px;\n",
              "  }\n",
              "\n",
              "  .colab-df-quickchart:hover {\n",
              "    background-color: var(--hover-bg-color);\n",
              "    box-shadow: 0 1px 2px rgba(60, 64, 67, 0.3), 0 1px 3px 1px rgba(60, 64, 67, 0.15);\n",
              "    fill: var(--button-hover-fill-color);\n",
              "  }\n",
              "\n",
              "  .colab-df-quickchart-complete:disabled,\n",
              "  .colab-df-quickchart-complete:disabled:hover {\n",
              "    background-color: var(--disabled-bg-color);\n",
              "    fill: var(--disabled-fill-color);\n",
              "    box-shadow: none;\n",
              "  }\n",
              "\n",
              "  .colab-df-spinner {\n",
              "    border: 2px solid var(--fill-color);\n",
              "    border-color: transparent;\n",
              "    border-bottom-color: var(--fill-color);\n",
              "    animation:\n",
              "      spin 1s steps(1) infinite;\n",
              "  }\n",
              "\n",
              "  @keyframes spin {\n",
              "    0% {\n",
              "      border-color: transparent;\n",
              "      border-bottom-color: var(--fill-color);\n",
              "      border-left-color: var(--fill-color);\n",
              "    }\n",
              "    20% {\n",
              "      border-color: transparent;\n",
              "      border-left-color: var(--fill-color);\n",
              "      border-top-color: var(--fill-color);\n",
              "    }\n",
              "    30% {\n",
              "      border-color: transparent;\n",
              "      border-left-color: var(--fill-color);\n",
              "      border-top-color: var(--fill-color);\n",
              "      border-right-color: var(--fill-color);\n",
              "    }\n",
              "    40% {\n",
              "      border-color: transparent;\n",
              "      border-right-color: var(--fill-color);\n",
              "      border-top-color: var(--fill-color);\n",
              "    }\n",
              "    60% {\n",
              "      border-color: transparent;\n",
              "      border-right-color: var(--fill-color);\n",
              "    }\n",
              "    80% {\n",
              "      border-color: transparent;\n",
              "      border-right-color: var(--fill-color);\n",
              "      border-bottom-color: var(--fill-color);\n",
              "    }\n",
              "    90% {\n",
              "      border-color: transparent;\n",
              "      border-bottom-color: var(--fill-color);\n",
              "    }\n",
              "  }\n",
              "</style>\n",
              "\n",
              "  <script>\n",
              "    async function quickchart(key) {\n",
              "      const quickchartButtonEl =\n",
              "        document.querySelector('#' + key + ' button');\n",
              "      quickchartButtonEl.disabled = true;  // To prevent multiple clicks.\n",
              "      quickchartButtonEl.classList.add('colab-df-spinner');\n",
              "      try {\n",
              "        const charts = await google.colab.kernel.invokeFunction(\n",
              "            'suggestCharts', [key], {});\n",
              "      } catch (error) {\n",
              "        console.error('Error during call to suggestCharts:', error);\n",
              "      }\n",
              "      quickchartButtonEl.classList.remove('colab-df-spinner');\n",
              "      quickchartButtonEl.classList.add('colab-df-quickchart-complete');\n",
              "    }\n",
              "    (() => {\n",
              "      let quickchartButtonEl =\n",
              "        document.querySelector('#df-9f0f9eec-4aba-4726-8790-7a2979dfd458 button');\n",
              "      quickchartButtonEl.style.display =\n",
              "        google.colab.kernel.accessAllowed ? 'block' : 'none';\n",
              "    })();\n",
              "  </script>\n",
              "</div>\n",
              "    </div>\n",
              "  </div>\n"
            ]
          },
          "metadata": {},
          "execution_count": 10
        }
      ]
    },
    {
      "cell_type": "markdown",
      "source": [
        "### \"~~님\" → \"고객님\"으로 변환"
      ],
      "metadata": {
        "id": "kGzp2f09pN2x"
      }
    },
    {
      "cell_type": "code",
      "source": [
        "train['reply'] = train['reply'].str.replace(r'\\w+\\s*님', '고객님', regex=True)"
      ],
      "metadata": {
        "id": "SRMlbtaPoOql"
      },
      "execution_count": 11,
      "outputs": []
    },
    {
      "cell_type": "markdown",
      "source": [
        "### 답변 맞춤법 처리"
      ],
      "metadata": {
        "id": "6TRepPkVR-SQ"
      }
    },
    {
      "cell_type": "code",
      "source": [
        "# !git clone https://github.com/ssut/py-hanspell.git\n",
        "# !cd py-hanspell\n",
        "# !pip install py-hanspell/"
      ],
      "metadata": {
        "id": "dCaB16eVuzHu"
      },
      "execution_count": null,
      "outputs": []
    },
    {
      "cell_type": "code",
      "source": [
        "# from hanspell import spell_checker\n",
        "# def correct_spell(text):\n",
        "#     if isinstance(text, str):  # 입력 데이터가 문자열인 경우에만 맞춤법 검사 수행\n",
        "#         corrected_text = spell_checker.check(text).checked\n",
        "#         return corrected_text\n",
        "#     else:\n",
        "#         return text\n",
        "\n",
        "# correct_spell(train['reply'][0])"
      ],
      "metadata": {
        "id": "9bCVeEqH4wf8"
      },
      "execution_count": null,
      "outputs": []
    },
    {
      "cell_type": "code",
      "source": [
        "# # 한시간 반 걸림. 원한다면 click\n",
        "# train['reply'] = train['reply'].apply(correct_spell)"
      ],
      "metadata": {
        "id": "tJGLPkch47yC"
      },
      "execution_count": null,
      "outputs": []
    },
    {
      "cell_type": "markdown",
      "source": [
        "# 여기까지 완료된 데이터 불러오기"
      ],
      "metadata": {
        "id": "CkJwH9oeTRWg"
      }
    },
    {
      "cell_type": "code",
      "source": [
        "# # # 전체\n",
        "# # train = pd.read_csv(f\"{DATA_PATH}yogiyo_clean.csv\")\n",
        "\n",
        "# # # 오버샘플\n",
        "# # train = pd.read_csv(f\"{DATA_PATH}yogiyo_OV_clean.csv\")\n",
        "\n",
        "# # paraphrase(가게명 처리만 안된)\n",
        "# train = pd.read_csv(f\"{DATA_PATH}yogiyo_paraphrased_reply.csv\")\n",
        "# train = train.drop(columns=[\"star\",\"store\"])\n",
        "# train.head()"
      ],
      "metadata": {
        "id": "rVMEEqzTTFmN",
        "colab": {
          "base_uri": "https://localhost:8080/",
          "height": 206
        },
        "outputId": "151cbf9d-17eb-438d-b7c3-d093cb7e21c1"
      },
      "execution_count": null,
      "outputs": [
        {
          "output_type": "execute_result",
          "data": {
            "text/plain": [
              "                              review  \\\n",
              "0       리뷰가 늦었네요 맛있게 잘 먹었습니다 또 시킬게요    \n",
              "1  잘 먹었습니다 다만 주문에 있던 펩시콜라는 받지 못했습니다    \n",
              "2                 굿 말이 필요 없는 메뉴 였습니다   \n",
              "3                        맛있어요 양도많구좋음   \n",
              "4                          양많고 맛있었어요   \n",
              "\n",
              "                                               reply  \n",
              "0  힘든 주방일에 치이고 있는 와중에도 맛있는 요리 해 주시는 고객님 덕분에 저도 기분...  \n",
              "1  저희 매장을 찾아와 주신 여러분께 감사의 말씀을 전하며 더 좋은 요리와 멋진 요리로...  \n",
              "2                   저희 가게 앞에 와주신 많은 분들께 감사의 말씀 전합니다.  \n",
              "3       항상 노력하고 발전하는 곳에서 고객님의 만족도를 높여 드릴 것을 약속하겠습니다.  \n",
              "4  저희 매장을 찾아와 주신 고객님들께 감사의 뜻을 전하고 싶고 또 그 고마움을 나눌 ...  "
            ],
            "text/html": [
              "\n",
              "  <div id=\"df-50fca71b-9014-4dd7-8828-7f9fd2ad596d\" class=\"colab-df-container\">\n",
              "    <div>\n",
              "<style scoped>\n",
              "    .dataframe tbody tr th:only-of-type {\n",
              "        vertical-align: middle;\n",
              "    }\n",
              "\n",
              "    .dataframe tbody tr th {\n",
              "        vertical-align: top;\n",
              "    }\n",
              "\n",
              "    .dataframe thead th {\n",
              "        text-align: right;\n",
              "    }\n",
              "</style>\n",
              "<table border=\"1\" class=\"dataframe\">\n",
              "  <thead>\n",
              "    <tr style=\"text-align: right;\">\n",
              "      <th></th>\n",
              "      <th>review</th>\n",
              "      <th>reply</th>\n",
              "    </tr>\n",
              "  </thead>\n",
              "  <tbody>\n",
              "    <tr>\n",
              "      <th>0</th>\n",
              "      <td>리뷰가 늦었네요 맛있게 잘 먹었습니다 또 시킬게요</td>\n",
              "      <td>힘든 주방일에 치이고 있는 와중에도 맛있는 요리 해 주시는 고객님 덕분에 저도 기분...</td>\n",
              "    </tr>\n",
              "    <tr>\n",
              "      <th>1</th>\n",
              "      <td>잘 먹었습니다 다만 주문에 있던 펩시콜라는 받지 못했습니다</td>\n",
              "      <td>저희 매장을 찾아와 주신 여러분께 감사의 말씀을 전하며 더 좋은 요리와 멋진 요리로...</td>\n",
              "    </tr>\n",
              "    <tr>\n",
              "      <th>2</th>\n",
              "      <td>굿 말이 필요 없는 메뉴 였습니다</td>\n",
              "      <td>저희 가게 앞에 와주신 많은 분들께 감사의 말씀 전합니다.</td>\n",
              "    </tr>\n",
              "    <tr>\n",
              "      <th>3</th>\n",
              "      <td>맛있어요 양도많구좋음</td>\n",
              "      <td>항상 노력하고 발전하는 곳에서 고객님의 만족도를 높여 드릴 것을 약속하겠습니다.</td>\n",
              "    </tr>\n",
              "    <tr>\n",
              "      <th>4</th>\n",
              "      <td>양많고 맛있었어요</td>\n",
              "      <td>저희 매장을 찾아와 주신 고객님들께 감사의 뜻을 전하고 싶고 또 그 고마움을 나눌 ...</td>\n",
              "    </tr>\n",
              "  </tbody>\n",
              "</table>\n",
              "</div>\n",
              "    <div class=\"colab-df-buttons\">\n",
              "\n",
              "  <div class=\"colab-df-container\">\n",
              "    <button class=\"colab-df-convert\" onclick=\"convertToInteractive('df-50fca71b-9014-4dd7-8828-7f9fd2ad596d')\"\n",
              "            title=\"Convert this dataframe to an interactive table.\"\n",
              "            style=\"display:none;\">\n",
              "\n",
              "  <svg xmlns=\"http://www.w3.org/2000/svg\" height=\"24px\" viewBox=\"0 -960 960 960\">\n",
              "    <path d=\"M120-120v-720h720v720H120Zm60-500h600v-160H180v160Zm220 220h160v-160H400v160Zm0 220h160v-160H400v160ZM180-400h160v-160H180v160Zm440 0h160v-160H620v160ZM180-180h160v-160H180v160Zm440 0h160v-160H620v160Z\"/>\n",
              "  </svg>\n",
              "    </button>\n",
              "\n",
              "  <style>\n",
              "    .colab-df-container {\n",
              "      display:flex;\n",
              "      gap: 12px;\n",
              "    }\n",
              "\n",
              "    .colab-df-convert {\n",
              "      background-color: #E8F0FE;\n",
              "      border: none;\n",
              "      border-radius: 50%;\n",
              "      cursor: pointer;\n",
              "      display: none;\n",
              "      fill: #1967D2;\n",
              "      height: 32px;\n",
              "      padding: 0 0 0 0;\n",
              "      width: 32px;\n",
              "    }\n",
              "\n",
              "    .colab-df-convert:hover {\n",
              "      background-color: #E2EBFA;\n",
              "      box-shadow: 0px 1px 2px rgba(60, 64, 67, 0.3), 0px 1px 3px 1px rgba(60, 64, 67, 0.15);\n",
              "      fill: #174EA6;\n",
              "    }\n",
              "\n",
              "    .colab-df-buttons div {\n",
              "      margin-bottom: 4px;\n",
              "    }\n",
              "\n",
              "    [theme=dark] .colab-df-convert {\n",
              "      background-color: #3B4455;\n",
              "      fill: #D2E3FC;\n",
              "    }\n",
              "\n",
              "    [theme=dark] .colab-df-convert:hover {\n",
              "      background-color: #434B5C;\n",
              "      box-shadow: 0px 1px 3px 1px rgba(0, 0, 0, 0.15);\n",
              "      filter: drop-shadow(0px 1px 2px rgba(0, 0, 0, 0.3));\n",
              "      fill: #FFFFFF;\n",
              "    }\n",
              "  </style>\n",
              "\n",
              "    <script>\n",
              "      const buttonEl =\n",
              "        document.querySelector('#df-50fca71b-9014-4dd7-8828-7f9fd2ad596d button.colab-df-convert');\n",
              "      buttonEl.style.display =\n",
              "        google.colab.kernel.accessAllowed ? 'block' : 'none';\n",
              "\n",
              "      async function convertToInteractive(key) {\n",
              "        const element = document.querySelector('#df-50fca71b-9014-4dd7-8828-7f9fd2ad596d');\n",
              "        const dataTable =\n",
              "          await google.colab.kernel.invokeFunction('convertToInteractive',\n",
              "                                                    [key], {});\n",
              "        if (!dataTable) return;\n",
              "\n",
              "        const docLinkHtml = 'Like what you see? Visit the ' +\n",
              "          '<a target=\"_blank\" href=https://colab.research.google.com/notebooks/data_table.ipynb>data table notebook</a>'\n",
              "          + ' to learn more about interactive tables.';\n",
              "        element.innerHTML = '';\n",
              "        dataTable['output_type'] = 'display_data';\n",
              "        await google.colab.output.renderOutput(dataTable, element);\n",
              "        const docLink = document.createElement('div');\n",
              "        docLink.innerHTML = docLinkHtml;\n",
              "        element.appendChild(docLink);\n",
              "      }\n",
              "    </script>\n",
              "  </div>\n",
              "\n",
              "\n",
              "<div id=\"df-c46646b4-f7ad-48e9-bb90-b433cca2bae6\">\n",
              "  <button class=\"colab-df-quickchart\" onclick=\"quickchart('df-c46646b4-f7ad-48e9-bb90-b433cca2bae6')\"\n",
              "            title=\"Suggest charts.\"\n",
              "            style=\"display:none;\">\n",
              "\n",
              "<svg xmlns=\"http://www.w3.org/2000/svg\" height=\"24px\"viewBox=\"0 0 24 24\"\n",
              "     width=\"24px\">\n",
              "    <g>\n",
              "        <path d=\"M19 3H5c-1.1 0-2 .9-2 2v14c0 1.1.9 2 2 2h14c1.1 0 2-.9 2-2V5c0-1.1-.9-2-2-2zM9 17H7v-7h2v7zm4 0h-2V7h2v10zm4 0h-2v-4h2v4z\"/>\n",
              "    </g>\n",
              "</svg>\n",
              "  </button>\n",
              "\n",
              "<style>\n",
              "  .colab-df-quickchart {\n",
              "      --bg-color: #E8F0FE;\n",
              "      --fill-color: #1967D2;\n",
              "      --hover-bg-color: #E2EBFA;\n",
              "      --hover-fill-color: #174EA6;\n",
              "      --disabled-fill-color: #AAA;\n",
              "      --disabled-bg-color: #DDD;\n",
              "  }\n",
              "\n",
              "  [theme=dark] .colab-df-quickchart {\n",
              "      --bg-color: #3B4455;\n",
              "      --fill-color: #D2E3FC;\n",
              "      --hover-bg-color: #434B5C;\n",
              "      --hover-fill-color: #FFFFFF;\n",
              "      --disabled-bg-color: #3B4455;\n",
              "      --disabled-fill-color: #666;\n",
              "  }\n",
              "\n",
              "  .colab-df-quickchart {\n",
              "    background-color: var(--bg-color);\n",
              "    border: none;\n",
              "    border-radius: 50%;\n",
              "    cursor: pointer;\n",
              "    display: none;\n",
              "    fill: var(--fill-color);\n",
              "    height: 32px;\n",
              "    padding: 0;\n",
              "    width: 32px;\n",
              "  }\n",
              "\n",
              "  .colab-df-quickchart:hover {\n",
              "    background-color: var(--hover-bg-color);\n",
              "    box-shadow: 0 1px 2px rgba(60, 64, 67, 0.3), 0 1px 3px 1px rgba(60, 64, 67, 0.15);\n",
              "    fill: var(--button-hover-fill-color);\n",
              "  }\n",
              "\n",
              "  .colab-df-quickchart-complete:disabled,\n",
              "  .colab-df-quickchart-complete:disabled:hover {\n",
              "    background-color: var(--disabled-bg-color);\n",
              "    fill: var(--disabled-fill-color);\n",
              "    box-shadow: none;\n",
              "  }\n",
              "\n",
              "  .colab-df-spinner {\n",
              "    border: 2px solid var(--fill-color);\n",
              "    border-color: transparent;\n",
              "    border-bottom-color: var(--fill-color);\n",
              "    animation:\n",
              "      spin 1s steps(1) infinite;\n",
              "  }\n",
              "\n",
              "  @keyframes spin {\n",
              "    0% {\n",
              "      border-color: transparent;\n",
              "      border-bottom-color: var(--fill-color);\n",
              "      border-left-color: var(--fill-color);\n",
              "    }\n",
              "    20% {\n",
              "      border-color: transparent;\n",
              "      border-left-color: var(--fill-color);\n",
              "      border-top-color: var(--fill-color);\n",
              "    }\n",
              "    30% {\n",
              "      border-color: transparent;\n",
              "      border-left-color: var(--fill-color);\n",
              "      border-top-color: var(--fill-color);\n",
              "      border-right-color: var(--fill-color);\n",
              "    }\n",
              "    40% {\n",
              "      border-color: transparent;\n",
              "      border-right-color: var(--fill-color);\n",
              "      border-top-color: var(--fill-color);\n",
              "    }\n",
              "    60% {\n",
              "      border-color: transparent;\n",
              "      border-right-color: var(--fill-color);\n",
              "    }\n",
              "    80% {\n",
              "      border-color: transparent;\n",
              "      border-right-color: var(--fill-color);\n",
              "      border-bottom-color: var(--fill-color);\n",
              "    }\n",
              "    90% {\n",
              "      border-color: transparent;\n",
              "      border-bottom-color: var(--fill-color);\n",
              "    }\n",
              "  }\n",
              "</style>\n",
              "\n",
              "  <script>\n",
              "    async function quickchart(key) {\n",
              "      const quickchartButtonEl =\n",
              "        document.querySelector('#' + key + ' button');\n",
              "      quickchartButtonEl.disabled = true;  // To prevent multiple clicks.\n",
              "      quickchartButtonEl.classList.add('colab-df-spinner');\n",
              "      try {\n",
              "        const charts = await google.colab.kernel.invokeFunction(\n",
              "            'suggestCharts', [key], {});\n",
              "      } catch (error) {\n",
              "        console.error('Error during call to suggestCharts:', error);\n",
              "      }\n",
              "      quickchartButtonEl.classList.remove('colab-df-spinner');\n",
              "      quickchartButtonEl.classList.add('colab-df-quickchart-complete');\n",
              "    }\n",
              "    (() => {\n",
              "      let quickchartButtonEl =\n",
              "        document.querySelector('#df-c46646b4-f7ad-48e9-bb90-b433cca2bae6 button');\n",
              "      quickchartButtonEl.style.display =\n",
              "        google.colab.kernel.accessAllowed ? 'block' : 'none';\n",
              "    })();\n",
              "  </script>\n",
              "</div>\n",
              "    </div>\n",
              "  </div>\n"
            ]
          },
          "metadata": {},
          "execution_count": 175
        }
      ]
    },
    {
      "cell_type": "markdown",
      "source": [
        "### 가게명 키워드 컬럼화"
      ],
      "metadata": {
        "id": "XN_oJWUWpnf6"
      }
    },
    {
      "cell_type": "code",
      "source": [
        "ygy_store_lst = [\"1988응답하라추억의옛날도시락-방이점\", \"워커스커피 로스터스\", \"떡깨비-가락점\", \"당치땡-헬리오시티점\", \"우시장국밥-석촌점\",  \"고돼지-송파점\",  \"마라의신마라탕&마라샹궈\",  \"춘리마라탕-송파점\",  \"손수경의육회담은연어-가락점\",  \"무국적식탁-송파점\",  \"청년치킨-삼전점\",  \"송파만다린\",  \"배달의쌀국수-송파점\",  \"닭강점-헬리오시티점\",  \"토핑폭탄김치찜&김치찌개-송파점\",  \"조형훈족발보쌈\",  \"여왕의브런치\",  \"모어댄버터\",  \"플러스82-송파점\",  \"더티베지\",  \"잭아저씨족발보쌈-본점\",  \"육회&연어-미아본점\",  \"갈비민족-본점\",  \"구구족-성신여대역점\",  \"피자보이시나-대학로점\",  \"왕빈자삼파전-미아본점\",  \"행복한찜닭-성북점\",  \"스시사소우\",  \"저팔계&중국&마라탕&덮밥&요리&전문점\",  \"명작파스타-성북점\",  \"올데이파스타-동대문구점\",  \"대한냉면-성북점\",  \"인생제육\",  \"고기듬뿍미트박스-성북점\",  \"피자스웨그-성북점\",  \"청춘식당묵은지김치찜\",  \"삽교원조두리곱창\",  \"뜸들이다-북서울꿈의숲점\",  \"더팔당매운오징어&닭발 김치찜\",  \"우리집반찬도시락-혜화막내딸지점\",  \"수피자\",  \"마라쿡\",  \"김포불닭발\",  \"헬로팬닭갈비&마약볶음밥\",  \"대찌 대파생고기김치찌개&정육왕국물두루치기\",  \"구래상회\",  \"승도리네곱도리탕\",  \"자성당\",  \"수락\",  \"나인곱창\",  \"어시장\",  \"돈까스회관\",  \"호랑이초밥\",  \"땡초곱창막창\",  \"피자이탈리\",  \"텐텐마라탕\",  \"과일에반하다\",  \"삼다수\",  \"병천토속순대\",  \"최고남제육명가\",  \"짱닭치킨\",  \"걸작떡볶이\",  \"직화삼겹직구삼\",  \"짜글이가돼었소\",  \"부대찌개자신있는집\",  \"토핑폭탄김치찜&김치찌개-부천점\",  \"1989마라탕-부천점\",  \"미친피자-부평점\",  \"천년닭강정-부천부평점\",  \"수상한삼겹살-부천점\",  \"수제죽전문점-본가진죽-본점\",  \"오늘은 분식\",  \"이끌림마라탕\",  \"탐나는피자-부평점\",  \"고기혁명-부천점\",  \"라화방마라탕-신중동점\",  \"전금례닭볶음탕-부천점\",  \"큰아들백순대\",  \"공주닭발-부천시청점\",  \"신자매김치찜&김치찌개\",  \"짱닭치킨-도촌점\",  \"이태리면가게-야탑점\",  \"폴트버거-판교점\",  \"랜돌프뉴욕페페로니-야탑점\",  \"홍싸롱-수제돈까스&파스타\",  \"쇼부덮밥\",  \"카산도-정자본점\",  \"부성초밥-미금본점\",  \"닭장수섭삼계탕&전기구이통닭\",  \"깨돌이김밥-미금점\",  \"울진죽변항\",  \"GTS버거-분당정자점\",  \"코브라독스-분당미금역점\",  \"마라하오-죽전점\",  \"땅끝수산\",  \"초밥대통령-용인수지점\",  \"올데이케밥&샐러드\",  \"야키토리 카마쿠라\",  \"비오키친-서현본점\",  \"부산오빠1인국밥-분당점\",  \"알촌\",  \"밈피자\",  \"고씨네카레\",  \"홍스족발\",  \"뜸들이다\",  \"감성커피\",  \"짚신스시\",  \"떡형\",  \"39도시락\",  \"피제이피자\",  \"황궁쟁반짜장\",  \"OK반점\",  \"모모타코야키&카페\",  \"꼬알라파이\",  \"진지덮밥\",  \"피자프라텔로\",  \"한식세끼1인김치찜&김치찌개\",  \"윤희횟집\",  \"시민보쌈족발&감자탕\",  \"카페봄봄\",  \"킹프레소빅와플\",  \"최가네한쌈\",  \"창타이누들\",  \"보돌미역\",  \"홍대개미\"  ]\n",
        "store_name = []\n",
        "region_name = []\n",
        "for store in ygy_store_lst:\n",
        "    pat = re.split(r'[- &]', store)\n",
        "    if len(pat) >= 2:\n",
        "        store_name.append(pat[0])\n",
        "        region_name.append(pat[1])\n",
        "    else:\n",
        "        store_name.append(pat[0])\n",
        "\n",
        "short_name = []\n",
        "for name in store_name:\n",
        "    for length in [2, 3, 4]:\n",
        "        cut = name[:length]\n",
        "        short_name.append(cut)\n",
        "    if name[0].isdigit(): # 숫자로 시작하면 텍스트가 나오는 부분까지 추출\n",
        "        cut = name[:6]\n",
        "        short_name.append(cut)\n",
        "\n",
        "short_name = [name for name in short_name if not name.isdigit()] # 숫자로만 되어 있는 키워드 삭제\n",
        "short_name = list(set(short_name))\n",
        "print(len(short_name), short_name)\n",
        "\n",
        "# short_name 에서 불용어 처리\n",
        "drop_name = ['OK','갈비','감성','걸작','고기','공주','과일','김포','대한','땡초','명작','미친','배달','병천','부대','부산','비오','삽교','손수','송파','쇼부','수상','수제','시민','오늘', '오늘은', '우리', '우시', '울진', '이끌', '이끌림', '인생', '직화', '진지', '천년', '청년', '청춘', '최고', '큰아', '큰아들', '탐나', '토핑', '행복', '행복한', '헬로', '홍대',]\n",
        "short_name = [col for col in short_name if col not in drop_name]\n",
        "print(len(short_name),short_name)\n",
        "\n",
        "train['store'] = \"\"\n",
        "for name in short_name:\n",
        "    train[name] = train['reply'].apply(lambda x: name if name in x else '') # 각 가게 별로 컬럼 추가(그렇지 않으면 덮어쓰기 됨)\n",
        "    train['store'] = train.apply(lambda row: row['store'] + ',' + row[name] if row[name] else row['store'], axis=1) # store 컬럼에 컬럼 값 합치기\n",
        "\n",
        "train['store'] = train['store'].apply(lambda x: x[1:] if x.startswith(',') else x) # 첫 번째 문자가 콤마인 경우 제거\n",
        "train['store'] = train['store'].apply(lambda x: x[1:] if x.startswith(' ') else x) # 공백이어도 제거\n",
        "train = train.drop(columns=short_name) # 각 가게 별 컬럼 삭제\n",
        "train.head()"
      ],
      "metadata": {
        "id": "xM86fK8dpnFt",
        "colab": {
          "base_uri": "https://localhost:8080/",
          "height": 350
        },
        "outputId": "5902a83c-3b8d-42c5-88d8-4f7690ef0111"
      },
      "execution_count": 12,
      "outputs": [
        {
          "output_type": "stream",
          "name": "stdout",
          "text": [
            "329 ['직화', '청년치킨', '진지덮', '대찌', '더팔당매', '송파만', '김포불', '창타이', '카페봄', '모모타코', '헬로팬닭', '초밥대', '윤희횟집', '고돼', '감성커', '우시장', '수상', '감성커피', '전금', '걸작떡', '최가네', '라화방', '부대찌', '최고', '수피자', '플러스8', '부성', '홍대개', '인생제육', '신자매', '모모타', '황궁쟁', '갈비', '시민', '왕빈자', '최고남', 'GTS', '청춘', '승도리', '부산오빠', '잭아저씨', '꼬알라', '킹프레소', '송파', '공주닭', '고기', '천년', '배달의쌀', '손수', '삼다', '명작', '대한', '39도시락', 'OK반', '큰아들백', '수제죽전', '창타이누', '더팔당', '시민보', '39도시', '텐텐마라', '병천', '무국적식', '병천토속', '땅끝', '최가네한', '갈비민족', '보돌미', '최고남제', '땅끝수', '39도', '구래상', '승도', '야키토', '킹프레', '부성초', 'GT', '텐텐', '더티', '폴트', '잭아', '저팔계', '텐텐마', '삽교', '호랑이초', '춘리마라', '청춘식당', '당치', '뜸들이다', '울진죽', '짱닭', '피자스', '올데이파', '신자매김', '깨돌이', '윤희횟', '폴트버거', '큰아들', '마라', '땅끝수산', '수락', '뜸들', '한식', '토핑', '닭강점', '비오키', '과일에반', '홍스', '과일에', '비오', '쇼부', '땡초곱', '큰아', '짱닭치', '피자보', '수상한삼', '한식세끼', '고기혁', '부산오', '직화삼겹', '짜글', '부대', '스시', '모어댄버', '고돼지', '플러스', '땡초곱창', '고씨네', '미친피자', '1989마라', '초밥', '이태', '행복한찜', '스시사', '시민보쌈', '여왕의', '황궁', '더티베지', '우리집', '피자보이', '조형훈족', '우시장국', '대한냉면', '모어', '진지덮밥', '올데이', '호랑이', '행복', '우리집반', '갈비민', '쇼부덮밥', '우리', '고기혁명', '코브라', '최가', '전금례', '저팔', '올데이케', 'OK반점', '대한냉', '육회', '플러', '걸작', '피자이탈', '카페봄봄', '창타', '진지', '마라쿡', '짜글이', '천년닭강', '이끌', '1988응답', '부대찌개', '배달의', '손수경', '짱닭치킨', '랜돌', '구구족', '짚신스시', '자성당', '라화방마', '밈피자', '천년닭', '홍스족', '감성', '워커', '마라하', '여왕의브', '공주닭발', '김포', '워커스커', '카산도', '한식세', '구래상회', '걸작떡볶', '돈까스회', '손수경의', '청년치', '삽교원', '카페', '과일', '쇼부덮', '더티베', '떡형', '피제이', '땡초', '홍스족발', '홍싸', '닭장수', '홍대', '배달', '닭강', '야키토리', '닭장', 'GTS버', '춘리마', '스시사소', '더팔', '직화삼', '미친', '오늘은', '우시', '올데', '부산', '토핑폭', '깨돌이김', '수피', '당치땡', '마라의', '초밥대통', '라화', '알촌', '이끌림', '짚신', '비오키친', '무국', '닭장수섭', '모어댄', '피자', '인생', '고씨네카', '헬로', '뜸들이', '코브', '피제이피', '밈피', '이끌림마', '폴트버', '명작파', '마라하오', '이태리', '돈까스', '삼다수', '미친피', '황궁쟁반', '무국적', '수제죽', '조형', '보돌', '여왕', '삽교원조', '홍싸롱', '떡깨', '카산', '마라의신', '고씨', '나인', '돈까', '공주', '수제', '울진죽변', '어시', '킹프', '왕빈자삼', '나인곱창', '보돌미역', '짚신스', '탐나', '청춘식', '왕빈', '청년', '짜글이가', '부성초밥', '춘리', '나인곱', '피자이', '울진', '구래', '송파만다', '병천토', '토핑폭탄', '전금례닭', '랜돌프뉴', '피제', '탐나는피', '랜돌프', '조형훈', '고기듬뿍', '수상한', '인생제', '모모', '피자스웨', '워커스', '헬로팬', '어시장', '오늘', '승도리네', '떡깨비', '이태리면', '홍대개미', '피자프라', '행복한', '명작파스', 'OK', '코브라독', '탐나는', '꼬알', '신자', '야키', '자성', '피자프', '깨돌', '꼬알라파', '고기듬', '윤희', '구구', '호랑', '잭아저', '김포불닭']\n",
            "283 ['청년치킨', '진지덮', '대찌', '더팔당매', '송파만', '김포불', '창타이', '카페봄', '모모타코', '헬로팬닭', '초밥대', '윤희횟집', '고돼', '감성커', '우시장', '감성커피', '전금', '걸작떡', '최가네', '라화방', '부대찌', '수피자', '플러스8', '부성', '홍대개', '인생제육', '신자매', '모모타', '황궁쟁', '왕빈자', '최고남', 'GTS', '승도리', '부산오빠', '잭아저씨', '꼬알라', '킹프레소', '공주닭', '배달의쌀', '삼다', '39도시락', 'OK반', '큰아들백', '수제죽전', '창타이누', '더팔당', '시민보', '39도시', '텐텐마라', '무국적식', '병천토속', '땅끝', '최가네한', '갈비민족', '보돌미', '최고남제', '땅끝수', '39도', '구래상', '승도', '야키토', '킹프레', '부성초', 'GT', '텐텐', '더티', '폴트', '잭아', '저팔계', '텐텐마', '호랑이초', '춘리마라', '청춘식당', '당치', '뜸들이다', '울진죽', '짱닭', '피자스', '올데이파', '신자매김', '깨돌이', '윤희횟', '폴트버거', '마라', '땅끝수산', '수락', '뜸들', '한식', '닭강점', '비오키', '과일에반', '홍스', '과일에', '땡초곱', '짱닭치', '피자보', '수상한삼', '한식세끼', '고기혁', '부산오', '직화삼겹', '짜글', '스시', '모어댄버', '고돼지', '플러스', '땡초곱창', '고씨네', '미친피자', '1989마라', '초밥', '이태', '행복한찜', '스시사', '시민보쌈', '여왕의', '황궁', '더티베지', '우리집', '피자보이', '조형훈족', '우시장국', '대한냉면', '모어', '진지덮밥', '올데이', '호랑이', '우리집반', '갈비민', '쇼부덮밥', '고기혁명', '코브라', '최가', '전금례', '저팔', '올데이케', 'OK반점', '대한냉', '육회', '플러', '피자이탈', '카페봄봄', '창타', '마라쿡', '짜글이', '천년닭강', '1988응답', '부대찌개', '배달의', '손수경', '짱닭치킨', '랜돌', '구구족', '짚신스시', '자성당', '라화방마', '밈피자', '천년닭', '홍스족', '워커', '마라하', '여왕의브', '공주닭발', '워커스커', '카산도', '한식세', '구래상회', '걸작떡볶', '돈까스회', '손수경의', '청년치', '삽교원', '카페', '쇼부덮', '더티베', '떡형', '피제이', '홍스족발', '홍싸', '닭장수', '닭강', '야키토리', '닭장', 'GTS버', '춘리마', '스시사소', '더팔', '직화삼', '올데', '토핑폭', '깨돌이김', '수피', '당치땡', '마라의', '초밥대통', '라화', '알촌', '짚신', '비오키친', '무국', '닭장수섭', '모어댄', '피자', '고씨네카', '뜸들이', '코브', '피제이피', '밈피', '이끌림마', '폴트버', '명작파', '마라하오', '이태리', '돈까스', '삼다수', '미친피', '황궁쟁반', '무국적', '수제죽', '조형', '보돌', '여왕', '삽교원조', '홍싸롱', '떡깨', '카산', '마라의신', '고씨', '나인', '돈까', '울진죽변', '어시', '킹프', '왕빈자삼', '나인곱창', '보돌미역', '짚신스', '청춘식', '왕빈', '짜글이가', '부성초밥', '춘리', '나인곱', '피자이', '구래', '송파만다', '병천토', '토핑폭탄', '전금례닭', '랜돌프뉴', '피제', '탐나는피', '랜돌프', '조형훈', '고기듬뿍', '수상한', '인생제', '모모', '피자스웨', '워커스', '헬로팬', '어시장', '승도리네', '떡깨비', '이태리면', '홍대개미', '피자프라', '명작파스', '코브라독', '탐나는', '꼬알', '신자', '야키', '자성', '피자프', '깨돌', '꼬알라파', '고기듬', '윤희', '구구', '호랑', '잭아저', '김포불닭']\n"
          ]
        },
        {
          "output_type": "execute_result",
          "data": {
            "text/plain": [
              "                                           review  \\\n",
              "0  사진보다 실물이 백배 맛있어요 고기 양도 많아요 배달시간도 딱 맞춰서 보내주셨어요    \n",
              "1                    리뷰가 늦었네요 맛있게 잘 먹었습니다 또 시킬게요    \n",
              "2               잘 먹었습니다 다만 주문에 있던 펩시콜라는 받지 못했습니다    \n",
              "3                              굿 말이 필요 없는 메뉴 였습니다   \n",
              "4                                     맛있어요 양도많구좋음   \n",
              "\n",
              "                                               reply  star store  \n",
              "0  이렇게 저희 매장 찾아주셔서 감사드립니다 맛 뿐만 아니라 양도 서비스도 모두 최상의...     5        \n",
              "1  좋은 리뷰 덕분에 기분이 행복해지는 것 같아요 고객님께서 맛있다고 말씀 주시니 피로...     5        \n",
              "2  소중한 식사 시간에 저희 매장을 찾아 주셔서 감사드립니다 저희를 찾아 주신 만큼 1...     5        \n",
              "3  수 많은 매장들을 헤치고 와주셔서 감사합니다 저희 매장의 메뉴를 제대로 즐기신 거 ...     5        \n",
              "4  수 많은 매장들을 헤치고 와주셔서 감사합니다 메뉴 그 자체로 행복을 드리고 싶었는데...     5        "
            ],
            "text/html": [
              "\n",
              "  <div id=\"df-7f71051a-852d-4ee7-a958-86ea9b57c4be\" class=\"colab-df-container\">\n",
              "    <div>\n",
              "<style scoped>\n",
              "    .dataframe tbody tr th:only-of-type {\n",
              "        vertical-align: middle;\n",
              "    }\n",
              "\n",
              "    .dataframe tbody tr th {\n",
              "        vertical-align: top;\n",
              "    }\n",
              "\n",
              "    .dataframe thead th {\n",
              "        text-align: right;\n",
              "    }\n",
              "</style>\n",
              "<table border=\"1\" class=\"dataframe\">\n",
              "  <thead>\n",
              "    <tr style=\"text-align: right;\">\n",
              "      <th></th>\n",
              "      <th>review</th>\n",
              "      <th>reply</th>\n",
              "      <th>star</th>\n",
              "      <th>store</th>\n",
              "    </tr>\n",
              "  </thead>\n",
              "  <tbody>\n",
              "    <tr>\n",
              "      <th>0</th>\n",
              "      <td>사진보다 실물이 백배 맛있어요 고기 양도 많아요 배달시간도 딱 맞춰서 보내주셨어요</td>\n",
              "      <td>이렇게 저희 매장 찾아주셔서 감사드립니다 맛 뿐만 아니라 양도 서비스도 모두 최상의...</td>\n",
              "      <td>5</td>\n",
              "      <td></td>\n",
              "    </tr>\n",
              "    <tr>\n",
              "      <th>1</th>\n",
              "      <td>리뷰가 늦었네요 맛있게 잘 먹었습니다 또 시킬게요</td>\n",
              "      <td>좋은 리뷰 덕분에 기분이 행복해지는 것 같아요 고객님께서 맛있다고 말씀 주시니 피로...</td>\n",
              "      <td>5</td>\n",
              "      <td></td>\n",
              "    </tr>\n",
              "    <tr>\n",
              "      <th>2</th>\n",
              "      <td>잘 먹었습니다 다만 주문에 있던 펩시콜라는 받지 못했습니다</td>\n",
              "      <td>소중한 식사 시간에 저희 매장을 찾아 주셔서 감사드립니다 저희를 찾아 주신 만큼 1...</td>\n",
              "      <td>5</td>\n",
              "      <td></td>\n",
              "    </tr>\n",
              "    <tr>\n",
              "      <th>3</th>\n",
              "      <td>굿 말이 필요 없는 메뉴 였습니다</td>\n",
              "      <td>수 많은 매장들을 헤치고 와주셔서 감사합니다 저희 매장의 메뉴를 제대로 즐기신 거 ...</td>\n",
              "      <td>5</td>\n",
              "      <td></td>\n",
              "    </tr>\n",
              "    <tr>\n",
              "      <th>4</th>\n",
              "      <td>맛있어요 양도많구좋음</td>\n",
              "      <td>수 많은 매장들을 헤치고 와주셔서 감사합니다 메뉴 그 자체로 행복을 드리고 싶었는데...</td>\n",
              "      <td>5</td>\n",
              "      <td></td>\n",
              "    </tr>\n",
              "  </tbody>\n",
              "</table>\n",
              "</div>\n",
              "    <div class=\"colab-df-buttons\">\n",
              "\n",
              "  <div class=\"colab-df-container\">\n",
              "    <button class=\"colab-df-convert\" onclick=\"convertToInteractive('df-7f71051a-852d-4ee7-a958-86ea9b57c4be')\"\n",
              "            title=\"Convert this dataframe to an interactive table.\"\n",
              "            style=\"display:none;\">\n",
              "\n",
              "  <svg xmlns=\"http://www.w3.org/2000/svg\" height=\"24px\" viewBox=\"0 -960 960 960\">\n",
              "    <path d=\"M120-120v-720h720v720H120Zm60-500h600v-160H180v160Zm220 220h160v-160H400v160Zm0 220h160v-160H400v160ZM180-400h160v-160H180v160Zm440 0h160v-160H620v160ZM180-180h160v-160H180v160Zm440 0h160v-160H620v160Z\"/>\n",
              "  </svg>\n",
              "    </button>\n",
              "\n",
              "  <style>\n",
              "    .colab-df-container {\n",
              "      display:flex;\n",
              "      gap: 12px;\n",
              "    }\n",
              "\n",
              "    .colab-df-convert {\n",
              "      background-color: #E8F0FE;\n",
              "      border: none;\n",
              "      border-radius: 50%;\n",
              "      cursor: pointer;\n",
              "      display: none;\n",
              "      fill: #1967D2;\n",
              "      height: 32px;\n",
              "      padding: 0 0 0 0;\n",
              "      width: 32px;\n",
              "    }\n",
              "\n",
              "    .colab-df-convert:hover {\n",
              "      background-color: #E2EBFA;\n",
              "      box-shadow: 0px 1px 2px rgba(60, 64, 67, 0.3), 0px 1px 3px 1px rgba(60, 64, 67, 0.15);\n",
              "      fill: #174EA6;\n",
              "    }\n",
              "\n",
              "    .colab-df-buttons div {\n",
              "      margin-bottom: 4px;\n",
              "    }\n",
              "\n",
              "    [theme=dark] .colab-df-convert {\n",
              "      background-color: #3B4455;\n",
              "      fill: #D2E3FC;\n",
              "    }\n",
              "\n",
              "    [theme=dark] .colab-df-convert:hover {\n",
              "      background-color: #434B5C;\n",
              "      box-shadow: 0px 1px 3px 1px rgba(0, 0, 0, 0.15);\n",
              "      filter: drop-shadow(0px 1px 2px rgba(0, 0, 0, 0.3));\n",
              "      fill: #FFFFFF;\n",
              "    }\n",
              "  </style>\n",
              "\n",
              "    <script>\n",
              "      const buttonEl =\n",
              "        document.querySelector('#df-7f71051a-852d-4ee7-a958-86ea9b57c4be button.colab-df-convert');\n",
              "      buttonEl.style.display =\n",
              "        google.colab.kernel.accessAllowed ? 'block' : 'none';\n",
              "\n",
              "      async function convertToInteractive(key) {\n",
              "        const element = document.querySelector('#df-7f71051a-852d-4ee7-a958-86ea9b57c4be');\n",
              "        const dataTable =\n",
              "          await google.colab.kernel.invokeFunction('convertToInteractive',\n",
              "                                                    [key], {});\n",
              "        if (!dataTable) return;\n",
              "\n",
              "        const docLinkHtml = 'Like what you see? Visit the ' +\n",
              "          '<a target=\"_blank\" href=https://colab.research.google.com/notebooks/data_table.ipynb>data table notebook</a>'\n",
              "          + ' to learn more about interactive tables.';\n",
              "        element.innerHTML = '';\n",
              "        dataTable['output_type'] = 'display_data';\n",
              "        await google.colab.output.renderOutput(dataTable, element);\n",
              "        const docLink = document.createElement('div');\n",
              "        docLink.innerHTML = docLinkHtml;\n",
              "        element.appendChild(docLink);\n",
              "      }\n",
              "    </script>\n",
              "  </div>\n",
              "\n",
              "\n",
              "<div id=\"df-ab524c52-60c4-4c31-b749-2cdb4b6ffd7c\">\n",
              "  <button class=\"colab-df-quickchart\" onclick=\"quickchart('df-ab524c52-60c4-4c31-b749-2cdb4b6ffd7c')\"\n",
              "            title=\"Suggest charts.\"\n",
              "            style=\"display:none;\">\n",
              "\n",
              "<svg xmlns=\"http://www.w3.org/2000/svg\" height=\"24px\"viewBox=\"0 0 24 24\"\n",
              "     width=\"24px\">\n",
              "    <g>\n",
              "        <path d=\"M19 3H5c-1.1 0-2 .9-2 2v14c0 1.1.9 2 2 2h14c1.1 0 2-.9 2-2V5c0-1.1-.9-2-2-2zM9 17H7v-7h2v7zm4 0h-2V7h2v10zm4 0h-2v-4h2v4z\"/>\n",
              "    </g>\n",
              "</svg>\n",
              "  </button>\n",
              "\n",
              "<style>\n",
              "  .colab-df-quickchart {\n",
              "      --bg-color: #E8F0FE;\n",
              "      --fill-color: #1967D2;\n",
              "      --hover-bg-color: #E2EBFA;\n",
              "      --hover-fill-color: #174EA6;\n",
              "      --disabled-fill-color: #AAA;\n",
              "      --disabled-bg-color: #DDD;\n",
              "  }\n",
              "\n",
              "  [theme=dark] .colab-df-quickchart {\n",
              "      --bg-color: #3B4455;\n",
              "      --fill-color: #D2E3FC;\n",
              "      --hover-bg-color: #434B5C;\n",
              "      --hover-fill-color: #FFFFFF;\n",
              "      --disabled-bg-color: #3B4455;\n",
              "      --disabled-fill-color: #666;\n",
              "  }\n",
              "\n",
              "  .colab-df-quickchart {\n",
              "    background-color: var(--bg-color);\n",
              "    border: none;\n",
              "    border-radius: 50%;\n",
              "    cursor: pointer;\n",
              "    display: none;\n",
              "    fill: var(--fill-color);\n",
              "    height: 32px;\n",
              "    padding: 0;\n",
              "    width: 32px;\n",
              "  }\n",
              "\n",
              "  .colab-df-quickchart:hover {\n",
              "    background-color: var(--hover-bg-color);\n",
              "    box-shadow: 0 1px 2px rgba(60, 64, 67, 0.3), 0 1px 3px 1px rgba(60, 64, 67, 0.15);\n",
              "    fill: var(--button-hover-fill-color);\n",
              "  }\n",
              "\n",
              "  .colab-df-quickchart-complete:disabled,\n",
              "  .colab-df-quickchart-complete:disabled:hover {\n",
              "    background-color: var(--disabled-bg-color);\n",
              "    fill: var(--disabled-fill-color);\n",
              "    box-shadow: none;\n",
              "  }\n",
              "\n",
              "  .colab-df-spinner {\n",
              "    border: 2px solid var(--fill-color);\n",
              "    border-color: transparent;\n",
              "    border-bottom-color: var(--fill-color);\n",
              "    animation:\n",
              "      spin 1s steps(1) infinite;\n",
              "  }\n",
              "\n",
              "  @keyframes spin {\n",
              "    0% {\n",
              "      border-color: transparent;\n",
              "      border-bottom-color: var(--fill-color);\n",
              "      border-left-color: var(--fill-color);\n",
              "    }\n",
              "    20% {\n",
              "      border-color: transparent;\n",
              "      border-left-color: var(--fill-color);\n",
              "      border-top-color: var(--fill-color);\n",
              "    }\n",
              "    30% {\n",
              "      border-color: transparent;\n",
              "      border-left-color: var(--fill-color);\n",
              "      border-top-color: var(--fill-color);\n",
              "      border-right-color: var(--fill-color);\n",
              "    }\n",
              "    40% {\n",
              "      border-color: transparent;\n",
              "      border-right-color: var(--fill-color);\n",
              "      border-top-color: var(--fill-color);\n",
              "    }\n",
              "    60% {\n",
              "      border-color: transparent;\n",
              "      border-right-color: var(--fill-color);\n",
              "    }\n",
              "    80% {\n",
              "      border-color: transparent;\n",
              "      border-right-color: var(--fill-color);\n",
              "      border-bottom-color: var(--fill-color);\n",
              "    }\n",
              "    90% {\n",
              "      border-color: transparent;\n",
              "      border-bottom-color: var(--fill-color);\n",
              "    }\n",
              "  }\n",
              "</style>\n",
              "\n",
              "  <script>\n",
              "    async function quickchart(key) {\n",
              "      const quickchartButtonEl =\n",
              "        document.querySelector('#' + key + ' button');\n",
              "      quickchartButtonEl.disabled = true;  // To prevent multiple clicks.\n",
              "      quickchartButtonEl.classList.add('colab-df-spinner');\n",
              "      try {\n",
              "        const charts = await google.colab.kernel.invokeFunction(\n",
              "            'suggestCharts', [key], {});\n",
              "      } catch (error) {\n",
              "        console.error('Error during call to suggestCharts:', error);\n",
              "      }\n",
              "      quickchartButtonEl.classList.remove('colab-df-spinner');\n",
              "      quickchartButtonEl.classList.add('colab-df-quickchart-complete');\n",
              "    }\n",
              "    (() => {\n",
              "      let quickchartButtonEl =\n",
              "        document.querySelector('#df-ab524c52-60c4-4c31-b749-2cdb4b6ffd7c button');\n",
              "      quickchartButtonEl.style.display =\n",
              "        google.colab.kernel.accessAllowed ? 'block' : 'none';\n",
              "    })();\n",
              "  </script>\n",
              "</div>\n",
              "    </div>\n",
              "  </div>\n"
            ]
          },
          "metadata": {},
          "execution_count": 12
        }
      ]
    },
    {
      "cell_type": "markdown",
      "source": [
        "### 가게명 키워드 reply에서 삭제"
      ],
      "metadata": {
        "id": "PaGc_YUhTYYn"
      }
    },
    {
      "cell_type": "code",
      "source": [
        "# 가게명이 있는 idx 번호 확인\n",
        "remove_name_idx = []\n",
        "for name in short_name:\n",
        "    idxs = train[train['reply'].str.contains(name)].index\n",
        "    for idx in idxs:\n",
        "        remove_name_idx.append(idx)\n",
        "remove_name_idx = [sorted(set(remove_name_idx))][0]\n",
        "len(remove_name_idx)"
      ],
      "metadata": {
        "colab": {
          "base_uri": "https://localhost:8080/"
        },
        "id": "4Q8-9TPMJ52f",
        "outputId": "1dae5dc5-392b-4999-bf30-f61ef313c351"
      },
      "execution_count": 13,
      "outputs": [
        {
          "output_type": "execute_result",
          "data": {
            "text/plain": [
              "9731"
            ]
          },
          "metadata": {},
          "execution_count": 13
        }
      ]
    },
    {
      "cell_type": "code",
      "source": [
        "# reply에 가게명이 있는 행만 별도 추출\n",
        "train_remove = train.loc[remove_name_idx]\n",
        "train_remove"
      ],
      "metadata": {
        "colab": {
          "base_uri": "https://localhost:8080/",
          "height": 597
        },
        "id": "T25Ga15hJ5zX",
        "outputId": "3d2e0cee-e4ff-4977-a9b4-2c8f183fd234"
      },
      "execution_count": 14,
      "outputs": [
        {
          "output_type": "execute_result",
          "data": {
            "text/plain": [
              "                                                  review  \\\n",
              "16     저저번달에 맛있게 먹어서 또 시켰는데 고기 양이 엄청 줄었네요 된장찌개도 엄청 짜고...   \n",
              "23     20분 이내 배달 알림 주시고는 한시간이 지나서야 받았습니다 배달이 늦는 점에 대한...   \n",
              "29     양도 많고 진짜 맛있어요 시원한 묵사발로 더위도 가라앉히고 밥이랑 고기 양도 많아서...   \n",
              "43     맛이나 양은 무난해요 그런데 배달예정시간이 무색하게 늦게도착 차라리 배달 예정시간을...   \n",
              "47     메인은 좋았는데 아 반찬이 다 쉬어 모두 버렸어요 한번 씹는데 촉감 맛이 이상해요 ...   \n",
              "...                                                  ...   \n",
              "19388  저녁이라 그런가 봐 좀 덜 미끌미끌한 회를 맛볼 수 있었만 저녁이라 그런지 몰라도 ...   \n",
              "19389  이 씨 부부의 경우 임신 8개월째로 배 속 아기가 근심되어 허리를 약간 굽히고 한 ...   \n",
              "19390                   매운탕은 잘먹었고 회는 별로 안싱싱해서 매운탕은 못먹었어요   \n",
              "19391                맛있게 잘 먹었습니다 감사합니다 맛있는 음식 많이 만들어 주세요   \n",
              "19392                         아주 맛있게 잘 먹었고 음식도 아주 정갈하네요    \n",
              "\n",
              "                                                   reply  star        store  \n",
              "16     저희 1988응답하라추억의옛날도시락의 메뉴를 주문해 주셔서 감사합니다 양이 줄었다고...     4       1988응답  \n",
              "23     안녕하세요 1988응답하라추억의옛날도시락 입니다 남겨 주신 리뷰 잘 읽어보았습니다 ...     2       1988응답  \n",
              "29     저희 매장을 선택해주시고 리뷰 남겨주셔서 감사합니다 메뉴를 드시다가 양이 모자라면 ...     5       플러스,플러  \n",
              "43     1988응답하라추억의옛날도시락을 선택해 주셔서 감사합니다 저희 매장에서는 배달로 드...     3       1988응답  \n",
              "47     안녕하세요 1988응답하라추억의옛날도시락 입니다 우선 감사하게도 저희 매장을 찾아 ...     3       1988응답  \n",
              "...                                                  ...   ...          ...  \n",
              "19388  저희 윤희횟집을 방문해 주셔서 감사합니다 회가 조금 좋지 못했지만 앞으로는 더 좋은...     4  윤희횟집,윤희횟,윤희  \n",
              "19389  저희 윤희횟집을 방문해 주신 여러분께 감사드립니다 앞으로도 더욱 좋은 서비스와 최선...     4  윤희횟집,윤희횟,윤희  \n",
              "19390  저희 윤희횟집을 방문해 주신 여러분께 감사의 말씀을 전하며 더 좋은 요리와 서비스로...     4  윤희횟집,윤희횟,윤희  \n",
              "19391  저희 윤희횟집을 방문해 주신 여러분께 감사드립니다 별 하나가 빠져서 아쉽기는하지만 ...     4  윤희횟집,윤희횟,윤희  \n",
              "19392  저희 윤희횟집을 방문해 주신 여러분께 감사의 뜻을 전하고 싶고 앞으로도 고객만족을 ...     4  윤희횟집,윤희횟,윤희  \n",
              "\n",
              "[9731 rows x 4 columns]"
            ],
            "text/html": [
              "\n",
              "  <div id=\"df-7e638b41-3ce0-4ae8-a104-4a8302494e15\" class=\"colab-df-container\">\n",
              "    <div>\n",
              "<style scoped>\n",
              "    .dataframe tbody tr th:only-of-type {\n",
              "        vertical-align: middle;\n",
              "    }\n",
              "\n",
              "    .dataframe tbody tr th {\n",
              "        vertical-align: top;\n",
              "    }\n",
              "\n",
              "    .dataframe thead th {\n",
              "        text-align: right;\n",
              "    }\n",
              "</style>\n",
              "<table border=\"1\" class=\"dataframe\">\n",
              "  <thead>\n",
              "    <tr style=\"text-align: right;\">\n",
              "      <th></th>\n",
              "      <th>review</th>\n",
              "      <th>reply</th>\n",
              "      <th>star</th>\n",
              "      <th>store</th>\n",
              "    </tr>\n",
              "  </thead>\n",
              "  <tbody>\n",
              "    <tr>\n",
              "      <th>16</th>\n",
              "      <td>저저번달에 맛있게 먹어서 또 시켰는데 고기 양이 엄청 줄었네요 된장찌개도 엄청 짜고...</td>\n",
              "      <td>저희 1988응답하라추억의옛날도시락의 메뉴를 주문해 주셔서 감사합니다 양이 줄었다고...</td>\n",
              "      <td>4</td>\n",
              "      <td>1988응답</td>\n",
              "    </tr>\n",
              "    <tr>\n",
              "      <th>23</th>\n",
              "      <td>20분 이내 배달 알림 주시고는 한시간이 지나서야 받았습니다 배달이 늦는 점에 대한...</td>\n",
              "      <td>안녕하세요 1988응답하라추억의옛날도시락 입니다 남겨 주신 리뷰 잘 읽어보았습니다 ...</td>\n",
              "      <td>2</td>\n",
              "      <td>1988응답</td>\n",
              "    </tr>\n",
              "    <tr>\n",
              "      <th>29</th>\n",
              "      <td>양도 많고 진짜 맛있어요 시원한 묵사발로 더위도 가라앉히고 밥이랑 고기 양도 많아서...</td>\n",
              "      <td>저희 매장을 선택해주시고 리뷰 남겨주셔서 감사합니다 메뉴를 드시다가 양이 모자라면 ...</td>\n",
              "      <td>5</td>\n",
              "      <td>플러스,플러</td>\n",
              "    </tr>\n",
              "    <tr>\n",
              "      <th>43</th>\n",
              "      <td>맛이나 양은 무난해요 그런데 배달예정시간이 무색하게 늦게도착 차라리 배달 예정시간을...</td>\n",
              "      <td>1988응답하라추억의옛날도시락을 선택해 주셔서 감사합니다 저희 매장에서는 배달로 드...</td>\n",
              "      <td>3</td>\n",
              "      <td>1988응답</td>\n",
              "    </tr>\n",
              "    <tr>\n",
              "      <th>47</th>\n",
              "      <td>메인은 좋았는데 아 반찬이 다 쉬어 모두 버렸어요 한번 씹는데 촉감 맛이 이상해요 ...</td>\n",
              "      <td>안녕하세요 1988응답하라추억의옛날도시락 입니다 우선 감사하게도 저희 매장을 찾아 ...</td>\n",
              "      <td>3</td>\n",
              "      <td>1988응답</td>\n",
              "    </tr>\n",
              "    <tr>\n",
              "      <th>...</th>\n",
              "      <td>...</td>\n",
              "      <td>...</td>\n",
              "      <td>...</td>\n",
              "      <td>...</td>\n",
              "    </tr>\n",
              "    <tr>\n",
              "      <th>19388</th>\n",
              "      <td>저녁이라 그런가 봐 좀 덜 미끌미끌한 회를 맛볼 수 있었만 저녁이라 그런지 몰라도 ...</td>\n",
              "      <td>저희 윤희횟집을 방문해 주셔서 감사합니다 회가 조금 좋지 못했지만 앞으로는 더 좋은...</td>\n",
              "      <td>4</td>\n",
              "      <td>윤희횟집,윤희횟,윤희</td>\n",
              "    </tr>\n",
              "    <tr>\n",
              "      <th>19389</th>\n",
              "      <td>이 씨 부부의 경우 임신 8개월째로 배 속 아기가 근심되어 허리를 약간 굽히고 한 ...</td>\n",
              "      <td>저희 윤희횟집을 방문해 주신 여러분께 감사드립니다 앞으로도 더욱 좋은 서비스와 최선...</td>\n",
              "      <td>4</td>\n",
              "      <td>윤희횟집,윤희횟,윤희</td>\n",
              "    </tr>\n",
              "    <tr>\n",
              "      <th>19390</th>\n",
              "      <td>매운탕은 잘먹었고 회는 별로 안싱싱해서 매운탕은 못먹었어요</td>\n",
              "      <td>저희 윤희횟집을 방문해 주신 여러분께 감사의 말씀을 전하며 더 좋은 요리와 서비스로...</td>\n",
              "      <td>4</td>\n",
              "      <td>윤희횟집,윤희횟,윤희</td>\n",
              "    </tr>\n",
              "    <tr>\n",
              "      <th>19391</th>\n",
              "      <td>맛있게 잘 먹었습니다 감사합니다 맛있는 음식 많이 만들어 주세요</td>\n",
              "      <td>저희 윤희횟집을 방문해 주신 여러분께 감사드립니다 별 하나가 빠져서 아쉽기는하지만 ...</td>\n",
              "      <td>4</td>\n",
              "      <td>윤희횟집,윤희횟,윤희</td>\n",
              "    </tr>\n",
              "    <tr>\n",
              "      <th>19392</th>\n",
              "      <td>아주 맛있게 잘 먹었고 음식도 아주 정갈하네요</td>\n",
              "      <td>저희 윤희횟집을 방문해 주신 여러분께 감사의 뜻을 전하고 싶고 앞으로도 고객만족을 ...</td>\n",
              "      <td>4</td>\n",
              "      <td>윤희횟집,윤희횟,윤희</td>\n",
              "    </tr>\n",
              "  </tbody>\n",
              "</table>\n",
              "<p>9731 rows × 4 columns</p>\n",
              "</div>\n",
              "    <div class=\"colab-df-buttons\">\n",
              "\n",
              "  <div class=\"colab-df-container\">\n",
              "    <button class=\"colab-df-convert\" onclick=\"convertToInteractive('df-7e638b41-3ce0-4ae8-a104-4a8302494e15')\"\n",
              "            title=\"Convert this dataframe to an interactive table.\"\n",
              "            style=\"display:none;\">\n",
              "\n",
              "  <svg xmlns=\"http://www.w3.org/2000/svg\" height=\"24px\" viewBox=\"0 -960 960 960\">\n",
              "    <path d=\"M120-120v-720h720v720H120Zm60-500h600v-160H180v160Zm220 220h160v-160H400v160Zm0 220h160v-160H400v160ZM180-400h160v-160H180v160Zm440 0h160v-160H620v160ZM180-180h160v-160H180v160Zm440 0h160v-160H620v160Z\"/>\n",
              "  </svg>\n",
              "    </button>\n",
              "\n",
              "  <style>\n",
              "    .colab-df-container {\n",
              "      display:flex;\n",
              "      gap: 12px;\n",
              "    }\n",
              "\n",
              "    .colab-df-convert {\n",
              "      background-color: #E8F0FE;\n",
              "      border: none;\n",
              "      border-radius: 50%;\n",
              "      cursor: pointer;\n",
              "      display: none;\n",
              "      fill: #1967D2;\n",
              "      height: 32px;\n",
              "      padding: 0 0 0 0;\n",
              "      width: 32px;\n",
              "    }\n",
              "\n",
              "    .colab-df-convert:hover {\n",
              "      background-color: #E2EBFA;\n",
              "      box-shadow: 0px 1px 2px rgba(60, 64, 67, 0.3), 0px 1px 3px 1px rgba(60, 64, 67, 0.15);\n",
              "      fill: #174EA6;\n",
              "    }\n",
              "\n",
              "    .colab-df-buttons div {\n",
              "      margin-bottom: 4px;\n",
              "    }\n",
              "\n",
              "    [theme=dark] .colab-df-convert {\n",
              "      background-color: #3B4455;\n",
              "      fill: #D2E3FC;\n",
              "    }\n",
              "\n",
              "    [theme=dark] .colab-df-convert:hover {\n",
              "      background-color: #434B5C;\n",
              "      box-shadow: 0px 1px 3px 1px rgba(0, 0, 0, 0.15);\n",
              "      filter: drop-shadow(0px 1px 2px rgba(0, 0, 0, 0.3));\n",
              "      fill: #FFFFFF;\n",
              "    }\n",
              "  </style>\n",
              "\n",
              "    <script>\n",
              "      const buttonEl =\n",
              "        document.querySelector('#df-7e638b41-3ce0-4ae8-a104-4a8302494e15 button.colab-df-convert');\n",
              "      buttonEl.style.display =\n",
              "        google.colab.kernel.accessAllowed ? 'block' : 'none';\n",
              "\n",
              "      async function convertToInteractive(key) {\n",
              "        const element = document.querySelector('#df-7e638b41-3ce0-4ae8-a104-4a8302494e15');\n",
              "        const dataTable =\n",
              "          await google.colab.kernel.invokeFunction('convertToInteractive',\n",
              "                                                    [key], {});\n",
              "        if (!dataTable) return;\n",
              "\n",
              "        const docLinkHtml = 'Like what you see? Visit the ' +\n",
              "          '<a target=\"_blank\" href=https://colab.research.google.com/notebooks/data_table.ipynb>data table notebook</a>'\n",
              "          + ' to learn more about interactive tables.';\n",
              "        element.innerHTML = '';\n",
              "        dataTable['output_type'] = 'display_data';\n",
              "        await google.colab.output.renderOutput(dataTable, element);\n",
              "        const docLink = document.createElement('div');\n",
              "        docLink.innerHTML = docLinkHtml;\n",
              "        element.appendChild(docLink);\n",
              "      }\n",
              "    </script>\n",
              "  </div>\n",
              "\n",
              "\n",
              "<div id=\"df-90eee97e-304f-496c-9849-0b6e1e175291\">\n",
              "  <button class=\"colab-df-quickchart\" onclick=\"quickchart('df-90eee97e-304f-496c-9849-0b6e1e175291')\"\n",
              "            title=\"Suggest charts.\"\n",
              "            style=\"display:none;\">\n",
              "\n",
              "<svg xmlns=\"http://www.w3.org/2000/svg\" height=\"24px\"viewBox=\"0 0 24 24\"\n",
              "     width=\"24px\">\n",
              "    <g>\n",
              "        <path d=\"M19 3H5c-1.1 0-2 .9-2 2v14c0 1.1.9 2 2 2h14c1.1 0 2-.9 2-2V5c0-1.1-.9-2-2-2zM9 17H7v-7h2v7zm4 0h-2V7h2v10zm4 0h-2v-4h2v4z\"/>\n",
              "    </g>\n",
              "</svg>\n",
              "  </button>\n",
              "\n",
              "<style>\n",
              "  .colab-df-quickchart {\n",
              "      --bg-color: #E8F0FE;\n",
              "      --fill-color: #1967D2;\n",
              "      --hover-bg-color: #E2EBFA;\n",
              "      --hover-fill-color: #174EA6;\n",
              "      --disabled-fill-color: #AAA;\n",
              "      --disabled-bg-color: #DDD;\n",
              "  }\n",
              "\n",
              "  [theme=dark] .colab-df-quickchart {\n",
              "      --bg-color: #3B4455;\n",
              "      --fill-color: #D2E3FC;\n",
              "      --hover-bg-color: #434B5C;\n",
              "      --hover-fill-color: #FFFFFF;\n",
              "      --disabled-bg-color: #3B4455;\n",
              "      --disabled-fill-color: #666;\n",
              "  }\n",
              "\n",
              "  .colab-df-quickchart {\n",
              "    background-color: var(--bg-color);\n",
              "    border: none;\n",
              "    border-radius: 50%;\n",
              "    cursor: pointer;\n",
              "    display: none;\n",
              "    fill: var(--fill-color);\n",
              "    height: 32px;\n",
              "    padding: 0;\n",
              "    width: 32px;\n",
              "  }\n",
              "\n",
              "  .colab-df-quickchart:hover {\n",
              "    background-color: var(--hover-bg-color);\n",
              "    box-shadow: 0 1px 2px rgba(60, 64, 67, 0.3), 0 1px 3px 1px rgba(60, 64, 67, 0.15);\n",
              "    fill: var(--button-hover-fill-color);\n",
              "  }\n",
              "\n",
              "  .colab-df-quickchart-complete:disabled,\n",
              "  .colab-df-quickchart-complete:disabled:hover {\n",
              "    background-color: var(--disabled-bg-color);\n",
              "    fill: var(--disabled-fill-color);\n",
              "    box-shadow: none;\n",
              "  }\n",
              "\n",
              "  .colab-df-spinner {\n",
              "    border: 2px solid var(--fill-color);\n",
              "    border-color: transparent;\n",
              "    border-bottom-color: var(--fill-color);\n",
              "    animation:\n",
              "      spin 1s steps(1) infinite;\n",
              "  }\n",
              "\n",
              "  @keyframes spin {\n",
              "    0% {\n",
              "      border-color: transparent;\n",
              "      border-bottom-color: var(--fill-color);\n",
              "      border-left-color: var(--fill-color);\n",
              "    }\n",
              "    20% {\n",
              "      border-color: transparent;\n",
              "      border-left-color: var(--fill-color);\n",
              "      border-top-color: var(--fill-color);\n",
              "    }\n",
              "    30% {\n",
              "      border-color: transparent;\n",
              "      border-left-color: var(--fill-color);\n",
              "      border-top-color: var(--fill-color);\n",
              "      border-right-color: var(--fill-color);\n",
              "    }\n",
              "    40% {\n",
              "      border-color: transparent;\n",
              "      border-right-color: var(--fill-color);\n",
              "      border-top-color: var(--fill-color);\n",
              "    }\n",
              "    60% {\n",
              "      border-color: transparent;\n",
              "      border-right-color: var(--fill-color);\n",
              "    }\n",
              "    80% {\n",
              "      border-color: transparent;\n",
              "      border-right-color: var(--fill-color);\n",
              "      border-bottom-color: var(--fill-color);\n",
              "    }\n",
              "    90% {\n",
              "      border-color: transparent;\n",
              "      border-bottom-color: var(--fill-color);\n",
              "    }\n",
              "  }\n",
              "</style>\n",
              "\n",
              "  <script>\n",
              "    async function quickchart(key) {\n",
              "      const quickchartButtonEl =\n",
              "        document.querySelector('#' + key + ' button');\n",
              "      quickchartButtonEl.disabled = true;  // To prevent multiple clicks.\n",
              "      quickchartButtonEl.classList.add('colab-df-spinner');\n",
              "      try {\n",
              "        const charts = await google.colab.kernel.invokeFunction(\n",
              "            'suggestCharts', [key], {});\n",
              "      } catch (error) {\n",
              "        console.error('Error during call to suggestCharts:', error);\n",
              "      }\n",
              "      quickchartButtonEl.classList.remove('colab-df-spinner');\n",
              "      quickchartButtonEl.classList.add('colab-df-quickchart-complete');\n",
              "    }\n",
              "    (() => {\n",
              "      let quickchartButtonEl =\n",
              "        document.querySelector('#df-90eee97e-304f-496c-9849-0b6e1e175291 button');\n",
              "      quickchartButtonEl.style.display =\n",
              "        google.colab.kernel.accessAllowed ? 'block' : 'none';\n",
              "    })();\n",
              "  </script>\n",
              "</div>\n",
              "    </div>\n",
              "  </div>\n"
            ]
          },
          "metadata": {},
          "execution_count": 14
        }
      ]
    },
    {
      "cell_type": "code",
      "source": [
        "# store 를 리스트로 변환(반복문을 위해)\n",
        "train_remove['store'] = train_remove['store'].str.split(',')\n",
        "train_remove['store']"
      ],
      "metadata": {
        "colab": {
          "base_uri": "https://localhost:8080/"
        },
        "id": "cOjs-JfUJ5wv",
        "outputId": "00462881-e55a-47e1-af17-2e4e4a9b31ab"
      },
      "execution_count": 15,
      "outputs": [
        {
          "output_type": "execute_result",
          "data": {
            "text/plain": [
              "16              [1988응답]\n",
              "23              [1988응답]\n",
              "29             [플러스, 플러]\n",
              "43              [1988응답]\n",
              "47              [1988응답]\n",
              "              ...       \n",
              "19388    [윤희횟집, 윤희횟, 윤희]\n",
              "19389    [윤희횟집, 윤희횟, 윤희]\n",
              "19390    [윤희횟집, 윤희횟, 윤희]\n",
              "19391    [윤희횟집, 윤희횟, 윤희]\n",
              "19392    [윤희횟집, 윤희횟, 윤희]\n",
              "Name: store, Length: 9731, dtype: object"
            ]
          },
          "metadata": {},
          "execution_count": 15
        }
      ]
    },
    {
      "cell_type": "code",
      "source": [
        "removed_reply = []\n",
        "for reply, store_words in zip(train_remove['reply'], train_remove['store']):\n",
        "    reply_words = reply.split()\n",
        "    new_reply_words = []\n",
        "    for reply_word in reply_words:\n",
        "        if not any(store_word in reply_word for store_word in store_words): # store_words에 있는 단어가 어떤 단어에도 포함되지 않으면 추가\n",
        "            new_reply_words.append(reply_word)\n",
        "\n",
        "    new_reply = ' '.join(new_reply_words)\n",
        "    removed_reply.append(new_reply)\n",
        "\n",
        "train_remove['reply'] = removed_reply\n",
        "train_remove['reply'][19392]"
      ],
      "metadata": {
        "colab": {
          "base_uri": "https://localhost:8080/",
          "height": 35
        },
        "id": "bxKLEmBDO9F4",
        "outputId": "a8b67a5f-849e-4ef7-fb9c-dc0f8f201e25"
      },
      "execution_count": 16,
      "outputs": [
        {
          "output_type": "execute_result",
          "data": {
            "text/plain": [
              "'저희 방문해 주신 여러분께 감사의 뜻을 전하고 싶고 앞으로도 고객만족을 위해 더욱 노력하겠습니다'"
            ],
            "application/vnd.google.colaboratory.intrinsic+json": {
              "type": "string"
            }
          },
          "metadata": {},
          "execution_count": 16
        }
      ]
    },
    {
      "cell_type": "code",
      "source": [
        "# train 셋에 반영\n",
        "train.loc[train.index.isin(train_remove.index), 'reply'] = train_remove['reply']\n",
        "train.iloc[19392]"
      ],
      "metadata": {
        "colab": {
          "base_uri": "https://localhost:8080/"
        },
        "id": "m5GjWTZePx9e",
        "outputId": "2885137f-a767-4abb-b891-cae34efba79e"
      },
      "execution_count": 17,
      "outputs": [
        {
          "output_type": "execute_result",
          "data": {
            "text/plain": [
              "review                           아주 맛있게 잘 먹었고 음식도 아주 정갈하네요 \n",
              "reply     저희 방문해 주신 여러분께 감사의 뜻을 전하고 싶고 앞으로도 고객만족을 위해 더욱 ...\n",
              "star                                                      4\n",
              "store                                           윤희횟집,윤희횟,윤희\n",
              "Name: 19392, dtype: object"
            ]
          },
          "metadata": {},
          "execution_count": 17
        }
      ]
    },
    {
      "cell_type": "code",
      "source": [
        "train"
      ],
      "metadata": {
        "colab": {
          "base_uri": "https://localhost:8080/",
          "height": 597
        },
        "id": "NdRfzgo8OmRL",
        "outputId": "e6c84caf-206a-470f-b2cd-01ade3d79e02"
      },
      "execution_count": 18,
      "outputs": [
        {
          "output_type": "execute_result",
          "data": {
            "text/plain": [
              "                                                  review  \\\n",
              "0         사진보다 실물이 백배 맛있어요 고기 양도 많아요 배달시간도 딱 맞춰서 보내주셨어요    \n",
              "1                           리뷰가 늦었네요 맛있게 잘 먹었습니다 또 시킬게요    \n",
              "2                      잘 먹었습니다 다만 주문에 있던 펩시콜라는 받지 못했습니다    \n",
              "3                                     굿 말이 필요 없는 메뉴 였습니다   \n",
              "4                                            맛있어요 양도많구좋음   \n",
              "...                                                  ...   \n",
              "19407                                       맛있게 잘 먹었습니다    \n",
              "19408  시원한 국물이 더 많았으면 국물 맛은 더 시원했을 것 같아요 시원한 국을 시원하게 ...   \n",
              "19409  맛있어요 포장도 꼼꼼하고 무엇보다 반찬이 짜지 않고 맛있어요 구성이 여러 가지라 더...   \n",
              "19410                    양이 진짜 많아요 진짜 많이 많이 덕분에 맛있게 먹었어요   \n",
              "19411  항상 잘 들어주시고 잘 챙겨주셨는데 오늘은 못 드려서 아쉬웠어요 그래도 맛있게 잘 ...   \n",
              "\n",
              "                                                   reply  star store  \n",
              "0      이렇게 저희 매장 찾아주셔서 감사드립니다 맛 뿐만 아니라 양도 서비스도 모두 최상의...     5        \n",
              "1      좋은 리뷰 덕분에 기분이 행복해지는 것 같아요 고객님께서 맛있다고 말씀 주시니 피로...     5        \n",
              "2      소중한 식사 시간에 저희 매장을 찾아 주셔서 감사드립니다 저희를 찾아 주신 만큼 1...     5        \n",
              "3      수 많은 매장들을 헤치고 와주셔서 감사합니다 저희 매장의 메뉴를 제대로 즐기신 거 ...     5        \n",
              "4      수 많은 매장들을 헤치고 와주셔서 감사합니다 메뉴 그 자체로 행복을 드리고 싶었는데...     5        \n",
              "...                                                  ...   ...   ...  \n",
              "19407  더 노력하는 보둘미역이 되도록 최선을 다해 보겠습니다 맛있는 음식 만들어 주셔서 감...     4        \n",
              "19408  배달용기에 국물을 더 부우시면 국물이 흘러 내리기 때문에 혹시라도 모자라면 댁에서 ...     4        \n",
              "19409  보통은 1인분에 2인분 정도 먹는 것으로 알고 있는데 많은 분들이 그렇게 적게 주셨...     4        \n",
              "19410       맛있게 잘 먹었고 별 다섯 개 드리도록 하겠습니다 맛있게 먹어 주셔서 감사합니다     4        \n",
              "19411              죄송해요 여러분 다음에도 또 이용할게요 너무 늦어서 정말 죄송합니다     4        \n",
              "\n",
              "[19412 rows x 4 columns]"
            ],
            "text/html": [
              "\n",
              "  <div id=\"df-a9b71a1a-2f1a-440b-b1b3-01dc8232df7f\" class=\"colab-df-container\">\n",
              "    <div>\n",
              "<style scoped>\n",
              "    .dataframe tbody tr th:only-of-type {\n",
              "        vertical-align: middle;\n",
              "    }\n",
              "\n",
              "    .dataframe tbody tr th {\n",
              "        vertical-align: top;\n",
              "    }\n",
              "\n",
              "    .dataframe thead th {\n",
              "        text-align: right;\n",
              "    }\n",
              "</style>\n",
              "<table border=\"1\" class=\"dataframe\">\n",
              "  <thead>\n",
              "    <tr style=\"text-align: right;\">\n",
              "      <th></th>\n",
              "      <th>review</th>\n",
              "      <th>reply</th>\n",
              "      <th>star</th>\n",
              "      <th>store</th>\n",
              "    </tr>\n",
              "  </thead>\n",
              "  <tbody>\n",
              "    <tr>\n",
              "      <th>0</th>\n",
              "      <td>사진보다 실물이 백배 맛있어요 고기 양도 많아요 배달시간도 딱 맞춰서 보내주셨어요</td>\n",
              "      <td>이렇게 저희 매장 찾아주셔서 감사드립니다 맛 뿐만 아니라 양도 서비스도 모두 최상의...</td>\n",
              "      <td>5</td>\n",
              "      <td></td>\n",
              "    </tr>\n",
              "    <tr>\n",
              "      <th>1</th>\n",
              "      <td>리뷰가 늦었네요 맛있게 잘 먹었습니다 또 시킬게요</td>\n",
              "      <td>좋은 리뷰 덕분에 기분이 행복해지는 것 같아요 고객님께서 맛있다고 말씀 주시니 피로...</td>\n",
              "      <td>5</td>\n",
              "      <td></td>\n",
              "    </tr>\n",
              "    <tr>\n",
              "      <th>2</th>\n",
              "      <td>잘 먹었습니다 다만 주문에 있던 펩시콜라는 받지 못했습니다</td>\n",
              "      <td>소중한 식사 시간에 저희 매장을 찾아 주셔서 감사드립니다 저희를 찾아 주신 만큼 1...</td>\n",
              "      <td>5</td>\n",
              "      <td></td>\n",
              "    </tr>\n",
              "    <tr>\n",
              "      <th>3</th>\n",
              "      <td>굿 말이 필요 없는 메뉴 였습니다</td>\n",
              "      <td>수 많은 매장들을 헤치고 와주셔서 감사합니다 저희 매장의 메뉴를 제대로 즐기신 거 ...</td>\n",
              "      <td>5</td>\n",
              "      <td></td>\n",
              "    </tr>\n",
              "    <tr>\n",
              "      <th>4</th>\n",
              "      <td>맛있어요 양도많구좋음</td>\n",
              "      <td>수 많은 매장들을 헤치고 와주셔서 감사합니다 메뉴 그 자체로 행복을 드리고 싶었는데...</td>\n",
              "      <td>5</td>\n",
              "      <td></td>\n",
              "    </tr>\n",
              "    <tr>\n",
              "      <th>...</th>\n",
              "      <td>...</td>\n",
              "      <td>...</td>\n",
              "      <td>...</td>\n",
              "      <td>...</td>\n",
              "    </tr>\n",
              "    <tr>\n",
              "      <th>19407</th>\n",
              "      <td>맛있게 잘 먹었습니다</td>\n",
              "      <td>더 노력하는 보둘미역이 되도록 최선을 다해 보겠습니다 맛있는 음식 만들어 주셔서 감...</td>\n",
              "      <td>4</td>\n",
              "      <td></td>\n",
              "    </tr>\n",
              "    <tr>\n",
              "      <th>19408</th>\n",
              "      <td>시원한 국물이 더 많았으면 국물 맛은 더 시원했을 것 같아요 시원한 국을 시원하게 ...</td>\n",
              "      <td>배달용기에 국물을 더 부우시면 국물이 흘러 내리기 때문에 혹시라도 모자라면 댁에서 ...</td>\n",
              "      <td>4</td>\n",
              "      <td></td>\n",
              "    </tr>\n",
              "    <tr>\n",
              "      <th>19409</th>\n",
              "      <td>맛있어요 포장도 꼼꼼하고 무엇보다 반찬이 짜지 않고 맛있어요 구성이 여러 가지라 더...</td>\n",
              "      <td>보통은 1인분에 2인분 정도 먹는 것으로 알고 있는데 많은 분들이 그렇게 적게 주셨...</td>\n",
              "      <td>4</td>\n",
              "      <td></td>\n",
              "    </tr>\n",
              "    <tr>\n",
              "      <th>19410</th>\n",
              "      <td>양이 진짜 많아요 진짜 많이 많이 덕분에 맛있게 먹었어요</td>\n",
              "      <td>맛있게 잘 먹었고 별 다섯 개 드리도록 하겠습니다 맛있게 먹어 주셔서 감사합니다</td>\n",
              "      <td>4</td>\n",
              "      <td></td>\n",
              "    </tr>\n",
              "    <tr>\n",
              "      <th>19411</th>\n",
              "      <td>항상 잘 들어주시고 잘 챙겨주셨는데 오늘은 못 드려서 아쉬웠어요 그래도 맛있게 잘 ...</td>\n",
              "      <td>죄송해요 여러분 다음에도 또 이용할게요 너무 늦어서 정말 죄송합니다</td>\n",
              "      <td>4</td>\n",
              "      <td></td>\n",
              "    </tr>\n",
              "  </tbody>\n",
              "</table>\n",
              "<p>19412 rows × 4 columns</p>\n",
              "</div>\n",
              "    <div class=\"colab-df-buttons\">\n",
              "\n",
              "  <div class=\"colab-df-container\">\n",
              "    <button class=\"colab-df-convert\" onclick=\"convertToInteractive('df-a9b71a1a-2f1a-440b-b1b3-01dc8232df7f')\"\n",
              "            title=\"Convert this dataframe to an interactive table.\"\n",
              "            style=\"display:none;\">\n",
              "\n",
              "  <svg xmlns=\"http://www.w3.org/2000/svg\" height=\"24px\" viewBox=\"0 -960 960 960\">\n",
              "    <path d=\"M120-120v-720h720v720H120Zm60-500h600v-160H180v160Zm220 220h160v-160H400v160Zm0 220h160v-160H400v160ZM180-400h160v-160H180v160Zm440 0h160v-160H620v160ZM180-180h160v-160H180v160Zm440 0h160v-160H620v160Z\"/>\n",
              "  </svg>\n",
              "    </button>\n",
              "\n",
              "  <style>\n",
              "    .colab-df-container {\n",
              "      display:flex;\n",
              "      gap: 12px;\n",
              "    }\n",
              "\n",
              "    .colab-df-convert {\n",
              "      background-color: #E8F0FE;\n",
              "      border: none;\n",
              "      border-radius: 50%;\n",
              "      cursor: pointer;\n",
              "      display: none;\n",
              "      fill: #1967D2;\n",
              "      height: 32px;\n",
              "      padding: 0 0 0 0;\n",
              "      width: 32px;\n",
              "    }\n",
              "\n",
              "    .colab-df-convert:hover {\n",
              "      background-color: #E2EBFA;\n",
              "      box-shadow: 0px 1px 2px rgba(60, 64, 67, 0.3), 0px 1px 3px 1px rgba(60, 64, 67, 0.15);\n",
              "      fill: #174EA6;\n",
              "    }\n",
              "\n",
              "    .colab-df-buttons div {\n",
              "      margin-bottom: 4px;\n",
              "    }\n",
              "\n",
              "    [theme=dark] .colab-df-convert {\n",
              "      background-color: #3B4455;\n",
              "      fill: #D2E3FC;\n",
              "    }\n",
              "\n",
              "    [theme=dark] .colab-df-convert:hover {\n",
              "      background-color: #434B5C;\n",
              "      box-shadow: 0px 1px 3px 1px rgba(0, 0, 0, 0.15);\n",
              "      filter: drop-shadow(0px 1px 2px rgba(0, 0, 0, 0.3));\n",
              "      fill: #FFFFFF;\n",
              "    }\n",
              "  </style>\n",
              "\n",
              "    <script>\n",
              "      const buttonEl =\n",
              "        document.querySelector('#df-a9b71a1a-2f1a-440b-b1b3-01dc8232df7f button.colab-df-convert');\n",
              "      buttonEl.style.display =\n",
              "        google.colab.kernel.accessAllowed ? 'block' : 'none';\n",
              "\n",
              "      async function convertToInteractive(key) {\n",
              "        const element = document.querySelector('#df-a9b71a1a-2f1a-440b-b1b3-01dc8232df7f');\n",
              "        const dataTable =\n",
              "          await google.colab.kernel.invokeFunction('convertToInteractive',\n",
              "                                                    [key], {});\n",
              "        if (!dataTable) return;\n",
              "\n",
              "        const docLinkHtml = 'Like what you see? Visit the ' +\n",
              "          '<a target=\"_blank\" href=https://colab.research.google.com/notebooks/data_table.ipynb>data table notebook</a>'\n",
              "          + ' to learn more about interactive tables.';\n",
              "        element.innerHTML = '';\n",
              "        dataTable['output_type'] = 'display_data';\n",
              "        await google.colab.output.renderOutput(dataTable, element);\n",
              "        const docLink = document.createElement('div');\n",
              "        docLink.innerHTML = docLinkHtml;\n",
              "        element.appendChild(docLink);\n",
              "      }\n",
              "    </script>\n",
              "  </div>\n",
              "\n",
              "\n",
              "<div id=\"df-38263b20-21fe-4594-a965-b67c360c853a\">\n",
              "  <button class=\"colab-df-quickchart\" onclick=\"quickchart('df-38263b20-21fe-4594-a965-b67c360c853a')\"\n",
              "            title=\"Suggest charts.\"\n",
              "            style=\"display:none;\">\n",
              "\n",
              "<svg xmlns=\"http://www.w3.org/2000/svg\" height=\"24px\"viewBox=\"0 0 24 24\"\n",
              "     width=\"24px\">\n",
              "    <g>\n",
              "        <path d=\"M19 3H5c-1.1 0-2 .9-2 2v14c0 1.1.9 2 2 2h14c1.1 0 2-.9 2-2V5c0-1.1-.9-2-2-2zM9 17H7v-7h2v7zm4 0h-2V7h2v10zm4 0h-2v-4h2v4z\"/>\n",
              "    </g>\n",
              "</svg>\n",
              "  </button>\n",
              "\n",
              "<style>\n",
              "  .colab-df-quickchart {\n",
              "      --bg-color: #E8F0FE;\n",
              "      --fill-color: #1967D2;\n",
              "      --hover-bg-color: #E2EBFA;\n",
              "      --hover-fill-color: #174EA6;\n",
              "      --disabled-fill-color: #AAA;\n",
              "      --disabled-bg-color: #DDD;\n",
              "  }\n",
              "\n",
              "  [theme=dark] .colab-df-quickchart {\n",
              "      --bg-color: #3B4455;\n",
              "      --fill-color: #D2E3FC;\n",
              "      --hover-bg-color: #434B5C;\n",
              "      --hover-fill-color: #FFFFFF;\n",
              "      --disabled-bg-color: #3B4455;\n",
              "      --disabled-fill-color: #666;\n",
              "  }\n",
              "\n",
              "  .colab-df-quickchart {\n",
              "    background-color: var(--bg-color);\n",
              "    border: none;\n",
              "    border-radius: 50%;\n",
              "    cursor: pointer;\n",
              "    display: none;\n",
              "    fill: var(--fill-color);\n",
              "    height: 32px;\n",
              "    padding: 0;\n",
              "    width: 32px;\n",
              "  }\n",
              "\n",
              "  .colab-df-quickchart:hover {\n",
              "    background-color: var(--hover-bg-color);\n",
              "    box-shadow: 0 1px 2px rgba(60, 64, 67, 0.3), 0 1px 3px 1px rgba(60, 64, 67, 0.15);\n",
              "    fill: var(--button-hover-fill-color);\n",
              "  }\n",
              "\n",
              "  .colab-df-quickchart-complete:disabled,\n",
              "  .colab-df-quickchart-complete:disabled:hover {\n",
              "    background-color: var(--disabled-bg-color);\n",
              "    fill: var(--disabled-fill-color);\n",
              "    box-shadow: none;\n",
              "  }\n",
              "\n",
              "  .colab-df-spinner {\n",
              "    border: 2px solid var(--fill-color);\n",
              "    border-color: transparent;\n",
              "    border-bottom-color: var(--fill-color);\n",
              "    animation:\n",
              "      spin 1s steps(1) infinite;\n",
              "  }\n",
              "\n",
              "  @keyframes spin {\n",
              "    0% {\n",
              "      border-color: transparent;\n",
              "      border-bottom-color: var(--fill-color);\n",
              "      border-left-color: var(--fill-color);\n",
              "    }\n",
              "    20% {\n",
              "      border-color: transparent;\n",
              "      border-left-color: var(--fill-color);\n",
              "      border-top-color: var(--fill-color);\n",
              "    }\n",
              "    30% {\n",
              "      border-color: transparent;\n",
              "      border-left-color: var(--fill-color);\n",
              "      border-top-color: var(--fill-color);\n",
              "      border-right-color: var(--fill-color);\n",
              "    }\n",
              "    40% {\n",
              "      border-color: transparent;\n",
              "      border-right-color: var(--fill-color);\n",
              "      border-top-color: var(--fill-color);\n",
              "    }\n",
              "    60% {\n",
              "      border-color: transparent;\n",
              "      border-right-color: var(--fill-color);\n",
              "    }\n",
              "    80% {\n",
              "      border-color: transparent;\n",
              "      border-right-color: var(--fill-color);\n",
              "      border-bottom-color: var(--fill-color);\n",
              "    }\n",
              "    90% {\n",
              "      border-color: transparent;\n",
              "      border-bottom-color: var(--fill-color);\n",
              "    }\n",
              "  }\n",
              "</style>\n",
              "\n",
              "  <script>\n",
              "    async function quickchart(key) {\n",
              "      const quickchartButtonEl =\n",
              "        document.querySelector('#' + key + ' button');\n",
              "      quickchartButtonEl.disabled = true;  // To prevent multiple clicks.\n",
              "      quickchartButtonEl.classList.add('colab-df-spinner');\n",
              "      try {\n",
              "        const charts = await google.colab.kernel.invokeFunction(\n",
              "            'suggestCharts', [key], {});\n",
              "      } catch (error) {\n",
              "        console.error('Error during call to suggestCharts:', error);\n",
              "      }\n",
              "      quickchartButtonEl.classList.remove('colab-df-spinner');\n",
              "      quickchartButtonEl.classList.add('colab-df-quickchart-complete');\n",
              "    }\n",
              "    (() => {\n",
              "      let quickchartButtonEl =\n",
              "        document.querySelector('#df-38263b20-21fe-4594-a965-b67c360c853a button');\n",
              "      quickchartButtonEl.style.display =\n",
              "        google.colab.kernel.accessAllowed ? 'block' : 'none';\n",
              "    })();\n",
              "  </script>\n",
              "</div>\n",
              "    </div>\n",
              "  </div>\n"
            ]
          },
          "metadata": {},
          "execution_count": 18
        }
      ]
    },
    {
      "cell_type": "code",
      "source": [
        "train['reply'][2554]"
      ],
      "metadata": {
        "colab": {
          "base_uri": "https://localhost:8080/",
          "height": 54
        },
        "id": "tyDq56UOOjB3",
        "outputId": "e5fd8f3c-9a2b-4f58-f4f0-04086437c5f5"
      },
      "execution_count": 19,
      "outputs": [
        {
          "output_type": "execute_result",
          "data": {
            "text/plain": [
              "'제 가족이 먹는다는 생각으로 항상 청결하고 신선한 식재료로 맛있게 조리해드리고 있습니다 혹시라도 아쉬웠던 점이 있으시면 말씀해주시고 더 좋은 매장이 될 수 있게 최선을 다하겠습니다 고객님의 소중한 리뷰 정말 감사드리며 앞으로도 변하지 않는 한결같음으로 고객님들과 오래오래 함께하겠습니다 '"
            ],
            "application/vnd.google.colaboratory.intrinsic+json": {
              "type": "string"
            }
          },
          "metadata": {},
          "execution_count": 19
        }
      ]
    },
    {
      "cell_type": "markdown",
      "source": [
        "### 지점명 reply에서 삭제"
      ],
      "metadata": {
        "id": "BlrPw8SETc9a"
      }
    },
    {
      "cell_type": "code",
      "source": [
        "for keyword in region_name:\n",
        "    train['reply'] = train['reply'].str.replace(keyword, '')"
      ],
      "metadata": {
        "id": "0qz8d2S5Th1p"
      },
      "execution_count": 20,
      "outputs": []
    },
    {
      "cell_type": "markdown",
      "source": [
        "- 개별 삭제"
      ],
      "metadata": {
        "id": "ss4USUowbBkz"
      }
    },
    {
      "cell_type": "code",
      "source": [
        "print(train[train['reply'].str.contains(\"헬리오시티\")].index)\n",
        "\n",
        "remove_keywords = [\"당신은 지금 치킨이\",\"헬리오시티\",]\n",
        "for keyword in remove_keywords:\n",
        "    train['reply'] = train['reply'].str.replace(keyword, '')\n",
        "\n",
        "train['reply'][414]"
      ],
      "metadata": {
        "colab": {
          "base_uri": "https://localhost:8080/",
          "height": 54
        },
        "id": "aC5fqBpXT8N7",
        "outputId": "e913fa49-66a7-4c44-9167-c0a594e47218"
      },
      "execution_count": 21,
      "outputs": [
        {
          "output_type": "stream",
          "name": "stdout",
          "text": [
            "Int64Index([509, 18782, 18850, 19013], dtype='int64')\n"
          ]
        },
        {
          "output_type": "execute_result",
          "data": {
            "text/plain": [
              "'떡볶이는 콜라죠 이렇게 저와 맘이 통하는 댓글을 보니 마음이 기쁘네요 앞으로도 비밀유지에 만전을 기하게습니다 '"
            ],
            "application/vnd.google.colaboratory.intrinsic+json": {
              "type": "string"
            }
          },
          "metadata": {},
          "execution_count": 21
        }
      ]
    },
    {
      "cell_type": "markdown",
      "source": [
        "- 여기까지 완료된 데이터 저장하기"
      ],
      "metadata": {
        "id": "dmsxky8iQFPj"
      }
    },
    {
      "cell_type": "code",
      "source": [
        "# train.to_csv(f\"{DATA_PATH}yogiyo_paraphrase.csv\", index=False)"
      ],
      "metadata": {
        "id": "_os-9t-vQFPk"
      },
      "execution_count": 104,
      "outputs": []
    },
    {
      "cell_type": "markdown",
      "source": [
        "### 여기까지 완료된 데이터 불러오기"
      ],
      "metadata": {
        "id": "KeKlm-VGQFPk"
      }
    },
    {
      "cell_type": "code",
      "source": [
        "train = pd.read_csv(f\"{DATA_PATH}yogiyo_paraphrase.csv\")\n",
        "\n",
        "train['review'] = train['review'].astype(str)\n",
        "train['reply'] = train['reply'].astype(str)\n",
        "review, reply = train[\"review\"] , train[\"reply\"]\n",
        "len(review) , len(reply)"
      ],
      "metadata": {
        "colab": {
          "base_uri": "https://localhost:8080/"
        },
        "outputId": "ccdc39e2-5db3-428b-e217-26e7518f5a8d",
        "id": "5zzz7jweQFPk"
      },
      "execution_count": 5,
      "outputs": [
        {
          "output_type": "execute_result",
          "data": {
            "text/plain": [
              "(19412, 19412)"
            ]
          },
          "metadata": {},
          "execution_count": 5
        }
      ]
    },
    {
      "cell_type": "markdown",
      "source": [
        "# 한국어 형태소 분석"
      ],
      "metadata": {
        "id": "oUIFAkI6vzBO"
      }
    },
    {
      "cell_type": "code",
      "source": [
        "review[:5]"
      ],
      "metadata": {
        "colab": {
          "base_uri": "https://localhost:8080/"
        },
        "id": "fW4YJJ09OMPw",
        "outputId": "64478448-17cb-4f19-f2de-5bc2d71277a9"
      },
      "execution_count": 6,
      "outputs": [
        {
          "output_type": "execute_result",
          "data": {
            "text/plain": [
              "0    사진보다 실물이 백배 맛있어요 고기 양도 많아요 배달시간도 딱 맞춰서 보내주셨어요 \n",
              "1                      리뷰가 늦었네요 맛있게 잘 먹었습니다 또 시킬게요 \n",
              "2                 잘 먹었습니다 다만 주문에 있던 펩시콜라는 받지 못했습니다 \n",
              "3                                굿 말이 필요 없는 메뉴 였습니다\n",
              "4                                       맛있어요 양도많구좋음\n",
              "Name: review, dtype: object"
            ]
          },
          "metadata": {},
          "execution_count": 6
        }
      ]
    },
    {
      "cell_type": "code",
      "source": [
        "import unicodedata\n",
        "\n",
        "def normalize(sentence):\n",
        "    return unicodedata.normalize('NFC', sentence)\n",
        "\n",
        "normalize(review[0])"
      ],
      "metadata": {
        "colab": {
          "base_uri": "https://localhost:8080/",
          "height": 35
        },
        "id": "gNuEg-mXOZHq",
        "outputId": "3614b2db-82bd-4e83-af18-39d7a6d66eb6"
      },
      "execution_count": 7,
      "outputs": [
        {
          "output_type": "execute_result",
          "data": {
            "text/plain": [
              "'사진보다 실물이 백배 맛있어요 고기 양도 많아요 배달시간도 딱 맞춰서 보내주셨어요 '"
            ],
            "application/vnd.google.colaboratory.intrinsic+json": {
              "type": "string"
            }
          },
          "metadata": {},
          "execution_count": 7
        }
      ]
    },
    {
      "cell_type": "code",
      "source": [
        "!pip install transformers"
      ],
      "metadata": {
        "colab": {
          "base_uri": "https://localhost:8080/"
        },
        "id": "48MrB7JRXKD6",
        "outputId": "05e64e31-7f03-4b47-faeb-9ed832642785"
      },
      "execution_count": 8,
      "outputs": [
        {
          "output_type": "stream",
          "name": "stdout",
          "text": [
            "Requirement already satisfied: transformers in /usr/local/lib/python3.10/dist-packages (4.33.0)\n",
            "Requirement already satisfied: filelock in /usr/local/lib/python3.10/dist-packages (from transformers) (3.12.2)\n",
            "Requirement already satisfied: huggingface-hub<1.0,>=0.15.1 in /usr/local/lib/python3.10/dist-packages (from transformers) (0.16.4)\n",
            "Requirement already satisfied: numpy>=1.17 in /usr/local/lib/python3.10/dist-packages (from transformers) (1.23.5)\n",
            "Requirement already satisfied: packaging>=20.0 in /usr/local/lib/python3.10/dist-packages (from transformers) (23.1)\n",
            "Requirement already satisfied: pyyaml>=5.1 in /usr/local/lib/python3.10/dist-packages (from transformers) (6.0.1)\n",
            "Requirement already satisfied: regex!=2019.12.17 in /usr/local/lib/python3.10/dist-packages (from transformers) (2023.6.3)\n",
            "Requirement already satisfied: requests in /usr/local/lib/python3.10/dist-packages (from transformers) (2.31.0)\n",
            "Requirement already satisfied: tokenizers!=0.11.3,<0.14,>=0.11.1 in /usr/local/lib/python3.10/dist-packages (from transformers) (0.13.3)\n",
            "Requirement already satisfied: safetensors>=0.3.1 in /usr/local/lib/python3.10/dist-packages (from transformers) (0.3.3)\n",
            "Requirement already satisfied: tqdm>=4.27 in /usr/local/lib/python3.10/dist-packages (from transformers) (4.66.1)\n",
            "Requirement already satisfied: fsspec in /usr/local/lib/python3.10/dist-packages (from huggingface-hub<1.0,>=0.15.1->transformers) (2023.6.0)\n",
            "Requirement already satisfied: typing-extensions>=3.7.4.3 in /usr/local/lib/python3.10/dist-packages (from huggingface-hub<1.0,>=0.15.1->transformers) (4.7.1)\n",
            "Requirement already satisfied: charset-normalizer<4,>=2 in /usr/local/lib/python3.10/dist-packages (from requests->transformers) (3.2.0)\n",
            "Requirement already satisfied: idna<4,>=2.5 in /usr/local/lib/python3.10/dist-packages (from requests->transformers) (3.4)\n",
            "Requirement already satisfied: urllib3<3,>=1.21.1 in /usr/local/lib/python3.10/dist-packages (from requests->transformers) (2.0.4)\n",
            "Requirement already satisfied: certifi>=2017.4.17 in /usr/local/lib/python3.10/dist-packages (from requests->transformers) (2023.7.22)\n"
          ]
        }
      ]
    },
    {
      "cell_type": "markdown",
      "source": [
        "# 단어 사전 만들기"
      ],
      "metadata": {
        "id": "v1skB1HmKDGg"
      }
    },
    {
      "cell_type": "code",
      "source": [
        "PAD_TOKEN = 0\n",
        "SOS_TOKEN = 1\n",
        "EOS_TOKEN = 2\n",
        "\n",
        "class WordVocab():\n",
        "    def __init__(self):\n",
        "        self.word2index = {'<PAD>': PAD_TOKEN,\n",
        "                           '<SOS>': SOS_TOKEN,\n",
        "                           '<EOS>': EOS_TOKEN,}\n",
        "        self.word2count = {}\n",
        "        self.index2word = {PAD_TOKEN: '<PAD>',\n",
        "                           SOS_TOKEN: '<SOS>',\n",
        "                           EOS_TOKEN: '<EOS>'}\n",
        "        self.n_words = 3  # PAD, SOS, EOS 포함\n",
        "\n",
        "    def add_sentence(self, sentence):\n",
        "        for word in sentence.split(' '):\n",
        "            self.add_word(word)\n",
        "\n",
        "    def add_word(self, word):\n",
        "        if word not in self.word2index:\n",
        "            self.word2index[word] = self.n_words\n",
        "            self.word2count[word] = 1\n",
        "            self.index2word[self.n_words] = word\n",
        "            self.n_words += 1\n",
        "        else:\n",
        "            self.word2count[word] += 1"
      ],
      "metadata": {
        "id": "hygb8KqYIi3O"
      },
      "execution_count": 9,
      "outputs": []
    },
    {
      "cell_type": "code",
      "source": [
        "print(f'원문: {review[0]}')\n",
        "lang = WordVocab()\n",
        "lang.add_sentence(review[0])\n",
        "print('단어사전: ', lang.word2index)"
      ],
      "metadata": {
        "colab": {
          "base_uri": "https://localhost:8080/"
        },
        "id": "GBgYZWQwIi0f",
        "outputId": "2be075db-5f23-4cae-9207-47a8e92b1993"
      },
      "execution_count": 10,
      "outputs": [
        {
          "output_type": "stream",
          "name": "stdout",
          "text": [
            "원문: 사진보다 실물이 백배 맛있어요 고기 양도 많아요 배달시간도 딱 맞춰서 보내주셨어요 \n",
            "단어사전:  {'<PAD>': 0, '<SOS>': 1, '<EOS>': 2, '사진보다': 3, '실물이': 4, '백배': 5, '맛있어요': 6, '고기': 7, '양도': 8, '많아요': 9, '배달시간도': 10, '딱': 11, '맞춰서': 12, '보내주셨어요': 13, '': 14}\n"
          ]
        }
      ]
    },
    {
      "cell_type": "markdown",
      "source": [
        "# 데이터셋 만들기"
      ],
      "metadata": {
        "id": "5cU_Tee2R1G3"
      }
    },
    {
      "cell_type": "code",
      "source": [
        "from konlpy.tag import Okt"
      ],
      "metadata": {
        "id": "ai7JzO0KRXyQ"
      },
      "execution_count": 11,
      "outputs": []
    },
    {
      "cell_type": "code",
      "source": [
        "class TextDataset(Dataset):\n",
        "    def __init__(self, df, min_length=3, max_length=32):\n",
        "        super().__init__()\n",
        "\n",
        "        # TOKEN 정의\n",
        "        self.PAD_TOKEN = 0 # Padding 토큰\n",
        "        self.SOS_TOKEN = 1 # SOS 토큰\n",
        "        self.EOS_TOKEN = 2 # EOS 토큰\n",
        "\n",
        "        self.tagger = Okt()   # 형태소 분석기\n",
        "        self.max_length = max_length # 한 문장의 최대 길이 지정\n",
        "\n",
        "        # src: 리뷰, tgt: 답변\n",
        "        src_clean = []\n",
        "        tgt_clean = []\n",
        "        store_list = []\n",
        "\n",
        "        # 단어 사전 생성\n",
        "        wordvocab = WordVocab()\n",
        "\n",
        "        for _, row in df.iterrows():\n",
        "            src = row['review']\n",
        "            tgt = row['reply']\n",
        "\n",
        "            # 한글 전처리\n",
        "            src = self.clean_text(src)\n",
        "            tgt = self.clean_text(tgt)\n",
        "\n",
        "            if len(src.split()) > min_length and len(tgt.split()) > min_length:\n",
        "                # 최소 길이를 넘어가는 문장의 단어만 추가\n",
        "                wordvocab.add_sentence(src)\n",
        "                wordvocab.add_sentence(tgt)\n",
        "                src_clean.append(src)\n",
        "                tgt_clean.append(tgt)\n",
        "\n",
        "        self.srcs = src_clean\n",
        "        self.tgts = tgt_clean\n",
        "        self.wordvocab = wordvocab\n",
        "\n",
        "    def clean_text(self, sentence):\n",
        "        # 형태소 처리\n",
        "        sentence = self.tagger.morphs(sentence)\n",
        "        sentence = ' '.join(sentence)\n",
        "        sentence = sentence.lower()\n",
        "        return sentence\n",
        "\n",
        "    def texts_to_sequences(self, sentence):\n",
        "        # 문장 -> 시퀀스로 변환\n",
        "        return [self.wordvocab.word2index[w] for w in sentence.split()]\n",
        "\n",
        "    def pad_sequence(self, sentence_tokens):\n",
        "        # 문장의 맨 끝 토큰은 제거\n",
        "        sentence_tokens = sentence_tokens[:(self.max_length-1)]\n",
        "        token_length = len(sentence_tokens)\n",
        "\n",
        "        # 문장의 맨 끝부분에 <EOS> 토큰 추가\n",
        "        sentence_tokens.append(self.EOS_TOKEN)\n",
        "\n",
        "        for i in range(token_length, (self.max_length-1)):\n",
        "            # 나머지 빈 곳에 <PAD> 토큰 추가\n",
        "            sentence_tokens.append(self.PAD_TOKEN)\n",
        "        return sentence_tokens\n",
        "\n",
        "    def __getitem__(self, idx):\n",
        "        inputs = self.srcs[idx]\n",
        "        inputs_sequences = self.texts_to_sequences(inputs)\n",
        "        inputs_padded = self.pad_sequence(inputs_sequences)\n",
        "\n",
        "        outputs = self.tgts[idx]\n",
        "        outputs_sequences = self.texts_to_sequences(outputs)\n",
        "        outputs_padded = self.pad_sequence(outputs_sequences)\n",
        "\n",
        "        return torch.tensor(inputs_padded), torch.tensor(outputs_padded)\n",
        "\n",
        "    def __len__(self):\n",
        "        return len(self.srcs)"
      ],
      "metadata": {
        "id": "qegB-fFUIiv9"
      },
      "execution_count": 12,
      "outputs": []
    },
    {
      "cell_type": "markdown",
      "source": [
        "## 데이터셋 분할(테스트 데이터 생성)"
      ],
      "metadata": {
        "id": "YP8KNO1CWOEJ"
      }
    },
    {
      "cell_type": "code",
      "source": [
        "MAX_LENGTH = 32\n",
        "dataset = TextDataset(train, min_length=3, max_length=MAX_LENGTH)"
      ],
      "metadata": {
        "id": "IhZLpU7SIita"
      },
      "execution_count": 13,
      "outputs": []
    },
    {
      "cell_type": "code",
      "source": [
        "# split_ratio = 0.2  # 테스트 데이터의 비율(20%)\n",
        "# split_index = int(len(train) * split_ratio)\n",
        "\n",
        "# test_data = train[:split_index] # 증강데이터가 없는 앞에서부터 20% 할당\n",
        "# train_data = train[split_index:]\n",
        "\n",
        "# len(test_data) , len(train_data)"
      ],
      "metadata": {
        "colab": {
          "base_uri": "https://localhost:8080/"
        },
        "id": "Z2EiR2WqVfHW",
        "outputId": "6991fd9d-0d92-4139-b24f-d482a9f8db41"
      },
      "execution_count": 31,
      "outputs": [
        {
          "output_type": "execute_result",
          "data": {
            "text/plain": [
              "(3882, 15530)"
            ]
          },
          "metadata": {},
          "execution_count": 31
        }
      ]
    },
    {
      "cell_type": "code",
      "source": [
        "# train_dataset = TextDataset(train_data, min_length=3, max_length=MAX_LENGTH)\n",
        "# test_dataset = TextDataset(test_data, min_length=3, max_length=MAX_LENGTH)"
      ],
      "metadata": {
        "id": "i7d455-P4je9"
      },
      "execution_count": 32,
      "outputs": []
    },
    {
      "cell_type": "code",
      "source": [
        "x, y = dataset[0]"
      ],
      "metadata": {
        "id": "OCwwT9WwIirO"
      },
      "execution_count": 14,
      "outputs": []
    },
    {
      "cell_type": "code",
      "source": [
        "print(f'x shape: {x.shape}')\n",
        "print(x)"
      ],
      "metadata": {
        "colab": {
          "base_uri": "https://localhost:8080/"
        },
        "id": "7ueDgBziIioj",
        "outputId": "cccf0977-9ea5-4eca-8968-4f87c490ca70"
      },
      "execution_count": 15,
      "outputs": [
        {
          "output_type": "stream",
          "name": "stdout",
          "text": [
            "x shape: torch.Size([32])\n",
            "tensor([ 3,  4,  5,  6,  7,  8,  9, 10, 11, 12, 13, 14, 15, 16, 17,  2,  0,  0,\n",
            "         0,  0,  0,  0,  0,  0,  0,  0,  0,  0,  0,  0,  0,  0])\n"
          ]
        }
      ]
    },
    {
      "cell_type": "code",
      "source": [
        "print(f'y shape: {y.shape}')\n",
        "print(y)"
      ],
      "metadata": {
        "colab": {
          "base_uri": "https://localhost:8080/"
        },
        "id": "IwRayL07IimV",
        "outputId": "bbd7519a-c3db-4fce-8462-8999543ac9cd"
      },
      "execution_count": 16,
      "outputs": [
        {
          "output_type": "stream",
          "name": "stdout",
          "text": [
            "y shape: torch.Size([32])\n",
            "tensor([18, 19, 20, 21, 22, 23, 24, 25, 26, 27, 10, 28, 14, 29, 30, 31, 32, 33,\n",
            "        34, 35, 36, 37, 38, 39, 40,  6, 41, 42, 43, 31, 44,  2])\n"
          ]
        }
      ]
    },
    {
      "cell_type": "code",
      "source": [
        "from torch.utils.data import random_split\n",
        "\n",
        "train_size = int(len(dataset) * 0.8) # 80%의 데이터를 train에 할당\n",
        "test_size = len(dataset) - train_size # 나머지 20% 데이터를 test에 할당\n",
        "print(train_size, test_size)\n",
        "train_dataset, test_dataset = random_split(dataset, [train_size, test_size]) # 랜덤 스플릿으로 분할"
      ],
      "metadata": {
        "colab": {
          "base_uri": "https://localhost:8080/"
        },
        "id": "K7BalXtMVfr9",
        "outputId": "c937e006-31cf-4607-d6c4-ee76e3e1d645"
      },
      "execution_count": 17,
      "outputs": [
        {
          "output_type": "stream",
          "name": "stdout",
          "text": [
            "12040 3010\n"
          ]
        }
      ]
    },
    {
      "cell_type": "markdown",
      "source": [
        "# 데이터로더 만들기"
      ],
      "metadata": {
        "id": "nTlT-UZLVs4z"
      }
    },
    {
      "cell_type": "code",
      "source": [
        "from torch.utils.data import DataLoader, SubsetRandomSampler\n",
        "\n",
        "train_loader = DataLoader(train_dataset, batch_size=16, shuffle=True)\n",
        "test_loader = DataLoader(test_dataset, batch_size=16, shuffle=False)"
      ],
      "metadata": {
        "id": "VytG6MGDVtNj"
      },
      "execution_count": 18,
      "outputs": []
    },
    {
      "cell_type": "code",
      "source": [
        "# 1개의 배치 데이터를 추출\n",
        "x, y = next(iter(train_loader))\n",
        "\n",
        "# shape: (batch_size, sequence_length)\n",
        "x.shape, y.shape"
      ],
      "metadata": {
        "colab": {
          "base_uri": "https://localhost:8080/"
        },
        "id": "OkT49hogVxTf",
        "outputId": "5fe41e1f-d302-4213-a965-7070e1e3bb6b"
      },
      "execution_count": 19,
      "outputs": [
        {
          "output_type": "execute_result",
          "data": {
            "text/plain": [
              "(torch.Size([16, 32]), torch.Size([16, 32]))"
            ]
          },
          "metadata": {},
          "execution_count": 19
        }
      ]
    },
    {
      "cell_type": "markdown",
      "source": [
        "# Encoder 만들기"
      ],
      "metadata": {
        "id": "y0p1uAoUWQ6K"
      }
    },
    {
      "cell_type": "code",
      "source": [
        "class Encoder(nn.Module):\n",
        "    def __init__(self, num_vocabs, hidden_size, embedding_dim, num_layers):\n",
        "        super().__init__()\n",
        "\n",
        "        # 단어 사전의 개수 지정\n",
        "        self.num_vocabs = num_vocabs\n",
        "        # 임베딩 레이어 정의 (number of vocabs, embedding dimension)\n",
        "        self.embedding = nn.Embedding(num_vocabs, embedding_dim)\n",
        "        # GRU (embedding dimension)\n",
        "        self.gru = nn.GRU(embedding_dim,\n",
        "                          hidden_size,\n",
        "                          num_layers=num_layers,\n",
        "                          bidirectional=False)\n",
        "\n",
        "    def forward(self, x):\n",
        "        x = self.embedding(x).permute(1, 0, 2)\n",
        "        output, hidden = self.gru(x)\n",
        "        return output, hidden"
      ],
      "metadata": {
        "id": "5O03VXXFVxSF"
      },
      "execution_count": 20,
      "outputs": []
    },
    {
      "cell_type": "code",
      "source": [
        "embedding_dim = 64 # 임베딩 차원\n",
        "embedding = nn.Embedding(dataset.wordvocab.n_words, embedding_dim)\n",
        "\n",
        "# x의 shape을 변경합니다.\n",
        "# (batch_size, sequence_length) => (sequence_length, batch_size)\n",
        "embedded = embedding(x)\n",
        "\n",
        "print(x.shape)\n",
        "print(embedded.shape)\n",
        "# input:  (sequence_length, batch_size)\n",
        "# output: (sequence_length, batch_size, embedding_dim)"
      ],
      "metadata": {
        "colab": {
          "base_uri": "https://localhost:8080/"
        },
        "id": "LOQyDM8LVxQU",
        "outputId": "2f280ebc-02fd-4866-9da1-a0142389a385"
      },
      "execution_count": 21,
      "outputs": [
        {
          "output_type": "stream",
          "name": "stdout",
          "text": [
            "torch.Size([16, 32])\n",
            "torch.Size([16, 32, 64])\n"
          ]
        }
      ]
    },
    {
      "cell_type": "code",
      "source": [
        "embedded = embedded.permute(1, 0, 2)\n",
        "print(embedded.shape)\n",
        "# (sequence_length, batch_size, embedding_dim)"
      ],
      "metadata": {
        "colab": {
          "base_uri": "https://localhost:8080/"
        },
        "id": "Pb1QQDpkVxMw",
        "outputId": "4f7bf02e-e1c7-429f-9638-66821a4b3502"
      },
      "execution_count": 22,
      "outputs": [
        {
          "output_type": "stream",
          "name": "stdout",
          "text": [
            "torch.Size([32, 16, 64])\n"
          ]
        }
      ]
    },
    {
      "cell_type": "code",
      "source": [
        "hidden_size = 32\n",
        "\n",
        "gru = nn.GRU(embedding_dim,      # embedding 차원\n",
        "             hidden_size,\n",
        "             num_layers=1,\n",
        "             bidirectional=False)\n",
        "\n",
        "# input       : (sequence_length, batch_size, embedding_dim)\n",
        "# h0          : (Bidirectional(1) x number of layers(1), batch_size, hidden_size)\n",
        "o, h = gru(embedded, None)\n",
        "\n",
        "print(o.shape)\n",
        "print(h.shape)\n",
        "# output      : (sequence_length, batch_size, hidden_size x bidirectional(1))\n",
        "# hidden_state: (bidirectional(1) x number of layers(1), batch_size, hidden_size)"
      ],
      "metadata": {
        "colab": {
          "base_uri": "https://localhost:8080/"
        },
        "id": "prj9C4gBVxJ8",
        "outputId": "8abdbc0f-f74d-470b-e580-8ab66a35fad3"
      },
      "execution_count": 23,
      "outputs": [
        {
          "output_type": "stream",
          "name": "stdout",
          "text": [
            "torch.Size([32, 16, 32])\n",
            "torch.Size([1, 16, 32])\n"
          ]
        }
      ]
    },
    {
      "cell_type": "code",
      "source": [
        "NUM_VOCABS = dataset.wordvocab.n_words\n",
        "print(f'number of vocabs: {NUM_VOCABS}')"
      ],
      "metadata": {
        "colab": {
          "base_uri": "https://localhost:8080/"
        },
        "id": "uvil6PfkVxHv",
        "outputId": "1a211203-1635-4a73-962a-2df05faf8766"
      },
      "execution_count": 24,
      "outputs": [
        {
          "output_type": "stream",
          "name": "stdout",
          "text": [
            "number of vocabs: 25110\n"
          ]
        }
      ]
    },
    {
      "cell_type": "markdown",
      "source": [
        "## Encoder 정의"
      ],
      "metadata": {
        "id": "ETAwFhxaWzsY"
      }
    },
    {
      "cell_type": "code",
      "source": [
        "# Encoder 정의\n",
        "encoder = Encoder(NUM_VOCABS, hidden_size=32, embedding_dim=64, num_layers=1)"
      ],
      "metadata": {
        "id": "221hJUmVVxFW"
      },
      "execution_count": 25,
      "outputs": []
    },
    {
      "cell_type": "code",
      "source": [
        "# Encoder에 x 통과 후 output, hidden_size 의 shape 확인\n",
        "# input(x)    : (batch_size, sequence_length)\n",
        "o, h = encoder(x)\n",
        "\n",
        "print(o.shape)\n",
        "print(h.shape)\n",
        "# output      : (sequence_length, batch_size, hidden_size x bidirectional(1))\n",
        "# hidden_state: (bidirectional(1) x number of layers(1), batch_size, hidden_size)"
      ],
      "metadata": {
        "colab": {
          "base_uri": "https://localhost:8080/"
        },
        "id": "lGfREzxCVxDJ",
        "outputId": "b24ebca0-398d-419d-bd2c-51705c7bf52e"
      },
      "execution_count": 26,
      "outputs": [
        {
          "output_type": "stream",
          "name": "stdout",
          "text": [
            "torch.Size([32, 16, 32])\n",
            "torch.Size([1, 16, 32])\n"
          ]
        }
      ]
    },
    {
      "cell_type": "markdown",
      "source": [
        "# Decoder 만들기"
      ],
      "metadata": {
        "id": "WxbHG7JSWoSB"
      }
    },
    {
      "cell_type": "code",
      "source": [
        "class Decoder(nn.Module):\n",
        "    def __init__(self, num_vocabs, hidden_size, embedding_dim, num_layers=1, dropout=0.2):\n",
        "        super().__init__()\n",
        "        # 단어사전 개수\n",
        "        self.num_vocabs = num_vocabs\n",
        "        self.embedding = nn.Embedding(num_vocabs, embedding_dim)\n",
        "        self.dropout = nn.Dropout(dropout)\n",
        "        self.gru = nn.GRU(embedding_dim,\n",
        "                          hidden_size,\n",
        "                          num_layers=num_layers,\n",
        "                          bidirectional=False)\n",
        "\n",
        "        # 최종 출력은 단어사전의 개수\n",
        "        self.fc = nn.Linear(hidden_size, num_vocabs)\n",
        "\n",
        "    def forward(self, x, hidden_state):\n",
        "        x = x.unsqueeze(0) # (1, batch_size) 로 변환\n",
        "        embedded = F.relu(self.embedding(x))\n",
        "        embedded = self.dropout(embedded)\n",
        "        output, hidden = self.gru(embedded, hidden_state)\n",
        "        output = self.fc(output.squeeze(0)) # (sequence_length, batch_size, hidden_size(32) x bidirectional(1))\n",
        "        return output, hidden"
      ],
      "metadata": {
        "id": "e7WjdpnbVxAa"
      },
      "execution_count": 27,
      "outputs": []
    },
    {
      "cell_type": "code",
      "source": [
        "x = torch.abs(torch.randn(size=(1, 16)).long())\n",
        "print(x)\n",
        "x.shape\n",
        "# batch_size = 16 이라 가정했을 때,\n",
        "# (1, batch_size)\n",
        "# 여기서 batch_size => (1, batch_size) 로 shape 변환을 선행"
      ],
      "metadata": {
        "colab": {
          "base_uri": "https://localhost:8080/"
        },
        "id": "Ukt1pWOmVw-R",
        "outputId": "4780ebd7-dffe-413e-da59-65f65dcc14c3"
      },
      "execution_count": 28,
      "outputs": [
        {
          "output_type": "stream",
          "name": "stdout",
          "text": [
            "tensor([[0, 0, 0, 1, 0, 0, 0, 1, 0, 0, 0, 1, 1, 0, 1, 0]])\n"
          ]
        },
        {
          "output_type": "execute_result",
          "data": {
            "text/plain": [
              "torch.Size([1, 16])"
            ]
          },
          "metadata": {},
          "execution_count": 28
        }
      ]
    },
    {
      "cell_type": "code",
      "source": [
        "embedding_dim = 64 # 임베딩 차원\n",
        "embedding = nn.Embedding(dataset.wordvocab.n_words, embedding_dim)\n",
        "\n",
        "embedded = embedding(x)\n",
        "embedded.shape\n",
        "# embedding 출력\n",
        "# (1, batch_size, embedding_dim)"
      ],
      "metadata": {
        "colab": {
          "base_uri": "https://localhost:8080/"
        },
        "id": "Qufl6wNTWqPJ",
        "outputId": "8fdda2ec-e533-4ed4-b862-cbc50f29453a"
      },
      "execution_count": 29,
      "outputs": [
        {
          "output_type": "execute_result",
          "data": {
            "text/plain": [
              "torch.Size([1, 16, 64])"
            ]
          },
          "metadata": {},
          "execution_count": 29
        }
      ]
    },
    {
      "cell_type": "code",
      "source": [
        "hidden_size = 32\n",
        "\n",
        "gru = nn.GRU(embedding_dim,\n",
        "             hidden_size,\n",
        "             num_layers=1,\n",
        "             bidirectional=False,\n",
        "             batch_first=False, # batch_first=False로 지정\n",
        "            )\n",
        "\n",
        "o, h = gru(embedded)\n",
        "\n",
        "print(o.shape)\n",
        "# output shape: (sequence_length, batch_size, hidden_size(32) x bidirectional(1))\n",
        "print(h.shape)\n",
        "# hidden_state shape: (Bidirectional(1) x number of layers(1), batch_size, hidden_size(32))"
      ],
      "metadata": {
        "colab": {
          "base_uri": "https://localhost:8080/"
        },
        "id": "ugfx1LOtWqM-",
        "outputId": "2f81868b-0392-4f74-cc43-78362a1fb7d1"
      },
      "execution_count": 30,
      "outputs": [
        {
          "output_type": "stream",
          "name": "stdout",
          "text": [
            "torch.Size([1, 16, 32])\n",
            "torch.Size([1, 16, 32])\n"
          ]
        }
      ]
    },
    {
      "cell_type": "code",
      "source": [
        "fc = nn.Linear(32, NUM_VOCABS) # 출력은 단어사전의 개수로 가정\n",
        "\n",
        "output = fc(o[0])\n",
        "\n",
        "print(o[0].shape)\n",
        "print(output.shape)\n",
        "# input : (batch_size, output from GRU)\n",
        "# output: (batch_size, output dimension)"
      ],
      "metadata": {
        "colab": {
          "base_uri": "https://localhost:8080/"
        },
        "id": "VHLbK8VgWqKg",
        "outputId": "01587af0-577c-4f52-b703-437d4f2f8364"
      },
      "execution_count": 31,
      "outputs": [
        {
          "output_type": "stream",
          "name": "stdout",
          "text": [
            "torch.Size([16, 32])\n",
            "torch.Size([16, 25110])\n"
          ]
        }
      ]
    },
    {
      "cell_type": "markdown",
      "source": [
        "## Decoder 정의"
      ],
      "metadata": {
        "id": "b0-mVJTKW573"
      }
    },
    {
      "cell_type": "code",
      "source": [
        "decoder = Decoder(num_vocabs=dataset.wordvocab.n_words, hidden_size=32, embedding_dim=64, num_layers=1)"
      ],
      "metadata": {
        "id": "LjFAFezvWqH8"
      },
      "execution_count": 32,
      "outputs": []
    },
    {
      "cell_type": "code",
      "source": [
        "x, y = next(iter(train_loader))\n",
        "\n",
        "o, h = encoder(x)\n",
        "\n",
        "print(o.shape, h.shape)\n",
        "# output      : (batch_size, sequence_length, hidden_size(32) x bidirectional(1))\n",
        "# hidden_state: (Bidirectional(1) x number of layers(1), batch_size, hidden_size(32))"
      ],
      "metadata": {
        "colab": {
          "base_uri": "https://localhost:8080/"
        },
        "id": "7k8wov_uWqF3",
        "outputId": "eb4f5b27-4e47-4d97-ead0-424596b33776"
      },
      "execution_count": 33,
      "outputs": [
        {
          "output_type": "stream",
          "name": "stdout",
          "text": [
            "torch.Size([32, 16, 32]) torch.Size([1, 16, 32])\n"
          ]
        }
      ]
    },
    {
      "cell_type": "code",
      "source": [
        "x = torch.abs(torch.full(size=(16,), fill_value=SOS_TOKEN).long())\n",
        "print(x)\n",
        "x.shape\n",
        "# batch_size = 16 이라 가정(16개의 SOS 토큰)"
      ],
      "metadata": {
        "colab": {
          "base_uri": "https://localhost:8080/"
        },
        "id": "m3IyR3dAWqDa",
        "outputId": "a9aa66be-a728-44aa-9bed-79a2b09d96ff"
      },
      "execution_count": 34,
      "outputs": [
        {
          "output_type": "stream",
          "name": "stdout",
          "text": [
            "tensor([1, 1, 1, 1, 1, 1, 1, 1, 1, 1, 1, 1, 1, 1, 1, 1])\n"
          ]
        },
        {
          "output_type": "execute_result",
          "data": {
            "text/plain": [
              "torch.Size([16])"
            ]
          },
          "metadata": {},
          "execution_count": 34
        }
      ]
    },
    {
      "cell_type": "code",
      "source": [
        "decoder_output, decoder_hidden = decoder(x, h)\n",
        "decoder_output.shape, decoder_hidden.shape\n",
        "# (batch_size, num_vocabs), (1, batch_size, hidden_size)"
      ],
      "metadata": {
        "colab": {
          "base_uri": "https://localhost:8080/"
        },
        "id": "WINqAVmJWp_P",
        "outputId": "396f01da-dc1d-4d29-8f7a-6fca4d88c098"
      },
      "execution_count": 35,
      "outputs": [
        {
          "output_type": "execute_result",
          "data": {
            "text/plain": [
              "(torch.Size([16, 25110]), torch.Size([1, 16, 32]))"
            ]
          },
          "metadata": {},
          "execution_count": 35
        }
      ]
    },
    {
      "cell_type": "markdown",
      "source": [
        "# Seq2Seq 모델 만들기"
      ],
      "metadata": {
        "id": "YuJaLiSyXDUk"
      }
    },
    {
      "cell_type": "code",
      "source": [
        "class Seq2Seq(nn.Module):\n",
        "    def __init__(self, encoder, decoder, device):\n",
        "        super(Seq2Seq, self).__init__()\n",
        "        self.encoder = encoder\n",
        "        self.decoder = decoder\n",
        "        self.device = device\n",
        "\n",
        "    def forward(self, inputs, outputs, teacher_forcing_ratio=0.5):\n",
        "        # inputs : (batch_size, sequence_length)\n",
        "        # outputs: (batch_size, sequence_length)\n",
        "\n",
        "        batch_size, output_length = outputs.shape\n",
        "        output_num_vocabs = self.decoder.num_vocabs\n",
        "\n",
        "        # 리턴할 예측된 outputs를 저장할 임시 변수\n",
        "        # (sequence_length, batch_size, num_vocabs)\n",
        "        predicted_outputs = torch.zeros(output_length, batch_size, output_num_vocabs).to(self.device)\n",
        "\n",
        "        # 인코더에 입력 데이터 주입, encoder_output은 버리고 hidden_state 만 살립니다.\n",
        "        # 여기서 hidden_state가 디코더에 주입할 context vector 입니다.\n",
        "        # (Bidirectional(1) x number of layers(1), batch_size, hidden_size)\n",
        "        _, decoder_hidden = self.encoder(inputs)\n",
        "\n",
        "        # (batch_size) shape의 SOS TOKEN으로 채워진 디코더 입력 생성\n",
        "        decoder_input = torch.full((batch_size,), SOS_TOKEN, device=self.device)\n",
        "\n",
        "        # 순회하면서 출력 단어를 생성합니다.\n",
        "        # 0번째는 SOS TOKEN이 위치하므로, 1번째 인덱스부터 순회합니다.\n",
        "        for t in range(0, output_length):\n",
        "            # decoder_input : 디코더 입력 (batch_size) 형태의 SOS TOKEN로 채워진 입력\n",
        "            # decoder_output: (batch_size, num_vocabs)\n",
        "            # decoder_hidden: (Bidirectional(1) x number of layers(1), batch_size, hidden_size), context vector와 동일 shape\n",
        "            decoder_output, decoder_hidden = self.decoder(decoder_input, decoder_hidden)\n",
        "\n",
        "            # t번째 단어에 디코더의 output 저장\n",
        "            predicted_outputs[t] = decoder_output\n",
        "\n",
        "            # teacher forcing 적용 여부 확률로 결정\n",
        "            # teacher forcing 이란: 정답치를 다음 RNN Cell의 입력으로 넣어주는 경우. 수렴속도가 빠를 수 있으나, 불안정할 수 있음\n",
        "            teacher_force = random.random() < teacher_forcing_ratio\n",
        "\n",
        "            # top1 단어 토큰 예측\n",
        "            top1 = decoder_output.argmax(1)\n",
        "\n",
        "            # teacher forcing 인 경우 ground truth 값을, 그렇지 않은 경우, 예측 값을 다음 input으로 지정\n",
        "            decoder_input = outputs[:, t] if teacher_force else top1\n",
        "\n",
        "        return predicted_outputs.permute(1, 0, 2) # (batch_size, sequence_length, num_vocabs)로 변경"
      ],
      "metadata": {
        "id": "_PytT7XtW-tM"
      },
      "execution_count": 36,
      "outputs": []
    },
    {
      "cell_type": "code",
      "source": [
        "# Encoder 정의\n",
        "encoder = Encoder(num_vocabs=dataset.wordvocab.n_words,\n",
        "                       hidden_size=32,\n",
        "                       embedding_dim=64,\n",
        "                       num_layers=1)\n",
        "# Decoder 정의\n",
        "decoder = Decoder(num_vocabs=dataset.wordvocab.n_words,\n",
        "                       hidden_size=32,\n",
        "                       embedding_dim=64,\n",
        "                       num_layers=1)\n",
        "# Seq2Seq 정의\n",
        "seq2seq = Seq2Seq(encoder, decoder, 'cpu')"
      ],
      "metadata": {
        "id": "xpvgCZhiW-qs"
      },
      "execution_count": 37,
      "outputs": []
    },
    {
      "cell_type": "code",
      "source": [
        "x, y = next(iter(train_loader))\n",
        "print(x.shape, y.shape)\n",
        "# (batch_size, sequence_length), (batch_size, sequence_length)"
      ],
      "metadata": {
        "colab": {
          "base_uri": "https://localhost:8080/"
        },
        "id": "M8DrPCgVW-oF",
        "outputId": "cb61ae48-876c-4fb9-b38e-ff25af0875d0"
      },
      "execution_count": 38,
      "outputs": [
        {
          "output_type": "stream",
          "name": "stdout",
          "text": [
            "torch.Size([16, 32]) torch.Size([16, 32])\n"
          ]
        }
      ]
    },
    {
      "cell_type": "code",
      "source": [
        "output = seq2seq(x, y)\n",
        "print(output.shape)\n",
        "# (batch_size, sequence_length, num_vocabs)"
      ],
      "metadata": {
        "colab": {
          "base_uri": "https://localhost:8080/"
        },
        "id": "2J4N_X2rW-lz",
        "outputId": "f168cb98-431b-4455-d2cc-9187765d2371"
      },
      "execution_count": 39,
      "outputs": [
        {
          "output_type": "stream",
          "name": "stdout",
          "text": [
            "torch.Size([16, 32, 25110])\n"
          ]
        }
      ]
    },
    {
      "cell_type": "markdown",
      "source": [
        "## 모델 확인"
      ],
      "metadata": {
        "id": "xhHarWD6XUT_"
      }
    },
    {
      "cell_type": "code",
      "source": [
        "NUM_VOCABS = dataset.wordvocab.n_words\n",
        "HIDDEN_SIZE = 512\n",
        "EMBEDDIMG_DIM = 256\n",
        "\n",
        "print(f'num_vocabs: {NUM_VOCABS}\\n======================')\n",
        "\n",
        "# Encoder 정의\n",
        "encoder = Encoder(num_vocabs=NUM_VOCABS,\n",
        "                  hidden_size=HIDDEN_SIZE,\n",
        "                  embedding_dim=EMBEDDIMG_DIM,\n",
        "                  num_layers=1)\n",
        "# Decoder 정의\n",
        "decoder = Decoder(num_vocabs=NUM_VOCABS,\n",
        "                  hidden_size=HIDDEN_SIZE,\n",
        "                  embedding_dim=EMBEDDIMG_DIM,\n",
        "                  num_layers=1)\n",
        "\n",
        "# Seq2Seq 생성\n",
        "# encoder, decoder를 device 모두 지정\n",
        "model = Seq2Seq(encoder.to(device), decoder.to(device), device)\n",
        "print(model)"
      ],
      "metadata": {
        "colab": {
          "base_uri": "https://localhost:8080/"
        },
        "id": "Jyuw1zgTW-jh",
        "outputId": "1b7187fc-1165-46c4-f2b0-d0e5a4b91171"
      },
      "execution_count": 40,
      "outputs": [
        {
          "output_type": "stream",
          "name": "stdout",
          "text": [
            "num_vocabs: 25110\n",
            "======================\n",
            "Seq2Seq(\n",
            "  (encoder): Encoder(\n",
            "    (embedding): Embedding(25110, 256)\n",
            "    (gru): GRU(256, 512)\n",
            "  )\n",
            "  (decoder): Decoder(\n",
            "    (embedding): Embedding(25110, 256)\n",
            "    (dropout): Dropout(p=0.2, inplace=False)\n",
            "    (gru): GRU(256, 512)\n",
            "    (fc): Linear(in_features=512, out_features=25110, bias=True)\n",
            "  )\n",
            ")\n"
          ]
        }
      ]
    },
    {
      "cell_type": "markdown",
      "source": [
        "# 하이퍼파라미터 정의"
      ],
      "metadata": {
        "id": "EaBwVfIzXm-s"
      }
    },
    {
      "cell_type": "code",
      "source": [
        "class EarlyStopping:\n",
        "    def __init__(self, patience=3, delta=0.0, mode='min', verbose=True):\n",
        "        \"\"\"\n",
        "        patience (int): loss or score가 개선된 후 기다리는 기간. default: 3\n",
        "        delta  (float): 개선시 인정되는 최소 변화 수치. default: 0.0\n",
        "        mode     (str): 개선시 최소/최대값 기준 선정('min' or 'max'). default: 'min'.\n",
        "        verbose (bool): 메시지 출력. default: True\n",
        "        \"\"\"\n",
        "        self.early_stop = False\n",
        "        self.patience = patience\n",
        "        self.verbose = verbose\n",
        "        self.counter = 0\n",
        "\n",
        "        self.best_score = np.Inf if mode == 'min' else 0\n",
        "        self.mode = mode\n",
        "        self.delta = delta\n",
        "\n",
        "\n",
        "    def __call__(self, score):\n",
        "\n",
        "        if self.best_score is None:\n",
        "            self.best_score = score\n",
        "            self.counter = 0\n",
        "        elif self.mode == 'min':\n",
        "            if score < (self.best_score - self.delta):\n",
        "                self.counter = 0\n",
        "                self.best_score = score\n",
        "                if self.verbose:\n",
        "                    print(f'[EarlyStopping] (Update) Best Score: {self.best_score:.5f}')\n",
        "            else:\n",
        "                self.counter += 1\n",
        "                if self.verbose:\n",
        "                    print(f'[EarlyStopping] (Patience) {self.counter}/{self.patience}, ' \\\n",
        "                          f'Best: {self.best_score:.5f}' \\\n",
        "                          f', Current: {score:.5f}, Delta: {np.abs(self.best_score - score):.5f}')\n",
        "\n",
        "        elif self.mode == 'max':\n",
        "            if score > (self.best_score + self.delta):\n",
        "                self.counter = 0\n",
        "                self.best_score = score\n",
        "                if self.verbose:\n",
        "                    print(f'[EarlyStopping] (Update) Best Score: {self.best_score:.5f}')\n",
        "            else:\n",
        "                self.counter += 1\n",
        "                if self.verbose:\n",
        "                    print(f'[EarlyStopping] (Patience) {self.counter}/{self.patience}, ' \\\n",
        "                          f'Best: {self.best_score:.5f}' \\\n",
        "                          f', Current: {score:.5f}, Delta: {np.abs(self.best_score - score):.5f}')\n",
        "\n",
        "\n",
        "        if self.counter >= self.patience:\n",
        "            if self.verbose:\n",
        "                print(f'[EarlyStop Triggered] Best Score: {self.best_score:.5f}')\n",
        "            # Early Stop\n",
        "            self.early_stop = True\n",
        "        else:\n",
        "            # Continue\n",
        "            self.early_stop = False"
      ],
      "metadata": {
        "id": "KKNqhiB1W-hS"
      },
      "execution_count": 41,
      "outputs": []
    },
    {
      "cell_type": "code",
      "source": [
        "LR = 1e-3\n",
        "optimizer = optim.Adam(model.parameters(), lr=LR)\n",
        "loss_fn = nn.CrossEntropyLoss()\n",
        "es = EarlyStopping(patience=5, delta=0.001, mode='min', verbose=True)\n",
        "scheduler = optim.lr_scheduler.ReduceLROnPlateau(optimizer, mode='min', factor=0.5, patience=2, threshold_mode='abs', min_lr=1e-8, verbose=True)"
      ],
      "metadata": {
        "id": "cyJi-J-sW-ee"
      },
      "execution_count": 42,
      "outputs": []
    },
    {
      "cell_type": "markdown",
      "source": [
        "# 학습 loop 만들기"
      ],
      "metadata": {
        "id": "1Ql0nXlWYCyi"
      }
    },
    {
      "cell_type": "code",
      "source": [
        "def train(model, data_loader, optimizer, loss_fn, device):\n",
        "    model.train()\n",
        "    running_loss = 0\n",
        "\n",
        "    for x, y in data_loader:\n",
        "        x, y = x.to(device), y.to(device)\n",
        "\n",
        "        optimizer.zero_grad()\n",
        "\n",
        "        # output: (batch_size, sequence_length, num_vocabs)\n",
        "        output = model(x, y)\n",
        "        output_dim = output.size(2)\n",
        "\n",
        "        # 1번 index 부터 슬라이싱한 이유는 0번 index가 SOS TOKEN 이기 때문\n",
        "        # (batch_size*sequence_length, num_vocabs) 로 변경\n",
        "        output = output.reshape(-1, output_dim)\n",
        "\n",
        "        # (batch_size*sequence_length) 로 변경\n",
        "        y = y.view(-1)\n",
        "\n",
        "        # Loss 계산\n",
        "        loss = loss_fn(output, y)\n",
        "        loss.backward()\n",
        "        optimizer.step()\n",
        "\n",
        "        running_loss += loss.item() * x.size(0)\n",
        "\n",
        "    return running_loss / len(data_loader)"
      ],
      "metadata": {
        "id": "8kpqXIFzVw7x"
      },
      "execution_count": 43,
      "outputs": []
    },
    {
      "cell_type": "code",
      "source": [
        "def evaluate(model, data_loader, loss_fn, device):\n",
        "    model.eval()\n",
        "\n",
        "    eval_loss = 0\n",
        "\n",
        "    with torch.no_grad():\n",
        "        for x, y in data_loader:\n",
        "            x, y = x.to(device), y.to(device)\n",
        "            output = model(x, y)\n",
        "            output_dim = output.size(2)\n",
        "            output = output.reshape(-1, output_dim)\n",
        "            y = y.view(-1)\n",
        "\n",
        "            # Loss 계산\n",
        "            loss = loss_fn(output, y)\n",
        "\n",
        "            eval_loss += loss.item() * x.size(0)\n",
        "\n",
        "    return eval_loss / len(data_loader)"
      ],
      "metadata": {
        "id": "GMSKIYG_YCNa"
      },
      "execution_count": 44,
      "outputs": []
    },
    {
      "cell_type": "markdown",
      "source": [
        "# 추론 함수"
      ],
      "metadata": {
        "id": "DdudDwwdYRiR"
      }
    },
    {
      "cell_type": "code",
      "source": [
        "def sequence_to_sentence(sequences, index2word):\n",
        "    outputs = []\n",
        "    for p in sequences:\n",
        "\n",
        "        word = index2word[p]\n",
        "        if p not in [SOS_TOKEN, EOS_TOKEN, PAD_TOKEN]:\n",
        "            outputs.append(word)\n",
        "        if word == EOS_TOKEN:\n",
        "            break\n",
        "    return ' '.join(outputs)"
      ],
      "metadata": {
        "id": "H0YOB9zbYCKs"
      },
      "execution_count": 45,
      "outputs": []
    },
    {
      "cell_type": "code",
      "source": [
        "!git clone https://github.com/ssut/py-hanspell.git\n",
        "!cd py-hanspell\n",
        "!pip install py-hanspell/"
      ],
      "metadata": {
        "colab": {
          "base_uri": "https://localhost:8080/"
        },
        "id": "qY1kw3jrc27G",
        "outputId": "247c5b89-46ab-4d08-aaf7-9230541f1945"
      },
      "execution_count": 46,
      "outputs": [
        {
          "output_type": "stream",
          "name": "stdout",
          "text": [
            "fatal: destination path 'py-hanspell' already exists and is not an empty directory.\n",
            "Processing ./py-hanspell\n",
            "  Preparing metadata (setup.py) ... \u001b[?25l\u001b[?25hdone\n",
            "Requirement already satisfied: requests in /usr/local/lib/python3.10/dist-packages (from py-hanspell==1.1) (2.31.0)\n",
            "Requirement already satisfied: charset-normalizer<4,>=2 in /usr/local/lib/python3.10/dist-packages (from requests->py-hanspell==1.1) (3.2.0)\n",
            "Requirement already satisfied: idna<4,>=2.5 in /usr/local/lib/python3.10/dist-packages (from requests->py-hanspell==1.1) (3.4)\n",
            "Requirement already satisfied: urllib3<3,>=1.21.1 in /usr/local/lib/python3.10/dist-packages (from requests->py-hanspell==1.1) (2.0.4)\n",
            "Requirement already satisfied: certifi>=2017.4.17 in /usr/local/lib/python3.10/dist-packages (from requests->py-hanspell==1.1) (2023.7.22)\n",
            "Building wheels for collected packages: py-hanspell\n",
            "  Building wheel for py-hanspell (setup.py) ... \u001b[?25l\u001b[?25hdone\n",
            "  Created wheel for py-hanspell: filename=py_hanspell-1.1-py3-none-any.whl size=4813 sha256=955e425207e43cd12583609ed9e6cc813ee679fa38ce100aa8a5f54a58dcea0e\n",
            "  Stored in directory: /root/.cache/pip/wheels/a3/a7/16/8db596361f402638188412108152b8fbf6db76c898e00fe02d\n",
            "Successfully built py-hanspell\n",
            "Installing collected packages: py-hanspell\n",
            "  Attempting uninstall: py-hanspell\n",
            "    Found existing installation: py-hanspell 1.1\n",
            "    Uninstalling py-hanspell-1.1:\n",
            "      Successfully uninstalled py-hanspell-1.1\n",
            "Successfully installed py-hanspell-1.1\n"
          ]
        }
      ]
    },
    {
      "cell_type": "code",
      "source": [
        "from hanspell import spell_checker\n",
        "def correct_spell(text):\n",
        "    if isinstance(text, str):  # 입력 데이터가 문자열인 경우에만 맞춤법 검사 수행\n",
        "        corrected_text = spell_checker.check(text).checked\n",
        "        return corrected_text\n",
        "    else:\n",
        "        return text"
      ],
      "metadata": {
        "id": "0W0vxBzLc27H"
      },
      "execution_count": 47,
      "outputs": []
    },
    {
      "cell_type": "markdown",
      "source": [
        "# 테스트 loop 만들기\n",
        "- 챗봇 함수화"
      ],
      "metadata": {
        "id": "GLiga1pBYKCX"
      }
    },
    {
      "cell_type": "code",
      "source": [
        "# 전체 예측값을 데이터프레임 형식에 담기\n",
        "def random_evaluation(model, dataset, index2word, device, n=10):\n",
        "\n",
        "    n_samples = len(dataset)\n",
        "    indices = list(range(n_samples))\n",
        "    np.random.shuffle(indices)      # Shuffle\n",
        "    sampled_indices = indices[:n]   # Sampling N indices\n",
        "\n",
        "    # 샘플링한 데이터를 기반으로 DataLoader 생성\n",
        "    sampler = SubsetRandomSampler(sampled_indices)\n",
        "    sampled_dataloader = DataLoader(dataset, batch_size=10, sampler=sampler)\n",
        "\n",
        "    model.eval()\n",
        "    with torch.no_grad():\n",
        "        for x, y in sampled_dataloader:\n",
        "            x, y = x.to(device), y.to(device)\n",
        "            output = model(x, y, teacher_forcing_ratio=0)\n",
        "            # output: (number of samples, sequence_length, num_vocabs)\n",
        "\n",
        "            preds = output.detach().cpu().numpy()\n",
        "            x = x.detach().cpu().numpy()\n",
        "            y = y.detach().cpu().numpy()\n",
        "\n",
        "            data = {'test_review': [], 'chatbot_reply': []}\n",
        "            for i in range(n_samples):\n",
        "                x_result = sequence_to_sentence(x[i], index2word)\n",
        "                y_result = sequence_to_sentence(y[i], index2word)\n",
        "                pred_result = sequence_to_sentence(preds[i].argmax(1), index2word)\n",
        "                pred_result_correct = correct_spell(pred_result)\n",
        "                data['test_review'].append(x_result)\n",
        "                data['chatbot_reply'].append(pred_result_correct)\n",
        "\n",
        "    df = pd.DataFrame(data)\n",
        "    print(df)"
      ],
      "metadata": {
        "id": "_jSoWiaDdgvi"
      },
      "execution_count": 48,
      "outputs": []
    },
    {
      "cell_type": "code",
      "source": [
        "from nltk.translate.bleu_score import sentence_bleu\n",
        "\n",
        "def calculate_bleu(text, generated_text):\n",
        "    y = [text]  # 실제 데이터 y\n",
        "    X = generated_text  # 생성된 텍스트 X\n",
        "\n",
        "    # BLEU 점수 계산\n",
        "    bleu_score = sentence_bleu(y, X)\n",
        "    return bleu_score"
      ],
      "metadata": {
        "id": "biYWFlxxX_8T"
      },
      "execution_count": 49,
      "outputs": []
    },
    {
      "cell_type": "code",
      "source": [
        "# 10개만 보기\n",
        "def random_evaluation_10(model, dataset, index2word, device, n=10):\n",
        "\n",
        "    n_samples = len(dataset)\n",
        "    indices = list(range(n_samples))\n",
        "    np.random.shuffle(indices)      # Shuffle\n",
        "    sampled_indices = indices[:n]   # Sampling N indices\n",
        "\n",
        "    # 샘플링한 데이터를 기반으로 DataLoader 생성\n",
        "    sampler = SubsetRandomSampler(sampled_indices)\n",
        "    sampled_dataloader = DataLoader(dataset, batch_size=10, sampler=sampler)\n",
        "\n",
        "    model.eval()\n",
        "    with torch.no_grad():\n",
        "        for x, y in sampled_dataloader:\n",
        "            x, y = x.to(device), y.to(device)\n",
        "            output = model(x, y, teacher_forcing_ratio=0)\n",
        "            # output: (number of samples, sequence_length, num_vocabs)\n",
        "\n",
        "            preds = output.detach().cpu().numpy()\n",
        "            x = x.detach().cpu().numpy()\n",
        "            y = y.detach().cpu().numpy()\n",
        "\n",
        "            for i in range(n):\n",
        "                result_review = sequence_to_sentence(x[i], index2word)\n",
        "                result_reply = sequence_to_sentence(y[i], index2word)\n",
        "                result_pred = sequence_to_sentence(preds[i].argmax(1), index2word)\n",
        "                print(f'리뷰    : {result_review}')\n",
        "                print(f'답변    : {result_reply}')\n",
        "                print(f'예측답변: {correct_spell(result_pred)}')\n",
        "                print(f'BLEU점수: {calculate_bleu(result_reply, result_pred)}')\n",
        "                print('==='*10)"
      ],
      "metadata": {
        "id": "AvWzcUC5YCH-"
      },
      "execution_count": 50,
      "outputs": []
    },
    {
      "cell_type": "markdown",
      "source": [
        "# 학습하기"
      ],
      "metadata": {
        "id": "5GY8zZX4clM0"
      }
    },
    {
      "cell_type": "code",
      "source": [
        "# yogiyo_paraphrase\n",
        "NUM_EPOCHS = 20\n",
        "STATEDICT_PATH = '/content/drive/MyDrive/project_final/data/models/yogiyo_paraphrase.pt'\n",
        "\n",
        "best_loss = np.inf\n",
        "\n",
        "for epoch in tqdm(range(NUM_EPOCHS), total=NUM_EPOCHS):\n",
        "    loss = train(model, train_loader, optimizer, loss_fn, device)\n",
        "\n",
        "    val_loss = evaluate(model, test_loader, loss_fn, device)\n",
        "\n",
        "    if val_loss < best_loss:\n",
        "        best_loss = val_loss\n",
        "        torch.save(model.state_dict(), STATEDICT_PATH)\n",
        "\n",
        "    if epoch % 5 == 0:\n",
        "        print(f'epoch: {epoch+1}, loss: {loss:.4f}, val_loss: {val_loss:.4f}')\n",
        "\n",
        "    # Early Stop\n",
        "    es(loss)\n",
        "    if es.early_stop:\n",
        "        break\n",
        "\n",
        "    # Scheduler\n",
        "    scheduler.step(val_loss)\n",
        "\n",
        "model.load_state_dict(torch.load(STATEDICT_PATH))\n",
        "torch.save(model.state_dict(), f'/content/drive/MyDrive/project_final/data/models/yogiyo_paraphrase{best_loss:.4f}.pt')"
      ],
      "metadata": {
        "colab": {
          "base_uri": "https://localhost:8080/",
          "height": 581,
          "referenced_widgets": [
            "e441fefb5c4c434e928935e9d69d1512",
            "1f713f1cecbe427c91fc3d5edb783b99",
            "98cba574f74545b0871dee6515672f8d",
            "4c04726087f743d5ada23905dfe4a406",
            "0ba56457bb41469281c9e9a4d74c5e69",
            "5a5fa32d591f4cbb893e54b23e954d9f",
            "026408a0181a458d81d9db062445d5ee",
            "9af4e59b7f7d4be4b0a01e2377681b89",
            "a169296657e1458d859598f23c9dcc44",
            "66d4a29375fb474581e36eea75c97d15",
            "16cd75f8c9bf40bd865acfa2c9467228"
          ]
        },
        "id": "bcyiSqKYZKXT",
        "outputId": "0d017eab-de77-4e6d-a4e7-336cbe6309e5"
      },
      "execution_count": 51,
      "outputs": [
        {
          "output_type": "display_data",
          "data": {
            "text/plain": [
              "  0%|          | 0/20 [00:00<?, ?it/s]"
            ],
            "application/vnd.jupyter.widget-view+json": {
              "version_major": 2,
              "version_minor": 0,
              "model_id": "e441fefb5c4c434e928935e9d69d1512"
            }
          },
          "metadata": {}
        },
        {
          "output_type": "stream",
          "name": "stdout",
          "text": [
            "epoch: 1, loss: 79.5517, val_loss: 64.7468\n",
            "[EarlyStopping] (Update) Best Score: 79.55168\n",
            "[EarlyStopping] (Update) Best Score: 57.83777\n",
            "[EarlyStopping] (Update) Best Score: 51.04923\n",
            "[EarlyStopping] (Update) Best Score: 46.54832\n",
            "[EarlyStopping] (Update) Best Score: 43.59740\n",
            "epoch: 6, loss: 39.5366, val_loss: 51.5719\n",
            "[EarlyStopping] (Update) Best Score: 39.53658\n",
            "[EarlyStopping] (Update) Best Score: 37.41048\n",
            "[EarlyStopping] (Update) Best Score: 34.78471\n",
            "Epoch 00008: reducing learning rate of group 0 to 5.0000e-04.\n",
            "[EarlyStopping] (Update) Best Score: 30.78729\n",
            "[EarlyStopping] (Update) Best Score: 28.13335\n",
            "epoch: 11, loss: 26.7883, val_loss: 53.7014\n",
            "[EarlyStopping] (Update) Best Score: 26.78833\n",
            "Epoch 00011: reducing learning rate of group 0 to 2.5000e-04.\n",
            "[EarlyStopping] (Update) Best Score: 24.41597\n",
            "[EarlyStopping] (Update) Best Score: 23.49104\n",
            "[EarlyStopping] (Update) Best Score: 22.50856\n",
            "Epoch 00014: reducing learning rate of group 0 to 1.2500e-04.\n",
            "[EarlyStopping] (Update) Best Score: 21.37438\n",
            "epoch: 16, loss: 20.9304, val_loss: 55.1212\n",
            "[EarlyStopping] (Update) Best Score: 20.93044\n",
            "[EarlyStopping] (Update) Best Score: 20.46562\n",
            "Epoch 00017: reducing learning rate of group 0 to 6.2500e-05.\n",
            "[EarlyStopping] (Update) Best Score: 19.79198\n",
            "[EarlyStopping] (Update) Best Score: 19.52117\n",
            "[EarlyStopping] (Update) Best Score: 19.33107\n",
            "Epoch 00020: reducing learning rate of group 0 to 3.1250e-05.\n"
          ]
        }
      ]
    },
    {
      "cell_type": "markdown",
      "source": [
        "# 결과 확인하기"
      ],
      "metadata": {
        "id": "z6dqkRwEa8qL"
      }
    },
    {
      "cell_type": "code",
      "source": [
        "# yogiyo 전체데이터 모델링\n",
        "STATEDICT_PATH = '/content/drive/MyDrive/project_final/data/models/yogiyo_paraphrase.pt'\n",
        "model.load_state_dict(torch.load(STATEDICT_PATH))\n",
        "random_evaluation_10(model, test_dataset, dataset.wordvocab.index2word, device)"
      ],
      "metadata": {
        "colab": {
          "base_uri": "https://localhost:8080/"
        },
        "id": "QM_XBLmJ5lCu",
        "outputId": "150344fa-b124-439a-be20-eba9024d3a2d"
      },
      "execution_count": 67,
      "outputs": [
        {
          "output_type": "stream",
          "name": "stdout",
          "text": [
            "리뷰    : 먹을만 합니다 추천 해 요\n",
            "답변    : 좋은 리뷰 감사 드립니다 저희 은 리뷰 평점 이나 표면 적 으로만 좋은 집 이 아닌 드셧 던 분들 이 믿고 다시 드시고싶은 집 이 되자 라는 마음 으로 모두 가\n",
            "예측답변: 고객 님 소중한 고객 네 이 이임 이임 맛있게 드셨다니 너 어어 어 무 기쁜 네 용 만족스러운 식사하셨다면에 용 만족스러운 식사하셨다면 찜 가\n",
            "BLEU점수: 1.7456357302038282e-78\n",
            "==============================\n",
            "리뷰    : 여친 이 너무 맛있게 잘 먹었답니다 감사합니다 사장 님 번창 하세요\n",
            "답변    : 안녕하세요 토핑 을 아끼지 않는 미 미 주문 주시 고 리뷰 로 찾아와 주셔서 정말 감사 드립니다 앞 으로도 맛있는 생각나실 때 저희 미 또 찾아주세요 감사합니다\n",
            "예측답변: 맛있게 드셔주셔서 감사합니다 요청 사항 은 조 리전 늘 꼼꼼하게 체크하고 있으니 필요하신 사항 있으시면 다음 주 문 시 주 문 메모에 남겨주세요 최대한 반영해서 보내 드리겠습니다 믿고 주문해\n",
            "BLEU점수: 0.1556563403952443\n",
            "==============================\n",
            "리뷰    : 주말 의 마무리 는 역시\n",
            "답변    : 고객 님 리뷰 에 몸 이 절로 들썩입니다 시간 날 때 마다 리뷰 훑어 보며 반응 살피 고 있는데 덕분 에 넘 힘 이나고 힐링 이 되네요 리뷰 너무 감사 드립니다\n",
            "예측답변: 안녕하세요 고객 님 소중한 리뷰 남겨주셔서 감사합니다 저희 큰아들 백 순대는 항상 맛있는 서비스를 해드리기 위해 서 노력하고 있습니다 사용되는 모든 곱창 은 국내 산 제 주산\n",
            "BLEU점수: 0.12288378213016357\n",
            "==============================\n",
            "리뷰    : 고기 가 맛있어요 사장 님 이 서비스 로 쌈장 도 주셨어요 배달 도 예상 시간 보다 빠흐 게 옵니다\n",
            "답변    : 저희 목살 만족스럽고 맛있게 잘 드셨다니 기쁩니다 소중한 리뷰 와 저희 에게 큰 힘 을 주는 좋은 평가 남겨 주셔서 정말 감사 드립니다 무더운 날씨 에 건강 잘 지키시고 오늘 도\n",
            "예측답변: 맛있게 드셔 주시 고 소중한 리뷰 남겨주셔서 감사합니다 만족스러운 식사하신 것 같아 오늘 도 힘 이 나네요 항상 정성을 담아 조리하여 더 좋은 맛으로 더 빠른 시간\n",
            "BLEU점수: 0.28770485502337556\n",
            "==============================\n",
            "리뷰    : 더말 할거 없이 맛 나 요\n",
            "답변    : 안녕하세요 저희 음식 이 입맛 에 맞으셨다니 정말 다행 이고 뿌듯합니다 코로나 로 인해 어려운시기에 찾아주셔서 감사하고 큰 힘 이 나네요 더말 할거 없이 맛있게 드신거 같아 감사합니다 다음주 문도 찾아주시는\n",
            "예측답변: 맛있게 드셔주셔서 감사드립니다 항상 푸 짐 하고 맛있는 음식으로 정성을 다 하겠습니다 맛 가성 비 다양성 어느 하나 빠짐없이 항상 맛있고 항상 부담 없는 김천 재의 앞\n",
            "BLEU점수: 0.18136401263866778\n",
            "==============================\n",
            "리뷰    : 먹을만 합니다 추천 해 요\n",
            "답변    : 소중한 주문 과 추천 리뷰 감사합니다 디져트 생각나실 때 또 모댄버 찾아 주시길 살포시 부탁드리며 즐거운 주말 보내세요\n",
            "예측답변: 고객 님 소중한 고객 네 이 이임 이임 맛있게 드셨다니 너 어어 어 무 기쁜 네 용 만족스러운 식사하셨다면에 용 만족스러운 식사하셨다면 찜 가\n",
            "BLEU점수: 0.046720072875303956\n",
            "==============================\n",
            "리뷰    : 집 에 부모님 만 계셔서 시켜 드렸는데 너무 잘 드셨다고 하네요 다음 에 또 아침 으로 먹어야겠어요\n",
            "답변    : 오늘 가장 기쁜 말씀 입니다 고객 님 의 칭찬 에 오늘 하루 가 행복해 집니다 그 댄 내게 행복 을 주는 사람 다음 에 또 뵙겠습니다 브런치 가 생각나실 때 다시\n",
            "예측답변: 저희 찾아주셔서 감사드립니다 고객 님의 정성스러운 리뷰에 감동입니다 앞으로도 저희 초심을 잃지 않고 최선을 다 하는 되겠습니다 좋은 하루 보내세요\n",
            "BLEU점수: 0.2561395183694013\n",
            "==============================\n",
            "리뷰    : 사장 님 제 정신 이세 요 이렇게 맛있는데 왜 이제야 오픈 하셨어요 진짜 정신 나갈 정도 로 맛있네 조만간 또 시킵니다 예 제 가 말 했어요 또 시킬거라고\n",
            "답변    : 안녕하세요 저희 라쿤 핏 바베큐 주문 해주셔서 감사합니다 고객 님 으로 리뷰 를 남겨주셨네요 맛있다고 칭찬 리뷰 적어주시니 너무 기쁩니다 앞 으로도 자주 뵈요 약속 하시는 겁니다 감사합니다 저희 라쿤 핏\n",
            "예측답변: 주문해 주셔서 감사합니다 언제나 맛있게 정성스럽게 만들어 보내 드립니다 맛있는 롤 이 생각 나시면 언제 든 연락 부탁드립니다 고맙습니다\n",
            "BLEU점수: 0.1523948989633799\n",
            "==============================\n",
            "리뷰    : 직접 포장 하러 갔다 사장 님 친절하도 맛 도 최고\n",
            "답변    : 안녕하세요 저희 는 늘 더욱더 나은 맛 과 서비스 어떻게 제공 해 드릴 지 연구 하며 발전 하려 애쓰고 있습니다 저희 노력 이 담긴 결과물 이니 드시고 매번 행복하셨으면 좋겠습니다 즐거운\n",
            "예측답변: 맛있게 드셨다니 저희 도 기분 이 좋습니다 정성스러운 리뷰 도 너무 감사드립니다 앞으로도 더 맛있는 파스타 제공 드릴 수 있도록 직원분들 과 함께 신경 쓰고 노력하겠습니다\n",
            "BLEU점수: 0.20655466685947044\n",
            "==============================\n",
            "리뷰    : 처음 먹어 보늅데 맛 이 담백하고 좋아요\n",
            "답변    : 리뷰 감사합니다 키토 김밥 이 처음 이신 데 성공 적 이 셔 서 다행 입니다 앞 으로도 많은 사랑 부탁 드려요\n",
            "예측답변: 소중한 리뷰 감사합니다 저희 저 온 숙성 유기농 5 곡 도우 귀리 흑 미 현미 보리 밀 자연 산 치즈 와 신선한 재료를 매일 손질하여 토핑 하고 있습니다 재료\n",
            "BLEU점수: 0.1267739972573719\n",
            "==============================\n"
          ]
        }
      ]
    },
    {
      "cell_type": "code",
      "source": [
        "# yogiyo 전체데이터 모델링\n",
        "STATEDICT_OV_PATH = '/content/drive/MyDrive/project_final/data/models/yogiyo_paraphrase_clean.pt'\n",
        "model.load_state_dict(torch.load(STATEDICT_OV_PATH))\n",
        "random_evaluation_10(model, test_dataset, train_dataset.wordvocab.index2word, device)"
      ],
      "metadata": {
        "colab": {
          "base_uri": "https://localhost:8080/"
        },
        "id": "BUZV2McfZPoS",
        "outputId": "0aca32dd-a0ee-4c5b-e37f-20e14c5b897b"
      },
      "execution_count": null,
      "outputs": [
        {
          "output_type": "stream",
          "name": "stdout",
          "text": [
            "리뷰    : 주문 에 후라이드 잇 슈가 있었지만 다 맛있었습니다\n",
            "답변    : 저희 을 항상 찾아주시고 성원 해주시는 분 들 께 감사 의 뜻 을 전하 고 싶을 만큼 귀한 시간 내어 주셔서 감사합니다 .\n",
            "예측답변: 항상 저희 직구 삼이 직구 삼이 되도록 노력 직구 삼이 되도록 노력 하겠습니다 감사합니다 .\n",
            "BLEU점수: 0.14828218247800706\n",
            "==============================\n",
            "리뷰    : 맛있습니다 배달 도 빠르고 양도 많아오\n",
            "답변    : 항상 건강하고 행복한 나날 들 이 되시길 기원 합니다 . 고객 님 들의 소중한 정보 감사 드립니다 .\n",
            "예측답변: 항상 건강하고 행복한 나날 들 이 되시길 기원 합니다 .\n",
            "BLEU점수: 0.4464393987758162\n",
            "==============================\n",
            "리뷰    : 디저트 하나 하나 다 맛있어요 휘 낭시 에 랑 소금 빵 완전 맛있어요 이 즈 니 버터 프레첼 은 팥 앙금 들어있는건 줄 알았는데 다시 보니 아니더라 규 요 그치만 이\n",
            "답변    : 이 즈 니 버터 프리첼 의 팥 앙금 버전 앙 버터 도 뚜레쥬르 팀 에 제안 해 보겠습니다 .\n",
            "예측답변: 이 즈 니 버터 프리첼 의 팥 앙금 버전 앙 버터 도 뚜레쥬르 팀 에 제안 해 보겠습니다 .\n",
            "BLEU점수: 1.0\n",
            "==============================\n",
            "리뷰    : 국물 이 깔끔하고 맛있어요 또 먹고 싶은 맛 이네 요\n",
            "답변    : 저희 국밥 을 많이 사랑 해 주세요 :) 항상 최선 을 다해 준비 하는 만큼 더 좋은 맛 과 영양 으로 보답 하겠습니다 .\n",
            "예측답변: 저희 국밥 을 많이 사랑 해 주세요 :) 항상 최선 을 다해 준비 하는 만큼 더 좋은 맛 과 영양 으로 보답 하겠습니다 .\n",
            "BLEU점수: 1.0\n",
            "==============================\n",
            "리뷰    : 커피 도 부드럽고 다 맛 나네요 잘 먹었습니다\n",
            "답변    : 항상 정갈한 브런치 맛있는 브런치 준비 하고 고객 님 기다릴게요 곧 또 만나요 그때 까지 행복한 시간 되세요 .\n",
            "예측답변: 항상 정갈한 브런치 는 브런치 준비 가 준비 기다릴게요 기다릴게요 곧 또 찾아주세요 행복한 하루 되세요 .\n",
            "BLEU점수: 0.5833316665807692\n",
            "==============================\n",
            "리뷰    : 맛 잇어요 근데 3 단계 인데 하나 도 안 매워요 마라 탕 매운 맛 에 먹는데 불닭 정도 생각 하고 시켰는데 제 기준 신라면 도 안되는것 같은 담 엔 4 단계\n",
            "답변    : 항상 최선 을 다해 요리 해 드리고 있으니 다음 에도 또 좋은 요리 로 찾아오겠습니다 .\n",
            "예측답변: 항상 최선 을 다해 준비 해 드리고 있으니 다음 에도 또 주문 해 주세요 .\n",
            "BLEU점수: 0.5898489463407574\n",
            "==============================\n",
            "리뷰    : 오랫 만 에 시켰는데 전보 다 더 맛있어진것 같아요 당 땡겨서 시켰는데 제대로 충전 됐어요\n",
            "답변    : 무더운 여름 날 에 더 맛있게 드실 수 있는 만들어 보겠습니다 .\n",
            "예측답변: 무더운 여름 날 에 더 맛있게 드실 수 있는 요리 으로 만들어 보겠습니다 .\n",
            "BLEU점수: 0.8322850781571215\n",
            "==============================\n",
            "리뷰    : 진짜 이 동네 에서 젤 맛있는것 같아요\n",
            "답변    : 항상 노력 하는 만큼 더 좋은 요리 로 보답 하겠습니다 . 감사합니다 .\n",
            "예측답변: 항상 노력 하는 만큼 더 좋은 요리 로 보답 하겠습니다 . 감사합니다 .\n",
            "BLEU점수: 1.0\n",
            "==============================\n",
            "리뷰    : 분량 도 넉넉하고 맛 도 좋습니다\n",
            "답변    : 항상 고객 님 들께 감사 의 마음 을 전하 며 맛있는 음식 을 만들어 드리는 되 기를 기원 합니다 .\n",
            "예측답변: 항상 고객 님 들께 감사 의 마음 을 전하 며 맛있는 음식 을 만들어 드리는 되 기를 기원 합니다 .\n",
            "BLEU점수: 1.0\n",
            "==============================\n",
            "리뷰    : 맛있어요 양도 많고 서비스 도 주시 고\n",
            "답변    : 좋은 서비스 를 제공 해 주신 만큼 앞 으로도 좋은 서비스 로 찾아 뵐게요 감사합니다 .\n",
            "예측답변: 좋은 서비스 를 제공 해 주신 고객 님 께 감사 의 마음 을 전하 고 앞 으로도 더 좋은 요리 와 서비스 로 찾아 뵙겠습니다 .\n",
            "BLEU점수: 0.5060228739223169\n",
            "==============================\n"
          ]
        }
      ]
    },
    {
      "cell_type": "code",
      "source": [
        "# # yogiyo 전체데이터 모델링\n",
        "# STATEDICT_PATH = '/content/drive/MyDrive/project_final/data/models/yogiyo_clean.pt'\n",
        "# model.load_state_dict(torch.load(STATEDICT_PATH))\n",
        "# random_evaluation_10(model, test_dataset, dataset.wordvocab.index2word, device)"
      ],
      "metadata": {
        "colab": {
          "base_uri": "https://localhost:8080/"
        },
        "id": "mQcpuYReYCDE",
        "outputId": "ad636915-c9bd-4eb0-c0cc-8efdd3405570"
      },
      "execution_count": null,
      "outputs": [
        {
          "output_type": "stream",
          "name": "stdout",
          "text": [
            "질문   : 진한 미역국 한 그릇 맛있게 먹었습니다\n",
            "답변   : 안녕하세요 맛 나게 드셨다니 정말 감사합니다 뚝배기 한 그릇 씩 조리 하고 있어서 재료 양 맛 의 풍 미 식감 등등 을 항상 일정하게 조리 할수\n",
            "예측답변: 감사합니다 좋은 휴일 되십시요\n",
            "==============================\n",
            "질문   : 맛 나게 잘먹엇슴돠 감사함 돠\n",
            "답변   : 저희 목살 맛있게 잘 드셨다니 기쁘고 힘 이 납니다 소중한 리뷰 와 저희 에게 큰 힘 이 되는 좋은 평가 도 남겨 주셔서 정말 감사 드립니다\n",
            "예측답변: 고객 님 주문 해 주셔서 감사합니다 맛있게 드시고 예쁜 리뷰 남겨주셔서 감사해요 피스타치오 가 갈리는 품목 이 프루타 과일 과 디저트 로 비타민 충전\n",
            "==============================\n",
            "질문   : 포장 이 너무 예뻐요 진짜 가서 먹는듯 한 플레이 팅 파스타 에 마늘 이 듬뿍 들어있더라고요 역시 마늘 의 민족 미트볼 이랑 가라 아케 도 맛있었어요\n",
            "답변   : 명작 파스타 입니다 맛있게 드셨다니 저희 도 기분 이 좋습니다 정성스런 리뷰 도 너무 감사 드립니다 앞 으로도 더 맛있는 파스타 제공 드릴 수 있도록 직원\n",
            "예측답변: 감사합니다 좋은 밤 되세요\n",
            "==============================\n",
            "질문   : 어렸을 때 부터 시켜 먹던 오래된 맛집 이 예요 맛있고 배달 도 빠르고 좋습니다\n",
            "답변   : 안녕하세요 좋은 기억 의 만다린 이네요 감사 드립니다 계속 섬심 성의 를 다해 모시겠습니다 건강하세요\n",
            "예측답변: 안녕하세요 마라하 오죽 전 점 입니다 주문 해주시고 잘 드셔주셔서 정말 감사해요 덕분 에 행복지수 마구 상승 하네요 저희 음식 드시면서 힘 많이 내셨음 좋겠습니다 즐거운\n",
            "==============================\n",
            "질문   : 분식점 으로 충실한 그 맛 식후감\n",
            "답변   : 짧지만 강렬한 리뷰 감사 드립니다 깨 돌이 김밥 의 떡볶이 소스 는 캡사이신 이 들어가지 않습니다 고추장 과 청양고추 가루 로 매운 맛 을 내서 추억\n",
            "예측답변: 감사합니다 좋은 밤 되세요\n",
            "==============================\n",
            "질문   : 국밥 집 중 에 젤 맛있어요 굿\n",
            "답변   : 고객 님 소중한 고객 니 이 이임 국밥 집 중 에 젤 맛있다니 지금 까지 본 리뷰 중 에 제일 뿌듯하고 힘 이 나 는 말이네요\n",
            "예측답변: 감사합니다 좋은 하루 되세요\n",
            "==============================\n",
            "질문   : 너무 맛있게 먹었고 배달 도 빨라요 다음 에 또 시킬게요 식후감\n",
            "답변   : 안녕하세요 다음 에도 맛있는 샐러드 전달 드리겠습니다\n",
            "예측답변: 감사합니다 좋은 밤 되세요\n",
            "==============================\n",
            "질문   : 배달 도 빠르고 맛있게 잘 먹었습니다 볶음밥 에 새우 가 많아서 좋아요\n",
            "답변   : 안녕하세요 마라하 오죽 전 점 입니다 주문 해주시고 잘 드셔주셔서 정말 감사해요 덕분 에 행복지수 마구 상승 하네요 저희 음식 드시면서 힘 많이 내셨음 좋겠습니다 즐거운\n",
            "예측답변: 소중한 리뷰 감사합니다 저희 밈피자 는 저 온 숙성 유기농 5 곡 도우 귀리 흑 미 현미 보리 밀 자연 산 치즈 와 신선한 재료 를\n",
            "==============================\n",
            "질문   : 스파게티 서비스 감사합니다 피자 도 다 맛있네요\n",
            "답변   : 안녕하세요 프 라텔 로 입니다 저희 프 라텔 로 를 이용 해주셔서 정말 감사 드립니다 앞 으로도 맛있는 한 끼 책임지겠습니다 자주 이용 부탁드려요\n",
            "예측답변: 감사합니다 좋은 밤 되세요\n",
            "==============================\n",
            "질문   : 배달 도 빠르고 너무 맛있게 먹었습니다\n",
            "답변   : 저희 모모 타코 청주 점 을 찾아주셔서 너무 감사 드려요 더 발전 하는 모모 가 되겠습니다 감사합니다 타코야끼 생각나실 때 마다 저희 모모 타코 잊지말고 찾아주셔요\n",
            "예측답변: 감사합니다 좋은 밤 되세요\n",
            "==============================\n"
          ]
        }
      ]
    },
    {
      "cell_type": "code",
      "source": [
        "# # yogiyo 오버샘플 모델링(18000개 데이터)\n",
        "# STATEDICT_OV_PATH = '/content/drive/MyDrive/project_final/data/models/yogiyo_OV_clean.pt'\n",
        "# model.load_state_dict(torch.load(STATEDICT_OV_PATH))\n",
        "# random_evaluation_10(model, test_dataset, dataset.wordvocab.index2word, device)"
      ],
      "metadata": {
        "colab": {
          "base_uri": "https://localhost:8080/"
        },
        "id": "JX8mOEDcl6dj",
        "outputId": "415a16d7-6fe1-43f0-8110-f4bdf4a02a7b"
      },
      "execution_count": null,
      "outputs": [
        {
          "output_type": "stream",
          "name": "stdout",
          "text": [
            "질문   : 이 걸 뭐라고 해야 할지 아직도 안 왔네요 배달 예 정시 간 이 30분 인데 65분 지나도 안 옴\n",
            "답변   : 배송 이 늦어진 부분 정말 죄송합니다 조리 는 빨리 되나 저희 가 이용 하고 있는 배달 대행 업체 의 문제 로 피크타임 배송 이 늦는 경우\n",
            "예측답변: 배송 이 늦어진 부분 정말 죄송합니다 조리 는 빨리 되나 저희 가 이용 하고 있는 배달 대행 업체 의 문제 로 피크타임 배송 이 늦는 경우\n",
            "==============================\n",
            "질문   : 음식 의 양은 많지만 맛 이 있지는 않네요 다 못 먹고 남겼습니다 사진 에 있는게 다 남은 음식 이에요 특히 절 인 양파 는 무슨 맛\n",
            "답변   : 안녕하세요 고객 님 정말 정말 죄송합니다 부족한 부분 으로 실망 시켜 드린 점 사과 드리며 항상 저희 는 리뷰 덕분 에 더욱 책임감 을 갖게 되는데요\n",
            "예측답변: 안녕하세요 고객 님 정말 정말 죄송합니다 부족한 부분 으로 실망 시켜 드린 점 사과 드리며 항상 저희 는 리뷰 덕분 에 더욱 책임감 을 갖게 되는데요\n",
            "==============================\n",
            "질문   : 이렇게 왔네요 기분 나빠서 버렸어요\n",
            "답변   : 왕 빈자 삼파전 입니다 고객 님 믿고 주문 해주셨는데 불편 을 드려서 죄송합니다 항상 기본 적 으로 제일 신경 쓰고 있는 부분 인데 도 불구 하고\n",
            "예측답변: 왕 빈자 삼파전 입니다 고객 님 믿고 주문 해주셨는데 불편 을 드려서 죄송합니다 항상 기본 적 으로 제일 신경 쓰고 있는 부분 인데 도 불구 하고\n",
            "==============================\n",
            "질문   : 오 돌뼈 순 한 맛 이라 전혀 맵 지 않았구요 계란찜 추가 했는데 맛있게 잘 먹었어요 배달 빨리 해주셨고 친절하셨습니다\n",
            "답변   : 소중한 리뷰 감사합니다 순 한 맛 부탁 하셔서 순 한 맛 해드려는데 더 노력 하겠 습니다\n",
            "예측답변: 양 이 맛 나게 에 맛있게 드셨다니 다행 새해 복 많이 애용 해주세요\n",
            "==============================\n",
            "질문   : 맛 은 평범합니다 영수증 에 주소 까지나 와있는데 전화하셔서 제대로 안 나와있다고 하셔서 사과 하고 음식 받았습니다 기분 나쁜 식사 만 아니면 더 좋을 뻔했네요\n",
            "답변   : 기분 나쁘셨다니 죄송합니다 고객 님 이 뭔가 착오 가 있으셨나 봅니다 제 가 오늘 대책 을 세워야 겠네요 다시는 이런 일이 없도록 잘 강구 하겠습니다 즐거운\n",
            "예측답변: 기분 나쁘셨다니 죄송합니다 고객 님 이 뭔가 착오 가 있으셨나 봅니다 제 가 오늘 대책 을 세워야 겠네요 다시는 이런 일이 없도록 잘 강구 하겠습니다 즐거운\n",
            "==============================\n",
            "질문   : 자주 닭발 오 돌뼈 를 맛있어서 주문 해서 먹는데요 요 번 에는 국물 닭발 을 시켰는데 닭발 과 똑같은 중간 맛 으로 시켰는데 먹을수가 없게 너무\n",
            "답변   : 바로 전화 주시지요 너무 죄송 합니다 다음 에 기회 가 된다면 꼭 요청 에 남겨주세요 서비스 보내 드릴겠습니다 다시하 번 사과 드립니다\n",
            "예측답변: 바로 전화 주시지요 너무 죄송 합니다 다음 에 기회 가 된다면 꼭 요청 에 남겨주세요 서비스 보내 드릴겠습니다 다시하 번 사과 드립니다\n",
            "==============================\n",
            "질문   : 페퍼로니 피자 를 주문 했습니다 기름기 가득하고 짭짤한 피자 를 기대했지만 1 너무 맵다 과 하게 맵다 2 단맛 이 너무 도드라진다 3 페퍼로니 보다는 소시지\n",
            "답변   : 소중한 리뷰 정말 감사 드립니다 불만 이 있으신 점 은 정말 죄송합니다 저희 피자 가 맥주 안주 에 맞게 짜고 맵 게 나오는데 부담 스럽게 느껴지실수도\n",
            "예측답변: 소중한 리뷰 정말 감사 드립니다 불만 이 있으신 점 은 정말 죄송합니다 저희 피자 가 맥주 안주 에 맞게 짜고 맵 게 나오는데 부담 스럽게 느껴지실수도\n",
            "==============================\n",
            "질문   : 맛없어요 면 을 씹으면 씁쓸한 맛 과 안 익은 밀가루 면 멱 는 것 처럼 텁텁함 이 남아 요 배고파서 억지로 먹으려고 해도 다 남겼네요\n",
            "답변   : 아이고 우리 고객 님 저희 가 맛있게 드렸어야 했는데 죄송합니다 조리 중 에 실수 였던 것 같은데요 내일 즉시 매장 에서 제 가 직접 재교육 을\n",
            "예측답변: 아이고 우리 고객 님 저희 가 맛있게 드렸어야 했는데 죄송합니다 조리 중 에 실수 였던 것 같은데요 내일 즉시 매장 에서 제 가 직접 재교육 을\n",
            "==============================\n",
            "질문   : 여기 진짜 맛있어서 또 시켰 습 니당 근데 이번 은 저번 과 달리 등심 이 덜 익은것 같아서 전화 드리니 다 익은게 맞다 하셔서 믿고 남은것도\n",
            "답변   : 소중한 리뷰 감사합니다 음식 은 맛있게 드셨으나 배탈 이 나셨다니 사진 상 으로는 익은 것 으로 보이 나 그래도 너무 속상하네요 매일 신선한 고기 를 손질\n",
            "예측답변: 소중한 리뷰 감사합니다 음식 은 맛있게 드셨으나 배탈 이 나셨다니 사진 상 으로는 익은 것 으로 보이 나 그래도 너무 속상하네요 매일 신선한 고기 를 손질\n",
            "==============================\n",
            "질문   : 배달 이 너무 늦게와 서 배고파 죽는줄 겨우 와 서 먹었더니 양도 적음 맛 은 그냥 그랬음\n",
            "답변   : 만족한 식사 시간 이 되지 못 해서 죄송합니다 최대한 빨리 해서 갔는데도 여기 서 옥 산이 차로 20분 이 넘게 걸리네요 담 에는 더 빨리 더\n",
            "예측답변: 만족한 식사 시간 이 되지 못 해서 죄송합니다 최대한 빨리 해서 갔는데도 여기 서 옥 산이 차로 20분 이 넘게 걸리네요 담 에는 더 빨리 더\n",
            "==============================\n"
          ]
        }
      ]
    },
    {
      "cell_type": "code",
      "source": [
        "# # yogiyo 오버샘플 모델링(중복 제거, 2만개 데이터)\n",
        "# STATEDICT_OV_PATH = '/content/drive/MyDrive/project_final/data/models/yogiyo_OV_clean.pt'\n",
        "# model.load_state_dict(torch.load(STATEDICT_OV_PATH))\n",
        "# random_evaluation_10(model, test_dataset, dataset.wordvocab.index2word, device)"
      ],
      "metadata": {
        "colab": {
          "base_uri": "https://localhost:8080/"
        },
        "id": "s_vzhJfS7rx0",
        "outputId": "fee7c29b-1f90-4e4c-84e3-ea552ac5db1f"
      },
      "execution_count": null,
      "outputs": [
        {
          "output_type": "stream",
          "name": "stdout",
          "text": [
            "질문   : 먹어 보고 부터 여기 가게 완전 반해서 여기 서 만 마라 탕 먹어요 두 명 이 마라 탕 취향 이 좀 달라 서 늘 둘다 맞는 가게 찾기 가 힘들었는데 두\n",
            "답변   : 우아 50 번 저희 는 그럼 고객 님 50 번 사랑 한다고 말 하고 싶네요 너무 너무 감사합니다 어깨 가 으쓱 으쓱 더 열심히 노력 하겠습니다\n",
            "예측답변: 안녕하세요 당신 은 지금 치킨 이 당긴다 헬리 오 시티 점 입니다 700 아닌데 는 고객 님 에서 10분 분 분 분 좋으시겠어요 밀려오고 로 이 많아요 보니 트리플 이 조금 이나마\n",
            "==============================\n",
            "질문   : 잘 먹었습니다 지난 리뷰 에 사장 님 이 직접 댓글 도 해주셨네요 좋은 음식 으로 대박 나시기 바랍니다\n",
            "답변   : 조영훈 의 족발 보쌈 을 믿고 주문 해 주셔서 감사합니다 도시락 세트 는 혼자 서 드시 기 엔 넉넉한 양 이 나가 든든하게 드실 수 있는 양 입니다 모든 음식 은\n",
            "예측답변: 안녕하세요 고객 님 별 점 리뷰 진심 으로 감사합니다 부족한 부분 이 있었는데도 이렇게 극찬 과 함께 별 점 만점 까지 주시 고 진심 으로 감사 드립니다 항상 맛있는 음식 과\n",
            "==============================\n",
            "질문   : 그냥 그저 그럼 그냥 그저 그럼\n",
            "답변   : 안녕하세요 고객 님 고객 님 입맛 엔 안 맞으셨군요 불편 사항 요청 사항 있으시면 언제 든지 연락 주시 면 고객 님 입맛 에 맞게 최대한 노력 하겠습니다 감사합니다\n",
            "예측답변: 안녕하세요 고객 님 고객 님 입맛 엔 안 맞으셨군요 불편 사항 요청 사항 있으시면 언제 든지 연락 주시 면 고객 님 입맛 에 맞게 최대한 노력 하겠습니다 감사합니다\n",
            "==============================\n",
            "질문   : 배달 은 50분 예정 이었는데 15분 늦었구요 치즈스틱 은 드시지 마세요\n",
            "답변   : 주문 감사합니다 피자 는 빨리 들렀으나 대행 분 이 너무 늦게 전 해드리는 것 같더라고요 아쉬운 점 보완 해 보도록 할게요 죄송합니다\n",
            "예측답변: 주문 감사합니다 피자 는 빨리 들렀으나 대행 분 이 너무 늦게 전 해드리는 것 같더라고요 아쉬운 점 보완 해 보도록 할게요 죄송합니다\n",
            "==============================\n",
            "질문   : 진짜 맛있어요 또 먹고싶네요 광어 우럭 이랑 한 개 는 뭔가 요 모든 회 가 다 두툼 하고 너무 맛있었어요 항상 맛있고 신선한 회 감사합니다\n",
            "답변   : 리뷰 감사 드립니다 계절 회 는 요즘 이 제철 이어서 살이 바짝 오른 참 숭어 입니다 참 숭어 역시 다른 어종 과 마찬가지 로 최대 치의 큰 사이즈 를 사용 하고\n",
            "예측답변: 안녕하세요 님 소중한 고객 님 이 이임 첫 주문 에 정성 을 인심 아니겠어요 듬뿍 담아 드렸답니다 맛있게 드셨다니 너 어어 어 무 기쁘네요 행복 만족스러운 식사 하셨다면 거 같아 정말 다행\n",
            "==============================\n",
            "질문   : 가성 비 최고 보쌈 도 넘 맛있어요\n",
            "답변   : 오늘 도 맛있게 드셨다니 다행 입니다 높은 별 점 챙겨주셔서 너무 감사 드립니다\n",
            "예측답변: 맛있게 드셔주셔서 감사 드립니다 항상 푸 짐하게 드리기 위해 노력 하고 있는데 만족스러운 식사 하신 것 같아 저 도 너무 뿌듯하고 기분 이 좋네요 항상 변함 없는 맛 으로 고객 님 의\n",
            "==============================\n",
            "질문   : 냉동 실 에 넣어놨다가 먹으면 더 쫀득해 서 맛있어요\n",
            "답변   : 고객 님 별 이 그럼 10 점 인가요 맛있게 드셔 주신 것 만으로도 감사한데 이런 행복감 주셔서 너무 감사합니다 골라 주신 메뉴 로 만족감 을 드리기 위해 좋은 재료 와 맛있는\n",
            "예측답변: 맛있게 드셔주셔서 감사 드립니다 항상 맛있게 드신다고 로 정말 뿌듯하고 기분 이 좋네요 주문 해 주셔서 감사합니다\n",
            "==============================\n",
            "질문   : 사장 님 이번 피자 에 평소 와 다른 재료 가 들어가 있네요 난감합니다\n",
            "답변   : 제 가 지금 확인 해 보니 주문 하신 피자 로 만들어 드린 것 맞아요 하와 이안 치즈 피자 입니다 고객 님 께서 드시던 피자 와 다른 피자 를 주문 하셔서 헷갈린\n",
            "예측답변: 제 가 지금 확인 해 보니 주문 하신 피자 로 만들어 드린 것 맞아요 하와 이안 치즈 피자 입니다 고객 님 께서 드시던 피자 와 다른 피자 를 주문 하셔서 헷갈린\n",
            "==============================\n",
            "질문   : 초밥 은 바싹 말라있고 냉 모 밀면 은 하나 도 안 익어서 오구 처음 이네 요 이런 초밥 집은\n",
            "답변   : 에구 불편 을 드려 죄송합니다 적극 개선 해서 이런 일 없도록 하겠습니다 감사합니다\n",
            "예측답변: 에구 불편 을 드려 죄송합니다 적극 개선 해서 이런 일 없도록 하겠습니다 감사합니다\n",
            "==============================\n",
            "질문   : 매워서 못 먹겠어요 코코 낫 음료 넣었는데도 짜증나내요 전화 도 안 받고\n",
            "답변   : 죄송합니다 점심시간 바쁜 시간대 에 전화 가 와서 받았는데 끊어져서 다시 전화 못 드렸습니다 저희 똠얌꿍 은 약간 매콤 한 정도 인데 매우셨다니 저 도 좀 당황 스럽습니다 다음 에는 요청\n",
            "예측답변: 죄송합니다 점심시간 바쁜 시간대 에 전화 가 와서 받았는데 끊어져서 다시 전화 못 드렸습니다 저희 똠얌꿍 은 약간 매콤 한 정도 인데 매우셨다니 저 도 좀 당황 스럽습니다 다음 에는 요청\n",
            "==============================\n"
          ]
        }
      ]
    },
    {
      "cell_type": "code",
      "source": [
        "# # yogiyo 오버샘플 모델링(중복 제거, 가게명 제거, 2만개 데이터)\n",
        "# STATEDICT_OV_PATH = '/content/drive/MyDrive/project_final/data/models/yogiyo_OV_clean_store_del.pt'\n",
        "# model.load_state_dict(torch.load(STATEDICT_OV_PATH))\n",
        "# random_evaluation_10(model, test_dataset, dataset.wordvocab.index2word, device)"
      ],
      "metadata": {
        "colab": {
          "base_uri": "https://localhost:8080/"
        },
        "id": "boeCXuZ0SPCM",
        "outputId": "1799b816-7cc6-46e1-8440-cd6e365e854b"
      },
      "execution_count": null,
      "outputs": [
        {
          "output_type": "stream",
          "name": "stdout",
          "text": [
            "질문   : 자주 먹지만 항상 맛있네요\n",
            "답변   : 고객 님 안녕하세요 골라 먹는 장닭 치킨 부천대 점 입니다 이번 주문 에 맛있게 드셔 주셔서 정말 감사합니다 맛있게 드셨다는 말씀 은 언제 들어도 기분 이 좋아지고 또 이렇게 믿고 찾아 주시 는 고객 님 들을 실망 시켜 드리지 않도록 더 열심히 해야겠다는 생각 이 들게 하는\n",
            "예측답변: 고객 님 소중한 주문과 리뷰 감사드립니다 드립니다 주문해 주신 대로 만인 감사드려요 다음에 또 주문해 주세요\n",
            "==============================\n",
            "질문   : 딱 원하던 맛 이었어요 양도 푸 짐 하고 잘 먹었습니다\n",
            "답변   : 안녕하세요 만족스러운 식사 가 되신 것 같아 다행 입니다 예쁜 사진 과 힘 이 나 는 행복 의 리뷰 진심 으로 감사합니다 다음 에는 더 신경 써서 배달 해 드리겠습니다 항상 건강 잘 챙기시고 행복한 웃는 날 만 가득하세요\n",
            "예측답변: 이쁜 리뷰 감사합니다 고객 님께서 알촌 을 찾아주셔서 너무 기쁩니다 고객 님의 소중한 시간에 저희 알촌 이 되도록 하겠습니다 좋은 알촌 알촌 충북대 점 많이 많이 많이 주셔서 감사드려요 오늘 도 알촌 을 찾아주셔서 감사합니다 오늘 도 좋은 하루 보내세요\n",
            "==============================\n",
            "질문   : 양 진짜 넉넉하고 맛있네요 고기 도 부드럽구요 리뷰 이벤트 로 주신 쥬스 도 맛있어요\n",
            "답변   : 안녕하세요 고기 는 수비드 하여 더욱 부드럽게 조리 하고 있습니다 맛 과 양 영양 까지 생각 하여 든든한 한 끼 전달 드리겠 습 니 대 감사합니다\n",
            "예측답변: 저희 양 갈비 맛있게 잘 드시고 이렇게 힘나는 소중한 리뷰 와 저희에게 큰 힘 이 되는 좋은 평 가까지 남겨 주셔서 정말 감사드립니다 더워진 날씨에 건강 잘 지키시고 알차고 즐거운 하루 보내세요 감사합니다\n",
            "==============================\n",
            "질문   : 그냥 여기는 믿고 드세요\n",
            "답변   : 저희 청년 치킨 을 이용 해 주셔서 감사 드립니다 맛있는 치킨 과 푸 짐 한 양 신속한 서비스 로 보답 드릴게요 언제나 편히 이용 할 수 있도록 최선 을 다 하는 청년 치킨 이 되겠습니다 서비스 이용 시 서비스 가 불편한 점 이 있으시면 가게 로 전화\n",
            "예측답변: 소중한 리뷰 감사합니다 항상 고객 님 께 최선을 다 하는 뜸 들이다 북서 울 꿈의 숲점입니다 소중한 별 점 5 점 리뷰 감사합니다 맛있게 드셔 주셔서 정말 행복해요 다음에도 만족하실 수 있도록 최선을 다 하겠습니다 감사합니다 뜸 들이다는 북서 울 꿈의\n",
            "==============================\n",
            "질문   : 앗 어제 쓴다는 걸 깜빡 해서 지금 리뷰 남깁니다 부산 여행 와서 회 를 꼭 먹고 싶었는데 최고 의 선택 이었습니다 구성 이 너무 좋아요 회도 여러 종류 고 멍게 문어 여러 반찬 들 그리고 입가심 으로 귤 까지 사장 님 센스 만점 이세 요 다음 에\n",
            "답변   : 저희 윤희 횟집 을 찾아주셔서 감사 드립니다 고객 님 의 아낌없는 리뷰 칭찬 과 별 다섯 개 까지 너무 너무 감동 입니다 앞 으로도 저희 윤희 횟집 은 고객 님 께서 맛있게 드실 수 있게 최선 을 다해 노력 하겠습니다 좋은 하루 보내세요\n",
            "예측답변: 안녕하세요 주문해 주셔서 감사드려요 고객 님 입맛에 딱 맞으셨나 봐요 디카 페인 이 얼큰하게 생각 나시 면 언제 든 연락 주세요 고맙습니다\n",
            "==============================\n",
            "질문   : 배달 은 빠르고 양도 많은데 곱창 이 많이 타서 좀 탄 맛 이 났어요 닭 밝은 맛있게 잘 먹었어요\n",
            "답변   : 불편 을 드려 죄송합니다 대부분 고객 분들 이 바싹 구워 달라 는 요청 사항 이 많아서 탄 맛 이 난 것 같습니다 다음 에 기회 가 된다면 탄 냄새 가 안 나도록 구워 달라 요청 사항 에 적어주시면 감사하겠습니다 소중한 사진 리뷰 감사합니다 건강하세요\n",
            "예측답변: 불편을 드려 죄송합니다 대부분 고객분들 이 바싹 구워 달라는 요청 사항 이 많아서 탄 맛 이 난 것 같습니다 다음에 기회 가 된다면 탄 냄새 가 안 나도록 구워 달라 요청 사항에 적어주시면 감사하겠습니다 소중한 사진 리뷰 감사합니다 건강하세요\n",
            "==============================\n",
            "질문   : 짬뽕 은 다른 집 과 별다를게 없었지만 마파두부 가 맛있네요\n",
            "답변   : 안녕하세요 더 맛 나게 찾아 뵙겠습니다 감사 드립니다\n",
            "예측답변: 안녕하세요 더 맛 나게 찾아뵙겠습니다 감사드립니다\n",
            "==============================\n",
            "질문   : 배달 온 봉투 에 영수증 이 안 붙어 있던데 배달 원 이 영수증 을 떼 버린 건지 사장 님 이 안 붙여주 신건 지 모르겠는데 요청 사항 전달 안 하시나요 5분 넘게 문 두드리고 벨 누르고 전화 도 3 통 이나 오고 씻다가 불편했네요 코로나 때메 비대\n",
            "답변   : 안녕하세요 고객 님 먼저 불쾌했을 서비스 에 사과 를 드립니다 정말 죄송합니다 우선 요기 요 주문 건 은 배달 영수증 이 따로 없습니다 요 기요 에 프린터 를 따로 구매 를 해야 해서 주문 건 이 많지 않고 앱 으로 고객 님 들과는 서로 착오 없이 서비스\n",
            "예측답변: 안녕하세요 고객 님 먼저 불쾌했을 서비스에 사과를 드립니다 정말 죄송합니다 우선 요기 요 주문 건 은 배달 영수증 이 따로 없습니다 요 기요에 프린터를 따로 구매를 해야 해서 주문 건 이 많지 않고 앱으로 고객 님 들과는 서로 착오 없이 서비스\n",
            "==============================\n",
            "질문   : 리뷰 보고 코다리 조림 시켰는데 밥 비벼서 먹으니 진짜 맛있네요 감사합니다\n",
            "답변   : 안녕하세요 코다리 조림 양념 은 언제나 정답 인 거 같아요 맛 나게 드셔서 제 가 더 감사 드립니다 언제나 변함 없는 맛 으로 주시 는 큰 사랑 에 보답 드릴게요 많은 응원 주실 거 죠\n",
            "예측답변: 맛있게 드셔주셔서 감사드립니다 항상 푸 진하게 드리기 위해 노력하는데 만족스러운 식사하신 것 같아 너무 다행입니다 앞으로도 변함없는 맛으로 최선을 다 하는 청춘 식당 이 되겠습니다 자주자주 들려주세요 잘 먹어야 청춘이다 o o 청 춘 식 당\n",
            "==============================\n",
            "질문   : 서비스 초밥 은 안 왔네요\n",
            "답변   : 이용 에 불편 을 드려 죄송합니다 마키 의 날치 알 은 앞 으로 더욱 신경 쓰도록 하겠습니다 배달 라이더 분께도 조심 배달 요청 드리겠습니다 서비스 초밥 은 초밥 이 들은 2 팩 안 에 2 피스 가 포함 되어 있습니다 24 피스 서비스 2 p 총 26\n",
            "예측답변: 이용에 불편을 드려 죄송합니다 마키의 날치알 은 앞으로 더욱 신경 쓰도록 하겠습니다 배달 라이더 분께도 조심 배달 요청드리겠습니다 서비스 초밥 은 초밥 이 들은 2 팩 안에 2 피스 가 포함되어 있습니다 24 피스 서비스 2 p 총 26\n",
            "==============================\n"
          ]
        }
      ]
    },
    {
      "cell_type": "code",
      "source": [
        "# # yogiyo 오버샘플 모델링(중복 제거, 가게명 제거, subword tokenizer, 2만개 데이터)\n",
        "# STATEDICT_OV_PATH = '/content/drive/MyDrive/project_final/data/models/yogiyo_OV_clean_store_del_sub.pt'\n",
        "# model.load_state_dict(torch.load(STATEDICT_OV_PATH))\n",
        "# random_evaluation_10(model, test_dataset, dataset.wordvocab.index2word, device)"
      ],
      "metadata": {
        "colab": {
          "base_uri": "https://localhost:8080/"
        },
        "id": "ZJbhTr8KbpY6",
        "outputId": "f9c42428-9367-465b-c22d-10cf6bb28d8b"
      },
      "execution_count": null,
      "outputs": [
        {
          "output_type": "stream",
          "name": "stdout",
          "text": [
            "질문   : 맛 있 게 먹 었 내 요 헌 데 덮 밥 의 명 란 은\n",
            "답변   : 혹 시 명 란 마 요 네 즈 가 안 들어 있 었 나 요 으 악 정 말 정 말 죄 송 합 니다\n",
            "예측답변: 혹 시 명 란 마 요 네 즈 가 안 들어 있었 나 요 으 악 정 말 정 말 죄 송 합니다\n",
            "==============================\n",
            "질문   : 김 밥 엄 청 커 요\n",
            "답변   : 맛 있 게 드 셨 는 지 요 항 상 푸 짐 하고 맛 있는 맛 으로 [unk] 자 주 애 용 해 주 세 요\n",
            "예측답변: 안녕하세요 고 객 님 d 번 거로 우 실 텐 데 리 뷰 작 성해 주 셔 서 감사합니다 어 휴 도 가 금 계 가 되 면 괜 찮 아 서 된다 면\n",
            "==============================\n",
            "질문   : 아 이 건 좀 아 니 지 않 나 요 돈 까 스 가 이 렇게 안 익 어 서 오 는 건 처음 입 니다\n",
            "답변   : 고 객 님 매 장으로 전 화 주 셨 으면 전 화 로 설 명 드 렸 을 텐 데 죄 송 합 니다 안 심 카 츠 같은 경우 미 오 글 로 빈 이 올 라 와 서 [unk] [unk] 혹 시 나 하는 경우\n",
            "예측답변: 고 객 님 매 장으로 전 화 주 셨 으면 전 화로 설 명 드 였을 텐 데 죄 송 합니다 안 심 카 츠 같은 경우 미 오 글로 빈 이 올 라 와 서 [unk] [unk] 혹 시 나 하는 경우\n",
            "==============================\n",
            "질문   : 스 파 게 티 는 진 짜 맛 있 었 어 요 피 자는 너 무 [unk] 소 금 들이 부 으 신 듯\n",
            "답변   : 소 스 가 많이 들어 간 것 같 네 요 싱 겁 다는 분 이 계 셔 좀 더 넣 으면 이 렇게 짜 지는 가 봐 요 담 엔 소 스 적 게 라고 메 모 주 시 면 [unk] 죄 송 합 니다 소 금\n",
            "예측답변: 소 스 가 많이 들어간 것 같 네 요 싱 겁 다는 분 이 계 셔 좀 더 넣 으면 이렇게 짜지는가 봐 요 담 엔 소 스 적 게라고 메 모 주 시 면 [unk] 죄 송 합니다 소 금\n",
            "==============================\n",
            "질문   : 다 이어 트 하는 데 먹 기 좋 아 요\n",
            "답변   : 다 이어 트 하 실 때 저 희 음 식 이 정 말 알 맞 죠 건 강 하고 맛 있는 다 이어 트 하 실 때 저 희 비 오 키 친 찾 아 주 세 요 감 사 합 니다\n",
            "예측답변: 다 이어 트 하 실 때 저 희 음 식 이 정 말 알 맞 죠 맛있게 드 셔 주 셔 서 감사합니다\n",
            "==============================\n",
            "질문   : 멍 게 맛 있 어 요 회 도 상 태 좋 아 요 다만 양 이 적 은 듯 요\n",
            "답변   : 리 뷰 감 사 드 립 니다 맛 있 게 드 셔 주 셔 서 감 사 드 립 니다 양 은 가 능한 많 게 드 리 려 애 쓰 고 있으나 그 래 도 많이 부 족 한 가 [unk] 두 툼 하게 썰 기에\n",
            "예측답변: 안녕하세요 주 문 해 주 셔 서 감사합니다 맛있게 드 셔 주시 고 소 중 한 리 뷰 와 별 점 감 사 드 랍니다 언 제 나 밑 고 드 실 수 있도록 최 선을 다\n",
            "==============================\n",
            "질문   : 전에 먹 어 보 던 그 맛 은 어 디 로 갔 나 요\n",
            "답변   : 잘 못 된 것이 있 으 시 면 전 화 주 시 지 그 러 셨 어 요 죄 송 합 니다 더 노 력 하 겠 습 니다\n",
            "예측답변: 잘 못 된 것이 있으 시 면 전 화 주 시 지 그 러 셨 어 요 죄 송 합니다 더 노 력 하겠 습니다\n",
            "==============================\n",
            "질문   : 목 살 스 테 이 크 세 트 로 김 치 필 라 프 를 시 켰 는데 김 치 필 라 프 는 김 치 맛 만 살 짝 나 고 [unk] [unk] 느 낌 이 였 어 서 다 신 안 먹 을 것 같\n",
            "답변   : 고 객 님 주 말 저 녁 즐 거 우 셔 야 할 식 사 시간 에 부 족 한 음 식 과 실 수 들 로 불 편 드 려 죄 송 합 니다 맛 없 는 음 식 과 소 스 용 기 파 손\n",
            "예측답변: 고 객 님 주 말 저 녘 즐 거 우 셔 야 할 식 사 시간에 부 족 한 음 식과 실 수 들로 불 편 드 려 죄 송 합니다 맛없는 음 식과 소 스 용 기 파 손\n",
            "==============================\n",
            "질문   : 오 자 마 자 맛 있 어 보 여 서 사 진 도 못 찍 고 다 먹 어 버 렸 어 용 넘 맛 있 습 니다\n",
            "답변   : 그 정도로 맛 있 게 드 셔 주 셨 다 니 사 진 없 어 도 아 주 만 족 스 러 운 리 뷰 입 니다 감 사 합 니다\n",
            "예측답변: 반 갑 습니다 저 희 가 게 이렇게 리 뷰 남 겨 주 셔 서 감사합니다 맛있게 드 셨 다 네 너 무 뿌 듯 하 네 요 저 희 가 500 g 짜 리 밀 키 터를 데 워 주는\n",
            "==============================\n",
            "질문   : 맛 있 어 요 다만 조 금 식 어 서 와 서 그 점 은 아 쉬 웠 어 요 하지만 식 어 도 맛 있는 피 자 였 어 요\n",
            "답변   : 다음 주 문 시 엔 식 지 않고 따 뜻 한 피 자로 [unk] 수 있게 바 짝 신 경 써 서 보 내 드 리 겠 습 니다 식 은 피 자 임 에도 맛 있 게 드 시 고 소 중 한 리 뷰 남\n",
            "예측답변: 아 직 한 식 사 시간에 불 편함을 드 려 너 무 죄 송 합니다 재료 하 나 하 나 세 밀 하게 체 크 하고 있는데 더 신 경 쓰 도록 하겠 습니다 즐 거 운 주 말 보 내\n",
            "==============================\n"
          ]
        }
      ]
    }
  ]
}