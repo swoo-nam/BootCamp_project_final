{
  "nbformat": 4,
  "nbformat_minor": 0,
  "metadata": {
    "colab": {
      "provenance": [],
      "gpuType": "T4",
      "toc_visible": true,
      "include_colab_link": true
    },
    "kernelspec": {
      "name": "python3",
      "display_name": "Python 3"
    },
    "language_info": {
      "name": "python"
    },
    "accelerator": "GPU",
    "widgets": {
      "application/vnd.jupyter.widget-state+json": {
        "449a653590a74cb4b64b7bd4c10381db": {
          "model_module": "@jupyter-widgets/controls",
          "model_name": "HBoxModel",
          "model_module_version": "1.5.0",
          "state": {
            "_dom_classes": [],
            "_model_module": "@jupyter-widgets/controls",
            "_model_module_version": "1.5.0",
            "_model_name": "HBoxModel",
            "_view_count": null,
            "_view_module": "@jupyter-widgets/controls",
            "_view_module_version": "1.5.0",
            "_view_name": "HBoxView",
            "box_style": "",
            "children": [
              "IPY_MODEL_2cef376a3650466194ad3a756dda6b5a",
              "IPY_MODEL_97450df3771149e48374049ff3e0acee",
              "IPY_MODEL_9e6d387f38f14301a1286657da7b0851"
            ],
            "layout": "IPY_MODEL_2c1faf848f184e4f827f57ab301a5379"
          }
        },
        "2cef376a3650466194ad3a756dda6b5a": {
          "model_module": "@jupyter-widgets/controls",
          "model_name": "HTMLModel",
          "model_module_version": "1.5.0",
          "state": {
            "_dom_classes": [],
            "_model_module": "@jupyter-widgets/controls",
            "_model_module_version": "1.5.0",
            "_model_name": "HTMLModel",
            "_view_count": null,
            "_view_module": "@jupyter-widgets/controls",
            "_view_module_version": "1.5.0",
            "_view_name": "HTMLView",
            "description": "",
            "description_tooltip": null,
            "layout": "IPY_MODEL_d09b5caeb9964fda8c014919d0d88a31",
            "placeholder": "​",
            "style": "IPY_MODEL_2102b7051c9942dfa25c0d71ea7e29f6",
            "value": "100%"
          }
        },
        "97450df3771149e48374049ff3e0acee": {
          "model_module": "@jupyter-widgets/controls",
          "model_name": "FloatProgressModel",
          "model_module_version": "1.5.0",
          "state": {
            "_dom_classes": [],
            "_model_module": "@jupyter-widgets/controls",
            "_model_module_version": "1.5.0",
            "_model_name": "FloatProgressModel",
            "_view_count": null,
            "_view_module": "@jupyter-widgets/controls",
            "_view_module_version": "1.5.0",
            "_view_name": "ProgressView",
            "bar_style": "success",
            "description": "",
            "description_tooltip": null,
            "layout": "IPY_MODEL_e5040b501bb44b1285d9fe3edad09973",
            "max": 20,
            "min": 0,
            "orientation": "horizontal",
            "style": "IPY_MODEL_6c984896889a4e0186ffc6834170818b",
            "value": 20
          }
        },
        "9e6d387f38f14301a1286657da7b0851": {
          "model_module": "@jupyter-widgets/controls",
          "model_name": "HTMLModel",
          "model_module_version": "1.5.0",
          "state": {
            "_dom_classes": [],
            "_model_module": "@jupyter-widgets/controls",
            "_model_module_version": "1.5.0",
            "_model_name": "HTMLModel",
            "_view_count": null,
            "_view_module": "@jupyter-widgets/controls",
            "_view_module_version": "1.5.0",
            "_view_name": "HTMLView",
            "description": "",
            "description_tooltip": null,
            "layout": "IPY_MODEL_c2d4680aef6141198c4bff6c09c325f3",
            "placeholder": "​",
            "style": "IPY_MODEL_5567c7c792ca48cf9ee3efbcae9cdf74",
            "value": " 20/20 [32:02&lt;00:00, 98.39s/it]"
          }
        },
        "2c1faf848f184e4f827f57ab301a5379": {
          "model_module": "@jupyter-widgets/base",
          "model_name": "LayoutModel",
          "model_module_version": "1.2.0",
          "state": {
            "_model_module": "@jupyter-widgets/base",
            "_model_module_version": "1.2.0",
            "_model_name": "LayoutModel",
            "_view_count": null,
            "_view_module": "@jupyter-widgets/base",
            "_view_module_version": "1.2.0",
            "_view_name": "LayoutView",
            "align_content": null,
            "align_items": null,
            "align_self": null,
            "border": null,
            "bottom": null,
            "display": null,
            "flex": null,
            "flex_flow": null,
            "grid_area": null,
            "grid_auto_columns": null,
            "grid_auto_flow": null,
            "grid_auto_rows": null,
            "grid_column": null,
            "grid_gap": null,
            "grid_row": null,
            "grid_template_areas": null,
            "grid_template_columns": null,
            "grid_template_rows": null,
            "height": null,
            "justify_content": null,
            "justify_items": null,
            "left": null,
            "margin": null,
            "max_height": null,
            "max_width": null,
            "min_height": null,
            "min_width": null,
            "object_fit": null,
            "object_position": null,
            "order": null,
            "overflow": null,
            "overflow_x": null,
            "overflow_y": null,
            "padding": null,
            "right": null,
            "top": null,
            "visibility": null,
            "width": null
          }
        },
        "d09b5caeb9964fda8c014919d0d88a31": {
          "model_module": "@jupyter-widgets/base",
          "model_name": "LayoutModel",
          "model_module_version": "1.2.0",
          "state": {
            "_model_module": "@jupyter-widgets/base",
            "_model_module_version": "1.2.0",
            "_model_name": "LayoutModel",
            "_view_count": null,
            "_view_module": "@jupyter-widgets/base",
            "_view_module_version": "1.2.0",
            "_view_name": "LayoutView",
            "align_content": null,
            "align_items": null,
            "align_self": null,
            "border": null,
            "bottom": null,
            "display": null,
            "flex": null,
            "flex_flow": null,
            "grid_area": null,
            "grid_auto_columns": null,
            "grid_auto_flow": null,
            "grid_auto_rows": null,
            "grid_column": null,
            "grid_gap": null,
            "grid_row": null,
            "grid_template_areas": null,
            "grid_template_columns": null,
            "grid_template_rows": null,
            "height": null,
            "justify_content": null,
            "justify_items": null,
            "left": null,
            "margin": null,
            "max_height": null,
            "max_width": null,
            "min_height": null,
            "min_width": null,
            "object_fit": null,
            "object_position": null,
            "order": null,
            "overflow": null,
            "overflow_x": null,
            "overflow_y": null,
            "padding": null,
            "right": null,
            "top": null,
            "visibility": null,
            "width": null
          }
        },
        "2102b7051c9942dfa25c0d71ea7e29f6": {
          "model_module": "@jupyter-widgets/controls",
          "model_name": "DescriptionStyleModel",
          "model_module_version": "1.5.0",
          "state": {
            "_model_module": "@jupyter-widgets/controls",
            "_model_module_version": "1.5.0",
            "_model_name": "DescriptionStyleModel",
            "_view_count": null,
            "_view_module": "@jupyter-widgets/base",
            "_view_module_version": "1.2.0",
            "_view_name": "StyleView",
            "description_width": ""
          }
        },
        "e5040b501bb44b1285d9fe3edad09973": {
          "model_module": "@jupyter-widgets/base",
          "model_name": "LayoutModel",
          "model_module_version": "1.2.0",
          "state": {
            "_model_module": "@jupyter-widgets/base",
            "_model_module_version": "1.2.0",
            "_model_name": "LayoutModel",
            "_view_count": null,
            "_view_module": "@jupyter-widgets/base",
            "_view_module_version": "1.2.0",
            "_view_name": "LayoutView",
            "align_content": null,
            "align_items": null,
            "align_self": null,
            "border": null,
            "bottom": null,
            "display": null,
            "flex": null,
            "flex_flow": null,
            "grid_area": null,
            "grid_auto_columns": null,
            "grid_auto_flow": null,
            "grid_auto_rows": null,
            "grid_column": null,
            "grid_gap": null,
            "grid_row": null,
            "grid_template_areas": null,
            "grid_template_columns": null,
            "grid_template_rows": null,
            "height": null,
            "justify_content": null,
            "justify_items": null,
            "left": null,
            "margin": null,
            "max_height": null,
            "max_width": null,
            "min_height": null,
            "min_width": null,
            "object_fit": null,
            "object_position": null,
            "order": null,
            "overflow": null,
            "overflow_x": null,
            "overflow_y": null,
            "padding": null,
            "right": null,
            "top": null,
            "visibility": null,
            "width": null
          }
        },
        "6c984896889a4e0186ffc6834170818b": {
          "model_module": "@jupyter-widgets/controls",
          "model_name": "ProgressStyleModel",
          "model_module_version": "1.5.0",
          "state": {
            "_model_module": "@jupyter-widgets/controls",
            "_model_module_version": "1.5.0",
            "_model_name": "ProgressStyleModel",
            "_view_count": null,
            "_view_module": "@jupyter-widgets/base",
            "_view_module_version": "1.2.0",
            "_view_name": "StyleView",
            "bar_color": null,
            "description_width": ""
          }
        },
        "c2d4680aef6141198c4bff6c09c325f3": {
          "model_module": "@jupyter-widgets/base",
          "model_name": "LayoutModel",
          "model_module_version": "1.2.0",
          "state": {
            "_model_module": "@jupyter-widgets/base",
            "_model_module_version": "1.2.0",
            "_model_name": "LayoutModel",
            "_view_count": null,
            "_view_module": "@jupyter-widgets/base",
            "_view_module_version": "1.2.0",
            "_view_name": "LayoutView",
            "align_content": null,
            "align_items": null,
            "align_self": null,
            "border": null,
            "bottom": null,
            "display": null,
            "flex": null,
            "flex_flow": null,
            "grid_area": null,
            "grid_auto_columns": null,
            "grid_auto_flow": null,
            "grid_auto_rows": null,
            "grid_column": null,
            "grid_gap": null,
            "grid_row": null,
            "grid_template_areas": null,
            "grid_template_columns": null,
            "grid_template_rows": null,
            "height": null,
            "justify_content": null,
            "justify_items": null,
            "left": null,
            "margin": null,
            "max_height": null,
            "max_width": null,
            "min_height": null,
            "min_width": null,
            "object_fit": null,
            "object_position": null,
            "order": null,
            "overflow": null,
            "overflow_x": null,
            "overflow_y": null,
            "padding": null,
            "right": null,
            "top": null,
            "visibility": null,
            "width": null
          }
        },
        "5567c7c792ca48cf9ee3efbcae9cdf74": {
          "model_module": "@jupyter-widgets/controls",
          "model_name": "DescriptionStyleModel",
          "model_module_version": "1.5.0",
          "state": {
            "_model_module": "@jupyter-widgets/controls",
            "_model_module_version": "1.5.0",
            "_model_name": "DescriptionStyleModel",
            "_view_count": null,
            "_view_module": "@jupyter-widgets/base",
            "_view_module_version": "1.2.0",
            "_view_name": "StyleView",
            "description_width": ""
          }
        },
        "d49b16e13fc24cdd9be6900d3ecec29d": {
          "model_module": "@jupyter-widgets/controls",
          "model_name": "HBoxModel",
          "model_module_version": "1.5.0",
          "state": {
            "_dom_classes": [],
            "_model_module": "@jupyter-widgets/controls",
            "_model_module_version": "1.5.0",
            "_model_name": "HBoxModel",
            "_view_count": null,
            "_view_module": "@jupyter-widgets/controls",
            "_view_module_version": "1.5.0",
            "_view_name": "HBoxView",
            "box_style": "",
            "children": [
              "IPY_MODEL_5716415570164de499aa751ccef68313",
              "IPY_MODEL_1996156ae9b14263ab61c1da38d5e05a",
              "IPY_MODEL_1be142cca1564ae0ba42fdb13f3e6cdd"
            ],
            "layout": "IPY_MODEL_643b20962fc04765822459d927126e8b"
          }
        },
        "5716415570164de499aa751ccef68313": {
          "model_module": "@jupyter-widgets/controls",
          "model_name": "HTMLModel",
          "model_module_version": "1.5.0",
          "state": {
            "_dom_classes": [],
            "_model_module": "@jupyter-widgets/controls",
            "_model_module_version": "1.5.0",
            "_model_name": "HTMLModel",
            "_view_count": null,
            "_view_module": "@jupyter-widgets/controls",
            "_view_module_version": "1.5.0",
            "_view_name": "HTMLView",
            "description": "",
            "description_tooltip": null,
            "layout": "IPY_MODEL_c23941e8c5b94d1a89585ccbed3df734",
            "placeholder": "​",
            "style": "IPY_MODEL_6e1626fe4e1040d2b9da798028042de7",
            "value": "100%"
          }
        },
        "1996156ae9b14263ab61c1da38d5e05a": {
          "model_module": "@jupyter-widgets/controls",
          "model_name": "FloatProgressModel",
          "model_module_version": "1.5.0",
          "state": {
            "_dom_classes": [],
            "_model_module": "@jupyter-widgets/controls",
            "_model_module_version": "1.5.0",
            "_model_name": "FloatProgressModel",
            "_view_count": null,
            "_view_module": "@jupyter-widgets/controls",
            "_view_module_version": "1.5.0",
            "_view_name": "ProgressView",
            "bar_style": "success",
            "description": "",
            "description_tooltip": null,
            "layout": "IPY_MODEL_019d534748164f109888b63058e0b914",
            "max": 20,
            "min": 0,
            "orientation": "horizontal",
            "style": "IPY_MODEL_c26a9c1f6943465198ee5318ee55f79b",
            "value": 20
          }
        },
        "1be142cca1564ae0ba42fdb13f3e6cdd": {
          "model_module": "@jupyter-widgets/controls",
          "model_name": "HTMLModel",
          "model_module_version": "1.5.0",
          "state": {
            "_dom_classes": [],
            "_model_module": "@jupyter-widgets/controls",
            "_model_module_version": "1.5.0",
            "_model_name": "HTMLModel",
            "_view_count": null,
            "_view_module": "@jupyter-widgets/controls",
            "_view_module_version": "1.5.0",
            "_view_name": "HTMLView",
            "description": "",
            "description_tooltip": null,
            "layout": "IPY_MODEL_b17cfa69ad7d414d8f8d9f48a2127ff3",
            "placeholder": "​",
            "style": "IPY_MODEL_d69774dfb602414bbcbe9d913039e3c4",
            "value": " 20/20 [38:33&lt;00:00, 116.06s/it]"
          }
        },
        "643b20962fc04765822459d927126e8b": {
          "model_module": "@jupyter-widgets/base",
          "model_name": "LayoutModel",
          "model_module_version": "1.2.0",
          "state": {
            "_model_module": "@jupyter-widgets/base",
            "_model_module_version": "1.2.0",
            "_model_name": "LayoutModel",
            "_view_count": null,
            "_view_module": "@jupyter-widgets/base",
            "_view_module_version": "1.2.0",
            "_view_name": "LayoutView",
            "align_content": null,
            "align_items": null,
            "align_self": null,
            "border": null,
            "bottom": null,
            "display": null,
            "flex": null,
            "flex_flow": null,
            "grid_area": null,
            "grid_auto_columns": null,
            "grid_auto_flow": null,
            "grid_auto_rows": null,
            "grid_column": null,
            "grid_gap": null,
            "grid_row": null,
            "grid_template_areas": null,
            "grid_template_columns": null,
            "grid_template_rows": null,
            "height": null,
            "justify_content": null,
            "justify_items": null,
            "left": null,
            "margin": null,
            "max_height": null,
            "max_width": null,
            "min_height": null,
            "min_width": null,
            "object_fit": null,
            "object_position": null,
            "order": null,
            "overflow": null,
            "overflow_x": null,
            "overflow_y": null,
            "padding": null,
            "right": null,
            "top": null,
            "visibility": null,
            "width": null
          }
        },
        "c23941e8c5b94d1a89585ccbed3df734": {
          "model_module": "@jupyter-widgets/base",
          "model_name": "LayoutModel",
          "model_module_version": "1.2.0",
          "state": {
            "_model_module": "@jupyter-widgets/base",
            "_model_module_version": "1.2.0",
            "_model_name": "LayoutModel",
            "_view_count": null,
            "_view_module": "@jupyter-widgets/base",
            "_view_module_version": "1.2.0",
            "_view_name": "LayoutView",
            "align_content": null,
            "align_items": null,
            "align_self": null,
            "border": null,
            "bottom": null,
            "display": null,
            "flex": null,
            "flex_flow": null,
            "grid_area": null,
            "grid_auto_columns": null,
            "grid_auto_flow": null,
            "grid_auto_rows": null,
            "grid_column": null,
            "grid_gap": null,
            "grid_row": null,
            "grid_template_areas": null,
            "grid_template_columns": null,
            "grid_template_rows": null,
            "height": null,
            "justify_content": null,
            "justify_items": null,
            "left": null,
            "margin": null,
            "max_height": null,
            "max_width": null,
            "min_height": null,
            "min_width": null,
            "object_fit": null,
            "object_position": null,
            "order": null,
            "overflow": null,
            "overflow_x": null,
            "overflow_y": null,
            "padding": null,
            "right": null,
            "top": null,
            "visibility": null,
            "width": null
          }
        },
        "6e1626fe4e1040d2b9da798028042de7": {
          "model_module": "@jupyter-widgets/controls",
          "model_name": "DescriptionStyleModel",
          "model_module_version": "1.5.0",
          "state": {
            "_model_module": "@jupyter-widgets/controls",
            "_model_module_version": "1.5.0",
            "_model_name": "DescriptionStyleModel",
            "_view_count": null,
            "_view_module": "@jupyter-widgets/base",
            "_view_module_version": "1.2.0",
            "_view_name": "StyleView",
            "description_width": ""
          }
        },
        "019d534748164f109888b63058e0b914": {
          "model_module": "@jupyter-widgets/base",
          "model_name": "LayoutModel",
          "model_module_version": "1.2.0",
          "state": {
            "_model_module": "@jupyter-widgets/base",
            "_model_module_version": "1.2.0",
            "_model_name": "LayoutModel",
            "_view_count": null,
            "_view_module": "@jupyter-widgets/base",
            "_view_module_version": "1.2.0",
            "_view_name": "LayoutView",
            "align_content": null,
            "align_items": null,
            "align_self": null,
            "border": null,
            "bottom": null,
            "display": null,
            "flex": null,
            "flex_flow": null,
            "grid_area": null,
            "grid_auto_columns": null,
            "grid_auto_flow": null,
            "grid_auto_rows": null,
            "grid_column": null,
            "grid_gap": null,
            "grid_row": null,
            "grid_template_areas": null,
            "grid_template_columns": null,
            "grid_template_rows": null,
            "height": null,
            "justify_content": null,
            "justify_items": null,
            "left": null,
            "margin": null,
            "max_height": null,
            "max_width": null,
            "min_height": null,
            "min_width": null,
            "object_fit": null,
            "object_position": null,
            "order": null,
            "overflow": null,
            "overflow_x": null,
            "overflow_y": null,
            "padding": null,
            "right": null,
            "top": null,
            "visibility": null,
            "width": null
          }
        },
        "c26a9c1f6943465198ee5318ee55f79b": {
          "model_module": "@jupyter-widgets/controls",
          "model_name": "ProgressStyleModel",
          "model_module_version": "1.5.0",
          "state": {
            "_model_module": "@jupyter-widgets/controls",
            "_model_module_version": "1.5.0",
            "_model_name": "ProgressStyleModel",
            "_view_count": null,
            "_view_module": "@jupyter-widgets/base",
            "_view_module_version": "1.2.0",
            "_view_name": "StyleView",
            "bar_color": null,
            "description_width": ""
          }
        },
        "b17cfa69ad7d414d8f8d9f48a2127ff3": {
          "model_module": "@jupyter-widgets/base",
          "model_name": "LayoutModel",
          "model_module_version": "1.2.0",
          "state": {
            "_model_module": "@jupyter-widgets/base",
            "_model_module_version": "1.2.0",
            "_model_name": "LayoutModel",
            "_view_count": null,
            "_view_module": "@jupyter-widgets/base",
            "_view_module_version": "1.2.0",
            "_view_name": "LayoutView",
            "align_content": null,
            "align_items": null,
            "align_self": null,
            "border": null,
            "bottom": null,
            "display": null,
            "flex": null,
            "flex_flow": null,
            "grid_area": null,
            "grid_auto_columns": null,
            "grid_auto_flow": null,
            "grid_auto_rows": null,
            "grid_column": null,
            "grid_gap": null,
            "grid_row": null,
            "grid_template_areas": null,
            "grid_template_columns": null,
            "grid_template_rows": null,
            "height": null,
            "justify_content": null,
            "justify_items": null,
            "left": null,
            "margin": null,
            "max_height": null,
            "max_width": null,
            "min_height": null,
            "min_width": null,
            "object_fit": null,
            "object_position": null,
            "order": null,
            "overflow": null,
            "overflow_x": null,
            "overflow_y": null,
            "padding": null,
            "right": null,
            "top": null,
            "visibility": null,
            "width": null
          }
        },
        "d69774dfb602414bbcbe9d913039e3c4": {
          "model_module": "@jupyter-widgets/controls",
          "model_name": "DescriptionStyleModel",
          "model_module_version": "1.5.0",
          "state": {
            "_model_module": "@jupyter-widgets/controls",
            "_model_module_version": "1.5.0",
            "_model_name": "DescriptionStyleModel",
            "_view_count": null,
            "_view_module": "@jupyter-widgets/base",
            "_view_module_version": "1.2.0",
            "_view_name": "StyleView",
            "description_width": ""
          }
        },
        "acfa3b55ab404a8fa684b56c98d59377": {
          "model_module": "@jupyter-widgets/controls",
          "model_name": "HBoxModel",
          "model_module_version": "1.5.0",
          "state": {
            "_dom_classes": [],
            "_model_module": "@jupyter-widgets/controls",
            "_model_module_version": "1.5.0",
            "_model_name": "HBoxModel",
            "_view_count": null,
            "_view_module": "@jupyter-widgets/controls",
            "_view_module_version": "1.5.0",
            "_view_name": "HBoxView",
            "box_style": "",
            "children": [
              "IPY_MODEL_f1174fb0bc174bf186d9e5af732f65b4",
              "IPY_MODEL_f687a95dc4a44dcda81de246b9389999",
              "IPY_MODEL_19f4835037304bf68dd6e06fd0773fae"
            ],
            "layout": "IPY_MODEL_f678b8ccfc564909a69f527d6ea179fc"
          }
        },
        "f1174fb0bc174bf186d9e5af732f65b4": {
          "model_module": "@jupyter-widgets/controls",
          "model_name": "HTMLModel",
          "model_module_version": "1.5.0",
          "state": {
            "_dom_classes": [],
            "_model_module": "@jupyter-widgets/controls",
            "_model_module_version": "1.5.0",
            "_model_name": "HTMLModel",
            "_view_count": null,
            "_view_module": "@jupyter-widgets/controls",
            "_view_module_version": "1.5.0",
            "_view_name": "HTMLView",
            "description": "",
            "description_tooltip": null,
            "layout": "IPY_MODEL_42d17263f84a458ba645a5caabfce937",
            "placeholder": "​",
            "style": "IPY_MODEL_ef41d17e5ae34884b7f26d69f663b87e",
            "value": "100%"
          }
        },
        "f687a95dc4a44dcda81de246b9389999": {
          "model_module": "@jupyter-widgets/controls",
          "model_name": "FloatProgressModel",
          "model_module_version": "1.5.0",
          "state": {
            "_dom_classes": [],
            "_model_module": "@jupyter-widgets/controls",
            "_model_module_version": "1.5.0",
            "_model_name": "FloatProgressModel",
            "_view_count": null,
            "_view_module": "@jupyter-widgets/controls",
            "_view_module_version": "1.5.0",
            "_view_name": "ProgressView",
            "bar_style": "success",
            "description": "",
            "description_tooltip": null,
            "layout": "IPY_MODEL_9e53954289ea49c08519d1f1ba376655",
            "max": 20,
            "min": 0,
            "orientation": "horizontal",
            "style": "IPY_MODEL_b289cb2d2f284f10a85237d4fd38ba27",
            "value": 20
          }
        },
        "19f4835037304bf68dd6e06fd0773fae": {
          "model_module": "@jupyter-widgets/controls",
          "model_name": "HTMLModel",
          "model_module_version": "1.5.0",
          "state": {
            "_dom_classes": [],
            "_model_module": "@jupyter-widgets/controls",
            "_model_module_version": "1.5.0",
            "_model_name": "HTMLModel",
            "_view_count": null,
            "_view_module": "@jupyter-widgets/controls",
            "_view_module_version": "1.5.0",
            "_view_name": "HTMLView",
            "description": "",
            "description_tooltip": null,
            "layout": "IPY_MODEL_288165ede46c49188a045fb3ffed1198",
            "placeholder": "​",
            "style": "IPY_MODEL_0809b20bc75745e8b8a5a0f41928c9b6",
            "value": " 20/20 [1:01:21&lt;00:00, 187.98s/it]"
          }
        },
        "f678b8ccfc564909a69f527d6ea179fc": {
          "model_module": "@jupyter-widgets/base",
          "model_name": "LayoutModel",
          "model_module_version": "1.2.0",
          "state": {
            "_model_module": "@jupyter-widgets/base",
            "_model_module_version": "1.2.0",
            "_model_name": "LayoutModel",
            "_view_count": null,
            "_view_module": "@jupyter-widgets/base",
            "_view_module_version": "1.2.0",
            "_view_name": "LayoutView",
            "align_content": null,
            "align_items": null,
            "align_self": null,
            "border": null,
            "bottom": null,
            "display": null,
            "flex": null,
            "flex_flow": null,
            "grid_area": null,
            "grid_auto_columns": null,
            "grid_auto_flow": null,
            "grid_auto_rows": null,
            "grid_column": null,
            "grid_gap": null,
            "grid_row": null,
            "grid_template_areas": null,
            "grid_template_columns": null,
            "grid_template_rows": null,
            "height": null,
            "justify_content": null,
            "justify_items": null,
            "left": null,
            "margin": null,
            "max_height": null,
            "max_width": null,
            "min_height": null,
            "min_width": null,
            "object_fit": null,
            "object_position": null,
            "order": null,
            "overflow": null,
            "overflow_x": null,
            "overflow_y": null,
            "padding": null,
            "right": null,
            "top": null,
            "visibility": null,
            "width": null
          }
        },
        "42d17263f84a458ba645a5caabfce937": {
          "model_module": "@jupyter-widgets/base",
          "model_name": "LayoutModel",
          "model_module_version": "1.2.0",
          "state": {
            "_model_module": "@jupyter-widgets/base",
            "_model_module_version": "1.2.0",
            "_model_name": "LayoutModel",
            "_view_count": null,
            "_view_module": "@jupyter-widgets/base",
            "_view_module_version": "1.2.0",
            "_view_name": "LayoutView",
            "align_content": null,
            "align_items": null,
            "align_self": null,
            "border": null,
            "bottom": null,
            "display": null,
            "flex": null,
            "flex_flow": null,
            "grid_area": null,
            "grid_auto_columns": null,
            "grid_auto_flow": null,
            "grid_auto_rows": null,
            "grid_column": null,
            "grid_gap": null,
            "grid_row": null,
            "grid_template_areas": null,
            "grid_template_columns": null,
            "grid_template_rows": null,
            "height": null,
            "justify_content": null,
            "justify_items": null,
            "left": null,
            "margin": null,
            "max_height": null,
            "max_width": null,
            "min_height": null,
            "min_width": null,
            "object_fit": null,
            "object_position": null,
            "order": null,
            "overflow": null,
            "overflow_x": null,
            "overflow_y": null,
            "padding": null,
            "right": null,
            "top": null,
            "visibility": null,
            "width": null
          }
        },
        "ef41d17e5ae34884b7f26d69f663b87e": {
          "model_module": "@jupyter-widgets/controls",
          "model_name": "DescriptionStyleModel",
          "model_module_version": "1.5.0",
          "state": {
            "_model_module": "@jupyter-widgets/controls",
            "_model_module_version": "1.5.0",
            "_model_name": "DescriptionStyleModel",
            "_view_count": null,
            "_view_module": "@jupyter-widgets/base",
            "_view_module_version": "1.2.0",
            "_view_name": "StyleView",
            "description_width": ""
          }
        },
        "9e53954289ea49c08519d1f1ba376655": {
          "model_module": "@jupyter-widgets/base",
          "model_name": "LayoutModel",
          "model_module_version": "1.2.0",
          "state": {
            "_model_module": "@jupyter-widgets/base",
            "_model_module_version": "1.2.0",
            "_model_name": "LayoutModel",
            "_view_count": null,
            "_view_module": "@jupyter-widgets/base",
            "_view_module_version": "1.2.0",
            "_view_name": "LayoutView",
            "align_content": null,
            "align_items": null,
            "align_self": null,
            "border": null,
            "bottom": null,
            "display": null,
            "flex": null,
            "flex_flow": null,
            "grid_area": null,
            "grid_auto_columns": null,
            "grid_auto_flow": null,
            "grid_auto_rows": null,
            "grid_column": null,
            "grid_gap": null,
            "grid_row": null,
            "grid_template_areas": null,
            "grid_template_columns": null,
            "grid_template_rows": null,
            "height": null,
            "justify_content": null,
            "justify_items": null,
            "left": null,
            "margin": null,
            "max_height": null,
            "max_width": null,
            "min_height": null,
            "min_width": null,
            "object_fit": null,
            "object_position": null,
            "order": null,
            "overflow": null,
            "overflow_x": null,
            "overflow_y": null,
            "padding": null,
            "right": null,
            "top": null,
            "visibility": null,
            "width": null
          }
        },
        "b289cb2d2f284f10a85237d4fd38ba27": {
          "model_module": "@jupyter-widgets/controls",
          "model_name": "ProgressStyleModel",
          "model_module_version": "1.5.0",
          "state": {
            "_model_module": "@jupyter-widgets/controls",
            "_model_module_version": "1.5.0",
            "_model_name": "ProgressStyleModel",
            "_view_count": null,
            "_view_module": "@jupyter-widgets/base",
            "_view_module_version": "1.2.0",
            "_view_name": "StyleView",
            "bar_color": null,
            "description_width": ""
          }
        },
        "288165ede46c49188a045fb3ffed1198": {
          "model_module": "@jupyter-widgets/base",
          "model_name": "LayoutModel",
          "model_module_version": "1.2.0",
          "state": {
            "_model_module": "@jupyter-widgets/base",
            "_model_module_version": "1.2.0",
            "_model_name": "LayoutModel",
            "_view_count": null,
            "_view_module": "@jupyter-widgets/base",
            "_view_module_version": "1.2.0",
            "_view_name": "LayoutView",
            "align_content": null,
            "align_items": null,
            "align_self": null,
            "border": null,
            "bottom": null,
            "display": null,
            "flex": null,
            "flex_flow": null,
            "grid_area": null,
            "grid_auto_columns": null,
            "grid_auto_flow": null,
            "grid_auto_rows": null,
            "grid_column": null,
            "grid_gap": null,
            "grid_row": null,
            "grid_template_areas": null,
            "grid_template_columns": null,
            "grid_template_rows": null,
            "height": null,
            "justify_content": null,
            "justify_items": null,
            "left": null,
            "margin": null,
            "max_height": null,
            "max_width": null,
            "min_height": null,
            "min_width": null,
            "object_fit": null,
            "object_position": null,
            "order": null,
            "overflow": null,
            "overflow_x": null,
            "overflow_y": null,
            "padding": null,
            "right": null,
            "top": null,
            "visibility": null,
            "width": null
          }
        },
        "0809b20bc75745e8b8a5a0f41928c9b6": {
          "model_module": "@jupyter-widgets/controls",
          "model_name": "DescriptionStyleModel",
          "model_module_version": "1.5.0",
          "state": {
            "_model_module": "@jupyter-widgets/controls",
            "_model_module_version": "1.5.0",
            "_model_name": "DescriptionStyleModel",
            "_view_count": null,
            "_view_module": "@jupyter-widgets/base",
            "_view_module_version": "1.2.0",
            "_view_name": "StyleView",
            "description_width": ""
          }
        }
      }
    }
  },
  "cells": [
    {
      "cell_type": "markdown",
      "metadata": {
        "id": "view-in-github",
        "colab_type": "text"
      },
      "source": [
        "<a href=\"https://colab.research.google.com/github/swoo-nam/project_final_team1/blob/main/%EB%82%A8%EC%83%81%EC%9A%B0_LSTM%EC%9D%84_%ED%99%9C%EC%9A%A9%ED%95%9C_%EC%83%9D%EC%84%B1AI_%EB%AA%A8%EB%8D%B8%EB%A7%81_pytorch.ipynb\" target=\"_parent\"><img src=\"https://colab.research.google.com/assets/colab-badge.svg\" alt=\"Open In Colab\"/></a>"
      ]
    },
    {
      "cell_type": "code",
      "source": [
        "# !pip install kiwipiepy"
      ],
      "metadata": {
        "id": "zPaUshpXAAkI"
      },
      "execution_count": 1,
      "outputs": []
    },
    {
      "cell_type": "code",
      "source": [
        "!pip install konlpy"
      ],
      "metadata": {
        "id": "Rw6lvFBYgWt2",
        "colab": {
          "base_uri": "https://localhost:8080/"
        },
        "outputId": "ebfa5d12-8908-47b7-d73d-2120330ad202"
      },
      "execution_count": 2,
      "outputs": [
        {
          "output_type": "stream",
          "name": "stdout",
          "text": [
            "Collecting konlpy\n",
            "  Downloading konlpy-0.6.0-py2.py3-none-any.whl (19.4 MB)\n",
            "\u001b[2K     \u001b[90m━━━━━━━━━━━━━━━━━━━━━━━━━━━━━━━━━━━━━━━━\u001b[0m \u001b[32m19.4/19.4 MB\u001b[0m \u001b[31m72.0 MB/s\u001b[0m eta \u001b[36m0:00:00\u001b[0m\n",
            "\u001b[?25hCollecting JPype1>=0.7.0 (from konlpy)\n",
            "  Downloading JPype1-1.4.1-cp310-cp310-manylinux_2_12_x86_64.manylinux2010_x86_64.whl (465 kB)\n",
            "\u001b[2K     \u001b[90m━━━━━━━━━━━━━━━━━━━━━━━━━━━━━━━━━━━━━━\u001b[0m \u001b[32m465.3/465.3 kB\u001b[0m \u001b[31m48.5 MB/s\u001b[0m eta \u001b[36m0:00:00\u001b[0m\n",
            "\u001b[?25hRequirement already satisfied: lxml>=4.1.0 in /usr/local/lib/python3.10/dist-packages (from konlpy) (4.9.3)\n",
            "Requirement already satisfied: numpy>=1.6 in /usr/local/lib/python3.10/dist-packages (from konlpy) (1.23.5)\n",
            "Requirement already satisfied: packaging in /usr/local/lib/python3.10/dist-packages (from JPype1>=0.7.0->konlpy) (23.1)\n",
            "Installing collected packages: JPype1, konlpy\n",
            "Successfully installed JPype1-1.4.1 konlpy-0.6.0\n"
          ]
        }
      ]
    },
    {
      "cell_type": "code",
      "execution_count": 3,
      "metadata": {
        "id": "f4ZVXFzhuuTv",
        "colab": {
          "base_uri": "https://localhost:8080/"
        },
        "outputId": "6b2bed4e-a94f-4ce2-b588-562428563b1a"
      },
      "outputs": [
        {
          "output_type": "stream",
          "name": "stdout",
          "text": [
            "Mounted at /content/drive\n"
          ]
        }
      ],
      "source": [
        "from google.colab import drive\n",
        "drive.mount('/content/drive')"
      ]
    },
    {
      "cell_type": "code",
      "source": [
        "import torch\n",
        "import torch.nn as nn\n",
        "from torch import optim\n",
        "import torch.nn.functional as F\n",
        "from torch.utils.data.dataset import Dataset\n",
        "\n",
        "from sklearn.utils import resample"
      ],
      "metadata": {
        "id": "QDE8QJtGMEOz"
      },
      "execution_count": 4,
      "outputs": []
    },
    {
      "cell_type": "code",
      "source": [
        "import pandas as pd\n",
        "import numpy as np\n",
        "import re\n",
        "from tqdm.auto import tqdm\n",
        "import random\n",
        "import os\n",
        "\n",
        "def reset_seeds(seed):\n",
        "    random.seed(seed)\n",
        "    os.environ['PYTHONHASHSEED'] = str(seed)\n",
        "    np.random.seed(seed)\n",
        "    torch.manual_seed(seed)\n",
        "    torch.cuda.manual_seed(seed)\n",
        "    torch.backends.cudnn.deterministic = True\n",
        "\n",
        "DATA_PATH = \"/content/drive/MyDrive/project_final/data/\"\n",
        "SEED = 42\n",
        "\n",
        "device = 'cuda' if torch.cuda.is_available() else 'cpu'\n",
        "device"
      ],
      "metadata": {
        "id": "10dsMhpDu1rd",
        "colab": {
          "base_uri": "https://localhost:8080/",
          "height": 35
        },
        "outputId": "17e5e0a1-c495-439b-921d-96ab8e0de1bf"
      },
      "execution_count": 5,
      "outputs": [
        {
          "output_type": "execute_result",
          "data": {
            "text/plain": [
              "'cuda'"
            ],
            "application/vnd.google.colaboratory.intrinsic+json": {
              "type": "string"
            }
          },
          "metadata": {},
          "execution_count": 5
        }
      ]
    },
    {
      "cell_type": "markdown",
      "source": [
        "# 데이터 불러오기"
      ],
      "metadata": {
        "id": "VwJecjdYAEVY"
      }
    },
    {
      "cell_type": "markdown",
      "source": [
        "### 전체 데이터셋"
      ],
      "metadata": {
        "id": "KE5MH7ONb_h8"
      }
    },
    {
      "cell_type": "code",
      "source": [
        "yo_review =pd.read_csv(f\"{DATA_PATH}yogiyo_reviews_jsi.csv\")['고객리뷰']\n",
        "yo_reply = pd.read_csv(f\"{DATA_PATH}yogiyo_reviews_jsi.csv\")['사장댓글']\n",
        "yo_star = pd.read_csv(f\"{DATA_PATH}yogiyo_reviews_jsi.csv\")['별점']\n",
        "\n",
        "train = pd.concat([yo_review, yo_reply, yo_star], axis=1)\n",
        "rename_cols = ['review', 'reply', 'star']\n",
        "train.columns = rename_cols\n",
        "train['star'].value_counts().sort_index() # 별점 분포 확인\n",
        "\n",
        "# shuffled_df = train.sample(frac=1, random_state=2)  # frac=1은 모든 행을 선택, random_state는 재현 가능한 랜덤 설정\n",
        "# train = shuffled_df.iloc[:1000].reset_index(drop=True)"
      ],
      "metadata": {
        "id": "lpUaRZnAvWSs",
        "colab": {
          "base_uri": "https://localhost:8080/"
        },
        "outputId": "e47cf40e-723b-47bd-98c3-0ed9f2ffa1fa"
      },
      "execution_count": 6,
      "outputs": [
        {
          "output_type": "execute_result",
          "data": {
            "text/plain": [
              "1       92\n",
              "2       64\n",
              "3      179\n",
              "4      560\n",
              "5    17791\n",
              "Name: star, dtype: int64"
            ]
          },
          "metadata": {},
          "execution_count": 6
        }
      ]
    },
    {
      "cell_type": "code",
      "source": [
        "# 중복된 답변을 한 경우 행 전체 삭제\n",
        "train.drop_duplicates(subset='reply', keep=False, inplace=True)"
      ],
      "metadata": {
        "id": "qYqmmzy2QicQ"
      },
      "execution_count": 7,
      "outputs": []
    },
    {
      "cell_type": "markdown",
      "source": [
        "### 오버샘플링"
      ],
      "metadata": {
        "id": "NkIogOoaZxCq"
      }
    },
    {
      "cell_type": "code",
      "source": [
        "# 별점 분포 확인\n",
        "star_distribution = train['star'].value_counts().sort_index()\n",
        "print(star_distribution)"
      ],
      "metadata": {
        "colab": {
          "base_uri": "https://localhost:8080/"
        },
        "id": "7B4dgTO6RDeB",
        "outputId": "a96a19b1-7b06-499c-cad5-8ac58ee1087c"
      },
      "execution_count": 8,
      "outputs": [
        {
          "output_type": "stream",
          "name": "stdout",
          "text": [
            "1      90\n",
            "2      61\n",
            "3     153\n",
            "4     422\n",
            "5    9776\n",
            "Name: star, dtype: int64\n"
          ]
        }
      ]
    },
    {
      "cell_type": "code",
      "source": [
        "max_samples = 2500 # 최대 샘플 수\n",
        "oversampled_dfs = []\n",
        "for star, count in star_distribution.items():\n",
        "    subset = train[train['star'] == star]\n",
        "    if star != 5: # 별점 5점 제외하고 오버샘플링\n",
        "        resampled = resample(subset, replace=True, n_samples=max_samples, random_state=SEED)\n",
        "        oversampled_dfs.append(resampled)\n",
        "    else:\n",
        "        # shuffled_dfs = train[train['star'] == 5].sample(frac=1, random_state=2).reset_index(drop=True)\n",
        "        # subset = shuffled_dfs.iloc[:2500] # 별점이 5인 경우는 2500개 랜덤 추출해서 전체 비율 맞추기\n",
        "        oversampled_dfs.append(subset)\n",
        "\n",
        "train = pd.concat(oversampled_dfs).reset_index(drop=True)\n",
        "train['star'].value_counts().sort_index()"
      ],
      "metadata": {
        "id": "z2E-1HoHZyiK",
        "colab": {
          "base_uri": "https://localhost:8080/"
        },
        "outputId": "9589e81d-755b-44da-99fa-348b45ad1497"
      },
      "execution_count": 9,
      "outputs": [
        {
          "output_type": "execute_result",
          "data": {
            "text/plain": [
              "1    2500\n",
              "2    2500\n",
              "3    2500\n",
              "4    2500\n",
              "5    9776\n",
              "Name: star, dtype: int64"
            ]
          },
          "metadata": {},
          "execution_count": 9
        }
      ]
    },
    {
      "cell_type": "code",
      "source": [
        "# 별점 컬럼 삭제\n",
        "train = train.drop(columns=['star'])\n",
        "train.head()"
      ],
      "metadata": {
        "colab": {
          "base_uri": "https://localhost:8080/",
          "height": 206
        },
        "id": "cdgHLKBQa0Sm",
        "outputId": "cbd4cdf1-0b5a-410b-bef3-1632659beb65"
      },
      "execution_count": 10,
      "outputs": [
        {
          "output_type": "execute_result",
          "data": {
            "text/plain": [
              "                                              review  \\\n",
              "0                                         죽에서비린맛이났어요   \n",
              "1  머리카락나옴. 위생신경좀\\r\\n국수와 숙주 비율 1:1\\r\\n맛 없음. 이맛도 저맛...   \n",
              "2  다시는 안시킨다.. 배달이 지나치게 늦음.. 주문한지 2시간반 지났는데 아직도 안오...   \n",
              "3  사이드메뉴닭다리2개시켰는데 편의점다리가왔네요...비싸도 믿고첨시켜봤는데...\\n전체...   \n",
              "4  오늘도 맛있게 먹게 해주셔서 감사합니다.\\n그런데 지난번 누룽지 사건 이후로 사장님...   \n",
              "\n",
              "                                               reply  \n",
              "0  만족하셨더라면 좋았을걸 저희도 아쉽네요.\\n전복 '특' 에는 고명으로 전복 슬라이스...  \n",
              "1  안녕하세요 고객님ㅜㅜ\\n다시 한 번 사과의 말씀드리고 싶습니다 ㅠㅠ 오늘 직원들과의...  \n",
              "2  죄송해요 손님 최근 기상악화로 배달대행사에 에로사항이 많다보니 1시간 2시간이 걸려...  \n",
              "3                   봉구비어 닭다리에용ㅠㅠ\\n매장에서 인기많은데ㅠㅠ\\n죄송해요  \n",
              "4  안녕하세요 고객님\\n저희 매장 다시 찾아주셨는데 만족 드리지 못해 죄송합니다\\n고의...  "
            ],
            "text/html": [
              "\n",
              "  <div id=\"df-21872ffb-3684-404f-9ded-47feb532f409\" class=\"colab-df-container\">\n",
              "    <div>\n",
              "<style scoped>\n",
              "    .dataframe tbody tr th:only-of-type {\n",
              "        vertical-align: middle;\n",
              "    }\n",
              "\n",
              "    .dataframe tbody tr th {\n",
              "        vertical-align: top;\n",
              "    }\n",
              "\n",
              "    .dataframe thead th {\n",
              "        text-align: right;\n",
              "    }\n",
              "</style>\n",
              "<table border=\"1\" class=\"dataframe\">\n",
              "  <thead>\n",
              "    <tr style=\"text-align: right;\">\n",
              "      <th></th>\n",
              "      <th>review</th>\n",
              "      <th>reply</th>\n",
              "    </tr>\n",
              "  </thead>\n",
              "  <tbody>\n",
              "    <tr>\n",
              "      <th>0</th>\n",
              "      <td>죽에서비린맛이났어요</td>\n",
              "      <td>만족하셨더라면 좋았을걸 저희도 아쉽네요.\\n전복 '특' 에는 고명으로 전복 슬라이스...</td>\n",
              "    </tr>\n",
              "    <tr>\n",
              "      <th>1</th>\n",
              "      <td>머리카락나옴. 위생신경좀\\r\\n국수와 숙주 비율 1:1\\r\\n맛 없음. 이맛도 저맛...</td>\n",
              "      <td>안녕하세요 고객님ㅜㅜ\\n다시 한 번 사과의 말씀드리고 싶습니다 ㅠㅠ 오늘 직원들과의...</td>\n",
              "    </tr>\n",
              "    <tr>\n",
              "      <th>2</th>\n",
              "      <td>다시는 안시킨다.. 배달이 지나치게 늦음.. 주문한지 2시간반 지났는데 아직도 안오...</td>\n",
              "      <td>죄송해요 손님 최근 기상악화로 배달대행사에 에로사항이 많다보니 1시간 2시간이 걸려...</td>\n",
              "    </tr>\n",
              "    <tr>\n",
              "      <th>3</th>\n",
              "      <td>사이드메뉴닭다리2개시켰는데 편의점다리가왔네요...비싸도 믿고첨시켜봤는데...\\n전체...</td>\n",
              "      <td>봉구비어 닭다리에용ㅠㅠ\\n매장에서 인기많은데ㅠㅠ\\n죄송해요</td>\n",
              "    </tr>\n",
              "    <tr>\n",
              "      <th>4</th>\n",
              "      <td>오늘도 맛있게 먹게 해주셔서 감사합니다.\\n그런데 지난번 누룽지 사건 이후로 사장님...</td>\n",
              "      <td>안녕하세요 고객님\\n저희 매장 다시 찾아주셨는데 만족 드리지 못해 죄송합니다\\n고의...</td>\n",
              "    </tr>\n",
              "  </tbody>\n",
              "</table>\n",
              "</div>\n",
              "    <div class=\"colab-df-buttons\">\n",
              "\n",
              "  <div class=\"colab-df-container\">\n",
              "    <button class=\"colab-df-convert\" onclick=\"convertToInteractive('df-21872ffb-3684-404f-9ded-47feb532f409')\"\n",
              "            title=\"Convert this dataframe to an interactive table.\"\n",
              "            style=\"display:none;\">\n",
              "\n",
              "  <svg xmlns=\"http://www.w3.org/2000/svg\" height=\"24px\" viewBox=\"0 -960 960 960\">\n",
              "    <path d=\"M120-120v-720h720v720H120Zm60-500h600v-160H180v160Zm220 220h160v-160H400v160Zm0 220h160v-160H400v160ZM180-400h160v-160H180v160Zm440 0h160v-160H620v160ZM180-180h160v-160H180v160Zm440 0h160v-160H620v160Z\"/>\n",
              "  </svg>\n",
              "    </button>\n",
              "\n",
              "  <style>\n",
              "    .colab-df-container {\n",
              "      display:flex;\n",
              "      gap: 12px;\n",
              "    }\n",
              "\n",
              "    .colab-df-convert {\n",
              "      background-color: #E8F0FE;\n",
              "      border: none;\n",
              "      border-radius: 50%;\n",
              "      cursor: pointer;\n",
              "      display: none;\n",
              "      fill: #1967D2;\n",
              "      height: 32px;\n",
              "      padding: 0 0 0 0;\n",
              "      width: 32px;\n",
              "    }\n",
              "\n",
              "    .colab-df-convert:hover {\n",
              "      background-color: #E2EBFA;\n",
              "      box-shadow: 0px 1px 2px rgba(60, 64, 67, 0.3), 0px 1px 3px 1px rgba(60, 64, 67, 0.15);\n",
              "      fill: #174EA6;\n",
              "    }\n",
              "\n",
              "    .colab-df-buttons div {\n",
              "      margin-bottom: 4px;\n",
              "    }\n",
              "\n",
              "    [theme=dark] .colab-df-convert {\n",
              "      background-color: #3B4455;\n",
              "      fill: #D2E3FC;\n",
              "    }\n",
              "\n",
              "    [theme=dark] .colab-df-convert:hover {\n",
              "      background-color: #434B5C;\n",
              "      box-shadow: 0px 1px 3px 1px rgba(0, 0, 0, 0.15);\n",
              "      filter: drop-shadow(0px 1px 2px rgba(0, 0, 0, 0.3));\n",
              "      fill: #FFFFFF;\n",
              "    }\n",
              "  </style>\n",
              "\n",
              "    <script>\n",
              "      const buttonEl =\n",
              "        document.querySelector('#df-21872ffb-3684-404f-9ded-47feb532f409 button.colab-df-convert');\n",
              "      buttonEl.style.display =\n",
              "        google.colab.kernel.accessAllowed ? 'block' : 'none';\n",
              "\n",
              "      async function convertToInteractive(key) {\n",
              "        const element = document.querySelector('#df-21872ffb-3684-404f-9ded-47feb532f409');\n",
              "        const dataTable =\n",
              "          await google.colab.kernel.invokeFunction('convertToInteractive',\n",
              "                                                    [key], {});\n",
              "        if (!dataTable) return;\n",
              "\n",
              "        const docLinkHtml = 'Like what you see? Visit the ' +\n",
              "          '<a target=\"_blank\" href=https://colab.research.google.com/notebooks/data_table.ipynb>data table notebook</a>'\n",
              "          + ' to learn more about interactive tables.';\n",
              "        element.innerHTML = '';\n",
              "        dataTable['output_type'] = 'display_data';\n",
              "        await google.colab.output.renderOutput(dataTable, element);\n",
              "        const docLink = document.createElement('div');\n",
              "        docLink.innerHTML = docLinkHtml;\n",
              "        element.appendChild(docLink);\n",
              "      }\n",
              "    </script>\n",
              "  </div>\n",
              "\n",
              "\n",
              "<div id=\"df-07b7e6a8-d064-41c6-a599-8150b2563a17\">\n",
              "  <button class=\"colab-df-quickchart\" onclick=\"quickchart('df-07b7e6a8-d064-41c6-a599-8150b2563a17')\"\n",
              "            title=\"Suggest charts.\"\n",
              "            style=\"display:none;\">\n",
              "\n",
              "<svg xmlns=\"http://www.w3.org/2000/svg\" height=\"24px\"viewBox=\"0 0 24 24\"\n",
              "     width=\"24px\">\n",
              "    <g>\n",
              "        <path d=\"M19 3H5c-1.1 0-2 .9-2 2v14c0 1.1.9 2 2 2h14c1.1 0 2-.9 2-2V5c0-1.1-.9-2-2-2zM9 17H7v-7h2v7zm4 0h-2V7h2v10zm4 0h-2v-4h2v4z\"/>\n",
              "    </g>\n",
              "</svg>\n",
              "  </button>\n",
              "\n",
              "<style>\n",
              "  .colab-df-quickchart {\n",
              "    background-color: #E8F0FE;\n",
              "    border: none;\n",
              "    border-radius: 50%;\n",
              "    cursor: pointer;\n",
              "    display: none;\n",
              "    fill: #1967D2;\n",
              "    height: 32px;\n",
              "    padding: 0 0 0 0;\n",
              "    width: 32px;\n",
              "  }\n",
              "\n",
              "  .colab-df-quickchart:hover {\n",
              "    background-color: #E2EBFA;\n",
              "    box-shadow: 0px 1px 2px rgba(60, 64, 67, 0.3), 0px 1px 3px 1px rgba(60, 64, 67, 0.15);\n",
              "    fill: #174EA6;\n",
              "  }\n",
              "\n",
              "  [theme=dark] .colab-df-quickchart {\n",
              "    background-color: #3B4455;\n",
              "    fill: #D2E3FC;\n",
              "  }\n",
              "\n",
              "  [theme=dark] .colab-df-quickchart:hover {\n",
              "    background-color: #434B5C;\n",
              "    box-shadow: 0px 1px 3px 1px rgba(0, 0, 0, 0.15);\n",
              "    filter: drop-shadow(0px 1px 2px rgba(0, 0, 0, 0.3));\n",
              "    fill: #FFFFFF;\n",
              "  }\n",
              "</style>\n",
              "\n",
              "  <script>\n",
              "    async function quickchart(key) {\n",
              "      const charts = await google.colab.kernel.invokeFunction(\n",
              "          'suggestCharts', [key], {});\n",
              "    }\n",
              "    (() => {\n",
              "      let quickchartButtonEl =\n",
              "        document.querySelector('#df-07b7e6a8-d064-41c6-a599-8150b2563a17 button');\n",
              "      quickchartButtonEl.style.display =\n",
              "        google.colab.kernel.accessAllowed ? 'block' : 'none';\n",
              "    })();\n",
              "  </script>\n",
              "</div>\n",
              "    </div>\n",
              "  </div>\n"
            ]
          },
          "metadata": {},
          "execution_count": 10
        }
      ]
    },
    {
      "cell_type": "markdown",
      "source": [
        "## 데이터 정제"
      ],
      "metadata": {
        "id": "Lc9TAFoFAIg9"
      }
    },
    {
      "cell_type": "markdown",
      "source": [
        "- 불필요한 문자 삭제"
      ],
      "metadata": {
        "id": "k6txthSVpKAC"
      }
    },
    {
      "cell_type": "code",
      "source": [
        "review_list = []\n",
        "for review in train['review']:\n",
        "    if isinstance(review, str):\n",
        "        pat = re.compile(\"[^a-zA-Z가-힣0-9]\")\n",
        "        # pat = re.compile(\"[^a-zA-Z가-힣0-9.,~?!]\")\n",
        "        result = pat.sub(\" \", review)\n",
        "\n",
        "        # result = re.sub(r'\\.{2,}', '.', result)\n",
        "        # result = re.sub(r'\\,{2,}', ',', result)\n",
        "        # result = re.sub(r'\\~{2,}', '~', result)\n",
        "        # result = re.sub(r'\\!{2,}', '!', result)\n",
        "        # result = re.sub(r'\\?{2,}', '?', result)\n",
        "        result = re.sub(\" +\", \" \", result)\n",
        "        review_list.append(result)\n",
        "    else:\n",
        "        review_list.append(\"\")\n",
        "\n",
        "train['review'] = review_list\n",
        "train.head()"
      ],
      "metadata": {
        "id": "RUWJTmUNXkxV",
        "colab": {
          "base_uri": "https://localhost:8080/",
          "height": 206
        },
        "outputId": "313bc6ff-8f3d-47a0-a3b5-0bb37b6d5c5d"
      },
      "execution_count": 11,
      "outputs": [
        {
          "output_type": "execute_result",
          "data": {
            "text/plain": [
              "                                              review  \\\n",
              "0                                         죽에서비린맛이났어요   \n",
              "1  머리카락나옴 위생신경좀 국수와 숙주 비율 1 1 맛 없음 이맛도 저맛도 아닌맛 배고...   \n",
              "2  다시는 안시킨다 배달이 지나치게 늦음 주문한지 2시간반 지났는데 아직도 안오고 도착...   \n",
              "3  사이드메뉴닭다리2개시켰는데 편의점다리가왔네요 비싸도 믿고첨시켜봤는데 전체적인맛도 그...   \n",
              "4  오늘도 맛있게 먹게 해주셔서 감사합니다 그런데 지난번 누룽지 사건 이후로 사장님 심...   \n",
              "\n",
              "                                               reply  \n",
              "0  만족하셨더라면 좋았을걸 저희도 아쉽네요.\\n전복 '특' 에는 고명으로 전복 슬라이스...  \n",
              "1  안녕하세요 고객님ㅜㅜ\\n다시 한 번 사과의 말씀드리고 싶습니다 ㅠㅠ 오늘 직원들과의...  \n",
              "2  죄송해요 손님 최근 기상악화로 배달대행사에 에로사항이 많다보니 1시간 2시간이 걸려...  \n",
              "3                   봉구비어 닭다리에용ㅠㅠ\\n매장에서 인기많은데ㅠㅠ\\n죄송해요  \n",
              "4  안녕하세요 고객님\\n저희 매장 다시 찾아주셨는데 만족 드리지 못해 죄송합니다\\n고의...  "
            ],
            "text/html": [
              "\n",
              "  <div id=\"df-fad272ca-0eb7-4ffb-9ac4-8b5264b3822b\" class=\"colab-df-container\">\n",
              "    <div>\n",
              "<style scoped>\n",
              "    .dataframe tbody tr th:only-of-type {\n",
              "        vertical-align: middle;\n",
              "    }\n",
              "\n",
              "    .dataframe tbody tr th {\n",
              "        vertical-align: top;\n",
              "    }\n",
              "\n",
              "    .dataframe thead th {\n",
              "        text-align: right;\n",
              "    }\n",
              "</style>\n",
              "<table border=\"1\" class=\"dataframe\">\n",
              "  <thead>\n",
              "    <tr style=\"text-align: right;\">\n",
              "      <th></th>\n",
              "      <th>review</th>\n",
              "      <th>reply</th>\n",
              "    </tr>\n",
              "  </thead>\n",
              "  <tbody>\n",
              "    <tr>\n",
              "      <th>0</th>\n",
              "      <td>죽에서비린맛이났어요</td>\n",
              "      <td>만족하셨더라면 좋았을걸 저희도 아쉽네요.\\n전복 '특' 에는 고명으로 전복 슬라이스...</td>\n",
              "    </tr>\n",
              "    <tr>\n",
              "      <th>1</th>\n",
              "      <td>머리카락나옴 위생신경좀 국수와 숙주 비율 1 1 맛 없음 이맛도 저맛도 아닌맛 배고...</td>\n",
              "      <td>안녕하세요 고객님ㅜㅜ\\n다시 한 번 사과의 말씀드리고 싶습니다 ㅠㅠ 오늘 직원들과의...</td>\n",
              "    </tr>\n",
              "    <tr>\n",
              "      <th>2</th>\n",
              "      <td>다시는 안시킨다 배달이 지나치게 늦음 주문한지 2시간반 지났는데 아직도 안오고 도착...</td>\n",
              "      <td>죄송해요 손님 최근 기상악화로 배달대행사에 에로사항이 많다보니 1시간 2시간이 걸려...</td>\n",
              "    </tr>\n",
              "    <tr>\n",
              "      <th>3</th>\n",
              "      <td>사이드메뉴닭다리2개시켰는데 편의점다리가왔네요 비싸도 믿고첨시켜봤는데 전체적인맛도 그...</td>\n",
              "      <td>봉구비어 닭다리에용ㅠㅠ\\n매장에서 인기많은데ㅠㅠ\\n죄송해요</td>\n",
              "    </tr>\n",
              "    <tr>\n",
              "      <th>4</th>\n",
              "      <td>오늘도 맛있게 먹게 해주셔서 감사합니다 그런데 지난번 누룽지 사건 이후로 사장님 심...</td>\n",
              "      <td>안녕하세요 고객님\\n저희 매장 다시 찾아주셨는데 만족 드리지 못해 죄송합니다\\n고의...</td>\n",
              "    </tr>\n",
              "  </tbody>\n",
              "</table>\n",
              "</div>\n",
              "    <div class=\"colab-df-buttons\">\n",
              "\n",
              "  <div class=\"colab-df-container\">\n",
              "    <button class=\"colab-df-convert\" onclick=\"convertToInteractive('df-fad272ca-0eb7-4ffb-9ac4-8b5264b3822b')\"\n",
              "            title=\"Convert this dataframe to an interactive table.\"\n",
              "            style=\"display:none;\">\n",
              "\n",
              "  <svg xmlns=\"http://www.w3.org/2000/svg\" height=\"24px\" viewBox=\"0 -960 960 960\">\n",
              "    <path d=\"M120-120v-720h720v720H120Zm60-500h600v-160H180v160Zm220 220h160v-160H400v160Zm0 220h160v-160H400v160ZM180-400h160v-160H180v160Zm440 0h160v-160H620v160ZM180-180h160v-160H180v160Zm440 0h160v-160H620v160Z\"/>\n",
              "  </svg>\n",
              "    </button>\n",
              "\n",
              "  <style>\n",
              "    .colab-df-container {\n",
              "      display:flex;\n",
              "      gap: 12px;\n",
              "    }\n",
              "\n",
              "    .colab-df-convert {\n",
              "      background-color: #E8F0FE;\n",
              "      border: none;\n",
              "      border-radius: 50%;\n",
              "      cursor: pointer;\n",
              "      display: none;\n",
              "      fill: #1967D2;\n",
              "      height: 32px;\n",
              "      padding: 0 0 0 0;\n",
              "      width: 32px;\n",
              "    }\n",
              "\n",
              "    .colab-df-convert:hover {\n",
              "      background-color: #E2EBFA;\n",
              "      box-shadow: 0px 1px 2px rgba(60, 64, 67, 0.3), 0px 1px 3px 1px rgba(60, 64, 67, 0.15);\n",
              "      fill: #174EA6;\n",
              "    }\n",
              "\n",
              "    .colab-df-buttons div {\n",
              "      margin-bottom: 4px;\n",
              "    }\n",
              "\n",
              "    [theme=dark] .colab-df-convert {\n",
              "      background-color: #3B4455;\n",
              "      fill: #D2E3FC;\n",
              "    }\n",
              "\n",
              "    [theme=dark] .colab-df-convert:hover {\n",
              "      background-color: #434B5C;\n",
              "      box-shadow: 0px 1px 3px 1px rgba(0, 0, 0, 0.15);\n",
              "      filter: drop-shadow(0px 1px 2px rgba(0, 0, 0, 0.3));\n",
              "      fill: #FFFFFF;\n",
              "    }\n",
              "  </style>\n",
              "\n",
              "    <script>\n",
              "      const buttonEl =\n",
              "        document.querySelector('#df-fad272ca-0eb7-4ffb-9ac4-8b5264b3822b button.colab-df-convert');\n",
              "      buttonEl.style.display =\n",
              "        google.colab.kernel.accessAllowed ? 'block' : 'none';\n",
              "\n",
              "      async function convertToInteractive(key) {\n",
              "        const element = document.querySelector('#df-fad272ca-0eb7-4ffb-9ac4-8b5264b3822b');\n",
              "        const dataTable =\n",
              "          await google.colab.kernel.invokeFunction('convertToInteractive',\n",
              "                                                    [key], {});\n",
              "        if (!dataTable) return;\n",
              "\n",
              "        const docLinkHtml = 'Like what you see? Visit the ' +\n",
              "          '<a target=\"_blank\" href=https://colab.research.google.com/notebooks/data_table.ipynb>data table notebook</a>'\n",
              "          + ' to learn more about interactive tables.';\n",
              "        element.innerHTML = '';\n",
              "        dataTable['output_type'] = 'display_data';\n",
              "        await google.colab.output.renderOutput(dataTable, element);\n",
              "        const docLink = document.createElement('div');\n",
              "        docLink.innerHTML = docLinkHtml;\n",
              "        element.appendChild(docLink);\n",
              "      }\n",
              "    </script>\n",
              "  </div>\n",
              "\n",
              "\n",
              "<div id=\"df-dfad5747-0703-4d91-be7a-09a9732a33ab\">\n",
              "  <button class=\"colab-df-quickchart\" onclick=\"quickchart('df-dfad5747-0703-4d91-be7a-09a9732a33ab')\"\n",
              "            title=\"Suggest charts.\"\n",
              "            style=\"display:none;\">\n",
              "\n",
              "<svg xmlns=\"http://www.w3.org/2000/svg\" height=\"24px\"viewBox=\"0 0 24 24\"\n",
              "     width=\"24px\">\n",
              "    <g>\n",
              "        <path d=\"M19 3H5c-1.1 0-2 .9-2 2v14c0 1.1.9 2 2 2h14c1.1 0 2-.9 2-2V5c0-1.1-.9-2-2-2zM9 17H7v-7h2v7zm4 0h-2V7h2v10zm4 0h-2v-4h2v4z\"/>\n",
              "    </g>\n",
              "</svg>\n",
              "  </button>\n",
              "\n",
              "<style>\n",
              "  .colab-df-quickchart {\n",
              "    background-color: #E8F0FE;\n",
              "    border: none;\n",
              "    border-radius: 50%;\n",
              "    cursor: pointer;\n",
              "    display: none;\n",
              "    fill: #1967D2;\n",
              "    height: 32px;\n",
              "    padding: 0 0 0 0;\n",
              "    width: 32px;\n",
              "  }\n",
              "\n",
              "  .colab-df-quickchart:hover {\n",
              "    background-color: #E2EBFA;\n",
              "    box-shadow: 0px 1px 2px rgba(60, 64, 67, 0.3), 0px 1px 3px 1px rgba(60, 64, 67, 0.15);\n",
              "    fill: #174EA6;\n",
              "  }\n",
              "\n",
              "  [theme=dark] .colab-df-quickchart {\n",
              "    background-color: #3B4455;\n",
              "    fill: #D2E3FC;\n",
              "  }\n",
              "\n",
              "  [theme=dark] .colab-df-quickchart:hover {\n",
              "    background-color: #434B5C;\n",
              "    box-shadow: 0px 1px 3px 1px rgba(0, 0, 0, 0.15);\n",
              "    filter: drop-shadow(0px 1px 2px rgba(0, 0, 0, 0.3));\n",
              "    fill: #FFFFFF;\n",
              "  }\n",
              "</style>\n",
              "\n",
              "  <script>\n",
              "    async function quickchart(key) {\n",
              "      const charts = await google.colab.kernel.invokeFunction(\n",
              "          'suggestCharts', [key], {});\n",
              "    }\n",
              "    (() => {\n",
              "      let quickchartButtonEl =\n",
              "        document.querySelector('#df-dfad5747-0703-4d91-be7a-09a9732a33ab button');\n",
              "      quickchartButtonEl.style.display =\n",
              "        google.colab.kernel.accessAllowed ? 'block' : 'none';\n",
              "    })();\n",
              "  </script>\n",
              "</div>\n",
              "    </div>\n",
              "  </div>\n"
            ]
          },
          "metadata": {},
          "execution_count": 11
        }
      ]
    },
    {
      "cell_type": "code",
      "source": [
        "reply_list = []\n",
        "for reply in train['reply']:\n",
        "    if isinstance(reply, str):\n",
        "        pat = re.compile(\"[^a-zA-Z가-힣0-9]\")\n",
        "        # pat = re.compile(\"[^a-zA-Z가-힣0-9.,~?!]\")\n",
        "        result = pat.sub(\" \", reply)\n",
        "\n",
        "        # result = re.sub(r'\\.{2,}', '.', result)\n",
        "        # result = re.sub(r'\\,{2,}', ',', result)\n",
        "        # result = re.sub(r'\\~{2,}', '~', result)\n",
        "        # result = re.sub(r'\\!{2,}', '!', result)\n",
        "        # result = re.sub(r'\\?{2,}', '?', result)\n",
        "        result = re.sub(\" +\", \" \", result)\n",
        "        reply_list.append(result)\n",
        "    else:\n",
        "        reply_list.append(\"\")\n",
        "\n",
        "train['reply'] = reply_list\n",
        "train.head()"
      ],
      "metadata": {
        "colab": {
          "base_uri": "https://localhost:8080/",
          "height": 206
        },
        "id": "L-Yw1bDhkHf5",
        "outputId": "3493273d-7e38-4407-c98a-a84c9ee21fdd"
      },
      "execution_count": 12,
      "outputs": [
        {
          "output_type": "execute_result",
          "data": {
            "text/plain": [
              "                                              review  \\\n",
              "0                                         죽에서비린맛이났어요   \n",
              "1  머리카락나옴 위생신경좀 국수와 숙주 비율 1 1 맛 없음 이맛도 저맛도 아닌맛 배고...   \n",
              "2  다시는 안시킨다 배달이 지나치게 늦음 주문한지 2시간반 지났는데 아직도 안오고 도착...   \n",
              "3  사이드메뉴닭다리2개시켰는데 편의점다리가왔네요 비싸도 믿고첨시켜봤는데 전체적인맛도 그...   \n",
              "4  오늘도 맛있게 먹게 해주셔서 감사합니다 그런데 지난번 누룽지 사건 이후로 사장님 심...   \n",
              "\n",
              "                                               reply  \n",
              "0  만족하셨더라면 좋았을걸 저희도 아쉽네요 전복 특 에는 고명으로 전복 슬라이스가 올라...  \n",
              "1  안녕하세요 고객님 다시 한 번 사과의 말씀드리고 싶습니다 오늘 직원들과의 미팅을 통...  \n",
              "2  죄송해요 손님 최근 기상악화로 배달대행사에 에로사항이 많다보니 1시간 2시간이 걸려...  \n",
              "3                         봉구비어 닭다리에용 매장에서 인기많은데 죄송해요  \n",
              "4  안녕하세요 고객님 저희 매장 다시 찾아주셨는데 만족 드리지 못해 죄송합니다 고의적으...  "
            ],
            "text/html": [
              "\n",
              "  <div id=\"df-fee71a44-eeb4-4acf-8e48-582756945d52\" class=\"colab-df-container\">\n",
              "    <div>\n",
              "<style scoped>\n",
              "    .dataframe tbody tr th:only-of-type {\n",
              "        vertical-align: middle;\n",
              "    }\n",
              "\n",
              "    .dataframe tbody tr th {\n",
              "        vertical-align: top;\n",
              "    }\n",
              "\n",
              "    .dataframe thead th {\n",
              "        text-align: right;\n",
              "    }\n",
              "</style>\n",
              "<table border=\"1\" class=\"dataframe\">\n",
              "  <thead>\n",
              "    <tr style=\"text-align: right;\">\n",
              "      <th></th>\n",
              "      <th>review</th>\n",
              "      <th>reply</th>\n",
              "    </tr>\n",
              "  </thead>\n",
              "  <tbody>\n",
              "    <tr>\n",
              "      <th>0</th>\n",
              "      <td>죽에서비린맛이났어요</td>\n",
              "      <td>만족하셨더라면 좋았을걸 저희도 아쉽네요 전복 특 에는 고명으로 전복 슬라이스가 올라...</td>\n",
              "    </tr>\n",
              "    <tr>\n",
              "      <th>1</th>\n",
              "      <td>머리카락나옴 위생신경좀 국수와 숙주 비율 1 1 맛 없음 이맛도 저맛도 아닌맛 배고...</td>\n",
              "      <td>안녕하세요 고객님 다시 한 번 사과의 말씀드리고 싶습니다 오늘 직원들과의 미팅을 통...</td>\n",
              "    </tr>\n",
              "    <tr>\n",
              "      <th>2</th>\n",
              "      <td>다시는 안시킨다 배달이 지나치게 늦음 주문한지 2시간반 지났는데 아직도 안오고 도착...</td>\n",
              "      <td>죄송해요 손님 최근 기상악화로 배달대행사에 에로사항이 많다보니 1시간 2시간이 걸려...</td>\n",
              "    </tr>\n",
              "    <tr>\n",
              "      <th>3</th>\n",
              "      <td>사이드메뉴닭다리2개시켰는데 편의점다리가왔네요 비싸도 믿고첨시켜봤는데 전체적인맛도 그...</td>\n",
              "      <td>봉구비어 닭다리에용 매장에서 인기많은데 죄송해요</td>\n",
              "    </tr>\n",
              "    <tr>\n",
              "      <th>4</th>\n",
              "      <td>오늘도 맛있게 먹게 해주셔서 감사합니다 그런데 지난번 누룽지 사건 이후로 사장님 심...</td>\n",
              "      <td>안녕하세요 고객님 저희 매장 다시 찾아주셨는데 만족 드리지 못해 죄송합니다 고의적으...</td>\n",
              "    </tr>\n",
              "  </tbody>\n",
              "</table>\n",
              "</div>\n",
              "    <div class=\"colab-df-buttons\">\n",
              "\n",
              "  <div class=\"colab-df-container\">\n",
              "    <button class=\"colab-df-convert\" onclick=\"convertToInteractive('df-fee71a44-eeb4-4acf-8e48-582756945d52')\"\n",
              "            title=\"Convert this dataframe to an interactive table.\"\n",
              "            style=\"display:none;\">\n",
              "\n",
              "  <svg xmlns=\"http://www.w3.org/2000/svg\" height=\"24px\" viewBox=\"0 -960 960 960\">\n",
              "    <path d=\"M120-120v-720h720v720H120Zm60-500h600v-160H180v160Zm220 220h160v-160H400v160Zm0 220h160v-160H400v160ZM180-400h160v-160H180v160Zm440 0h160v-160H620v160ZM180-180h160v-160H180v160Zm440 0h160v-160H620v160Z\"/>\n",
              "  </svg>\n",
              "    </button>\n",
              "\n",
              "  <style>\n",
              "    .colab-df-container {\n",
              "      display:flex;\n",
              "      gap: 12px;\n",
              "    }\n",
              "\n",
              "    .colab-df-convert {\n",
              "      background-color: #E8F0FE;\n",
              "      border: none;\n",
              "      border-radius: 50%;\n",
              "      cursor: pointer;\n",
              "      display: none;\n",
              "      fill: #1967D2;\n",
              "      height: 32px;\n",
              "      padding: 0 0 0 0;\n",
              "      width: 32px;\n",
              "    }\n",
              "\n",
              "    .colab-df-convert:hover {\n",
              "      background-color: #E2EBFA;\n",
              "      box-shadow: 0px 1px 2px rgba(60, 64, 67, 0.3), 0px 1px 3px 1px rgba(60, 64, 67, 0.15);\n",
              "      fill: #174EA6;\n",
              "    }\n",
              "\n",
              "    .colab-df-buttons div {\n",
              "      margin-bottom: 4px;\n",
              "    }\n",
              "\n",
              "    [theme=dark] .colab-df-convert {\n",
              "      background-color: #3B4455;\n",
              "      fill: #D2E3FC;\n",
              "    }\n",
              "\n",
              "    [theme=dark] .colab-df-convert:hover {\n",
              "      background-color: #434B5C;\n",
              "      box-shadow: 0px 1px 3px 1px rgba(0, 0, 0, 0.15);\n",
              "      filter: drop-shadow(0px 1px 2px rgba(0, 0, 0, 0.3));\n",
              "      fill: #FFFFFF;\n",
              "    }\n",
              "  </style>\n",
              "\n",
              "    <script>\n",
              "      const buttonEl =\n",
              "        document.querySelector('#df-fee71a44-eeb4-4acf-8e48-582756945d52 button.colab-df-convert');\n",
              "      buttonEl.style.display =\n",
              "        google.colab.kernel.accessAllowed ? 'block' : 'none';\n",
              "\n",
              "      async function convertToInteractive(key) {\n",
              "        const element = document.querySelector('#df-fee71a44-eeb4-4acf-8e48-582756945d52');\n",
              "        const dataTable =\n",
              "          await google.colab.kernel.invokeFunction('convertToInteractive',\n",
              "                                                    [key], {});\n",
              "        if (!dataTable) return;\n",
              "\n",
              "        const docLinkHtml = 'Like what you see? Visit the ' +\n",
              "          '<a target=\"_blank\" href=https://colab.research.google.com/notebooks/data_table.ipynb>data table notebook</a>'\n",
              "          + ' to learn more about interactive tables.';\n",
              "        element.innerHTML = '';\n",
              "        dataTable['output_type'] = 'display_data';\n",
              "        await google.colab.output.renderOutput(dataTable, element);\n",
              "        const docLink = document.createElement('div');\n",
              "        docLink.innerHTML = docLinkHtml;\n",
              "        element.appendChild(docLink);\n",
              "      }\n",
              "    </script>\n",
              "  </div>\n",
              "\n",
              "\n",
              "<div id=\"df-a5f96490-06f2-4085-9319-fcfa4315052b\">\n",
              "  <button class=\"colab-df-quickchart\" onclick=\"quickchart('df-a5f96490-06f2-4085-9319-fcfa4315052b')\"\n",
              "            title=\"Suggest charts.\"\n",
              "            style=\"display:none;\">\n",
              "\n",
              "<svg xmlns=\"http://www.w3.org/2000/svg\" height=\"24px\"viewBox=\"0 0 24 24\"\n",
              "     width=\"24px\">\n",
              "    <g>\n",
              "        <path d=\"M19 3H5c-1.1 0-2 .9-2 2v14c0 1.1.9 2 2 2h14c1.1 0 2-.9 2-2V5c0-1.1-.9-2-2-2zM9 17H7v-7h2v7zm4 0h-2V7h2v10zm4 0h-2v-4h2v4z\"/>\n",
              "    </g>\n",
              "</svg>\n",
              "  </button>\n",
              "\n",
              "<style>\n",
              "  .colab-df-quickchart {\n",
              "    background-color: #E8F0FE;\n",
              "    border: none;\n",
              "    border-radius: 50%;\n",
              "    cursor: pointer;\n",
              "    display: none;\n",
              "    fill: #1967D2;\n",
              "    height: 32px;\n",
              "    padding: 0 0 0 0;\n",
              "    width: 32px;\n",
              "  }\n",
              "\n",
              "  .colab-df-quickchart:hover {\n",
              "    background-color: #E2EBFA;\n",
              "    box-shadow: 0px 1px 2px rgba(60, 64, 67, 0.3), 0px 1px 3px 1px rgba(60, 64, 67, 0.15);\n",
              "    fill: #174EA6;\n",
              "  }\n",
              "\n",
              "  [theme=dark] .colab-df-quickchart {\n",
              "    background-color: #3B4455;\n",
              "    fill: #D2E3FC;\n",
              "  }\n",
              "\n",
              "  [theme=dark] .colab-df-quickchart:hover {\n",
              "    background-color: #434B5C;\n",
              "    box-shadow: 0px 1px 3px 1px rgba(0, 0, 0, 0.15);\n",
              "    filter: drop-shadow(0px 1px 2px rgba(0, 0, 0, 0.3));\n",
              "    fill: #FFFFFF;\n",
              "  }\n",
              "</style>\n",
              "\n",
              "  <script>\n",
              "    async function quickchart(key) {\n",
              "      const charts = await google.colab.kernel.invokeFunction(\n",
              "          'suggestCharts', [key], {});\n",
              "    }\n",
              "    (() => {\n",
              "      let quickchartButtonEl =\n",
              "        document.querySelector('#df-a5f96490-06f2-4085-9319-fcfa4315052b button');\n",
              "      quickchartButtonEl.style.display =\n",
              "        google.colab.kernel.accessAllowed ? 'block' : 'none';\n",
              "    })();\n",
              "  </script>\n",
              "</div>\n",
              "    </div>\n",
              "  </div>\n"
            ]
          },
          "metadata": {},
          "execution_count": 12
        }
      ]
    },
    {
      "cell_type": "markdown",
      "source": [
        "### \"~~님\" → \"고객님\"으로 변환"
      ],
      "metadata": {
        "id": "kGzp2f09pN2x"
      }
    },
    {
      "cell_type": "code",
      "source": [
        "train['reply'] = train['reply'].str.replace(r'\\w+\\s*님', '고객님', regex=True)"
      ],
      "metadata": {
        "id": "SRMlbtaPoOql"
      },
      "execution_count": 13,
      "outputs": []
    },
    {
      "cell_type": "markdown",
      "source": [
        "### 답변 맞춤법 처리"
      ],
      "metadata": {
        "id": "6TRepPkVR-SQ"
      }
    },
    {
      "cell_type": "code",
      "source": [
        "# !git clone https://github.com/ssut/py-hanspell.git\n",
        "# !cd py-hanspell\n",
        "# !pip install py-hanspell/"
      ],
      "metadata": {
        "id": "dCaB16eVuzHu"
      },
      "execution_count": 14,
      "outputs": []
    },
    {
      "cell_type": "code",
      "source": [
        "# from hanspell import spell_checker\n",
        "# def correct_spell(text):\n",
        "#     if isinstance(text, str):  # 입력 데이터가 문자열인 경우에만 맞춤법 검사 수행\n",
        "#         corrected_text = spell_checker.check(text).checked\n",
        "#         return corrected_text\n",
        "#     else:\n",
        "#         return text\n",
        "\n",
        "# correct_spell(train['reply'][0])"
      ],
      "metadata": {
        "id": "9bCVeEqH4wf8"
      },
      "execution_count": 15,
      "outputs": []
    },
    {
      "cell_type": "code",
      "source": [
        "# # 한시간 반 걸림. 원한다면 click\n",
        "# train['reply'] = train['reply'].apply(correct_spell)"
      ],
      "metadata": {
        "id": "tJGLPkch47yC"
      },
      "execution_count": 16,
      "outputs": []
    },
    {
      "cell_type": "markdown",
      "source": [
        "### 가게명 키워드 컬럼화"
      ],
      "metadata": {
        "id": "XN_oJWUWpnf6"
      }
    },
    {
      "cell_type": "code",
      "source": [
        "# ygy_store_lst = [\"1988응답하라추억의옛날도시락-방이점\", \"워커스커피 로스터스\", \"떡깨비-가락점\", \"당치땡-헬리오시티점\", \"우시장국밥-석촌점\",  \"고돼지-송파점\",  \"마라의신마라탕&마라샹궈\",  \"춘리마라탕-송파점\",  \"손수경의육회담은연어-가락점\",  \"무국적식탁-송파점\",  \"청년치킨-삼전점\",  \"송파만다린\",  \"배달의쌀국수-송파점\",  \"닭강점-헬리오시티점\",  \"토핑폭탄김치찜&김치찌개-송파점\",  \"조형훈족발보쌈\",  \"여왕의브런치\",  \"모어댄버터\",  \"플러스82-송파점\",  \"더티베지\",  \"잭아저씨족발보쌈-본점\",  \"육회&연어-미아본점\",  \"갈비민족-본점\",  \"구구족-성신여대역점\",  \"피자보이시나-대학로점\",  \"왕빈자삼파전-미아본점\",  \"행복한찜닭-성북점\",  \"스시사소우\",  \"저팔계&중국&마라탕&덮밥&요리&전문점\",  \"명작파스타-성북점\",  \"올데이파스타-동대문구점\",  \"대한냉면-성북점\",  \"인생제육\",  \"고기듬뿍미트박스-성북점\",  \"피자스웨그-성북점\",  \"청춘식당묵은지김치찜\",  \"삽교원조두리곱창\",  \"뜸들이다-북서울꿈의숲점\",  \"더팔당매운오징어&닭발 김치찜\",  \"우리집반찬도시락-혜화막내딸지점\",  \"수피자\",  \"마라쿡\",  \"김포불닭발\",  \"헬로팬닭갈비&마약볶음밥\",  \"대찌 대파생고기김치찌개&정육왕국물두루치기\",  \"구래상회\",  \"승도리네곱도리탕\",  \"자성당\",  \"수락\",  \"나인곱창\",  \"어시장\",  \"돈까스회관\",  \"호랑이초밥\",  \"땡초곱창막창\",  \"피자이탈리\",  \"텐텐마라탕\",  \"과일에반하다\",  \"삼다수\",  \"병천토속순대\",  \"최고남제육명가\",  \"짱닭치킨\",  \"걸작떡볶이\",  \"직화삼겹직구삼\",  \"짜글이가돼었소\",  \"부대찌개자신있는집\",  \"토핑폭탄김치찜&김치찌개-부천점\",  \"1989마라탕-부천점\",  \"미친피자-부평점\",  \"천년닭강정-부천부평점\",  \"수상한삼겹살-부천점\",  \"수제죽전문점-본가진죽-본점\",  \"오늘은 분식\",  \"이끌림마라탕\",  \"탐나는피자-부평점\",  \"고기혁명-부천점\",  \"라화방마라탕-신중동점\",  \"전금례닭볶음탕-부천점\",  \"큰아들백순대\",  \"공주닭발-부천시청점\",  \"신자매김치찜&김치찌개\",  \"짱닭치킨-도촌점\",  \"이태리면가게-야탑점\",  \"폴트버거-판교점\",  \"랜돌프뉴욕페페로니-야탑점\",  \"홍싸롱-수제돈까스&파스타\",  \"쇼부덮밥\",  \"카산도-정자본점\",  \"부성초밥-미금본점\",  \"닭장수섭삼계탕&전기구이통닭\",  \"깨돌이김밥-미금점\",  \"울진죽변항\",  \"GTS버거-분당정자점\",  \"코브라독스-분당미금역점\",  \"마라하오-죽전점\",  \"땅끝수산\",  \"초밥대통령-용인수지점\",  \"올데이케밥&샐러드\",  \"야키토리 카마쿠라\",  \"비오키친-서현본점\",  \"부산오빠1인국밥-분당점\",  \"알촌\",  \"밈피자\",  \"고씨네카레\",  \"홍스족발\",  \"뜸들이다\",  \"감성커피\",  \"짚신스시\",  \"떡형\",  \"39도시락\",  \"피제이피자\",  \"황궁쟁반짜장\",  \"OK반점\",  \"모모타코야키&카페\",  \"꼬알라파이\",  \"진지덮밥\",  \"피자프라텔로\",  \"한식세끼1인김치찜&김치찌개\",  \"윤희횟집\",  \"시민보쌈족발&감자탕\",  \"카페봄봄\",  \"킹프레소빅와플\",  \"최가네한쌈\",  \"창타이누들\",  \"보돌미역\",  \"홍대개미\"  ]\n",
        "# store_name = []\n",
        "# for store in ygy_store_lst:\n",
        "#     pat = re.split(r'[- &]', store)\n",
        "#     pat = ''.join(pat)\n",
        "#     store_name.append(pat)\n",
        "\n",
        "# short_name = []\n",
        "# for name in store_name:\n",
        "#     for length in [2, 3, 4]:\n",
        "#         cut = name[:length]\n",
        "#         short_name.append(cut)\n",
        "#     if name[0].isdigit(): # 숫자로 시작하면 텍스트가 나오는 부분까지 추출\n",
        "#         cut = name[:6]\n",
        "#         short_name.append(cut)\n",
        "\n",
        "# short_name = [name for name in short_name if not name.isdigit()] # 숫자로만 되어 있는 키워드 삭제\n",
        "# short_name = list(set(short_name))\n",
        "# print(len(short_name), short_name)\n",
        "\n",
        "# # short_name 에서 불용어 처리\n",
        "# drop_name = ['OK','갈비','감성','걸작','고기','공주','과일','김포','대한','땡초','명작','미친','배달','병천','부대','부산','비오','삽교','손수','송파','쇼부','수상','수제','시민','오늘', '오늘은', '우리', '울진', '이끌', '이끌림', '인생', '직화', '진지', '천년', '청년', '청춘', '최고', '큰아', '큰아들', '탐나', '토핑', '행복', '행복한', '헬로', '홍대',]\n",
        "# short_name = [col for col in short_name if col not in drop_name]\n",
        "# print(len(short_name),short_name)\n",
        "\n",
        "# train['store'] = \"\"\n",
        "# for name in short_name:\n",
        "#     train[name] = train['reply'].apply(lambda x: name if name in x else '') # 각 가게 별로 컬럼 추가(그렇지 않으면 덮어쓰기 됨)\n",
        "#     train['store'] = train.apply(lambda row: row['store'] + ',' + row[name] if row[name] else row['store'], axis=1) # store 컬럼에 컬럼 값 합치기\n",
        "\n",
        "# train['store'] = train['store'].apply(lambda x: x[1:] if x.startswith(',') else x) # 첫 번째 문자가 콤마인 경우 제거\n",
        "# train = train.drop(columns=short_name) # 각 가게 별 컬럼 삭제\n",
        "# train.head()"
      ],
      "metadata": {
        "id": "xM86fK8dpnFt"
      },
      "execution_count": 17,
      "outputs": []
    },
    {
      "cell_type": "code",
      "source": [
        "# train['review'] = train['review'].astype(str)\n",
        "# train['reply'] = train['reply'].astype(str)"
      ],
      "metadata": {
        "id": "mui9ULbXxN5k"
      },
      "execution_count": 32,
      "outputs": []
    },
    {
      "cell_type": "markdown",
      "source": [
        "- 여기까지 완료된 데이터 저장하기"
      ],
      "metadata": {
        "id": "qTD6l6yWTBmo"
      }
    },
    {
      "cell_type": "code",
      "source": [
        "# # 전체\n",
        "# # train.to_csv(f\"{DATA_PATH}yogiyo_clean.csv\", index=False)\n",
        "\n",
        "# # 오버샘플\n",
        "# train.to_csv(f\"{DATA_PATH}yogiyo_OV_clean.csv\", index=False)"
      ],
      "metadata": {
        "id": "UohaXtwdTFoh"
      },
      "execution_count": 34,
      "outputs": []
    },
    {
      "cell_type": "markdown",
      "source": [
        "- 여기까지 완료된 데이터 불러오기"
      ],
      "metadata": {
        "id": "CkJwH9oeTRWg"
      }
    },
    {
      "cell_type": "code",
      "source": [
        "# # 전체\n",
        "# train = pd.read_csv(f\"{DATA_PATH}yogiyo_clean.csv\")\n",
        "\n",
        "# # 오버샘플\n",
        "# train = pd.read_csv(f\"{DATA_PATH}yogiyo_OV_clean.csv\")\n",
        "\n",
        "# review, reply = train[\"review\"] , train[\"reply\"]\n",
        "# len(review) , len(reply)"
      ],
      "metadata": {
        "id": "rVMEEqzTTFmN",
        "colab": {
          "base_uri": "https://localhost:8080/"
        },
        "outputId": "780be6eb-02e1-4131-d340-93c23b22430c"
      },
      "execution_count": 123,
      "outputs": [
        {
          "output_type": "execute_result",
          "data": {
            "text/plain": [
              "(19776, 19776)"
            ]
          },
          "metadata": {},
          "execution_count": 123
        }
      ]
    },
    {
      "cell_type": "markdown",
      "source": [
        "### 가게명 키워드 reply에서 삭제"
      ],
      "metadata": {
        "id": "PaGc_YUhTYYn"
      }
    },
    {
      "cell_type": "code",
      "source": [
        "# # store 값이 있는 행만 가져오기\n",
        "# train_del = train[train['store'].notna()]\n",
        "# train_del"
      ],
      "metadata": {
        "colab": {
          "base_uri": "https://localhost:8080/",
          "height": 424
        },
        "id": "l6J8tf3eM4Yv",
        "outputId": "d59de939-2433-4153-efbf-6d9784db7221"
      },
      "execution_count": 126,
      "outputs": [
        {
          "output_type": "execute_result",
          "data": {
            "text/plain": [
              "                                                  review  \\\n",
              "7      제 입맛에 안맞아요 뭔가 독특한 향신료 맛이에요 일반 닭갈비 맛이 아니에요 고기가 ...   \n",
              "8      제 입맛에 안맞아요 뭔가 독특한 향신료 맛이에요 일반 닭갈비 맛이 아니에요 고기가 ...   \n",
              "9      사장님 처럼 사장님만보기 기능있면좋겠지만만족하지만개선되었으면할때쓰고아니면안시키고말지...   \n",
              "14              진짜리뷰안쓰는데 양이 2만원씩내고 먹을양은 절대아닙니다 장난하는것도아니고   \n",
              "15     사장님 처럼 사장님만보기 기능있면좋겠지만만족하지만개선되었으면할때쓰고아니면안시키고말지...   \n",
              "...                                                  ...   \n",
              "19338  앗 리뷰가 늦었네요 요즘처럼 고물가에 더욱 빛나는 곳 입니다 솔직히 저만 알고싶을 ...   \n",
              "19351  최가네 한쌈음 한쌈은 항상 감동입니다 파김치 완전완전 세젤맛 먹어본 파김치중에 젤 ...   \n",
              "19357            손 많이 가는 음식 푸짐히 먹고싶으신분 모두 주문하세요 후회 없습니다    \n",
              "19381  후기 안쓰는데 처음후기 올려봅니다 다른분 후기중에 가격 올려야 되겠다는 댓글에 20...   \n",
              "19404  음식 한상 가득해서 너무 잘먹었습니다 보쌈뿐만 아니라 반찬도 너무 맛나요 과일샐러드...   \n",
              "\n",
              "                                                   reply   store  \n",
              "7      이쁜 리뷰 감사합니다 고객님 즐거운 식사시간에 불편을 드려 죄송합니다 닭갈비 알밥이...      알촌  \n",
              "8      이쁜 리뷰 감사합니다 고객님 즐거운 식사시간에 불편을 드려 죄송합니다 닭갈비 알밥이...      알촌  \n",
              "9      저희 윤희 횟집을 찾아주셔서 감사드립니다 고객님께서 저희에게 충고해 주신 것에 대해...      윤희  \n",
              "14     솔직한 리뷰 남겨 주셔서 감사합니다 저희 1988응답하라 추억의 옛날 도시락은 언제...  1988응답  \n",
              "15     저희 윤희 횟집을 찾아주셔서 감사드립니다 고객님께서 저희에게 충고해 주신 것에 대해...      윤희  \n",
              "...                                                  ...     ...  \n",
              "19338  아이고 이리 늘 찾아주시고 좋은 말씀들이 최가네를 춤추게 합니다 요즘 배달이든 마트...  최가,최가네  \n",
              "19351  파김치가 입맛에 맞으셨다니 다행이네요 고객님께서 파를 너무 많이 보내주셔서 여러분하...  최가,최가네  \n",
              "19357  아이고 이리 좋은 말씀이 최가네를 춤추게 하네요 앞으로도 고객님들 마음에 실망하시는...  최가,최가네  \n",
              "19381  글초 리뷰 이벤트도 없는데 이리들 귀한 시가 내셔서 좋은 글을 올려주시니 항상 너무...  최가,최가네  \n",
              "19404  맛있게 드셔주심에 저희가 너무 감사드립니다 항상 노력하는 최가네가 될 수 있도록 할...  최가,최가네  \n",
              "\n",
              "[4487 rows x 3 columns]"
            ],
            "text/html": [
              "\n",
              "  <div id=\"df-23380139-910b-4f5d-9975-6f6e0222e25d\" class=\"colab-df-container\">\n",
              "    <div>\n",
              "<style scoped>\n",
              "    .dataframe tbody tr th:only-of-type {\n",
              "        vertical-align: middle;\n",
              "    }\n",
              "\n",
              "    .dataframe tbody tr th {\n",
              "        vertical-align: top;\n",
              "    }\n",
              "\n",
              "    .dataframe thead th {\n",
              "        text-align: right;\n",
              "    }\n",
              "</style>\n",
              "<table border=\"1\" class=\"dataframe\">\n",
              "  <thead>\n",
              "    <tr style=\"text-align: right;\">\n",
              "      <th></th>\n",
              "      <th>review</th>\n",
              "      <th>reply</th>\n",
              "      <th>store</th>\n",
              "    </tr>\n",
              "  </thead>\n",
              "  <tbody>\n",
              "    <tr>\n",
              "      <th>7</th>\n",
              "      <td>제 입맛에 안맞아요 뭔가 독특한 향신료 맛이에요 일반 닭갈비 맛이 아니에요 고기가 ...</td>\n",
              "      <td>이쁜 리뷰 감사합니다 고객님 즐거운 식사시간에 불편을 드려 죄송합니다 닭갈비 알밥이...</td>\n",
              "      <td>알촌</td>\n",
              "    </tr>\n",
              "    <tr>\n",
              "      <th>8</th>\n",
              "      <td>제 입맛에 안맞아요 뭔가 독특한 향신료 맛이에요 일반 닭갈비 맛이 아니에요 고기가 ...</td>\n",
              "      <td>이쁜 리뷰 감사합니다 고객님 즐거운 식사시간에 불편을 드려 죄송합니다 닭갈비 알밥이...</td>\n",
              "      <td>알촌</td>\n",
              "    </tr>\n",
              "    <tr>\n",
              "      <th>9</th>\n",
              "      <td>사장님 처럼 사장님만보기 기능있면좋겠지만만족하지만개선되었으면할때쓰고아니면안시키고말지...</td>\n",
              "      <td>저희 윤희 횟집을 찾아주셔서 감사드립니다 고객님께서 저희에게 충고해 주신 것에 대해...</td>\n",
              "      <td>윤희</td>\n",
              "    </tr>\n",
              "    <tr>\n",
              "      <th>14</th>\n",
              "      <td>진짜리뷰안쓰는데 양이 2만원씩내고 먹을양은 절대아닙니다 장난하는것도아니고</td>\n",
              "      <td>솔직한 리뷰 남겨 주셔서 감사합니다 저희 1988응답하라 추억의 옛날 도시락은 언제...</td>\n",
              "      <td>1988응답</td>\n",
              "    </tr>\n",
              "    <tr>\n",
              "      <th>15</th>\n",
              "      <td>사장님 처럼 사장님만보기 기능있면좋겠지만만족하지만개선되었으면할때쓰고아니면안시키고말지...</td>\n",
              "      <td>저희 윤희 횟집을 찾아주셔서 감사드립니다 고객님께서 저희에게 충고해 주신 것에 대해...</td>\n",
              "      <td>윤희</td>\n",
              "    </tr>\n",
              "    <tr>\n",
              "      <th>...</th>\n",
              "      <td>...</td>\n",
              "      <td>...</td>\n",
              "      <td>...</td>\n",
              "    </tr>\n",
              "    <tr>\n",
              "      <th>19338</th>\n",
              "      <td>앗 리뷰가 늦었네요 요즘처럼 고물가에 더욱 빛나는 곳 입니다 솔직히 저만 알고싶을 ...</td>\n",
              "      <td>아이고 이리 늘 찾아주시고 좋은 말씀들이 최가네를 춤추게 합니다 요즘 배달이든 마트...</td>\n",
              "      <td>최가,최가네</td>\n",
              "    </tr>\n",
              "    <tr>\n",
              "      <th>19351</th>\n",
              "      <td>최가네 한쌈음 한쌈은 항상 감동입니다 파김치 완전완전 세젤맛 먹어본 파김치중에 젤 ...</td>\n",
              "      <td>파김치가 입맛에 맞으셨다니 다행이네요 고객님께서 파를 너무 많이 보내주셔서 여러분하...</td>\n",
              "      <td>최가,최가네</td>\n",
              "    </tr>\n",
              "    <tr>\n",
              "      <th>19357</th>\n",
              "      <td>손 많이 가는 음식 푸짐히 먹고싶으신분 모두 주문하세요 후회 없습니다</td>\n",
              "      <td>아이고 이리 좋은 말씀이 최가네를 춤추게 하네요 앞으로도 고객님들 마음에 실망하시는...</td>\n",
              "      <td>최가,최가네</td>\n",
              "    </tr>\n",
              "    <tr>\n",
              "      <th>19381</th>\n",
              "      <td>후기 안쓰는데 처음후기 올려봅니다 다른분 후기중에 가격 올려야 되겠다는 댓글에 20...</td>\n",
              "      <td>글초 리뷰 이벤트도 없는데 이리들 귀한 시가 내셔서 좋은 글을 올려주시니 항상 너무...</td>\n",
              "      <td>최가,최가네</td>\n",
              "    </tr>\n",
              "    <tr>\n",
              "      <th>19404</th>\n",
              "      <td>음식 한상 가득해서 너무 잘먹었습니다 보쌈뿐만 아니라 반찬도 너무 맛나요 과일샐러드...</td>\n",
              "      <td>맛있게 드셔주심에 저희가 너무 감사드립니다 항상 노력하는 최가네가 될 수 있도록 할...</td>\n",
              "      <td>최가,최가네</td>\n",
              "    </tr>\n",
              "  </tbody>\n",
              "</table>\n",
              "<p>4487 rows × 3 columns</p>\n",
              "</div>\n",
              "    <div class=\"colab-df-buttons\">\n",
              "\n",
              "  <div class=\"colab-df-container\">\n",
              "    <button class=\"colab-df-convert\" onclick=\"convertToInteractive('df-23380139-910b-4f5d-9975-6f6e0222e25d')\"\n",
              "            title=\"Convert this dataframe to an interactive table.\"\n",
              "            style=\"display:none;\">\n",
              "\n",
              "  <svg xmlns=\"http://www.w3.org/2000/svg\" height=\"24px\" viewBox=\"0 -960 960 960\">\n",
              "    <path d=\"M120-120v-720h720v720H120Zm60-500h600v-160H180v160Zm220 220h160v-160H400v160Zm0 220h160v-160H400v160ZM180-400h160v-160H180v160Zm440 0h160v-160H620v160ZM180-180h160v-160H180v160Zm440 0h160v-160H620v160Z\"/>\n",
              "  </svg>\n",
              "    </button>\n",
              "\n",
              "  <style>\n",
              "    .colab-df-container {\n",
              "      display:flex;\n",
              "      gap: 12px;\n",
              "    }\n",
              "\n",
              "    .colab-df-convert {\n",
              "      background-color: #E8F0FE;\n",
              "      border: none;\n",
              "      border-radius: 50%;\n",
              "      cursor: pointer;\n",
              "      display: none;\n",
              "      fill: #1967D2;\n",
              "      height: 32px;\n",
              "      padding: 0 0 0 0;\n",
              "      width: 32px;\n",
              "    }\n",
              "\n",
              "    .colab-df-convert:hover {\n",
              "      background-color: #E2EBFA;\n",
              "      box-shadow: 0px 1px 2px rgba(60, 64, 67, 0.3), 0px 1px 3px 1px rgba(60, 64, 67, 0.15);\n",
              "      fill: #174EA6;\n",
              "    }\n",
              "\n",
              "    .colab-df-buttons div {\n",
              "      margin-bottom: 4px;\n",
              "    }\n",
              "\n",
              "    [theme=dark] .colab-df-convert {\n",
              "      background-color: #3B4455;\n",
              "      fill: #D2E3FC;\n",
              "    }\n",
              "\n",
              "    [theme=dark] .colab-df-convert:hover {\n",
              "      background-color: #434B5C;\n",
              "      box-shadow: 0px 1px 3px 1px rgba(0, 0, 0, 0.15);\n",
              "      filter: drop-shadow(0px 1px 2px rgba(0, 0, 0, 0.3));\n",
              "      fill: #FFFFFF;\n",
              "    }\n",
              "  </style>\n",
              "\n",
              "    <script>\n",
              "      const buttonEl =\n",
              "        document.querySelector('#df-23380139-910b-4f5d-9975-6f6e0222e25d button.colab-df-convert');\n",
              "      buttonEl.style.display =\n",
              "        google.colab.kernel.accessAllowed ? 'block' : 'none';\n",
              "\n",
              "      async function convertToInteractive(key) {\n",
              "        const element = document.querySelector('#df-23380139-910b-4f5d-9975-6f6e0222e25d');\n",
              "        const dataTable =\n",
              "          await google.colab.kernel.invokeFunction('convertToInteractive',\n",
              "                                                    [key], {});\n",
              "        if (!dataTable) return;\n",
              "\n",
              "        const docLinkHtml = 'Like what you see? Visit the ' +\n",
              "          '<a target=\"_blank\" href=https://colab.research.google.com/notebooks/data_table.ipynb>data table notebook</a>'\n",
              "          + ' to learn more about interactive tables.';\n",
              "        element.innerHTML = '';\n",
              "        dataTable['output_type'] = 'display_data';\n",
              "        await google.colab.output.renderOutput(dataTable, element);\n",
              "        const docLink = document.createElement('div');\n",
              "        docLink.innerHTML = docLinkHtml;\n",
              "        element.appendChild(docLink);\n",
              "      }\n",
              "    </script>\n",
              "  </div>\n",
              "\n",
              "\n",
              "<div id=\"df-9628e0bf-b860-4200-8a84-106aaaf1dc80\">\n",
              "  <button class=\"colab-df-quickchart\" onclick=\"quickchart('df-9628e0bf-b860-4200-8a84-106aaaf1dc80')\"\n",
              "            title=\"Suggest charts.\"\n",
              "            style=\"display:none;\">\n",
              "\n",
              "<svg xmlns=\"http://www.w3.org/2000/svg\" height=\"24px\"viewBox=\"0 0 24 24\"\n",
              "     width=\"24px\">\n",
              "    <g>\n",
              "        <path d=\"M19 3H5c-1.1 0-2 .9-2 2v14c0 1.1.9 2 2 2h14c1.1 0 2-.9 2-2V5c0-1.1-.9-2-2-2zM9 17H7v-7h2v7zm4 0h-2V7h2v10zm4 0h-2v-4h2v4z\"/>\n",
              "    </g>\n",
              "</svg>\n",
              "  </button>\n",
              "\n",
              "<style>\n",
              "  .colab-df-quickchart {\n",
              "    background-color: #E8F0FE;\n",
              "    border: none;\n",
              "    border-radius: 50%;\n",
              "    cursor: pointer;\n",
              "    display: none;\n",
              "    fill: #1967D2;\n",
              "    height: 32px;\n",
              "    padding: 0 0 0 0;\n",
              "    width: 32px;\n",
              "  }\n",
              "\n",
              "  .colab-df-quickchart:hover {\n",
              "    background-color: #E2EBFA;\n",
              "    box-shadow: 0px 1px 2px rgba(60, 64, 67, 0.3), 0px 1px 3px 1px rgba(60, 64, 67, 0.15);\n",
              "    fill: #174EA6;\n",
              "  }\n",
              "\n",
              "  [theme=dark] .colab-df-quickchart {\n",
              "    background-color: #3B4455;\n",
              "    fill: #D2E3FC;\n",
              "  }\n",
              "\n",
              "  [theme=dark] .colab-df-quickchart:hover {\n",
              "    background-color: #434B5C;\n",
              "    box-shadow: 0px 1px 3px 1px rgba(0, 0, 0, 0.15);\n",
              "    filter: drop-shadow(0px 1px 2px rgba(0, 0, 0, 0.3));\n",
              "    fill: #FFFFFF;\n",
              "  }\n",
              "</style>\n",
              "\n",
              "  <script>\n",
              "    async function quickchart(key) {\n",
              "      const charts = await google.colab.kernel.invokeFunction(\n",
              "          'suggestCharts', [key], {});\n",
              "    }\n",
              "    (() => {\n",
              "      let quickchartButtonEl =\n",
              "        document.querySelector('#df-9628e0bf-b860-4200-8a84-106aaaf1dc80 button');\n",
              "      quickchartButtonEl.style.display =\n",
              "        google.colab.kernel.accessAllowed ? 'block' : 'none';\n",
              "    })();\n",
              "  </script>\n",
              "</div>\n",
              "    </div>\n",
              "  </div>\n"
            ]
          },
          "metadata": {},
          "execution_count": 126
        }
      ]
    },
    {
      "cell_type": "code",
      "source": [
        "# # store 를 리스트로 변환(반복문을 위해)\n",
        "# train_del['store'] = train_del['store'].str.split(',')\n",
        "# train_del['store']"
      ],
      "metadata": {
        "colab": {
          "base_uri": "https://localhost:8080/"
        },
        "id": "3RNNyICeMxSK",
        "outputId": "125062f6-c7e4-4d65-da44-b5e299fd5a99"
      },
      "execution_count": 130,
      "outputs": [
        {
          "output_type": "stream",
          "name": "stderr",
          "text": [
            "<ipython-input-130-7ab0f5255dfd>:1: SettingWithCopyWarning: \n",
            "A value is trying to be set on a copy of a slice from a DataFrame.\n",
            "Try using .loc[row_indexer,col_indexer] = value instead\n",
            "\n",
            "See the caveats in the documentation: https://pandas.pydata.org/pandas-docs/stable/user_guide/indexing.html#returning-a-view-versus-a-copy\n",
            "  train_del['store'] = train_del['store'].str.split(',')\n"
          ]
        },
        {
          "output_type": "execute_result",
          "data": {
            "text/plain": [
              "7             [알촌]\n",
              "8             [알촌]\n",
              "9             [윤희]\n",
              "14        [1988응답]\n",
              "15            [윤희]\n",
              "           ...    \n",
              "19338    [최가, 최가네]\n",
              "19351    [최가, 최가네]\n",
              "19357    [최가, 최가네]\n",
              "19381    [최가, 최가네]\n",
              "19404    [최가, 최가네]\n",
              "Name: store, Length: 4487, dtype: object"
            ]
          },
          "metadata": {},
          "execution_count": 130
        }
      ]
    },
    {
      "cell_type": "code",
      "source": [
        "# del_reply = []\n",
        "# for reply, store_words in zip(train_del['reply'], train_del['store']):\n",
        "#     reply_words = reply.split()\n",
        "#     new_reply_words = []\n",
        "#     for reply_word in reply_words:\n",
        "#         if not any(store_word in reply_word for store_word in store_words): # store_words에 있는 단어가 어떤 단어에도 포함되지 않으면 추가\n",
        "#             new_reply_words.append(reply_word)\n",
        "\n",
        "#     new_reply = ' '.join(new_reply_words)\n",
        "#     del_reply.append(new_reply)\n",
        "\n",
        "# train_del['reply'] = del_reply\n",
        "# train_del['reply'][19404]"
      ],
      "metadata": {
        "colab": {
          "base_uri": "https://localhost:8080/",
          "height": 146
        },
        "id": "bxKLEmBDO9F4",
        "outputId": "e8df17c4-1b09-458e-a856-d25549f56ba8"
      },
      "execution_count": 134,
      "outputs": [
        {
          "output_type": "stream",
          "name": "stderr",
          "text": [
            "<ipython-input-134-99fbe3f86010>:16: SettingWithCopyWarning: \n",
            "A value is trying to be set on a copy of a slice from a DataFrame.\n",
            "Try using .loc[row_indexer,col_indexer] = value instead\n",
            "\n",
            "See the caveats in the documentation: https://pandas.pydata.org/pandas-docs/stable/user_guide/indexing.html#returning-a-view-versus-a-copy\n",
            "  train_del['reply'] = del_reply\n"
          ]
        },
        {
          "output_type": "execute_result",
          "data": {
            "text/plain": [
              "'맛있게 드셔주심에 저희가 너무 감사드립니다 항상 노력하는 될 수 있도록 할게요 좋은 글 남겨주셔서 감사드립니다'"
            ],
            "application/vnd.google.colaboratory.intrinsic+json": {
              "type": "string"
            }
          },
          "metadata": {},
          "execution_count": 134
        }
      ]
    },
    {
      "cell_type": "code",
      "source": [
        "# # train 셋에 반영\n",
        "# train[reply] = train_del['reply']\n",
        "# train[reply][19404]"
      ],
      "metadata": {
        "colab": {
          "base_uri": "https://localhost:8080/",
          "height": 35
        },
        "id": "m5GjWTZePx9e",
        "outputId": "d13c76f2-e1c6-4eb8-c73b-3d3b23d981a7"
      },
      "execution_count": 135,
      "outputs": [
        {
          "output_type": "execute_result",
          "data": {
            "text/plain": [
              "'맛있게 드셔주심에 저희가 너무 감사드립니다 항상 노력하는 될 수 있도록 할게요 좋은 글 남겨주셔서 감사드립니다'"
            ],
            "application/vnd.google.colaboratory.intrinsic+json": {
              "type": "string"
            }
          },
          "metadata": {},
          "execution_count": 135
        }
      ]
    },
    {
      "cell_type": "markdown",
      "source": [
        "### 지점명 reply에서 삭제"
      ],
      "metadata": {
        "id": "BlrPw8SETc9a"
      }
    },
    {
      "cell_type": "code",
      "source": [
        "train[train['reply'].str.contains(\"당신은 지금 치킨이 당긴다 헬리오 시티점입니다\")].index"
      ],
      "metadata": {
        "colab": {
          "base_uri": "https://localhost:8080/"
        },
        "id": "aC5fqBpXT8N7",
        "outputId": "221707e2-6c44-4304-a32e-9add02d5adec"
      },
      "execution_count": 162,
      "outputs": [
        {
          "output_type": "execute_result",
          "data": {
            "text/plain": [
              "Int64Index([ 2554,  2573,  2627,  2648,  2704,  2822,  2841,  2905,  3008,\n",
              "             3204,\n",
              "            ...\n",
              "            10448, 10449, 10450, 10451, 10452, 10453, 10454, 10455, 10456,\n",
              "            10457],\n",
              "           dtype='int64', length=151)"
            ]
          },
          "metadata": {},
          "execution_count": 162
        }
      ]
    },
    {
      "cell_type": "code",
      "source": [
        "remove_keyword = \"당신은 지금 치킨이 당긴다 헬리오 시티점입니다\"\n",
        "train['reply'] = train['reply'].str.replace(remove_keyword, '')"
      ],
      "metadata": {
        "id": "hKomYTYfVSHl"
      },
      "execution_count": 164,
      "outputs": []
    },
    {
      "cell_type": "code",
      "source": [
        "train['reply'][2554]"
      ],
      "metadata": {
        "colab": {
          "base_uri": "https://localhost:8080/",
          "height": 54
        },
        "id": "ScC4i5z9To-o",
        "outputId": "c01116a7-54eb-4bc6-e5ba-ad0cf45a84bd"
      },
      "execution_count": 165,
      "outputs": [
        {
          "output_type": "execute_result",
          "data": {
            "text/plain": [
              "'안녕하세요  에고 다음에 또 주문 주신다면 적당량의 양념이 묻어있는 제품 드릴 수 있도록 하겠습니다 좋은 피드백 감사드립니다 고객님께서 치킨이 당기실 때마다 저희가 생각나도록 더욱 열심히 하겠습니다 주문 정말 감사드리고 다음에 또 봐요 '"
            ],
            "application/vnd.google.colaboratory.intrinsic+json": {
              "type": "string"
            }
          },
          "metadata": {},
          "execution_count": 165
        }
      ]
    },
    {
      "cell_type": "code",
      "source": [
        "pattern = re.compile(r'\\S+점')\n",
        "train[\"reply\"].apply(lambda x: pattern.sub('', x)) #__점 제거"
      ],
      "metadata": {
        "colab": {
          "base_uri": "https://localhost:8080/"
        },
        "id": "0qz8d2S5Th1p",
        "outputId": "3e0f22c0-2f68-4498-896e-65d14d68f82a"
      },
      "execution_count": 166,
      "outputs": [
        {
          "output_type": "execute_result",
          "data": {
            "text/plain": [
              "0        만족하셨더라면 좋았을걸 저희도 아쉽네요 전복 특에 우는 고명으로 전복 슬라이스가 올...\n",
              "1        안녕하세요 고객님 다시 한번 사과의 말씀 드리고 싶습니다 오늘 직원들과의 미팅을 통...\n",
              "2        죄송해요 고객님 최근 기상악화로 배달대행사에 애로사항이 많다 보니 1시간 2시간이 ...\n",
              "3                            봉구 비어 닭 다리에요 매장에서 인기 많은데 죄송해요\n",
              "4        안녕하세요 고객님 저희 매장 다시 찾아주셨는데 만족드리지 못해 죄송합니다 고의적으로...\n",
              "                               ...                        \n",
              "19771                        사진 잘 찍어주셔서 감사합니다 다음에 또 뵙겠습니다 \n",
              "19772                                     맛있게 드셔주셔서 감사합니다 \n",
              "19773           허겁지겁 맛있게 드셔주셔서 감사합니다 리뷰 감사합니다 다음에 또 뵙겠습니다 \n",
              "19774    요청사항 언제든 환영입니다 맛있게 드셔주셔서 감사합니다 리뷰 감사합니다 다음에 또 ...\n",
              "19775                                     헉 부산에서 처음 감사합니다 \n",
              "Name: reply, Length: 19776, dtype: object"
            ]
          },
          "metadata": {},
          "execution_count": 166
        }
      ]
    },
    {
      "cell_type": "markdown",
      "source": [
        "- 여기까지 완료된 데이터 저장하기"
      ],
      "metadata": {
        "id": "dmsxky8iQFPj"
      }
    },
    {
      "cell_type": "code",
      "source": [
        "# # 전체\n",
        "# # train.to_csv(f\"{DATA_PATH}yogiyo_clean.csv\", index=False)\n",
        "\n",
        "# # 오버샘플 + 가게명 삭제\n",
        "# train.to_csv(f\"{DATA_PATH}yogiyo_OV_clean_store_del.csv\", index=False)"
      ],
      "metadata": {
        "id": "_os-9t-vQFPk"
      },
      "execution_count": 167,
      "outputs": []
    },
    {
      "cell_type": "markdown",
      "source": [
        "### 여기까지 완료된 데이터 불러오기"
      ],
      "metadata": {
        "id": "KeKlm-VGQFPk"
      }
    },
    {
      "cell_type": "code",
      "source": [
        "# 전체\n",
        "# train = pd.read_csv(f\"{DATA_PATH}yogiyo_clean.csv\")\n",
        "\n",
        "# 오버샘플 + 가게명 삭제\n",
        "train = pd.read_csv(f\"{DATA_PATH}yogiyo_OV_clean_store_del.csv\")\n",
        "\n",
        "train['review'] = train['review'].astype(str)\n",
        "train['reply'] = train['reply'].astype(str)\n",
        "review, reply = train[\"review\"] , train[\"reply\"]\n",
        "len(review) , len(reply)"
      ],
      "metadata": {
        "colab": {
          "base_uri": "https://localhost:8080/"
        },
        "outputId": "6ad1b4e5-0a88-4c71-db82-615b2321dae6",
        "id": "5zzz7jweQFPk"
      },
      "execution_count": 168,
      "outputs": [
        {
          "output_type": "execute_result",
          "data": {
            "text/plain": [
              "(19776, 19776)"
            ]
          },
          "metadata": {},
          "execution_count": 168
        }
      ]
    },
    {
      "cell_type": "markdown",
      "source": [
        "# 한국어 형태소 분석"
      ],
      "metadata": {
        "id": "oUIFAkI6vzBO"
      }
    },
    {
      "cell_type": "code",
      "source": [
        "review[:5]"
      ],
      "metadata": {
        "colab": {
          "base_uri": "https://localhost:8080/"
        },
        "id": "fW4YJJ09OMPw",
        "outputId": "d5f06ee3-f66c-45d5-caef-02f133dd5b18"
      },
      "execution_count": 169,
      "outputs": [
        {
          "output_type": "execute_result",
          "data": {
            "text/plain": [
              "0                                           죽에서비린맛이났어요\n",
              "1    머리카락나옴 위생신경좀 국수와 숙주 비율 1 1 맛 없음 이맛도 저맛도 아닌맛 배고...\n",
              "2    다시는 안시킨다 배달이 지나치게 늦음 주문한지 2시간반 지났는데 아직도 안오고 도착...\n",
              "3    사이드메뉴닭다리2개시켰는데 편의점다리가왔네요 비싸도 믿고첨시켜봤는데 전체적인맛도 그...\n",
              "4    오늘도 맛있게 먹게 해주셔서 감사합니다 그런데 지난번 누룽지 사건 이후로 사장님 심...\n",
              "Name: review, dtype: object"
            ]
          },
          "metadata": {},
          "execution_count": 169
        }
      ]
    },
    {
      "cell_type": "code",
      "source": [
        "import unicodedata\n",
        "\n",
        "def normalize(sentence):\n",
        "    return unicodedata.normalize('NFC', sentence)\n",
        "\n",
        "normalize(review[0])"
      ],
      "metadata": {
        "colab": {
          "base_uri": "https://localhost:8080/",
          "height": 35
        },
        "id": "gNuEg-mXOZHq",
        "outputId": "6659a7f3-e638-4785-c92c-a61b322aed5d"
      },
      "execution_count": 170,
      "outputs": [
        {
          "output_type": "execute_result",
          "data": {
            "text/plain": [
              "'죽에서비린맛이났어요'"
            ],
            "application/vnd.google.colaboratory.intrinsic+json": {
              "type": "string"
            }
          },
          "metadata": {},
          "execution_count": 170
        }
      ]
    },
    {
      "cell_type": "code",
      "source": [
        "from konlpy.tag import Mecab, Okt\n",
        "\n",
        "def clean_text(sentence):\n",
        "    okt = Okt()\n",
        "    sentence = normalize(sentence)\n",
        "    sentence = okt.morphs(sentence)\n",
        "    sentence = ' '.join(sentence)\n",
        "    sentence = sentence.lower()\n",
        "    return sentence\n",
        "\n",
        "clean_text(review[0])"
      ],
      "metadata": {
        "colab": {
          "base_uri": "https://localhost:8080/",
          "height": 35
        },
        "id": "YV8h0ecnMQyJ",
        "outputId": "34732c86-f688-456b-a7a9-ff0d617c8ede"
      },
      "execution_count": 171,
      "outputs": [
        {
          "output_type": "execute_result",
          "data": {
            "text/plain": [
              "'죽 에서 비린 맛 이 났어요'"
            ],
            "application/vnd.google.colaboratory.intrinsic+json": {
              "type": "string"
            }
          },
          "metadata": {},
          "execution_count": 171
        }
      ]
    },
    {
      "cell_type": "markdown",
      "source": [
        "# 단어 사전 만들기"
      ],
      "metadata": {
        "id": "v1skB1HmKDGg"
      }
    },
    {
      "cell_type": "code",
      "source": [
        "PAD_TOKEN = 0\n",
        "SOS_TOKEN = 1\n",
        "EOS_TOKEN = 2\n",
        "\n",
        "class WordVocab():\n",
        "    def __init__(self):\n",
        "        self.word2index = {'<PAD>': PAD_TOKEN,\n",
        "                           '<SOS>': SOS_TOKEN,\n",
        "                           '<EOS>': EOS_TOKEN,}\n",
        "        self.word2count = {}\n",
        "        self.index2word = {PAD_TOKEN: '<PAD>',\n",
        "                           SOS_TOKEN: '<SOS>',\n",
        "                           EOS_TOKEN: '<EOS>'}\n",
        "        self.n_words = 3  # PAD, SOS, EOS 포함\n",
        "\n",
        "    def add_sentence(self, sentence):\n",
        "        for word in sentence.split(' '):\n",
        "            self.add_word(word)\n",
        "\n",
        "    def add_word(self, word):\n",
        "        if word not in self.word2index:\n",
        "            self.word2index[word] = self.n_words\n",
        "            self.word2count[word] = 1\n",
        "            self.index2word[self.n_words] = word\n",
        "            self.n_words += 1\n",
        "        else:\n",
        "            self.word2count[word] += 1"
      ],
      "metadata": {
        "id": "hygb8KqYIi3O"
      },
      "execution_count": 172,
      "outputs": []
    },
    {
      "cell_type": "code",
      "source": [
        "print(f'원문: {review[0]}')\n",
        "lang = WordVocab()\n",
        "lang.add_sentence(review[0])\n",
        "print('단어사전: ', lang.word2index)"
      ],
      "metadata": {
        "colab": {
          "base_uri": "https://localhost:8080/"
        },
        "id": "GBgYZWQwIi0f",
        "outputId": "4d29f492-f711-40f0-9c3b-8adb782001fa"
      },
      "execution_count": 173,
      "outputs": [
        {
          "output_type": "stream",
          "name": "stdout",
          "text": [
            "원문: 죽에서비린맛이났어요\n",
            "단어사전:  {'<PAD>': 0, '<SOS>': 1, '<EOS>': 2, '죽에서비린맛이났어요': 3}\n"
          ]
        }
      ]
    },
    {
      "cell_type": "markdown",
      "source": [
        "# 데이터셋 만들기"
      ],
      "metadata": {
        "id": "5cU_Tee2R1G3"
      }
    },
    {
      "cell_type": "code",
      "source": [
        "class TextDataset(Dataset):\n",
        "    def __init__(self, df, min_length=3, max_length=32):\n",
        "        super().__init__()\n",
        "\n",
        "        # TOKEN 정의\n",
        "        self.PAD_TOKEN = 0 # Padding 토큰\n",
        "        self.SOS_TOKEN = 1 # SOS 토큰\n",
        "        self.EOS_TOKEN = 2 # EOS 토큰\n",
        "\n",
        "        self.tagger = Okt()   # 형태소 분석기\n",
        "        self.max_length = max_length # 한 문장의 최대 길이 지정\n",
        "\n",
        "        # src: 리뷰, tgt: 답변\n",
        "        src_clean = []\n",
        "        tgt_clean = []\n",
        "        store_list = []\n",
        "\n",
        "        # 단어 사전 생성\n",
        "        wordvocab = WordVocab()\n",
        "\n",
        "        for _, row in df.iterrows():\n",
        "            src = row['review']\n",
        "            tgt = row['reply']\n",
        "            store = row['store']\n",
        "            store_list.append(store)\n",
        "\n",
        "            # 한글 전처리\n",
        "            src = self.clean_text(src)\n",
        "            tgt = self.clean_text(tgt)\n",
        "\n",
        "            if len(src.split()) > min_length and len(tgt.split()) > min_length:\n",
        "                # 최소 길이를 넘어가는 문장의 단어만 추가\n",
        "                wordvocab.add_sentence(src)\n",
        "                wordvocab.add_sentence(tgt)\n",
        "                src_clean.append(src)\n",
        "                tgt_clean.append(tgt)\n",
        "\n",
        "        self.srcs = src_clean\n",
        "        self.tgts = tgt_clean\n",
        "        self.stores = store_list # 가게명 마스킹 처리 목적!\n",
        "        self.wordvocab = wordvocab\n",
        "\n",
        "    def clean_text(self, sentence):\n",
        "        # 형태소 처리\n",
        "        sentence = self.tagger.morphs(sentence)\n",
        "        sentence = ' '.join(sentence)\n",
        "        sentence = sentence.lower()\n",
        "        return sentence\n",
        "\n",
        "    def texts_to_sequences(self, sentence):\n",
        "        # 문장 -> 시퀀스로 변환\n",
        "        return [self.wordvocab.word2index[w] for w in sentence.split()]\n",
        "\n",
        "    def pad_sequence(self, sentence_tokens):\n",
        "        # 문장의 맨 끝 토큰은 제거\n",
        "        sentence_tokens = sentence_tokens[:(self.max_length-1)]\n",
        "        token_length = len(sentence_tokens)\n",
        "\n",
        "        # 문장의 맨 끝부분에 <EOS> 토큰 추가\n",
        "        sentence_tokens.append(self.EOS_TOKEN)\n",
        "\n",
        "        for i in range(token_length, (self.max_length-1)):\n",
        "            # 나머지 빈 곳에 <PAD> 토큰 추가\n",
        "            sentence_tokens.append(self.PAD_TOKEN)\n",
        "        return sentence_tokens\n",
        "\n",
        "    def __getitem__(self, idx):\n",
        "        inputs = self.srcs[idx]\n",
        "        inputs_sequences = self.texts_to_sequences(inputs)\n",
        "        inputs_padded = self.pad_sequence(inputs_sequences)\n",
        "\n",
        "        outputs = self.tgts[idx]\n",
        "        outputs_sequences = self.texts_to_sequences(outputs)\n",
        "        outputs_padded = self.pad_sequence(outputs_sequences)\n",
        "\n",
        "        return torch.tensor(inputs_padded), torch.tensor(outputs_padded)\n",
        "\n",
        "    def __len__(self):\n",
        "        return len(self.srcs)"
      ],
      "metadata": {
        "id": "qegB-fFUIiv9"
      },
      "execution_count": 174,
      "outputs": []
    },
    {
      "cell_type": "code",
      "source": [
        "MAX_LENGTH = 48\n",
        "\n",
        "dataset = TextDataset(train, min_length=3, max_length=MAX_LENGTH)"
      ],
      "metadata": {
        "id": "IhZLpU7SIita"
      },
      "execution_count": 175,
      "outputs": []
    },
    {
      "cell_type": "code",
      "source": [
        "x, y = dataset[0]"
      ],
      "metadata": {
        "id": "OCwwT9WwIirO"
      },
      "execution_count": 176,
      "outputs": []
    },
    {
      "cell_type": "code",
      "source": [
        "print(f'x shape: {x.shape}')\n",
        "print(x)"
      ],
      "metadata": {
        "colab": {
          "base_uri": "https://localhost:8080/"
        },
        "id": "7ueDgBziIioj",
        "outputId": "4c7f5508-76c8-44b3-f69d-ceb0aca65f0a"
      },
      "execution_count": 177,
      "outputs": [
        {
          "output_type": "stream",
          "name": "stdout",
          "text": [
            "x shape: torch.Size([48])\n",
            "tensor([3, 4, 5, 6, 7, 8, 2, 0, 0, 0, 0, 0, 0, 0, 0, 0, 0, 0, 0, 0, 0, 0, 0, 0,\n",
            "        0, 0, 0, 0, 0, 0, 0, 0, 0, 0, 0, 0, 0, 0, 0, 0, 0, 0, 0, 0, 0, 0, 0, 0])\n"
          ]
        }
      ]
    },
    {
      "cell_type": "code",
      "source": [
        "print(f'y shape: {y.shape}')\n",
        "print(y)"
      ],
      "metadata": {
        "colab": {
          "base_uri": "https://localhost:8080/"
        },
        "id": "IwRayL07IimV",
        "outputId": "8b357345-c130-428e-84e1-be4666d27a85"
      },
      "execution_count": 178,
      "outputs": [
        {
          "output_type": "stream",
          "name": "stdout",
          "text": [
            "y shape: torch.Size([48])\n",
            "tensor([ 9, 10, 11, 12, 13, 14, 15, 16, 17, 18, 19, 14, 20, 21, 22, 23, 14, 24,\n",
            "        25, 26,  7, 27, 28, 14, 26,  7, 29, 30, 31, 32, 33, 34, 35, 36,  5,  6,\n",
            "        19, 37, 38, 39, 40, 41, 11, 22, 42, 43, 44,  2])\n"
          ]
        }
      ]
    },
    {
      "cell_type": "markdown",
      "source": [
        "## 데이터셋 분할"
      ],
      "metadata": {
        "id": "gmotXqlRVf7s"
      }
    },
    {
      "cell_type": "code",
      "source": [
        "# 80%의 데이터를 train에 할당합니다.\n",
        "train_size = int(len(dataset) * 0.8)\n",
        "train_size"
      ],
      "metadata": {
        "colab": {
          "base_uri": "https://localhost:8080/"
        },
        "id": "V33lYSVnIiiZ",
        "outputId": "07390cd1-764b-48d6-920a-f7b335a7ec90"
      },
      "execution_count": 179,
      "outputs": [
        {
          "output_type": "execute_result",
          "data": {
            "text/plain": [
              "13848"
            ]
          },
          "metadata": {},
          "execution_count": 179
        }
      ]
    },
    {
      "cell_type": "code",
      "source": [
        "# 나머지 20% 데이터를 test에 할당합니다.\n",
        "test_size = len(dataset) - train_size\n",
        "test_size"
      ],
      "metadata": {
        "colab": {
          "base_uri": "https://localhost:8080/"
        },
        "id": "K7BalXtMVfr9",
        "outputId": "1369c71a-35a7-43bd-cf78-60f4dac4062e"
      },
      "execution_count": 180,
      "outputs": [
        {
          "output_type": "execute_result",
          "data": {
            "text/plain": [
              "3463"
            ]
          },
          "metadata": {},
          "execution_count": 180
        }
      ]
    },
    {
      "cell_type": "code",
      "source": [
        "from torch.utils.data import random_split\n",
        "\n",
        "# 랜덤 스플릿으로 분할을 완료합니다.\n",
        "train_dataset, test_dataset = random_split(dataset, [train_size, test_size])"
      ],
      "metadata": {
        "id": "x8hv80bOVfpV"
      },
      "execution_count": 181,
      "outputs": []
    },
    {
      "cell_type": "markdown",
      "source": [
        "# 데이터로더 만들기"
      ],
      "metadata": {
        "id": "nTlT-UZLVs4z"
      }
    },
    {
      "cell_type": "code",
      "source": [
        "from torch.utils.data import DataLoader, SubsetRandomSampler\n",
        "\n",
        "train_loader = DataLoader(train_dataset, batch_size=16, shuffle=True)\n",
        "test_loader = DataLoader(test_dataset, batch_size=16, shuffle=False)"
      ],
      "metadata": {
        "id": "VytG6MGDVtNj"
      },
      "execution_count": 182,
      "outputs": []
    },
    {
      "cell_type": "code",
      "source": [
        "# 1개의 배치 데이터를 추출\n",
        "x, y = next(iter(train_loader))\n",
        "\n",
        "# shape: (batch_size, sequence_length)\n",
        "x.shape, y.shape"
      ],
      "metadata": {
        "colab": {
          "base_uri": "https://localhost:8080/"
        },
        "id": "OkT49hogVxTf",
        "outputId": "c2d0c075-4f85-4006-fc58-72a05d2e392a"
      },
      "execution_count": 183,
      "outputs": [
        {
          "output_type": "execute_result",
          "data": {
            "text/plain": [
              "(torch.Size([16, 48]), torch.Size([16, 48]))"
            ]
          },
          "metadata": {},
          "execution_count": 183
        }
      ]
    },
    {
      "cell_type": "markdown",
      "source": [
        "# Encoder 만들기"
      ],
      "metadata": {
        "id": "y0p1uAoUWQ6K"
      }
    },
    {
      "cell_type": "code",
      "source": [
        "class Encoder(nn.Module):\n",
        "    def __init__(self, num_vocabs, hidden_size, embedding_dim, num_layers):\n",
        "        super().__init__()\n",
        "\n",
        "        # 단어 사전의 개수 지정\n",
        "        self.num_vocabs = num_vocabs\n",
        "        # 임베딩 레이어 정의 (number of vocabs, embedding dimension)\n",
        "        self.embedding = nn.Embedding(num_vocabs, embedding_dim)\n",
        "        # GRU (embedding dimension)\n",
        "        self.gru = nn.GRU(embedding_dim,\n",
        "                          hidden_size,\n",
        "                          num_layers=num_layers,\n",
        "                          bidirectional=False)\n",
        "\n",
        "    def forward(self, x):\n",
        "        x = self.embedding(x).permute(1, 0, 2)\n",
        "        output, hidden = self.gru(x)\n",
        "        return output, hidden"
      ],
      "metadata": {
        "id": "5O03VXXFVxSF"
      },
      "execution_count": 184,
      "outputs": []
    },
    {
      "cell_type": "code",
      "source": [
        "embedding_dim = 64 # 임베딩 차원\n",
        "embedding = nn.Embedding(dataset.wordvocab.n_words, embedding_dim)\n",
        "\n",
        "# x의 shape을 변경합니다.\n",
        "# (batch_size, sequence_length) => (sequence_length, batch_size)\n",
        "embedded = embedding(x)\n",
        "\n",
        "print(x.shape)\n",
        "print(embedded.shape)\n",
        "# input:  (sequence_length, batch_size)\n",
        "# output: (sequence_length, batch_size, embedding_dim)"
      ],
      "metadata": {
        "colab": {
          "base_uri": "https://localhost:8080/"
        },
        "id": "LOQyDM8LVxQU",
        "outputId": "841a0c58-2158-4736-ede8-acfe4c18ef24"
      },
      "execution_count": 185,
      "outputs": [
        {
          "output_type": "stream",
          "name": "stdout",
          "text": [
            "torch.Size([16, 48])\n",
            "torch.Size([16, 48, 64])\n"
          ]
        }
      ]
    },
    {
      "cell_type": "code",
      "source": [
        "embedded = embedded.permute(1, 0, 2)\n",
        "print(embedded.shape)\n",
        "# (sequence_length, batch_size, embedding_dim)"
      ],
      "metadata": {
        "colab": {
          "base_uri": "https://localhost:8080/"
        },
        "id": "Pb1QQDpkVxMw",
        "outputId": "007d5cf8-e637-4e2d-c4a7-273d96cc2409"
      },
      "execution_count": 186,
      "outputs": [
        {
          "output_type": "stream",
          "name": "stdout",
          "text": [
            "torch.Size([48, 16, 64])\n"
          ]
        }
      ]
    },
    {
      "cell_type": "code",
      "source": [
        "hidden_size = 32\n",
        "\n",
        "gru = nn.GRU(embedding_dim,      # embedding 차원\n",
        "             hidden_size,\n",
        "             num_layers=1,\n",
        "             bidirectional=False)\n",
        "\n",
        "# input       : (sequence_length, batch_size, embedding_dim)\n",
        "# h0          : (Bidirectional(1) x number of layers(1), batch_size, hidden_size)\n",
        "o, h = gru(embedded, None)\n",
        "\n",
        "print(o.shape)\n",
        "print(h.shape)\n",
        "# output      : (sequence_length, batch_size, hidden_size x bidirectional(1))\n",
        "# hidden_state: (bidirectional(1) x number of layers(1), batch_size, hidden_size)"
      ],
      "metadata": {
        "colab": {
          "base_uri": "https://localhost:8080/"
        },
        "id": "prj9C4gBVxJ8",
        "outputId": "8b0b6723-bada-45d0-d161-970711832d70"
      },
      "execution_count": 187,
      "outputs": [
        {
          "output_type": "stream",
          "name": "stdout",
          "text": [
            "torch.Size([48, 16, 32])\n",
            "torch.Size([1, 16, 32])\n"
          ]
        }
      ]
    },
    {
      "cell_type": "code",
      "source": [
        "NUM_VOCABS = dataset.wordvocab.n_words\n",
        "print(f'number of vocabs: {NUM_VOCABS}')"
      ],
      "metadata": {
        "colab": {
          "base_uri": "https://localhost:8080/"
        },
        "id": "uvil6PfkVxHv",
        "outputId": "9afbf8e1-f16c-47fc-dfbc-4d175558d154"
      },
      "execution_count": 188,
      "outputs": [
        {
          "output_type": "stream",
          "name": "stdout",
          "text": [
            "number of vocabs: 20763\n"
          ]
        }
      ]
    },
    {
      "cell_type": "markdown",
      "source": [
        "## Encoder 정의"
      ],
      "metadata": {
        "id": "ETAwFhxaWzsY"
      }
    },
    {
      "cell_type": "code",
      "source": [
        "# Encoder 정의\n",
        "encoder = Encoder(NUM_VOCABS, hidden_size=32, embedding_dim=64, num_layers=1)"
      ],
      "metadata": {
        "id": "221hJUmVVxFW"
      },
      "execution_count": 189,
      "outputs": []
    },
    {
      "cell_type": "code",
      "source": [
        "# Encoder에 x 통과 후 output, hidden_size 의 shape 확인\n",
        "# input(x)    : (batch_size, sequence_length)\n",
        "o, h = encoder(x)\n",
        "\n",
        "print(o.shape)\n",
        "print(h.shape)\n",
        "# output      : (sequence_length, batch_size, hidden_size x bidirectional(1))\n",
        "# hidden_state: (bidirectional(1) x number of layers(1), batch_size, hidden_size)"
      ],
      "metadata": {
        "colab": {
          "base_uri": "https://localhost:8080/"
        },
        "id": "lGfREzxCVxDJ",
        "outputId": "b64f8be3-d01c-4a62-91bc-553d235c50e6"
      },
      "execution_count": 190,
      "outputs": [
        {
          "output_type": "stream",
          "name": "stdout",
          "text": [
            "torch.Size([48, 16, 32])\n",
            "torch.Size([1, 16, 32])\n"
          ]
        }
      ]
    },
    {
      "cell_type": "markdown",
      "source": [
        "# Decoder 만들기"
      ],
      "metadata": {
        "id": "WxbHG7JSWoSB"
      }
    },
    {
      "cell_type": "code",
      "source": [
        "class Decoder(nn.Module):\n",
        "    def __init__(self, num_vocabs, hidden_size, embedding_dim, num_layers=1, dropout=0.2):\n",
        "        super().__init__()\n",
        "        # 단어사전 개수\n",
        "        self.num_vocabs = num_vocabs\n",
        "        self.embedding = nn.Embedding(num_vocabs, embedding_dim)\n",
        "        self.dropout = nn.Dropout(dropout)\n",
        "        self.gru = nn.GRU(embedding_dim,\n",
        "                          hidden_size,\n",
        "                          num_layers=num_layers,\n",
        "                          bidirectional=False)\n",
        "\n",
        "        # 최종 출력은 단어사전의 개수\n",
        "        self.fc = nn.Linear(hidden_size, num_vocabs)\n",
        "\n",
        "    def forward(self, x, hidden_state):\n",
        "        x = x.unsqueeze(0) # (1, batch_size) 로 변환\n",
        "        embedded = F.relu(self.embedding(x))\n",
        "        embedded = self.dropout(embedded)\n",
        "        output, hidden = self.gru(embedded, hidden_state)\n",
        "        output = self.fc(output.squeeze(0)) # (sequence_length, batch_size, hidden_size(32) x bidirectional(1))\n",
        "        return output, hidden"
      ],
      "metadata": {
        "id": "e7WjdpnbVxAa"
      },
      "execution_count": 191,
      "outputs": []
    },
    {
      "cell_type": "code",
      "source": [
        "x = torch.abs(torch.randn(size=(1, 16)).long())\n",
        "print(x)\n",
        "x.shape\n",
        "# batch_size = 16 이라 가정했을 때,\n",
        "# (1, batch_size)\n",
        "# 여기서 batch_size => (1, batch_size) 로 shape 변환을 선행"
      ],
      "metadata": {
        "colab": {
          "base_uri": "https://localhost:8080/"
        },
        "id": "Ukt1pWOmVw-R",
        "outputId": "78150599-cee6-4749-f76b-4c31d1bc8e2d"
      },
      "execution_count": 192,
      "outputs": [
        {
          "output_type": "stream",
          "name": "stdout",
          "text": [
            "tensor([[0, 0, 1, 2, 1, 1, 0, 1, 0, 0, 1, 0, 1, 0, 0, 0]])\n"
          ]
        },
        {
          "output_type": "execute_result",
          "data": {
            "text/plain": [
              "torch.Size([1, 16])"
            ]
          },
          "metadata": {},
          "execution_count": 192
        }
      ]
    },
    {
      "cell_type": "code",
      "source": [
        "embedding_dim = 64 # 임베딩 차원\n",
        "embedding = nn.Embedding(dataset.wordvocab.n_words, embedding_dim)\n",
        "\n",
        "embedded = embedding(x)\n",
        "embedded.shape\n",
        "# embedding 출력\n",
        "# (1, batch_size, embedding_dim)"
      ],
      "metadata": {
        "colab": {
          "base_uri": "https://localhost:8080/"
        },
        "id": "Qufl6wNTWqPJ",
        "outputId": "e6f1dda6-acf9-4bc7-f1e2-923e6df7161d"
      },
      "execution_count": 193,
      "outputs": [
        {
          "output_type": "execute_result",
          "data": {
            "text/plain": [
              "torch.Size([1, 16, 64])"
            ]
          },
          "metadata": {},
          "execution_count": 193
        }
      ]
    },
    {
      "cell_type": "code",
      "source": [
        "hidden_size = 32\n",
        "\n",
        "gru = nn.GRU(embedding_dim,\n",
        "             hidden_size,\n",
        "             num_layers=1,\n",
        "             bidirectional=False,\n",
        "             batch_first=False, # batch_first=False로 지정\n",
        "            )\n",
        "\n",
        "o, h = gru(embedded)\n",
        "\n",
        "print(o.shape)\n",
        "# output shape: (sequence_length, batch_size, hidden_size(32) x bidirectional(1))\n",
        "print(h.shape)\n",
        "# hidden_state shape: (Bidirectional(1) x number of layers(1), batch_size, hidden_size(32))"
      ],
      "metadata": {
        "colab": {
          "base_uri": "https://localhost:8080/"
        },
        "id": "ugfx1LOtWqM-",
        "outputId": "95482552-df1f-4d1a-e73b-cb7ab99365eb"
      },
      "execution_count": 194,
      "outputs": [
        {
          "output_type": "stream",
          "name": "stdout",
          "text": [
            "torch.Size([1, 16, 32])\n",
            "torch.Size([1, 16, 32])\n"
          ]
        }
      ]
    },
    {
      "cell_type": "code",
      "source": [
        "fc = nn.Linear(32, NUM_VOCABS) # 출력은 단어사전의 개수로 가정\n",
        "\n",
        "output = fc(o[0])\n",
        "\n",
        "print(o[0].shape)\n",
        "print(output.shape)\n",
        "# input : (batch_size, output from GRU)\n",
        "# output: (batch_size, output dimension)"
      ],
      "metadata": {
        "colab": {
          "base_uri": "https://localhost:8080/"
        },
        "id": "VHLbK8VgWqKg",
        "outputId": "a9c07387-3a03-4b5d-f861-545fb3675e28"
      },
      "execution_count": 195,
      "outputs": [
        {
          "output_type": "stream",
          "name": "stdout",
          "text": [
            "torch.Size([16, 32])\n",
            "torch.Size([16, 20763])\n"
          ]
        }
      ]
    },
    {
      "cell_type": "markdown",
      "source": [
        "## Decoder 정의"
      ],
      "metadata": {
        "id": "b0-mVJTKW573"
      }
    },
    {
      "cell_type": "code",
      "source": [
        "decoder = Decoder(num_vocabs=dataset.wordvocab.n_words, hidden_size=32, embedding_dim=64, num_layers=1)"
      ],
      "metadata": {
        "id": "LjFAFezvWqH8"
      },
      "execution_count": 196,
      "outputs": []
    },
    {
      "cell_type": "code",
      "source": [
        "x, y = next(iter(train_loader))\n",
        "\n",
        "o, h = encoder(x)\n",
        "\n",
        "print(o.shape, h.shape)\n",
        "# output      : (batch_size, sequence_length, hidden_size(32) x bidirectional(1))\n",
        "# hidden_state: (Bidirectional(1) x number of layers(1), batch_size, hidden_size(32))"
      ],
      "metadata": {
        "colab": {
          "base_uri": "https://localhost:8080/"
        },
        "id": "7k8wov_uWqF3",
        "outputId": "bca4b948-fa8b-4f3f-c50a-ac0ff7860b15"
      },
      "execution_count": 197,
      "outputs": [
        {
          "output_type": "stream",
          "name": "stdout",
          "text": [
            "torch.Size([48, 16, 32]) torch.Size([1, 16, 32])\n"
          ]
        }
      ]
    },
    {
      "cell_type": "code",
      "source": [
        "x = torch.abs(torch.full(size=(16,), fill_value=SOS_TOKEN).long())\n",
        "print(x)\n",
        "x.shape\n",
        "# batch_size = 16 이라 가정(16개의 SOS 토큰)"
      ],
      "metadata": {
        "colab": {
          "base_uri": "https://localhost:8080/"
        },
        "id": "m3IyR3dAWqDa",
        "outputId": "f20bf1ba-fc74-4f57-e660-6c40f57894b6"
      },
      "execution_count": 198,
      "outputs": [
        {
          "output_type": "stream",
          "name": "stdout",
          "text": [
            "tensor([1, 1, 1, 1, 1, 1, 1, 1, 1, 1, 1, 1, 1, 1, 1, 1])\n"
          ]
        },
        {
          "output_type": "execute_result",
          "data": {
            "text/plain": [
              "torch.Size([16])"
            ]
          },
          "metadata": {},
          "execution_count": 198
        }
      ]
    },
    {
      "cell_type": "code",
      "source": [
        "decoder_output, decoder_hidden = decoder(x, h)\n",
        "decoder_output.shape, decoder_hidden.shape\n",
        "# (batch_size, num_vocabs), (1, batch_size, hidden_size)"
      ],
      "metadata": {
        "colab": {
          "base_uri": "https://localhost:8080/"
        },
        "id": "WINqAVmJWp_P",
        "outputId": "46c0d05a-d6b1-4e3a-b2dd-4708f7b1b99c"
      },
      "execution_count": 199,
      "outputs": [
        {
          "output_type": "execute_result",
          "data": {
            "text/plain": [
              "(torch.Size([16, 20763]), torch.Size([1, 16, 32]))"
            ]
          },
          "metadata": {},
          "execution_count": 199
        }
      ]
    },
    {
      "cell_type": "markdown",
      "source": [
        "# Seq2Seq 모델 만들기"
      ],
      "metadata": {
        "id": "YuJaLiSyXDUk"
      }
    },
    {
      "cell_type": "code",
      "source": [
        "class Seq2Seq(nn.Module):\n",
        "    def __init__(self, encoder, decoder, device):\n",
        "        super(Seq2Seq, self).__init__()\n",
        "        self.encoder = encoder\n",
        "        self.decoder = decoder\n",
        "        self.device = device\n",
        "\n",
        "    def forward(self, inputs, outputs, teacher_forcing_ratio=0.5):\n",
        "        # inputs : (batch_size, sequence_length)\n",
        "        # outputs: (batch_size, sequence_length)\n",
        "\n",
        "        batch_size, output_length = outputs.shape\n",
        "        output_num_vocabs = self.decoder.num_vocabs\n",
        "\n",
        "        # 리턴할 예측된 outputs를 저장할 임시 변수\n",
        "        # (sequence_length, batch_size, num_vocabs)\n",
        "        predicted_outputs = torch.zeros(output_length, batch_size, output_num_vocabs).to(self.device)\n",
        "\n",
        "        # 인코더에 입력 데이터 주입, encoder_output은 버리고 hidden_state 만 살립니다.\n",
        "        # 여기서 hidden_state가 디코더에 주입할 context vector 입니다.\n",
        "        # (Bidirectional(1) x number of layers(1), batch_size, hidden_size)\n",
        "        _, decoder_hidden = self.encoder(inputs)\n",
        "\n",
        "        # (batch_size) shape의 SOS TOKEN으로 채워진 디코더 입력 생성\n",
        "        decoder_input = torch.full((batch_size,), SOS_TOKEN, device=self.device)\n",
        "\n",
        "        # 순회하면서 출력 단어를 생성합니다.\n",
        "        # 0번째는 SOS TOKEN이 위치하므로, 1번째 인덱스부터 순회합니다.\n",
        "        for t in range(0, output_length):\n",
        "            # decoder_input : 디코더 입력 (batch_size) 형태의 SOS TOKEN로 채워진 입력\n",
        "            # decoder_output: (batch_size, num_vocabs)\n",
        "            # decoder_hidden: (Bidirectional(1) x number of layers(1), batch_size, hidden_size), context vector와 동일 shape\n",
        "            decoder_output, decoder_hidden = self.decoder(decoder_input, decoder_hidden)\n",
        "\n",
        "            # t번째 단어에 디코더의 output 저장\n",
        "            predicted_outputs[t] = decoder_output\n",
        "\n",
        "            # teacher forcing 적용 여부 확률로 결정\n",
        "            # teacher forcing 이란: 정답치를 다음 RNN Cell의 입력으로 넣어주는 경우. 수렴속도가 빠를 수 있으나, 불안정할 수 있음\n",
        "            teacher_force = random.random() < teacher_forcing_ratio\n",
        "\n",
        "            # top1 단어 토큰 예측\n",
        "            top1 = decoder_output.argmax(1)\n",
        "\n",
        "            # teacher forcing 인 경우 ground truth 값을, 그렇지 않은 경우, 예측 값을 다음 input으로 지정\n",
        "            decoder_input = outputs[:, t] if teacher_force else top1\n",
        "\n",
        "        return predicted_outputs.permute(1, 0, 2) # (batch_size, sequence_length, num_vocabs)로 변경"
      ],
      "metadata": {
        "id": "_PytT7XtW-tM"
      },
      "execution_count": 200,
      "outputs": []
    },
    {
      "cell_type": "code",
      "source": [
        "# Encoder 정의\n",
        "encoder = Encoder(num_vocabs=dataset.wordvocab.n_words,\n",
        "                       hidden_size=32,\n",
        "                       embedding_dim=64,\n",
        "                       num_layers=1)\n",
        "# Decoder 정의\n",
        "decoder = Decoder(num_vocabs=dataset.wordvocab.n_words,\n",
        "                       hidden_size=32,\n",
        "                       embedding_dim=64,\n",
        "                       num_layers=1)\n",
        "# Seq2Seq 정의\n",
        "seq2seq = Seq2Seq(encoder, decoder, 'cpu')"
      ],
      "metadata": {
        "id": "xpvgCZhiW-qs"
      },
      "execution_count": 201,
      "outputs": []
    },
    {
      "cell_type": "code",
      "source": [
        "x, y = next(iter(train_loader))\n",
        "print(x.shape, y.shape)\n",
        "# (batch_size, sequence_length), (batch_size, sequence_length)"
      ],
      "metadata": {
        "colab": {
          "base_uri": "https://localhost:8080/"
        },
        "id": "M8DrPCgVW-oF",
        "outputId": "15b2e5b9-8ac8-4e08-b315-eca384cc2140"
      },
      "execution_count": 202,
      "outputs": [
        {
          "output_type": "stream",
          "name": "stdout",
          "text": [
            "torch.Size([16, 48]) torch.Size([16, 48])\n"
          ]
        }
      ]
    },
    {
      "cell_type": "code",
      "source": [
        "output = seq2seq(x, y)\n",
        "print(output.shape)\n",
        "# (batch_size, sequence_length, num_vocabs)"
      ],
      "metadata": {
        "colab": {
          "base_uri": "https://localhost:8080/"
        },
        "id": "2J4N_X2rW-lz",
        "outputId": "1ababcf3-3e74-47d6-de95-b1d8673f351d"
      },
      "execution_count": 203,
      "outputs": [
        {
          "output_type": "stream",
          "name": "stdout",
          "text": [
            "torch.Size([16, 48, 20763])\n"
          ]
        }
      ]
    },
    {
      "cell_type": "markdown",
      "source": [
        "## 모델 확인"
      ],
      "metadata": {
        "id": "xhHarWD6XUT_"
      }
    },
    {
      "cell_type": "code",
      "source": [
        "NUM_VOCABS = dataset.wordvocab.n_words\n",
        "HIDDEN_SIZE = 512\n",
        "EMBEDDIMG_DIM = 256\n",
        "\n",
        "print(f'num_vocabs: {NUM_VOCABS}\\n======================')\n",
        "\n",
        "# Encoder 정의\n",
        "encoder = Encoder(num_vocabs=NUM_VOCABS,\n",
        "                  hidden_size=HIDDEN_SIZE,\n",
        "                  embedding_dim=EMBEDDIMG_DIM,\n",
        "                  num_layers=1)\n",
        "# Decoder 정의\n",
        "decoder = Decoder(num_vocabs=NUM_VOCABS,\n",
        "                  hidden_size=HIDDEN_SIZE,\n",
        "                  embedding_dim=EMBEDDIMG_DIM,\n",
        "                  num_layers=1)\n",
        "\n",
        "# Seq2Seq 생성\n",
        "# encoder, decoder를 device 모두 지정\n",
        "model = Seq2Seq(encoder.to(device), decoder.to(device), device)\n",
        "print(model)"
      ],
      "metadata": {
        "colab": {
          "base_uri": "https://localhost:8080/"
        },
        "id": "Jyuw1zgTW-jh",
        "outputId": "e35a8544-d94a-49ce-c9a8-564629857cb3"
      },
      "execution_count": 204,
      "outputs": [
        {
          "output_type": "stream",
          "name": "stdout",
          "text": [
            "num_vocabs: 20763\n",
            "======================\n",
            "Seq2Seq(\n",
            "  (encoder): Encoder(\n",
            "    (embedding): Embedding(20763, 256)\n",
            "    (gru): GRU(256, 512)\n",
            "  )\n",
            "  (decoder): Decoder(\n",
            "    (embedding): Embedding(20763, 256)\n",
            "    (dropout): Dropout(p=0.2, inplace=False)\n",
            "    (gru): GRU(256, 512)\n",
            "    (fc): Linear(in_features=512, out_features=20763, bias=True)\n",
            "  )\n",
            ")\n"
          ]
        }
      ]
    },
    {
      "cell_type": "markdown",
      "source": [
        "# 하이퍼파라미터 정의"
      ],
      "metadata": {
        "id": "EaBwVfIzXm-s"
      }
    },
    {
      "cell_type": "code",
      "source": [
        "class EarlyStopping:\n",
        "    def __init__(self, patience=3, delta=0.0, mode='min', verbose=True):\n",
        "        \"\"\"\n",
        "        patience (int): loss or score가 개선된 후 기다리는 기간. default: 3\n",
        "        delta  (float): 개선시 인정되는 최소 변화 수치. default: 0.0\n",
        "        mode     (str): 개선시 최소/최대값 기준 선정('min' or 'max'). default: 'min'.\n",
        "        verbose (bool): 메시지 출력. default: True\n",
        "        \"\"\"\n",
        "        self.early_stop = False\n",
        "        self.patience = patience\n",
        "        self.verbose = verbose\n",
        "        self.counter = 0\n",
        "\n",
        "        self.best_score = np.Inf if mode == 'min' else 0\n",
        "        self.mode = mode\n",
        "        self.delta = delta\n",
        "\n",
        "\n",
        "    def __call__(self, score):\n",
        "\n",
        "        if self.best_score is None:\n",
        "            self.best_score = score\n",
        "            self.counter = 0\n",
        "        elif self.mode == 'min':\n",
        "            if score < (self.best_score - self.delta):\n",
        "                self.counter = 0\n",
        "                self.best_score = score\n",
        "                if self.verbose:\n",
        "                    print(f'[EarlyStopping] (Update) Best Score: {self.best_score:.5f}')\n",
        "            else:\n",
        "                self.counter += 1\n",
        "                if self.verbose:\n",
        "                    print(f'[EarlyStopping] (Patience) {self.counter}/{self.patience}, ' \\\n",
        "                          f'Best: {self.best_score:.5f}' \\\n",
        "                          f', Current: {score:.5f}, Delta: {np.abs(self.best_score - score):.5f}')\n",
        "\n",
        "        elif self.mode == 'max':\n",
        "            if score > (self.best_score + self.delta):\n",
        "                self.counter = 0\n",
        "                self.best_score = score\n",
        "                if self.verbose:\n",
        "                    print(f'[EarlyStopping] (Update) Best Score: {self.best_score:.5f}')\n",
        "            else:\n",
        "                self.counter += 1\n",
        "                if self.verbose:\n",
        "                    print(f'[EarlyStopping] (Patience) {self.counter}/{self.patience}, ' \\\n",
        "                          f'Best: {self.best_score:.5f}' \\\n",
        "                          f', Current: {score:.5f}, Delta: {np.abs(self.best_score - score):.5f}')\n",
        "\n",
        "\n",
        "        if self.counter >= self.patience:\n",
        "            if self.verbose:\n",
        "                print(f'[EarlyStop Triggered] Best Score: {self.best_score:.5f}')\n",
        "            # Early Stop\n",
        "            self.early_stop = True\n",
        "        else:\n",
        "            # Continue\n",
        "            self.early_stop = False"
      ],
      "metadata": {
        "id": "KKNqhiB1W-hS"
      },
      "execution_count": 205,
      "outputs": []
    },
    {
      "cell_type": "code",
      "source": [
        "LR = 1e-3\n",
        "optimizer = optim.Adam(model.parameters(), lr=LR)\n",
        "loss_fn = nn.CrossEntropyLoss()\n",
        "es = EarlyStopping(patience=5, delta=0.001, mode='min', verbose=True)\n",
        "scheduler = optim.lr_scheduler.ReduceLROnPlateau(optimizer, mode='min', factor=0.5, patience=2, threshold_mode='abs', min_lr=1e-8, verbose=True)"
      ],
      "metadata": {
        "id": "cyJi-J-sW-ee"
      },
      "execution_count": 206,
      "outputs": []
    },
    {
      "cell_type": "markdown",
      "source": [
        "# 학습 loop 만들기"
      ],
      "metadata": {
        "id": "1Ql0nXlWYCyi"
      }
    },
    {
      "cell_type": "code",
      "source": [
        "def train(model, data_loader, optimizer, loss_fn, device):\n",
        "    model.train()\n",
        "    running_loss = 0\n",
        "\n",
        "    for x, y in data_loader:\n",
        "        x, y = x.to(device), y.to(device)\n",
        "\n",
        "        optimizer.zero_grad()\n",
        "\n",
        "        # output: (batch_size, sequence_length, num_vocabs)\n",
        "        output = model(x, y)\n",
        "        output_dim = output.size(2)\n",
        "\n",
        "        # 1번 index 부터 슬라이싱한 이유는 0번 index가 SOS TOKEN 이기 때문\n",
        "        # (batch_size*sequence_length, num_vocabs) 로 변경\n",
        "        output = output.reshape(-1, output_dim)\n",
        "\n",
        "        # (batch_size*sequence_length) 로 변경\n",
        "        y = y.view(-1)\n",
        "\n",
        "        # Loss 계산\n",
        "        loss = loss_fn(output, y)\n",
        "        loss.backward()\n",
        "        optimizer.step()\n",
        "\n",
        "        running_loss += loss.item() * x.size(0)\n",
        "\n",
        "    return running_loss / len(data_loader)"
      ],
      "metadata": {
        "id": "8kpqXIFzVw7x"
      },
      "execution_count": 207,
      "outputs": []
    },
    {
      "cell_type": "code",
      "source": [
        "def evaluate(model, data_loader, loss_fn, device):\n",
        "    model.eval()\n",
        "\n",
        "    eval_loss = 0\n",
        "\n",
        "    with torch.no_grad():\n",
        "        for x, y in data_loader:\n",
        "            x, y = x.to(device), y.to(device)\n",
        "            output = model(x, y)\n",
        "            output_dim = output.size(2)\n",
        "            output = output.reshape(-1, output_dim)\n",
        "            y = y.view(-1)\n",
        "\n",
        "            # Loss 계산\n",
        "            loss = loss_fn(output, y)\n",
        "\n",
        "            eval_loss += loss.item() * x.size(0)\n",
        "\n",
        "    return eval_loss / len(data_loader)"
      ],
      "metadata": {
        "id": "GMSKIYG_YCNa"
      },
      "execution_count": 208,
      "outputs": []
    },
    {
      "cell_type": "markdown",
      "source": [
        "# 추론 함수"
      ],
      "metadata": {
        "id": "DdudDwwdYRiR"
      }
    },
    {
      "cell_type": "code",
      "source": [
        "def sequence_to_sentence(sequences, index2word):\n",
        "    outputs = []\n",
        "    for p in sequences:\n",
        "\n",
        "        word = index2word[p]\n",
        "        if p not in [SOS_TOKEN, EOS_TOKEN, PAD_TOKEN]:\n",
        "            outputs.append(word)\n",
        "        if word == EOS_TOKEN:\n",
        "            break\n",
        "    return ' '.join(outputs)"
      ],
      "metadata": {
        "id": "H0YOB9zbYCKs"
      },
      "execution_count": 209,
      "outputs": []
    },
    {
      "cell_type": "code",
      "source": [
        "!git clone https://github.com/ssut/py-hanspell.git\n",
        "!cd py-hanspell\n",
        "!pip install py-hanspell/"
      ],
      "metadata": {
        "colab": {
          "base_uri": "https://localhost:8080/"
        },
        "id": "qY1kw3jrc27G",
        "outputId": "48564d89-808e-4113-8de9-cc27b9e0a32c"
      },
      "execution_count": 212,
      "outputs": [
        {
          "output_type": "stream",
          "name": "stdout",
          "text": [
            "Cloning into 'py-hanspell'...\n",
            "remote: Enumerating objects: 110, done.\u001b[K\n",
            "remote: Counting objects: 100% (22/22), done.\u001b[K\n",
            "remote: Compressing objects: 100% (13/13), done.\u001b[K\n",
            "remote: Total 110 (delta 16), reused 9 (delta 9), pack-reused 88\u001b[K\n",
            "Receiving objects: 100% (110/110), 22.30 KiB | 11.15 MiB/s, done.\n",
            "Resolving deltas: 100% (55/55), done.\n",
            "Processing ./py-hanspell\n",
            "  Preparing metadata (setup.py) ... \u001b[?25l\u001b[?25hdone\n",
            "Requirement already satisfied: requests in /usr/local/lib/python3.10/dist-packages (from py-hanspell==1.1) (2.31.0)\n",
            "Requirement already satisfied: charset-normalizer<4,>=2 in /usr/local/lib/python3.10/dist-packages (from requests->py-hanspell==1.1) (3.2.0)\n",
            "Requirement already satisfied: idna<4,>=2.5 in /usr/local/lib/python3.10/dist-packages (from requests->py-hanspell==1.1) (3.4)\n",
            "Requirement already satisfied: urllib3<3,>=1.21.1 in /usr/local/lib/python3.10/dist-packages (from requests->py-hanspell==1.1) (2.0.4)\n",
            "Requirement already satisfied: certifi>=2017.4.17 in /usr/local/lib/python3.10/dist-packages (from requests->py-hanspell==1.1) (2023.7.22)\n",
            "Building wheels for collected packages: py-hanspell\n",
            "  Building wheel for py-hanspell (setup.py) ... \u001b[?25l\u001b[?25hdone\n",
            "  Created wheel for py-hanspell: filename=py_hanspell-1.1-py3-none-any.whl size=4813 sha256=ca0feaadd8d76b9a9e9768720b3eaca89195b99e13c674d2f82b44ca0f072fb9\n",
            "  Stored in directory: /root/.cache/pip/wheels/a3/a7/16/8db596361f402638188412108152b8fbf6db76c898e00fe02d\n",
            "Successfully built py-hanspell\n",
            "Installing collected packages: py-hanspell\n",
            "Successfully installed py-hanspell-1.1\n"
          ]
        }
      ]
    },
    {
      "cell_type": "code",
      "source": [
        "from hanspell import spell_checker\n",
        "def correct_spell(text):\n",
        "    if isinstance(text, str):  # 입력 데이터가 문자열인 경우에만 맞춤법 검사 수행\n",
        "        corrected_text = spell_checker.check(text).checked\n",
        "        return corrected_text\n",
        "    else:\n",
        "        return text"
      ],
      "metadata": {
        "id": "0W0vxBzLc27H"
      },
      "execution_count": 213,
      "outputs": []
    },
    {
      "cell_type": "markdown",
      "source": [
        "# 테스트 loop 만들기\n",
        "- 챗봇 함수화"
      ],
      "metadata": {
        "id": "GLiga1pBYKCX"
      }
    },
    {
      "cell_type": "code",
      "source": [
        "# 전체 예측값을 데이터프레임 형식에 담기\n",
        "def random_evaluation(model, dataset, index2word, device, n=10):\n",
        "\n",
        "    n_samples = len(dataset)\n",
        "    indices = list(range(n_samples))\n",
        "    np.random.shuffle(indices)      # Shuffle\n",
        "    sampled_indices = indices[:n]   # Sampling N indices\n",
        "\n",
        "    # 샘플링한 데이터를 기반으로 DataLoader 생성\n",
        "    sampler = SubsetRandomSampler(sampled_indices)\n",
        "    sampled_dataloader = DataLoader(dataset, batch_size=10, sampler=sampler)\n",
        "\n",
        "    model.eval()\n",
        "    with torch.no_grad():\n",
        "        for x, y in sampled_dataloader:\n",
        "            x, y = x.to(device), y.to(device)\n",
        "            output = model(x, y, teacher_forcing_ratio=0)\n",
        "            # output: (number of samples, sequence_length, num_vocabs)\n",
        "\n",
        "            preds = output.detach().cpu().numpy()\n",
        "            x = x.detach().cpu().numpy()\n",
        "            y = y.detach().cpu().numpy()\n",
        "\n",
        "            data = {'test_review': [], 'chatbot_reply': []}\n",
        "            for i in range(n_samples):\n",
        "                x_result = sequence_to_sentence(x[i], index2word)\n",
        "                y_result = sequence_to_sentence(y[i], index2word)\n",
        "                pred_result = sequence_to_sentence(preds[i].argmax(1), index2word)\n",
        "                pred_result_correct = correct_spell(pred_result)\n",
        "                data['test_review'].append(x_result)\n",
        "                data['chatbot_reply'].append(pred_result_correct)\n",
        "\n",
        "    df = pd.DataFrame(data)\n",
        "    print(df)"
      ],
      "metadata": {
        "id": "_jSoWiaDdgvi"
      },
      "execution_count": 214,
      "outputs": []
    },
    {
      "cell_type": "code",
      "source": [
        "# 10개만 보기\n",
        "def random_evaluation_10(model, dataset, index2word, device, n=10):\n",
        "\n",
        "    n_samples = len(dataset)\n",
        "    indices = list(range(n_samples))\n",
        "    np.random.shuffle(indices)      # Shuffle\n",
        "    sampled_indices = indices[:n]   # Sampling N indices\n",
        "\n",
        "    # 샘플링한 데이터를 기반으로 DataLoader 생성\n",
        "    sampler = SubsetRandomSampler(sampled_indices)\n",
        "    sampled_dataloader = DataLoader(dataset, batch_size=10, sampler=sampler)\n",
        "\n",
        "    model.eval()\n",
        "    with torch.no_grad():\n",
        "        for x, y in sampled_dataloader:\n",
        "            x, y = x.to(device), y.to(device)\n",
        "            output = model(x, y, teacher_forcing_ratio=0)\n",
        "            # output: (number of samples, sequence_length, num_vocabs)\n",
        "\n",
        "            preds = output.detach().cpu().numpy()\n",
        "            x = x.detach().cpu().numpy()\n",
        "            y = y.detach().cpu().numpy()\n",
        "\n",
        "            for i in range(n):\n",
        "                print(f'질문   : {sequence_to_sentence(x[i], index2word)}')\n",
        "                print(f'답변   : {sequence_to_sentence(y[i], index2word)}')\n",
        "                print(f'예측답변: {correct_spell(sequence_to_sentence(preds[i].argmax(1), index2word))}') # 맞춤법 검사까지 반영\n",
        "                print('==='*10)"
      ],
      "metadata": {
        "id": "AvWzcUC5YCH-"
      },
      "execution_count": 215,
      "outputs": []
    },
    {
      "cell_type": "markdown",
      "source": [
        "# 학습하기"
      ],
      "metadata": {
        "id": "5GY8zZX4clM0"
      }
    },
    {
      "cell_type": "code",
      "source": [
        "# # yogiyo 전체데이터 모델링\n",
        "# NUM_EPOCHS = 20\n",
        "# STATEDICT_PATH = '/content/drive/MyDrive/project_final/data/models/yogiyo_clean.pt'\n",
        "\n",
        "# best_loss = np.inf\n",
        "\n",
        "# for epoch in tqdm(range(NUM_EPOCHS), total=NUM_EPOCHS):\n",
        "#     loss = train(model, train_loader, optimizer, loss_fn, device)\n",
        "\n",
        "#     val_loss = evaluate(model, test_loader, loss_fn, device)\n",
        "\n",
        "#     if val_loss < best_loss:\n",
        "#         best_loss = val_loss\n",
        "#         torch.save(model.state_dict(), STATEDICT_PATH)\n",
        "\n",
        "#     if epoch % 5 == 0:\n",
        "#         print(f'epoch: {epoch+1}, loss: {loss:.4f}, val_loss: {val_loss:.4f}')\n",
        "\n",
        "#     # Early Stop\n",
        "#     es(loss)\n",
        "#     if es.early_stop:\n",
        "#         break\n",
        "\n",
        "#     # Scheduler\n",
        "#     scheduler.step(val_loss)\n",
        "\n",
        "# model.load_state_dict(torch.load(STATEDICT_PATH))\n",
        "# torch.save(model.state_dict(), f'/content/drive/MyDrive/project_final/data/models/yogiyo_clean{best_loss:.4f}.pt')"
      ],
      "metadata": {
        "colab": {
          "base_uri": "https://localhost:8080/",
          "height": 545,
          "referenced_widgets": [
            "449a653590a74cb4b64b7bd4c10381db",
            "2cef376a3650466194ad3a756dda6b5a",
            "97450df3771149e48374049ff3e0acee",
            "9e6d387f38f14301a1286657da7b0851",
            "2c1faf848f184e4f827f57ab301a5379",
            "d09b5caeb9964fda8c014919d0d88a31",
            "2102b7051c9942dfa25c0d71ea7e29f6",
            "e5040b501bb44b1285d9fe3edad09973",
            "6c984896889a4e0186ffc6834170818b",
            "c2d4680aef6141198c4bff6c09c325f3",
            "5567c7c792ca48cf9ee3efbcae9cdf74"
          ]
        },
        "id": "5Cq2N7f-YCFe",
        "outputId": "f34982e5-bd9e-436f-da7d-e566de866499"
      },
      "execution_count": null,
      "outputs": [
        {
          "output_type": "display_data",
          "data": {
            "text/plain": [
              "  0%|          | 0/20 [00:00<?, ?it/s]"
            ],
            "application/vnd.jupyter.widget-view+json": {
              "version_major": 2,
              "version_minor": 0,
              "model_id": "449a653590a74cb4b64b7bd4c10381db"
            }
          },
          "metadata": {}
        },
        {
          "output_type": "stream",
          "name": "stdout",
          "text": [
            "epoch: 1, loss: 80.9891, val_loss: 65.0345\n",
            "[EarlyStopping] (Update) Best Score: 80.98909\n",
            "[EarlyStopping] (Update) Best Score: 58.38377\n",
            "[EarlyStopping] (Update) Best Score: 51.98271\n",
            "[EarlyStopping] (Update) Best Score: 49.01400\n",
            "[EarlyStopping] (Update) Best Score: 45.88895\n",
            "epoch: 6, loss: 44.9918, val_loss: 51.0277\n",
            "[EarlyStopping] (Update) Best Score: 44.99184\n",
            "[EarlyStopping] (Update) Best Score: 42.37393\n",
            "[EarlyStopping] (Update) Best Score: 41.04085\n",
            "[EarlyStopping] (Update) Best Score: 39.98164\n",
            "[EarlyStopping] (Update) Best Score: 38.58978\n",
            "epoch: 11, loss: 37.4433, val_loss: 50.8560\n",
            "[EarlyStopping] (Update) Best Score: 37.44329\n",
            "Epoch 00011: reducing learning rate of group 0 to 5.0000e-04.\n",
            "[EarlyStopping] (Update) Best Score: 34.26870\n",
            "[EarlyStopping] (Update) Best Score: 33.18209\n",
            "[EarlyStopping] (Update) Best Score: 32.01257\n",
            "[EarlyStopping] (Update) Best Score: 31.02473\n",
            "Epoch 00015: reducing learning rate of group 0 to 2.5000e-04.\n",
            "epoch: 16, loss: 29.4768, val_loss: 50.9621\n",
            "[EarlyStopping] (Update) Best Score: 29.47685\n",
            "[EarlyStopping] (Update) Best Score: 28.31412\n",
            "[EarlyStopping] (Update) Best Score: 28.05860\n",
            "Epoch 00018: reducing learning rate of group 0 to 1.2500e-04.\n",
            "[EarlyStopping] (Update) Best Score: 26.78078\n",
            "[EarlyStopping] (Update) Best Score: 26.62842\n"
          ]
        }
      ]
    },
    {
      "cell_type": "code",
      "source": [
        "# # yogiyo 오버샘플 모델링\n",
        "# NUM_EPOCHS = 20\n",
        "# STATEDICT_OV_PATH = '/content/drive/MyDrive/project_final/data/models/yogiyo_OV_clean.pt'\n",
        "\n",
        "# best_loss = np.inf\n",
        "\n",
        "# for epoch in tqdm(range(NUM_EPOCHS), total=NUM_EPOCHS):\n",
        "#     loss = train(model, train_loader, optimizer, loss_fn, device)\n",
        "\n",
        "#     val_loss = evaluate(model, test_loader, loss_fn, device)\n",
        "\n",
        "#     if val_loss < best_loss:\n",
        "#         best_loss = val_loss\n",
        "#         torch.save(model.state_dict(), STATEDICT_OV_PATH)\n",
        "\n",
        "#     if epoch % 5 == 0:\n",
        "#         print(f'epoch: {epoch+1}, loss: {loss:.4f}, val_loss: {val_loss:.4f}')\n",
        "\n",
        "#     # Early Stop\n",
        "#     es(loss)\n",
        "#     if es.early_stop:\n",
        "#         break\n",
        "\n",
        "#     # Scheduler\n",
        "#     scheduler.step(val_loss)\n",
        "\n",
        "# model.load_state_dict(torch.load(STATEDICT_OV_PATH))\n",
        "# torch.save(model.state_dict(), f'/content/drive/MyDrive/project_final/data/models/yogiyo_OV_clean{best_loss:.4f}.pt')"
      ],
      "metadata": {
        "colab": {
          "base_uri": "https://localhost:8080/",
          "height": 545,
          "referenced_widgets": [
            "d49b16e13fc24cdd9be6900d3ecec29d",
            "5716415570164de499aa751ccef68313",
            "1996156ae9b14263ab61c1da38d5e05a",
            "1be142cca1564ae0ba42fdb13f3e6cdd",
            "643b20962fc04765822459d927126e8b",
            "c23941e8c5b94d1a89585ccbed3df734",
            "6e1626fe4e1040d2b9da798028042de7",
            "019d534748164f109888b63058e0b914",
            "c26a9c1f6943465198ee5318ee55f79b",
            "b17cfa69ad7d414d8f8d9f48a2127ff3",
            "d69774dfb602414bbcbe9d913039e3c4"
          ]
        },
        "id": "SjLCqAorbjv3",
        "outputId": "b9ce18ee-54be-4fdc-a9e7-916f5f71a2e8"
      },
      "execution_count": 70,
      "outputs": [
        {
          "output_type": "display_data",
          "data": {
            "text/plain": [
              "  0%|          | 0/20 [00:00<?, ?it/s]"
            ],
            "application/vnd.jupyter.widget-view+json": {
              "version_major": 2,
              "version_minor": 0,
              "model_id": "d49b16e13fc24cdd9be6900d3ecec29d"
            }
          },
          "metadata": {}
        },
        {
          "output_type": "stream",
          "name": "stdout",
          "text": [
            "epoch: 1, loss: 78.6642, val_loss: 61.6750\n",
            "[EarlyStopping] (Update) Best Score: 78.66416\n",
            "[EarlyStopping] (Update) Best Score: 51.50807\n",
            "[EarlyStopping] (Update) Best Score: 40.07154\n",
            "[EarlyStopping] (Update) Best Score: 34.76319\n",
            "[EarlyStopping] (Update) Best Score: 32.00753\n",
            "epoch: 6, loss: 29.5860, val_loss: 34.2779\n",
            "[EarlyStopping] (Update) Best Score: 29.58597\n",
            "[EarlyStopping] (Update) Best Score: 27.74967\n",
            "[EarlyStopping] (Update) Best Score: 26.32192\n",
            "[EarlyStopping] (Update) Best Score: 25.13389\n",
            "[EarlyStopping] (Update) Best Score: 24.13199\n",
            "epoch: 11, loss: 23.0505, val_loss: 34.0268\n",
            "[EarlyStopping] (Update) Best Score: 23.05049\n",
            "[EarlyStopping] (Update) Best Score: 22.29480\n",
            "Epoch 00012: reducing learning rate of group 0 to 5.0000e-04.\n",
            "[EarlyStopping] (Update) Best Score: 19.78945\n",
            "[EarlyStopping] (Update) Best Score: 18.23096\n",
            "[EarlyStopping] (Update) Best Score: 17.48179\n",
            "Epoch 00015: reducing learning rate of group 0 to 2.5000e-04.\n",
            "epoch: 16, loss: 16.2131, val_loss: 33.7527\n",
            "[EarlyStopping] (Update) Best Score: 16.21306\n",
            "[EarlyStopping] (Update) Best Score: 15.58468\n",
            "[EarlyStopping] (Update) Best Score: 15.01650\n",
            "Epoch 00018: reducing learning rate of group 0 to 1.2500e-04.\n",
            "[EarlyStopping] (Update) Best Score: 14.28423\n",
            "[EarlyStopping] (Update) Best Score: 13.80687\n"
          ]
        }
      ]
    },
    {
      "cell_type": "code",
      "source": [
        "# yogiyo 오버샘플 + 가게명 제거 모델링\n",
        "NUM_EPOCHS = 20\n",
        "STATEDICT_OV_PATH = '/content/drive/MyDrive/project_final/data/models/yogiyo_OV_clean_store_del.pt'\n",
        "\n",
        "best_loss = np.inf\n",
        "\n",
        "for epoch in tqdm(range(NUM_EPOCHS), total=NUM_EPOCHS):\n",
        "    loss = train(model, train_loader, optimizer, loss_fn, device)\n",
        "\n",
        "    val_loss = evaluate(model, test_loader, loss_fn, device)\n",
        "\n",
        "    if val_loss < best_loss:\n",
        "        best_loss = val_loss\n",
        "        torch.save(model.state_dict(), STATEDICT_OV_PATH)\n",
        "\n",
        "    if epoch % 5 == 0:\n",
        "        print(f'epoch: {epoch+1}, loss: {loss:.4f}, val_loss: {val_loss:.4f}')\n",
        "\n",
        "    # Early Stop\n",
        "    es(loss)\n",
        "    if es.early_stop:\n",
        "        break\n",
        "\n",
        "    # Scheduler\n",
        "    scheduler.step(val_loss)\n",
        "\n",
        "model.load_state_dict(torch.load(STATEDICT_OV_PATH))\n",
        "torch.save(model.state_dict(), f'/content/drive/MyDrive/project_final/data/models/yogiyo_OV_clean_store_del{best_loss:.4f}.pt')"
      ],
      "metadata": {
        "colab": {
          "base_uri": "https://localhost:8080/",
          "height": 545,
          "referenced_widgets": [
            "acfa3b55ab404a8fa684b56c98d59377",
            "f1174fb0bc174bf186d9e5af732f65b4",
            "f687a95dc4a44dcda81de246b9389999",
            "19f4835037304bf68dd6e06fd0773fae",
            "f678b8ccfc564909a69f527d6ea179fc",
            "42d17263f84a458ba645a5caabfce937",
            "ef41d17e5ae34884b7f26d69f663b87e",
            "9e53954289ea49c08519d1f1ba376655",
            "b289cb2d2f284f10a85237d4fd38ba27",
            "288165ede46c49188a045fb3ffed1198",
            "0809b20bc75745e8b8a5a0f41928c9b6"
          ]
        },
        "id": "bKe8yBsrSFuT",
        "outputId": "2ca1dbe3-b6ee-4711-c179-0f2005a2224d"
      },
      "execution_count": 211,
      "outputs": [
        {
          "output_type": "display_data",
          "data": {
            "text/plain": [
              "  0%|          | 0/20 [00:00<?, ?it/s]"
            ],
            "application/vnd.jupyter.widget-view+json": {
              "version_major": 2,
              "version_minor": 0,
              "model_id": "acfa3b55ab404a8fa684b56c98d59377"
            }
          },
          "metadata": {}
        },
        {
          "output_type": "stream",
          "name": "stdout",
          "text": [
            "epoch: 1, loss: 69.8786, val_loss: 53.7855\n",
            "[EarlyStopping] (Update) Best Score: 69.87856\n",
            "[EarlyStopping] (Update) Best Score: 45.04293\n",
            "[EarlyStopping] (Update) Best Score: 34.15237\n",
            "[EarlyStopping] (Update) Best Score: 29.57833\n",
            "[EarlyStopping] (Update) Best Score: 26.78561\n",
            "epoch: 6, loss: 24.6759, val_loss: 28.4431\n",
            "[EarlyStopping] (Update) Best Score: 24.67590\n",
            "[EarlyStopping] (Update) Best Score: 23.33105\n",
            "[EarlyStopping] (Update) Best Score: 21.84473\n",
            "[EarlyStopping] (Update) Best Score: 20.71000\n",
            "[EarlyStopping] (Update) Best Score: 19.73331\n",
            "epoch: 11, loss: 18.9043, val_loss: 28.1292\n",
            "[EarlyStopping] (Update) Best Score: 18.90425\n",
            "[EarlyStopping] (Update) Best Score: 18.19270\n",
            "[EarlyStopping] (Update) Best Score: 17.33446\n",
            "Epoch 00013: reducing learning rate of group 0 to 5.0000e-04.\n",
            "[EarlyStopping] (Update) Best Score: 15.30292\n",
            "[EarlyStopping] (Update) Best Score: 14.44640\n",
            "epoch: 16, loss: 13.8083, val_loss: 28.5909\n",
            "[EarlyStopping] (Update) Best Score: 13.80831\n",
            "Epoch 00016: reducing learning rate of group 0 to 2.5000e-04.\n",
            "[EarlyStopping] (Update) Best Score: 12.81905\n",
            "[EarlyStopping] (Update) Best Score: 12.32961\n",
            "[EarlyStopping] (Update) Best Score: 11.96952\n",
            "Epoch 00019: reducing learning rate of group 0 to 1.2500e-04.\n",
            "[EarlyStopping] (Update) Best Score: 11.38066\n"
          ]
        }
      ]
    },
    {
      "cell_type": "markdown",
      "source": [
        "# 결과 확인하기"
      ],
      "metadata": {
        "id": "z6dqkRwEa8qL"
      }
    },
    {
      "cell_type": "code",
      "source": [
        "# # yogiyo 전체데이터 모델링\n",
        "# model.load_state_dict(torch.load(STATEDICT_PATH))\n",
        "# random_evaluation_10(model, test_dataset, dataset.wordvocab.index2word, device)"
      ],
      "metadata": {
        "colab": {
          "base_uri": "https://localhost:8080/"
        },
        "id": "mQcpuYReYCDE",
        "outputId": "ad636915-c9bd-4eb0-c0cc-8efdd3405570"
      },
      "execution_count": null,
      "outputs": [
        {
          "output_type": "stream",
          "name": "stdout",
          "text": [
            "질문   : 진한 미역국 한 그릇 맛있게 먹었습니다\n",
            "답변   : 안녕하세요 맛 나게 드셨다니 정말 감사합니다 뚝배기 한 그릇 씩 조리 하고 있어서 재료 양 맛 의 풍 미 식감 등등 을 항상 일정하게 조리 할수\n",
            "예측답변: 감사합니다 좋은 휴일 되십시요\n",
            "==============================\n",
            "질문   : 맛 나게 잘먹엇슴돠 감사함 돠\n",
            "답변   : 저희 목살 맛있게 잘 드셨다니 기쁘고 힘 이 납니다 소중한 리뷰 와 저희 에게 큰 힘 이 되는 좋은 평가 도 남겨 주셔서 정말 감사 드립니다\n",
            "예측답변: 고객 님 주문 해 주셔서 감사합니다 맛있게 드시고 예쁜 리뷰 남겨주셔서 감사해요 피스타치오 가 갈리는 품목 이 프루타 과일 과 디저트 로 비타민 충전\n",
            "==============================\n",
            "질문   : 포장 이 너무 예뻐요 진짜 가서 먹는듯 한 플레이 팅 파스타 에 마늘 이 듬뿍 들어있더라고요 역시 마늘 의 민족 미트볼 이랑 가라 아케 도 맛있었어요\n",
            "답변   : 명작 파스타 입니다 맛있게 드셨다니 저희 도 기분 이 좋습니다 정성스런 리뷰 도 너무 감사 드립니다 앞 으로도 더 맛있는 파스타 제공 드릴 수 있도록 직원\n",
            "예측답변: 감사합니다 좋은 밤 되세요\n",
            "==============================\n",
            "질문   : 어렸을 때 부터 시켜 먹던 오래된 맛집 이 예요 맛있고 배달 도 빠르고 좋습니다\n",
            "답변   : 안녕하세요 좋은 기억 의 만다린 이네요 감사 드립니다 계속 섬심 성의 를 다해 모시겠습니다 건강하세요\n",
            "예측답변: 안녕하세요 마라하 오죽 전 점 입니다 주문 해주시고 잘 드셔주셔서 정말 감사해요 덕분 에 행복지수 마구 상승 하네요 저희 음식 드시면서 힘 많이 내셨음 좋겠습니다 즐거운\n",
            "==============================\n",
            "질문   : 분식점 으로 충실한 그 맛 식후감\n",
            "답변   : 짧지만 강렬한 리뷰 감사 드립니다 깨 돌이 김밥 의 떡볶이 소스 는 캡사이신 이 들어가지 않습니다 고추장 과 청양고추 가루 로 매운 맛 을 내서 추억\n",
            "예측답변: 감사합니다 좋은 밤 되세요\n",
            "==============================\n",
            "질문   : 국밥 집 중 에 젤 맛있어요 굿\n",
            "답변   : 고객 님 소중한 고객 니 이 이임 국밥 집 중 에 젤 맛있다니 지금 까지 본 리뷰 중 에 제일 뿌듯하고 힘 이 나 는 말이네요\n",
            "예측답변: 감사합니다 좋은 하루 되세요\n",
            "==============================\n",
            "질문   : 너무 맛있게 먹었고 배달 도 빨라요 다음 에 또 시킬게요 식후감\n",
            "답변   : 안녕하세요 다음 에도 맛있는 샐러드 전달 드리겠습니다\n",
            "예측답변: 감사합니다 좋은 밤 되세요\n",
            "==============================\n",
            "질문   : 배달 도 빠르고 맛있게 잘 먹었습니다 볶음밥 에 새우 가 많아서 좋아요\n",
            "답변   : 안녕하세요 마라하 오죽 전 점 입니다 주문 해주시고 잘 드셔주셔서 정말 감사해요 덕분 에 행복지수 마구 상승 하네요 저희 음식 드시면서 힘 많이 내셨음 좋겠습니다 즐거운\n",
            "예측답변: 소중한 리뷰 감사합니다 저희 밈피자 는 저 온 숙성 유기농 5 곡 도우 귀리 흑 미 현미 보리 밀 자연 산 치즈 와 신선한 재료 를\n",
            "==============================\n",
            "질문   : 스파게티 서비스 감사합니다 피자 도 다 맛있네요\n",
            "답변   : 안녕하세요 프 라텔 로 입니다 저희 프 라텔 로 를 이용 해주셔서 정말 감사 드립니다 앞 으로도 맛있는 한 끼 책임지겠습니다 자주 이용 부탁드려요\n",
            "예측답변: 감사합니다 좋은 밤 되세요\n",
            "==============================\n",
            "질문   : 배달 도 빠르고 너무 맛있게 먹었습니다\n",
            "답변   : 저희 모모 타코 청주 점 을 찾아주셔서 너무 감사 드려요 더 발전 하는 모모 가 되겠습니다 감사합니다 타코야끼 생각나실 때 마다 저희 모모 타코 잊지말고 찾아주셔요\n",
            "예측답변: 감사합니다 좋은 밤 되세요\n",
            "==============================\n"
          ]
        }
      ]
    },
    {
      "cell_type": "code",
      "source": [
        "# # yogiyo 오버샘플 모델링(18000개 데이터)\n",
        "# model.load_state_dict(torch.load(STATEDICT_OV_PATH))\n",
        "# random_evaluation_10(model, test_dataset, dataset.wordvocab.index2word, device)"
      ],
      "metadata": {
        "colab": {
          "base_uri": "https://localhost:8080/"
        },
        "id": "JX8mOEDcl6dj",
        "outputId": "415a16d7-6fe1-43f0-8110-f4bdf4a02a7b"
      },
      "execution_count": null,
      "outputs": [
        {
          "output_type": "stream",
          "name": "stdout",
          "text": [
            "질문   : 이 걸 뭐라고 해야 할지 아직도 안 왔네요 배달 예 정시 간 이 30분 인데 65분 지나도 안 옴\n",
            "답변   : 배송 이 늦어진 부분 정말 죄송합니다 조리 는 빨리 되나 저희 가 이용 하고 있는 배달 대행 업체 의 문제 로 피크타임 배송 이 늦는 경우\n",
            "예측답변: 배송 이 늦어진 부분 정말 죄송합니다 조리 는 빨리 되나 저희 가 이용 하고 있는 배달 대행 업체 의 문제 로 피크타임 배송 이 늦는 경우\n",
            "==============================\n",
            "질문   : 음식 의 양은 많지만 맛 이 있지는 않네요 다 못 먹고 남겼습니다 사진 에 있는게 다 남은 음식 이에요 특히 절 인 양파 는 무슨 맛\n",
            "답변   : 안녕하세요 고객 님 정말 정말 죄송합니다 부족한 부분 으로 실망 시켜 드린 점 사과 드리며 항상 저희 는 리뷰 덕분 에 더욱 책임감 을 갖게 되는데요\n",
            "예측답변: 안녕하세요 고객 님 정말 정말 죄송합니다 부족한 부분 으로 실망 시켜 드린 점 사과 드리며 항상 저희 는 리뷰 덕분 에 더욱 책임감 을 갖게 되는데요\n",
            "==============================\n",
            "질문   : 이렇게 왔네요 기분 나빠서 버렸어요\n",
            "답변   : 왕 빈자 삼파전 입니다 고객 님 믿고 주문 해주셨는데 불편 을 드려서 죄송합니다 항상 기본 적 으로 제일 신경 쓰고 있는 부분 인데 도 불구 하고\n",
            "예측답변: 왕 빈자 삼파전 입니다 고객 님 믿고 주문 해주셨는데 불편 을 드려서 죄송합니다 항상 기본 적 으로 제일 신경 쓰고 있는 부분 인데 도 불구 하고\n",
            "==============================\n",
            "질문   : 오 돌뼈 순 한 맛 이라 전혀 맵 지 않았구요 계란찜 추가 했는데 맛있게 잘 먹었어요 배달 빨리 해주셨고 친절하셨습니다\n",
            "답변   : 소중한 리뷰 감사합니다 순 한 맛 부탁 하셔서 순 한 맛 해드려는데 더 노력 하겠 습니다\n",
            "예측답변: 양 이 맛 나게 에 맛있게 드셨다니 다행 새해 복 많이 애용 해주세요\n",
            "==============================\n",
            "질문   : 맛 은 평범합니다 영수증 에 주소 까지나 와있는데 전화하셔서 제대로 안 나와있다고 하셔서 사과 하고 음식 받았습니다 기분 나쁜 식사 만 아니면 더 좋을 뻔했네요\n",
            "답변   : 기분 나쁘셨다니 죄송합니다 고객 님 이 뭔가 착오 가 있으셨나 봅니다 제 가 오늘 대책 을 세워야 겠네요 다시는 이런 일이 없도록 잘 강구 하겠습니다 즐거운\n",
            "예측답변: 기분 나쁘셨다니 죄송합니다 고객 님 이 뭔가 착오 가 있으셨나 봅니다 제 가 오늘 대책 을 세워야 겠네요 다시는 이런 일이 없도록 잘 강구 하겠습니다 즐거운\n",
            "==============================\n",
            "질문   : 자주 닭발 오 돌뼈 를 맛있어서 주문 해서 먹는데요 요 번 에는 국물 닭발 을 시켰는데 닭발 과 똑같은 중간 맛 으로 시켰는데 먹을수가 없게 너무\n",
            "답변   : 바로 전화 주시지요 너무 죄송 합니다 다음 에 기회 가 된다면 꼭 요청 에 남겨주세요 서비스 보내 드릴겠습니다 다시하 번 사과 드립니다\n",
            "예측답변: 바로 전화 주시지요 너무 죄송 합니다 다음 에 기회 가 된다면 꼭 요청 에 남겨주세요 서비스 보내 드릴겠습니다 다시하 번 사과 드립니다\n",
            "==============================\n",
            "질문   : 페퍼로니 피자 를 주문 했습니다 기름기 가득하고 짭짤한 피자 를 기대했지만 1 너무 맵다 과 하게 맵다 2 단맛 이 너무 도드라진다 3 페퍼로니 보다는 소시지\n",
            "답변   : 소중한 리뷰 정말 감사 드립니다 불만 이 있으신 점 은 정말 죄송합니다 저희 피자 가 맥주 안주 에 맞게 짜고 맵 게 나오는데 부담 스럽게 느껴지실수도\n",
            "예측답변: 소중한 리뷰 정말 감사 드립니다 불만 이 있으신 점 은 정말 죄송합니다 저희 피자 가 맥주 안주 에 맞게 짜고 맵 게 나오는데 부담 스럽게 느껴지실수도\n",
            "==============================\n",
            "질문   : 맛없어요 면 을 씹으면 씁쓸한 맛 과 안 익은 밀가루 면 멱 는 것 처럼 텁텁함 이 남아 요 배고파서 억지로 먹으려고 해도 다 남겼네요\n",
            "답변   : 아이고 우리 고객 님 저희 가 맛있게 드렸어야 했는데 죄송합니다 조리 중 에 실수 였던 것 같은데요 내일 즉시 매장 에서 제 가 직접 재교육 을\n",
            "예측답변: 아이고 우리 고객 님 저희 가 맛있게 드렸어야 했는데 죄송합니다 조리 중 에 실수 였던 것 같은데요 내일 즉시 매장 에서 제 가 직접 재교육 을\n",
            "==============================\n",
            "질문   : 여기 진짜 맛있어서 또 시켰 습 니당 근데 이번 은 저번 과 달리 등심 이 덜 익은것 같아서 전화 드리니 다 익은게 맞다 하셔서 믿고 남은것도\n",
            "답변   : 소중한 리뷰 감사합니다 음식 은 맛있게 드셨으나 배탈 이 나셨다니 사진 상 으로는 익은 것 으로 보이 나 그래도 너무 속상하네요 매일 신선한 고기 를 손질\n",
            "예측답변: 소중한 리뷰 감사합니다 음식 은 맛있게 드셨으나 배탈 이 나셨다니 사진 상 으로는 익은 것 으로 보이 나 그래도 너무 속상하네요 매일 신선한 고기 를 손질\n",
            "==============================\n",
            "질문   : 배달 이 너무 늦게와 서 배고파 죽는줄 겨우 와 서 먹었더니 양도 적음 맛 은 그냥 그랬음\n",
            "답변   : 만족한 식사 시간 이 되지 못 해서 죄송합니다 최대한 빨리 해서 갔는데도 여기 서 옥 산이 차로 20분 이 넘게 걸리네요 담 에는 더 빨리 더\n",
            "예측답변: 만족한 식사 시간 이 되지 못 해서 죄송합니다 최대한 빨리 해서 갔는데도 여기 서 옥 산이 차로 20분 이 넘게 걸리네요 담 에는 더 빨리 더\n",
            "==============================\n"
          ]
        }
      ]
    },
    {
      "cell_type": "code",
      "source": [
        "# # yogiyo 오버샘플 모델링(중복 제거, 2만개 데이터)\n",
        "# model.load_state_dict(torch.load(STATEDICT_OV_PATH))\n",
        "# random_evaluation_10(model, test_dataset, dataset.wordvocab.index2word, device)"
      ],
      "metadata": {
        "colab": {
          "base_uri": "https://localhost:8080/"
        },
        "id": "s_vzhJfS7rx0",
        "outputId": "fee7c29b-1f90-4e4c-84e3-ea552ac5db1f"
      },
      "execution_count": 71,
      "outputs": [
        {
          "output_type": "stream",
          "name": "stdout",
          "text": [
            "질문   : 먹어 보고 부터 여기 가게 완전 반해서 여기 서 만 마라 탕 먹어요 두 명 이 마라 탕 취향 이 좀 달라 서 늘 둘다 맞는 가게 찾기 가 힘들었는데 두\n",
            "답변   : 우아 50 번 저희 는 그럼 고객 님 50 번 사랑 한다고 말 하고 싶네요 너무 너무 감사합니다 어깨 가 으쓱 으쓱 더 열심히 노력 하겠습니다\n",
            "예측답변: 안녕하세요 당신 은 지금 치킨 이 당긴다 헬리 오 시티 점 입니다 700 아닌데 는 고객 님 에서 10분 분 분 분 좋으시겠어요 밀려오고 로 이 많아요 보니 트리플 이 조금 이나마\n",
            "==============================\n",
            "질문   : 잘 먹었습니다 지난 리뷰 에 사장 님 이 직접 댓글 도 해주셨네요 좋은 음식 으로 대박 나시기 바랍니다\n",
            "답변   : 조영훈 의 족발 보쌈 을 믿고 주문 해 주셔서 감사합니다 도시락 세트 는 혼자 서 드시 기 엔 넉넉한 양 이 나가 든든하게 드실 수 있는 양 입니다 모든 음식 은\n",
            "예측답변: 안녕하세요 고객 님 별 점 리뷰 진심 으로 감사합니다 부족한 부분 이 있었는데도 이렇게 극찬 과 함께 별 점 만점 까지 주시 고 진심 으로 감사 드립니다 항상 맛있는 음식 과\n",
            "==============================\n",
            "질문   : 그냥 그저 그럼 그냥 그저 그럼\n",
            "답변   : 안녕하세요 고객 님 고객 님 입맛 엔 안 맞으셨군요 불편 사항 요청 사항 있으시면 언제 든지 연락 주시 면 고객 님 입맛 에 맞게 최대한 노력 하겠습니다 감사합니다\n",
            "예측답변: 안녕하세요 고객 님 고객 님 입맛 엔 안 맞으셨군요 불편 사항 요청 사항 있으시면 언제 든지 연락 주시 면 고객 님 입맛 에 맞게 최대한 노력 하겠습니다 감사합니다\n",
            "==============================\n",
            "질문   : 배달 은 50분 예정 이었는데 15분 늦었구요 치즈스틱 은 드시지 마세요\n",
            "답변   : 주문 감사합니다 피자 는 빨리 들렀으나 대행 분 이 너무 늦게 전 해드리는 것 같더라고요 아쉬운 점 보완 해 보도록 할게요 죄송합니다\n",
            "예측답변: 주문 감사합니다 피자 는 빨리 들렀으나 대행 분 이 너무 늦게 전 해드리는 것 같더라고요 아쉬운 점 보완 해 보도록 할게요 죄송합니다\n",
            "==============================\n",
            "질문   : 진짜 맛있어요 또 먹고싶네요 광어 우럭 이랑 한 개 는 뭔가 요 모든 회 가 다 두툼 하고 너무 맛있었어요 항상 맛있고 신선한 회 감사합니다\n",
            "답변   : 리뷰 감사 드립니다 계절 회 는 요즘 이 제철 이어서 살이 바짝 오른 참 숭어 입니다 참 숭어 역시 다른 어종 과 마찬가지 로 최대 치의 큰 사이즈 를 사용 하고\n",
            "예측답변: 안녕하세요 님 소중한 고객 님 이 이임 첫 주문 에 정성 을 인심 아니겠어요 듬뿍 담아 드렸답니다 맛있게 드셨다니 너 어어 어 무 기쁘네요 행복 만족스러운 식사 하셨다면 거 같아 정말 다행\n",
            "==============================\n",
            "질문   : 가성 비 최고 보쌈 도 넘 맛있어요\n",
            "답변   : 오늘 도 맛있게 드셨다니 다행 입니다 높은 별 점 챙겨주셔서 너무 감사 드립니다\n",
            "예측답변: 맛있게 드셔주셔서 감사 드립니다 항상 푸 짐하게 드리기 위해 노력 하고 있는데 만족스러운 식사 하신 것 같아 저 도 너무 뿌듯하고 기분 이 좋네요 항상 변함 없는 맛 으로 고객 님 의\n",
            "==============================\n",
            "질문   : 냉동 실 에 넣어놨다가 먹으면 더 쫀득해 서 맛있어요\n",
            "답변   : 고객 님 별 이 그럼 10 점 인가요 맛있게 드셔 주신 것 만으로도 감사한데 이런 행복감 주셔서 너무 감사합니다 골라 주신 메뉴 로 만족감 을 드리기 위해 좋은 재료 와 맛있는\n",
            "예측답변: 맛있게 드셔주셔서 감사 드립니다 항상 맛있게 드신다고 로 정말 뿌듯하고 기분 이 좋네요 주문 해 주셔서 감사합니다\n",
            "==============================\n",
            "질문   : 사장 님 이번 피자 에 평소 와 다른 재료 가 들어가 있네요 난감합니다\n",
            "답변   : 제 가 지금 확인 해 보니 주문 하신 피자 로 만들어 드린 것 맞아요 하와 이안 치즈 피자 입니다 고객 님 께서 드시던 피자 와 다른 피자 를 주문 하셔서 헷갈린\n",
            "예측답변: 제 가 지금 확인 해 보니 주문 하신 피자 로 만들어 드린 것 맞아요 하와 이안 치즈 피자 입니다 고객 님 께서 드시던 피자 와 다른 피자 를 주문 하셔서 헷갈린\n",
            "==============================\n",
            "질문   : 초밥 은 바싹 말라있고 냉 모 밀면 은 하나 도 안 익어서 오구 처음 이네 요 이런 초밥 집은\n",
            "답변   : 에구 불편 을 드려 죄송합니다 적극 개선 해서 이런 일 없도록 하겠습니다 감사합니다\n",
            "예측답변: 에구 불편 을 드려 죄송합니다 적극 개선 해서 이런 일 없도록 하겠습니다 감사합니다\n",
            "==============================\n",
            "질문   : 매워서 못 먹겠어요 코코 낫 음료 넣었는데도 짜증나내요 전화 도 안 받고\n",
            "답변   : 죄송합니다 점심시간 바쁜 시간대 에 전화 가 와서 받았는데 끊어져서 다시 전화 못 드렸습니다 저희 똠얌꿍 은 약간 매콤 한 정도 인데 매우셨다니 저 도 좀 당황 스럽습니다 다음 에는 요청\n",
            "예측답변: 죄송합니다 점심시간 바쁜 시간대 에 전화 가 와서 받았는데 끊어져서 다시 전화 못 드렸습니다 저희 똠얌꿍 은 약간 매콤 한 정도 인데 매우셨다니 저 도 좀 당황 스럽습니다 다음 에는 요청\n",
            "==============================\n"
          ]
        }
      ]
    },
    {
      "cell_type": "code",
      "source": [
        "# yogiyo 오버샘플 모델링(중복 제거, 가게명 제거, 2만개 데이터)\n",
        "model.load_state_dict(torch.load(STATEDICT_OV_PATH))\n",
        "random_evaluation_10(model, test_dataset, dataset.wordvocab.index2word, device)"
      ],
      "metadata": {
        "colab": {
          "base_uri": "https://localhost:8080/"
        },
        "id": "boeCXuZ0SPCM",
        "outputId": "1799b816-7cc6-46e1-8440-cd6e365e854b"
      },
      "execution_count": 219,
      "outputs": [
        {
          "output_type": "stream",
          "name": "stdout",
          "text": [
            "질문   : 자주 먹지만 항상 맛있네요\n",
            "답변   : 고객 님 안녕하세요 골라 먹는 장닭 치킨 부천대 점 입니다 이번 주문 에 맛있게 드셔 주셔서 정말 감사합니다 맛있게 드셨다는 말씀 은 언제 들어도 기분 이 좋아지고 또 이렇게 믿고 찾아 주시 는 고객 님 들을 실망 시켜 드리지 않도록 더 열심히 해야겠다는 생각 이 들게 하는\n",
            "예측답변: 고객 님 소중한 주문과 리뷰 감사드립니다 드립니다 주문해 주신 대로 만인 감사드려요 다음에 또 주문해 주세요\n",
            "==============================\n",
            "질문   : 딱 원하던 맛 이었어요 양도 푸 짐 하고 잘 먹었습니다\n",
            "답변   : 안녕하세요 만족스러운 식사 가 되신 것 같아 다행 입니다 예쁜 사진 과 힘 이 나 는 행복 의 리뷰 진심 으로 감사합니다 다음 에는 더 신경 써서 배달 해 드리겠습니다 항상 건강 잘 챙기시고 행복한 웃는 날 만 가득하세요\n",
            "예측답변: 이쁜 리뷰 감사합니다 고객 님께서 알촌 을 찾아주셔서 너무 기쁩니다 고객 님의 소중한 시간에 저희 알촌 이 되도록 하겠습니다 좋은 알촌 알촌 충북대 점 많이 많이 많이 주셔서 감사드려요 오늘 도 알촌 을 찾아주셔서 감사합니다 오늘 도 좋은 하루 보내세요\n",
            "==============================\n",
            "질문   : 양 진짜 넉넉하고 맛있네요 고기 도 부드럽구요 리뷰 이벤트 로 주신 쥬스 도 맛있어요\n",
            "답변   : 안녕하세요 고기 는 수비드 하여 더욱 부드럽게 조리 하고 있습니다 맛 과 양 영양 까지 생각 하여 든든한 한 끼 전달 드리겠 습 니 대 감사합니다\n",
            "예측답변: 저희 양 갈비 맛있게 잘 드시고 이렇게 힘나는 소중한 리뷰 와 저희에게 큰 힘 이 되는 좋은 평 가까지 남겨 주셔서 정말 감사드립니다 더워진 날씨에 건강 잘 지키시고 알차고 즐거운 하루 보내세요 감사합니다\n",
            "==============================\n",
            "질문   : 그냥 여기는 믿고 드세요\n",
            "답변   : 저희 청년 치킨 을 이용 해 주셔서 감사 드립니다 맛있는 치킨 과 푸 짐 한 양 신속한 서비스 로 보답 드릴게요 언제나 편히 이용 할 수 있도록 최선 을 다 하는 청년 치킨 이 되겠습니다 서비스 이용 시 서비스 가 불편한 점 이 있으시면 가게 로 전화\n",
            "예측답변: 소중한 리뷰 감사합니다 항상 고객 님 께 최선을 다 하는 뜸 들이다 북서 울 꿈의 숲점입니다 소중한 별 점 5 점 리뷰 감사합니다 맛있게 드셔 주셔서 정말 행복해요 다음에도 만족하실 수 있도록 최선을 다 하겠습니다 감사합니다 뜸 들이다는 북서 울 꿈의\n",
            "==============================\n",
            "질문   : 앗 어제 쓴다는 걸 깜빡 해서 지금 리뷰 남깁니다 부산 여행 와서 회 를 꼭 먹고 싶었는데 최고 의 선택 이었습니다 구성 이 너무 좋아요 회도 여러 종류 고 멍게 문어 여러 반찬 들 그리고 입가심 으로 귤 까지 사장 님 센스 만점 이세 요 다음 에\n",
            "답변   : 저희 윤희 횟집 을 찾아주셔서 감사 드립니다 고객 님 의 아낌없는 리뷰 칭찬 과 별 다섯 개 까지 너무 너무 감동 입니다 앞 으로도 저희 윤희 횟집 은 고객 님 께서 맛있게 드실 수 있게 최선 을 다해 노력 하겠습니다 좋은 하루 보내세요\n",
            "예측답변: 안녕하세요 주문해 주셔서 감사드려요 고객 님 입맛에 딱 맞으셨나 봐요 디카 페인 이 얼큰하게 생각 나시 면 언제 든 연락 주세요 고맙습니다\n",
            "==============================\n",
            "질문   : 배달 은 빠르고 양도 많은데 곱창 이 많이 타서 좀 탄 맛 이 났어요 닭 밝은 맛있게 잘 먹었어요\n",
            "답변   : 불편 을 드려 죄송합니다 대부분 고객 분들 이 바싹 구워 달라 는 요청 사항 이 많아서 탄 맛 이 난 것 같습니다 다음 에 기회 가 된다면 탄 냄새 가 안 나도록 구워 달라 요청 사항 에 적어주시면 감사하겠습니다 소중한 사진 리뷰 감사합니다 건강하세요\n",
            "예측답변: 불편을 드려 죄송합니다 대부분 고객분들 이 바싹 구워 달라는 요청 사항 이 많아서 탄 맛 이 난 것 같습니다 다음에 기회 가 된다면 탄 냄새 가 안 나도록 구워 달라 요청 사항에 적어주시면 감사하겠습니다 소중한 사진 리뷰 감사합니다 건강하세요\n",
            "==============================\n",
            "질문   : 짬뽕 은 다른 집 과 별다를게 없었지만 마파두부 가 맛있네요\n",
            "답변   : 안녕하세요 더 맛 나게 찾아 뵙겠습니다 감사 드립니다\n",
            "예측답변: 안녕하세요 더 맛 나게 찾아뵙겠습니다 감사드립니다\n",
            "==============================\n",
            "질문   : 배달 온 봉투 에 영수증 이 안 붙어 있던데 배달 원 이 영수증 을 떼 버린 건지 사장 님 이 안 붙여주 신건 지 모르겠는데 요청 사항 전달 안 하시나요 5분 넘게 문 두드리고 벨 누르고 전화 도 3 통 이나 오고 씻다가 불편했네요 코로나 때메 비대\n",
            "답변   : 안녕하세요 고객 님 먼저 불쾌했을 서비스 에 사과 를 드립니다 정말 죄송합니다 우선 요기 요 주문 건 은 배달 영수증 이 따로 없습니다 요 기요 에 프린터 를 따로 구매 를 해야 해서 주문 건 이 많지 않고 앱 으로 고객 님 들과는 서로 착오 없이 서비스\n",
            "예측답변: 안녕하세요 고객 님 먼저 불쾌했을 서비스에 사과를 드립니다 정말 죄송합니다 우선 요기 요 주문 건 은 배달 영수증 이 따로 없습니다 요 기요에 프린터를 따로 구매를 해야 해서 주문 건 이 많지 않고 앱으로 고객 님 들과는 서로 착오 없이 서비스\n",
            "==============================\n",
            "질문   : 리뷰 보고 코다리 조림 시켰는데 밥 비벼서 먹으니 진짜 맛있네요 감사합니다\n",
            "답변   : 안녕하세요 코다리 조림 양념 은 언제나 정답 인 거 같아요 맛 나게 드셔서 제 가 더 감사 드립니다 언제나 변함 없는 맛 으로 주시 는 큰 사랑 에 보답 드릴게요 많은 응원 주실 거 죠\n",
            "예측답변: 맛있게 드셔주셔서 감사드립니다 항상 푸 진하게 드리기 위해 노력하는데 만족스러운 식사하신 것 같아 너무 다행입니다 앞으로도 변함없는 맛으로 최선을 다 하는 청춘 식당 이 되겠습니다 자주자주 들려주세요 잘 먹어야 청춘이다 o o 청 춘 식 당\n",
            "==============================\n",
            "질문   : 서비스 초밥 은 안 왔네요\n",
            "답변   : 이용 에 불편 을 드려 죄송합니다 마키 의 날치 알 은 앞 으로 더욱 신경 쓰도록 하겠습니다 배달 라이더 분께도 조심 배달 요청 드리겠습니다 서비스 초밥 은 초밥 이 들은 2 팩 안 에 2 피스 가 포함 되어 있습니다 24 피스 서비스 2 p 총 26\n",
            "예측답변: 이용에 불편을 드려 죄송합니다 마키의 날치알 은 앞으로 더욱 신경 쓰도록 하겠습니다 배달 라이더 분께도 조심 배달 요청드리겠습니다 서비스 초밥 은 초밥 이 들은 2 팩 안에 2 피스 가 포함되어 있습니다 24 피스 서비스 2 p 총 26\n",
            "==============================\n"
          ]
        }
      ]
    }
  ]
}