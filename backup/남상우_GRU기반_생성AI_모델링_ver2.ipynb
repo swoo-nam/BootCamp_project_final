{
  "nbformat": 4,
  "nbformat_minor": 0,
  "metadata": {
    "colab": {
      "provenance": [],
      "toc_visible": true,
      "gpuType": "T4",
      "include_colab_link": true
    },
    "kernelspec": {
      "name": "python3",
      "display_name": "Python 3"
    },
    "language_info": {
      "name": "python"
    },
    "accelerator": "GPU",
    "widgets": {
      "application/vnd.jupyter.widget-state+json": {
        "c63a5bc355574912a7e5a8839f5a4ae8": {
          "model_module": "@jupyter-widgets/controls",
          "model_name": "HBoxModel",
          "model_module_version": "1.5.0",
          "state": {
            "_dom_classes": [],
            "_model_module": "@jupyter-widgets/controls",
            "_model_module_version": "1.5.0",
            "_model_name": "HBoxModel",
            "_view_count": null,
            "_view_module": "@jupyter-widgets/controls",
            "_view_module_version": "1.5.0",
            "_view_name": "HBoxView",
            "box_style": "",
            "children": [
              "IPY_MODEL_04a887801ab2423ca158e77242b0f6d6",
              "IPY_MODEL_93acd91c890f4456959e6ec50bd9fa19",
              "IPY_MODEL_2d3e4338f4fc4157a5cf97f4dbbf57d5"
            ],
            "layout": "IPY_MODEL_23b3f01b5aa54be18b1bfed8626b2c9d"
          }
        },
        "04a887801ab2423ca158e77242b0f6d6": {
          "model_module": "@jupyter-widgets/controls",
          "model_name": "HTMLModel",
          "model_module_version": "1.5.0",
          "state": {
            "_dom_classes": [],
            "_model_module": "@jupyter-widgets/controls",
            "_model_module_version": "1.5.0",
            "_model_name": "HTMLModel",
            "_view_count": null,
            "_view_module": "@jupyter-widgets/controls",
            "_view_module_version": "1.5.0",
            "_view_name": "HTMLView",
            "description": "",
            "description_tooltip": null,
            "layout": "IPY_MODEL_c6f238ac7d91483cb11bf2f58df6e354",
            "placeholder": "​",
            "style": "IPY_MODEL_7a9d11abbbd34aa68e27e143b06582f0",
            "value": "100%"
          }
        },
        "93acd91c890f4456959e6ec50bd9fa19": {
          "model_module": "@jupyter-widgets/controls",
          "model_name": "FloatProgressModel",
          "model_module_version": "1.5.0",
          "state": {
            "_dom_classes": [],
            "_model_module": "@jupyter-widgets/controls",
            "_model_module_version": "1.5.0",
            "_model_name": "FloatProgressModel",
            "_view_count": null,
            "_view_module": "@jupyter-widgets/controls",
            "_view_module_version": "1.5.0",
            "_view_name": "ProgressView",
            "bar_style": "success",
            "description": "",
            "description_tooltip": null,
            "layout": "IPY_MODEL_c42afc4a7a4a48e582e446341aeeec16",
            "max": 30,
            "min": 0,
            "orientation": "horizontal",
            "style": "IPY_MODEL_921dd60fe0d74631ae38d1527a329015",
            "value": 30
          }
        },
        "2d3e4338f4fc4157a5cf97f4dbbf57d5": {
          "model_module": "@jupyter-widgets/controls",
          "model_name": "HTMLModel",
          "model_module_version": "1.5.0",
          "state": {
            "_dom_classes": [],
            "_model_module": "@jupyter-widgets/controls",
            "_model_module_version": "1.5.0",
            "_model_name": "HTMLModel",
            "_view_count": null,
            "_view_module": "@jupyter-widgets/controls",
            "_view_module_version": "1.5.0",
            "_view_name": "HTMLView",
            "description": "",
            "description_tooltip": null,
            "layout": "IPY_MODEL_12ac28e5be704f7aab8b1f6447e9db9a",
            "placeholder": "​",
            "style": "IPY_MODEL_6a7effa99c174c1eab9cb84063ee2171",
            "value": " 30/30 [06:40&lt;00:00, 12.92s/it]"
          }
        },
        "23b3f01b5aa54be18b1bfed8626b2c9d": {
          "model_module": "@jupyter-widgets/base",
          "model_name": "LayoutModel",
          "model_module_version": "1.2.0",
          "state": {
            "_model_module": "@jupyter-widgets/base",
            "_model_module_version": "1.2.0",
            "_model_name": "LayoutModel",
            "_view_count": null,
            "_view_module": "@jupyter-widgets/base",
            "_view_module_version": "1.2.0",
            "_view_name": "LayoutView",
            "align_content": null,
            "align_items": null,
            "align_self": null,
            "border": null,
            "bottom": null,
            "display": null,
            "flex": null,
            "flex_flow": null,
            "grid_area": null,
            "grid_auto_columns": null,
            "grid_auto_flow": null,
            "grid_auto_rows": null,
            "grid_column": null,
            "grid_gap": null,
            "grid_row": null,
            "grid_template_areas": null,
            "grid_template_columns": null,
            "grid_template_rows": null,
            "height": null,
            "justify_content": null,
            "justify_items": null,
            "left": null,
            "margin": null,
            "max_height": null,
            "max_width": null,
            "min_height": null,
            "min_width": null,
            "object_fit": null,
            "object_position": null,
            "order": null,
            "overflow": null,
            "overflow_x": null,
            "overflow_y": null,
            "padding": null,
            "right": null,
            "top": null,
            "visibility": null,
            "width": null
          }
        },
        "c6f238ac7d91483cb11bf2f58df6e354": {
          "model_module": "@jupyter-widgets/base",
          "model_name": "LayoutModel",
          "model_module_version": "1.2.0",
          "state": {
            "_model_module": "@jupyter-widgets/base",
            "_model_module_version": "1.2.0",
            "_model_name": "LayoutModel",
            "_view_count": null,
            "_view_module": "@jupyter-widgets/base",
            "_view_module_version": "1.2.0",
            "_view_name": "LayoutView",
            "align_content": null,
            "align_items": null,
            "align_self": null,
            "border": null,
            "bottom": null,
            "display": null,
            "flex": null,
            "flex_flow": null,
            "grid_area": null,
            "grid_auto_columns": null,
            "grid_auto_flow": null,
            "grid_auto_rows": null,
            "grid_column": null,
            "grid_gap": null,
            "grid_row": null,
            "grid_template_areas": null,
            "grid_template_columns": null,
            "grid_template_rows": null,
            "height": null,
            "justify_content": null,
            "justify_items": null,
            "left": null,
            "margin": null,
            "max_height": null,
            "max_width": null,
            "min_height": null,
            "min_width": null,
            "object_fit": null,
            "object_position": null,
            "order": null,
            "overflow": null,
            "overflow_x": null,
            "overflow_y": null,
            "padding": null,
            "right": null,
            "top": null,
            "visibility": null,
            "width": null
          }
        },
        "7a9d11abbbd34aa68e27e143b06582f0": {
          "model_module": "@jupyter-widgets/controls",
          "model_name": "DescriptionStyleModel",
          "model_module_version": "1.5.0",
          "state": {
            "_model_module": "@jupyter-widgets/controls",
            "_model_module_version": "1.5.0",
            "_model_name": "DescriptionStyleModel",
            "_view_count": null,
            "_view_module": "@jupyter-widgets/base",
            "_view_module_version": "1.2.0",
            "_view_name": "StyleView",
            "description_width": ""
          }
        },
        "c42afc4a7a4a48e582e446341aeeec16": {
          "model_module": "@jupyter-widgets/base",
          "model_name": "LayoutModel",
          "model_module_version": "1.2.0",
          "state": {
            "_model_module": "@jupyter-widgets/base",
            "_model_module_version": "1.2.0",
            "_model_name": "LayoutModel",
            "_view_count": null,
            "_view_module": "@jupyter-widgets/base",
            "_view_module_version": "1.2.0",
            "_view_name": "LayoutView",
            "align_content": null,
            "align_items": null,
            "align_self": null,
            "border": null,
            "bottom": null,
            "display": null,
            "flex": null,
            "flex_flow": null,
            "grid_area": null,
            "grid_auto_columns": null,
            "grid_auto_flow": null,
            "grid_auto_rows": null,
            "grid_column": null,
            "grid_gap": null,
            "grid_row": null,
            "grid_template_areas": null,
            "grid_template_columns": null,
            "grid_template_rows": null,
            "height": null,
            "justify_content": null,
            "justify_items": null,
            "left": null,
            "margin": null,
            "max_height": null,
            "max_width": null,
            "min_height": null,
            "min_width": null,
            "object_fit": null,
            "object_position": null,
            "order": null,
            "overflow": null,
            "overflow_x": null,
            "overflow_y": null,
            "padding": null,
            "right": null,
            "top": null,
            "visibility": null,
            "width": null
          }
        },
        "921dd60fe0d74631ae38d1527a329015": {
          "model_module": "@jupyter-widgets/controls",
          "model_name": "ProgressStyleModel",
          "model_module_version": "1.5.0",
          "state": {
            "_model_module": "@jupyter-widgets/controls",
            "_model_module_version": "1.5.0",
            "_model_name": "ProgressStyleModel",
            "_view_count": null,
            "_view_module": "@jupyter-widgets/base",
            "_view_module_version": "1.2.0",
            "_view_name": "StyleView",
            "bar_color": null,
            "description_width": ""
          }
        },
        "12ac28e5be704f7aab8b1f6447e9db9a": {
          "model_module": "@jupyter-widgets/base",
          "model_name": "LayoutModel",
          "model_module_version": "1.2.0",
          "state": {
            "_model_module": "@jupyter-widgets/base",
            "_model_module_version": "1.2.0",
            "_model_name": "LayoutModel",
            "_view_count": null,
            "_view_module": "@jupyter-widgets/base",
            "_view_module_version": "1.2.0",
            "_view_name": "LayoutView",
            "align_content": null,
            "align_items": null,
            "align_self": null,
            "border": null,
            "bottom": null,
            "display": null,
            "flex": null,
            "flex_flow": null,
            "grid_area": null,
            "grid_auto_columns": null,
            "grid_auto_flow": null,
            "grid_auto_rows": null,
            "grid_column": null,
            "grid_gap": null,
            "grid_row": null,
            "grid_template_areas": null,
            "grid_template_columns": null,
            "grid_template_rows": null,
            "height": null,
            "justify_content": null,
            "justify_items": null,
            "left": null,
            "margin": null,
            "max_height": null,
            "max_width": null,
            "min_height": null,
            "min_width": null,
            "object_fit": null,
            "object_position": null,
            "order": null,
            "overflow": null,
            "overflow_x": null,
            "overflow_y": null,
            "padding": null,
            "right": null,
            "top": null,
            "visibility": null,
            "width": null
          }
        },
        "6a7effa99c174c1eab9cb84063ee2171": {
          "model_module": "@jupyter-widgets/controls",
          "model_name": "DescriptionStyleModel",
          "model_module_version": "1.5.0",
          "state": {
            "_model_module": "@jupyter-widgets/controls",
            "_model_module_version": "1.5.0",
            "_model_name": "DescriptionStyleModel",
            "_view_count": null,
            "_view_module": "@jupyter-widgets/base",
            "_view_module_version": "1.2.0",
            "_view_name": "StyleView",
            "description_width": ""
          }
        }
      }
    }
  },
  "cells": [
    {
      "cell_type": "markdown",
      "metadata": {
        "id": "view-in-github",
        "colab_type": "text"
      },
      "source": [
        "<a href=\"https://colab.research.google.com/github/swoo-nam/project_final_team1/blob/main/%EB%82%A8%EC%83%81%EC%9A%B0_GRU%EA%B8%B0%EB%B0%98_%EC%83%9D%EC%84%B1AI_%EB%AA%A8%EB%8D%B8%EB%A7%81_ver2.ipynb\" target=\"_parent\"><img src=\"https://colab.research.google.com/assets/colab-badge.svg\" alt=\"Open In Colab\"/></a>"
      ]
    },
    {
      "cell_type": "code",
      "source": [
        "# !pip install kiwipiepy"
      ],
      "metadata": {
        "id": "zPaUshpXAAkI"
      },
      "execution_count": 1,
      "outputs": []
    },
    {
      "cell_type": "code",
      "source": [
        "!pip install konlpy"
      ],
      "metadata": {
        "id": "Rw6lvFBYgWt2",
        "colab": {
          "base_uri": "https://localhost:8080/"
        },
        "outputId": "8f5e6b34-0eb4-4bb7-929b-f12b18e289c7"
      },
      "execution_count": 1,
      "outputs": [
        {
          "output_type": "stream",
          "name": "stdout",
          "text": [
            "Collecting konlpy\n",
            "  Downloading konlpy-0.6.0-py2.py3-none-any.whl (19.4 MB)\n",
            "\u001b[2K     \u001b[90m━━━━━━━━━━━━━━━━━━━━━━━━━━━━━━━━━━━━━━━━\u001b[0m \u001b[32m19.4/19.4 MB\u001b[0m \u001b[31m43.2 MB/s\u001b[0m eta \u001b[36m0:00:00\u001b[0m\n",
            "\u001b[?25hCollecting JPype1>=0.7.0 (from konlpy)\n",
            "  Downloading JPype1-1.4.1-cp310-cp310-manylinux_2_12_x86_64.manylinux2010_x86_64.whl (465 kB)\n",
            "\u001b[2K     \u001b[90m━━━━━━━━━━━━━━━━━━━━━━━━━━━━━━━━━━━━━━\u001b[0m \u001b[32m465.3/465.3 kB\u001b[0m \u001b[31m43.7 MB/s\u001b[0m eta \u001b[36m0:00:00\u001b[0m\n",
            "\u001b[?25hRequirement already satisfied: lxml>=4.1.0 in /usr/local/lib/python3.10/dist-packages (from konlpy) (4.9.3)\n",
            "Requirement already satisfied: numpy>=1.6 in /usr/local/lib/python3.10/dist-packages (from konlpy) (1.23.5)\n",
            "Requirement already satisfied: packaging in /usr/local/lib/python3.10/dist-packages (from JPype1>=0.7.0->konlpy) (23.1)\n",
            "Installing collected packages: JPype1, konlpy\n",
            "Successfully installed JPype1-1.4.1 konlpy-0.6.0\n"
          ]
        }
      ]
    },
    {
      "cell_type": "code",
      "source": [
        "!pip install transformers"
      ],
      "metadata": {
        "colab": {
          "base_uri": "https://localhost:8080/"
        },
        "id": "EdKy-ts0j1Yt",
        "outputId": "3b81f66e-ca56-4064-f36b-cf002c295d1b"
      },
      "execution_count": 2,
      "outputs": [
        {
          "output_type": "stream",
          "name": "stdout",
          "text": [
            "Collecting transformers\n",
            "  Downloading transformers-4.33.1-py3-none-any.whl (7.6 MB)\n",
            "\u001b[2K     \u001b[90m━━━━━━━━━━━━━━━━━━━━━━━━━━━━━━━━━━━━━━━━\u001b[0m \u001b[32m7.6/7.6 MB\u001b[0m \u001b[31m17.4 MB/s\u001b[0m eta \u001b[36m0:00:00\u001b[0m\n",
            "\u001b[?25hRequirement already satisfied: filelock in /usr/local/lib/python3.10/dist-packages (from transformers) (3.12.2)\n",
            "Collecting huggingface-hub<1.0,>=0.15.1 (from transformers)\n",
            "  Downloading huggingface_hub-0.17.1-py3-none-any.whl (294 kB)\n",
            "\u001b[2K     \u001b[90m━━━━━━━━━━━━━━━━━━━━━━━━━━━━━━━━━━━━━━\u001b[0m \u001b[32m294.8/294.8 kB\u001b[0m \u001b[31m24.8 MB/s\u001b[0m eta \u001b[36m0:00:00\u001b[0m\n",
            "\u001b[?25hRequirement already satisfied: numpy>=1.17 in /usr/local/lib/python3.10/dist-packages (from transformers) (1.23.5)\n",
            "Requirement already satisfied: packaging>=20.0 in /usr/local/lib/python3.10/dist-packages (from transformers) (23.1)\n",
            "Requirement already satisfied: pyyaml>=5.1 in /usr/local/lib/python3.10/dist-packages (from transformers) (6.0.1)\n",
            "Requirement already satisfied: regex!=2019.12.17 in /usr/local/lib/python3.10/dist-packages (from transformers) (2023.6.3)\n",
            "Requirement already satisfied: requests in /usr/local/lib/python3.10/dist-packages (from transformers) (2.31.0)\n",
            "Collecting tokenizers!=0.11.3,<0.14,>=0.11.1 (from transformers)\n",
            "  Downloading tokenizers-0.13.3-cp310-cp310-manylinux_2_17_x86_64.manylinux2014_x86_64.whl (7.8 MB)\n",
            "\u001b[2K     \u001b[90m━━━━━━━━━━━━━━━━━━━━━━━━━━━━━━━━━━━━━━━━\u001b[0m \u001b[32m7.8/7.8 MB\u001b[0m \u001b[31m43.4 MB/s\u001b[0m eta \u001b[36m0:00:00\u001b[0m\n",
            "\u001b[?25hCollecting safetensors>=0.3.1 (from transformers)\n",
            "  Downloading safetensors-0.3.3-cp310-cp310-manylinux_2_17_x86_64.manylinux2014_x86_64.whl (1.3 MB)\n",
            "\u001b[2K     \u001b[90m━━━━━━━━━━━━━━━━━━━━━━━━━━━━━━━━━━━━━━━━\u001b[0m \u001b[32m1.3/1.3 MB\u001b[0m \u001b[31m51.9 MB/s\u001b[0m eta \u001b[36m0:00:00\u001b[0m\n",
            "\u001b[?25hRequirement already satisfied: tqdm>=4.27 in /usr/local/lib/python3.10/dist-packages (from transformers) (4.66.1)\n",
            "Requirement already satisfied: fsspec in /usr/local/lib/python3.10/dist-packages (from huggingface-hub<1.0,>=0.15.1->transformers) (2023.6.0)\n",
            "Requirement already satisfied: typing-extensions>=3.7.4.3 in /usr/local/lib/python3.10/dist-packages (from huggingface-hub<1.0,>=0.15.1->transformers) (4.5.0)\n",
            "Requirement already satisfied: charset-normalizer<4,>=2 in /usr/local/lib/python3.10/dist-packages (from requests->transformers) (3.2.0)\n",
            "Requirement already satisfied: idna<4,>=2.5 in /usr/local/lib/python3.10/dist-packages (from requests->transformers) (3.4)\n",
            "Requirement already satisfied: urllib3<3,>=1.21.1 in /usr/local/lib/python3.10/dist-packages (from requests->transformers) (2.0.4)\n",
            "Requirement already satisfied: certifi>=2017.4.17 in /usr/local/lib/python3.10/dist-packages (from requests->transformers) (2023.7.22)\n",
            "Installing collected packages: tokenizers, safetensors, huggingface-hub, transformers\n",
            "Successfully installed huggingface-hub-0.17.1 safetensors-0.3.3 tokenizers-0.13.3 transformers-4.33.1\n"
          ]
        }
      ]
    },
    {
      "cell_type": "code",
      "execution_count": 3,
      "metadata": {
        "id": "f4ZVXFzhuuTv",
        "colab": {
          "base_uri": "https://localhost:8080/"
        },
        "outputId": "db201f55-2e11-4f77-c77a-906e3aa13934"
      },
      "outputs": [
        {
          "output_type": "stream",
          "name": "stdout",
          "text": [
            "Mounted at /content/drive\n"
          ]
        }
      ],
      "source": [
        "from google.colab import drive\n",
        "drive.mount('/content/drive')"
      ]
    },
    {
      "cell_type": "code",
      "source": [
        "import torch\n",
        "import torch.nn as nn\n",
        "from torch import optim\n",
        "import torch.nn.functional as F\n",
        "from torch.utils.data.dataset import Dataset\n",
        "\n",
        "from sklearn.utils import resample\n",
        "\n",
        "import warnings\n",
        "%config InlineBackend.figure_format = 'retina'\n",
        "warnings.filterwarnings(\"ignore\")\n",
        "%matplotlib inline"
      ],
      "metadata": {
        "id": "QDE8QJtGMEOz"
      },
      "execution_count": 4,
      "outputs": []
    },
    {
      "cell_type": "code",
      "source": [
        "import pandas as pd\n",
        "import numpy as np\n",
        "import re\n",
        "from tqdm.auto import tqdm\n",
        "import random\n",
        "import os\n",
        "\n",
        "def reset_seeds(seed):\n",
        "    random.seed(seed)\n",
        "    os.environ['PYTHONHASHSEED'] = str(seed)\n",
        "    np.random.seed(seed)\n",
        "    torch.manual_seed(seed)\n",
        "    torch.cuda.manual_seed(seed)\n",
        "    torch.backends.cudnn.deterministic = True\n",
        "\n",
        "DATA_PATH = \"/content/drive/MyDrive/project_final/data/\"\n",
        "SEED = 42\n",
        "\n",
        "device = 'cuda' if torch.cuda.is_available() else 'cpu'\n",
        "device"
      ],
      "metadata": {
        "id": "10dsMhpDu1rd",
        "colab": {
          "base_uri": "https://localhost:8080/",
          "height": 35
        },
        "outputId": "072ad79d-92fe-47c4-d433-155a23a32266"
      },
      "execution_count": 5,
      "outputs": [
        {
          "output_type": "execute_result",
          "data": {
            "text/plain": [
              "'cuda'"
            ],
            "application/vnd.google.colaboratory.intrinsic+json": {
              "type": "string"
            }
          },
          "metadata": {},
          "execution_count": 5
        }
      ]
    },
    {
      "cell_type": "markdown",
      "source": [
        "# 데이터 불러오기"
      ],
      "metadata": {
        "id": "VwJecjdYAEVY"
      }
    },
    {
      "cell_type": "markdown",
      "source": [
        "### 전체 데이터셋"
      ],
      "metadata": {
        "id": "KE5MH7ONb_h8"
      }
    },
    {
      "cell_type": "code",
      "source": [
        "pd.read_csv(f\"{DATA_PATH}yogiyo_reviews_0905_clean_remove.csv\").columns[:3]"
      ],
      "metadata": {
        "colab": {
          "base_uri": "https://localhost:8080/"
        },
        "id": "g5S2LqXQd56D",
        "outputId": "4afa925c-6a11-449e-daec-922e42eef244"
      },
      "execution_count": 6,
      "outputs": [
        {
          "output_type": "execute_result",
          "data": {
            "text/plain": [
              "Index(['review', 'reply', 'star'], dtype='object')"
            ]
          },
          "metadata": {},
          "execution_count": 6
        }
      ]
    },
    {
      "cell_type": "code",
      "source": [
        "train = pd.read_csv(f\"{DATA_PATH}yogiyo_reviews_0905_clean_remove.csv\")\n",
        "cols = train.columns[:3] # 사용할 컬럼(review, reply, star)만 가져오기\n",
        "train = train[cols]\n",
        "train.isnull().sum()"
      ],
      "metadata": {
        "colab": {
          "base_uri": "https://localhost:8080/"
        },
        "id": "sBq30FpQ26zx",
        "outputId": "dd8f527c-981e-4c30-8ddb-4ac15fbce5b2"
      },
      "execution_count": 7,
      "outputs": [
        {
          "output_type": "execute_result",
          "data": {
            "text/plain": [
              "review     0\n",
              "reply     25\n",
              "star       0\n",
              "dtype: int64"
            ]
          },
          "metadata": {},
          "execution_count": 7
        }
      ]
    },
    {
      "cell_type": "code",
      "source": [
        "idx_null = train[train['reply'].isnull()].index\n",
        "train = train.drop(idx_null, axis=0)\n",
        "train.isnull().sum()"
      ],
      "metadata": {
        "colab": {
          "base_uri": "https://localhost:8080/"
        },
        "id": "k_ZmEZOd28JL",
        "outputId": "a0e1dd3d-2afc-435c-fba7-826d54c9954c"
      },
      "execution_count": 8,
      "outputs": [
        {
          "output_type": "execute_result",
          "data": {
            "text/plain": [
              "review    0\n",
              "reply     0\n",
              "star      0\n",
              "dtype: int64"
            ]
          },
          "metadata": {},
          "execution_count": 8
        }
      ]
    },
    {
      "cell_type": "code",
      "source": [
        "train['sentiment'].value_counts().sort_index() # 긍부정 분포 확인"
      ],
      "metadata": {
        "id": "lpUaRZnAvWSs",
        "colab": {
          "base_uri": "https://localhost:8080/"
        },
        "outputId": "1698a5be-1ed6-42cc-9859-fb623f11f7e5"
      },
      "execution_count": 9,
      "outputs": [
        {
          "output_type": "execute_result",
          "data": {
            "text/plain": [
              "1      111\n",
              "2       87\n",
              "3      226\n",
              "4      770\n",
              "5    23779\n",
              "Name: star, dtype: int64"
            ]
          },
          "metadata": {},
          "execution_count": 9
        }
      ]
    },
    {
      "cell_type": "code",
      "source": [
        "print(len((train[train['sentiment'] == 0])))\n",
        "len(train[train['sentiment'] == 0])/len(train[train['sentiment'] == 1])"
      ],
      "metadata": {
        "colab": {
          "base_uri": "https://localhost:8080/"
        },
        "id": "OZEN-pCkufu2",
        "outputId": "0da75368-fd92-4fb7-e82b-4b376ad9a4d5"
      },
      "execution_count": 10,
      "outputs": [
        {
          "output_type": "stream",
          "name": "stdout",
          "text": [
            "1194\n"
          ]
        },
        {
          "output_type": "execute_result",
          "data": {
            "text/plain": [
              "0.05021237226123891"
            ]
          },
          "metadata": {},
          "execution_count": 10
        }
      ]
    },
    {
      "cell_type": "markdown",
      "source": [
        "### 오버샘플링(긍정->부정 데이터)"
      ],
      "metadata": {
        "id": "NkIogOoaZxCq"
      }
    },
    {
      "cell_type": "code",
      "source": [
        "train_over = pd.read_csv(f\"{DATA_PATH}train_over_0905.csv\")\n",
        "train_over.isnull().sum()"
      ],
      "metadata": {
        "colab": {
          "base_uri": "https://localhost:8080/"
        },
        "id": "n_DkW5MNqhPo",
        "outputId": "2de73fc0-e011-4f95-dc83-7833957d672f"
      },
      "execution_count": 12,
      "outputs": [
        {
          "output_type": "execute_result",
          "data": {
            "text/plain": [
              "review    0\n",
              "reply     2\n",
              "star      0\n",
              "dtype: int64"
            ]
          },
          "metadata": {},
          "execution_count": 12
        }
      ]
    },
    {
      "cell_type": "code",
      "source": [
        "idx_null_over = train_over[train_over['reply'].isnull()].index\n",
        "train_over = train_over.drop(idx_null_over, axis=0)\n",
        "train_over.isnull().sum()"
      ],
      "metadata": {
        "colab": {
          "base_uri": "https://localhost:8080/"
        },
        "id": "3j1pp7rZ3zPR",
        "outputId": "a290a966-fd05-4716-a048-6307c1794b1b"
      },
      "execution_count": 13,
      "outputs": [
        {
          "output_type": "execute_result",
          "data": {
            "text/plain": [
              "review    0\n",
              "reply     0\n",
              "star      0\n",
              "dtype: int64"
            ]
          },
          "metadata": {},
          "execution_count": 13
        }
      ]
    },
    {
      "cell_type": "code",
      "source": [
        "train = pd.concat([train, train_over], axis=0).reset_index(drop=True)\n",
        "train"
      ],
      "metadata": {
        "colab": {
          "base_uri": "https://localhost:8080/",
          "height": 424
        },
        "id": "Rh29hYubqsnS",
        "outputId": "469257cf-d969-4a8b-d7fe-32eaafcb8fa3"
      },
      "execution_count": 14,
      "outputs": [
        {
          "output_type": "execute_result",
          "data": {
            "text/plain": [
              "                                              review  \\\n",
              "0               저도 모르게 은근 여기 자주 시켜먹고 있었네요 늘 잘먹고 있습니다   \n",
              "1                              김치찌개 된장찌개 잡채 다 잘먹었습니다   \n",
              "2                 처음시켜보는데 맛있고 리뷰서비스도 괜찮네요 다음에도 또시킬듯요   \n",
              "3                            맛있습니다 근데 국물이 안와서 아쉽습니다    \n",
              "4                                          맛있게잘먹었습니다   \n",
              "...                                              ...   \n",
              "26162  맛있어요 양도 많고 푸짐하고 아주 맛있어요 맛도 있고 아주 만족스러운 식사였습니다   \n",
              "26163                                맛있게 잘 먹었습니다 맛있게   \n",
              "26164                               맛있게 잘 먹었어요 맛있게 잘   \n",
              "26165                  괜찮네요 괜찮은 것 같아요 맛도 괜찮고 가격도 괜찮고   \n",
              "26166     진짜 맛있어요 특히 간장 양념이 너무 달지 않고 새콤해서 더 맛있게 느껴져요   \n",
              "\n",
              "                                                   reply  star  \n",
              "0      저희 메뉴 맛있죠 이렇게 빠져 드시는 거에요 그냥 일로서 만드는 게 아니라 진짜 제...     5  \n",
              "1      전부 잘 드셔 주셔서 감사합니다 좋은 시간을 드리고 싶었어요 열심히 만들었다지만 다...     5  \n",
              "2      안녕하세요 저희 매장을 처음 찾아주신 고객님이시네요 처음 방문이라 주문해 주시기 망...     5  \n",
              "3      안녕하세요 저희 측 실수로 인하여 누락이 되었군요 이에 대해서 사과 말씀 드립니다 ...     4  \n",
              "4        헤헤 고객님 감사해요 맛있게 드셨다니 앞으로도 더 열심히 일할게요 좋은 하루 보내세요     5  \n",
              "...                                                  ...   ...  \n",
              "26162             맛있는 식사가 되셨기를 바랍니다 맛있는 식사 이용해 주셔서 감사합니다     4  \n",
              "26163  저희는 배달 대행 업체인데 배달 중에 오류가 난 부분이 있으면 언제든지 연락주시면 ...     4  \n",
              "26164  항상 좋은 음식으로 보답하는 것으로 보답하겠습니다 이용해 주셔서 감사합니다 더불어 ...     4  \n",
              "26165  아무래도 매장에서 드시는 것보다는 조금 미흡할 수 있으나 여러모로 시행해본 결과 직...     4  \n",
              "26166  많은 사랑 주셔서 감사드립니다 감사합니다 말씀 드릴 것이 많은데도 불구하고 부족한 ...     4  \n",
              "\n",
              "[26167 rows x 3 columns]"
            ],
            "text/html": [
              "\n",
              "  <div id=\"df-01a6c109-3ba8-409b-9616-0f411d6ec786\" class=\"colab-df-container\">\n",
              "    <div>\n",
              "<style scoped>\n",
              "    .dataframe tbody tr th:only-of-type {\n",
              "        vertical-align: middle;\n",
              "    }\n",
              "\n",
              "    .dataframe tbody tr th {\n",
              "        vertical-align: top;\n",
              "    }\n",
              "\n",
              "    .dataframe thead th {\n",
              "        text-align: right;\n",
              "    }\n",
              "</style>\n",
              "<table border=\"1\" class=\"dataframe\">\n",
              "  <thead>\n",
              "    <tr style=\"text-align: right;\">\n",
              "      <th></th>\n",
              "      <th>review</th>\n",
              "      <th>reply</th>\n",
              "      <th>star</th>\n",
              "    </tr>\n",
              "  </thead>\n",
              "  <tbody>\n",
              "    <tr>\n",
              "      <th>0</th>\n",
              "      <td>저도 모르게 은근 여기 자주 시켜먹고 있었네요 늘 잘먹고 있습니다</td>\n",
              "      <td>저희 메뉴 맛있죠 이렇게 빠져 드시는 거에요 그냥 일로서 만드는 게 아니라 진짜 제...</td>\n",
              "      <td>5</td>\n",
              "    </tr>\n",
              "    <tr>\n",
              "      <th>1</th>\n",
              "      <td>김치찌개 된장찌개 잡채 다 잘먹었습니다</td>\n",
              "      <td>전부 잘 드셔 주셔서 감사합니다 좋은 시간을 드리고 싶었어요 열심히 만들었다지만 다...</td>\n",
              "      <td>5</td>\n",
              "    </tr>\n",
              "    <tr>\n",
              "      <th>2</th>\n",
              "      <td>처음시켜보는데 맛있고 리뷰서비스도 괜찮네요 다음에도 또시킬듯요</td>\n",
              "      <td>안녕하세요 저희 매장을 처음 찾아주신 고객님이시네요 처음 방문이라 주문해 주시기 망...</td>\n",
              "      <td>5</td>\n",
              "    </tr>\n",
              "    <tr>\n",
              "      <th>3</th>\n",
              "      <td>맛있습니다 근데 국물이 안와서 아쉽습니다</td>\n",
              "      <td>안녕하세요 저희 측 실수로 인하여 누락이 되었군요 이에 대해서 사과 말씀 드립니다 ...</td>\n",
              "      <td>4</td>\n",
              "    </tr>\n",
              "    <tr>\n",
              "      <th>4</th>\n",
              "      <td>맛있게잘먹었습니다</td>\n",
              "      <td>헤헤 고객님 감사해요 맛있게 드셨다니 앞으로도 더 열심히 일할게요 좋은 하루 보내세요</td>\n",
              "      <td>5</td>\n",
              "    </tr>\n",
              "    <tr>\n",
              "      <th>...</th>\n",
              "      <td>...</td>\n",
              "      <td>...</td>\n",
              "      <td>...</td>\n",
              "    </tr>\n",
              "    <tr>\n",
              "      <th>26162</th>\n",
              "      <td>맛있어요 양도 많고 푸짐하고 아주 맛있어요 맛도 있고 아주 만족스러운 식사였습니다</td>\n",
              "      <td>맛있는 식사가 되셨기를 바랍니다 맛있는 식사 이용해 주셔서 감사합니다</td>\n",
              "      <td>4</td>\n",
              "    </tr>\n",
              "    <tr>\n",
              "      <th>26163</th>\n",
              "      <td>맛있게 잘 먹었습니다 맛있게</td>\n",
              "      <td>저희는 배달 대행 업체인데 배달 중에 오류가 난 부분이 있으면 언제든지 연락주시면 ...</td>\n",
              "      <td>4</td>\n",
              "    </tr>\n",
              "    <tr>\n",
              "      <th>26164</th>\n",
              "      <td>맛있게 잘 먹었어요 맛있게 잘</td>\n",
              "      <td>항상 좋은 음식으로 보답하는 것으로 보답하겠습니다 이용해 주셔서 감사합니다 더불어 ...</td>\n",
              "      <td>4</td>\n",
              "    </tr>\n",
              "    <tr>\n",
              "      <th>26165</th>\n",
              "      <td>괜찮네요 괜찮은 것 같아요 맛도 괜찮고 가격도 괜찮고</td>\n",
              "      <td>아무래도 매장에서 드시는 것보다는 조금 미흡할 수 있으나 여러모로 시행해본 결과 직...</td>\n",
              "      <td>4</td>\n",
              "    </tr>\n",
              "    <tr>\n",
              "      <th>26166</th>\n",
              "      <td>진짜 맛있어요 특히 간장 양념이 너무 달지 않고 새콤해서 더 맛있게 느껴져요</td>\n",
              "      <td>많은 사랑 주셔서 감사드립니다 감사합니다 말씀 드릴 것이 많은데도 불구하고 부족한 ...</td>\n",
              "      <td>4</td>\n",
              "    </tr>\n",
              "  </tbody>\n",
              "</table>\n",
              "<p>26167 rows × 3 columns</p>\n",
              "</div>\n",
              "    <div class=\"colab-df-buttons\">\n",
              "\n",
              "  <div class=\"colab-df-container\">\n",
              "    <button class=\"colab-df-convert\" onclick=\"convertToInteractive('df-01a6c109-3ba8-409b-9616-0f411d6ec786')\"\n",
              "            title=\"Convert this dataframe to an interactive table.\"\n",
              "            style=\"display:none;\">\n",
              "\n",
              "  <svg xmlns=\"http://www.w3.org/2000/svg\" height=\"24px\" viewBox=\"0 -960 960 960\">\n",
              "    <path d=\"M120-120v-720h720v720H120Zm60-500h600v-160H180v160Zm220 220h160v-160H400v160Zm0 220h160v-160H400v160ZM180-400h160v-160H180v160Zm440 0h160v-160H620v160ZM180-180h160v-160H180v160Zm440 0h160v-160H620v160Z\"/>\n",
              "  </svg>\n",
              "    </button>\n",
              "\n",
              "  <style>\n",
              "    .colab-df-container {\n",
              "      display:flex;\n",
              "      gap: 12px;\n",
              "    }\n",
              "\n",
              "    .colab-df-convert {\n",
              "      background-color: #E8F0FE;\n",
              "      border: none;\n",
              "      border-radius: 50%;\n",
              "      cursor: pointer;\n",
              "      display: none;\n",
              "      fill: #1967D2;\n",
              "      height: 32px;\n",
              "      padding: 0 0 0 0;\n",
              "      width: 32px;\n",
              "    }\n",
              "\n",
              "    .colab-df-convert:hover {\n",
              "      background-color: #E2EBFA;\n",
              "      box-shadow: 0px 1px 2px rgba(60, 64, 67, 0.3), 0px 1px 3px 1px rgba(60, 64, 67, 0.15);\n",
              "      fill: #174EA6;\n",
              "    }\n",
              "\n",
              "    .colab-df-buttons div {\n",
              "      margin-bottom: 4px;\n",
              "    }\n",
              "\n",
              "    [theme=dark] .colab-df-convert {\n",
              "      background-color: #3B4455;\n",
              "      fill: #D2E3FC;\n",
              "    }\n",
              "\n",
              "    [theme=dark] .colab-df-convert:hover {\n",
              "      background-color: #434B5C;\n",
              "      box-shadow: 0px 1px 3px 1px rgba(0, 0, 0, 0.15);\n",
              "      filter: drop-shadow(0px 1px 2px rgba(0, 0, 0, 0.3));\n",
              "      fill: #FFFFFF;\n",
              "    }\n",
              "  </style>\n",
              "\n",
              "    <script>\n",
              "      const buttonEl =\n",
              "        document.querySelector('#df-01a6c109-3ba8-409b-9616-0f411d6ec786 button.colab-df-convert');\n",
              "      buttonEl.style.display =\n",
              "        google.colab.kernel.accessAllowed ? 'block' : 'none';\n",
              "\n",
              "      async function convertToInteractive(key) {\n",
              "        const element = document.querySelector('#df-01a6c109-3ba8-409b-9616-0f411d6ec786');\n",
              "        const dataTable =\n",
              "          await google.colab.kernel.invokeFunction('convertToInteractive',\n",
              "                                                    [key], {});\n",
              "        if (!dataTable) return;\n",
              "\n",
              "        const docLinkHtml = 'Like what you see? Visit the ' +\n",
              "          '<a target=\"_blank\" href=https://colab.research.google.com/notebooks/data_table.ipynb>data table notebook</a>'\n",
              "          + ' to learn more about interactive tables.';\n",
              "        element.innerHTML = '';\n",
              "        dataTable['output_type'] = 'display_data';\n",
              "        await google.colab.output.renderOutput(dataTable, element);\n",
              "        const docLink = document.createElement('div');\n",
              "        docLink.innerHTML = docLinkHtml;\n",
              "        element.appendChild(docLink);\n",
              "      }\n",
              "    </script>\n",
              "  </div>\n",
              "\n",
              "\n",
              "<div id=\"df-2ae65306-911d-4a53-9e97-778e1aee284c\">\n",
              "  <button class=\"colab-df-quickchart\" onclick=\"quickchart('df-2ae65306-911d-4a53-9e97-778e1aee284c')\"\n",
              "            title=\"Suggest charts.\"\n",
              "            style=\"display:none;\">\n",
              "\n",
              "<svg xmlns=\"http://www.w3.org/2000/svg\" height=\"24px\"viewBox=\"0 0 24 24\"\n",
              "     width=\"24px\">\n",
              "    <g>\n",
              "        <path d=\"M19 3H5c-1.1 0-2 .9-2 2v14c0 1.1.9 2 2 2h14c1.1 0 2-.9 2-2V5c0-1.1-.9-2-2-2zM9 17H7v-7h2v7zm4 0h-2V7h2v10zm4 0h-2v-4h2v4z\"/>\n",
              "    </g>\n",
              "</svg>\n",
              "  </button>\n",
              "\n",
              "<style>\n",
              "  .colab-df-quickchart {\n",
              "      --bg-color: #E8F0FE;\n",
              "      --fill-color: #1967D2;\n",
              "      --hover-bg-color: #E2EBFA;\n",
              "      --hover-fill-color: #174EA6;\n",
              "      --disabled-fill-color: #AAA;\n",
              "      --disabled-bg-color: #DDD;\n",
              "  }\n",
              "\n",
              "  [theme=dark] .colab-df-quickchart {\n",
              "      --bg-color: #3B4455;\n",
              "      --fill-color: #D2E3FC;\n",
              "      --hover-bg-color: #434B5C;\n",
              "      --hover-fill-color: #FFFFFF;\n",
              "      --disabled-bg-color: #3B4455;\n",
              "      --disabled-fill-color: #666;\n",
              "  }\n",
              "\n",
              "  .colab-df-quickchart {\n",
              "    background-color: var(--bg-color);\n",
              "    border: none;\n",
              "    border-radius: 50%;\n",
              "    cursor: pointer;\n",
              "    display: none;\n",
              "    fill: var(--fill-color);\n",
              "    height: 32px;\n",
              "    padding: 0;\n",
              "    width: 32px;\n",
              "  }\n",
              "\n",
              "  .colab-df-quickchart:hover {\n",
              "    background-color: var(--hover-bg-color);\n",
              "    box-shadow: 0 1px 2px rgba(60, 64, 67, 0.3), 0 1px 3px 1px rgba(60, 64, 67, 0.15);\n",
              "    fill: var(--button-hover-fill-color);\n",
              "  }\n",
              "\n",
              "  .colab-df-quickchart-complete:disabled,\n",
              "  .colab-df-quickchart-complete:disabled:hover {\n",
              "    background-color: var(--disabled-bg-color);\n",
              "    fill: var(--disabled-fill-color);\n",
              "    box-shadow: none;\n",
              "  }\n",
              "\n",
              "  .colab-df-spinner {\n",
              "    border: 2px solid var(--fill-color);\n",
              "    border-color: transparent;\n",
              "    border-bottom-color: var(--fill-color);\n",
              "    animation:\n",
              "      spin 1s steps(1) infinite;\n",
              "  }\n",
              "\n",
              "  @keyframes spin {\n",
              "    0% {\n",
              "      border-color: transparent;\n",
              "      border-bottom-color: var(--fill-color);\n",
              "      border-left-color: var(--fill-color);\n",
              "    }\n",
              "    20% {\n",
              "      border-color: transparent;\n",
              "      border-left-color: var(--fill-color);\n",
              "      border-top-color: var(--fill-color);\n",
              "    }\n",
              "    30% {\n",
              "      border-color: transparent;\n",
              "      border-left-color: var(--fill-color);\n",
              "      border-top-color: var(--fill-color);\n",
              "      border-right-color: var(--fill-color);\n",
              "    }\n",
              "    40% {\n",
              "      border-color: transparent;\n",
              "      border-right-color: var(--fill-color);\n",
              "      border-top-color: var(--fill-color);\n",
              "    }\n",
              "    60% {\n",
              "      border-color: transparent;\n",
              "      border-right-color: var(--fill-color);\n",
              "    }\n",
              "    80% {\n",
              "      border-color: transparent;\n",
              "      border-right-color: var(--fill-color);\n",
              "      border-bottom-color: var(--fill-color);\n",
              "    }\n",
              "    90% {\n",
              "      border-color: transparent;\n",
              "      border-bottom-color: var(--fill-color);\n",
              "    }\n",
              "  }\n",
              "</style>\n",
              "\n",
              "  <script>\n",
              "    async function quickchart(key) {\n",
              "      const quickchartButtonEl =\n",
              "        document.querySelector('#' + key + ' button');\n",
              "      quickchartButtonEl.disabled = true;  // To prevent multiple clicks.\n",
              "      quickchartButtonEl.classList.add('colab-df-spinner');\n",
              "      try {\n",
              "        const charts = await google.colab.kernel.invokeFunction(\n",
              "            'suggestCharts', [key], {});\n",
              "      } catch (error) {\n",
              "        console.error('Error during call to suggestCharts:', error);\n",
              "      }\n",
              "      quickchartButtonEl.classList.remove('colab-df-spinner');\n",
              "      quickchartButtonEl.classList.add('colab-df-quickchart-complete');\n",
              "    }\n",
              "    (() => {\n",
              "      let quickchartButtonEl =\n",
              "        document.querySelector('#df-2ae65306-911d-4a53-9e97-778e1aee284c button');\n",
              "      quickchartButtonEl.style.display =\n",
              "        google.colab.kernel.accessAllowed ? 'block' : 'none';\n",
              "    })();\n",
              "  </script>\n",
              "</div>\n",
              "    </div>\n",
              "  </div>\n"
            ]
          },
          "metadata": {},
          "execution_count": 14
        }
      ]
    },
    {
      "cell_type": "markdown",
      "metadata": {
        "id": "0cIjd98eHmgP"
      },
      "source": [
        "### 여기까지 저장하기"
      ]
    },
    {
      "cell_type": "code",
      "execution_count": 15,
      "metadata": {
        "id": "3C3aJFjYHmgP"
      },
      "outputs": [],
      "source": [
        "# train.to_csv(f\"{DATA_PATH}yogiyo_reviews_0905_clean_remove_over.csv\", index=False)"
      ]
    },
    {
      "cell_type": "markdown",
      "source": [
        "# 여기까지 완료된 데이터 불러오기"
      ],
      "metadata": {
        "id": "KeKlm-VGQFPk"
      }
    },
    {
      "cell_type": "code",
      "source": [
        "# train = pd.read_csv(f\"{DATA_PATH}yogiyo_reviews_0905_clean_remove_over.csv\")"
      ],
      "metadata": {
        "colab": {
          "base_uri": "https://localhost:8080/",
          "height": 424
        },
        "id": "PegU9iR4PT1j",
        "outputId": "ec304c67-74c7-4be1-ad9e-7448cff3bb5b"
      },
      "execution_count": 16,
      "outputs": [
        {
          "output_type": "execute_result",
          "data": {
            "text/plain": [
              "                                              review  \\\n",
              "0               저도 모르게 은근 여기 자주 시켜먹고 있었네요 늘 잘먹고 있습니다   \n",
              "1                              김치찌개 된장찌개 잡채 다 잘먹었습니다   \n",
              "2                 처음시켜보는데 맛있고 리뷰서비스도 괜찮네요 다음에도 또시킬듯요   \n",
              "3                            맛있습니다 근데 국물이 안와서 아쉽습니다    \n",
              "4                                          맛있게잘먹었습니다   \n",
              "...                                              ...   \n",
              "26162  맛있어요 양도 많고 푸짐하고 아주 맛있어요 맛도 있고 아주 만족스러운 식사였습니다   \n",
              "26163                                맛있게 잘 먹었습니다 맛있게   \n",
              "26164                               맛있게 잘 먹었어요 맛있게 잘   \n",
              "26165                  괜찮네요 괜찮은 것 같아요 맛도 괜찮고 가격도 괜찮고   \n",
              "26166     진짜 맛있어요 특히 간장 양념이 너무 달지 않고 새콤해서 더 맛있게 느껴져요   \n",
              "\n",
              "                                                   reply  star  \n",
              "0      저희 메뉴 맛있죠 이렇게 빠져 드시는 거에요 그냥 일로서 만드는 게 아니라 진짜 제...     5  \n",
              "1      전부 잘 드셔 주셔서 감사합니다 좋은 시간을 드리고 싶었어요 열심히 만들었다지만 다...     5  \n",
              "2      안녕하세요 저희 매장을 처음 찾아주신 고객님이시네요 처음 방문이라 주문해 주시기 망...     5  \n",
              "3      안녕하세요 저희 측 실수로 인하여 누락이 되었군요 이에 대해서 사과 말씀 드립니다 ...     4  \n",
              "4        헤헤 고객님 감사해요 맛있게 드셨다니 앞으로도 더 열심히 일할게요 좋은 하루 보내세요     5  \n",
              "...                                                  ...   ...  \n",
              "26162             맛있는 식사가 되셨기를 바랍니다 맛있는 식사 이용해 주셔서 감사합니다     4  \n",
              "26163  저희는 배달 대행 업체인데 배달 중에 오류가 난 부분이 있으면 언제든지 연락주시면 ...     4  \n",
              "26164  항상 좋은 음식으로 보답하는 것으로 보답하겠습니다 이용해 주셔서 감사합니다 더불어 ...     4  \n",
              "26165  아무래도 매장에서 드시는 것보다는 조금 미흡할 수 있으나 여러모로 시행해본 결과 직...     4  \n",
              "26166  많은 사랑 주셔서 감사드립니다 감사합니다 말씀 드릴 것이 많은데도 불구하고 부족한 ...     4  \n",
              "\n",
              "[26167 rows x 3 columns]"
            ],
            "text/html": [
              "\n",
              "  <div id=\"df-50f80a99-c2a1-417e-9703-768705b031dd\" class=\"colab-df-container\">\n",
              "    <div>\n",
              "<style scoped>\n",
              "    .dataframe tbody tr th:only-of-type {\n",
              "        vertical-align: middle;\n",
              "    }\n",
              "\n",
              "    .dataframe tbody tr th {\n",
              "        vertical-align: top;\n",
              "    }\n",
              "\n",
              "    .dataframe thead th {\n",
              "        text-align: right;\n",
              "    }\n",
              "</style>\n",
              "<table border=\"1\" class=\"dataframe\">\n",
              "  <thead>\n",
              "    <tr style=\"text-align: right;\">\n",
              "      <th></th>\n",
              "      <th>review</th>\n",
              "      <th>reply</th>\n",
              "      <th>star</th>\n",
              "    </tr>\n",
              "  </thead>\n",
              "  <tbody>\n",
              "    <tr>\n",
              "      <th>0</th>\n",
              "      <td>저도 모르게 은근 여기 자주 시켜먹고 있었네요 늘 잘먹고 있습니다</td>\n",
              "      <td>저희 메뉴 맛있죠 이렇게 빠져 드시는 거에요 그냥 일로서 만드는 게 아니라 진짜 제...</td>\n",
              "      <td>5</td>\n",
              "    </tr>\n",
              "    <tr>\n",
              "      <th>1</th>\n",
              "      <td>김치찌개 된장찌개 잡채 다 잘먹었습니다</td>\n",
              "      <td>전부 잘 드셔 주셔서 감사합니다 좋은 시간을 드리고 싶었어요 열심히 만들었다지만 다...</td>\n",
              "      <td>5</td>\n",
              "    </tr>\n",
              "    <tr>\n",
              "      <th>2</th>\n",
              "      <td>처음시켜보는데 맛있고 리뷰서비스도 괜찮네요 다음에도 또시킬듯요</td>\n",
              "      <td>안녕하세요 저희 매장을 처음 찾아주신 고객님이시네요 처음 방문이라 주문해 주시기 망...</td>\n",
              "      <td>5</td>\n",
              "    </tr>\n",
              "    <tr>\n",
              "      <th>3</th>\n",
              "      <td>맛있습니다 근데 국물이 안와서 아쉽습니다</td>\n",
              "      <td>안녕하세요 저희 측 실수로 인하여 누락이 되었군요 이에 대해서 사과 말씀 드립니다 ...</td>\n",
              "      <td>4</td>\n",
              "    </tr>\n",
              "    <tr>\n",
              "      <th>4</th>\n",
              "      <td>맛있게잘먹었습니다</td>\n",
              "      <td>헤헤 고객님 감사해요 맛있게 드셨다니 앞으로도 더 열심히 일할게요 좋은 하루 보내세요</td>\n",
              "      <td>5</td>\n",
              "    </tr>\n",
              "    <tr>\n",
              "      <th>...</th>\n",
              "      <td>...</td>\n",
              "      <td>...</td>\n",
              "      <td>...</td>\n",
              "    </tr>\n",
              "    <tr>\n",
              "      <th>26162</th>\n",
              "      <td>맛있어요 양도 많고 푸짐하고 아주 맛있어요 맛도 있고 아주 만족스러운 식사였습니다</td>\n",
              "      <td>맛있는 식사가 되셨기를 바랍니다 맛있는 식사 이용해 주셔서 감사합니다</td>\n",
              "      <td>4</td>\n",
              "    </tr>\n",
              "    <tr>\n",
              "      <th>26163</th>\n",
              "      <td>맛있게 잘 먹었습니다 맛있게</td>\n",
              "      <td>저희는 배달 대행 업체인데 배달 중에 오류가 난 부분이 있으면 언제든지 연락주시면 ...</td>\n",
              "      <td>4</td>\n",
              "    </tr>\n",
              "    <tr>\n",
              "      <th>26164</th>\n",
              "      <td>맛있게 잘 먹었어요 맛있게 잘</td>\n",
              "      <td>항상 좋은 음식으로 보답하는 것으로 보답하겠습니다 이용해 주셔서 감사합니다 더불어 ...</td>\n",
              "      <td>4</td>\n",
              "    </tr>\n",
              "    <tr>\n",
              "      <th>26165</th>\n",
              "      <td>괜찮네요 괜찮은 것 같아요 맛도 괜찮고 가격도 괜찮고</td>\n",
              "      <td>아무래도 매장에서 드시는 것보다는 조금 미흡할 수 있으나 여러모로 시행해본 결과 직...</td>\n",
              "      <td>4</td>\n",
              "    </tr>\n",
              "    <tr>\n",
              "      <th>26166</th>\n",
              "      <td>진짜 맛있어요 특히 간장 양념이 너무 달지 않고 새콤해서 더 맛있게 느껴져요</td>\n",
              "      <td>많은 사랑 주셔서 감사드립니다 감사합니다 말씀 드릴 것이 많은데도 불구하고 부족한 ...</td>\n",
              "      <td>4</td>\n",
              "    </tr>\n",
              "  </tbody>\n",
              "</table>\n",
              "<p>26167 rows × 3 columns</p>\n",
              "</div>\n",
              "    <div class=\"colab-df-buttons\">\n",
              "\n",
              "  <div class=\"colab-df-container\">\n",
              "    <button class=\"colab-df-convert\" onclick=\"convertToInteractive('df-50f80a99-c2a1-417e-9703-768705b031dd')\"\n",
              "            title=\"Convert this dataframe to an interactive table.\"\n",
              "            style=\"display:none;\">\n",
              "\n",
              "  <svg xmlns=\"http://www.w3.org/2000/svg\" height=\"24px\" viewBox=\"0 -960 960 960\">\n",
              "    <path d=\"M120-120v-720h720v720H120Zm60-500h600v-160H180v160Zm220 220h160v-160H400v160Zm0 220h160v-160H400v160ZM180-400h160v-160H180v160Zm440 0h160v-160H620v160ZM180-180h160v-160H180v160Zm440 0h160v-160H620v160Z\"/>\n",
              "  </svg>\n",
              "    </button>\n",
              "\n",
              "  <style>\n",
              "    .colab-df-container {\n",
              "      display:flex;\n",
              "      gap: 12px;\n",
              "    }\n",
              "\n",
              "    .colab-df-convert {\n",
              "      background-color: #E8F0FE;\n",
              "      border: none;\n",
              "      border-radius: 50%;\n",
              "      cursor: pointer;\n",
              "      display: none;\n",
              "      fill: #1967D2;\n",
              "      height: 32px;\n",
              "      padding: 0 0 0 0;\n",
              "      width: 32px;\n",
              "    }\n",
              "\n",
              "    .colab-df-convert:hover {\n",
              "      background-color: #E2EBFA;\n",
              "      box-shadow: 0px 1px 2px rgba(60, 64, 67, 0.3), 0px 1px 3px 1px rgba(60, 64, 67, 0.15);\n",
              "      fill: #174EA6;\n",
              "    }\n",
              "\n",
              "    .colab-df-buttons div {\n",
              "      margin-bottom: 4px;\n",
              "    }\n",
              "\n",
              "    [theme=dark] .colab-df-convert {\n",
              "      background-color: #3B4455;\n",
              "      fill: #D2E3FC;\n",
              "    }\n",
              "\n",
              "    [theme=dark] .colab-df-convert:hover {\n",
              "      background-color: #434B5C;\n",
              "      box-shadow: 0px 1px 3px 1px rgba(0, 0, 0, 0.15);\n",
              "      filter: drop-shadow(0px 1px 2px rgba(0, 0, 0, 0.3));\n",
              "      fill: #FFFFFF;\n",
              "    }\n",
              "  </style>\n",
              "\n",
              "    <script>\n",
              "      const buttonEl =\n",
              "        document.querySelector('#df-50f80a99-c2a1-417e-9703-768705b031dd button.colab-df-convert');\n",
              "      buttonEl.style.display =\n",
              "        google.colab.kernel.accessAllowed ? 'block' : 'none';\n",
              "\n",
              "      async function convertToInteractive(key) {\n",
              "        const element = document.querySelector('#df-50f80a99-c2a1-417e-9703-768705b031dd');\n",
              "        const dataTable =\n",
              "          await google.colab.kernel.invokeFunction('convertToInteractive',\n",
              "                                                    [key], {});\n",
              "        if (!dataTable) return;\n",
              "\n",
              "        const docLinkHtml = 'Like what you see? Visit the ' +\n",
              "          '<a target=\"_blank\" href=https://colab.research.google.com/notebooks/data_table.ipynb>data table notebook</a>'\n",
              "          + ' to learn more about interactive tables.';\n",
              "        element.innerHTML = '';\n",
              "        dataTable['output_type'] = 'display_data';\n",
              "        await google.colab.output.renderOutput(dataTable, element);\n",
              "        const docLink = document.createElement('div');\n",
              "        docLink.innerHTML = docLinkHtml;\n",
              "        element.appendChild(docLink);\n",
              "      }\n",
              "    </script>\n",
              "  </div>\n",
              "\n",
              "\n",
              "<div id=\"df-76e2baa9-4afb-4b07-82f1-e8cc1bf47a1e\">\n",
              "  <button class=\"colab-df-quickchart\" onclick=\"quickchart('df-76e2baa9-4afb-4b07-82f1-e8cc1bf47a1e')\"\n",
              "            title=\"Suggest charts.\"\n",
              "            style=\"display:none;\">\n",
              "\n",
              "<svg xmlns=\"http://www.w3.org/2000/svg\" height=\"24px\"viewBox=\"0 0 24 24\"\n",
              "     width=\"24px\">\n",
              "    <g>\n",
              "        <path d=\"M19 3H5c-1.1 0-2 .9-2 2v14c0 1.1.9 2 2 2h14c1.1 0 2-.9 2-2V5c0-1.1-.9-2-2-2zM9 17H7v-7h2v7zm4 0h-2V7h2v10zm4 0h-2v-4h2v4z\"/>\n",
              "    </g>\n",
              "</svg>\n",
              "  </button>\n",
              "\n",
              "<style>\n",
              "  .colab-df-quickchart {\n",
              "      --bg-color: #E8F0FE;\n",
              "      --fill-color: #1967D2;\n",
              "      --hover-bg-color: #E2EBFA;\n",
              "      --hover-fill-color: #174EA6;\n",
              "      --disabled-fill-color: #AAA;\n",
              "      --disabled-bg-color: #DDD;\n",
              "  }\n",
              "\n",
              "  [theme=dark] .colab-df-quickchart {\n",
              "      --bg-color: #3B4455;\n",
              "      --fill-color: #D2E3FC;\n",
              "      --hover-bg-color: #434B5C;\n",
              "      --hover-fill-color: #FFFFFF;\n",
              "      --disabled-bg-color: #3B4455;\n",
              "      --disabled-fill-color: #666;\n",
              "  }\n",
              "\n",
              "  .colab-df-quickchart {\n",
              "    background-color: var(--bg-color);\n",
              "    border: none;\n",
              "    border-radius: 50%;\n",
              "    cursor: pointer;\n",
              "    display: none;\n",
              "    fill: var(--fill-color);\n",
              "    height: 32px;\n",
              "    padding: 0;\n",
              "    width: 32px;\n",
              "  }\n",
              "\n",
              "  .colab-df-quickchart:hover {\n",
              "    background-color: var(--hover-bg-color);\n",
              "    box-shadow: 0 1px 2px rgba(60, 64, 67, 0.3), 0 1px 3px 1px rgba(60, 64, 67, 0.15);\n",
              "    fill: var(--button-hover-fill-color);\n",
              "  }\n",
              "\n",
              "  .colab-df-quickchart-complete:disabled,\n",
              "  .colab-df-quickchart-complete:disabled:hover {\n",
              "    background-color: var(--disabled-bg-color);\n",
              "    fill: var(--disabled-fill-color);\n",
              "    box-shadow: none;\n",
              "  }\n",
              "\n",
              "  .colab-df-spinner {\n",
              "    border: 2px solid var(--fill-color);\n",
              "    border-color: transparent;\n",
              "    border-bottom-color: var(--fill-color);\n",
              "    animation:\n",
              "      spin 1s steps(1) infinite;\n",
              "  }\n",
              "\n",
              "  @keyframes spin {\n",
              "    0% {\n",
              "      border-color: transparent;\n",
              "      border-bottom-color: var(--fill-color);\n",
              "      border-left-color: var(--fill-color);\n",
              "    }\n",
              "    20% {\n",
              "      border-color: transparent;\n",
              "      border-left-color: var(--fill-color);\n",
              "      border-top-color: var(--fill-color);\n",
              "    }\n",
              "    30% {\n",
              "      border-color: transparent;\n",
              "      border-left-color: var(--fill-color);\n",
              "      border-top-color: var(--fill-color);\n",
              "      border-right-color: var(--fill-color);\n",
              "    }\n",
              "    40% {\n",
              "      border-color: transparent;\n",
              "      border-right-color: var(--fill-color);\n",
              "      border-top-color: var(--fill-color);\n",
              "    }\n",
              "    60% {\n",
              "      border-color: transparent;\n",
              "      border-right-color: var(--fill-color);\n",
              "    }\n",
              "    80% {\n",
              "      border-color: transparent;\n",
              "      border-right-color: var(--fill-color);\n",
              "      border-bottom-color: var(--fill-color);\n",
              "    }\n",
              "    90% {\n",
              "      border-color: transparent;\n",
              "      border-bottom-color: var(--fill-color);\n",
              "    }\n",
              "  }\n",
              "</style>\n",
              "\n",
              "  <script>\n",
              "    async function quickchart(key) {\n",
              "      const quickchartButtonEl =\n",
              "        document.querySelector('#' + key + ' button');\n",
              "      quickchartButtonEl.disabled = true;  // To prevent multiple clicks.\n",
              "      quickchartButtonEl.classList.add('colab-df-spinner');\n",
              "      try {\n",
              "        const charts = await google.colab.kernel.invokeFunction(\n",
              "            'suggestCharts', [key], {});\n",
              "      } catch (error) {\n",
              "        console.error('Error during call to suggestCharts:', error);\n",
              "      }\n",
              "      quickchartButtonEl.classList.remove('colab-df-spinner');\n",
              "      quickchartButtonEl.classList.add('colab-df-quickchart-complete');\n",
              "    }\n",
              "    (() => {\n",
              "      let quickchartButtonEl =\n",
              "        document.querySelector('#df-76e2baa9-4afb-4b07-82f1-e8cc1bf47a1e button');\n",
              "      quickchartButtonEl.style.display =\n",
              "        google.colab.kernel.accessAllowed ? 'block' : 'none';\n",
              "    })();\n",
              "  </script>\n",
              "</div>\n",
              "    </div>\n",
              "  </div>\n"
            ]
          },
          "metadata": {},
          "execution_count": 16
        }
      ]
    },
    {
      "cell_type": "code",
      "source": [
        "train['review'] = train['review'].astype(str)\n",
        "train['reply'] = train['reply'].astype(str)\n",
        "train"
      ],
      "metadata": {
        "colab": {
          "base_uri": "https://localhost:8080/",
          "height": 424
        },
        "id": "GrrcuQ_N_dow",
        "outputId": "fb524ea6-4d49-4a7d-c718-58751445d72b"
      },
      "execution_count": 11,
      "outputs": [
        {
          "output_type": "execute_result",
          "data": {
            "text/plain": [
              "                                                  review  \\\n",
              "0                   저도 모르게 은근 여기 자주 시켜먹고 있었네요 늘 잘먹고 있습니다   \n",
              "1                                  김치찌개 된장찌개 잡채 다 잘먹었습니다   \n",
              "2                     처음시켜보는데 맛있고 리뷰서비스도 괜찮네요 다음에도 또시킬듯요   \n",
              "3                                맛있습니다 근데 국물이 안와서 아쉽습니다    \n",
              "4                                              맛있게잘먹었습니다   \n",
              "...                                                  ...   \n",
              "24993                                         먹을만하다고느낍니다   \n",
              "24994  조리를해야하는 불편함이 있긴했지만 매장에서 먹는맛 그대로이고 양도 엄청많네요 4인분...   \n",
              "24995                     오랜만에 놀부부대찌게 맛있었는더 햄 양을 늘리심 좋을듯   \n",
              "24996              예전에 참전한 6 25 에서 먹은 부대찌개 맛이 나네요 맛있읍니다    \n",
              "24997                      언제나 최고입니다 추운날씨엔 더욱 생각이나는맛이에요    \n",
              "\n",
              "                                                   reply  star  \n",
              "0      저희 메뉴 맛있죠 이렇게 빠져 드시는 거에요 그냥 일로서 만드는 게 아니라 진짜 제...     5  \n",
              "1      전부 잘 드셔 주셔서 감사합니다 좋은 시간을 드리고 싶었어요 열심히 만들었다지만 다...     5  \n",
              "2      안녕하세요 저희 매장을 처음 찾아주신 고객님이시네요 처음 방문이라 주문해 주시기 망...     5  \n",
              "3      안녕하세요 저희 측 실수로 인하여 누락이 되었군요 이에 대해서 사과 말씀 드립니다 ...     4  \n",
              "4        헤헤 고객님 감사해요 맛있게 드셨다니 앞으로도 더 열심히 일할게요 좋은 하루 보내세요     5  \n",
              "...                                                  ...   ...  \n",
              "24993  이용해 주셔서 감사합니다 큰 만족을 드리지 못한것 같아 죄송합니다 다만 다행이 큰 ...     4  \n",
              "24994  저희 이용해 주셔서감사드립니다 집에서 조리시에도 매장과 최대한 비슷하게 드실수 있도...     5  \n",
              "24995  이용해 주셔서 감사합니다 맛있게 드셨다니 다행 저희는 정해진 레시피가 있어 최대한 ...     5  \n",
              "24996  저희 맛있게 드셔주셔서 감사합니다 어디서 드시더라도 항상 맛있는 음식을 드실수 있도...     5  \n",
              "24997  언제나 맛있게 드셔주셔서 너무 감사드립니다 항상 한결같은 정성으로 맛있고 푸짐한 음...     5  \n",
              "\n",
              "[24973 rows x 3 columns]"
            ],
            "text/html": [
              "\n",
              "  <div id=\"df-ee176b36-17c7-4d0d-9055-03e1a9fc95f3\" class=\"colab-df-container\">\n",
              "    <div>\n",
              "<style scoped>\n",
              "    .dataframe tbody tr th:only-of-type {\n",
              "        vertical-align: middle;\n",
              "    }\n",
              "\n",
              "    .dataframe tbody tr th {\n",
              "        vertical-align: top;\n",
              "    }\n",
              "\n",
              "    .dataframe thead th {\n",
              "        text-align: right;\n",
              "    }\n",
              "</style>\n",
              "<table border=\"1\" class=\"dataframe\">\n",
              "  <thead>\n",
              "    <tr style=\"text-align: right;\">\n",
              "      <th></th>\n",
              "      <th>review</th>\n",
              "      <th>reply</th>\n",
              "      <th>star</th>\n",
              "    </tr>\n",
              "  </thead>\n",
              "  <tbody>\n",
              "    <tr>\n",
              "      <th>0</th>\n",
              "      <td>저도 모르게 은근 여기 자주 시켜먹고 있었네요 늘 잘먹고 있습니다</td>\n",
              "      <td>저희 메뉴 맛있죠 이렇게 빠져 드시는 거에요 그냥 일로서 만드는 게 아니라 진짜 제...</td>\n",
              "      <td>5</td>\n",
              "    </tr>\n",
              "    <tr>\n",
              "      <th>1</th>\n",
              "      <td>김치찌개 된장찌개 잡채 다 잘먹었습니다</td>\n",
              "      <td>전부 잘 드셔 주셔서 감사합니다 좋은 시간을 드리고 싶었어요 열심히 만들었다지만 다...</td>\n",
              "      <td>5</td>\n",
              "    </tr>\n",
              "    <tr>\n",
              "      <th>2</th>\n",
              "      <td>처음시켜보는데 맛있고 리뷰서비스도 괜찮네요 다음에도 또시킬듯요</td>\n",
              "      <td>안녕하세요 저희 매장을 처음 찾아주신 고객님이시네요 처음 방문이라 주문해 주시기 망...</td>\n",
              "      <td>5</td>\n",
              "    </tr>\n",
              "    <tr>\n",
              "      <th>3</th>\n",
              "      <td>맛있습니다 근데 국물이 안와서 아쉽습니다</td>\n",
              "      <td>안녕하세요 저희 측 실수로 인하여 누락이 되었군요 이에 대해서 사과 말씀 드립니다 ...</td>\n",
              "      <td>4</td>\n",
              "    </tr>\n",
              "    <tr>\n",
              "      <th>4</th>\n",
              "      <td>맛있게잘먹었습니다</td>\n",
              "      <td>헤헤 고객님 감사해요 맛있게 드셨다니 앞으로도 더 열심히 일할게요 좋은 하루 보내세요</td>\n",
              "      <td>5</td>\n",
              "    </tr>\n",
              "    <tr>\n",
              "      <th>...</th>\n",
              "      <td>...</td>\n",
              "      <td>...</td>\n",
              "      <td>...</td>\n",
              "    </tr>\n",
              "    <tr>\n",
              "      <th>24993</th>\n",
              "      <td>먹을만하다고느낍니다</td>\n",
              "      <td>이용해 주셔서 감사합니다 큰 만족을 드리지 못한것 같아 죄송합니다 다만 다행이 큰 ...</td>\n",
              "      <td>4</td>\n",
              "    </tr>\n",
              "    <tr>\n",
              "      <th>24994</th>\n",
              "      <td>조리를해야하는 불편함이 있긴했지만 매장에서 먹는맛 그대로이고 양도 엄청많네요 4인분...</td>\n",
              "      <td>저희 이용해 주셔서감사드립니다 집에서 조리시에도 매장과 최대한 비슷하게 드실수 있도...</td>\n",
              "      <td>5</td>\n",
              "    </tr>\n",
              "    <tr>\n",
              "      <th>24995</th>\n",
              "      <td>오랜만에 놀부부대찌게 맛있었는더 햄 양을 늘리심 좋을듯</td>\n",
              "      <td>이용해 주셔서 감사합니다 맛있게 드셨다니 다행 저희는 정해진 레시피가 있어 최대한 ...</td>\n",
              "      <td>5</td>\n",
              "    </tr>\n",
              "    <tr>\n",
              "      <th>24996</th>\n",
              "      <td>예전에 참전한 6 25 에서 먹은 부대찌개 맛이 나네요 맛있읍니다</td>\n",
              "      <td>저희 맛있게 드셔주셔서 감사합니다 어디서 드시더라도 항상 맛있는 음식을 드실수 있도...</td>\n",
              "      <td>5</td>\n",
              "    </tr>\n",
              "    <tr>\n",
              "      <th>24997</th>\n",
              "      <td>언제나 최고입니다 추운날씨엔 더욱 생각이나는맛이에요</td>\n",
              "      <td>언제나 맛있게 드셔주셔서 너무 감사드립니다 항상 한결같은 정성으로 맛있고 푸짐한 음...</td>\n",
              "      <td>5</td>\n",
              "    </tr>\n",
              "  </tbody>\n",
              "</table>\n",
              "<p>24973 rows × 3 columns</p>\n",
              "</div>\n",
              "    <div class=\"colab-df-buttons\">\n",
              "\n",
              "  <div class=\"colab-df-container\">\n",
              "    <button class=\"colab-df-convert\" onclick=\"convertToInteractive('df-ee176b36-17c7-4d0d-9055-03e1a9fc95f3')\"\n",
              "            title=\"Convert this dataframe to an interactive table.\"\n",
              "            style=\"display:none;\">\n",
              "\n",
              "  <svg xmlns=\"http://www.w3.org/2000/svg\" height=\"24px\" viewBox=\"0 -960 960 960\">\n",
              "    <path d=\"M120-120v-720h720v720H120Zm60-500h600v-160H180v160Zm220 220h160v-160H400v160Zm0 220h160v-160H400v160ZM180-400h160v-160H180v160Zm440 0h160v-160H620v160ZM180-180h160v-160H180v160Zm440 0h160v-160H620v160Z\"/>\n",
              "  </svg>\n",
              "    </button>\n",
              "\n",
              "  <style>\n",
              "    .colab-df-container {\n",
              "      display:flex;\n",
              "      gap: 12px;\n",
              "    }\n",
              "\n",
              "    .colab-df-convert {\n",
              "      background-color: #E8F0FE;\n",
              "      border: none;\n",
              "      border-radius: 50%;\n",
              "      cursor: pointer;\n",
              "      display: none;\n",
              "      fill: #1967D2;\n",
              "      height: 32px;\n",
              "      padding: 0 0 0 0;\n",
              "      width: 32px;\n",
              "    }\n",
              "\n",
              "    .colab-df-convert:hover {\n",
              "      background-color: #E2EBFA;\n",
              "      box-shadow: 0px 1px 2px rgba(60, 64, 67, 0.3), 0px 1px 3px 1px rgba(60, 64, 67, 0.15);\n",
              "      fill: #174EA6;\n",
              "    }\n",
              "\n",
              "    .colab-df-buttons div {\n",
              "      margin-bottom: 4px;\n",
              "    }\n",
              "\n",
              "    [theme=dark] .colab-df-convert {\n",
              "      background-color: #3B4455;\n",
              "      fill: #D2E3FC;\n",
              "    }\n",
              "\n",
              "    [theme=dark] .colab-df-convert:hover {\n",
              "      background-color: #434B5C;\n",
              "      box-shadow: 0px 1px 3px 1px rgba(0, 0, 0, 0.15);\n",
              "      filter: drop-shadow(0px 1px 2px rgba(0, 0, 0, 0.3));\n",
              "      fill: #FFFFFF;\n",
              "    }\n",
              "  </style>\n",
              "\n",
              "    <script>\n",
              "      const buttonEl =\n",
              "        document.querySelector('#df-ee176b36-17c7-4d0d-9055-03e1a9fc95f3 button.colab-df-convert');\n",
              "      buttonEl.style.display =\n",
              "        google.colab.kernel.accessAllowed ? 'block' : 'none';\n",
              "\n",
              "      async function convertToInteractive(key) {\n",
              "        const element = document.querySelector('#df-ee176b36-17c7-4d0d-9055-03e1a9fc95f3');\n",
              "        const dataTable =\n",
              "          await google.colab.kernel.invokeFunction('convertToInteractive',\n",
              "                                                    [key], {});\n",
              "        if (!dataTable) return;\n",
              "\n",
              "        const docLinkHtml = 'Like what you see? Visit the ' +\n",
              "          '<a target=\"_blank\" href=https://colab.research.google.com/notebooks/data_table.ipynb>data table notebook</a>'\n",
              "          + ' to learn more about interactive tables.';\n",
              "        element.innerHTML = '';\n",
              "        dataTable['output_type'] = 'display_data';\n",
              "        await google.colab.output.renderOutput(dataTable, element);\n",
              "        const docLink = document.createElement('div');\n",
              "        docLink.innerHTML = docLinkHtml;\n",
              "        element.appendChild(docLink);\n",
              "      }\n",
              "    </script>\n",
              "  </div>\n",
              "\n",
              "\n",
              "<div id=\"df-fa19a0f0-357f-4159-9d4f-e005b23ac2c8\">\n",
              "  <button class=\"colab-df-quickchart\" onclick=\"quickchart('df-fa19a0f0-357f-4159-9d4f-e005b23ac2c8')\"\n",
              "            title=\"Suggest charts.\"\n",
              "            style=\"display:none;\">\n",
              "\n",
              "<svg xmlns=\"http://www.w3.org/2000/svg\" height=\"24px\"viewBox=\"0 0 24 24\"\n",
              "     width=\"24px\">\n",
              "    <g>\n",
              "        <path d=\"M19 3H5c-1.1 0-2 .9-2 2v14c0 1.1.9 2 2 2h14c1.1 0 2-.9 2-2V5c0-1.1-.9-2-2-2zM9 17H7v-7h2v7zm4 0h-2V7h2v10zm4 0h-2v-4h2v4z\"/>\n",
              "    </g>\n",
              "</svg>\n",
              "  </button>\n",
              "\n",
              "<style>\n",
              "  .colab-df-quickchart {\n",
              "      --bg-color: #E8F0FE;\n",
              "      --fill-color: #1967D2;\n",
              "      --hover-bg-color: #E2EBFA;\n",
              "      --hover-fill-color: #174EA6;\n",
              "      --disabled-fill-color: #AAA;\n",
              "      --disabled-bg-color: #DDD;\n",
              "  }\n",
              "\n",
              "  [theme=dark] .colab-df-quickchart {\n",
              "      --bg-color: #3B4455;\n",
              "      --fill-color: #D2E3FC;\n",
              "      --hover-bg-color: #434B5C;\n",
              "      --hover-fill-color: #FFFFFF;\n",
              "      --disabled-bg-color: #3B4455;\n",
              "      --disabled-fill-color: #666;\n",
              "  }\n",
              "\n",
              "  .colab-df-quickchart {\n",
              "    background-color: var(--bg-color);\n",
              "    border: none;\n",
              "    border-radius: 50%;\n",
              "    cursor: pointer;\n",
              "    display: none;\n",
              "    fill: var(--fill-color);\n",
              "    height: 32px;\n",
              "    padding: 0;\n",
              "    width: 32px;\n",
              "  }\n",
              "\n",
              "  .colab-df-quickchart:hover {\n",
              "    background-color: var(--hover-bg-color);\n",
              "    box-shadow: 0 1px 2px rgba(60, 64, 67, 0.3), 0 1px 3px 1px rgba(60, 64, 67, 0.15);\n",
              "    fill: var(--button-hover-fill-color);\n",
              "  }\n",
              "\n",
              "  .colab-df-quickchart-complete:disabled,\n",
              "  .colab-df-quickchart-complete:disabled:hover {\n",
              "    background-color: var(--disabled-bg-color);\n",
              "    fill: var(--disabled-fill-color);\n",
              "    box-shadow: none;\n",
              "  }\n",
              "\n",
              "  .colab-df-spinner {\n",
              "    border: 2px solid var(--fill-color);\n",
              "    border-color: transparent;\n",
              "    border-bottom-color: var(--fill-color);\n",
              "    animation:\n",
              "      spin 1s steps(1) infinite;\n",
              "  }\n",
              "\n",
              "  @keyframes spin {\n",
              "    0% {\n",
              "      border-color: transparent;\n",
              "      border-bottom-color: var(--fill-color);\n",
              "      border-left-color: var(--fill-color);\n",
              "    }\n",
              "    20% {\n",
              "      border-color: transparent;\n",
              "      border-left-color: var(--fill-color);\n",
              "      border-top-color: var(--fill-color);\n",
              "    }\n",
              "    30% {\n",
              "      border-color: transparent;\n",
              "      border-left-color: var(--fill-color);\n",
              "      border-top-color: var(--fill-color);\n",
              "      border-right-color: var(--fill-color);\n",
              "    }\n",
              "    40% {\n",
              "      border-color: transparent;\n",
              "      border-right-color: var(--fill-color);\n",
              "      border-top-color: var(--fill-color);\n",
              "    }\n",
              "    60% {\n",
              "      border-color: transparent;\n",
              "      border-right-color: var(--fill-color);\n",
              "    }\n",
              "    80% {\n",
              "      border-color: transparent;\n",
              "      border-right-color: var(--fill-color);\n",
              "      border-bottom-color: var(--fill-color);\n",
              "    }\n",
              "    90% {\n",
              "      border-color: transparent;\n",
              "      border-bottom-color: var(--fill-color);\n",
              "    }\n",
              "  }\n",
              "</style>\n",
              "\n",
              "  <script>\n",
              "    async function quickchart(key) {\n",
              "      const quickchartButtonEl =\n",
              "        document.querySelector('#' + key + ' button');\n",
              "      quickchartButtonEl.disabled = true;  // To prevent multiple clicks.\n",
              "      quickchartButtonEl.classList.add('colab-df-spinner');\n",
              "      try {\n",
              "        const charts = await google.colab.kernel.invokeFunction(\n",
              "            'suggestCharts', [key], {});\n",
              "      } catch (error) {\n",
              "        console.error('Error during call to suggestCharts:', error);\n",
              "      }\n",
              "      quickchartButtonEl.classList.remove('colab-df-spinner');\n",
              "      quickchartButtonEl.classList.add('colab-df-quickchart-complete');\n",
              "    }\n",
              "    (() => {\n",
              "      let quickchartButtonEl =\n",
              "        document.querySelector('#df-fa19a0f0-357f-4159-9d4f-e005b23ac2c8 button');\n",
              "      quickchartButtonEl.style.display =\n",
              "        google.colab.kernel.accessAllowed ? 'block' : 'none';\n",
              "    })();\n",
              "  </script>\n",
              "</div>\n",
              "    </div>\n",
              "  </div>\n"
            ]
          },
          "metadata": {},
          "execution_count": 11
        }
      ]
    },
    {
      "cell_type": "code",
      "source": [
        "train.isnull().sum()"
      ],
      "metadata": {
        "colab": {
          "base_uri": "https://localhost:8080/"
        },
        "id": "7pmZ9l224C8y",
        "outputId": "232f6b38-e431-4a44-a49a-01fe9f3a53f9"
      },
      "execution_count": 12,
      "outputs": [
        {
          "output_type": "execute_result",
          "data": {
            "text/plain": [
              "review    0\n",
              "reply     0\n",
              "star      0\n",
              "dtype: int64"
            ]
          },
          "metadata": {},
          "execution_count": 12
        }
      ]
    },
    {
      "cell_type": "markdown",
      "source": [
        "- 개별 삭제(추론 결과보고 계속 추가)"
      ],
      "metadata": {
        "id": "R765enN42t2E"
      }
    },
    {
      "cell_type": "code",
      "source": [
        "print(train[train['reply'].str.contains(\"뜸들이다는 북서울꿈의숲\")].index)"
      ],
      "metadata": {
        "id": "fSOdOo4TDaXs"
      },
      "execution_count": null,
      "outputs": []
    },
    {
      "cell_type": "code",
      "source": [
        "remove_keywords = ['뜸들이다는 북서울꿈의숲']\n",
        "for keyword in remove_keywords:\n",
        "    train['reply'] = train['reply'].str.replace(keyword, '')\n",
        "\n",
        "train['reply'][6822]"
      ],
      "metadata": {
        "colab": {
          "base_uri": "https://localhost:8080/",
          "height": 54
        },
        "id": "V2YWQQZw1b_b",
        "outputId": "4879941a-6c1b-4995-ff37-262e7da98725"
      },
      "execution_count": 14,
      "outputs": [
        {
          "output_type": "execute_result",
          "data": {
            "text/plain": [
              "'고객님 안녕하세요 항상 고객님께 최선을 다하는 뜸들이다  소중한 별5 리뷰 감사합니다 맛있게 드셔 주셔서 정말 행복해요 다음에도 만족하실 수 있도록 최선을 다하겠습니다 감사합니다 뜸들이다는  이 최고 영암군에서 재배한 햅쌀만을 사용합니다 밥을 소량씩 자주 지어 갓 지은 밥 맛을 추구합니다 매장에서 직접 아보카도를 후숙하여 더욱더 고소합니다  주변에서 직접 홀 매장 영업하고 있습니다 당일재료 당일소진 모든 재료가 소진되면 영업을 종료합니다'"
            ],
            "application/vnd.google.colaboratory.intrinsic+json": {
              "type": "string"
            }
          },
          "metadata": {},
          "execution_count": 14
        }
      ]
    },
    {
      "cell_type": "markdown",
      "source": [
        "- 10자 이하 답변 제거\n",
        "    - 데이터 정제 과정에서 무의미해진 데이터는 학습데이터로 사용불가"
      ],
      "metadata": {
        "id": "rIE4rBhSRrVG"
      }
    },
    {
      "cell_type": "code",
      "source": [
        "len(train['review'][3]) , len(train['reply'][642])"
      ],
      "metadata": {
        "id": "GW6EtojcRODc"
      },
      "execution_count": null,
      "outputs": []
    },
    {
      "cell_type": "code",
      "source": [
        "train[train['reply'].str.len() >= 10] # 길이가 10자 이상인 행만 사용"
      ],
      "metadata": {
        "id": "TS66x1rzUt4z"
      },
      "execution_count": null,
      "outputs": []
    },
    {
      "cell_type": "code",
      "source": [
        "train = train[train['reply'].str.len() > 10].reset_index(drop=True)\n",
        "train"
      ],
      "metadata": {
        "id": "eZ-Nrd7_UD94"
      },
      "execution_count": null,
      "outputs": []
    },
    {
      "cell_type": "markdown",
      "source": [
        "## 긍부정 데이터 비율 선택"
      ],
      "metadata": {
        "id": "ldpKdlI5UFvs"
      }
    },
    {
      "cell_type": "code",
      "source": [
        "train['sentiment'].value_counts().sort_index() # 긍부정 분포 확인"
      ],
      "metadata": {
        "colab": {
          "base_uri": "https://localhost:8080/"
        },
        "id": "3t7RcKiHP0Yo",
        "outputId": "4ce8d0b2-53ac-4398-ec83-0ba6ae7ee8eb"
      },
      "execution_count": 15,
      "outputs": [
        {
          "output_type": "execute_result",
          "data": {
            "text/plain": [
              "1      111\n",
              "2       87\n",
              "3      226\n",
              "4      770\n",
              "5    23779\n",
              "Name: star, dtype: int64"
            ]
          },
          "metadata": {},
          "execution_count": 15
        }
      ]
    },
    {
      "cell_type": "code",
      "source": [
        "train_neg = train[train['sentiment'] == 0]\n",
        "\n",
        "# 긍정 데이터 중 중복된 답변제거\n",
        "train_pos = train[train['sentiment'] == 1].drop_duplicates(subset='reply', keep=False)\n",
        "train_pos['sentiment'].value_counts().sort_index()"
      ],
      "metadata": {
        "colab": {
          "base_uri": "https://localhost:8080/"
        },
        "id": "XRQdtKtAQO0b",
        "outputId": "945e0104-957e-4031-ba94-99b60e7d852a"
      },
      "execution_count": 16,
      "outputs": [
        {
          "output_type": "execute_result",
          "data": {
            "text/plain": [
              "5    10857\n",
              "Name: star, dtype: int64"
            ]
          },
          "metadata": {},
          "execution_count": 16
        }
      ]
    },
    {
      "cell_type": "code",
      "source": [
        "length = len(train_neg)\n",
        "length"
      ],
      "metadata": {
        "colab": {
          "base_uri": "https://localhost:8080/"
        },
        "id": "AsJ17zQOP0Sh",
        "outputId": "4be6b547-139e-41b5-9af2-305358aeba13"
      },
      "execution_count": 17,
      "outputs": [
        {
          "output_type": "execute_result",
          "data": {
            "text/plain": [
              "1194"
            ]
          },
          "metadata": {},
          "execution_count": 17
        }
      ]
    },
    {
      "cell_type": "code",
      "source": [
        "# 긍정 데이터를 랜덤으로 추출하기 위해 섞기\n",
        "shuffled_train_pos = train_pos.sample(frac=1, random_state=42)\n",
        "# train_pos = shuffled_train_pos.iloc[:length].reset_index(drop=True) # 1:1 비율\n",
        "train_pos = shuffled_train_pos.iloc[:length*2].reset_index(drop=True) # 2:1 비율 만들기\n",
        "\n",
        "train = pd.concat([train_neg, train_pos], ignore_index=True)\n",
        "train['sentiment'].value_counts().sort_index()"
      ],
      "metadata": {
        "colab": {
          "base_uri": "https://localhost:8080/"
        },
        "id": "3LASpE1DQ7CK",
        "outputId": "d06bd324-45e7-4944-b479-2b2c050bfc07"
      },
      "execution_count": 18,
      "outputs": [
        {
          "output_type": "execute_result",
          "data": {
            "text/plain": [
              "1     111\n",
              "2      87\n",
              "3     226\n",
              "4     770\n",
              "5    2388\n",
              "Name: star, dtype: int64"
            ]
          },
          "metadata": {},
          "execution_count": 18
        }
      ]
    },
    {
      "cell_type": "code",
      "source": [
        "# 다시 섞기\n",
        "train = train.sample(frac=1, random_state=42).reset_index(drop=True)\n",
        "train"
      ],
      "metadata": {
        "colab": {
          "base_uri": "https://localhost:8080/",
          "height": 424
        },
        "id": "g4SHdnDAQ6-s",
        "outputId": "69e5217e-f2f2-4138-c1a6-c4ef1447fa1f"
      },
      "execution_count": 19,
      "outputs": [
        {
          "output_type": "execute_result",
          "data": {
            "text/plain": [
              "                                                review  \\\n",
              "0                         맛있어요 배달도 빠르게 왔어요 감자튀김 감사합니다    \n",
              "1                       피자치킨 다 엄청식어서옴 식어서 맛있는지 잘모르겠어요    \n",
              "2                     바삭한 치킨과 소고기 육즙이 설명에 있던 사진보단 약하네요   \n",
              "3           호다닥먹느라고 사진을 못찍었네요 늦게까지하고 푸짐하고 고기는 무조건 여기임    \n",
              "4                          맛도 좋고 양도 좋고 배달도 빠르고 다 좋았습니다   \n",
              "...                                                ...   \n",
              "3577                                   맛있었어용 소시지 진짜 크다   \n",
              "3578                               잘먹었습니다 리뷰 음료수가 안왔어용   \n",
              "3579              석화회 진짜 싱싱하고 맛있어요 회도 양많고 많있어요 잘먹었습니다    \n",
              "3580  처음 주문했는데 진짜 맛있어요 양도 많아서 두번 나눠서 먹었어용 맛있게 잘 먹었습니당    \n",
              "3581                           넘맛있어요 진짜 짜장면은 여기가 짱입니다    \n",
              "\n",
              "                                                  reply  star  \n",
              "0     안녕하세요 고객님 최대한 빠르게 보내드리려 노력중이에요 다음에도 빠르게 보내드릴게요...     5  \n",
              "1     주문해주셔서 대단히 감사드립니다 일단 불편하셨다니 사과 말씀드리겠습니다 저희가 배달...     3  \n",
              "2     안녕하세요 mu 고객님 소중한 리뷰 정말 감사합니다 고객님께서 저희 음식을 주문해주...     4  \n",
              "3     별 5개와 리뷰를 잊지 않고 남겨주셔서 감사합니다 주문 해 주셨을 때 저희는 맛을 ...     5  \n",
              "4     맛있게 드시고 힘이되는 소중한글 남겨 주셔서 감사합니다 찾아주실때 만족된 식사가 되...     5  \n",
              "...                                                 ...   ...  \n",
              "3577  저희 대표 메뉴가 롱 쏘세지 맛도 좋고 단연 인기 많은 제품 이죠 다음에는 추가로 ...     4  \n",
              "3578  고객님 다음에는 꼭실수하지않도록 주의하겠습니다 다음주문시요청사항에 써주시면 서비스로...     5  \n",
              "3579  리뷰 감사드립니다 저희집 석화는 통영에서 지인을 통해 직송하여 박스안에 좋은것만 선...     4  \n",
              "3580  안녕하세요 푸짐하고 맛있는 저희 가게 음식에 대해 첫 인상이 만족스러우셨다니 다행 ...     5  \n",
              "3581               고객님 간짜장은 말이 필요가 맛있게 드셔주셔서 정말정말 감사합니다     5  \n",
              "\n",
              "[3582 rows x 3 columns]"
            ],
            "text/html": [
              "\n",
              "  <div id=\"df-ab8e2e5c-478f-4ed9-a9f5-fe2060605d13\" class=\"colab-df-container\">\n",
              "    <div>\n",
              "<style scoped>\n",
              "    .dataframe tbody tr th:only-of-type {\n",
              "        vertical-align: middle;\n",
              "    }\n",
              "\n",
              "    .dataframe tbody tr th {\n",
              "        vertical-align: top;\n",
              "    }\n",
              "\n",
              "    .dataframe thead th {\n",
              "        text-align: right;\n",
              "    }\n",
              "</style>\n",
              "<table border=\"1\" class=\"dataframe\">\n",
              "  <thead>\n",
              "    <tr style=\"text-align: right;\">\n",
              "      <th></th>\n",
              "      <th>review</th>\n",
              "      <th>reply</th>\n",
              "      <th>star</th>\n",
              "    </tr>\n",
              "  </thead>\n",
              "  <tbody>\n",
              "    <tr>\n",
              "      <th>0</th>\n",
              "      <td>맛있어요 배달도 빠르게 왔어요 감자튀김 감사합니다</td>\n",
              "      <td>안녕하세요 고객님 최대한 빠르게 보내드리려 노력중이에요 다음에도 빠르게 보내드릴게요...</td>\n",
              "      <td>5</td>\n",
              "    </tr>\n",
              "    <tr>\n",
              "      <th>1</th>\n",
              "      <td>피자치킨 다 엄청식어서옴 식어서 맛있는지 잘모르겠어요</td>\n",
              "      <td>주문해주셔서 대단히 감사드립니다 일단 불편하셨다니 사과 말씀드리겠습니다 저희가 배달...</td>\n",
              "      <td>3</td>\n",
              "    </tr>\n",
              "    <tr>\n",
              "      <th>2</th>\n",
              "      <td>바삭한 치킨과 소고기 육즙이 설명에 있던 사진보단 약하네요</td>\n",
              "      <td>안녕하세요 mu 고객님 소중한 리뷰 정말 감사합니다 고객님께서 저희 음식을 주문해주...</td>\n",
              "      <td>4</td>\n",
              "    </tr>\n",
              "    <tr>\n",
              "      <th>3</th>\n",
              "      <td>호다닥먹느라고 사진을 못찍었네요 늦게까지하고 푸짐하고 고기는 무조건 여기임</td>\n",
              "      <td>별 5개와 리뷰를 잊지 않고 남겨주셔서 감사합니다 주문 해 주셨을 때 저희는 맛을 ...</td>\n",
              "      <td>5</td>\n",
              "    </tr>\n",
              "    <tr>\n",
              "      <th>4</th>\n",
              "      <td>맛도 좋고 양도 좋고 배달도 빠르고 다 좋았습니다</td>\n",
              "      <td>맛있게 드시고 힘이되는 소중한글 남겨 주셔서 감사합니다 찾아주실때 만족된 식사가 되...</td>\n",
              "      <td>5</td>\n",
              "    </tr>\n",
              "    <tr>\n",
              "      <th>...</th>\n",
              "      <td>...</td>\n",
              "      <td>...</td>\n",
              "      <td>...</td>\n",
              "    </tr>\n",
              "    <tr>\n",
              "      <th>3577</th>\n",
              "      <td>맛있었어용 소시지 진짜 크다</td>\n",
              "      <td>저희 대표 메뉴가 롱 쏘세지 맛도 좋고 단연 인기 많은 제품 이죠 다음에는 추가로 ...</td>\n",
              "      <td>4</td>\n",
              "    </tr>\n",
              "    <tr>\n",
              "      <th>3578</th>\n",
              "      <td>잘먹었습니다 리뷰 음료수가 안왔어용</td>\n",
              "      <td>고객님 다음에는 꼭실수하지않도록 주의하겠습니다 다음주문시요청사항에 써주시면 서비스로...</td>\n",
              "      <td>5</td>\n",
              "    </tr>\n",
              "    <tr>\n",
              "      <th>3579</th>\n",
              "      <td>석화회 진짜 싱싱하고 맛있어요 회도 양많고 많있어요 잘먹었습니다</td>\n",
              "      <td>리뷰 감사드립니다 저희집 석화는 통영에서 지인을 통해 직송하여 박스안에 좋은것만 선...</td>\n",
              "      <td>4</td>\n",
              "    </tr>\n",
              "    <tr>\n",
              "      <th>3580</th>\n",
              "      <td>처음 주문했는데 진짜 맛있어요 양도 많아서 두번 나눠서 먹었어용 맛있게 잘 먹었습니당</td>\n",
              "      <td>안녕하세요 푸짐하고 맛있는 저희 가게 음식에 대해 첫 인상이 만족스러우셨다니 다행 ...</td>\n",
              "      <td>5</td>\n",
              "    </tr>\n",
              "    <tr>\n",
              "      <th>3581</th>\n",
              "      <td>넘맛있어요 진짜 짜장면은 여기가 짱입니다</td>\n",
              "      <td>고객님 간짜장은 말이 필요가 맛있게 드셔주셔서 정말정말 감사합니다</td>\n",
              "      <td>5</td>\n",
              "    </tr>\n",
              "  </tbody>\n",
              "</table>\n",
              "<p>3582 rows × 3 columns</p>\n",
              "</div>\n",
              "    <div class=\"colab-df-buttons\">\n",
              "\n",
              "  <div class=\"colab-df-container\">\n",
              "    <button class=\"colab-df-convert\" onclick=\"convertToInteractive('df-ab8e2e5c-478f-4ed9-a9f5-fe2060605d13')\"\n",
              "            title=\"Convert this dataframe to an interactive table.\"\n",
              "            style=\"display:none;\">\n",
              "\n",
              "  <svg xmlns=\"http://www.w3.org/2000/svg\" height=\"24px\" viewBox=\"0 -960 960 960\">\n",
              "    <path d=\"M120-120v-720h720v720H120Zm60-500h600v-160H180v160Zm220 220h160v-160H400v160Zm0 220h160v-160H400v160ZM180-400h160v-160H180v160Zm440 0h160v-160H620v160ZM180-180h160v-160H180v160Zm440 0h160v-160H620v160Z\"/>\n",
              "  </svg>\n",
              "    </button>\n",
              "\n",
              "  <style>\n",
              "    .colab-df-container {\n",
              "      display:flex;\n",
              "      gap: 12px;\n",
              "    }\n",
              "\n",
              "    .colab-df-convert {\n",
              "      background-color: #E8F0FE;\n",
              "      border: none;\n",
              "      border-radius: 50%;\n",
              "      cursor: pointer;\n",
              "      display: none;\n",
              "      fill: #1967D2;\n",
              "      height: 32px;\n",
              "      padding: 0 0 0 0;\n",
              "      width: 32px;\n",
              "    }\n",
              "\n",
              "    .colab-df-convert:hover {\n",
              "      background-color: #E2EBFA;\n",
              "      box-shadow: 0px 1px 2px rgba(60, 64, 67, 0.3), 0px 1px 3px 1px rgba(60, 64, 67, 0.15);\n",
              "      fill: #174EA6;\n",
              "    }\n",
              "\n",
              "    .colab-df-buttons div {\n",
              "      margin-bottom: 4px;\n",
              "    }\n",
              "\n",
              "    [theme=dark] .colab-df-convert {\n",
              "      background-color: #3B4455;\n",
              "      fill: #D2E3FC;\n",
              "    }\n",
              "\n",
              "    [theme=dark] .colab-df-convert:hover {\n",
              "      background-color: #434B5C;\n",
              "      box-shadow: 0px 1px 3px 1px rgba(0, 0, 0, 0.15);\n",
              "      filter: drop-shadow(0px 1px 2px rgba(0, 0, 0, 0.3));\n",
              "      fill: #FFFFFF;\n",
              "    }\n",
              "  </style>\n",
              "\n",
              "    <script>\n",
              "      const buttonEl =\n",
              "        document.querySelector('#df-ab8e2e5c-478f-4ed9-a9f5-fe2060605d13 button.colab-df-convert');\n",
              "      buttonEl.style.display =\n",
              "        google.colab.kernel.accessAllowed ? 'block' : 'none';\n",
              "\n",
              "      async function convertToInteractive(key) {\n",
              "        const element = document.querySelector('#df-ab8e2e5c-478f-4ed9-a9f5-fe2060605d13');\n",
              "        const dataTable =\n",
              "          await google.colab.kernel.invokeFunction('convertToInteractive',\n",
              "                                                    [key], {});\n",
              "        if (!dataTable) return;\n",
              "\n",
              "        const docLinkHtml = 'Like what you see? Visit the ' +\n",
              "          '<a target=\"_blank\" href=https://colab.research.google.com/notebooks/data_table.ipynb>data table notebook</a>'\n",
              "          + ' to learn more about interactive tables.';\n",
              "        element.innerHTML = '';\n",
              "        dataTable['output_type'] = 'display_data';\n",
              "        await google.colab.output.renderOutput(dataTable, element);\n",
              "        const docLink = document.createElement('div');\n",
              "        docLink.innerHTML = docLinkHtml;\n",
              "        element.appendChild(docLink);\n",
              "      }\n",
              "    </script>\n",
              "  </div>\n",
              "\n",
              "\n",
              "<div id=\"df-75ced3c5-136b-43a5-9ff9-7bb6ba1360e6\">\n",
              "  <button class=\"colab-df-quickchart\" onclick=\"quickchart('df-75ced3c5-136b-43a5-9ff9-7bb6ba1360e6')\"\n",
              "            title=\"Suggest charts.\"\n",
              "            style=\"display:none;\">\n",
              "\n",
              "<svg xmlns=\"http://www.w3.org/2000/svg\" height=\"24px\"viewBox=\"0 0 24 24\"\n",
              "     width=\"24px\">\n",
              "    <g>\n",
              "        <path d=\"M19 3H5c-1.1 0-2 .9-2 2v14c0 1.1.9 2 2 2h14c1.1 0 2-.9 2-2V5c0-1.1-.9-2-2-2zM9 17H7v-7h2v7zm4 0h-2V7h2v10zm4 0h-2v-4h2v4z\"/>\n",
              "    </g>\n",
              "</svg>\n",
              "  </button>\n",
              "\n",
              "<style>\n",
              "  .colab-df-quickchart {\n",
              "      --bg-color: #E8F0FE;\n",
              "      --fill-color: #1967D2;\n",
              "      --hover-bg-color: #E2EBFA;\n",
              "      --hover-fill-color: #174EA6;\n",
              "      --disabled-fill-color: #AAA;\n",
              "      --disabled-bg-color: #DDD;\n",
              "  }\n",
              "\n",
              "  [theme=dark] .colab-df-quickchart {\n",
              "      --bg-color: #3B4455;\n",
              "      --fill-color: #D2E3FC;\n",
              "      --hover-bg-color: #434B5C;\n",
              "      --hover-fill-color: #FFFFFF;\n",
              "      --disabled-bg-color: #3B4455;\n",
              "      --disabled-fill-color: #666;\n",
              "  }\n",
              "\n",
              "  .colab-df-quickchart {\n",
              "    background-color: var(--bg-color);\n",
              "    border: none;\n",
              "    border-radius: 50%;\n",
              "    cursor: pointer;\n",
              "    display: none;\n",
              "    fill: var(--fill-color);\n",
              "    height: 32px;\n",
              "    padding: 0;\n",
              "    width: 32px;\n",
              "  }\n",
              "\n",
              "  .colab-df-quickchart:hover {\n",
              "    background-color: var(--hover-bg-color);\n",
              "    box-shadow: 0 1px 2px rgba(60, 64, 67, 0.3), 0 1px 3px 1px rgba(60, 64, 67, 0.15);\n",
              "    fill: var(--button-hover-fill-color);\n",
              "  }\n",
              "\n",
              "  .colab-df-quickchart-complete:disabled,\n",
              "  .colab-df-quickchart-complete:disabled:hover {\n",
              "    background-color: var(--disabled-bg-color);\n",
              "    fill: var(--disabled-fill-color);\n",
              "    box-shadow: none;\n",
              "  }\n",
              "\n",
              "  .colab-df-spinner {\n",
              "    border: 2px solid var(--fill-color);\n",
              "    border-color: transparent;\n",
              "    border-bottom-color: var(--fill-color);\n",
              "    animation:\n",
              "      spin 1s steps(1) infinite;\n",
              "  }\n",
              "\n",
              "  @keyframes spin {\n",
              "    0% {\n",
              "      border-color: transparent;\n",
              "      border-bottom-color: var(--fill-color);\n",
              "      border-left-color: var(--fill-color);\n",
              "    }\n",
              "    20% {\n",
              "      border-color: transparent;\n",
              "      border-left-color: var(--fill-color);\n",
              "      border-top-color: var(--fill-color);\n",
              "    }\n",
              "    30% {\n",
              "      border-color: transparent;\n",
              "      border-left-color: var(--fill-color);\n",
              "      border-top-color: var(--fill-color);\n",
              "      border-right-color: var(--fill-color);\n",
              "    }\n",
              "    40% {\n",
              "      border-color: transparent;\n",
              "      border-right-color: var(--fill-color);\n",
              "      border-top-color: var(--fill-color);\n",
              "    }\n",
              "    60% {\n",
              "      border-color: transparent;\n",
              "      border-right-color: var(--fill-color);\n",
              "    }\n",
              "    80% {\n",
              "      border-color: transparent;\n",
              "      border-right-color: var(--fill-color);\n",
              "      border-bottom-color: var(--fill-color);\n",
              "    }\n",
              "    90% {\n",
              "      border-color: transparent;\n",
              "      border-bottom-color: var(--fill-color);\n",
              "    }\n",
              "  }\n",
              "</style>\n",
              "\n",
              "  <script>\n",
              "    async function quickchart(key) {\n",
              "      const quickchartButtonEl =\n",
              "        document.querySelector('#' + key + ' button');\n",
              "      quickchartButtonEl.disabled = true;  // To prevent multiple clicks.\n",
              "      quickchartButtonEl.classList.add('colab-df-spinner');\n",
              "      try {\n",
              "        const charts = await google.colab.kernel.invokeFunction(\n",
              "            'suggestCharts', [key], {});\n",
              "      } catch (error) {\n",
              "        console.error('Error during call to suggestCharts:', error);\n",
              "      }\n",
              "      quickchartButtonEl.classList.remove('colab-df-spinner');\n",
              "      quickchartButtonEl.classList.add('colab-df-quickchart-complete');\n",
              "    }\n",
              "    (() => {\n",
              "      let quickchartButtonEl =\n",
              "        document.querySelector('#df-75ced3c5-136b-43a5-9ff9-7bb6ba1360e6 button');\n",
              "      quickchartButtonEl.style.display =\n",
              "        google.colab.kernel.accessAllowed ? 'block' : 'none';\n",
              "    })();\n",
              "  </script>\n",
              "</div>\n",
              "    </div>\n",
              "  </div>\n"
            ]
          },
          "metadata": {},
          "execution_count": 19
        }
      ]
    },
    {
      "cell_type": "code",
      "source": [
        "review, reply = train[\"review\"] , train[\"reply\"]\n",
        "len(review) , len(reply)"
      ],
      "metadata": {
        "colab": {
          "base_uri": "https://localhost:8080/"
        },
        "id": "76W-Bwk7Q62j",
        "outputId": "f56c886d-f395-46bc-d43d-f4dda79ff470"
      },
      "execution_count": 20,
      "outputs": [
        {
          "output_type": "execute_result",
          "data": {
            "text/plain": [
              "(3582, 3582)"
            ]
          },
          "metadata": {},
          "execution_count": 20
        }
      ]
    },
    {
      "cell_type": "markdown",
      "source": [
        "# 한국어 형태소 분석"
      ],
      "metadata": {
        "id": "oUIFAkI6vzBO"
      }
    },
    {
      "cell_type": "code",
      "source": [
        "review[:5]"
      ],
      "metadata": {
        "colab": {
          "base_uri": "https://localhost:8080/"
        },
        "id": "fW4YJJ09OMPw",
        "outputId": "286e6b92-fa60-4d01-de85-51a6c835e90c"
      },
      "execution_count": 21,
      "outputs": [
        {
          "output_type": "execute_result",
          "data": {
            "text/plain": [
              "0                  맛있어요 배달도 빠르게 왔어요 감자튀김 감사합니다 \n",
              "1                피자치킨 다 엄청식어서옴 식어서 맛있는지 잘모르겠어요 \n",
              "2              바삭한 치킨과 소고기 육즙이 설명에 있던 사진보단 약하네요\n",
              "3    호다닥먹느라고 사진을 못찍었네요 늦게까지하고 푸짐하고 고기는 무조건 여기임 \n",
              "4                   맛도 좋고 양도 좋고 배달도 빠르고 다 좋았습니다\n",
              "Name: review, dtype: object"
            ]
          },
          "metadata": {},
          "execution_count": 21
        }
      ]
    },
    {
      "cell_type": "markdown",
      "source": [
        "# 단어 사전 만들기"
      ],
      "metadata": {
        "id": "v1skB1HmKDGg"
      }
    },
    {
      "cell_type": "code",
      "source": [
        "PAD = 0\n",
        "SOS = 1\n",
        "EOS = 2\n",
        "\n",
        "class WordVocab():\n",
        "    def __init__(self):\n",
        "        self.word2index = {'<PAD>': PAD,\n",
        "                           '<SOS>': SOS,\n",
        "                           '<EOS>': EOS,}\n",
        "        self.word2count = {}\n",
        "        self.index2word = {PAD : '<PAD>',\n",
        "                           SOS : '<SOS>',\n",
        "                           EOS : '<EOS>'}\n",
        "        self.n_words = 3  # PAD, SOS, EOS 포함\n",
        "\n",
        "    def add_sentence(self, sentence):\n",
        "        for word in sentence.split(' '):\n",
        "            self.add_word(word)\n",
        "\n",
        "    def add_word(self, word):\n",
        "        if word not in self.word2index:\n",
        "            self.word2index[word] = self.n_words\n",
        "            self.word2count[word] = 1\n",
        "            self.index2word[self.n_words] = word\n",
        "            self.n_words += 1\n",
        "        else:\n",
        "            self.word2count[word] += 1"
      ],
      "metadata": {
        "id": "hygb8KqYIi3O"
      },
      "execution_count": 22,
      "outputs": []
    },
    {
      "cell_type": "code",
      "source": [
        "print(f'원문: {review[0]}')\n",
        "lang = WordVocab()\n",
        "lang.add_sentence(review[0])\n",
        "print('단어사전: ', lang.word2index)"
      ],
      "metadata": {
        "colab": {
          "base_uri": "https://localhost:8080/"
        },
        "id": "GBgYZWQwIi0f",
        "outputId": "bbb3bf38-c241-407e-ab5d-531c25d5a1dc"
      },
      "execution_count": 23,
      "outputs": [
        {
          "output_type": "stream",
          "name": "stdout",
          "text": [
            "원문: 맛있어요 배달도 빠르게 왔어요 감자튀김 감사합니다 \n",
            "단어사전:  {'<PAD>': 0, '<SOS>': 1, '<EOS>': 2, '맛있어요': 3, '배달도': 4, '빠르게': 5, '왔어요': 6, '감자튀김': 7, '감사합니다': 8, '': 9}\n"
          ]
        }
      ]
    },
    {
      "cell_type": "markdown",
      "source": [
        "# 데이터셋 만들기"
      ],
      "metadata": {
        "id": "5cU_Tee2R1G3"
      }
    },
    {
      "cell_type": "code",
      "source": [
        "from konlpy.tag import Okt"
      ],
      "metadata": {
        "id": "ai7JzO0KRXyQ"
      },
      "execution_count": 24,
      "outputs": []
    },
    {
      "cell_type": "code",
      "source": [
        "class TextDataset(Dataset):\n",
        "    def __init__(self, df, min_length=3, max_length=32):\n",
        "        super().__init__()\n",
        "\n",
        "        # TOKEN 정의\n",
        "        self.PAD = 0\n",
        "        self.SOS = 1\n",
        "        self.EOS = 2\n",
        "\n",
        "        self.tagger = Okt() # 트위터 기반 형태소 분석기\n",
        "        self.max_length = max_length\n",
        "\n",
        "        # 형태소 처리와 단어사전 정의가 된 토큰을 담은 리스트\n",
        "        src_clean = []\n",
        "        tgt_clean = []\n",
        "\n",
        "        # 단어 사전 생성\n",
        "        wordvocab = WordVocab()\n",
        "\n",
        "        for _, row in df.iterrows():\n",
        "            # df 에서 'src'와 'tgt' 정의\n",
        "            src = row['review']\n",
        "            tgt = row['reply']\n",
        "\n",
        "            # 형태소 처리\n",
        "            src = self.clean_text(src)\n",
        "            tgt = self.clean_text(tgt)\n",
        "\n",
        "            if len(src.split()) > min_length and len(tgt.split()) > min_length:\n",
        "                # 최소 길이를 넘어가는 문장의 단어만 추가\n",
        "                wordvocab.add_sentence(src)\n",
        "                wordvocab.add_sentence(tgt)\n",
        "                src_clean.append(src)\n",
        "                tgt_clean.append(tgt)\n",
        "\n",
        "        self.srcs = src_clean\n",
        "        self.tgts = tgt_clean\n",
        "        self.wordvocab = wordvocab\n",
        "\n",
        "    def clean_text(self, sentence):\n",
        "        # 형태소 처리\n",
        "        sentence = self.tagger.morphs(sentence)\n",
        "        sentence = ' '.join(sentence)\n",
        "        sentence = sentence.lower()\n",
        "        return sentence\n",
        "\n",
        "    def texts_to_sequences(self, sentence):\n",
        "        # 문장 -> 시퀀스로 변환\n",
        "        return [self.wordvocab.word2index[w] for w in sentence.split()]\n",
        "\n",
        "    def pad_sequence(self, sentence_tokens):\n",
        "        # 문장의 맨 끝 토큰은 제거\n",
        "        sentence_tokens = sentence_tokens[:(self.max_length-1)]\n",
        "        token_length = len(sentence_tokens)\n",
        "\n",
        "        # 문장의 맨 끝부분에 <EOS> 토큰 추가\n",
        "        sentence_tokens.append(self.EOS)\n",
        "\n",
        "        for i in range(token_length, (self.max_length-1)):\n",
        "            # 나머지 빈 곳은 <PAD> 토큰으로 채우기\n",
        "            sentence_tokens.append(self.PAD)\n",
        "        return sentence_tokens\n",
        "\n",
        "    def __len__(self):\n",
        "        return len(self.srcs)\n",
        "\n",
        "    def __getitem__(self, idx):\n",
        "        inputs = self.srcs[idx]\n",
        "        inputs_sequences = self.texts_to_sequences(inputs) # 시퀀스로 바꾸고\n",
        "        inputs_padded = self.pad_sequence(inputs_sequences) # pad 토큰 채우기\n",
        "\n",
        "        outputs = self.tgts[idx]\n",
        "        outputs_sequences = self.texts_to_sequences(outputs)\n",
        "        outputs_padded = self.pad_sequence(outputs_sequences)\n",
        "\n",
        "        return torch.tensor(inputs_padded), torch.tensor(outputs_padded)"
      ],
      "metadata": {
        "id": "qegB-fFUIiv9"
      },
      "execution_count": 25,
      "outputs": []
    },
    {
      "cell_type": "code",
      "source": [
        "MAX_LENGTH = 32\n",
        "dataset = TextDataset(train, min_length=3, max_length=MAX_LENGTH)"
      ],
      "metadata": {
        "id": "IhZLpU7SIita"
      },
      "execution_count": 26,
      "outputs": []
    },
    {
      "cell_type": "markdown",
      "source": [
        "## 데이터셋 분할(테스트 데이터 생성)"
      ],
      "metadata": {
        "id": "YP8KNO1CWOEJ"
      }
    },
    {
      "cell_type": "code",
      "source": [
        "x, y = dataset[0]"
      ],
      "metadata": {
        "id": "OCwwT9WwIirO"
      },
      "execution_count": 27,
      "outputs": []
    },
    {
      "cell_type": "code",
      "source": [
        "print(f'x shape: {x.shape}')\n",
        "print(x)"
      ],
      "metadata": {
        "colab": {
          "base_uri": "https://localhost:8080/"
        },
        "id": "7ueDgBziIioj",
        "outputId": "d33894a2-210f-4392-edc1-197905196365"
      },
      "execution_count": 28,
      "outputs": [
        {
          "output_type": "stream",
          "name": "stdout",
          "text": [
            "x shape: torch.Size([32])\n",
            "tensor([ 3,  4,  5,  6,  7,  8,  9, 10,  2,  0,  0,  0,  0,  0,  0,  0,  0,  0,\n",
            "         0,  0,  0,  0,  0,  0,  0,  0,  0,  0,  0,  0,  0,  0])\n"
          ]
        }
      ]
    },
    {
      "cell_type": "code",
      "source": [
        "print(f'y shape: {y.shape}')\n",
        "print(y)"
      ],
      "metadata": {
        "colab": {
          "base_uri": "https://localhost:8080/"
        },
        "id": "IwRayL07IimV",
        "outputId": "b21af940-aeb3-4879-f79f-ea30f14eeba1"
      },
      "execution_count": 29,
      "outputs": [
        {
          "output_type": "stream",
          "name": "stdout",
          "text": [
            "y shape: torch.Size([32])\n",
            "tensor([11, 12, 13, 14,  6, 15, 16, 17, 18, 19, 20, 21,  6, 15, 22, 20, 23, 24,\n",
            "        25, 26, 27,  2,  0,  0,  0,  0,  0,  0,  0,  0,  0,  0])\n"
          ]
        }
      ]
    },
    {
      "cell_type": "code",
      "source": [
        "from torch.utils.data import SubsetRandomSampler, random_split\n",
        "\n",
        "train_size = int(len(dataset) * 0.8) # 80%의 데이터를 train에 할당\n",
        "test_size = len(dataset) - train_size # 나머지 20% 데이터를 test에 할당\n",
        "print(train_size, test_size)\n",
        "train_dataset, test_dataset = random_split(dataset, [train_size, test_size])"
      ],
      "metadata": {
        "colab": {
          "base_uri": "https://localhost:8080/"
        },
        "id": "K7BalXtMVfr9",
        "outputId": "0d01e91d-00e5-468e-e64a-4e2fe5b31f38"
      },
      "execution_count": 30,
      "outputs": [
        {
          "output_type": "stream",
          "name": "stdout",
          "text": [
            "2418 605\n"
          ]
        }
      ]
    },
    {
      "cell_type": "markdown",
      "source": [
        "# 데이터로더 만들기"
      ],
      "metadata": {
        "id": "nTlT-UZLVs4z"
      }
    },
    {
      "cell_type": "code",
      "source": [
        "from torch.utils.data import DataLoader\n",
        "\n",
        "train_loader = DataLoader(train_dataset, batch_size=16, shuffle=True)\n",
        "test_loader = DataLoader(test_dataset, batch_size=16, shuffle=True)"
      ],
      "metadata": {
        "id": "VytG6MGDVtNj"
      },
      "execution_count": 31,
      "outputs": []
    },
    {
      "cell_type": "code",
      "source": [
        "batch = next(iter(train_loader))\n",
        "batch"
      ],
      "metadata": {
        "colab": {
          "base_uri": "https://localhost:8080/"
        },
        "id": "9Vc7TMo7_Yvz",
        "outputId": "ce678546-d7eb-416b-d9d8-d6d67f33dac2"
      },
      "execution_count": 32,
      "outputs": [
        {
          "output_type": "execute_result",
          "data": {
            "text/plain": [
              "[tensor([[ 3882,   271,    23,   273,   717,   164,  1302,   268,     2,     0,\n",
              "              0,     0,     0,     0,     0,     0,     0,     0,     0,     0,\n",
              "              0,     0,     0,     0,     0,     0,     0,     0,     0,     0,\n",
              "              0,     0],\n",
              "         [ 6978,    19,   154,  1411,    23,  3715,  2992,  1411,  3080,  3061,\n",
              "           9193, 10647,  3874, 10648, 10649,  2997,   303,  3334,  4183, 10357,\n",
              "            926,    82,  1302,    93,   325,   104,     5,  3572,     4,    37,\n",
              "             10,     2],\n",
              "         [  406,   117,   264,  1392,   466,   117,    60,  3175,  9635,   466,\n",
              "              5,  1310,  6272,   164,   264,   316,  9213,  2907,   252,   253,\n",
              "            112,  1045,   122,  4087,   362,    90,    25,    89,   876,   694,\n",
              "             46,     2],\n",
              "         [ 5716,  1263,   204,   218,   982,  1032,  1263,   264,  1263,    78,\n",
              "            311,   354, 12643,   112,  1009,  7247,   164,   264,  3467,     2,\n",
              "              0,     0,     0,     0,     0,     0,     0,     0,     0,     0,\n",
              "              0,     0],\n",
              "         [  241,  5064,     4,     5,   187,    62,   264,   232,   830,     2,\n",
              "              0,     0,     0,     0,     0,     0,     0,     0,     0,     0,\n",
              "              0,     0,     0,     0,     0,     0,     0,     0,     0,     0,\n",
              "              0,     0],\n",
              "         [  217,    35,   307,   642,   680,   681,     2,     0,     0,     0,\n",
              "              0,     0,     0,     0,     0,     0,     0,     0,     0,     0,\n",
              "              0,     0,     0,     0,     0,     0,     0,     0,     0,     0,\n",
              "              0,     0],\n",
              "         [  603,     5, 11910,  4363,   154,  1084,   218,   307,  3452,   515,\n",
              "             35,   307,    57,     2,     0,     0,     0,     0,     0,     0,\n",
              "              0,     0,     0,     0,     0,     0,     0,     0,     0,     0,\n",
              "              0,     0],\n",
              "         [11531,  1204,  3462, 10733,    60,   218,   589, 11532,    24,  3272,\n",
              "            152,    46,   204,  7509,  2388,     5,   632,  4696,  4361,  1247,\n",
              "             78,   418,  1591,  1659,    85,  7874, 11533,  6734,   487,   591,\n",
              "          11534,     2],\n",
              "         [  164,  2152,    35,   589,     2,     0,     0,     0,     0,     0,\n",
              "              0,     0,     0,     0,     0,     0,     0,     0,     0,     0,\n",
              "              0,     0,     0,     0,     0,     0,     0,     0,     0,     0,\n",
              "              0,     0],\n",
              "         [  516,  4515,  3827,    78,  2364,   362,    25,   112, 13102,    23,\n",
              "            664,   112, 13103,   844,    46,   519,  3681,  1171,   776,   923,\n",
              "              5,   349,   664,    25,   329,   416,   264,  1535,   316,   383,\n",
              "             85,     2],\n",
              "         [  112,   104,    71,  1187,     4,  5616,  1143,    13,    78,   173,\n",
              "           6184,  6185,   404,   135,     4,    78,   177,  2164,  2275,   173,\n",
              "           6186,   112,  2641,  2986,  3889,     2,     0,     0,     0,     0,\n",
              "              0,     0],\n",
              "         [ 3555,    46,   122, 10448,   354,  3086,   785,  1143,    13,    78,\n",
              "           4045,   514,  3989,  6812,    94,   664, 10449,    24, 10450,   408,\n",
              "          10451,   122, 10452,   193,    85, 10453,   717, 10454, 10455,  1918,\n",
              "             78,     2],\n",
              "         [  152,    46,   742,  1697,    46,  1511,  7104,   268,     2,     0,\n",
              "              0,     0,     0,     0,     0,     0,     0,     0,     0,     0,\n",
              "              0,     0,     0,     0,     0,     0,     0,     0,     0,     0,\n",
              "              0,     0],\n",
              "         [ 1149,    25,  1285,   260,     2,     0,     0,     0,     0,     0,\n",
              "              0,     0,     0,     0,     0,     0,     0,     0,     0,     0,\n",
              "              0,     0,     0,     0,     0,     0,     0,     0,     0,     0,\n",
              "              0,     0],\n",
              "         [  189,    35,   589,    20,    21,   218,  1948,     2,     0,     0,\n",
              "              0,     0,     0,     0,     0,     0,     0,     0,     0,     0,\n",
              "              0,     0,     0,     0,     0,     0,     0,     0,     0,     0,\n",
              "              0,     0],\n",
              "         [ 1143,    13,   177,     3,   232,  1484,     2,     0,     0,     0,\n",
              "              0,     0,     0,     0,     0,     0,     0,     0,     0,     0,\n",
              "              0,     0,     0,     0,     0,     0,     0,     0,     0,     0,\n",
              "              0,     0]]),\n",
              " tensor([[  941,  1766,   164,  3388,   180,   487,  1302, 11312,   462, 11415,\n",
              "          11416,  1176,   230,   231,   204,   998,  2147,  4609,   824, 11417,\n",
              "           1617,   252,   253,   252,  1190,    12,    13,    78,    45,   516,\n",
              "           6269,     2],\n",
              "         [ 7010,  1775,  4045,    46,  4891,   180,   181,  1084,  1315,   568,\n",
              "           6373,   191,   671,    68,   193,   102,   117,   194,   195,    10,\n",
              "             12,    13,   124,   551,  8593,   170,     4, 10550,   181, 10650,\n",
              "            508,     2],\n",
              "         [   11,    25,    37,    39,    40,  3883,   117,   102,   122, 13417,\n",
              "          13401,    39,    40,  3012,    68,  1026,   547,    23,  5226,   180,\n",
              "             60,   182,    57,   406,   158,   539,   887,   103,   104, 10290,\n",
              "            213,     2],\n",
              "         [ 5096,   681,   121,   122,    10,  1263,    78,  3621,  4887,   180,\n",
              "           7128,  1273,  1274,   142,   632, 12644,  3020,   325,   681,   197,\n",
              "            147,  2479,  1271,    89, 12645,  1952,    23,   206, 12646,   681,\n",
              "              2,     0],\n",
              "         [   11,   189,   398,   123,  3117,   217,  1081,  1364,  3121,   164,\n",
              "             85,  6909,   236,   280,  2760,   281,   369,    85,  6910,  1144,\n",
              "            537,    78,    17,   135,  1073,   189,   190,   279,    93,   591,\n",
              "            123,     2],\n",
              "         [   24,    25,  1464,  6224,   177,   177,    10,    12,    13,   281,\n",
              "           3224,    60,  6225,    57,   189,   398,  6226,   217,   232,   281,\n",
              "            164,    60,   129,   100,  5054,  1628,   199,    35,  2054,   213,\n",
              "            103,     2],\n",
              "         [   45,   694,  1949,   173,  4264,   887,  1045,  1850,   347, 11911,\n",
              "            270,  1625,   170,  2813,   588,   990,   694,    49, 11102,  1072,\n",
              "            163,   375, 11912,    24,   722,  3796, 11913,   132,   201,   725,\n",
              "            725,     2],\n",
              "         [  189,  1219,    39,    40,   173,  2310,    85,  2147,   591,   123,\n",
              "           2335,   722,    78,   943,   217,    12,    13,   281,   699,   199,\n",
              "             49,   236,   202,    85,    30,   135,    57,   241,   242,  1450,\n",
              "            159,     2],\n",
              "         [  189,   911,   123,   399,    19,  4329,   156,    78,   725,    46,\n",
              "          10282,   785,    52, 12991,   416,    23,  2981,  9819, 12287,  2323,\n",
              "            416,  1729,   343,   918,  6280,  5461,   679,   288,    25,  3760,\n",
              "           1155,     2],\n",
              "         [   12,    13,   519,  2756,   313, 13103,    78,  7345,   189,  6509,\n",
              "            147, 13104,   751, 13103,   102, 10837,    97,    26,   924,    97,\n",
              "            264,   268,   735,    49,  1890,   695,   787,   106,    97,   467,\n",
              "             23,     2],\n",
              "         [  989,   110,   174,    40,   203,    46,  1290,   653,   281,     4,\n",
              "            264,  6187,   408,    85,   480,  6188,  1307,   135,   964,  2775,\n",
              "             90,   112,    43,   174,    40,   230,    60,   316,    17,   100,\n",
              "              2,     0],\n",
              "         [   45,    62,    85,   217,   189, 10457,    12,    13,   495,    39,\n",
              "           1241,  1386,    46,    35,  1587,   123,   722,    78, 10458,   217,\n",
              "            189,   190,   121,   122,     5,    39,   182,   230,   231,   767,\n",
              "           3108,     2],\n",
              "         [  279,   122,    39,  2248,   189,  1219,    39,    40,    20,    23,\n",
              "             24,  6565,   783,   784,     2,     0,     0,     0,     0,     0,\n",
              "              0,     0,     0,     0,     0,     0,     0,     0,     0,     0,\n",
              "              0,     0],\n",
              "         [   12,    13,   121,    12,   591,    78,   592,  1149,    25,   130,\n",
              "           1149,    25,   264,  1212,   259,    78,  8084,  7676,    12,    13,\n",
              "            264,    45,  3222,    78,   322,   464,  7549,  2665,  8085,   629,\n",
              "           1724,     2],\n",
              "         [   10,   288,    25,  2675,   362,   183,   257,     2,     0,     0,\n",
              "              0,     0,     0,     0,     0,     0,     0,     0,     0,     0,\n",
              "              0,     0,     0,     0,     0,     0,     0,     0,     0,     0,\n",
              "              0,     0],\n",
              "         [  189,   190,   122,   161,    10,    45,    68,    12,    13,   895,\n",
              "            515,  1081,  1364,   164,   102,   150,   151,   112,    62,    85,\n",
              "            235,   236,    17,   135,    57,  3267,    85,   584,   583,   684,\n",
              "             26,     2]])]"
            ]
          },
          "metadata": {},
          "execution_count": 32
        }
      ]
    },
    {
      "cell_type": "code",
      "source": [
        "# 1개의 배치 데이터를 추출\n",
        "x, y = next(iter(train_loader))\n",
        "\n",
        "# shape: (batch_size, sequence_length)\n",
        "x.shape, y.shape"
      ],
      "metadata": {
        "colab": {
          "base_uri": "https://localhost:8080/"
        },
        "id": "OkT49hogVxTf",
        "outputId": "7e8453cf-bc92-4684-926d-f26e898ca413"
      },
      "execution_count": 33,
      "outputs": [
        {
          "output_type": "execute_result",
          "data": {
            "text/plain": [
              "(torch.Size([16, 32]), torch.Size([16, 32]))"
            ]
          },
          "metadata": {},
          "execution_count": 33
        }
      ]
    },
    {
      "cell_type": "markdown",
      "source": [
        "# Encoder 만들기"
      ],
      "metadata": {
        "id": "y0p1uAoUWQ6K"
      }
    },
    {
      "cell_type": "code",
      "source": [
        "class Encoder(nn.Module):\n",
        "    def __init__(self, num_embeddings, hidden_size, embedding_dim, num_layers):\n",
        "        super().__init__()\n",
        "        self.num_embeddings = num_embeddings # vocab size\n",
        "\n",
        "        # 임베딩 레이어 정의 (number of vocabs, embedding dimension)\n",
        "        self.emb_layer = nn.Embedding(num_embeddings, embedding_dim)\n",
        "\n",
        "        # GRU (embedding dimension)\n",
        "        self.rnn_layer = nn.GRU(embedding_dim,\n",
        "                          hidden_size,\n",
        "                          num_layers=num_layers,\n",
        "                          bidirectional=False)\n",
        "\n",
        "    def forward(self, x):\n",
        "        x = self.emb_layer(x).permute(1, 0, 2)\n",
        "        outputs, hn = self.rnn_layer(x)\n",
        "        return outputs, hn"
      ],
      "metadata": {
        "id": "5O03VXXFVxSF"
      },
      "execution_count": 34,
      "outputs": []
    },
    {
      "cell_type": "markdown",
      "source": [
        "# Decoder 만들기"
      ],
      "metadata": {
        "id": "WxbHG7JSWoSB"
      }
    },
    {
      "cell_type": "code",
      "source": [
        "class Decoder(nn.Module):\n",
        "    def __init__(self, num_embeddings, hidden_size, embedding_dim, num_layers=1, dropout=0.2):\n",
        "        super().__init__()\n",
        "        self.num_embeddings = num_embeddings\n",
        "        self.emb_layer = nn.Embedding(num_embeddings, embedding_dim)\n",
        "        self.dropout = nn.Dropout(dropout)\n",
        "        self.rnn_layer = nn.GRU(embedding_dim,\n",
        "                          hidden_size,\n",
        "                          num_layers=num_layers,\n",
        "                          batch_first=False) # (1, batch_size) 로 변환을 쉽게 하기 위함\n",
        "\n",
        "        # 최종 출력은 단어사전의 개수(num_embeddings)\n",
        "        self.fc_layer = nn.Linear(hidden_size, num_embeddings)\n",
        "\n",
        "    def forward(self, x, hidden_state):\n",
        "        x = x.unsqueeze(0) # (1, batch_size) 로 변환\n",
        "        x = F.relu(self.emb_layer(x))\n",
        "        x = self.dropout(x)\n",
        "        outputs, hn = self.rnn_layer(x, hidden_state)\n",
        "        outputs = self.fc_layer(outputs.squeeze(0)) # (sequence_length, batch_size, hidden_size(32))\n",
        "        return outputs, hn"
      ],
      "metadata": {
        "id": "e7WjdpnbVxAa"
      },
      "execution_count": 35,
      "outputs": []
    },
    {
      "cell_type": "markdown",
      "source": [
        "# Seq2Seq 모델 만들기"
      ],
      "metadata": {
        "id": "YuJaLiSyXDUk"
      }
    },
    {
      "cell_type": "code",
      "source": [
        "class Seq2Seq(nn.Module):\n",
        "    def __init__(self, encoder, decoder, device):\n",
        "        super().__init__()\n",
        "        self.encoder = encoder\n",
        "        self.decoder = decoder\n",
        "        self.device = device\n",
        "\n",
        "    def forward(self, inputs, outputs, teacher_forcing_ratio=0.5):\n",
        "        # inputs : (batch_size, sequence_length)\n",
        "        # outputs: (batch_size, sequence_length)\n",
        "\n",
        "        batch_size, output_length = outputs.shape\n",
        "        output_num_vocabs = self.decoder.num_embeddings\n",
        "\n",
        "        # 리턴할 예측된 outputs를 저장할 임시 변수\n",
        "        # (sequence_length, batch_size, num_vocabs)\n",
        "        predicted_outputs = torch.zeros(output_length, batch_size, output_num_vocabs).to(self.device)\n",
        "\n",
        "        # 인코더에 입력 데이터 주입, encoder_output은 버리고 hidden_state 만 살림(Attention 안하니까 필요없음)\n",
        "        # 여기서 hidden_state가 디코더에 주입할 context vector 가 됨\n",
        "        # (number of layers(1), batch_size, hidden_size)\n",
        "        _, decoder_hn = self.encoder(inputs)\n",
        "\n",
        "        # (batch_size) shape의 SOS TOKEN으로 채워진 디코더 입력 생성\n",
        "        decoder_input = torch.full((batch_size,), SOS, device=self.device)\n",
        "\n",
        "        # 반복문으로 출력 단어를 생성\n",
        "        # 0번째는 SOS TOKEN이 위치하므로, 1번째 인덱스부터 순회\n",
        "        for t in range(0, output_length):\n",
        "            # decoder_input : 디코더 입력 (batch_size) 형태의 SOS TOKEN로 채워진 입력\n",
        "            # decoder_output: (batch_size, num_vocabs)\n",
        "            # decoder_hidden: (number of layers(1), batch_size, hidden_size), context vector와 동일 shape\n",
        "            decoder_output, decoder_hn = self.decoder(decoder_input, decoder_hn)\n",
        "\n",
        "            # t번째 단어에 디코더의 output 저장\n",
        "            predicted_outputs[t] = decoder_output\n",
        "\n",
        "            # teacher forcing 적용 여부 확률로 결정\n",
        "            # 정답치를 다음 RNN Cell의 입력으로 넣어주는 경우. 수렴속도가 빠를 수 있으나, 불안정할 수 있음\n",
        "            teacher_force = random.random() < teacher_forcing_ratio\n",
        "\n",
        "            # top1 단어 토큰 예측\n",
        "            top1 = decoder_output.argmax(1)\n",
        "\n",
        "            # teacher forcing 인 경우 ground truth 값을, 그렇지 않은 경우, 예측 값을 다음 input으로 지정\n",
        "            decoder_input = outputs[:, t] if teacher_force else top1\n",
        "\n",
        "        return predicted_outputs.permute(1, 0, 2) # (batch_size, sequence_length, num_vocabs)로 변경"
      ],
      "metadata": {
        "id": "_PytT7XtW-tM"
      },
      "execution_count": 36,
      "outputs": []
    },
    {
      "cell_type": "code",
      "source": [
        "# Encoder 정의\n",
        "encoder = Encoder(num_embeddings=dataset.wordvocab.n_words,\n",
        "                       hidden_size=32,\n",
        "                       embedding_dim=64,\n",
        "                       num_layers=1)\n",
        "# Decoder 정의\n",
        "decoder = Decoder(num_embeddings=dataset.wordvocab.n_words,\n",
        "                       hidden_size=32,\n",
        "                       embedding_dim=64,\n",
        "                       num_layers=1)\n",
        "# Seq2Seq 정의\n",
        "seq2seq = Seq2Seq(encoder, decoder, 'cpu')"
      ],
      "metadata": {
        "id": "xpvgCZhiW-qs"
      },
      "execution_count": 37,
      "outputs": []
    },
    {
      "cell_type": "code",
      "source": [
        "x, y = next(iter(train_loader))\n",
        "print(x.shape, y.shape)\n",
        "# (batch_size, sequence_length), (batch_size, sequence_length)"
      ],
      "metadata": {
        "colab": {
          "base_uri": "https://localhost:8080/"
        },
        "id": "M8DrPCgVW-oF",
        "outputId": "e4f71203-0ae9-449d-d360-106429aa9f33"
      },
      "execution_count": 38,
      "outputs": [
        {
          "output_type": "stream",
          "name": "stdout",
          "text": [
            "torch.Size([16, 32]) torch.Size([16, 32])\n"
          ]
        }
      ]
    },
    {
      "cell_type": "code",
      "source": [
        "output = seq2seq(x, y)\n",
        "print(output.shape)\n",
        "# (batch_size, sequence_length, num_vocabs)"
      ],
      "metadata": {
        "colab": {
          "base_uri": "https://localhost:8080/"
        },
        "id": "2J4N_X2rW-lz",
        "outputId": "a50ce12f-44e3-43af-8e6b-e3acd98bf6ce"
      },
      "execution_count": 39,
      "outputs": [
        {
          "output_type": "stream",
          "name": "stdout",
          "text": [
            "torch.Size([16, 32, 14249])\n"
          ]
        }
      ]
    },
    {
      "cell_type": "markdown",
      "source": [
        "## 모델 확인"
      ],
      "metadata": {
        "id": "xhHarWD6XUT_"
      }
    },
    {
      "cell_type": "code",
      "source": [
        "NUM_VOCABS = dataset.wordvocab.n_words\n",
        "HIDDEN_SIZE = 512\n",
        "EMBEDDIMG_DIM = 256\n",
        "\n",
        "print(f'num_vocabs: {NUM_VOCABS}\\n======================')\n",
        "\n",
        "# Encoder 정의\n",
        "encoder = Encoder(num_embeddings=NUM_VOCABS,\n",
        "                  hidden_size=HIDDEN_SIZE,\n",
        "                  embedding_dim=EMBEDDIMG_DIM,\n",
        "                  num_layers=1)\n",
        "# Decoder 정의\n",
        "decoder = Decoder(num_embeddings=NUM_VOCABS,\n",
        "                  hidden_size=HIDDEN_SIZE,\n",
        "                  embedding_dim=EMBEDDIMG_DIM,\n",
        "                  num_layers=1)\n",
        "\n",
        "# Seq2Seq 생성\n",
        "# encoder, decoder를 device 모두 지정\n",
        "model = Seq2Seq(encoder.to(device), decoder.to(device), device)\n",
        "print(model)"
      ],
      "metadata": {
        "colab": {
          "base_uri": "https://localhost:8080/"
        },
        "id": "Jyuw1zgTW-jh",
        "outputId": "e44adcfb-53fc-4271-ce24-9f7a30d2270b"
      },
      "execution_count": 40,
      "outputs": [
        {
          "output_type": "stream",
          "name": "stdout",
          "text": [
            "num_vocabs: 14249\n",
            "======================\n",
            "Seq2Seq(\n",
            "  (encoder): Encoder(\n",
            "    (emb_layer): Embedding(14249, 256)\n",
            "    (rnn_layer): GRU(256, 512)\n",
            "  )\n",
            "  (decoder): Decoder(\n",
            "    (emb_layer): Embedding(14249, 256)\n",
            "    (dropout): Dropout(p=0.2, inplace=False)\n",
            "    (rnn_layer): GRU(256, 512)\n",
            "    (fc_layer): Linear(in_features=512, out_features=14249, bias=True)\n",
            "  )\n",
            ")\n"
          ]
        }
      ]
    },
    {
      "cell_type": "markdown",
      "source": [
        "# 하이퍼파라미터 정의"
      ],
      "metadata": {
        "id": "EaBwVfIzXm-s"
      }
    },
    {
      "cell_type": "code",
      "source": [
        "class EarlyStopping:\n",
        "    def __init__(self, patience=3, delta=0.0, mode='min', verbose=True):\n",
        "        \"\"\"\n",
        "        patience (int): loss or score가 개선된 후 기다리는 기간. default: 3\n",
        "        delta  (float): 개선시 인정되는 최소 변화 수치. default: 0.0\n",
        "        mode     (str): 개선시 최소/최대값 기준 선정('min' or 'max'). default: 'min'.\n",
        "        verbose (bool): 메시지 출력. default: True\n",
        "        \"\"\"\n",
        "        self.early_stop = False\n",
        "        self.patience = patience\n",
        "        self.verbose = verbose\n",
        "        self.counter = 0\n",
        "\n",
        "        self.best_score = np.Inf if mode == 'min' else 0\n",
        "        self.mode = mode\n",
        "        self.delta = delta\n",
        "\n",
        "\n",
        "    def __call__(self, score):\n",
        "\n",
        "        if self.best_score is None:\n",
        "            self.best_score = score\n",
        "            self.counter = 0\n",
        "        elif self.mode == 'min':\n",
        "            if score < (self.best_score - self.delta):\n",
        "                self.counter = 0\n",
        "                self.best_score = score\n",
        "                if self.verbose:\n",
        "                    print(f'[EarlyStopping] (Update) Best Score: {self.best_score:.5f}')\n",
        "            else:\n",
        "                self.counter += 1\n",
        "                if self.verbose:\n",
        "                    print(f'[EarlyStopping] (Patience) {self.counter}/{self.patience}, ' \\\n",
        "                          f'Best: {self.best_score:.5f}' \\\n",
        "                          f', Current: {score:.5f}, Delta: {np.abs(self.best_score - score):.5f}')\n",
        "\n",
        "        elif self.mode == 'max':\n",
        "            if score > (self.best_score + self.delta):\n",
        "                self.counter = 0\n",
        "                self.best_score = score\n",
        "                if self.verbose:\n",
        "                    print(f'[EarlyStopping] (Update) Best Score: {self.best_score:.5f}')\n",
        "            else:\n",
        "                self.counter += 1\n",
        "                if self.verbose:\n",
        "                    print(f'[EarlyStopping] (Patience) {self.counter}/{self.patience}, ' \\\n",
        "                          f'Best: {self.best_score:.5f}' \\\n",
        "                          f', Current: {score:.5f}, Delta: {np.abs(self.best_score - score):.5f}')\n",
        "\n",
        "\n",
        "        if self.counter >= self.patience:\n",
        "            if self.verbose:\n",
        "                print(f'[EarlyStop Triggered] Best Score: {self.best_score:.5f}')\n",
        "            # Early Stop\n",
        "            self.early_stop = True\n",
        "        else:\n",
        "            # Continue\n",
        "            self.early_stop = False"
      ],
      "metadata": {
        "id": "KKNqhiB1W-hS"
      },
      "execution_count": 41,
      "outputs": []
    },
    {
      "cell_type": "code",
      "source": [
        "LR = 1e-3\n",
        "optimizer = optim.Adam(model.parameters(), lr=LR)\n",
        "loss_fn = nn.CrossEntropyLoss()\n",
        "es = EarlyStopping(patience=5, delta=0.001, mode='min', verbose=True)\n",
        "scheduler = optim.lr_scheduler.ReduceLROnPlateau(optimizer, mode='min', factor=0.5, patience=2, threshold_mode='abs', min_lr=1e-8, verbose=True)"
      ],
      "metadata": {
        "id": "cyJi-J-sW-ee"
      },
      "execution_count": 42,
      "outputs": []
    },
    {
      "cell_type": "markdown",
      "source": [
        "# 학습 loop 만들기"
      ],
      "metadata": {
        "id": "1Ql0nXlWYCyi"
      }
    },
    {
      "cell_type": "code",
      "source": [
        "def train(model, data_loader, optimizer, loss_fn, device):\n",
        "    model.train()\n",
        "    running_loss = 0\n",
        "\n",
        "    for x, y in data_loader:\n",
        "        x, y = x.to(device), y.to(device)\n",
        "\n",
        "        optimizer.zero_grad()\n",
        "\n",
        "        # output: (batch_size, sequence_length, num_vocabs)\n",
        "        output = model(x, y)\n",
        "        output_dim = output.size(2)\n",
        "\n",
        "        # 1번 index 부터 슬라이싱한 이유는 0번 index가 SOS TOKEN 이기 때문\n",
        "        # (batch_size*sequence_length, num_vocabs) 로 변경\n",
        "        output = output.reshape(-1, output_dim)\n",
        "\n",
        "        # (batch_size*sequence_length) 로 변경\n",
        "        y = y.view(-1)\n",
        "\n",
        "        # Loss 계산\n",
        "        loss = loss_fn(output, y)\n",
        "        loss.backward()\n",
        "        optimizer.step()\n",
        "\n",
        "        running_loss += loss.item() * x.size(0)\n",
        "\n",
        "    return running_loss / len(data_loader)"
      ],
      "metadata": {
        "id": "8kpqXIFzVw7x"
      },
      "execution_count": 43,
      "outputs": []
    },
    {
      "cell_type": "code",
      "source": [
        "def evaluate(model, data_loader, loss_fn, device):\n",
        "    model.eval()\n",
        "\n",
        "    eval_loss = 0\n",
        "\n",
        "    with torch.no_grad():\n",
        "        for x, y in data_loader:\n",
        "            x, y = x.to(device), y.to(device)\n",
        "            output = model(x, y)\n",
        "            output_dim = output.size(2)\n",
        "            output = output.reshape(-1, output_dim)\n",
        "            y = y.view(-1)\n",
        "\n",
        "            # Loss 계산\n",
        "            loss = loss_fn(output, y)\n",
        "\n",
        "            eval_loss += loss.item() * x.size(0)\n",
        "\n",
        "    return eval_loss / len(data_loader)"
      ],
      "metadata": {
        "id": "GMSKIYG_YCNa"
      },
      "execution_count": 44,
      "outputs": []
    },
    {
      "cell_type": "markdown",
      "source": [
        "# 추론 함수"
      ],
      "metadata": {
        "id": "DdudDwwdYRiR"
      }
    },
    {
      "cell_type": "code",
      "source": [
        "def sequence_to_sentence(sequences, index2word):\n",
        "    outputs = []\n",
        "    for p in sequences:\n",
        "\n",
        "        word = index2word[p]\n",
        "        if p not in [SOS, EOS, PAD]:\n",
        "            outputs.append(word)\n",
        "        if word == EOS:\n",
        "            break\n",
        "    return ' '.join(outputs)"
      ],
      "metadata": {
        "id": "H0YOB9zbYCKs"
      },
      "execution_count": 45,
      "outputs": []
    },
    {
      "cell_type": "markdown",
      "source": [
        "# 테스트 loop 만들기\n",
        "- 챗봇 함수화"
      ],
      "metadata": {
        "id": "GLiga1pBYKCX"
      }
    },
    {
      "cell_type": "code",
      "source": [
        "# 전체 예측값을 데이터프레임 형식에 담기\n",
        "def random_evaluation(model, dataset, index2word, device, n=10):\n",
        "\n",
        "    n_samples = len(dataset)\n",
        "    indices = list(range(n_samples))\n",
        "    np.random.shuffle(indices)      # Shuffle\n",
        "    sampled_indices = indices[:n]   # Sampling N indices\n",
        "\n",
        "    # 샘플링한 데이터를 기반으로 DataLoader 생성\n",
        "    sampler = SubsetRandomSampler(sampled_indices)\n",
        "    sampled_dataloader = DataLoader(dataset, batch_size=10, sampler=sampler)\n",
        "\n",
        "    model.eval()\n",
        "    with torch.no_grad():\n",
        "        for x, y in sampled_dataloader:\n",
        "            x, y = x.to(device), y.to(device)\n",
        "            output = model(x, y, teacher_forcing_ratio=0)\n",
        "            # output: (number of samples, sequence_length, num_vocabs)\n",
        "\n",
        "            preds = output.detach().cpu().numpy()\n",
        "            x = x.detach().cpu().numpy()\n",
        "            y = y.detach().cpu().numpy()\n",
        "\n",
        "            data = {'test_review': [], 'chatbot_reply': []}\n",
        "            for i in range(n_samples):\n",
        "                x_result = sequence_to_sentence(x[i], index2word)\n",
        "                y_result = sequence_to_sentence(y[i], index2word)\n",
        "                pred_result = sequence_to_sentence(preds[i].argmax(1), index2word)\n",
        "                pred_result_correct = correct_spell(pred_result)\n",
        "                data['test_review'].append(x_result)\n",
        "                data['chatbot_reply'].append(pred_result_correct)\n",
        "\n",
        "    df = pd.DataFrame(data)\n",
        "    print(df)"
      ],
      "metadata": {
        "id": "_jSoWiaDdgvi"
      },
      "execution_count": 46,
      "outputs": []
    },
    {
      "cell_type": "code",
      "source": [
        "from nltk.translate.bleu_score import sentence_bleu\n",
        "\n",
        "def calculate_bleu(text, generated_text):\n",
        "    y = [text]  # 실제 데이터 y\n",
        "    X = generated_text  # 생성된 텍스트 X\n",
        "\n",
        "    # BLEU 점수 계산\n",
        "    bleu_score = sentence_bleu(y, X)\n",
        "    return bleu_score"
      ],
      "metadata": {
        "id": "biYWFlxxX_8T"
      },
      "execution_count": 47,
      "outputs": []
    },
    {
      "cell_type": "code",
      "source": [
        "from transformers import pipeline\n",
        "pipe = pipeline(\"text2text-generation\", model=\"lcw99/t5-base-korean-paraphrase\")\n",
        "\n",
        "def paraphrase_text(text):\n",
        "    generated_text = pipe(text, max_length=128, early_stopping=True,\n",
        "                          num_beams=4,\n",
        "                          num_return_sequences=2,\n",
        "                          no_repeat_ngram_size=4,\n",
        "                          top_k=5,\n",
        "                          top_p=0.95)\n",
        "    generated_text = generated_text[0]['generated_text']\n",
        "    return generated_text"
      ],
      "metadata": {
        "id": "X1OobMznfeUk"
      },
      "execution_count": 55,
      "outputs": []
    },
    {
      "cell_type": "code",
      "source": [
        "# 10개만 보기\n",
        "def random_evaluation_10(model, dataset, index2word, device, n=10):\n",
        "\n",
        "    n_samples = len(dataset)\n",
        "    indices = list(range(n_samples))\n",
        "    np.random.shuffle(indices)      # Shuffle\n",
        "    sampled_indices = indices[:n]   # Sampling N indices\n",
        "\n",
        "    # 샘플링한 데이터를 기반으로 DataLoader 생성\n",
        "    sampler = SubsetRandomSampler(sampled_indices)\n",
        "    sampled_dataloader = DataLoader(dataset, batch_size=10, sampler=sampler)\n",
        "\n",
        "    model.eval()\n",
        "    with torch.no_grad():\n",
        "        for x, y in sampled_dataloader:\n",
        "            x, y = x.to(device), y.to(device)\n",
        "            output = model(x, y, teacher_forcing_ratio=0)\n",
        "            # output: (number of samples, sequence_length, num_vocabs)\n",
        "\n",
        "            preds = output.detach().cpu().numpy()\n",
        "            x = x.detach().cpu().numpy()\n",
        "            y = y.detach().cpu().numpy()\n",
        "\n",
        "            for i in range(n):\n",
        "                result_review = sequence_to_sentence(x[i], index2word)\n",
        "                result_reply = sequence_to_sentence(y[i], index2word)\n",
        "                result_pred = sequence_to_sentence(preds[i].argmax(1), index2word)\n",
        "                print(f'리뷰    : {result_review}')\n",
        "                print(f'답변    : {result_reply}')\n",
        "                print(f'예측답변: {paraphrase_text(result_pred)}') # paraphrased text 반환\n",
        "                print(f'BLEU점수: {calculate_bleu(result_reply, result_pred)}')\n",
        "                print('==='*10)"
      ],
      "metadata": {
        "id": "AvWzcUC5YCH-"
      },
      "execution_count": 49,
      "outputs": []
    },
    {
      "cell_type": "markdown",
      "source": [
        "# 학습하기"
      ],
      "metadata": {
        "id": "5GY8zZX4clM0"
      }
    },
    {
      "cell_type": "code",
      "source": [
        "# yogiyo_paraphrase\n",
        "NUM_EPOCHS = 30\n",
        "STATEDICT_PATH = '/content/drive/MyDrive/project_final/data/models/yogiyo_0905.pt'\n",
        "\n",
        "best_loss = np.inf\n",
        "\n",
        "for epoch in tqdm(range(NUM_EPOCHS), total=NUM_EPOCHS):\n",
        "    loss = train(model, train_loader, optimizer, loss_fn, device)\n",
        "\n",
        "    val_loss = evaluate(model, test_loader, loss_fn, device)\n",
        "\n",
        "    if val_loss < best_loss:\n",
        "        best_loss = val_loss\n",
        "        torch.save(model.state_dict(), STATEDICT_PATH)\n",
        "\n",
        "    if epoch % 5 == 0:\n",
        "        print(f'epoch: {epoch+1}, loss: {loss:.4f}, val_loss: {val_loss:.4f}')\n",
        "\n",
        "    # Early Stop\n",
        "    es(loss)\n",
        "    if es.early_stop:\n",
        "        break\n",
        "\n",
        "    # Scheduler\n",
        "    scheduler.step(val_loss)\n",
        "\n",
        "model.load_state_dict(torch.load(STATEDICT_PATH))\n",
        "torch.save(model.state_dict(), f'/content/drive/MyDrive/project_final/data/models/yogiyo_0905{best_loss:.4f}.pt')"
      ],
      "metadata": {
        "colab": {
          "base_uri": "https://localhost:8080/",
          "height": 838,
          "referenced_widgets": [
            "c63a5bc355574912a7e5a8839f5a4ae8",
            "04a887801ab2423ca158e77242b0f6d6",
            "93acd91c890f4456959e6ec50bd9fa19",
            "2d3e4338f4fc4157a5cf97f4dbbf57d5",
            "23b3f01b5aa54be18b1bfed8626b2c9d",
            "c6f238ac7d91483cb11bf2f58df6e354",
            "7a9d11abbbd34aa68e27e143b06582f0",
            "c42afc4a7a4a48e582e446341aeeec16",
            "921dd60fe0d74631ae38d1527a329015",
            "12ac28e5be704f7aab8b1f6447e9db9a",
            "6a7effa99c174c1eab9cb84063ee2171"
          ]
        },
        "id": "bcyiSqKYZKXT",
        "outputId": "c5a76462-394f-4d17-ff4b-286373cbe15c"
      },
      "execution_count": 50,
      "outputs": [
        {
          "output_type": "display_data",
          "data": {
            "text/plain": [
              "  0%|          | 0/30 [00:00<?, ?it/s]"
            ],
            "application/vnd.jupyter.widget-view+json": {
              "version_major": 2,
              "version_minor": 0,
              "model_id": "c63a5bc355574912a7e5a8839f5a4ae8"
            }
          },
          "metadata": {}
        },
        {
          "output_type": "stream",
          "name": "stdout",
          "text": [
            "epoch: 1, loss: 93.3513, val_loss: 88.1592\n",
            "[EarlyStopping] (Update) Best Score: 93.35126\n",
            "[EarlyStopping] (Update) Best Score: 83.48819\n",
            "[EarlyStopping] (Update) Best Score: 79.29650\n",
            "[EarlyStopping] (Update) Best Score: 75.71992\n",
            "[EarlyStopping] (Update) Best Score: 72.44939\n",
            "epoch: 6, loss: 69.3405, val_loss: 77.4862\n",
            "[EarlyStopping] (Update) Best Score: 69.34048\n",
            "[EarlyStopping] (Update) Best Score: 66.84319\n",
            "[EarlyStopping] (Update) Best Score: 63.74394\n",
            "[EarlyStopping] (Update) Best Score: 62.07292\n",
            "[EarlyStopping] (Update) Best Score: 57.77989\n",
            "epoch: 11, loss: 56.7896, val_loss: 77.2256\n",
            "[EarlyStopping] (Update) Best Score: 56.78964\n",
            "Epoch 00011: reducing learning rate of group 0 to 5.0000e-04.\n",
            "[EarlyStopping] (Update) Best Score: 52.02406\n",
            "[EarlyStopping] (Update) Best Score: 50.55216\n",
            "[EarlyStopping] (Update) Best Score: 48.29358\n",
            "Epoch 00014: reducing learning rate of group 0 to 2.5000e-04.\n",
            "[EarlyStopping] (Update) Best Score: 45.63182\n",
            "epoch: 16, loss: 44.9193, val_loss: 79.2208\n",
            "[EarlyStopping] (Update) Best Score: 44.91930\n",
            "[EarlyStopping] (Update) Best Score: 43.76364\n",
            "Epoch 00017: reducing learning rate of group 0 to 1.2500e-04.\n",
            "[EarlyStopping] (Update) Best Score: 42.48013\n",
            "[EarlyStopping] (Update) Best Score: 41.97731\n",
            "[EarlyStopping] (Update) Best Score: 41.18762\n",
            "Epoch 00020: reducing learning rate of group 0 to 6.2500e-05.\n",
            "epoch: 21, loss: 40.6167, val_loss: 78.9073\n",
            "[EarlyStopping] (Update) Best Score: 40.61669\n",
            "[EarlyStopping] (Update) Best Score: 40.59881\n",
            "[EarlyStopping] (Update) Best Score: 40.18314\n",
            "Epoch 00023: reducing learning rate of group 0 to 3.1250e-05.\n",
            "[EarlyStopping] (Update) Best Score: 39.70753\n",
            "[EarlyStopping] (Update) Best Score: 39.67779\n",
            "epoch: 26, loss: 39.9480, val_loss: 79.7630\n",
            "[EarlyStopping] (Patience) 1/5, Best: 39.67779, Current: 39.94797, Delta: 0.27018\n",
            "Epoch 00026: reducing learning rate of group 0 to 1.5625e-05.\n",
            "[EarlyStopping] (Update) Best Score: 39.34640\n",
            "[EarlyStopping] (Patience) 1/5, Best: 39.34640, Current: 40.04703, Delta: 0.70063\n",
            "[EarlyStopping] (Patience) 2/5, Best: 39.34640, Current: 39.75858, Delta: 0.41218\n",
            "Epoch 00029: reducing learning rate of group 0 to 7.8125e-06.\n",
            "[EarlyStopping] (Update) Best Score: 39.22991\n"
          ]
        }
      ]
    },
    {
      "cell_type": "markdown",
      "source": [
        "# 결과 확인하기"
      ],
      "metadata": {
        "id": "z6dqkRwEa8qL"
      }
    },
    {
      "cell_type": "code",
      "source": [
        "# 0905 데이터 + 긍부정 비율 2:1 + 에폭 30 + paraphrase\n",
        "STATEDICT_PATH = '/content/drive/MyDrive/project_final/data/models/yogiyo_0905.pt'\n",
        "model.load_state_dict(torch.load(STATEDICT_PATH))\n",
        "random_evaluation_10(model, test_dataset, dataset.wordvocab.index2word, device)"
      ],
      "metadata": {
        "colab": {
          "base_uri": "https://localhost:8080/"
        },
        "id": "f-LBt0hJAOj6",
        "outputId": "976191a2-647b-4784-843c-6b2a0d69ad48"
      },
      "execution_count": 56,
      "outputs": [
        {
          "output_type": "stream",
          "name": "stdout",
          "text": [
            "리뷰    : 왜 맨날 이 가게 들 응 문자 달라 니까 왜 안주세요 다 식어서 먹잖아요 몇번 적어야 됩니까 제 시간 에 가져간 라이더 좀 말좀 하세요 가게 에서 관리 해야 한다고 봅니다\n",
            "답변    : 소중한 주문 감사 드립니다 찜 해주시 면 정말 감사 드립니다 안녕하세요 소중한 별 과 리뷰 정말 감사합니다 맞습니다 배달 까지 완벽하게 마무리 했어야 하는데 고객 님 께 불편 드린 고개 숙여\n",
            "예측답변: 저희 매장을 방문해 주신 고객 여러분 감사합니다 다음 번에도 더 좋은 모습으로 찾아 뵙겠습니다 감사합니다\n",
            "BLEU점수: 0.09980201912515678\n",
            "==============================\n",
            "리뷰    : 양 맛 다 짱\n",
            "답변    : 고객 님 감사합니다 맛있게 드신거죠 너무 너무 기뻐요 시국 이 시국 인 만큼 배달 하시는 고객 분들 이 많으신 데 저희 가족 이 먹는다는 마음 으로 최대한 맛있게 드실수있게 나름 연구\n",
            "예측답변: 골라 먹는 부천대 고객 님 안녕하세요 맛있는 부천대로 찾아 뵙겠습니다. 최고의 맛과 서비스로 보답 하겠습니다.\n",
            "BLEU점수: 0.12002196056261612\n",
            "==============================\n",
            "리뷰    : 처음 주문 해봤는데 맛있게 잘 먹었습니다 빨리 와서 좋았어요 다음 에 또 이용 할께요 번창 하세요\n",
            "답변    : 고객 님 안녕하세요 주 문 주시 고 먹음 직 스런 음식사진 과 더불어 재 주문 해주신다는 말씀 까지 넘 넘 고맙습니다 언제 찾아주셔도 맛있는 음식 으로 고객 님 께 찾아가겠습니다 고객\n",
            "예측답변: 앞으로도 더 좋은 요리로 찾아 뵐게요 감사합니다\n",
            "BLEU점수: 0.12673207360719063\n",
            "==============================\n",
            "리뷰    : 앞 으로도 자주 시킬게요 계속 먹어도 여전히 맛있어요\n",
            "답변    : 저희 청 주을 찾아주셔서 너무 감사 드려요 이 맛 변치않도록 더 열심히 뛰고 노력 하겠습니다 타코야끼 생각나실 때 마다 저희 잊지말고 찾아주셔요 소중한 시간 내어 리뷰 달아주셔서 감사합니다\n",
            "예측답변: 항상 고객 만족을 위해 노력 하는 저희가 고객 님 안녕하십니까 고객님의 블로그에 방문해 주시는 것을 너무 감사드립니다.\n",
            "BLEU점수: 0.11678404539489871\n",
            "==============================\n",
            "리뷰    : 다식 어 서 와서 아쉽네요\n",
            "답변    : 아이고 죄송합니다 분당 미금역 의 모든 음식 은 주문 즉시 조리 하고 경우 배차 시간 등 을 꼼꼼하게 따져 조리 를 하는데 경우 단건 배달 이 아니다 보니 이건 저희 도\n",
            "예측답변: 고객 님 안녕하세요 저희가 3년 동안 고객 님의 블로그에 글을 올려 주신 분들께 감사의 뜻을 전하고 싶습니다.\n",
            "BLEU점수: 0.09469613267100818\n",
            "==============================\n",
            "리뷰    : 제육 은 맛있었는데 육회 비빔밥 은 별로 였어요 곱빼기 시켰는데 전체 적 으로 많이 준 게 아니라 밥 만 더 많이 준듯 한 느낌 육회 비빔밥 이 밥 만 많고 고추장\n",
            "답변    : 다음 에는 양념장 을 더 달라 고 말씀 주시 면 챙겨 드리겠습니다 저희 곱 배기 는 밥 만 많이 드리는게 아니고 그 에 맞춰서 재료 들 을 더 드리고 있습니다 그렇게\n",
            "예측답변: 손님 여러분 안녕하십니까 우선 식사 시간에 불편을 드려 대단히 죄송합니다 다음 시간에는 더 좋은 모습으로 인사드리도록 하겠습니다.\n",
            "BLEU점수: 0.12469517613233452\n",
            "==============================\n",
            "리뷰    : 빵 이 제조 가 아니라 아쉬운 것 말고는 잘 먹었습니다\n",
            "답변    : 리뷰 남겨 주셔서 감사합니당 죄송하게도 스크램블 은 완제 품 이다 보니 주문 즉시 데워 드리고 있 습 니당 고객 님 께 만족 되지 못 해 죄송하네요 그럼에도 불구 하고 리뷰 남겨\n",
            "예측답변: 저희 매장을 방문해 주신 고객님께 감사의 인사를 드립니다.\n",
            "BLEU점수: 0.0736277614665294\n",
            "==============================\n",
            "리뷰    : 진짜 맛있어요 항상 여기 만 시켜 먹어요\n",
            "답변    : 고객 님 께 매우 만족 드린거 같아서 기쁘 네 용 항상 저희 매장 만 시켜 드신다니 넘나 감사하네용 메뉴 선택 도 딱 잘나가고 인기 있는 메뉴 만 주문 해 주셔서 더욱더\n",
            "예측답변: 맛있게 잘 먹었습니다 다음에 또 맛있는 요리로 찾아 뵙겠습니다 감사합니다\n",
            "BLEU점수: 0.022367018316506327\n",
            "==============================\n",
            "리뷰    : 배달 도 빠르고 맛있네요\n",
            "답변    : 맛있게 드셔주셔서 감사 드립니다 만족스러운 식사 하신것 같아 저 도 너무 기분 이 좋네요 항상 변함 없는 맛 으로 최선 을 다 하는 되겠습니다 자주자주 들려주세요 잘 먹어야 o o 청\n",
            "예측답변: 맛있는 식사를 해주신 고객님 감사합니다.\n",
            "BLEU점수: 0.18401604823352966\n",
            "==============================\n",
            "리뷰    : 리뷰 가 늦었네요 갑자기 회 가 엄청 땡겨서 시켰는데 푸 짐 하고 맛있었습니다\n",
            "답변    : 리뷰 감사 드립니다 무조건 3 키로 이상 급 의 광어 를 두 툼 하 게 썰고 있습니다 이외 에도 신선함을 위해 당일 수급 양은 많게 라는 원칙 지키기 위해 최선 을\n",
            "예측답변: 고객 님 안녕하세요 고객 님의 블로그 글에 저희가 감동을 받은 것 같아 기쁩니다 고객님의 마음을 움직일 수 있는 요리를 만들어 보겠습니다.\n",
            "BLEU점수: 3.010035829290596e-78\n",
            "==============================\n"
          ]
        }
      ]
    },
    {
      "cell_type": "code",
      "source": [
        "# 0905 데이터 + over + 긍부정 비율 2:1 + 에폭 30 + paraphrase\n",
        "STATEDICT_PATH = '/content/drive/MyDrive/project_final/data/models/yogiyo_0905_over.pt'\n",
        "model.load_state_dict(torch.load(STATEDICT_PATH))\n",
        "random_evaluation_10(model, test_dataset, dataset.wordvocab.index2word, device)"
      ],
      "metadata": {
        "colab": {
          "base_uri": "https://localhost:8080/"
        },
        "id": "eRkYz4PC4oW0",
        "outputId": "c0598466-93fe-4b8b-c9c5-426d1931ed02"
      },
      "execution_count": 81,
      "outputs": [
        {
          "output_type": "stream",
          "name": "stdout",
          "text": [
            "리뷰    : 배달 음식 자주 시켜 먹고 여기 서는 처음 인데 1시간 10분 만에 배달 오고 늦게 온 것 도 그런데 떡 다 불어있고 치즈 뭉쳐서 딱딱하구요 실망 배달 시켜서 기분 안좋긴 처음\n",
            "답변    : 지금 리뷰 를 봤네요 언제 주문 하신거죠 저희 가 늦게 간다 고 해서 음식 도 오래되는건 극히 드문 일이 에요 늦게가는건 주문 이 밀려서 늦게 만들었기 때문 인데 요 원래 좀\n",
            "예측답변: 저희 가게를 방문해 주신 고객님께 감사의 뜻을 전하고 싶고 앞으로도 많은 이용 부탁 드리겠습니다.\n",
            "BLEU점수: 0.09267714327273047\n",
            "==============================\n",
            "리뷰    : 배달 도 적당한 시간 에 왔는 댕 수 저 젓가락 이 안 왔어요 o 표시 햇 는대 사무실 에서 주 문 한 거 라 너무 당황 했 네 여 담 엔\n",
            "답변    : 아이고 소중한 고객 님 사죄 의 말씀드립니다 본의 아니게 인도 식 의 식사 로 대접 해드려 버렸네요 다음 엔 절대 절대 네버 빼먹지 않고 잘 챙겨 드리겠습니다 넘 넘 죄송합니다 혹시\n",
            "예측답변: 저희 음식 은 배달 대행 업체 를 이용 해 요리 과정 에서 부족했던 을 하고 있습니다 일부 용기 에 따라 일부 과정 에 미흡했던 을하고 있습니다\n",
            "BLEU점수: 0.09100168359620395\n",
            "==============================\n",
            "리뷰    : 잘 먹었고 맛있게 잘 먹었어요\n",
            "답변    : 즐거운 여름 휴가 를 떠나시기 전 에 맛있는 음식 으로 건강 도 챙겨 보세요 .\n",
            "예측답변: 감사합니다. 감사합니다.\n",
            "BLEU점수: 8.016714023843699e-156\n",
            "==============================\n",
            "리뷰    : 넘 맛있고 좋았는데 치즈 는 추가 가 된 건지 의문 이 살짝 드네 요\n",
            "답변    : 맛있게 드셨다니 감사합니다 더 푸 짐하도록 신경 쓰겠습니다 항상 노력 하는 되겠습니다 즐거운 시간 보내시고 행복한 나날 되세요\n",
            "예측답변: 저희 매장은 더욱 좋은 요리와 서비스로 찾아 뵙겠습니다 고객님 감사합니다.\n",
            "BLEU점수: 0.09871860383734853\n",
            "==============================\n",
            "리뷰    : 잘 먹었 습 니당\n",
            "답변    : 너무 다행 저희 가 준비 한 음식 맛있게 드셔주셔서요 주말 이나 피크 타임 엔 주문 이 밀릴 때 가 많아요 항상 빠르게 보내 드리고 싶은 마음 은 정말 굴뚝 같은데요 그래도\n",
            "예측답변: 맛있게 잘 먹었다고 내일 인사해야지\n",
            "BLEU점수: 0.01333923602386706\n",
            "==============================\n",
            "리뷰    : 배달 이 너무 늦어서 모 밀면 이 다 식었어요 속상하고 속상하고 그래요\n",
            "답변    : 일일이 다 살피 며 조리 하는데 그런 심려 를 끼쳐 드려 정말 죄송합니다 맛있는 요리 만들어 보도록 노력 하겠습니다 요 .\n",
            "예측답변: 고객 님 제가 대행 업체에 부탁해서 개선 하려고 하고 있는데 몇몇 부분에서 아쉬운 부분이 있어요.\n",
            "BLEU점수: 0.06267865283399646\n",
            "==============================\n",
            "리뷰    : 오늘 은 주 문 한 거 빠짐 없이 잘 왔어요 오랜 만 에 마라샹궈 시켰는데 맛있었어요 단무지 좀 꼭 챙겨주세요 매운데 단무지 까지 없어서 밥 만 왕창\n",
            "답변    : 저희 체크 미스 로 누락 되였군요 정말 죄송합니다 다음 주문 시 주 문 메모 에 적어주시면 꼼꼼히 체크 해서 오늘 누락 된 꼭 넣어 드리겠습니다 고객 님 다음주 문시 주 문\n",
            "예측답변: 고객님 주문해 주셔서 감사합니다 맛있게 드셨다면서 연락 주셨는데 정말 감사드립니다 감사합니다\n",
            "BLEU점수: 0.10571765510107482\n",
            "==============================\n",
            "리뷰    : 잘 먹었습니다 칫솔 세트 도 잘 쓰겠 습 니당\n",
            "답변    : 맛있게 드셨다니 감사합니다 항상 최선 을 다해 서 더 더욱 대접 하겠습니다 코로나 조심 조심하시길\n",
            "예측답변: 푸 짐하구 맛있는 맛있게 잘 먹어 주신것 같아 기분 좋 아요 다음에 또 즉석 주문 해 주세요\n",
            "BLEU점수: 0.06658178456358493\n",
            "==============================\n",
            "리뷰    : 아이 와 같이 먹는데 오 돌뼈 가 많아서 아쉬웠어요\n",
            "답변    : 항상 웃음 이 가득한 찾아주셔서 감사합니다 만족감 을 드리지 못 해 죄송합니다 앞 으로 오 돌뼈 제거 의 더 신경 쓰겠습니다 혹시 다음 에도 보쌈 을 주문 해주신다면 요청 사항 에\n",
            "예측답변: 저희가 더 이상 못 먹게 해 드려서 죄송합니다 다음 엔 꼭 먹어 볼게요 고객님의 소중한 후기를 많이 써 주세요\n",
            "BLEU점수: 0.16288088955732818\n",
            "==============================\n",
            "리뷰    : 옆 으로 넘어져서 배달 되었나 봐요 김치 국물 뿐 아니라 보냉 백 안 에서 곱창 과 야채 익은 국물 까지 다 새서 대 환 장 도가니탕 기사 님 이 사과 라도\n",
            "답변    : 고객 님 너무 너무 죄송합니다 생각 보다 너무 심해서 몸둘 바를 모르겠어요 업체 에 이야기 는 해 두었지만 말 해야겠어요 음식 꺼내시면서부터 고생 하셨을것 같은데 저 도 포장 더 꼼꼼하게 하겠습니다\n",
            "예측답변: 저희 매장은 주문 이 에 에 배달 로 재고 조리 후 고객 님 들이 계시는데 배달이 되기 위해 최선을 다하고 있습니다니다.\n",
            "BLEU점수: 0.08472444314335689\n",
            "==============================\n"
          ]
        }
      ]
    },
    {
      "cell_type": "code",
      "source": [
        "# 0905 데이터 + 긍부정 비율 2:1 + 에폭 30 + paraphrase\n",
        "STATEDICT_PATH = '/content/drive/MyDrive/project_final/data/models/yogiyo_0905.pt'\n",
        "model.load_state_dict(torch.load(STATEDICT_PATH))\n",
        "random_evaluation_10(model, test_dataset, dataset.wordvocab.index2word, device)"
      ],
      "metadata": {
        "colab": {
          "base_uri": "https://localhost:8080/"
        },
        "id": "pGUGK2Q4itrN",
        "outputId": "11930220-2249-44be-f9fd-9ca1ece41769"
      },
      "execution_count": null,
      "outputs": [
        {
          "output_type": "stream",
          "name": "stdout",
          "text": [
            "리뷰    : 갈비 진짜 너무 맛있네용 반신반의 하면서 시 켯 는데 갈비 맛 나구 진짜 맛 잇 어유 치킨 도 구 웃 잘 먹었 슴 당\n",
            "답변    : 안녕하세요 맛있게 드셔주셔서 감사합니다 치킨 조합 정말 별미 고객 님 께서 치킨 이 땡기실 때 마다 저희 가 생각나도록 더욱 열심히 하겠습니다 아 주문 정말 감사 드리고 다음 에 또 봐요\n"
          ]
        },
        {
          "output_type": "stream",
          "name": "stderr",
          "text": [
            "/usr/local/lib/python3.10/dist-packages/transformers/generation/configuration_utils.py:367: UserWarning: `do_sample` is set to `False`. However, `top_p` is set to `0.95` -- this flag is only used in sample-based generation modes. You should set `do_sample=True` or unset `top_p`.\n",
            "  warnings.warn(\n",
            "/usr/local/lib/python3.10/dist-packages/transformers/generation/configuration_utils.py:377: UserWarning: `do_sample` is set to `False`. However, `top_k` is set to `5` -- this flag is only used in sample-based generation modes. You should set `do_sample=True` or unset `top_k`.\n",
            "  warnings.warn(\n"
          ]
        },
        {
          "output_type": "stream",
          "name": "stdout",
          "text": [
            "예측답변: 저희 음식이 입맛에 맞았다면 지금처럼 힘든 시기는 없었을 것이라 생각하는데 고객 여러분의 소중한 후기 덕분입니다 감사합니다.\n",
            "BLEU점수: 0.2696986267476108\n",
            "==============================\n",
            "리뷰    : 맛있는 냄새 에 잘 먹을게요 비 조리 인데 아쉽게 리뷰 이벤트 안 적어서 인지 사리 가 없네요\n",
            "답변    : 에 이 쿵 아쉬워서 어 쩌지 요 말 씀이 없으시면 챙겨 드리 기 가 힘듭니다 다음 에는 꼭 적어 주세요 더 맛있게 드실 수 있게 같이 드릴게요\n",
            "예측답변: 저희가 이 부분은 운영을 이쪽에서 하기 때문에 고객님들이 불편을 많이 느끼셨겠습니다만 양해 부탁드립니다.\n",
            "BLEU점수: 3.176496675533262e-78\n",
            "==============================\n",
            "리뷰    : 옆집 문 앞 에 배달 해주셨네요 맛있어서 다 먹고 사짘 찍어 버렸어요 잘 먹었습니다\n",
            "답변    : 앗 죄송합니다 고객 님 그래도 너그러이 이해 해주시고 리뷰 까지 남겨주셔서 너무 감사해요 더 노력 하는 되겠습니다 늘 행복하세용\n"
          ]
        },
        {
          "output_type": "stream",
          "name": "stderr",
          "text": [
            "/usr/local/lib/python3.10/dist-packages/nltk/translate/bleu_score.py:552: UserWarning: \n",
            "The hypothesis contains 0 counts of 4-gram overlaps.\n",
            "Therefore the BLEU score evaluates to 0, independently of\n",
            "how many N-gram overlaps of lower order it contains.\n",
            "Consider using lower n-gram order or use SmoothingFunction()\n",
            "  warnings.warn(_msg)\n"
          ]
        },
        {
          "output_type": "stream",
          "name": "stdout",
          "text": [
            "예측답변: 안녕하세요 고객 님 다음에도 더 좋은 서비스와 맛있는 요리로 찾아 뵙겠습니다.\n",
            "BLEU점수: 0.24830724520513484\n",
            "==============================\n",
            "리뷰    : 몸 이 안좋아서 시켜 봤는데 양도 많고 맛 도 좋아요\n",
            "답변    : 리뷰 남겨주셔서 감사합니다 칭찬 해 주시 니 힘 이 팍팍 나네요 저희 음식 이 기력 을 회복하시는데 도움 이 되기만 한다면 그것 만으로도 너무나 행복합니다 발전 하는 맛 과 좋은 서비스\n",
            "예측답변: 고객 여러분 감사합니다 이렇게 좋은 요리 만들어 주셔서 요즘 같이 힘든 시기에 정말 감사드립니다.\n",
            "BLEU점수: 0.22491637465159936\n",
            "==============================\n",
            "리뷰    : 먹고나면 속이 편하고 확실히 맛있어요 가라 아케 도 오랜 만 에 시켜 먹었는데 잘 먹었습니다\n",
            "답변    : 반갑습니다 오늘 도 맛있게 드시고 예쁜 사진 리뷰 정말 감사 드립니다\n",
            "예측답변: 고객 님 맛있게 먹어주셔서 감사합니다.\n",
            "BLEU점수: 0.19154624426653655\n",
            "==============================\n",
            "리뷰    : 맛 도 좋고 배달 도 빨 라서 따뜻하게 맛있게 먹었어요\n",
            "답변    : 즐거운 시간 보내시고 소중한 리뷰 작성 해주셔서 감사 드려요 메뉴 별로 가장 맛있는 온도 가 있다고 해 요 많은 분 들 이 매장 에서 찾아주시는 이유 이기도 하죠 저희 도 이러한\n",
            "예측답변: 당일 삶은 보쌈 직접 담근 양념과 신선한 음식 재료로 고객 밥상에 항상 오르는 것이 바로 이 요리입니다 맛있게 먹어 주셔서 감사합니다\n",
            "BLEU점수: 0.07196816797546395\n",
            "==============================\n",
            "리뷰    : 폴트 버거 너무 맛있고 감자 튀김 도 정말 맛있네요 배달 도 빨리 해주셔서 따뜩하 게 잘 먹었어요 포장 도 너무 예쁘고 테니스 컨셉 매장 도 꼭 한번 가보고싶어요\n",
            "답변    : 소중한 리뷰 글 감사 드립니다 저희 항상 고객 님 을 향 한 마음 으로 맛있는 수제 찾아 뵙도록 노력 하겠습니다 감사합니다\n",
            "예측답변: 당일 삶은 삼겹살과 직접 담근 김치, 그리고 신선한 식자재를 가지고 고객 밥상에 매번 정성을 다하는 요리 연구가 계속 되고 있습니다.\n",
            "BLEU점수: 0.14232480414603516\n",
            "==============================\n",
            "리뷰    : 맛 나 요 오오\n",
            "답변    : 감사합니다아 요즘 날 이 적당히 더워지니 딸 바나 가볍고 시원한 음료 들 을 많이 찾 아들 주셔요 어떻게 딱 고객 님 입맛 에도 맞은 것 같아 봄봄 은 넘 넘 기쁩니당\n",
            "예측답변: 저희가 맛있게 먹고 좋은 평과 함께 남겨 주시면 고객님께 감사의 뜻을 전하고 더욱 좋은 제품으로 보답하겠습니다.\n",
            "BLEU점수: 0.08678235380808792\n",
            "==============================\n",
            "리뷰    : 생각 했던거보다 양 이 엄청 많아서 좋았어요 볶음밥 은 생각 보다 매콤 하네요 면 국물 밥 한 입 씩 먹으니까 어울리고 좋네요 메인 메뉴 들 은 넘 훌륭한고 맛있었습니다 근 더\n",
            "답변    : 안녕하세요 의 찾아주시고 주문 해 주셔서 너무 감사합니다 고객 님 다음 에도 만 리뷰 를 받을 수 있도록 더 맛있게 그리고 빠르게 배달 해 드리도록 노력 하겠습니다 너무 감사합니다 주 마음\n",
            "예측답변: 고객 여러분 감사합니다 이렇게 좋은 요리 만들어 주셔서 요즘 같이 힘든 시기에 정말 감사드립니다.\n",
            "BLEU점수: 0.2339239681458804\n",
            "==============================\n",
            "리뷰    : 컵밥 양 이 적당해서 자꾸 시켜 먹게되 요\n",
            "답변    : 감사합니다 고객 님 좋은 하루 보내세요\n",
            "예측답변: 고객 여러분 저희 요리를 맛있게 만들어 주시면 항상 감사하겠습니다.\n",
            "BLEU점수: 0.2428093818797127\n",
            "==============================\n"
          ]
        }
      ]
    },
    {
      "cell_type": "code",
      "source": [
        "# 0905 데이터 + 긍부정 비율 5:5 + 에폭 30\n",
        "STATEDICT_PATH = '/content/drive/MyDrive/project_final/data/models/yogiyo_0905.pt'\n",
        "model.load_state_dict(torch.load(STATEDICT_PATH))\n",
        "random_evaluation_10(model, test_dataset, dataset.wordvocab.index2word, device)"
      ],
      "metadata": {
        "colab": {
          "base_uri": "https://localhost:8080/"
        },
        "id": "FXshMzF6T50T",
        "outputId": "bafd5713-ea02-4a1b-9142-fb8960e79c8a"
      },
      "execution_count": null,
      "outputs": [
        {
          "output_type": "stream",
          "name": "stdout",
          "text": [
            "리뷰    : 간장 은 묽어서 좀 아쉬운데 나머진 맛 잇어요\n",
            "답변    : 고객 님 안녕하세요 골라 먹는 부천대 주문 에 맛있게 드셔 주셔서 정말 감사합니다 맛있게 드셨다는 칭찬 은 언제 들어도 참 기분 이 좋아지는 그런 말 인거 같아요 덕분 에 힘든 시기\n",
            "예측답변: 고객 님 소중한 리뷰 감사합니다 저희는 저희 민의의 고기를 두 툼 하 게 썰고 있습니다 광어 도미 등 이 이 이 저희 매장으로 연락 주세요 묻고 따지지\n",
            "BLEU점수: 0.1506279696450486\n",
            "==============================\n",
            "리뷰    : 오 여기 좋네요 시켜놓고 낮잠 자 다가 늦게 먹었긴 했는데 진짜 빨리 와요\n",
            "답변    : 감사합니다 주문 즉시 최대한 빨리 조리 해서 보내 드리고있어요 빠른 베차 시 스팀 이기 에 고객 님 들이 우선 적 으로 잡아 가는 편이 에요\n",
            "예측답변: 안녕하세요 고객 님 소중한 리뷰 감사합니다 주셔서 감사합니다 감사드립니다 항상 고객 님의 소리는 저희를 춤추게 합니다 앞으로 계속해서 정성스러운 음식을 제공해 드리도록 약속\n",
            "BLEU점수: 0.18665030216111525\n",
            "==============================\n",
            "리뷰    : 닭발 좋아해서 여기저기 주문 해서 먹는데 공주 닭발 맛있습니다 배달 도 무지 빠르고 센스 있는 서비스 까지 감사합니다 맛있게 잘 먹었습니다\n",
            "답변    : 항상 같은 맛 유지 하도록 노력 할게요 항상 맛 과 청결 에 정성 을 다 하겠습니다 주문 해주셔서 감사합니다\n",
            "예측답변: 고객 님 소중한 리뷰 감사합니다 감사드립니다 고객 님의 만족을 위해 노력하는 되겠습니다 즐거운 시간 보내시고 행복한 나날 되세요\n",
            "BLEU점수: 0.18289441873227932\n",
            "==============================\n",
            "리뷰    : 최고 너무 맛있고 배달 도 빠르고 잘 먹었습니다\n",
            "답변    : 반갑습니다 맛있게 드셔주시고 잊지 않고 리뷰 남겨 주심 에 큰 힘 을 얻습니다 늘 변함 없는 맛 과 친절한 서비스 로 보답 하겠습니다 항상 행복하세요\n",
            "예측답변: 안녕하세요 고객 님 저희 매장으로 찾아뵙겠습니다\n",
            "BLEU점수: 0.0218228208440802\n",
            "==============================\n",
            "리뷰    : 오늘 은 주 문 한 거 빠짐 없이 잘 왔어요 오랜 만 에 마라샹궈 시켰는데 맛있었어요 단무지 좀 꼭 챙겨주세요 매운데 단무지 까지 없어서 밥 만 왕창\n",
            "답변    : 저희 체크 미스 로 누락 되였군요 정말 죄송합니다 다음 주문 시 주 문 메모 에 적어주시면 꼼꼼히 체크 해서 오늘 누락 된 꼭 넣어 드리겠습니다 고객 님 다음주 문시 주 문\n",
            "예측답변: 고객 님 주문해 주셔서 감사합니다 배달 은 근거리 배달로 25 35분 사이에 문제 가을 죄송합니다 죄송합니다 다음부터는 이런 일이 없도록 하겠습니다 감사합니다\n",
            "BLEU점수: 0.24462767974432714\n",
            "==============================\n",
            "리뷰    : 맛 은 그럭저럭 괜찮았는데 김치양 이 부족하더군요 부대찌개 속 에 햄 은 많았는데 김치 가 적어서 저희 커플 에게는 다른 곳 보다는 조금 더 느끼했어요\n",
            "답변    : 저희 이용 해 주셔서 감사합니다 저희 매장 은 기본 레시피 보다 더 많은 양 의 김치 를 넣어 드리고 있습니다 다만 과유 불급 이라는 말 이 있듯이 자칫 과 한 계량\n",
            "예측답변: 안녕하세요 고객 님 우선 주문해 주셔서 정말 죄송합니다 죄송합니다 다음에 꼭 요청 사항에 적어주시면 꼼꼼히 체크하겠습니다 감사합니다\n",
            "BLEU점수: 0.1575431030268005\n",
            "==============================\n",
            "리뷰    : 맛 나네요 재 주문 할게요\n",
            "답변    : 리뷰 감사 드립니다 3 키로 이상 급 의 광어 와 1 킷노급 의 우럭 그리고 제 철회 를 곁들인 죽변항 모 둠 사시미 는 두 툼 하 게 썰기에 식감 이나\n",
            "예측답변: 고객 님 소중한 고객 님 소중한 리뷰 와 저희에게 큰 힘 이 나네요 맛있게 드셨다니 너 어어 어 무 기쁜 네 용 항상 고객 님의 만족을 위해 노력\n",
            "BLEU점수: 2.7543940858707633e-78\n",
            "==============================\n",
            "리뷰    : 다른 배달 음식 보다 간이 슴슴해 서 좋아요 맛 도 있고 양도 많네요\n",
            "답변    : 고객 님 안녕하세요 시간 내어 리뷰 작성 해주셔서 정말 감사합니다 항상 고객 님 들 주문 하나 하나 에 정성 을 담아 대접 하겠습니다 믿고 드실수있는 기억 해주세용 감사합니다 찜 댓글 무료\n"
          ]
        },
        {
          "output_type": "stream",
          "name": "stderr",
          "text": [
            "/usr/local/lib/python3.10/dist-packages/nltk/translate/bleu_score.py:552: UserWarning: \n",
            "The hypothesis contains 0 counts of 4-gram overlaps.\n",
            "Therefore the BLEU score evaluates to 0, independently of\n",
            "how many N-gram overlaps of lower order it contains.\n",
            "Consider using lower n-gram order or use SmoothingFunction()\n",
            "  warnings.warn(_msg)\n"
          ]
        },
        {
          "output_type": "stream",
          "name": "stdout",
          "text": [
            "예측답변: 주문해 주셔서 감사합니다 드립니다 다음에 또 주문해 주세요\n",
            "BLEU점수: 0.06122493138554343\n",
            "==============================\n",
            "리뷰    : 전체 적 으로 맛있네요 하와 이안 에 코코넛 은 좀 그렇긴 한데 요 기 서 만 계속 피자 먹네요\n",
            "답변    : 맛있게 드셔주시고 소중한 리뷰 달아주셔서 정말 감사 드립니다\n",
            "예측답변: 안녕하세요 고객 님 저희 매장을 찾아주셔서 너무 감사드립니다 앞으로도 저희 음식을 이용해 주셔서 정말 감사드립니다 다음에 또 주문해 주세요\n",
            "BLEU점수: 0.18463832893957804\n",
            "==============================\n",
            "리뷰    : 사장 님 맛있게 잘 먹었습니다 번창 하세요\n",
            "답변    : 안녕하세요 고객 님 맛있게 드시고 소중한 리뷰 와 별 5 개 감사합니다 언제 주문 하셔도 푸 짐 하고 맛있는 닭발 을 위해 항상 최선 을 다 하겠습니다 앞 으로도 많은 사랑\n",
            "예측답변: 안녕하세요 고객 님 맛있게 드시고 소중한 리뷰 남겨주셔서 정말 감사합니다 드립니다 고객 님의 소리는 저희를 춤추게 합니다 앞으로 계속해서 정성스러운 음식을 제공해 드리도록 약속\n",
            "BLEU점수: 0.4093854533293307\n",
            "==============================\n"
          ]
        }
      ]
    },
    {
      "cell_type": "code",
      "source": [
        "# yogiyo 전체데이터 모델링\n",
        "STATEDICT_PATH = '/content/drive/MyDrive/project_final/data/models/yogiyo_paraphrase.pt'\n",
        "model.load_state_dict(torch.load(STATEDICT_PATH))\n",
        "random_evaluation_10(model, test_dataset, dataset.wordvocab.index2word, device)"
      ],
      "metadata": {
        "colab": {
          "base_uri": "https://localhost:8080/"
        },
        "id": "QM_XBLmJ5lCu",
        "outputId": "150344fa-b124-439a-be20-eba9024d3a2d"
      },
      "execution_count": null,
      "outputs": [
        {
          "output_type": "stream",
          "name": "stdout",
          "text": [
            "리뷰    : 먹을만 합니다 추천 해 요\n",
            "답변    : 좋은 리뷰 감사 드립니다 저희 은 리뷰 평점 이나 표면 적 으로만 좋은 집 이 아닌 드셧 던 분들 이 믿고 다시 드시고싶은 집 이 되자 라는 마음 으로 모두 가\n",
            "예측답변: 고객 님 소중한 고객 네 이 이임 이임 맛있게 드셨다니 너 어어 어 무 기쁜 네 용 만족스러운 식사하셨다면에 용 만족스러운 식사하셨다면 찜 가\n",
            "BLEU점수: 1.7456357302038282e-78\n",
            "==============================\n",
            "리뷰    : 여친 이 너무 맛있게 잘 먹었답니다 감사합니다 사장 님 번창 하세요\n",
            "답변    : 안녕하세요 토핑 을 아끼지 않는 미 미 주문 주시 고 리뷰 로 찾아와 주셔서 정말 감사 드립니다 앞 으로도 맛있는 생각나실 때 저희 미 또 찾아주세요 감사합니다\n",
            "예측답변: 맛있게 드셔주셔서 감사합니다 요청 사항 은 조 리전 늘 꼼꼼하게 체크하고 있으니 필요하신 사항 있으시면 다음 주 문 시 주 문 메모에 남겨주세요 최대한 반영해서 보내 드리겠습니다 믿고 주문해\n",
            "BLEU점수: 0.1556563403952443\n",
            "==============================\n",
            "리뷰    : 주말 의 마무리 는 역시\n",
            "답변    : 고객 님 리뷰 에 몸 이 절로 들썩입니다 시간 날 때 마다 리뷰 훑어 보며 반응 살피 고 있는데 덕분 에 넘 힘 이나고 힐링 이 되네요 리뷰 너무 감사 드립니다\n",
            "예측답변: 안녕하세요 고객 님 소중한 리뷰 남겨주셔서 감사합니다 저희 큰아들 백 순대는 항상 맛있는 서비스를 해드리기 위해 서 노력하고 있습니다 사용되는 모든 곱창 은 국내 산 제 주산\n",
            "BLEU점수: 0.12288378213016357\n",
            "==============================\n",
            "리뷰    : 고기 가 맛있어요 사장 님 이 서비스 로 쌈장 도 주셨어요 배달 도 예상 시간 보다 빠흐 게 옵니다\n",
            "답변    : 저희 목살 만족스럽고 맛있게 잘 드셨다니 기쁩니다 소중한 리뷰 와 저희 에게 큰 힘 을 주는 좋은 평가 남겨 주셔서 정말 감사 드립니다 무더운 날씨 에 건강 잘 지키시고 오늘 도\n",
            "예측답변: 맛있게 드셔 주시 고 소중한 리뷰 남겨주셔서 감사합니다 만족스러운 식사하신 것 같아 오늘 도 힘 이 나네요 항상 정성을 담아 조리하여 더 좋은 맛으로 더 빠른 시간\n",
            "BLEU점수: 0.28770485502337556\n",
            "==============================\n",
            "리뷰    : 더말 할거 없이 맛 나 요\n",
            "답변    : 안녕하세요 저희 음식 이 입맛 에 맞으셨다니 정말 다행 이고 뿌듯합니다 코로나 로 인해 어려운시기에 찾아주셔서 감사하고 큰 힘 이 나네요 더말 할거 없이 맛있게 드신거 같아 감사합니다 다음주 문도 찾아주시는\n",
            "예측답변: 맛있게 드셔주셔서 감사드립니다 항상 푸 짐 하고 맛있는 음식으로 정성을 다 하겠습니다 맛 가성 비 다양성 어느 하나 빠짐없이 항상 맛있고 항상 부담 없는 김천 재의 앞\n",
            "BLEU점수: 0.18136401263866778\n",
            "==============================\n",
            "리뷰    : 먹을만 합니다 추천 해 요\n",
            "답변    : 소중한 주문 과 추천 리뷰 감사합니다 디져트 생각나실 때 또 모댄버 찾아 주시길 살포시 부탁드리며 즐거운 주말 보내세요\n",
            "예측답변: 고객 님 소중한 고객 네 이 이임 이임 맛있게 드셨다니 너 어어 어 무 기쁜 네 용 만족스러운 식사하셨다면에 용 만족스러운 식사하셨다면 찜 가\n",
            "BLEU점수: 0.046720072875303956\n",
            "==============================\n",
            "리뷰    : 집 에 부모님 만 계셔서 시켜 드렸는데 너무 잘 드셨다고 하네요 다음 에 또 아침 으로 먹어야겠어요\n",
            "답변    : 오늘 가장 기쁜 말씀 입니다 고객 님 의 칭찬 에 오늘 하루 가 행복해 집니다 그 댄 내게 행복 을 주는 사람 다음 에 또 뵙겠습니다 브런치 가 생각나실 때 다시\n",
            "예측답변: 저희 찾아주셔서 감사드립니다 고객 님의 정성스러운 리뷰에 감동입니다 앞으로도 저희 초심을 잃지 않고 최선을 다 하는 되겠습니다 좋은 하루 보내세요\n",
            "BLEU점수: 0.2561395183694013\n",
            "==============================\n",
            "리뷰    : 사장 님 제 정신 이세 요 이렇게 맛있는데 왜 이제야 오픈 하셨어요 진짜 정신 나갈 정도 로 맛있네 조만간 또 시킵니다 예 제 가 말 했어요 또 시킬거라고\n",
            "답변    : 안녕하세요 저희 라쿤 핏 바베큐 주문 해주셔서 감사합니다 고객 님 으로 리뷰 를 남겨주셨네요 맛있다고 칭찬 리뷰 적어주시니 너무 기쁩니다 앞 으로도 자주 뵈요 약속 하시는 겁니다 감사합니다 저희 라쿤 핏\n",
            "예측답변: 주문해 주셔서 감사합니다 언제나 맛있게 정성스럽게 만들어 보내 드립니다 맛있는 롤 이 생각 나시면 언제 든 연락 부탁드립니다 고맙습니다\n",
            "BLEU점수: 0.1523948989633799\n",
            "==============================\n",
            "리뷰    : 직접 포장 하러 갔다 사장 님 친절하도 맛 도 최고\n",
            "답변    : 안녕하세요 저희 는 늘 더욱더 나은 맛 과 서비스 어떻게 제공 해 드릴 지 연구 하며 발전 하려 애쓰고 있습니다 저희 노력 이 담긴 결과물 이니 드시고 매번 행복하셨으면 좋겠습니다 즐거운\n",
            "예측답변: 맛있게 드셨다니 저희 도 기분 이 좋습니다 정성스러운 리뷰 도 너무 감사드립니다 앞으로도 더 맛있는 파스타 제공 드릴 수 있도록 직원분들 과 함께 신경 쓰고 노력하겠습니다\n",
            "BLEU점수: 0.20655466685947044\n",
            "==============================\n",
            "리뷰    : 처음 먹어 보늅데 맛 이 담백하고 좋아요\n",
            "답변    : 리뷰 감사합니다 키토 김밥 이 처음 이신 데 성공 적 이 셔 서 다행 입니다 앞 으로도 많은 사랑 부탁 드려요\n",
            "예측답변: 소중한 리뷰 감사합니다 저희 저 온 숙성 유기농 5 곡 도우 귀리 흑 미 현미 보리 밀 자연 산 치즈 와 신선한 재료를 매일 손질하여 토핑 하고 있습니다 재료\n",
            "BLEU점수: 0.1267739972573719\n",
            "==============================\n"
          ]
        }
      ]
    },
    {
      "cell_type": "code",
      "source": [
        "# yogiyo 전체데이터 모델링\n",
        "STATEDICT_OV_PATH = '/content/drive/MyDrive/project_final/data/models/yogiyo_paraphrase_clean.pt'\n",
        "model.load_state_dict(torch.load(STATEDICT_OV_PATH))\n",
        "random_evaluation_10(model, test_dataset, train_dataset.wordvocab.index2word, device)"
      ],
      "metadata": {
        "colab": {
          "base_uri": "https://localhost:8080/"
        },
        "id": "BUZV2McfZPoS",
        "outputId": "0aca32dd-a0ee-4c5b-e37f-20e14c5b897b"
      },
      "execution_count": null,
      "outputs": [
        {
          "output_type": "stream",
          "name": "stdout",
          "text": [
            "리뷰    : 주문 에 후라이드 잇 슈가 있었지만 다 맛있었습니다\n",
            "답변    : 저희 을 항상 찾아주시고 성원 해주시는 분 들 께 감사 의 뜻 을 전하 고 싶을 만큼 귀한 시간 내어 주셔서 감사합니다 .\n",
            "예측답변: 항상 저희 직구 삼이 직구 삼이 되도록 노력 직구 삼이 되도록 노력 하겠습니다 감사합니다 .\n",
            "BLEU점수: 0.14828218247800706\n",
            "==============================\n",
            "리뷰    : 맛있습니다 배달 도 빠르고 양도 많아오\n",
            "답변    : 항상 건강하고 행복한 나날 들 이 되시길 기원 합니다 . 고객 님 들의 소중한 정보 감사 드립니다 .\n",
            "예측답변: 항상 건강하고 행복한 나날 들 이 되시길 기원 합니다 .\n",
            "BLEU점수: 0.4464393987758162\n",
            "==============================\n",
            "리뷰    : 디저트 하나 하나 다 맛있어요 휘 낭시 에 랑 소금 빵 완전 맛있어요 이 즈 니 버터 프레첼 은 팥 앙금 들어있는건 줄 알았는데 다시 보니 아니더라 규 요 그치만 이\n",
            "답변    : 이 즈 니 버터 프리첼 의 팥 앙금 버전 앙 버터 도 뚜레쥬르 팀 에 제안 해 보겠습니다 .\n",
            "예측답변: 이 즈 니 버터 프리첼 의 팥 앙금 버전 앙 버터 도 뚜레쥬르 팀 에 제안 해 보겠습니다 .\n",
            "BLEU점수: 1.0\n",
            "==============================\n",
            "리뷰    : 국물 이 깔끔하고 맛있어요 또 먹고 싶은 맛 이네 요\n",
            "답변    : 저희 국밥 을 많이 사랑 해 주세요 :) 항상 최선 을 다해 준비 하는 만큼 더 좋은 맛 과 영양 으로 보답 하겠습니다 .\n",
            "예측답변: 저희 국밥 을 많이 사랑 해 주세요 :) 항상 최선 을 다해 준비 하는 만큼 더 좋은 맛 과 영양 으로 보답 하겠습니다 .\n",
            "BLEU점수: 1.0\n",
            "==============================\n",
            "리뷰    : 커피 도 부드럽고 다 맛 나네요 잘 먹었습니다\n",
            "답변    : 항상 정갈한 브런치 맛있는 브런치 준비 하고 고객 님 기다릴게요 곧 또 만나요 그때 까지 행복한 시간 되세요 .\n",
            "예측답변: 항상 정갈한 브런치 는 브런치 준비 가 준비 기다릴게요 기다릴게요 곧 또 찾아주세요 행복한 하루 되세요 .\n",
            "BLEU점수: 0.5833316665807692\n",
            "==============================\n",
            "리뷰    : 맛 잇어요 근데 3 단계 인데 하나 도 안 매워요 마라 탕 매운 맛 에 먹는데 불닭 정도 생각 하고 시켰는데 제 기준 신라면 도 안되는것 같은 담 엔 4 단계\n",
            "답변    : 항상 최선 을 다해 요리 해 드리고 있으니 다음 에도 또 좋은 요리 로 찾아오겠습니다 .\n",
            "예측답변: 항상 최선 을 다해 준비 해 드리고 있으니 다음 에도 또 주문 해 주세요 .\n",
            "BLEU점수: 0.5898489463407574\n",
            "==============================\n",
            "리뷰    : 오랫 만 에 시켰는데 전보 다 더 맛있어진것 같아요 당 땡겨서 시켰는데 제대로 충전 됐어요\n",
            "답변    : 무더운 여름 날 에 더 맛있게 드실 수 있는 만들어 보겠습니다 .\n",
            "예측답변: 무더운 여름 날 에 더 맛있게 드실 수 있는 요리 으로 만들어 보겠습니다 .\n",
            "BLEU점수: 0.8322850781571215\n",
            "==============================\n",
            "리뷰    : 진짜 이 동네 에서 젤 맛있는것 같아요\n",
            "답변    : 항상 노력 하는 만큼 더 좋은 요리 로 보답 하겠습니다 . 감사합니다 .\n",
            "예측답변: 항상 노력 하는 만큼 더 좋은 요리 로 보답 하겠습니다 . 감사합니다 .\n",
            "BLEU점수: 1.0\n",
            "==============================\n",
            "리뷰    : 분량 도 넉넉하고 맛 도 좋습니다\n",
            "답변    : 항상 고객 님 들께 감사 의 마음 을 전하 며 맛있는 음식 을 만들어 드리는 되 기를 기원 합니다 .\n",
            "예측답변: 항상 고객 님 들께 감사 의 마음 을 전하 며 맛있는 음식 을 만들어 드리는 되 기를 기원 합니다 .\n",
            "BLEU점수: 1.0\n",
            "==============================\n",
            "리뷰    : 맛있어요 양도 많고 서비스 도 주시 고\n",
            "답변    : 좋은 서비스 를 제공 해 주신 만큼 앞 으로도 좋은 서비스 로 찾아 뵐게요 감사합니다 .\n",
            "예측답변: 좋은 서비스 를 제공 해 주신 고객 님 께 감사 의 마음 을 전하 고 앞 으로도 더 좋은 요리 와 서비스 로 찾아 뵙겠습니다 .\n",
            "BLEU점수: 0.5060228739223169\n",
            "==============================\n"
          ]
        }
      ]
    }
  ]
}
