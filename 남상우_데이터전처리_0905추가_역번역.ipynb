{
  "cells": [
    {
      "cell_type": "markdown",
      "metadata": {
        "id": "view-in-github",
        "colab_type": "text"
      },
      "source": [
        "<a href=\"https://colab.research.google.com/github/swoo-nam/project_final_team1/blob/main/%EB%82%A8%EC%83%81%EC%9A%B0_%EB%8D%B0%EC%9D%B4%ED%84%B0%EC%A0%84%EC%B2%98%EB%A6%AC_0905%EC%B6%94%EA%B0%80_%EC%97%AD%EB%B2%88%EC%97%AD.ipynb\" target=\"_parent\"><img src=\"https://colab.research.google.com/assets/colab-badge.svg\" alt=\"Open In Colab\"/></a>"
      ]
    },
    {
      "cell_type": "code",
      "execution_count": null,
      "metadata": {
        "id": "zPaUshpXAAkI"
      },
      "outputs": [],
      "source": [
        "# !pip install kiwipiepy"
      ]
    },
    {
      "cell_type": "code",
      "execution_count": null,
      "metadata": {
        "id": "Rw6lvFBYgWt2"
      },
      "outputs": [],
      "source": [
        "# !pip install konlpy"
      ]
    },
    {
      "cell_type": "code",
      "execution_count": null,
      "metadata": {
        "id": "NQZhQ4jE30ba"
      },
      "outputs": [],
      "source": [
        "# !pip install transformers"
      ]
    },
    {
      "cell_type": "code",
      "execution_count": null,
      "metadata": {
        "id": "9FZFIwQDFSjp"
      },
      "outputs": [],
      "source": [
        "# !pip install optuna"
      ]
    },
    {
      "cell_type": "code",
      "execution_count": null,
      "metadata": {
        "colab": {
          "base_uri": "https://localhost:8080/"
        },
        "id": "f4ZVXFzhuuTv",
        "outputId": "b37ca695-d600-48a0-d76d-62e2e99c1a8d"
      },
      "outputs": [
        {
          "name": "stdout",
          "output_type": "stream",
          "text": [
            "Mounted at /content/drive\n"
          ]
        }
      ],
      "source": [
        "# from google.colab import drive\n",
        "# drive.mount('/content/drive')"
      ]
    },
    {
      "cell_type": "code",
      "execution_count": null,
      "metadata": {
        "id": "QDE8QJtGMEOz"
      },
      "outputs": [],
      "source": [
        "import torch\n",
        "import torch.nn as nn\n",
        "from torch import optim\n",
        "import torch.nn.functional as F\n",
        "from torch.utils.data.dataset import Dataset\n",
        "\n",
        "from sklearn.utils import resample"
      ]
    },
    {
      "cell_type": "code",
      "execution_count": null,
      "metadata": {
        "id": "RYKkRvZU9Yk5"
      },
      "outputs": [],
      "source": [
        "import warnings\n",
        "%config InlineBackend.figure_format = 'retina'\n",
        "warnings.filterwarnings(\"ignore\")\n",
        "%matplotlib inline"
      ]
    },
    {
      "cell_type": "code",
      "execution_count": null,
      "metadata": {
        "colab": {
          "base_uri": "https://localhost:8080/",
          "height": 35
        },
        "id": "10dsMhpDu1rd",
        "outputId": "a1c397fa-8996-44b1-84d1-db2caa7e9a49"
      },
      "outputs": [
        {
          "data": {
            "text/plain": [
              "'cpu'"
            ]
          },
          "execution_count": 3,
          "metadata": {},
          "output_type": "execute_result"
        }
      ],
      "source": [
        "import pandas as pd\n",
        "import numpy as np\n",
        "import re\n",
        "from tqdm.auto import tqdm\n",
        "import random\n",
        "import os\n",
        "\n",
        "def reset_seeds(seed):\n",
        "    random.seed(seed)\n",
        "    os.environ['PYTHONHASHSEED'] = str(seed)\n",
        "    np.random.seed(seed)\n",
        "    torch.manual_seed(seed)\n",
        "    torch.cuda.manual_seed(seed)\n",
        "    torch.backends.cudnn.deterministic = True\n",
        "\n",
        "# DATA_PATH = \"/content/drive/MyDrive/project_final/data/\"\n",
        "DATA_PATH = \"C:\\python-code\\project_final\\data/\"\n",
        "SEED = 42\n",
        "\n",
        "device = 'cuda' if torch.cuda.is_available() else 'cpu'\n",
        "device"
      ]
    },
    {
      "cell_type": "markdown",
      "metadata": {
        "id": "VwJecjdYAEVY"
      },
      "source": [
        "# 데이터 불러오기"
      ]
    },
    {
      "cell_type": "markdown",
      "metadata": {
        "id": "KE5MH7ONb_h8"
      },
      "source": [
        "- 0905 추가 데이터 + 텍스트 정제 + 가게명/음식명 삭제 + 오버샘플링(paraphrased) + 맞춤법 검사 반영된 데이터"
      ]
    },
    {
      "cell_type": "code",
      "execution_count": null,
      "metadata": {
        "colab": {
          "base_uri": "https://localhost:8080/",
          "height": 424
        },
        "id": "Snc2RtpHCJKV",
        "outputId": "7fa46197-915f-401a-bfc6-65b91815cdfc"
      },
      "outputs": [
        {
          "data": {
            "text/html": [
              "<div>\n",
              "<style scoped>\n",
              "    .dataframe tbody tr th:only-of-type {\n",
              "        vertical-align: middle;\n",
              "    }\n",
              "\n",
              "    .dataframe tbody tr th {\n",
              "        vertical-align: top;\n",
              "    }\n",
              "\n",
              "    .dataframe thead th {\n",
              "        text-align: right;\n",
              "    }\n",
              "</style>\n",
              "<table border=\"1\" class=\"dataframe\">\n",
              "  <thead>\n",
              "    <tr style=\"text-align: right;\">\n",
              "      <th></th>\n",
              "      <th>review</th>\n",
              "      <th>reply</th>\n",
              "      <th>star</th>\n",
              "    </tr>\n",
              "  </thead>\n",
              "  <tbody>\n",
              "    <tr>\n",
              "      <th>0</th>\n",
              "      <td>저도 모르게 은근 여기 자주 시켜 먹고 있었네요 늘 잘 먹고 있습니다</td>\n",
              "      <td>저희 메뉴 맛있죠 이렇게 빠져드시는 거예요 그냥 일로서 만드는 게 아니라 진짜 제 ...</td>\n",
              "      <td>5</td>\n",
              "    </tr>\n",
              "    <tr>\n",
              "      <th>1</th>\n",
              "      <td>김치찌개 된장찌개 잡채 다 잘 먹었습니다</td>\n",
              "      <td>전부 잘 드셔 주셔서 감사합니다 좋은 시간을 드리고 싶었어요 열심히 만들었다지만 다...</td>\n",
              "      <td>5</td>\n",
              "    </tr>\n",
              "    <tr>\n",
              "      <th>2</th>\n",
              "      <td>처음 시켜보는데 맛있고 리뷰 서비스도 괜찮네요 다음에도 또 시킬 듯요</td>\n",
              "      <td>안녕하세요 저희 매장을 처음 찾아주신 고객님이시네요 처음 방문이라 주문해 주시기 망...</td>\n",
              "      <td>5</td>\n",
              "    </tr>\n",
              "    <tr>\n",
              "      <th>3</th>\n",
              "      <td>맛있습니다 근데 국물이 안 와서 아쉽습니다</td>\n",
              "      <td>안녕하세요 저희 측 실수로 인하여 누락이 되었군요 이에 대해서 사과 말씀드립니다 다...</td>\n",
              "      <td>4</td>\n",
              "    </tr>\n",
              "    <tr>\n",
              "      <th>4</th>\n",
              "      <td>맛있게 잘 먹었습니다</td>\n",
              "      <td>헤헤 고객님 감사해요 맛있게 드셨다니 앞으로도 더 열심히 일할게요 좋은 하루 보내세요</td>\n",
              "      <td>5</td>\n",
              "    </tr>\n",
              "    <tr>\n",
              "      <th>...</th>\n",
              "      <td>...</td>\n",
              "      <td>...</td>\n",
              "      <td>...</td>\n",
              "    </tr>\n",
              "    <tr>\n",
              "      <th>26162</th>\n",
              "      <td>맛있어요 양도 많고 푸짐하고 아주 맛있어요 맛도 있고 아주 만족스러운 식사였습니다</td>\n",
              "      <td>맛있는 식사가 되셨기를 바랍니다 맛있는 식사 이용해 주셔서 감사합니다</td>\n",
              "      <td>4</td>\n",
              "    </tr>\n",
              "    <tr>\n",
              "      <th>26163</th>\n",
              "      <td>맛있게 잘 먹었습니다 맛있게</td>\n",
              "      <td>저희는 배달 대행업체인데 배달 중에 오류가 난 부분이 있으면 언제든지 연락 주시면 ...</td>\n",
              "      <td>4</td>\n",
              "    </tr>\n",
              "    <tr>\n",
              "      <th>26164</th>\n",
              "      <td>맛있게 잘 먹었어요 맛있게 잘</td>\n",
              "      <td>항상 좋은 음식으로 보답하는 것으로 보답하겠습니다 이용해 주셔서 감사합니다 더불어 ...</td>\n",
              "      <td>4</td>\n",
              "    </tr>\n",
              "    <tr>\n",
              "      <th>26165</th>\n",
              "      <td>괜찮네요 괜찮은 것 같아요 맛도 괜찮고 가격도 괜찮고</td>\n",
              "      <td>아무래도 매장에서 드시는 것보다는 조금 미흡할 수 있으나 여러모로 시행해 본 결과 ...</td>\n",
              "      <td>4</td>\n",
              "    </tr>\n",
              "    <tr>\n",
              "      <th>26166</th>\n",
              "      <td>진짜 맛있어요 특히 간장 양념이 너무 달지 않고 새콤해서 더 맛있게 느껴져요</td>\n",
              "      <td>많은 사랑 주셔서 감사드립니다 감사합니다 말씀드릴 것이 많은데도 불구하고 부족한 점...</td>\n",
              "      <td>4</td>\n",
              "    </tr>\n",
              "  </tbody>\n",
              "</table>\n",
              "<p>26167 rows × 3 columns</p>\n",
              "</div>"
            ],
            "text/plain": [
              "                                              review   \n",
              "0             저도 모르게 은근 여기 자주 시켜 먹고 있었네요 늘 잘 먹고 있습니다  \\\n",
              "1                             김치찌개 된장찌개 잡채 다 잘 먹었습니다   \n",
              "2             처음 시켜보는데 맛있고 리뷰 서비스도 괜찮네요 다음에도 또 시킬 듯요   \n",
              "3                           맛있습니다 근데 국물이 안 와서 아쉽습니다    \n",
              "4                                        맛있게 잘 먹었습니다   \n",
              "...                                              ...   \n",
              "26162  맛있어요 양도 많고 푸짐하고 아주 맛있어요 맛도 있고 아주 만족스러운 식사였습니다   \n",
              "26163                                맛있게 잘 먹었습니다 맛있게   \n",
              "26164                               맛있게 잘 먹었어요 맛있게 잘   \n",
              "26165                  괜찮네요 괜찮은 것 같아요 맛도 괜찮고 가격도 괜찮고   \n",
              "26166     진짜 맛있어요 특히 간장 양념이 너무 달지 않고 새콤해서 더 맛있게 느껴져요   \n",
              "\n",
              "                                                   reply  star  \n",
              "0      저희 메뉴 맛있죠 이렇게 빠져드시는 거예요 그냥 일로서 만드는 게 아니라 진짜 제 ...     5  \n",
              "1      전부 잘 드셔 주셔서 감사합니다 좋은 시간을 드리고 싶었어요 열심히 만들었다지만 다...     5  \n",
              "2      안녕하세요 저희 매장을 처음 찾아주신 고객님이시네요 처음 방문이라 주문해 주시기 망...     5  \n",
              "3      안녕하세요 저희 측 실수로 인하여 누락이 되었군요 이에 대해서 사과 말씀드립니다 다...     4  \n",
              "4        헤헤 고객님 감사해요 맛있게 드셨다니 앞으로도 더 열심히 일할게요 좋은 하루 보내세요     5  \n",
              "...                                                  ...   ...  \n",
              "26162             맛있는 식사가 되셨기를 바랍니다 맛있는 식사 이용해 주셔서 감사합니다     4  \n",
              "26163  저희는 배달 대행업체인데 배달 중에 오류가 난 부분이 있으면 언제든지 연락 주시면 ...     4  \n",
              "26164  항상 좋은 음식으로 보답하는 것으로 보답하겠습니다 이용해 주셔서 감사합니다 더불어 ...     4  \n",
              "26165  아무래도 매장에서 드시는 것보다는 조금 미흡할 수 있으나 여러모로 시행해 본 결과 ...     4  \n",
              "26166  많은 사랑 주셔서 감사드립니다 감사합니다 말씀드릴 것이 많은데도 불구하고 부족한 점...     4  \n",
              "\n",
              "[26167 rows x 3 columns]"
            ]
          },
          "execution_count": 4,
          "metadata": {},
          "output_type": "execute_result"
        }
      ],
      "source": [
        "train = pd.read_csv(f\"{DATA_PATH}yogiyo_reviews_0905_clean_remove_over.csv\")\n",
        "train"
      ]
    },
    {
      "cell_type": "code",
      "execution_count": null,
      "metadata": {
        "colab": {
          "base_uri": "https://localhost:8080/"
        },
        "id": "EMxWzLeH46Ny",
        "outputId": "01e6dadc-f147-46d1-9d81-bbfd402f14c9"
      },
      "outputs": [
        {
          "name": "stdout",
          "output_type": "stream",
          "text": [
            "Collecting translate\n",
            "  Downloading translate-3.6.1-py2.py3-none-any.whl (12 kB)\n",
            "Requirement already satisfied: click in c:\\python39\\lib\\site-packages (from translate) (8.1.6)\n",
            "Requirement already satisfied: lxml in c:\\python39\\lib\\site-packages (from translate) (4.9.2)\n",
            "Requirement already satisfied: requests in c:\\python39\\lib\\site-packages (from translate) (2.31.0)\n",
            "Collecting libretranslatepy==2.1.1 (from translate)\n",
            "  Downloading libretranslatepy-2.1.1-py3-none-any.whl (3.2 kB)\n",
            "Requirement already satisfied: colorama in c:\\python39\\lib\\site-packages (from click->translate) (0.4.6)\n",
            "Requirement already satisfied: charset-normalizer<4,>=2 in c:\\python39\\lib\\site-packages (from requests->translate) (3.1.0)\n",
            "Requirement already satisfied: idna<4,>=2.5 in c:\\python39\\lib\\site-packages (from requests->translate) (3.4)\n",
            "Requirement already satisfied: urllib3<3,>=1.21.1 in c:\\python39\\lib\\site-packages (from requests->translate) (2.0.3)\n",
            "Requirement already satisfied: certifi>=2017.4.17 in c:\\python39\\lib\\site-packages (from requests->translate) (2023.5.7)\n",
            "Installing collected packages: libretranslatepy, translate\n",
            "Successfully installed libretranslatepy-2.1.1 translate-3.6.1\n"
          ]
        }
      ],
      "source": [
        "!pip install translate"
      ]
    },
    {
      "cell_type": "code",
      "execution_count": null,
      "metadata": {
        "colab": {
          "base_uri": "https://localhost:8080/",
          "height": 35
        },
        "id": "t3QmDJiD34V8",
        "outputId": "3c55142d-2bfb-4b68-c115-b01f245b73bb"
      },
      "outputs": [
        {
          "data": {
            "text/plain": [
              "\"I don't really use reviews, but the amount costs 20,000 won and it's never the amount to eat. I'm not kidding.\""
            ]
          },
          "execution_count": 8,
          "metadata": {},
          "output_type": "execute_result"
        }
      ],
      "source": [
        "from translate import Translator\n",
        "\n",
        "ko = \"진짜리뷰안쓰는데 양이 2만원씩내고 먹을양은 절대아닙니다 장난하는것도아니고\"\n",
        "translator_ko2en = Translator(to_lang=\"en\", from_lang=\"ko\")\n",
        "ko2en = translator_ko2en.translate(ko)\n",
        "\n",
        "ko2en"
      ]
    },
    {
      "cell_type": "code",
      "execution_count": null,
      "metadata": {
        "colab": {
          "base_uri": "https://localhost:8080/",
          "height": 35
        },
        "id": "5z_ZVkjd34Tl",
        "outputId": "03bf5276-5834-415d-da8a-583ef757975e"
      },
      "outputs": [
        {
          "data": {
            "text/plain": [
              "'후기를 잘 안쓰는데 금액이 2만원이고 절대 먹을 금액이 아닙니다. 농담이 아닙니다.'"
            ]
          },
          "execution_count": 9,
          "metadata": {},
          "output_type": "execute_result"
        }
      ],
      "source": [
        "translator_en2ko = Translator(to_lang=\"ko\", from_lang=\"en\")\n",
        "en2ko = translator_en2ko.translate(ko2en)\n",
        "\n",
        "en2ko"
      ]
    },
    {
      "cell_type": "code",
      "execution_count": null,
      "metadata": {
        "id": "fuNdrOPz34RF",
        "outputId": "b974d357-fb21-4fe7-9234-2f4c9d817074"
      },
      "outputs": [
        {
          "name": "stdout",
          "output_type": "stream",
          "text": [
            "저도 모르게 은근 여기 자주 시켜 먹고 있었네요 늘 잘 먹고 있습니다\n",
            "I was eating here a lot without realizing it. I'm always eating well.\n",
            "저도 모르게 여기서 많이 먹고 있었어요. 항상 잘 먹고 있습니다.\n"
          ]
        }
      ],
      "source": [
        "print(train['review'][0])\n",
        "review_ko2en = translator_ko2en.translate(train['review'][0])\n",
        "print(review_ko2en)\n",
        "review_en2ko = translator_en2ko.translate(review_ko2en)\n",
        "print(review_en2ko)"
      ]
    },
    {
      "cell_type": "code",
      "execution_count": null,
      "metadata": {
        "id": "27LqzO3k34PF"
      },
      "outputs": [],
      "source": [
        "# 함수화\n",
        "from translate import Translator\n",
        "translator_ko2en = Translator(to_lang=\"en\", from_lang=\"ko\")\n",
        "translator_en2ko = Translator(to_lang=\"ko\", from_lang=\"en\")\n",
        "\n",
        "def back_translation(text):\n",
        "    ko2en = translator_ko2en.translate(text)\n",
        "    en2ko = translator_en2ko.translate(ko2en)\n",
        "    return en2ko"
      ]
    },
    {
      "cell_type": "code",
      "execution_count": null,
      "metadata": {
        "id": "hdk7nyLeCwb9",
        "outputId": "e0039881-67af-4678-dd4a-46d2e49b309b"
      },
      "outputs": [
        {
          "data": {
            "text/html": [
              "<div>\n",
              "<style scoped>\n",
              "    .dataframe tbody tr th:only-of-type {\n",
              "        vertical-align: middle;\n",
              "    }\n",
              "\n",
              "    .dataframe tbody tr th {\n",
              "        vertical-align: top;\n",
              "    }\n",
              "\n",
              "    .dataframe thead th {\n",
              "        text-align: right;\n",
              "    }\n",
              "</style>\n",
              "<table border=\"1\" class=\"dataframe\">\n",
              "  <thead>\n",
              "    <tr style=\"text-align: right;\">\n",
              "      <th></th>\n",
              "      <th>review</th>\n",
              "      <th>reply</th>\n",
              "      <th>star</th>\n",
              "    </tr>\n",
              "  </thead>\n",
              "  <tbody>\n",
              "    <tr>\n",
              "      <th>0</th>\n",
              "      <td>리뷰 이벤트 한다지만 너무 아닌 거 같아서 적습니다 배달이 20분 넘게 안 오길래 ...</td>\n",
              "      <td>안녕하세요 주신 리뷰 잘 읽었습니다 뒤돌아 보니 저희 응대에 미흡했던 이 있던 것 ...</td>\n",
              "      <td>1</td>\n",
              "    </tr>\n",
              "    <tr>\n",
              "      <th>1</th>\n",
              "      <td>만들어 놓은지 한참 된 커피 배달 예정 시간 25분이 지났어요</td>\n",
              "      <td>안녕하세요 배달이 늦어져 죄송합니다 한파로 길이 얼어서 고객님들이 상황이 여유치가 ...</td>\n",
              "      <td>1</td>\n",
              "    </tr>\n",
              "    <tr>\n",
              "      <th>2</th>\n",
              "      <td></td>\n",
              "      <td>사이드만 잔뜩 시키고 1</td>\n",
              "      <td>1</td>\n",
              "    </tr>\n",
              "    <tr>\n",
              "      <th>3</th>\n",
              "      <td>밥이 쉬었어요 단무지 때문도 아니고 김이 많아서 그런 것도 아니고 쉬어서 냄새가 나...</td>\n",
              "      <td>밥이 쉬다뇨 말도 안 되는 소리 좀 하지 마세요 진짜 먼 정신이 이상한 사람인가 하...</td>\n",
              "      <td>1</td>\n",
              "    </tr>\n",
              "    <tr>\n",
              "      <th>4</th>\n",
              "      <td>잠실점에 처음 시켜 먹었던 게 맛있어서 주문했더니 돈 은 나갔는데 다시 앱을 들어와...</td>\n",
              "      <td>요기요가 주문 앱에 렉이 자주 있어서 여러 가지로 혼돈이 있어 정말 죄송하게 되었습...</td>\n",
              "      <td>1</td>\n",
              "    </tr>\n",
              "    <tr>\n",
              "      <th>...</th>\n",
              "      <td>...</td>\n",
              "      <td>...</td>\n",
              "      <td>...</td>\n",
              "    </tr>\n",
              "    <tr>\n",
              "      <th>2383</th>\n",
              "      <td>맛있어요 양도 많고 푸짐하고 아주 맛있어요 맛도 있고 아주 만족스러운 식사였습니다</td>\n",
              "      <td>맛있는 식사가 되셨기를 바랍니다 맛있는 식사 이용해 주셔서 감사합니다</td>\n",
              "      <td>4</td>\n",
              "    </tr>\n",
              "    <tr>\n",
              "      <th>2384</th>\n",
              "      <td>맛있게 잘 먹었습니다 맛있게</td>\n",
              "      <td>저희는 배달 대행업체인데 배달 중에 오류가 난 부분이 있으면 언제든지 연락 주시면 ...</td>\n",
              "      <td>4</td>\n",
              "    </tr>\n",
              "    <tr>\n",
              "      <th>2385</th>\n",
              "      <td>맛있게 잘 먹었어요 맛있게 잘</td>\n",
              "      <td>항상 좋은 음식으로 보답하는 것으로 보답하겠습니다 이용해 주셔서 감사합니다 더불어 ...</td>\n",
              "      <td>4</td>\n",
              "    </tr>\n",
              "    <tr>\n",
              "      <th>2386</th>\n",
              "      <td>괜찮네요 괜찮은 것 같아요 맛도 괜찮고 가격도 괜찮고</td>\n",
              "      <td>아무래도 매장에서 드시는 것보다는 조금 미흡할 수 있으나 여러모로 시행해 본 결과 ...</td>\n",
              "      <td>4</td>\n",
              "    </tr>\n",
              "    <tr>\n",
              "      <th>2387</th>\n",
              "      <td>진짜 맛있어요 특히 간장 양념이 너무 달지 않고 새콤해서 더 맛있게 느껴져요</td>\n",
              "      <td>많은 사랑 주셔서 감사드립니다 감사합니다 말씀드릴 것이 많은데도 불구하고 부족한 점...</td>\n",
              "      <td>4</td>\n",
              "    </tr>\n",
              "  </tbody>\n",
              "</table>\n",
              "<p>2388 rows × 3 columns</p>\n",
              "</div>"
            ],
            "text/plain": [
              "                                                 review   \n",
              "0     리뷰 이벤트 한다지만 너무 아닌 거 같아서 적습니다 배달이 20분 넘게 안 오길래 ...  \\\n",
              "1                   만들어 놓은지 한참 된 커피 배달 예정 시간 25분이 지났어요    \n",
              "2                                                         \n",
              "3     밥이 쉬었어요 단무지 때문도 아니고 김이 많아서 그런 것도 아니고 쉬어서 냄새가 나...   \n",
              "4     잠실점에 처음 시켜 먹었던 게 맛있어서 주문했더니 돈 은 나갔는데 다시 앱을 들어와...   \n",
              "...                                                 ...   \n",
              "2383      맛있어요 양도 많고 푸짐하고 아주 맛있어요 맛도 있고 아주 만족스러운 식사였습니다   \n",
              "2384                                    맛있게 잘 먹었습니다 맛있게   \n",
              "2385                                   맛있게 잘 먹었어요 맛있게 잘   \n",
              "2386                      괜찮네요 괜찮은 것 같아요 맛도 괜찮고 가격도 괜찮고   \n",
              "2387         진짜 맛있어요 특히 간장 양념이 너무 달지 않고 새콤해서 더 맛있게 느껴져요   \n",
              "\n",
              "                                                  reply  star  \n",
              "0     안녕하세요 주신 리뷰 잘 읽었습니다 뒤돌아 보니 저희 응대에 미흡했던 이 있던 것 ...     1  \n",
              "1     안녕하세요 배달이 늦어져 죄송합니다 한파로 길이 얼어서 고객님들이 상황이 여유치가 ...     1  \n",
              "2                                         사이드만 잔뜩 시키고 1     1  \n",
              "3     밥이 쉬다뇨 말도 안 되는 소리 좀 하지 마세요 진짜 먼 정신이 이상한 사람인가 하...     1  \n",
              "4     요기요가 주문 앱에 렉이 자주 있어서 여러 가지로 혼돈이 있어 정말 죄송하게 되었습...     1  \n",
              "...                                                 ...   ...  \n",
              "2383             맛있는 식사가 되셨기를 바랍니다 맛있는 식사 이용해 주셔서 감사합니다     4  \n",
              "2384  저희는 배달 대행업체인데 배달 중에 오류가 난 부분이 있으면 언제든지 연락 주시면 ...     4  \n",
              "2385  항상 좋은 음식으로 보답하는 것으로 보답하겠습니다 이용해 주셔서 감사합니다 더불어 ...     4  \n",
              "2386  아무래도 매장에서 드시는 것보다는 조금 미흡할 수 있으나 여러모로 시행해 본 결과 ...     4  \n",
              "2387  많은 사랑 주셔서 감사드립니다 감사합니다 말씀드릴 것이 많은데도 불구하고 부족한 점...     4  \n",
              "\n",
              "[2388 rows x 3 columns]"
            ]
          },
          "execution_count": 17,
          "metadata": {},
          "output_type": "execute_result"
        }
      ],
      "source": [
        "star_1 = train[train['star'] == 1]\n",
        "star_2 = train[train['star'] == 2]\n",
        "star_3 = train[train['star'] == 3]\n",
        "star_4 = train[train['star'] == 4]\n",
        "\n",
        "train_star = pd.concat([star_1, star_2, star_3, star_4], ignore_index=True)\n",
        "train_star"
      ]
    },
    {
      "cell_type": "code",
      "execution_count": null,
      "metadata": {
        "id": "FFv2WF_MCwb-",
        "outputId": "8f23f63e-2c19-4f32-8d15-ec81ed8ef189",
        "colab": {
          "referenced_widgets": [
            "a1fdc7ad7df048fa90a4a8f1130b9594"
          ]
        }
      },
      "outputs": [
        {
          "data": {
            "application/vnd.jupyter.widget-view+json": {
              "model_id": "a1fdc7ad7df048fa90a4a8f1130b9594",
              "version_major": 2,
              "version_minor": 0
            },
            "text/plain": [
              "  0%|          | 0/2388 [00:00<?, ?it/s]"
            ]
          },
          "metadata": {},
          "output_type": "display_data"
        }
      ],
      "source": [
        "tqdm.pandas()\n",
        "over_review = train_star['review'].progress_apply(back_translation)\n",
        "over_review"
      ]
    },
    {
      "cell_type": "code",
      "execution_count": null,
      "metadata": {
        "id": "wcCJONjXCwb-"
      },
      "outputs": [],
      "source": [
        "tqdm.pandas()\n",
        "over_reply = train_star['reply'].progress_apply(back_translation)\n",
        "over_reply"
      ]
    },
    {
      "cell_type": "code",
      "execution_count": null,
      "metadata": {
        "id": "6smTjN6eCwb-"
      },
      "outputs": [],
      "source": [
        "train_over_review = pd.DataFrame({\"review\":over_review})\n",
        "train_over_reply = pd.DataFrame({\"reply\":over_reply})\n",
        "\n",
        "# concat\n",
        "train_over = pd.concat([train_over_review, train_over_reply, train_star[\"star\"]], axis=1)\n",
        "train_over"
      ]
    },
    {
      "cell_type": "markdown",
      "metadata": {
        "id": "XyASF-Hm_ueK"
      },
      "source": [
        "- 저장"
      ]
    },
    {
      "cell_type": "code",
      "execution_count": null,
      "metadata": {
        "id": "D1AaKxC0_ueK"
      },
      "outputs": [],
      "source": [
        "train_over.to_csv(f'{DATA_PATH}train_over_backtrans.csv', index=False, encoding = \"utf-8-sig\")"
      ]
    },
    {
      "cell_type": "markdown",
      "metadata": {
        "id": "9f3muAsk_ueL"
      },
      "source": [
        "- 불러오기"
      ]
    },
    {
      "cell_type": "code",
      "execution_count": null,
      "metadata": {
        "id": "t0KYpaSo_ueL"
      },
      "outputs": [],
      "source": [
        "train_over = pd.read_csv(f'{DATA_PATH}train_over_backtrans.csv')\n",
        "train_over"
      ]
    }
  ],
  "metadata": {
    "colab": {
      "provenance": [],
      "toc_visible": true,
      "include_colab_link": true
    },
    "kernelspec": {
      "display_name": "Python 3",
      "name": "python3"
    },
    "language_info": {
      "codemirror_mode": {
        "name": "ipython",
        "version": 3
      },
      "file_extension": ".py",
      "mimetype": "text/x-python",
      "name": "python",
      "nbconvert_exporter": "python",
      "pygments_lexer": "ipython3",
      "version": "3.9.13"
    }
  },
  "nbformat": 4,
  "nbformat_minor": 0
}