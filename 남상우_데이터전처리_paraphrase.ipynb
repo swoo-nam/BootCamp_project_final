{
  "nbformat": 4,
  "nbformat_minor": 0,
  "metadata": {
    "colab": {
      "provenance": [],
      "toc_visible": true,
      "include_colab_link": true
    },
    "kernelspec": {
      "name": "python3",
      "display_name": "Python 3"
    },
    "language_info": {
      "name": "python"
    },
    "widgets": {
      "application/vnd.jupyter.widget-state+json": {
        "c9a39a79a42c49f595bcc68c55f10996": {
          "model_module": "@jupyter-widgets/controls",
          "model_name": "HBoxModel",
          "model_module_version": "1.5.0",
          "state": {
            "_dom_classes": [],
            "_model_module": "@jupyter-widgets/controls",
            "_model_module_version": "1.5.0",
            "_model_name": "HBoxModel",
            "_view_count": null,
            "_view_module": "@jupyter-widgets/controls",
            "_view_module_version": "1.5.0",
            "_view_name": "HBoxView",
            "box_style": "",
            "children": [
              "IPY_MODEL_96a622f3e6be40d3b21856280ecec709",
              "IPY_MODEL_8d3a5dd6d1bd450f9f820886bcaafd60",
              "IPY_MODEL_896b75a0ae0b40f6a1697f998087e3fa"
            ],
            "layout": "IPY_MODEL_444f9994612d4ceb99961901769d8729"
          }
        },
        "96a622f3e6be40d3b21856280ecec709": {
          "model_module": "@jupyter-widgets/controls",
          "model_name": "HTMLModel",
          "model_module_version": "1.5.0",
          "state": {
            "_dom_classes": [],
            "_model_module": "@jupyter-widgets/controls",
            "_model_module_version": "1.5.0",
            "_model_name": "HTMLModel",
            "_view_count": null,
            "_view_module": "@jupyter-widgets/controls",
            "_view_module_version": "1.5.0",
            "_view_name": "HTMLView",
            "description": "",
            "description_tooltip": null,
            "layout": "IPY_MODEL_a19eb68f10e5494c9ac958ba58a4dde9",
            "placeholder": "​",
            "style": "IPY_MODEL_36c127f0339843ba8b207723987b2b22",
            "value": "100%"
          }
        },
        "8d3a5dd6d1bd450f9f820886bcaafd60": {
          "model_module": "@jupyter-widgets/controls",
          "model_name": "FloatProgressModel",
          "model_module_version": "1.5.0",
          "state": {
            "_dom_classes": [],
            "_model_module": "@jupyter-widgets/controls",
            "_model_module_version": "1.5.0",
            "_model_name": "FloatProgressModel",
            "_view_count": null,
            "_view_module": "@jupyter-widgets/controls",
            "_view_module_version": "1.5.0",
            "_view_name": "ProgressView",
            "bar_style": "success",
            "description": "",
            "description_tooltip": null,
            "layout": "IPY_MODEL_b7d1f8dd07d44e9c992173e78b07a7d0",
            "max": 726,
            "min": 0,
            "orientation": "horizontal",
            "style": "IPY_MODEL_f43824c17f0c46f8aa481756c2b8bb1e",
            "value": 726
          }
        },
        "896b75a0ae0b40f6a1697f998087e3fa": {
          "model_module": "@jupyter-widgets/controls",
          "model_name": "HTMLModel",
          "model_module_version": "1.5.0",
          "state": {
            "_dom_classes": [],
            "_model_module": "@jupyter-widgets/controls",
            "_model_module_version": "1.5.0",
            "_model_name": "HTMLModel",
            "_view_count": null,
            "_view_module": "@jupyter-widgets/controls",
            "_view_module_version": "1.5.0",
            "_view_name": "HTMLView",
            "description": "",
            "description_tooltip": null,
            "layout": "IPY_MODEL_726eb6f8cf3c403faaf53af8edb64b73",
            "placeholder": "​",
            "style": "IPY_MODEL_8745ca77a93a478e9b8fe02c75e129fb",
            "value": " 726/726 [50:35&lt;00:00,  3.12s/it]"
          }
        },
        "444f9994612d4ceb99961901769d8729": {
          "model_module": "@jupyter-widgets/base",
          "model_name": "LayoutModel",
          "model_module_version": "1.2.0",
          "state": {
            "_model_module": "@jupyter-widgets/base",
            "_model_module_version": "1.2.0",
            "_model_name": "LayoutModel",
            "_view_count": null,
            "_view_module": "@jupyter-widgets/base",
            "_view_module_version": "1.2.0",
            "_view_name": "LayoutView",
            "align_content": null,
            "align_items": null,
            "align_self": null,
            "border": null,
            "bottom": null,
            "display": null,
            "flex": null,
            "flex_flow": null,
            "grid_area": null,
            "grid_auto_columns": null,
            "grid_auto_flow": null,
            "grid_auto_rows": null,
            "grid_column": null,
            "grid_gap": null,
            "grid_row": null,
            "grid_template_areas": null,
            "grid_template_columns": null,
            "grid_template_rows": null,
            "height": null,
            "justify_content": null,
            "justify_items": null,
            "left": null,
            "margin": null,
            "max_height": null,
            "max_width": null,
            "min_height": null,
            "min_width": null,
            "object_fit": null,
            "object_position": null,
            "order": null,
            "overflow": null,
            "overflow_x": null,
            "overflow_y": null,
            "padding": null,
            "right": null,
            "top": null,
            "visibility": null,
            "width": null
          }
        },
        "a19eb68f10e5494c9ac958ba58a4dde9": {
          "model_module": "@jupyter-widgets/base",
          "model_name": "LayoutModel",
          "model_module_version": "1.2.0",
          "state": {
            "_model_module": "@jupyter-widgets/base",
            "_model_module_version": "1.2.0",
            "_model_name": "LayoutModel",
            "_view_count": null,
            "_view_module": "@jupyter-widgets/base",
            "_view_module_version": "1.2.0",
            "_view_name": "LayoutView",
            "align_content": null,
            "align_items": null,
            "align_self": null,
            "border": null,
            "bottom": null,
            "display": null,
            "flex": null,
            "flex_flow": null,
            "grid_area": null,
            "grid_auto_columns": null,
            "grid_auto_flow": null,
            "grid_auto_rows": null,
            "grid_column": null,
            "grid_gap": null,
            "grid_row": null,
            "grid_template_areas": null,
            "grid_template_columns": null,
            "grid_template_rows": null,
            "height": null,
            "justify_content": null,
            "justify_items": null,
            "left": null,
            "margin": null,
            "max_height": null,
            "max_width": null,
            "min_height": null,
            "min_width": null,
            "object_fit": null,
            "object_position": null,
            "order": null,
            "overflow": null,
            "overflow_x": null,
            "overflow_y": null,
            "padding": null,
            "right": null,
            "top": null,
            "visibility": null,
            "width": null
          }
        },
        "36c127f0339843ba8b207723987b2b22": {
          "model_module": "@jupyter-widgets/controls",
          "model_name": "DescriptionStyleModel",
          "model_module_version": "1.5.0",
          "state": {
            "_model_module": "@jupyter-widgets/controls",
            "_model_module_version": "1.5.0",
            "_model_name": "DescriptionStyleModel",
            "_view_count": null,
            "_view_module": "@jupyter-widgets/base",
            "_view_module_version": "1.2.0",
            "_view_name": "StyleView",
            "description_width": ""
          }
        },
        "b7d1f8dd07d44e9c992173e78b07a7d0": {
          "model_module": "@jupyter-widgets/base",
          "model_name": "LayoutModel",
          "model_module_version": "1.2.0",
          "state": {
            "_model_module": "@jupyter-widgets/base",
            "_model_module_version": "1.2.0",
            "_model_name": "LayoutModel",
            "_view_count": null,
            "_view_module": "@jupyter-widgets/base",
            "_view_module_version": "1.2.0",
            "_view_name": "LayoutView",
            "align_content": null,
            "align_items": null,
            "align_self": null,
            "border": null,
            "bottom": null,
            "display": null,
            "flex": null,
            "flex_flow": null,
            "grid_area": null,
            "grid_auto_columns": null,
            "grid_auto_flow": null,
            "grid_auto_rows": null,
            "grid_column": null,
            "grid_gap": null,
            "grid_row": null,
            "grid_template_areas": null,
            "grid_template_columns": null,
            "grid_template_rows": null,
            "height": null,
            "justify_content": null,
            "justify_items": null,
            "left": null,
            "margin": null,
            "max_height": null,
            "max_width": null,
            "min_height": null,
            "min_width": null,
            "object_fit": null,
            "object_position": null,
            "order": null,
            "overflow": null,
            "overflow_x": null,
            "overflow_y": null,
            "padding": null,
            "right": null,
            "top": null,
            "visibility": null,
            "width": null
          }
        },
        "f43824c17f0c46f8aa481756c2b8bb1e": {
          "model_module": "@jupyter-widgets/controls",
          "model_name": "ProgressStyleModel",
          "model_module_version": "1.5.0",
          "state": {
            "_model_module": "@jupyter-widgets/controls",
            "_model_module_version": "1.5.0",
            "_model_name": "ProgressStyleModel",
            "_view_count": null,
            "_view_module": "@jupyter-widgets/base",
            "_view_module_version": "1.2.0",
            "_view_name": "StyleView",
            "bar_color": null,
            "description_width": ""
          }
        },
        "726eb6f8cf3c403faaf53af8edb64b73": {
          "model_module": "@jupyter-widgets/base",
          "model_name": "LayoutModel",
          "model_module_version": "1.2.0",
          "state": {
            "_model_module": "@jupyter-widgets/base",
            "_model_module_version": "1.2.0",
            "_model_name": "LayoutModel",
            "_view_count": null,
            "_view_module": "@jupyter-widgets/base",
            "_view_module_version": "1.2.0",
            "_view_name": "LayoutView",
            "align_content": null,
            "align_items": null,
            "align_self": null,
            "border": null,
            "bottom": null,
            "display": null,
            "flex": null,
            "flex_flow": null,
            "grid_area": null,
            "grid_auto_columns": null,
            "grid_auto_flow": null,
            "grid_auto_rows": null,
            "grid_column": null,
            "grid_gap": null,
            "grid_row": null,
            "grid_template_areas": null,
            "grid_template_columns": null,
            "grid_template_rows": null,
            "height": null,
            "justify_content": null,
            "justify_items": null,
            "left": null,
            "margin": null,
            "max_height": null,
            "max_width": null,
            "min_height": null,
            "min_width": null,
            "object_fit": null,
            "object_position": null,
            "order": null,
            "overflow": null,
            "overflow_x": null,
            "overflow_y": null,
            "padding": null,
            "right": null,
            "top": null,
            "visibility": null,
            "width": null
          }
        },
        "8745ca77a93a478e9b8fe02c75e129fb": {
          "model_module": "@jupyter-widgets/controls",
          "model_name": "DescriptionStyleModel",
          "model_module_version": "1.5.0",
          "state": {
            "_model_module": "@jupyter-widgets/controls",
            "_model_module_version": "1.5.0",
            "_model_name": "DescriptionStyleModel",
            "_view_count": null,
            "_view_module": "@jupyter-widgets/base",
            "_view_module_version": "1.2.0",
            "_view_name": "StyleView",
            "description_width": ""
          }
        },
        "1807c04538044bf392c19d112f397a83": {
          "model_module": "@jupyter-widgets/controls",
          "model_name": "HBoxModel",
          "model_module_version": "1.5.0",
          "state": {
            "_dom_classes": [],
            "_model_module": "@jupyter-widgets/controls",
            "_model_module_version": "1.5.0",
            "_model_name": "HBoxModel",
            "_view_count": null,
            "_view_module": "@jupyter-widgets/controls",
            "_view_module_version": "1.5.0",
            "_view_name": "HBoxView",
            "box_style": "",
            "children": [
              "IPY_MODEL_e8f50a4399d64fbaa40cfa827735b185",
              "IPY_MODEL_d16dc568c4f548d18a0e4480ab838e96",
              "IPY_MODEL_459564ca6fe44e0f836887d91c5d8232"
            ],
            "layout": "IPY_MODEL_c3fd6e4b71ca4828b5905a030bc1bead"
          }
        },
        "e8f50a4399d64fbaa40cfa827735b185": {
          "model_module": "@jupyter-widgets/controls",
          "model_name": "HTMLModel",
          "model_module_version": "1.5.0",
          "state": {
            "_dom_classes": [],
            "_model_module": "@jupyter-widgets/controls",
            "_model_module_version": "1.5.0",
            "_model_name": "HTMLModel",
            "_view_count": null,
            "_view_module": "@jupyter-widgets/controls",
            "_view_module_version": "1.5.0",
            "_view_name": "HTMLView",
            "description": "",
            "description_tooltip": null,
            "layout": "IPY_MODEL_2e800b9176784d7099f9a2e38c5e14df",
            "placeholder": "​",
            "style": "IPY_MODEL_684bab3259644a5a972a6b2f4a8b7949",
            "value": " 17%"
          }
        },
        "d16dc568c4f548d18a0e4480ab838e96": {
          "model_module": "@jupyter-widgets/controls",
          "model_name": "FloatProgressModel",
          "model_module_version": "1.5.0",
          "state": {
            "_dom_classes": [],
            "_model_module": "@jupyter-widgets/controls",
            "_model_module_version": "1.5.0",
            "_model_name": "FloatProgressModel",
            "_view_count": null,
            "_view_module": "@jupyter-widgets/controls",
            "_view_module_version": "1.5.0",
            "_view_name": "ProgressView",
            "bar_style": "",
            "description": "",
            "description_tooltip": null,
            "layout": "IPY_MODEL_6f2234a6333841ca84df96e7c55fb893",
            "max": 726,
            "min": 0,
            "orientation": "horizontal",
            "style": "IPY_MODEL_f7d04783bed841298accd9679939b5c6",
            "value": 125
          }
        },
        "459564ca6fe44e0f836887d91c5d8232": {
          "model_module": "@jupyter-widgets/controls",
          "model_name": "HTMLModel",
          "model_module_version": "1.5.0",
          "state": {
            "_dom_classes": [],
            "_model_module": "@jupyter-widgets/controls",
            "_model_module_version": "1.5.0",
            "_model_name": "HTMLModel",
            "_view_count": null,
            "_view_module": "@jupyter-widgets/controls",
            "_view_module_version": "1.5.0",
            "_view_name": "HTMLView",
            "description": "",
            "description_tooltip": null,
            "layout": "IPY_MODEL_91b6625718c04b03a5f479d39f4ce0ff",
            "placeholder": "​",
            "style": "IPY_MODEL_2f76c1767d2f4efdad39d24a446c5cca",
            "value": " 125/726 [08:26&lt;34:49,  3.48s/it]"
          }
        },
        "c3fd6e4b71ca4828b5905a030bc1bead": {
          "model_module": "@jupyter-widgets/base",
          "model_name": "LayoutModel",
          "model_module_version": "1.2.0",
          "state": {
            "_model_module": "@jupyter-widgets/base",
            "_model_module_version": "1.2.0",
            "_model_name": "LayoutModel",
            "_view_count": null,
            "_view_module": "@jupyter-widgets/base",
            "_view_module_version": "1.2.0",
            "_view_name": "LayoutView",
            "align_content": null,
            "align_items": null,
            "align_self": null,
            "border": null,
            "bottom": null,
            "display": null,
            "flex": null,
            "flex_flow": null,
            "grid_area": null,
            "grid_auto_columns": null,
            "grid_auto_flow": null,
            "grid_auto_rows": null,
            "grid_column": null,
            "grid_gap": null,
            "grid_row": null,
            "grid_template_areas": null,
            "grid_template_columns": null,
            "grid_template_rows": null,
            "height": null,
            "justify_content": null,
            "justify_items": null,
            "left": null,
            "margin": null,
            "max_height": null,
            "max_width": null,
            "min_height": null,
            "min_width": null,
            "object_fit": null,
            "object_position": null,
            "order": null,
            "overflow": null,
            "overflow_x": null,
            "overflow_y": null,
            "padding": null,
            "right": null,
            "top": null,
            "visibility": null,
            "width": null
          }
        },
        "2e800b9176784d7099f9a2e38c5e14df": {
          "model_module": "@jupyter-widgets/base",
          "model_name": "LayoutModel",
          "model_module_version": "1.2.0",
          "state": {
            "_model_module": "@jupyter-widgets/base",
            "_model_module_version": "1.2.0",
            "_model_name": "LayoutModel",
            "_view_count": null,
            "_view_module": "@jupyter-widgets/base",
            "_view_module_version": "1.2.0",
            "_view_name": "LayoutView",
            "align_content": null,
            "align_items": null,
            "align_self": null,
            "border": null,
            "bottom": null,
            "display": null,
            "flex": null,
            "flex_flow": null,
            "grid_area": null,
            "grid_auto_columns": null,
            "grid_auto_flow": null,
            "grid_auto_rows": null,
            "grid_column": null,
            "grid_gap": null,
            "grid_row": null,
            "grid_template_areas": null,
            "grid_template_columns": null,
            "grid_template_rows": null,
            "height": null,
            "justify_content": null,
            "justify_items": null,
            "left": null,
            "margin": null,
            "max_height": null,
            "max_width": null,
            "min_height": null,
            "min_width": null,
            "object_fit": null,
            "object_position": null,
            "order": null,
            "overflow": null,
            "overflow_x": null,
            "overflow_y": null,
            "padding": null,
            "right": null,
            "top": null,
            "visibility": null,
            "width": null
          }
        },
        "684bab3259644a5a972a6b2f4a8b7949": {
          "model_module": "@jupyter-widgets/controls",
          "model_name": "DescriptionStyleModel",
          "model_module_version": "1.5.0",
          "state": {
            "_model_module": "@jupyter-widgets/controls",
            "_model_module_version": "1.5.0",
            "_model_name": "DescriptionStyleModel",
            "_view_count": null,
            "_view_module": "@jupyter-widgets/base",
            "_view_module_version": "1.2.0",
            "_view_name": "StyleView",
            "description_width": ""
          }
        },
        "6f2234a6333841ca84df96e7c55fb893": {
          "model_module": "@jupyter-widgets/base",
          "model_name": "LayoutModel",
          "model_module_version": "1.2.0",
          "state": {
            "_model_module": "@jupyter-widgets/base",
            "_model_module_version": "1.2.0",
            "_model_name": "LayoutModel",
            "_view_count": null,
            "_view_module": "@jupyter-widgets/base",
            "_view_module_version": "1.2.0",
            "_view_name": "LayoutView",
            "align_content": null,
            "align_items": null,
            "align_self": null,
            "border": null,
            "bottom": null,
            "display": null,
            "flex": null,
            "flex_flow": null,
            "grid_area": null,
            "grid_auto_columns": null,
            "grid_auto_flow": null,
            "grid_auto_rows": null,
            "grid_column": null,
            "grid_gap": null,
            "grid_row": null,
            "grid_template_areas": null,
            "grid_template_columns": null,
            "grid_template_rows": null,
            "height": null,
            "justify_content": null,
            "justify_items": null,
            "left": null,
            "margin": null,
            "max_height": null,
            "max_width": null,
            "min_height": null,
            "min_width": null,
            "object_fit": null,
            "object_position": null,
            "order": null,
            "overflow": null,
            "overflow_x": null,
            "overflow_y": null,
            "padding": null,
            "right": null,
            "top": null,
            "visibility": null,
            "width": null
          }
        },
        "f7d04783bed841298accd9679939b5c6": {
          "model_module": "@jupyter-widgets/controls",
          "model_name": "ProgressStyleModel",
          "model_module_version": "1.5.0",
          "state": {
            "_model_module": "@jupyter-widgets/controls",
            "_model_module_version": "1.5.0",
            "_model_name": "ProgressStyleModel",
            "_view_count": null,
            "_view_module": "@jupyter-widgets/base",
            "_view_module_version": "1.2.0",
            "_view_name": "StyleView",
            "bar_color": null,
            "description_width": ""
          }
        },
        "91b6625718c04b03a5f479d39f4ce0ff": {
          "model_module": "@jupyter-widgets/base",
          "model_name": "LayoutModel",
          "model_module_version": "1.2.0",
          "state": {
            "_model_module": "@jupyter-widgets/base",
            "_model_module_version": "1.2.0",
            "_model_name": "LayoutModel",
            "_view_count": null,
            "_view_module": "@jupyter-widgets/base",
            "_view_module_version": "1.2.0",
            "_view_name": "LayoutView",
            "align_content": null,
            "align_items": null,
            "align_self": null,
            "border": null,
            "bottom": null,
            "display": null,
            "flex": null,
            "flex_flow": null,
            "grid_area": null,
            "grid_auto_columns": null,
            "grid_auto_flow": null,
            "grid_auto_rows": null,
            "grid_column": null,
            "grid_gap": null,
            "grid_row": null,
            "grid_template_areas": null,
            "grid_template_columns": null,
            "grid_template_rows": null,
            "height": null,
            "justify_content": null,
            "justify_items": null,
            "left": null,
            "margin": null,
            "max_height": null,
            "max_width": null,
            "min_height": null,
            "min_width": null,
            "object_fit": null,
            "object_position": null,
            "order": null,
            "overflow": null,
            "overflow_x": null,
            "overflow_y": null,
            "padding": null,
            "right": null,
            "top": null,
            "visibility": null,
            "width": null
          }
        },
        "2f76c1767d2f4efdad39d24a446c5cca": {
          "model_module": "@jupyter-widgets/controls",
          "model_name": "DescriptionStyleModel",
          "model_module_version": "1.5.0",
          "state": {
            "_model_module": "@jupyter-widgets/controls",
            "_model_module_version": "1.5.0",
            "_model_name": "DescriptionStyleModel",
            "_view_count": null,
            "_view_module": "@jupyter-widgets/base",
            "_view_module_version": "1.2.0",
            "_view_name": "StyleView",
            "description_width": ""
          }
        }
      }
    }
  },
  "cells": [
    {
      "cell_type": "markdown",
      "metadata": {
        "id": "view-in-github",
        "colab_type": "text"
      },
      "source": [
        "<a href=\"https://colab.research.google.com/github/swoo-nam/project_final_team1/blob/main/%EB%82%A8%EC%83%81%EC%9A%B0_%EB%8D%B0%EC%9D%B4%ED%84%B0%EC%A0%84%EC%B2%98%EB%A6%AC_paraphrase.ipynb\" target=\"_parent\"><img src=\"https://colab.research.google.com/assets/colab-badge.svg\" alt=\"Open In Colab\"/></a>"
      ]
    },
    {
      "cell_type": "code",
      "source": [
        "# !pip install kiwipiepy"
      ],
      "metadata": {
        "id": "zPaUshpXAAkI"
      },
      "execution_count": 1,
      "outputs": []
    },
    {
      "cell_type": "code",
      "source": [
        "# !pip install konlpy"
      ],
      "metadata": {
        "id": "Rw6lvFBYgWt2"
      },
      "execution_count": 2,
      "outputs": []
    },
    {
      "cell_type": "code",
      "source": [
        "!pip install transformers"
      ],
      "metadata": {
        "colab": {
          "base_uri": "https://localhost:8080/"
        },
        "id": "NQZhQ4jE30ba",
        "outputId": "40a5b676-0887-4c14-b8a6-7cd118d0700b"
      },
      "execution_count": 3,
      "outputs": [
        {
          "output_type": "stream",
          "name": "stdout",
          "text": [
            "Requirement already satisfied: transformers in /usr/local/lib/python3.10/dist-packages (4.32.1)\n",
            "Requirement already satisfied: filelock in /usr/local/lib/python3.10/dist-packages (from transformers) (3.12.2)\n",
            "Requirement already satisfied: huggingface-hub<1.0,>=0.15.1 in /usr/local/lib/python3.10/dist-packages (from transformers) (0.16.4)\n",
            "Requirement already satisfied: numpy>=1.17 in /usr/local/lib/python3.10/dist-packages (from transformers) (1.23.5)\n",
            "Requirement already satisfied: packaging>=20.0 in /usr/local/lib/python3.10/dist-packages (from transformers) (23.1)\n",
            "Requirement already satisfied: pyyaml>=5.1 in /usr/local/lib/python3.10/dist-packages (from transformers) (6.0.1)\n",
            "Requirement already satisfied: regex!=2019.12.17 in /usr/local/lib/python3.10/dist-packages (from transformers) (2023.6.3)\n",
            "Requirement already satisfied: requests in /usr/local/lib/python3.10/dist-packages (from transformers) (2.31.0)\n",
            "Requirement already satisfied: tokenizers!=0.11.3,<0.14,>=0.11.1 in /usr/local/lib/python3.10/dist-packages (from transformers) (0.13.3)\n",
            "Requirement already satisfied: safetensors>=0.3.1 in /usr/local/lib/python3.10/dist-packages (from transformers) (0.3.3)\n",
            "Requirement already satisfied: tqdm>=4.27 in /usr/local/lib/python3.10/dist-packages (from transformers) (4.66.1)\n",
            "Requirement already satisfied: fsspec in /usr/local/lib/python3.10/dist-packages (from huggingface-hub<1.0,>=0.15.1->transformers) (2023.6.0)\n",
            "Requirement already satisfied: typing-extensions>=3.7.4.3 in /usr/local/lib/python3.10/dist-packages (from huggingface-hub<1.0,>=0.15.1->transformers) (4.7.1)\n",
            "Requirement already satisfied: charset-normalizer<4,>=2 in /usr/local/lib/python3.10/dist-packages (from requests->transformers) (3.2.0)\n",
            "Requirement already satisfied: idna<4,>=2.5 in /usr/local/lib/python3.10/dist-packages (from requests->transformers) (3.4)\n",
            "Requirement already satisfied: urllib3<3,>=1.21.1 in /usr/local/lib/python3.10/dist-packages (from requests->transformers) (2.0.4)\n",
            "Requirement already satisfied: certifi>=2017.4.17 in /usr/local/lib/python3.10/dist-packages (from requests->transformers) (2023.7.22)\n"
          ]
        }
      ]
    },
    {
      "cell_type": "code",
      "source": [
        "!pip install optuna"
      ],
      "metadata": {
        "colab": {
          "base_uri": "https://localhost:8080/"
        },
        "id": "9FZFIwQDFSjp",
        "outputId": "0b680bab-0362-425f-e9f6-ef7b2d4988d7"
      },
      "execution_count": null,
      "outputs": [
        {
          "output_type": "stream",
          "name": "stdout",
          "text": [
            "Collecting optuna\n",
            "  Downloading optuna-3.3.0-py3-none-any.whl (404 kB)\n",
            "\u001b[2K     \u001b[90m━━━━━━━━━━━━━━━━━━━━━━━━━━━━━━━━━━━━━━━\u001b[0m \u001b[32m404.2/404.2 kB\u001b[0m \u001b[31m5.4 MB/s\u001b[0m eta \u001b[36m0:00:00\u001b[0m\n",
            "\u001b[?25hCollecting alembic>=1.5.0 (from optuna)\n",
            "  Downloading alembic-1.12.0-py3-none-any.whl (226 kB)\n",
            "\u001b[2K     \u001b[90m━━━━━━━━━━━━━━━━━━━━━━━━━━━━━━━━━━━━━━━\u001b[0m \u001b[32m226.0/226.0 kB\u001b[0m \u001b[31m8.3 MB/s\u001b[0m eta \u001b[36m0:00:00\u001b[0m\n",
            "\u001b[?25hCollecting cmaes>=0.10.0 (from optuna)\n",
            "  Downloading cmaes-0.10.0-py3-none-any.whl (29 kB)\n",
            "Collecting colorlog (from optuna)\n",
            "  Downloading colorlog-6.7.0-py2.py3-none-any.whl (11 kB)\n",
            "Requirement already satisfied: numpy in /usr/local/lib/python3.10/dist-packages (from optuna) (1.23.5)\n",
            "Requirement already satisfied: packaging>=20.0 in /usr/local/lib/python3.10/dist-packages (from optuna) (23.1)\n",
            "Requirement already satisfied: sqlalchemy>=1.3.0 in /usr/local/lib/python3.10/dist-packages (from optuna) (2.0.20)\n",
            "Requirement already satisfied: tqdm in /usr/local/lib/python3.10/dist-packages (from optuna) (4.66.1)\n",
            "Requirement already satisfied: PyYAML in /usr/local/lib/python3.10/dist-packages (from optuna) (6.0.1)\n",
            "Collecting Mako (from alembic>=1.5.0->optuna)\n",
            "  Downloading Mako-1.2.4-py3-none-any.whl (78 kB)\n",
            "\u001b[2K     \u001b[90m━━━━━━━━━━━━━━━━━━━━━━━━━━━━━━━━━━━━━━━━\u001b[0m \u001b[32m78.7/78.7 kB\u001b[0m \u001b[31m10.1 MB/s\u001b[0m eta \u001b[36m0:00:00\u001b[0m\n",
            "\u001b[?25hRequirement already satisfied: typing-extensions>=4 in /usr/local/lib/python3.10/dist-packages (from alembic>=1.5.0->optuna) (4.7.1)\n",
            "Requirement already satisfied: greenlet!=0.4.17 in /usr/local/lib/python3.10/dist-packages (from sqlalchemy>=1.3.0->optuna) (2.0.2)\n",
            "Requirement already satisfied: MarkupSafe>=0.9.2 in /usr/local/lib/python3.10/dist-packages (from Mako->alembic>=1.5.0->optuna) (2.1.3)\n",
            "Installing collected packages: Mako, colorlog, cmaes, alembic, optuna\n",
            "Successfully installed Mako-1.2.4 alembic-1.12.0 cmaes-0.10.0 colorlog-6.7.0 optuna-3.3.0\n"
          ]
        }
      ]
    },
    {
      "cell_type": "code",
      "execution_count": 4,
      "metadata": {
        "id": "f4ZVXFzhuuTv",
        "colab": {
          "base_uri": "https://localhost:8080/"
        },
        "outputId": "4339bebd-0aa0-462d-ae97-711c9dcc6bbc"
      },
      "outputs": [
        {
          "output_type": "stream",
          "name": "stdout",
          "text": [
            "Drive already mounted at /content/drive; to attempt to forcibly remount, call drive.mount(\"/content/drive\", force_remount=True).\n"
          ]
        }
      ],
      "source": [
        "from google.colab import drive\n",
        "drive.mount('/content/drive')"
      ]
    },
    {
      "cell_type": "code",
      "source": [
        "import torch\n",
        "import torch.nn as nn\n",
        "from torch import optim\n",
        "import torch.nn.functional as F\n",
        "from torch.utils.data.dataset import Dataset\n",
        "\n",
        "from sklearn.utils import resample"
      ],
      "metadata": {
        "id": "QDE8QJtGMEOz"
      },
      "execution_count": 5,
      "outputs": []
    },
    {
      "cell_type": "code",
      "source": [
        "import warnings\n",
        "%config InlineBackend.figure_format = 'retina'\n",
        "warnings.filterwarnings(\"ignore\")\n",
        "%matplotlib inline"
      ],
      "metadata": {
        "id": "RYKkRvZU9Yk5"
      },
      "execution_count": 16,
      "outputs": []
    },
    {
      "cell_type": "code",
      "source": [
        "import pandas as pd\n",
        "import numpy as np\n",
        "import re\n",
        "from tqdm.auto import tqdm\n",
        "import random\n",
        "import os\n",
        "\n",
        "def reset_seeds(seed):\n",
        "    random.seed(seed)\n",
        "    os.environ['PYTHONHASHSEED'] = str(seed)\n",
        "    np.random.seed(seed)\n",
        "    torch.manual_seed(seed)\n",
        "    torch.cuda.manual_seed(seed)\n",
        "    torch.backends.cudnn.deterministic = True\n",
        "\n",
        "DATA_PATH = \"/content/drive/MyDrive/project_final/data/\"\n",
        "SEED = 42\n",
        "\n",
        "device = 'cuda' if torch.cuda.is_available() else 'cpu'\n",
        "device"
      ],
      "metadata": {
        "id": "10dsMhpDu1rd",
        "colab": {
          "base_uri": "https://localhost:8080/",
          "height": 35
        },
        "outputId": "e81b0a61-1fb6-4e5d-d0b4-85b2b97d0b78"
      },
      "execution_count": 6,
      "outputs": [
        {
          "output_type": "execute_result",
          "data": {
            "text/plain": [
              "'cpu'"
            ],
            "application/vnd.google.colaboratory.intrinsic+json": {
              "type": "string"
            }
          },
          "metadata": {},
          "execution_count": 6
        }
      ]
    },
    {
      "cell_type": "markdown",
      "source": [
        "# 데이터 불러오기"
      ],
      "metadata": {
        "id": "VwJecjdYAEVY"
      }
    },
    {
      "cell_type": "markdown",
      "source": [
        "### 전체 데이터셋"
      ],
      "metadata": {
        "id": "KE5MH7ONb_h8"
      }
    },
    {
      "cell_type": "code",
      "source": [
        "yo_review =pd.read_csv(f\"{DATA_PATH}yogiyo_reviews_jsi.csv\")['고객리뷰']\n",
        "yo_reply = pd.read_csv(f\"{DATA_PATH}yogiyo_reviews_jsi.csv\")['사장댓글']\n",
        "yo_star = pd.read_csv(f\"{DATA_PATH}yogiyo_reviews_jsi.csv\")['별점']\n",
        "\n",
        "train = pd.concat([yo_review, yo_reply, yo_star], axis=1)\n",
        "rename_cols = ['review', 'reply', 'star']\n",
        "train.columns = rename_cols\n",
        "train['star'].value_counts().sort_index() # 별점 분포 확인\n",
        "\n",
        "# shuffled_df = train.sample(frac=1, random_state=2)  # frac=1은 모든 행을 선택, random_state는 재현 가능한 랜덤 설정\n",
        "# train = shuffled_df.iloc[:1000].reset_index(drop=True)"
      ],
      "metadata": {
        "id": "lpUaRZnAvWSs",
        "colab": {
          "base_uri": "https://localhost:8080/"
        },
        "outputId": "05161319-ac7f-40c0-fb6b-7a77af965301"
      },
      "execution_count": 81,
      "outputs": [
        {
          "output_type": "execute_result",
          "data": {
            "text/plain": [
              "1       92\n",
              "2       64\n",
              "3      179\n",
              "4      560\n",
              "5    17791\n",
              "Name: star, dtype: int64"
            ]
          },
          "metadata": {},
          "execution_count": 81
        }
      ]
    },
    {
      "cell_type": "code",
      "source": [
        "# 중복된 답변을 한 경우 행 전체 삭제\n",
        "train.drop_duplicates(subset='reply', keep=False, inplace=True)"
      ],
      "metadata": {
        "id": "cSUMkLKubmIT"
      },
      "execution_count": 82,
      "outputs": []
    },
    {
      "cell_type": "markdown",
      "source": [
        "## 데이터 정제"
      ],
      "metadata": {
        "id": "Lc9TAFoFAIg9"
      }
    },
    {
      "cell_type": "markdown",
      "source": [
        "- 불필요한 문자 삭제"
      ],
      "metadata": {
        "id": "k6txthSVpKAC"
      }
    },
    {
      "cell_type": "code",
      "source": [
        "review_list = []\n",
        "for review in train['review']:\n",
        "    if isinstance(review, str):\n",
        "        pat = re.compile(\"[^a-zA-Z가-힣0-9]\")\n",
        "        # pat = re.compile(\"[^a-zA-Z가-힣0-9.,~?!]\")\n",
        "        result = pat.sub(\" \", review)\n",
        "\n",
        "        # result = re.sub(r'\\.{2,}', '.', result)\n",
        "        # result = re.sub(r'\\,{2,}', ',', result)\n",
        "        # result = re.sub(r'\\~{2,}', '~', result)\n",
        "        # result = re.sub(r'\\!{2,}', '!', result)\n",
        "        # result = re.sub(r'\\?{2,}', '?', result)\n",
        "        result = re.sub(\" +\", \" \", result)\n",
        "        review_list.append(result)\n",
        "    else:\n",
        "        review_list.append(\"\")\n",
        "\n",
        "train['review'] = review_list\n",
        "train.head()"
      ],
      "metadata": {
        "id": "RUWJTmUNXkxV",
        "colab": {
          "base_uri": "https://localhost:8080/",
          "height": 206
        },
        "outputId": "ed29d29d-ef07-4246-cad0-929a3e7daba4"
      },
      "execution_count": 83,
      "outputs": [
        {
          "output_type": "execute_result",
          "data": {
            "text/plain": [
              "                              review  \\\n",
              "1       리뷰가 늦었네요 맛있게 잘 먹었습니다 또 시킬게요    \n",
              "2  잘 먹었습니다 다만 주문에 있던 펩시콜라는 받지 못했습니다    \n",
              "3                 굿 말이 필요 없는 메뉴 였습니다   \n",
              "4                        맛있어요 양도많구좋음   \n",
              "5                          양많고 맛있었어요   \n",
              "\n",
              "                                               reply  star  \n",
              "1  좋은 리뷰 덕분에 기분이 행복해지는 것 같아요😇\\n\\n고객님께서 맛있다고 말씀 주시...     5  \n",
              "2  소중한 식사 시간에 저희 매장을 찾아 주셔서 감사드립니다. \\n\\n저희를 찾아 주신...     5  \n",
              "3  수 많은 매장들을 헤치고 와주셔서 감사합니다!!\\n\\n저희 매장의 메뉴를 제대로 즐...     5  \n",
              "4  수 많은 매장들을 헤치고 와주셔서 감사합니다😂\\n\\n메뉴 그 자체로 행복을 드리고 ...     5  \n",
              "5  저희 매장 찾아주신 것도 감사한데 리뷰까지..감동입니다ㅠㅠ😭\\n\\n고객님들의 배고픔...     5  "
            ],
            "text/html": [
              "\n",
              "  <div id=\"df-4f75272f-8062-48f3-be51-19ce94d5171a\" class=\"colab-df-container\">\n",
              "    <div>\n",
              "<style scoped>\n",
              "    .dataframe tbody tr th:only-of-type {\n",
              "        vertical-align: middle;\n",
              "    }\n",
              "\n",
              "    .dataframe tbody tr th {\n",
              "        vertical-align: top;\n",
              "    }\n",
              "\n",
              "    .dataframe thead th {\n",
              "        text-align: right;\n",
              "    }\n",
              "</style>\n",
              "<table border=\"1\" class=\"dataframe\">\n",
              "  <thead>\n",
              "    <tr style=\"text-align: right;\">\n",
              "      <th></th>\n",
              "      <th>review</th>\n",
              "      <th>reply</th>\n",
              "      <th>star</th>\n",
              "    </tr>\n",
              "  </thead>\n",
              "  <tbody>\n",
              "    <tr>\n",
              "      <th>1</th>\n",
              "      <td>리뷰가 늦었네요 맛있게 잘 먹었습니다 또 시킬게요</td>\n",
              "      <td>좋은 리뷰 덕분에 기분이 행복해지는 것 같아요😇\\n\\n고객님께서 맛있다고 말씀 주시...</td>\n",
              "      <td>5</td>\n",
              "    </tr>\n",
              "    <tr>\n",
              "      <th>2</th>\n",
              "      <td>잘 먹었습니다 다만 주문에 있던 펩시콜라는 받지 못했습니다</td>\n",
              "      <td>소중한 식사 시간에 저희 매장을 찾아 주셔서 감사드립니다. \\n\\n저희를 찾아 주신...</td>\n",
              "      <td>5</td>\n",
              "    </tr>\n",
              "    <tr>\n",
              "      <th>3</th>\n",
              "      <td>굿 말이 필요 없는 메뉴 였습니다</td>\n",
              "      <td>수 많은 매장들을 헤치고 와주셔서 감사합니다!!\\n\\n저희 매장의 메뉴를 제대로 즐...</td>\n",
              "      <td>5</td>\n",
              "    </tr>\n",
              "    <tr>\n",
              "      <th>4</th>\n",
              "      <td>맛있어요 양도많구좋음</td>\n",
              "      <td>수 많은 매장들을 헤치고 와주셔서 감사합니다😂\\n\\n메뉴 그 자체로 행복을 드리고 ...</td>\n",
              "      <td>5</td>\n",
              "    </tr>\n",
              "    <tr>\n",
              "      <th>5</th>\n",
              "      <td>양많고 맛있었어요</td>\n",
              "      <td>저희 매장 찾아주신 것도 감사한데 리뷰까지..감동입니다ㅠㅠ😭\\n\\n고객님들의 배고픔...</td>\n",
              "      <td>5</td>\n",
              "    </tr>\n",
              "  </tbody>\n",
              "</table>\n",
              "</div>\n",
              "    <div class=\"colab-df-buttons\">\n",
              "\n",
              "  <div class=\"colab-df-container\">\n",
              "    <button class=\"colab-df-convert\" onclick=\"convertToInteractive('df-4f75272f-8062-48f3-be51-19ce94d5171a')\"\n",
              "            title=\"Convert this dataframe to an interactive table.\"\n",
              "            style=\"display:none;\">\n",
              "\n",
              "  <svg xmlns=\"http://www.w3.org/2000/svg\" height=\"24px\" viewBox=\"0 -960 960 960\">\n",
              "    <path d=\"M120-120v-720h720v720H120Zm60-500h600v-160H180v160Zm220 220h160v-160H400v160Zm0 220h160v-160H400v160ZM180-400h160v-160H180v160Zm440 0h160v-160H620v160ZM180-180h160v-160H180v160Zm440 0h160v-160H620v160Z\"/>\n",
              "  </svg>\n",
              "    </button>\n",
              "\n",
              "  <style>\n",
              "    .colab-df-container {\n",
              "      display:flex;\n",
              "      gap: 12px;\n",
              "    }\n",
              "\n",
              "    .colab-df-convert {\n",
              "      background-color: #E8F0FE;\n",
              "      border: none;\n",
              "      border-radius: 50%;\n",
              "      cursor: pointer;\n",
              "      display: none;\n",
              "      fill: #1967D2;\n",
              "      height: 32px;\n",
              "      padding: 0 0 0 0;\n",
              "      width: 32px;\n",
              "    }\n",
              "\n",
              "    .colab-df-convert:hover {\n",
              "      background-color: #E2EBFA;\n",
              "      box-shadow: 0px 1px 2px rgba(60, 64, 67, 0.3), 0px 1px 3px 1px rgba(60, 64, 67, 0.15);\n",
              "      fill: #174EA6;\n",
              "    }\n",
              "\n",
              "    .colab-df-buttons div {\n",
              "      margin-bottom: 4px;\n",
              "    }\n",
              "\n",
              "    [theme=dark] .colab-df-convert {\n",
              "      background-color: #3B4455;\n",
              "      fill: #D2E3FC;\n",
              "    }\n",
              "\n",
              "    [theme=dark] .colab-df-convert:hover {\n",
              "      background-color: #434B5C;\n",
              "      box-shadow: 0px 1px 3px 1px rgba(0, 0, 0, 0.15);\n",
              "      filter: drop-shadow(0px 1px 2px rgba(0, 0, 0, 0.3));\n",
              "      fill: #FFFFFF;\n",
              "    }\n",
              "  </style>\n",
              "\n",
              "    <script>\n",
              "      const buttonEl =\n",
              "        document.querySelector('#df-4f75272f-8062-48f3-be51-19ce94d5171a button.colab-df-convert');\n",
              "      buttonEl.style.display =\n",
              "        google.colab.kernel.accessAllowed ? 'block' : 'none';\n",
              "\n",
              "      async function convertToInteractive(key) {\n",
              "        const element = document.querySelector('#df-4f75272f-8062-48f3-be51-19ce94d5171a');\n",
              "        const dataTable =\n",
              "          await google.colab.kernel.invokeFunction('convertToInteractive',\n",
              "                                                    [key], {});\n",
              "        if (!dataTable) return;\n",
              "\n",
              "        const docLinkHtml = 'Like what you see? Visit the ' +\n",
              "          '<a target=\"_blank\" href=https://colab.research.google.com/notebooks/data_table.ipynb>data table notebook</a>'\n",
              "          + ' to learn more about interactive tables.';\n",
              "        element.innerHTML = '';\n",
              "        dataTable['output_type'] = 'display_data';\n",
              "        await google.colab.output.renderOutput(dataTable, element);\n",
              "        const docLink = document.createElement('div');\n",
              "        docLink.innerHTML = docLinkHtml;\n",
              "        element.appendChild(docLink);\n",
              "      }\n",
              "    </script>\n",
              "  </div>\n",
              "\n",
              "\n",
              "<div id=\"df-509ed80f-d621-4436-84b9-f5ba7bf5ee92\">\n",
              "  <button class=\"colab-df-quickchart\" onclick=\"quickchart('df-509ed80f-d621-4436-84b9-f5ba7bf5ee92')\"\n",
              "            title=\"Suggest charts.\"\n",
              "            style=\"display:none;\">\n",
              "\n",
              "<svg xmlns=\"http://www.w3.org/2000/svg\" height=\"24px\"viewBox=\"0 0 24 24\"\n",
              "     width=\"24px\">\n",
              "    <g>\n",
              "        <path d=\"M19 3H5c-1.1 0-2 .9-2 2v14c0 1.1.9 2 2 2h14c1.1 0 2-.9 2-2V5c0-1.1-.9-2-2-2zM9 17H7v-7h2v7zm4 0h-2V7h2v10zm4 0h-2v-4h2v4z\"/>\n",
              "    </g>\n",
              "</svg>\n",
              "  </button>\n",
              "\n",
              "<style>\n",
              "  .colab-df-quickchart {\n",
              "      --bg-color: #E8F0FE;\n",
              "      --fill-color: #1967D2;\n",
              "      --hover-bg-color: #E2EBFA;\n",
              "      --hover-fill-color: #174EA6;\n",
              "      --disabled-fill-color: #AAA;\n",
              "      --disabled-bg-color: #DDD;\n",
              "  }\n",
              "\n",
              "  [theme=dark] .colab-df-quickchart {\n",
              "      --bg-color: #3B4455;\n",
              "      --fill-color: #D2E3FC;\n",
              "      --hover-bg-color: #434B5C;\n",
              "      --hover-fill-color: #FFFFFF;\n",
              "      --disabled-bg-color: #3B4455;\n",
              "      --disabled-fill-color: #666;\n",
              "  }\n",
              "\n",
              "  .colab-df-quickchart {\n",
              "    background-color: var(--bg-color);\n",
              "    border: none;\n",
              "    border-radius: 50%;\n",
              "    cursor: pointer;\n",
              "    display: none;\n",
              "    fill: var(--fill-color);\n",
              "    height: 32px;\n",
              "    padding: 0;\n",
              "    width: 32px;\n",
              "  }\n",
              "\n",
              "  .colab-df-quickchart:hover {\n",
              "    background-color: var(--hover-bg-color);\n",
              "    box-shadow: 0 1px 2px rgba(60, 64, 67, 0.3), 0 1px 3px 1px rgba(60, 64, 67, 0.15);\n",
              "    fill: var(--button-hover-fill-color);\n",
              "  }\n",
              "\n",
              "  .colab-df-quickchart-complete:disabled,\n",
              "  .colab-df-quickchart-complete:disabled:hover {\n",
              "    background-color: var(--disabled-bg-color);\n",
              "    fill: var(--disabled-fill-color);\n",
              "    box-shadow: none;\n",
              "  }\n",
              "\n",
              "  .colab-df-spinner {\n",
              "    border: 2px solid var(--fill-color);\n",
              "    border-color: transparent;\n",
              "    border-bottom-color: var(--fill-color);\n",
              "    animation:\n",
              "      spin 1s steps(1) infinite;\n",
              "  }\n",
              "\n",
              "  @keyframes spin {\n",
              "    0% {\n",
              "      border-color: transparent;\n",
              "      border-bottom-color: var(--fill-color);\n",
              "      border-left-color: var(--fill-color);\n",
              "    }\n",
              "    20% {\n",
              "      border-color: transparent;\n",
              "      border-left-color: var(--fill-color);\n",
              "      border-top-color: var(--fill-color);\n",
              "    }\n",
              "    30% {\n",
              "      border-color: transparent;\n",
              "      border-left-color: var(--fill-color);\n",
              "      border-top-color: var(--fill-color);\n",
              "      border-right-color: var(--fill-color);\n",
              "    }\n",
              "    40% {\n",
              "      border-color: transparent;\n",
              "      border-right-color: var(--fill-color);\n",
              "      border-top-color: var(--fill-color);\n",
              "    }\n",
              "    60% {\n",
              "      border-color: transparent;\n",
              "      border-right-color: var(--fill-color);\n",
              "    }\n",
              "    80% {\n",
              "      border-color: transparent;\n",
              "      border-right-color: var(--fill-color);\n",
              "      border-bottom-color: var(--fill-color);\n",
              "    }\n",
              "    90% {\n",
              "      border-color: transparent;\n",
              "      border-bottom-color: var(--fill-color);\n",
              "    }\n",
              "  }\n",
              "</style>\n",
              "\n",
              "  <script>\n",
              "    async function quickchart(key) {\n",
              "      const quickchartButtonEl =\n",
              "        document.querySelector('#' + key + ' button');\n",
              "      quickchartButtonEl.disabled = true;  // To prevent multiple clicks.\n",
              "      quickchartButtonEl.classList.add('colab-df-spinner');\n",
              "      try {\n",
              "        const charts = await google.colab.kernel.invokeFunction(\n",
              "            'suggestCharts', [key], {});\n",
              "      } catch (error) {\n",
              "        console.error('Error during call to suggestCharts:', error);\n",
              "      }\n",
              "      quickchartButtonEl.classList.remove('colab-df-spinner');\n",
              "      quickchartButtonEl.classList.add('colab-df-quickchart-complete');\n",
              "    }\n",
              "    (() => {\n",
              "      let quickchartButtonEl =\n",
              "        document.querySelector('#df-509ed80f-d621-4436-84b9-f5ba7bf5ee92 button');\n",
              "      quickchartButtonEl.style.display =\n",
              "        google.colab.kernel.accessAllowed ? 'block' : 'none';\n",
              "    })();\n",
              "  </script>\n",
              "</div>\n",
              "    </div>\n",
              "  </div>\n"
            ]
          },
          "metadata": {},
          "execution_count": 83
        }
      ]
    },
    {
      "cell_type": "code",
      "source": [
        "reply_list = []\n",
        "for reply in train['reply']:\n",
        "    if isinstance(reply, str):\n",
        "        pat = re.compile(\"[^a-zA-Z가-힣0-9]\")\n",
        "        # pat = re.compile(\"[^a-zA-Z가-힣0-9.,~?!]\")\n",
        "        result = pat.sub(\" \", reply)\n",
        "\n",
        "        # result = re.sub(r'\\.{2,}', '.', result)\n",
        "        # result = re.sub(r'\\,{2,}', ',', result)\n",
        "        # result = re.sub(r'\\~{2,}', '~', result)\n",
        "        # result = re.sub(r'\\!{2,}', '!', result)\n",
        "        # result = re.sub(r'\\?{2,}', '?', result)\n",
        "        result = re.sub(\" +\", \" \", result)\n",
        "        reply_list.append(result)\n",
        "    else:\n",
        "        reply_list.append(\"\")\n",
        "\n",
        "train['reply'] = reply_list\n",
        "train.head()"
      ],
      "metadata": {
        "colab": {
          "base_uri": "https://localhost:8080/",
          "height": 206
        },
        "id": "L-Yw1bDhkHf5",
        "outputId": "ec7a99ab-c3f8-4f03-8ef9-f6d5a3c67d2f"
      },
      "execution_count": 84,
      "outputs": [
        {
          "output_type": "execute_result",
          "data": {
            "text/plain": [
              "                              review  \\\n",
              "1       리뷰가 늦었네요 맛있게 잘 먹었습니다 또 시킬게요    \n",
              "2  잘 먹었습니다 다만 주문에 있던 펩시콜라는 받지 못했습니다    \n",
              "3                 굿 말이 필요 없는 메뉴 였습니다   \n",
              "4                        맛있어요 양도많구좋음   \n",
              "5                          양많고 맛있었어요   \n",
              "\n",
              "                                               reply  star  \n",
              "1  좋은 리뷰 덕분에 기분이 행복해지는 것 같아요 고객님께서 맛있다고 말씀 주시니 피로...     5  \n",
              "2  소중한 식사 시간에 저희 매장을 찾아 주셔서 감사드립니다 저희를 찾아 주신 만큼 1...     5  \n",
              "3  수 많은 매장들을 헤치고 와주셔서 감사합니다 저희 매장의 메뉴를 제대로 즐기신 거 ...     5  \n",
              "4  수 많은 매장들을 헤치고 와주셔서 감사합니다 메뉴 그 자체로 행복을 드리고 싶었는데...     5  \n",
              "5  저희 매장 찾아주신 것도 감사한데 리뷰까지 감동입니다 고객님들의 배고픔을 저희는 지...     5  "
            ],
            "text/html": [
              "\n",
              "  <div id=\"df-059c57a2-5037-47a1-a16d-92400f0d99f5\" class=\"colab-df-container\">\n",
              "    <div>\n",
              "<style scoped>\n",
              "    .dataframe tbody tr th:only-of-type {\n",
              "        vertical-align: middle;\n",
              "    }\n",
              "\n",
              "    .dataframe tbody tr th {\n",
              "        vertical-align: top;\n",
              "    }\n",
              "\n",
              "    .dataframe thead th {\n",
              "        text-align: right;\n",
              "    }\n",
              "</style>\n",
              "<table border=\"1\" class=\"dataframe\">\n",
              "  <thead>\n",
              "    <tr style=\"text-align: right;\">\n",
              "      <th></th>\n",
              "      <th>review</th>\n",
              "      <th>reply</th>\n",
              "      <th>star</th>\n",
              "    </tr>\n",
              "  </thead>\n",
              "  <tbody>\n",
              "    <tr>\n",
              "      <th>1</th>\n",
              "      <td>리뷰가 늦었네요 맛있게 잘 먹었습니다 또 시킬게요</td>\n",
              "      <td>좋은 리뷰 덕분에 기분이 행복해지는 것 같아요 고객님께서 맛있다고 말씀 주시니 피로...</td>\n",
              "      <td>5</td>\n",
              "    </tr>\n",
              "    <tr>\n",
              "      <th>2</th>\n",
              "      <td>잘 먹었습니다 다만 주문에 있던 펩시콜라는 받지 못했습니다</td>\n",
              "      <td>소중한 식사 시간에 저희 매장을 찾아 주셔서 감사드립니다 저희를 찾아 주신 만큼 1...</td>\n",
              "      <td>5</td>\n",
              "    </tr>\n",
              "    <tr>\n",
              "      <th>3</th>\n",
              "      <td>굿 말이 필요 없는 메뉴 였습니다</td>\n",
              "      <td>수 많은 매장들을 헤치고 와주셔서 감사합니다 저희 매장의 메뉴를 제대로 즐기신 거 ...</td>\n",
              "      <td>5</td>\n",
              "    </tr>\n",
              "    <tr>\n",
              "      <th>4</th>\n",
              "      <td>맛있어요 양도많구좋음</td>\n",
              "      <td>수 많은 매장들을 헤치고 와주셔서 감사합니다 메뉴 그 자체로 행복을 드리고 싶었는데...</td>\n",
              "      <td>5</td>\n",
              "    </tr>\n",
              "    <tr>\n",
              "      <th>5</th>\n",
              "      <td>양많고 맛있었어요</td>\n",
              "      <td>저희 매장 찾아주신 것도 감사한데 리뷰까지 감동입니다 고객님들의 배고픔을 저희는 지...</td>\n",
              "      <td>5</td>\n",
              "    </tr>\n",
              "  </tbody>\n",
              "</table>\n",
              "</div>\n",
              "    <div class=\"colab-df-buttons\">\n",
              "\n",
              "  <div class=\"colab-df-container\">\n",
              "    <button class=\"colab-df-convert\" onclick=\"convertToInteractive('df-059c57a2-5037-47a1-a16d-92400f0d99f5')\"\n",
              "            title=\"Convert this dataframe to an interactive table.\"\n",
              "            style=\"display:none;\">\n",
              "\n",
              "  <svg xmlns=\"http://www.w3.org/2000/svg\" height=\"24px\" viewBox=\"0 -960 960 960\">\n",
              "    <path d=\"M120-120v-720h720v720H120Zm60-500h600v-160H180v160Zm220 220h160v-160H400v160Zm0 220h160v-160H400v160ZM180-400h160v-160H180v160Zm440 0h160v-160H620v160ZM180-180h160v-160H180v160Zm440 0h160v-160H620v160Z\"/>\n",
              "  </svg>\n",
              "    </button>\n",
              "\n",
              "  <style>\n",
              "    .colab-df-container {\n",
              "      display:flex;\n",
              "      gap: 12px;\n",
              "    }\n",
              "\n",
              "    .colab-df-convert {\n",
              "      background-color: #E8F0FE;\n",
              "      border: none;\n",
              "      border-radius: 50%;\n",
              "      cursor: pointer;\n",
              "      display: none;\n",
              "      fill: #1967D2;\n",
              "      height: 32px;\n",
              "      padding: 0 0 0 0;\n",
              "      width: 32px;\n",
              "    }\n",
              "\n",
              "    .colab-df-convert:hover {\n",
              "      background-color: #E2EBFA;\n",
              "      box-shadow: 0px 1px 2px rgba(60, 64, 67, 0.3), 0px 1px 3px 1px rgba(60, 64, 67, 0.15);\n",
              "      fill: #174EA6;\n",
              "    }\n",
              "\n",
              "    .colab-df-buttons div {\n",
              "      margin-bottom: 4px;\n",
              "    }\n",
              "\n",
              "    [theme=dark] .colab-df-convert {\n",
              "      background-color: #3B4455;\n",
              "      fill: #D2E3FC;\n",
              "    }\n",
              "\n",
              "    [theme=dark] .colab-df-convert:hover {\n",
              "      background-color: #434B5C;\n",
              "      box-shadow: 0px 1px 3px 1px rgba(0, 0, 0, 0.15);\n",
              "      filter: drop-shadow(0px 1px 2px rgba(0, 0, 0, 0.3));\n",
              "      fill: #FFFFFF;\n",
              "    }\n",
              "  </style>\n",
              "\n",
              "    <script>\n",
              "      const buttonEl =\n",
              "        document.querySelector('#df-059c57a2-5037-47a1-a16d-92400f0d99f5 button.colab-df-convert');\n",
              "      buttonEl.style.display =\n",
              "        google.colab.kernel.accessAllowed ? 'block' : 'none';\n",
              "\n",
              "      async function convertToInteractive(key) {\n",
              "        const element = document.querySelector('#df-059c57a2-5037-47a1-a16d-92400f0d99f5');\n",
              "        const dataTable =\n",
              "          await google.colab.kernel.invokeFunction('convertToInteractive',\n",
              "                                                    [key], {});\n",
              "        if (!dataTable) return;\n",
              "\n",
              "        const docLinkHtml = 'Like what you see? Visit the ' +\n",
              "          '<a target=\"_blank\" href=https://colab.research.google.com/notebooks/data_table.ipynb>data table notebook</a>'\n",
              "          + ' to learn more about interactive tables.';\n",
              "        element.innerHTML = '';\n",
              "        dataTable['output_type'] = 'display_data';\n",
              "        await google.colab.output.renderOutput(dataTable, element);\n",
              "        const docLink = document.createElement('div');\n",
              "        docLink.innerHTML = docLinkHtml;\n",
              "        element.appendChild(docLink);\n",
              "      }\n",
              "    </script>\n",
              "  </div>\n",
              "\n",
              "\n",
              "<div id=\"df-59b9fd4d-c9b0-4b70-8b6a-c29ba1cd1a3a\">\n",
              "  <button class=\"colab-df-quickchart\" onclick=\"quickchart('df-59b9fd4d-c9b0-4b70-8b6a-c29ba1cd1a3a')\"\n",
              "            title=\"Suggest charts.\"\n",
              "            style=\"display:none;\">\n",
              "\n",
              "<svg xmlns=\"http://www.w3.org/2000/svg\" height=\"24px\"viewBox=\"0 0 24 24\"\n",
              "     width=\"24px\">\n",
              "    <g>\n",
              "        <path d=\"M19 3H5c-1.1 0-2 .9-2 2v14c0 1.1.9 2 2 2h14c1.1 0 2-.9 2-2V5c0-1.1-.9-2-2-2zM9 17H7v-7h2v7zm4 0h-2V7h2v10zm4 0h-2v-4h2v4z\"/>\n",
              "    </g>\n",
              "</svg>\n",
              "  </button>\n",
              "\n",
              "<style>\n",
              "  .colab-df-quickchart {\n",
              "      --bg-color: #E8F0FE;\n",
              "      --fill-color: #1967D2;\n",
              "      --hover-bg-color: #E2EBFA;\n",
              "      --hover-fill-color: #174EA6;\n",
              "      --disabled-fill-color: #AAA;\n",
              "      --disabled-bg-color: #DDD;\n",
              "  }\n",
              "\n",
              "  [theme=dark] .colab-df-quickchart {\n",
              "      --bg-color: #3B4455;\n",
              "      --fill-color: #D2E3FC;\n",
              "      --hover-bg-color: #434B5C;\n",
              "      --hover-fill-color: #FFFFFF;\n",
              "      --disabled-bg-color: #3B4455;\n",
              "      --disabled-fill-color: #666;\n",
              "  }\n",
              "\n",
              "  .colab-df-quickchart {\n",
              "    background-color: var(--bg-color);\n",
              "    border: none;\n",
              "    border-radius: 50%;\n",
              "    cursor: pointer;\n",
              "    display: none;\n",
              "    fill: var(--fill-color);\n",
              "    height: 32px;\n",
              "    padding: 0;\n",
              "    width: 32px;\n",
              "  }\n",
              "\n",
              "  .colab-df-quickchart:hover {\n",
              "    background-color: var(--hover-bg-color);\n",
              "    box-shadow: 0 1px 2px rgba(60, 64, 67, 0.3), 0 1px 3px 1px rgba(60, 64, 67, 0.15);\n",
              "    fill: var(--button-hover-fill-color);\n",
              "  }\n",
              "\n",
              "  .colab-df-quickchart-complete:disabled,\n",
              "  .colab-df-quickchart-complete:disabled:hover {\n",
              "    background-color: var(--disabled-bg-color);\n",
              "    fill: var(--disabled-fill-color);\n",
              "    box-shadow: none;\n",
              "  }\n",
              "\n",
              "  .colab-df-spinner {\n",
              "    border: 2px solid var(--fill-color);\n",
              "    border-color: transparent;\n",
              "    border-bottom-color: var(--fill-color);\n",
              "    animation:\n",
              "      spin 1s steps(1) infinite;\n",
              "  }\n",
              "\n",
              "  @keyframes spin {\n",
              "    0% {\n",
              "      border-color: transparent;\n",
              "      border-bottom-color: var(--fill-color);\n",
              "      border-left-color: var(--fill-color);\n",
              "    }\n",
              "    20% {\n",
              "      border-color: transparent;\n",
              "      border-left-color: var(--fill-color);\n",
              "      border-top-color: var(--fill-color);\n",
              "    }\n",
              "    30% {\n",
              "      border-color: transparent;\n",
              "      border-left-color: var(--fill-color);\n",
              "      border-top-color: var(--fill-color);\n",
              "      border-right-color: var(--fill-color);\n",
              "    }\n",
              "    40% {\n",
              "      border-color: transparent;\n",
              "      border-right-color: var(--fill-color);\n",
              "      border-top-color: var(--fill-color);\n",
              "    }\n",
              "    60% {\n",
              "      border-color: transparent;\n",
              "      border-right-color: var(--fill-color);\n",
              "    }\n",
              "    80% {\n",
              "      border-color: transparent;\n",
              "      border-right-color: var(--fill-color);\n",
              "      border-bottom-color: var(--fill-color);\n",
              "    }\n",
              "    90% {\n",
              "      border-color: transparent;\n",
              "      border-bottom-color: var(--fill-color);\n",
              "    }\n",
              "  }\n",
              "</style>\n",
              "\n",
              "  <script>\n",
              "    async function quickchart(key) {\n",
              "      const quickchartButtonEl =\n",
              "        document.querySelector('#' + key + ' button');\n",
              "      quickchartButtonEl.disabled = true;  // To prevent multiple clicks.\n",
              "      quickchartButtonEl.classList.add('colab-df-spinner');\n",
              "      try {\n",
              "        const charts = await google.colab.kernel.invokeFunction(\n",
              "            'suggestCharts', [key], {});\n",
              "      } catch (error) {\n",
              "        console.error('Error during call to suggestCharts:', error);\n",
              "      }\n",
              "      quickchartButtonEl.classList.remove('colab-df-spinner');\n",
              "      quickchartButtonEl.classList.add('colab-df-quickchart-complete');\n",
              "    }\n",
              "    (() => {\n",
              "      let quickchartButtonEl =\n",
              "        document.querySelector('#df-59b9fd4d-c9b0-4b70-8b6a-c29ba1cd1a3a button');\n",
              "      quickchartButtonEl.style.display =\n",
              "        google.colab.kernel.accessAllowed ? 'block' : 'none';\n",
              "    })();\n",
              "  </script>\n",
              "</div>\n",
              "    </div>\n",
              "  </div>\n"
            ]
          },
          "metadata": {},
          "execution_count": 84
        }
      ]
    },
    {
      "cell_type": "markdown",
      "source": [
        "### \"~~님\" → \"고객님\"으로 변환"
      ],
      "metadata": {
        "id": "kGzp2f09pN2x"
      }
    },
    {
      "cell_type": "code",
      "source": [
        "train['reply'] = train['reply'].str.replace(r'\\w+\\s*님', '고객님', regex=True)"
      ],
      "metadata": {
        "id": "SRMlbtaPoOql"
      },
      "execution_count": 85,
      "outputs": []
    },
    {
      "cell_type": "markdown",
      "source": [
        "# 텍스트 Paraphrase\n",
        "```\n",
        "https://huggingface.co/lcw99/t5-base-korean-paraphrase\n",
        "```"
      ],
      "metadata": {
        "id": "cByHbucXMlP_"
      }
    },
    {
      "cell_type": "code",
      "source": [
        "train['star'].value_counts().sort_index() # 별점 분포 확인"
      ],
      "metadata": {
        "colab": {
          "base_uri": "https://localhost:8080/"
        },
        "id": "B9VShAVPMW6_",
        "outputId": "15890d4b-2d23-471d-9220-e41d996b091f"
      },
      "execution_count": 86,
      "outputs": [
        {
          "output_type": "execute_result",
          "data": {
            "text/plain": [
              "1      90\n",
              "2      61\n",
              "3     153\n",
              "4     422\n",
              "5    9776\n",
              "Name: star, dtype: int64"
            ]
          },
          "metadata": {},
          "execution_count": 86
        }
      ]
    },
    {
      "cell_type": "code",
      "source": [
        "train[train['star'] == 1].index"
      ],
      "metadata": {
        "colab": {
          "base_uri": "https://localhost:8080/"
        },
        "id": "Ge7PPFbi9bEy",
        "outputId": "5987ffaa-3f58-4012-c84b-13eb7baa882f"
      },
      "execution_count": 87,
      "outputs": [
        {
          "output_type": "execute_result",
          "data": {
            "text/plain": [
              "Int64Index([   96,   144,   252,   363,   401,   658,  1552,  1835,  1951,\n",
              "             1988,  2002,  2049,  2171,  2228,  2229,  2509,  2653,  2780,\n",
              "             2858,  3636,  3731,  3861,  4390,  4857,  4922,  4990,  5120,\n",
              "             5662,  6005,  6984,  7367,  7427,  7450,  7508,  7653,  7693,\n",
              "             7849,  8068,  8238,  8294,  8477,  8555,  8605,  8652,  8790,\n",
              "             9233,  9449,  9594,  9799,  9881, 10398, 10811, 10938, 11612,\n",
              "            11670, 12519, 12526, 12583, 12646, 12755, 13079, 13135, 13173,\n",
              "            13209, 13347, 13714, 13980, 14404, 14410, 14413, 14425, 14515,\n",
              "            14599, 14616, 14853, 15130, 15299, 15599, 15798, 15800, 15811,\n",
              "            15911, 16088, 16113, 16265, 16302, 16401, 17313, 17679, 18188],\n",
              "           dtype='int64')"
            ]
          },
          "metadata": {},
          "execution_count": 87
        }
      ]
    },
    {
      "cell_type": "code",
      "source": [
        "from transformers import pipeline\n",
        "pipe = pipeline(\"text2text-generation\", model=\"lcw99/t5-base-korean-paraphrase\")"
      ],
      "metadata": {
        "id": "_53Nzgj45SqG"
      },
      "execution_count": 88,
      "outputs": []
    },
    {
      "cell_type": "code",
      "source": [
        "train['review'][96]"
      ],
      "metadata": {
        "colab": {
          "base_uri": "https://localhost:8080/",
          "height": 72
        },
        "id": "AYFd8sVz_RE9",
        "outputId": "2cf0cc67-f847-4d9b-a95e-b0074953f142"
      },
      "execution_count": 89,
      "outputs": [
        {
          "output_type": "execute_result",
          "data": {
            "text/plain": [
              "'리뷰 이벤트 한다지만 너무 아닌 거 같아서 적습니다 배달이 20분 넘게 안오길래 전화해서 배달이 안온다 했더니 여자분께서 한숨 푹 쉬시면서 하아 비가 와서 배달 기사 안 잡힌다 하시는데 제가 뭐 그런거에 이해 못하는 사람도 아니고 그냥 안와서 물어보는건데 한숨음 왜 크게 쉬시나요 아니 돈을 내고 배달 시간도 20분이나 지나서 물어보는게 잘못된건가요 배달기사한테 도착하면 문자 달라고 하니까 문자도 안주셔서 밥은 식은 상태로 먹고 진짜 배달 시켜 먹어본곳 중에 제일 최악이네요 여긴'"
            ],
            "application/vnd.google.colaboratory.intrinsic+json": {
              "type": "string"
            }
          },
          "metadata": {},
          "execution_count": 89
        }
      ]
    },
    {
      "cell_type": "code",
      "source": [
        "prompt = train['review'][96]\n",
        "generated_text = pipe(prompt, max_length=128, num_beams=3, num_return_sequences=1, no_repeat_ngram_size=3, top_k=50, top_p=0.95, early_stopping=True)\n",
        "# print(\"리뷰: \", prompt)\n",
        "print(\"paraphrase: \", generated_text[0]['generated_text'])"
      ],
      "metadata": {
        "colab": {
          "base_uri": "https://localhost:8080/"
        },
        "id": "Xvnwoz7o_HrW",
        "outputId": "2f920fdc-0fb9-43d5-f53c-b34e359fb14e"
      },
      "execution_count": 90,
      "outputs": [
        {
          "output_type": "stream",
          "name": "stdout",
          "text": [
            "paraphrase:  아니 그런데 배달이 20분 넘게 안와서 전화해서 물어보니 배달 기사님이 비가 와서 못 간다고 하시는데 제가 그 말을 이해할 수 없습니다.\n"
          ]
        }
      ]
    },
    {
      "cell_type": "code",
      "source": [
        "train['reply'][96]"
      ],
      "metadata": {
        "colab": {
          "base_uri": "https://localhost:8080/",
          "height": 54
        },
        "id": "8-xDiqza_fW4",
        "outputId": "1c52328e-befb-44a6-8602-83de7864b5d6"
      },
      "execution_count": 91,
      "outputs": [
        {
          "output_type": "execute_result",
          "data": {
            "text/plain": [
              "'안녕하세요 1988응답하라추억의옛날도시락 입니다 주신 리뷰 잘 읽었습니다 뒤돌아 보니 저희 응대에 미흡했던 점이 있던 것 같네요 응대 메뉴얼을 재점검 하도록 하겠습니다 이미 느끼신 불편함을 주워 담을 순 없지만 다음에 오실 때 요청 사항에 이 내용 남겨 주시면 저희가 더 신경 쓸 수 있도록 하겠습니다 그땐 온전한 만족감을 드릴 수 있도록 최선을 다하겠습니다 감사합니다 '"
            ],
            "application/vnd.google.colaboratory.intrinsic+json": {
              "type": "string"
            }
          },
          "metadata": {},
          "execution_count": 91
        }
      ]
    },
    {
      "cell_type": "code",
      "source": [
        "prompt = train['reply'][96]\n",
        "generated_text = pipe(prompt, max_length=128, num_beams=4, num_return_sequences=1, no_repeat_ngram_size=4, top_k=50, top_p=0.95, early_stopping=True)\n",
        "print(generated_text[0]['generated_text'])"
      ],
      "metadata": {
        "colab": {
          "base_uri": "https://localhost:8080/"
        },
        "id": "8Cw294p4_f1M",
        "outputId": "5b53a652-840b-4630-8c40-6d011fb06f46"
      },
      "execution_count": 92,
      "outputs": [
        {
          "output_type": "stream",
          "name": "stdout",
          "text": [
            "저희가 미처 생각하지 못한 부분이 있기 때문에 다시 한번 감사의 마음을 전하고 싶습니다.\n"
          ]
        }
      ]
    },
    {
      "cell_type": "code",
      "source": [
        "train['review'][144]"
      ],
      "metadata": {
        "colab": {
          "base_uri": "https://localhost:8080/",
          "height": 35
        },
        "outputId": "369e9563-bbf9-47de-bc5f-02a85783a53e",
        "id": "3jdT1ieHD6Vl"
      },
      "execution_count": 57,
      "outputs": [
        {
          "output_type": "execute_result",
          "data": {
            "text/plain": [
              "'진짜리뷰안쓰는데 양이 2만원씩내고 먹을양은 절대아닙니다 \\n장난하는것도아니고'"
            ],
            "application/vnd.google.colaboratory.intrinsic+json": {
              "type": "string"
            }
          },
          "metadata": {},
          "execution_count": 57
        }
      ]
    },
    {
      "cell_type": "code",
      "source": [
        "prompt = train['review'][144]\n",
        "generated_text = pipe(prompt, max_length=128, num_beams=5, num_return_sequences=5, no_repeat_ngram_size=3, top_k=50, top_p=0.95, early_stopping=True)\n",
        "# print(\"리뷰: \", prompt)\n",
        "print(\"paraphrase: \", generated_text[0]['generated_text'])"
      ],
      "metadata": {
        "colab": {
          "base_uri": "https://localhost:8080/"
        },
        "outputId": "2458d1ec-6b4d-4d17-ee80-5a1c9fdcbda8",
        "id": "vCtgNr4jD6Vm"
      },
      "execution_count": 93,
      "outputs": [
        {
          "output_type": "stream",
          "name": "stdout",
          "text": [
            "paraphrase:  진짜 2만원씩 내고 두번먹을 양이면 충분한데 제가 장난으로 글을 쓴것도 아니고 진짜 양이 너무 많아서 남길 생각도 없습니다.\n"
          ]
        }
      ]
    },
    {
      "cell_type": "code",
      "source": [
        "train['reply'][144]"
      ],
      "metadata": {
        "colab": {
          "base_uri": "https://localhost:8080/",
          "height": 54
        },
        "outputId": "c799438d-6c84-4cdd-a392-3debf65e77be",
        "id": "QCfL7y5hD6Vm"
      },
      "execution_count": 94,
      "outputs": [
        {
          "output_type": "execute_result",
          "data": {
            "text/plain": [
              "'솔직한 리뷰 남겨 주셔서 감사합니다 저희 1988응답하라추억의옛날도시락은 언제나 약속 드린 정량을 드리기 위해 노력하고 있습니다 드렸을 때 준비 과정을 다시 살펴 보고 혹시 미흡했던 점은 없었는지 확인하겠습니다 아울러 본사 측에도 이 의견 전달 해서 더 개선 될 수 있는 부분은 없는지 검토해 보겠습니다 다음에 오실 때 요청 사항에 이 내용 남겨 주시면 저희가 더 신경 쓸 수 있도록 하겠습니다 감사합니다 '"
            ],
            "application/vnd.google.colaboratory.intrinsic+json": {
              "type": "string"
            }
          },
          "metadata": {},
          "execution_count": 94
        }
      ]
    },
    {
      "cell_type": "code",
      "source": [
        "prompt = train['reply'][144]\n",
        "generated_text = pipe(prompt, max_length=128, num_beams=4, num_return_sequences=1, no_repeat_ngram_size=4, top_k=50, top_p=0.95, early_stopping=True)\n",
        "print(generated_text[0]['generated_text'])"
      ],
      "metadata": {
        "colab": {
          "base_uri": "https://localhost:8080/"
        },
        "outputId": "c5caf8db-aefa-43d3-8eec-1811e81cbabe",
        "id": "lQrd0QuHD6Vm"
      },
      "execution_count": 95,
      "outputs": [
        {
          "output_type": "stream",
          "name": "stdout",
          "text": [
            "저희 1988응답하라추억의옛날도시락은 언제나 약속 드린 정량을 지키기 위해 노력하고 있습니다 전달 시 준비 과정을 다시 살펴 보고 혹시 부족한 점은 없는지 검토해 보겠습니다.\n"
          ]
        }
      ]
    },
    {
      "cell_type": "markdown",
      "source": [
        "## 하이퍼파라미터 튜닝"
      ],
      "metadata": {
        "id": "CdyCymneMfan"
      }
    },
    {
      "cell_type": "code",
      "source": [
        "star_1 = train[train['star'] == 1]\n",
        "star_2 = train[train['star'] == 2]\n",
        "star_3 = train[train['star'] == 3]\n",
        "star_4 = train[train['star'] == 4]\n",
        "\n",
        "train_star = pd.concat([star_1, star_2, star_3, star_4], ignore_index=True)\n",
        "train_star"
      ],
      "metadata": {
        "colab": {
          "base_uri": "https://localhost:8080/",
          "height": 424
        },
        "id": "9_nyFAKHN3Me",
        "outputId": "0de61a66-f260-4e30-9083-c847d44b38cf"
      },
      "execution_count": 96,
      "outputs": [
        {
          "output_type": "execute_result",
          "data": {
            "text/plain": [
              "                                                review  \\\n",
              "0    리뷰 이벤트 한다지만 너무 아닌 거 같아서 적습니다 배달이 20분 넘게 안오길래 전...   \n",
              "1             진짜리뷰안쓰는데 양이 2만원씩내고 먹을양은 절대아닙니다 장난하는것도아니고   \n",
              "2                  만들어 놓은지 한참 된 커피 배달 예정 시간 25분이 지났어요    \n",
              "3    밥이 쉬었어요 단무지 때문도 아니고 김이 많아서 그런것도 아니고 쉬어서 냄새가 나서...   \n",
              "4    잠실점에 처음 시켜먹었던게 맛있어서 주문했더니 돈 은 나갔는데 다시 앱을 들어와보니...   \n",
              "..                                                 ...   \n",
              "721                                        맛있게 잘 먹었습니다   \n",
              "722                 국은 시원하게 맛있었어요 국물양이 더 많았으면 더 좋았겠습니다   \n",
              "723  배송 맛 반찬등 구성도 좋고 맛도 괜찮고 가격도 넘좋아요 양이 좀만더 많음 좋겠어용...   \n",
              "724                                  잘먹었숩당 양은 증말로 많아요    \n",
              "725          요청사항을 항상 잘 들어주셨는데 오늘은 못 모셨나봐요 그래도 잘 먹었습니다   \n",
              "\n",
              "                                                 reply  star  \n",
              "0    안녕하세요 1988응답하라추억의옛날도시락 입니다 주신 리뷰 잘 읽었습니다 뒤돌아 보...     1  \n",
              "1    솔직한 리뷰 남겨 주셔서 감사합니다 저희 1988응답하라추억의옛날도시락은 언제나 약...     1  \n",
              "2    안녕하세요 배달이 늦어져 죄송합니다 한파로 길이 얼어서 고객님들이 상황이 여유치가 ...     1  \n",
              "3    밥이 쉬다뇨 말도 안되는 소리좀 하지마세요 진짜 먼 정신이 이상한 사람인가 하루에 ...     1  \n",
              "4    요기요가 주문어플에 렉이 자주 있어서 여러가지로 혼돈이 있어 정말 죄송하게 되었습니...     1  \n",
              "..                                                 ...   ...  \n",
              "721                맛있게 드셔주셔서 감사드립니다 더 노력하는 보둘미역이 되겠습니다     4  \n",
              "722  맛있게 드셨다니 감사드립니다 매장과 같이 최대한 드리고있습니다 배달용기에 국물을 더...     4  \n",
              "723  양이 좀 적어셨나봐요 보통 1인분에 두명도 드실수있는 양인데 그래도 맛있게 드셨다니...     4  \n",
              "724                  맛있게 드셔주셔서 감사합니다 별 5개 받도록 노력하겠습니다      4  \n",
              "725                                 죄송합니다 다음에도 애용해주세용      4  \n",
              "\n",
              "[726 rows x 3 columns]"
            ],
            "text/html": [
              "\n",
              "  <div id=\"df-224d497f-7f7f-434f-9d7e-90570bac1ae1\" class=\"colab-df-container\">\n",
              "    <div>\n",
              "<style scoped>\n",
              "    .dataframe tbody tr th:only-of-type {\n",
              "        vertical-align: middle;\n",
              "    }\n",
              "\n",
              "    .dataframe tbody tr th {\n",
              "        vertical-align: top;\n",
              "    }\n",
              "\n",
              "    .dataframe thead th {\n",
              "        text-align: right;\n",
              "    }\n",
              "</style>\n",
              "<table border=\"1\" class=\"dataframe\">\n",
              "  <thead>\n",
              "    <tr style=\"text-align: right;\">\n",
              "      <th></th>\n",
              "      <th>review</th>\n",
              "      <th>reply</th>\n",
              "      <th>star</th>\n",
              "    </tr>\n",
              "  </thead>\n",
              "  <tbody>\n",
              "    <tr>\n",
              "      <th>0</th>\n",
              "      <td>리뷰 이벤트 한다지만 너무 아닌 거 같아서 적습니다 배달이 20분 넘게 안오길래 전...</td>\n",
              "      <td>안녕하세요 1988응답하라추억의옛날도시락 입니다 주신 리뷰 잘 읽었습니다 뒤돌아 보...</td>\n",
              "      <td>1</td>\n",
              "    </tr>\n",
              "    <tr>\n",
              "      <th>1</th>\n",
              "      <td>진짜리뷰안쓰는데 양이 2만원씩내고 먹을양은 절대아닙니다 장난하는것도아니고</td>\n",
              "      <td>솔직한 리뷰 남겨 주셔서 감사합니다 저희 1988응답하라추억의옛날도시락은 언제나 약...</td>\n",
              "      <td>1</td>\n",
              "    </tr>\n",
              "    <tr>\n",
              "      <th>2</th>\n",
              "      <td>만들어 놓은지 한참 된 커피 배달 예정 시간 25분이 지났어요</td>\n",
              "      <td>안녕하세요 배달이 늦어져 죄송합니다 한파로 길이 얼어서 고객님들이 상황이 여유치가 ...</td>\n",
              "      <td>1</td>\n",
              "    </tr>\n",
              "    <tr>\n",
              "      <th>3</th>\n",
              "      <td>밥이 쉬었어요 단무지 때문도 아니고 김이 많아서 그런것도 아니고 쉬어서 냄새가 나서...</td>\n",
              "      <td>밥이 쉬다뇨 말도 안되는 소리좀 하지마세요 진짜 먼 정신이 이상한 사람인가 하루에 ...</td>\n",
              "      <td>1</td>\n",
              "    </tr>\n",
              "    <tr>\n",
              "      <th>4</th>\n",
              "      <td>잠실점에 처음 시켜먹었던게 맛있어서 주문했더니 돈 은 나갔는데 다시 앱을 들어와보니...</td>\n",
              "      <td>요기요가 주문어플에 렉이 자주 있어서 여러가지로 혼돈이 있어 정말 죄송하게 되었습니...</td>\n",
              "      <td>1</td>\n",
              "    </tr>\n",
              "    <tr>\n",
              "      <th>...</th>\n",
              "      <td>...</td>\n",
              "      <td>...</td>\n",
              "      <td>...</td>\n",
              "    </tr>\n",
              "    <tr>\n",
              "      <th>721</th>\n",
              "      <td>맛있게 잘 먹었습니다</td>\n",
              "      <td>맛있게 드셔주셔서 감사드립니다 더 노력하는 보둘미역이 되겠습니다</td>\n",
              "      <td>4</td>\n",
              "    </tr>\n",
              "    <tr>\n",
              "      <th>722</th>\n",
              "      <td>국은 시원하게 맛있었어요 국물양이 더 많았으면 더 좋았겠습니다</td>\n",
              "      <td>맛있게 드셨다니 감사드립니다 매장과 같이 최대한 드리고있습니다 배달용기에 국물을 더...</td>\n",
              "      <td>4</td>\n",
              "    </tr>\n",
              "    <tr>\n",
              "      <th>723</th>\n",
              "      <td>배송 맛 반찬등 구성도 좋고 맛도 괜찮고 가격도 넘좋아요 양이 좀만더 많음 좋겠어용...</td>\n",
              "      <td>양이 좀 적어셨나봐요 보통 1인분에 두명도 드실수있는 양인데 그래도 맛있게 드셨다니...</td>\n",
              "      <td>4</td>\n",
              "    </tr>\n",
              "    <tr>\n",
              "      <th>724</th>\n",
              "      <td>잘먹었숩당 양은 증말로 많아요</td>\n",
              "      <td>맛있게 드셔주셔서 감사합니다 별 5개 받도록 노력하겠습니다</td>\n",
              "      <td>4</td>\n",
              "    </tr>\n",
              "    <tr>\n",
              "      <th>725</th>\n",
              "      <td>요청사항을 항상 잘 들어주셨는데 오늘은 못 모셨나봐요 그래도 잘 먹었습니다</td>\n",
              "      <td>죄송합니다 다음에도 애용해주세용</td>\n",
              "      <td>4</td>\n",
              "    </tr>\n",
              "  </tbody>\n",
              "</table>\n",
              "<p>726 rows × 3 columns</p>\n",
              "</div>\n",
              "    <div class=\"colab-df-buttons\">\n",
              "\n",
              "  <div class=\"colab-df-container\">\n",
              "    <button class=\"colab-df-convert\" onclick=\"convertToInteractive('df-224d497f-7f7f-434f-9d7e-90570bac1ae1')\"\n",
              "            title=\"Convert this dataframe to an interactive table.\"\n",
              "            style=\"display:none;\">\n",
              "\n",
              "  <svg xmlns=\"http://www.w3.org/2000/svg\" height=\"24px\" viewBox=\"0 -960 960 960\">\n",
              "    <path d=\"M120-120v-720h720v720H120Zm60-500h600v-160H180v160Zm220 220h160v-160H400v160Zm0 220h160v-160H400v160ZM180-400h160v-160H180v160Zm440 0h160v-160H620v160ZM180-180h160v-160H180v160Zm440 0h160v-160H620v160Z\"/>\n",
              "  </svg>\n",
              "    </button>\n",
              "\n",
              "  <style>\n",
              "    .colab-df-container {\n",
              "      display:flex;\n",
              "      gap: 12px;\n",
              "    }\n",
              "\n",
              "    .colab-df-convert {\n",
              "      background-color: #E8F0FE;\n",
              "      border: none;\n",
              "      border-radius: 50%;\n",
              "      cursor: pointer;\n",
              "      display: none;\n",
              "      fill: #1967D2;\n",
              "      height: 32px;\n",
              "      padding: 0 0 0 0;\n",
              "      width: 32px;\n",
              "    }\n",
              "\n",
              "    .colab-df-convert:hover {\n",
              "      background-color: #E2EBFA;\n",
              "      box-shadow: 0px 1px 2px rgba(60, 64, 67, 0.3), 0px 1px 3px 1px rgba(60, 64, 67, 0.15);\n",
              "      fill: #174EA6;\n",
              "    }\n",
              "\n",
              "    .colab-df-buttons div {\n",
              "      margin-bottom: 4px;\n",
              "    }\n",
              "\n",
              "    [theme=dark] .colab-df-convert {\n",
              "      background-color: #3B4455;\n",
              "      fill: #D2E3FC;\n",
              "    }\n",
              "\n",
              "    [theme=dark] .colab-df-convert:hover {\n",
              "      background-color: #434B5C;\n",
              "      box-shadow: 0px 1px 3px 1px rgba(0, 0, 0, 0.15);\n",
              "      filter: drop-shadow(0px 1px 2px rgba(0, 0, 0, 0.3));\n",
              "      fill: #FFFFFF;\n",
              "    }\n",
              "  </style>\n",
              "\n",
              "    <script>\n",
              "      const buttonEl =\n",
              "        document.querySelector('#df-224d497f-7f7f-434f-9d7e-90570bac1ae1 button.colab-df-convert');\n",
              "      buttonEl.style.display =\n",
              "        google.colab.kernel.accessAllowed ? 'block' : 'none';\n",
              "\n",
              "      async function convertToInteractive(key) {\n",
              "        const element = document.querySelector('#df-224d497f-7f7f-434f-9d7e-90570bac1ae1');\n",
              "        const dataTable =\n",
              "          await google.colab.kernel.invokeFunction('convertToInteractive',\n",
              "                                                    [key], {});\n",
              "        if (!dataTable) return;\n",
              "\n",
              "        const docLinkHtml = 'Like what you see? Visit the ' +\n",
              "          '<a target=\"_blank\" href=https://colab.research.google.com/notebooks/data_table.ipynb>data table notebook</a>'\n",
              "          + ' to learn more about interactive tables.';\n",
              "        element.innerHTML = '';\n",
              "        dataTable['output_type'] = 'display_data';\n",
              "        await google.colab.output.renderOutput(dataTable, element);\n",
              "        const docLink = document.createElement('div');\n",
              "        docLink.innerHTML = docLinkHtml;\n",
              "        element.appendChild(docLink);\n",
              "      }\n",
              "    </script>\n",
              "  </div>\n",
              "\n",
              "\n",
              "<div id=\"df-511d6d8a-9279-4694-ae00-8c1dbc25170a\">\n",
              "  <button class=\"colab-df-quickchart\" onclick=\"quickchart('df-511d6d8a-9279-4694-ae00-8c1dbc25170a')\"\n",
              "            title=\"Suggest charts.\"\n",
              "            style=\"display:none;\">\n",
              "\n",
              "<svg xmlns=\"http://www.w3.org/2000/svg\" height=\"24px\"viewBox=\"0 0 24 24\"\n",
              "     width=\"24px\">\n",
              "    <g>\n",
              "        <path d=\"M19 3H5c-1.1 0-2 .9-2 2v14c0 1.1.9 2 2 2h14c1.1 0 2-.9 2-2V5c0-1.1-.9-2-2-2zM9 17H7v-7h2v7zm4 0h-2V7h2v10zm4 0h-2v-4h2v4z\"/>\n",
              "    </g>\n",
              "</svg>\n",
              "  </button>\n",
              "\n",
              "<style>\n",
              "  .colab-df-quickchart {\n",
              "      --bg-color: #E8F0FE;\n",
              "      --fill-color: #1967D2;\n",
              "      --hover-bg-color: #E2EBFA;\n",
              "      --hover-fill-color: #174EA6;\n",
              "      --disabled-fill-color: #AAA;\n",
              "      --disabled-bg-color: #DDD;\n",
              "  }\n",
              "\n",
              "  [theme=dark] .colab-df-quickchart {\n",
              "      --bg-color: #3B4455;\n",
              "      --fill-color: #D2E3FC;\n",
              "      --hover-bg-color: #434B5C;\n",
              "      --hover-fill-color: #FFFFFF;\n",
              "      --disabled-bg-color: #3B4455;\n",
              "      --disabled-fill-color: #666;\n",
              "  }\n",
              "\n",
              "  .colab-df-quickchart {\n",
              "    background-color: var(--bg-color);\n",
              "    border: none;\n",
              "    border-radius: 50%;\n",
              "    cursor: pointer;\n",
              "    display: none;\n",
              "    fill: var(--fill-color);\n",
              "    height: 32px;\n",
              "    padding: 0;\n",
              "    width: 32px;\n",
              "  }\n",
              "\n",
              "  .colab-df-quickchart:hover {\n",
              "    background-color: var(--hover-bg-color);\n",
              "    box-shadow: 0 1px 2px rgba(60, 64, 67, 0.3), 0 1px 3px 1px rgba(60, 64, 67, 0.15);\n",
              "    fill: var(--button-hover-fill-color);\n",
              "  }\n",
              "\n",
              "  .colab-df-quickchart-complete:disabled,\n",
              "  .colab-df-quickchart-complete:disabled:hover {\n",
              "    background-color: var(--disabled-bg-color);\n",
              "    fill: var(--disabled-fill-color);\n",
              "    box-shadow: none;\n",
              "  }\n",
              "\n",
              "  .colab-df-spinner {\n",
              "    border: 2px solid var(--fill-color);\n",
              "    border-color: transparent;\n",
              "    border-bottom-color: var(--fill-color);\n",
              "    animation:\n",
              "      spin 1s steps(1) infinite;\n",
              "  }\n",
              "\n",
              "  @keyframes spin {\n",
              "    0% {\n",
              "      border-color: transparent;\n",
              "      border-bottom-color: var(--fill-color);\n",
              "      border-left-color: var(--fill-color);\n",
              "    }\n",
              "    20% {\n",
              "      border-color: transparent;\n",
              "      border-left-color: var(--fill-color);\n",
              "      border-top-color: var(--fill-color);\n",
              "    }\n",
              "    30% {\n",
              "      border-color: transparent;\n",
              "      border-left-color: var(--fill-color);\n",
              "      border-top-color: var(--fill-color);\n",
              "      border-right-color: var(--fill-color);\n",
              "    }\n",
              "    40% {\n",
              "      border-color: transparent;\n",
              "      border-right-color: var(--fill-color);\n",
              "      border-top-color: var(--fill-color);\n",
              "    }\n",
              "    60% {\n",
              "      border-color: transparent;\n",
              "      border-right-color: var(--fill-color);\n",
              "    }\n",
              "    80% {\n",
              "      border-color: transparent;\n",
              "      border-right-color: var(--fill-color);\n",
              "      border-bottom-color: var(--fill-color);\n",
              "    }\n",
              "    90% {\n",
              "      border-color: transparent;\n",
              "      border-bottom-color: var(--fill-color);\n",
              "    }\n",
              "  }\n",
              "</style>\n",
              "\n",
              "  <script>\n",
              "    async function quickchart(key) {\n",
              "      const quickchartButtonEl =\n",
              "        document.querySelector('#' + key + ' button');\n",
              "      quickchartButtonEl.disabled = true;  // To prevent multiple clicks.\n",
              "      quickchartButtonEl.classList.add('colab-df-spinner');\n",
              "      try {\n",
              "        const charts = await google.colab.kernel.invokeFunction(\n",
              "            'suggestCharts', [key], {});\n",
              "      } catch (error) {\n",
              "        console.error('Error during call to suggestCharts:', error);\n",
              "      }\n",
              "      quickchartButtonEl.classList.remove('colab-df-spinner');\n",
              "      quickchartButtonEl.classList.add('colab-df-quickchart-complete');\n",
              "    }\n",
              "    (() => {\n",
              "      let quickchartButtonEl =\n",
              "        document.querySelector('#df-511d6d8a-9279-4694-ae00-8c1dbc25170a button');\n",
              "      quickchartButtonEl.style.display =\n",
              "        google.colab.kernel.accessAllowed ? 'block' : 'none';\n",
              "    })();\n",
              "  </script>\n",
              "</div>\n",
              "    </div>\n",
              "  </div>\n"
            ]
          },
          "metadata": {},
          "execution_count": 96
        }
      ]
    },
    {
      "cell_type": "markdown",
      "source": [
        "### BLEU 계산 함수"
      ],
      "metadata": {
        "id": "4Tc4FyTMJRIK"
      }
    },
    {
      "cell_type": "code",
      "source": [
        "from nltk.translate.bleu_score import sentence_bleu\n",
        "\n",
        "def calculate_bleu(text, generated_text):\n",
        "    y = [text]  # 실제 데이터 y\n",
        "    X = generated_text  # 생성된 텍스트 X\n",
        "\n",
        "    # BLEU 점수 계산\n",
        "    bleu_score = sentence_bleu(y, X)\n",
        "    return bleu_score"
      ],
      "metadata": {
        "id": "2ovgrVVGJTrF"
      },
      "execution_count": 97,
      "outputs": []
    },
    {
      "cell_type": "code",
      "source": [
        "import optuna\n",
        "from transformers import pipeline\n",
        "\n",
        "def objective(trial):\n",
        "    hp = {\n",
        "        \"num_beams\" : trial.suggest_int(\"num_beams\", 1, 10),\n",
        "        \"num_return_sequences\" : trial.suggest_int(\"num_return_sequences\", 1, 5),\n",
        "        \"no_repeat_ngram_size\" : trial.suggest_int(\"no_repeat_ngram_size\", 1, 5),\n",
        "        \"top_k\" : trial.suggest_int(\"top_k\", 10, 100),\n",
        "        \"top_p\" : trial.suggest_float(\"top_p\", 0.8, 1.0)\n",
        "    }\n",
        "    # num_return_sequences가 num_beams보다 작거나 같아야 하기 때문에 조건문 추가\n",
        "    if hp[\"num_return_sequences\"] > hp[\"num_beams\"]:\n",
        "        hp[\"num_return_sequences\"] = hp[\"num_beams\"]\n",
        "\n",
        "    pipe = pipeline(\n",
        "        \"text2text-generation\",\n",
        "        model=\"lcw99/t5-base-korean-paraphrase\",\n",
        "        device = 'cuda' if torch.cuda.is_available() else 'cpu'\n",
        "    )\n",
        "\n",
        "    bleu_scores = []\n",
        "    for prompt in tqdm(train_star[\"review\"]): # star1~4까지\n",
        "        generated_text = pipe(prompt, max_length=128, **hp, early_stopping=True)\n",
        "\n",
        "        bleu_score = calculate_bleu(prompt, generated_text[0]['generated_text'])\n",
        "        bleu_scores.append(bleu_score)\n",
        "\n",
        "    # 모든 입력 텍스트에 대한 BLEU 점수 평균 계산 및 반환\n",
        "    bleu_score_avg = sum(bleu_scores) / len(bleu_scores)\n",
        "    return bleu_score_avg"
      ],
      "metadata": {
        "id": "d8kpGlcB_fyi"
      },
      "execution_count": 100,
      "outputs": []
    },
    {
      "cell_type": "code",
      "source": [
        "# 하이퍼파라미터 최적화\n",
        "sampler = optuna.samplers.TPESampler(seed=SEED)\n",
        "study = optuna.create_study(sampler=sampler, direction=\"maximize\")\n",
        "study.optimize(objective, n_trials=50)\n",
        "\n",
        "# 최적 값 출력\n",
        "best_bleu_score = study.best_value\n",
        "best_params = study.best_params\n",
        "print(\"best_bleu_score:\", best_bleu_score)\n",
        "print(\"best_params:\", best_params)"
      ],
      "metadata": {
        "colab": {
          "base_uri": "https://localhost:8080/",
          "height": 138,
          "referenced_widgets": [
            "c9a39a79a42c49f595bcc68c55f10996",
            "96a622f3e6be40d3b21856280ecec709",
            "8d3a5dd6d1bd450f9f820886bcaafd60",
            "896b75a0ae0b40f6a1697f998087e3fa",
            "444f9994612d4ceb99961901769d8729",
            "a19eb68f10e5494c9ac958ba58a4dde9",
            "36c127f0339843ba8b207723987b2b22",
            "b7d1f8dd07d44e9c992173e78b07a7d0",
            "f43824c17f0c46f8aa481756c2b8bb1e",
            "726eb6f8cf3c403faaf53af8edb64b73",
            "8745ca77a93a478e9b8fe02c75e129fb",
            "1807c04538044bf392c19d112f397a83",
            "e8f50a4399d64fbaa40cfa827735b185",
            "d16dc568c4f548d18a0e4480ab838e96",
            "459564ca6fe44e0f836887d91c5d8232",
            "c3fd6e4b71ca4828b5905a030bc1bead",
            "2e800b9176784d7099f9a2e38c5e14df",
            "684bab3259644a5a972a6b2f4a8b7949",
            "6f2234a6333841ca84df96e7c55fb893",
            "f7d04783bed841298accd9679939b5c6",
            "91b6625718c04b03a5f479d39f4ce0ff",
            "2f76c1767d2f4efdad39d24a446c5cca"
          ]
        },
        "id": "76ks6rp6AgrS",
        "outputId": "ad983fd1-6f5b-45e1-d975-4c6375b0f924"
      },
      "execution_count": null,
      "outputs": [
        {
          "output_type": "stream",
          "name": "stderr",
          "text": [
            "[I 2023-09-04 08:11:35,934] A new study created in memory with name: no-name-692ba86a-8714-403c-b805-914c3fea6191\n"
          ]
        },
        {
          "output_type": "display_data",
          "data": {
            "text/plain": [
              "  0%|          | 0/726 [00:00<?, ?it/s]"
            ],
            "application/vnd.jupyter.widget-view+json": {
              "version_major": 2,
              "version_minor": 0,
              "model_id": "c9a39a79a42c49f595bcc68c55f10996"
            }
          },
          "metadata": {}
        },
        {
          "output_type": "stream",
          "name": "stderr",
          "text": [
            "[I 2023-09-04 09:02:16,029] Trial 0 finished with value: 0.285731536841964 and parameters: {'num_beams': 4, 'num_return_sequences': 5, 'no_repeat_ngram_size': 4, 'top_k': 64, 'top_p': 0.8312037280884873}. Best is trial 0 with value: 0.285731536841964.\n"
          ]
        },
        {
          "output_type": "display_data",
          "data": {
            "text/plain": [
              "  0%|          | 0/726 [00:00<?, ?it/s]"
            ],
            "application/vnd.jupyter.widget-view+json": {
              "version_major": 2,
              "version_minor": 0,
              "model_id": "1807c04538044bf392c19d112f397a83"
            }
          },
          "metadata": {}
        }
      ]
    },
    {
      "cell_type": "code",
      "source": [],
      "metadata": {
        "id": "grY9_KnCAgpY"
      },
      "execution_count": null,
      "outputs": []
    },
    {
      "cell_type": "code",
      "source": [],
      "metadata": {
        "id": "rmCUJ2BBAgmt"
      },
      "execution_count": null,
      "outputs": []
    },
    {
      "cell_type": "code",
      "source": [],
      "metadata": {
        "id": "gh72PSGyAgjW"
      },
      "execution_count": null,
      "outputs": []
    },
    {
      "cell_type": "code",
      "source": [],
      "metadata": {
        "id": "ry2mJVJpAggl"
      },
      "execution_count": null,
      "outputs": []
    },
    {
      "cell_type": "markdown",
      "source": [
        "# 오버샘플링"
      ],
      "metadata": {
        "id": "NkIogOoaZxCq"
      }
    },
    {
      "cell_type": "code",
      "source": [
        "# 별점 분포 확인\n",
        "star_distribution = train['star'].value_counts().sort_index()\n",
        "print(star_distribution)"
      ],
      "metadata": {
        "colab": {
          "base_uri": "https://localhost:8080/"
        },
        "id": "7B4dgTO6RDeB",
        "outputId": "bb82e02c-db53-42bc-c7e6-9d2cedc6eac9"
      },
      "execution_count": null,
      "outputs": [
        {
          "output_type": "stream",
          "name": "stdout",
          "text": [
            "1      90\n",
            "2      61\n",
            "3     153\n",
            "4     422\n",
            "5    9776\n",
            "Name: star, dtype: int64\n"
          ]
        }
      ]
    },
    {
      "cell_type": "code",
      "source": [
        "# max_samples = 2500 # 최대 샘플 수\n",
        "# oversampled_dfs = []\n",
        "# for star, count in star_distribution.items():\n",
        "#     subset = train[train['star'] == star]\n",
        "#     if star != 5: # 별점 5점 제외하고 오버샘플링\n",
        "#         resampled = resample(subset, replace=True, n_samples=max_samples, random_state=SEED)\n",
        "#         oversampled_dfs.append(resampled)\n",
        "#     else:\n",
        "#         # shuffled_dfs = train[train['star'] == 5].sample(frac=1, random_state=2).reset_index(drop=True)\n",
        "#         # subset = shuffled_dfs.iloc[:2500] # 별점이 5인 경우는 2500개 랜덤 추출해서 전체 비율 맞추기\n",
        "#         oversampled_dfs.append(subset)\n",
        "\n",
        "# train = pd.concat(oversampled_dfs).reset_index(drop=True)\n",
        "# train['star'].value_counts().sort_index()"
      ],
      "metadata": {
        "id": "z2E-1HoHZyiK",
        "colab": {
          "base_uri": "https://localhost:8080/"
        },
        "outputId": "aad65652-8e60-4adf-b251-b737a961d9ca"
      },
      "execution_count": null,
      "outputs": [
        {
          "output_type": "execute_result",
          "data": {
            "text/plain": [
              "1    2500\n",
              "2    2500\n",
              "3    2500\n",
              "4    2500\n",
              "5    9776\n",
              "Name: star, dtype: int64"
            ]
          },
          "metadata": {},
          "execution_count": 73
        }
      ]
    },
    {
      "cell_type": "code",
      "source": [
        "# # 별점 컬럼 삭제\n",
        "# train = train.drop(columns=['star'])\n",
        "# train.head()"
      ],
      "metadata": {
        "colab": {
          "base_uri": "https://localhost:8080/",
          "height": 206
        },
        "id": "cdgHLKBQa0Sm",
        "outputId": "efa67aa4-b01a-4f6b-c3b2-bdac98281764"
      },
      "execution_count": null,
      "outputs": [
        {
          "output_type": "execute_result",
          "data": {
            "text/plain": [
              "                                              review  \\\n",
              "0  리뷰 이벤트 한다지만 너무 아닌 거 같아서 적습니다. 배달이 20분 넘게 안오길래 ...   \n",
              "1         진짜리뷰안쓰는데 양이 2만원씩내고 먹을양은 절대아닙니다 \\n장난하는것도아니고   \n",
              "2            만들어 놓은지 한참 된 커피 ….배달 예정 시간 25분이 지났어요…….   \n",
              "3  밥이 쉬었어요... 단무지 때문도 아니고 김이 많아서 그런것도 아니고 쉬어서 냄새가...   \n",
              "4  잠실점에 처음 시켜먹었던게 맛있어서 주문했더니 돈 은 나갔는데 다시 앱을 들어와보니...   \n",
              "\n",
              "                                               reply  \n",
              "0  안녕하세요 1988응답하라추억의옛날도시락 입니다.\\n\\n주신 리뷰 잘 읽었습니다. ...  \n",
              "1  솔직한 리뷰 남겨 주셔서 감사합니다. \\n\\n저희 1988응답하라추억의옛날도시락은 ...  \n",
              "2  안녕하세요 배달이 늦어져 죄송합니다. 한파로 길이 얼어서 배달기사님들이 상황이 여유...  \n",
              "3  밥이 쉬다뇨 말도 안되는 소리좀 하지마세요. 진짜 먼 정신이 이상한 사람인가 하루에...  \n",
              "4  요기요가 주문어플에 렉이 자주 있어서.. 여러가지로 혼돈이 있어 정말 죄송하게 되었...  "
            ],
            "text/html": [
              "\n",
              "  <div id=\"df-ae2417bf-46f4-4625-bf1c-125eecdd944c\" class=\"colab-df-container\">\n",
              "    <div>\n",
              "<style scoped>\n",
              "    .dataframe tbody tr th:only-of-type {\n",
              "        vertical-align: middle;\n",
              "    }\n",
              "\n",
              "    .dataframe tbody tr th {\n",
              "        vertical-align: top;\n",
              "    }\n",
              "\n",
              "    .dataframe thead th {\n",
              "        text-align: right;\n",
              "    }\n",
              "</style>\n",
              "<table border=\"1\" class=\"dataframe\">\n",
              "  <thead>\n",
              "    <tr style=\"text-align: right;\">\n",
              "      <th></th>\n",
              "      <th>review</th>\n",
              "      <th>reply</th>\n",
              "    </tr>\n",
              "  </thead>\n",
              "  <tbody>\n",
              "    <tr>\n",
              "      <th>0</th>\n",
              "      <td>리뷰 이벤트 한다지만 너무 아닌 거 같아서 적습니다. 배달이 20분 넘게 안오길래 ...</td>\n",
              "      <td>안녕하세요 1988응답하라추억의옛날도시락 입니다.\\n\\n주신 리뷰 잘 읽었습니다. ...</td>\n",
              "    </tr>\n",
              "    <tr>\n",
              "      <th>1</th>\n",
              "      <td>진짜리뷰안쓰는데 양이 2만원씩내고 먹을양은 절대아닙니다 \\n장난하는것도아니고</td>\n",
              "      <td>솔직한 리뷰 남겨 주셔서 감사합니다. \\n\\n저희 1988응답하라추억의옛날도시락은 ...</td>\n",
              "    </tr>\n",
              "    <tr>\n",
              "      <th>2</th>\n",
              "      <td>만들어 놓은지 한참 된 커피 ….배달 예정 시간 25분이 지났어요…….</td>\n",
              "      <td>안녕하세요 배달이 늦어져 죄송합니다. 한파로 길이 얼어서 배달기사님들이 상황이 여유...</td>\n",
              "    </tr>\n",
              "    <tr>\n",
              "      <th>3</th>\n",
              "      <td>밥이 쉬었어요... 단무지 때문도 아니고 김이 많아서 그런것도 아니고 쉬어서 냄새가...</td>\n",
              "      <td>밥이 쉬다뇨 말도 안되는 소리좀 하지마세요. 진짜 먼 정신이 이상한 사람인가 하루에...</td>\n",
              "    </tr>\n",
              "    <tr>\n",
              "      <th>4</th>\n",
              "      <td>잠실점에 처음 시켜먹었던게 맛있어서 주문했더니 돈 은 나갔는데 다시 앱을 들어와보니...</td>\n",
              "      <td>요기요가 주문어플에 렉이 자주 있어서.. 여러가지로 혼돈이 있어 정말 죄송하게 되었...</td>\n",
              "    </tr>\n",
              "  </tbody>\n",
              "</table>\n",
              "</div>\n",
              "    <div class=\"colab-df-buttons\">\n",
              "\n",
              "  <div class=\"colab-df-container\">\n",
              "    <button class=\"colab-df-convert\" onclick=\"convertToInteractive('df-ae2417bf-46f4-4625-bf1c-125eecdd944c')\"\n",
              "            title=\"Convert this dataframe to an interactive table.\"\n",
              "            style=\"display:none;\">\n",
              "\n",
              "  <svg xmlns=\"http://www.w3.org/2000/svg\" height=\"24px\" viewBox=\"0 -960 960 960\">\n",
              "    <path d=\"M120-120v-720h720v720H120Zm60-500h600v-160H180v160Zm220 220h160v-160H400v160Zm0 220h160v-160H400v160ZM180-400h160v-160H180v160Zm440 0h160v-160H620v160ZM180-180h160v-160H180v160Zm440 0h160v-160H620v160Z\"/>\n",
              "  </svg>\n",
              "    </button>\n",
              "\n",
              "  <style>\n",
              "    .colab-df-container {\n",
              "      display:flex;\n",
              "      gap: 12px;\n",
              "    }\n",
              "\n",
              "    .colab-df-convert {\n",
              "      background-color: #E8F0FE;\n",
              "      border: none;\n",
              "      border-radius: 50%;\n",
              "      cursor: pointer;\n",
              "      display: none;\n",
              "      fill: #1967D2;\n",
              "      height: 32px;\n",
              "      padding: 0 0 0 0;\n",
              "      width: 32px;\n",
              "    }\n",
              "\n",
              "    .colab-df-convert:hover {\n",
              "      background-color: #E2EBFA;\n",
              "      box-shadow: 0px 1px 2px rgba(60, 64, 67, 0.3), 0px 1px 3px 1px rgba(60, 64, 67, 0.15);\n",
              "      fill: #174EA6;\n",
              "    }\n",
              "\n",
              "    .colab-df-buttons div {\n",
              "      margin-bottom: 4px;\n",
              "    }\n",
              "\n",
              "    [theme=dark] .colab-df-convert {\n",
              "      background-color: #3B4455;\n",
              "      fill: #D2E3FC;\n",
              "    }\n",
              "\n",
              "    [theme=dark] .colab-df-convert:hover {\n",
              "      background-color: #434B5C;\n",
              "      box-shadow: 0px 1px 3px 1px rgba(0, 0, 0, 0.15);\n",
              "      filter: drop-shadow(0px 1px 2px rgba(0, 0, 0, 0.3));\n",
              "      fill: #FFFFFF;\n",
              "    }\n",
              "  </style>\n",
              "\n",
              "    <script>\n",
              "      const buttonEl =\n",
              "        document.querySelector('#df-ae2417bf-46f4-4625-bf1c-125eecdd944c button.colab-df-convert');\n",
              "      buttonEl.style.display =\n",
              "        google.colab.kernel.accessAllowed ? 'block' : 'none';\n",
              "\n",
              "      async function convertToInteractive(key) {\n",
              "        const element = document.querySelector('#df-ae2417bf-46f4-4625-bf1c-125eecdd944c');\n",
              "        const dataTable =\n",
              "          await google.colab.kernel.invokeFunction('convertToInteractive',\n",
              "                                                    [key], {});\n",
              "        if (!dataTable) return;\n",
              "\n",
              "        const docLinkHtml = 'Like what you see? Visit the ' +\n",
              "          '<a target=\"_blank\" href=https://colab.research.google.com/notebooks/data_table.ipynb>data table notebook</a>'\n",
              "          + ' to learn more about interactive tables.';\n",
              "        element.innerHTML = '';\n",
              "        dataTable['output_type'] = 'display_data';\n",
              "        await google.colab.output.renderOutput(dataTable, element);\n",
              "        const docLink = document.createElement('div');\n",
              "        docLink.innerHTML = docLinkHtml;\n",
              "        element.appendChild(docLink);\n",
              "      }\n",
              "    </script>\n",
              "  </div>\n",
              "\n",
              "\n",
              "<div id=\"df-0708a5ff-f89d-4589-975c-2d806fd17ed1\">\n",
              "  <button class=\"colab-df-quickchart\" onclick=\"quickchart('df-0708a5ff-f89d-4589-975c-2d806fd17ed1')\"\n",
              "            title=\"Suggest charts.\"\n",
              "            style=\"display:none;\">\n",
              "\n",
              "<svg xmlns=\"http://www.w3.org/2000/svg\" height=\"24px\"viewBox=\"0 0 24 24\"\n",
              "     width=\"24px\">\n",
              "    <g>\n",
              "        <path d=\"M19 3H5c-1.1 0-2 .9-2 2v14c0 1.1.9 2 2 2h14c1.1 0 2-.9 2-2V5c0-1.1-.9-2-2-2zM9 17H7v-7h2v7zm4 0h-2V7h2v10zm4 0h-2v-4h2v4z\"/>\n",
              "    </g>\n",
              "</svg>\n",
              "  </button>\n",
              "\n",
              "<style>\n",
              "  .colab-df-quickchart {\n",
              "      --bg-color: #E8F0FE;\n",
              "      --fill-color: #1967D2;\n",
              "      --hover-bg-color: #E2EBFA;\n",
              "      --hover-fill-color: #174EA6;\n",
              "      --disabled-fill-color: #AAA;\n",
              "      --disabled-bg-color: #DDD;\n",
              "  }\n",
              "\n",
              "  [theme=dark] .colab-df-quickchart {\n",
              "      --bg-color: #3B4455;\n",
              "      --fill-color: #D2E3FC;\n",
              "      --hover-bg-color: #434B5C;\n",
              "      --hover-fill-color: #FFFFFF;\n",
              "      --disabled-bg-color: #3B4455;\n",
              "      --disabled-fill-color: #666;\n",
              "  }\n",
              "\n",
              "  .colab-df-quickchart {\n",
              "    background-color: var(--bg-color);\n",
              "    border: none;\n",
              "    border-radius: 50%;\n",
              "    cursor: pointer;\n",
              "    display: none;\n",
              "    fill: var(--fill-color);\n",
              "    height: 32px;\n",
              "    padding: 0;\n",
              "    width: 32px;\n",
              "  }\n",
              "\n",
              "  .colab-df-quickchart:hover {\n",
              "    background-color: var(--hover-bg-color);\n",
              "    box-shadow: 0 1px 2px rgba(60, 64, 67, 0.3), 0 1px 3px 1px rgba(60, 64, 67, 0.15);\n",
              "    fill: var(--button-hover-fill-color);\n",
              "  }\n",
              "\n",
              "  .colab-df-quickchart-complete:disabled,\n",
              "  .colab-df-quickchart-complete:disabled:hover {\n",
              "    background-color: var(--disabled-bg-color);\n",
              "    fill: var(--disabled-fill-color);\n",
              "    box-shadow: none;\n",
              "  }\n",
              "\n",
              "  .colab-df-spinner {\n",
              "    border: 2px solid var(--fill-color);\n",
              "    border-color: transparent;\n",
              "    border-bottom-color: var(--fill-color);\n",
              "    animation:\n",
              "      spin 1s steps(1) infinite;\n",
              "  }\n",
              "\n",
              "  @keyframes spin {\n",
              "    0% {\n",
              "      border-color: transparent;\n",
              "      border-bottom-color: var(--fill-color);\n",
              "      border-left-color: var(--fill-color);\n",
              "    }\n",
              "    20% {\n",
              "      border-color: transparent;\n",
              "      border-left-color: var(--fill-color);\n",
              "      border-top-color: var(--fill-color);\n",
              "    }\n",
              "    30% {\n",
              "      border-color: transparent;\n",
              "      border-left-color: var(--fill-color);\n",
              "      border-top-color: var(--fill-color);\n",
              "      border-right-color: var(--fill-color);\n",
              "    }\n",
              "    40% {\n",
              "      border-color: transparent;\n",
              "      border-right-color: var(--fill-color);\n",
              "      border-top-color: var(--fill-color);\n",
              "    }\n",
              "    60% {\n",
              "      border-color: transparent;\n",
              "      border-right-color: var(--fill-color);\n",
              "    }\n",
              "    80% {\n",
              "      border-color: transparent;\n",
              "      border-right-color: var(--fill-color);\n",
              "      border-bottom-color: var(--fill-color);\n",
              "    }\n",
              "    90% {\n",
              "      border-color: transparent;\n",
              "      border-bottom-color: var(--fill-color);\n",
              "    }\n",
              "  }\n",
              "</style>\n",
              "\n",
              "  <script>\n",
              "    async function quickchart(key) {\n",
              "      const quickchartButtonEl =\n",
              "        document.querySelector('#' + key + ' button');\n",
              "      quickchartButtonEl.disabled = true;  // To prevent multiple clicks.\n",
              "      quickchartButtonEl.classList.add('colab-df-spinner');\n",
              "      try {\n",
              "        const charts = await google.colab.kernel.invokeFunction(\n",
              "            'suggestCharts', [key], {});\n",
              "      } catch (error) {\n",
              "        console.error('Error during call to suggestCharts:', error);\n",
              "      }\n",
              "      quickchartButtonEl.classList.remove('colab-df-spinner');\n",
              "      quickchartButtonEl.classList.add('colab-df-quickchart-complete');\n",
              "    }\n",
              "    (() => {\n",
              "      let quickchartButtonEl =\n",
              "        document.querySelector('#df-0708a5ff-f89d-4589-975c-2d806fd17ed1 button');\n",
              "      quickchartButtonEl.style.display =\n",
              "        google.colab.kernel.accessAllowed ? 'block' : 'none';\n",
              "    })();\n",
              "  </script>\n",
              "</div>\n",
              "    </div>\n",
              "  </div>\n"
            ]
          },
          "metadata": {},
          "execution_count": 50
        }
      ]
    },
    {
      "cell_type": "markdown",
      "source": [
        "### 답변 맞춤법 처리"
      ],
      "metadata": {
        "id": "6TRepPkVR-SQ"
      }
    },
    {
      "cell_type": "code",
      "source": [
        "# !git clone https://github.com/ssut/py-hanspell.git\n",
        "# !cd py-hanspell\n",
        "# !pip install py-hanspell/"
      ],
      "metadata": {
        "id": "dCaB16eVuzHu"
      },
      "execution_count": null,
      "outputs": []
    },
    {
      "cell_type": "code",
      "source": [
        "# from hanspell import spell_checker\n",
        "# def correct_spell(text):\n",
        "#     if isinstance(text, str):  # 입력 데이터가 문자열인 경우에만 맞춤법 검사 수행\n",
        "#         corrected_text = spell_checker.check(text).checked\n",
        "#         return corrected_text\n",
        "#     else:\n",
        "#         return text\n",
        "\n",
        "# correct_spell(train['reply'][0])"
      ],
      "metadata": {
        "id": "9bCVeEqH4wf8"
      },
      "execution_count": null,
      "outputs": []
    },
    {
      "cell_type": "code",
      "source": [
        "# # 한시간 반 걸림. 원한다면 click\n",
        "# train['reply'] = train['reply'].apply(correct_spell)"
      ],
      "metadata": {
        "id": "tJGLPkch47yC"
      },
      "execution_count": null,
      "outputs": []
    },
    {
      "cell_type": "markdown",
      "source": [
        "### 가게명 키워드 컬럼화"
      ],
      "metadata": {
        "id": "XN_oJWUWpnf6"
      }
    },
    {
      "cell_type": "code",
      "source": [
        "# ygy_store_lst = [\"1988응답하라추억의옛날도시락-방이점\", \"워커스커피 로스터스\", \"떡깨비-가락점\", \"당치땡-헬리오시티점\", \"우시장국밥-석촌점\",  \"고돼지-송파점\",  \"마라의신마라탕&마라샹궈\",  \"춘리마라탕-송파점\",  \"손수경의육회담은연어-가락점\",  \"무국적식탁-송파점\",  \"청년치킨-삼전점\",  \"송파만다린\",  \"배달의쌀국수-송파점\",  \"닭강점-헬리오시티점\",  \"토핑폭탄김치찜&김치찌개-송파점\",  \"조형훈족발보쌈\",  \"여왕의브런치\",  \"모어댄버터\",  \"플러스82-송파점\",  \"더티베지\",  \"잭아저씨족발보쌈-본점\",  \"육회&연어-미아본점\",  \"갈비민족-본점\",  \"구구족-성신여대역점\",  \"피자보이시나-대학로점\",  \"왕빈자삼파전-미아본점\",  \"행복한찜닭-성북점\",  \"스시사소우\",  \"저팔계&중국&마라탕&덮밥&요리&전문점\",  \"명작파스타-성북점\",  \"올데이파스타-동대문구점\",  \"대한냉면-성북점\",  \"인생제육\",  \"고기듬뿍미트박스-성북점\",  \"피자스웨그-성북점\",  \"청춘식당묵은지김치찜\",  \"삽교원조두리곱창\",  \"뜸들이다-북서울꿈의숲점\",  \"더팔당매운오징어&닭발 김치찜\",  \"우리집반찬도시락-혜화막내딸지점\",  \"수피자\",  \"마라쿡\",  \"김포불닭발\",  \"헬로팬닭갈비&마약볶음밥\",  \"대찌 대파생고기김치찌개&정육왕국물두루치기\",  \"구래상회\",  \"승도리네곱도리탕\",  \"자성당\",  \"수락\",  \"나인곱창\",  \"어시장\",  \"돈까스회관\",  \"호랑이초밥\",  \"땡초곱창막창\",  \"피자이탈리\",  \"텐텐마라탕\",  \"과일에반하다\",  \"삼다수\",  \"병천토속순대\",  \"최고남제육명가\",  \"짱닭치킨\",  \"걸작떡볶이\",  \"직화삼겹직구삼\",  \"짜글이가돼었소\",  \"부대찌개자신있는집\",  \"토핑폭탄김치찜&김치찌개-부천점\",  \"1989마라탕-부천점\",  \"미친피자-부평점\",  \"천년닭강정-부천부평점\",  \"수상한삼겹살-부천점\",  \"수제죽전문점-본가진죽-본점\",  \"오늘은 분식\",  \"이끌림마라탕\",  \"탐나는피자-부평점\",  \"고기혁명-부천점\",  \"라화방마라탕-신중동점\",  \"전금례닭볶음탕-부천점\",  \"큰아들백순대\",  \"공주닭발-부천시청점\",  \"신자매김치찜&김치찌개\",  \"짱닭치킨-도촌점\",  \"이태리면가게-야탑점\",  \"폴트버거-판교점\",  \"랜돌프뉴욕페페로니-야탑점\",  \"홍싸롱-수제돈까스&파스타\",  \"쇼부덮밥\",  \"카산도-정자본점\",  \"부성초밥-미금본점\",  \"닭장수섭삼계탕&전기구이통닭\",  \"깨돌이김밥-미금점\",  \"울진죽변항\",  \"GTS버거-분당정자점\",  \"코브라독스-분당미금역점\",  \"마라하오-죽전점\",  \"땅끝수산\",  \"초밥대통령-용인수지점\",  \"올데이케밥&샐러드\",  \"야키토리 카마쿠라\",  \"비오키친-서현본점\",  \"부산오빠1인국밥-분당점\",  \"알촌\",  \"밈피자\",  \"고씨네카레\",  \"홍스족발\",  \"뜸들이다\",  \"감성커피\",  \"짚신스시\",  \"떡형\",  \"39도시락\",  \"피제이피자\",  \"황궁쟁반짜장\",  \"OK반점\",  \"모모타코야키&카페\",  \"꼬알라파이\",  \"진지덮밥\",  \"피자프라텔로\",  \"한식세끼1인김치찜&김치찌개\",  \"윤희횟집\",  \"시민보쌈족발&감자탕\",  \"카페봄봄\",  \"킹프레소빅와플\",  \"최가네한쌈\",  \"창타이누들\",  \"보돌미역\",  \"홍대개미\"  ]\n",
        "# store_name = []\n",
        "# for store in ygy_store_lst:\n",
        "#     pat = re.split(r'[- &]', store)\n",
        "#     pat = ''.join(pat)\n",
        "#     store_name.append(pat)\n",
        "\n",
        "# short_name = []\n",
        "# for name in store_name:\n",
        "#     for length in [2, 3, 4]:\n",
        "#         cut = name[:length]\n",
        "#         short_name.append(cut)\n",
        "#     if name[0].isdigit(): # 숫자로 시작하면 텍스트가 나오는 부분까지 추출\n",
        "#         cut = name[:6]\n",
        "#         short_name.append(cut)\n",
        "\n",
        "# short_name = [name for name in short_name if not name.isdigit()] # 숫자로만 되어 있는 키워드 삭제\n",
        "# short_name = list(set(short_name))\n",
        "# print(len(short_name), short_name)\n",
        "\n",
        "# # short_name 에서 불용어 처리\n",
        "# drop_name = ['OK','갈비','감성','걸작','고기','공주','과일','김포','대한','땡초','명작','미친','배달','병천','부대','부산','비오','삽교','손수','송파','쇼부','수상','수제','시민','오늘', '오늘은', '우리', '울진', '이끌', '이끌림', '인생', '직화', '진지', '천년', '청년', '청춘', '최고', '큰아', '큰아들', '탐나', '토핑', '행복', '행복한', '헬로', '홍대',]\n",
        "# short_name = [col for col in short_name if col not in drop_name]\n",
        "# print(len(short_name),short_name)\n",
        "\n",
        "# train['store'] = \"\"\n",
        "# for name in short_name:\n",
        "#     train[name] = train['reply'].apply(lambda x: name if name in x else '') # 각 가게 별로 컬럼 추가(그렇지 않으면 덮어쓰기 됨)\n",
        "#     train['store'] = train.apply(lambda row: row['store'] + ',' + row[name] if row[name] else row['store'], axis=1) # store 컬럼에 컬럼 값 합치기\n",
        "\n",
        "# train['store'] = train['store'].apply(lambda x: x[1:] if x.startswith(',') else x) # 첫 번째 문자가 콤마인 경우 제거\n",
        "# train = train.drop(columns=short_name) # 각 가게 별 컬럼 삭제\n",
        "# train.head()"
      ],
      "metadata": {
        "id": "xM86fK8dpnFt"
      },
      "execution_count": null,
      "outputs": []
    },
    {
      "cell_type": "code",
      "source": [
        "# train['review'] = train['review'].astype(str)\n",
        "# train['reply'] = train['reply'].astype(str)"
      ],
      "metadata": {
        "id": "mui9ULbXxN5k"
      },
      "execution_count": null,
      "outputs": []
    },
    {
      "cell_type": "markdown",
      "source": [
        "- 여기까지 완료된 데이터 저장하기"
      ],
      "metadata": {
        "id": "qTD6l6yWTBmo"
      }
    },
    {
      "cell_type": "code",
      "source": [
        "# # 전체\n",
        "# # train.to_csv(f\"{DATA_PATH}yogiyo_clean.csv\", index=False)\n",
        "\n",
        "# # 오버샘플\n",
        "# train.to_csv(f\"{DATA_PATH}yogiyo_OV_clean.csv\", index=False)"
      ],
      "metadata": {
        "id": "UohaXtwdTFoh"
      },
      "execution_count": null,
      "outputs": []
    },
    {
      "cell_type": "markdown",
      "source": [
        "- 여기까지 완료된 데이터 불러오기"
      ],
      "metadata": {
        "id": "CkJwH9oeTRWg"
      }
    },
    {
      "cell_type": "code",
      "source": [
        "# # 전체\n",
        "# train = pd.read_csv(f\"{DATA_PATH}yogiyo_clean.csv\")\n",
        "\n",
        "# # 오버샘플\n",
        "# train = pd.read_csv(f\"{DATA_PATH}yogiyo_OV_clean.csv\")\n",
        "\n",
        "# review, reply = train[\"review\"] , train[\"reply\"]\n",
        "# len(review) , len(reply)"
      ],
      "metadata": {
        "id": "rVMEEqzTTFmN",
        "colab": {
          "base_uri": "https://localhost:8080/"
        },
        "outputId": "780be6eb-02e1-4131-d340-93c23b22430c"
      },
      "execution_count": null,
      "outputs": [
        {
          "output_type": "execute_result",
          "data": {
            "text/plain": [
              "(19776, 19776)"
            ]
          },
          "metadata": {},
          "execution_count": 123
        }
      ]
    },
    {
      "cell_type": "markdown",
      "source": [
        "### 가게명 키워드 reply에서 삭제"
      ],
      "metadata": {
        "id": "PaGc_YUhTYYn"
      }
    },
    {
      "cell_type": "code",
      "source": [
        "# # store 값이 있는 행만 가져오기\n",
        "# train_del = train[train['store'].notna()]\n",
        "# train_del"
      ],
      "metadata": {
        "colab": {
          "base_uri": "https://localhost:8080/",
          "height": 424
        },
        "id": "l6J8tf3eM4Yv",
        "outputId": "d59de939-2433-4153-efbf-6d9784db7221"
      },
      "execution_count": null,
      "outputs": [
        {
          "output_type": "execute_result",
          "data": {
            "text/plain": [
              "                                                  review  \\\n",
              "7      제 입맛에 안맞아요 뭔가 독특한 향신료 맛이에요 일반 닭갈비 맛이 아니에요 고기가 ...   \n",
              "8      제 입맛에 안맞아요 뭔가 독특한 향신료 맛이에요 일반 닭갈비 맛이 아니에요 고기가 ...   \n",
              "9      사장님 처럼 사장님만보기 기능있면좋겠지만만족하지만개선되었으면할때쓰고아니면안시키고말지...   \n",
              "14              진짜리뷰안쓰는데 양이 2만원씩내고 먹을양은 절대아닙니다 장난하는것도아니고   \n",
              "15     사장님 처럼 사장님만보기 기능있면좋겠지만만족하지만개선되었으면할때쓰고아니면안시키고말지...   \n",
              "...                                                  ...   \n",
              "19338  앗 리뷰가 늦었네요 요즘처럼 고물가에 더욱 빛나는 곳 입니다 솔직히 저만 알고싶을 ...   \n",
              "19351  최가네 한쌈음 한쌈은 항상 감동입니다 파김치 완전완전 세젤맛 먹어본 파김치중에 젤 ...   \n",
              "19357            손 많이 가는 음식 푸짐히 먹고싶으신분 모두 주문하세요 후회 없습니다    \n",
              "19381  후기 안쓰는데 처음후기 올려봅니다 다른분 후기중에 가격 올려야 되겠다는 댓글에 20...   \n",
              "19404  음식 한상 가득해서 너무 잘먹었습니다 보쌈뿐만 아니라 반찬도 너무 맛나요 과일샐러드...   \n",
              "\n",
              "                                                   reply   store  \n",
              "7      이쁜 리뷰 감사합니다 고객님 즐거운 식사시간에 불편을 드려 죄송합니다 닭갈비 알밥이...      알촌  \n",
              "8      이쁜 리뷰 감사합니다 고객님 즐거운 식사시간에 불편을 드려 죄송합니다 닭갈비 알밥이...      알촌  \n",
              "9      저희 윤희 횟집을 찾아주셔서 감사드립니다 고객님께서 저희에게 충고해 주신 것에 대해...      윤희  \n",
              "14     솔직한 리뷰 남겨 주셔서 감사합니다 저희 1988응답하라 추억의 옛날 도시락은 언제...  1988응답  \n",
              "15     저희 윤희 횟집을 찾아주셔서 감사드립니다 고객님께서 저희에게 충고해 주신 것에 대해...      윤희  \n",
              "...                                                  ...     ...  \n",
              "19338  아이고 이리 늘 찾아주시고 좋은 말씀들이 최가네를 춤추게 합니다 요즘 배달이든 마트...  최가,최가네  \n",
              "19351  파김치가 입맛에 맞으셨다니 다행이네요 고객님께서 파를 너무 많이 보내주셔서 여러분하...  최가,최가네  \n",
              "19357  아이고 이리 좋은 말씀이 최가네를 춤추게 하네요 앞으로도 고객님들 마음에 실망하시는...  최가,최가네  \n",
              "19381  글초 리뷰 이벤트도 없는데 이리들 귀한 시가 내셔서 좋은 글을 올려주시니 항상 너무...  최가,최가네  \n",
              "19404  맛있게 드셔주심에 저희가 너무 감사드립니다 항상 노력하는 최가네가 될 수 있도록 할...  최가,최가네  \n",
              "\n",
              "[4487 rows x 3 columns]"
            ],
            "text/html": [
              "\n",
              "  <div id=\"df-23380139-910b-4f5d-9975-6f6e0222e25d\" class=\"colab-df-container\">\n",
              "    <div>\n",
              "<style scoped>\n",
              "    .dataframe tbody tr th:only-of-type {\n",
              "        vertical-align: middle;\n",
              "    }\n",
              "\n",
              "    .dataframe tbody tr th {\n",
              "        vertical-align: top;\n",
              "    }\n",
              "\n",
              "    .dataframe thead th {\n",
              "        text-align: right;\n",
              "    }\n",
              "</style>\n",
              "<table border=\"1\" class=\"dataframe\">\n",
              "  <thead>\n",
              "    <tr style=\"text-align: right;\">\n",
              "      <th></th>\n",
              "      <th>review</th>\n",
              "      <th>reply</th>\n",
              "      <th>store</th>\n",
              "    </tr>\n",
              "  </thead>\n",
              "  <tbody>\n",
              "    <tr>\n",
              "      <th>7</th>\n",
              "      <td>제 입맛에 안맞아요 뭔가 독특한 향신료 맛이에요 일반 닭갈비 맛이 아니에요 고기가 ...</td>\n",
              "      <td>이쁜 리뷰 감사합니다 고객님 즐거운 식사시간에 불편을 드려 죄송합니다 닭갈비 알밥이...</td>\n",
              "      <td>알촌</td>\n",
              "    </tr>\n",
              "    <tr>\n",
              "      <th>8</th>\n",
              "      <td>제 입맛에 안맞아요 뭔가 독특한 향신료 맛이에요 일반 닭갈비 맛이 아니에요 고기가 ...</td>\n",
              "      <td>이쁜 리뷰 감사합니다 고객님 즐거운 식사시간에 불편을 드려 죄송합니다 닭갈비 알밥이...</td>\n",
              "      <td>알촌</td>\n",
              "    </tr>\n",
              "    <tr>\n",
              "      <th>9</th>\n",
              "      <td>사장님 처럼 사장님만보기 기능있면좋겠지만만족하지만개선되었으면할때쓰고아니면안시키고말지...</td>\n",
              "      <td>저희 윤희 횟집을 찾아주셔서 감사드립니다 고객님께서 저희에게 충고해 주신 것에 대해...</td>\n",
              "      <td>윤희</td>\n",
              "    </tr>\n",
              "    <tr>\n",
              "      <th>14</th>\n",
              "      <td>진짜리뷰안쓰는데 양이 2만원씩내고 먹을양은 절대아닙니다 장난하는것도아니고</td>\n",
              "      <td>솔직한 리뷰 남겨 주셔서 감사합니다 저희 1988응답하라 추억의 옛날 도시락은 언제...</td>\n",
              "      <td>1988응답</td>\n",
              "    </tr>\n",
              "    <tr>\n",
              "      <th>15</th>\n",
              "      <td>사장님 처럼 사장님만보기 기능있면좋겠지만만족하지만개선되었으면할때쓰고아니면안시키고말지...</td>\n",
              "      <td>저희 윤희 횟집을 찾아주셔서 감사드립니다 고객님께서 저희에게 충고해 주신 것에 대해...</td>\n",
              "      <td>윤희</td>\n",
              "    </tr>\n",
              "    <tr>\n",
              "      <th>...</th>\n",
              "      <td>...</td>\n",
              "      <td>...</td>\n",
              "      <td>...</td>\n",
              "    </tr>\n",
              "    <tr>\n",
              "      <th>19338</th>\n",
              "      <td>앗 리뷰가 늦었네요 요즘처럼 고물가에 더욱 빛나는 곳 입니다 솔직히 저만 알고싶을 ...</td>\n",
              "      <td>아이고 이리 늘 찾아주시고 좋은 말씀들이 최가네를 춤추게 합니다 요즘 배달이든 마트...</td>\n",
              "      <td>최가,최가네</td>\n",
              "    </tr>\n",
              "    <tr>\n",
              "      <th>19351</th>\n",
              "      <td>최가네 한쌈음 한쌈은 항상 감동입니다 파김치 완전완전 세젤맛 먹어본 파김치중에 젤 ...</td>\n",
              "      <td>파김치가 입맛에 맞으셨다니 다행이네요 고객님께서 파를 너무 많이 보내주셔서 여러분하...</td>\n",
              "      <td>최가,최가네</td>\n",
              "    </tr>\n",
              "    <tr>\n",
              "      <th>19357</th>\n",
              "      <td>손 많이 가는 음식 푸짐히 먹고싶으신분 모두 주문하세요 후회 없습니다</td>\n",
              "      <td>아이고 이리 좋은 말씀이 최가네를 춤추게 하네요 앞으로도 고객님들 마음에 실망하시는...</td>\n",
              "      <td>최가,최가네</td>\n",
              "    </tr>\n",
              "    <tr>\n",
              "      <th>19381</th>\n",
              "      <td>후기 안쓰는데 처음후기 올려봅니다 다른분 후기중에 가격 올려야 되겠다는 댓글에 20...</td>\n",
              "      <td>글초 리뷰 이벤트도 없는데 이리들 귀한 시가 내셔서 좋은 글을 올려주시니 항상 너무...</td>\n",
              "      <td>최가,최가네</td>\n",
              "    </tr>\n",
              "    <tr>\n",
              "      <th>19404</th>\n",
              "      <td>음식 한상 가득해서 너무 잘먹었습니다 보쌈뿐만 아니라 반찬도 너무 맛나요 과일샐러드...</td>\n",
              "      <td>맛있게 드셔주심에 저희가 너무 감사드립니다 항상 노력하는 최가네가 될 수 있도록 할...</td>\n",
              "      <td>최가,최가네</td>\n",
              "    </tr>\n",
              "  </tbody>\n",
              "</table>\n",
              "<p>4487 rows × 3 columns</p>\n",
              "</div>\n",
              "    <div class=\"colab-df-buttons\">\n",
              "\n",
              "  <div class=\"colab-df-container\">\n",
              "    <button class=\"colab-df-convert\" onclick=\"convertToInteractive('df-23380139-910b-4f5d-9975-6f6e0222e25d')\"\n",
              "            title=\"Convert this dataframe to an interactive table.\"\n",
              "            style=\"display:none;\">\n",
              "\n",
              "  <svg xmlns=\"http://www.w3.org/2000/svg\" height=\"24px\" viewBox=\"0 -960 960 960\">\n",
              "    <path d=\"M120-120v-720h720v720H120Zm60-500h600v-160H180v160Zm220 220h160v-160H400v160Zm0 220h160v-160H400v160ZM180-400h160v-160H180v160Zm440 0h160v-160H620v160ZM180-180h160v-160H180v160Zm440 0h160v-160H620v160Z\"/>\n",
              "  </svg>\n",
              "    </button>\n",
              "\n",
              "  <style>\n",
              "    .colab-df-container {\n",
              "      display:flex;\n",
              "      gap: 12px;\n",
              "    }\n",
              "\n",
              "    .colab-df-convert {\n",
              "      background-color: #E8F0FE;\n",
              "      border: none;\n",
              "      border-radius: 50%;\n",
              "      cursor: pointer;\n",
              "      display: none;\n",
              "      fill: #1967D2;\n",
              "      height: 32px;\n",
              "      padding: 0 0 0 0;\n",
              "      width: 32px;\n",
              "    }\n",
              "\n",
              "    .colab-df-convert:hover {\n",
              "      background-color: #E2EBFA;\n",
              "      box-shadow: 0px 1px 2px rgba(60, 64, 67, 0.3), 0px 1px 3px 1px rgba(60, 64, 67, 0.15);\n",
              "      fill: #174EA6;\n",
              "    }\n",
              "\n",
              "    .colab-df-buttons div {\n",
              "      margin-bottom: 4px;\n",
              "    }\n",
              "\n",
              "    [theme=dark] .colab-df-convert {\n",
              "      background-color: #3B4455;\n",
              "      fill: #D2E3FC;\n",
              "    }\n",
              "\n",
              "    [theme=dark] .colab-df-convert:hover {\n",
              "      background-color: #434B5C;\n",
              "      box-shadow: 0px 1px 3px 1px rgba(0, 0, 0, 0.15);\n",
              "      filter: drop-shadow(0px 1px 2px rgba(0, 0, 0, 0.3));\n",
              "      fill: #FFFFFF;\n",
              "    }\n",
              "  </style>\n",
              "\n",
              "    <script>\n",
              "      const buttonEl =\n",
              "        document.querySelector('#df-23380139-910b-4f5d-9975-6f6e0222e25d button.colab-df-convert');\n",
              "      buttonEl.style.display =\n",
              "        google.colab.kernel.accessAllowed ? 'block' : 'none';\n",
              "\n",
              "      async function convertToInteractive(key) {\n",
              "        const element = document.querySelector('#df-23380139-910b-4f5d-9975-6f6e0222e25d');\n",
              "        const dataTable =\n",
              "          await google.colab.kernel.invokeFunction('convertToInteractive',\n",
              "                                                    [key], {});\n",
              "        if (!dataTable) return;\n",
              "\n",
              "        const docLinkHtml = 'Like what you see? Visit the ' +\n",
              "          '<a target=\"_blank\" href=https://colab.research.google.com/notebooks/data_table.ipynb>data table notebook</a>'\n",
              "          + ' to learn more about interactive tables.';\n",
              "        element.innerHTML = '';\n",
              "        dataTable['output_type'] = 'display_data';\n",
              "        await google.colab.output.renderOutput(dataTable, element);\n",
              "        const docLink = document.createElement('div');\n",
              "        docLink.innerHTML = docLinkHtml;\n",
              "        element.appendChild(docLink);\n",
              "      }\n",
              "    </script>\n",
              "  </div>\n",
              "\n",
              "\n",
              "<div id=\"df-9628e0bf-b860-4200-8a84-106aaaf1dc80\">\n",
              "  <button class=\"colab-df-quickchart\" onclick=\"quickchart('df-9628e0bf-b860-4200-8a84-106aaaf1dc80')\"\n",
              "            title=\"Suggest charts.\"\n",
              "            style=\"display:none;\">\n",
              "\n",
              "<svg xmlns=\"http://www.w3.org/2000/svg\" height=\"24px\"viewBox=\"0 0 24 24\"\n",
              "     width=\"24px\">\n",
              "    <g>\n",
              "        <path d=\"M19 3H5c-1.1 0-2 .9-2 2v14c0 1.1.9 2 2 2h14c1.1 0 2-.9 2-2V5c0-1.1-.9-2-2-2zM9 17H7v-7h2v7zm4 0h-2V7h2v10zm4 0h-2v-4h2v4z\"/>\n",
              "    </g>\n",
              "</svg>\n",
              "  </button>\n",
              "\n",
              "<style>\n",
              "  .colab-df-quickchart {\n",
              "    background-color: #E8F0FE;\n",
              "    border: none;\n",
              "    border-radius: 50%;\n",
              "    cursor: pointer;\n",
              "    display: none;\n",
              "    fill: #1967D2;\n",
              "    height: 32px;\n",
              "    padding: 0 0 0 0;\n",
              "    width: 32px;\n",
              "  }\n",
              "\n",
              "  .colab-df-quickchart:hover {\n",
              "    background-color: #E2EBFA;\n",
              "    box-shadow: 0px 1px 2px rgba(60, 64, 67, 0.3), 0px 1px 3px 1px rgba(60, 64, 67, 0.15);\n",
              "    fill: #174EA6;\n",
              "  }\n",
              "\n",
              "  [theme=dark] .colab-df-quickchart {\n",
              "    background-color: #3B4455;\n",
              "    fill: #D2E3FC;\n",
              "  }\n",
              "\n",
              "  [theme=dark] .colab-df-quickchart:hover {\n",
              "    background-color: #434B5C;\n",
              "    box-shadow: 0px 1px 3px 1px rgba(0, 0, 0, 0.15);\n",
              "    filter: drop-shadow(0px 1px 2px rgba(0, 0, 0, 0.3));\n",
              "    fill: #FFFFFF;\n",
              "  }\n",
              "</style>\n",
              "\n",
              "  <script>\n",
              "    async function quickchart(key) {\n",
              "      const charts = await google.colab.kernel.invokeFunction(\n",
              "          'suggestCharts', [key], {});\n",
              "    }\n",
              "    (() => {\n",
              "      let quickchartButtonEl =\n",
              "        document.querySelector('#df-9628e0bf-b860-4200-8a84-106aaaf1dc80 button');\n",
              "      quickchartButtonEl.style.display =\n",
              "        google.colab.kernel.accessAllowed ? 'block' : 'none';\n",
              "    })();\n",
              "  </script>\n",
              "</div>\n",
              "    </div>\n",
              "  </div>\n"
            ]
          },
          "metadata": {},
          "execution_count": 126
        }
      ]
    },
    {
      "cell_type": "code",
      "source": [
        "# # store 를 리스트로 변환(반복문을 위해)\n",
        "# train_del['store'] = train_del['store'].str.split(',')\n",
        "# train_del['store']"
      ],
      "metadata": {
        "colab": {
          "base_uri": "https://localhost:8080/"
        },
        "id": "3RNNyICeMxSK",
        "outputId": "125062f6-c7e4-4d65-da44-b5e299fd5a99"
      },
      "execution_count": null,
      "outputs": [
        {
          "output_type": "stream",
          "name": "stderr",
          "text": [
            "<ipython-input-130-7ab0f5255dfd>:1: SettingWithCopyWarning: \n",
            "A value is trying to be set on a copy of a slice from a DataFrame.\n",
            "Try using .loc[row_indexer,col_indexer] = value instead\n",
            "\n",
            "See the caveats in the documentation: https://pandas.pydata.org/pandas-docs/stable/user_guide/indexing.html#returning-a-view-versus-a-copy\n",
            "  train_del['store'] = train_del['store'].str.split(',')\n"
          ]
        },
        {
          "output_type": "execute_result",
          "data": {
            "text/plain": [
              "7             [알촌]\n",
              "8             [알촌]\n",
              "9             [윤희]\n",
              "14        [1988응답]\n",
              "15            [윤희]\n",
              "           ...    \n",
              "19338    [최가, 최가네]\n",
              "19351    [최가, 최가네]\n",
              "19357    [최가, 최가네]\n",
              "19381    [최가, 최가네]\n",
              "19404    [최가, 최가네]\n",
              "Name: store, Length: 4487, dtype: object"
            ]
          },
          "metadata": {},
          "execution_count": 130
        }
      ]
    },
    {
      "cell_type": "code",
      "source": [
        "# del_reply = []\n",
        "# for reply, store_words in zip(train_del['reply'], train_del['store']):\n",
        "#     reply_words = reply.split()\n",
        "#     new_reply_words = []\n",
        "#     for reply_word in reply_words:\n",
        "#         if not any(store_word in reply_word for store_word in store_words): # store_words에 있는 단어가 어떤 단어에도 포함되지 않으면 추가\n",
        "#             new_reply_words.append(reply_word)\n",
        "\n",
        "#     new_reply = ' '.join(new_reply_words)\n",
        "#     del_reply.append(new_reply)\n",
        "\n",
        "# train_del['reply'] = del_reply\n",
        "# train_del['reply'][19404]"
      ],
      "metadata": {
        "colab": {
          "base_uri": "https://localhost:8080/",
          "height": 146
        },
        "id": "bxKLEmBDO9F4",
        "outputId": "e8df17c4-1b09-458e-a856-d25549f56ba8"
      },
      "execution_count": null,
      "outputs": [
        {
          "output_type": "stream",
          "name": "stderr",
          "text": [
            "<ipython-input-134-99fbe3f86010>:16: SettingWithCopyWarning: \n",
            "A value is trying to be set on a copy of a slice from a DataFrame.\n",
            "Try using .loc[row_indexer,col_indexer] = value instead\n",
            "\n",
            "See the caveats in the documentation: https://pandas.pydata.org/pandas-docs/stable/user_guide/indexing.html#returning-a-view-versus-a-copy\n",
            "  train_del['reply'] = del_reply\n"
          ]
        },
        {
          "output_type": "execute_result",
          "data": {
            "text/plain": [
              "'맛있게 드셔주심에 저희가 너무 감사드립니다 항상 노력하는 될 수 있도록 할게요 좋은 글 남겨주셔서 감사드립니다'"
            ],
            "application/vnd.google.colaboratory.intrinsic+json": {
              "type": "string"
            }
          },
          "metadata": {},
          "execution_count": 134
        }
      ]
    },
    {
      "cell_type": "code",
      "source": [
        "# # train 셋에 반영\n",
        "# train[reply] = train_del['reply']\n",
        "# train[reply][19404]"
      ],
      "metadata": {
        "colab": {
          "base_uri": "https://localhost:8080/",
          "height": 35
        },
        "id": "m5GjWTZePx9e",
        "outputId": "d13c76f2-e1c6-4eb8-c73b-3d3b23d981a7"
      },
      "execution_count": null,
      "outputs": [
        {
          "output_type": "execute_result",
          "data": {
            "text/plain": [
              "'맛있게 드셔주심에 저희가 너무 감사드립니다 항상 노력하는 될 수 있도록 할게요 좋은 글 남겨주셔서 감사드립니다'"
            ],
            "application/vnd.google.colaboratory.intrinsic+json": {
              "type": "string"
            }
          },
          "metadata": {},
          "execution_count": 135
        }
      ]
    },
    {
      "cell_type": "markdown",
      "source": [
        "### 지점명 reply에서 삭제"
      ],
      "metadata": {
        "id": "BlrPw8SETc9a"
      }
    },
    {
      "cell_type": "code",
      "source": [
        "# pattern = re.compile(r'\\S+점')\n",
        "# train[\"reply\"].apply(lambda x: pattern.sub('', x)) #__점 제거"
      ],
      "metadata": {
        "colab": {
          "base_uri": "https://localhost:8080/"
        },
        "id": "0qz8d2S5Th1p",
        "outputId": "3e0f22c0-2f68-4498-896e-65d14d68f82a"
      },
      "execution_count": null,
      "outputs": [
        {
          "output_type": "execute_result",
          "data": {
            "text/plain": [
              "0        만족하셨더라면 좋았을걸 저희도 아쉽네요 전복 특에 우는 고명으로 전복 슬라이스가 올...\n",
              "1        안녕하세요 고객님 다시 한번 사과의 말씀 드리고 싶습니다 오늘 직원들과의 미팅을 통...\n",
              "2        죄송해요 고객님 최근 기상악화로 배달대행사에 애로사항이 많다 보니 1시간 2시간이 ...\n",
              "3                            봉구 비어 닭 다리에요 매장에서 인기 많은데 죄송해요\n",
              "4        안녕하세요 고객님 저희 매장 다시 찾아주셨는데 만족드리지 못해 죄송합니다 고의적으로...\n",
              "                               ...                        \n",
              "19771                        사진 잘 찍어주셔서 감사합니다 다음에 또 뵙겠습니다 \n",
              "19772                                     맛있게 드셔주셔서 감사합니다 \n",
              "19773           허겁지겁 맛있게 드셔주셔서 감사합니다 리뷰 감사합니다 다음에 또 뵙겠습니다 \n",
              "19774    요청사항 언제든 환영입니다 맛있게 드셔주셔서 감사합니다 리뷰 감사합니다 다음에 또 ...\n",
              "19775                                     헉 부산에서 처음 감사합니다 \n",
              "Name: reply, Length: 19776, dtype: object"
            ]
          },
          "metadata": {},
          "execution_count": 166
        }
      ]
    },
    {
      "cell_type": "markdown",
      "source": [
        "- 개별 삭제"
      ],
      "metadata": {
        "id": "ss4USUowbBkz"
      }
    },
    {
      "cell_type": "code",
      "source": [
        "# train[train['reply'].str.contains(\"당신은 지금 치킨이 당긴다 헬리오 시티점입니다\")].index\n",
        "\n",
        "# remove_keywords = [\"당신은 지금 치킨이 당긴다 헬리오 시티점입니다\",]\n",
        "# for keyword in remove_keywords:\n",
        "#     train['reply'] = train['reply'].str.replace(keyword, '')\n",
        "\n",
        "# train['reply'][2554]"
      ],
      "metadata": {
        "colab": {
          "base_uri": "https://localhost:8080/"
        },
        "id": "aC5fqBpXT8N7",
        "outputId": "221707e2-6c44-4304-a32e-9add02d5adec"
      },
      "execution_count": null,
      "outputs": [
        {
          "output_type": "execute_result",
          "data": {
            "text/plain": [
              "Int64Index([ 2554,  2573,  2627,  2648,  2704,  2822,  2841,  2905,  3008,\n",
              "             3204,\n",
              "            ...\n",
              "            10448, 10449, 10450, 10451, 10452, 10453, 10454, 10455, 10456,\n",
              "            10457],\n",
              "           dtype='int64', length=151)"
            ]
          },
          "metadata": {},
          "execution_count": 162
        }
      ]
    },
    {
      "cell_type": "markdown",
      "source": [
        "- 여기까지 완료된 데이터 저장하기"
      ],
      "metadata": {
        "id": "dmsxky8iQFPj"
      }
    },
    {
      "cell_type": "code",
      "source": [
        "# # 전체\n",
        "# # train.to_csv(f\"{DATA_PATH}yogiyo_clean.csv\", index=False)\n",
        "\n",
        "# # 오버샘플 + 가게명 삭제\n",
        "# train.to_csv(f\"{DATA_PATH}yogiyo_OV_clean_store_del.csv\", index=False)"
      ],
      "metadata": {
        "id": "_os-9t-vQFPk"
      },
      "execution_count": null,
      "outputs": []
    },
    {
      "cell_type": "markdown",
      "source": [
        "### 여기까지 완료된 데이터 불러오기"
      ],
      "metadata": {
        "id": "KeKlm-VGQFPk"
      }
    },
    {
      "cell_type": "code",
      "source": [
        "# 전체\n",
        "# train = pd.read_csv(f\"{DATA_PATH}yogiyo_clean.csv\")\n",
        "\n",
        "# 오버샘플 + 가게명 삭제\n",
        "train = pd.read_csv(f\"{DATA_PATH}yogiyo_OV_clean_store_del.csv\")\n",
        "\n",
        "train['review'] = train['review'].astype(str)\n",
        "train['reply'] = train['reply'].astype(str)\n",
        "review, reply = train[\"review\"] , train[\"reply\"]\n",
        "len(review) , len(reply)"
      ],
      "metadata": {
        "colab": {
          "base_uri": "https://localhost:8080/"
        },
        "outputId": "ca5271dc-313c-414c-c77a-81955f28e669",
        "id": "5zzz7jweQFPk"
      },
      "execution_count": null,
      "outputs": [
        {
          "output_type": "execute_result",
          "data": {
            "text/plain": [
              "(19776, 19776)"
            ]
          },
          "metadata": {},
          "execution_count": 192
        }
      ]
    }
  ]
}