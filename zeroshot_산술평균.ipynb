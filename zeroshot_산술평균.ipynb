{
  "nbformat": 4,
  "nbformat_minor": 0,
  "metadata": {
    "colab": {
      "provenance": [],
      "authorship_tag": "ABX9TyOJgORqzQG7E7tDvU86ide2",
      "include_colab_link": true
    },
    "kernelspec": {
      "name": "python3",
      "display_name": "Python 3"
    },
    "language_info": {
      "name": "python"
    }
  },
  "cells": [
    {
      "cell_type": "markdown",
      "metadata": {
        "id": "view-in-github",
        "colab_type": "text"
      },
      "source": [
        "<a href=\"https://colab.research.google.com/github/swoo-nam/project_final_team1/blob/main/zeroshot_%EC%82%B0%EC%88%A0%ED%8F%89%EA%B7%A0.ipynb\" target=\"_parent\"><img src=\"https://colab.research.google.com/assets/colab-badge.svg\" alt=\"Open In Colab\"/></a>"
      ]
    },
    {
      "cell_type": "code",
      "execution_count": null,
      "metadata": {
        "id": "1tA4tqq9CKfR"
      },
      "outputs": [],
      "source": []
    },
    {
      "cell_type": "code",
      "source": [
        "from transformers import AutoModelForSequenceClassification, AutoTokenizer, pipeline\n",
        "from torch.utils.data import DataLoader, TensorDataset\n",
        "import torch\n",
        "from tqdm import tqdm\n",
        "import pandas as pd\n",
        "\n",
        "# 첫 번째 모델\n",
        "zeroshot_model30000 = AutoModelForSequenceClassification.from_pretrained(\"/content/drive/MyDrive/프로젝트/final project/data/zero_model_epoch_2\").to('cuda')\n",
        "\n",
        "# 두 번째 모델\n",
        "model_name = \"MoritzLaurer/mDeBERTa-v3-base-mnli-xnli\"\n",
        "model = AutoModelForSequenceClassification.from_pretrained(model_name).to('cuda')\n",
        "classifier = pipeline(\"zero-shot-classification\", model=model, tokenizer=tokenizer, device=0)\n",
        "\n",
        "# 공통 토크나이저\n",
        "tokenizer = AutoTokenizer.from_pretrained(model_name, use_fast=False)\n",
        "\n",
        "# 데이터 전처리\n",
        "inputs = tokenizer(reviews_to_predict, truncation=True, padding=True, return_tensors=\"pt\").to('cuda')\n",
        "dataset = TensorDataset(inputs['input_ids'], inputs['attention_mask'])\n",
        "data_loader = DataLoader(dataset, batch_size=16, shuffle=False)\n",
        "\n",
        "# 모델 1 예측\n",
        "scores_from_model1 = []\n",
        "# classifier pipeline 미사용\n",
        "with torch.no_grad():\n",
        "    for batch in tqdm(data_loader):\n",
        "        input_ids, attention_mask = (item.to('cuda') for item in batch)\n",
        "        outputs = zeroshot_model30000(input_ids=input_ids, attention_mask=attention_mask)\n",
        "        logits = outputs.logits\n",
        "        probs = torch.sigmoid(logits).cpu().numpy()\n",
        "\n",
        "        for prob in probs:\n",
        "            scores = {candidate_labels[idx]: f\"{val:.2f}\" for idx, val in enumerate(prob)}\n",
        "            scores_from_model1.append(scores)\n",
        "\n",
        "# 모델 2 예측\n",
        "scores_from_model2 = []\n",
        "# classifier pipeline 사용\n",
        "for review in tqdm(reviews_to_predict):\n",
        "    output = classifier(review, candidate_labels, multi_label=True)\n",
        "    scores = {label: round(score, 2) for label, score in zip(output['labels'], output['scores'])}\n",
        "    scores_from_model2.append(scores)\n",
        "\n",
        "averaged_scores_list = []\n",
        "predicted_labels_list = []\n",
        ".\n",
        "for score1, score2 in zip(scores_from_model1, scores_from_model2):\n",
        "\n",
        "    averaged_scores = {}\n",
        "    predicted_labels = []\n",
        "\n",
        "    # 각 레이블에 대한 두 모델의 점수를 순회합니다.\n",
        "    for label in score1.keys():\n",
        "        # 두 모델의 점수를 산술평균\n",
        "        averaged_score = (float(score1[label]) + float(score2[label])) / 2\n",
        "        averaged_scores[label] = round(averaged_score, 2)\n",
        "\n",
        "        # 산술평균 점수가 0.5 이상이면 해당 레이블 추가\n",
        "        if averaged_score > 0.5:\n",
        "            predicted_labels.append(label)\n",
        "\n",
        "    # 각 리뷰에 대한 산술평균 점수를 averaged_scores에 추가.\n",
        "    averaged_scores_list.append(\", \".join([f\"{k}: {v}\" for k, v in averaged_scores.items()]))\n",
        "    # 각 리뷰에 대한 산술평균 점수가 0.5 이상인 레이블을 predicted_labels에 추가\n",
        "    predicted_labels_list.append(\", \".join(predicted_labels))\n",
        "\n",
        "result_df = pd.DataFrame({\n",
        "    'Review': reviews_to_predict,\n",
        "    'Predicted_Labels': predicted_labels_list,\n",
        "    'Averaged_Label_Scores': averaged_scores_list\n",
        "})\n",
        "\n",
        "print(result_df)\n"
      ],
      "metadata": {
        "id": "kF0AM29A_LdJ"
      },
      "execution_count": null,
      "outputs": []
    }
  ]
}